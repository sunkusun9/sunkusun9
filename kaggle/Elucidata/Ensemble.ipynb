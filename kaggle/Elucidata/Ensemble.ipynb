{
 "cells": [
  {
   "cell_type": "code",
   "execution_count": 13,
   "id": "4cd334c4",
   "metadata": {},
   "outputs": [],
   "source": [
    "import os\n",
    "import pandas as pd\n",
    "import numpy as np\n",
    "import h5py\n",
    "import joblib\n",
    "\n",
    "import matplotlib.pyplot as plt\n",
    "import seaborn as sns\n",
    "from tqdm.notebook import tqdm\n",
    "\n",
    "from sklearn.preprocessing import FunctionTransformer, MinMaxScaler, StandardScaler\n",
    "from sklearn.pipeline import make_pipeline\n",
    "\n",
    "import warnings\n",
    "\n",
    "# 모든 FutureWarning 무시\n",
    "warnings.simplefilter(action='ignore', category=FutureWarning)"
   ]
  },
  {
   "cell_type": "code",
   "execution_count": 14,
   "id": "597bfa9b",
   "metadata": {},
   "outputs": [],
   "source": [
    "def load_data(filename):\n",
    "    \"\"\"\n",
    "    이미지를 불러옵니다.\n",
    "    Parameters:\n",
    "        filename: str\n",
    "            h5 파일에서 데이터를 불러옵니다.\n",
    "    Returns:\n",
    "        np.ndarray, pd.DataFrame, np.ndarray, \n",
    "        train 이미지, train spot 정보, test 이미지, test spot 정보\n",
    "    \"\"\"\n",
    "    images, images_test = list(), list()\n",
    "    spots, spots_test = list(), list()\n",
    "    with h5py.File(filename, \"r\") as h5file:\n",
    "        train_images = h5file[\"images/Train\"]\n",
    "        train_spots = h5file[\"spots/Train\"]\n",
    "    \n",
    "        num_train_slides = len(train_spots)\n",
    "        # Train 이미지를 불러옵니다.\n",
    "        # 하나의 텐서로 만들기 위해 이미지의 크기를 2000x2000으로 균일하게 만듭니다.\n",
    "        for i, slide_name in enumerate(train_images.keys()):\n",
    "            spots.append(pd.DataFrame(np.array(train_spots[slide_name])).assign(slide = i))\n",
    "    return pd.concat(spots).reset_index(drop = True)\n",
    "df_spots = load_data(\"data/elucidata_ai_challenge_data.h5\")\n",
    "targets = [i for i in df_spots.columns if i.startswith('C')]"
   ]
  },
  {
   "cell_type": "code",
   "execution_count": 15,
   "id": "1349edf0",
   "metadata": {},
   "outputs": [],
   "source": [
    "df_log_std_pca_5_eff_b0, _ = joblib.load('result/cv_log_std_pca_5_eff_b0.joblib') # 0.5383309629996448\n",
    "df_log_std_pca_10_eff_b0, _ = joblib.load('result/cv_log_std_pca_10_eff_b0.joblib') # 0.536148846890535\n",
    "#df_log_std_pca_5_eff_b0_rt, _ = joblib.load('result/cv_log_std_pca_5_eff_b0_rt.joblib') # 0.5283482179552861\n",
    "df_log_std_pca_5_eff_b1, _ = joblib.load('result/cv_log_std_pca_5_eff_b1.joblib') # 0.5505204501251932\n",
    "df_log_std_pca_5_eff_b2, _ = joblib.load('result/cv_log_std_pca_5_eff_b2.joblib') # 0.5442914212037672\n",
    "df_log_std_pca_5_eff_b3, _ = joblib.load('result/cv_log_std_pca_5_eff_b3.joblib') # 0.5427672949644584\n",
    "df_log_std_pca_5_eff_b0_S2_mse, _ = joblib.load('result/cv_log_std_pca_5_eff_b0_S2_mse.joblib') # 0.5582929638498111\n",
    "df_log_std_pca_5_eff_b0_S2_mae, _ = joblib.load('result/cv_log_std_pca_5_eff_b0_S2_mae.joblib') # 0.5341752798855798\n",
    "df_log_std_pca_5_eff_b1_S2_mae, _ = joblib.load('result/cv_log_std_pca_5_eff_b1_S2_mae.joblib') # 0.5496152946745833\n",
    "df_log_std_pca_5_eff_b1_S2_mse, _ = joblib.load('result/cv_log_std_pca_5_eff_b1_S2_mse.joblib') # 0.5440003046373658"
   ]
  },
  {
   "cell_type": "code",
   "execution_count": 22,
   "id": "049a1754",
   "metadata": {},
   "outputs": [
    {
     "data": {
      "text/plain": [
       "0.5534741598946824"
      ]
     },
     "execution_count": 22,
     "metadata": {},
     "output_type": "execute_result"
    }
   ],
   "source": [
    "prd = df_log_std_pca_5_eff_b0[targets].rank(axis = 1)\n",
    "for i in [\n",
    "    #df_log_std_pca_5_eff_b0, df_log_std_pca_10_eff_b0, \n",
    "    df_log_std_pca_5_eff_b1, df_log_std_pca_5_eff_b2, df_log_std_pca_5_eff_b3,\n",
    "    df_log_std_pca_5_eff_b0_S2_mse, df_log_std_pca_5_eff_b0_S2_mae,\n",
    "    df_log_std_pca_5_eff_b1_S2_mae, df_log_std_pca_5_eff_b1_S2_mse\n",
    "]:\n",
    "    prd += i[targets].rank(axis = 1)\n",
    "from scipy.stats import spearmanr\n",
    "prd[targets].apply(\n",
    "    lambda x: spearmanr(df_spots.loc[x.name, targets], x)[0], axis=1\n",
    ").mean()"
   ]
  },
  {
   "cell_type": "code",
   "execution_count": 5,
   "id": "7d09728a",
   "metadata": {},
   "outputs": [
    {
     "data": {
      "text/plain": [
       "0.5383309629996448"
      ]
     },
     "execution_count": 5,
     "metadata": {},
     "output_type": "execute_result"
    }
   ],
   "source": [
    "from scipy.stats import spearmanr\n",
    "df_log_std_pca_5_eff_b0[targets].apply(\n",
    "    lambda x: spearmanr(df_spots.loc[x.name, targets], x)[0], axis=1\n",
    ").mean()"
   ]
  },
  {
   "cell_type": "code",
   "execution_count": 6,
   "id": "9660dc98",
   "metadata": {},
   "outputs": [
    {
     "data": {
      "text/plain": [
       "0.536148846890535"
      ]
     },
     "execution_count": 6,
     "metadata": {},
     "output_type": "execute_result"
    }
   ],
   "source": [
    "from scipy.stats import spearmanr\n",
    "df_log_std_pca_10_eff_b0[targets].apply(\n",
    "    lambda x: spearmanr(df_spots.loc[x.name, targets], x)[0], axis=1\n",
    ").mean()"
   ]
  },
  {
   "cell_type": "code",
   "execution_count": 7,
   "id": "066989df",
   "metadata": {},
   "outputs": [
    {
     "data": {
      "text/plain": [
       "0.5505204501251932"
      ]
     },
     "execution_count": 7,
     "metadata": {},
     "output_type": "execute_result"
    }
   ],
   "source": [
    "from scipy.stats import spearmanr\n",
    "df_log_std_pca_5_eff_b1[targets].apply(\n",
    "    lambda x: spearmanr(df_spots.loc[x.name, targets], x)[0], axis=1\n",
    ").mean()"
   ]
  },
  {
   "cell_type": "code",
   "execution_count": 8,
   "id": "f1074d6f",
   "metadata": {},
   "outputs": [
    {
     "data": {
      "text/plain": [
       "0.5427672949644584"
      ]
     },
     "execution_count": 8,
     "metadata": {},
     "output_type": "execute_result"
    }
   ],
   "source": [
    "from scipy.stats import spearmanr\n",
    "df_log_std_pca_5_eff_b3[targets].apply(\n",
    "    lambda x: spearmanr(df_spots.loc[x.name, targets], x)[0], axis=1\n",
    ").mean()"
   ]
  },
  {
   "cell_type": "code",
   "execution_count": 9,
   "id": "4af27637",
   "metadata": {},
   "outputs": [
    {
     "data": {
      "text/plain": [
       "0.5442914212037672"
      ]
     },
     "execution_count": 9,
     "metadata": {},
     "output_type": "execute_result"
    }
   ],
   "source": [
    "from scipy.stats import spearmanr\n",
    "df_log_std_pca_5_eff_b2[targets].apply(\n",
    "    lambda x: spearmanr(df_spots.loc[x.name, targets], x)[0], axis=1\n",
    ").mean()"
   ]
  },
  {
   "cell_type": "code",
   "execution_count": 10,
   "id": "7f911465",
   "metadata": {},
   "outputs": [
    {
     "data": {
      "text/plain": [
       "0.5582929638498111"
      ]
     },
     "execution_count": 10,
     "metadata": {},
     "output_type": "execute_result"
    }
   ],
   "source": [
    "from scipy.stats import spearmanr\n",
    "df_log_std_pca_5_eff_b0_S2_mse[targets].apply(\n",
    "    lambda x: spearmanr(df_spots.loc[x.name, targets], x)[0], axis=1\n",
    ").mean()"
   ]
  },
  {
   "cell_type": "code",
   "execution_count": 11,
   "id": "6d88756c",
   "metadata": {},
   "outputs": [
    {
     "data": {
      "text/plain": [
       "0.5341752798855798"
      ]
     },
     "execution_count": 11,
     "metadata": {},
     "output_type": "execute_result"
    }
   ],
   "source": [
    "from scipy.stats import spearmanr\n",
    "df_log_std_pca_5_eff_b0_S2_mae[targets].apply(\n",
    "    lambda x: spearmanr(df_spots.loc[x.name, targets], x)[0], axis=1\n",
    ").mean()"
   ]
  },
  {
   "cell_type": "code",
   "execution_count": 12,
   "id": "198934be",
   "metadata": {},
   "outputs": [
    {
     "data": {
      "text/plain": [
       "0.5496152946745833"
      ]
     },
     "execution_count": 12,
     "metadata": {},
     "output_type": "execute_result"
    }
   ],
   "source": [
    "from scipy.stats import spearmanr\n",
    "df_log_std_pca_5_eff_b1_S2_mae[targets].apply(\n",
    "    lambda x: spearmanr(df_spots.loc[x.name, targets], x)[0], axis=1\n",
    ").mean()"
   ]
  },
  {
   "cell_type": "code",
   "execution_count": 16,
   "id": "48048f55",
   "metadata": {},
   "outputs": [
    {
     "data": {
      "text/plain": [
       "0.5440003046373658"
      ]
     },
     "execution_count": 16,
     "metadata": {},
     "output_type": "execute_result"
    }
   ],
   "source": [
    "from scipy.stats import spearmanr\n",
    "df_log_std_pca_5_eff_b1_S2_mse[targets].apply(\n",
    "    lambda x: spearmanr(df_spots.loc[x.name, targets], x)[0], axis=1\n",
    ").mean()"
   ]
  },
  {
   "cell_type": "code",
   "execution_count": null,
   "id": "93764fc1",
   "metadata": {},
   "outputs": [],
   "source": []
  }
 ],
 "metadata": {
  "kernelspec": {
   "display_name": "Python 3",
   "language": "python",
   "name": "python3"
  },
  "language_info": {
   "codemirror_mode": {
    "name": "ipython",
    "version": 3
   },
   "file_extension": ".py",
   "mimetype": "text/x-python",
   "name": "python",
   "nbconvert_exporter": "python",
   "pygments_lexer": "ipython3",
   "version": "3.10.12"
  }
 },
 "nbformat": 4,
 "nbformat_minor": 5
}
