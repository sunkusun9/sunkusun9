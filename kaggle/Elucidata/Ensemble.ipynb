{
 "cells": [
  {
   "cell_type": "code",
   "execution_count": 1,
   "id": "4cd334c4",
   "metadata": {},
   "outputs": [],
   "source": [
    "import os\n",
    "import pandas as pd\n",
    "import numpy as np\n",
    "import h5py\n",
    "import joblib\n",
    "\n",
    "import matplotlib.pyplot as plt\n",
    "import seaborn as sns\n",
    "from tqdm.notebook import tqdm\n",
    "\n",
    "from sklearn.preprocessing import FunctionTransformer, MinMaxScaler, StandardScaler\n",
    "from sklearn.pipeline import make_pipeline\n",
    "\n",
    "import warnings\n",
    "\n",
    "# 모든 FutureWarning 무시\n",
    "warnings.simplefilter(action='ignore', category=FutureWarning)"
   ]
  },
  {
   "cell_type": "code",
   "execution_count": 2,
   "id": "597bfa9b",
   "metadata": {},
   "outputs": [],
   "source": [
    "def load_data(filename):\n",
    "    \"\"\"\n",
    "    이미지를 불러옵니다.\n",
    "    Parameters:\n",
    "        filename: str\n",
    "            h5 파일에서 데이터를 불러옵니다.\n",
    "    Returns:\n",
    "        np.ndarray, pd.DataFrame, np.ndarray, \n",
    "        train 이미지, train spot 정보, test 이미지, test spot 정보\n",
    "    \"\"\"\n",
    "    images, images_test = list(), list()\n",
    "    spots, spots_test = list(), list()\n",
    "    with h5py.File(filename, \"r\") as h5file:\n",
    "        train_images = h5file[\"images/Train\"]\n",
    "        train_spots = h5file[\"spots/Train\"]\n",
    "    \n",
    "        num_train_slides = len(train_spots)\n",
    "        # Train 이미지를 불러옵니다.\n",
    "        # 하나의 텐서로 만들기 위해 이미지의 크기를 2000x2000으로 균일하게 만듭니다.\n",
    "        for i, slide_name in enumerate(train_images.keys()):\n",
    "            spots.append(pd.DataFrame(np.array(train_spots[slide_name])).assign(slide = i))\n",
    "    return pd.concat(spots).reset_index(drop = True)\n",
    "df_spots = load_data(\"data/elucidata_ai_challenge_data.h5\")\n",
    "targets = [i for i in df_spots.columns if i.startswith('C')]"
   ]
  },
  {
   "cell_type": "code",
   "execution_count": 27,
   "id": "1349edf0",
   "metadata": {},
   "outputs": [],
   "source": [
    "#df_log_std_pca_5_eff_b0_S2_mse, _ = joblib.load('result/cv_log_std_pca_5_eff_b0_S2_mse.joblib') # 0.5582929638498111\n",
    "df_log_std_pca_5_eff_b0_pre_fine_S2_mse, _ = joblib.load('result/cv_log_std_pca_5_eff_b0_pre_fine_S2_mse.joblib') # 0.5628191101569386\n",
    "df_log_std_pca_5_eff_b1_pre_fine_S2_mse, _ = joblib.load('result/cv_log_std_pca_5_eff_b1_pre_fine_S2_mse.joblib') # 0.5606549434961433"
   ]
  },
  {
   "cell_type": "code",
   "execution_count": 28,
   "id": "049a1754",
   "metadata": {},
   "outputs": [
    {
     "data": {
      "text/plain": [
       "0.5650678209579263"
      ]
     },
     "execution_count": 28,
     "metadata": {},
     "output_type": "execute_result"
    }
   ],
   "source": [
    "prd = df_log_std_pca_5_eff_b1_pre_fine_S2_mse[targets].rank(axis = 1)\n",
    "for i in [\n",
    "    df_log_std_pca_5_eff_b0_pre_fine_S2_mse\n",
    "]:\n",
    "    prd += i[targets].rank(axis = 1)\n",
    "from scipy.stats import spearmanr\n",
    "prd[targets].apply(\n",
    "    lambda x: spearmanr(df_spots.loc[x.name, targets], x)[0], axis=1\n",
    ").mean()"
   ]
  },
  {
   "cell_type": "code",
   "execution_count": 29,
   "id": "7d09728a",
   "metadata": {},
   "outputs": [
    {
     "data": {
      "text/plain": [
       "0.5628191101569386"
      ]
     },
     "execution_count": 29,
     "metadata": {},
     "output_type": "execute_result"
    }
   ],
   "source": [
    "from scipy.stats import spearmanr\n",
    "df_log_std_pca_5_eff_b0_pre_fine_S2_mse[targets].apply(\n",
    "    lambda x: spearmanr(df_spots.loc[x.name, targets], x)[0], axis=1\n",
    ").mean()"
   ]
  },
  {
   "cell_type": "code",
   "execution_count": 30,
   "id": "9660dc98",
   "metadata": {},
   "outputs": [
    {
     "data": {
      "text/plain": [
       "0.5606549434961433"
      ]
     },
     "execution_count": 30,
     "metadata": {},
     "output_type": "execute_result"
    }
   ],
   "source": [
    "from scipy.stats import spearmanr\n",
    "df_log_std_pca_5_eff_b1_pre_fine_S2_mse[targets].apply(\n",
    "    lambda x: spearmanr(df_spots.loc[x.name, targets], x)[0], axis=1\n",
    ").mean()"
   ]
  },
  {
   "cell_type": "code",
   "execution_count": null,
   "id": "93764fc1",
   "metadata": {},
   "outputs": [],
   "source": []
  }
 ],
 "metadata": {
  "kernelspec": {
   "display_name": "Python 3 (ipykernel)",
   "language": "python",
   "name": "python3"
  },
  "language_info": {
   "codemirror_mode": {
    "name": "ipython",
    "version": 3
   },
   "file_extension": ".py",
   "mimetype": "text/x-python",
   "name": "python",
   "nbconvert_exporter": "python",
   "pygments_lexer": "ipython3",
   "version": "3.11.11"
  }
 },
 "nbformat": 4,
 "nbformat_minor": 5
}
