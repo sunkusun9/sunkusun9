{
 "cells": [
  {
   "cell_type": "code",
   "execution_count": 1,
   "id": "49ca6e1c-6c6c-40b2-afa8-a36faf0cf557",
   "metadata": {},
   "outputs": [
    {
     "name": "stderr",
     "output_type": "stream",
     "text": [
      "2025-05-06 09:41:39.099040: I tensorflow/core/util/port.cc:153] oneDNN custom operations are on. You may see slightly different numerical results due to floating-point round-off errors from different computation orders. To turn them off, set the environment variable `TF_ENABLE_ONEDNN_OPTS=0`.\n",
      "2025-05-06 09:41:39.128501: E external/local_xla/xla/stream_executor/cuda/cuda_fft.cc:477] Unable to register cuFFT factory: Attempting to register factory for plugin cuFFT when one has already been registered\n",
      "WARNING: All log messages before absl::InitializeLog() is called are written to STDERR\n",
      "E0000 00:00:1746524499.152398     984 cuda_dnn.cc:8310] Unable to register cuDNN factory: Attempting to register factory for plugin cuDNN when one has already been registered\n",
      "E0000 00:00:1746524499.159357     984 cuda_blas.cc:1418] Unable to register cuBLAS factory: Attempting to register factory for plugin cuBLAS when one has already been registered\n",
      "2025-05-06 09:41:39.184920: I tensorflow/core/platform/cpu_feature_guard.cc:210] This TensorFlow binary is optimized to use available CPU instructions in performance-critical operations.\n",
      "To enable the following instructions: AVX2 AVX_VNNI FMA, in other operations, rebuild TensorFlow with the appropriate compiler flags.\n"
     ]
    }
   ],
   "source": [
    "import os\n",
    "import pandas as pd\n",
    "import numpy as np\n",
    "import h5py\n",
    "import tensorflow as tf\n",
    "import matplotlib.pyplot as plt\n",
    "import seaborn as sns\n",
    "from tqdm.notebook import tqdm\n",
    "import joblib\n",
    "import dproc, sgutil, sgpp, sgnn, sgml\n",
    "import warnings\n",
    "\n",
    "# 모든 FutureWarning 무시\n",
    "warnings.simplefilter(action='ignore', category=FutureWarning)"
   ]
  },
  {
   "cell_type": "markdown",
   "id": "c7a2e83d-0d6f-4efc-bed0-2cb3967d86e9",
   "metadata": {},
   "source": [
    "# Data Processing"
   ]
  },
  {
   "cell_type": "code",
   "execution_count": 2,
   "id": "4b9d49ae-5b81-440d-9553-2b3c157d9b95",
   "metadata": {},
   "outputs": [],
   "source": [
    "def load_data(filename):\n",
    "    \"\"\"\n",
    "    이미지를 불러옵니다.\n",
    "    Parameters:\n",
    "        filename: str\n",
    "            h5 파일에서 데이터를 불러옵니다.\n",
    "    Returns:\n",
    "        np.ndarray, pd.DataFrame, np.ndarray, \n",
    "        train 이미지, train spot 정보, test 이미지, test spot 정보\n",
    "    \"\"\"\n",
    "    images, images_test = list(), list()\n",
    "    spots, spots_test = list(), list()\n",
    "    with h5py.File(filename, \"r\") as h5file:\n",
    "        train_images = h5file[\"images/Train\"]\n",
    "        train_spots = h5file[\"spots/Train\"]\n",
    "    \n",
    "        num_train_slides = len(train_images)\n",
    "        # Train 이미지를 불러옵니다.\n",
    "        # 하나의 텐서로 만들기 위해 이미지의 크기를 2000x2000으로 균일하게 만듭니다.\n",
    "        for i, slide_name in enumerate(train_images.keys()):\n",
    "            image = np.array(train_images[slide_name])\n",
    "            p1 = 2000 - image.shape[0]\n",
    "            p2 = 2000 - image.shape[1]\n",
    "            images.append(\n",
    "                np.pad(image, [(0, p1), (0, p2), (0, 0)], 'edge')\n",
    "            )\n",
    "            spots.append(pd.DataFrame(np.array(train_spots[slide_name])).assign(slide = i))\n",
    "            if slide_name == 'S_2':\n",
    "                spots[-1] = spots[-1].assign(\n",
    "                    x = lambda x: x['x'] - 60,\n",
    "                    y = lambda x: x['y'] - 60,\n",
    "                )\n",
    "        # Test 이미지를 불러옵니다.\n",
    "        test_images = h5file[\"images/Test\"]\n",
    "        test_spots = h5file[\"spots/Test\"]\n",
    "        sample = 'S_7'\n",
    "        image = np.array(test_images[sample])\n",
    "        p1 = 2000 - image.shape[0]\n",
    "        p2 = 2000 - image.shape[1]\n",
    "        images_test.append(np.pad(image, [(0, p1), (0, p2), (0, 0)], 'edge'))\n",
    "        spots_test.append(pd.DataFrame(np.array(test_spots[sample])).assign(slide = 0))\n",
    "        df_spots = pd.concat(spots).reset_index(drop = True)\n",
    "        images = np.stack(images)\n",
    "        images_test = np.stack(images_test)\n",
    "        df_spots_test = pd.concat(spots_test).reset_index(drop = True)\n",
    "    return images, df_spots, images_test, df_spots_test\n",
    "\n",
    "def make_img_proc_info(df, img_width, img_height):\n",
    "    return df.assign(\n",
    "        left = lambda x: (x['x'] - img_width // 2).astype('int'),\n",
    "        right = lambda x: (x['left'] + img_width).astype('int'),\n",
    "        top = lambda x: (x['y'] - img_height // 2).astype('int'),\n",
    "        bottom = lambda x: (x['top'] + img_height).astype('int'),\n",
    "        lpad = lambda x: -(x['left'].where(x['left'] < 0, 0)),\n",
    "        rpad = lambda x: -(2000 - x['right']).where(x['right'] > 2000, 0),\n",
    "        tpad = lambda x: -(x['top'].where(x['top'] < 0, 0)),\n",
    "        bpad = lambda x: -(2000 - x['bottom']).where(x['bottom'] > 2000, 0)\n",
    "    ).assign(\n",
    "        left = lambda x: x['left'].clip(0, 2000),\n",
    "        right = lambda x: x['right'].clip(0, 2000),\n",
    "        top = lambda x: x['top'].clip(0, 2000),\n",
    "        bottom = lambda x: x['bottom'].clip(0, 2000),\n",
    "    )\n",
    "\n",
    "\n",
    "def create_df(df, img_width, img_height):\n",
    "    df = make_img_proc_info(df, img_width, img_height)\n",
    "    df_pixel = df[['left', 'right', 'top', 'bottom', 'slide', 'lpad', 'rpad', 'tpad', 'bpad']].apply(\n",
    "        lambda x: pd.Series(proc_images_np(x, images)), axis = 1\n",
    "    ).rename(columns = lambda x: 'pixel_{}'.format(x)).reset_index(drop = True)\n",
    "    X_pixel = df_pixel.columns\n",
    "    return df.join(df_pixel), X_pixel\n",
    "\n",
    "def proc_images_np(X, images):\n",
    "    return np.pad(\n",
    "        images[X['slide'], X['left']:X['right'], X['top']:X['bottom'], :], \n",
    "        [(X['lpad'], X['rpad']), (X['tpad'], X['bpad']), (0, 0)], 'edge'\n",
    "    ).flatten()\n",
    "\n",
    "\n",
    "images, df_spots, images_test, df_spots_test = load_data(\"data/elucidata_ai_challenge_data.h5\")\n",
    "targets = [i for i in df_spots.columns if i.startswith('C')]\n",
    "n_components = 35\n",
    "targets2 = ['C{}_l'.format(i + 1) for i in range(n_components)]\n",
    "df_spots= df_spots.join(\n",
    "    np.log(df_spots[targets]).rename(columns = lambda x: x + '_l')\n",
    ")"
   ]
  },
  {
   "cell_type": "code",
   "execution_count": 3,
   "id": "593a37be",
   "metadata": {},
   "outputs": [],
   "source": [
    "df_spots = df_spots.join(\n",
    "    df_spots.groupby('slide')[['x', 'y']].transform(\n",
    "        lambda x: (x - x.min()) * 2 / (x.max() - x.min()) - 1\n",
    "    ).rename(columns = lambda x: x +'_mm')\n",
    ")"
   ]
  },
  {
   "cell_type": "code",
   "execution_count": 4,
   "id": "d31e353d",
   "metadata": {},
   "outputs": [
    {
     "name": "stderr",
     "output_type": "stream",
     "text": [
      "2025-05-06 09:42:03.444776: W tensorflow/core/common_runtime/gpu/gpu_bfc_allocator.cc:47] Overriding orig_value setting because the TF_FORCE_GPU_ALLOW_GROWTH environment variable is set. Original config value was 0.\n",
      "I0000 00:00:1746524523.444874     984 gpu_device.cc:2022] Created device /job:localhost/replica:0/task:0/device:GPU:0 with 5520 MB memory:  -> device: 0, name: NVIDIA GeForce RTX 4070 Laptop GPU, pci bus id: 0000:01:00.0, compute capability: 8.9\n"
     ]
    }
   ],
   "source": [
    "images_tf = tf.constant(images)\n",
    "images_test_tf = tf.constant(images_test)"
   ]
  },
  {
   "cell_type": "code",
   "execution_count": 3,
   "id": "d99564ee",
   "metadata": {},
   "outputs": [],
   "source": [
    "from scipy.stats import spearmanr\n",
    "import xgboost as xgb\n",
    "from sklearn.linear_model import Lasso, Ridge, LinearRegression\n",
    "from sklearn.neural_network import MLPRegressor\n",
    "from sklearn.model_selection import GroupKFold, GroupShuffleSplit, train_test_split\n",
    "\n",
    "gkf = GroupKFold(6)\n",
    "ss = GroupShuffleSplit(1)\n",
    "sc = sgutil.SGCache('img', 'result', 'model')\n",
    "\n",
    "def get_validation_splitter(validation_fraction):\n",
    "    return lambda x: train_test_split(x, test_size = validation_fraction)\n",
    "\n",
    "def spearman(df, df_prds):\n",
    "    return df_prds.apply(\n",
    "        lambda x: spearmanr(x, df.loc[x.name, targets])[0],axis=1\n",
    "    ).mean()\n",
    "\n",
    "config = {\n",
    "    'predict_func': lambda m, df, X: pd.DataFrame(np.exp(m.predict(df[X])), index = df.index, columns = targets2),\n",
    "    'score_func': lambda df, prds: spearman(df[targets], prds),\n",
    "    'validation_splitter': get_validation_splitter,\n",
    "    'progress_callback': sgml.ProgressCallBack(), \n",
    "    'return_train_scores': True,\n",
    "    'y': targets2, 'groups': 'slide'\n",
    "}\n",
    "\n",
    "\n",
    "xgb_adapter = sgml.XGBAdapter(xgb.XGBRegressor, progress = 50)\n",
    "lasso_adapter = sgml.SklearnAdapter(Lasso)\n",
    "ridge_adapter = sgml.SklearnAdapter(Ridge)\n",
    "mlp_adapter = sgml.SklearnAdapter(MLPRegressor)\n",
    "\n",
    "lr_adapter = sgml.SklearnAdapter(LinearRegression)"
   ]
  },
  {
   "cell_type": "code",
   "execution_count": 5,
   "id": "2e17b555",
   "metadata": {},
   "outputs": [],
   "source": [
    "def load_encoder(filename):\n",
    "    enet_, d_ = joblib.load(filename)\n",
    "    input_shape = (226, 226, 3)\n",
    "    enet = tf.keras.applications.EfficientNetB0(\n",
    "        include_top = False, \n",
    "        weights = None,\n",
    "        input_shape = input_shape,\n",
    "        pooling = 'avg'\n",
    "    )\n",
    "    d = tf.keras.layers.Dense(128, activation='swish')\n",
    "        \n",
    "    inputs = tf.keras.Input(shape = input_shape)\n",
    "    x = enet(inputs)\n",
    "    enet.trainable = True \n",
    "    x = d(x)\n",
    "    m = tf.keras.models.Model(inputs=inputs, outputs=x, name='encoder')\n",
    "    enet.set_weights(enet_)\n",
    "    d.set_weights(d_)\n",
    "    return m\n",
    "\n",
    "def proc_images(X, images):\n",
    "    return tf.pad(\n",
    "        images[X['slide'], X['left']:X['right'], X['top']:X['bottom'], :], \n",
    "        paddings = [(X['lpad'], X['rpad']), (X['tpad'], X['bpad']), (0, 0)],\n",
    "        constant_values=1.0\n",
    "    )\n",
    "\n",
    "def create_tf_ds(df):\n",
    "    return tf.data.Dataset.from_tensor_slices({\n",
    "        i: df[i] for i in ['left', 'right', 'top', 'bottom', 'slide', 'lpad', 'rpad', 'tpad', 'bpad']\n",
    "    })"
   ]
  },
  {
   "cell_type": "code",
   "execution_count": 6,
   "id": "29f5e323",
   "metadata": {},
   "outputs": [],
   "source": [
    "encoder = load_encoder('model/ae_encoder_b0_obj.joblib')\n",
    "ds_ae = create_tf_ds(\n",
    "    make_img_proc_info(df_spots, 226, 226)\n",
    ").map(\n",
    "    lambda X: proc_images(X, images_tf)\n",
    ").batch(32)"
   ]
  },
  {
   "cell_type": "code",
   "execution_count": 7,
   "id": "48658693",
   "metadata": {},
   "outputs": [
    {
     "name": "stderr",
     "output_type": "stream",
     "text": [
      "WARNING: All log messages before absl::InitializeLog() is called are written to STDERR\n",
      "I0000 00:00:1746524547.959432    1043 service.cc:148] XLA service 0x7f90fc002d70 initialized for platform CUDA (this does not guarantee that XLA will be used). Devices:\n",
      "I0000 00:00:1746524547.959503    1043 service.cc:156]   StreamExecutor device (0): NVIDIA GeForce RTX 4070 Laptop GPU, Compute Capability 8.9\n",
      "2025-05-06 09:42:28.022318: I tensorflow/compiler/mlir/tensorflow/utils/dump_mlir_util.cc:268] disabling MLIR crash reproducer, set env var `MLIR_CRASH_REPRODUCER_DIRECTORY` to enable.\n",
      "I0000 00:00:1746524548.356080    1043 cuda_dnn.cc:529] Loaded cuDNN version 90300\n",
      "2025-05-06 09:42:28.721819: I external/local_xla/xla/stream_executor/cuda/cuda_asm_compiler.cc:397] ptxas warning : Registers are spilled to local memory in function 'gemm_fusion_dot_2025_0', 112 bytes spill stores, 144 bytes spill loads\n",
      "\n",
      "2025-05-06 09:42:28.772217: I external/local_xla/xla/stream_executor/cuda/cuda_asm_compiler.cc:397] ptxas warning : Registers are spilled to local memory in function 'gemm_fusion_dot_2025', 16 bytes spill stores, 16 bytes spill loads\n",
      "\n",
      "2025-05-06 09:42:28.878942: I external/local_xla/xla/stream_executor/cuda/cuda_asm_compiler.cc:397] ptxas warning : Registers are spilled to local memory in function 'gemm_fusion_dot_2025', 228 bytes spill stores, 228 bytes spill loads\n",
      "\n"
     ]
    },
    {
     "name": "stdout",
     "output_type": "stream",
     "text": [
      "\u001b[1m 10/261\u001b[0m \u001b[37m━━━━━━━━━━━━━━━━━━━━\u001b[0m \u001b[1m5s\u001b[0m 21ms/step"
     ]
    },
    {
     "name": "stderr",
     "output_type": "stream",
     "text": [
      "I0000 00:00:1746524555.610641    1043 device_compiler.h:188] Compiled cluster using XLA!  This line is logged at most once for the lifetime of the process.\n"
     ]
    },
    {
     "name": "stdout",
     "output_type": "stream",
     "text": [
      "\u001b[1m259/261\u001b[0m \u001b[32m━━━━━━━━━━━━━━━━━━━\u001b[0m\u001b[37m━\u001b[0m \u001b[1m0s\u001b[0m 21ms/step"
     ]
    },
    {
     "name": "stderr",
     "output_type": "stream",
     "text": [
      "2025-05-06 09:42:43.567442: I external/local_xla/xla/stream_executor/cuda/cuda_asm_compiler.cc:397] ptxas warning : Registers are spilled to local memory in function 'gemm_fusion_dot_2023_0', 344 bytes spill stores, 520 bytes spill loads\n",
      "\n",
      "2025-05-06 09:42:43.641379: I external/local_xla/xla/stream_executor/cuda/cuda_asm_compiler.cc:397] ptxas warning : Registers are spilled to local memory in function 'gemm_fusion_dot_2023', 16 bytes spill stores, 16 bytes spill loads\n",
      "\n",
      "2025-05-06 09:42:43.866452: I external/local_xla/xla/stream_executor/cuda/cuda_asm_compiler.cc:397] ptxas warning : Registers are spilled to local memory in function 'gemm_fusion_dot_2023', 180 bytes spill stores, 180 bytes spill loads\n",
      "\n"
     ]
    },
    {
     "name": "stdout",
     "output_type": "stream",
     "text": [
      "\u001b[1m261/261\u001b[0m \u001b[32m━━━━━━━━━━━━━━━━━━━━\u001b[0m\u001b[37m\u001b[0m \u001b[1m24s\u001b[0m 56ms/step\n"
     ]
    }
   ],
   "source": [
    "df_b0 = pd.DataFrame(\n",
    "    encoder.predict(ds_ae), index = df_spots.index\n",
    ").rename(columns = lambda x: 'b0_{}'.format(x))\n",
    "del encoder, ds_ae"
   ]
  },
  {
   "cell_type": "code",
   "execution_count": 9,
   "id": "22c01fbb",
   "metadata": {},
   "outputs": [
    {
     "data": {
      "text/html": [
       "<div>\n",
       "<style scoped>\n",
       "    .dataframe tbody tr th:only-of-type {\n",
       "        vertical-align: middle;\n",
       "    }\n",
       "\n",
       "    .dataframe tbody tr th {\n",
       "        vertical-align: top;\n",
       "    }\n",
       "\n",
       "    .dataframe thead th {\n",
       "        text-align: right;\n",
       "    }\n",
       "</style>\n",
       "<table border=\"1\" class=\"dataframe\">\n",
       "  <thead>\n",
       "    <tr style=\"text-align: right;\">\n",
       "      <th></th>\n",
       "      <th>b0_0</th>\n",
       "      <th>b0_1</th>\n",
       "      <th>b0_2</th>\n",
       "      <th>b0_3</th>\n",
       "      <th>b0_4</th>\n",
       "      <th>b0_5</th>\n",
       "      <th>b0_6</th>\n",
       "      <th>b0_7</th>\n",
       "      <th>b0_8</th>\n",
       "      <th>b0_9</th>\n",
       "      <th>...</th>\n",
       "      <th>b0_118</th>\n",
       "      <th>b0_119</th>\n",
       "      <th>b0_120</th>\n",
       "      <th>b0_121</th>\n",
       "      <th>b0_122</th>\n",
       "      <th>b0_123</th>\n",
       "      <th>b0_124</th>\n",
       "      <th>b0_125</th>\n",
       "      <th>b0_126</th>\n",
       "      <th>b0_127</th>\n",
       "    </tr>\n",
       "  </thead>\n",
       "  <tbody>\n",
       "    <tr>\n",
       "      <th>0</th>\n",
       "      <td>0.140363</td>\n",
       "      <td>-0.238408</td>\n",
       "      <td>0.080734</td>\n",
       "      <td>-0.107481</td>\n",
       "      <td>-0.270410</td>\n",
       "      <td>-0.271883</td>\n",
       "      <td>-0.037892</td>\n",
       "      <td>-0.027653</td>\n",
       "      <td>0.361228</td>\n",
       "      <td>0.000955</td>\n",
       "      <td>...</td>\n",
       "      <td>0.426269</td>\n",
       "      <td>0.267163</td>\n",
       "      <td>0.099898</td>\n",
       "      <td>-0.021706</td>\n",
       "      <td>0.389499</td>\n",
       "      <td>-0.092467</td>\n",
       "      <td>-0.009360</td>\n",
       "      <td>0.071034</td>\n",
       "      <td>-0.038935</td>\n",
       "      <td>-0.254953</td>\n",
       "    </tr>\n",
       "    <tr>\n",
       "      <th>1</th>\n",
       "      <td>0.264336</td>\n",
       "      <td>0.247747</td>\n",
       "      <td>0.134867</td>\n",
       "      <td>0.307903</td>\n",
       "      <td>-0.231781</td>\n",
       "      <td>0.208133</td>\n",
       "      <td>-0.076133</td>\n",
       "      <td>0.311000</td>\n",
       "      <td>-0.020295</td>\n",
       "      <td>0.126543</td>\n",
       "      <td>...</td>\n",
       "      <td>0.886439</td>\n",
       "      <td>0.434933</td>\n",
       "      <td>-0.129053</td>\n",
       "      <td>0.265150</td>\n",
       "      <td>0.466025</td>\n",
       "      <td>0.953229</td>\n",
       "      <td>0.109224</td>\n",
       "      <td>0.839465</td>\n",
       "      <td>0.207375</td>\n",
       "      <td>-0.270280</td>\n",
       "    </tr>\n",
       "    <tr>\n",
       "      <th>2</th>\n",
       "      <td>0.356774</td>\n",
       "      <td>-0.199065</td>\n",
       "      <td>0.070186</td>\n",
       "      <td>-0.180848</td>\n",
       "      <td>-0.277369</td>\n",
       "      <td>-0.276725</td>\n",
       "      <td>0.003389</td>\n",
       "      <td>-0.011188</td>\n",
       "      <td>0.513300</td>\n",
       "      <td>0.324312</td>\n",
       "      <td>...</td>\n",
       "      <td>0.201785</td>\n",
       "      <td>0.252915</td>\n",
       "      <td>0.259053</td>\n",
       "      <td>0.012251</td>\n",
       "      <td>0.238216</td>\n",
       "      <td>-0.202938</td>\n",
       "      <td>0.076162</td>\n",
       "      <td>0.030758</td>\n",
       "      <td>-0.075219</td>\n",
       "      <td>-0.246049</td>\n",
       "    </tr>\n",
       "    <tr>\n",
       "      <th>3</th>\n",
       "      <td>0.718715</td>\n",
       "      <td>-0.119620</td>\n",
       "      <td>0.475300</td>\n",
       "      <td>0.023888</td>\n",
       "      <td>-0.244034</td>\n",
       "      <td>-0.017857</td>\n",
       "      <td>0.619920</td>\n",
       "      <td>0.324761</td>\n",
       "      <td>0.788967</td>\n",
       "      <td>0.739314</td>\n",
       "      <td>...</td>\n",
       "      <td>0.542703</td>\n",
       "      <td>0.627571</td>\n",
       "      <td>1.010669</td>\n",
       "      <td>-0.070838</td>\n",
       "      <td>0.968793</td>\n",
       "      <td>-0.132555</td>\n",
       "      <td>0.503486</td>\n",
       "      <td>0.163914</td>\n",
       "      <td>-0.081369</td>\n",
       "      <td>-0.224730</td>\n",
       "    </tr>\n",
       "    <tr>\n",
       "      <th>4</th>\n",
       "      <td>0.767667</td>\n",
       "      <td>-0.054608</td>\n",
       "      <td>0.380651</td>\n",
       "      <td>-0.001071</td>\n",
       "      <td>-0.215222</td>\n",
       "      <td>0.010089</td>\n",
       "      <td>0.047771</td>\n",
       "      <td>0.322129</td>\n",
       "      <td>0.532374</td>\n",
       "      <td>0.744368</td>\n",
       "      <td>...</td>\n",
       "      <td>0.827150</td>\n",
       "      <td>0.379626</td>\n",
       "      <td>0.220098</td>\n",
       "      <td>0.148451</td>\n",
       "      <td>1.045769</td>\n",
       "      <td>0.050113</td>\n",
       "      <td>0.428615</td>\n",
       "      <td>0.641775</td>\n",
       "      <td>-0.031105</td>\n",
       "      <td>-0.235014</td>\n",
       "    </tr>\n",
       "  </tbody>\n",
       "</table>\n",
       "<p>5 rows × 128 columns</p>\n",
       "</div>"
      ],
      "text/plain": [
       "       b0_0      b0_1      b0_2      b0_3      b0_4      b0_5      b0_6  \\\n",
       "0  0.140363 -0.238408  0.080734 -0.107481 -0.270410 -0.271883 -0.037892   \n",
       "1  0.264336  0.247747  0.134867  0.307903 -0.231781  0.208133 -0.076133   \n",
       "2  0.356774 -0.199065  0.070186 -0.180848 -0.277369 -0.276725  0.003389   \n",
       "3  0.718715 -0.119620  0.475300  0.023888 -0.244034 -0.017857  0.619920   \n",
       "4  0.767667 -0.054608  0.380651 -0.001071 -0.215222  0.010089  0.047771   \n",
       "\n",
       "       b0_7      b0_8      b0_9  ...    b0_118    b0_119    b0_120    b0_121  \\\n",
       "0 -0.027653  0.361228  0.000955  ...  0.426269  0.267163  0.099898 -0.021706   \n",
       "1  0.311000 -0.020295  0.126543  ...  0.886439  0.434933 -0.129053  0.265150   \n",
       "2 -0.011188  0.513300  0.324312  ...  0.201785  0.252915  0.259053  0.012251   \n",
       "3  0.324761  0.788967  0.739314  ...  0.542703  0.627571  1.010669 -0.070838   \n",
       "4  0.322129  0.532374  0.744368  ...  0.827150  0.379626  0.220098  0.148451   \n",
       "\n",
       "     b0_122    b0_123    b0_124    b0_125    b0_126    b0_127  \n",
       "0  0.389499 -0.092467 -0.009360  0.071034 -0.038935 -0.254953  \n",
       "1  0.466025  0.953229  0.109224  0.839465  0.207375 -0.270280  \n",
       "2  0.238216 -0.202938  0.076162  0.030758 -0.075219 -0.246049  \n",
       "3  0.968793 -0.132555  0.503486  0.163914 -0.081369 -0.224730  \n",
       "4  1.045769  0.050113  0.428615  0.641775 -0.031105 -0.235014  \n",
       "\n",
       "[5 rows x 128 columns]"
      ]
     },
     "execution_count": 9,
     "metadata": {},
     "output_type": "execute_result"
    }
   ],
   "source": [
    "X_b0 = df_b0.columns.tolist()\n",
    "df_b0.head()"
   ]
  },
  {
   "cell_type": "code",
   "execution_count": 104,
   "id": "04d65713",
   "metadata": {},
   "outputs": [],
   "source": [
    "df_spots8, X_pixel8 = create_df(df_spots, 8, 8)\n",
    "df_spots9, X_pixel9 = create_df(df_spots, 9, 9)"
   ]
  },
  {
   "cell_type": "code",
   "execution_count": 76,
   "id": "46349f76",
   "metadata": {},
   "outputs": [],
   "source": [
    "df_spots_b0 = df_spots.join(df_b0)"
   ]
  },
  {
   "cell_type": "markdown",
   "id": "59947acf",
   "metadata": {},
   "source": [
    "# Linear Regression1"
   ]
  },
  {
   "cell_type": "code",
   "execution_count": 5,
   "id": "68cc41e7",
   "metadata": {},
   "outputs": [
    {
     "data": {
      "text/plain": [
       "(0.45159830844446774,\n",
       " [0.5297622132553462,\n",
       "  0.35523506124946186,\n",
       "  0.285001394714117,\n",
       "  0.4690515127702302,\n",
       "  0.5735355011569846,\n",
       "  0.4970041675206669])"
      ]
     },
     "execution_count": 5,
     "metadata": {},
     "output_type": "execute_result"
    }
   ],
   "source": [
    "result_lr = sc.cv_result(\n",
    "    'LR', df_spots8, gkf, {'X_num': X_pixel8.tolist()}, config, lr_adapter, result_proc = [sgml.lr_learning_result]\n",
    ")\n",
    "np.mean(result_lr['valid_scores']), result_lr['valid_scores']"
   ]
  },
  {
   "cell_type": "markdown",
   "id": "d990c082",
   "metadata": {},
   "source": [
    "#  XGBoost1"
   ]
  },
  {
   "cell_type": "code",
   "execution_count": 6,
   "id": "8feddcee",
   "metadata": {},
   "outputs": [
    {
     "data": {
      "text/plain": [
       "(0.45333574818398664,\n",
       " [0.5581417589062058,\n",
       "  0.3278171532609403,\n",
       "  0.2877363706365074,\n",
       "  0.44514948355079187,\n",
       "  0.5775053789631795,\n",
       "  0.523664343786295])"
      ]
     },
     "execution_count": 6,
     "metadata": {},
     "output_type": "execute_result"
    }
   ],
   "source": [
    "hparams = {\n",
    "    'model_params': {'max_depth': 2, 'learning_rate': 0.01, 'n_estimators': 100},\n",
    "    'X_num': X_pixel8.tolist()\n",
    "}\n",
    "result_xgb = sc.cv_result('xgb', df_spots8, gkf, hparams, config, xgb_adapter)\n",
    "np.mean(result_xgb['valid_scores']), result_xgb['valid_scores']"
   ]
  },
  {
   "cell_type": "markdown",
   "id": "e576785e",
   "metadata": {},
   "source": [
    "# Linear Regression 2\n",
    "\n",
    "- Linear Regression + PCA"
   ]
  },
  {
   "cell_type": "code",
   "execution_count": 7,
   "id": "53b3ff6a",
   "metadata": {},
   "outputs": [
    {
     "data": {
      "text/plain": [
       "(0.4785741677274913,\n",
       " [0.585518577475043,\n",
       "  0.3823903667829625,\n",
       "  0.2811122302230374,\n",
       "  0.47779563383904533,\n",
       "  0.6224199244915357,\n",
       "  0.5222082735533239])"
      ]
     },
     "execution_count": 7,
     "metadata": {},
     "output_type": "execute_result"
    }
   ],
   "source": [
    "hparams = {'pca': {'X_num': X_pixel8.tolist(), 'hparams': {'n_components': 0.7}}}\n",
    "result_lr2 = sc.cv_result(\n",
    "    'LR2', df_spots8, gkf, hparams, config, lr_adapter, result_proc = [sgml.lr_learning_result]\n",
    ")\n",
    "np.mean(result_lr2['valid_scores']), result_lr2['valid_scores']"
   ]
  },
  {
   "cell_type": "markdown",
   "id": "509930b0",
   "metadata": {},
   "source": [
    "# Linear Regression 3\n",
    "\n",
    "- Linear Regression + PCA + pixel9"
   ]
  },
  {
   "cell_type": "code",
   "execution_count": 8,
   "id": "4ae9911b",
   "metadata": {},
   "outputs": [
    {
     "data": {
      "text/plain": [
       "(0.4788232912064534,\n",
       " [0.5861936845222671,\n",
       "  0.38231418193130695,\n",
       "  0.283400730596353,\n",
       "  0.47704874704726036,\n",
       "  0.6214675435391548,\n",
       "  0.5225148596023776])"
      ]
     },
     "execution_count": 8,
     "metadata": {},
     "output_type": "execute_result"
    }
   ],
   "source": [
    "hparams = {'pca': {'X_num': X_pixel9.tolist(), 'hparams': {'n_components': 0.5}}}\n",
    "result_lr3 = sc.cv_result(\n",
    "    'LR3', df_spots9, gkf, hparams, config, lr_adapter, result_proc = [sgml.lr_learning_result], rerun = 0\n",
    ")\n",
    "np.mean(result_lr3['valid_scores']), result_lr3['valid_scores']"
   ]
  },
  {
   "cell_type": "markdown",
   "id": "1747c18f",
   "metadata": {},
   "source": [
    "# Ridge1"
   ]
  },
  {
   "cell_type": "code",
   "execution_count": 9,
   "id": "92c47a69",
   "metadata": {},
   "outputs": [
    {
     "data": {
      "text/plain": [
       "(0.4953370298393036,\n",
       " [0.5607180493342712,\n",
       "  0.44186317221472116,\n",
       "  0.27515070428887123,\n",
       "  0.4832064923694837,\n",
       "  0.6716981285267731,\n",
       "  0.5393856323017012])"
      ]
     },
     "execution_count": 9,
     "metadata": {},
     "output_type": "execute_result"
    }
   ],
   "source": [
    "hparams = {'X_num': X_pixel8.tolist(), 'model_params': {'alpha': 1e7}}\n",
    "result_rd1 = sc.cv_result(\n",
    "    'Ridge1', df_spots8, gkf, hparams, config, ridge_adapter, result_proc = [sgml.lr_learning_result], rerun = 0\n",
    ")\n",
    "np.mean(result_rd1['valid_scores']), result_rd1['valid_scores']"
   ]
  },
  {
   "cell_type": "markdown",
   "id": "6ff4a55a",
   "metadata": {},
   "source": [
    "# Lasso1"
   ]
  },
  {
   "cell_type": "code",
   "execution_count": 10,
   "id": "e9895530",
   "metadata": {},
   "outputs": [
    {
     "data": {
      "text/plain": [
       "(0.49562809082597,\n",
       " [0.5607180493342712,\n",
       "  0.44186317221472116,\n",
       "  0.27515070428887123,\n",
       "  0.4832064923694837,\n",
       "  0.6734624284496407,\n",
       "  0.5393676982988318])"
      ]
     },
     "execution_count": 10,
     "metadata": {},
     "output_type": "execute_result"
    }
   ],
   "source": [
    "hparams = {'X_num': X_pixel8.tolist(), 'model_params': {'alpha': 10}}\n",
    "result_lasso1 = sc.cv_result(\n",
    "    'lasso1', df_spots8, gkf, hparams, config, lasso_adapter, result_proc = [sgml.lr_learning_result], rerun = 0\n",
    ")\n",
    "np.mean(result_lasso1['valid_scores']), result_lasso1['valid_scores']"
   ]
  },
  {
   "cell_type": "markdown",
   "id": "58012fac",
   "metadata": {},
   "source": [
    "# Lasso2"
   ]
  },
  {
   "cell_type": "code",
   "execution_count": 83,
   "id": "c751bfba",
   "metadata": {},
   "outputs": [
    {
     "data": {
      "application/vnd.jupyter.widget-view+json": {
       "model_id": "",
       "version_major": 2,
       "version_minor": 0
      },
      "text/plain": [
       "Fold:   0%|          | 0/6 [00:00<?, ?it/s]"
      ]
     },
     "metadata": {},
     "output_type": "display_data"
    },
    {
     "data": {
      "text/plain": [
       "(0.49562809082597,\n",
       " [0.5607180493342712,\n",
       "  0.44186317221472116,\n",
       "  0.27515070428887123,\n",
       "  0.4832064923694837,\n",
       "  0.6734624284496407,\n",
       "  0.5393676982988318])"
      ]
     },
     "execution_count": 83,
     "metadata": {},
     "output_type": "execute_result"
    }
   ],
   "source": [
    "hparams = {'X_num': X_b0, 'model_params': {'alpha': 10}}\n",
    "result_lasso2 = sc.cv_result(\n",
    "    'lasso2', df_spots_b0, gkf, hparams, config, lasso_adapter, result_proc = [sgml.lr_learning_result], rerun = 1\n",
    ")\n",
    "np.mean(result_lasso2['valid_scores']), result_lasso2['valid_scores']"
   ]
  },
  {
   "cell_type": "code",
   "execution_count": 96,
   "id": "2ba5b97c",
   "metadata": {},
   "outputs": [
    {
     "data": {
      "text/html": [
       "<div>\n",
       "<style scoped>\n",
       "    .dataframe tbody tr th:only-of-type {\n",
       "        vertical-align: middle;\n",
       "    }\n",
       "\n",
       "    .dataframe tbody tr th {\n",
       "        vertical-align: top;\n",
       "    }\n",
       "\n",
       "    .dataframe thead th {\n",
       "        text-align: right;\n",
       "    }\n",
       "</style>\n",
       "<table border=\"1\" class=\"dataframe\">\n",
       "  <thead>\n",
       "    <tr style=\"text-align: right;\">\n",
       "      <th></th>\n",
       "      <th>0</th>\n",
       "      <th>1</th>\n",
       "      <th>2</th>\n",
       "      <th>3</th>\n",
       "      <th>4</th>\n",
       "      <th>5</th>\n",
       "      <th>6</th>\n",
       "      <th>7</th>\n",
       "      <th>8</th>\n",
       "      <th>9</th>\n",
       "      <th>...</th>\n",
       "      <th>25</th>\n",
       "      <th>26</th>\n",
       "      <th>27</th>\n",
       "      <th>28</th>\n",
       "      <th>29</th>\n",
       "      <th>30</th>\n",
       "      <th>31</th>\n",
       "      <th>32</th>\n",
       "      <th>33</th>\n",
       "      <th>34</th>\n",
       "    </tr>\n",
       "  </thead>\n",
       "  <tbody>\n",
       "    <tr>\n",
       "      <th>0</th>\n",
       "      <td>0.0</td>\n",
       "      <td>0.0</td>\n",
       "      <td>0.0</td>\n",
       "      <td>0.0</td>\n",
       "      <td>0.0</td>\n",
       "      <td>0.0</td>\n",
       "      <td>0.0</td>\n",
       "      <td>0.0</td>\n",
       "      <td>0.0</td>\n",
       "      <td>0.0</td>\n",
       "      <td>...</td>\n",
       "      <td>0.0</td>\n",
       "      <td>0.0</td>\n",
       "      <td>0.0</td>\n",
       "      <td>0.0</td>\n",
       "      <td>0.0</td>\n",
       "      <td>0.0</td>\n",
       "      <td>0.0</td>\n",
       "      <td>0.0</td>\n",
       "      <td>0.0</td>\n",
       "      <td>0.0</td>\n",
       "    </tr>\n",
       "  </tbody>\n",
       "</table>\n",
       "<p>1 rows × 35 columns</p>\n",
       "</div>"
      ],
      "text/plain": [
       "    0    1    2    3    4    5    6    7    8    9   ...   25   26   27   28  \\\n",
       "0  0.0  0.0  0.0  0.0  0.0  0.0  0.0  0.0  0.0  0.0  ...  0.0  0.0  0.0  0.0   \n",
       "\n",
       "    29   30   31   32   33   34  \n",
       "0  0.0  0.0  0.0  0.0  0.0  0.0  \n",
       "\n",
       "[1 rows x 35 columns]"
      ]
     },
     "execution_count": 96,
     "metadata": {},
     "output_type": "execute_result"
    }
   ],
   "source": [
    "result_lasso2['model_result'][0]['coef'].abs().sum().to_frame().T"
   ]
  },
  {
   "cell_type": "markdown",
   "id": "ecfff2c7",
   "metadata": {},
   "source": [
    "# Lasso3"
   ]
  },
  {
   "cell_type": "code",
   "execution_count": 111,
   "id": "8d00a548",
   "metadata": {},
   "outputs": [
    {
     "data": {
      "application/vnd.jupyter.widget-view+json": {
       "model_id": "",
       "version_major": 2,
       "version_minor": 0
      },
      "text/plain": [
       "Fold:   0%|          | 0/6 [00:00<?, ?it/s]"
      ]
     },
     "metadata": {},
     "output_type": "display_data"
    },
    {
     "data": {
      "text/plain": [
       "(0.49562809082597,\n",
       " [0.5607180493342712,\n",
       "  0.44186317221472116,\n",
       "  0.27515070428887123,\n",
       "  0.4832064923694837,\n",
       "  0.6734624284496407,\n",
       "  0.5393676982988318])"
      ]
     },
     "execution_count": 111,
     "metadata": {},
     "output_type": "execute_result"
    }
   ],
   "source": [
    "hparams = {'X_num': ['x_mm', 'y_mm'], 'model_params': {'alpha': 10}}\n",
    "result_lasso3 = sc.cv_result(\n",
    "    'lasso3', df_spots, gkf, hparams, config, lasso_adapter, result_proc = [sgml.lr_learning_result], rerun = 1\n",
    ")\n",
    "np.mean(result_lasso3['valid_scores']), result_lasso3['valid_scores']"
   ]
  },
  {
   "cell_type": "code",
   "execution_count": 112,
   "id": "f5b2c111",
   "metadata": {},
   "outputs": [
    {
     "data": {
      "text/plain": [
       "array([[0.15770092, 0.07055206, 0.13902968, ..., 0.00117523, 0.00358429,\n",
       "        0.02329139],\n",
       "       [0.15770092, 0.07055206, 0.13902968, ..., 0.00117523, 0.00358429,\n",
       "        0.02329139],\n",
       "       [0.15770092, 0.07055206, 0.13902968, ..., 0.00117523, 0.00358429,\n",
       "        0.02329139],\n",
       "       ...,\n",
       "       [0.11007462, 0.06376665, 0.10373893, ..., 0.00114767, 0.00258734,\n",
       "        0.02366623],\n",
       "       [0.11007462, 0.06376665, 0.10373893, ..., 0.00114767, 0.00258734,\n",
       "        0.02366623],\n",
       "       [0.11007462, 0.06376665, 0.10373893, ..., 0.00114767, 0.00258734,\n",
       "        0.02366623]])"
      ]
     },
     "execution_count": 112,
     "metadata": {},
     "output_type": "execute_result"
    }
   ],
   "source": [
    "sc.read_prd('lasso3')"
   ]
  },
  {
   "cell_type": "markdown",
   "id": "749e4be5",
   "metadata": {},
   "source": [
    "# MLP1"
   ]
  },
  {
   "cell_type": "code",
   "execution_count": 105,
   "id": "9e2c8cbd",
   "metadata": {},
   "outputs": [
    {
     "data": {
      "text/plain": [
       "(0.49370322399374444,\n",
       " [0.5401794197855354,\n",
       "  0.44183474026843333,\n",
       "  0.27287523238275635,\n",
       "  0.48265547162420147,\n",
       "  0.6751305159745059,\n",
       "  0.5495439639270343])"
      ]
     },
     "execution_count": 105,
     "metadata": {},
     "output_type": "execute_result"
    }
   ],
   "source": [
    "hparams = {'X_num': X_pixel8.tolist(), 'model_params': {'alpha': 1e4, 'max_iter': 1000, 'hidden_layer_sizes' : (16, )}}\n",
    "result_mlp1 = sc.cv_result(\n",
    "    'mlp1', df_spots8, gkf, hparams, config, mlp_adapter, rerun = 0\n",
    ")\n",
    "np.mean(result_mlp1['valid_scores']), result_mlp1['valid_scores']"
   ]
  },
  {
   "cell_type": "code",
   "execution_count": 108,
   "id": "c71003c6",
   "metadata": {},
   "outputs": [
    {
     "data": {
      "text/plain": [
       "array([[0.15614276, 0.06943421, 0.13809256, ..., 0.00125495, 0.00360528,\n",
       "        0.02353239],\n",
       "       [0.15614091, 0.06943325, 0.13809147, ..., 0.00125487, 0.00360519,\n",
       "        0.0235326 ],\n",
       "       [0.1561428 , 0.06943423, 0.13809259, ..., 0.00125495, 0.00360529,\n",
       "        0.02353239],\n",
       "       ...,\n",
       "       [0.10782869, 0.06406914, 0.10181706, ..., 0.00115206, 0.00258821,\n",
       "        0.02326384],\n",
       "       [0.10783844, 0.06406748, 0.10182519, ..., 0.00115217, 0.00258827,\n",
       "        0.02326533],\n",
       "       [0.10782605, 0.0640696 , 0.10181483, ..., 0.00115203, 0.00258819,\n",
       "        0.02326344]], dtype=float32)"
      ]
     },
     "execution_count": 108,
     "metadata": {},
     "output_type": "execute_result"
    }
   ],
   "source": [
    "sc.read_prd('mlp1')"
   ]
  },
  {
   "cell_type": "markdown",
   "id": "1ff4170f",
   "metadata": {},
   "source": [
    "# Ensemble"
   ]
  },
  {
   "cell_type": "code",
   "execution_count": 31,
   "id": "b7e6144b",
   "metadata": {},
   "outputs": [],
   "source": [
    "prd = np.zeros_like(df_spots[targets])\n",
    "for i in [\n",
    "    #sc.read_prd('ridge1', df_spots.index, columns = targets),\n",
    "    sc.read_prd('lasso1', df_spots.index, columns = targets),\n",
    "    #sc.read_prd('mlp1', df_spots.index, columns = targets),\n",
    "]:\n",
    "    prd += i[targets].rank(axis = 1)\n",
    "\n",
    "spearman(\n",
    "    df_spots[targets],\n",
    "    pd.DataFrame(prd, index = df_spots.index, columns = targets)\n",
    ")"
   ]
  },
  {
   "cell_type": "markdown",
   "id": "eab58473-e4a2-4138-9981-0ded6a2f548b",
   "metadata": {},
   "source": [
    "# Train"
   ]
  },
  {
   "cell_type": "code",
   "execution_count": 35,
   "id": "f0a9b458",
   "metadata": {},
   "outputs": [],
   "source": [
    "result = sc.train_cv('lasso1', df_spots8, config)"
   ]
  },
  {
   "cell_type": "code",
   "execution_count": null,
   "id": "6f03886d",
   "metadata": {},
   "outputs": [],
   "source": []
  }
 ],
 "metadata": {
  "kernelspec": {
   "display_name": "Python 3 (ipykernel)",
   "language": "python",
   "name": "python3"
  },
  "language_info": {
   "codemirror_mode": {
    "name": "ipython",
    "version": 3
   },
   "file_extension": ".py",
   "mimetype": "text/x-python",
   "name": "python",
   "nbconvert_exporter": "python",
   "pygments_lexer": "ipython3",
   "version": "3.11.11"
  }
 },
 "nbformat": 4,
 "nbformat_minor": 5
}
