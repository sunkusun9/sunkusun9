{
 "cells": [
  {
   "cell_type": "code",
   "execution_count": 29,
   "id": "4c93088f",
   "metadata": {},
   "outputs": [],
   "source": [
    "import pandas as pd\n",
    "import numpy as np\n",
    "import h5py\n",
    "\n",
    "from sklearn.pipeline import make_pipeline\n",
    "from sklearn.preprocessing import FunctionTransformer, StandardScaler\n",
    "from sklearn.decomposition import PCA"
   ]
  },
  {
   "cell_type": "code",
   "execution_count": 30,
   "id": "995518a4",
   "metadata": {},
   "outputs": [],
   "source": [
    "# Load training data\n",
    "with h5py.File(\"data/elucidata_ai_challenge_data.h5\", \"r\") as f:\n",
    "    train_spots = f[\"spots/Train\"]\n",
    "    train_spot_tables = {slide_name: pd.DataFrame(np.array(train_spots[slide_name])).assign(slide = slide_name) for slide_name in train_spots.keys()}\n",
    "\n",
    "# Combine all training slides\n",
    "df_spots = pd.concat(train_spot_tables.values(), ignore_index=True)\n",
    "\n",
    "# Extract features and target labels\n",
    "X = ['x', 'y']  # Use spatial coordinates\n",
    "targets = [i for i in df_spots.columns if i.startswith('C')]\n",
    "\n",
    "n_components = 5\n",
    "target_proc = make_pipeline(\n",
    "    FunctionTransformer(np.log, np.exp), StandardScaler(), PCA(n_components=n_components)\n",
    ").fit(df_spots[targets])\n",
    "target_proc.fit(df_spots[targets])\n",
    "targets2 = ['pca_{}'.format(i) for i in range(n_components)]\n",
    "df_spots= df_spots.join(\n",
    "    pd.DataFrame(target_proc.transform(df_spots[targets]), index = df_spots.index, columns = targets2)\n",
    ")"
   ]
  },
  {
   "cell_type": "code",
   "execution_count": 31,
   "id": "28274f8d",
   "metadata": {},
   "outputs": [
    {
     "data": {
      "text/html": [
       "<style>#sk-container-id-2 {color: black;background-color: white;}#sk-container-id-2 pre{padding: 0;}#sk-container-id-2 div.sk-toggleable {background-color: white;}#sk-container-id-2 label.sk-toggleable__label {cursor: pointer;display: block;width: 100%;margin-bottom: 0;padding: 0.3em;box-sizing: border-box;text-align: center;}#sk-container-id-2 label.sk-toggleable__label-arrow:before {content: \"▸\";float: left;margin-right: 0.25em;color: #696969;}#sk-container-id-2 label.sk-toggleable__label-arrow:hover:before {color: black;}#sk-container-id-2 div.sk-estimator:hover label.sk-toggleable__label-arrow:before {color: black;}#sk-container-id-2 div.sk-toggleable__content {max-height: 0;max-width: 0;overflow: hidden;text-align: left;background-color: #f0f8ff;}#sk-container-id-2 div.sk-toggleable__content pre {margin: 0.2em;color: black;border-radius: 0.25em;background-color: #f0f8ff;}#sk-container-id-2 input.sk-toggleable__control:checked~div.sk-toggleable__content {max-height: 200px;max-width: 100%;overflow: auto;}#sk-container-id-2 input.sk-toggleable__control:checked~label.sk-toggleable__label-arrow:before {content: \"▾\";}#sk-container-id-2 div.sk-estimator input.sk-toggleable__control:checked~label.sk-toggleable__label {background-color: #d4ebff;}#sk-container-id-2 div.sk-label input.sk-toggleable__control:checked~label.sk-toggleable__label {background-color: #d4ebff;}#sk-container-id-2 input.sk-hidden--visually {border: 0;clip: rect(1px 1px 1px 1px);clip: rect(1px, 1px, 1px, 1px);height: 1px;margin: -1px;overflow: hidden;padding: 0;position: absolute;width: 1px;}#sk-container-id-2 div.sk-estimator {font-family: monospace;background-color: #f0f8ff;border: 1px dotted black;border-radius: 0.25em;box-sizing: border-box;margin-bottom: 0.5em;}#sk-container-id-2 div.sk-estimator:hover {background-color: #d4ebff;}#sk-container-id-2 div.sk-parallel-item::after {content: \"\";width: 100%;border-bottom: 1px solid gray;flex-grow: 1;}#sk-container-id-2 div.sk-label:hover label.sk-toggleable__label {background-color: #d4ebff;}#sk-container-id-2 div.sk-serial::before {content: \"\";position: absolute;border-left: 1px solid gray;box-sizing: border-box;top: 0;bottom: 0;left: 50%;z-index: 0;}#sk-container-id-2 div.sk-serial {display: flex;flex-direction: column;align-items: center;background-color: white;padding-right: 0.2em;padding-left: 0.2em;position: relative;}#sk-container-id-2 div.sk-item {position: relative;z-index: 1;}#sk-container-id-2 div.sk-parallel {display: flex;align-items: stretch;justify-content: center;background-color: white;position: relative;}#sk-container-id-2 div.sk-item::before, #sk-container-id-2 div.sk-parallel-item::before {content: \"\";position: absolute;border-left: 1px solid gray;box-sizing: border-box;top: 0;bottom: 0;left: 50%;z-index: -1;}#sk-container-id-2 div.sk-parallel-item {display: flex;flex-direction: column;z-index: 1;position: relative;background-color: white;}#sk-container-id-2 div.sk-parallel-item:first-child::after {align-self: flex-end;width: 50%;}#sk-container-id-2 div.sk-parallel-item:last-child::after {align-self: flex-start;width: 50%;}#sk-container-id-2 div.sk-parallel-item:only-child::after {width: 0;}#sk-container-id-2 div.sk-dashed-wrapped {border: 1px dashed gray;margin: 0 0.4em 0.5em 0.4em;box-sizing: border-box;padding-bottom: 0.4em;background-color: white;}#sk-container-id-2 div.sk-label label {font-family: monospace;font-weight: bold;display: inline-block;line-height: 1.2em;}#sk-container-id-2 div.sk-label-container {text-align: center;}#sk-container-id-2 div.sk-container {/* jupyter's `normalize.less` sets `[hidden] { display: none; }` but bootstrap.min.css set `[hidden] { display: none !important; }` so we also need the `!important` here to be able to override the default hidden behavior on the sphinx rendered scikit-learn.org. See: https://github.com/scikit-learn/scikit-learn/issues/21755 */display: inline-block !important;position: relative;}#sk-container-id-2 div.sk-text-repr-fallback {display: none;}</style><div id=\"sk-container-id-2\" class=\"sk-top-container\"><div class=\"sk-text-repr-fallback\"><pre>RANSACRegressor()</pre><b>In a Jupyter environment, please rerun this cell to show the HTML representation or trust the notebook. <br />On GitHub, the HTML representation is unable to render, please try loading this page with nbviewer.org.</b></div><div class=\"sk-container\" hidden><div class=\"sk-item\"><div class=\"sk-estimator sk-toggleable\"><input class=\"sk-toggleable__control sk-hidden--visually\" id=\"sk-estimator-id-2\" type=\"checkbox\" checked><label for=\"sk-estimator-id-2\" class=\"sk-toggleable__label sk-toggleable__label-arrow\">RANSACRegressor</label><div class=\"sk-toggleable__content\"><pre>RANSACRegressor()</pre></div></div></div></div></div>"
      ],
      "text/plain": [
       "RANSACRegressor()"
      ]
     },
     "execution_count": 31,
     "metadata": {},
     "output_type": "execute_result"
    }
   ],
   "source": [
    "from sklearn.linear_model import  RANSACRegressor\n",
    "df_cv_train = df_spots.loc[df_spots['slide'] != 'S_6']\n",
    "df_valid = df_spots.loc[df_spots['slide'] == 'S_6']\n",
    "r_reg = RANSACRegressor()\n",
    "r_reg.fit(df_cv_train[X], df_cv_train[targets2])"
   ]
  },
  {
   "cell_type": "code",
   "execution_count": 32,
   "id": "0bdbe6b1",
   "metadata": {},
   "outputs": [
    {
     "name": "stdout",
     "output_type": "stream",
     "text": [
      "0.4376560198945555\n"
     ]
    },
    {
     "data": {
      "text/plain": [
       "0.44669758147161304"
      ]
     },
     "execution_count": 32,
     "metadata": {},
     "output_type": "execute_result"
    }
   ],
   "source": [
    "from scipy.stats import spearmanr\n",
    "\n",
    "print(\n",
    "    pd.DataFrame(\n",
    "        target_proc.inverse_transform(r_reg.predict(df_cv_train[X])), index = df_cv_train.index, columns = targets\n",
    "    ).apply(\n",
    "        lambda x: spearmanr(x, df_cv_train.loc[x.name, targets])[0],axis=1\n",
    "    ).mean()\n",
    ")\n",
    "\n",
    "pd.DataFrame(\n",
    "    target_proc.inverse_transform(r_reg.predict(df_valid[X])), index = df_valid.index, columns = targets\n",
    ").apply(\n",
    "    lambda x: spearmanr(x, df_valid.loc[x.name, targets])[0],axis=1\n",
    ").mean()"
   ]
  },
  {
   "cell_type": "code",
   "execution_count": 33,
   "id": "4b6f89dd",
   "metadata": {},
   "outputs": [],
   "source": [
    "df_spots = df_spots.join(\n",
    "    df_spots.groupby('slide')[['x', 'y']].transform(\n",
    "        lambda x: (x - x.min()) * 2 / (x.max() - x.min()) - 1\n",
    "    ).rename(columns = lambda x: x+'_mm')\n",
    ")"
   ]
  },
  {
   "cell_type": "code",
   "execution_count": 34,
   "id": "91316a72",
   "metadata": {},
   "outputs": [
    {
     "name": "stdout",
     "output_type": "stream",
     "text": [
      "S_1 0.49113212254993033 0.4052636074912441\n",
      "S_2 0.3166313473900829 0.40583348758005405\n",
      "S_3 0.4045952053624688 0.4145029026103196\n",
      "S_4 0.48745812203686284 0.21108649019843828\n",
      "S_5 0.5043200313698621 0.019683842529259764\n",
      "S_6 0.3604943186600161 0.6606092436974791\n"
     ]
    }
   ],
   "source": [
    "from sklearn.linear_model import  RANSACRegressor\n",
    "from scipy.stats import spearmanr\n",
    "X = ['x_mm', 'y_mm']\n",
    "r_reg = RANSACRegressor()\n",
    "coef_train, coef_valid = list(), list()\n",
    "for i in df_spots['slide'].unique():\n",
    "    df_cv_train = df_spots.loc[df_spots['slide'] != i]\n",
    "    df_valid = df_spots.loc[df_spots['slide'] == i]\n",
    "    r_reg.fit(df_cv_train[X], df_cv_train[targets2])\n",
    "\n",
    "    coef_train.append(\n",
    "        pd.DataFrame(\n",
    "            target_proc.inverse_transform(r_reg.predict(df_cv_train[X])), index = df_cv_train.index, columns = targets\n",
    "        ).apply(\n",
    "            lambda x: spearmanr(x, df_cv_train.loc[x.name, targets])[0],axis=1\n",
    "        ).mean()\n",
    "    )\n",
    "\n",
    "    coef_valid.append(\n",
    "        pd.DataFrame(\n",
    "            target_proc.inverse_transform(r_reg.predict(df_valid[X])), index = df_valid.index, columns = targets\n",
    "        ).apply(\n",
    "            lambda x: spearmanr(x, df_valid.loc[x.name, targets])[0],axis=1\n",
    "        ).mean()\n",
    "    )\n",
    "    print(i, coef_train[-1], coef_valid[-1])"
   ]
  },
  {
   "cell_type": "code",
   "execution_count": null,
   "id": "5aaadce2",
   "metadata": {},
   "outputs": [],
   "source": []
  }
 ],
 "metadata": {
  "kernelspec": {
   "display_name": "Python 3 (ipykernel)",
   "language": "python",
   "name": "python3"
  },
  "language_info": {
   "codemirror_mode": {
    "name": "ipython",
    "version": 3
   },
   "file_extension": ".py",
   "mimetype": "text/x-python",
   "name": "python",
   "nbconvert_exporter": "python",
   "pygments_lexer": "ipython3",
   "version": "3.11.11"
  }
 },
 "nbformat": 4,
 "nbformat_minor": 5
}
