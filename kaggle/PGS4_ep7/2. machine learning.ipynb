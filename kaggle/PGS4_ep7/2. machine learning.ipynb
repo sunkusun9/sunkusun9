{
 "cells": [
  {
   "cell_type": "code",
   "execution_count": 2,
   "id": "984525dc-179d-4884-90f8-ecce509356f9",
   "metadata": {},
   "outputs": [
    {
     "name": "stderr",
     "output_type": "stream",
     "text": [
      "2024-12-11 09:45:44.889647: E external/local_xla/xla/stream_executor/cuda/cuda_fft.cc:477] Unable to register cuFFT factory: Attempting to register factory for plugin cuFFT when one has already been registered\n",
      "WARNING: All log messages before absl::InitializeLog() is called are written to STDERR\n",
      "E0000 00:00:1733910345.024446   77686 cuda_dnn.cc:8310] Unable to register cuDNN factory: Attempting to register factory for plugin cuDNN when one has already been registered\n",
      "E0000 00:00:1733910345.062079   77686 cuda_blas.cc:1418] Unable to register cuBLAS factory: Attempting to register factory for plugin cuBLAS when one has already been registered\n",
      "2024-12-11 09:45:45.419640: I tensorflow/core/platform/cpu_feature_guard.cc:210] This TensorFlow binary is optimized to use available CPU instructions in performance-critical operations.\n",
      "To enable the following instructions: AVX2 FMA, in other operations, rebuild TensorFlow with the appropriate compiler flags.\n"
     ]
    }
   ],
   "source": [
    "import os\n",
    "import pandas as pd\n",
    "import numpy as np\n",
    "from functools import partial\n",
    "import dproc, sgutil, sgnn, sgml\n",
    "\n",
    "import seaborn as sns\n",
    "import matplotlib.pyplot as plt\n",
    "\n",
    "import shap"
   ]
  },
  {
   "cell_type": "code",
   "execution_count": 3,
   "id": "6ec646f1-9210-4e6f-9e68-3b5b032eaaaa",
   "metadata": {},
   "outputs": [
    {
     "data": {
      "text/html": [
       "<div>\n",
       "<style scoped>\n",
       "    .dataframe tbody tr th:only-of-type {\n",
       "        vertical-align: middle;\n",
       "    }\n",
       "\n",
       "    .dataframe tbody tr th {\n",
       "        vertical-align: top;\n",
       "    }\n",
       "\n",
       "    .dataframe thead th {\n",
       "        text-align: right;\n",
       "    }\n",
       "</style>\n",
       "<table border=\"1\" class=\"dataframe\">\n",
       "  <thead>\n",
       "    <tr style=\"text-align: right;\">\n",
       "      <th></th>\n",
       "      <th>Description</th>\n",
       "      <th>src</th>\n",
       "      <th>na</th>\n",
       "      <th>count</th>\n",
       "      <th>n_unique</th>\n",
       "      <th>dtype</th>\n",
       "    </tr>\n",
       "  </thead>\n",
       "  <tbody>\n",
       "    <tr>\n",
       "      <th>Age</th>\n",
       "      <td>None</td>\n",
       "      <td>None</td>\n",
       "      <td>0.0</td>\n",
       "      <td>0.0</td>\n",
       "      <td>0.0</td>\n",
       "      <td>Int8</td>\n",
       "    </tr>\n",
       "    <tr>\n",
       "      <th>Age_S</th>\n",
       "      <td>Age의 범주형 변수</td>\n",
       "      <td>cat_proc</td>\n",
       "      <td>0.0</td>\n",
       "      <td>11504798.0</td>\n",
       "      <td>66.0</td>\n",
       "      <td>Categorical</td>\n",
       "    </tr>\n",
       "    <tr>\n",
       "      <th>Annual_Premium</th>\n",
       "      <td>None</td>\n",
       "      <td>None</td>\n",
       "      <td>0.0</td>\n",
       "      <td>0.0</td>\n",
       "      <td>0.0</td>\n",
       "      <td>Float32</td>\n",
       "    </tr>\n",
       "    <tr>\n",
       "      <th>Annual_Premium_S</th>\n",
       "      <td>Annual_Premium의 범주형 변수</td>\n",
       "      <td>cat_proc</td>\n",
       "      <td>0.0</td>\n",
       "      <td>11504798.0</td>\n",
       "      <td>43119.0</td>\n",
       "      <td>Categorical</td>\n",
       "    </tr>\n",
       "    <tr>\n",
       "      <th>Driving_License</th>\n",
       "      <td>None</td>\n",
       "      <td>None</td>\n",
       "      <td>0.0</td>\n",
       "      <td>0.0</td>\n",
       "      <td>0.0</td>\n",
       "      <td>Int8</td>\n",
       "    </tr>\n",
       "    <tr>\n",
       "      <th>Gender</th>\n",
       "      <td>None</td>\n",
       "      <td>None</td>\n",
       "      <td>0.0</td>\n",
       "      <td>0.0</td>\n",
       "      <td>0.0</td>\n",
       "      <td>Categorical(ordering='physical')</td>\n",
       "    </tr>\n",
       "    <tr>\n",
       "      <th>Policy_Sales_Channel</th>\n",
       "      <td>None</td>\n",
       "      <td>None</td>\n",
       "      <td>0.0</td>\n",
       "      <td>0.0</td>\n",
       "      <td>0.0</td>\n",
       "      <td>Categorical(ordering='physical')</td>\n",
       "    </tr>\n",
       "    <tr>\n",
       "      <th>Policy_Sales_Channel_S</th>\n",
       "      <td>Policy_Sales_Channel의 범주형 변수</td>\n",
       "      <td>cat_proc</td>\n",
       "      <td>0.0</td>\n",
       "      <td>11504798.0</td>\n",
       "      <td>141.0</td>\n",
       "      <td>Categorical</td>\n",
       "    </tr>\n",
       "    <tr>\n",
       "      <th>Previously_Insured</th>\n",
       "      <td>None</td>\n",
       "      <td>None</td>\n",
       "      <td>0.0</td>\n",
       "      <td>0.0</td>\n",
       "      <td>0.0</td>\n",
       "      <td>Categorical(ordering='physical')</td>\n",
       "    </tr>\n",
       "    <tr>\n",
       "      <th>Region_Code</th>\n",
       "      <td>None</td>\n",
       "      <td>None</td>\n",
       "      <td>0.0</td>\n",
       "      <td>0.0</td>\n",
       "      <td>0.0</td>\n",
       "      <td>Categorical(ordering='physical')</td>\n",
       "    </tr>\n",
       "    <tr>\n",
       "      <th>Region_Code_S</th>\n",
       "      <td>Region_Code를 범주형 변수</td>\n",
       "      <td>cat_proc</td>\n",
       "      <td>0.0</td>\n",
       "      <td>11504798.0</td>\n",
       "      <td>53.0</td>\n",
       "      <td>Categorical</td>\n",
       "    </tr>\n",
       "    <tr>\n",
       "      <th>Response</th>\n",
       "      <td>None</td>\n",
       "      <td>None</td>\n",
       "      <td>0.0</td>\n",
       "      <td>0.0</td>\n",
       "      <td>0.0</td>\n",
       "      <td>Int8</td>\n",
       "    </tr>\n",
       "    <tr>\n",
       "      <th>VA_Age</th>\n",
       "      <td>Vehicle_Age, Age_S 그리고 Policy_Sales_Channel_S를...</td>\n",
       "      <td>combine</td>\n",
       "      <td>0.0</td>\n",
       "      <td>11504798.0</td>\n",
       "      <td>5838.0</td>\n",
       "      <td>Categorical</td>\n",
       "    </tr>\n",
       "    <tr>\n",
       "      <th>VD_PSC</th>\n",
       "      <td>Vehicle_Damage, Previously_Insured, Policy_Sal...</td>\n",
       "      <td>combine</td>\n",
       "      <td>0.0</td>\n",
       "      <td>11504798.0</td>\n",
       "      <td>455.0</td>\n",
       "      <td>Categorical</td>\n",
       "    </tr>\n",
       "    <tr>\n",
       "      <th>VP</th>\n",
       "      <td>Vehicle_Damage, Previously_Insured를 결합합니다.</td>\n",
       "      <td>combine</td>\n",
       "      <td>0.0</td>\n",
       "      <td>11504798.0</td>\n",
       "      <td>4.0</td>\n",
       "      <td>Categorical</td>\n",
       "    </tr>\n",
       "    <tr>\n",
       "      <th>VPA</th>\n",
       "      <td>Vehicle_Damage, Previously_Insured, Annual_Pre...</td>\n",
       "      <td>combine</td>\n",
       "      <td>0.0</td>\n",
       "      <td>11504798.0</td>\n",
       "      <td>150474.0</td>\n",
       "      <td>Categorical</td>\n",
       "    </tr>\n",
       "    <tr>\n",
       "      <th>VPAg</th>\n",
       "      <td>Vehicle_Damage, Previously_Insured, Age_S를 결합합니다.</td>\n",
       "      <td>combine</td>\n",
       "      <td>0.0</td>\n",
       "      <td>11504798.0</td>\n",
       "      <td>261.0</td>\n",
       "      <td>Categorical</td>\n",
       "    </tr>\n",
       "    <tr>\n",
       "      <th>VPP</th>\n",
       "      <td>Vehicle_Damage, Previously_Insured, Policy_Sal...</td>\n",
       "      <td>combine</td>\n",
       "      <td>0.0</td>\n",
       "      <td>11504798.0</td>\n",
       "      <td>541.0</td>\n",
       "      <td>Categorical</td>\n",
       "    </tr>\n",
       "    <tr>\n",
       "      <th>VPR</th>\n",
       "      <td>Vehicle_Damage, Previously_Insured, Region_Cod...</td>\n",
       "      <td>combine</td>\n",
       "      <td>0.0</td>\n",
       "      <td>11504798.0</td>\n",
       "      <td>212.0</td>\n",
       "      <td>Categorical</td>\n",
       "    </tr>\n",
       "    <tr>\n",
       "      <th>VPV</th>\n",
       "      <td>Vehicle_Damage, Previously_Insured, Vehicle_Ag...</td>\n",
       "      <td>combine</td>\n",
       "      <td>0.0</td>\n",
       "      <td>11504798.0</td>\n",
       "      <td>12.0</td>\n",
       "      <td>Categorical</td>\n",
       "    </tr>\n",
       "    <tr>\n",
       "      <th>VPVP</th>\n",
       "      <td>Vehicle_Damage, Previously_Insured, Vehicle_Ag...</td>\n",
       "      <td>combine</td>\n",
       "      <td>0.0</td>\n",
       "      <td>11504798.0</td>\n",
       "      <td>1043.0</td>\n",
       "      <td>Categorical</td>\n",
       "    </tr>\n",
       "    <tr>\n",
       "      <th>VPVi</th>\n",
       "      <td>Vehicle_Damage, Previously_Insured, Vintage_S를...</td>\n",
       "      <td>combine</td>\n",
       "      <td>0.0</td>\n",
       "      <td>11504798.0</td>\n",
       "      <td>1160.0</td>\n",
       "      <td>Categorical</td>\n",
       "    </tr>\n",
       "    <tr>\n",
       "      <th>Vehicle_Age</th>\n",
       "      <td>None</td>\n",
       "      <td>None</td>\n",
       "      <td>0.0</td>\n",
       "      <td>0.0</td>\n",
       "      <td>0.0</td>\n",
       "      <td>Categorical(ordering='physical')</td>\n",
       "    </tr>\n",
       "    <tr>\n",
       "      <th>Vehicle_Damage</th>\n",
       "      <td>None</td>\n",
       "      <td>None</td>\n",
       "      <td>0.0</td>\n",
       "      <td>0.0</td>\n",
       "      <td>0.0</td>\n",
       "      <td>Categorical(ordering='physical')</td>\n",
       "    </tr>\n",
       "    <tr>\n",
       "      <th>Vintage</th>\n",
       "      <td>None</td>\n",
       "      <td>None</td>\n",
       "      <td>0.0</td>\n",
       "      <td>0.0</td>\n",
       "      <td>0.0</td>\n",
       "      <td>Int16</td>\n",
       "    </tr>\n",
       "    <tr>\n",
       "      <th>Vintage_S</th>\n",
       "      <td>Vintage의 범주형 변수</td>\n",
       "      <td>cat_proc</td>\n",
       "      <td>0.0</td>\n",
       "      <td>11504798.0</td>\n",
       "      <td>290.0</td>\n",
       "      <td>Categorical</td>\n",
       "    </tr>\n",
       "    <tr>\n",
       "      <th>id</th>\n",
       "      <td>None</td>\n",
       "      <td>None</td>\n",
       "      <td>0.0</td>\n",
       "      <td>0.0</td>\n",
       "      <td>0.0</td>\n",
       "      <td>Int32</td>\n",
       "    </tr>\n",
       "  </tbody>\n",
       "</table>\n",
       "</div>"
      ],
      "text/plain": [
       "                                                              Description  \\\n",
       "Age                                                                  None   \n",
       "Age_S                                                         Age의 범주형 변수   \n",
       "Annual_Premium                                                       None   \n",
       "Annual_Premium_S                                   Annual_Premium의 범주형 변수   \n",
       "Driving_License                                                      None   \n",
       "Gender                                                               None   \n",
       "Policy_Sales_Channel                                                 None   \n",
       "Policy_Sales_Channel_S                       Policy_Sales_Channel의 범주형 변수   \n",
       "Previously_Insured                                                   None   \n",
       "Region_Code                                                          None   \n",
       "Region_Code_S                                         Region_Code를 범주형 변수   \n",
       "Response                                                             None   \n",
       "VA_Age                  Vehicle_Age, Age_S 그리고 Policy_Sales_Channel_S를...   \n",
       "VD_PSC                  Vehicle_Damage, Previously_Insured, Policy_Sal...   \n",
       "VP                             Vehicle_Damage, Previously_Insured를 결합합니다.   \n",
       "VPA                     Vehicle_Damage, Previously_Insured, Annual_Pre...   \n",
       "VPAg                    Vehicle_Damage, Previously_Insured, Age_S를 결합합니다.   \n",
       "VPP                     Vehicle_Damage, Previously_Insured, Policy_Sal...   \n",
       "VPR                     Vehicle_Damage, Previously_Insured, Region_Cod...   \n",
       "VPV                     Vehicle_Damage, Previously_Insured, Vehicle_Ag...   \n",
       "VPVP                    Vehicle_Damage, Previously_Insured, Vehicle_Ag...   \n",
       "VPVi                    Vehicle_Damage, Previously_Insured, Vintage_S를...   \n",
       "Vehicle_Age                                                          None   \n",
       "Vehicle_Damage                                                       None   \n",
       "Vintage                                                              None   \n",
       "Vintage_S                                                 Vintage의 범주형 변수   \n",
       "id                                                                   None   \n",
       "\n",
       "                             src   na       count  n_unique  \\\n",
       "Age                         None  0.0         0.0       0.0   \n",
       "Age_S                   cat_proc  0.0  11504798.0      66.0   \n",
       "Annual_Premium              None  0.0         0.0       0.0   \n",
       "Annual_Premium_S        cat_proc  0.0  11504798.0   43119.0   \n",
       "Driving_License             None  0.0         0.0       0.0   \n",
       "Gender                      None  0.0         0.0       0.0   \n",
       "Policy_Sales_Channel        None  0.0         0.0       0.0   \n",
       "Policy_Sales_Channel_S  cat_proc  0.0  11504798.0     141.0   \n",
       "Previously_Insured          None  0.0         0.0       0.0   \n",
       "Region_Code                 None  0.0         0.0       0.0   \n",
       "Region_Code_S           cat_proc  0.0  11504798.0      53.0   \n",
       "Response                    None  0.0         0.0       0.0   \n",
       "VA_Age                   combine  0.0  11504798.0    5838.0   \n",
       "VD_PSC                   combine  0.0  11504798.0     455.0   \n",
       "VP                       combine  0.0  11504798.0       4.0   \n",
       "VPA                      combine  0.0  11504798.0  150474.0   \n",
       "VPAg                     combine  0.0  11504798.0     261.0   \n",
       "VPP                      combine  0.0  11504798.0     541.0   \n",
       "VPR                      combine  0.0  11504798.0     212.0   \n",
       "VPV                      combine  0.0  11504798.0      12.0   \n",
       "VPVP                     combine  0.0  11504798.0    1043.0   \n",
       "VPVi                     combine  0.0  11504798.0    1160.0   \n",
       "Vehicle_Age                 None  0.0         0.0       0.0   \n",
       "Vehicle_Damage              None  0.0         0.0       0.0   \n",
       "Vintage                     None  0.0         0.0       0.0   \n",
       "Vintage_S               cat_proc  0.0  11504798.0     290.0   \n",
       "id                          None  0.0         0.0       0.0   \n",
       "\n",
       "                                                   dtype  \n",
       "Age                                                 Int8  \n",
       "Age_S                                        Categorical  \n",
       "Annual_Premium                                   Float32  \n",
       "Annual_Premium_S                             Categorical  \n",
       "Driving_License                                     Int8  \n",
       "Gender                  Categorical(ordering='physical')  \n",
       "Policy_Sales_Channel    Categorical(ordering='physical')  \n",
       "Policy_Sales_Channel_S                       Categorical  \n",
       "Previously_Insured      Categorical(ordering='physical')  \n",
       "Region_Code             Categorical(ordering='physical')  \n",
       "Region_Code_S                                Categorical  \n",
       "Response                                            Int8  \n",
       "VA_Age                                       Categorical  \n",
       "VD_PSC                                       Categorical  \n",
       "VP                                           Categorical  \n",
       "VPA                                          Categorical  \n",
       "VPAg                                         Categorical  \n",
       "VPP                                          Categorical  \n",
       "VPR                                          Categorical  \n",
       "VPV                                          Categorical  \n",
       "VPVP                                         Categorical  \n",
       "VPVi                                         Categorical  \n",
       "Vehicle_Age             Categorical(ordering='physical')  \n",
       "Vehicle_Damage          Categorical(ordering='physical')  \n",
       "Vintage                                            Int16  \n",
       "Vintage_S                                    Categorical  \n",
       "id                                                 Int32  "
      ]
     },
     "execution_count": 3,
     "metadata": {},
     "output_type": "execute_result"
    }
   ],
   "source": [
    "data_path = 'data'\n",
    "files = {\n",
    "    k: os.path.join(p, f)\n",
    "    for k, p, f in [\n",
    "        ('train', data_path, 'train.csv'),\n",
    "        ('test', data_path, 'test.csv'),\n",
    "        ('org_train', data_path, 'train_org.csv'),\n",
    "        ('org_test', data_path, 'test_org.csv'),\n",
    "        ('train_parquet', data_path, 'train.parquet'),\n",
    "        ('org_pkl', data_path, 'org.pkl'),\n",
    "        ('test_parquet', data_path, 'test.parquet'),\n",
    "        ('var_pkl', data_path, 'var.pkl')\n",
    "    ]\n",
    "}\n",
    "df_train = pd.read_parquet(files['train_parquet']).set_index('id')\n",
    "sc = sgutil.SGCache('img', 'result')\n",
    "pd_procs = dproc.PD_Vars.load(os.path.join('data', 'vars') )\n",
    "target = 'Response'\n",
    "df_train, _ = pd_procs.procs_all(df_train)\n",
    "#del df\n",
    "pd_procs.df_var"
   ]
  },
  {
   "cell_type": "code",
   "execution_count": 4,
   "id": "8a530483-d73a-4e8c-8306-67cd00b0074f",
   "metadata": {},
   "outputs": [],
   "source": [
    "from sklearn.preprocessing import TargetEncoder\n",
    "from sklearn.model_selection import StratifiedKFold\n",
    "\n",
    "def tgt_proc(df):\n",
    "    tgt_list = ['VP', 'VPV', 'VPVi', 'VPA', 'VPAg', 'VPP', 'VPR', 'VPVP']\n",
    "    tgt_agg = {\n",
    "        i : list()\n",
    "        for i in tgt_list\n",
    "    }\n",
    "    skf = StratifiedKFold(n_splits=5, shuffle=True, random_state=123)\n",
    "    for train_idx, valid_idx in skf.split(df, df[target]):\n",
    "        df_cv_train, df_valid = df.iloc[train_idx], df.iloc[valid_idx]\n",
    "        for i in tgt_list:\n",
    "            tgt_agg[i].append(\n",
    "                pd.Series(\n",
    "                    TargetEncoder(random_state=123).fit(df_cv_train[[i]], df_cv_train[target]).transform(df_valid[[i]])[:, 0],\n",
    "                    index = df_valid[i].index\n",
    "                )\n",
    "            )\n",
    "    return {\n",
    "        i: pd.concat(tgt_agg[i])\n",
    "        for i in tgt_list\n",
    "    }\n",
    "tgt = sc.cache_result(\n",
    "    'tgt', lambda : tgt_proc(df_train)\n",
    ")\n",
    "df_train['D1'] = tgt['VPVi'] - tgt['VP']\n",
    "df_train['D2'] = tgt['VPA'] - tgt['VP']\n",
    "df_train['D3'] = tgt['VPAg'] - tgt['VP']\n",
    "df_train['D4'] = tgt['VPP'] - tgt['VP']\n",
    "df_train['D5'] = tgt['VPR'] - tgt['VP']\n",
    "df_train['D6'] = tgt['VPVP'] - tgt['VPV']"
   ]
  },
  {
   "cell_type": "code",
   "execution_count": 5,
   "id": "46a2a1db-7844-4378-89a8-5b8d7503f123",
   "metadata": {},
   "outputs": [],
   "source": [
    "from sklearn.model_selection import StratifiedKFold, train_test_split\n",
    "from sklearn.model_selection import StratifiedShuffleSplit\n",
    "from sklearn.linear_model import LogisticRegression\n",
    "from sklearn.metrics import roc_auc_score\n",
    "\n",
    "import lightgbm as lgb\n",
    "import xgboost as xgb\n",
    "import catboost as cb\n",
    "import sgml\n",
    "\n",
    "def get_validation_splitter(validation_fraction):\n",
    "    return lambda x: train_test_split(x, test_size=validation_fraction, stratify=x[target])\n",
    "\n",
    "config = {\n",
    "    'predict_func': lambda m, df, X: pd.Series(m.predict_proba(df[X])[:, 1], index=df.index),\n",
    "    'score_func': lambda df, prds: roc_auc_score(df[target].sort_index(), prds.sort_index()),\n",
    "    'validation_splitter': get_validation_splitter,\n",
    "    'progress_callback': sgml.ProgressCallBack(),\n",
    "    'y': target,\n",
    "}\n",
    "\n",
    "lgb_adapter = sgml.LGBMAdapter(model=lgb.LGBMClassifier)\n",
    "xgb_adapter = sgml.XGBAdapter(model=xgb.XGBClassifier) \n",
    "cb_adapter = sgml.CBAdapter(model=cb.CatBoostClassifier)\n",
    "lr_adapter = sgml.SklearnAdapter(LogisticRegression)\n",
    "\n",
    "\n",
    "def print_metrics(title, m):\n",
    "    print(\"roc_auc, {}: {:.5f}±{:.5f}\".format(\n",
    "        title, np.mean(m), np.std(m)\n",
    "    ))\n",
    "\n",
    "skf = StratifiedKFold(n_splits=5, shuffle=True, random_state=123)\n",
    "ss = StratifiedShuffleSplit(n_splits=1, train_size=0.8, random_state=123)"
   ]
  },
  {
   "cell_type": "code",
   "execution_count": 6,
   "id": "a78e3fed-7344-4bb8-8457-fafcf17f9643",
   "metadata": {},
   "outputs": [],
   "source": [
    "import tensorflow as tf\n",
    "import sgnn\n",
    "from functools import partial\n",
    "\n",
    "class ResponseModel(tf.keras.Model):\n",
    "    def __init__(self, emb_cols, cont_cols, f_size, left_layers, right_layers, top_layers , **argv):\n",
    "        super().__init__()\n",
    "        if emb_cols != None:\n",
    "            self.emb_layers = {\n",
    "                v: tf.keras.layers.Embedding(c, s, name=v) for v, c, s in emb_cols\n",
    "            }\n",
    "            self.emb_cc = tf.keras.layers.Concatenate(axis=-1)\n",
    "            if left_layers != None:\n",
    "                self.left_model = tf.keras.models.Sequential([\n",
    "                    tf.keras.layers.Dense(**params) for params in left_layers\n",
    "                ])\n",
    "                self.right_model = tf.keras.models.Sequential([\n",
    "                    tf.keras.layers.Dense(**params) for params in right_layers\n",
    "                ])\n",
    "                self.mul = tf.keras.layers.Multiply()\n",
    "                self.left_slice_layer_1 = tf.keras.layers.Lambda(lambda x: x[:, :f_size])\n",
    "                self.left_slice_layer_2 = tf.keras.layers.Lambda(lambda x: x[:, f_size:])\n",
    "                self.right_slice_layer_1 = tf.keras.layers.Lambda(lambda x: x[:, :f_size])\n",
    "                self.right_slice_layer_2 = tf.keras.layers.Lambda(lambda x: x[:, f_size:])\n",
    "            else:\n",
    "                self.left_model = None\n",
    "        else:\n",
    "            self.emb_layers = None\n",
    "        self.top_cc = tf.keras.layers.Concatenate(axis=-1)\n",
    "        self.top_model = tf.keras.models.Sequential([\n",
    "            tf.keras.layers.Dense(**params) for params in top_layers\n",
    "        ])\n",
    "        self.f_size = f_size\n",
    "        self.cont_cols = cont_cols\n",
    "        self.sigmoid = tf.keras.layers.Activation('sigmoid')\n",
    "\n",
    "    def __call__(self, X):\n",
    "        if self.emb_layers != None:\n",
    "            X_emb = self.emb_cc([tf.squeeze(v(X[k]), axis=-2) for k, v in self.emb_layers.items()])\n",
    "            if self.left_model !=None:\n",
    "                X_left = self.left_model(X_emb)\n",
    "                X_right = self.right_model(X_emb)\n",
    "                X_left_1 = self.left_slice_layer_1(X_left)\n",
    "                X_left_2 = self.left_slice_layer_2(X_left)\n",
    "                \n",
    "                X_right_1 = self.right_slice_layer_1(X_right)\n",
    "                X_right_2 = self.right_slice_layer_2(X_right)\n",
    "                X_mul = self.mul([X_left_1, X_right_1])\n",
    "                cc_list = [X_left_2, X_right_2, X_mul]\n",
    "            else:\n",
    "                cc_list = [X_emb]\n",
    "        else:\n",
    "            cc_list = list()\n",
    "        if self.cont_cols != None:\n",
    "            cc_list.append(X[self.cont_cols])\n",
    "        if len(cc_list) == 1:\n",
    "            return self.sigmoid(\n",
    "                self.top_model(cc_list[0])\n",
    "            )\n",
    "        else:\n",
    "            return self.sigmoid(\n",
    "                self.top_model(self.top_cc(cc_list))\n",
    "            )\n",
    "\n",
    "def to_tf_dataset(X, Y=None, sample_weights=None, cont=[], cat=[]):\n",
    "    d = {}\n",
    "    for i, n in enumerate(cat):\n",
    "        d[n] = np.expand_dims(X[:, i], axis=-1)\n",
    "    if len(cont) > 0:\n",
    "        d['Continous'] =  X[:, (i + 1):]\n",
    "    \n",
    "    if Y is None:\n",
    "        return tf.data.Dataset.from_tensor_slices(d)\n",
    "    else:\n",
    "        if type(Y) == pd.Series:\n",
    "            if sample_weights is None:\n",
    "                return tf.data.Dataset.from_tensor_slices((d, Y.values))\n",
    "            else:\n",
    "                return tf.data.Dataset.from_tensor_slices((d, Y.values, sample_weights.values))\n",
    "        else:\n",
    "            if sample_weights is None:\n",
    "                return tf.data.Dataset.from_tensor_slices((d, Y))\n",
    "            else:\n",
    "                return tf.data.Dataset.from_tensor_slices((d, Y, sample_weights))\n",
    "\n",
    "def nn_cat_param(df, name, size):\n",
    "    return name, len(df[name].cat.categories), size\n",
    "\n",
    "nn_adapter = sgnn.NNAdapter(\n",
    "    sgnn.NNClassifier, \n",
    "    to_tf_dataset=partial(to_tf_dataset, \n",
    "            cont=['mm__{}'.format(i) for i in ['Annual_Premium', 'Vintage', 'Age', 'Driving_License']], \n",
    "            cat= ['Annual_Premium_S', 'Vintage_S', 'Vehicle_Damage', 'Previously_Insured', 'Policy_Sales_Channel_S', 'Age_S', 'Vehicle_Age', 'Region_Code_S', \n",
    "                'Gender', 'VA_Age']\n",
    "    )\n",
    ")"
   ]
  },
  {
   "cell_type": "markdown",
   "id": "a2c3b813-722c-450f-acff-1572c38f8c80",
   "metadata": {},
   "source": [
    "# LR"
   ]
  },
  {
   "cell_type": "code",
   "execution_count": 7,
   "id": "97035c4e-86e6-4e56-84f1-ff1b07167b11",
   "metadata": {},
   "outputs": [],
   "source": [
    "lr = sgml.CVModel.load_or_create('result', 'LR', skf, config, lr_adapter)"
   ]
  },
  {
   "cell_type": "code",
   "execution_count": 8,
   "id": "4544e521-16c8-4430-b771-958f8a71271c",
   "metadata": {},
   "outputs": [
    {
     "data": {
      "text/plain": [
       "(0.8883048777582842, 0.8886630319500417)"
      ]
     },
     "execution_count": 8,
     "metadata": {},
     "output_type": "execute_result"
    }
   ],
   "source": [
    "hparams = {\n",
    "    'model_params': {},\n",
    "    'X_tgt': ['Annual_Premium_S'],\n",
    "    'X_mm': ['Annual_Premium', 'D1', 'D2', 'D3', 'D4', 'D5', 'D6'], \n",
    "    'X_ohe': ['Vehicle_Damage', 'Previously_Insured', 'Policy_Sales_Channel_S', 'Age_S', 'Vehicle_Age', 'Region_Code_S', \n",
    "              'Gender', 'Driving_License'],\n",
    "    'ohe': {'drop': 'first', 'handle_unknown': 'ignore'},\n",
    "}\n",
    "result = lr.cv(df_train, hparams, result_proc=sgml.m_learning_result)\n",
    "np.mean(result['valid_scores']), np.mean(result['train_scores'])"
   ]
  },
  {
   "cell_type": "markdown",
   "id": "f5eb854d-468c-4e27-95ba-16a65a680828",
   "metadata": {},
   "source": [
    "# CB1"
   ]
  },
  {
   "cell_type": "code",
   "execution_count": 19,
   "id": "05a78a01-4129-4313-8a8c-82fb35794cdd",
   "metadata": {},
   "outputs": [],
   "source": [
    "cb1 = sgml.CVModel.load_or_create('result', 'CB1', skf, config, cb_adapter)"
   ]
  },
  {
   "cell_type": "code",
   "execution_count": 21,
   "id": "84217af5-3bc2-46c6-93a8-6131512844fd",
   "metadata": {},
   "outputs": [
    {
     "data": {
      "application/vnd.jupyter.widget-view+json": {
       "model_id": "",
       "version_major": 2,
       "version_minor": 0
      },
      "text/plain": [
       "Fold:   0%|          | 0/1 [00:00<?, ?it/s]"
      ]
     },
     "metadata": {},
     "output_type": "display_data"
    },
    {
     "data": {
      "text/plain": [
       "([0.8989747273050509], [0.9113614402909787])"
      ]
     },
     "execution_count": 21,
     "metadata": {},
     "output_type": "execute_result"
    }
   ],
   "source": [
    "hparams = {\n",
    "    'model_params': {'n_estimators': 1000, 'learning_rate': 0.15, 'max_depth': 9},\n",
    "    'X_num': ['Annual_Premium', 'Age', 'D1', 'D2', 'D3', 'D4', 'D5', 'D6'], \n",
    "    'X_cat': ['Annual_Premium_S', 'Vehicle_Damage', 'Previously_Insured', 'Policy_Sales_Channel_S', 'Age_S', 'Vehicle_Age', 'Region_Code_S', \n",
    "              'Gender', 'Driving_License'],\n",
    "    'validation_fraction': 0.1\n",
    "}\n",
    "result = cb1.adhoc(df_train, ss, hparams, task_type='GPU')\n",
    "result['valid_scores'], result['train_scores']"
   ]
  },
  {
   "cell_type": "code",
   "execution_count": 29,
   "id": "f9a3aa39-660c-48c7-ac00-128cda54843c",
   "metadata": {},
   "outputs": [
    {
     "data": {
      "text/plain": [
       "988"
      ]
     },
     "execution_count": 29,
     "metadata": {},
     "output_type": "execute_result"
    }
   ],
   "source": [
    "result['model_result'][0]['valid_result'][('Logloss', 'validation')].idxmin()"
   ]
  },
  {
   "cell_type": "code",
   "execution_count": null,
   "id": "00a679c5-09da-4c8e-b75e-57c19e70af2f",
   "metadata": {},
   "outputs": [],
   "source": [
    "result = cb1.cv(df_train, hparams, cb_adapter, task_type='GPU')\n",
    "result['valid_scores'], result['train_scores']"
   ]
  },
  {
   "cell_type": "markdown",
   "id": "1edf882d-44cc-4873-ad5f-479ee9cd1371",
   "metadata": {},
   "source": [
    "# LGB1"
   ]
  },
  {
   "cell_type": "code",
   "execution_count": 7,
   "id": "31bb7fed-7e30-45c0-b084-00d5da724388",
   "metadata": {},
   "outputs": [],
   "source": [
    "lgb1 = sgml.CVModel.load_or_create('result', 'LGB1', skf, config, lgb_adapter)"
   ]
  },
  {
   "cell_type": "code",
   "execution_count": 18,
   "id": "94d1c1dc-abd8-45b3-86db-ae765abacf6b",
   "metadata": {},
   "outputs": [
    {
     "data": {
      "application/vnd.jupyter.widget-view+json": {
       "model_id": "2910051aecdd4891b6f66348cf1e74da",
       "version_major": 2,
       "version_minor": 0
      },
      "text/plain": [
       "Fold:   0%|          | 0/1 [00:00<?, ?it/s]"
      ]
     },
     "metadata": {},
     "output_type": "display_data"
    },
    {
     "data": {
      "application/vnd.jupyter.widget-view+json": {
       "model_id": "bff0c07b8dcd49f6b226dc7ac47e3ee0",
       "version_major": 2,
       "version_minor": 0
      },
      "text/plain": [
       "Round:   0%|          | 0/2000 [00:00<?, ?it/s]"
      ]
     },
     "metadata": {},
     "output_type": "display_data"
    },
    {
     "ename": "KeyboardInterrupt",
     "evalue": "",
     "output_type": "error",
     "traceback": [
      "\u001b[0;31m---------------------------------------------------------------------------\u001b[0m",
      "\u001b[0;31mKeyboardInterrupt\u001b[0m                         Traceback (most recent call last)",
      "Cell \u001b[0;32mIn[18], line 10\u001b[0m\n\u001b[1;32m      1\u001b[0m hparams \u001b[38;5;241m=\u001b[39m {\n\u001b[1;32m      2\u001b[0m     \u001b[38;5;124m'\u001b[39m\u001b[38;5;124mmodel_params\u001b[39m\u001b[38;5;124m'\u001b[39m: {\u001b[38;5;124m'\u001b[39m\u001b[38;5;124mn_estimators\u001b[39m\u001b[38;5;124m'\u001b[39m: \u001b[38;5;241m2000\u001b[39m, \u001b[38;5;124m'\u001b[39m\u001b[38;5;124mlearning_rate\u001b[39m\u001b[38;5;124m'\u001b[39m: \u001b[38;5;241m0.01\u001b[39m, \u001b[38;5;124m'\u001b[39m\u001b[38;5;124mnum_leaves\u001b[39m\u001b[38;5;124m'\u001b[39m: \u001b[38;5;241m2047\u001b[39m, \u001b[38;5;124m'\u001b[39m\u001b[38;5;124mmin_samples_leaf\u001b[39m\u001b[38;5;124m'\u001b[39m: \u001b[38;5;241m16\u001b[39m},\n\u001b[1;32m      3\u001b[0m     \u001b[38;5;124m'\u001b[39m\u001b[38;5;124mX_tgt\u001b[39m\u001b[38;5;124m'\u001b[39m: [\u001b[38;5;124m'\u001b[39m\u001b[38;5;124mAnnual_Premium_S\u001b[39m\u001b[38;5;124m'\u001b[39m],\n\u001b[0;32m   (...)\u001b[0m\n\u001b[1;32m      7\u001b[0m     \u001b[38;5;124m'\u001b[39m\u001b[38;5;124mvalidation_fraction\u001b[39m\u001b[38;5;124m'\u001b[39m: \u001b[38;5;241m0.1\u001b[39m\n\u001b[1;32m      8\u001b[0m }\n\u001b[0;32m---> 10\u001b[0m result \u001b[38;5;241m=\u001b[39m \u001b[43mlgb1\u001b[49m\u001b[38;5;241;43m.\u001b[39;49m\u001b[43madhoc\u001b[49m\u001b[43m(\u001b[49m\u001b[43mdf_train\u001b[49m\u001b[43m,\u001b[49m\u001b[43m \u001b[49m\u001b[43mss\u001b[49m\u001b[43m,\u001b[49m\u001b[43m \u001b[49m\u001b[43mhparams\u001b[49m\u001b[43m)\u001b[49m\n\u001b[1;32m     11\u001b[0m result[\u001b[38;5;124m'\u001b[39m\u001b[38;5;124mvalid_scores\u001b[39m\u001b[38;5;124m'\u001b[39m], result[\u001b[38;5;124m'\u001b[39m\u001b[38;5;124mtrain_scores\u001b[39m\u001b[38;5;124m'\u001b[39m]\n",
      "File \u001b[0;32m~/jnote/sunkusun9/kaggle/PGS4_ep7/sgml.py:760\u001b[0m, in \u001b[0;36mCVModel.adhoc\u001b[0;34m(self, df, sp, hparam, **argv)\u001b[0m\n\u001b[1;32m    759\u001b[0m \u001b[38;5;28;01mdef\u001b[39;00m \u001b[38;5;21madhoc\u001b[39m(\u001b[38;5;28mself\u001b[39m, df, sp, hparam, \u001b[38;5;241m*\u001b[39m\u001b[38;5;241m*\u001b[39margv):\n\u001b[0;32m--> 760\u001b[0m     \u001b[38;5;28;01mreturn\u001b[39;00m \u001b[43mcv\u001b[49m\u001b[43m(\u001b[49m\u001b[43mdf\u001b[49m\u001b[43m,\u001b[49m\u001b[43m \u001b[49m\u001b[43msp\u001b[49m\u001b[43m,\u001b[49m\u001b[43m \u001b[49m\u001b[43mhparam\u001b[49m\u001b[43m,\u001b[49m\u001b[43m \u001b[49m\u001b[38;5;28;43mself\u001b[39;49m\u001b[38;5;241;43m.\u001b[39;49m\u001b[43mconfig\u001b[49m\u001b[43m,\u001b[49m\u001b[43m \u001b[49m\u001b[38;5;28;43mself\u001b[39;49m\u001b[38;5;241;43m.\u001b[39;49m\u001b[43madapter\u001b[49m\u001b[43m,\u001b[49m\u001b[43m \u001b[49m\u001b[38;5;241;43m*\u001b[39;49m\u001b[38;5;241;43m*\u001b[39;49m\u001b[43margv\u001b[49m\u001b[43m)\u001b[49m\n",
      "File \u001b[0;32m~/jnote/sunkusun9/kaggle/PGS4_ep7/sgml.py:599\u001b[0m, in \u001b[0;36mcv\u001b[0;34m(df, sp, hparams, config, adapter, **argv)\u001b[0m\n\u001b[1;32m    597\u001b[0m \u001b[38;5;28;01mif\u001b[39;00m \u001b[38;5;124m'\u001b[39m\u001b[38;5;124mvalidation_splitter\u001b[39m\u001b[38;5;124m'\u001b[39m \u001b[38;5;129;01min\u001b[39;00m config:\n\u001b[1;32m    598\u001b[0m     argv[\u001b[38;5;124m'\u001b[39m\u001b[38;5;124mvalidation_splitter\u001b[39m\u001b[38;5;124m'\u001b[39m] \u001b[38;5;241m=\u001b[39m config\u001b[38;5;241m.\u001b[39mpop(\u001b[38;5;124m'\u001b[39m\u001b[38;5;124mvalidation_splitter\u001b[39m\u001b[38;5;124m'\u001b[39m)\n\u001b[0;32m--> 599\u001b[0m \u001b[38;5;28;01mreturn\u001b[39;00m \u001b[43mcv_model\u001b[49m\u001b[43m(\u001b[49m\n\u001b[1;32m    600\u001b[0m \u001b[43m    \u001b[49m\u001b[43msp\u001b[49m\u001b[38;5;241;43m=\u001b[39;49m\u001b[43msp\u001b[49m\u001b[43m,\u001b[49m\u001b[43m \u001b[49m\u001b[43mdf\u001b[49m\u001b[38;5;241;43m=\u001b[39;49m\u001b[43mdf\u001b[49m\u001b[43m,\u001b[49m\u001b[43m \u001b[49m\u001b[38;5;241;43m*\u001b[39;49m\u001b[38;5;241;43m*\u001b[39;49m\u001b[43mconfig\u001b[49m\u001b[43m,\u001b[49m\u001b[43m \u001b[49m\u001b[38;5;241;43m*\u001b[39;49m\u001b[38;5;241;43m*\u001b[39;49m\u001b[43madapter\u001b[49m\u001b[38;5;241;43m.\u001b[39;49m\u001b[43madapt\u001b[49m\u001b[43m(\u001b[49m\u001b[43mhparams\u001b[49m\u001b[43m,\u001b[49m\u001b[43m \u001b[49m\u001b[43mis_train\u001b[49m\u001b[38;5;241;43m=\u001b[39;49m\u001b[38;5;28;43;01mFalse\u001b[39;49;00m\u001b[43m,\u001b[49m\u001b[43m \u001b[49m\u001b[38;5;241;43m*\u001b[39;49m\u001b[38;5;241;43m*\u001b[39;49m\u001b[43margv\u001b[49m\u001b[43m)\u001b[49m\n\u001b[1;32m    601\u001b[0m \u001b[43m\u001b[49m\u001b[43m)\u001b[49m\n",
      "File \u001b[0;32m~/jnote/sunkusun9/kaggle/PGS4_ep7/sgml.py:572\u001b[0m, in \u001b[0;36mcv_model\u001b[0;34m(sp, model, model_params, df, X, y, predict_func, score_func, return_train_scores, preprocessor, result_proc, train_data_proc, train_params, sp_y, groups, target_func, target_invfunc, progress_callback)\u001b[0m\n\u001b[1;32m    570\u001b[0m \u001b[38;5;28;01mif\u001b[39;00m train_data_proc \u001b[38;5;241m!=\u001b[39m \u001b[38;5;28;01mNone\u001b[39;00m:\n\u001b[1;32m    571\u001b[0m     df_cv_train \u001b[38;5;241m=\u001b[39m train_data_proc(df_cv_train)\n\u001b[0;32m--> 572\u001b[0m result \u001b[38;5;241m=\u001b[39m \u001b[43mtrain_model\u001b[49m\u001b[43m(\u001b[49m\u001b[43mmodel\u001b[49m\u001b[43m,\u001b[49m\u001b[43m \u001b[49m\u001b[43mmodel_params\u001b[49m\u001b[43m,\u001b[49m\u001b[43m \u001b[49m\u001b[43mdf_cv_train\u001b[49m\u001b[43m,\u001b[49m\u001b[43m \u001b[49m\u001b[43mX\u001b[49m\u001b[43m,\u001b[49m\u001b[43m \u001b[49m\u001b[43my\u001b[49m\u001b[43m,\u001b[49m\u001b[43m \u001b[49m\u001b[43mpreprocessor\u001b[49m\u001b[38;5;241;43m=\u001b[39;49m\u001b[43mpreprocessor\u001b[49m\u001b[43m,\u001b[49m\u001b[43m \u001b[49m\u001b[43mtarget_func\u001b[49m\u001b[38;5;241;43m=\u001b[39;49m\u001b[43mtarget_func\u001b[49m\u001b[43m,\u001b[49m\u001b[43m \u001b[49m\u001b[38;5;241;43m*\u001b[39;49m\u001b[38;5;241;43m*\u001b[39;49m\u001b[43mtrain_params\u001b[49m\u001b[43m)\u001b[49m\n\u001b[1;32m    573\u001b[0m \u001b[38;5;28;01mif\u001b[39;00m \u001b[38;5;124m'\u001b[39m\u001b[38;5;124mpreprocessor\u001b[39m\u001b[38;5;124m'\u001b[39m \u001b[38;5;129;01min\u001b[39;00m result:\n\u001b[1;32m    574\u001b[0m     m \u001b[38;5;241m=\u001b[39m make_pipeline(result[\u001b[38;5;124m'\u001b[39m\u001b[38;5;124mpreprocessor\u001b[39m\u001b[38;5;124m'\u001b[39m], result[\u001b[38;5;124m'\u001b[39m\u001b[38;5;124mmodel\u001b[39m\u001b[38;5;124m'\u001b[39m])\n",
      "File \u001b[0;32m~/jnote/sunkusun9/kaggle/PGS4_ep7/sgml.py:454\u001b[0m, in \u001b[0;36mtrain_model\u001b[0;34m(model, model_params, df_train, X, y, valid_splitter, preprocessor, fit_params, valid_config_proc, target_func, **argv)\u001b[0m\n\u001b[1;32m    452\u001b[0m result[\u001b[38;5;124m'\u001b[39m\u001b[38;5;124mtarget_func\u001b[39m\u001b[38;5;124m'\u001b[39m] \u001b[38;5;241m=\u001b[39m target_func\n\u001b[1;32m    453\u001b[0m m \u001b[38;5;241m=\u001b[39m  model(\u001b[38;5;241m*\u001b[39m\u001b[38;5;241m*\u001b[39mmodel_params, \u001b[38;5;241m*\u001b[39m\u001b[38;5;241m*\u001b[39mmodel_params_2)\n\u001b[0;32m--> 454\u001b[0m \u001b[43mm\u001b[49m\u001b[38;5;241;43m.\u001b[39;49m\u001b[43mfit\u001b[49m\u001b[43m(\u001b[49m\u001b[43mX_train\u001b[49m\u001b[43m,\u001b[49m\u001b[43m \u001b[49m\u001b[43my_train\u001b[49m\u001b[43m,\u001b[49m\u001b[43m \u001b[49m\u001b[38;5;241;43m*\u001b[39;49m\u001b[38;5;241;43m*\u001b[39;49m\u001b[43mfit_params\u001b[49m\u001b[43m,\u001b[49m\u001b[43m \u001b[49m\u001b[38;5;241;43m*\u001b[39;49m\u001b[38;5;241;43m*\u001b[39;49m\u001b[43mfit_params_2\u001b[49m\u001b[43m)\u001b[49m\n\u001b[1;32m    455\u001b[0m \u001b[38;5;28;01mdel\u001b[39;00m X_train, y_train\n\u001b[1;32m    456\u001b[0m \u001b[38;5;28;01mif\u001b[39;00m df_valid \u001b[38;5;129;01mis\u001b[39;00m \u001b[38;5;129;01mnot\u001b[39;00m \u001b[38;5;28;01mNone\u001b[39;00m:\n",
      "File \u001b[0;32m~/python312/lib/python3.12/site-packages/lightgbm/sklearn.py:1421\u001b[0m, in \u001b[0;36mLGBMClassifier.fit\u001b[0;34m(self, X, y, sample_weight, init_score, eval_set, eval_names, eval_sample_weight, eval_class_weight, eval_init_score, eval_metric, feature_name, categorical_feature, callbacks, init_model)\u001b[0m\n\u001b[1;32m   1418\u001b[0m         \u001b[38;5;28;01melse\u001b[39;00m:\n\u001b[1;32m   1419\u001b[0m             valid_sets\u001b[38;5;241m.\u001b[39mappend((valid_x, \u001b[38;5;28mself\u001b[39m\u001b[38;5;241m.\u001b[39m_le\u001b[38;5;241m.\u001b[39mtransform(valid_y)))\n\u001b[0;32m-> 1421\u001b[0m \u001b[38;5;28;43msuper\u001b[39;49m\u001b[43m(\u001b[49m\u001b[43m)\u001b[49m\u001b[38;5;241;43m.\u001b[39;49m\u001b[43mfit\u001b[49m\u001b[43m(\u001b[49m\n\u001b[1;32m   1422\u001b[0m \u001b[43m    \u001b[49m\u001b[43mX\u001b[49m\u001b[43m,\u001b[49m\n\u001b[1;32m   1423\u001b[0m \u001b[43m    \u001b[49m\u001b[43m_y\u001b[49m\u001b[43m,\u001b[49m\n\u001b[1;32m   1424\u001b[0m \u001b[43m    \u001b[49m\u001b[43msample_weight\u001b[49m\u001b[38;5;241;43m=\u001b[39;49m\u001b[43msample_weight\u001b[49m\u001b[43m,\u001b[49m\n\u001b[1;32m   1425\u001b[0m \u001b[43m    \u001b[49m\u001b[43minit_score\u001b[49m\u001b[38;5;241;43m=\u001b[39;49m\u001b[43minit_score\u001b[49m\u001b[43m,\u001b[49m\n\u001b[1;32m   1426\u001b[0m \u001b[43m    \u001b[49m\u001b[43meval_set\u001b[49m\u001b[38;5;241;43m=\u001b[39;49m\u001b[43mvalid_sets\u001b[49m\u001b[43m,\u001b[49m\n\u001b[1;32m   1427\u001b[0m \u001b[43m    \u001b[49m\u001b[43meval_names\u001b[49m\u001b[38;5;241;43m=\u001b[39;49m\u001b[43meval_names\u001b[49m\u001b[43m,\u001b[49m\n\u001b[1;32m   1428\u001b[0m \u001b[43m    \u001b[49m\u001b[43meval_sample_weight\u001b[49m\u001b[38;5;241;43m=\u001b[39;49m\u001b[43meval_sample_weight\u001b[49m\u001b[43m,\u001b[49m\n\u001b[1;32m   1429\u001b[0m \u001b[43m    \u001b[49m\u001b[43meval_class_weight\u001b[49m\u001b[38;5;241;43m=\u001b[39;49m\u001b[43meval_class_weight\u001b[49m\u001b[43m,\u001b[49m\n\u001b[1;32m   1430\u001b[0m \u001b[43m    \u001b[49m\u001b[43meval_init_score\u001b[49m\u001b[38;5;241;43m=\u001b[39;49m\u001b[43meval_init_score\u001b[49m\u001b[43m,\u001b[49m\n\u001b[1;32m   1431\u001b[0m \u001b[43m    \u001b[49m\u001b[43meval_metric\u001b[49m\u001b[38;5;241;43m=\u001b[39;49m\u001b[43meval_metric\u001b[49m\u001b[43m,\u001b[49m\n\u001b[1;32m   1432\u001b[0m \u001b[43m    \u001b[49m\u001b[43mfeature_name\u001b[49m\u001b[38;5;241;43m=\u001b[39;49m\u001b[43mfeature_name\u001b[49m\u001b[43m,\u001b[49m\n\u001b[1;32m   1433\u001b[0m \u001b[43m    \u001b[49m\u001b[43mcategorical_feature\u001b[49m\u001b[38;5;241;43m=\u001b[39;49m\u001b[43mcategorical_feature\u001b[49m\u001b[43m,\u001b[49m\n\u001b[1;32m   1434\u001b[0m \u001b[43m    \u001b[49m\u001b[43mcallbacks\u001b[49m\u001b[38;5;241;43m=\u001b[39;49m\u001b[43mcallbacks\u001b[49m\u001b[43m,\u001b[49m\n\u001b[1;32m   1435\u001b[0m \u001b[43m    \u001b[49m\u001b[43minit_model\u001b[49m\u001b[38;5;241;43m=\u001b[39;49m\u001b[43minit_model\u001b[49m\u001b[43m,\u001b[49m\n\u001b[1;32m   1436\u001b[0m \u001b[43m\u001b[49m\u001b[43m)\u001b[49m\n\u001b[1;32m   1437\u001b[0m \u001b[38;5;28;01mreturn\u001b[39;00m \u001b[38;5;28mself\u001b[39m\n",
      "File \u001b[0;32m~/python312/lib/python3.12/site-packages/lightgbm/sklearn.py:1015\u001b[0m, in \u001b[0;36mLGBMModel.fit\u001b[0;34m(self, X, y, sample_weight, init_score, group, eval_set, eval_names, eval_sample_weight, eval_class_weight, eval_init_score, eval_group, eval_metric, feature_name, categorical_feature, callbacks, init_model)\u001b[0m\n\u001b[1;32m   1012\u001b[0m evals_result: _EvalResultDict \u001b[38;5;241m=\u001b[39m {}\n\u001b[1;32m   1013\u001b[0m callbacks\u001b[38;5;241m.\u001b[39mappend(record_evaluation(evals_result))\n\u001b[0;32m-> 1015\u001b[0m \u001b[38;5;28mself\u001b[39m\u001b[38;5;241m.\u001b[39m_Booster \u001b[38;5;241m=\u001b[39m \u001b[43mtrain\u001b[49m\u001b[43m(\u001b[49m\n\u001b[1;32m   1016\u001b[0m \u001b[43m    \u001b[49m\u001b[43mparams\u001b[49m\u001b[38;5;241;43m=\u001b[39;49m\u001b[43mparams\u001b[49m\u001b[43m,\u001b[49m\n\u001b[1;32m   1017\u001b[0m \u001b[43m    \u001b[49m\u001b[43mtrain_set\u001b[49m\u001b[38;5;241;43m=\u001b[39;49m\u001b[43mtrain_set\u001b[49m\u001b[43m,\u001b[49m\n\u001b[1;32m   1018\u001b[0m \u001b[43m    \u001b[49m\u001b[43mnum_boost_round\u001b[49m\u001b[38;5;241;43m=\u001b[39;49m\u001b[38;5;28;43mself\u001b[39;49m\u001b[38;5;241;43m.\u001b[39;49m\u001b[43mn_estimators\u001b[49m\u001b[43m,\u001b[49m\n\u001b[1;32m   1019\u001b[0m \u001b[43m    \u001b[49m\u001b[43mvalid_sets\u001b[49m\u001b[38;5;241;43m=\u001b[39;49m\u001b[43mvalid_sets\u001b[49m\u001b[43m,\u001b[49m\n\u001b[1;32m   1020\u001b[0m \u001b[43m    \u001b[49m\u001b[43mvalid_names\u001b[49m\u001b[38;5;241;43m=\u001b[39;49m\u001b[43meval_names\u001b[49m\u001b[43m,\u001b[49m\n\u001b[1;32m   1021\u001b[0m \u001b[43m    \u001b[49m\u001b[43mfeval\u001b[49m\u001b[38;5;241;43m=\u001b[39;49m\u001b[43meval_metrics_callable\u001b[49m\u001b[43m,\u001b[49m\u001b[43m  \u001b[49m\u001b[38;5;66;43;03m# type: ignore[arg-type]\u001b[39;49;00m\n\u001b[1;32m   1022\u001b[0m \u001b[43m    \u001b[49m\u001b[43minit_model\u001b[49m\u001b[38;5;241;43m=\u001b[39;49m\u001b[43minit_model\u001b[49m\u001b[43m,\u001b[49m\n\u001b[1;32m   1023\u001b[0m \u001b[43m    \u001b[49m\u001b[43mcallbacks\u001b[49m\u001b[38;5;241;43m=\u001b[39;49m\u001b[43mcallbacks\u001b[49m\u001b[43m,\u001b[49m\n\u001b[1;32m   1024\u001b[0m \u001b[43m\u001b[49m\u001b[43m)\u001b[49m\n\u001b[1;32m   1026\u001b[0m \u001b[38;5;66;03m# This populates the property self.n_features_, the number of features in the fitted model,\u001b[39;00m\n\u001b[1;32m   1027\u001b[0m \u001b[38;5;66;03m# and so should only be set after fitting.\u001b[39;00m\n\u001b[1;32m   1028\u001b[0m \u001b[38;5;66;03m#\u001b[39;00m\n\u001b[1;32m   1029\u001b[0m \u001b[38;5;66;03m# The related property self._n_features_in, which populates self.n_features_in_,\u001b[39;00m\n\u001b[1;32m   1030\u001b[0m \u001b[38;5;66;03m# is set BEFORE fitting.\u001b[39;00m\n\u001b[1;32m   1031\u001b[0m \u001b[38;5;28mself\u001b[39m\u001b[38;5;241m.\u001b[39m_n_features \u001b[38;5;241m=\u001b[39m \u001b[38;5;28mself\u001b[39m\u001b[38;5;241m.\u001b[39m_Booster\u001b[38;5;241m.\u001b[39mnum_feature()\n",
      "File \u001b[0;32m~/python312/lib/python3.12/site-packages/lightgbm/engine.py:361\u001b[0m, in \u001b[0;36mtrain\u001b[0;34m(params, train_set, num_boost_round, valid_sets, valid_names, feval, init_model, feature_name, categorical_feature, keep_training_booster, callbacks)\u001b[0m\n\u001b[1;32m    349\u001b[0m \u001b[38;5;28;01mfor\u001b[39;00m cb \u001b[38;5;129;01min\u001b[39;00m callbacks_before_iter:\n\u001b[1;32m    350\u001b[0m     cb(\n\u001b[1;32m    351\u001b[0m         callback\u001b[38;5;241m.\u001b[39mCallbackEnv(\n\u001b[1;32m    352\u001b[0m             model\u001b[38;5;241m=\u001b[39mbooster,\n\u001b[0;32m   (...)\u001b[0m\n\u001b[1;32m    358\u001b[0m         )\n\u001b[1;32m    359\u001b[0m     )\n\u001b[0;32m--> 361\u001b[0m \u001b[43mbooster\u001b[49m\u001b[38;5;241;43m.\u001b[39;49m\u001b[43mupdate\u001b[49m\u001b[43m(\u001b[49m\u001b[43mfobj\u001b[49m\u001b[38;5;241;43m=\u001b[39;49m\u001b[43mfobj\u001b[49m\u001b[43m)\u001b[49m\n\u001b[1;32m    363\u001b[0m evaluation_result_list: List[_LGBM_BoosterEvalMethodResultType] \u001b[38;5;241m=\u001b[39m []\n\u001b[1;32m    364\u001b[0m \u001b[38;5;66;03m# check evaluation result.\u001b[39;00m\n",
      "File \u001b[0;32m~/python312/lib/python3.12/site-packages/lightgbm/basic.py:4144\u001b[0m, in \u001b[0;36mBooster.update\u001b[0;34m(self, train_set, fobj)\u001b[0m\n\u001b[1;32m   4141\u001b[0m \u001b[38;5;28;01mif\u001b[39;00m \u001b[38;5;28mself\u001b[39m\u001b[38;5;241m.\u001b[39m__set_objective_to_none:\n\u001b[1;32m   4142\u001b[0m     \u001b[38;5;28;01mraise\u001b[39;00m LightGBMError(\u001b[38;5;124m\"\u001b[39m\u001b[38;5;124mCannot update due to null objective function.\u001b[39m\u001b[38;5;124m\"\u001b[39m)\n\u001b[1;32m   4143\u001b[0m _safe_call(\n\u001b[0;32m-> 4144\u001b[0m     \u001b[43m_LIB\u001b[49m\u001b[38;5;241;43m.\u001b[39;49m\u001b[43mLGBM_BoosterUpdateOneIter\u001b[49m\u001b[43m(\u001b[49m\n\u001b[1;32m   4145\u001b[0m \u001b[43m        \u001b[49m\u001b[38;5;28;43mself\u001b[39;49m\u001b[38;5;241;43m.\u001b[39;49m\u001b[43m_handle\u001b[49m\u001b[43m,\u001b[49m\n\u001b[1;32m   4146\u001b[0m \u001b[43m        \u001b[49m\u001b[43mctypes\u001b[49m\u001b[38;5;241;43m.\u001b[39;49m\u001b[43mbyref\u001b[49m\u001b[43m(\u001b[49m\u001b[43mis_finished\u001b[49m\u001b[43m)\u001b[49m\u001b[43m,\u001b[49m\n\u001b[1;32m   4147\u001b[0m \u001b[43m    \u001b[49m\u001b[43m)\u001b[49m\n\u001b[1;32m   4148\u001b[0m )\n\u001b[1;32m   4149\u001b[0m \u001b[38;5;28mself\u001b[39m\u001b[38;5;241m.\u001b[39m__is_predicted_cur_iter \u001b[38;5;241m=\u001b[39m [\u001b[38;5;28;01mFalse\u001b[39;00m \u001b[38;5;28;01mfor\u001b[39;00m _ \u001b[38;5;129;01min\u001b[39;00m \u001b[38;5;28mrange\u001b[39m(\u001b[38;5;28mself\u001b[39m\u001b[38;5;241m.\u001b[39m__num_dataset)]\n\u001b[1;32m   4150\u001b[0m \u001b[38;5;28;01mreturn\u001b[39;00m is_finished\u001b[38;5;241m.\u001b[39mvalue \u001b[38;5;241m==\u001b[39m \u001b[38;5;241m1\u001b[39m\n",
      "\u001b[0;31mKeyboardInterrupt\u001b[0m: "
     ]
    }
   ],
   "source": [
    "hparams = {\n",
    "    'model_params': {'n_estimators': 2000, 'learning_rate': 0.01, 'num_leaves': 2047, 'min_samples_leaf': 16},\n",
    "    'X_tgt': ['Annual_Premium_S'],\n",
    "    'X_num': ['Annual_Premium', 'Age', 'D1', 'D2', 'D3', 'D4', 'D5', 'D6'], \n",
    "    'X_cat': ['Vehicle_Damage', 'Previously_Insured', 'Policy_Sales_Channel_S', 'Age_S', 'Vehicle_Age', 'Region_Code_S', \n",
    "              'Gender', 'Driving_License'],\n",
    "    'validation_fraction': 0.1\n",
    "}\n",
    "\n",
    "result = lgb1.adhoc(df_train, ss, hparams)\n",
    "result['valid_scores'], result['train_scores']"
   ]
  },
  {
   "cell_type": "markdown",
   "id": "1c3d31b9-842d-4382-8f15-4a45c91174be",
   "metadata": {},
   "source": [
    "# XGB1"
   ]
  },
  {
   "cell_type": "code",
   "execution_count": null,
   "id": "6bc3ac04-a970-47f5-9fce-24da4b62176d",
   "metadata": {},
   "outputs": [],
   "source": [
    "xgb1 = sgml.CVModel.load_or_create('result', 'XGB1', skf, config, xgb_adapter)"
   ]
  },
  {
   "cell_type": "code",
   "execution_count": null,
   "id": "10223464-b550-49dd-9a8e-d89cba9b25a2",
   "metadata": {},
   "outputs": [],
   "source": [
    "hparams = {\n",
    "    'model_params': {'n_estimators': 1000, 'learning_rate': 0.05, 'max_depth': 8},\n",
    "    'X_tgt': ['VP', 'VA_Age', 'Annual_Premium_S'],\n",
    "    'X_num': ['Annual_Premium', 'Vintage', 'Age'], \n",
    "    'X_ohe': ['Vintage_S', 'Vehicle_Damage', 'Previously_Insured', 'Policy_Sales_Channel_S', 'Age_S', 'Vehicle_Age', 'Region_Code_S', \n",
    "              'Gender', 'Driving_License'],\n",
    "    'ohe': {'drop': 'if_binary'}\n",
    "}\n",
    "\n",
    "result = lgb1.cv(df_train, hparams, xgb_adapter, device='cuda')\n",
    "result['valid_scores'], result['train_scores']"
   ]
  },
  {
   "cell_type": "markdown",
   "id": "6c222075-889a-44fb-8dfc-049a923d8e8d",
   "metadata": {},
   "source": [
    "# NN1"
   ]
  },
  {
   "cell_type": "code",
   "execution_count": 7,
   "id": "c75d8001-6c04-4975-a7aa-3acabf1f2f27",
   "metadata": {},
   "outputs": [],
   "source": [
    "nn = sgml.CVModel.load_or_create('result', 'NN1', skf, config, nn_adapter)"
   ]
  },
  {
   "cell_type": "code",
   "execution_count": 11,
   "id": "0887ab7c-23f0-4233-ae1f-11d5443f8a3a",
   "metadata": {},
   "outputs": [
    {
     "data": {
      "application/vnd.jupyter.widget-view+json": {
       "model_id": "",
       "version_major": 2,
       "version_minor": 0
      },
      "text/plain": [
       "Epoch:   0%|          | 0/5 [00:00<?, ?it/s]"
      ]
     },
     "metadata": {},
     "output_type": "display_data"
    },
    {
     "data": {
      "application/vnd.jupyter.widget-view+json": {
       "model_id": "",
       "version_major": 2,
       "version_minor": 0
      },
      "text/plain": [
       "Step:   0%|          | 0/17977 [00:00<?, ?it/s]"
      ]
     },
     "metadata": {},
     "output_type": "display_data"
    },
    {
     "data": {
      "application/vnd.jupyter.widget-view+json": {
       "model_id": "",
       "version_major": 2,
       "version_minor": 0
      },
      "text/plain": [
       "Epoch:   0%|          | 0/5 [00:00<?, ?it/s]"
      ]
     },
     "metadata": {},
     "output_type": "display_data"
    },
    {
     "data": {
      "application/vnd.jupyter.widget-view+json": {
       "model_id": "",
       "version_major": 2,
       "version_minor": 0
      },
      "text/plain": [
       "Step:   0%|          | 0/17977 [00:00<?, ?it/s]"
      ]
     },
     "metadata": {},
     "output_type": "display_data"
    },
    {
     "data": {
      "application/vnd.jupyter.widget-view+json": {
       "model_id": "",
       "version_major": 2,
       "version_minor": 0
      },
      "text/plain": [
       "Epoch:   0%|          | 0/5 [00:00<?, ?it/s]"
      ]
     },
     "metadata": {},
     "output_type": "display_data"
    },
    {
     "data": {
      "application/vnd.jupyter.widget-view+json": {
       "model_id": "",
       "version_major": 2,
       "version_minor": 0
      },
      "text/plain": [
       "Step:   0%|          | 0/17977 [00:00<?, ?it/s]"
      ]
     },
     "metadata": {},
     "output_type": "display_data"
    },
    {
     "data": {
      "application/vnd.jupyter.widget-view+json": {
       "model_id": "",
       "version_major": 2,
       "version_minor": 0
      },
      "text/plain": [
       "Epoch:   0%|          | 0/5 [00:00<?, ?it/s]"
      ]
     },
     "metadata": {},
     "output_type": "display_data"
    },
    {
     "data": {
      "application/vnd.jupyter.widget-view+json": {
       "model_id": "",
       "version_major": 2,
       "version_minor": 0
      },
      "text/plain": [
       "Step:   0%|          | 0/17977 [00:00<?, ?it/s]"
      ]
     },
     "metadata": {},
     "output_type": "display_data"
    },
    {
     "data": {
      "application/vnd.jupyter.widget-view+json": {
       "model_id": "",
       "version_major": 2,
       "version_minor": 0
      },
      "text/plain": [
       "Epoch:   0%|          | 0/5 [00:00<?, ?it/s]"
      ]
     },
     "metadata": {},
     "output_type": "display_data"
    },
    {
     "data": {
      "application/vnd.jupyter.widget-view+json": {
       "model_id": "",
       "version_major": 2,
       "version_minor": 0
      },
      "text/plain": [
       "Step:   0%|          | 0/17977 [00:00<?, ?it/s]"
      ]
     },
     "metadata": {},
     "output_type": "display_data"
    },
    {
     "data": {
      "text/plain": [
       "(0.8906805650521935, 0.8994111951152824)"
      ]
     },
     "execution_count": 11,
     "metadata": {},
     "output_type": "execute_result"
    }
   ],
   "source": [
    "X_nn_emb = [\n",
    "    ('Annual_Premium_S', 3), ('Vintage_S', 2), ('Vehicle_Damage', 1), ('Previously_Insured', 1), ('Policy_Sales_Channel_S', 2), ('Age_S', 2), ('Vehicle_Age', 1), ('Region_Code_S', 2), \n",
    "    ('Gender', 1), ('VA_Age', 4)\n",
    "]\n",
    "hparams = {\n",
    "    'model_params': {\n",
    "        'model': ResponseModel,\n",
    "        'model_params': {\n",
    "            'emb_cols': [\n",
    "                nn_cat_param(df_train, v, n) for v, n in X_nn_emb\n",
    "            ], \n",
    "            'cont_cols':  'Continous',\n",
    "            'f_size':  16, \n",
    "            'left_layers': [\n",
    "                {'units': 32, 'activation': 'relu', 'kernel_initializer': 'he_uniform'}, \n",
    "                {'units': 32, 'activation': 'relu', 'kernel_initializer': 'he_uniform'}, \n",
    "                {'units': 32, 'kernel_initializer': 'glorot_uniform'}]\n",
    "            , \n",
    "            'right_layers': [\n",
    "                {'units': 32, 'activation': 'relu', 'kernel_initializer': 'he_uniform'}, \n",
    "                {'units': 32, 'activation': 'relu', 'kernel_initializer': 'he_uniform'}, \n",
    "                {'units': 16, 'kernel_initializer': 'glorot_uniform'}\n",
    "            ], \n",
    "            'top_layers': [\n",
    "                {'units': 32, 'activation': 'relu', 'kernel_initializer': 'he_uniform'}, \n",
    "                {'units': 16, 'activation': 'relu', 'kernel_initializer': 'he_uniform'}, \n",
    "                {'units': 1, 'kernel_initializer': 'glorot_uniform'}\n",
    "            ]\n",
    "        },\n",
    "        'batch_size': 512,\n",
    "        'shuffle_size': 204800,\n",
    "        'optimizer': ('Adam', {'learning_rate': 0.0005}),\n",
    "        'epochs': 5\n",
    "    },\n",
    "    'X_mm': ['Annual_Premium', 'Vintage', 'Age', 'Driving_License'], \n",
    "    'X_cat': ['Annual_Premium_S', 'Vintage_S', 'Vehicle_Damage', 'Previously_Insured', 'Policy_Sales_Channel_S', 'Age_S', 'Vehicle_Age', 'Region_Code_S', \n",
    "              'Gender', 'VA_Age'],\n",
    "}\n",
    "result = nn.cv(df_train, hparams, progress_callback=sgml.ProgressCallBack())\n",
    "np.mean(result['valid_scores']), np.mean(result['train_scores'])"
   ]
  },
  {
   "cell_type": "code",
   "execution_count": 10,
   "id": "9955f73a-6fa0-464a-bdc5-83cac1802e18",
   "metadata": {},
   "outputs": [
    {
     "data": {
      "text/plain": [
       "[0.8904762718319137,\n",
       " 0.8905780191107577,\n",
       " 0.8906179017310272,\n",
       " 0.8906771654051973,\n",
       " 0.890385738839719]"
      ]
     },
     "execution_count": 10,
     "metadata": {},
     "output_type": "execute_result"
    }
   ],
   "source": [
    "result['valid_scores']"
   ]
  },
  {
   "cell_type": "code",
   "execution_count": null,
   "id": "bcbb2039-c6d8-4bc8-a718-204f7d0483a0",
   "metadata": {},
   "outputs": [],
   "source": []
  }
 ],
 "metadata": {
  "kernelspec": {
   "display_name": "Python 3 (ipykernel)",
   "language": "python",
   "name": "python3"
  },
  "language_info": {
   "codemirror_mode": {
    "name": "ipython",
    "version": 3
   },
   "file_extension": ".py",
   "mimetype": "text/x-python",
   "name": "python",
   "nbconvert_exporter": "python",
   "pygments_lexer": "ipython3",
   "version": "3.12.6"
  }
 },
 "nbformat": 4,
 "nbformat_minor": 5
}
