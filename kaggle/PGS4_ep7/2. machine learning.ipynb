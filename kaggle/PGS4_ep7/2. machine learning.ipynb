{
 "cells": [
  {
   "cell_type": "code",
   "execution_count": 1,
   "id": "984525dc-179d-4884-90f8-ecce509356f9",
   "metadata": {},
   "outputs": [
    {
     "name": "stderr",
     "output_type": "stream",
     "text": [
      "2024-12-05 07:34:51.716508: E external/local_xla/xla/stream_executor/cuda/cuda_fft.cc:477] Unable to register cuFFT factory: Attempting to register factory for plugin cuFFT when one has already been registered\n",
      "WARNING: All log messages before absl::InitializeLog() is called are written to STDERR\n",
      "E0000 00:00:1733384091.813601   58205 cuda_dnn.cc:8310] Unable to register cuDNN factory: Attempting to register factory for plugin cuDNN when one has already been registered\n",
      "E0000 00:00:1733384091.838255   58205 cuda_blas.cc:1418] Unable to register cuBLAS factory: Attempting to register factory for plugin cuBLAS when one has already been registered\n",
      "2024-12-05 07:34:52.098142: I tensorflow/core/platform/cpu_feature_guard.cc:210] This TensorFlow binary is optimized to use available CPU instructions in performance-critical operations.\n",
      "To enable the following instructions: AVX2 FMA, in other operations, rebuild TensorFlow with the appropriate compiler flags.\n"
     ]
    }
   ],
   "source": [
    "import os\n",
    "import pandas as pd\n",
    "import numpy as np\n",
    "from functools import partial\n",
    "import dproc, sgutil, sgnn, sgml\n",
    "\n",
    "import seaborn as sns\n",
    "import matplotlib.pyplot as plt\n",
    "\n",
    "import shap"
   ]
  },
  {
   "cell_type": "code",
   "execution_count": 2,
   "id": "6ec646f1-9210-4e6f-9e68-3b5b032eaaaa",
   "metadata": {},
   "outputs": [
    {
     "data": {
      "text/html": [
       "<div>\n",
       "<style scoped>\n",
       "    .dataframe tbody tr th:only-of-type {\n",
       "        vertical-align: middle;\n",
       "    }\n",
       "\n",
       "    .dataframe tbody tr th {\n",
       "        vertical-align: top;\n",
       "    }\n",
       "\n",
       "    .dataframe thead th {\n",
       "        text-align: right;\n",
       "    }\n",
       "</style>\n",
       "<table border=\"1\" class=\"dataframe\">\n",
       "  <thead>\n",
       "    <tr style=\"text-align: right;\">\n",
       "      <th></th>\n",
       "      <th>Description</th>\n",
       "      <th>src</th>\n",
       "      <th>min</th>\n",
       "      <th>max</th>\n",
       "      <th>na</th>\n",
       "      <th>count</th>\n",
       "      <th>n_unique</th>\n",
       "      <th>dtype</th>\n",
       "      <th>f32</th>\n",
       "      <th>i32</th>\n",
       "      <th>i16</th>\n",
       "      <th>i8</th>\n",
       "    </tr>\n",
       "  </thead>\n",
       "  <tbody>\n",
       "    <tr>\n",
       "      <th>Age</th>\n",
       "      <td>None</td>\n",
       "      <td>None</td>\n",
       "      <td>None</td>\n",
       "      <td>None</td>\n",
       "      <td>0.0</td>\n",
       "      <td>0.0</td>\n",
       "      <td>0.0</td>\n",
       "      <td>Int8</td>\n",
       "      <td>0.0</td>\n",
       "      <td>0.0</td>\n",
       "      <td>0.0</td>\n",
       "      <td>0.0</td>\n",
       "    </tr>\n",
       "    <tr>\n",
       "      <th>Age_S</th>\n",
       "      <td>Age의 범주형 변수</td>\n",
       "      <td>cat_proc</td>\n",
       "      <td>20</td>\n",
       "      <td>85</td>\n",
       "      <td>0.0</td>\n",
       "      <td>11504798.0</td>\n",
       "      <td>66.0</td>\n",
       "      <td>Categorical</td>\n",
       "      <td>None</td>\n",
       "      <td>None</td>\n",
       "      <td>None</td>\n",
       "      <td>None</td>\n",
       "    </tr>\n",
       "    <tr>\n",
       "      <th>Annual_Premium</th>\n",
       "      <td>None</td>\n",
       "      <td>None</td>\n",
       "      <td>None</td>\n",
       "      <td>None</td>\n",
       "      <td>0.0</td>\n",
       "      <td>0.0</td>\n",
       "      <td>0.0</td>\n",
       "      <td>Float32</td>\n",
       "      <td>0.0</td>\n",
       "      <td>0.0</td>\n",
       "      <td>0.0</td>\n",
       "      <td>0.0</td>\n",
       "    </tr>\n",
       "    <tr>\n",
       "      <th>Annual_Premium_S</th>\n",
       "      <td>Annual_Premium의 범주형 변수</td>\n",
       "      <td>cat_proc</td>\n",
       "      <td>2630.0</td>\n",
       "      <td>540165.0</td>\n",
       "      <td>0.0</td>\n",
       "      <td>11504798.0</td>\n",
       "      <td>43119.0</td>\n",
       "      <td>Categorical</td>\n",
       "      <td>None</td>\n",
       "      <td>None</td>\n",
       "      <td>None</td>\n",
       "      <td>None</td>\n",
       "    </tr>\n",
       "    <tr>\n",
       "      <th>Driving_License</th>\n",
       "      <td>None</td>\n",
       "      <td>None</td>\n",
       "      <td>None</td>\n",
       "      <td>None</td>\n",
       "      <td>0.0</td>\n",
       "      <td>0.0</td>\n",
       "      <td>0.0</td>\n",
       "      <td>Int8</td>\n",
       "      <td>0.0</td>\n",
       "      <td>0.0</td>\n",
       "      <td>0.0</td>\n",
       "      <td>0.0</td>\n",
       "    </tr>\n",
       "    <tr>\n",
       "      <th>Gender</th>\n",
       "      <td>None</td>\n",
       "      <td>None</td>\n",
       "      <td>None</td>\n",
       "      <td>None</td>\n",
       "      <td>0.0</td>\n",
       "      <td>0.0</td>\n",
       "      <td>0.0</td>\n",
       "      <td>Categorical(ordering='physical')</td>\n",
       "      <td>0.0</td>\n",
       "      <td>0.0</td>\n",
       "      <td>0.0</td>\n",
       "      <td>0.0</td>\n",
       "    </tr>\n",
       "    <tr>\n",
       "      <th>Policy_Sales_Channel</th>\n",
       "      <td>None</td>\n",
       "      <td>None</td>\n",
       "      <td>None</td>\n",
       "      <td>None</td>\n",
       "      <td>0.0</td>\n",
       "      <td>0.0</td>\n",
       "      <td>0.0</td>\n",
       "      <td>Categorical(ordering='physical')</td>\n",
       "      <td>0.0</td>\n",
       "      <td>0.0</td>\n",
       "      <td>0.0</td>\n",
       "      <td>0.0</td>\n",
       "    </tr>\n",
       "    <tr>\n",
       "      <th>Policy_Sales_Channel_S</th>\n",
       "      <td>Policy_Sales_Channel의 범주형 변수</td>\n",
       "      <td>cat_proc</td>\n",
       "      <td>None</td>\n",
       "      <td>None</td>\n",
       "      <td>0.0</td>\n",
       "      <td>11504798.0</td>\n",
       "      <td>141.0</td>\n",
       "      <td>Categorical</td>\n",
       "      <td>None</td>\n",
       "      <td>None</td>\n",
       "      <td>None</td>\n",
       "      <td>None</td>\n",
       "    </tr>\n",
       "    <tr>\n",
       "      <th>Previously_Insured</th>\n",
       "      <td>None</td>\n",
       "      <td>None</td>\n",
       "      <td>None</td>\n",
       "      <td>None</td>\n",
       "      <td>0.0</td>\n",
       "      <td>0.0</td>\n",
       "      <td>0.0</td>\n",
       "      <td>Categorical(ordering='physical')</td>\n",
       "      <td>0.0</td>\n",
       "      <td>0.0</td>\n",
       "      <td>0.0</td>\n",
       "      <td>0.0</td>\n",
       "    </tr>\n",
       "    <tr>\n",
       "      <th>Region_Code</th>\n",
       "      <td>None</td>\n",
       "      <td>None</td>\n",
       "      <td>None</td>\n",
       "      <td>None</td>\n",
       "      <td>0.0</td>\n",
       "      <td>0.0</td>\n",
       "      <td>0.0</td>\n",
       "      <td>Categorical(ordering='physical')</td>\n",
       "      <td>0.0</td>\n",
       "      <td>0.0</td>\n",
       "      <td>0.0</td>\n",
       "      <td>0.0</td>\n",
       "    </tr>\n",
       "    <tr>\n",
       "      <th>Region_Code_S</th>\n",
       "      <td>Region_Code를 범주형 변수</td>\n",
       "      <td>cat_proc</td>\n",
       "      <td>None</td>\n",
       "      <td>None</td>\n",
       "      <td>0.0</td>\n",
       "      <td>11504798.0</td>\n",
       "      <td>53.0</td>\n",
       "      <td>Categorical</td>\n",
       "      <td>None</td>\n",
       "      <td>None</td>\n",
       "      <td>None</td>\n",
       "      <td>None</td>\n",
       "    </tr>\n",
       "    <tr>\n",
       "      <th>Response</th>\n",
       "      <td>None</td>\n",
       "      <td>None</td>\n",
       "      <td>None</td>\n",
       "      <td>None</td>\n",
       "      <td>0.0</td>\n",
       "      <td>0.0</td>\n",
       "      <td>0.0</td>\n",
       "      <td>Int8</td>\n",
       "      <td>0.0</td>\n",
       "      <td>0.0</td>\n",
       "      <td>0.0</td>\n",
       "      <td>0.0</td>\n",
       "    </tr>\n",
       "    <tr>\n",
       "      <th>VA_Age</th>\n",
       "      <td>Vehicle_Age, Age_S 그리고 Policy_Sales_Channel_S를...</td>\n",
       "      <td>combine</td>\n",
       "      <td>None</td>\n",
       "      <td>None</td>\n",
       "      <td>0.0</td>\n",
       "      <td>11504798.0</td>\n",
       "      <td>5838.0</td>\n",
       "      <td>Categorical</td>\n",
       "      <td>None</td>\n",
       "      <td>None</td>\n",
       "      <td>None</td>\n",
       "      <td>None</td>\n",
       "    </tr>\n",
       "    <tr>\n",
       "      <th>VP</th>\n",
       "      <td>Vehicle_Damage와 Previously_Insured를 결합합니다.</td>\n",
       "      <td>combine</td>\n",
       "      <td>None</td>\n",
       "      <td>None</td>\n",
       "      <td>0.0</td>\n",
       "      <td>11504798.0</td>\n",
       "      <td>4.0</td>\n",
       "      <td>Categorical</td>\n",
       "      <td>None</td>\n",
       "      <td>None</td>\n",
       "      <td>None</td>\n",
       "      <td>None</td>\n",
       "    </tr>\n",
       "    <tr>\n",
       "      <th>Vehicle_Age</th>\n",
       "      <td>None</td>\n",
       "      <td>None</td>\n",
       "      <td>None</td>\n",
       "      <td>None</td>\n",
       "      <td>0.0</td>\n",
       "      <td>0.0</td>\n",
       "      <td>0.0</td>\n",
       "      <td>Categorical(ordering='physical')</td>\n",
       "      <td>0.0</td>\n",
       "      <td>0.0</td>\n",
       "      <td>0.0</td>\n",
       "      <td>0.0</td>\n",
       "    </tr>\n",
       "    <tr>\n",
       "      <th>Vehicle_Damage</th>\n",
       "      <td>None</td>\n",
       "      <td>None</td>\n",
       "      <td>None</td>\n",
       "      <td>None</td>\n",
       "      <td>0.0</td>\n",
       "      <td>0.0</td>\n",
       "      <td>0.0</td>\n",
       "      <td>Categorical(ordering='physical')</td>\n",
       "      <td>0.0</td>\n",
       "      <td>0.0</td>\n",
       "      <td>0.0</td>\n",
       "      <td>0.0</td>\n",
       "    </tr>\n",
       "    <tr>\n",
       "      <th>Vintage</th>\n",
       "      <td>None</td>\n",
       "      <td>None</td>\n",
       "      <td>None</td>\n",
       "      <td>None</td>\n",
       "      <td>0.0</td>\n",
       "      <td>0.0</td>\n",
       "      <td>0.0</td>\n",
       "      <td>Int16</td>\n",
       "      <td>0.0</td>\n",
       "      <td>0.0</td>\n",
       "      <td>0.0</td>\n",
       "      <td>0.0</td>\n",
       "    </tr>\n",
       "    <tr>\n",
       "      <th>Vintage_S</th>\n",
       "      <td>Vintage의 범주형 변수</td>\n",
       "      <td>cat_proc</td>\n",
       "      <td>10</td>\n",
       "      <td>299</td>\n",
       "      <td>0.0</td>\n",
       "      <td>11504798.0</td>\n",
       "      <td>290.0</td>\n",
       "      <td>Categorical</td>\n",
       "      <td>None</td>\n",
       "      <td>None</td>\n",
       "      <td>None</td>\n",
       "      <td>None</td>\n",
       "    </tr>\n",
       "    <tr>\n",
       "      <th>id</th>\n",
       "      <td>None</td>\n",
       "      <td>None</td>\n",
       "      <td>None</td>\n",
       "      <td>None</td>\n",
       "      <td>0.0</td>\n",
       "      <td>0.0</td>\n",
       "      <td>0.0</td>\n",
       "      <td>Int32</td>\n",
       "      <td>0.0</td>\n",
       "      <td>0.0</td>\n",
       "      <td>0.0</td>\n",
       "      <td>0.0</td>\n",
       "    </tr>\n",
       "  </tbody>\n",
       "</table>\n",
       "</div>"
      ],
      "text/plain": [
       "                                                              Description  \\\n",
       "Age                                                                  None   \n",
       "Age_S                                                         Age의 범주형 변수   \n",
       "Annual_Premium                                                       None   \n",
       "Annual_Premium_S                                   Annual_Premium의 범주형 변수   \n",
       "Driving_License                                                      None   \n",
       "Gender                                                               None   \n",
       "Policy_Sales_Channel                                                 None   \n",
       "Policy_Sales_Channel_S                       Policy_Sales_Channel의 범주형 변수   \n",
       "Previously_Insured                                                   None   \n",
       "Region_Code                                                          None   \n",
       "Region_Code_S                                         Region_Code를 범주형 변수   \n",
       "Response                                                             None   \n",
       "VA_Age                  Vehicle_Age, Age_S 그리고 Policy_Sales_Channel_S를...   \n",
       "VP                             Vehicle_Damage와 Previously_Insured를 결합합니다.   \n",
       "Vehicle_Age                                                          None   \n",
       "Vehicle_Damage                                                       None   \n",
       "Vintage                                                              None   \n",
       "Vintage_S                                                 Vintage의 범주형 변수   \n",
       "id                                                                   None   \n",
       "\n",
       "                             src     min       max   na       count  n_unique  \\\n",
       "Age                         None    None      None  0.0         0.0       0.0   \n",
       "Age_S                   cat_proc      20        85  0.0  11504798.0      66.0   \n",
       "Annual_Premium              None    None      None  0.0         0.0       0.0   \n",
       "Annual_Premium_S        cat_proc  2630.0  540165.0  0.0  11504798.0   43119.0   \n",
       "Driving_License             None    None      None  0.0         0.0       0.0   \n",
       "Gender                      None    None      None  0.0         0.0       0.0   \n",
       "Policy_Sales_Channel        None    None      None  0.0         0.0       0.0   \n",
       "Policy_Sales_Channel_S  cat_proc    None      None  0.0  11504798.0     141.0   \n",
       "Previously_Insured          None    None      None  0.0         0.0       0.0   \n",
       "Region_Code                 None    None      None  0.0         0.0       0.0   \n",
       "Region_Code_S           cat_proc    None      None  0.0  11504798.0      53.0   \n",
       "Response                    None    None      None  0.0         0.0       0.0   \n",
       "VA_Age                   combine    None      None  0.0  11504798.0    5838.0   \n",
       "VP                       combine    None      None  0.0  11504798.0       4.0   \n",
       "Vehicle_Age                 None    None      None  0.0         0.0       0.0   \n",
       "Vehicle_Damage              None    None      None  0.0         0.0       0.0   \n",
       "Vintage                     None    None      None  0.0         0.0       0.0   \n",
       "Vintage_S               cat_proc      10       299  0.0  11504798.0     290.0   \n",
       "id                          None    None      None  0.0         0.0       0.0   \n",
       "\n",
       "                                                   dtype   f32   i32   i16  \\\n",
       "Age                                                 Int8   0.0   0.0   0.0   \n",
       "Age_S                                        Categorical  None  None  None   \n",
       "Annual_Premium                                   Float32   0.0   0.0   0.0   \n",
       "Annual_Premium_S                             Categorical  None  None  None   \n",
       "Driving_License                                     Int8   0.0   0.0   0.0   \n",
       "Gender                  Categorical(ordering='physical')   0.0   0.0   0.0   \n",
       "Policy_Sales_Channel    Categorical(ordering='physical')   0.0   0.0   0.0   \n",
       "Policy_Sales_Channel_S                       Categorical  None  None  None   \n",
       "Previously_Insured      Categorical(ordering='physical')   0.0   0.0   0.0   \n",
       "Region_Code             Categorical(ordering='physical')   0.0   0.0   0.0   \n",
       "Region_Code_S                                Categorical  None  None  None   \n",
       "Response                                            Int8   0.0   0.0   0.0   \n",
       "VA_Age                                       Categorical  None  None  None   \n",
       "VP                                           Categorical  None  None  None   \n",
       "Vehicle_Age             Categorical(ordering='physical')   0.0   0.0   0.0   \n",
       "Vehicle_Damage          Categorical(ordering='physical')   0.0   0.0   0.0   \n",
       "Vintage                                            Int16   0.0   0.0   0.0   \n",
       "Vintage_S                                    Categorical  None  None  None   \n",
       "id                                                 Int32   0.0   0.0   0.0   \n",
       "\n",
       "                          i8  \n",
       "Age                      0.0  \n",
       "Age_S                   None  \n",
       "Annual_Premium           0.0  \n",
       "Annual_Premium_S        None  \n",
       "Driving_License          0.0  \n",
       "Gender                   0.0  \n",
       "Policy_Sales_Channel     0.0  \n",
       "Policy_Sales_Channel_S  None  \n",
       "Previously_Insured       0.0  \n",
       "Region_Code              0.0  \n",
       "Region_Code_S           None  \n",
       "Response                 0.0  \n",
       "VA_Age                  None  \n",
       "VP                      None  \n",
       "Vehicle_Age              0.0  \n",
       "Vehicle_Damage           0.0  \n",
       "Vintage                  0.0  \n",
       "Vintage_S               None  \n",
       "id                       0.0  "
      ]
     },
     "execution_count": 2,
     "metadata": {},
     "output_type": "execute_result"
    }
   ],
   "source": [
    "data_path = 'data'\n",
    "files = {\n",
    "    k: os.path.join(p, f)\n",
    "    for k, p, f in [\n",
    "        ('train', data_path, 'train.csv'),\n",
    "        ('test', data_path, 'test.csv'),\n",
    "        ('org_train', data_path, 'train_org.csv'),\n",
    "        ('org_test', data_path, 'test_org.csv'),\n",
    "        ('train_parquet', data_path, 'train.parquet'),\n",
    "        ('org_pkl', data_path, 'org.pkl'),\n",
    "        ('test_parquet', data_path, 'test.parquet'),\n",
    "        ('var_pkl', data_path, 'var.pkl')\n",
    "    ]\n",
    "}\n",
    "df_train = pd.read_parquet(files['train_parquet']).set_index('id')\n",
    "pd_procs = dproc.PD_Vars.load(os.path.join('data', 'vars') )\n",
    "target = 'Response'\n",
    "df_train, _ = pd_procs.procs_all(df_train)\n",
    "#del df\n",
    "pd_procs.df_var"
   ]
  },
  {
   "cell_type": "code",
   "execution_count": 3,
   "id": "46a2a1db-7844-4378-89a8-5b8d7503f123",
   "metadata": {},
   "outputs": [],
   "source": [
    "from sklearn.model_selection import StratifiedKFold, train_test_split\n",
    "from sklearn.model_selection import StratifiedShuffleSplit\n",
    "from sklearn.linear_model import LogisticRegression\n",
    "from sklearn.metrics import roc_auc_score\n",
    "\n",
    "import lightgbm as lgb\n",
    "import xgboost as xgb\n",
    "import catboost as cb\n",
    "import sgml\n",
    "\n",
    "def get_validation_splitter(validation_fraction):\n",
    "    return lambda x: train_test_split(x, test_size=validation_fraction, stratify=x[target])\n",
    "\n",
    "config = {\n",
    "    'predict_func': lambda m, df, X: pd.Series(m.predict_proba(df[X])[:, 1], index=df.index),\n",
    "    'score_func': lambda df, prds: roc_auc_score(df[target].sort_index(), prds.sort_index()),\n",
    "    'validation_splitter': get_validation_splitter,\n",
    "    'progress_callback': sgml.ProgressCallBack(),\n",
    "    'y': target,\n",
    "}\n",
    "\n",
    "lgb_adapter = sgml.LGBMAdapter(model=lgb.LGBMClassifier)\n",
    "xgb_adapter = sgml.XGBAdapter(model=xgb.XGBClassifier) \n",
    "cb_adapter = sgml.CBAdapter(model=cb.CatBoostClassifier)\n",
    "lr_adapter = sgml.SklearnAdapter(LogisticRegression)\n",
    "\n",
    "\n",
    "def print_metrics(title, m):\n",
    "    print(\"roc_auc, {}: {:.5f}±{:.5f}\".format(\n",
    "        title, np.mean(m), np.std(m)\n",
    "    ))\n",
    "\n",
    "skf = StratifiedKFold(n_splits=5, shuffle=True, random_state=123)\n",
    "ss = StratifiedShuffleSplit(n_splits=1, train_size=0.8, random_state=123)"
   ]
  },
  {
   "cell_type": "code",
   "execution_count": 4,
   "id": "a78e3fed-7344-4bb8-8457-fafcf17f9643",
   "metadata": {},
   "outputs": [],
   "source": [
    "import tensorflow as tf\n",
    "import sgnn\n",
    "from functools import partial\n",
    "\n",
    "class ResponseModel(tf.keras.Model):\n",
    "    def __init__(self, emb_cols, cont_cols, f_size, left_layers, right_layers, top_layers , **argv):\n",
    "        super().__init__()\n",
    "        if emb_cols != None:\n",
    "            self.emb_layers = {\n",
    "                v: tf.keras.layers.Embedding(c, s, name=v) for v, c, s in emb_cols\n",
    "            }\n",
    "            self.emb_cc = tf.keras.layers.Concatenate(axis=-1)\n",
    "            if left_layers != None:\n",
    "                self.left_model = tf.keras.models.Sequential([\n",
    "                    tf.keras.layers.Dense(**params) for params in left_layers\n",
    "                ])\n",
    "                self.right_model = tf.keras.models.Sequential([\n",
    "                    tf.keras.layers.Dense(**params) for params in right_layers\n",
    "                ])\n",
    "                self.mul = tf.keras.layers.Multiply()\n",
    "                self.left_slice_layer_1 = tf.keras.layers.Lambda(lambda x: x[:, :f_size])\n",
    "                self.left_slice_layer_2 = tf.keras.layers.Lambda(lambda x: x[:, f_size:])\n",
    "                self.right_slice_layer_1 = tf.keras.layers.Lambda(lambda x: x[:, :f_size])\n",
    "                self.right_slice_layer_2 = tf.keras.layers.Lambda(lambda x: x[:, f_size:])\n",
    "            else:\n",
    "                self.left_model = None\n",
    "        else:\n",
    "            self.emb_layers = None\n",
    "        self.top_cc = tf.keras.layers.Concatenate(axis=-1)\n",
    "        self.top_model = tf.keras.models.Sequential([\n",
    "            tf.keras.layers.Dense(**params) for params in top_layers\n",
    "        ])\n",
    "        self.f_size = f_size\n",
    "        self.cont_cols = cont_cols\n",
    "        self.sigmoid = tf.keras.layers.Activation('sigmoid')\n",
    "\n",
    "    def __call__(self, X):\n",
    "        if self.emb_layers != None:\n",
    "            X_emb = self.emb_cc([tf.squeeze(v(X[k]), axis=-2) for k, v in self.emb_layers.items()])\n",
    "            if self.left_model !=None:\n",
    "                X_left = self.left_model(X_emb)\n",
    "                X_right = self.right_model(X_emb)\n",
    "                X_left_1 = self.left_slice_layer_1(X_left)\n",
    "                X_left_2 = self.left_slice_layer_2(X_left)\n",
    "                \n",
    "                X_right_1 = self.right_slice_layer_1(X_right)\n",
    "                X_right_2 = self.right_slice_layer_2(X_right)\n",
    "                X_mul = self.mul([X_left_1, X_right_1])\n",
    "                cc_list = [X_left_2, X_right_2, X_mul]\n",
    "            else:\n",
    "                cc_list = [X_emb]\n",
    "        else:\n",
    "            cc_list = list()\n",
    "        if self.cont_cols != None:\n",
    "            cc_list.append(X[self.cont_cols])\n",
    "        if len(cc_list) == 1:\n",
    "            return self.sigmoid(\n",
    "                self.top_model(cc_list[0])\n",
    "            )\n",
    "        else:\n",
    "            return self.sigmoid(\n",
    "                self.top_model(self.top_cc(cc_list))\n",
    "            )\n",
    "\n",
    "def to_tf_dataset(X, Y=None, sample_weights=None, cont=[], cat=[]):\n",
    "    d = {}\n",
    "    for i, n in enumerate(cat):\n",
    "        d[n] = np.expand_dims(X[:, i], axis=-1)\n",
    "    if len(cont) > 0:\n",
    "        d['Continous'] =  X[:, (i + 1):]\n",
    "    \n",
    "    if Y is None:\n",
    "        return tf.data.Dataset.from_tensor_slices(d)\n",
    "    else:\n",
    "        if type(Y) == pd.Series:\n",
    "            if sample_weights is None:\n",
    "                return tf.data.Dataset.from_tensor_slices((d, Y.values))\n",
    "            else:\n",
    "                return tf.data.Dataset.from_tensor_slices((d, Y.values, sample_weights.values))\n",
    "        else:\n",
    "            if sample_weights is None:\n",
    "                return tf.data.Dataset.from_tensor_slices((d, Y))\n",
    "            else:\n",
    "                return tf.data.Dataset.from_tensor_slices((d, Y, sample_weights))\n",
    "\n",
    "def nn_cat_param(df, name, size):\n",
    "    return name, len(df[name].cat.categories), size\n",
    "\n",
    "nn_adapter = sgnn.NNAdapter(\n",
    "    sgnn.NNClassifier, \n",
    "    to_tf_dataset=partial(to_tf_dataset, \n",
    "            cont=['mm__{}'.format(i) for i in ['Annual_Premium', 'Vintage', 'Age', 'Driving_License']], \n",
    "            cat= ['Annual_Premium_S', 'Vintage_S', 'Vehicle_Damage', 'Previously_Insured', 'Policy_Sales_Channel_S', 'Age_S', 'Vehicle_Age', 'Region_Code_S', \n",
    "                'Gender', 'VA_Age']\n",
    "    )\n",
    ")"
   ]
  },
  {
   "cell_type": "markdown",
   "id": "a2c3b813-722c-450f-acff-1572c38f8c80",
   "metadata": {},
   "source": [
    "# LR"
   ]
  },
  {
   "cell_type": "code",
   "execution_count": 5,
   "id": "97035c4e-86e6-4e56-84f1-ff1b07167b11",
   "metadata": {},
   "outputs": [],
   "source": [
    "lr = sgml.CVModel.load_or_create('result', 'LR', skf, config, lr_adapter)"
   ]
  },
  {
   "cell_type": "code",
   "execution_count": 6,
   "id": "4544e521-16c8-4430-b771-958f8a71271c",
   "metadata": {},
   "outputs": [
    {
     "data": {
      "text/plain": [
       "(0.8841227265739551, 0.8864103836873618)"
      ]
     },
     "execution_count": 6,
     "metadata": {},
     "output_type": "execute_result"
    }
   ],
   "source": [
    "hparams = {\n",
    "    'model_params': {},\n",
    "    'X_tgt': ['Vintage_S', 'Annual_Premium_S'],\n",
    "    'X_mm': ['Annual_Premium', 'Vintage'], \n",
    "    'X_ohe': ['Vehicle_Damage', 'Previously_Insured', 'Policy_Sales_Channel_S', 'Age_S', 'Vehicle_Age', 'Region_Code_S', \n",
    "              'Gender', 'Driving_License'],\n",
    "    'ohe': {'drop': 'first', 'handle_unknown': 'ignore'},\n",
    "    'tgt': {}\n",
    "}\n",
    "result = lr.cv(df_train, hparams, result_proc=sgml.m_learning_result, progress_callback=sgml.ProgressCallBack())\n",
    "np.mean(result['valid_scores']), np.mean(result['train_scores'])"
   ]
  },
  {
   "cell_type": "markdown",
   "id": "f5eb854d-468c-4e27-95ba-16a65a680828",
   "metadata": {},
   "source": [
    "# CB1"
   ]
  },
  {
   "cell_type": "code",
   "execution_count": 7,
   "id": "05a78a01-4129-4313-8a8c-82fb35794cdd",
   "metadata": {},
   "outputs": [],
   "source": [
    "cb1 = sgml.CVModel.load_or_create('result', 'CB1', skf, config, cb_adapter)"
   ]
  },
  {
   "cell_type": "code",
   "execution_count": 19,
   "id": "84217af5-3bc2-46c6-93a8-6131512844fd",
   "metadata": {},
   "outputs": [],
   "source": [
    "hparams = {\n",
    "    'model_params': {'n_estimators': 2000, 'learning_rate': 0.15, 'max_depth': 9},\n",
    "    'X_tgt': ['VP'],\n",
    "    'X_num': ['Annual_Premium', 'Vintage', 'Age'], \n",
    "    'X_cat': ['Annual_Premium_S', 'Vintage_S', 'Vehicle_Damage', 'Previously_Insured', 'Policy_Sales_Channel_S', 'Age_S', 'Vehicle_Age', 'Region_Code_S', \n",
    "              'Gender', 'Driving_License', 'VA_Age'],\n",
    "}\n",
    "\n",
    "# result = cb1.adhoc(df_train, ss, hparams, task_type='GPU')\n",
    "# result['valid_scores'], result['train_scores']"
   ]
  },
  {
   "cell_type": "code",
   "execution_count": 9,
   "id": "00a679c5-09da-4c8e-b75e-57c19e70af2f",
   "metadata": {},
   "outputs": [
    {
     "data": {
      "application/vnd.jupyter.widget-view+json": {
       "model_id": "45b82b9f99c741a988f4e292413d2395",
       "version_major": 2,
       "version_minor": 0
      },
      "text/plain": [
       "Fold:   0%|          | 0/5 [00:00<?, ?it/s]"
      ]
     },
     "metadata": {},
     "output_type": "display_data"
    },
    {
     "ename": "KeyboardInterrupt",
     "evalue": "",
     "output_type": "error",
     "traceback": [
      "\u001b[0;31m---------------------------------------------------------------------------\u001b[0m",
      "\u001b[0;31mKeyboardInterrupt\u001b[0m                         Traceback (most recent call last)",
      "Cell \u001b[0;32mIn[9], line 8\u001b[0m\n\u001b[1;32m      1\u001b[0m hparams \u001b[38;5;241m=\u001b[39m {\n\u001b[1;32m      2\u001b[0m     \u001b[38;5;124m'\u001b[39m\u001b[38;5;124mmodel_params\u001b[39m\u001b[38;5;124m'\u001b[39m: {\u001b[38;5;124m'\u001b[39m\u001b[38;5;124mn_estimators\u001b[39m\u001b[38;5;124m'\u001b[39m: \u001b[38;5;241m1000\u001b[39m, \u001b[38;5;124m'\u001b[39m\u001b[38;5;124mlearning_rate\u001b[39m\u001b[38;5;124m'\u001b[39m: \u001b[38;5;241m0.1\u001b[39m, \u001b[38;5;124m'\u001b[39m\u001b[38;5;124mmax_depth\u001b[39m\u001b[38;5;124m'\u001b[39m: \u001b[38;5;241m9\u001b[39m},\n\u001b[1;32m      3\u001b[0m     \u001b[38;5;124m'\u001b[39m\u001b[38;5;124mX_num\u001b[39m\u001b[38;5;124m'\u001b[39m: [\u001b[38;5;124m'\u001b[39m\u001b[38;5;124mAnnual_Premium\u001b[39m\u001b[38;5;124m'\u001b[39m, \u001b[38;5;124m'\u001b[39m\u001b[38;5;124mVintage\u001b[39m\u001b[38;5;124m'\u001b[39m, \u001b[38;5;124m'\u001b[39m\u001b[38;5;124mAge\u001b[39m\u001b[38;5;124m'\u001b[39m], \n\u001b[1;32m      4\u001b[0m     \u001b[38;5;124m'\u001b[39m\u001b[38;5;124mX_cat\u001b[39m\u001b[38;5;124m'\u001b[39m: [\u001b[38;5;124m'\u001b[39m\u001b[38;5;124mAnnual_Premium_S\u001b[39m\u001b[38;5;124m'\u001b[39m, \u001b[38;5;124m'\u001b[39m\u001b[38;5;124mVintage_S\u001b[39m\u001b[38;5;124m'\u001b[39m, \u001b[38;5;124m'\u001b[39m\u001b[38;5;124mVehicle_Damage\u001b[39m\u001b[38;5;124m'\u001b[39m, \u001b[38;5;124m'\u001b[39m\u001b[38;5;124mPreviously_Insured\u001b[39m\u001b[38;5;124m'\u001b[39m, \u001b[38;5;124m'\u001b[39m\u001b[38;5;124mPolicy_Sales_Channel_S\u001b[39m\u001b[38;5;124m'\u001b[39m, \u001b[38;5;124m'\u001b[39m\u001b[38;5;124mAge_S\u001b[39m\u001b[38;5;124m'\u001b[39m, \u001b[38;5;124m'\u001b[39m\u001b[38;5;124mVehicle_Age\u001b[39m\u001b[38;5;124m'\u001b[39m, \u001b[38;5;124m'\u001b[39m\u001b[38;5;124mRegion_Code_S\u001b[39m\u001b[38;5;124m'\u001b[39m, \n\u001b[1;32m      5\u001b[0m               \u001b[38;5;124m'\u001b[39m\u001b[38;5;124mGender\u001b[39m\u001b[38;5;124m'\u001b[39m, \u001b[38;5;124m'\u001b[39m\u001b[38;5;124mDriving_License\u001b[39m\u001b[38;5;124m'\u001b[39m, \u001b[38;5;124m'\u001b[39m\u001b[38;5;124mVA_Age\u001b[39m\u001b[38;5;124m'\u001b[39m],\n\u001b[1;32m      6\u001b[0m }\n\u001b[0;32m----> 8\u001b[0m result \u001b[38;5;241m=\u001b[39m \u001b[43mcb1\u001b[49m\u001b[38;5;241;43m.\u001b[39;49m\u001b[43mcv\u001b[49m\u001b[43m(\u001b[49m\u001b[43mdf_train\u001b[49m\u001b[43m,\u001b[49m\u001b[43m \u001b[49m\u001b[43mhparams\u001b[49m\u001b[43m,\u001b[49m\u001b[43m \u001b[49m\u001b[43mcb_adapter\u001b[49m\u001b[43m,\u001b[49m\u001b[43m \u001b[49m\u001b[43mtask_type\u001b[49m\u001b[38;5;241;43m=\u001b[39;49m\u001b[38;5;124;43m'\u001b[39;49m\u001b[38;5;124;43mGPU\u001b[39;49m\u001b[38;5;124;43m'\u001b[39;49m\u001b[43m)\u001b[49m\n\u001b[1;32m      9\u001b[0m result[\u001b[38;5;124m'\u001b[39m\u001b[38;5;124mvalid_scores\u001b[39m\u001b[38;5;124m'\u001b[39m], result[\u001b[38;5;124m'\u001b[39m\u001b[38;5;124mtrain_scores\u001b[39m\u001b[38;5;124m'\u001b[39m]\n",
      "File \u001b[0;32m~/jnote/sunkusun9/kaggle/PGS4_ep7/sgml.py:760\u001b[0m, in \u001b[0;36mCVModel.cv\u001b[0;34m(self, df, hparams, rerun, **argv)\u001b[0m\n\u001b[1;32m    758\u001b[0m \u001b[38;5;28;01mif\u001b[39;00m k \u001b[38;5;129;01min\u001b[39;00m \u001b[38;5;28mself\u001b[39m\u001b[38;5;241m.\u001b[39mcv_results_ \u001b[38;5;129;01mand\u001b[39;00m \u001b[38;5;129;01mnot\u001b[39;00m rerun:\n\u001b[1;32m    759\u001b[0m     \u001b[38;5;28;01mreturn\u001b[39;00m \u001b[38;5;28mself\u001b[39m\u001b[38;5;241m.\u001b[39mcv_results_[k]\n\u001b[0;32m--> 760\u001b[0m result \u001b[38;5;241m=\u001b[39m \u001b[43mcv\u001b[49m\u001b[43m(\u001b[49m\u001b[43mdf\u001b[49m\u001b[43m,\u001b[49m\u001b[43m \u001b[49m\u001b[38;5;28;43mself\u001b[39;49m\u001b[38;5;241;43m.\u001b[39;49m\u001b[43msp\u001b[49m\u001b[43m,\u001b[49m\u001b[43m \u001b[49m\u001b[43mhparams\u001b[49m\u001b[43m,\u001b[49m\u001b[43m \u001b[49m\u001b[38;5;28;43mself\u001b[39;49m\u001b[38;5;241;43m.\u001b[39;49m\u001b[43mconfig\u001b[49m\u001b[43m,\u001b[49m\u001b[43m \u001b[49m\u001b[38;5;28;43mself\u001b[39;49m\u001b[38;5;241;43m.\u001b[39;49m\u001b[43madapter\u001b[49m\u001b[43m,\u001b[49m\u001b[43m \u001b[49m\u001b[38;5;241;43m*\u001b[39;49m\u001b[38;5;241;43m*\u001b[39;49m\u001b[43margv\u001b[49m\u001b[43m)\u001b[49m\n\u001b[1;32m    761\u001b[0m score \u001b[38;5;241m=\u001b[39m  np\u001b[38;5;241m.\u001b[39mmean(result[\u001b[38;5;124m'\u001b[39m\u001b[38;5;124mvalid_scores\u001b[39m\u001b[38;5;124m'\u001b[39m])\n\u001b[1;32m    762\u001b[0m prd \u001b[38;5;241m=\u001b[39m result\u001b[38;5;241m.\u001b[39mpop(\u001b[38;5;124m'\u001b[39m\u001b[38;5;124mvalid_prd\u001b[39m\u001b[38;5;124m'\u001b[39m)\n",
      "File \u001b[0;32m~/jnote/sunkusun9/kaggle/PGS4_ep7/sgml.py:596\u001b[0m, in \u001b[0;36mcv\u001b[0;34m(df, sp, hparams, config, adapter, **argv)\u001b[0m\n\u001b[1;32m    594\u001b[0m \u001b[38;5;28;01mif\u001b[39;00m \u001b[38;5;124m'\u001b[39m\u001b[38;5;124mvalidation_splitter\u001b[39m\u001b[38;5;124m'\u001b[39m \u001b[38;5;129;01min\u001b[39;00m config:\n\u001b[1;32m    595\u001b[0m     argv[\u001b[38;5;124m'\u001b[39m\u001b[38;5;124mvalidation_splitter\u001b[39m\u001b[38;5;124m'\u001b[39m] \u001b[38;5;241m=\u001b[39m config\u001b[38;5;241m.\u001b[39mpop(\u001b[38;5;124m'\u001b[39m\u001b[38;5;124mvalidation_splitter\u001b[39m\u001b[38;5;124m'\u001b[39m)\n\u001b[0;32m--> 596\u001b[0m \u001b[38;5;28;01mreturn\u001b[39;00m \u001b[43mcv_model\u001b[49m\u001b[43m(\u001b[49m\n\u001b[1;32m    597\u001b[0m \u001b[43m    \u001b[49m\u001b[43msp\u001b[49m\u001b[38;5;241;43m=\u001b[39;49m\u001b[43msp\u001b[49m\u001b[43m,\u001b[49m\u001b[43m \u001b[49m\u001b[43mdf\u001b[49m\u001b[38;5;241;43m=\u001b[39;49m\u001b[43mdf\u001b[49m\u001b[43m,\u001b[49m\u001b[43m \u001b[49m\u001b[38;5;241;43m*\u001b[39;49m\u001b[38;5;241;43m*\u001b[39;49m\u001b[43mconfig\u001b[49m\u001b[43m,\u001b[49m\u001b[43m \u001b[49m\u001b[38;5;241;43m*\u001b[39;49m\u001b[38;5;241;43m*\u001b[39;49m\u001b[43madapter\u001b[49m\u001b[38;5;241;43m.\u001b[39;49m\u001b[43madapt\u001b[49m\u001b[43m(\u001b[49m\u001b[43mhparams\u001b[49m\u001b[43m,\u001b[49m\u001b[43m \u001b[49m\u001b[43mis_train\u001b[49m\u001b[38;5;241;43m=\u001b[39;49m\u001b[38;5;28;43;01mFalse\u001b[39;49;00m\u001b[43m,\u001b[49m\u001b[43m \u001b[49m\u001b[38;5;241;43m*\u001b[39;49m\u001b[38;5;241;43m*\u001b[39;49m\u001b[43margv\u001b[49m\u001b[43m)\u001b[49m\n\u001b[1;32m    598\u001b[0m \u001b[43m\u001b[49m\u001b[43m)\u001b[49m\n",
      "File \u001b[0;32m~/jnote/sunkusun9/kaggle/PGS4_ep7/sgml.py:569\u001b[0m, in \u001b[0;36mcv_model\u001b[0;34m(sp, model, model_params, df, X, y, predict_func, score_func, return_train_scores, preprocessor, result_proc, train_data_proc, train_params, sp_y, groups, target_func, target_invfunc, progress_callback)\u001b[0m\n\u001b[1;32m    567\u001b[0m \u001b[38;5;28;01mif\u001b[39;00m train_data_proc \u001b[38;5;241m!=\u001b[39m \u001b[38;5;28;01mNone\u001b[39;00m:\n\u001b[1;32m    568\u001b[0m     df_cv_train \u001b[38;5;241m=\u001b[39m train_data_proc(df_cv_train)\n\u001b[0;32m--> 569\u001b[0m result \u001b[38;5;241m=\u001b[39m \u001b[43mtrain_model\u001b[49m\u001b[43m(\u001b[49m\u001b[43mmodel\u001b[49m\u001b[43m,\u001b[49m\u001b[43m \u001b[49m\u001b[43mmodel_params\u001b[49m\u001b[43m,\u001b[49m\u001b[43m \u001b[49m\u001b[43mdf_cv_train\u001b[49m\u001b[43m,\u001b[49m\u001b[43m \u001b[49m\u001b[43mX\u001b[49m\u001b[43m,\u001b[49m\u001b[43m \u001b[49m\u001b[43my\u001b[49m\u001b[43m,\u001b[49m\u001b[43m \u001b[49m\u001b[43mpreprocessor\u001b[49m\u001b[38;5;241;43m=\u001b[39;49m\u001b[43mpreprocessor\u001b[49m\u001b[43m,\u001b[49m\u001b[43m \u001b[49m\u001b[43mtarget_func\u001b[49m\u001b[38;5;241;43m=\u001b[39;49m\u001b[43mtarget_func\u001b[49m\u001b[43m,\u001b[49m\u001b[43m \u001b[49m\u001b[38;5;241;43m*\u001b[39;49m\u001b[38;5;241;43m*\u001b[39;49m\u001b[43mtrain_params\u001b[49m\u001b[43m)\u001b[49m\n\u001b[1;32m    570\u001b[0m \u001b[38;5;28;01mif\u001b[39;00m \u001b[38;5;124m'\u001b[39m\u001b[38;5;124mpreprocessor\u001b[39m\u001b[38;5;124m'\u001b[39m \u001b[38;5;129;01min\u001b[39;00m result:\n\u001b[1;32m    571\u001b[0m     m \u001b[38;5;241m=\u001b[39m make_pipeline(result[\u001b[38;5;124m'\u001b[39m\u001b[38;5;124mpreprocessor\u001b[39m\u001b[38;5;124m'\u001b[39m], result[\u001b[38;5;124m'\u001b[39m\u001b[38;5;124mmodel\u001b[39m\u001b[38;5;124m'\u001b[39m])\n",
      "File \u001b[0;32m~/jnote/sunkusun9/kaggle/PGS4_ep7/sgml.py:451\u001b[0m, in \u001b[0;36mtrain_model\u001b[0;34m(model, model_params, df_train, X, y, valid_splitter, preprocessor, fit_params, valid_config_proc, target_func, **argv)\u001b[0m\n\u001b[1;32m    449\u001b[0m result[\u001b[38;5;124m'\u001b[39m\u001b[38;5;124mtarget_func\u001b[39m\u001b[38;5;124m'\u001b[39m] \u001b[38;5;241m=\u001b[39m target_func\n\u001b[1;32m    450\u001b[0m m \u001b[38;5;241m=\u001b[39m  model(\u001b[38;5;241m*\u001b[39m\u001b[38;5;241m*\u001b[39mmodel_params, \u001b[38;5;241m*\u001b[39m\u001b[38;5;241m*\u001b[39mmodel_params_2)\n\u001b[0;32m--> 451\u001b[0m \u001b[43mm\u001b[49m\u001b[38;5;241;43m.\u001b[39;49m\u001b[43mfit\u001b[49m\u001b[43m(\u001b[49m\u001b[43mX_train\u001b[49m\u001b[43m,\u001b[49m\u001b[43m \u001b[49m\u001b[43my_train\u001b[49m\u001b[43m,\u001b[49m\u001b[43m \u001b[49m\u001b[38;5;241;43m*\u001b[39;49m\u001b[38;5;241;43m*\u001b[39;49m\u001b[43mfit_params\u001b[49m\u001b[43m,\u001b[49m\u001b[43m \u001b[49m\u001b[38;5;241;43m*\u001b[39;49m\u001b[38;5;241;43m*\u001b[39;49m\u001b[43mfit_params_2\u001b[49m\u001b[43m)\u001b[49m\n\u001b[1;32m    452\u001b[0m \u001b[38;5;28;01mdel\u001b[39;00m X_train, y_train\n\u001b[1;32m    453\u001b[0m \u001b[38;5;28;01mif\u001b[39;00m df_valid \u001b[38;5;129;01mis\u001b[39;00m \u001b[38;5;129;01mnot\u001b[39;00m \u001b[38;5;28;01mNone\u001b[39;00m:\n",
      "File \u001b[0;32m~/python312/lib/python3.12/site-packages/catboost/core.py:5220\u001b[0m, in \u001b[0;36mCatBoostClassifier.fit\u001b[0;34m(self, X, y, cat_features, text_features, embedding_features, sample_weight, baseline, use_best_model, eval_set, verbose, logging_level, plot, plot_file, column_description, verbose_eval, metric_period, silent, early_stopping_rounds, save_snapshot, snapshot_file, snapshot_interval, init_model, callbacks, log_cout, log_cerr)\u001b[0m\n\u001b[1;32m   5217\u001b[0m \u001b[38;5;28;01mif\u001b[39;00m \u001b[38;5;124m'\u001b[39m\u001b[38;5;124mloss_function\u001b[39m\u001b[38;5;124m'\u001b[39m \u001b[38;5;129;01min\u001b[39;00m params:\n\u001b[1;32m   5218\u001b[0m     CatBoostClassifier\u001b[38;5;241m.\u001b[39m_check_is_compatible_loss(params[\u001b[38;5;124m'\u001b[39m\u001b[38;5;124mloss_function\u001b[39m\u001b[38;5;124m'\u001b[39m])\n\u001b[0;32m-> 5220\u001b[0m \u001b[38;5;28;43mself\u001b[39;49m\u001b[38;5;241;43m.\u001b[39;49m\u001b[43m_fit\u001b[49m\u001b[43m(\u001b[49m\u001b[43mX\u001b[49m\u001b[43m,\u001b[49m\u001b[43m \u001b[49m\u001b[43my\u001b[49m\u001b[43m,\u001b[49m\u001b[43m \u001b[49m\u001b[43mcat_features\u001b[49m\u001b[43m,\u001b[49m\u001b[43m \u001b[49m\u001b[43mtext_features\u001b[49m\u001b[43m,\u001b[49m\u001b[43m \u001b[49m\u001b[43membedding_features\u001b[49m\u001b[43m,\u001b[49m\u001b[43m \u001b[49m\u001b[38;5;28;43;01mNone\u001b[39;49;00m\u001b[43m,\u001b[49m\u001b[43m \u001b[49m\u001b[43msample_weight\u001b[49m\u001b[43m,\u001b[49m\u001b[43m \u001b[49m\u001b[38;5;28;43;01mNone\u001b[39;49;00m\u001b[43m,\u001b[49m\u001b[43m \u001b[49m\u001b[38;5;28;43;01mNone\u001b[39;49;00m\u001b[43m,\u001b[49m\u001b[43m \u001b[49m\u001b[38;5;28;43;01mNone\u001b[39;49;00m\u001b[43m,\u001b[49m\u001b[43m \u001b[49m\u001b[38;5;28;43;01mNone\u001b[39;49;00m\u001b[43m,\u001b[49m\u001b[43m \u001b[49m\u001b[43mbaseline\u001b[49m\u001b[43m,\u001b[49m\u001b[43m \u001b[49m\u001b[43muse_best_model\u001b[49m\u001b[43m,\u001b[49m\n\u001b[1;32m   5221\u001b[0m \u001b[43m          \u001b[49m\u001b[43meval_set\u001b[49m\u001b[43m,\u001b[49m\u001b[43m \u001b[49m\u001b[43mverbose\u001b[49m\u001b[43m,\u001b[49m\u001b[43m \u001b[49m\u001b[43mlogging_level\u001b[49m\u001b[43m,\u001b[49m\u001b[43m \u001b[49m\u001b[43mplot\u001b[49m\u001b[43m,\u001b[49m\u001b[43m \u001b[49m\u001b[43mplot_file\u001b[49m\u001b[43m,\u001b[49m\u001b[43m \u001b[49m\u001b[43mcolumn_description\u001b[49m\u001b[43m,\u001b[49m\u001b[43m \u001b[49m\u001b[43mverbose_eval\u001b[49m\u001b[43m,\u001b[49m\u001b[43m \u001b[49m\u001b[43mmetric_period\u001b[49m\u001b[43m,\u001b[49m\n\u001b[1;32m   5222\u001b[0m \u001b[43m          \u001b[49m\u001b[43msilent\u001b[49m\u001b[43m,\u001b[49m\u001b[43m \u001b[49m\u001b[43mearly_stopping_rounds\u001b[49m\u001b[43m,\u001b[49m\u001b[43m \u001b[49m\u001b[43msave_snapshot\u001b[49m\u001b[43m,\u001b[49m\u001b[43m \u001b[49m\u001b[43msnapshot_file\u001b[49m\u001b[43m,\u001b[49m\u001b[43m \u001b[49m\u001b[43msnapshot_interval\u001b[49m\u001b[43m,\u001b[49m\u001b[43m \u001b[49m\u001b[43minit_model\u001b[49m\u001b[43m,\u001b[49m\u001b[43m \u001b[49m\u001b[43mcallbacks\u001b[49m\u001b[43m,\u001b[49m\u001b[43m \u001b[49m\u001b[43mlog_cout\u001b[49m\u001b[43m,\u001b[49m\u001b[43m \u001b[49m\u001b[43mlog_cerr\u001b[49m\u001b[43m)\u001b[49m\n\u001b[1;32m   5223\u001b[0m \u001b[38;5;28;01mreturn\u001b[39;00m \u001b[38;5;28mself\u001b[39m\n",
      "File \u001b[0;32m~/python312/lib/python3.12/site-packages/catboost/core.py:2400\u001b[0m, in \u001b[0;36mCatBoost._fit\u001b[0;34m(self, X, y, cat_features, text_features, embedding_features, pairs, sample_weight, group_id, group_weight, subgroup_id, pairs_weight, baseline, use_best_model, eval_set, verbose, logging_level, plot, plot_file, column_description, verbose_eval, metric_period, silent, early_stopping_rounds, save_snapshot, snapshot_file, snapshot_interval, init_model, callbacks, log_cout, log_cerr)\u001b[0m\n\u001b[1;32m   2397\u001b[0m allow_clear_pool \u001b[38;5;241m=\u001b[39m train_params[\u001b[38;5;124m\"\u001b[39m\u001b[38;5;124mallow_clear_pool\u001b[39m\u001b[38;5;124m\"\u001b[39m]\n\u001b[1;32m   2399\u001b[0m \u001b[38;5;28;01mwith\u001b[39;00m plot_wrapper(plot, plot_file, \u001b[38;5;124m'\u001b[39m\u001b[38;5;124mTraining plots\u001b[39m\u001b[38;5;124m'\u001b[39m, [_get_train_dir(\u001b[38;5;28mself\u001b[39m\u001b[38;5;241m.\u001b[39mget_params())]):\n\u001b[0;32m-> 2400\u001b[0m     \u001b[38;5;28;43mself\u001b[39;49m\u001b[38;5;241;43m.\u001b[39;49m\u001b[43m_train\u001b[49m\u001b[43m(\u001b[49m\n\u001b[1;32m   2401\u001b[0m \u001b[43m        \u001b[49m\u001b[43mtrain_pool\u001b[49m\u001b[43m,\u001b[49m\n\u001b[1;32m   2402\u001b[0m \u001b[43m        \u001b[49m\u001b[43mtrain_params\u001b[49m\u001b[43m[\u001b[49m\u001b[38;5;124;43m\"\u001b[39;49m\u001b[38;5;124;43meval_sets\u001b[39;49m\u001b[38;5;124;43m\"\u001b[39;49m\u001b[43m]\u001b[49m\u001b[43m,\u001b[49m\n\u001b[1;32m   2403\u001b[0m \u001b[43m        \u001b[49m\u001b[43mparams\u001b[49m\u001b[43m,\u001b[49m\n\u001b[1;32m   2404\u001b[0m \u001b[43m        \u001b[49m\u001b[43mallow_clear_pool\u001b[49m\u001b[43m,\u001b[49m\n\u001b[1;32m   2405\u001b[0m \u001b[43m        \u001b[49m\u001b[43mtrain_params\u001b[49m\u001b[43m[\u001b[49m\u001b[38;5;124;43m\"\u001b[39;49m\u001b[38;5;124;43minit_model\u001b[39;49m\u001b[38;5;124;43m\"\u001b[39;49m\u001b[43m]\u001b[49m\n\u001b[1;32m   2406\u001b[0m \u001b[43m    \u001b[49m\u001b[43m)\u001b[49m\n\u001b[1;32m   2408\u001b[0m \u001b[38;5;66;03m# Have property feature_importance possibly set\u001b[39;00m\n\u001b[1;32m   2409\u001b[0m loss \u001b[38;5;241m=\u001b[39m \u001b[38;5;28mself\u001b[39m\u001b[38;5;241m.\u001b[39m_object\u001b[38;5;241m.\u001b[39m_get_loss_function_name()\n",
      "File \u001b[0;32m~/python312/lib/python3.12/site-packages/catboost/core.py:1780\u001b[0m, in \u001b[0;36m_CatBoostBase._train\u001b[0;34m(self, train_pool, test_pool, params, allow_clear_pool, init_model)\u001b[0m\n\u001b[1;32m   1779\u001b[0m \u001b[38;5;28;01mdef\u001b[39;00m \u001b[38;5;21m_train\u001b[39m(\u001b[38;5;28mself\u001b[39m, train_pool, test_pool, params, allow_clear_pool, init_model):\n\u001b[0;32m-> 1780\u001b[0m     \u001b[38;5;28;43mself\u001b[39;49m\u001b[38;5;241;43m.\u001b[39;49m\u001b[43m_object\u001b[49m\u001b[38;5;241;43m.\u001b[39;49m\u001b[43m_train\u001b[49m\u001b[43m(\u001b[49m\u001b[43mtrain_pool\u001b[49m\u001b[43m,\u001b[49m\u001b[43m \u001b[49m\u001b[43mtest_pool\u001b[49m\u001b[43m,\u001b[49m\u001b[43m \u001b[49m\u001b[43mparams\u001b[49m\u001b[43m,\u001b[49m\u001b[43m \u001b[49m\u001b[43mallow_clear_pool\u001b[49m\u001b[43m,\u001b[49m\u001b[43m \u001b[49m\u001b[43minit_model\u001b[49m\u001b[38;5;241;43m.\u001b[39;49m\u001b[43m_object\u001b[49m\u001b[43m \u001b[49m\u001b[38;5;28;43;01mif\u001b[39;49;00m\u001b[43m \u001b[49m\u001b[43minit_model\u001b[49m\u001b[43m \u001b[49m\u001b[38;5;28;43;01melse\u001b[39;49;00m\u001b[43m \u001b[49m\u001b[38;5;28;43;01mNone\u001b[39;49;00m\u001b[43m)\u001b[49m\n\u001b[1;32m   1781\u001b[0m     \u001b[38;5;28mself\u001b[39m\u001b[38;5;241m.\u001b[39m_set_trained_model_attributes()\n",
      "File \u001b[0;32m_catboost.pyx:4833\u001b[0m, in \u001b[0;36m_catboost._CatBoost._train\u001b[0;34m()\u001b[0m\n",
      "File \u001b[0;32m_catboost.pyx:4882\u001b[0m, in \u001b[0;36m_catboost._CatBoost._train\u001b[0;34m()\u001b[0m\n",
      "\u001b[0;31mKeyboardInterrupt\u001b[0m: "
     ]
    }
   ],
   "source": [
    "hparams = {\n",
    "    'model_params': {'n_estimators': 2000, 'learning_rate': 0.2, 'max_depth': 9},\n",
    "    'X_num': ['Annual_Premium', 'Vintage', 'Age'], \n",
    "    'X_cat': ['Annual_Premium_S', 'Vintage_S', 'Vehicle_Damage', 'Previously_Insured', 'Policy_Sales_Channel_S', 'Age_S', 'Vehicle_Age', 'Region_Code_S', \n",
    "              'Gender', 'Driving_License', 'VA_Age'],\n",
    "}\n",
    "\n",
    "result = cb1.cv(df_train, hparams, cb_adapter, task_type='GPU')\n",
    "result['valid_scores'], result['train_scores']"
   ]
  },
  {
   "cell_type": "markdown",
   "id": "0886e597-09bf-42a3-b34d-34cd2a78935f",
   "metadata": {},
   "source": [
    "# CB2"
   ]
  },
  {
   "cell_type": "code",
   "execution_count": 17,
   "id": "fc7b97b3-85b0-41be-bcb0-cd3c220ea007",
   "metadata": {},
   "outputs": [],
   "source": [
    "cb2 = sgml.CVModel.load_or_create('result', 'CB2', skf, config, cb_adapter)"
   ]
  },
  {
   "cell_type": "code",
   "execution_count": 18,
   "id": "18602d0c-62d3-448e-b7b9-12622814eaef",
   "metadata": {},
   "outputs": [
    {
     "data": {
      "application/vnd.jupyter.widget-view+json": {
       "model_id": "",
       "version_major": 2,
       "version_minor": 0
      },
      "text/plain": [
       "Fold:   0%|          | 0/1 [00:00<?, ?it/s]"
      ]
     },
     "metadata": {},
     "output_type": "display_data"
    },
    {
     "data": {
      "text/plain": [
       "([0.894539082173708], [0.9221860641104421])"
      ]
     },
     "execution_count": 18,
     "metadata": {},
     "output_type": "execute_result"
    }
   ],
   "source": [
    "hparams = {\n",
    "    'model_params': {'n_estimators': 1000, 'learning_rate': 0.1, 'max_depth': 9},\n",
    "    'X_num': ['Annual_Premium', 'Vintage', 'Age'], \n",
    "    'X_cat': ['Annual_Premium_S', 'Vintage_S', 'Vehicle_Damage', 'Previously_Insured', 'Policy_Sales_Channel_S', 'Age_S', 'Vehicle_Age', 'Region_Code_S', \n",
    "              'Gender', 'Driving_License', 'VA_Age'],\n",
    "    'validation_fraction': 0.1\n",
    "}\n",
    "\n",
    "result = cb2.adhoc(df_train, ss, hparams, task_type='GPU')\n",
    "result['valid_scores'], result['train_scores']"
   ]
  },
  {
   "cell_type": "code",
   "execution_count": 24,
   "id": "748031c2-49ac-4953-ace4-5d085e4ba4b5",
   "metadata": {},
   "outputs": [
    {
     "data": {
      "text/plain": [
       "997"
      ]
     },
     "execution_count": 24,
     "metadata": {},
     "output_type": "execute_result"
    }
   ],
   "source": [
    "result['model_result'][0]['valid_result'][('Logloss', 'validation')].idxmin()"
   ]
  },
  {
   "cell_type": "markdown",
   "id": "1edf882d-44cc-4873-ad5f-479ee9cd1371",
   "metadata": {},
   "source": [
    "# LGB1"
   ]
  },
  {
   "cell_type": "code",
   "execution_count": null,
   "id": "31bb7fed-7e30-45c0-b084-00d5da724388",
   "metadata": {},
   "outputs": [],
   "source": [
    "lgb1 = sgml.CVModel.load_or_create('result', 'LGB1', skf, config, lgb_adapter)"
   ]
  },
  {
   "cell_type": "code",
   "execution_count": null,
   "id": "94d1c1dc-abd8-45b3-86db-ae765abacf6b",
   "metadata": {},
   "outputs": [],
   "source": [
    "hparams = {\n",
    "    'model_params': {'n_estimators': 1000, 'learning_rate': 0.05, 'num_leaves': 255},\n",
    "    'X_tgt': ['VP'],\n",
    "    'X_num': ['Annual_Premium', 'Vintage', 'Age'], \n",
    "    'X_cat': ['Annual_Premium_S', 'Vintage_S', 'Vehicle_Damage', 'Previously_Insured', 'Policy_Sales_Channel_S', 'Age_S', 'Vehicle_Age', 'Region_Code_S', \n",
    "              'Gender', 'Driving_License', 'VA_Age'],\n",
    "}\n",
    "\n",
    "result = lgb1.cv(df_train, hparams, lgb_adapter, task_type='GPU')\n",
    "result['valid_scores'], result['train_scores']"
   ]
  },
  {
   "cell_type": "markdown",
   "id": "1c3d31b9-842d-4382-8f15-4a45c91174be",
   "metadata": {},
   "source": [
    "# XGB1"
   ]
  },
  {
   "cell_type": "code",
   "execution_count": null,
   "id": "6bc3ac04-a970-47f5-9fce-24da4b62176d",
   "metadata": {},
   "outputs": [],
   "source": [
    "xgb1 = sgml.CVModel.load_or_create('result', 'XGB1', skf, config, xgb_adapter)"
   ]
  },
  {
   "cell_type": "code",
   "execution_count": null,
   "id": "10223464-b550-49dd-9a8e-d89cba9b25a2",
   "metadata": {},
   "outputs": [],
   "source": [
    "hparams = {\n",
    "    'model_params': {'n_estimators': 1000, 'learning_rate': 0.05, 'max_depth': 8},\n",
    "    'X_tgt': ['VP', 'VA_Age', 'Annual_Premium_S'],\n",
    "    'X_num': ['Annual_Premium', 'Vintage', 'Age'], \n",
    "    'X_ohe': ['Vintage_S', 'Vehicle_Damage', 'Previously_Insured', 'Policy_Sales_Channel_S', 'Age_S', 'Vehicle_Age', 'Region_Code_S', \n",
    "              'Gender', 'Driving_License'],\n",
    "    'ohe': {'drop': 'if_binary'}\n",
    "}\n",
    "\n",
    "result = lgb1.cv(df_train, hparams, xgb_adapter, device='cuda')\n",
    "result['valid_scores'], result['train_scores']"
   ]
  },
  {
   "cell_type": "markdown",
   "id": "6c222075-889a-44fb-8dfc-049a923d8e8d",
   "metadata": {},
   "source": [
    "# NN1"
   ]
  },
  {
   "cell_type": "code",
   "execution_count": 7,
   "id": "c75d8001-6c04-4975-a7aa-3acabf1f2f27",
   "metadata": {},
   "outputs": [],
   "source": [
    "nn = sgml.CVModel.load_or_create('result', 'NN1', skf, config, nn_adapter)"
   ]
  },
  {
   "cell_type": "code",
   "execution_count": 11,
   "id": "0887ab7c-23f0-4233-ae1f-11d5443f8a3a",
   "metadata": {},
   "outputs": [
    {
     "data": {
      "application/vnd.jupyter.widget-view+json": {
       "model_id": "",
       "version_major": 2,
       "version_minor": 0
      },
      "text/plain": [
       "Epoch:   0%|          | 0/5 [00:00<?, ?it/s]"
      ]
     },
     "metadata": {},
     "output_type": "display_data"
    },
    {
     "data": {
      "application/vnd.jupyter.widget-view+json": {
       "model_id": "",
       "version_major": 2,
       "version_minor": 0
      },
      "text/plain": [
       "Step:   0%|          | 0/17977 [00:00<?, ?it/s]"
      ]
     },
     "metadata": {},
     "output_type": "display_data"
    },
    {
     "data": {
      "application/vnd.jupyter.widget-view+json": {
       "model_id": "",
       "version_major": 2,
       "version_minor": 0
      },
      "text/plain": [
       "Epoch:   0%|          | 0/5 [00:00<?, ?it/s]"
      ]
     },
     "metadata": {},
     "output_type": "display_data"
    },
    {
     "data": {
      "application/vnd.jupyter.widget-view+json": {
       "model_id": "",
       "version_major": 2,
       "version_minor": 0
      },
      "text/plain": [
       "Step:   0%|          | 0/17977 [00:00<?, ?it/s]"
      ]
     },
     "metadata": {},
     "output_type": "display_data"
    },
    {
     "data": {
      "application/vnd.jupyter.widget-view+json": {
       "model_id": "",
       "version_major": 2,
       "version_minor": 0
      },
      "text/plain": [
       "Epoch:   0%|          | 0/5 [00:00<?, ?it/s]"
      ]
     },
     "metadata": {},
     "output_type": "display_data"
    },
    {
     "data": {
      "application/vnd.jupyter.widget-view+json": {
       "model_id": "",
       "version_major": 2,
       "version_minor": 0
      },
      "text/plain": [
       "Step:   0%|          | 0/17977 [00:00<?, ?it/s]"
      ]
     },
     "metadata": {},
     "output_type": "display_data"
    },
    {
     "data": {
      "application/vnd.jupyter.widget-view+json": {
       "model_id": "",
       "version_major": 2,
       "version_minor": 0
      },
      "text/plain": [
       "Epoch:   0%|          | 0/5 [00:00<?, ?it/s]"
      ]
     },
     "metadata": {},
     "output_type": "display_data"
    },
    {
     "data": {
      "application/vnd.jupyter.widget-view+json": {
       "model_id": "",
       "version_major": 2,
       "version_minor": 0
      },
      "text/plain": [
       "Step:   0%|          | 0/17977 [00:00<?, ?it/s]"
      ]
     },
     "metadata": {},
     "output_type": "display_data"
    },
    {
     "data": {
      "application/vnd.jupyter.widget-view+json": {
       "model_id": "",
       "version_major": 2,
       "version_minor": 0
      },
      "text/plain": [
       "Epoch:   0%|          | 0/5 [00:00<?, ?it/s]"
      ]
     },
     "metadata": {},
     "output_type": "display_data"
    },
    {
     "data": {
      "application/vnd.jupyter.widget-view+json": {
       "model_id": "",
       "version_major": 2,
       "version_minor": 0
      },
      "text/plain": [
       "Step:   0%|          | 0/17977 [00:00<?, ?it/s]"
      ]
     },
     "metadata": {},
     "output_type": "display_data"
    },
    {
     "data": {
      "text/plain": [
       "(0.8906805650521935, 0.8994111951152824)"
      ]
     },
     "execution_count": 11,
     "metadata": {},
     "output_type": "execute_result"
    }
   ],
   "source": [
    "X_nn_emb = [\n",
    "    ('Annual_Premium_S', 3), ('Vintage_S', 2), ('Vehicle_Damage', 1), ('Previously_Insured', 1), ('Policy_Sales_Channel_S', 2), ('Age_S', 2), ('Vehicle_Age', 1), ('Region_Code_S', 2), \n",
    "    ('Gender', 1), ('VA_Age', 4)\n",
    "]\n",
    "hparams = {\n",
    "    'model_params': {\n",
    "        'model': ResponseModel,\n",
    "        'model_params': {\n",
    "            'emb_cols': [\n",
    "                nn_cat_param(df_train, v, n) for v, n in X_nn_emb\n",
    "            ], \n",
    "            'cont_cols':  'Continous',\n",
    "            'f_size':  16, \n",
    "            'left_layers': [\n",
    "                {'units': 32, 'activation': 'relu', 'kernel_initializer': 'he_uniform'}, \n",
    "                {'units': 32, 'activation': 'relu', 'kernel_initializer': 'he_uniform'}, \n",
    "                {'units': 32, 'kernel_initializer': 'glorot_uniform'}]\n",
    "            , \n",
    "            'right_layers': [\n",
    "                {'units': 32, 'activation': 'relu', 'kernel_initializer': 'he_uniform'}, \n",
    "                {'units': 32, 'activation': 'relu', 'kernel_initializer': 'he_uniform'}, \n",
    "                {'units': 16, 'kernel_initializer': 'glorot_uniform'}\n",
    "            ], \n",
    "            'top_layers': [\n",
    "                {'units': 32, 'activation': 'relu', 'kernel_initializer': 'he_uniform'}, \n",
    "                {'units': 16, 'activation': 'relu', 'kernel_initializer': 'he_uniform'}, \n",
    "                {'units': 1, 'kernel_initializer': 'glorot_uniform'}\n",
    "            ]\n",
    "        },\n",
    "        'batch_size': 512,\n",
    "        'shuffle_size': 204800,\n",
    "        'optimizer': ('Adam', {'learning_rate': 0.0005}),\n",
    "        'epochs': 5\n",
    "    },\n",
    "    'X_mm': ['Annual_Premium', 'Vintage', 'Age', 'Driving_License'], \n",
    "    'X_cat': ['Annual_Premium_S', 'Vintage_S', 'Vehicle_Damage', 'Previously_Insured', 'Policy_Sales_Channel_S', 'Age_S', 'Vehicle_Age', 'Region_Code_S', \n",
    "              'Gender', 'VA_Age'],\n",
    "}\n",
    "result = nn.cv(df_train, hparams, progress_callback=sgml.ProgressCallBack())\n",
    "np.mean(result['valid_scores']), np.mean(result['train_scores'])"
   ]
  },
  {
   "cell_type": "code",
   "execution_count": 10,
   "id": "9955f73a-6fa0-464a-bdc5-83cac1802e18",
   "metadata": {},
   "outputs": [
    {
     "data": {
      "text/plain": [
       "[0.8904762718319137,\n",
       " 0.8905780191107577,\n",
       " 0.8906179017310272,\n",
       " 0.8906771654051973,\n",
       " 0.890385738839719]"
      ]
     },
     "execution_count": 10,
     "metadata": {},
     "output_type": "execute_result"
    }
   ],
   "source": [
    "result['valid_scores']"
   ]
  },
  {
   "cell_type": "code",
   "execution_count": null,
   "id": "bcbb2039-c6d8-4bc8-a718-204f7d0483a0",
   "metadata": {},
   "outputs": [],
   "source": []
  }
 ],
 "metadata": {
  "kernelspec": {
   "display_name": "Python 3 (ipykernel)",
   "language": "python",
   "name": "python3"
  },
  "language_info": {
   "codemirror_mode": {
    "name": "ipython",
    "version": 3
   },
   "file_extension": ".py",
   "mimetype": "text/x-python",
   "name": "python",
   "nbconvert_exporter": "python",
   "pygments_lexer": "ipython3",
   "version": "3.12.6"
  }
 },
 "nbformat": 4,
 "nbformat_minor": 5
}
