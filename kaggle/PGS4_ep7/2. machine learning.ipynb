{
 "cells": [
  {
   "cell_type": "code",
   "execution_count": 1,
   "id": "984525dc-179d-4884-90f8-ecce509356f9",
   "metadata": {},
   "outputs": [
    {
     "name": "stderr",
     "output_type": "stream",
     "text": [
      "2024-12-09 05:25:20.629128: E external/local_xla/xla/stream_executor/cuda/cuda_fft.cc:477] Unable to register cuFFT factory: Attempting to register factory for plugin cuFFT when one has already been registered\n",
      "WARNING: All log messages before absl::InitializeLog() is called are written to STDERR\n",
      "E0000 00:00:1733721920.640607   40044 cuda_dnn.cc:8310] Unable to register cuDNN factory: Attempting to register factory for plugin cuDNN when one has already been registered\n",
      "E0000 00:00:1733721920.644121   40044 cuda_blas.cc:1418] Unable to register cuBLAS factory: Attempting to register factory for plugin cuBLAS when one has already been registered\n",
      "2024-12-09 05:25:20.656069: I tensorflow/core/platform/cpu_feature_guard.cc:210] This TensorFlow binary is optimized to use available CPU instructions in performance-critical operations.\n",
      "To enable the following instructions: AVX2 FMA, in other operations, rebuild TensorFlow with the appropriate compiler flags.\n"
     ]
    }
   ],
   "source": [
    "import os\n",
    "import pandas as pd\n",
    "import numpy as np\n",
    "from functools import partial\n",
    "import dproc, sgutil, sgnn, sgml\n",
    "\n",
    "import seaborn as sns\n",
    "import matplotlib.pyplot as plt\n",
    "\n",
    "import shap"
   ]
  },
  {
   "cell_type": "code",
   "execution_count": 2,
   "id": "6ec646f1-9210-4e6f-9e68-3b5b032eaaaa",
   "metadata": {},
   "outputs": [
    {
     "data": {
      "text/html": [
       "<div>\n",
       "<style scoped>\n",
       "    .dataframe tbody tr th:only-of-type {\n",
       "        vertical-align: middle;\n",
       "    }\n",
       "\n",
       "    .dataframe tbody tr th {\n",
       "        vertical-align: top;\n",
       "    }\n",
       "\n",
       "    .dataframe thead th {\n",
       "        text-align: right;\n",
       "    }\n",
       "</style>\n",
       "<table border=\"1\" class=\"dataframe\">\n",
       "  <thead>\n",
       "    <tr style=\"text-align: right;\">\n",
       "      <th></th>\n",
       "      <th>Description</th>\n",
       "      <th>src</th>\n",
       "      <th>na</th>\n",
       "      <th>count</th>\n",
       "      <th>n_unique</th>\n",
       "      <th>dtype</th>\n",
       "    </tr>\n",
       "  </thead>\n",
       "  <tbody>\n",
       "    <tr>\n",
       "      <th>Age</th>\n",
       "      <td>None</td>\n",
       "      <td>None</td>\n",
       "      <td>0.0</td>\n",
       "      <td>0.0</td>\n",
       "      <td>0.0</td>\n",
       "      <td>Int8</td>\n",
       "    </tr>\n",
       "    <tr>\n",
       "      <th>Age_S</th>\n",
       "      <td>Age의 범주형 변수</td>\n",
       "      <td>cat_proc</td>\n",
       "      <td>0.0</td>\n",
       "      <td>11504798.0</td>\n",
       "      <td>66.0</td>\n",
       "      <td>Categorical</td>\n",
       "    </tr>\n",
       "    <tr>\n",
       "      <th>Annual_Premium</th>\n",
       "      <td>None</td>\n",
       "      <td>None</td>\n",
       "      <td>0.0</td>\n",
       "      <td>0.0</td>\n",
       "      <td>0.0</td>\n",
       "      <td>Float32</td>\n",
       "    </tr>\n",
       "    <tr>\n",
       "      <th>Annual_Premium_S</th>\n",
       "      <td>Annual_Premium의 범주형 변수</td>\n",
       "      <td>cat_proc</td>\n",
       "      <td>0.0</td>\n",
       "      <td>11504798.0</td>\n",
       "      <td>43119.0</td>\n",
       "      <td>Categorical</td>\n",
       "    </tr>\n",
       "    <tr>\n",
       "      <th>Driving_License</th>\n",
       "      <td>None</td>\n",
       "      <td>None</td>\n",
       "      <td>0.0</td>\n",
       "      <td>0.0</td>\n",
       "      <td>0.0</td>\n",
       "      <td>Int8</td>\n",
       "    </tr>\n",
       "    <tr>\n",
       "      <th>Gender</th>\n",
       "      <td>None</td>\n",
       "      <td>None</td>\n",
       "      <td>0.0</td>\n",
       "      <td>0.0</td>\n",
       "      <td>0.0</td>\n",
       "      <td>Categorical(ordering='physical')</td>\n",
       "    </tr>\n",
       "    <tr>\n",
       "      <th>Policy_Sales_Channel</th>\n",
       "      <td>None</td>\n",
       "      <td>None</td>\n",
       "      <td>0.0</td>\n",
       "      <td>0.0</td>\n",
       "      <td>0.0</td>\n",
       "      <td>Categorical(ordering='physical')</td>\n",
       "    </tr>\n",
       "    <tr>\n",
       "      <th>Policy_Sales_Channel_S</th>\n",
       "      <td>Policy_Sales_Channel의 범주형 변수</td>\n",
       "      <td>cat_proc</td>\n",
       "      <td>0.0</td>\n",
       "      <td>11504798.0</td>\n",
       "      <td>141.0</td>\n",
       "      <td>Categorical</td>\n",
       "    </tr>\n",
       "    <tr>\n",
       "      <th>Previously_Insured</th>\n",
       "      <td>None</td>\n",
       "      <td>None</td>\n",
       "      <td>0.0</td>\n",
       "      <td>0.0</td>\n",
       "      <td>0.0</td>\n",
       "      <td>Categorical(ordering='physical')</td>\n",
       "    </tr>\n",
       "    <tr>\n",
       "      <th>Region_Code</th>\n",
       "      <td>None</td>\n",
       "      <td>None</td>\n",
       "      <td>0.0</td>\n",
       "      <td>0.0</td>\n",
       "      <td>0.0</td>\n",
       "      <td>Categorical(ordering='physical')</td>\n",
       "    </tr>\n",
       "    <tr>\n",
       "      <th>Region_Code_S</th>\n",
       "      <td>Region_Code를 범주형 변수</td>\n",
       "      <td>cat_proc</td>\n",
       "      <td>0.0</td>\n",
       "      <td>11504798.0</td>\n",
       "      <td>53.0</td>\n",
       "      <td>Categorical</td>\n",
       "    </tr>\n",
       "    <tr>\n",
       "      <th>Response</th>\n",
       "      <td>None</td>\n",
       "      <td>None</td>\n",
       "      <td>0.0</td>\n",
       "      <td>0.0</td>\n",
       "      <td>0.0</td>\n",
       "      <td>Int8</td>\n",
       "    </tr>\n",
       "    <tr>\n",
       "      <th>VA_Age</th>\n",
       "      <td>Vehicle_Age, Age_S 그리고 Policy_Sales_Channel_S를...</td>\n",
       "      <td>combine</td>\n",
       "      <td>0.0</td>\n",
       "      <td>11504798.0</td>\n",
       "      <td>5838.0</td>\n",
       "      <td>Categorical</td>\n",
       "    </tr>\n",
       "    <tr>\n",
       "      <th>VD_PSC</th>\n",
       "      <td>Vehicle_Damage, Previously_Insured, Policy_Sal...</td>\n",
       "      <td>combine</td>\n",
       "      <td>0.0</td>\n",
       "      <td>11504798.0</td>\n",
       "      <td>455.0</td>\n",
       "      <td>Categorical</td>\n",
       "    </tr>\n",
       "    <tr>\n",
       "      <th>VP</th>\n",
       "      <td>Vehicle_Damage, Previously_Insured를 결합합니다.</td>\n",
       "      <td>combine</td>\n",
       "      <td>0.0</td>\n",
       "      <td>11504798.0</td>\n",
       "      <td>4.0</td>\n",
       "      <td>Categorical</td>\n",
       "    </tr>\n",
       "    <tr>\n",
       "      <th>Vehicle_Age</th>\n",
       "      <td>None</td>\n",
       "      <td>None</td>\n",
       "      <td>0.0</td>\n",
       "      <td>0.0</td>\n",
       "      <td>0.0</td>\n",
       "      <td>Categorical(ordering='physical')</td>\n",
       "    </tr>\n",
       "    <tr>\n",
       "      <th>Vehicle_Damage</th>\n",
       "      <td>None</td>\n",
       "      <td>None</td>\n",
       "      <td>0.0</td>\n",
       "      <td>0.0</td>\n",
       "      <td>0.0</td>\n",
       "      <td>Categorical(ordering='physical')</td>\n",
       "    </tr>\n",
       "    <tr>\n",
       "      <th>Vintage</th>\n",
       "      <td>None</td>\n",
       "      <td>None</td>\n",
       "      <td>0.0</td>\n",
       "      <td>0.0</td>\n",
       "      <td>0.0</td>\n",
       "      <td>Int16</td>\n",
       "    </tr>\n",
       "    <tr>\n",
       "      <th>Vintage_S</th>\n",
       "      <td>Vintage의 범주형 변수</td>\n",
       "      <td>cat_proc</td>\n",
       "      <td>0.0</td>\n",
       "      <td>11504798.0</td>\n",
       "      <td>290.0</td>\n",
       "      <td>Categorical</td>\n",
       "    </tr>\n",
       "    <tr>\n",
       "      <th>id</th>\n",
       "      <td>None</td>\n",
       "      <td>None</td>\n",
       "      <td>0.0</td>\n",
       "      <td>0.0</td>\n",
       "      <td>0.0</td>\n",
       "      <td>Int32</td>\n",
       "    </tr>\n",
       "  </tbody>\n",
       "</table>\n",
       "</div>"
      ],
      "text/plain": [
       "                                                              Description  \\\n",
       "Age                                                                  None   \n",
       "Age_S                                                         Age의 범주형 변수   \n",
       "Annual_Premium                                                       None   \n",
       "Annual_Premium_S                                   Annual_Premium의 범주형 변수   \n",
       "Driving_License                                                      None   \n",
       "Gender                                                               None   \n",
       "Policy_Sales_Channel                                                 None   \n",
       "Policy_Sales_Channel_S                       Policy_Sales_Channel의 범주형 변수   \n",
       "Previously_Insured                                                   None   \n",
       "Region_Code                                                          None   \n",
       "Region_Code_S                                         Region_Code를 범주형 변수   \n",
       "Response                                                             None   \n",
       "VA_Age                  Vehicle_Age, Age_S 그리고 Policy_Sales_Channel_S를...   \n",
       "VD_PSC                  Vehicle_Damage, Previously_Insured, Policy_Sal...   \n",
       "VP                             Vehicle_Damage, Previously_Insured를 결합합니다.   \n",
       "Vehicle_Age                                                          None   \n",
       "Vehicle_Damage                                                       None   \n",
       "Vintage                                                              None   \n",
       "Vintage_S                                                 Vintage의 범주형 변수   \n",
       "id                                                                   None   \n",
       "\n",
       "                             src   na       count  n_unique  \\\n",
       "Age                         None  0.0         0.0       0.0   \n",
       "Age_S                   cat_proc  0.0  11504798.0      66.0   \n",
       "Annual_Premium              None  0.0         0.0       0.0   \n",
       "Annual_Premium_S        cat_proc  0.0  11504798.0   43119.0   \n",
       "Driving_License             None  0.0         0.0       0.0   \n",
       "Gender                      None  0.0         0.0       0.0   \n",
       "Policy_Sales_Channel        None  0.0         0.0       0.0   \n",
       "Policy_Sales_Channel_S  cat_proc  0.0  11504798.0     141.0   \n",
       "Previously_Insured          None  0.0         0.0       0.0   \n",
       "Region_Code                 None  0.0         0.0       0.0   \n",
       "Region_Code_S           cat_proc  0.0  11504798.0      53.0   \n",
       "Response                    None  0.0         0.0       0.0   \n",
       "VA_Age                   combine  0.0  11504798.0    5838.0   \n",
       "VD_PSC                   combine  0.0  11504798.0     455.0   \n",
       "VP                       combine  0.0  11504798.0       4.0   \n",
       "Vehicle_Age                 None  0.0         0.0       0.0   \n",
       "Vehicle_Damage              None  0.0         0.0       0.0   \n",
       "Vintage                     None  0.0         0.0       0.0   \n",
       "Vintage_S               cat_proc  0.0  11504798.0     290.0   \n",
       "id                          None  0.0         0.0       0.0   \n",
       "\n",
       "                                                   dtype  \n",
       "Age                                                 Int8  \n",
       "Age_S                                        Categorical  \n",
       "Annual_Premium                                   Float32  \n",
       "Annual_Premium_S                             Categorical  \n",
       "Driving_License                                     Int8  \n",
       "Gender                  Categorical(ordering='physical')  \n",
       "Policy_Sales_Channel    Categorical(ordering='physical')  \n",
       "Policy_Sales_Channel_S                       Categorical  \n",
       "Previously_Insured      Categorical(ordering='physical')  \n",
       "Region_Code             Categorical(ordering='physical')  \n",
       "Region_Code_S                                Categorical  \n",
       "Response                                            Int8  \n",
       "VA_Age                                       Categorical  \n",
       "VD_PSC                                       Categorical  \n",
       "VP                                           Categorical  \n",
       "Vehicle_Age             Categorical(ordering='physical')  \n",
       "Vehicle_Damage          Categorical(ordering='physical')  \n",
       "Vintage                                            Int16  \n",
       "Vintage_S                                    Categorical  \n",
       "id                                                 Int32  "
      ]
     },
     "execution_count": 2,
     "metadata": {},
     "output_type": "execute_result"
    }
   ],
   "source": [
    "data_path = 'data'\n",
    "files = {\n",
    "    k: os.path.join(p, f)\n",
    "    for k, p, f in [\n",
    "        ('train', data_path, 'train.csv'),\n",
    "        ('test', data_path, 'test.csv'),\n",
    "        ('org_train', data_path, 'train_org.csv'),\n",
    "        ('org_test', data_path, 'test_org.csv'),\n",
    "        ('train_parquet', data_path, 'train.parquet'),\n",
    "        ('org_pkl', data_path, 'org.pkl'),\n",
    "        ('test_parquet', data_path, 'test.parquet'),\n",
    "        ('var_pkl', data_path, 'var.pkl')\n",
    "    ]\n",
    "}\n",
    "df_train = pd.read_parquet(files['train_parquet']).set_index('id')\n",
    "pd_procs = dproc.PD_Vars.load(os.path.join('data', 'vars') )\n",
    "target = 'Response'\n",
    "df_train, _ = pd_procs.procs_all(df_train)\n",
    "#del df\n",
    "pd_procs.df_var"
   ]
  },
  {
   "cell_type": "code",
   "execution_count": 3,
   "id": "46a2a1db-7844-4378-89a8-5b8d7503f123",
   "metadata": {},
   "outputs": [],
   "source": [
    "from sklearn.model_selection import StratifiedKFold, train_test_split\n",
    "from sklearn.model_selection import StratifiedShuffleSplit\n",
    "from sklearn.linear_model import LogisticRegression\n",
    "from sklearn.metrics import roc_auc_score\n",
    "\n",
    "import lightgbm as lgb\n",
    "import xgboost as xgb\n",
    "import catboost as cb\n",
    "import sgml\n",
    "\n",
    "def get_validation_splitter(validation_fraction):\n",
    "    return lambda x: train_test_split(x, test_size=validation_fraction, stratify=x[target])\n",
    "\n",
    "config = {\n",
    "    'predict_func': lambda m, df, X: pd.Series(m.predict_proba(df[X])[:, 1], index=df.index),\n",
    "    'score_func': lambda df, prds: roc_auc_score(df[target].sort_index(), prds.sort_index()),\n",
    "    'validation_splitter': get_validation_splitter,\n",
    "    'progress_callback': sgml.ProgressCallBack(),\n",
    "    'y': target,\n",
    "}\n",
    "\n",
    "lgb_adapter = sgml.LGBMAdapter(model=lgb.LGBMClassifier)\n",
    "xgb_adapter = sgml.XGBAdapter(model=xgb.XGBClassifier) \n",
    "cb_adapter = sgml.CBAdapter(model=cb.CatBoostClassifier)\n",
    "lr_adapter = sgml.SklearnAdapter(LogisticRegression)\n",
    "\n",
    "\n",
    "def print_metrics(title, m):\n",
    "    print(\"roc_auc, {}: {:.5f}±{:.5f}\".format(\n",
    "        title, np.mean(m), np.std(m)\n",
    "    ))\n",
    "\n",
    "skf = StratifiedKFold(n_splits=5, shuffle=True, random_state=123)\n",
    "ss = StratifiedShuffleSplit(n_splits=1, train_size=0.8, random_state=123)"
   ]
  },
  {
   "cell_type": "code",
   "execution_count": 4,
   "id": "a78e3fed-7344-4bb8-8457-fafcf17f9643",
   "metadata": {},
   "outputs": [],
   "source": [
    "import tensorflow as tf\n",
    "import sgnn\n",
    "from functools import partial\n",
    "\n",
    "class ResponseModel(tf.keras.Model):\n",
    "    def __init__(self, emb_cols, cont_cols, f_size, left_layers, right_layers, top_layers , **argv):\n",
    "        super().__init__()\n",
    "        if emb_cols != None:\n",
    "            self.emb_layers = {\n",
    "                v: tf.keras.layers.Embedding(c, s, name=v) for v, c, s in emb_cols\n",
    "            }\n",
    "            self.emb_cc = tf.keras.layers.Concatenate(axis=-1)\n",
    "            if left_layers != None:\n",
    "                self.left_model = tf.keras.models.Sequential([\n",
    "                    tf.keras.layers.Dense(**params) for params in left_layers\n",
    "                ])\n",
    "                self.right_model = tf.keras.models.Sequential([\n",
    "                    tf.keras.layers.Dense(**params) for params in right_layers\n",
    "                ])\n",
    "                self.mul = tf.keras.layers.Multiply()\n",
    "                self.left_slice_layer_1 = tf.keras.layers.Lambda(lambda x: x[:, :f_size])\n",
    "                self.left_slice_layer_2 = tf.keras.layers.Lambda(lambda x: x[:, f_size:])\n",
    "                self.right_slice_layer_1 = tf.keras.layers.Lambda(lambda x: x[:, :f_size])\n",
    "                self.right_slice_layer_2 = tf.keras.layers.Lambda(lambda x: x[:, f_size:])\n",
    "            else:\n",
    "                self.left_model = None\n",
    "        else:\n",
    "            self.emb_layers = None\n",
    "        self.top_cc = tf.keras.layers.Concatenate(axis=-1)\n",
    "        self.top_model = tf.keras.models.Sequential([\n",
    "            tf.keras.layers.Dense(**params) for params in top_layers\n",
    "        ])\n",
    "        self.f_size = f_size\n",
    "        self.cont_cols = cont_cols\n",
    "        self.sigmoid = tf.keras.layers.Activation('sigmoid')\n",
    "\n",
    "    def __call__(self, X):\n",
    "        if self.emb_layers != None:\n",
    "            X_emb = self.emb_cc([tf.squeeze(v(X[k]), axis=-2) for k, v in self.emb_layers.items()])\n",
    "            if self.left_model !=None:\n",
    "                X_left = self.left_model(X_emb)\n",
    "                X_right = self.right_model(X_emb)\n",
    "                X_left_1 = self.left_slice_layer_1(X_left)\n",
    "                X_left_2 = self.left_slice_layer_2(X_left)\n",
    "                \n",
    "                X_right_1 = self.right_slice_layer_1(X_right)\n",
    "                X_right_2 = self.right_slice_layer_2(X_right)\n",
    "                X_mul = self.mul([X_left_1, X_right_1])\n",
    "                cc_list = [X_left_2, X_right_2, X_mul]\n",
    "            else:\n",
    "                cc_list = [X_emb]\n",
    "        else:\n",
    "            cc_list = list()\n",
    "        if self.cont_cols != None:\n",
    "            cc_list.append(X[self.cont_cols])\n",
    "        if len(cc_list) == 1:\n",
    "            return self.sigmoid(\n",
    "                self.top_model(cc_list[0])\n",
    "            )\n",
    "        else:\n",
    "            return self.sigmoid(\n",
    "                self.top_model(self.top_cc(cc_list))\n",
    "            )\n",
    "\n",
    "def to_tf_dataset(X, Y=None, sample_weights=None, cont=[], cat=[]):\n",
    "    d = {}\n",
    "    for i, n in enumerate(cat):\n",
    "        d[n] = np.expand_dims(X[:, i], axis=-1)\n",
    "    if len(cont) > 0:\n",
    "        d['Continous'] =  X[:, (i + 1):]\n",
    "    \n",
    "    if Y is None:\n",
    "        return tf.data.Dataset.from_tensor_slices(d)\n",
    "    else:\n",
    "        if type(Y) == pd.Series:\n",
    "            if sample_weights is None:\n",
    "                return tf.data.Dataset.from_tensor_slices((d, Y.values))\n",
    "            else:\n",
    "                return tf.data.Dataset.from_tensor_slices((d, Y.values, sample_weights.values))\n",
    "        else:\n",
    "            if sample_weights is None:\n",
    "                return tf.data.Dataset.from_tensor_slices((d, Y))\n",
    "            else:\n",
    "                return tf.data.Dataset.from_tensor_slices((d, Y, sample_weights))\n",
    "\n",
    "def nn_cat_param(df, name, size):\n",
    "    return name, len(df[name].cat.categories), size\n",
    "\n",
    "nn_adapter = sgnn.NNAdapter(\n",
    "    sgnn.NNClassifier, \n",
    "    to_tf_dataset=partial(to_tf_dataset, \n",
    "            cont=['mm__{}'.format(i) for i in ['Annual_Premium', 'Vintage', 'Age', 'Driving_License']], \n",
    "            cat= ['Annual_Premium_S', 'Vintage_S', 'Vehicle_Damage', 'Previously_Insured', 'Policy_Sales_Channel_S', 'Age_S', 'Vehicle_Age', 'Region_Code_S', \n",
    "                'Gender', 'VA_Age']\n",
    "    )\n",
    ")"
   ]
  },
  {
   "cell_type": "markdown",
   "id": "a2c3b813-722c-450f-acff-1572c38f8c80",
   "metadata": {},
   "source": [
    "# LR"
   ]
  },
  {
   "cell_type": "code",
   "execution_count": 5,
   "id": "97035c4e-86e6-4e56-84f1-ff1b07167b11",
   "metadata": {},
   "outputs": [],
   "source": [
    "lr = sgml.CVModel.load_or_create('result', 'LR', skf, config, lr_adapter)"
   ]
  },
  {
   "cell_type": "code",
   "execution_count": 6,
   "id": "4544e521-16c8-4430-b771-958f8a71271c",
   "metadata": {},
   "outputs": [
    {
     "data": {
      "text/plain": [
       "(0.8872463823163386, 0.8896706551990677)"
      ]
     },
     "execution_count": 6,
     "metadata": {},
     "output_type": "execute_result"
    }
   ],
   "source": [
    "hparams = {\n",
    "    'model_params': {},\n",
    "    'X_tgt': ['Annual_Premium_S', 'VP', 'VA_Age'],\n",
    "    'X_mm': ['Annual_Premium', 'Vintage'], \n",
    "    'X_ohe': ['Vintage_S', 'Vehicle_Damage', 'Previously_Insured', 'Policy_Sales_Channel_S', 'Age_S', 'Vehicle_Age', 'Region_Code_S', \n",
    "              'Gender', 'Driving_License'],\n",
    "    'ohe': {'drop': 'first', 'handle_unknown': 'ignore'},\n",
    "    'tgt': {}\n",
    "}\n",
    "result = lr.cv(df_train, hparams, result_proc=sgml.m_learning_result)\n",
    "np.mean(result['valid_scores']), np.mean(result['train_scores'])"
   ]
  },
  {
   "cell_type": "markdown",
   "id": "f5eb854d-468c-4e27-95ba-16a65a680828",
   "metadata": {},
   "source": [
    "# CB1"
   ]
  },
  {
   "cell_type": "code",
   "execution_count": 7,
   "id": "05a78a01-4129-4313-8a8c-82fb35794cdd",
   "metadata": {},
   "outputs": [],
   "source": [
    "cb1 = sgml.CVModel.load_or_create('result', 'CB1', skf, config, cb_adapter)"
   ]
  },
  {
   "cell_type": "code",
   "execution_count": 8,
   "id": "84217af5-3bc2-46c6-93a8-6131512844fd",
   "metadata": {},
   "outputs": [],
   "source": [
    "hparams = {\n",
    "    'model_params': {'n_estimators': 2000, 'learning_rate': 0.15, 'max_depth': 9},\n",
    "    'X_num': ['Annual_Premium', 'Vintage', 'Age'], \n",
    "    'X_cat': ['Annual_Premium_S', 'Vintage_S', 'Vehicle_Damage', 'Previously_Insured', 'Policy_Sales_Channel_S', 'Age_S', 'Vehicle_Age', 'Region_Code_S', 'Gender', 'Driving_License'],\n",
    "}\n",
    "\n",
    "#result = cb1.adhoc(df_train, ss, hparams, task_type='GPU')\n",
    "#result['valid_scores'], result['train_scores']"
   ]
  },
  {
   "cell_type": "code",
   "execution_count": 9,
   "id": "00a679c5-09da-4c8e-b75e-57c19e70af2f",
   "metadata": {},
   "outputs": [
    {
     "data": {
      "application/vnd.jupyter.widget-view+json": {
       "model_id": "",
       "version_major": 2,
       "version_minor": 0
      },
      "text/plain": [
       "Fold:   0%|          | 0/5 [00:00<?, ?it/s]"
      ]
     },
     "metadata": {},
     "output_type": "display_data"
    },
    {
     "data": {
      "text/plain": [
       "([0.8946741384727579,\n",
       "  0.8951123806920287,\n",
       "  0.894673365796701,\n",
       "  0.8949246976510156,\n",
       "  0.8945762525742356],\n",
       " [0.9275053416627907,\n",
       "  0.9273303958398225,\n",
       "  0.9285939476886931,\n",
       "  0.9271995675354352,\n",
       "  0.9279766643622318])"
      ]
     },
     "execution_count": 9,
     "metadata": {},
     "output_type": "execute_result"
    }
   ],
   "source": [
    "result = cb1.cv(df_train, hparams, cb_adapter, task_type='GPU')\n",
    "result['valid_scores'], result['train_scores']"
   ]
  },
  {
   "cell_type": "markdown",
   "id": "1edf882d-44cc-4873-ad5f-479ee9cd1371",
   "metadata": {},
   "source": [
    "# LGB1"
   ]
  },
  {
   "cell_type": "code",
   "execution_count": null,
   "id": "31bb7fed-7e30-45c0-b084-00d5da724388",
   "metadata": {},
   "outputs": [],
   "source": [
    "lgb1 = sgml.CVModel.load_or_create('result', 'LGB1', skf, config, lgb_adapter)"
   ]
  },
  {
   "cell_type": "code",
   "execution_count": null,
   "id": "94d1c1dc-abd8-45b3-86db-ae765abacf6b",
   "metadata": {},
   "outputs": [],
   "source": [
    "hparams = {\n",
    "    'model_params': {'n_estimators': 1000, 'learning_rate': 0.05, 'num_leaves': 255},\n",
    "    'X_tgt': ['VP'],\n",
    "    'X_num': ['Annual_Premium', 'Vintage', 'Age'], \n",
    "    'X_cat': ['Annual_Premium_S', 'Vintage_S', 'Vehicle_Damage', 'Previously_Insured', 'Policy_Sales_Channel_S', 'Age_S', 'Vehicle_Age', 'Region_Code_S', \n",
    "              'Gender', 'Driving_License', 'VA_Age'],\n",
    "}\n",
    "\n",
    "result = lgb1.cv(df_train, hparams, lgb_adapter, task_type='GPU')\n",
    "result['valid_scores'], result['train_scores']"
   ]
  },
  {
   "cell_type": "markdown",
   "id": "1c3d31b9-842d-4382-8f15-4a45c91174be",
   "metadata": {},
   "source": [
    "# XGB1"
   ]
  },
  {
   "cell_type": "code",
   "execution_count": null,
   "id": "6bc3ac04-a970-47f5-9fce-24da4b62176d",
   "metadata": {},
   "outputs": [],
   "source": [
    "xgb1 = sgml.CVModel.load_or_create('result', 'XGB1', skf, config, xgb_adapter)"
   ]
  },
  {
   "cell_type": "code",
   "execution_count": null,
   "id": "10223464-b550-49dd-9a8e-d89cba9b25a2",
   "metadata": {},
   "outputs": [],
   "source": [
    "hparams = {\n",
    "    'model_params': {'n_estimators': 1000, 'learning_rate': 0.05, 'max_depth': 8},\n",
    "    'X_tgt': ['VP', 'VA_Age', 'Annual_Premium_S'],\n",
    "    'X_num': ['Annual_Premium', 'Vintage', 'Age'], \n",
    "    'X_ohe': ['Vintage_S', 'Vehicle_Damage', 'Previously_Insured', 'Policy_Sales_Channel_S', 'Age_S', 'Vehicle_Age', 'Region_Code_S', \n",
    "              'Gender', 'Driving_License'],\n",
    "    'ohe': {'drop': 'if_binary'}\n",
    "}\n",
    "\n",
    "result = lgb1.cv(df_train, hparams, xgb_adapter, device='cuda')\n",
    "result['valid_scores'], result['train_scores']"
   ]
  },
  {
   "cell_type": "markdown",
   "id": "6c222075-889a-44fb-8dfc-049a923d8e8d",
   "metadata": {},
   "source": [
    "# NN1"
   ]
  },
  {
   "cell_type": "code",
   "execution_count": 7,
   "id": "c75d8001-6c04-4975-a7aa-3acabf1f2f27",
   "metadata": {},
   "outputs": [],
   "source": [
    "nn = sgml.CVModel.load_or_create('result', 'NN1', skf, config, nn_adapter)"
   ]
  },
  {
   "cell_type": "code",
   "execution_count": 11,
   "id": "0887ab7c-23f0-4233-ae1f-11d5443f8a3a",
   "metadata": {},
   "outputs": [
    {
     "data": {
      "application/vnd.jupyter.widget-view+json": {
       "model_id": "",
       "version_major": 2,
       "version_minor": 0
      },
      "text/plain": [
       "Epoch:   0%|          | 0/5 [00:00<?, ?it/s]"
      ]
     },
     "metadata": {},
     "output_type": "display_data"
    },
    {
     "data": {
      "application/vnd.jupyter.widget-view+json": {
       "model_id": "",
       "version_major": 2,
       "version_minor": 0
      },
      "text/plain": [
       "Step:   0%|          | 0/17977 [00:00<?, ?it/s]"
      ]
     },
     "metadata": {},
     "output_type": "display_data"
    },
    {
     "data": {
      "application/vnd.jupyter.widget-view+json": {
       "model_id": "",
       "version_major": 2,
       "version_minor": 0
      },
      "text/plain": [
       "Epoch:   0%|          | 0/5 [00:00<?, ?it/s]"
      ]
     },
     "metadata": {},
     "output_type": "display_data"
    },
    {
     "data": {
      "application/vnd.jupyter.widget-view+json": {
       "model_id": "",
       "version_major": 2,
       "version_minor": 0
      },
      "text/plain": [
       "Step:   0%|          | 0/17977 [00:00<?, ?it/s]"
      ]
     },
     "metadata": {},
     "output_type": "display_data"
    },
    {
     "data": {
      "application/vnd.jupyter.widget-view+json": {
       "model_id": "",
       "version_major": 2,
       "version_minor": 0
      },
      "text/plain": [
       "Epoch:   0%|          | 0/5 [00:00<?, ?it/s]"
      ]
     },
     "metadata": {},
     "output_type": "display_data"
    },
    {
     "data": {
      "application/vnd.jupyter.widget-view+json": {
       "model_id": "",
       "version_major": 2,
       "version_minor": 0
      },
      "text/plain": [
       "Step:   0%|          | 0/17977 [00:00<?, ?it/s]"
      ]
     },
     "metadata": {},
     "output_type": "display_data"
    },
    {
     "data": {
      "application/vnd.jupyter.widget-view+json": {
       "model_id": "",
       "version_major": 2,
       "version_minor": 0
      },
      "text/plain": [
       "Epoch:   0%|          | 0/5 [00:00<?, ?it/s]"
      ]
     },
     "metadata": {},
     "output_type": "display_data"
    },
    {
     "data": {
      "application/vnd.jupyter.widget-view+json": {
       "model_id": "",
       "version_major": 2,
       "version_minor": 0
      },
      "text/plain": [
       "Step:   0%|          | 0/17977 [00:00<?, ?it/s]"
      ]
     },
     "metadata": {},
     "output_type": "display_data"
    },
    {
     "data": {
      "application/vnd.jupyter.widget-view+json": {
       "model_id": "",
       "version_major": 2,
       "version_minor": 0
      },
      "text/plain": [
       "Epoch:   0%|          | 0/5 [00:00<?, ?it/s]"
      ]
     },
     "metadata": {},
     "output_type": "display_data"
    },
    {
     "data": {
      "application/vnd.jupyter.widget-view+json": {
       "model_id": "",
       "version_major": 2,
       "version_minor": 0
      },
      "text/plain": [
       "Step:   0%|          | 0/17977 [00:00<?, ?it/s]"
      ]
     },
     "metadata": {},
     "output_type": "display_data"
    },
    {
     "data": {
      "text/plain": [
       "(0.8906805650521935, 0.8994111951152824)"
      ]
     },
     "execution_count": 11,
     "metadata": {},
     "output_type": "execute_result"
    }
   ],
   "source": [
    "X_nn_emb = [\n",
    "    ('Annual_Premium_S', 3), ('Vintage_S', 2), ('Vehicle_Damage', 1), ('Previously_Insured', 1), ('Policy_Sales_Channel_S', 2), ('Age_S', 2), ('Vehicle_Age', 1), ('Region_Code_S', 2), \n",
    "    ('Gender', 1), ('VA_Age', 4)\n",
    "]\n",
    "hparams = {\n",
    "    'model_params': {\n",
    "        'model': ResponseModel,\n",
    "        'model_params': {\n",
    "            'emb_cols': [\n",
    "                nn_cat_param(df_train, v, n) for v, n in X_nn_emb\n",
    "            ], \n",
    "            'cont_cols':  'Continous',\n",
    "            'f_size':  16, \n",
    "            'left_layers': [\n",
    "                {'units': 32, 'activation': 'relu', 'kernel_initializer': 'he_uniform'}, \n",
    "                {'units': 32, 'activation': 'relu', 'kernel_initializer': 'he_uniform'}, \n",
    "                {'units': 32, 'kernel_initializer': 'glorot_uniform'}]\n",
    "            , \n",
    "            'right_layers': [\n",
    "                {'units': 32, 'activation': 'relu', 'kernel_initializer': 'he_uniform'}, \n",
    "                {'units': 32, 'activation': 'relu', 'kernel_initializer': 'he_uniform'}, \n",
    "                {'units': 16, 'kernel_initializer': 'glorot_uniform'}\n",
    "            ], \n",
    "            'top_layers': [\n",
    "                {'units': 32, 'activation': 'relu', 'kernel_initializer': 'he_uniform'}, \n",
    "                {'units': 16, 'activation': 'relu', 'kernel_initializer': 'he_uniform'}, \n",
    "                {'units': 1, 'kernel_initializer': 'glorot_uniform'}\n",
    "            ]\n",
    "        },\n",
    "        'batch_size': 512,\n",
    "        'shuffle_size': 204800,\n",
    "        'optimizer': ('Adam', {'learning_rate': 0.0005}),\n",
    "        'epochs': 5\n",
    "    },\n",
    "    'X_mm': ['Annual_Premium', 'Vintage', 'Age', 'Driving_License'], \n",
    "    'X_cat': ['Annual_Premium_S', 'Vintage_S', 'Vehicle_Damage', 'Previously_Insured', 'Policy_Sales_Channel_S', 'Age_S', 'Vehicle_Age', 'Region_Code_S', \n",
    "              'Gender', 'VA_Age'],\n",
    "}\n",
    "result = nn.cv(df_train, hparams, progress_callback=sgml.ProgressCallBack())\n",
    "np.mean(result['valid_scores']), np.mean(result['train_scores'])"
   ]
  },
  {
   "cell_type": "code",
   "execution_count": 10,
   "id": "9955f73a-6fa0-464a-bdc5-83cac1802e18",
   "metadata": {},
   "outputs": [
    {
     "data": {
      "text/plain": [
       "[0.8904762718319137,\n",
       " 0.8905780191107577,\n",
       " 0.8906179017310272,\n",
       " 0.8906771654051973,\n",
       " 0.890385738839719]"
      ]
     },
     "execution_count": 10,
     "metadata": {},
     "output_type": "execute_result"
    }
   ],
   "source": [
    "result['valid_scores']"
   ]
  },
  {
   "cell_type": "code",
   "execution_count": null,
   "id": "bcbb2039-c6d8-4bc8-a718-204f7d0483a0",
   "metadata": {},
   "outputs": [],
   "source": []
  }
 ],
 "metadata": {
  "kernelspec": {
   "display_name": "Python 3 (ipykernel)",
   "language": "python",
   "name": "python3"
  },
  "language_info": {
   "codemirror_mode": {
    "name": "ipython",
    "version": 3
   },
   "file_extension": ".py",
   "mimetype": "text/x-python",
   "name": "python",
   "nbconvert_exporter": "python",
   "pygments_lexer": "ipython3",
   "version": "3.12.6"
  }
 },
 "nbformat": 4,
 "nbformat_minor": 5
}
