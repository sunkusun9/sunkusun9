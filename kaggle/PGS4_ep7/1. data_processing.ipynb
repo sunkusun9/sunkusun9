{
 "cells": [
  {
   "cell_type": "code",
   "execution_count": 70,
   "id": "69689385-840c-4cd4-9cbb-04ca552ded31",
   "metadata": {},
   "outputs": [],
   "source": [
    "import os\n",
    "import polars as pl\n",
    "import pandas as pd\n",
    "from functools import partial\n",
    "import dproc"
   ]
  },
  {
   "cell_type": "code",
   "execution_count": 12,
   "id": "eabd70ce-3e45-48da-880b-077b208fdea6",
   "metadata": {},
   "outputs": [],
   "source": [
    "data_path = 'data'\n",
    "if not os.path.isdir(data_path):\n",
    "    os.mkdir(data_path)\n",
    "files = {\n",
    "    k: os.path.join(p, f)\n",
    "    for k, p, f in [\n",
    "        ('train', data_path, 'train.csv'),\n",
    "        ('test', data_path, 'test.csv'),\n",
    "        ('org_train', data_path, 'train_org.csv'),\n",
    "        ('org_test', data_path, 'test_org.csv'),\n",
    "        ('train_pkl', data_path, 'train.pkl'),\n",
    "        ('org_pkl', data_path, 'org.pkl'),\n",
    "        ('test_pkl', data_path, 'test.pkl'),\n",
    "        ('var_pkl', data_path, 'var.pkl')\n",
    "    ]\n",
    "}\n",
    "\n",
    "if not os.path.isfile(files['train']):\n",
    "    !kaggle competitions download -c playground-series-s4e7\n",
    "    !mkdir data\n",
    "    !unzip playground-series-s4e7.zip -d data\n",
    "    !rm playground-series-s4e7.zip\n",
    "    !kaggle datasets download -d annantkumarsingh/health-insurance-cross-sell-prediction-data\n",
    "    !unzip health-insurance-cross-sell-prediction-data.zip\n",
    "    !mv train.csv data/train_org.csv\n",
    "    !mv test.csv data/test_org.csv\n",
    "    !rm health-insurance-cross-sell-prediction-data.zip"
   ]
  },
  {
   "cell_type": "code",
   "execution_count": 45,
   "id": "afeaa025-c75c-4378-a4ce-c50f1ab18d81",
   "metadata": {},
   "outputs": [],
   "source": [
    "df_type = dproc.merge_type_df([\n",
    "    pl.scan_csv(files[i]).pipe(dproc.get_type_df) for i in ['train', 'test', 'org_train', 'org_test']\n",
    "])"
   ]
  },
  {
   "cell_type": "markdown",
   "id": "9052628c-9dcf-4610-8deb-350afe7379c0",
   "metadata": {},
   "source": [
    "Region_Code to category, Policy_Sales_Channel to category"
   ]
  },
  {
   "cell_type": "code",
   "execution_count": 16,
   "id": "40e226eb-a7c0-49cd-a679-5c05d2d66ec4",
   "metadata": {},
   "outputs": [],
   "source": [
    "pl_type = dproc.get_type_pl(df_type, {'Region_Code': pl.Categorical, 'Policy_Sales_Channel': pl.Categorical})"
   ]
  },
  {
   "cell_type": "code",
   "execution_count": 79,
   "id": "34349d5a-7e85-402d-ae70-1210a5f47658",
   "metadata": {},
   "outputs": [
    {
     "data": {
      "text/html": [
       "<div>\n",
       "<style scoped>\n",
       "    .dataframe tbody tr th:only-of-type {\n",
       "        vertical-align: middle;\n",
       "    }\n",
       "\n",
       "    .dataframe tbody tr th {\n",
       "        vertical-align: top;\n",
       "    }\n",
       "\n",
       "    .dataframe thead th {\n",
       "        text-align: right;\n",
       "    }\n",
       "</style>\n",
       "<table border=\"1\" class=\"dataframe\">\n",
       "  <thead>\n",
       "    <tr style=\"text-align: right;\">\n",
       "      <th></th>\n",
       "      <th>n_unique</th>\n",
       "      <th>src</th>\n",
       "      <th>Description</th>\n",
       "      <th>type</th>\n",
       "    </tr>\n",
       "    <tr>\n",
       "      <th>feature</th>\n",
       "      <th></th>\n",
       "      <th></th>\n",
       "      <th></th>\n",
       "      <th></th>\n",
       "    </tr>\n",
       "  </thead>\n",
       "  <tbody>\n",
       "    <tr>\n",
       "      <th>Age</th>\n",
       "      <td>66.00</td>\n",
       "      <td>org</td>\n",
       "      <td></td>\n",
       "      <td>Int8</td>\n",
       "    </tr>\n",
       "    <tr>\n",
       "      <th>Annual_Premium</th>\n",
       "      <td>46734.25</td>\n",
       "      <td>org</td>\n",
       "      <td></td>\n",
       "      <td>Float32</td>\n",
       "    </tr>\n",
       "    <tr>\n",
       "      <th>Driving_License</th>\n",
       "      <td>2.00</td>\n",
       "      <td>org</td>\n",
       "      <td></td>\n",
       "      <td>Int8</td>\n",
       "    </tr>\n",
       "    <tr>\n",
       "      <th>Gender</th>\n",
       "      <td>2.00</td>\n",
       "      <td>org</td>\n",
       "      <td></td>\n",
       "      <td>Categorical</td>\n",
       "    </tr>\n",
       "    <tr>\n",
       "      <th>Policy_Sales_Channel</th>\n",
       "      <td>150.75</td>\n",
       "      <td>org</td>\n",
       "      <td></td>\n",
       "      <td>Categorical</td>\n",
       "    </tr>\n",
       "    <tr>\n",
       "      <th>Previously_Insured</th>\n",
       "      <td>2.00</td>\n",
       "      <td>org</td>\n",
       "      <td></td>\n",
       "      <td>Int8</td>\n",
       "    </tr>\n",
       "    <tr>\n",
       "      <th>Region_Code</th>\n",
       "      <td>53.25</td>\n",
       "      <td>org</td>\n",
       "      <td></td>\n",
       "      <td>Categorical</td>\n",
       "    </tr>\n",
       "    <tr>\n",
       "      <th>Response</th>\n",
       "      <td>2.00</td>\n",
       "      <td>org</td>\n",
       "      <td></td>\n",
       "      <td>Int8</td>\n",
       "    </tr>\n",
       "    <tr>\n",
       "      <th>Vehicle_Age</th>\n",
       "      <td>3.00</td>\n",
       "      <td>org</td>\n",
       "      <td></td>\n",
       "      <td>Categorical</td>\n",
       "    </tr>\n",
       "    <tr>\n",
       "      <th>Vehicle_Damage</th>\n",
       "      <td>2.00</td>\n",
       "      <td>org</td>\n",
       "      <td></td>\n",
       "      <td>Categorical</td>\n",
       "    </tr>\n",
       "    <tr>\n",
       "      <th>Vintage</th>\n",
       "      <td>290.00</td>\n",
       "      <td>org</td>\n",
       "      <td></td>\n",
       "      <td>Int16</td>\n",
       "    </tr>\n",
       "    <tr>\n",
       "      <th>id</th>\n",
       "      <td>4920702.50</td>\n",
       "      <td>org</td>\n",
       "      <td></td>\n",
       "      <td>Int32</td>\n",
       "    </tr>\n",
       "  </tbody>\n",
       "</table>\n",
       "</div>"
      ],
      "text/plain": [
       "                        n_unique  src Description         type\n",
       "feature                                                       \n",
       "Age                        66.00  org                     Int8\n",
       "Annual_Premium          46734.25  org                  Float32\n",
       "Driving_License             2.00  org                     Int8\n",
       "Gender                      2.00  org              Categorical\n",
       "Policy_Sales_Channel      150.75  org              Categorical\n",
       "Previously_Insured          2.00  org                     Int8\n",
       "Region_Code                53.25  org              Categorical\n",
       "Response                    2.00  org                     Int8\n",
       "Vehicle_Age                 3.00  org              Categorical\n",
       "Vehicle_Damage              2.00  org              Categorical\n",
       "Vintage                   290.00  org                    Int16\n",
       "id                    4920702.50  org                    Int32"
      ]
     },
     "execution_count": 79,
     "metadata": {},
     "output_type": "execute_result"
    }
   ],
   "source": [
    "s_type = pd.Series(pl_type).rename('type').astype(str)\n",
    "df_type = df_type[['n_unique']].assign(src='org', Description='').join(s_type)\n",
    "df_type"
   ]
  },
  {
   "cell_type": "code",
   "execution_count": 52,
   "id": "ac3f7682-9524-43fa-9f1c-fc0b366b6a97",
   "metadata": {},
   "outputs": [],
   "source": [
    "dfl_train = pl.read_csv('data/train.csv', dtypes = pl_type)"
   ]
  },
  {
   "cell_type": "code",
   "execution_count": 83,
   "id": "5c2a2222-bb31-4ea8-ba6d-4f5c6cf9b51f",
   "metadata": {},
   "outputs": [],
   "source": [
    "dprocs = list()\n",
    "mode_AnnualPremium = dfl_train['Annual_Premium'].mode()[0]\n",
    "mean_Annual_Premium_without_mode = dfl_train.filter(pl.col('Annual_Premium') != mode_AnnualPremium)['Annual_Premium'].mean()\n",
    "dprocs.append(\n",
    "    partial(dproc.with_columns_opr, \n",
    "        proc_list=[\n",
    "            ('is_mode', 'is_Annual_Premium_mode', pl.when(pl.col('Annual_Premium') == mode_AnnualPremium).then(1).otherwise(0).cast(pl.Int8), 'Annual_Premium의 최빈값 여부'),\n",
    "            ('log_transform', 'log_Annual_Premium', \n",
    "                 (pl.when(pl.col('Annual_Premium') == mode_AnnualPremium).then(mean_Annual_Premium_without_mode).otherwise('Annual_Premium')).log(), \n",
    "             'Annual_Premium의 로그(최빈값은 평균으로 대체합니다.)')\n",
    "        ]\n",
    "    )\n",
    ")"
   ]
  },
  {
   "cell_type": "code",
   "execution_count": 85,
   "id": "9318f891-8a8a-4f87-918f-10aa5449b11d",
   "metadata": {},
   "outputs": [],
   "source": [
    "dfl_train, df_type = dproc.apply_procs(dfl_train, dprocs, df_type)\n",
    "df_train = dfl_train.to_pandas().set_index('id')\n",
    "del dfl_train\n",
    "df_train.to_pickle(files['train_pkl'])\n",
    "del df_train"
   ]
  },
  {
   "cell_type": "code",
   "execution_count": 87,
   "id": "8c2f8e46-b010-40b1-8b1e-958bb4392ef0",
   "metadata": {},
   "outputs": [],
   "source": [
    "dfl_test = pl.read_csv('data/test.csv', dtypes = pl_type)\n",
    "dfl_test, _ = dproc.apply_procs(dfl_test, dprocs)"
   ]
  },
  {
   "cell_type": "code",
   "execution_count": 23,
   "id": "5d06b402-8cec-45f1-98ea-be7b121bba79",
   "metadata": {},
   "outputs": [],
   "source": [
    "df_test = dfl_test.to_pandas().set_index('id')\n",
    "del dfl_test\n",
    "df_test.to_pickle(files['test_pkl'])\n",
    "del df_test"
   ]
  },
  {
   "cell_type": "code",
   "execution_count": 88,
   "id": "2edd850c-b66d-43a0-8b32-7bc2494e764c",
   "metadata": {},
   "outputs": [],
   "source": [
    "dfl_org_train = pl.read_csv('data/train_org.csv', dtypes=pl_type)\n",
    "dfl_org_train, _ = dproc.apply_procs(dfl_org_train, dprocs)\n",
    "dfl_org_test = pl.read_csv('data/test_org.csv', dtypes=pl_type)\n",
    "dfl_org_test, _ = dproc.apply_procs(dfl_org_test, dprocs)\n",
    "\n",
    "pd.concat([\n",
    "    dfl_org_train.with_columns(id=-pl.col('id')).to_pandas().set_index('id').assign(is_train=True),\n",
    "    dfl_org_test.with_columns(id=-pl.col('id')).to_pandas().set_index('id').assign(is_train=False)\n",
    "], axis=0).to_pickle(files['org_pkl'])\n",
    "\n",
    "del dfl_org_train, dfl_org_test"
   ]
  },
  {
   "cell_type": "code",
   "execution_count": 89,
   "id": "b1497cd3-7999-46f4-a7db-20b4498b50df",
   "metadata": {},
   "outputs": [],
   "source": [
    "df_type.to_pickle(files['var_pkl'])"
   ]
  },
  {
   "cell_type": "code",
   "execution_count": null,
   "id": "a47a4198-9ff3-465d-87f9-f0a511e6d7e1",
   "metadata": {},
   "outputs": [],
   "source": []
  }
 ],
 "metadata": {
  "kernelspec": {
   "display_name": "Python 3 (ipykernel)",
   "language": "python",
   "name": "python3"
  },
  "language_info": {
   "codemirror_mode": {
    "name": "ipython",
    "version": 3
   },
   "file_extension": ".py",
   "mimetype": "text/x-python",
   "name": "python",
   "nbconvert_exporter": "python",
   "pygments_lexer": "ipython3",
   "version": "3.12.3"
  }
 },
 "nbformat": 4,
 "nbformat_minor": 5
}
