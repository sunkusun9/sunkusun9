{
 "cells": [
  {
   "cell_type": "code",
   "execution_count": 12,
   "id": "69689385-840c-4cd4-9cbb-04ca552ded31",
   "metadata": {},
   "outputs": [],
   "source": [
    "import os\n",
    "import polars as pl\n",
    "import sgml, dproc"
   ]
  },
  {
   "cell_type": "code",
   "execution_count": 2,
   "id": "eabd70ce-3e45-48da-880b-077b208fdea6",
   "metadata": {},
   "outputs": [
    {
     "name": "stdout",
     "output_type": "stream",
     "text": [
      "Downloading playground-series-s4e7.zip to /home/sun9sun9/jnote/sunkusun9/kaggle/PGS4_ep7\n",
      "100%|████████████████████████████████████████| 247M/247M [00:25<00:00, 9.73MB/s]\n",
      "100%|████████████████████████████████████████| 247M/247M [00:25<00:00, 9.98MB/s]\n"
     ]
    }
   ],
   "source": [
    "if not os.path.isfile('data/train.csv'):\n",
    "    !kaggle competitions download -c playground-series-s4e7\n",
    "    !mkdir data\n",
    "    !unzip playground-series-s4e7.zip -d data\n",
    "    !rm playground-series-s4e7.zip\n",
    "    !kaggle datasets download -d annantkumarsingh/health-insurance-cross-sell-prediction-data\n",
    "    !unzip health-insurance-cross-sell-prediction-data.zip\n",
    "    !mv train.csv data/train_org.csv\n",
    "    !mv test.csv data/test_org.csv\n",
    "    !rm health-insurance-cross-sell-prediction-data.zip"
   ]
  },
  {
   "cell_type": "code",
   "execution_count": 4,
   "id": "1dd9048d-78d7-43b1-896e-c59b6b10234c",
   "metadata": {},
   "outputs": [
    {
     "name": "stdout",
     "output_type": "stream",
     "text": [
      "Archive:  playground-series-s4e7.zip\n",
      "  inflating: data/sample_submission.csv  \n",
      "  inflating: data/test.csv           \n",
      "  inflating: data/train.csv          \n"
     ]
    }
   ],
   "source": []
  },
  {
   "cell_type": "code",
   "execution_count": 5,
   "id": "0ec61348-7062-45ee-8c07-81adcdc8feaa",
   "metadata": {},
   "outputs": [],
   "source": []
  },
  {
   "cell_type": "code",
   "execution_count": 11,
   "id": "40e226eb-a7c0-49cd-a679-5c05d2d66ec4",
   "metadata": {},
   "outputs": [],
   "source": []
  },
  {
   "cell_type": "code",
   "execution_count": 9,
   "id": "ac3f7682-9524-43fa-9f1c-fc0b366b6a97",
   "metadata": {},
   "outputs": [
    {
     "name": "stdout",
     "output_type": "stream",
     "text": [
      "Archive:  health-insurance-cross-sell-prediction-data.zip\n",
      "  inflating: test.csv                \n",
      "  inflating: train.csv               \n"
     ]
    }
   ],
   "source": []
  },
  {
   "cell_type": "code",
   "execution_count": 10,
   "id": "9318f891-8a8a-4f87-918f-10aa5449b11d",
   "metadata": {},
   "outputs": [],
   "source": []
  },
  {
   "cell_type": "code",
   "execution_count": null,
   "id": "8c2f8e46-b010-40b1-8b1e-958bb4392ef0",
   "metadata": {},
   "outputs": [],
   "source": []
  }
 ],
 "metadata": {
  "kernelspec": {
   "display_name": "Python 3 (ipykernel)",
   "language": "python",
   "name": "python3"
  },
  "language_info": {
   "codemirror_mode": {
    "name": "ipython",
    "version": 3
   },
   "file_extension": ".py",
   "mimetype": "text/x-python",
   "name": "python",
   "nbconvert_exporter": "python",
   "pygments_lexer": "ipython3",
   "version": "3.12.3"
  }
 },
 "nbformat": 4,
 "nbformat_minor": 5
}
