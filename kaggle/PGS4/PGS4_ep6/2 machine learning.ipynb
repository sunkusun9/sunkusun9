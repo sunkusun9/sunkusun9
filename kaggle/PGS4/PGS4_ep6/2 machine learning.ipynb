{
 "cells": [
  {
   "cell_type": "code",
   "execution_count": 25,
   "id": "0e5cb0b9-c7bf-4a75-acc9-a3fb12060853",
   "metadata": {},
   "outputs": [
    {
     "name": "stdout",
     "output_type": "stream",
     "text": [
      "pandas 2.2.2\n",
      "numpy 1.26.4\n",
      "lightgbm 4.3.0\n",
      "xgboost 2.1.2\n",
      "catboost 1.2.5\n"
     ]
    }
   ],
   "source": [
    "import sys, os, re\n",
    "\n",
    "import joblib\n",
    "import pandas as pd\n",
    "import numpy as np\n",
    "\n",
    "import lightgbm as lgb\n",
    "import xgboost as xgb\n",
    "import catboost as cb\n",
    "\n",
    "import dproc, sgml, sgutil\n",
    "\n",
    "for i in [pd, np, lgb, xgb, cb]:\n",
    "    try:\n",
    "        print(i.__name__, i.__version__)\n",
    "    except:\n",
    "        pass"
   ]
  },
  {
   "cell_type": "code",
   "execution_count": 89,
   "id": "477e6b90-b207-4d08-90ea-cec6ea10a034",
   "metadata": {},
   "outputs": [],
   "source": [
    "data_path = 'data'\n",
    "files = {\n",
    "    k: os.path.join(p, f)\n",
    "    for k, p, f in [\n",
    "        ('train', data_path, 'train.csv'),\n",
    "        ('test', data_path, 'test.csv'),\n",
    "        ('org', data_path, 'data.csv'),\n",
    "        ('train_parquet', data_path, 'train.parquet'),\n",
    "        ('org_parquet', data_path, 'org.parquet'),\n",
    "        ('test_parquet', data_path, 'test.parquet'),\n",
    "        ('var_pkl', data_path, 'var.pkl')\n",
    "    ]\n",
    "}\n",
    "\n",
    "df_train = pd.read_parquet(files['train_parquet'])\n",
    "df_test = pd.read_parquet(files['test_parquet']).set_index('id')\n",
    "df_org = pd.read_parquet(files['org_parquet'])\n",
    "\n",
    "target = 'Target'\n",
    "sc = sgutil.SGCache('img', 'result')\n",
    "at = joblib.load(os.path.join(data_path, 'at.joblib'))\n",
    "df_train = at.transform(df_train)\n",
    "df_test = at.transform(df_test)\n",
    "df_org = at.transform(df_org.rename(columns = {\"Daytime/evening attendance\\t\": \"Daytime/evening attendance\"}))"
   ]
  },
  {
   "cell_type": "markdown",
   "id": "103f577b-ec79-43b6-9406-956bcadcb873",
   "metadata": {},
   "source": [
    "# Config"
   ]
  },
  {
   "cell_type": "code",
   "execution_count": 62,
   "id": "fd1d829a-1038-4efd-a86e-082dd4f42e59",
   "metadata": {},
   "outputs": [],
   "source": [
    "from sklearn.metrics import accuracy_score\n",
    "from sklearn.model_selection import train_test_split\n",
    "from sklearn.linear_model import LogisticRegression\n",
    "from sklearn.model_selection import StratifiedShuffleSplit, StratifiedKFold\n",
    "import sgml, sgnn\n",
    "\n",
    "skf = StratifiedKFold(5, shuffle=True, random_state=123)\n",
    "ss = StratifiedShuffleSplit(n_splits=1, train_size=0.8, random_state=123)\n",
    "target_values = at.body_transformer.label_transformer.classes_\n",
    "\n",
    "def get_validation_splitter(validation_frac):\n",
    "    return lambda x: train_test_split(x, test_size=validation_frac, stratify=x[target], random_state=123)\n",
    "\n",
    "config = {\n",
    "    'predict_func': lambda m, df, X: pd.DataFrame(m.predict_proba(df[X]), index=df.index),\n",
    "    'score_func': lambda df, prd: accuracy_score(df[target], prd.idxmax(axis=1)),\n",
    "    'progress_callback': sgml.ProgressCallBack(),\n",
    "    'validation_splitter': get_validation_splitter, 'return_train_scores': False,\n",
    "    'train_data_proc': lambda x: pd.concat([x, df_org], axis=0),\n",
    "    'y': target\n",
    "}\n",
    "\n",
    "config2 = {\n",
    "    'predict_func': lambda m, df, X: pd.DataFrame(m.predict_proba(df[X]), index=df.index),\n",
    "    'score_func': lambda df, prd: accuracy_score(df[target], prd.idxmax(axis=1)),\n",
    "    'progress_callback': sgml.ProgressCallBack(),\n",
    "    'validation_splitter': get_validation_splitter, 'return_train_scores': False,\n",
    "    'y': target\n",
    "}\n",
    "\n",
    "lgb_adapter = sgml.LGBMAdapter(lgb.LGBMClassifier)\n",
    "xgb_adapter = sgml.XGBAdapter(xgb.XGBClassifier)\n",
    "cb_adapter = sgml.CBAdapter(cb.CatBoostClassifier)\n",
    "nn_adapter = sgnn.NNAdapter(sgnn.NNClassifier)\n",
    "lr_adapter = sgml.SklearnAdapter(LogisticRegression)"
   ]
  },
  {
   "cell_type": "code",
   "execution_count": 28,
   "id": "1db0b775-26ac-43e0-aea7-e7ea3af3519a",
   "metadata": {},
   "outputs": [
    {
     "data": {
      "text/plain": [
       "['Admission grade',\n",
       " 'Age at enrollment',\n",
       " 'Curricular units 1st sem (approved)',\n",
       " 'Curricular units 1st sem (credited)',\n",
       " 'Curricular units 1st sem (enrolled)',\n",
       " 'Curricular units 1st sem (evaluations)',\n",
       " 'Curricular units 1st sem (grade)',\n",
       " 'Curricular units 1st sem (without evaluations)',\n",
       " 'Curricular units 2nd sem (approved)',\n",
       " 'Curricular units 2nd sem (credited)',\n",
       " 'Curricular units 2nd sem (enrolled)',\n",
       " 'Curricular units 2nd sem (evaluations)',\n",
       " 'Curricular units 2nd sem (grade)',\n",
       " 'Curricular units 2nd sem (without evaluations)',\n",
       " 'GDP',\n",
       " 'Previous qualification (grade)',\n",
       " 'Unemployment rate',\n",
       " 'not_approved_1st',\n",
       " 'not_approved_2nd',\n",
       " 'with_eval_1st',\n",
       " 'with_eval_2nd']"
      ]
     },
     "execution_count": 28,
     "metadata": {},
     "output_type": "execute_result"
    }
   ],
   "source": [
    "at.get_vars('num') + at.get_vars('ev')"
   ]
  },
  {
   "cell_type": "code",
   "execution_count": 29,
   "id": "4babda71-9f2f-4564-8994-edc316ad4855",
   "metadata": {},
   "outputs": [
    {
     "data": {
      "text/plain": [
       "30"
      ]
     },
     "execution_count": 29,
     "metadata": {},
     "output_type": "execute_result"
    }
   ],
   "source": [
    "df_train['np_Age at enrollment'].max()"
   ]
  },
  {
   "cell_type": "markdown",
   "id": "fad89e2d-54ae-49a8-a517-ce9e4c7828a4",
   "metadata": {},
   "source": [
    "# LR"
   ]
  },
  {
   "cell_type": "code",
   "execution_count": 30,
   "id": "445d9739-4392-4100-8876-4131a85a24ea",
   "metadata": {},
   "outputs": [],
   "source": [
    "lr = sgml.CVModel('model', 'lr', skf, config, lr_adapter).load_if_exists()"
   ]
  },
  {
   "cell_type": "code",
   "execution_count": 31,
   "id": "c9f778c2-f331-48bd-85f0-f90a442298e5",
   "metadata": {},
   "outputs": [
    {
     "data": {
      "application/vnd.jupyter.widget-view+json": {
       "model_id": "a220cade80b74d44a5a456eecf3d6efb",
       "version_major": 2,
       "version_minor": 0
      },
      "text/plain": [
       "Fold:   0%|          | 0/5 [00:00<?, ?it/s]"
      ]
     },
     "metadata": {},
     "output_type": "display_data"
    },
    {
     "data": {
      "text/plain": [
       "0.8281580679782252"
      ]
     },
     "execution_count": 31,
     "metadata": {},
     "output_type": "execute_result"
    }
   ],
   "source": [
    "X_cont_sel = [\n",
    "    'np_Age at enrollment',\n",
    "    'Admission grade',\n",
    "    'Previous qualification (grade)',\n",
    "    'np_Curricular units 2nd sem (grade)', 'np_Curricular units 1st sem (grade)',\n",
    "    'Curricular units 2nd sem (credited)', 'Curricular units 1st sem (credited)',\n",
    "    'Curricular units 2nd sem (without evaluations)', 'Curricular units 1st sem (without evaluations)',\n",
    "]\n",
    "\n",
    "X_cat_sel = [\n",
    "    'nom__Course', 'bool__Tuition fees up to date',\n",
    "    'nom__Application mode', 'bool__Scholarship holder', 'bool__Gender',\n",
    "    'nom__Previous qualification', 'bool__Debtor', \"nom__Mother's qualification\",\n",
    "    \"nom__Father's qualification\", \"nom__Mother's occupation\", \"nom__Father's occupation\",\n",
    "    'ord__Application order', 'bool__Displaced', \n",
    "    'np_Curricular units 2nd sem (approved)', 'np_Curricular units 1st sem (approved)',\n",
    "    'np_Curricular units 2nd sem (enrolled)', 'np_Curricular units 1st sem (enrolled)',\n",
    "    'np_Curricular units 2nd sem (evaluations)', 'np_Curricular units 1st sem (evaluations)'\n",
    "]\n",
    "hparams = {\n",
    "    'model_params': {'C': 1, 'max_iter': 500, 'multi_class': 'multinomial'}, \n",
    "    'X_tgt': ['1st_eval_grade', '2nd_eval_grade'], 'tgt': {'random_state': 123 },\n",
    "    'X_ohe': X_cat_sel + at.get_vars(('cat', 'ord')), 'X_mm': X_cont_sel, 'X_num': [], 'ohe': {'drop': 'first', 'handle_unknown': 'ignore'}\n",
    "}\n",
    "result = lr.cv(df_train, hparams)\n",
    "np.mean(result['valid_scores'])"
   ]
  },
  {
   "cell_type": "markdown",
   "id": "4d5b7692-2e77-439c-9c05-5612c3b66acf",
   "metadata": {},
   "source": [
    "# CB"
   ]
  },
  {
   "cell_type": "markdown",
   "id": "65ddbf72-980e-4403-9458-7940e177ee71",
   "metadata": {},
   "source": [
    "## cb1"
   ]
  },
  {
   "cell_type": "code",
   "execution_count": 32,
   "id": "39f0b39b-3db8-4d3e-96d2-ef9459a709d5",
   "metadata": {},
   "outputs": [],
   "source": [
    "cb1 = sgml.CVModel('model', 'cb1', skf, config, cb_adapter).load_if_exists()"
   ]
  },
  {
   "cell_type": "code",
   "execution_count": 33,
   "id": "161aea7e-8973-4501-99be-ee7fcf67fada",
   "metadata": {},
   "outputs": [
    {
     "data": {
      "application/vnd.jupyter.widget-view+json": {
       "model_id": "c68b1f02a6084790ab1f983f82c3e721",
       "version_major": 2,
       "version_minor": 0
      },
      "text/plain": [
       "Fold:   0%|          | 0/5 [00:00<?, ?it/s]"
      ]
     },
     "metadata": {},
     "output_type": "display_data"
    }
   ],
   "source": [
    "hparams = {\n",
    "    'model_params': {'n_estimators': 2500, 'learning_rate': 0.04, 'random_state': 123}, \n",
    "    'X_num': at.get_vars('num') + at.get_vars(('cat', 'pt')),\n",
    "    'X_cat': at.get_vars(('cat', 'nom')) + at.get_vars(('cat', 'bool')) + at.get_vars(('cat', 'ord')), \n",
    "    #'validation_fraction': 0.1,\n",
    "}\n",
    "#result = cb1.adhoc(df_train, ss, hparams)\n",
    "result = cb1.cv(df_train, hparams, task_type = 'GPU')"
   ]
  },
  {
   "cell_type": "code",
   "execution_count": 34,
   "id": "4e886442-cc64-463c-9eae-5a9e9f351993",
   "metadata": {},
   "outputs": [
    {
     "data": {
      "text/plain": [
       "0.8339605981136096"
      ]
     },
     "execution_count": 34,
     "metadata": {},
     "output_type": "execute_result"
    }
   ],
   "source": [
    "np.mean(result['valid_scores'])"
   ]
  },
  {
   "cell_type": "markdown",
   "id": "8d4ef404-2d2e-409a-80c5-227aad7dc2d3",
   "metadata": {},
   "source": [
    "# LGB"
   ]
  },
  {
   "cell_type": "markdown",
   "id": "c1ab26fe-906f-4c1a-a26e-68d4a4f436b1",
   "metadata": {},
   "source": [
    "## lgb1"
   ]
  },
  {
   "cell_type": "code",
   "execution_count": 35,
   "id": "219c9120-f817-4523-8c78-3bc3140115fb",
   "metadata": {},
   "outputs": [],
   "source": [
    "lgb1 = sgml.CVModel('model', 'lgb1', skf, config, lgb_adapter).load_if_exists()"
   ]
  },
  {
   "cell_type": "code",
   "execution_count": 36,
   "id": "127b0a6e-0050-4688-a88b-116ceeacc020",
   "metadata": {},
   "outputs": [
    {
     "data": {
      "application/vnd.jupyter.widget-view+json": {
       "model_id": "633150ca51234fef8c5d1fc11dc51ce3",
       "version_major": 2,
       "version_minor": 0
      },
      "text/plain": [
       "Fold:   0%|          | 0/5 [00:00<?, ?it/s]"
      ]
     },
     "metadata": {},
     "output_type": "display_data"
    },
    {
     "data": {
      "application/vnd.jupyter.widget-view+json": {
       "model_id": "86ad718580164d1f8b4fadb18f40676e",
       "version_major": 2,
       "version_minor": 0
      },
      "text/plain": [
       "Round:   0%|          | 0/4000 [00:00<?, ?it/s]"
      ]
     },
     "metadata": {},
     "output_type": "display_data"
    },
    {
     "data": {
      "application/vnd.jupyter.widget-view+json": {
       "model_id": "3c5a717a313f4fe2b12064682b936b71",
       "version_major": 2,
       "version_minor": 0
      },
      "text/plain": [
       "Round:   0%|          | 0/4000 [00:00<?, ?it/s]"
      ]
     },
     "metadata": {},
     "output_type": "display_data"
    },
    {
     "data": {
      "application/vnd.jupyter.widget-view+json": {
       "model_id": "76691b519888461a9d50c8feaa2f1209",
       "version_major": 2,
       "version_minor": 0
      },
      "text/plain": [
       "Round:   0%|          | 0/4000 [00:00<?, ?it/s]"
      ]
     },
     "metadata": {},
     "output_type": "display_data"
    },
    {
     "data": {
      "application/vnd.jupyter.widget-view+json": {
       "model_id": "8a731d12dc584f2dad07fb6dba0ca758",
       "version_major": 2,
       "version_minor": 0
      },
      "text/plain": [
       "Round:   0%|          | 0/4000 [00:00<?, ?it/s]"
      ]
     },
     "metadata": {},
     "output_type": "display_data"
    },
    {
     "data": {
      "application/vnd.jupyter.widget-view+json": {
       "model_id": "0c5cc406d75f4efb851213ab73691b0f",
       "version_major": 2,
       "version_minor": 0
      },
      "text/plain": [
       "Round:   0%|          | 0/4000 [00:00<?, ?it/s]"
      ]
     },
     "metadata": {},
     "output_type": "display_data"
    }
   ],
   "source": [
    "hparams = {\n",
    "    'model_params': {'n_estimators': 4000, 'learning_rate': 0.007, 'colsample_bytree': 0.25}, \n",
    "    #'validation_fraction': 0.1,\n",
    "    'X_num': at.get_vars('num') + at.get_vars(('cat', 'pt')), \n",
    "    'X_cat': at.get_vars(('cat', 'nom')) + at.get_vars(('cat', 'bool')) + at.get_vars(('cat', 'ord'))\n",
    "}\n",
    "#result = lgb1.adhoc(df_train, ss, hparams)\n",
    "result = lgb1.cv(df_train, hparams)"
   ]
  },
  {
   "cell_type": "code",
   "execution_count": 37,
   "id": "ca1ab751-a533-46e3-9c25-e20c82bd2deb",
   "metadata": {},
   "outputs": [
    {
     "data": {
      "text/plain": [
       "0.8344179991425342"
      ]
     },
     "execution_count": 37,
     "metadata": {},
     "output_type": "execute_result"
    }
   ],
   "source": [
    "np.mean(result['valid_scores'])"
   ]
  },
  {
   "cell_type": "markdown",
   "id": "2ba5a229-48e9-4518-a77d-bcd5b3f8b954",
   "metadata": {},
   "source": [
    "## lgb2"
   ]
  },
  {
   "cell_type": "code",
   "execution_count": 38,
   "id": "dee690f2-a869-4af2-bece-42dcc04f1ca1",
   "metadata": {},
   "outputs": [],
   "source": [
    "lgb2 = sgml.CVModel('model', 'lgb2', skf, config, lgb_adapter).load_if_exists()"
   ]
  },
  {
   "cell_type": "code",
   "execution_count": 39,
   "id": "a7d3e8d7-3ada-4bde-a06d-6ca8b1c5f95a",
   "metadata": {},
   "outputs": [
    {
     "data": {
      "application/vnd.jupyter.widget-view+json": {
       "model_id": "3b9a798be94541a7a8f67135e09936a2",
       "version_major": 2,
       "version_minor": 0
      },
      "text/plain": [
       "Fold:   0%|          | 0/5 [00:00<?, ?it/s]"
      ]
     },
     "metadata": {},
     "output_type": "display_data"
    },
    {
     "data": {
      "application/vnd.jupyter.widget-view+json": {
       "model_id": "a5d9402543d0456298200aaf69e91293",
       "version_major": 2,
       "version_minor": 0
      },
      "text/plain": [
       "Round:   0%|          | 0/4000 [00:00<?, ?it/s]"
      ]
     },
     "metadata": {},
     "output_type": "display_data"
    },
    {
     "data": {
      "application/vnd.jupyter.widget-view+json": {
       "model_id": "010dc2cc76464adda75bb51e7d6124f6",
       "version_major": 2,
       "version_minor": 0
      },
      "text/plain": [
       "Round:   0%|          | 0/4000 [00:00<?, ?it/s]"
      ]
     },
     "metadata": {},
     "output_type": "display_data"
    },
    {
     "data": {
      "application/vnd.jupyter.widget-view+json": {
       "model_id": "f9381532e5e445a2b03d17746b10b866",
       "version_major": 2,
       "version_minor": 0
      },
      "text/plain": [
       "Round:   0%|          | 0/4000 [00:00<?, ?it/s]"
      ]
     },
     "metadata": {},
     "output_type": "display_data"
    },
    {
     "data": {
      "application/vnd.jupyter.widget-view+json": {
       "model_id": "5dc7bad4e8c449a2a08fc00e4c3418ca",
       "version_major": 2,
       "version_minor": 0
      },
      "text/plain": [
       "Round:   0%|          | 0/4000 [00:00<?, ?it/s]"
      ]
     },
     "metadata": {},
     "output_type": "display_data"
    },
    {
     "data": {
      "application/vnd.jupyter.widget-view+json": {
       "model_id": "e864f2aa90394f14b32513b12d5ce7f3",
       "version_major": 2,
       "version_minor": 0
      },
      "text/plain": [
       "Round:   0%|          | 0/4000 [00:00<?, ?it/s]"
      ]
     },
     "metadata": {},
     "output_type": "display_data"
    }
   ],
   "source": [
    "hparams = {\n",
    "    'model_params': {'n_estimators': 4000, 'num_leaves': 15, 'learning_rate': 0.02, 'colsample_bytree': 0.25}, \n",
    "    #'validation_fraction': 0.1,\n",
    "    'X_num': at.get_vars('num') + at.get_vars(('cat', 'pt')), \n",
    "    'X_cat': at.get_vars(('cat', 'nom')) + at.get_vars(('cat', 'bool')) + at.get_vars(('cat', 'ord'))\n",
    "}\n",
    "#result = lgb2.adhoc(df_train, ss, hparams)\n",
    "result = lgb2.cv(df_train, hparams)"
   ]
  },
  {
   "cell_type": "code",
   "execution_count": 40,
   "id": "aeda3e4d-5b08-4cda-acfe-7211f91efefb",
   "metadata": {},
   "outputs": [
    {
     "data": {
      "text/plain": [
       "0.8341435636490685"
      ]
     },
     "execution_count": 40,
     "metadata": {},
     "output_type": "execute_result"
    }
   ],
   "source": [
    "np.mean(result['valid_scores'])"
   ]
  },
  {
   "cell_type": "markdown",
   "id": "b4be6506-1d42-49df-af7c-aba7c58526d5",
   "metadata": {},
   "source": [
    "# XGB"
   ]
  },
  {
   "cell_type": "markdown",
   "id": "caaa01e8-64e5-4315-9abd-919891dc6c75",
   "metadata": {},
   "source": [
    "## xgb1"
   ]
  },
  {
   "cell_type": "code",
   "execution_count": 41,
   "id": "49eac603-d26f-4318-be8a-40b25dee9d71",
   "metadata": {},
   "outputs": [],
   "source": [
    "xgb1 = sgml.CVModel('model', 'xgb1', skf, config, xgb_adapter).load_if_exists()"
   ]
  },
  {
   "cell_type": "code",
   "execution_count": 42,
   "id": "2af4fe95-565c-455e-8de1-374f6185291d",
   "metadata": {},
   "outputs": [
    {
     "data": {
      "application/vnd.jupyter.widget-view+json": {
       "model_id": "e9f7fd2bd70d48e9bc88f2515f3207ea",
       "version_major": 2,
       "version_minor": 0
      },
      "text/plain": [
       "Fold:   0%|          | 0/5 [00:00<?, ?it/s]"
      ]
     },
     "metadata": {},
     "output_type": "display_data"
    },
    {
     "data": {
      "application/vnd.jupyter.widget-view+json": {
       "model_id": "836eef0354a144c888441afc592f8019",
       "version_major": 2,
       "version_minor": 0
      },
      "text/plain": [
       "Round:   0%|          | 0/4500 [00:00<?, ?it/s]"
      ]
     },
     "metadata": {},
     "output_type": "display_data"
    },
    {
     "name": "stderr",
     "output_type": "stream",
     "text": [
      "/home/sun9sun9/python312/lib/python3.12/site-packages/xgboost/core.py:158: UserWarning: [22:29:25] WARNING: /workspace/src/common/error_msg.cc:58: Falling back to prediction using DMatrix due to mismatched devices. This might lead to higher memory usage and slower performance. XGBoost is running on: cuda:0, while the input data is on: cpu.\n",
      "Potential solutions:\n",
      "- Use a data structure that matches the device ordinal in the booster.\n",
      "- Set the device for booster before call to inplace_predict.\n",
      "\n",
      "This warning will only be shown once.\n",
      "\n",
      "  warnings.warn(smsg, UserWarning)\n"
     ]
    },
    {
     "data": {
      "application/vnd.jupyter.widget-view+json": {
       "model_id": "00d38bc5eadf43bc9fc43e348aee32eb",
       "version_major": 2,
       "version_minor": 0
      },
      "text/plain": [
       "Round:   0%|          | 0/4500 [00:00<?, ?it/s]"
      ]
     },
     "metadata": {},
     "output_type": "display_data"
    },
    {
     "data": {
      "application/vnd.jupyter.widget-view+json": {
       "model_id": "cdcca2cd76964d4190be963b7951fc3c",
       "version_major": 2,
       "version_minor": 0
      },
      "text/plain": [
       "Round:   0%|          | 0/4500 [00:00<?, ?it/s]"
      ]
     },
     "metadata": {},
     "output_type": "display_data"
    },
    {
     "data": {
      "application/vnd.jupyter.widget-view+json": {
       "model_id": "4d10d3f5aa2e47f8b20c97455254e440",
       "version_major": 2,
       "version_minor": 0
      },
      "text/plain": [
       "Round:   0%|          | 0/4500 [00:00<?, ?it/s]"
      ]
     },
     "metadata": {},
     "output_type": "display_data"
    },
    {
     "data": {
      "application/vnd.jupyter.widget-view+json": {
       "model_id": "ef51c74c00b346e4b4ed40133efa4dbf",
       "version_major": 2,
       "version_minor": 0
      },
      "text/plain": [
       "Round:   0%|          | 0/4500 [00:00<?, ?it/s]"
      ]
     },
     "metadata": {},
     "output_type": "display_data"
    }
   ],
   "source": [
    "hparams = {\n",
    "    'model_params': {'n_estimators': 4500, 'learning_rate': 0.007, 'colsample_bytree': 0.25}, \n",
    "    'X_num': at.get_vars('num') + at.get_vars(('cat', 'pt')), \n",
    "    'X_cat': at.get_vars(('cat', 'nom')) + at.get_vars(('cat', 'bool')) + at.get_vars(('cat', 'ord'))\n",
    "    #'validation_fraction': 0.1,\n",
    "}\n",
    "#result = xgb1.adhoc(df_train, ss, hparams, device= 'cuda')\n",
    "result = xgb1.cv(df_train, hparams, device= 'cuda')"
   ]
  },
  {
   "cell_type": "code",
   "execution_count": 43,
   "id": "5f8ebd01-f35b-4ad1-861c-3cb7731f16c9",
   "metadata": {},
   "outputs": [
    {
     "data": {
      "text/plain": [
       "0.8346793815288379"
      ]
     },
     "execution_count": 43,
     "metadata": {},
     "output_type": "execute_result"
    }
   ],
   "source": [
    "np.mean(result['valid_scores'])"
   ]
  },
  {
   "cell_type": "markdown",
   "id": "ab1d3ccd-ddd8-40d3-b7dd-7f1d1f8bc3a6",
   "metadata": {},
   "source": [
    "# NN"
   ]
  },
  {
   "cell_type": "markdown",
   "id": "557ecd6e-795a-4d48-b2fa-99c1cf9996c0",
   "metadata": {},
   "source": [
    "## NN1"
   ]
  },
  {
   "cell_type": "code",
   "execution_count": 44,
   "id": "9b53f161-5f10-448b-a856-464a5c1742be",
   "metadata": {},
   "outputs": [],
   "source": [
    "nn1 = sgml.CVModel('model', 'nn1', skf, config, nn_adapter).load_if_exists()"
   ]
  },
  {
   "cell_type": "code",
   "execution_count": 45,
   "id": "0a09b1da-817f-489f-bb1c-5a46ed7ab1d1",
   "metadata": {},
   "outputs": [
    {
     "data": {
      "application/vnd.jupyter.widget-view+json": {
       "model_id": "4b9d8abc5e314810a1ae28d33c8ce80a",
       "version_major": 2,
       "version_minor": 0
      },
      "text/plain": [
       "Fold:   0%|          | 0/5 [00:00<?, ?it/s]"
      ]
     },
     "metadata": {},
     "output_type": "display_data"
    },
    {
     "name": "stderr",
     "output_type": "stream",
     "text": [
      "2025-01-16 22:32:15.441550: I external/local_xla/xla/stream_executor/cuda/cuda_executor.cc:984] could not open file to read NUMA node: /sys/bus/pci/devices/0000:01:00.0/numa_node\n",
      "Your kernel may have been built without NUMA support.\n",
      "2025-01-16 22:32:15.546379: W tensorflow/core/common_runtime/gpu/gpu_device.cc:2251] Cannot dlopen some GPU libraries. Please make sure the missing libraries mentioned above are installed properly if you would like to use GPU. Follow the guide at https://www.tensorflow.org/install/gpu for how to download and setup the required libraries for your platform.\n",
      "Skipping registering GPU devices...\n"
     ]
    },
    {
     "data": {
      "application/vnd.jupyter.widget-view+json": {
       "model_id": "d8df1d8d74ec4a5496207574eadcdc16",
       "version_major": 2,
       "version_minor": 0
      },
      "text/plain": [
       "Epoch:   0%|          | 0/50 [00:00<?, ?it/s]"
      ]
     },
     "metadata": {},
     "output_type": "display_data"
    },
    {
     "data": {
      "application/vnd.jupyter.widget-view+json": {
       "model_id": "1a3d3c812d1147f5a9b6246f71180f8e",
       "version_major": 2,
       "version_minor": 0
      },
      "text/plain": [
       "Step:   0%|          | 0/58 [00:00<?, ?it/s]"
      ]
     },
     "metadata": {},
     "output_type": "display_data"
    },
    {
     "data": {
      "application/vnd.jupyter.widget-view+json": {
       "model_id": "a2d37af0d769401faf7881b863dfd13f",
       "version_major": 2,
       "version_minor": 0
      },
      "text/plain": [
       "Epoch:   0%|          | 0/50 [00:00<?, ?it/s]"
      ]
     },
     "metadata": {},
     "output_type": "display_data"
    },
    {
     "data": {
      "application/vnd.jupyter.widget-view+json": {
       "model_id": "9e662323cd264a7589fccabd472d4602",
       "version_major": 2,
       "version_minor": 0
      },
      "text/plain": [
       "Step:   0%|          | 0/58 [00:00<?, ?it/s]"
      ]
     },
     "metadata": {},
     "output_type": "display_data"
    },
    {
     "data": {
      "application/vnd.jupyter.widget-view+json": {
       "model_id": "bfc8f6bec66e48f29a740f0044f63325",
       "version_major": 2,
       "version_minor": 0
      },
      "text/plain": [
       "Epoch:   0%|          | 0/50 [00:00<?, ?it/s]"
      ]
     },
     "metadata": {},
     "output_type": "display_data"
    },
    {
     "data": {
      "application/vnd.jupyter.widget-view+json": {
       "model_id": "27a7f8836f1c4f84863369407d3cb969",
       "version_major": 2,
       "version_minor": 0
      },
      "text/plain": [
       "Step:   0%|          | 0/58 [00:00<?, ?it/s]"
      ]
     },
     "metadata": {},
     "output_type": "display_data"
    },
    {
     "data": {
      "application/vnd.jupyter.widget-view+json": {
       "model_id": "95191ef14bdf4c6d86e53ad34f957552",
       "version_major": 2,
       "version_minor": 0
      },
      "text/plain": [
       "Epoch:   0%|          | 0/50 [00:00<?, ?it/s]"
      ]
     },
     "metadata": {},
     "output_type": "display_data"
    },
    {
     "data": {
      "application/vnd.jupyter.widget-view+json": {
       "model_id": "bff68cd124874cc9917302da04fc96c0",
       "version_major": 2,
       "version_minor": 0
      },
      "text/plain": [
       "Step:   0%|          | 0/58 [00:00<?, ?it/s]"
      ]
     },
     "metadata": {},
     "output_type": "display_data"
    },
    {
     "data": {
      "application/vnd.jupyter.widget-view+json": {
       "model_id": "043f21ecfda44752aff9ffb15510bd5f",
       "version_major": 2,
       "version_minor": 0
      },
      "text/plain": [
       "Epoch:   0%|          | 0/50 [00:00<?, ?it/s]"
      ]
     },
     "metadata": {},
     "output_type": "display_data"
    },
    {
     "data": {
      "application/vnd.jupyter.widget-view+json": {
       "model_id": "b5d4122bbae241cf8b6f57cbe2b2de3f",
       "version_major": 2,
       "version_minor": 0
      },
      "text/plain": [
       "Step:   0%|          | 0/58 [00:00<?, ?it/s]"
      ]
     },
     "metadata": {},
     "output_type": "display_data"
    },
    {
     "data": {
      "text/plain": [
       "([0.8267773131207528,\n",
       "  0.825209095661265,\n",
       "  0.825013068478829,\n",
       "  0.8234333137293341,\n",
       "  0.8233026204012285],\n",
       " 0.824747082278282)"
      ]
     },
     "execution_count": 45,
     "metadata": {},
     "output_type": "execute_result"
    }
   ],
   "source": [
    "emb_config = [\n",
    "    ('nom__Course', 3),\n",
    "    ('nom__Application mode', 2),\n",
    "    ('nom__Previous qualification', 2),\n",
    "    (\"nom__Mother's qualification\", 2),\n",
    "    (\"nom__Father's qualification\", 2),\n",
    "    (\"nom__Mother's occupation\", 2),\n",
    "    (\"nom__Father's occupation\", 2),\n",
    "    ('nom__Marital status', 2),\n",
    "]\n",
    "X_cat = [i for i,_ in emb_config]\n",
    "embedding = [(1, len(df_train[a].cat.categories), b, 0, 0) for a, b in emb_config]\n",
    "hparams = {\n",
    "    'model_params': {\n",
    "        'model_params': {\n",
    "            'config': [\n",
    "                {'unit': 32, 'activation': 'relu', 'batch_norm': True},\n",
    "            ], 'embedding': embedding,\n",
    "        },\n",
    "        'batch_size': 1024,\n",
    "        'shuffle_size': 204800, 'epochs': 50, 'optimizer': ('Adam', {'learning_rate': 0.0002})\n",
    "    }, \n",
    "    'validation_fraction': 0.1,\n",
    "    'X_std': at.get_vars('np'),\n",
    "    'X_mm': ['ord__Application order'],\n",
    "    'X_num': at.get_vars(('cat', 'bool')),\n",
    "    'X_cat': [i for i,_ in emb_config],\n",
    "}\n",
    "result = nn1.cv(df_train, hparams)\n",
    "result['valid_scores'], np.mean(result['valid_scores'])"
   ]
  },
  {
   "cell_type": "markdown",
   "id": "ff7f23a2-a9be-49bc-bcf8-95dfd892cc0b",
   "metadata": {},
   "source": [
    "# Stacking"
   ]
  },
  {
   "cell_type": "code",
   "execution_count": 47,
   "id": "d6f7f26d-85d5-4ab5-be4d-28301f96d7db",
   "metadata": {},
   "outputs": [
    {
     "data": {
      "text/html": [
       "<div>\n",
       "<style scoped>\n",
       "    .dataframe tbody tr th:only-of-type {\n",
       "        vertical-align: middle;\n",
       "    }\n",
       "\n",
       "    .dataframe tbody tr th {\n",
       "        vertical-align: top;\n",
       "    }\n",
       "\n",
       "    .dataframe thead th {\n",
       "        text-align: right;\n",
       "    }\n",
       "</style>\n",
       "<table border=\"1\" class=\"dataframe\">\n",
       "  <thead>\n",
       "    <tr style=\"text-align: right;\">\n",
       "      <th></th>\n",
       "      <th>lr</th>\n",
       "      <th>cb1</th>\n",
       "      <th>lgb1</th>\n",
       "      <th>xgb1</th>\n",
       "      <th>nn1</th>\n",
       "      <th>lgb2</th>\n",
       "    </tr>\n",
       "  </thead>\n",
       "  <tbody>\n",
       "    <tr>\n",
       "      <th>accuracy</th>\n",
       "      <td>0.828158</td>\n",
       "      <td>0.833961</td>\n",
       "      <td>0.834418</td>\n",
       "      <td>0.834679</td>\n",
       "      <td>0.824747</td>\n",
       "      <td>0.834144</td>\n",
       "    </tr>\n",
       "  </tbody>\n",
       "</table>\n",
       "</div>"
      ],
      "text/plain": [
       "                lr       cb1      lgb1      xgb1       nn1      lgb2\n",
       "accuracy  0.828158  0.833961  0.834418  0.834679  0.824747  0.834144"
      ]
     },
     "execution_count": 47,
     "metadata": {},
     "output_type": "execute_result"
    }
   ],
   "source": [
    "models = [lr, cb1, lgb1, xgb1, nn1, lgb2]\n",
    "pd.Series([np.mean(i.cv_best_['score']) for i in models], index = [i.name for i in models]).rename('accuracy').to_frame().T"
   ]
  },
  {
   "cell_type": "code",
   "execution_count": 48,
   "id": "3698fadb-1121-49af-9d28-9db186626478",
   "metadata": {},
   "outputs": [
    {
     "data": {
      "text/html": [
       "<div>\n",
       "<style scoped>\n",
       "    .dataframe tbody tr th:only-of-type {\n",
       "        vertical-align: middle;\n",
       "    }\n",
       "\n",
       "    .dataframe tbody tr th {\n",
       "        vertical-align: top;\n",
       "    }\n",
       "\n",
       "    .dataframe thead th {\n",
       "        text-align: right;\n",
       "    }\n",
       "</style>\n",
       "<table border=\"1\" class=\"dataframe\">\n",
       "  <thead>\n",
       "    <tr style=\"text-align: right;\">\n",
       "      <th></th>\n",
       "      <th>lr_0</th>\n",
       "      <th>lr_1</th>\n",
       "      <th>lr_2</th>\n",
       "      <th>cb1_0</th>\n",
       "      <th>cb1_1</th>\n",
       "      <th>cb1_2</th>\n",
       "      <th>lgb1_0</th>\n",
       "      <th>lgb1_1</th>\n",
       "      <th>lgb1_2</th>\n",
       "      <th>xgb1_0</th>\n",
       "      <th>xgb1_1</th>\n",
       "      <th>xgb1_2</th>\n",
       "      <th>nn1_0</th>\n",
       "      <th>nn1_1</th>\n",
       "      <th>nn1_2</th>\n",
       "      <th>lgb2_0</th>\n",
       "      <th>lgb2_1</th>\n",
       "      <th>lgb2_2</th>\n",
       "      <th>Target</th>\n",
       "    </tr>\n",
       "  </thead>\n",
       "  <tbody>\n",
       "    <tr>\n",
       "      <th>1</th>\n",
       "      <td>0.858329</td>\n",
       "      <td>0.127828</td>\n",
       "      <td>0.013842</td>\n",
       "      <td>0.926196</td>\n",
       "      <td>0.070178</td>\n",
       "      <td>0.003626</td>\n",
       "      <td>0.884549</td>\n",
       "      <td>0.096841</td>\n",
       "      <td>0.018610</td>\n",
       "      <td>0.900966</td>\n",
       "      <td>0.086165</td>\n",
       "      <td>0.012868</td>\n",
       "      <td>0.889123</td>\n",
       "      <td>0.108955</td>\n",
       "      <td>0.001921</td>\n",
       "      <td>0.924632</td>\n",
       "      <td>0.068568</td>\n",
       "      <td>0.006800</td>\n",
       "      <td>0</td>\n",
       "    </tr>\n",
       "    <tr>\n",
       "      <th>9</th>\n",
       "      <td>0.031521</td>\n",
       "      <td>0.062546</td>\n",
       "      <td>0.905933</td>\n",
       "      <td>0.025408</td>\n",
       "      <td>0.045505</td>\n",
       "      <td>0.929087</td>\n",
       "      <td>0.029732</td>\n",
       "      <td>0.055176</td>\n",
       "      <td>0.915092</td>\n",
       "      <td>0.021430</td>\n",
       "      <td>0.046260</td>\n",
       "      <td>0.932310</td>\n",
       "      <td>0.040308</td>\n",
       "      <td>0.050390</td>\n",
       "      <td>0.909301</td>\n",
       "      <td>0.026422</td>\n",
       "      <td>0.048343</td>\n",
       "      <td>0.925235</td>\n",
       "      <td>2</td>\n",
       "    </tr>\n",
       "    <tr>\n",
       "      <th>18</th>\n",
       "      <td>0.080162</td>\n",
       "      <td>0.364092</td>\n",
       "      <td>0.555746</td>\n",
       "      <td>0.062638</td>\n",
       "      <td>0.346000</td>\n",
       "      <td>0.591362</td>\n",
       "      <td>0.082621</td>\n",
       "      <td>0.356373</td>\n",
       "      <td>0.561006</td>\n",
       "      <td>0.068766</td>\n",
       "      <td>0.352113</td>\n",
       "      <td>0.579121</td>\n",
       "      <td>0.058689</td>\n",
       "      <td>0.242998</td>\n",
       "      <td>0.698314</td>\n",
       "      <td>0.073793</td>\n",
       "      <td>0.372273</td>\n",
       "      <td>0.553934</td>\n",
       "      <td>2</td>\n",
       "    </tr>\n",
       "    <tr>\n",
       "      <th>20</th>\n",
       "      <td>0.912444</td>\n",
       "      <td>0.086933</td>\n",
       "      <td>0.000623</td>\n",
       "      <td>0.924855</td>\n",
       "      <td>0.074237</td>\n",
       "      <td>0.000908</td>\n",
       "      <td>0.947882</td>\n",
       "      <td>0.051346</td>\n",
       "      <td>0.000772</td>\n",
       "      <td>0.948736</td>\n",
       "      <td>0.049214</td>\n",
       "      <td>0.002050</td>\n",
       "      <td>0.935100</td>\n",
       "      <td>0.064233</td>\n",
       "      <td>0.000668</td>\n",
       "      <td>0.941298</td>\n",
       "      <td>0.058385</td>\n",
       "      <td>0.000317</td>\n",
       "      <td>0</td>\n",
       "    </tr>\n",
       "    <tr>\n",
       "      <th>22</th>\n",
       "      <td>0.028377</td>\n",
       "      <td>0.029890</td>\n",
       "      <td>0.941733</td>\n",
       "      <td>0.033389</td>\n",
       "      <td>0.017086</td>\n",
       "      <td>0.949525</td>\n",
       "      <td>0.044236</td>\n",
       "      <td>0.033052</td>\n",
       "      <td>0.922712</td>\n",
       "      <td>0.044807</td>\n",
       "      <td>0.022925</td>\n",
       "      <td>0.932268</td>\n",
       "      <td>0.026536</td>\n",
       "      <td>0.026836</td>\n",
       "      <td>0.946628</td>\n",
       "      <td>0.047522</td>\n",
       "      <td>0.036331</td>\n",
       "      <td>0.916147</td>\n",
       "      <td>2</td>\n",
       "    </tr>\n",
       "  </tbody>\n",
       "</table>\n",
       "</div>"
      ],
      "text/plain": [
       "        lr_0      lr_1      lr_2     cb1_0     cb1_1     cb1_2    lgb1_0  \\\n",
       "1   0.858329  0.127828  0.013842  0.926196  0.070178  0.003626  0.884549   \n",
       "9   0.031521  0.062546  0.905933  0.025408  0.045505  0.929087  0.029732   \n",
       "18  0.080162  0.364092  0.555746  0.062638  0.346000  0.591362  0.082621   \n",
       "20  0.912444  0.086933  0.000623  0.924855  0.074237  0.000908  0.947882   \n",
       "22  0.028377  0.029890  0.941733  0.033389  0.017086  0.949525  0.044236   \n",
       "\n",
       "      lgb1_1    lgb1_2    xgb1_0    xgb1_1    xgb1_2     nn1_0     nn1_1  \\\n",
       "1   0.096841  0.018610  0.900966  0.086165  0.012868  0.889123  0.108955   \n",
       "9   0.055176  0.915092  0.021430  0.046260  0.932310  0.040308  0.050390   \n",
       "18  0.356373  0.561006  0.068766  0.352113  0.579121  0.058689  0.242998   \n",
       "20  0.051346  0.000772  0.948736  0.049214  0.002050  0.935100  0.064233   \n",
       "22  0.033052  0.922712  0.044807  0.022925  0.932268  0.026536  0.026836   \n",
       "\n",
       "       nn1_2    lgb2_0    lgb2_1    lgb2_2  Target  \n",
       "1   0.001921  0.924632  0.068568  0.006800       0  \n",
       "9   0.909301  0.026422  0.048343  0.925235       2  \n",
       "18  0.698314  0.073793  0.372273  0.553934       2  \n",
       "20  0.000668  0.941298  0.058385  0.000317       0  \n",
       "22  0.946628  0.047522  0.036331  0.916147       2  "
      ]
     },
     "execution_count": 48,
     "metadata": {},
     "output_type": "execute_result"
    }
   ],
   "source": [
    "df_stk = sgml.stack_cv(models, df_train[target])\n",
    "df_stk.head()"
   ]
  },
  {
   "cell_type": "code",
   "execution_count": 55,
   "id": "b5f07b0e-3d5d-49fc-8614-60f1e531b1ba",
   "metadata": {},
   "outputs": [
    {
     "data": {
      "text/plain": [
       "0.834914660602734"
      ]
     },
     "execution_count": 55,
     "metadata": {},
     "output_type": "execute_result"
    }
   ],
   "source": [
    "X_stk = [i for i in df_stk.columns if i.split('_')[0] in ['cb1', 'xgb1', 'lgb1', 'lgb2'] and i.split('_')[1] in ['0', '1', '2']]\n",
    "accuracy_score(\n",
    "    df_train[target],\n",
    "    df_stk[X_stk].T.groupby(df_stk.columns[1:-1].to_series().str.split('_', expand=True)[1]).mean().T.idxmax(axis=1).sort_index().astype('int')\n",
    ")"
   ]
  },
  {
   "cell_type": "code",
   "execution_count": 63,
   "id": "ff59bfc7-4755-40ca-bdc6-7a0c8a99c4c3",
   "metadata": {},
   "outputs": [],
   "source": [
    "lr_stk = sgml.CVModel('model', 'lr_stk', skf, config2, lr_adapter)#.load_if_exists()"
   ]
  },
  {
   "cell_type": "code",
   "execution_count": 67,
   "id": "6e3664ae-46f6-4388-95cb-9040b5e1273a",
   "metadata": {},
   "outputs": [
    {
     "data": {
      "text/plain": [
       "0.8345095664544318"
      ]
     },
     "execution_count": 67,
     "metadata": {},
     "output_type": "execute_result"
    }
   ],
   "source": [
    "X_stk = [i for i in df_stk.columns if i.split('_')[0] in ['cb1', 'xgb1', 'lgb1', 'lgb2'] and i.split('_')[1] in ['0', '1']]\n",
    "result = lr_stk.cv(df_stk, {\n",
    "    'model_params': {}, 'X_num': X_stk\n",
    "})\n",
    "result = lr_stk.cv_best_, np.mean(result['valid_scores'])\n",
    "result[0]['score']"
   ]
  },
  {
   "cell_type": "code",
   "execution_count": 68,
   "id": "f33ea104-b886-4ad2-9c1b-8508849d8333",
   "metadata": {},
   "outputs": [
    {
     "data": {
      "application/vnd.jupyter.widget-view+json": {
       "model_id": "548de6bcfdd748339b69c731a7ef2eb0",
       "version_major": 2,
       "version_minor": 0
      },
      "text/plain": [
       "Round:   0%|          | 0/4000 [00:00<?, ?it/s]"
      ]
     },
     "metadata": {},
     "output_type": "display_data"
    },
    {
     "data": {
      "application/vnd.jupyter.widget-view+json": {
       "model_id": "07abc15c6fed4e889388e2effb525869",
       "version_major": 2,
       "version_minor": 0
      },
      "text/plain": [
       "Round:   0%|          | 0/4500 [00:00<?, ?it/s]"
      ]
     },
     "metadata": {},
     "output_type": "display_data"
    },
    {
     "data": {
      "application/vnd.jupyter.widget-view+json": {
       "model_id": "b6acffe395f94e8cbaaee9df290b3f76",
       "version_major": 2,
       "version_minor": 0
      },
      "text/plain": [
       "Epoch:   0%|          | 0/50 [00:00<?, ?it/s]"
      ]
     },
     "metadata": {},
     "output_type": "display_data"
    },
    {
     "data": {
      "application/vnd.jupyter.widget-view+json": {
       "model_id": "fd44460217d049e48cf4967ba912c8f0",
       "version_major": 2,
       "version_minor": 0
      },
      "text/plain": [
       "Step:   0%|          | 0/68 [00:00<?, ?it/s]"
      ]
     },
     "metadata": {},
     "output_type": "display_data"
    },
    {
     "data": {
      "application/vnd.jupyter.widget-view+json": {
       "model_id": "3a4b72c4a7424b5eb72a7adc7de98d86",
       "version_major": 2,
       "version_minor": 0
      },
      "text/plain": [
       "Round:   0%|          | 0/4000 [00:00<?, ?it/s]"
      ]
     },
     "metadata": {},
     "output_type": "display_data"
    }
   ],
   "source": [
    "for i in models:\n",
    "    if i.name.startswith('cb'):\n",
    "        i.train(df_train, task_type = 'GPU')\n",
    "    elif i.name.startswith('xgb'):\n",
    "        i.train(df_train, device = 'cuda')\n",
    "    else:\n",
    "        i.train(df_train)"
   ]
  },
  {
   "cell_type": "code",
   "execution_count": 90,
   "id": "cdeaaf42-1aea-4020-a3bf-56496ca844e4",
   "metadata": {},
   "outputs": [],
   "source": [
    "l = list()\n",
    "for i in models:\n",
    "    fname = os.path.join('result', '{}_test.parquet'.format(i.name))\n",
    "    if os.path.exists(fname):\n",
    "        l.append(pd.read_parquet(fname))\n",
    "    else:\n",
    "        l.append(i.get_predictor()(df_test).rename(columns = lambda x: '{}_{}'.format(i.name,  x)))\n",
    "        l[-1].to_parquet(fname)"
   ]
  },
  {
   "cell_type": "code",
   "execution_count": 91,
   "id": "66499120-12ca-4052-8ed3-555fb99a916b",
   "metadata": {},
   "outputs": [],
   "source": [
    "df_stk_test = pd.concat(l, axis=1)\n",
    "#.T.groupby(df_stk.columns[1:-1].to_series().str.split('_', expand=True)[1]).mean().T.idxmax(axis=1).sort_index()"
   ]
  },
  {
   "cell_type": "code",
   "execution_count": 92,
   "id": "b3cc2007-3aed-4d6a-9722-608b448c53e6",
   "metadata": {},
   "outputs": [],
   "source": [
    "X_mean = [i for i in df_stk_test.columns if i.split('_')[0] in ['cb1', 'xgb1', 'lgb1', 'lgb2']]\n",
    "X_grp = [i.split('_')[1] for i in X_mean if i.split('_')[0] in ['cb1', 'xgb1', 'lgb1', 'lgb2']]\n",
    "s_prd = df_stk_test[X_mean].T.groupby(X_grp).mean().T.idxmax(axis=1).sort_index().rename(target)"
   ]
  },
  {
   "cell_type": "code",
   "execution_count": 93,
   "id": "f8490a76-75ce-42a5-92ed-7a61127ed77a",
   "metadata": {},
   "outputs": [],
   "source": [
    "pd.Series(\n",
    "    at.body_transformer.label_transformer.inverse_transform(s_prd.astype('int')),\n",
    "    index = s_prd.index.rename('id')\n",
    ").rename('Target').to_frame().to_csv('result/submission4.csv')"
   ]
  },
  {
   "cell_type": "code",
   "execution_count": 94,
   "id": "4f606fde-eace-4416-a69f-338aaad438ae",
   "metadata": {},
   "outputs": [
    {
     "name": "stdout",
     "output_type": "stream",
     "text": [
      "Warning: Looks like you're using an outdated API Version, please consider updating (server 1.6.17 / client 1.6.12)\n",
      "100%|█████████████████████████████████████████| 759k/759k [00:01<00:00, 403kB/s]\n",
      "Successfully submitted to Classification with an Academic Success Dataset"
     ]
    }
   ],
   "source": [
    "!kaggle competitions submit -c playground-series-s4e6 -f result/submission4.csv -m '4'"
   ]
  },
  {
   "cell_type": "code",
   "execution_count": null,
   "id": "1a5649aa-a6b7-4f39-978b-14b3ca47a34e",
   "metadata": {},
   "outputs": [],
   "source": []
  }
 ],
 "metadata": {
  "kernelspec": {
   "display_name": "Python 3 (ipykernel)",
   "language": "python",
   "name": "python3"
  },
  "language_info": {
   "codemirror_mode": {
    "name": "ipython",
    "version": 3
   },
   "file_extension": ".py",
   "mimetype": "text/x-python",
   "name": "python",
   "nbconvert_exporter": "python",
   "pygments_lexer": "ipython3",
   "version": "3.12.3"
  }
 },
 "nbformat": 4,
 "nbformat_minor": 5
}
