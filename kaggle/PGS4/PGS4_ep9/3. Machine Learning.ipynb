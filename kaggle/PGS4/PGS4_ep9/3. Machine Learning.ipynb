{
 "cells": [
  {
   "cell_type": "code",
   "execution_count": 2,
   "id": "6b1d91d2-224a-47ad-8a40-2e3eea2d81d3",
   "metadata": {},
   "outputs": [
    {
     "name": "stderr",
     "output_type": "stream",
     "text": [
      "2025-05-02 08:07:07.413334: E external/local_xla/xla/stream_executor/cuda/cuda_fft.cc:467] Unable to register cuFFT factory: Attempting to register factory for plugin cuFFT when one has already been registered\n",
      "WARNING: All log messages before absl::InitializeLog() is called are written to STDERR\n",
      "E0000 00:00:1746173227.424936   21786 cuda_dnn.cc:8579] Unable to register cuDNN factory: Attempting to register factory for plugin cuDNN when one has already been registered\n",
      "E0000 00:00:1746173227.428526   21786 cuda_blas.cc:1407] Unable to register cuBLAS factory: Attempting to register factory for plugin cuBLAS when one has already been registered\n",
      "W0000 00:00:1746173227.437614   21786 computation_placer.cc:177] computation placer already registered. Please check linkage and avoid linking the same target more than once.\n",
      "W0000 00:00:1746173227.437627   21786 computation_placer.cc:177] computation placer already registered. Please check linkage and avoid linking the same target more than once.\n",
      "W0000 00:00:1746173227.437629   21786 computation_placer.cc:177] computation placer already registered. Please check linkage and avoid linking the same target more than once.\n",
      "W0000 00:00:1746173227.437630   21786 computation_placer.cc:177] computation placer already registered. Please check linkage and avoid linking the same target more than once.\n",
      "2025-05-02 08:07:07.440684: I tensorflow/core/platform/cpu_feature_guard.cc:210] This TensorFlow binary is optimized to use available CPU instructions in performance-critical operations.\n",
      "To enable the following instructions: AVX2 FMA, in other operations, rebuild TensorFlow with the appropriate compiler flags.\n"
     ]
    }
   ],
   "source": [
    "import os\n",
    "import sgml, dproc, sgml, sgpp, sgutil, cupp, sgnn\n",
    "import pandas as pd\n",
    "import polars as pl\n",
    "import numpy as np\n",
    "import matplotlib.pyplot as plt\n",
    "import seaborn as sns\n",
    "from sklearn.pipeline import make_pipeline\n",
    "import warnings \n",
    "warnings.simplefilter('ignore', FutureWarning)"
   ]
  },
  {
   "cell_type": "code",
   "execution_count": 3,
   "id": "afc991d3-39a2-412f-8ab8-da796f98add3",
   "metadata": {},
   "outputs": [],
   "source": [
    "df_train = pd.read_pickle('data/train_proc.pkl')\n",
    "df_test = pd.read_pickle('data/test_proc.pkl')\n",
    "sc = sgutil.SGCache('img', 'result', 'model')"
   ]
  },
  {
   "cell_type": "code",
   "execution_count": 4,
   "id": "f29b2e06-649a-4270-9db5-27fe898fabcf",
   "metadata": {},
   "outputs": [],
   "source": [
    "import lightgbm as lgb\n",
    "import xgboost as xgb\n",
    "import catboost as cb\n",
    "from sklearn.metrics import root_mean_squared_error\n",
    "from sklearn.model_selection import KFold, cross_validate, cross_val_score, ShuffleSplit, train_test_split\n",
    "kf = KFold(3, shuffle = True, random_state = 123)\n",
    "ss = ShuffleSplit(1, train_size = 0.6, random_state = 123)\n",
    "\n",
    "target = 'price'\n",
    "X_all = df_test.columns.tolist()\n",
    "def get_validation_splitter(validation_fraction):\n",
    "    return lambda x: train_test_split(x, test_size = validation_fraction)\n",
    "\n",
    "config = {\n",
    "    'predict_func': lambda m, df, X: pd.Series(m.predict(df[X]), index = df.index).rename(target),\n",
    "    'score_func': lambda df, prds: root_mean_squared_error(df[target], prds),\n",
    "    'validation_splitter': get_validation_splitter,\n",
    "    'progress_callback': sgml.ProgressCallBack(), \n",
    "    'return_train_scores': True,\n",
    "    'y': target,\n",
    "}\n",
    "\n",
    "lgb_adapter = sgml.LGBMAdapter(lgb.LGBMRegressor, progress = 50)\n",
    "xgb_adapter = sgml.XGBAdapter(xgb.XGBRegressor, progress = 50)\n",
    "cb_adapter = sgml.CBAdapter(cb.CatBoostRegressor, progress = 50)"
   ]
  },
  {
   "cell_type": "markdown",
   "id": "97bf7f24-dee7-4a5d-8833-0f4c4c1566d1",
   "metadata": {},
   "source": [
    "- 전처리 과정에서 정리에 효과가 있었던 변수, brand2, model2를 brand와 model을 대신해서 투입\n",
    "- transmission을 분해한 speed와 method 분리한 변수로 투입 \n",
    "- engine을 제외하고, HP, displacement, engine_type,fuel_type를 투입합니다.\n",
    "- 이상점과, 공선성이 많은 데이터 이므로, colsample_bytree와 subsample의 효과성을 살펴볼 만 합니다."
   ]
  },
  {
   "cell_type": "markdown",
   "id": "6dde8d4f-73f6-4aaa-8831-72a6667ded5f",
   "metadata": {},
   "source": [
    "# LGB1"
   ]
  },
  {
   "cell_type": "code",
   "execution_count": 42,
   "id": "35392da7-53dd-41f4-898a-e8b70fb8ede5",
   "metadata": {},
   "outputs": [
    {
     "data": {
      "text/plain": [
       "(np.float64(73126.03774675484),\n",
       " [np.float64(72654.94299535119),\n",
       "  np.float64(73774.6678137179),\n",
       "  np.float64(72948.50243119543)])"
      ]
     },
     "execution_count": 42,
     "metadata": {},
     "output_type": "execute_result"
    }
   ],
   "source": [
    "hparams = {\n",
    "    'model_params': {\n",
    "        'n_estimators': 100, 'learning_rate': 0.05, 'colsample_bytree': 0.25, 'subsample': 0.5, 'metric': 'RMSE',\n",
    "        'subsample_freq': 1\n",
    "    }, \n",
    "    'X_num' : ['model_year', 'milage', 'clean_title', 'HP', 'displacement', 'speed'],\n",
    "    'X_cat' : ['brand2', 'model2', 'fuel_type', 'ext_col', 'int_col', 'accident', 'engine_type', 'fuel_type_engine', 'method'],\n",
    "    'cat': {'handle_unknown': 'use_encoded_value', 'unknown_value': -1, 'encoded_missing_value': -1},\n",
    "    'validation_fraction': 0.0\n",
    "}\n",
    "result_lgb = sc.cv_result('lgb1', df_train, kf, hparams, config, lgb_adapter, rerun = 0)\n",
    "np.mean(result_lgb['valid_scores']), result_lgb['valid_scores']"
   ]
  },
  {
   "cell_type": "markdown",
   "id": "933a1453-6ae4-4f9d-a56a-d900b736799f",
   "metadata": {},
   "source": [
    "# LGB2"
   ]
  },
  {
   "cell_type": "code",
   "execution_count": 53,
   "id": "375de957-860d-4080-a3e2-0a0814cd6985",
   "metadata": {},
   "outputs": [
    {
     "data": {
      "application/vnd.jupyter.widget-view+json": {
       "model_id": "",
       "version_major": 2,
       "version_minor": 0
      },
      "text/plain": [
       "Fold:   0%|          | 0/3 [00:00<?, ?it/s]"
      ]
     },
     "metadata": {},
     "output_type": "display_data"
    },
    {
     "data": {
      "application/vnd.jupyter.widget-view+json": {
       "model_id": "",
       "version_major": 2,
       "version_minor": 0
      },
      "text/plain": [
       "Round:   0%|          | 0/100 [00:00<?, ?it/s]"
      ]
     },
     "metadata": {},
     "output_type": "display_data"
    },
    {
     "data": {
      "application/vnd.jupyter.widget-view+json": {
       "model_id": "",
       "version_major": 2,
       "version_minor": 0
      },
      "text/plain": [
       "Round:   0%|          | 0/100 [00:00<?, ?it/s]"
      ]
     },
     "metadata": {},
     "output_type": "display_data"
    },
    {
     "data": {
      "application/vnd.jupyter.widget-view+json": {
       "model_id": "",
       "version_major": 2,
       "version_minor": 0
      },
      "text/plain": [
       "Round:   0%|          | 0/100 [00:00<?, ?it/s]"
      ]
     },
     "metadata": {},
     "output_type": "display_data"
    },
    {
     "data": {
      "text/plain": [
       "(np.float64(73103.69088746003),\n",
       " [np.float64(72631.17496246735),\n",
       "  np.float64(73764.29274176608),\n",
       "  np.float64(72915.60495814668)])"
      ]
     },
     "execution_count": 53,
     "metadata": {},
     "output_type": "execute_result"
    }
   ],
   "source": [
    "hparams = {\n",
    "    'model_params': {\n",
    "        'num_leaves': 15, 'n_estimators': 100, 'learning_rate': 0.05, 'colsample_bytree': 0.25, 'subsample': 0.5, 'metric': 'RMSE',\n",
    "        'subsample_freq': 1\n",
    "    }, \n",
    "    'X_num' : ['model_year', 'milage', 'clean_title', 'HP', 'displacement', 'speed'],\n",
    "    'X_cat' : ['brand2', 'model2', 'fuel_type', 'ext_col', 'int_col', 'accident', 'engine_type', 'fuel_type_engine', 'method'],\n",
    "    'cat': {'handle_unknown': 'use_encoded_value', 'unknown_value': -1, 'encoded_missing_value': -1},\n",
    "    'validation_fraction': 0.0\n",
    "}\n",
    "result_lgb = sc.cv_result('lgb2', df_train, kf, hparams, config, lgb_adapter, rerun = 0)\n",
    "np.mean(result_lgb['valid_scores']), result_lgb['valid_scores']"
   ]
  },
  {
   "cell_type": "markdown",
   "id": "c0943704-5c65-4573-ab0d-4cb49ddf0533",
   "metadata": {},
   "source": [
    "# CB1"
   ]
  },
  {
   "cell_type": "code",
   "execution_count": 110,
   "id": "e76162e4-6f1b-4f51-a1b7-3f3ef8cf636e",
   "metadata": {},
   "outputs": [
    {
     "data": {
      "application/vnd.jupyter.widget-view+json": {
       "model_id": "",
       "version_major": 2,
       "version_minor": 0
      },
      "text/plain": [
       "Fold:   0%|          | 0/3 [00:00<?, ?it/s]"
      ]
     },
     "metadata": {},
     "output_type": "display_data"
    },
    {
     "data": {
      "application/vnd.jupyter.widget-view+json": {
       "model_id": "",
       "version_major": 2,
       "version_minor": 0
      },
      "text/plain": [
       "Round:   0%|          | 0/350 [00:00<?, ?it/s]"
      ]
     },
     "metadata": {},
     "output_type": "display_data"
    },
    {
     "data": {
      "application/vnd.jupyter.widget-view+json": {
       "model_id": "",
       "version_major": 2,
       "version_minor": 0
      },
      "text/plain": [
       "Round:   0%|          | 0/350 [00:00<?, ?it/s]"
      ]
     },
     "metadata": {},
     "output_type": "display_data"
    },
    {
     "data": {
      "application/vnd.jupyter.widget-view+json": {
       "model_id": "",
       "version_major": 2,
       "version_minor": 0
      },
      "text/plain": [
       "Round:   0%|          | 0/350 [00:00<?, ?it/s]"
      ]
     },
     "metadata": {},
     "output_type": "display_data"
    },
    {
     "data": {
      "text/plain": [
       "(np.float64(72826.97552013601),\n",
       " [np.float64(72369.80797852752),\n",
       "  np.float64(73450.82948886989),\n",
       "  np.float64(72660.28909301062)])"
      ]
     },
     "execution_count": 110,
     "metadata": {},
     "output_type": "execute_result"
    }
   ],
   "source": [
    "hparams = {\n",
    "    'model_params': {'n_estimators': 350, 'learning_rate': 0.03, 'colsample_bylevel': 0.5, 'subsample': 0.5}, \n",
    "    'X_num' : ['model_year', 'milage', 'clean_title', 'HP', 'displacement', 'speed'],\n",
    "    'X_cat' : ['brand2', 'model2', 'fuel_type', 'method', 'ext_col', 'int_col', 'accident', 'engine_type', 'fuel_type_engine'],\n",
    "    'cat': {'handle_unknown': 'use_encoded_value', 'unknown_value': -1, 'encoded_missing_value': -1},\n",
    "    'validation_fraction': 0.0\n",
    "}\n",
    "result_cb = sc.cv_result('cb1', df_train, kf, hparams, config, cb_adapter, rerun = 0)\n",
    "np.mean(result_cb['valid_scores']), result_cb['valid_scores']"
   ]
  },
  {
   "cell_type": "markdown",
   "id": "3070e5c3-7072-446f-9432-4acd6dfc6867",
   "metadata": {},
   "source": [
    "# CB2"
   ]
  },
  {
   "cell_type": "code",
   "execution_count": 127,
   "id": "35399b67-1757-4219-80c2-bbc55c65f711",
   "metadata": {},
   "outputs": [
    {
     "data": {
      "application/vnd.jupyter.widget-view+json": {
       "model_id": "",
       "version_major": 2,
       "version_minor": 0
      },
      "text/plain": [
       "Fold:   0%|          | 0/3 [00:00<?, ?it/s]"
      ]
     },
     "metadata": {},
     "output_type": "display_data"
    },
    {
     "data": {
      "application/vnd.jupyter.widget-view+json": {
       "model_id": "",
       "version_major": 2,
       "version_minor": 0
      },
      "text/plain": [
       "Round:   0%|          | 0/850 [00:00<?, ?it/s]"
      ]
     },
     "metadata": {},
     "output_type": "display_data"
    },
    {
     "data": {
      "application/vnd.jupyter.widget-view+json": {
       "model_id": "",
       "version_major": 2,
       "version_minor": 0
      },
      "text/plain": [
       "Round:   0%|          | 0/850 [00:00<?, ?it/s]"
      ]
     },
     "metadata": {},
     "output_type": "display_data"
    },
    {
     "data": {
      "application/vnd.jupyter.widget-view+json": {
       "model_id": "",
       "version_major": 2,
       "version_minor": 0
      },
      "text/plain": [
       "Round:   0%|          | 0/850 [00:00<?, ?it/s]"
      ]
     },
     "metadata": {},
     "output_type": "display_data"
    },
    {
     "data": {
      "text/plain": [
       "(np.float64(72790.98690276669),\n",
       " [np.float64(72319.41451040065),\n",
       "  np.float64(73455.37773399118),\n",
       "  np.float64(72598.16846390825)])"
      ]
     },
     "execution_count": 127,
     "metadata": {},
     "output_type": "execute_result"
    }
   ],
   "source": [
    "hparams = {\n",
    "    'model_params': {'max_depth': 5, 'n_estimators': 850, 'learning_rate': 0.03, 'colsample_bylevel': 0.5, 'subsample': 0.5}, \n",
    "    'X_num' : ['model_year', 'milage', 'clean_title', 'HP', 'displacement', 'speed'],\n",
    "    'X_cat' : ['brand2', 'model2', 'fuel_type', 'method', 'ext_col', 'int_col', 'accident', 'engine_type', 'fuel_type_engine'],\n",
    "    'cat': {'handle_unknown': 'use_encoded_value', 'unknown_value': -1, 'encoded_missing_value': -1},\n",
    "    'validation_fraction': 0.0\n",
    "}\n",
    "result_cb = sc.cv_result('cb2', df_train, kf, hparams, config, cb_adapter, rerun = 1)\n",
    "np.mean(result_cb['valid_scores']), result_cb['valid_scores']"
   ]
  },
  {
   "cell_type": "markdown",
   "id": "eb190900-f46b-41fa-a110-47d6bd385aef",
   "metadata": {},
   "source": [
    "# XGB1"
   ]
  },
  {
   "cell_type": "code",
   "execution_count": 155,
   "id": "c16b0ab7-b49d-4131-ac7c-4d2e2cff2dff",
   "metadata": {},
   "outputs": [
    {
     "data": {
      "application/vnd.jupyter.widget-view+json": {
       "model_id": "",
       "version_major": 2,
       "version_minor": 0
      },
      "text/plain": [
       "Fold:   0%|          | 0/3 [00:00<?, ?it/s]"
      ]
     },
     "metadata": {},
     "output_type": "display_data"
    },
    {
     "data": {
      "application/vnd.jupyter.widget-view+json": {
       "model_id": "",
       "version_major": 2,
       "version_minor": 0
      },
      "text/plain": [
       "Round:   0%|          | 0/550 [00:00<?, ?it/s]"
      ]
     },
     "metadata": {},
     "output_type": "display_data"
    },
    {
     "data": {
      "application/vnd.jupyter.widget-view+json": {
       "model_id": "",
       "version_major": 2,
       "version_minor": 0
      },
      "text/plain": [
       "Round:   0%|          | 0/550 [00:00<?, ?it/s]"
      ]
     },
     "metadata": {},
     "output_type": "display_data"
    },
    {
     "data": {
      "application/vnd.jupyter.widget-view+json": {
       "model_id": "",
       "version_major": 2,
       "version_minor": 0
      },
      "text/plain": [
       "Round:   0%|          | 0/550 [00:00<?, ?it/s]"
      ]
     },
     "metadata": {},
     "output_type": "display_data"
    },
    {
     "data": {
      "text/plain": [
       "(np.float64(73102.25545583667),\n",
       " [np.float64(72782.4386748881),\n",
       "  np.float64(73746.93383663215),\n",
       "  np.float64(72777.39385598978)])"
      ]
     },
     "execution_count": 155,
     "metadata": {},
     "output_type": "execute_result"
    }
   ],
   "source": [
    "hparams = {\n",
    "    'model_params': {\n",
    "        'max_depth': 3, 'n_estimators': 550, 'learning_rate': 0.01, 'colsample_bytree': 0.25, 'subsample': 0.5,\n",
    "        'enable_categorical': True\n",
    "    }, \n",
    "    'X_num' : ['model_year', 'milage', 'clean_title', 'HP', 'displacement', 'speed'],\n",
    "    'X_cat' : ['brand2', 'model2', 'fuel_type', 'ext_col', 'int_col', 'accident', 'engine_type', 'fuel_type_engine', 'method'],\n",
    "    'cat': {'handle_unknown': 'use_encoded_value', 'unknown_value': -1, 'encoded_missing_value': -1},\n",
    "    'validation_fraction': 0.0\n",
    "}\n",
    "result_xgb = sc.cv_result('xgb1', df_train, kf, hparams, config, xgb_adapter, rerun = 0)\n",
    "np.mean(result_xgb['valid_scores']), result_xgb['valid_scores']"
   ]
  },
  {
   "cell_type": "markdown",
   "id": "8fd58a51-da97-4da0-9224-c2a4091aa571",
   "metadata": {},
   "source": [
    "# XGB2"
   ]
  },
  {
   "cell_type": "code",
   "execution_count": 164,
   "id": "78de3c32-4cae-4dbf-92ea-021fad50f425",
   "metadata": {},
   "outputs": [
    {
     "data": {
      "application/vnd.jupyter.widget-view+json": {
       "model_id": "",
       "version_major": 2,
       "version_minor": 0
      },
      "text/plain": [
       "Fold:   0%|          | 0/3 [00:00<?, ?it/s]"
      ]
     },
     "metadata": {},
     "output_type": "display_data"
    },
    {
     "data": {
      "application/vnd.jupyter.widget-view+json": {
       "model_id": "",
       "version_major": 2,
       "version_minor": 0
      },
      "text/plain": [
       "Round:   0%|          | 0/550 [00:00<?, ?it/s]"
      ]
     },
     "metadata": {},
     "output_type": "display_data"
    },
    {
     "data": {
      "application/vnd.jupyter.widget-view+json": {
       "model_id": "",
       "version_major": 2,
       "version_minor": 0
      },
      "text/plain": [
       "Round:   0%|          | 0/550 [00:00<?, ?it/s]"
      ]
     },
     "metadata": {},
     "output_type": "display_data"
    },
    {
     "data": {
      "application/vnd.jupyter.widget-view+json": {
       "model_id": "",
       "version_major": 2,
       "version_minor": 0
      },
      "text/plain": [
       "Round:   0%|          | 0/550 [00:00<?, ?it/s]"
      ]
     },
     "metadata": {},
     "output_type": "display_data"
    },
    {
     "data": {
      "text/plain": [
       "(np.float64(73180.96601080298),\n",
       " [np.float64(72857.16472818457),\n",
       "  np.float64(73831.12021971532),\n",
       "  np.float64(72854.61308450907)])"
      ]
     },
     "execution_count": 164,
     "metadata": {},
     "output_type": "execute_result"
    }
   ],
   "source": [
    "hparams = {\n",
    "    'model_params': {\n",
    "        'max_depth': 2, 'n_estimators': 550, 'learning_rate': 0.01, 'colsample_bytree': 0.25, 'subsample': 0.5,\n",
    "        'enable_categorical': True\n",
    "    }, \n",
    "    'X_num' : ['model_year', 'milage', 'clean_title', 'HP', 'displacement', 'speed'],\n",
    "    'X_cat' : ['brand2', 'model2', 'fuel_type', 'ext_col', 'int_col', 'accident', 'engine_type', 'fuel_type_engine', 'method'],\n",
    "    'cat': {'handle_unknown': 'use_encoded_value', 'unknown_value': -1, 'encoded_missing_value': -1},\n",
    "    'validation_fraction': 0.0\n",
    "}\n",
    "result_xgb = sc.cv_result('xgb2', df_train, kf, hparams, config, xgb_adapter, rerun = 0)\n",
    "np.mean(result_xgb['valid_scores']), result_xgb['valid_scores']"
   ]
  },
  {
   "cell_type": "code",
   "execution_count": 162,
   "id": "8409e93e-b86e-43d0-820c-c940614f478c",
   "metadata": {},
   "outputs": [
    {
     "data": {
      "text/plain": [
       "metric  set         \n",
       "rmse    validation_0    549\n",
       "        validation_1    548\n",
       "dtype: int64"
      ]
     },
     "execution_count": 162,
     "metadata": {},
     "output_type": "execute_result"
    }
   ],
   "source": [
    "result_xgb['model_result'][0]['valid_result'].idxmin()"
   ]
  },
  {
   "cell_type": "markdown",
   "id": "95d8fef8-f8bf-4181-8cb0-2a04b70474d3",
   "metadata": {},
   "source": [
    "# CB3"
   ]
  },
  {
   "cell_type": "code",
   "execution_count": 180,
   "id": "096dceea-ba3d-4b23-9c5e-f0c4d35a30ef",
   "metadata": {},
   "outputs": [
    {
     "data": {
      "application/vnd.jupyter.widget-view+json": {
       "model_id": "",
       "version_major": 2,
       "version_minor": 0
      },
      "text/plain": [
       "Fold:   0%|          | 0/3 [00:00<?, ?it/s]"
      ]
     },
     "metadata": {},
     "output_type": "display_data"
    },
    {
     "data": {
      "application/vnd.jupyter.widget-view+json": {
       "model_id": "",
       "version_major": 2,
       "version_minor": 0
      },
      "text/plain": [
       "Round:   0%|          | 0/900 [00:00<?, ?it/s]"
      ]
     },
     "metadata": {},
     "output_type": "display_data"
    },
    {
     "data": {
      "application/vnd.jupyter.widget-view+json": {
       "model_id": "",
       "version_major": 2,
       "version_minor": 0
      },
      "text/plain": [
       "Round:   0%|          | 0/900 [00:00<?, ?it/s]"
      ]
     },
     "metadata": {},
     "output_type": "display_data"
    },
    {
     "data": {
      "application/vnd.jupyter.widget-view+json": {
       "model_id": "",
       "version_major": 2,
       "version_minor": 0
      },
      "text/plain": [
       "Round:   0%|          | 0/900 [00:00<?, ?it/s]"
      ]
     },
     "metadata": {},
     "output_type": "display_data"
    },
    {
     "data": {
      "text/plain": [
       "(np.float64(72806.49541548973),\n",
       " [np.float64(72321.66558357302),\n",
       "  np.float64(73480.13829648319),\n",
       "  np.float64(72617.68236641302)])"
      ]
     },
     "execution_count": 180,
     "metadata": {},
     "output_type": "execute_result"
    }
   ],
   "source": [
    "hparams = {\n",
    "    'model_params': {'max_depth': 4, 'n_estimators': 900, 'learning_rate': 0.03, 'colsample_bylevel': 0.5, 'subsample': 0.5}, \n",
    "    'X_num' : ['model_year', 'milage', 'clean_title', 'HP', 'displacement', 'speed'],\n",
    "    'X_cat' : ['brand2', 'model2', 'fuel_type', 'method', 'ext_col', 'int_col', 'accident', 'engine_type', 'fuel_type_engine'],\n",
    "    'cat': {'handle_unknown': 'use_encoded_value', 'unknown_value': -1, 'encoded_missing_value': -1},\n",
    "    'validation_fraction': 0.0\n",
    "}\n",
    "result_cb = sc.cv_result('cb3', df_train, kf, hparams, config, cb_adapter, rerun = 0)\n",
    "np.mean(result_cb['valid_scores']), result_cb['valid_scores']"
   ]
  },
  {
   "cell_type": "markdown",
   "id": "424b6720-9e51-4a75-a8d7-9075eae2bb1b",
   "metadata": {},
   "source": [
    "# LGB3"
   ]
  },
  {
   "cell_type": "code",
   "execution_count": 197,
   "id": "b22acbe4-d91c-4d32-aede-962ef49c945e",
   "metadata": {},
   "outputs": [
    {
     "data": {
      "application/vnd.jupyter.widget-view+json": {
       "model_id": "",
       "version_major": 2,
       "version_minor": 0
      },
      "text/plain": [
       "Fold:   0%|          | 0/3 [00:00<?, ?it/s]"
      ]
     },
     "metadata": {},
     "output_type": "display_data"
    },
    {
     "data": {
      "application/vnd.jupyter.widget-view+json": {
       "model_id": "",
       "version_major": 2,
       "version_minor": 0
      },
      "text/plain": [
       "Round:   0%|          | 0/150 [00:00<?, ?it/s]"
      ]
     },
     "metadata": {},
     "output_type": "display_data"
    },
    {
     "data": {
      "application/vnd.jupyter.widget-view+json": {
       "model_id": "",
       "version_major": 2,
       "version_minor": 0
      },
      "text/plain": [
       "Round:   0%|          | 0/150 [00:00<?, ?it/s]"
      ]
     },
     "metadata": {},
     "output_type": "display_data"
    },
    {
     "data": {
      "application/vnd.jupyter.widget-view+json": {
       "model_id": "",
       "version_major": 2,
       "version_minor": 0
      },
      "text/plain": [
       "Round:   0%|          | 0/150 [00:00<?, ?it/s]"
      ]
     },
     "metadata": {},
     "output_type": "display_data"
    },
    {
     "data": {
      "text/plain": [
       "(np.float64(73081.49055067466),\n",
       " [np.float64(72629.40406856804),\n",
       "  np.float64(73753.79227921403),\n",
       "  np.float64(72861.27530424189)])"
      ]
     },
     "execution_count": 197,
     "metadata": {},
     "output_type": "execute_result"
    }
   ],
   "source": [
    "hparams = {\n",
    "    'model_params': {\n",
    "        'num_leaves': 7, 'n_estimators': 150, 'learning_rate': 0.05, 'colsample_bytree': 0.25, 'subsample': 0.5, 'metric': 'RMSE',\n",
    "        'subsample_freq': 1\n",
    "    }, \n",
    "    'X_num' : ['model_year', 'milage', 'clean_title', 'HP', 'displacement', 'speed'],\n",
    "    'X_cat' : ['brand2', 'model2', 'fuel_type', 'ext_col', 'int_col', 'accident', 'engine_type', 'fuel_type_engine', 'method'],\n",
    "    'cat': {'handle_unknown': 'use_encoded_value', 'unknown_value': -1, 'encoded_missing_value': -1},\n",
    "    'validation_fraction': 0.0\n",
    "}\n",
    "result_lgb = sc.cv_result('lgb3', df_train, kf, hparams, config, lgb_adapter, rerun = 0)\n",
    "np.mean(result_lgb['valid_scores']), result_lgb['valid_scores']"
   ]
  },
  {
   "cell_type": "code",
   "execution_count": 189,
   "id": "9d1e4d1b-ec27-401b-be97-00104f0de1da",
   "metadata": {},
   "outputs": [
    {
     "data": {
      "text/plain": [
       "metric  set     \n",
       "rmse    training    149\n",
       "        valid_1     118\n",
       "dtype: int64"
      ]
     },
     "execution_count": 189,
     "metadata": {},
     "output_type": "execute_result"
    }
   ],
   "source": [
    "result_lgb['model_result'][0]['valid_result'].idxmin()"
   ]
  },
  {
   "cell_type": "markdown",
   "id": "25170092-38dc-45a7-81fb-ee4096147992",
   "metadata": {},
   "source": [
    "# CB4"
   ]
  },
  {
   "cell_type": "code",
   "execution_count": 209,
   "id": "4cd1fd7e-0728-47c5-8838-20886bd59760",
   "metadata": {},
   "outputs": [
    {
     "data": {
      "application/vnd.jupyter.widget-view+json": {
       "model_id": "",
       "version_major": 2,
       "version_minor": 0
      },
      "text/plain": [
       "Fold:   0%|          | 0/3 [00:00<?, ?it/s]"
      ]
     },
     "metadata": {},
     "output_type": "display_data"
    },
    {
     "data": {
      "application/vnd.jupyter.widget-view+json": {
       "model_id": "",
       "version_major": 2,
       "version_minor": 0
      },
      "text/plain": [
       "Round:   0%|          | 0/1000 [00:00<?, ?it/s]"
      ]
     },
     "metadata": {},
     "output_type": "display_data"
    },
    {
     "data": {
      "application/vnd.jupyter.widget-view+json": {
       "model_id": "",
       "version_major": 2,
       "version_minor": 0
      },
      "text/plain": [
       "Round:   0%|          | 0/1000 [00:00<?, ?it/s]"
      ]
     },
     "metadata": {},
     "output_type": "display_data"
    },
    {
     "data": {
      "application/vnd.jupyter.widget-view+json": {
       "model_id": "",
       "version_major": 2,
       "version_minor": 0
      },
      "text/plain": [
       "Round:   0%|          | 0/1000 [00:00<?, ?it/s]"
      ]
     },
     "metadata": {},
     "output_type": "display_data"
    },
    {
     "data": {
      "text/plain": [
       "(np.float64(72832.85223388679),\n",
       " [np.float64(72355.21712498991),\n",
       "  np.float64(73502.74606871625),\n",
       "  np.float64(72640.59350795418)])"
      ]
     },
     "execution_count": 209,
     "metadata": {},
     "output_type": "execute_result"
    }
   ],
   "source": [
    "hparams = {\n",
    "    'model_params': {'max_depth': 3, 'n_estimators': 1000, 'learning_rate': 0.03, 'colsample_bylevel': 0.5, 'subsample': 0.5}, \n",
    "    'X_num' : ['model_year', 'milage', 'clean_title', 'HP', 'displacement', 'speed'],\n",
    "    'X_cat' : ['brand2', 'model2', 'fuel_type', 'method', 'ext_col', 'int_col', 'accident', 'engine_type', 'fuel_type_engine'],\n",
    "    'cat': {'handle_unknown': 'use_encoded_value', 'unknown_value': -1, 'encoded_missing_value': -1},\n",
    "    'validation_fraction': 0.0\n",
    "}\n",
    "result_cb = sc.cv_result('cb4', df_train, kf, hparams, config, cb_adapter, rerun = 0)\n",
    "np.mean(result_cb['valid_scores']), result_cb['valid_scores']"
   ]
  },
  {
   "cell_type": "code",
   "execution_count": 210,
   "id": "10435616-c286-4976-91bd-4eca68d8b43e",
   "metadata": {},
   "outputs": [
    {
     "data": {
      "text/plain": [
       "metric  set  \n",
       "RMSE    learn    999\n",
       "dtype: int64"
      ]
     },
     "execution_count": 210,
     "metadata": {},
     "output_type": "execute_result"
    }
   ],
   "source": [
    "result_cb['model_result'][0]['valid_result'].idxmin()"
   ]
  },
  {
   "cell_type": "markdown",
   "id": "6e487743-815d-4e33-bb64-21054303abc5",
   "metadata": {},
   "source": [
    "# NN1"
   ]
  },
  {
   "cell_type": "code",
   "execution_count": 5,
   "id": "1706ddd0-dd0a-4331-9f72-cbe389c00c17",
   "metadata": {},
   "outputs": [],
   "source": [
    "nn_adapter = sgnn.NNAdapter(model=sgnn.NNRegressor)"
   ]
  },
  {
   "cell_type": "code",
   "execution_count": 20,
   "id": "114b819d-3ee7-45f6-879c-d4796452ad2a",
   "metadata": {},
   "outputs": [
    {
     "data": {
      "application/vnd.jupyter.widget-view+json": {
       "model_id": "",
       "version_major": 2,
       "version_minor": 0
      },
      "text/plain": [
       "Fold:   0%|          | 0/3 [00:00<?, ?it/s]"
      ]
     },
     "metadata": {},
     "output_type": "display_data"
    },
    {
     "data": {
      "application/vnd.jupyter.widget-view+json": {
       "model_id": "",
       "version_major": 2,
       "version_minor": 0
      },
      "text/plain": [
       "Epoch:   0%|          | 0/20 [00:00<?, ?it/s]"
      ]
     },
     "metadata": {},
     "output_type": "display_data"
    },
    {
     "data": {
      "application/vnd.jupyter.widget-view+json": {
       "model_id": "",
       "version_major": 2,
       "version_minor": 0
      },
      "text/plain": [
       "Step:   0%|          | 0/62 [00:00<?, ?it/s]"
      ]
     },
     "metadata": {},
     "output_type": "display_data"
    },
    {
     "data": {
      "application/vnd.jupyter.widget-view+json": {
       "model_id": "",
       "version_major": 2,
       "version_minor": 0
      },
      "text/plain": [
       "Epoch:   0%|          | 0/20 [00:00<?, ?it/s]"
      ]
     },
     "metadata": {},
     "output_type": "display_data"
    },
    {
     "data": {
      "application/vnd.jupyter.widget-view+json": {
       "model_id": "",
       "version_major": 2,
       "version_minor": 0
      },
      "text/plain": [
       "Step:   0%|          | 0/62 [00:00<?, ?it/s]"
      ]
     },
     "metadata": {},
     "output_type": "display_data"
    },
    {
     "data": {
      "application/vnd.jupyter.widget-view+json": {
       "model_id": "",
       "version_major": 2,
       "version_minor": 0
      },
      "text/plain": [
       "Epoch:   0%|          | 0/20 [00:00<?, ?it/s]"
      ]
     },
     "metadata": {},
     "output_type": "display_data"
    },
    {
     "data": {
      "application/vnd.jupyter.widget-view+json": {
       "model_id": "",
       "version_major": 2,
       "version_minor": 0
      },
      "text/plain": [
       "Step:   0%|          | 0/62 [00:00<?, ?it/s]"
      ]
     },
     "metadata": {},
     "output_type": "display_data"
    },
    {
     "data": {
      "text/plain": [
       "(np.float64(73104.99899435883),\n",
       " [np.float64(72700.8024253999),\n",
       "  np.float64(73730.15858543642),\n",
       "  np.float64(72884.03597224019)])"
      ]
     },
     "execution_count": 20,
     "metadata": {},
     "output_type": "execute_result"
    }
   ],
   "source": [
    "def nn_cat_param(df, name, size):\n",
    "    return name, len(df[name].cat.categories), size\n",
    "\n",
    "X_nn_emb = [\n",
    "    ('brand2', 3), ('model2', 3), ('fuel_type', 2), ('method', 2), ('ext_col', 3), ('int_col', 3), ('engine_type', 2), ('fuel_type_engine', 3)\n",
    "]\n",
    "X_nn_cat = [i for i,_ in X_nn_emb]\n",
    "\n",
    "nn_params = {\n",
    "    'embedding':[(1, c, es, 0, 0) for _, c, es in [nn_cat_param(df_train, v, n) for v, n in X_nn_emb]], \n",
    "    'config':  [\n",
    "        {'unit': 16, 'activation': 'relu', 'batch_norm': False},\n",
    "        {'unit': 16, 'activation': 'relu', 'batch_norm': False},\n",
    "        {'unit': 8, 'activation': 'relu', 'batch_norm': False},\n",
    "    ]\n",
    "}\n",
    "\n",
    "hparams = {\n",
    "    'model_params': {\n",
    "        'model_params': nn_params,\n",
    "        'epochs': 20,\n",
    "        'optimizer': ('Adam', {'learning_rate': 0.01}),\n",
    "        'batch_size': 2048, 'shuffle_size': 102400,\n",
    "        'early_stopping': None, 'reduce_lr_on_plateau': None, 'lr_scheduler': None,\n",
    "    }, \n",
    "    'X_cat': X_nn_cat, 'cat': {'handle_unknown': 'use_encoded_value', 'unknown_value': -1, 'encoded_missing_value': -1},\n",
    "    'X_std': ['model_year'], 'X_std': ['milage', 'displacement2', 'HP2'],\n",
    "    'X_ohe': ['accident'], \n",
    "    'ohe': {'drop': 'first', 'sparse_output': False},\n",
    "    'validation_fraction': 0.0,\n",
    "    'metrics': 'RMSE'\n",
    "}\n",
    "result_nn = sc.cv_result('nn1', df_train, kf, hparams, config, nn_adapter, rerun = 0)\n",
    "np.mean(result_nn['valid_scores']), result_nn['valid_scores']"
   ]
  },
  {
   "cell_type": "markdown",
   "id": "392bea7b-26fd-4612-898f-f8da505a3d63",
   "metadata": {},
   "source": [
    "# Ensemble1"
   ]
  },
  {
   "cell_type": "code",
   "execution_count": 211,
   "id": "f03d605c-4bb6-4dd4-80e3-992d12ca31ec",
   "metadata": {},
   "outputs": [
    {
     "data": {
      "text/plain": [
       "lgb1    73127.571780\n",
       "lgb2    73105.272968\n",
       "cb1     72828.405655\n",
       "cb2     72792.589378\n",
       "xgb1    73103.675103\n",
       "xgb2    73182.408307\n",
       "cb3     72808.151342\n",
       "lgb3    73083.095624\n",
       "cb4     72834.483231\n",
       "dtype: float64"
      ]
     },
     "execution_count": 211,
     "metadata": {},
     "output_type": "execute_result"
    }
   ],
   "source": [
    "df_prds = sc.read_prds(['lgb1', 'lgb2', 'cb1', 'cb2', 'xgb1', 'xgb2', 'cb3', 'lgb3', 'cb4'], index = df_train.index)\n",
    "df_prds.apply(lambda x: root_mean_squared_error(df_train[target], x))"
   ]
  },
  {
   "cell_type": "code",
   "execution_count": 222,
   "id": "2513275b-3b02-4818-b5e0-74fbf163c266",
   "metadata": {},
   "outputs": [
    {
     "data": {
      "text/plain": [
       "np.float64(72750.85299138822)"
      ]
     },
     "execution_count": 222,
     "metadata": {},
     "output_type": "execute_result"
    }
   ],
   "source": [
    "root_mean_squared_error(\n",
    "    df_train[target], df_prds.dot([0.1, 0.1, 0.15, 0.45, 0.10, 0.0, 0.1, 0.0, 0.0])\n",
    ")"
   ]
  },
  {
   "cell_type": "code",
   "execution_count": 5,
   "id": "a17383ef-50ec-48d0-966f-35e847aa316a",
   "metadata": {},
   "outputs": [
    {
     "data": {
      "application/vnd.jupyter.widget-view+json": {
       "model_id": "",
       "version_major": 2,
       "version_minor": 0
      },
      "text/plain": [
       "Round:   0%|          | 0/100 [00:00<?, ?it/s]"
      ]
     },
     "metadata": {},
     "output_type": "display_data"
    },
    {
     "data": {
      "application/vnd.jupyter.widget-view+json": {
       "model_id": "",
       "version_major": 2,
       "version_minor": 0
      },
      "text/plain": [
       "Round:   0%|          | 0/100 [00:00<?, ?it/s]"
      ]
     },
     "metadata": {},
     "output_type": "display_data"
    },
    {
     "data": {
      "application/vnd.jupyter.widget-view+json": {
       "model_id": "",
       "version_major": 2,
       "version_minor": 0
      },
      "text/plain": [
       "Round:   0%|          | 0/350 [00:00<?, ?it/s]"
      ]
     },
     "metadata": {},
     "output_type": "display_data"
    },
    {
     "data": {
      "application/vnd.jupyter.widget-view+json": {
       "model_id": "",
       "version_major": 2,
       "version_minor": 0
      },
      "text/plain": [
       "Round:   0%|          | 0/850 [00:00<?, ?it/s]"
      ]
     },
     "metadata": {},
     "output_type": "display_data"
    },
    {
     "data": {
      "application/vnd.jupyter.widget-view+json": {
       "model_id": "",
       "version_major": 2,
       "version_minor": 0
      },
      "text/plain": [
       "Round:   0%|          | 0/550 [00:00<?, ?it/s]"
      ]
     },
     "metadata": {},
     "output_type": "display_data"
    },
    {
     "data": {
      "application/vnd.jupyter.widget-view+json": {
       "model_id": "",
       "version_major": 2,
       "version_minor": 0
      },
      "text/plain": [
       "Round:   0%|          | 0/550 [00:00<?, ?it/s]"
      ]
     },
     "metadata": {},
     "output_type": "display_data"
    },
    {
     "data": {
      "application/vnd.jupyter.widget-view+json": {
       "model_id": "",
       "version_major": 2,
       "version_minor": 0
      },
      "text/plain": [
       "Round:   0%|          | 0/900 [00:00<?, ?it/s]"
      ]
     },
     "metadata": {},
     "output_type": "display_data"
    },
    {
     "data": {
      "application/vnd.jupyter.widget-view+json": {
       "model_id": "",
       "version_major": 2,
       "version_minor": 0
      },
      "text/plain": [
       "Round:   0%|          | 0/150 [00:00<?, ?it/s]"
      ]
     },
     "metadata": {},
     "output_type": "display_data"
    },
    {
     "data": {
      "application/vnd.jupyter.widget-view+json": {
       "model_id": "",
       "version_major": 2,
       "version_minor": 0
      },
      "text/plain": [
       "Round:   0%|          | 0/1000 [00:00<?, ?it/s]"
      ]
     },
     "metadata": {},
     "output_type": "display_data"
    }
   ],
   "source": [
    "for i in ['lgb1', 'lgb2', 'cb1', 'cb2', 'xgb1', 'xgb2', 'cb3', 'lgb3', 'cb4']:\n",
    "    sc.train_cv(i, df_train, config)"
   ]
  },
  {
   "cell_type": "code",
   "execution_count": 8,
   "id": "844f8507-1d2b-48e0-a2d4-3a0d5a80fbcc",
   "metadata": {},
   "outputs": [],
   "source": [
    "df_test_prds = pd.concat([\n",
    "    sc.get_predictor_cv('lgb1', config)(df_test).rename(i)\n",
    "    for i in ['lgb1', 'lgb2', 'cb1', 'cb2', 'xgb1', 'xgb2', 'cb3', 'lgb3', 'cb4']\n",
    "], axis=1)"
   ]
  },
  {
   "cell_type": "code",
   "execution_count": 10,
   "id": "ccd9929b-0f6c-4e0b-90a8-7dad37bc74ef",
   "metadata": {},
   "outputs": [],
   "source": [
    "df_test_prds.dot([0.1, 0.1, 0.15, 0.45, 0.10, 0.0, 0.1, 0.0, 0.0]).rename(target).to_csv('result/submission1.csv')"
   ]
  },
  {
   "cell_type": "code",
   "execution_count": 11,
   "id": "f27ee9f4-478f-407a-a9a9-c9936f971959",
   "metadata": {},
   "outputs": [
    {
     "name": "stdout",
     "output_type": "stream",
     "text": [
      "id,price\n",
      "188533,18604.219874272057\n",
      "188534,71849.47892200263\n",
      "188535,60042.44465549229\n",
      "188536,30567.95639662654\n",
      "188537,29740.041672416664\n",
      "188538,18759.48439074103\n",
      "188539,14450.789839722302\n",
      "188540,43246.37255721986\n",
      "188541,72309.4818039167\n"
     ]
    }
   ],
   "source": [
    "!head result/submission1.csv"
   ]
  },
  {
   "cell_type": "code",
   "execution_count": null,
   "id": "ffcdc910-74aa-4923-96ff-86106d200535",
   "metadata": {},
   "outputs": [],
   "source": [
    "# !kaggle competitions submit -c playground-series-s4e9 -f result/submission1.csv -m \"1\""
   ]
  },
  {
   "cell_type": "markdown",
   "id": "6f4e7fa4-a78f-489c-b6d3-0f54ca50431d",
   "metadata": {},
   "source": [
    "# Ensemble2"
   ]
  },
  {
   "cell_type": "code",
   "execution_count": 21,
   "id": "0bbe368f-2d1b-41e9-8155-88e933d5e38d",
   "metadata": {},
   "outputs": [
    {
     "data": {
      "text/plain": [
       "lgb1    73127.571780\n",
       "lgb2    73105.272968\n",
       "cb1     72828.405655\n",
       "cb2     72792.589378\n",
       "xgb1    73103.675103\n",
       "xgb2    73182.408307\n",
       "cb3     72808.151342\n",
       "lgb3    73083.095624\n",
       "cb4     72834.483231\n",
       "nn1     73106.371626\n",
       "dtype: float64"
      ]
     },
     "execution_count": 21,
     "metadata": {},
     "output_type": "execute_result"
    }
   ],
   "source": [
    "df_prds = sc.read_prds(['lgb1', 'lgb2', 'cb1', 'cb2', 'xgb1', 'xgb2', 'cb3', 'lgb3', 'cb4', 'nn1'], index = df_train.index)\n",
    "df_prds.apply(lambda x: root_mean_squared_error(df_train[target], x))"
   ]
  },
  {
   "cell_type": "code",
   "execution_count": 22,
   "id": "cc181a2b-d9b6-4a12-85db-075680cd19f8",
   "metadata": {},
   "outputs": [
    {
     "data": {
      "text/plain": [
       "np.float64(72738.71255275169)"
      ]
     },
     "execution_count": 22,
     "metadata": {},
     "output_type": "execute_result"
    }
   ],
   "source": [
    "root_mean_squared_error(\n",
    "    df_train[target], df_prds.dot([0.1, 0.1, 0.10, 0.4, 0.10, 0.0, 0.1, 0.0, 0.0, 0.1])\n",
    ")"
   ]
  },
  {
   "cell_type": "code",
   "execution_count": 23,
   "id": "2cf7d366-d76a-483d-abcf-775377d97c00",
   "metadata": {},
   "outputs": [
    {
     "data": {
      "application/vnd.jupyter.widget-view+json": {
       "model_id": "",
       "version_major": 2,
       "version_minor": 0
      },
      "text/plain": [
       "Epoch:   0%|          | 0/20 [00:00<?, ?it/s]"
      ]
     },
     "metadata": {},
     "output_type": "display_data"
    },
    {
     "data": {
      "application/vnd.jupyter.widget-view+json": {
       "model_id": "",
       "version_major": 2,
       "version_minor": 0
      },
      "text/plain": [
       "Step:   0%|          | 0/93 [00:00<?, ?it/s]"
      ]
     },
     "metadata": {},
     "output_type": "display_data"
    }
   ],
   "source": [
    "for i in ['lgb1', 'lgb2', 'cb1', 'cb2', 'xgb1', 'xgb2', 'cb3', 'lgb3', 'cb4', 'nn1']:\n",
    "    sc.train_cv(i, df_train, config)"
   ]
  },
  {
   "cell_type": "code",
   "execution_count": 26,
   "id": "b0a9e14c-ae54-4b57-9692-d552bd917050",
   "metadata": {},
   "outputs": [],
   "source": [
    "df_test_prds = pd.concat([\n",
    "    sc.get_predictor_cv(i, config)(df_test).rename(i)\n",
    "    for i in ['lgb1', 'lgb2', 'cb1', 'cb2', 'xgb1', 'xgb2', 'cb3', 'lgb3', 'cb4', 'nn1']\n",
    "], axis=1)"
   ]
  },
  {
   "cell_type": "code",
   "execution_count": 28,
   "id": "5eb8cb4f-d94d-4d68-a784-c57c972ae495",
   "metadata": {},
   "outputs": [],
   "source": [
    "df_test_prds.dot([0.1, 0.1, 0.1, 0.4, 0.10, 0.0, 0.1, 0.0, 0.0, 0.1]).rename(target).to_csv('result/submission2.csv')"
   ]
  },
  {
   "cell_type": "code",
   "execution_count": 29,
   "id": "98b9110a-382f-4f09-a774-466305cee132",
   "metadata": {},
   "outputs": [
    {
     "name": "stdout",
     "output_type": "stream",
     "text": [
      "id,price\n",
      "188533,17589.7115989793\n",
      "188534,80134.52699272221\n",
      "188535,57413.749680587396\n",
      "188536,27594.13238763532\n",
      "188537,28797.925494766965\n",
      "188538,18700.26500615405\n",
      "188539,12933.05167696676\n",
      "188540,43900.219372453386\n",
      "188541,82697.61765316878\n"
     ]
    }
   ],
   "source": [
    "!head result/submission2.csv"
   ]
  },
  {
   "cell_type": "markdown",
   "id": "f31e9fe1-b5b1-4e59-a21a-b743dd880fe4",
   "metadata": {},
   "source": [
    "- 현재 분석 루틴의 유효성으 보기 위해서 만들어 봤습니다. 짜잘한 버그를 수정을 했고, 이제 시작한 competition을 참가하기 위해 이만 마칩니다."
   ]
  },
  {
   "cell_type": "code",
   "execution_count": null,
   "id": "a55f8ef6-a11f-422f-972c-b2e0e0703622",
   "metadata": {},
   "outputs": [],
   "source": []
  }
 ],
 "metadata": {
  "kernelspec": {
   "display_name": "Python 3 (ipykernel)",
   "language": "python",
   "name": "python3"
  },
  "language_info": {
   "codemirror_mode": {
    "name": "ipython",
    "version": 3
   },
   "file_extension": ".py",
   "mimetype": "text/x-python",
   "name": "python",
   "nbconvert_exporter": "python",
   "pygments_lexer": "ipython3",
   "version": "3.12.6"
  }
 },
 "nbformat": 4,
 "nbformat_minor": 5
}
