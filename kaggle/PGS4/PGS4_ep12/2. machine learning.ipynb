{
 "cells": [
  {
   "cell_type": "code",
   "execution_count": 2,
   "id": "cb214dbd-9aeb-44a0-97c2-da53b1e9c3d0",
   "metadata": {},
   "outputs": [
    {
     "name": "stdout",
     "output_type": "stream",
     "text": [
      "3.12.6 (main, Sep 30 2024, 02:19:13) [GCC 9.4.0]\n",
      "scipy 1.12.0\n",
      "sklearn 1.5.2\n",
      "matplotlib 3.8.4\n",
      "seaborn 0.13.2\n",
      "numpy 1.26.4\n",
      "pandas 2.2.3\n",
      "polars 1.12.0\n",
      "catboost 1.2.5\n",
      "xgboost 2.1.2\n"
     ]
    }
   ],
   "source": [
    "import os, sys, re\n",
    "from functools import partial\n",
    "\n",
    "import scipy\n",
    "import sklearn\n",
    "import matplotlib as mpl\n",
    "import matplotlib.pyplot as plt\n",
    "import seaborn as sns\n",
    "import numpy as np\n",
    "import pandas as pd\n",
    "import polars as pl\n",
    "\n",
    "import lightgbm as lgb\n",
    "import catboost as cb\n",
    "import xgboost as xgb\n",
    "\n",
    "import dproc, sgml, sgutil, sgnn\n",
    "\n",
    "print(sys.version)\n",
    "for i in [scipy, sklearn, mpl, sns, np, pd, pl, cb, lgb, xgb]:\n",
    "    try:\n",
    "        print(i.__name__, i.__version__)\n",
    "    except:\n",
    "        pass"
   ]
  },
  {
   "cell_type": "code",
   "execution_count": 3,
   "id": "1ce6bc02-145a-41e0-8437-1c7ad6089572",
   "metadata": {},
   "outputs": [],
   "source": [
    "data_path = 'data'\n",
    "\n",
    "df_train = pd.read_feather(os.path.join(data_path, 'train.feather'))\n",
    "df_test = pd.read_feather(os.path.join(data_path, 'test.feather'))\n",
    "pd_vars= dproc.PD_Vars.load(os.path.join('data', 'vars'))\n",
    "target = 'Premium Amount_l'\n",
    "\n",
    "X_bool = ['Gender', 'Smoking Status']\n",
    "X_num = ['Age', 'Annual Income', 'Credit Score', 'Previous Claims_fm1', 'Vehicle Age', 'Policy Days', 'Number of Dependents_fz']\n",
    "X_ord = ['Education Level', 'Occupation_funk', 'Location', 'Policy Type', 'Exercise Frequency', 'Weekday', 'Year', \n",
    "         'Insurance Duration_fm', 'Property Type']\n",
    "X_menc = ['CA_C', 'CA_A']\n",
    "X_imp = ['Health Score_50', 'Annual Income_f', 'Credit Score_f', 'Previous Claims_f']\n",
    "X_imp2 = ['Health Score_502', 'Annual Income_f2', 'Credit Score_f2', 'Previous Claims_f2']\n",
    "X_comb = ['Marital_Feedback']\n",
    "X_freq = ['Annual Income_Freq','Credit Score_Freq', 'Health Score_Freq', 'Annual Income_Freq_d', 'Health Score_Freq_d']\n",
    "\n",
    "sc = sgutil.SGCache('img', 'result')"
   ]
  },
  {
   "cell_type": "code",
   "execution_count": 4,
   "id": "10871b5b-6626-4a8b-a3d2-27f24a4e8a7b",
   "metadata": {},
   "outputs": [],
   "source": [
    "from sklearn.model_selection import train_test_split, KFold, ShuffleSplit, StratifiedKFold\n",
    "from sklearn.linear_model import LogisticRegression, LinearRegression\n",
    "from sklearn.metrics import accuracy_score, confusion_matrix, roc_auc_score, mean_squared_error\n",
    "\n",
    "ss = ShuffleSplit(1, random_state=123)\n",
    "ss2 = ShuffleSplit(1, train_size = 0.6, random_state=123)\n",
    "skf = StratifiedKFold(5, random_state = 123, shuffle = True)\n",
    "kf = KFold(5, random_state = 123, shuffle = True)\n",
    "kf10 = KFold(10, random_state = 123, shuffle = True)\n",
    "\n",
    "df_train['target_2'] =  pd.cut(df_train[target], [-np.inf, 6, np.inf], labels = [0, 1])\n",
    "df_train['target_3'] =  pd.cut(df_train[target], [-np.inf, 6, 7.6, np.inf], labels = [0, 1, 2])\n",
    "df_train['target_5'] =  pd.cut(df_train[target], [-np.inf, 4, 5, 6, 7.6, np.inf], labels = [0, 1, 2, 3, 4])\n",
    "\n",
    "def get_validation_splitter(validation_fraction):\n",
    "    return lambda x: train_test_split(x, test_size=validation_fraction)\n",
    "\n",
    "config = {\n",
    "    'predict_func': lambda m, df, X: pd.Series(m.predict(df[X]), index=df.index),\n",
    "    'score_func': lambda df, prds: -(mean_squared_error(df[target].sort_index(), prds.clip(3.044523, 8.517193).sort_index()) ** 0.5),\n",
    "    'validation_splitter': get_validation_splitter,\n",
    "    'progress_callback': sgml.ProgressCallBack(),\n",
    "    'return_train_scores': False,\n",
    "    'y': target,\n",
    "}\n",
    "\n",
    "config_2 = {\n",
    "    'predict_func': lambda m, df, X: pd.DataFrame(m.predict_proba(df[X]), index=df.index),\n",
    "    'score_func': lambda df, prds: accuracy_score(df['target_3'].sort_index(), prds.idxmax(axis=1).sort_index()),\n",
    "    'validation_splitter': get_validation_splitter,\n",
    "    'progress_callback': sgml.ProgressCallBack(),\n",
    "    'return_train_scores': False,\n",
    "    'y': 'target_3',\n",
    "}\n",
    "\n",
    "config_3 = {\n",
    "    'predict_func': lambda m, df, X: pd.DataFrame(m.predict_proba(df[X]), index=df.index),\n",
    "    'score_func': lambda df, prds: accuracy_score(df['target_5'].sort_index(), prds.idxmax(axis=1).sort_index()),\n",
    "    'validation_splitter': get_validation_splitter,\n",
    "    'progress_callback': sgml.ProgressCallBack(),\n",
    "    'return_train_scores': False,\n",
    "    'y': 'target_5',\n",
    "}\n",
    "\n",
    "config_4 = {\n",
    "    'predict_func': lambda m, df, X: pd.DataFrame(m.predict_proba(df[X]), index=df.index),\n",
    "    'score_func': lambda df, prds: roc_auc_score(df['target_2'].sort_index(), prds.idxmax(axis=1).sort_index()),\n",
    "    'validation_splitter': get_validation_splitter,\n",
    "    'progress_callback': sgml.ProgressCallBack(),\n",
    "    'return_train_scores': False,\n",
    "    'y': 'target_2',\n",
    "}\n",
    "\n",
    "config_5 = {\n",
    "    'predict_func': lambda m, df, X: pd.Series(m.predict(df[X]), index=df.index),\n",
    "    'score_func': lambda df, prds: -(mean_squared_error(df[target].sort_index(), prds.sort_index()) ** 0.5),\n",
    "    'validation_splitter': get_validation_splitter,\n",
    "    'progress_callback': sgml.ProgressCallBack(),\n",
    "    'return_train_scores': False,\n",
    "    'y': 'Premium Amount',\n",
    "}\n",
    "\n",
    "lr_adapter = sgml.SklearnAdapter(LinearRegression)\n",
    "cb_adapter = sgml.CBAdapter(cb.CatBoostRegressor)\n",
    "lgb_adapter =  sgml.LGBMAdapter(lgb.LGBMRegressor)\n",
    "xgb_adapter = sgml.XGBAdapter(xgb.XGBRegressor)\n",
    "nn_adapter = sgnn.NNAdapter(model=sgnn.NNRegressor)\n",
    "\n",
    "cb_adapter_c = sgml.CBAdapter(cb.CatBoostClassifier)\n",
    "lgb_adapter_c =  sgml.LGBMAdapter(lgb.LGBMClassifier)\n",
    "xgb_adapter_c = sgml.XGBAdapter(xgb.XGBClassifier)"
   ]
  },
  {
   "cell_type": "code",
   "execution_count": 5,
   "id": "33eb41b2-78c1-4189-b878-6a744352a423",
   "metadata": {},
   "outputs": [],
   "source": [
    "df_train['Health Score_c'] = df_train['Health Score_fz'].astype('str').astype('category')\n",
    "df_test['Health Score_c'] = df_test['Health Score_fz'].astype('str').astype('category')"
   ]
  },
  {
   "cell_type": "markdown",
   "id": "6b9cf8e3-00f1-4d44-a676-99ba72f5c8cc",
   "metadata": {},
   "source": [
    "# Classification"
   ]
  },
  {
   "cell_type": "markdown",
   "id": "b8d7dd0d-363e-46f7-84c3-97af8198a458",
   "metadata": {},
   "source": [
    "## 3 Class-model"
   ]
  },
  {
   "cell_type": "code",
   "execution_count": 6,
   "id": "7fa931be-daf4-4311-a539-9a16fb83e4e7",
   "metadata": {},
   "outputs": [],
   "source": [
    "lgb_c1 = sgml.CVModel.load_or_create('result', 'lgb_c1', kf, config_2, lgb_adapter_c)"
   ]
  },
  {
   "cell_type": "code",
   "execution_count": 7,
   "id": "857e70b1-3916-4c57-aced-bcf5105b8570",
   "metadata": {},
   "outputs": [
    {
     "data": {
      "text/plain": [
       "[0.7534333333333333,\n",
       " 0.7531291666666666,\n",
       " 0.7526583333333333,\n",
       " 0.7540916666666667,\n",
       " 0.75335]"
      ]
     },
     "execution_count": 7,
     "metadata": {},
     "output_type": "execute_result"
    }
   ],
   "source": [
    "hparams = {\n",
    "    'model_params': {'n_estimators': 1000, 'num_leaves': 63, 'learning_rate': 0.03},\n",
    "    'X_num': X_num + X_menc + X_imp + X_freq, \n",
    "    'X_cat': X_ord + X_bool + X_comb, \n",
    "    'X_tgt': ['Health Score', 'Annual Income'],\n",
    "    'random_state': 123,\n",
    "    #'validation_fraction': 0.1\n",
    "}\n",
    "#result = lgb_c1.adhoc(df_train, ss, hparams)\n",
    "result = lgb_c1.cv(df_train, hparams)\n",
    "result['valid_scores']"
   ]
  },
  {
   "cell_type": "code",
   "execution_count": 8,
   "id": "84a83676-5d78-422e-bd0b-e7dd1cb0357e",
   "metadata": {},
   "outputs": [],
   "source": [
    "lgb_c1.train(df_train)\n",
    "df_train = dproc.join_and_assign(\n",
    "    df_train,\n",
    "    lgb_c1.cv_best_['prd'].rename(columns = lambda x: 't{}'.format(x))\n",
    ")\n",
    "df_test = dproc.join_and_assign(\n",
    "    df_test,\n",
    "    sc.cache_result(\n",
    "        't_test',\n",
    "        lambda : lgb_c1.get_predictor()(df_test).rename(columns = lambda x: 't{}'.format(x)), rerun = 0\n",
    "    )\n",
    ")"
   ]
  },
  {
   "cell_type": "markdown",
   "id": "7f9038e3-36dc-426d-93e6-d36146328a5d",
   "metadata": {},
   "source": [
    "## 5 Class-model"
   ]
  },
  {
   "cell_type": "code",
   "execution_count": 9,
   "id": "f91177a9-3ff0-4b1c-940f-35004453d5c3",
   "metadata": {},
   "outputs": [],
   "source": [
    "lgb_c2 = sgml.CVModel.load_or_create('result', 'lgb_c2', skf, config_3, lgb_adapter_c)"
   ]
  },
  {
   "cell_type": "code",
   "execution_count": 10,
   "id": "a9d08038-7112-479d-8a8a-23fae535b4e7",
   "metadata": {},
   "outputs": [
    {
     "data": {
      "text/plain": [
       "[0.7358041666666667,\n",
       " 0.7348916666666667,\n",
       " 0.7354583333333333,\n",
       " 0.7355083333333333,\n",
       " 0.7355791666666667]"
      ]
     },
     "execution_count": 10,
     "metadata": {},
     "output_type": "execute_result"
    }
   ],
   "source": [
    "hparams = {\n",
    "    'model_params': {'n_estimators': 700, 'num_leaves': 63, 'learning_rate': 0.03},\n",
    "    'X_num': X_num + X_menc + X_imp + X_freq, \n",
    "    'X_cat': X_ord + X_bool + X_comb, \n",
    "    'X_tgt': ['Health Score', 'Annual Income'],\n",
    "    'random_state': 123,\n",
    "    #'validation_fraction': 0.1\n",
    "}\n",
    "#result = lgb_c2.adhoc(df_train, ss, hparams)\n",
    "result = lgb_c2.cv(df_train, hparams)\n",
    "result['valid_scores']"
   ]
  },
  {
   "cell_type": "code",
   "execution_count": 11,
   "id": "160eacce-2564-4a18-b678-981fe5f17422",
   "metadata": {},
   "outputs": [],
   "source": [
    "lgb_c2.train(df_train)\n",
    "df_train = dproc.join_and_assign(\n",
    "    df_train,\n",
    "    lgb_c2.cv_best_['prd'].rename(columns = lambda x: 't5_{}'.format(x))\n",
    ")\n",
    "df_test = dproc.join_and_assign(\n",
    "    df_test,\n",
    "    sc.cache_result(\n",
    "        't5_test',\n",
    "        lambda : lgb_c2.get_predictor()(df_test).rename(columns = lambda x: 't5_{}'.format(x)), rerun = 0\n",
    "    )\n",
    ")"
   ]
  },
  {
   "cell_type": "markdown",
   "id": "ab602ab4-f221-48f5-bb09-5fe0f80e8d59",
   "metadata": {},
   "source": [
    "## 2 Class-model"
   ]
  },
  {
   "cell_type": "code",
   "execution_count": 12,
   "id": "08733ac7-c9e1-4d1e-9743-8bba7c1b8a59",
   "metadata": {},
   "outputs": [],
   "source": [
    "lgb_c3 = sgml.CVModel.load_or_create('result', 'lgb_c3', skf, config_4, lgb_adapter_c)"
   ]
  },
  {
   "cell_type": "code",
   "execution_count": 13,
   "id": "350eba9c-bfa8-486e-a1ad-7911206b5c7a",
   "metadata": {},
   "outputs": [
    {
     "data": {
      "text/plain": [
       "[0.6775183458512728,\n",
       " 0.6786694499279009,\n",
       " 0.6759428766088227,\n",
       " 0.6784740707117934,\n",
       " 0.6772269691294307]"
      ]
     },
     "execution_count": 13,
     "metadata": {},
     "output_type": "execute_result"
    }
   ],
   "source": [
    "hparams = {\n",
    "    'model_params': {'n_estimators': 1200, 'num_leaves': 63, 'learning_rate': 0.03},\n",
    "    'X_num': X_num + X_menc + X_imp + X_freq, \n",
    "    'X_cat': X_ord + X_bool + X_comb, \n",
    "    'X_tgt': ['Health Score', 'Annual Income'],\n",
    "    'random_state': 123,\n",
    "    #'validation_fraction': 0.1\n",
    "}\n",
    "#result = lgb_c3.adhoc(df_train, ss, hparams)\n",
    "result = lgb_c3.cv(df_train, hparams)\n",
    "result['valid_scores']"
   ]
  },
  {
   "cell_type": "code",
   "execution_count": 14,
   "id": "ade1f907-49b8-496a-8372-a0bf0bc51647",
   "metadata": {},
   "outputs": [],
   "source": [
    "lgb_c3.train(df_train)\n",
    "df_train = dproc.join_and_assign(\n",
    "    df_train,\n",
    "    lgb_c3.cv_best_['prd'].iloc[:, :1].rename(columns = lambda x: 't2_0')\n",
    ")\n",
    "df_test = dproc.join_and_assign(\n",
    "    df_test,\n",
    "    sc.cache_result(\n",
    "        't2_test',\n",
    "        lambda : lgb_c3.get_predictor()(df_test).iloc[:, :1].rename(columns = lambda x: 't2_0'), rerun = 0\n",
    "    )\n",
    ")"
   ]
  },
  {
   "cell_type": "markdown",
   "id": "2adc027d-4a33-4b1e-8ecf-bbf1b85d87b7",
   "metadata": {},
   "source": [
    "## Classification 2"
   ]
  },
  {
   "cell_type": "code",
   "execution_count": 15,
   "id": "22341bab-a79b-4efb-8040-0bd499cdf599",
   "metadata": {},
   "outputs": [],
   "source": [
    "lgb2_c = sgml.CVModel.load_or_create('result', 'lgb2_c', kf, config_2, lgb_adapter_c)\n",
    "hparams = {\n",
    "    'model_params': {'n_estimators': 1000, 'num_leaves': 63, 'learning_rate': 0.03},\n",
    "    'X_num': X_num + X_imp2 + X_freq, \n",
    "    'X_cat': X_ord + X_bool + X_comb, \n",
    "    'X_tgt': ['Health Score', 'Annual Income', 'Credit Score'],\n",
    "    'random_state': 123,\n",
    "}\n",
    "result = lgb2_c.cv(df_train, hparams)\n",
    "lgb2_c.train(df_train)\n",
    "df_train = dproc.join_and_assign(\n",
    "    df_train,\n",
    "    lgb2_c.cv_best_['prd'].rename(columns = lambda x: 't{}_2'.format(x))\n",
    ")\n",
    "df_test = dproc.join_and_assign(\n",
    "    df_test,\n",
    "    sc.cache_result(\n",
    "        't_test2',\n",
    "        lambda : lgb2_c.get_predictor()(df_test).rename(columns = lambda x: 't{}_2'.format(x)), rerun = 0\n",
    "    )\n",
    ")"
   ]
  },
  {
   "cell_type": "code",
   "execution_count": 16,
   "id": "c6ec3898-fb52-4a53-aa9a-5678b7ee1c40",
   "metadata": {},
   "outputs": [],
   "source": [
    "lgb2_c2 = sgml.CVModel.load_or_create('result', 'lgb2_c2', skf, config_3, lgb_adapter_c)\n",
    "hparams = {\n",
    "    'model_params': {'n_estimators': 700, 'num_leaves': 63, 'learning_rate': 0.03},\n",
    "    'X_num': X_num + X_imp2 + X_freq, \n",
    "    'X_cat': X_ord + X_bool + X_comb, \n",
    "    'X_tgt': ['Health Score', 'Annual Income', 'Credit Score'],\n",
    "    'random_state': 123,\n",
    "}\n",
    "result = lgb2_c2.cv(df_train, hparams)\n",
    "lgb2_c2.train(df_train)\n",
    "df_train = dproc.join_and_assign(\n",
    "    df_train,\n",
    "    lgb2_c2.cv_best_['prd'].rename(columns = lambda x: 't5_{}_2'.format(x))\n",
    ")\n",
    "df_test = dproc.join_and_assign(\n",
    "    df_test,\n",
    "    sc.cache_result(\n",
    "        't5_test2',\n",
    "        lambda : lgb2_c2.get_predictor()(df_test).rename(columns = lambda x: 't5_{}_2'.format(x)), rerun = 0\n",
    "    )\n",
    ")"
   ]
  },
  {
   "cell_type": "code",
   "execution_count": 17,
   "id": "620ef4a3-5fae-46ed-9840-03eaf7d775ab",
   "metadata": {},
   "outputs": [],
   "source": [
    "lgb2_c3 = sgml.CVModel.load_or_create('result', 'lgb2_c3', skf, config_4, lgb_adapter_c)\n",
    "hparams = {\n",
    "    'model_params': {'n_estimators': 1200, 'num_leaves': 63, 'learning_rate': 0.03},\n",
    "    'X_num': X_num  + X_imp2 + X_freq, \n",
    "    'X_cat': X_ord + X_bool + X_comb, \n",
    "    'X_tgt': ['Health Score', 'Annual Income', 'Credit Score'],\n",
    "    'random_state': 123,\n",
    "}\n",
    "result = lgb2_c3.cv(df_train, hparams)\n",
    "lgb2_c3.train(df_train)\n",
    "df_train = dproc.join_and_assign(\n",
    "    df_train,\n",
    "    lgb2_c3.cv_best_['prd'].iloc[:, :1].rename(columns = lambda x: 't2_0_2')\n",
    ")\n",
    "df_test = dproc.join_and_assign(\n",
    "    df_test,\n",
    "    sc.cache_result(\n",
    "        't2_test2',\n",
    "        lambda : lgb2_c3.get_predictor()(df_test).iloc[:, :1].rename(columns = lambda x: 't2_0_2'), rerun = 0\n",
    "    )\n",
    ")"
   ]
  },
  {
   "cell_type": "code",
   "execution_count": 18,
   "id": "91c65af9-0bb7-42a6-9f35-baad1968a974",
   "metadata": {},
   "outputs": [],
   "source": [
    "X_clf = ['t0', 't1', 't2', 't5_0', 't5_1', 't5_2', 't5_3', 't5_4', 't2_0']\n",
    "X_clf2 = ['{}_2'.format(i) for i in X_clf]"
   ]
  },
  {
   "cell_type": "code",
   "execution_count": 19,
   "id": "8b90f16e-8e15-4cd2-b12f-dab64604e914",
   "metadata": {},
   "outputs": [],
   "source": [
    "lgb_nl = sgml.CVModel.load_or_create('result', 'lgb_nl', kf, config_5, lgb_adapter)\n",
    "hparams = {\n",
    "    'model_params': {'n_estimators': 800, 'num_leaves': 63, 'learning_rate': 0.01},\n",
    "    'X_num': X_num  + X_imp2 + X_freq + X_clf2, \n",
    "    'X_cat': X_ord + X_bool + X_comb, \n",
    "    'X_tgt': ['Health Score', 'Annual Income', 'Credit Score'], 'tgt': {'target_type': 'continuous'},\n",
    "    'random_state': 123,\n",
    "    #'validation_fraction': 0.1\n",
    "}\n",
    "#result = lgb_nl.adhoc(df_train, ss, hparams)\n",
    "lgb_nl.cv(df_train, hparams)\n",
    "lgb_nl.train(df_train)\n",
    "df_train = dproc.join_and_assign(\n",
    "    df_train,\n",
    "    lgb_nl.cv_best_['prd'].rename('t_nonlog').to_frame()\n",
    ")\n",
    "df_test = dproc.join_and_assign(\n",
    "    df_test,\n",
    "    sc.cache_result(\n",
    "        't2_test_nonlog',\n",
    "        lambda : lgb_nl.get_predictor()(df_test).rename('t_nonlog').to_frame(), rerun = 0\n",
    "    )\n",
    ")"
   ]
  },
  {
   "cell_type": "markdown",
   "id": "d151204d-4fbd-47fa-8692-67f1de6c6f26",
   "metadata": {},
   "source": [
    "## Classification 3"
   ]
  },
  {
   "cell_type": "code",
   "execution_count": 20,
   "id": "a1318cec-55a6-4f10-a628-4817963a6313",
   "metadata": {},
   "outputs": [],
   "source": [
    "lgb3_c = sgml.CVModel.load_or_create('result', 'lgb3_c', kf, config_2, lgb_adapter_c)\n",
    "hparams = {\n",
    "    'model_params': {'n_estimators': 1000, 'num_leaves': 63, 'learning_rate': 0.03},\n",
    "    'X_num': X_num + X_imp2 + X_freq, \n",
    "    'X_cat': X_ord + X_bool + X_comb, \n",
    "    'X_tgt': ['Health Score', 'Annual Income', 'Credit Score', 'HA'],\n",
    "    'random_state': 123,\n",
    "}\n",
    "result = lgb3_c.cv(df_train, hparams)\n",
    "lgb3_c.train(df_train)\n",
    "df_train = dproc.join_and_assign(\n",
    "    df_train,\n",
    "    lgb3_c.cv_best_['prd'].rename(columns = lambda x: 't{}_3'.format(x))\n",
    ")\n",
    "df_test = dproc.join_and_assign(\n",
    "    df_test,\n",
    "    sc.cache_result(\n",
    "        't_test3',\n",
    "        lambda : lgb3_c.get_predictor()(df_test).rename(columns = lambda x: 't{}_3'.format(x)), rerun = 0\n",
    "    )\n",
    ")"
   ]
  },
  {
   "cell_type": "code",
   "execution_count": 21,
   "id": "4c32be55-54ff-42a2-974e-972c211d53b4",
   "metadata": {},
   "outputs": [],
   "source": [
    "lgb3_c2 = sgml.CVModel.load_or_create('result', 'lgb3_c2', skf, config_3, lgb_adapter_c)\n",
    "hparams = {\n",
    "    'model_params': {'n_estimators': 700, 'num_leaves': 63, 'learning_rate': 0.03},\n",
    "    'X_num': X_num + X_imp2 + X_freq, \n",
    "    'X_cat': X_ord + X_bool + X_comb, \n",
    "    'X_tgt': ['Health Score', 'Annual Income', 'Credit Score', 'HA'],\n",
    "    'random_state': 123,\n",
    "}\n",
    "result = lgb3_c2.cv(df_train, hparams)\n",
    "lgb3_c2.train(df_train)\n",
    "df_train = dproc.join_and_assign(\n",
    "    df_train,\n",
    "    lgb3_c2.cv_best_['prd'].rename(columns = lambda x: 't5_{}_3'.format(x))\n",
    ")\n",
    "df_test = dproc.join_and_assign(\n",
    "    df_test,\n",
    "    sc.cache_result(\n",
    "        't5_test3',\n",
    "        lambda : lgb3_c2.get_predictor()(df_test).rename(columns = lambda x: 't5_{}_3'.format(x)), rerun = 0\n",
    "    )\n",
    ")"
   ]
  },
  {
   "cell_type": "code",
   "execution_count": 22,
   "id": "c98493a4-5496-4e2e-994e-9ac3198bbae4",
   "metadata": {},
   "outputs": [],
   "source": [
    "lgb3_c3 = sgml.CVModel.load_or_create('result', 'lgb3_c3', skf, config_4, lgb_adapter_c)\n",
    "hparams = {\n",
    "    'model_params': {'n_estimators': 1200, 'num_leaves': 63, 'learning_rate': 0.03},\n",
    "    'X_num': X_num  + X_imp2 + X_freq, \n",
    "    'X_cat': X_ord + X_bool + X_comb, \n",
    "    'X_tgt': ['Health Score', 'Annual Income', 'Credit Score', 'HA'],\n",
    "    'random_state': 123,\n",
    "}\n",
    "result = lgb3_c3.cv(df_train, hparams)\n",
    "lgb3_c3.train(df_train)\n",
    "df_train = dproc.join_and_assign(\n",
    "    df_train,\n",
    "    lgb3_c3.cv_best_['prd'].iloc[:, :1].rename(columns = lambda x: 't2_0_3')\n",
    ")\n",
    "df_test = dproc.join_and_assign(\n",
    "    df_test,\n",
    "    sc.cache_result(\n",
    "        't2_test3',\n",
    "        lambda : lgb3_c3.get_predictor()(df_test).iloc[:, :1].rename(columns = lambda x: 't2_0_3'), rerun = 0\n",
    "    )\n",
    ")"
   ]
  },
  {
   "cell_type": "code",
   "execution_count": 23,
   "id": "5e934ea8-65fa-435b-9155-cf25b68480f5",
   "metadata": {},
   "outputs": [],
   "source": [
    "lgb2_nl = sgml.CVModel.load_or_create('result', 'lgb2_nl', kf, config_5, lgb_adapter)\n",
    "hparams = {\n",
    "    'model_params': {'n_estimators': 800, 'num_leaves': 63, 'learning_rate': 0.01},\n",
    "    'X_num': X_num  + X_imp2 + X_freq + X_clf2, \n",
    "    'X_cat': X_ord + X_bool + X_comb, \n",
    "    'X_tgt': ['Health Score', 'Annual Income', 'Credit Score', 'HA'], 'tgt': {'target_type': 'continuous'},\n",
    "    'random_state': 123,\n",
    "    #'validation_fraction': 0.1\n",
    "}\n",
    "#result = lgb_nl.adhoc(df_train, ss, hparams)\n",
    "lgb2_nl.cv(df_train, hparams)\n",
    "lgb2_nl.train(df_train)\n",
    "df_train = dproc.join_and_assign(\n",
    "    df_train,\n",
    "    lgb2_nl.cv_best_['prd'].rename('t_nonlog2').to_frame()\n",
    ")\n",
    "df_test = dproc.join_and_assign(\n",
    "    df_test,\n",
    "    sc.cache_result(\n",
    "        't3_test_nonlog',\n",
    "        lambda : lgb2_nl.get_predictor()(df_test).rename('t_nonlog2').to_frame(), rerun = 0\n",
    "    )\n",
    ")"
   ]
  },
  {
   "cell_type": "code",
   "execution_count": 24,
   "id": "0aa41682-af68-48cb-8af3-e3269064d3b7",
   "metadata": {},
   "outputs": [],
   "source": [
    "X_clf3 = ['{}_3'.format(i) for i in X_clf]"
   ]
  },
  {
   "cell_type": "markdown",
   "id": "2f2d691d-2ade-4dbf-8fca-b7fbe77fc522",
   "metadata": {},
   "source": [
    "# Main Model"
   ]
  },
  {
   "cell_type": "markdown",
   "id": "287dced3-ccc6-4dc5-af30-35534e0da3ab",
   "metadata": {},
   "source": [
    "## LR"
   ]
  },
  {
   "cell_type": "code",
   "execution_count": 25,
   "id": "28707b96-b772-4513-978d-8556fd378f41",
   "metadata": {},
   "outputs": [],
   "source": [
    "lr = sgml.CVModel.load_or_create('result', 'lr', kf, config, lr_adapter)"
   ]
  },
  {
   "cell_type": "code",
   "execution_count": 26,
   "id": "75fe892f-fa2b-4f26-bd37-6804f0e1c703",
   "metadata": {},
   "outputs": [
    {
     "data": {
      "text/plain": [
       "[-1.020907947738057,\n",
       " -1.0244113313734193,\n",
       " -1.0266929097821098,\n",
       " -1.027685938981645,\n",
       " -1.0274033734243435]"
      ]
     },
     "execution_count": 26,
     "metadata": {},
     "output_type": "execute_result"
    }
   ],
   "source": [
    "hparams = {\n",
    "    'X_mm': ['Previous Claims_f', 'Credit Score_f', 'Annual Income_fl', 'Annual Income_Freqz'],\n",
    "    'X_num': ['Year_2019', 'Annual Income_isna', 'Credit Score_isna', 'Health Score_isna', 'Health Score_50'] + ['t0', 't1', 't5_0', 't5_1', 't5_2', 't5_3', 't2_0'],\n",
    "    'X_ohe': ['Marital_Feedback'], 'ohe': {'drop': 'first'},\n",
    "}\n",
    "result = lr.cv(df_train, hparams)\n",
    "result['valid_scores']"
   ]
  },
  {
   "cell_type": "markdown",
   "id": "88de6078-116a-49bf-aae0-cd904feb7b55",
   "metadata": {},
   "source": [
    "## LR2"
   ]
  },
  {
   "cell_type": "code",
   "execution_count": 27,
   "id": "b091fd8e-1738-4546-a827-721a34f788c1",
   "metadata": {},
   "outputs": [
    {
     "data": {
      "text/plain": [
       "[-1.0197289662106594,\n",
       " -1.0231558880294032,\n",
       " -1.025275796860883,\n",
       " -1.0267510558287696,\n",
       " -1.025943411060261]"
      ]
     },
     "execution_count": 27,
     "metadata": {},
     "output_type": "execute_result"
    }
   ],
   "source": [
    "lr2 = sgml.CVModel.load_or_create('result', 'lr2', kf, config, lr_adapter)\n",
    "hparams = {\n",
    "    'X_mm': ['Previous Claims_f2', 'Credit Score_f2', 'Annual Income_fl2', 'Annual Income_Freqz', 't_nonlog'],\n",
    "    'X_num': ['Year_2019', 'Annual Income_isna', 'Credit Score_isna', 'Health Score_isna', 'Health Score_502'] + ['t0_2', 't1_2', 't5_0_2', 't5_1_2', 't5_2_2', 't5_3_2', 't2_0_2'],\n",
    "    'X_ohe': ['Marital_Feedback'], 'ohe': {'drop': 'first'},\n",
    "}\n",
    "result = lr2.cv(df_train, hparams)\n",
    "result['valid_scores']"
   ]
  },
  {
   "cell_type": "markdown",
   "id": "04224807-82a2-4898-b046-a8611678ad48",
   "metadata": {},
   "source": [
    "## LR3"
   ]
  },
  {
   "cell_type": "code",
   "execution_count": 28,
   "id": "879fd1dc-6266-42ef-a972-465511119403",
   "metadata": {},
   "outputs": [
    {
     "data": {
      "text/plain": [
       "(-1.024153561956968, 0.003702061933534064)"
      ]
     },
     "execution_count": 28,
     "metadata": {},
     "output_type": "execute_result"
    }
   ],
   "source": [
    "lr3 = sgml.CVModel.load_or_create('result', 'lr3', kf10, config, lr_adapter)\n",
    "hparams = {\n",
    "    'X_mm': ['Previous Claims_f2', 'Credit Score_f2', 'Annual Income_fl2', 'Annual Income_Freqz', 't_nonlog'],\n",
    "    'X_num': ['Year_2019', 'Annual Income_isna', 'Credit Score_isna', 'Health Score_isna', 'Health Score_502'] + ['t0_2', 't1_2', 't5_0_2', 't5_1_2', 't5_2_2', 't5_3_2', 't2_0_2'],\n",
    "    'X_ohe': ['Marital_Feedback'], 'ohe': {'drop': 'first'},\n",
    "}\n",
    "result = lr3.cv(df_train, hparams)\n",
    "np.mean(result['valid_scores']), np.std(result['valid_scores'])"
   ]
  },
  {
   "cell_type": "markdown",
   "id": "2edd03dc-96eb-4fad-a797-cb516eecf03c",
   "metadata": {},
   "source": [
    "## LR4"
   ]
  },
  {
   "cell_type": "code",
   "execution_count": 29,
   "id": "fc59dd68-148e-4cfb-8996-382bc92cf524",
   "metadata": {},
   "outputs": [
    {
     "data": {
      "text/plain": [
       "(-1.0230221190876196, 0.002480477079559346)"
      ]
     },
     "execution_count": 29,
     "metadata": {},
     "output_type": "execute_result"
    }
   ],
   "source": [
    "lr4 = sgml.CVModel.load_or_create('result', 'lr4', kf, config, lr_adapter)\n",
    "hparams = {\n",
    "    'X_mm': ['Previous Claims_f2', 'Credit Score_f2', 'Annual Income_fl2', 'Annual Income_Freqz', 't_nonlog2'],\n",
    "    'X_num': ['Year_2019', 'Annual Income_isna', 'Credit Score_isna', 'Health Score_isna', 'Health Score_502'] + ['t0_3', 't1_3', 't5_0_3', 't5_1_3', 't5_2_3', 't5_3_3', 't2_0_3'],\n",
    "    'X_ohe': ['Marital_Feedback'], 'ohe': {'drop': 'first'},\n",
    "}\n",
    "result = lr4.cv(df_train, hparams)\n",
    "np.mean(result['valid_scores']), np.std(result['valid_scores'])"
   ]
  },
  {
   "cell_type": "markdown",
   "id": "9e6e206f-1637-44cf-a6a2-02de1c86613e",
   "metadata": {},
   "source": [
    "## LGB1"
   ]
  },
  {
   "cell_type": "code",
   "execution_count": 30,
   "id": "90a77dcf-59b7-4ab5-b33f-6ba9f5829b8e",
   "metadata": {},
   "outputs": [],
   "source": [
    "lgb1 = sgml.CVModel.load_or_create('result', 'lgb1', kf, config, lgb_adapter)"
   ]
  },
  {
   "cell_type": "code",
   "execution_count": 31,
   "id": "17f77f63-21ed-4e1d-a859-4bccf108b31b",
   "metadata": {},
   "outputs": [
    {
     "data": {
      "text/plain": [
       "[-1.0182612782097804,\n",
       " -1.02138309135708,\n",
       " -1.0237663083116533,\n",
       " -1.025185454124475,\n",
       " -1.0242886913755491]"
      ]
     },
     "execution_count": 31,
     "metadata": {},
     "output_type": "execute_result"
    }
   ],
   "source": [
    "hparams = {\n",
    "    'model_params': {'n_estimators': 1000, 'num_leaves': 127, 'learning_rate': 0.007},\n",
    "    'X_tgt': ['Health Score', 'Annual Income', 'Credit Score', 'HA'], 'tgt': {'target_type': 'continuous'},\n",
    "    'X_num': X_num + X_freq + X_imp2 + X_clf3+ ['t_nonlog2'], \n",
    "    'X_cat': X_ord + X_bool + X_comb, \n",
    "    'random_state': 123,\n",
    "    #'validation_fraction': 0.1\n",
    "}\n",
    "#result = lgb1.adhoc(df_train, ss, hparams)\n",
    "result = lgb1.cv(df_train, hparams)\n",
    "result['valid_scores']"
   ]
  },
  {
   "cell_type": "markdown",
   "id": "577d4609-a6bc-49a7-b97b-e4a84a8ef373",
   "metadata": {},
   "source": [
    "## LGB2"
   ]
  },
  {
   "cell_type": "code",
   "execution_count": 32,
   "id": "5bc816ea-e000-4eb2-a8b8-63606e266242",
   "metadata": {},
   "outputs": [],
   "source": [
    "lgb2 = sgml.CVModel.load_or_create('result', 'lgb2', kf, config, lgb_adapter)"
   ]
  },
  {
   "cell_type": "code",
   "execution_count": 33,
   "id": "0fc55278-6bc9-44e4-96c7-5306802866e6",
   "metadata": {},
   "outputs": [
    {
     "data": {
      "text/plain": [
       "[-1.0196454000717559,\n",
       " -1.0230054346561774,\n",
       " -1.0252564018679065,\n",
       " -1.0264906829663503,\n",
       " -1.0259224138735792]"
      ]
     },
     "execution_count": 33,
     "metadata": {},
     "output_type": "execute_result"
    }
   ],
   "source": [
    "hparams = {\n",
    "    'model_params': {'n_estimators': 1000, 'num_leaves': 63, 'learning_rate': 0.007},\n",
    "    'X_num': X_num + X_freq + X_imp2 + X_clf2,\n",
    "    'X_cat': X_ord + X_bool + X_comb, \n",
    "    'X_tgt': ['Health Score', 'Annual Income', 'Credit Score'], 'tgt': {'target_type': 'continuous'},\n",
    "    'random_state': 123,\n",
    "    #'validation_fraction': 0.1\n",
    "}\n",
    "#result = lgb2.adhoc(df_train, ss, hparams)\n",
    "result = lgb2.cv(df_train, hparams)\n",
    "result['valid_scores']"
   ]
  },
  {
   "cell_type": "markdown",
   "id": "27f9f047-908d-4b70-a1c1-cdc2034443c1",
   "metadata": {},
   "source": [
    "## LGB3"
   ]
  },
  {
   "cell_type": "code",
   "execution_count": 34,
   "id": "e8a278b8-ce2f-4b53-bbec-71c32ba106d9",
   "metadata": {},
   "outputs": [],
   "source": [
    "lgb3 = sgml.CVModel.load_or_create('result', 'lgb3', kf, config, lgb_adapter)"
   ]
  },
  {
   "cell_type": "code",
   "execution_count": 35,
   "id": "8e061146-4f92-4259-a13f-da3cffab24e3",
   "metadata": {},
   "outputs": [
    {
     "data": {
      "text/plain": [
       "[-1.019297183996696,\n",
       " -1.0228358228658112,\n",
       " -1.0251711587951942,\n",
       " -1.0264989479182902,\n",
       " -1.0256808821251227]"
      ]
     },
     "execution_count": 35,
     "metadata": {},
     "output_type": "execute_result"
    }
   ],
   "source": [
    "hparams = {\n",
    "    'model_params': {'n_estimators': 1000, 'num_leaves': 63, 'learning_rate': 0.007},\n",
    "    'X_num': X_num + X_freq + X_imp2 + X_clf2 + ['t_nonlog'],\n",
    "    'X_cat': X_ord + X_bool + X_comb, \n",
    "    'X_tgt': ['Health Score', 'Annual Income', 'Credit Score'], 'tgt': {'target_type': 'continuous'},\n",
    "    'random_state': 123,\n",
    "    #'validation_fraction': 0.1\n",
    "}\n",
    "#result = lgb3.adhoc(df_train, ss, hparams)\n",
    "result = lgb3.cv(df_train, hparams)\n",
    "result['valid_scores']"
   ]
  },
  {
   "cell_type": "markdown",
   "id": "0a988815-6e48-449d-ba7d-c53b21060055",
   "metadata": {},
   "source": [
    "## LGB4"
   ]
  },
  {
   "cell_type": "code",
   "execution_count": 36,
   "id": "5455d6c5-0ae7-4ed1-bd37-ba1fcfaf5a33",
   "metadata": {},
   "outputs": [
    {
     "data": {
      "text/plain": [
       "(-1.0236141695695413, 0.0036534532659200326)"
      ]
     },
     "execution_count": 36,
     "metadata": {},
     "output_type": "execute_result"
    }
   ],
   "source": [
    "lgb4 = sgml.CVModel.load_or_create('result', 'lgb4', kf10, config, lgb_adapter)\n",
    "hparams = {\n",
    "    'model_params': {'n_estimators': 1000, 'num_leaves': 63, 'learning_rate': 0.007},\n",
    "    'X_num': X_num + X_freq + X_imp2 + X_clf2 + ['t_nonlog'],\n",
    "    'X_cat': X_ord + X_bool + X_comb, \n",
    "    'X_tgt': ['Health Score', 'Annual Income', 'Credit Score'], 'tgt': {'target_type': 'continuous'},\n",
    "    'random_state': 123,\n",
    "    #'validation_fraction': 0.1\n",
    "}\n",
    "#result = lgb4.adhoc(df_train, ss, hparams)\n",
    "result = lgb4.cv(df_train, hparams)\n",
    "np.mean(result['valid_scores']), np.std(result['valid_scores'])"
   ]
  },
  {
   "cell_type": "markdown",
   "id": "fa18a12b-fd49-497b-b031-60c5288a4253",
   "metadata": {},
   "source": [
    "## LGB5"
   ]
  },
  {
   "cell_type": "code",
   "execution_count": 37,
   "id": "e1a4401c-954a-4867-a901-95594c8d3126",
   "metadata": {},
   "outputs": [
    {
     "data": {
      "application/vnd.jupyter.widget-view+json": {
       "model_id": "",
       "version_major": 2,
       "version_minor": 0
      },
      "text/plain": [
       "Fold:   0%|          | 0/5 [00:00<?, ?it/s]"
      ]
     },
     "metadata": {},
     "output_type": "display_data"
    },
    {
     "data": {
      "application/vnd.jupyter.widget-view+json": {
       "model_id": "",
       "version_major": 2,
       "version_minor": 0
      },
      "text/plain": [
       "Round:   0%|          | 0/1000 [00:00<?, ?it/s]"
      ]
     },
     "metadata": {},
     "output_type": "display_data"
    },
    {
     "data": {
      "application/vnd.jupyter.widget-view+json": {
       "model_id": "",
       "version_major": 2,
       "version_minor": 0
      },
      "text/plain": [
       "Round:   0%|          | 0/1000 [00:00<?, ?it/s]"
      ]
     },
     "metadata": {},
     "output_type": "display_data"
    },
    {
     "data": {
      "application/vnd.jupyter.widget-view+json": {
       "model_id": "",
       "version_major": 2,
       "version_minor": 0
      },
      "text/plain": [
       "Round:   0%|          | 0/1000 [00:00<?, ?it/s]"
      ]
     },
     "metadata": {},
     "output_type": "display_data"
    },
    {
     "data": {
      "application/vnd.jupyter.widget-view+json": {
       "model_id": "",
       "version_major": 2,
       "version_minor": 0
      },
      "text/plain": [
       "Round:   0%|          | 0/1000 [00:00<?, ?it/s]"
      ]
     },
     "metadata": {},
     "output_type": "display_data"
    },
    {
     "data": {
      "application/vnd.jupyter.widget-view+json": {
       "model_id": "",
       "version_major": 2,
       "version_minor": 0
      },
      "text/plain": [
       "Round:   0%|          | 0/1000 [00:00<?, ?it/s]"
      ]
     },
     "metadata": {},
     "output_type": "display_data"
    },
    {
     "data": {
      "text/plain": [
       "([-1.0182184665356317,\n",
       "  -1.0212895543431484,\n",
       "  -1.023691443239229,\n",
       "  -1.0249824267884893,\n",
       "  -1.0242508928961964],\n",
       " -1.022486556760539)"
      ]
     },
     "execution_count": 37,
     "metadata": {},
     "output_type": "execute_result"
    }
   ],
   "source": [
    "lgb5 = sgml.CVModel.load_or_create('result', 'lgb5', kf, config, lgb_adapter)\n",
    "hparams = {\n",
    "    'model_params': {'n_estimators': 1000, 'num_leaves': 63, 'learning_rate': 0.007},\n",
    "    'X_num': X_num + X_freq + X_imp2 + X_clf3 + ['t_nonlog'],\n",
    "    'X_cat': X_ord + X_bool + X_comb, \n",
    "    'X_tgt': ['Health Score', 'Annual Income', 'Credit Score', 'HA'], 'tgt': {'target_type': 'continuous'},\n",
    "    'random_state': 123,\n",
    "    #'validation_fraction': 0.1\n",
    "}\n",
    "#result = lgb5.adhoc(df_train, ss, hparams)\n",
    "result = lgb5.cv(df_train, hparams)\n",
    "result['valid_scores'], np.mean(result['valid_scores'])"
   ]
  },
  {
   "cell_type": "markdown",
   "id": "216f534b-7b22-498d-89af-57a7a6b4337d",
   "metadata": {},
   "source": [
    "## CB1"
   ]
  },
  {
   "cell_type": "code",
   "execution_count": 40,
   "id": "60de7950-b218-421a-8950-e309e867a9f9",
   "metadata": {},
   "outputs": [],
   "source": [
    "cb1 = sgml.CVModel.load_or_create('result', 'cb1', kf, config, cb_adapter)"
   ]
  },
  {
   "cell_type": "code",
   "execution_count": 41,
   "id": "6ad17f6b-1485-4721-8ec6-a24b494ac75e",
   "metadata": {},
   "outputs": [
    {
     "data": {
      "text/plain": [
       "[-1.0195329716539823,\n",
       " -1.023208763213835,\n",
       " -1.0255487417970068,\n",
       " -1.0265576422608642,\n",
       " -1.0258635511682561]"
      ]
     },
     "execution_count": 41,
     "metadata": {},
     "output_type": "execute_result"
    }
   ],
   "source": [
    "hparams = {\n",
    "    'model_params': {'n_estimators': 600, 'max_depth': 9, 'learning_rate': 0.04},\n",
    "    'X_tgt': ['Health Score', 'Annual Income', 'Credit Score'], 'tgt': {'target_type': 'continuous'},\n",
    "    'X_num': X_num + X_freq + X_imp + X_clf, \n",
    "    'X_cat': X_ord + X_bool + X_comb, \n",
    "    'random_state': 123,\n",
    "    #'validation_fraction': 0.1\n",
    "}\n",
    "#result = cb1.adhoc(df_train, ss, hparams, task_type='GPU')\n",
    "result = cb1.cv(df_train, hparams, task_type='GPU')\n",
    "result['valid_scores']"
   ]
  },
  {
   "cell_type": "markdown",
   "id": "dec9d1d7-a8c0-4a1d-bc49-9281824a6e69",
   "metadata": {},
   "source": [
    "## CB2"
   ]
  },
  {
   "cell_type": "code",
   "execution_count": 42,
   "id": "cf34d1b9-6aab-4274-91e8-9886746c27f7",
   "metadata": {},
   "outputs": [],
   "source": [
    "cb2 = sgml.CVModel.load_or_create('result', 'cb2', kf, config, cb_adapter)"
   ]
  },
  {
   "cell_type": "code",
   "execution_count": 43,
   "id": "87188193-04ff-421e-80c6-55d64dc9b41e",
   "metadata": {},
   "outputs": [
    {
     "data": {
      "text/plain": [
       "[-1.01851058797553,\n",
       " -1.021410992470396,\n",
       " -1.0239915563454518,\n",
       " -1.025355088449438,\n",
       " -1.0245635274207148]"
      ]
     },
     "execution_count": 43,
     "metadata": {},
     "output_type": "execute_result"
    }
   ],
   "source": [
    "hparams = {\n",
    "    'model_params': {'n_estimators': 600, 'max_depth': 10, 'learning_rate': 0.04},\n",
    "    'X_tgt': ['Health Score', 'Annual Income', 'Credit Score', 'HA'], 'tgt': {'target_type': 'continuous'},\n",
    "    'X_num': X_num + X_freq + X_imp2 + X_clf3+ ['t_nonlog2'], \n",
    "    'X_cat': X_ord + X_bool + X_comb, \n",
    "    'random_state': 123,\n",
    "    #'validation_fraction': 0.1\n",
    "}\n",
    "#result = cb2.adhoc(df_train, ss, hparams, task_type='GPU')\n",
    "result = cb2.cv(df_train, hparams, task_type='GPU')\n",
    "result['valid_scores']"
   ]
  },
  {
   "cell_type": "markdown",
   "id": "fb4e95a2-0698-444b-bec3-7d4a6d413d6d",
   "metadata": {},
   "source": [
    "## CB3"
   ]
  },
  {
   "cell_type": "code",
   "execution_count": 44,
   "id": "ab529138-6927-419e-8afa-92999594b334",
   "metadata": {},
   "outputs": [],
   "source": [
    "cb3 = sgml.CVModel.load_or_create('result', 'cb3', kf, config, cb_adapter)"
   ]
  },
  {
   "cell_type": "code",
   "execution_count": 45,
   "id": "30b28d72-5d40-492b-b97d-7b0d05676cfc",
   "metadata": {},
   "outputs": [
    {
     "data": {
      "text/plain": [
       "[-1.025042488333008,\n",
       " -1.0219134920026633,\n",
       " -1.0240171078328728,\n",
       " -1.0217235015230068,\n",
       " -1.0290155064007989]"
      ]
     },
     "execution_count": 45,
     "metadata": {},
     "output_type": "execute_result"
    }
   ],
   "source": [
    "hparams = {\n",
    "    'model_params': {'n_estimators': 600, 'max_depth': 10, 'learning_rate': 0.04},\n",
    "    'X_tgt': ['Annual Income', 'Credit Score'], 'tgt': {'target_type': 'continuous'},\n",
    "    'X_num': X_num + X_freq + X_imp2 + X_clf2, \n",
    "    'X_cat': X_ord + X_bool + X_comb, \n",
    "    'X_ord': ['Health Score_c'], 'ord': {'min_frequency': 5, 'unknown_value': -1, 'handle_unknown': \"use_encoded_value\"},\n",
    "    'random_state': 123,\n",
    "    #'validation_fraction': 0.1\n",
    "}\n",
    "#result = cb3.adhoc(df_train, ss, hparams, task_type='GPU')\n",
    "result = cb3.cv(df_train, hparams, task_type='GPU')\n",
    "result['valid_scores']"
   ]
  },
  {
   "cell_type": "markdown",
   "id": "41e65db6-62bd-4c3f-a4a5-0b63903f30f2",
   "metadata": {},
   "source": [
    "## CB4"
   ]
  },
  {
   "cell_type": "code",
   "execution_count": 46,
   "id": "0f6fee1f-10e7-4ab1-aa34-69318a27d6b5",
   "metadata": {},
   "outputs": [],
   "source": [
    "cb4 = sgml.CVModel.load_or_create('result', 'cb4', kf, config, cb_adapter)"
   ]
  },
  {
   "cell_type": "code",
   "execution_count": 47,
   "id": "ce8632c7-b65f-4389-a2ab-63a017b71f58",
   "metadata": {},
   "outputs": [
    {
     "data": {
      "text/plain": [
       "[-1.0195740108384055,\n",
       " -1.0212720754574072,\n",
       " -1.0233300397270204,\n",
       " -1.0262117440585858,\n",
       " -1.0242325734967839]"
      ]
     },
     "execution_count": 47,
     "metadata": {},
     "output_type": "execute_result"
    }
   ],
   "source": [
    "hparams = {\n",
    "    'model_params': {'n_estimators': 600, 'max_depth': 10, 'learning_rate': 0.04},\n",
    "    'X_tgt': ['Annual Income', 'Credit Score'], 'tgt': {'target_type': 'continuous'},\n",
    "    'X_num': X_num + X_freq + X_imp2 + X_clf2, \n",
    "    'X_cat': X_ord + X_bool + X_comb, \n",
    "    'X_ord': ['Health Score_c'], 'ord': {'min_frequency': 7, 'unknown_value': -1, 'handle_unknown': \"use_encoded_value\"},\n",
    "    'random_state': 123,\n",
    "    #'validation_fraction': 0.1\n",
    "}\n",
    "#result = cb4.adhoc(df_train, ss, hparams, task_type='GPU')\n",
    "result = cb4.cv(df_train, hparams, task_type='GPU')\n",
    "result['valid_scores']"
   ]
  },
  {
   "cell_type": "markdown",
   "id": "a701afe1-2e42-439f-bf07-b220ffc2370f",
   "metadata": {},
   "source": [
    "## CB5"
   ]
  },
  {
   "cell_type": "code",
   "execution_count": 48,
   "id": "b62c1e3c-be77-4335-a24b-37c2e846f0cc",
   "metadata": {},
   "outputs": [],
   "source": [
    "cb5 = sgml.CVModel.load_or_create('result', 'cb5', kf, config, cb_adapter)"
   ]
  },
  {
   "cell_type": "code",
   "execution_count": 49,
   "id": "1011dbbb-4e5e-4d7f-a663-a95bdb97b187",
   "metadata": {},
   "outputs": [
    {
     "data": {
      "text/plain": [
       "[-1.0202103090565935,\n",
       " -1.0236188697776036,\n",
       " -1.0259082541852604,\n",
       " -1.0271804203847197,\n",
       " -1.0268048773138716]"
      ]
     },
     "execution_count": 49,
     "metadata": {},
     "output_type": "execute_result"
    }
   ],
   "source": [
    "hparams = {\n",
    "    'model_params': {'n_estimators': 600, 'max_depth': 10, 'learning_rate': 0.04},\n",
    "    'X_tgt': ['Annual Income', 'Credit Score'], 'tgt': {'target_type': 'continuous'},\n",
    "    'X_num': X_num + X_freq + X_imp2 + X_clf2, \n",
    "    'X_cat': X_ord + X_bool + X_comb, \n",
    "    'X_ord': ['Health Score_c'], 'ord': {'min_frequency': 15, 'unknown_value': -1, 'handle_unknown': \"use_encoded_value\"},\n",
    "    'random_state': 123,\n",
    "    #'validation_fraction': 0.1\n",
    "}\n",
    "#result = cb4.adhoc(df_train, ss, hparams, task_type='GPU')\n",
    "result = cb5.cv(df_train, hparams, task_type='GPU')\n",
    "result['valid_scores']"
   ]
  },
  {
   "cell_type": "markdown",
   "id": "cda69a2c-ada9-4844-aaa3-1ab149d8e104",
   "metadata": {},
   "source": [
    "## CB6"
   ]
  },
  {
   "cell_type": "code",
   "execution_count": 50,
   "id": "3aaf46cc-6053-4aeb-98dc-e548827a0570",
   "metadata": {},
   "outputs": [],
   "source": [
    "cb6 = sgml.CVModel.load_or_create('result', 'cb6', kf, config, cb_adapter)"
   ]
  },
  {
   "cell_type": "code",
   "execution_count": 51,
   "id": "6f8e615f-0949-4391-bb80-2e90d7ab7bd1",
   "metadata": {},
   "outputs": [
    {
     "data": {
      "text/plain": [
       "[-1.0203919240791612,\n",
       " -1.0236693081353079,\n",
       " -1.0262721762888998,\n",
       " -1.0272071407716024,\n",
       " -1.0268210944227152]"
      ]
     },
     "execution_count": 51,
     "metadata": {},
     "output_type": "execute_result"
    }
   ],
   "source": [
    "hparams = {\n",
    "    'model_params': {'n_estimators': 600, 'max_depth': 10, 'learning_rate': 0.04},\n",
    "    'X_tgt': ['Credit Score'], 'tgt': {'target_type': 'continuous'},\n",
    "    'X_num': X_num + X_freq + X_imp2 + X_clf2, \n",
    "    'X_cat': X_ord + X_bool + X_comb, \n",
    "    'X_ord': ['Health Score_c', 'Annual Income_fz'], 'ord': {'min_frequency': 15, 'unknown_value': -1, 'handle_unknown': \"use_encoded_value\"},\n",
    "    'random_state': 123,\n",
    "    #'validation_fraction': 0.1\n",
    "}\n",
    "#result = cb6.adhoc(df_train, ss, hparams, task_type='GPU')\n",
    "result = cb6.cv(df_train, hparams, task_type='GPU')\n",
    "result['valid_scores']"
   ]
  },
  {
   "cell_type": "markdown",
   "id": "b7faadd8-6bce-4915-994a-0d1e64f08266",
   "metadata": {},
   "source": [
    "## CB7"
   ]
  },
  {
   "cell_type": "code",
   "execution_count": 52,
   "id": "3727506d-2357-4791-84f5-aa4a8aeaea44",
   "metadata": {},
   "outputs": [
    {
     "data": {
      "text/plain": [
       "[-1.0192502676480961,\n",
       " -1.0228011897829348,\n",
       " -1.0250621118137877,\n",
       " -1.0265158432336154,\n",
       " -1.0257206391063562]"
      ]
     },
     "execution_count": 52,
     "metadata": {},
     "output_type": "execute_result"
    }
   ],
   "source": [
    "cb7 = sgml.CVModel.load_or_create('result', 'cb7', kf, config, cb_adapter)\n",
    "hparams = {\n",
    "    'model_params': {'n_estimators': 600, 'max_depth': 9, 'learning_rate': 0.04},\n",
    "    'X_tgt': ['Health Score', 'Annual Income', 'Credit Score'], 'tgt': {'target_type': 'continuous'},\n",
    "    'X_num': X_num + X_freq + X_imp + X_clf + ['t_nonlog'], \n",
    "    'X_cat': X_ord + X_bool + X_comb, \n",
    "    'random_state': 123,\n",
    "    #'validation_fraction': 0.1\n",
    "}\n",
    "#result = cb7.adhoc(df_train, ss, hparams, task_type='GPU')\n",
    "result = cb7.cv(df_train, hparams, task_type='GPU')\n",
    "result['valid_scores']"
   ]
  },
  {
   "cell_type": "markdown",
   "id": "18d89cca-4726-466e-b88e-d6bec70f59e2",
   "metadata": {},
   "source": [
    "## CB8"
   ]
  },
  {
   "cell_type": "code",
   "execution_count": 53,
   "id": "ba22affb-efd0-4d2f-8aef-89790b3c6fd1",
   "metadata": {},
   "outputs": [
    {
     "data": {
      "text/plain": [
       "[-1.0238574656169612,\n",
       " -1.0138958513616563,\n",
       " -1.0231985242467976,\n",
       " -1.022180658204548,\n",
       " -1.0273075740194109,\n",
       " -1.0226857713498936,\n",
       " -1.0240825232527182,\n",
       " -1.0284551044673074,\n",
       " -1.026896617895029,\n",
       " -1.0239502005022836]"
      ]
     },
     "execution_count": 53,
     "metadata": {},
     "output_type": "execute_result"
    }
   ],
   "source": [
    "cb8 = sgml.CVModel.load_or_create('result', 'cb8', kf10, config, cb_adapter)\n",
    "hparams = {\n",
    "    'model_params': {'n_estimators': 600, 'max_depth': 9, 'learning_rate': 0.04},\n",
    "    'X_tgt': ['Health Score', 'Annual Income', 'Credit Score'], 'tgt': {'target_type': 'continuous'},\n",
    "    'X_num': X_num + X_freq + X_imp + X_clf + ['t_nonlog'], \n",
    "    'X_cat': X_ord + X_bool + X_comb, \n",
    "    'random_state': 123,\n",
    "    #'validation_fraction': 0.1\n",
    "}\n",
    "#result = cb8.adhoc(df_train, ss, hparams, task_type='GPU')\n",
    "result = cb8.cv(df_train, hparams, task_type='GPU')\n",
    "result['valid_scores']"
   ]
  },
  {
   "cell_type": "markdown",
   "id": "f874ad39-0f4f-4a08-abad-947d9ca35e12",
   "metadata": {},
   "source": [
    "## CB9"
   ]
  },
  {
   "cell_type": "code",
   "execution_count": 54,
   "id": "e6a296e4-d118-485d-ba64-ef64627b987b",
   "metadata": {},
   "outputs": [
    {
     "data": {
      "text/plain": [
       "[-1.0182024083534438,\n",
       " -1.0211486591931822,\n",
       " -1.02372312306476,\n",
       " -1.0251265351786936,\n",
       " -1.0243509835460642]"
      ]
     },
     "execution_count": 54,
     "metadata": {},
     "output_type": "execute_result"
    }
   ],
   "source": [
    "cb9 = sgml.CVModel.load_or_create('result', 'cb9', kf, config, cb_adapter)\n",
    "hparams = {\n",
    "    'model_params': {'n_estimators': 600, 'max_depth': 9, 'learning_rate': 0.04},\n",
    "    'X_tgt': ['Health Score', 'Annual Income', 'Credit Score', 'HA'], 'tgt': {'target_type': 'continuous'},\n",
    "    'X_num': X_num + X_freq + X_imp + X_clf3 + ['t_nonlog2'], \n",
    "    'X_cat': X_ord + X_bool + X_comb, \n",
    "    'random_state': 123,\n",
    "    #'validation_fraction': 0.1\n",
    "}\n",
    "#result = cb9.adhoc(df_train, ss, hparams, task_type='GPU')\n",
    "result = cb9.cv(df_train, hparams, task_type='GPU')\n",
    "result['valid_scores']"
   ]
  },
  {
   "cell_type": "markdown",
   "id": "8d560e7d-167b-4854-8a9b-8902db6149a0",
   "metadata": {},
   "source": [
    "## XGB1"
   ]
  },
  {
   "cell_type": "code",
   "execution_count": 55,
   "id": "11095603-8fee-4ed6-a6b7-1df19fbf72ed",
   "metadata": {},
   "outputs": [],
   "source": [
    "xgb1 = sgml.CVModel.load_or_create('result', 'xgb1', kf, config, xgb_adapter)"
   ]
  },
  {
   "cell_type": "code",
   "execution_count": 56,
   "id": "26a5a9cc-da5b-4058-a005-bc6d02b93db7",
   "metadata": {},
   "outputs": [
    {
     "data": {
      "text/plain": [
       "[-1.0194211586161719,\n",
       " -1.0229488691452266,\n",
       " -1.0252834881715636,\n",
       " -1.0264535390314664,\n",
       " -1.025776468979094]"
      ]
     },
     "execution_count": 56,
     "metadata": {},
     "output_type": "execute_result"
    }
   ],
   "source": [
    "hparams = {\n",
    "    'model_params': {'n_estimators': 1100, 'max_depth': 5, 'learning_rate': 0.01},\n",
    "    'X_tgt': ['Health Score', 'Annual Income', 'Credit Score'], 'tgt': {'target_type': 'continuous'},\n",
    "    'X_num': X_num + X_freq + X_imp2 + X_clf2, \n",
    "    'X_cat': X_ord + X_bool + X_comb, \n",
    "    'random_state': 123,\n",
    "    #'validation_fraction': 0.1\n",
    "}\n",
    "#result = xgb1.adhoc(df_train, ss, hparams, device='cuda')\n",
    "result = xgb1.cv(df_train, hparams, device='cuda')\n",
    "result['valid_scores']"
   ]
  },
  {
   "cell_type": "markdown",
   "id": "ab40e9e0-6118-4050-bb8f-4c6db1a36a8e",
   "metadata": {},
   "source": [
    "## XGB2"
   ]
  },
  {
   "cell_type": "code",
   "execution_count": 57,
   "id": "c2d3702b-933b-4fc2-9ff9-21af97d0f5cb",
   "metadata": {},
   "outputs": [],
   "source": [
    "xgb2 = sgml.CVModel.load_or_create('result', 'xgb2', kf, config, xgb_adapter)"
   ]
  },
  {
   "cell_type": "code",
   "execution_count": 58,
   "id": "9683da02-eb74-4aac-b7bd-793b85fa5495",
   "metadata": {},
   "outputs": [
    {
     "data": {
      "text/plain": [
       "[-1.0183394909707393,\n",
       " -1.0214039641435408,\n",
       " -1.0236339817284275,\n",
       " -1.0252640128304753,\n",
       " -1.0242451982262244]"
      ]
     },
     "execution_count": 58,
     "metadata": {},
     "output_type": "execute_result"
    }
   ],
   "source": [
    "hparams = {\n",
    "    'model_params': {'n_estimators': 1300, 'max_depth': 4, 'learning_rate': 0.02},\n",
    "    'X_tgt': ['Health Score', 'Annual Income', 'Credit Score'], 'tgt': {'target_type': 'continuous'},\n",
    "    'X_num': X_num + X_freq + X_imp2 + X_clf3 + ['t_nonlog2'], \n",
    "    'X_cat': X_ord + X_bool + X_comb, \n",
    "    'random_state': 123,\n",
    "    #'validation_fraction': 0.1\n",
    "}\n",
    "#result = xgb2.adhoc(df_train, ss, hparams, device='cuda')\n",
    "result = xgb2.cv(df_train, hparams, device='cuda')\n",
    "result['valid_scores']"
   ]
  },
  {
   "cell_type": "markdown",
   "id": "ab5dfba4-b4f7-4036-a848-6b6459b2d9c9",
   "metadata": {},
   "source": [
    "## XGB3"
   ]
  },
  {
   "cell_type": "code",
   "execution_count": 59,
   "id": "78173185-fac8-4cb5-9fca-5a6bdb5c95c3",
   "metadata": {},
   "outputs": [
    {
     "data": {
      "text/plain": [
       "[-1.019304623025062,\n",
       " -1.0227407748361812,\n",
       " -1.0249598006762604,\n",
       " -1.026393552490523,\n",
       " -1.0254278848327134]"
      ]
     },
     "execution_count": 59,
     "metadata": {},
     "output_type": "execute_result"
    }
   ],
   "source": [
    "xgb3 = sgml.CVModel.load_or_create('result', 'xgb3', kf, config, xgb_adapter)\n",
    "hparams = {\n",
    "    'model_params': {'n_estimators': 1100, 'max_depth': 5, 'learning_rate': 0.01},\n",
    "    'X_tgt': ['Health Score', 'Annual Income', 'Credit Score'], 'tgt': {'target_type': 'continuous'},\n",
    "    'X_num': X_num + X_freq + X_imp2 + X_clf2 + ['t_nonlog'], \n",
    "    'X_cat': X_ord + X_bool + X_comb, \n",
    "    'random_state': 123,\n",
    "    #'validation_fraction': 0.1\n",
    "}\n",
    "#result = xgb3.adhoc(df_train, ss, hparams, device='cuda')\n",
    "result = xgb3.cv(df_train, hparams, device='cuda')\n",
    "result['valid_scores']"
   ]
  },
  {
   "cell_type": "markdown",
   "id": "7415a1e4-4535-4313-b1f1-d8056ca6ceef",
   "metadata": {},
   "source": [
    "## XGB4"
   ]
  },
  {
   "cell_type": "code",
   "execution_count": 60,
   "id": "df480b99-03b8-4236-8dd7-85271f3dc6a2",
   "metadata": {},
   "outputs": [
    {
     "data": {
      "text/plain": [
       "(-1.0235767230627957, 0.00371089365930749)"
      ]
     },
     "execution_count": 60,
     "metadata": {},
     "output_type": "execute_result"
    }
   ],
   "source": [
    "xgb4 = sgml.CVModel.load_or_create('result', 'xgb4', kf10, config, xgb_adapter)\n",
    "hparams = {\n",
    "    'model_params': {'n_estimators': 1100, 'max_depth': 5, 'learning_rate': 0.01},\n",
    "    'X_tgt': ['Health Score', 'Annual Income', 'Credit Score'], 'tgt': {'target_type': 'continuous'},\n",
    "    'X_num': X_num + X_freq + X_imp2 + X_clf2 + ['t_nonlog'], \n",
    "    'X_cat': X_ord + X_bool + X_comb, \n",
    "    'random_state': 123,\n",
    "    #'validation_fraction': 0.1\n",
    "}\n",
    "#result = xgb4.adhoc(df_train, ss, hparams, device='cuda')\n",
    "result = xgb4.cv(df_train, hparams, device='cuda')\n",
    "np.mean(result['valid_scores']), np.std(result['valid_scores'])"
   ]
  },
  {
   "cell_type": "markdown",
   "id": "9680f5be-31fb-4d2e-ba0c-f57ca40c0631",
   "metadata": {},
   "source": [
    "## XGB5"
   ]
  },
  {
   "cell_type": "code",
   "execution_count": 61,
   "id": "1bdfc59b-effc-4856-9685-65ff2d0a5c73",
   "metadata": {},
   "outputs": [
    {
     "data": {
      "text/plain": [
       "[-1.0182158655466989,\n",
       " -1.0212805345842737,\n",
       " -1.0236501108886766,\n",
       " -1.0250058569391902,\n",
       " -1.023903893349152]"
      ]
     },
     "execution_count": 61,
     "metadata": {},
     "output_type": "execute_result"
    }
   ],
   "source": [
    "xgb5 = sgml.CVModel.load_or_create('result', 'xgb5', kf, config, xgb_adapter)\n",
    "hparams = {\n",
    "    'model_params': {'n_estimators': 1100, 'max_depth': 5, 'learning_rate': 0.01},\n",
    "    'X_tgt': ['Health Score', 'Annual Income', 'Credit Score', 'HA'], 'tgt': {'target_type': 'continuous'},\n",
    "    'X_num': X_num + X_freq + X_imp2 + X_clf3 + ['t_nonlog2'], \n",
    "    'X_cat': X_ord + X_bool + X_comb, \n",
    "    'random_state': 123,\n",
    "    #'validation_fraction': 0.1\n",
    "}\n",
    "#result = xgb5.adhoc(df_train, ss, hparams, device='cuda')\n",
    "result = xgb5.cv(df_train, hparams, device='cuda')\n",
    "result['valid_scores']"
   ]
  },
  {
   "cell_type": "markdown",
   "id": "fb00d57c-7f03-460b-b012-b46e29dd1b5b",
   "metadata": {},
   "source": [
    "## NN1"
   ]
  },
  {
   "cell_type": "code",
   "execution_count": 62,
   "id": "73f85742-5be7-45f0-a27a-380ad82a6ef5",
   "metadata": {},
   "outputs": [
    {
     "data": {
      "text/plain": [
       "\"\\ndef nn_cat_param(df, name, size):\\n    return name, len(df[name].cat.categories), size\\n\\nX_cat = ['Marital_Feedback']\\nX_nn_emb = [\\n    ('Marital_Feedback', 3)\\n]\\n\\nnn_params = {\\n    'embedding':[(1, c, es, 0, 0) for _, c, es in [nn_cat_param(df_train, v, n) for v, n in X_nn_emb]], \\n    'config':  [\\n        {'unit': 16, 'activation': 'relu', 'batch_norm': False},\\n    ]\\n}\\n\\nhparams = {\\n    'model_params': {\\n        'model_params': nn_params,\\n        'epochs': 30,\\n        'optimizer': ('Adam', {'learning_rate': 0.001}),\\n        'batch_size': 2048, 'shuffle_size': 102400,\\n        'early_stopping': None, 'reduce_lr_on_plateau': None, 'lr_scheduler': None\\n    }, \\n    'X_cat': [i for i, _ in X_nn_emb],\\n    'X_tgt': ['Health Score', 'Annual Income'], 'tgt': {'target_type': 'continuous'},\\n    'X_mm': ['Previous Claims_f', 'Credit Score_f', 'Annual Income_fl', 'Annual Income_Freqz'],\\n    'X_num': X_bool + X_menc + ['t0', 't1', 't5_0', 't5_1', 't5_2', 't5_3', 't2_0'],\\n    'X_ohe': X_ord, \\n    'ohe': {'drop': 'first', 'min_frequency': 50, 'sparse_output': False},\\n    #'validation_fraction': 0.1\\n}\\n\\n##nn1.adhoc(df_train, ss, hparams)\\nresult = nn1.cv(df_train, hparams)\\nresult['valid_scores']\\n\""
      ]
     },
     "execution_count": 62,
     "metadata": {},
     "output_type": "execute_result"
    }
   ],
   "source": [
    "#nn1 = sgml.CVModel.load_or_create('result', 'nn1', kf, config, nn_adapter)\n",
    "\"\"\"\n",
    "def nn_cat_param(df, name, size):\n",
    "    return name, len(df[name].cat.categories), size\n",
    "\n",
    "X_cat = ['Marital_Feedback']\n",
    "X_nn_emb = [\n",
    "    ('Marital_Feedback', 3)\n",
    "]\n",
    "\n",
    "nn_params = {\n",
    "    'embedding':[(1, c, es, 0, 0) for _, c, es in [nn_cat_param(df_train, v, n) for v, n in X_nn_emb]], \n",
    "    'config':  [\n",
    "        {'unit': 16, 'activation': 'relu', 'batch_norm': False},\n",
    "    ]\n",
    "}\n",
    "\n",
    "hparams = {\n",
    "    'model_params': {\n",
    "        'model_params': nn_params,\n",
    "        'epochs': 30,\n",
    "        'optimizer': ('Adam', {'learning_rate': 0.001}),\n",
    "        'batch_size': 2048, 'shuffle_size': 102400,\n",
    "        'early_stopping': None, 'reduce_lr_on_plateau': None, 'lr_scheduler': None\n",
    "    }, \n",
    "    'X_cat': [i for i, _ in X_nn_emb],\n",
    "    'X_tgt': ['Health Score', 'Annual Income'], 'tgt': {'target_type': 'continuous'},\n",
    "    'X_mm': ['Previous Claims_f', 'Credit Score_f', 'Annual Income_fl', 'Annual Income_Freqz'],\n",
    "    'X_num': X_bool + X_menc + ['t0', 't1', 't5_0', 't5_1', 't5_2', 't5_3', 't2_0'],\n",
    "    'X_ohe': X_ord, \n",
    "    'ohe': {'drop': 'first', 'min_frequency': 50, 'sparse_output': False},\n",
    "    #'validation_fraction': 0.1\n",
    "}\n",
    "\n",
    "##nn1.adhoc(df_train, ss, hparams)\n",
    "result = nn1.cv(df_train, hparams)\n",
    "result['valid_scores']\n",
    "\"\"\""
   ]
  },
  {
   "cell_type": "markdown",
   "id": "b17d34e1-acbc-40ae-b24a-424794afc42a",
   "metadata": {},
   "source": [
    "# Ensemble"
   ]
  },
  {
   "cell_type": "markdown",
   "id": "08eb00bd-e56d-4a68-bc5f-d2bf9bc39265",
   "metadata": {},
   "source": [
    "## stk1"
   ]
  },
  {
   "cell_type": "code",
   "execution_count": 122,
   "id": "264234b8-cc3b-464b-8426-348b46b0d8aa",
   "metadata": {},
   "outputs": [
    {
     "data": {
      "text/html": [
       "<div>\n",
       "<style scoped>\n",
       "    .dataframe tbody tr th:only-of-type {\n",
       "        vertical-align: middle;\n",
       "    }\n",
       "\n",
       "    .dataframe tbody tr th {\n",
       "        vertical-align: top;\n",
       "    }\n",
       "\n",
       "    .dataframe thead th {\n",
       "        text-align: right;\n",
       "    }\n",
       "</style>\n",
       "<table border=\"1\" class=\"dataframe\">\n",
       "  <thead>\n",
       "    <tr style=\"text-align: right;\">\n",
       "      <th></th>\n",
       "      <th>cb6</th>\n",
       "      <th>cb5</th>\n",
       "      <th>cb2</th>\n",
       "      <th>cb3</th>\n",
       "      <th>lr2</th>\n",
       "      <th>cb1</th>\n",
       "      <th>lgb2</th>\n",
       "      <th>lgb1</th>\n",
       "      <th>xgb2</th>\n",
       "      <th>xgb1</th>\n",
       "      <th>lgb3</th>\n",
       "      <th>cb7</th>\n",
       "      <th>xgb3</th>\n",
       "      <th>cb4</th>\n",
       "    </tr>\n",
       "  </thead>\n",
       "  <tbody>\n",
       "    <tr>\n",
       "      <th>score</th>\n",
       "      <td>-1.024872</td>\n",
       "      <td>-1.024745</td>\n",
       "      <td>-1.024349</td>\n",
       "      <td>-1.024342</td>\n",
       "      <td>-1.024171</td>\n",
       "      <td>-1.024142</td>\n",
       "      <td>-1.024064</td>\n",
       "      <td>-1.024049</td>\n",
       "      <td>-1.02399</td>\n",
       "      <td>-1.023977</td>\n",
       "      <td>-1.023897</td>\n",
       "      <td>-1.02387</td>\n",
       "      <td>-1.023765</td>\n",
       "      <td>-1.022924</td>\n",
       "    </tr>\n",
       "  </tbody>\n",
       "</table>\n",
       "</div>"
      ],
      "text/plain": [
       "            cb6       cb5       cb2       cb3       lr2       cb1      lgb2  \\\n",
       "score -1.024872 -1.024745 -1.024349 -1.024342 -1.024171 -1.024142 -1.024064   \n",
       "\n",
       "           lgb1     xgb2      xgb1      lgb3      cb7      xgb3       cb4  \n",
       "score -1.024049 -1.02399 -1.023977 -1.023897 -1.02387 -1.023765 -1.022924  "
      ]
     },
     "execution_count": 122,
     "metadata": {},
     "output_type": "execute_result"
    }
   ],
   "source": [
    "models = [lr2, lgb1, xgb1, cb1, cb2, lgb2, xgb2, cb3, cb4, cb5, cb6, lgb3, cb7, xgb3]\n",
    "pd.Series({i.name: i.cv_best_['score'] for i in models}).rename('score').to_frame().T.sort_values('score', axis=1)"
   ]
  },
  {
   "cell_type": "code",
   "execution_count": 123,
   "id": "f291e84a-09a2-4958-b066-09a034949dc1",
   "metadata": {},
   "outputs": [
    {
     "data": {
      "text/html": [
       "<div>\n",
       "<style scoped>\n",
       "    .dataframe tbody tr th:only-of-type {\n",
       "        vertical-align: middle;\n",
       "    }\n",
       "\n",
       "    .dataframe tbody tr th {\n",
       "        vertical-align: top;\n",
       "    }\n",
       "\n",
       "    .dataframe thead th {\n",
       "        text-align: right;\n",
       "    }\n",
       "</style>\n",
       "<table border=\"1\" class=\"dataframe\">\n",
       "  <thead>\n",
       "    <tr style=\"text-align: right;\">\n",
       "      <th></th>\n",
       "      <th>lr2</th>\n",
       "      <th>lgb1</th>\n",
       "      <th>xgb1</th>\n",
       "      <th>cb1</th>\n",
       "      <th>cb2</th>\n",
       "      <th>lgb2</th>\n",
       "      <th>xgb2</th>\n",
       "      <th>cb3</th>\n",
       "      <th>cb4</th>\n",
       "      <th>cb5</th>\n",
       "      <th>cb6</th>\n",
       "      <th>lgb3</th>\n",
       "      <th>cb7</th>\n",
       "      <th>xgb3</th>\n",
       "      <th>Premium Amount_l</th>\n",
       "    </tr>\n",
       "  </thead>\n",
       "  <tbody>\n",
       "    <tr>\n",
       "      <th>lr2</th>\n",
       "      <td>1.000000</td>\n",
       "      <td>0.990029</td>\n",
       "      <td>0.991360</td>\n",
       "      <td>0.985736</td>\n",
       "      <td>0.984295</td>\n",
       "      <td>0.991333</td>\n",
       "      <td>0.990999</td>\n",
       "      <td>0.900279</td>\n",
       "      <td>0.961358</td>\n",
       "      <td>0.988390</td>\n",
       "      <td>0.987535</td>\n",
       "      <td>0.992479</td>\n",
       "      <td>0.989638</td>\n",
       "      <td>0.992834</td>\n",
       "      <td>0.355659</td>\n",
       "    </tr>\n",
       "    <tr>\n",
       "      <th>lgb1</th>\n",
       "      <td>0.990029</td>\n",
       "      <td>1.000000</td>\n",
       "      <td>0.995389</td>\n",
       "      <td>0.988369</td>\n",
       "      <td>0.987087</td>\n",
       "      <td>0.997070</td>\n",
       "      <td>0.994223</td>\n",
       "      <td>0.900946</td>\n",
       "      <td>0.962067</td>\n",
       "      <td>0.988992</td>\n",
       "      <td>0.988081</td>\n",
       "      <td>0.994729</td>\n",
       "      <td>0.989592</td>\n",
       "      <td>0.993782</td>\n",
       "      <td>0.355954</td>\n",
       "    </tr>\n",
       "    <tr>\n",
       "      <th>xgb1</th>\n",
       "      <td>0.991360</td>\n",
       "      <td>0.995389</td>\n",
       "      <td>1.000000</td>\n",
       "      <td>0.989606</td>\n",
       "      <td>0.988119</td>\n",
       "      <td>0.996755</td>\n",
       "      <td>0.997719</td>\n",
       "      <td>0.902038</td>\n",
       "      <td>0.963309</td>\n",
       "      <td>0.990482</td>\n",
       "      <td>0.989526</td>\n",
       "      <td>0.994675</td>\n",
       "      <td>0.990355</td>\n",
       "      <td>0.996060</td>\n",
       "      <td>0.356127</td>\n",
       "    </tr>\n",
       "    <tr>\n",
       "      <th>cb1</th>\n",
       "      <td>0.985736</td>\n",
       "      <td>0.988369</td>\n",
       "      <td>0.989606</td>\n",
       "      <td>1.000000</td>\n",
       "      <td>0.995282</td>\n",
       "      <td>0.989358</td>\n",
       "      <td>0.989218</td>\n",
       "      <td>0.899479</td>\n",
       "      <td>0.960098</td>\n",
       "      <td>0.986490</td>\n",
       "      <td>0.985426</td>\n",
       "      <td>0.988010</td>\n",
       "      <td>0.993538</td>\n",
       "      <td>0.988242</td>\n",
       "      <td>0.355736</td>\n",
       "    </tr>\n",
       "    <tr>\n",
       "      <th>cb2</th>\n",
       "      <td>0.984295</td>\n",
       "      <td>0.987087</td>\n",
       "      <td>0.988119</td>\n",
       "      <td>0.995282</td>\n",
       "      <td>1.000000</td>\n",
       "      <td>0.987960</td>\n",
       "      <td>0.987720</td>\n",
       "      <td>0.898342</td>\n",
       "      <td>0.959006</td>\n",
       "      <td>0.985437</td>\n",
       "      <td>0.984336</td>\n",
       "      <td>0.986616</td>\n",
       "      <td>0.992504</td>\n",
       "      <td>0.986813</td>\n",
       "      <td>0.355247</td>\n",
       "    </tr>\n",
       "    <tr>\n",
       "      <th>lgb2</th>\n",
       "      <td>0.991333</td>\n",
       "      <td>0.997070</td>\n",
       "      <td>0.996755</td>\n",
       "      <td>0.989358</td>\n",
       "      <td>0.987960</td>\n",
       "      <td>1.000000</td>\n",
       "      <td>0.995501</td>\n",
       "      <td>0.901733</td>\n",
       "      <td>0.963037</td>\n",
       "      <td>0.990116</td>\n",
       "      <td>0.989182</td>\n",
       "      <td>0.995633</td>\n",
       "      <td>0.990353</td>\n",
       "      <td>0.994805</td>\n",
       "      <td>0.355925</td>\n",
       "    </tr>\n",
       "    <tr>\n",
       "      <th>xgb2</th>\n",
       "      <td>0.990999</td>\n",
       "      <td>0.994223</td>\n",
       "      <td>0.997719</td>\n",
       "      <td>0.989218</td>\n",
       "      <td>0.987720</td>\n",
       "      <td>0.995501</td>\n",
       "      <td>1.000000</td>\n",
       "      <td>0.901926</td>\n",
       "      <td>0.963120</td>\n",
       "      <td>0.990165</td>\n",
       "      <td>0.989185</td>\n",
       "      <td>0.993788</td>\n",
       "      <td>0.990078</td>\n",
       "      <td>0.995462</td>\n",
       "      <td>0.356096</td>\n",
       "    </tr>\n",
       "    <tr>\n",
       "      <th>cb3</th>\n",
       "      <td>0.900279</td>\n",
       "      <td>0.900946</td>\n",
       "      <td>0.902038</td>\n",
       "      <td>0.899479</td>\n",
       "      <td>0.898342</td>\n",
       "      <td>0.901733</td>\n",
       "      <td>0.901926</td>\n",
       "      <td>1.000000</td>\n",
       "      <td>0.957871</td>\n",
       "      <td>0.901973</td>\n",
       "      <td>0.902662</td>\n",
       "      <td>0.900973</td>\n",
       "      <td>0.900281</td>\n",
       "      <td>0.901269</td>\n",
       "      <td>0.360874</td>\n",
       "    </tr>\n",
       "    <tr>\n",
       "      <th>cb4</th>\n",
       "      <td>0.961358</td>\n",
       "      <td>0.962067</td>\n",
       "      <td>0.963309</td>\n",
       "      <td>0.960098</td>\n",
       "      <td>0.959006</td>\n",
       "      <td>0.963037</td>\n",
       "      <td>0.963120</td>\n",
       "      <td>0.957871</td>\n",
       "      <td>1.000000</td>\n",
       "      <td>0.965813</td>\n",
       "      <td>0.965811</td>\n",
       "      <td>0.961640</td>\n",
       "      <td>0.960607</td>\n",
       "      <td>0.961961</td>\n",
       "      <td>0.360664</td>\n",
       "    </tr>\n",
       "    <tr>\n",
       "      <th>cb5</th>\n",
       "      <td>0.988390</td>\n",
       "      <td>0.988992</td>\n",
       "      <td>0.990482</td>\n",
       "      <td>0.986490</td>\n",
       "      <td>0.985437</td>\n",
       "      <td>0.990116</td>\n",
       "      <td>0.990165</td>\n",
       "      <td>0.901973</td>\n",
       "      <td>0.965813</td>\n",
       "      <td>1.000000</td>\n",
       "      <td>0.995374</td>\n",
       "      <td>0.987741</td>\n",
       "      <td>0.986413</td>\n",
       "      <td>0.987988</td>\n",
       "      <td>0.354287</td>\n",
       "    </tr>\n",
       "    <tr>\n",
       "      <th>cb6</th>\n",
       "      <td>0.987535</td>\n",
       "      <td>0.988081</td>\n",
       "      <td>0.989526</td>\n",
       "      <td>0.985426</td>\n",
       "      <td>0.984336</td>\n",
       "      <td>0.989182</td>\n",
       "      <td>0.989185</td>\n",
       "      <td>0.902662</td>\n",
       "      <td>0.965811</td>\n",
       "      <td>0.995374</td>\n",
       "      <td>1.000000</td>\n",
       "      <td>0.986751</td>\n",
       "      <td>0.985310</td>\n",
       "      <td>0.986988</td>\n",
       "      <td>0.353992</td>\n",
       "    </tr>\n",
       "    <tr>\n",
       "      <th>lgb3</th>\n",
       "      <td>0.992479</td>\n",
       "      <td>0.994729</td>\n",
       "      <td>0.994675</td>\n",
       "      <td>0.988010</td>\n",
       "      <td>0.986616</td>\n",
       "      <td>0.995633</td>\n",
       "      <td>0.993788</td>\n",
       "      <td>0.900973</td>\n",
       "      <td>0.961640</td>\n",
       "      <td>0.987741</td>\n",
       "      <td>0.986751</td>\n",
       "      <td>1.000000</td>\n",
       "      <td>0.991784</td>\n",
       "      <td>0.996985</td>\n",
       "      <td>0.356318</td>\n",
       "    </tr>\n",
       "    <tr>\n",
       "      <th>cb7</th>\n",
       "      <td>0.989638</td>\n",
       "      <td>0.989592</td>\n",
       "      <td>0.990355</td>\n",
       "      <td>0.993538</td>\n",
       "      <td>0.992504</td>\n",
       "      <td>0.990353</td>\n",
       "      <td>0.990078</td>\n",
       "      <td>0.900281</td>\n",
       "      <td>0.960607</td>\n",
       "      <td>0.986413</td>\n",
       "      <td>0.985310</td>\n",
       "      <td>0.991784</td>\n",
       "      <td>1.000000</td>\n",
       "      <td>0.992080</td>\n",
       "      <td>0.356389</td>\n",
       "    </tr>\n",
       "    <tr>\n",
       "      <th>xgb3</th>\n",
       "      <td>0.992834</td>\n",
       "      <td>0.993782</td>\n",
       "      <td>0.996060</td>\n",
       "      <td>0.988242</td>\n",
       "      <td>0.986813</td>\n",
       "      <td>0.994805</td>\n",
       "      <td>0.995462</td>\n",
       "      <td>0.901269</td>\n",
       "      <td>0.961961</td>\n",
       "      <td>0.987988</td>\n",
       "      <td>0.986988</td>\n",
       "      <td>0.996985</td>\n",
       "      <td>0.992080</td>\n",
       "      <td>1.000000</td>\n",
       "      <td>0.356633</td>\n",
       "    </tr>\n",
       "    <tr>\n",
       "      <th>Premium Amount_l</th>\n",
       "      <td>0.355659</td>\n",
       "      <td>0.355954</td>\n",
       "      <td>0.356127</td>\n",
       "      <td>0.355736</td>\n",
       "      <td>0.355247</td>\n",
       "      <td>0.355925</td>\n",
       "      <td>0.356096</td>\n",
       "      <td>0.360874</td>\n",
       "      <td>0.360664</td>\n",
       "      <td>0.354287</td>\n",
       "      <td>0.353992</td>\n",
       "      <td>0.356318</td>\n",
       "      <td>0.356389</td>\n",
       "      <td>0.356633</td>\n",
       "      <td>1.000000</td>\n",
       "    </tr>\n",
       "  </tbody>\n",
       "</table>\n",
       "</div>"
      ],
      "text/plain": [
       "                       lr2      lgb1      xgb1       cb1       cb2      lgb2  \\\n",
       "lr2               1.000000  0.990029  0.991360  0.985736  0.984295  0.991333   \n",
       "lgb1              0.990029  1.000000  0.995389  0.988369  0.987087  0.997070   \n",
       "xgb1              0.991360  0.995389  1.000000  0.989606  0.988119  0.996755   \n",
       "cb1               0.985736  0.988369  0.989606  1.000000  0.995282  0.989358   \n",
       "cb2               0.984295  0.987087  0.988119  0.995282  1.000000  0.987960   \n",
       "lgb2              0.991333  0.997070  0.996755  0.989358  0.987960  1.000000   \n",
       "xgb2              0.990999  0.994223  0.997719  0.989218  0.987720  0.995501   \n",
       "cb3               0.900279  0.900946  0.902038  0.899479  0.898342  0.901733   \n",
       "cb4               0.961358  0.962067  0.963309  0.960098  0.959006  0.963037   \n",
       "cb5               0.988390  0.988992  0.990482  0.986490  0.985437  0.990116   \n",
       "cb6               0.987535  0.988081  0.989526  0.985426  0.984336  0.989182   \n",
       "lgb3              0.992479  0.994729  0.994675  0.988010  0.986616  0.995633   \n",
       "cb7               0.989638  0.989592  0.990355  0.993538  0.992504  0.990353   \n",
       "xgb3              0.992834  0.993782  0.996060  0.988242  0.986813  0.994805   \n",
       "Premium Amount_l  0.355659  0.355954  0.356127  0.355736  0.355247  0.355925   \n",
       "\n",
       "                      xgb2       cb3       cb4       cb5       cb6      lgb3  \\\n",
       "lr2               0.990999  0.900279  0.961358  0.988390  0.987535  0.992479   \n",
       "lgb1              0.994223  0.900946  0.962067  0.988992  0.988081  0.994729   \n",
       "xgb1              0.997719  0.902038  0.963309  0.990482  0.989526  0.994675   \n",
       "cb1               0.989218  0.899479  0.960098  0.986490  0.985426  0.988010   \n",
       "cb2               0.987720  0.898342  0.959006  0.985437  0.984336  0.986616   \n",
       "lgb2              0.995501  0.901733  0.963037  0.990116  0.989182  0.995633   \n",
       "xgb2              1.000000  0.901926  0.963120  0.990165  0.989185  0.993788   \n",
       "cb3               0.901926  1.000000  0.957871  0.901973  0.902662  0.900973   \n",
       "cb4               0.963120  0.957871  1.000000  0.965813  0.965811  0.961640   \n",
       "cb5               0.990165  0.901973  0.965813  1.000000  0.995374  0.987741   \n",
       "cb6               0.989185  0.902662  0.965811  0.995374  1.000000  0.986751   \n",
       "lgb3              0.993788  0.900973  0.961640  0.987741  0.986751  1.000000   \n",
       "cb7               0.990078  0.900281  0.960607  0.986413  0.985310  0.991784   \n",
       "xgb3              0.995462  0.901269  0.961961  0.987988  0.986988  0.996985   \n",
       "Premium Amount_l  0.356096  0.360874  0.360664  0.354287  0.353992  0.356318   \n",
       "\n",
       "                       cb7      xgb3  Premium Amount_l  \n",
       "lr2               0.989638  0.992834          0.355659  \n",
       "lgb1              0.989592  0.993782          0.355954  \n",
       "xgb1              0.990355  0.996060          0.356127  \n",
       "cb1               0.993538  0.988242          0.355736  \n",
       "cb2               0.992504  0.986813          0.355247  \n",
       "lgb2              0.990353  0.994805          0.355925  \n",
       "xgb2              0.990078  0.995462          0.356096  \n",
       "cb3               0.900281  0.901269          0.360874  \n",
       "cb4               0.960607  0.961961          0.360664  \n",
       "cb5               0.986413  0.987988          0.354287  \n",
       "cb6               0.985310  0.986988          0.353992  \n",
       "lgb3              0.991784  0.996985          0.356318  \n",
       "cb7               1.000000  0.992080          0.356389  \n",
       "xgb3              0.992080  1.000000          0.356633  \n",
       "Premium Amount_l  0.356389  0.356633          1.000000  "
      ]
     },
     "execution_count": 123,
     "metadata": {},
     "output_type": "execute_result"
    }
   ],
   "source": [
    "df_stk = sgml.stack_cv(models, df_train[target])\n",
    "df_stk.corr()"
   ]
  },
  {
   "cell_type": "code",
   "execution_count": 124,
   "id": "3fd0b2d9-6c3c-4ad3-8495-c07f12f48125",
   "metadata": {},
   "outputs": [],
   "source": [
    "lr_stk = sgml.CVModel.load_or_create('result', 'lr_stk', kf, config, lr_adapter)"
   ]
  },
  {
   "cell_type": "code",
   "execution_count": 128,
   "id": "98a94193-4494-4788-a2e9-42005e8e92aa",
   "metadata": {},
   "outputs": [
    {
     "data": {
      "application/vnd.jupyter.widget-view+json": {
       "model_id": "",
       "version_major": 2,
       "version_minor": 0
      },
      "text/plain": [
       "Fold:   0%|          | 0/5 [00:00<?, ?it/s]"
      ]
     },
     "metadata": {},
     "output_type": "display_data"
    },
    {
     "data": {
      "text/plain": [
       "-1.018731778889499"
      ]
     },
     "execution_count": 128,
     "metadata": {},
     "output_type": "execute_result"
    }
   ],
   "source": [
    "result = lr_stk.cv(df_stk, {\n",
    "    'model_params': {},\n",
    "    'X_num': ['lr2', 'lgb1', 'xgb1', 'cb1', 'cb2', 'cb3', 'lgb2', 'xgb2', 'cb4', 'lgb3', 'cb7', 'xgb3', 'cb5', 'cb6']\n",
    "})\n",
    "np.mean(result['valid_scores'])"
   ]
  },
  {
   "cell_type": "code",
   "execution_count": null,
   "id": "2f944446-4bbc-45be-8da6-a6fa1be35301",
   "metadata": {},
   "outputs": [],
   "source": [
    "for i in models:\n",
    "    if i.name.startswith('cb'):\n",
    "        i.train(df_train, task_type='GPU')\n",
    "    elif i.name.startswith('xgb'):\n",
    "        i.train(df_train, device='cuda')\n",
    "    else:\n",
    "        i.train(df_train)\n",
    "lr_stk.train(df_stk)"
   ]
  },
  {
   "cell_type": "code",
   "execution_count": 90,
   "id": "32f2662b-d6bb-4e1c-a825-90add68c0cab",
   "metadata": {},
   "outputs": [],
   "source": [
    "df_vt = pd.concat([\n",
    "    i.get_predictor()(df_test).rename(i.name)\n",
    "    for i in models\n",
    "], axis=1)"
   ]
  },
  {
   "cell_type": "code",
   "execution_count": 56,
   "id": "b476b440-7b47-43e7-9eed-d260e2282b0a",
   "metadata": {},
   "outputs": [],
   "source": [
    "s_prd = (np.exp(\n",
    "    lr_stk.get_predictor()(df_vt)\n",
    ") - 1).clip(20, 5000).rename('Premium Amount')"
   ]
  },
  {
   "cell_type": "code",
   "execution_count": 58,
   "id": "17f83be4-6ebe-4a26-8fa8-4af344cca0e7",
   "metadata": {},
   "outputs": [],
   "source": [
    "s_prd.to_frame().to_csv(os.path.join('result', 'submission10.csv'))"
   ]
  },
  {
   "cell_type": "code",
   "execution_count": null,
   "id": "c63d0fab-2d53-4e0c-b9b8-7409857bd66e",
   "metadata": {},
   "outputs": [],
   "source": [
    "#!kaggle competitions submit -c playground-series-s4e12 -f submission10.csv -m \"10\""
   ]
  },
  {
   "cell_type": "markdown",
   "id": "21b5f2b5-6fe1-49d1-a591-8e89a48fe8f8",
   "metadata": {},
   "source": [
    "## stk2"
   ]
  },
  {
   "cell_type": "code",
   "execution_count": 67,
   "id": "06bf060f-e4cc-4638-8345-ead8969b3377",
   "metadata": {},
   "outputs": [],
   "source": [
    "lr_stk2 = sgml.CVModel.load_or_create('result', 'lr_stk2', kf, config, lr_adapter)"
   ]
  },
  {
   "cell_type": "code",
   "execution_count": 68,
   "id": "702640ac-cb4f-4eed-b532-e72b4bc04d34",
   "metadata": {},
   "outputs": [
    {
     "data": {
      "text/html": [
       "<div>\n",
       "<style scoped>\n",
       "    .dataframe tbody tr th:only-of-type {\n",
       "        vertical-align: middle;\n",
       "    }\n",
       "\n",
       "    .dataframe tbody tr th {\n",
       "        vertical-align: top;\n",
       "    }\n",
       "\n",
       "    .dataframe thead th {\n",
       "        text-align: right;\n",
       "    }\n",
       "</style>\n",
       "<table border=\"1\" class=\"dataframe\">\n",
       "  <thead>\n",
       "    <tr style=\"text-align: right;\">\n",
       "      <th></th>\n",
       "      <th>lr2</th>\n",
       "      <th>lgb1</th>\n",
       "      <th>xgb1</th>\n",
       "      <th>cb1</th>\n",
       "      <th>cb2</th>\n",
       "      <th>lgb2</th>\n",
       "      <th>xgb2</th>\n",
       "      <th>cb4</th>\n",
       "      <th>cb5</th>\n",
       "      <th>cb6</th>\n",
       "      <th>Premium Amount_l</th>\n",
       "    </tr>\n",
       "  </thead>\n",
       "  <tbody>\n",
       "    <tr>\n",
       "      <th>lr2</th>\n",
       "      <td>1.000000</td>\n",
       "      <td>0.986127</td>\n",
       "      <td>0.988087</td>\n",
       "      <td>0.982670</td>\n",
       "      <td>0.981110</td>\n",
       "      <td>0.987984</td>\n",
       "      <td>0.987346</td>\n",
       "      <td>0.958015</td>\n",
       "      <td>0.989673</td>\n",
       "      <td>0.989013</td>\n",
       "      <td>0.352753</td>\n",
       "    </tr>\n",
       "    <tr>\n",
       "      <th>lgb1</th>\n",
       "      <td>0.986127</td>\n",
       "      <td>1.000000</td>\n",
       "      <td>0.995389</td>\n",
       "      <td>0.988369</td>\n",
       "      <td>0.987087</td>\n",
       "      <td>0.997070</td>\n",
       "      <td>0.994223</td>\n",
       "      <td>0.962067</td>\n",
       "      <td>0.988992</td>\n",
       "      <td>0.988081</td>\n",
       "      <td>0.355954</td>\n",
       "    </tr>\n",
       "    <tr>\n",
       "      <th>xgb1</th>\n",
       "      <td>0.988087</td>\n",
       "      <td>0.995389</td>\n",
       "      <td>1.000000</td>\n",
       "      <td>0.989606</td>\n",
       "      <td>0.988119</td>\n",
       "      <td>0.996755</td>\n",
       "      <td>0.997719</td>\n",
       "      <td>0.963309</td>\n",
       "      <td>0.990482</td>\n",
       "      <td>0.989526</td>\n",
       "      <td>0.356127</td>\n",
       "    </tr>\n",
       "    <tr>\n",
       "      <th>cb1</th>\n",
       "      <td>0.982670</td>\n",
       "      <td>0.988369</td>\n",
       "      <td>0.989606</td>\n",
       "      <td>1.000000</td>\n",
       "      <td>0.995282</td>\n",
       "      <td>0.989358</td>\n",
       "      <td>0.989218</td>\n",
       "      <td>0.960098</td>\n",
       "      <td>0.986490</td>\n",
       "      <td>0.985426</td>\n",
       "      <td>0.355736</td>\n",
       "    </tr>\n",
       "    <tr>\n",
       "      <th>cb2</th>\n",
       "      <td>0.981110</td>\n",
       "      <td>0.987087</td>\n",
       "      <td>0.988119</td>\n",
       "      <td>0.995282</td>\n",
       "      <td>1.000000</td>\n",
       "      <td>0.987960</td>\n",
       "      <td>0.987720</td>\n",
       "      <td>0.959006</td>\n",
       "      <td>0.985437</td>\n",
       "      <td>0.984336</td>\n",
       "      <td>0.355247</td>\n",
       "    </tr>\n",
       "    <tr>\n",
       "      <th>lgb2</th>\n",
       "      <td>0.987984</td>\n",
       "      <td>0.997070</td>\n",
       "      <td>0.996755</td>\n",
       "      <td>0.989358</td>\n",
       "      <td>0.987960</td>\n",
       "      <td>1.000000</td>\n",
       "      <td>0.995501</td>\n",
       "      <td>0.963037</td>\n",
       "      <td>0.990116</td>\n",
       "      <td>0.989182</td>\n",
       "      <td>0.355925</td>\n",
       "    </tr>\n",
       "    <tr>\n",
       "      <th>xgb2</th>\n",
       "      <td>0.987346</td>\n",
       "      <td>0.994223</td>\n",
       "      <td>0.997719</td>\n",
       "      <td>0.989218</td>\n",
       "      <td>0.987720</td>\n",
       "      <td>0.995501</td>\n",
       "      <td>1.000000</td>\n",
       "      <td>0.963120</td>\n",
       "      <td>0.990165</td>\n",
       "      <td>0.989185</td>\n",
       "      <td>0.356096</td>\n",
       "    </tr>\n",
       "    <tr>\n",
       "      <th>cb4</th>\n",
       "      <td>0.958015</td>\n",
       "      <td>0.962067</td>\n",
       "      <td>0.963309</td>\n",
       "      <td>0.960098</td>\n",
       "      <td>0.959006</td>\n",
       "      <td>0.963037</td>\n",
       "      <td>0.963120</td>\n",
       "      <td>1.000000</td>\n",
       "      <td>0.965813</td>\n",
       "      <td>0.965811</td>\n",
       "      <td>0.360664</td>\n",
       "    </tr>\n",
       "    <tr>\n",
       "      <th>cb5</th>\n",
       "      <td>0.989673</td>\n",
       "      <td>0.988992</td>\n",
       "      <td>0.990482</td>\n",
       "      <td>0.986490</td>\n",
       "      <td>0.985437</td>\n",
       "      <td>0.990116</td>\n",
       "      <td>0.990165</td>\n",
       "      <td>0.965813</td>\n",
       "      <td>1.000000</td>\n",
       "      <td>0.995374</td>\n",
       "      <td>0.354287</td>\n",
       "    </tr>\n",
       "    <tr>\n",
       "      <th>cb6</th>\n",
       "      <td>0.989013</td>\n",
       "      <td>0.988081</td>\n",
       "      <td>0.989526</td>\n",
       "      <td>0.985426</td>\n",
       "      <td>0.984336</td>\n",
       "      <td>0.989182</td>\n",
       "      <td>0.989185</td>\n",
       "      <td>0.965811</td>\n",
       "      <td>0.995374</td>\n",
       "      <td>1.000000</td>\n",
       "      <td>0.353992</td>\n",
       "    </tr>\n",
       "    <tr>\n",
       "      <th>Premium Amount_l</th>\n",
       "      <td>0.352753</td>\n",
       "      <td>0.355954</td>\n",
       "      <td>0.356127</td>\n",
       "      <td>0.355736</td>\n",
       "      <td>0.355247</td>\n",
       "      <td>0.355925</td>\n",
       "      <td>0.356096</td>\n",
       "      <td>0.360664</td>\n",
       "      <td>0.354287</td>\n",
       "      <td>0.353992</td>\n",
       "      <td>1.000000</td>\n",
       "    </tr>\n",
       "  </tbody>\n",
       "</table>\n",
       "</div>"
      ],
      "text/plain": [
       "                       lr2      lgb1      xgb1       cb1       cb2      lgb2  \\\n",
       "lr2               1.000000  0.986127  0.988087  0.982670  0.981110  0.987984   \n",
       "lgb1              0.986127  1.000000  0.995389  0.988369  0.987087  0.997070   \n",
       "xgb1              0.988087  0.995389  1.000000  0.989606  0.988119  0.996755   \n",
       "cb1               0.982670  0.988369  0.989606  1.000000  0.995282  0.989358   \n",
       "cb2               0.981110  0.987087  0.988119  0.995282  1.000000  0.987960   \n",
       "lgb2              0.987984  0.997070  0.996755  0.989358  0.987960  1.000000   \n",
       "xgb2              0.987346  0.994223  0.997719  0.989218  0.987720  0.995501   \n",
       "cb4               0.958015  0.962067  0.963309  0.960098  0.959006  0.963037   \n",
       "cb5               0.989673  0.988992  0.990482  0.986490  0.985437  0.990116   \n",
       "cb6               0.989013  0.988081  0.989526  0.985426  0.984336  0.989182   \n",
       "Premium Amount_l  0.352753  0.355954  0.356127  0.355736  0.355247  0.355925   \n",
       "\n",
       "                      xgb2       cb4       cb5       cb6  Premium Amount_l  \n",
       "lr2               0.987346  0.958015  0.989673  0.989013          0.352753  \n",
       "lgb1              0.994223  0.962067  0.988992  0.988081          0.355954  \n",
       "xgb1              0.997719  0.963309  0.990482  0.989526          0.356127  \n",
       "cb1               0.989218  0.960098  0.986490  0.985426          0.355736  \n",
       "cb2               0.987720  0.959006  0.985437  0.984336          0.355247  \n",
       "lgb2              0.995501  0.963037  0.990116  0.989182          0.355925  \n",
       "xgb2              1.000000  0.963120  0.990165  0.989185          0.356096  \n",
       "cb4               0.963120  1.000000  0.965813  0.965811          0.360664  \n",
       "cb5               0.990165  0.965813  1.000000  0.995374          0.354287  \n",
       "cb6               0.989185  0.965811  0.995374  1.000000          0.353992  \n",
       "Premium Amount_l  0.356096  0.360664  0.354287  0.353992          1.000000  "
      ]
     },
     "execution_count": 68,
     "metadata": {},
     "output_type": "execute_result"
    }
   ],
   "source": [
    "models = [lr2, lgb1, xgb1, cb1, cb2, lgb2, xgb2, cb4, cb5, cb6]\n",
    "pd.Series({i.name: i.cv_best_['score'] for i in models}).rename('score').to_frame().T.sort_values('score', axis=1)\n",
    "df_stk = sgml.stack_cv(models, df_train[target])\n",
    "df_stk.corr()"
   ]
  },
  {
   "cell_type": "code",
   "execution_count": 69,
   "id": "2348b87f-3599-4a8e-9d21-4ea0be818b04",
   "metadata": {},
   "outputs": [
    {
     "data": {
      "application/vnd.jupyter.widget-view+json": {
       "model_id": "",
       "version_major": 2,
       "version_minor": 0
      },
      "text/plain": [
       "Fold:   0%|          | 0/5 [00:00<?, ?it/s]"
      ]
     },
     "metadata": {},
     "output_type": "display_data"
    },
    {
     "data": {
      "text/plain": [
       "-1.021209285040206"
      ]
     },
     "execution_count": 69,
     "metadata": {},
     "output_type": "execute_result"
    }
   ],
   "source": [
    "result = lr_stk2.cv(df_stk, {\n",
    "    'model_params': {},\n",
    "    'X_num': ['lr2', 'lgb1', 'xgb1', 'cb1', 'cb2', 'lgb2', 'xgb2', 'cb4', 'cb5', 'cb6']\n",
    "})\n",
    "np.mean(result['valid_scores'])"
   ]
  },
  {
   "cell_type": "code",
   "execution_count": 70,
   "id": "44dc87c7-02c2-402a-a0e8-7ac8e765087f",
   "metadata": {},
   "outputs": [
    {
     "data": {
      "text/plain": [
       "{'variables': ['cb5',\n",
       "  'cb2',\n",
       "  'xgb1',\n",
       "  'cb1',\n",
       "  'xgb2',\n",
       "  'lgb2',\n",
       "  'cb4',\n",
       "  'lr2',\n",
       "  'lgb1',\n",
       "  'cb6'],\n",
       " 'train_shape': (1200000, 10),\n",
       " 'target': 'Premium Amount_l',\n",
       " 'target_func': None}"
      ]
     },
     "execution_count": 70,
     "metadata": {},
     "output_type": "execute_result"
    }
   ],
   "source": [
    "for i in models:\n",
    "    if i.name.startswith('cb'):\n",
    "        i.train(df_train, task_type='GPU')\n",
    "    elif i.name.startswith('xgb'):\n",
    "        i.train(df_train, device='cuda')\n",
    "    else:\n",
    "        i.train(df_train)\n",
    "lr_stk2.train(df_stk)"
   ]
  },
  {
   "cell_type": "code",
   "execution_count": null,
   "id": "4476598d-5785-48de-acbd-e7f4109b2b47",
   "metadata": {},
   "outputs": [],
   "source": [
    "df_vt = pd.concat([\n",
    "    i.get_predictor()(df_test).rename(i.name)\n",
    "    for i in models\n",
    "], axis=1)"
   ]
  },
  {
   "cell_type": "code",
   "execution_count": 71,
   "id": "3b93dbd5-37fa-4192-86d9-7d08ae7ddca7",
   "metadata": {},
   "outputs": [],
   "source": [
    "s_prd = (np.exp(\n",
    "    lr_stk2.get_predictor()(df_vt)\n",
    ") - 1).clip(20, 5000).rename('Premium Amount')\n",
    "s_prd.to_frame().to_csv(os.path.join('result', 'submission11.csv'))"
   ]
  },
  {
   "cell_type": "code",
   "execution_count": null,
   "id": "8bc91780-c0f8-48c6-9073-0d98f624a257",
   "metadata": {},
   "outputs": [],
   "source": [
    "#!kaggle competitions submit -c playground-series-s4e12 -f submission11.csv -m \"11\""
   ]
  },
  {
   "cell_type": "markdown",
   "id": "57ccfbc5-a068-43b1-908d-db4455a547db",
   "metadata": {},
   "source": [
    "## stk3"
   ]
  },
  {
   "cell_type": "code",
   "execution_count": 73,
   "id": "dcd174ba-e566-47d1-bca0-726f182fc0a8",
   "metadata": {},
   "outputs": [],
   "source": [
    "lr_stk3 = sgml.CVModel.load_or_create('result', 'lr_stk3', kf, config, lr_adapter)"
   ]
  },
  {
   "cell_type": "code",
   "execution_count": 74,
   "id": "30190240-2c45-46fc-9221-6eeebc3ab8f5",
   "metadata": {},
   "outputs": [
    {
     "data": {
      "application/vnd.jupyter.widget-view+json": {
       "model_id": "",
       "version_major": 2,
       "version_minor": 0
      },
      "text/plain": [
       "Fold:   0%|          | 0/5 [00:00<?, ?it/s]"
      ]
     },
     "metadata": {},
     "output_type": "display_data"
    },
    {
     "data": {
      "text/plain": [
       "-1.023586708091973"
      ]
     },
     "execution_count": 74,
     "metadata": {},
     "output_type": "execute_result"
    }
   ],
   "source": [
    "models = [lr2, lgb1, xgb1, cb1, cb2, lgb2, xgb2]\n",
    "pd.Series({i.name: i.cv_best_['score'] for i in models}).rename('score').to_frame().T.sort_values('score', axis=1)\n",
    "df_stk = sgml.stack_cv(models, df_train[target])\n",
    "result = lr_stk3.cv(df_stk, {\n",
    "    'model_params': {},\n",
    "    'X_num': ['lr2', 'lgb1', 'xgb1', 'cb1', 'cb2', 'lgb2', 'xgb2']\n",
    "})\n",
    "np.mean(result['valid_scores'])"
   ]
  },
  {
   "cell_type": "code",
   "execution_count": 75,
   "id": "2dff124e-bb6b-411e-a141-3d775029a272",
   "metadata": {},
   "outputs": [],
   "source": [
    "for i in models:\n",
    "    if i.name.startswith('cb'):\n",
    "        i.train(df_train, task_type='GPU')\n",
    "    elif i.name.startswith('xgb'):\n",
    "        i.train(df_train, device='cuda')\n",
    "    else:\n",
    "        i.train(df_train)\n",
    "lr_stk3.train(df_stk)\n",
    "df_vt = pd.concat([\n",
    "    i.get_predictor()(df_test).rename(i.name)\n",
    "    for i in models\n",
    "], axis=1)"
   ]
  },
  {
   "cell_type": "code",
   "execution_count": 77,
   "id": "f70fc1dc-b132-45eb-ae8f-b689d266205a",
   "metadata": {},
   "outputs": [],
   "source": [
    "s_prd = (np.exp(\n",
    "    lr_stk3.get_predictor()(df_vt)\n",
    ") - 1).clip(20, 5000).rename('Premium Amount')\n",
    "s_prd.to_frame().to_csv(os.path.join('result', 'submission12.csv'))"
   ]
  },
  {
   "cell_type": "markdown",
   "id": "92048352-fab7-42f1-8852-507cfdd1689c",
   "metadata": {},
   "source": [
    "## stk4"
   ]
  },
  {
   "cell_type": "code",
   "execution_count": 110,
   "id": "9b955c43-f8b4-424e-8eae-544611cc26bb",
   "metadata": {},
   "outputs": [],
   "source": [
    "lr_stk4 = sgml.CVModel.load_or_create('result', 'lr_stk4', kf, config, lr_adapter)"
   ]
  },
  {
   "cell_type": "code",
   "execution_count": 134,
   "id": "06f81861-4a6a-42ec-876d-51729a714b4e",
   "metadata": {},
   "outputs": [
    {
     "data": {
      "text/plain": [
       "-1.023423662066691"
      ]
     },
     "execution_count": 134,
     "metadata": {},
     "output_type": "execute_result"
    }
   ],
   "source": [
    "models = [lr2, lgb1, xgb1, cb1, cb2, lgb2, xgb2, lgb3, cb7, xgb3]\n",
    "pd.Series({i.name: i.cv_best_['score'] for i in models}).rename('score').to_frame().T.sort_values('score', axis=1)\n",
    "df_stk = sgml.stack_cv(models, df_train[target])\n",
    "result = lr_stk4.cv(df_stk, {\n",
    "    'model_params': {},\n",
    "    'X_num': ['lr2', 'lgb1', 'xgb1', 'cb1', 'cb2', 'lgb2', 'xgb2', 'lgb3', 'cb7', 'xgb3']\n",
    "})\n",
    "np.mean(result['valid_scores'])"
   ]
  },
  {
   "cell_type": "code",
   "execution_count": 135,
   "id": "099d6e8d-364f-4979-94e5-1f096ee23af0",
   "metadata": {},
   "outputs": [
    {
     "data": {
      "text/plain": [
       "1.023468342499113"
      ]
     },
     "execution_count": 135,
     "metadata": {},
     "output_type": "execute_result"
    }
   ],
   "source": [
    "mean_squared_error(df_stk.iloc[:, -1], df_stk.iloc[:, :-1].mean(axis=1)) ** 0.5"
   ]
  },
  {
   "cell_type": "code",
   "execution_count": 115,
   "id": "2519f96d-0b0b-4175-af66-921f572d7a76",
   "metadata": {},
   "outputs": [
    {
     "data": {
      "application/vnd.jupyter.widget-view+json": {
       "model_id": "",
       "version_major": 2,
       "version_minor": 0
      },
      "text/plain": [
       "Round:   0%|          | 0/1000 [00:00<?, ?it/s]"
      ]
     },
     "metadata": {},
     "output_type": "display_data"
    },
    {
     "data": {
      "application/vnd.jupyter.widget-view+json": {
       "model_id": "",
       "version_major": 2,
       "version_minor": 0
      },
      "text/plain": [
       "Round:   0%|          | 0/1100 [00:00<?, ?it/s]"
      ]
     },
     "metadata": {},
     "output_type": "display_data"
    }
   ],
   "source": [
    "for i in models:\n",
    "    if i.name.startswith('cb'):\n",
    "        i.train(df_train, task_type='GPU')\n",
    "    elif i.name.startswith('xgb'):\n",
    "        i.train(df_train, device='cuda')\n",
    "    else:\n",
    "        i.train(df_train)\n",
    "lr_stk4.train(df_stk)\n",
    "df_vt = pd.concat([\n",
    "    i.get_predictor()(df_test).rename(i.name)\n",
    "    for i in models\n",
    "], axis=1)"
   ]
  },
  {
   "cell_type": "code",
   "execution_count": 117,
   "id": "f3f30eac-da88-4902-8e64-f56a2249fd4b",
   "metadata": {},
   "outputs": [],
   "source": [
    "s_prd = (np.exp(\n",
    "    lr_stk4.get_predictor()(df_vt)\n",
    ") - 1).clip(20, 5000).rename('Premium Amount')\n",
    "s_prd.to_frame().to_csv(os.path.join('result', 'submission13.csv'))"
   ]
  },
  {
   "cell_type": "markdown",
   "id": "fc34512a-38b6-4e47-a846-08f10b870230",
   "metadata": {},
   "source": [
    "## stk5"
   ]
  },
  {
   "cell_type": "code",
   "execution_count": 35,
   "id": "8444128f-1e1b-4cee-af44-c153034b3977",
   "metadata": {},
   "outputs": [],
   "source": [
    "lr_stk5 = sgml.CVModel.load_or_create('result', 'lr_stk5', kf, config, lr_adapter)"
   ]
  },
  {
   "cell_type": "code",
   "execution_count": 38,
   "id": "6f8e12a1-c3a4-4b05-b8b3-666e54f06d35",
   "metadata": {},
   "outputs": [
    {
     "data": {
      "application/vnd.jupyter.widget-view+json": {
       "model_id": "",
       "version_major": 2,
       "version_minor": 0
      },
      "text/plain": [
       "Fold:   0%|          | 0/5 [00:00<?, ?it/s]"
      ]
     },
     "metadata": {},
     "output_type": "display_data"
    },
    {
     "data": {
      "text/plain": [
       "-1.0233146155078425"
      ]
     },
     "execution_count": 38,
     "metadata": {},
     "output_type": "execute_result"
    }
   ],
   "source": [
    "models = [lr3, lgb4, xgb4, cb8]\n",
    "pd.Series({i.name: i.cv_best_['score'] for i in models}).rename('score').to_frame().T.sort_values('score', axis=1)\n",
    "df_stk = sgml.stack_cv(models, df_train[target])\n",
    "result = lr_stk5.cv(df_stk, {\n",
    "    'model_params': {},\n",
    "    'X_num': ['lr3', 'lgb4', 'xgb4', 'cb8']\n",
    "})\n",
    "np.mean(result['valid_scores'])"
   ]
  },
  {
   "cell_type": "code",
   "execution_count": 40,
   "id": "02cbf7c8-707a-4bb0-ba89-0c73b7c603c8",
   "metadata": {},
   "outputs": [
    {
     "data": {
      "application/vnd.jupyter.widget-view+json": {
       "model_id": "",
       "version_major": 2,
       "version_minor": 0
      },
      "text/plain": [
       "Round:   0%|          | 0/1000 [00:00<?, ?it/s]"
      ]
     },
     "metadata": {},
     "output_type": "display_data"
    },
    {
     "data": {
      "application/vnd.jupyter.widget-view+json": {
       "model_id": "",
       "version_major": 2,
       "version_minor": 0
      },
      "text/plain": [
       "Round:   0%|          | 0/1100 [00:00<?, ?it/s]"
      ]
     },
     "metadata": {},
     "output_type": "display_data"
    }
   ],
   "source": [
    "for i in models:\n",
    "    if i.name.startswith('cb'):\n",
    "        i.train(df_train, task_type='GPU')\n",
    "    elif i.name.startswith('xgb'):\n",
    "        i.train(df_train, device='cuda')\n",
    "    else:\n",
    "        i.train(df_train)\n",
    "lr_stk5.train(df_stk)\n",
    "df_vt = pd.concat([\n",
    "    i.get_predictor()(df_test).rename(i.name)\n",
    "    for i in models\n",
    "], axis=1)"
   ]
  },
  {
   "cell_type": "code",
   "execution_count": 41,
   "id": "14a4a164-3b80-4d89-a0aa-850286b8c13c",
   "metadata": {},
   "outputs": [],
   "source": [
    "s_prd = (np.exp(\n",
    "    lr_stk5.get_predictor()(df_vt)\n",
    ") - 1).clip(20, 5000).rename('Premium Amount')\n",
    "s_prd.to_frame().to_csv(os.path.join('result', 'submission14.csv'))"
   ]
  },
  {
   "cell_type": "markdown",
   "id": "3c34d7e4-987b-4045-819c-70ea6d495a2a",
   "metadata": {},
   "source": [
    "## stk6"
   ]
  },
  {
   "cell_type": "code",
   "execution_count": 64,
   "id": "4c478e11-97fd-481a-9010-3935802ec34f",
   "metadata": {},
   "outputs": [],
   "source": [
    "lr_stk6 = sgml.CVModel.load_or_create('result', 'lr_stk6', kf, config, lr_adapter)"
   ]
  },
  {
   "cell_type": "code",
   "execution_count": 65,
   "id": "03c785e6-13e9-41dc-98b4-616f0b81eb63",
   "metadata": {},
   "outputs": [
    {
     "data": {
      "application/vnd.jupyter.widget-view+json": {
       "model_id": "",
       "version_major": 2,
       "version_minor": 0
      },
      "text/plain": [
       "Fold:   0%|          | 0/5 [00:00<?, ?it/s]"
      ]
     },
     "metadata": {},
     "output_type": "display_data"
    },
    {
     "data": {
      "text/plain": [
       "-1.0221454963184233"
      ]
     },
     "execution_count": 65,
     "metadata": {},
     "output_type": "execute_result"
    }
   ],
   "source": [
    "models = [lr4, lgb1, xgb1, cb1, cb2, lgb2, xgb2, lgb3, cb7, xgb3, lgb5, cb9, xgb5]\n",
    "pd.Series({i.name: i.cv_best_['score'] for i in models}).rename('score').to_frame().T.sort_values('score', axis=1)\n",
    "df_stk = sgml.stack_cv(models, df_train[target])\n",
    "result = lr_stk6.cv(df_stk, {\n",
    "    'model_params': {},\n",
    "    'X_num': ['lr4', 'lgb1', 'xgb1', 'cb1', 'cb2', 'lgb2', 'xgb2', 'lgb3', 'cb7', 'xgb3', 'lgb5', 'cb9', 'xgb5']\n",
    "}, 1)\n",
    "np.mean(result['valid_scores'])"
   ]
  },
  {
   "cell_type": "code",
   "execution_count": 90,
   "id": "4c0fd394-ebbc-4c66-9ba7-2eb5be47f3a0",
   "metadata": {},
   "outputs": [
    {
     "data": {
      "application/vnd.jupyter.widget-view+json": {
       "model_id": "",
       "version_major": 2,
       "version_minor": 0
      },
      "text/plain": [
       "Round:   0%|          | 0/1000 [00:00<?, ?it/s]"
      ]
     },
     "metadata": {},
     "output_type": "display_data"
    },
    {
     "data": {
      "application/vnd.jupyter.widget-view+json": {
       "model_id": "",
       "version_major": 2,
       "version_minor": 0
      },
      "text/plain": [
       "Round:   0%|          | 0/1300 [00:00<?, ?it/s]"
      ]
     },
     "metadata": {},
     "output_type": "display_data"
    },
    {
     "data": {
      "application/vnd.jupyter.widget-view+json": {
       "model_id": "",
       "version_major": 2,
       "version_minor": 0
      },
      "text/plain": [
       "Round:   0%|          | 0/1000 [00:00<?, ?it/s]"
      ]
     },
     "metadata": {},
     "output_type": "display_data"
    },
    {
     "data": {
      "application/vnd.jupyter.widget-view+json": {
       "model_id": "",
       "version_major": 2,
       "version_minor": 0
      },
      "text/plain": [
       "Round:   0%|          | 0/1100 [00:00<?, ?it/s]"
      ]
     },
     "metadata": {},
     "output_type": "display_data"
    }
   ],
   "source": [
    "for i in models:\n",
    "    if i.name.startswith('cb'):\n",
    "        i.train(df_train, task_type='GPU')\n",
    "    elif i.name.startswith('xgb'):\n",
    "        i.train(df_train, device='cuda')\n",
    "    else:\n",
    "        i.train(df_train)\n",
    "lr_stk6.train(df_stk)\n",
    "df_vt = pd.concat([\n",
    "    i.get_predictor()(df_test).rename(i.name)\n",
    "    for i in models\n",
    "], axis=1)"
   ]
  },
  {
   "cell_type": "code",
   "execution_count": 91,
   "id": "4e015046-11d2-4ba6-ba35-e5433a0d6aee",
   "metadata": {},
   "outputs": [],
   "source": [
    "s_prd = (np.exp(\n",
    "    lr_stk6.get_predictor()(df_vt)\n",
    ") - 1).clip(20, 5000).rename('Premium Amount')\n",
    "s_prd.to_frame().to_csv(os.path.join('result', 'submission15.csv'))"
   ]
  },
  {
   "cell_type": "code",
   "execution_count": null,
   "id": "fd4e0187-45ee-4271-b194-c2702b266848",
   "metadata": {},
   "outputs": [],
   "source": []
  }
 ],
 "metadata": {
  "kernelspec": {
   "display_name": "Python 3 (ipykernel)",
   "language": "python",
   "name": "python3"
  },
  "language_info": {
   "codemirror_mode": {
    "name": "ipython",
    "version": 3
   },
   "file_extension": ".py",
   "mimetype": "text/x-python",
   "name": "python",
   "nbconvert_exporter": "python",
   "pygments_lexer": "ipython3",
   "version": "3.12.3"
  }
 },
 "nbformat": 4,
 "nbformat_minor": 5
}
