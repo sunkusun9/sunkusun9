{
 "cells": [
  {
   "cell_type": "code",
   "execution_count": 16,
   "id": "db4a6220-885b-4d14-8168-5fb5720934ec",
   "metadata": {},
   "outputs": [],
   "source": [
    "import polars as pl\n",
    "import pandas as pd\n",
    "import dill\n",
    "import os\n",
    "import dproc"
   ]
  },
  {
   "cell_type": "code",
   "execution_count": 17,
   "id": "64ae5408-44b9-4f08-8ed7-125367e00263",
   "metadata": {},
   "outputs": [],
   "source": [
    "data_path = 'data'\n",
    "files = {\n",
    "    k: os.path.join(p, f)\n",
    "    for k, p, f in [\n",
    "        ('train', data_path, 'train.csv'),\n",
    "        ('test', data_path, 'test.csv'),\n",
    "        ('train_parquet', data_path, 'train.parquet'),\n",
    "        ('test_parquet', data_path, 'test.parquet'),\n",
    "        ('var_pkl', data_path, 'var.pkl')\n",
    "    ]\n",
    "}\n",
    "\n",
    "df_train = pl.read_parquet(files['train_parquet'])\n",
    "df_train = df_train.to_pandas().set_index('id')"
   ]
  },
  {
   "cell_type": "code",
   "execution_count": 18,
   "id": "ba9ca538-63e1-46f2-8a46-cf61d508c2b6",
   "metadata": {},
   "outputs": [],
   "source": [
    "with open('result/test.pkl', 'rb') as f:\n",
    "    cat_procs_list = dill.load(f)"
   ]
  },
  {
   "cell_type": "code",
   "execution_count": 20,
   "id": "f503b72a-4334-4886-99a5-708ba93da301",
   "metadata": {},
   "outputs": [
    {
     "data": {
      "text/plain": [
       "['__annotations__',\n",
       " '__builtins__',\n",
       " '__call__',\n",
       " '__class__',\n",
       " '__closure__',\n",
       " '__code__',\n",
       " '__defaults__',\n",
       " '__delattr__',\n",
       " '__dict__',\n",
       " '__dir__',\n",
       " '__doc__',\n",
       " '__eq__',\n",
       " '__format__',\n",
       " '__ge__',\n",
       " '__get__',\n",
       " '__getattribute__',\n",
       " '__getstate__',\n",
       " '__globals__',\n",
       " '__gt__',\n",
       " '__hash__',\n",
       " '__init__',\n",
       " '__init_subclass__',\n",
       " '__kwdefaults__',\n",
       " '__le__',\n",
       " '__lt__',\n",
       " '__module__',\n",
       " '__name__',\n",
       " '__ne__',\n",
       " '__new__',\n",
       " '__qualname__',\n",
       " '__reduce__',\n",
       " '__reduce_ex__',\n",
       " '__repr__',\n",
       " '__setattr__',\n",
       " '__sizeof__',\n",
       " '__str__',\n",
       " '__subclasshook__',\n",
       " '__type_params__']"
      ]
     },
     "execution_count": 20,
     "metadata": {},
     "output_type": "execute_result"
    }
   ],
   "source": [
    "dir(cat_procs_list[0][0])"
   ]
  },
  {
   "cell_type": "code",
   "execution_count": null,
   "id": "34585f19-104a-48a4-b42c-4010af6c31d5",
   "metadata": {},
   "outputs": [],
   "source": []
  }
 ],
 "metadata": {
  "kernelspec": {
   "display_name": "Python 3 (ipykernel)",
   "language": "python",
   "name": "python3"
  },
  "language_info": {
   "codemirror_mode": {
    "name": "ipython",
    "version": 3
   },
   "file_extension": ".py",
   "mimetype": "text/x-python",
   "name": "python",
   "nbconvert_exporter": "python",
   "pygments_lexer": "ipython3",
   "version": "3.12.6"
  }
 },
 "nbformat": 4,
 "nbformat_minor": 5
}
