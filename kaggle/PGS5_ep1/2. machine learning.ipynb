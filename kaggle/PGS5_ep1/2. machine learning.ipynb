{
 "cells": [
  {
   "cell_type": "code",
   "execution_count": 1,
   "id": "e1a6bd60-c061-4f0a-a024-36a2a7443d5d",
   "metadata": {},
   "outputs": [
    {
     "name": "stdout",
     "output_type": "stream",
     "text": [
      "3.12.6 (main, Sep 30 2024, 02:19:13) [GCC 9.4.0]\n",
      "pandas 2.2.3\n",
      "polars 1.12.0\n",
      "matplotlib 3.8.4\n",
      "seaborn 0.13.2\n",
      "numpy 1.26.4\n",
      "catboost 1.2.5\n",
      "xgboost 2.1.2\n"
     ]
    }
   ],
   "source": [
    "import os, sys\n",
    "import joblib\n",
    "import importlib\n",
    "\n",
    "import pandas as pd\n",
    "import polars as pl\n",
    "import numpy as np\n",
    "\n",
    "import matplotlib as mpl\n",
    "import matplotlib.pyplot as plt\n",
    "import seaborn as sns\n",
    "\n",
    "import dproc, sgml, sgutil, sgpp, custpp\n",
    "\n",
    "import lightgbm as lgb\n",
    "import catboost as cb\n",
    "import xgboost as xgb\n",
    "\n",
    "print(sys.version)\n",
    "for i in [pd, pl, mpl, sns, np, lgb, cb, xgb]:\n",
    "    try:\n",
    "        print(i.__name__, i.__version__)\n",
    "    except:\n",
    "        pass"
   ]
  },
  {
   "cell_type": "code",
   "execution_count": 2,
   "id": "98162e2b-8c5d-467b-84a2-f53c2ed1674e",
   "metadata": {},
   "outputs": [],
   "source": [
    "df_train = pd.read_parquet(os.path.join('data', 'train.parquet'))\n",
    "df_test = pd.read_parquet(os.path.join('data', 'test.parquet'))\n",
    "target = 'num_sold'"
   ]
  },
  {
   "cell_type": "code",
   "execution_count": 3,
   "id": "d9eb673d-3af5-40c5-bcff-9a69c35a51fc",
   "metadata": {},
   "outputs": [],
   "source": [
    "df_train.loc[df_train['product'] == 'Kerneler Dark Mode', target] = df_train.loc[df_train['product'] == 'Kerneler Dark Mode', target].fillna(5)\n",
    "df_train.loc[(df_train['product'] == 'Kerneler'), target] = \\\n",
    "    df_train.loc[(df_train['product'] == 'Kerneler')].groupby(['country', 'store'], observed = False)[target].transform(\n",
    "        lambda x: x.interpolate()\n",
    "    )\n",
    "df_ratio_product = df_train.loc[~df_train['country'].isin(['Canada', 'Kenya'])].pipe(\n",
    "    lambda x: x.pivot_table(index = x['days'], columns = x['product'], values=target, aggfunc = 'sum', observed = True)\n",
    ").pipe(\n",
    "    lambda x: x.divide(x.sum(axis=1), axis = 0)\n",
    ")\n",
    "df_ratio_country = df_train.loc[df_train['product'] != 'Holographic Goose'].pipe(\n",
    "    lambda x: x.pivot_table(index = x['days'], columns = x['country'], values=target, aggfunc = 'sum', observed = True)\n",
    ").pipe(\n",
    "    lambda x: x.divide(x.sum(axis=1), axis = 0)\n",
    ")\n",
    "df_ratio_store = df_train.loc[(df_train['product'] != 'Holographic Goose') & ~df_train['country'].isin(['Canada', 'Kenya'])].pipe(\n",
    "    lambda x: x.pivot_table(index = x['days'], columns = x['store'], values=target, aggfunc = 'sum', observed = True)\n",
    ").pipe(\n",
    "    lambda x: x.divide(x.sum(axis=1), axis = 0)\n",
    ")\n",
    "X_key = ['country', 'store', 'product']\n",
    "df_ratio = pd.DataFrame(\n",
    "    0,\n",
    "    columns = pd.MultiIndex.from_product(df_train[X_key].apply(lambda x: x.unique().tolist())),\n",
    "    index = df_train['days'].unique()\n",
    ").apply(\n",
    "    lambda x: df_ratio_country.loc[:, x.name[0]] * df_ratio_store.loc[:, x.name[1]] * df_ratio_product.loc[:, x.name[2]]\n",
    ")\n",
    "df_ratio_notna = pd.DataFrame(\n",
    "    df_ratio.values * df_train.assign(target_notna = lambda x: x[target].notna()).pivot(\n",
    "        index = 'days', columns = X_key, values = 'target_notna'\n",
    "    ).values, index = df_ratio.index, columns = df_ratio.columns\n",
    ")\n",
    "s_est_daily_sum = df_train.groupby('days')[target].sum() * 1 / df_ratio_notna.sum(axis = 1)\n",
    "\n",
    "df_train.loc[df_train[target].isna(), target] = df_train.loc[df_train[target].isna()].apply(\n",
    "    lambda x: df_ratio.loc[x['days'], tuple(x[X_key])] * s_est_daily_sum.loc[x['days']], axis = 1\n",
    ")"
   ]
  },
  {
   "cell_type": "markdown",
   "id": "24ee9928-462e-40f4-81fb-95d84040fe36",
   "metadata": {},
   "source": [
    "# Config"
   ]
  },
  {
   "cell_type": "code",
   "execution_count": 54,
   "id": "3c4bd247-e124-4c0b-95c7-46d4240e2a59",
   "metadata": {},
   "outputs": [],
   "source": [
    "from sklearn.model_selection import GroupShuffleSplit, train_test_split, GroupKFold\n",
    "from sklearn.metrics import mean_absolute_percentage_error\n",
    "from sklearn.linear_model import LinearRegression\n",
    "\n",
    "def split(x, splitter, groups):\n",
    "    for train_idx, valid_idx in splitter.split(x, x[target], groups = groups):\n",
    "        return x.iloc[train_idx], x.iloc[valid_idx]\n",
    "\n",
    "def get_validation_splitter(validation_fraction):\n",
    "    gss = GroupShuffleSplit(n_splits = 1, train_size = 0.7, random_state = 123)\n",
    "    return lambda x: split(x, gss, x['md'])\n",
    "\n",
    "config = {\n",
    "    'predict_func': lambda m, df, X: pd.Series(m.predict(df[X]), index = df.index),\n",
    "    'score_func': lambda df, prds: -mean_absolute_percentage_error(df[target].sort_index(), prds.sort_index()),\n",
    "    'validation_splitter': get_validation_splitter,\n",
    "    'progress_callback': sgml.ProgressCallBack(), \n",
    "    'return_train_scores': True,\n",
    "    'groups': 'year',\n",
    "    'y': 'num_sold',\n",
    "    'target_func': lambda a, b: np.log(b),\n",
    "    'target_invfunc': lambda b: np.exp(b)\n",
    "}\n",
    "\n",
    "config2 = config.copy()\n",
    "config2['groups'] = 'year'\n",
    "\n",
    "gss = GroupShuffleSplit(n_splits = 1, random_state = 123)\n",
    "gkf = GroupKFold(n_splits = 4)\n",
    "\n",
    "cb_adapter = sgml.CBAdapter(cb.CatBoostRegressor)\n",
    "lr_adapter = sgml.SklearnAdapter(LinearRegression)\n",
    "lgb_adapter = sgml.LGBMAdapter(lgb.LGBMRegressor)\n",
    "xgb_adapter = sgml.XGBAdapter(xgb.XGBRegressor)"
   ]
  },
  {
   "cell_type": "code",
   "execution_count": 98,
   "id": "b3d47f2d-7bff-447a-9724-2909f235acbb",
   "metadata": {},
   "outputs": [
    {
     "data": {
      "text/plain": [
       "([-0.07707171667778806,\n",
       "  -0.07639860363226426,\n",
       "  -0.12270632691844975,\n",
       "  -0.061658447882939595],\n",
       " -0.08445877377786042,\n",
       " [-0.03954196856812238,\n",
       "  -0.03976512165652241,\n",
       "  -0.03949761084862665,\n",
       "  -0.03950239157302807])"
      ]
     },
     "execution_count": 98,
     "metadata": {},
     "output_type": "execute_result"
    }
   ],
   "source": [
    "cb1 = sgml.CVModel('model', 'cb1', gkf, config, cb_adapter).load_if_exists()\n",
    "hparams = {\n",
    "    'model_params': {'n_estimators': 3500, 'learning_rate': 0.1},\n",
    "    'X_num': ['c1', 's1', 'c2', 's2', 'c3', 's3', 'c4', 's4', 'gdp'],\n",
    "    'X_cat': ['weekday', 'country', 'store', 'product', 'holiday', 'month'],\n",
    "    #'validation_fraction': 0.2\n",
    "}\n",
    "#result = cb1.adhoc(df_train, gss, hparams, task_type = 'GPU')\n",
    "result = cb1.cv(df_train, hparams, task_type = 'GPU')\n",
    "result['valid_scores'], np.mean(result['valid_scores']), result['train_scores']"
   ]
  },
  {
   "cell_type": "code",
   "execution_count": 56,
   "id": "686d012c-7d4e-4d34-bad0-747b0f59709e",
   "metadata": {},
   "outputs": [
    {
     "data": {
      "application/vnd.jupyter.widget-view+json": {
       "model_id": "",
       "version_major": 2,
       "version_minor": 0
      },
      "text/plain": [
       "Fold:   0%|          | 0/4 [00:00<?, ?it/s]"
      ]
     },
     "metadata": {},
     "output_type": "display_data"
    },
    {
     "data": {
      "application/vnd.jupyter.widget-view+json": {
       "model_id": "",
       "version_major": 2,
       "version_minor": 0
      },
      "text/plain": [
       "Round:   0%|          | 0/2000 [00:00<?, ?it/s]"
      ]
     },
     "metadata": {},
     "output_type": "display_data"
    },
    {
     "data": {
      "application/vnd.jupyter.widget-view+json": {
       "model_id": "",
       "version_major": 2,
       "version_minor": 0
      },
      "text/plain": [
       "Round:   0%|          | 0/2000 [00:00<?, ?it/s]"
      ]
     },
     "metadata": {},
     "output_type": "display_data"
    },
    {
     "data": {
      "application/vnd.jupyter.widget-view+json": {
       "model_id": "",
       "version_major": 2,
       "version_minor": 0
      },
      "text/plain": [
       "Round:   0%|          | 0/2000 [00:00<?, ?it/s]"
      ]
     },
     "metadata": {},
     "output_type": "display_data"
    },
    {
     "data": {
      "application/vnd.jupyter.widget-view+json": {
       "model_id": "",
       "version_major": 2,
       "version_minor": 0
      },
      "text/plain": [
       "Round:   0%|          | 0/2000 [00:00<?, ?it/s]"
      ]
     },
     "metadata": {},
     "output_type": "display_data"
    },
    {
     "data": {
      "text/plain": [
       "([-0.06547458969931848,\n",
       "  -0.05885628804165214,\n",
       "  -0.12174519927913535,\n",
       "  -0.061384096873470205],\n",
       " -0.07686504347339404,\n",
       " [-0.036971618145682394,\n",
       "  -0.03761374668350337,\n",
       "  -0.037131498773354615,\n",
       "  -0.03712605005298313])"
      ]
     },
     "execution_count": 56,
     "metadata": {},
     "output_type": "execute_result"
    }
   ],
   "source": [
    "lgb1 = sgml.CVModel('model', 'lgb1', gkf, config, lgb_adapter).load_if_exists()\n",
    "hparams = {\n",
    "    'model_params': {'n_estimators': 2000, 'num_leaves': 31, 'learning_rate': 0.1},\n",
    "    'X_num': ['c1', 's1', 'c2', 's2', 'c3', 's3', 'c4', 's4', 'gdp'],\n",
    "    'X_cat': ['weekday', 'country', 'store', 'product', 'holiday', 'month'],\n",
    "    #'validation_fraction': 0.2\n",
    "}\n",
    "#result = lgb1.adhoc(df_train, gss, hparams)\n",
    "result = lgb1.cv(df_train, hparams)\n",
    "result['valid_scores'], np.mean(result['valid_scores']), result['train_scores']"
   ]
  },
  {
   "cell_type": "code",
   "execution_count": 57,
   "id": "4a01fb0d-57fb-4667-ace3-25639ae5af12",
   "metadata": {},
   "outputs": [
    {
     "data": {
      "application/vnd.jupyter.widget-view+json": {
       "model_id": "",
       "version_major": 2,
       "version_minor": 0
      },
      "text/plain": [
       "Fold:   0%|          | 0/4 [00:00<?, ?it/s]"
      ]
     },
     "metadata": {},
     "output_type": "display_data"
    },
    {
     "data": {
      "application/vnd.jupyter.widget-view+json": {
       "model_id": "",
       "version_major": 2,
       "version_minor": 0
      },
      "text/plain": [
       "Round:   0%|          | 0/1500 [00:00<?, ?it/s]"
      ]
     },
     "metadata": {},
     "output_type": "display_data"
    },
    {
     "name": "stderr",
     "output_type": "stream",
     "text": [
      "/home/sun9sun9/python312/lib/python3.12/site-packages/xgboost/core.py:158: UserWarning: [07:36:58] WARNING: /workspace/src/common/error_msg.cc:58: Falling back to prediction using DMatrix due to mismatched devices. This might lead to higher memory usage and slower performance. XGBoost is running on: cuda:0, while the input data is on: cpu.\n",
      "Potential solutions:\n",
      "- Use a data structure that matches the device ordinal in the booster.\n",
      "- Set the device for booster before call to inplace_predict.\n",
      "\n",
      "This warning will only be shown once.\n",
      "\n",
      "  warnings.warn(smsg, UserWarning)\n"
     ]
    },
    {
     "data": {
      "application/vnd.jupyter.widget-view+json": {
       "model_id": "",
       "version_major": 2,
       "version_minor": 0
      },
      "text/plain": [
       "Round:   0%|          | 0/1500 [00:00<?, ?it/s]"
      ]
     },
     "metadata": {},
     "output_type": "display_data"
    },
    {
     "data": {
      "application/vnd.jupyter.widget-view+json": {
       "model_id": "",
       "version_major": 2,
       "version_minor": 0
      },
      "text/plain": [
       "Round:   0%|          | 0/1500 [00:00<?, ?it/s]"
      ]
     },
     "metadata": {},
     "output_type": "display_data"
    },
    {
     "data": {
      "application/vnd.jupyter.widget-view+json": {
       "model_id": "",
       "version_major": 2,
       "version_minor": 0
      },
      "text/plain": [
       "Round:   0%|          | 0/1500 [00:00<?, ?it/s]"
      ]
     },
     "metadata": {},
     "output_type": "display_data"
    },
    {
     "data": {
      "text/plain": [
       "([-0.080923505, -0.07056465, -0.073136695, -0.08051474],\n",
       " -0.07628489,\n",
       " [-0.03594484, -0.036640495, -0.035900187, -0.035837043])"
      ]
     },
     "execution_count": 57,
     "metadata": {},
     "output_type": "execute_result"
    }
   ],
   "source": [
    "xgb1 = sgml.CVModel('model', 'xgb1', gkf, config, xgb_adapter).load_if_exists()\n",
    "hparams = {\n",
    "    'model_params': {'n_estimators': 1500, 'max_depth': 7, 'learning_rate': 0.06},\n",
    "    'X_num': ['c1', 's1', 'c2', 's2', 'c3', 's3', 'c4', 's4', 'gdp'],\n",
    "    'X_ohe': ['weekday', 'country', 'store', 'product', 'holiday', 'month'], 'ohe': {'drop': 'if_binary'}, \n",
    "    #'validation_fraction': 0.1\n",
    "}\n",
    "#result = xgb1.adhoc(df_train, gss, hparams, device = 'cuda')\n",
    "result = xgb1.cv(df_train, hparams, device = 'cuda')\n",
    "result['valid_scores'], np.mean(result['valid_scores']), result['train_scores']"
   ]
  },
  {
   "cell_type": "code",
   "execution_count": 58,
   "id": "48a55779-8567-4a0a-945b-5769cb4a712b",
   "metadata": {},
   "outputs": [
    {
     "data": {
      "application/vnd.jupyter.widget-view+json": {
       "model_id": "",
       "version_major": 2,
       "version_minor": 0
      },
      "text/plain": [
       "Fold:   0%|          | 0/4 [00:00<?, ?it/s]"
      ]
     },
     "metadata": {},
     "output_type": "display_data"
    },
    {
     "data": {
      "text/plain": [
       "([-0.11776300898143265,\n",
       "  -0.0706493914643913,\n",
       "  -0.08317018225569826,\n",
       "  -0.08782677201028768],\n",
       " -0.08985233867795248,\n",
       " [-0.07490570191990986,\n",
       "  -0.08828802832709043,\n",
       "  -0.08739964870898849,\n",
       "  -0.08599619494530683])"
      ]
     },
     "execution_count": 58,
     "metadata": {},
     "output_type": "execute_result"
    }
   ],
   "source": [
    "lr1 = sgml.CVModel('model', 'lr1', gkf, config, lr_adapter).load_if_exists()\n",
    "hparams = {\n",
    "    'model_params': {},\n",
    "    'X_mm': ['gdp'],\n",
    "    'X_ohe': ['weekday', 'country', 'store', 'product', 'holiday'], 'ohe': {'drop': 'first'},\n",
    "    'X_pre': ['year', 'md'], 'X_pre_out': ['product_ratio'],\n",
    "    'preprocessor': custpp.RatioEncoder()\n",
    "}\n",
    "result = lr1.cv(df_train, hparams)\n",
    "result['valid_scores'], np.mean(result['valid_scores']), result['train_scores']"
   ]
  },
  {
   "cell_type": "code",
   "execution_count": 59,
   "id": "00920f83-eeaf-4a12-9804-2704af778747",
   "metadata": {},
   "outputs": [
    {
     "data": {
      "application/vnd.jupyter.widget-view+json": {
       "model_id": "",
       "version_major": 2,
       "version_minor": 0
      },
      "text/plain": [
       "Fold:   0%|          | 0/4 [00:00<?, ?it/s]"
      ]
     },
     "metadata": {},
     "output_type": "display_data"
    },
    {
     "data": {
      "application/vnd.jupyter.widget-view+json": {
       "model_id": "",
       "version_major": 2,
       "version_minor": 0
      },
      "text/plain": [
       "Round:   0%|          | 0/4000 [00:00<?, ?it/s]"
      ]
     },
     "metadata": {},
     "output_type": "display_data"
    },
    {
     "data": {
      "application/vnd.jupyter.widget-view+json": {
       "model_id": "",
       "version_major": 2,
       "version_minor": 0
      },
      "text/plain": [
       "Round:   0%|          | 0/4000 [00:00<?, ?it/s]"
      ]
     },
     "metadata": {},
     "output_type": "display_data"
    },
    {
     "data": {
      "application/vnd.jupyter.widget-view+json": {
       "model_id": "",
       "version_major": 2,
       "version_minor": 0
      },
      "text/plain": [
       "Round:   0%|          | 0/4000 [00:00<?, ?it/s]"
      ]
     },
     "metadata": {},
     "output_type": "display_data"
    },
    {
     "data": {
      "application/vnd.jupyter.widget-view+json": {
       "model_id": "",
       "version_major": 2,
       "version_minor": 0
      },
      "text/plain": [
       "Round:   0%|          | 0/4000 [00:00<?, ?it/s]"
      ]
     },
     "metadata": {},
     "output_type": "display_data"
    },
    {
     "data": {
      "text/plain": [
       "([-0.06507281551682419,\n",
       "  -0.05790313008619813,\n",
       "  -0.11475737963923671,\n",
       "  -0.060818140302467114],\n",
       " -0.07463786638618154,\n",
       " [-0.03749063873065157,\n",
       "  -0.037962676726079586,\n",
       "  -0.03763584301590932,\n",
       "  -0.0375189931039882])"
      ]
     },
     "execution_count": 59,
     "metadata": {},
     "output_type": "execute_result"
    }
   ],
   "source": [
    "lgb2 = sgml.CVModel('model', 'lgb2', gkf, config, lgb_adapter).load_if_exists()\n",
    "hparams = {\n",
    "    'model_params': {'n_estimators': 4000, 'num_leaves': 15, 'learning_rate': 0.1},\n",
    "    'X_num': ['c1', 's1', 'c2', 's2', 'c3', 's3', 'c4', 's4', 'gdp'],\n",
    "    'X_cat': ['weekday', 'country', 'store', 'product', 'holiday', 'month'],\n",
    "    #'validation_fraction': 0.2\n",
    "}\n",
    "#result = lgb1.adhoc(df_train, gss, hparams)\n",
    "result = lgb2.cv(df_train, hparams)\n",
    "result['valid_scores'], np.mean(result['valid_scores']), result['train_scores']"
   ]
  },
  {
   "cell_type": "code",
   "execution_count": 75,
   "id": "dca7e56b-a3d2-4844-b646-16793fb0c7ef",
   "metadata": {},
   "outputs": [
    {
     "data": {
      "text/plain": [
       "([-0.080314144, -0.07050299, -0.0734187, -0.08072272],\n",
       " -0.07623964,\n",
       " [-0.03822202, -0.03868175, -0.03817244, -0.038157128])"
      ]
     },
     "execution_count": 75,
     "metadata": {},
     "output_type": "execute_result"
    }
   ],
   "source": [
    "xgb2 = sgml.CVModel('model', 'xgb2', gkf, config, xgb_adapter).load_if_exists()\n",
    "hparams = {\n",
    "    'model_params': {'n_estimators': 1500, 'max_depth': 6, 'learning_rate': 0.06},\n",
    "    'X_num': ['c1', 's1', 'c2', 's2', 'c3', 's3', 'c4', 's4', 'gdp'],\n",
    "    'X_ohe': ['weekday', 'country', 'store', 'product', 'holiday', 'month'], 'ohe': {'drop': 'if_binary'}, \n",
    "    #'validation_fraction': 0.2\n",
    "}\n",
    "#result = xgb2.adhoc(df_train, gss, hparams, device = 'cuda')\n",
    "result = xgb2.cv(df_train, hparams, device = 'cuda')\n",
    "result['valid_scores'], np.mean(result['valid_scores']), result['train_scores']"
   ]
  },
  {
   "cell_type": "code",
   "execution_count": 109,
   "id": "47e0b5f7-f1ab-4ad5-ae3d-a9ce3d5e0a2f",
   "metadata": {},
   "outputs": [
    {
     "data": {
      "application/vnd.jupyter.widget-view+json": {
       "model_id": "",
       "version_major": 2,
       "version_minor": 0
      },
      "text/plain": [
       "Fold:   0%|          | 0/1 [00:00<?, ?it/s]"
      ]
     },
     "metadata": {},
     "output_type": "display_data"
    },
    {
     "data": {
      "text/plain": [
       "([-0.10038598925657231], -0.10038598925657231, [-0.03727272458091318])"
      ]
     },
     "execution_count": 109,
     "metadata": {},
     "output_type": "execute_result"
    }
   ],
   "source": [
    "cb2 = sgml.CVModel('model', 'cb2', gkf, config, cb_adapter).load_if_exists()\n",
    "hparams = {\n",
    "    'model_params': {'n_estimators': 3000, 'learning_rate': 0.1, 'max_depth': 7},\n",
    "    'X_num': ['c1', 's1', 'c2', 's2', 'c3', 's3', 'c4', 's4', 'gdp'],\n",
    "    'X_cat': ['weekday', 'country', 'store', 'product', 'holiday', 'month'],\n",
    "    #'validation_fraction': 0.2\n",
    "}\n",
    "#result = cb2.adhoc(df_train, gss, hparams, task_type = 'GPU')\n",
    "result = cb2.cv(df_train, hparams, task_type = 'GPU')\n",
    "result['valid_scores'], np.mean(result['valid_scores']), result['train_scores']"
   ]
  },
  {
   "cell_type": "code",
   "execution_count": 130,
   "id": "38e39f88-6830-475b-8d30-ca9800a94499",
   "metadata": {},
   "outputs": [
    {
     "data": {
      "application/vnd.jupyter.widget-view+json": {
       "model_id": "",
       "version_major": 2,
       "version_minor": 0
      },
      "text/plain": [
       "Fold:   0%|          | 0/4 [00:00<?, ?it/s]"
      ]
     },
     "metadata": {},
     "output_type": "display_data"
    },
    {
     "data": {
      "application/vnd.jupyter.widget-view+json": {
       "model_id": "",
       "version_major": 2,
       "version_minor": 0
      },
      "text/plain": [
       "Round:   0%|          | 0/5000 [00:00<?, ?it/s]"
      ]
     },
     "metadata": {},
     "output_type": "display_data"
    },
    {
     "data": {
      "application/vnd.jupyter.widget-view+json": {
       "model_id": "",
       "version_major": 2,
       "version_minor": 0
      },
      "text/plain": [
       "Round:   0%|          | 0/5000 [00:00<?, ?it/s]"
      ]
     },
     "metadata": {},
     "output_type": "display_data"
    },
    {
     "data": {
      "application/vnd.jupyter.widget-view+json": {
       "model_id": "",
       "version_major": 2,
       "version_minor": 0
      },
      "text/plain": [
       "Round:   0%|          | 0/5000 [00:00<?, ?it/s]"
      ]
     },
     "metadata": {},
     "output_type": "display_data"
    },
    {
     "data": {
      "application/vnd.jupyter.widget-view+json": {
       "model_id": "",
       "version_major": 2,
       "version_minor": 0
      },
      "text/plain": [
       "Round:   0%|          | 0/5000 [00:00<?, ?it/s]"
      ]
     },
     "metadata": {},
     "output_type": "display_data"
    },
    {
     "data": {
      "text/plain": [
       "([-0.06496329504069424,\n",
       "  -0.055323346483212736,\n",
       "  -0.10645387787346779,\n",
       "  -0.059629028996697094],\n",
       " -0.07159238709851797,\n",
       " [-0.039431401929232106,\n",
       "  -0.03984736449031836,\n",
       "  -0.03952141978897335,\n",
       "  -0.03949263236835982])"
      ]
     },
     "execution_count": 130,
     "metadata": {},
     "output_type": "execute_result"
    }
   ],
   "source": [
    "lgb3 = sgml.CVModel('model', 'lgb3', gkf, config, lgb_adapter).load_if_exists()\n",
    "hparams = {\n",
    "    'model_params': {'n_estimators': 5000, 'num_leaves': 7, 'learning_rate': 0.1},\n",
    "    'X_num': ['c1', 's1', 'c2', 's2', 'c3', 's3', 'c4', 's4', 'gdp'],\n",
    "    'X_cat': ['weekday', 'country', 'store', 'product', 'holiday', 'month'],\n",
    "    #'validation_fraction': 0.2\n",
    "}\n",
    "#result = lgb3.adhoc(df_train, gss, hparams)\n",
    "result = lgb3.cv(df_train, hparams)\n",
    "result['valid_scores'], np.mean(result['valid_scores']), result['train_scores']"
   ]
  },
  {
   "cell_type": "code",
   "execution_count": 147,
   "id": "bf7179f5-1790-49d8-8f21-c0ca5e6aed49",
   "metadata": {},
   "outputs": [
    {
     "data": {
      "application/vnd.jupyter.widget-view+json": {
       "model_id": "",
       "version_major": 2,
       "version_minor": 0
      },
      "text/plain": [
       "Fold:   0%|          | 0/4 [00:00<?, ?it/s]"
      ]
     },
     "metadata": {},
     "output_type": "display_data"
    },
    {
     "data": {
      "application/vnd.jupyter.widget-view+json": {
       "model_id": "",
       "version_major": 2,
       "version_minor": 0
      },
      "text/plain": [
       "Round:   0%|          | 0/2000 [00:00<?, ?it/s]"
      ]
     },
     "metadata": {},
     "output_type": "display_data"
    },
    {
     "data": {
      "application/vnd.jupyter.widget-view+json": {
       "model_id": "",
       "version_major": 2,
       "version_minor": 0
      },
      "text/plain": [
       "Round:   0%|          | 0/2000 [00:00<?, ?it/s]"
      ]
     },
     "metadata": {},
     "output_type": "display_data"
    },
    {
     "data": {
      "application/vnd.jupyter.widget-view+json": {
       "model_id": "",
       "version_major": 2,
       "version_minor": 0
      },
      "text/plain": [
       "Round:   0%|          | 0/2000 [00:00<?, ?it/s]"
      ]
     },
     "metadata": {},
     "output_type": "display_data"
    },
    {
     "data": {
      "application/vnd.jupyter.widget-view+json": {
       "model_id": "",
       "version_major": 2,
       "version_minor": 0
      },
      "text/plain": [
       "Round:   0%|          | 0/2000 [00:00<?, ?it/s]"
      ]
     },
     "metadata": {},
     "output_type": "display_data"
    },
    {
     "data": {
      "text/plain": [
       "([-0.06618888932111208,\n",
       "  -0.05853069985198123,\n",
       "  -0.12583228208486702,\n",
       "  -0.06288189177930822],\n",
       " -0.07835844075931714,\n",
       " [-0.040794537883216735,\n",
       "  -0.041283370501131955,\n",
       "  -0.041219040615845304,\n",
       "  -0.04097670508350978])"
      ]
     },
     "execution_count": 147,
     "metadata": {},
     "output_type": "execute_result"
    }
   ],
   "source": [
    "lgb4 = sgml.CVModel('model', 'lgb4', gkf, config, lgb_adapter).load_if_exists()\n",
    "hparams = {\n",
    "    'model_params': {'n_estimators': 2000, 'num_leaves': 63, 'learning_rate': 0.01},\n",
    "    'X_num': ['c1', 's1', 'c2', 's2', 'c3', 's3', 'c4', 's4', 'gdp'],\n",
    "    'X_cat': ['weekday', 'country', 'store', 'product', 'holiday', 'month'],\n",
    "    #'validation_fraction': 0.2\n",
    "}\n",
    "#result = lgb4.adhoc(df_train, gss, hparams)\n",
    "result = lgb4.cv(df_train, hparams)\n",
    "result['valid_scores'], np.mean(result['valid_scores']), result['train_scores']"
   ]
  },
  {
   "cell_type": "code",
   "execution_count": 160,
   "id": "50b570ec-3a55-42b7-99f5-d1b273413a30",
   "metadata": {},
   "outputs": [
    {
     "data": {
      "application/vnd.jupyter.widget-view+json": {
       "model_id": "",
       "version_major": 2,
       "version_minor": 0
      },
      "text/plain": [
       "Fold:   0%|          | 0/4 [00:00<?, ?it/s]"
      ]
     },
     "metadata": {},
     "output_type": "display_data"
    },
    {
     "data": {
      "application/vnd.jupyter.widget-view+json": {
       "model_id": "",
       "version_major": 2,
       "version_minor": 0
      },
      "text/plain": [
       "Round:   0%|          | 0/3000 [00:00<?, ?it/s]"
      ]
     },
     "metadata": {},
     "output_type": "display_data"
    },
    {
     "data": {
      "application/vnd.jupyter.widget-view+json": {
       "model_id": "",
       "version_major": 2,
       "version_minor": 0
      },
      "text/plain": [
       "Round:   0%|          | 0/3000 [00:00<?, ?it/s]"
      ]
     },
     "metadata": {},
     "output_type": "display_data"
    },
    {
     "data": {
      "application/vnd.jupyter.widget-view+json": {
       "model_id": "",
       "version_major": 2,
       "version_minor": 0
      },
      "text/plain": [
       "Round:   0%|          | 0/3000 [00:00<?, ?it/s]"
      ]
     },
     "metadata": {},
     "output_type": "display_data"
    },
    {
     "data": {
      "application/vnd.jupyter.widget-view+json": {
       "model_id": "",
       "version_major": 2,
       "version_minor": 0
      },
      "text/plain": [
       "Round:   0%|          | 0/3000 [00:00<?, ?it/s]"
      ]
     },
     "metadata": {},
     "output_type": "display_data"
    },
    {
     "data": {
      "text/plain": [
       "([-0.08033634, -0.06972629, -0.073387295, -0.08019728],\n",
       " -0.0759118,\n",
       " [-0.038571253, -0.038944796, -0.038486548, -0.038461655])"
      ]
     },
     "execution_count": 160,
     "metadata": {},
     "output_type": "execute_result"
    }
   ],
   "source": [
    "xgb3 = sgml.CVModel('model', 'xgb3', gkf, config, xgb_adapter).load_if_exists()\n",
    "hparams = {\n",
    "    'model_params': {'n_estimators': 3000, 'max_depth': 5, 'learning_rate': 0.06},\n",
    "    'X_num': ['c1', 's1', 'c2', 's2', 'c3', 's3', 'c4', 's4', 'gdp'],\n",
    "    'X_ohe': ['weekday', 'country', 'store', 'product', 'holiday', 'month'], 'ohe': {'drop': 'if_binary'}, \n",
    "    #'validation_fraction': 0.2\n",
    "}\n",
    "#result = xgb3.adhoc(df_train, gss, hparams, device = 'cuda')\n",
    "result = xgb3.cv(df_train, hparams, device = 'cuda')\n",
    "result['valid_scores'], np.mean(result['valid_scores']), result['train_scores']"
   ]
  },
  {
   "cell_type": "code",
   "execution_count": 185,
   "id": "a459bfc0-fc00-4f97-b189-7a28817ce3ef",
   "metadata": {},
   "outputs": [
    {
     "data": {
      "application/vnd.jupyter.widget-view+json": {
       "model_id": "",
       "version_major": 2,
       "version_minor": 0
      },
      "text/plain": [
       "Fold:   0%|          | 0/4 [00:00<?, ?it/s]"
      ]
     },
     "metadata": {},
     "output_type": "display_data"
    },
    {
     "data": {
      "application/vnd.jupyter.widget-view+json": {
       "model_id": "",
       "version_major": 2,
       "version_minor": 0
      },
      "text/plain": [
       "Round:   0%|          | 0/4000 [00:00<?, ?it/s]"
      ]
     },
     "metadata": {},
     "output_type": "display_data"
    },
    {
     "data": {
      "application/vnd.jupyter.widget-view+json": {
       "model_id": "",
       "version_major": 2,
       "version_minor": 0
      },
      "text/plain": [
       "Round:   0%|          | 0/4000 [00:00<?, ?it/s]"
      ]
     },
     "metadata": {},
     "output_type": "display_data"
    },
    {
     "data": {
      "application/vnd.jupyter.widget-view+json": {
       "model_id": "",
       "version_major": 2,
       "version_minor": 0
      },
      "text/plain": [
       "Round:   0%|          | 0/4000 [00:00<?, ?it/s]"
      ]
     },
     "metadata": {},
     "output_type": "display_data"
    },
    {
     "data": {
      "application/vnd.jupyter.widget-view+json": {
       "model_id": "",
       "version_major": 2,
       "version_minor": 0
      },
      "text/plain": [
       "Round:   0%|          | 0/4000 [00:00<?, ?it/s]"
      ]
     },
     "metadata": {},
     "output_type": "display_data"
    },
    {
     "data": {
      "text/plain": [
       "([-0.07786964, -0.071193196, -0.06879352, -0.08099143],\n",
       " -0.07471195,\n",
       " [-0.03937829, -0.03971551, -0.039292816, -0.039254356])"
      ]
     },
     "execution_count": 185,
     "metadata": {},
     "output_type": "execute_result"
    }
   ],
   "source": [
    "xgb4 = sgml.CVModel('model', 'xgb4', gkf, config, xgb_adapter).load_if_exists()\n",
    "hparams = {\n",
    "    'model_params': {'n_estimators': 4000, 'max_depth': 4, 'learning_rate': 0.08},\n",
    "    'X_num': ['c1', 's1', 'c2', 's2', 'c3', 's3', 'c4', 's4', 'gdp'],\n",
    "    'X_ohe': ['weekday', 'country', 'store', 'product', 'holiday', 'month'], 'ohe': {'drop': 'if_binary'}, \n",
    "    #'validation_fraction': 0.2\n",
    "}\n",
    "#result = xgb4.adhoc(df_train, gss, hparams, device = 'cuda')\n",
    "result = xgb4.cv(df_train, hparams, device = 'cuda')\n",
    "result['valid_scores'], np.mean(result['valid_scores']), result['train_scores']"
   ]
  },
  {
   "cell_type": "code",
   "execution_count": 201,
   "id": "b7ced263-07d7-4f49-b4ac-114b27ebcc89",
   "metadata": {},
   "outputs": [
    {
     "data": {
      "application/vnd.jupyter.widget-view+json": {
       "model_id": "",
       "version_major": 2,
       "version_minor": 0
      },
      "text/plain": [
       "Fold:   0%|          | 0/4 [00:00<?, ?it/s]"
      ]
     },
     "metadata": {},
     "output_type": "display_data"
    },
    {
     "data": {
      "application/vnd.jupyter.widget-view+json": {
       "model_id": "",
       "version_major": 2,
       "version_minor": 0
      },
      "text/plain": [
       "Round:   0%|          | 0/5000 [00:00<?, ?it/s]"
      ]
     },
     "metadata": {},
     "output_type": "display_data"
    },
    {
     "data": {
      "application/vnd.jupyter.widget-view+json": {
       "model_id": "",
       "version_major": 2,
       "version_minor": 0
      },
      "text/plain": [
       "Round:   0%|          | 0/5000 [00:00<?, ?it/s]"
      ]
     },
     "metadata": {},
     "output_type": "display_data"
    },
    {
     "data": {
      "application/vnd.jupyter.widget-view+json": {
       "model_id": "",
       "version_major": 2,
       "version_minor": 0
      },
      "text/plain": [
       "Round:   0%|          | 0/5000 [00:00<?, ?it/s]"
      ]
     },
     "metadata": {},
     "output_type": "display_data"
    },
    {
     "data": {
      "application/vnd.jupyter.widget-view+json": {
       "model_id": "",
       "version_major": 2,
       "version_minor": 0
      },
      "text/plain": [
       "Round:   0%|          | 0/5000 [00:00<?, ?it/s]"
      ]
     },
     "metadata": {},
     "output_type": "display_data"
    },
    {
     "data": {
      "text/plain": [
       "([-0.08061035, -0.0739915, -0.06982216, -0.08018472],\n",
       " -0.07615218,\n",
       " [-0.041126084, -0.04179851, -0.04102442, -0.04103463])"
      ]
     },
     "execution_count": 201,
     "metadata": {},
     "output_type": "execute_result"
    }
   ],
   "source": [
    "xgb5 = sgml.CVModel('model', 'xgb5', gkf, config, xgb_adapter).load_if_exists()\n",
    "hparams = {\n",
    "    'model_params': {'n_estimators': 5000, 'max_depth': 3, 'learning_rate': 0.08},\n",
    "    'X_num': ['c1', 's1', 'c2', 's2', 'c3', 's3', 'c4', 's4', 'gdp'],\n",
    "    'X_ohe': ['weekday', 'country', 'store', 'product', 'holiday', 'month'], 'ohe': {'drop': 'if_binary'}, \n",
    "    'validation_fraction': 0.2\n",
    "}\n",
    "#result = xgb5.adhoc(df_train, gss, hparams, device = 'cuda')\n",
    "result = xgb5.cv(df_train, hparams, device = 'cuda')\n",
    "result['valid_scores'], np.mean(result['valid_scores']), result['train_scores']"
   ]
  },
  {
   "cell_type": "code",
   "execution_count": 188,
   "id": "779f5b3f-ed11-49d0-a62e-b318a6bdf0a1",
   "metadata": {},
   "outputs": [
    {
     "data": {
      "text/html": [
       "<div>\n",
       "<style scoped>\n",
       "    .dataframe tbody tr th:only-of-type {\n",
       "        vertical-align: middle;\n",
       "    }\n",
       "\n",
       "    .dataframe tbody tr th {\n",
       "        vertical-align: top;\n",
       "    }\n",
       "\n",
       "    .dataframe thead th {\n",
       "        text-align: right;\n",
       "    }\n",
       "</style>\n",
       "<table border=\"1\" class=\"dataframe\">\n",
       "  <thead>\n",
       "    <tr style=\"text-align: right;\">\n",
       "      <th></th>\n",
       "      <th>cb1</th>\n",
       "      <th>lgb1</th>\n",
       "      <th>xgb1</th>\n",
       "      <th>lr1</th>\n",
       "      <th>lgb2</th>\n",
       "      <th>xgb2</th>\n",
       "      <th>lgb3</th>\n",
       "      <th>xgb3</th>\n",
       "      <th>xgb4</th>\n",
       "      <th>num_sold</th>\n",
       "    </tr>\n",
       "  </thead>\n",
       "  <tbody>\n",
       "    <tr>\n",
       "      <th>cb1</th>\n",
       "      <td>1.000000</td>\n",
       "      <td>0.998186</td>\n",
       "      <td>0.992317</td>\n",
       "      <td>0.980310</td>\n",
       "      <td>0.998061</td>\n",
       "      <td>0.992128</td>\n",
       "      <td>0.998168</td>\n",
       "      <td>0.992460</td>\n",
       "      <td>0.992518</td>\n",
       "      <td>0.988179</td>\n",
       "    </tr>\n",
       "    <tr>\n",
       "      <th>lgb1</th>\n",
       "      <td>0.998186</td>\n",
       "      <td>1.000000</td>\n",
       "      <td>0.992722</td>\n",
       "      <td>0.983245</td>\n",
       "      <td>0.999457</td>\n",
       "      <td>0.992517</td>\n",
       "      <td>0.999093</td>\n",
       "      <td>0.992500</td>\n",
       "      <td>0.992763</td>\n",
       "      <td>0.989052</td>\n",
       "    </tr>\n",
       "    <tr>\n",
       "      <th>xgb1</th>\n",
       "      <td>0.992317</td>\n",
       "      <td>0.992722</td>\n",
       "      <td>1.000000</td>\n",
       "      <td>0.988075</td>\n",
       "      <td>0.993197</td>\n",
       "      <td>0.999676</td>\n",
       "      <td>0.993950</td>\n",
       "      <td>0.999601</td>\n",
       "      <td>0.999499</td>\n",
       "      <td>0.989678</td>\n",
       "    </tr>\n",
       "    <tr>\n",
       "      <th>lr1</th>\n",
       "      <td>0.980310</td>\n",
       "      <td>0.983245</td>\n",
       "      <td>0.988075</td>\n",
       "      <td>1.000000</td>\n",
       "      <td>0.983855</td>\n",
       "      <td>0.987874</td>\n",
       "      <td>0.984686</td>\n",
       "      <td>0.987587</td>\n",
       "      <td>0.988425</td>\n",
       "      <td>0.986529</td>\n",
       "    </tr>\n",
       "    <tr>\n",
       "      <th>lgb2</th>\n",
       "      <td>0.998061</td>\n",
       "      <td>0.999457</td>\n",
       "      <td>0.993197</td>\n",
       "      <td>0.983855</td>\n",
       "      <td>1.000000</td>\n",
       "      <td>0.993152</td>\n",
       "      <td>0.999465</td>\n",
       "      <td>0.993109</td>\n",
       "      <td>0.993381</td>\n",
       "      <td>0.989551</td>\n",
       "    </tr>\n",
       "    <tr>\n",
       "      <th>xgb2</th>\n",
       "      <td>0.992128</td>\n",
       "      <td>0.992517</td>\n",
       "      <td>0.999676</td>\n",
       "      <td>0.987874</td>\n",
       "      <td>0.993152</td>\n",
       "      <td>1.000000</td>\n",
       "      <td>0.993856</td>\n",
       "      <td>0.999670</td>\n",
       "      <td>0.999528</td>\n",
       "      <td>0.989653</td>\n",
       "    </tr>\n",
       "    <tr>\n",
       "      <th>lgb3</th>\n",
       "      <td>0.998168</td>\n",
       "      <td>0.999093</td>\n",
       "      <td>0.993950</td>\n",
       "      <td>0.984686</td>\n",
       "      <td>0.999465</td>\n",
       "      <td>0.993856</td>\n",
       "      <td>1.000000</td>\n",
       "      <td>0.993964</td>\n",
       "      <td>0.994252</td>\n",
       "      <td>0.990752</td>\n",
       "    </tr>\n",
       "    <tr>\n",
       "      <th>xgb3</th>\n",
       "      <td>0.992460</td>\n",
       "      <td>0.992500</td>\n",
       "      <td>0.999601</td>\n",
       "      <td>0.987587</td>\n",
       "      <td>0.993109</td>\n",
       "      <td>0.999670</td>\n",
       "      <td>0.993964</td>\n",
       "      <td>1.000000</td>\n",
       "      <td>0.999609</td>\n",
       "      <td>0.989626</td>\n",
       "    </tr>\n",
       "    <tr>\n",
       "      <th>xgb4</th>\n",
       "      <td>0.992518</td>\n",
       "      <td>0.992763</td>\n",
       "      <td>0.999499</td>\n",
       "      <td>0.988425</td>\n",
       "      <td>0.993381</td>\n",
       "      <td>0.999528</td>\n",
       "      <td>0.994252</td>\n",
       "      <td>0.999609</td>\n",
       "      <td>1.000000</td>\n",
       "      <td>0.989946</td>\n",
       "    </tr>\n",
       "    <tr>\n",
       "      <th>num_sold</th>\n",
       "      <td>0.988179</td>\n",
       "      <td>0.989052</td>\n",
       "      <td>0.989678</td>\n",
       "      <td>0.986529</td>\n",
       "      <td>0.989551</td>\n",
       "      <td>0.989653</td>\n",
       "      <td>0.990752</td>\n",
       "      <td>0.989626</td>\n",
       "      <td>0.989946</td>\n",
       "      <td>1.000000</td>\n",
       "    </tr>\n",
       "  </tbody>\n",
       "</table>\n",
       "</div>"
      ],
      "text/plain": [
       "               cb1      lgb1      xgb1       lr1      lgb2      xgb2  \\\n",
       "cb1       1.000000  0.998186  0.992317  0.980310  0.998061  0.992128   \n",
       "lgb1      0.998186  1.000000  0.992722  0.983245  0.999457  0.992517   \n",
       "xgb1      0.992317  0.992722  1.000000  0.988075  0.993197  0.999676   \n",
       "lr1       0.980310  0.983245  0.988075  1.000000  0.983855  0.987874   \n",
       "lgb2      0.998061  0.999457  0.993197  0.983855  1.000000  0.993152   \n",
       "xgb2      0.992128  0.992517  0.999676  0.987874  0.993152  1.000000   \n",
       "lgb3      0.998168  0.999093  0.993950  0.984686  0.999465  0.993856   \n",
       "xgb3      0.992460  0.992500  0.999601  0.987587  0.993109  0.999670   \n",
       "xgb4      0.992518  0.992763  0.999499  0.988425  0.993381  0.999528   \n",
       "num_sold  0.988179  0.989052  0.989678  0.986529  0.989551  0.989653   \n",
       "\n",
       "              lgb3      xgb3      xgb4  num_sold  \n",
       "cb1       0.998168  0.992460  0.992518  0.988179  \n",
       "lgb1      0.999093  0.992500  0.992763  0.989052  \n",
       "xgb1      0.993950  0.999601  0.999499  0.989678  \n",
       "lr1       0.984686  0.987587  0.988425  0.986529  \n",
       "lgb2      0.999465  0.993109  0.993381  0.989551  \n",
       "xgb2      0.993856  0.999670  0.999528  0.989653  \n",
       "lgb3      1.000000  0.993964  0.994252  0.990752  \n",
       "xgb3      0.993964  1.000000  0.999609  0.989626  \n",
       "xgb4      0.994252  0.999609  1.000000  0.989946  \n",
       "num_sold  0.990752  0.989626  0.989946  1.000000  "
      ]
     },
     "execution_count": 188,
     "metadata": {},
     "output_type": "execute_result"
    }
   ],
   "source": [
    "models = [cb1, lgb1, xgb5, lr1, lgb2, xgb2, lgb3, xgb3, xgb4]\n",
    "df_stk = sgml.stack_cv(models, df_train[target])\n",
    "df_stk.corr()"
   ]
  },
  {
   "cell_type": "code",
   "execution_count": 209,
   "id": "43a13c26-0b79-48b6-8ed8-fb3986542d43",
   "metadata": {},
   "outputs": [
    {
     "data": {
      "text/plain": [
       "0.06506546575400698"
      ]
     },
     "execution_count": 209,
     "metadata": {},
     "output_type": "execute_result"
    }
   ],
   "source": [
    "weights = [0.1, 0.05, 0.05, 0.2, 0.1, 0.05, 0.3, 0.05, 0.1]\n",
    "mean_absolute_percentage_error(\n",
    "    df_stk.iloc[:, :-1].dot(weights), df_stk[target]\n",
    ")"
   ]
  },
  {
   "cell_type": "code",
   "execution_count": 206,
   "id": "b0eb8509-ddd5-4dc1-99d5-139c01179f44",
   "metadata": {},
   "outputs": [
    {
     "data": {
      "application/vnd.jupyter.widget-view+json": {
       "model_id": "",
       "version_major": 2,
       "version_minor": 0
      },
      "text/plain": [
       "Round:   0%|          | 0/2000 [00:00<?, ?it/s]"
      ]
     },
     "metadata": {},
     "output_type": "display_data"
    },
    {
     "data": {
      "application/vnd.jupyter.widget-view+json": {
       "model_id": "",
       "version_major": 2,
       "version_minor": 0
      },
      "text/plain": [
       "Round:   0%|          | 0/1500 [00:00<?, ?it/s]"
      ]
     },
     "metadata": {},
     "output_type": "display_data"
    },
    {
     "data": {
      "application/vnd.jupyter.widget-view+json": {
       "model_id": "",
       "version_major": 2,
       "version_minor": 0
      },
      "text/plain": [
       "Round:   0%|          | 0/4000 [00:00<?, ?it/s]"
      ]
     },
     "metadata": {},
     "output_type": "display_data"
    },
    {
     "data": {
      "application/vnd.jupyter.widget-view+json": {
       "model_id": "",
       "version_major": 2,
       "version_minor": 0
      },
      "text/plain": [
       "Round:   0%|          | 0/1500 [00:00<?, ?it/s]"
      ]
     },
     "metadata": {},
     "output_type": "display_data"
    },
    {
     "data": {
      "application/vnd.jupyter.widget-view+json": {
       "model_id": "",
       "version_major": 2,
       "version_minor": 0
      },
      "text/plain": [
       "Round:   0%|          | 0/5000 [00:00<?, ?it/s]"
      ]
     },
     "metadata": {},
     "output_type": "display_data"
    },
    {
     "data": {
      "application/vnd.jupyter.widget-view+json": {
       "model_id": "",
       "version_major": 2,
       "version_minor": 0
      },
      "text/plain": [
       "Round:   0%|          | 0/3000 [00:00<?, ?it/s]"
      ]
     },
     "metadata": {},
     "output_type": "display_data"
    },
    {
     "data": {
      "application/vnd.jupyter.widget-view+json": {
       "model_id": "",
       "version_major": 2,
       "version_minor": 0
      },
      "text/plain": [
       "Round:   0%|          | 0/4000 [00:00<?, ?it/s]"
      ]
     },
     "metadata": {},
     "output_type": "display_data"
    }
   ],
   "source": [
    "for i in models:\n",
    "    if i.name.startswith('cb'):\n",
    "        i.train(df_train, task_type = 'GPU')\n",
    "    elif i.name.startswith('xgb'):\n",
    "        i.train(df_train, device = 'cuda')\n",
    "    else:\n",
    "        i.train(df_train)"
   ]
  },
  {
   "cell_type": "code",
   "execution_count": 207,
   "id": "6b6dc004-5567-4bf5-a9a2-9db506d41238",
   "metadata": {},
   "outputs": [],
   "source": [
    "df_stk_prd = sgml.stack_prd(models, df_test, config)"
   ]
  },
  {
   "cell_type": "code",
   "execution_count": 210,
   "id": "bef6b3b9-2189-4971-83f3-cbf93cbb67c4",
   "metadata": {},
   "outputs": [],
   "source": [
    "np.exp(df_stk_prd.dot(weights)).rename('num_sold').to_frame().to_csv(\n",
    "    os.path.join('result', 'submission9.csv')\n",
    ")"
   ]
  },
  {
   "cell_type": "code",
   "execution_count": null,
   "id": "7b547a02-6819-4f2d-ad84-c5c0d0e31180",
   "metadata": {},
   "outputs": [],
   "source": []
  }
 ],
 "metadata": {
  "kernelspec": {
   "display_name": "Python 3 (ipykernel)",
   "language": "python",
   "name": "python3"
  },
  "language_info": {
   "codemirror_mode": {
    "name": "ipython",
    "version": 3
   },
   "file_extension": ".py",
   "mimetype": "text/x-python",
   "name": "python",
   "nbconvert_exporter": "python",
   "pygments_lexer": "ipython3",
   "version": "3.12.3"
  }
 },
 "nbformat": 4,
 "nbformat_minor": 5
}
