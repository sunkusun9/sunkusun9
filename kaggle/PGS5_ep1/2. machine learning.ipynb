{
 "cells": [
  {
   "cell_type": "code",
   "execution_count": 71,
   "id": "e1a6bd60-c061-4f0a-a024-36a2a7443d5d",
   "metadata": {},
   "outputs": [
    {
     "name": "stdout",
     "output_type": "stream",
     "text": [
      "3.12.6 (main, Sep 30 2024, 02:19:13) [GCC 9.4.0]\n",
      "pandas 2.2.3\n",
      "polars 1.12.0\n",
      "matplotlib 3.8.4\n",
      "seaborn 0.13.2\n",
      "numpy 1.26.4\n",
      "catboost 1.2.5\n",
      "xgboost 2.1.2\n"
     ]
    }
   ],
   "source": [
    "import os, sys\n",
    "import joblib\n",
    "import importlib\n",
    "\n",
    "import pandas as pd\n",
    "import polars as pl\n",
    "import numpy as np\n",
    "\n",
    "import matplotlib as mpl\n",
    "import matplotlib.pyplot as plt\n",
    "import seaborn as sns\n",
    "\n",
    "import dproc, sgml, sgutil, sgpp, custpp\n",
    "\n",
    "import lightgbm as lgb\n",
    "import catboost as cb\n",
    "import xgboost as xgb\n",
    "\n",
    "print(sys.version)\n",
    "for i in [pd, pl, mpl, sns, np, lgb, cb, xgb]:\n",
    "    try:\n",
    "        print(i.__name__, i.__version__)\n",
    "    except:\n",
    "        pass"
   ]
  },
  {
   "cell_type": "code",
   "execution_count": 5,
   "id": "98162e2b-8c5d-467b-84a2-f53c2ed1674e",
   "metadata": {},
   "outputs": [],
   "source": [
    "df_train = pd.read_parquet(os.path.join('data', 'train.parquet'))\n",
    "df_test = pd.read_parquet(os.path.join('data', 'test.parquet'))\n",
    "target = 'num_sold'"
   ]
  },
  {
   "cell_type": "code",
   "execution_count": 6,
   "id": "d9eb673d-3af5-40c5-bcff-9a69c35a51fc",
   "metadata": {},
   "outputs": [],
   "source": [
    "df_train.loc[df_train['product'] == 'Kerneler Dark Mode', target] = df_train.loc[df_train['product'] == 'Kerneler Dark Mode', target].fillna(5)\n",
    "df_train.loc[(df_train['product'] == 'Kerneler'), target] = \\\n",
    "    df_train.loc[(df_train['product'] == 'Kerneler')].groupby(['country', 'store'], observed = False)[target].transform(\n",
    "        lambda x: x.interpolate()\n",
    "    )\n",
    "df_ratio_product = df_train.loc[~df_train['country'].isin(['Canada', 'Kenya'])].pipe(\n",
    "    lambda x: x.pivot_table(index = x['days'], columns = x['product'], values=target, aggfunc = 'sum', observed = True)\n",
    ").pipe(\n",
    "    lambda x: x.divide(x.sum(axis=1), axis = 0)\n",
    ")\n",
    "df_ratio_country = df_train.loc[df_train['product'] != 'Holographic Goose'].pipe(\n",
    "    lambda x: x.pivot_table(index = x['days'], columns = x['country'], values=target, aggfunc = 'sum', observed = True)\n",
    ").pipe(\n",
    "    lambda x: x.divide(x.sum(axis=1), axis = 0)\n",
    ")\n",
    "df_ratio_store = df_train.loc[(df_train['product'] != 'Holographic Goose') & ~df_train['country'].isin(['Canada', 'Kenya'])].pipe(\n",
    "    lambda x: x.pivot_table(index = x['days'], columns = x['store'], values=target, aggfunc = 'sum', observed = True)\n",
    ").pipe(\n",
    "    lambda x: x.divide(x.sum(axis=1), axis = 0)\n",
    ")\n",
    "X_key = ['country', 'store', 'product']\n",
    "df_ratio = pd.DataFrame(\n",
    "    0,\n",
    "    columns = pd.MultiIndex.from_product(df_train[X_key].apply(lambda x: x.unique().tolist())),\n",
    "    index = df_train['days'].unique()\n",
    ").apply(\n",
    "    lambda x: df_ratio_country.loc[:, x.name[0]] * df_ratio_store.loc[:, x.name[1]] * df_ratio_product.loc[:, x.name[2]]\n",
    ")\n",
    "df_ratio_notna = pd.DataFrame(\n",
    "    df_ratio.values * df_train.assign(target_notna = lambda x: x[target].notna()).pivot(\n",
    "        index = 'days', columns = X_key, values = 'target_notna'\n",
    "    ).values, index = df_ratio.index, columns = df_ratio.columns\n",
    ")\n",
    "s_est_daily_sum = df_train.groupby('days')[target].sum() * 1 / df_ratio_notna.sum(axis = 1)\n",
    "\n",
    "df_train.loc[df_train[target].isna(), target] = df_train.loc[df_train[target].isna()].apply(\n",
    "    lambda x: df_ratio.loc[x['days'], tuple(x[X_key])] * s_est_daily_sum.loc[x['days']], axis = 1\n",
    ")"
   ]
  },
  {
   "cell_type": "markdown",
   "id": "24ee9928-462e-40f4-81fb-95d84040fe36",
   "metadata": {},
   "source": [
    "# Config"
   ]
  },
  {
   "cell_type": "code",
   "execution_count": 17,
   "id": "3c4bd247-e124-4c0b-95c7-46d4240e2a59",
   "metadata": {},
   "outputs": [],
   "source": [
    "from sklearn.model_selection import GroupShuffleSplit, train_test_split, GroupKFold\n",
    "from sklearn.metrics import mean_absolute_percentage_error\n",
    "from sklearn.linear_model import LinearRegression\n",
    "\n",
    "def split(x, splitter, groups):\n",
    "    for train_idx, valid_idx in splitter.split(x, x[target], groups = groups):\n",
    "        return x.iloc[train_idx], x.iloc[valid_idx]\n",
    "\n",
    "def get_validation_splitter(validation_fraction):\n",
    "    gss = GroupShuffleSplit(n_splits = 1, train_size = 0.7, random_state = 123)\n",
    "    return lambda x: split(x, gss, x['md'])\n",
    "\n",
    "config = {\n",
    "    'predict_func': lambda m, df, X: pd.Series(m.predict(df[X]), index = df.index),\n",
    "    'score_func': lambda df, prds: mean_absolute_percentage_error(df[target].sort_index(), prds.sort_index()),\n",
    "    'validation_splitter': get_validation_splitter,\n",
    "    'progress_callback': sgml.ProgressCallBack(), \n",
    "    'return_train_scores': True,\n",
    "    'groups': 'year',\n",
    "    'y': 'num_sold',\n",
    "    'target_func': lambda a, b: np.log(b),\n",
    "    'target_invfunc': lambda b: np.exp(b)\n",
    "}\n",
    "\n",
    "config2 = config.copy()\n",
    "config2['groups'] = 'year'\n",
    "\n",
    "gss = GroupShuffleSplit(n_splits = 1, random_state = 123)\n",
    "gkf = GroupKFold(n_splits = 4)\n",
    "\n",
    "cb_adapter = sgml.CBAdapter(cb.CatBoostRegressor)\n",
    "lr_adapter = sgml.SklearnAdapter(LinearRegression)\n",
    "lgb_adapter = sgml.LGBMAdapter(lgb.LGBMRegressor)\n",
    "xgb_adapter = sgml.XGBAdapter(xgb.XGBRegressor)"
   ]
  },
  {
   "cell_type": "code",
   "execution_count": 43,
   "id": "c5df3bb9-0003-41eb-b7a1-e59a3c81b2b3",
   "metadata": {},
   "outputs": [],
   "source": [
    "cb1 = sgml.CVModel('model', 'cb1', gkf, config, cb_adapter).load_if_exists()"
   ]
  },
  {
   "cell_type": "code",
   "execution_count": 28,
   "id": "b3d47f2d-7bff-447a-9724-2909f235acbb",
   "metadata": {},
   "outputs": [
    {
     "data": {
      "application/vnd.jupyter.widget-view+json": {
       "model_id": "",
       "version_major": 2,
       "version_minor": 0
      },
      "text/plain": [
       "Fold:   0%|          | 0/4 [00:00<?, ?it/s]"
      ]
     },
     "metadata": {},
     "output_type": "display_data"
    },
    {
     "data": {
      "text/plain": [
       "([0.07775177826579524,\n",
       "  0.075777966231794,\n",
       "  0.12316303598759105,\n",
       "  0.06138229127961395],\n",
       " [0.039552158538448845,\n",
       "  0.039768135473713134,\n",
       "  0.039486226256197694,\n",
       "  0.039511857241174904])"
      ]
     },
     "execution_count": 28,
     "metadata": {},
     "output_type": "execute_result"
    }
   ],
   "source": [
    "hparams = {\n",
    "    'model_params': {'n_estimators': 3500, 'learning_rate': 0.1},\n",
    "    'X_num': ['c1', 's1', 'c2', 's2', 'c3', 's3', 'c4', 's4', 'gdp'],\n",
    "    'X_cat': ['weekday', 'country', 'store', 'product', 'holiday', 'month'],\n",
    "    #'validation_fraction': 0.2\n",
    "}\n",
    "#result = cb1.adhoc(df_train, gss, hparams, task_type = 'GPU')\n",
    "result = cb1.cv(df_train, hparams, task_type = 'GPU')\n",
    "result['valid_scores'], result['train_scores']"
   ]
  },
  {
   "cell_type": "code",
   "execution_count": 46,
   "id": "4f118ed7-ce74-4f09-a61d-5154bbdd5f72",
   "metadata": {},
   "outputs": [],
   "source": [
    "lgb1 = sgml.CVModel('model', 'lgb1', gkf, config, lgb_adapter).load_if_exists()"
   ]
  },
  {
   "cell_type": "code",
   "execution_count": 47,
   "id": "686d012c-7d4e-4d34-bad0-747b0f59709e",
   "metadata": {},
   "outputs": [
    {
     "data": {
      "application/vnd.jupyter.widget-view+json": {
       "model_id": "",
       "version_major": 2,
       "version_minor": 0
      },
      "text/plain": [
       "Fold:   0%|          | 0/4 [00:00<?, ?it/s]"
      ]
     },
     "metadata": {},
     "output_type": "display_data"
    },
    {
     "data": {
      "application/vnd.jupyter.widget-view+json": {
       "model_id": "",
       "version_major": 2,
       "version_minor": 0
      },
      "text/plain": [
       "Round:   0%|          | 0/2000 [00:00<?, ?it/s]"
      ]
     },
     "metadata": {},
     "output_type": "display_data"
    },
    {
     "data": {
      "application/vnd.jupyter.widget-view+json": {
       "model_id": "",
       "version_major": 2,
       "version_minor": 0
      },
      "text/plain": [
       "Round:   0%|          | 0/2000 [00:00<?, ?it/s]"
      ]
     },
     "metadata": {},
     "output_type": "display_data"
    },
    {
     "data": {
      "application/vnd.jupyter.widget-view+json": {
       "model_id": "",
       "version_major": 2,
       "version_minor": 0
      },
      "text/plain": [
       "Round:   0%|          | 0/2000 [00:00<?, ?it/s]"
      ]
     },
     "metadata": {},
     "output_type": "display_data"
    },
    {
     "data": {
      "application/vnd.jupyter.widget-view+json": {
       "model_id": "",
       "version_major": 2,
       "version_minor": 0
      },
      "text/plain": [
       "Round:   0%|          | 0/2000 [00:00<?, ?it/s]"
      ]
     },
     "metadata": {},
     "output_type": "display_data"
    },
    {
     "data": {
      "text/plain": [
       "([0.06547458969931848,\n",
       "  0.05885628804165214,\n",
       "  0.12174519927913535,\n",
       "  0.061384096873470205],\n",
       " [0.036971618145682394,\n",
       "  0.03761374668350337,\n",
       "  0.037131498773354615,\n",
       "  0.03712605005298313])"
      ]
     },
     "execution_count": 47,
     "metadata": {},
     "output_type": "execute_result"
    }
   ],
   "source": [
    "hparams = {\n",
    "    'model_params': {'n_estimators': 2000, 'num_leaves': 31, 'learning_rate': 0.1},\n",
    "    'X_num': ['c1', 's1', 'c2', 's2', 'c3', 's3', 'c4', 's4', 'gdp'],\n",
    "    'X_cat': ['weekday', 'country', 'store', 'product', 'holiday', 'month'],\n",
    "    #'validation_fraction': 0.2\n",
    "}\n",
    "#result = lgb1.adhoc(df_train, gss, hparams)\n",
    "result = lgb1.cv(df_train, hparams)\n",
    "result['valid_scores'], result['train_scores']"
   ]
  },
  {
   "cell_type": "code",
   "execution_count": 55,
   "id": "8c426e9d-0de8-4c05-aae3-23ff8bbdd4ab",
   "metadata": {},
   "outputs": [],
   "source": [
    "xgb1 = sgml.CVModel('model', 'xgb1', gkf, config, xgb_adapter).load_if_exists()"
   ]
  },
  {
   "cell_type": "code",
   "execution_count": 56,
   "id": "4a01fb0d-57fb-4667-ace3-25639ae5af12",
   "metadata": {},
   "outputs": [
    {
     "data": {
      "application/vnd.jupyter.widget-view+json": {
       "model_id": "",
       "version_major": 2,
       "version_minor": 0
      },
      "text/plain": [
       "Fold:   0%|          | 0/4 [00:00<?, ?it/s]"
      ]
     },
     "metadata": {},
     "output_type": "display_data"
    },
    {
     "data": {
      "application/vnd.jupyter.widget-view+json": {
       "model_id": "",
       "version_major": 2,
       "version_minor": 0
      },
      "text/plain": [
       "Round:   0%|          | 0/1500 [00:00<?, ?it/s]"
      ]
     },
     "metadata": {},
     "output_type": "display_data"
    },
    {
     "data": {
      "application/vnd.jupyter.widget-view+json": {
       "model_id": "",
       "version_major": 2,
       "version_minor": 0
      },
      "text/plain": [
       "Round:   0%|          | 0/1500 [00:00<?, ?it/s]"
      ]
     },
     "metadata": {},
     "output_type": "display_data"
    },
    {
     "data": {
      "application/vnd.jupyter.widget-view+json": {
       "model_id": "",
       "version_major": 2,
       "version_minor": 0
      },
      "text/plain": [
       "Round:   0%|          | 0/1500 [00:00<?, ?it/s]"
      ]
     },
     "metadata": {},
     "output_type": "display_data"
    },
    {
     "data": {
      "application/vnd.jupyter.widget-view+json": {
       "model_id": "",
       "version_major": 2,
       "version_minor": 0
      },
      "text/plain": [
       "Round:   0%|          | 0/1500 [00:00<?, ?it/s]"
      ]
     },
     "metadata": {},
     "output_type": "display_data"
    },
    {
     "data": {
      "text/plain": [
       "([0.080923505, 0.07056465, 0.073136695, 0.08051474],\n",
       " [0.03594484, 0.036640495, 0.035900187, 0.035837043])"
      ]
     },
     "execution_count": 56,
     "metadata": {},
     "output_type": "execute_result"
    }
   ],
   "source": [
    "hparams = {\n",
    "    'model_params': {'n_estimators': 1500, 'max_depth': 7, 'learning_rate': 0.06},\n",
    "    'X_num': ['c1', 's1', 'c2', 's2', 'c3', 's3', 'c4', 's4', 'gdp'],\n",
    "    'X_ohe': ['weekday', 'country', 'store', 'product', 'holiday', 'month'], 'ohe': {'drop': 'if_binary'}, \n",
    "    #'validation_fraction': 0.1\n",
    "}\n",
    "#result = xgb1.adhoc(df_train, gss, hparams, device = 'cuda')\n",
    "result = xgb1.cv(df_train, hparams, device = 'cuda')\n",
    "result['valid_scores'], result['train_scores']"
   ]
  },
  {
   "cell_type": "code",
   "execution_count": 69,
   "id": "443b8a7b-13a9-422e-8384-a62d381d0eb6",
   "metadata": {},
   "outputs": [],
   "source": [
    "lr1 = sgml.CVModel('model', 'lr1', gkf, config, lr_adapter).load_if_exists()"
   ]
  },
  {
   "cell_type": "code",
   "execution_count": 73,
   "id": "48a55779-8567-4a0a-945b-5769cb4a712b",
   "metadata": {},
   "outputs": [
    {
     "data": {
      "application/vnd.jupyter.widget-view+json": {
       "model_id": "",
       "version_major": 2,
       "version_minor": 0
      },
      "text/plain": [
       "Fold:   0%|          | 0/4 [00:00<?, ?it/s]"
      ]
     },
     "metadata": {},
     "output_type": "display_data"
    },
    {
     "data": {
      "text/plain": [
       "([0.11776300898143265,\n",
       "  0.0706493914643913,\n",
       "  0.08317018225569826,\n",
       "  0.08782677201028768],\n",
       " [0.07490570191990986,\n",
       "  0.08828802832709043,\n",
       "  0.08739964870898849,\n",
       "  0.08599619494530683])"
      ]
     },
     "execution_count": 73,
     "metadata": {},
     "output_type": "execute_result"
    }
   ],
   "source": [
    "hparams = {\n",
    "    'model_params': {},\n",
    "    'X_mm': ['gdp'],\n",
    "    'X_ohe': ['weekday', 'country', 'store', 'product', 'holiday'], 'ohe': {'drop': 'first'},\n",
    "    'X_pre': ['year', 'md'], 'X_pre_out': ['product_ratio'],\n",
    "    'preprocessor': custpp.RatioEncoder()\n",
    "}\n",
    "result = lr1.cv(df_train, hparams)\n",
    "result['valid_scores'], result['train_scores']"
   ]
  },
  {
   "cell_type": "code",
   "execution_count": 74,
   "id": "779f5b3f-ed11-49d0-a62e-b318a6bdf0a1",
   "metadata": {},
   "outputs": [
    {
     "data": {
      "text/html": [
       "<div>\n",
       "<style scoped>\n",
       "    .dataframe tbody tr th:only-of-type {\n",
       "        vertical-align: middle;\n",
       "    }\n",
       "\n",
       "    .dataframe tbody tr th {\n",
       "        vertical-align: top;\n",
       "    }\n",
       "\n",
       "    .dataframe thead th {\n",
       "        text-align: right;\n",
       "    }\n",
       "</style>\n",
       "<table border=\"1\" class=\"dataframe\">\n",
       "  <thead>\n",
       "    <tr style=\"text-align: right;\">\n",
       "      <th></th>\n",
       "      <th>cb1</th>\n",
       "      <th>lgb1</th>\n",
       "      <th>xgb1</th>\n",
       "      <th>lr1</th>\n",
       "      <th>num_sold</th>\n",
       "    </tr>\n",
       "  </thead>\n",
       "  <tbody>\n",
       "    <tr>\n",
       "      <th>cb1</th>\n",
       "      <td>1.000000</td>\n",
       "      <td>0.997818</td>\n",
       "      <td>0.991610</td>\n",
       "      <td>0.977971</td>\n",
       "      <td>0.987031</td>\n",
       "    </tr>\n",
       "    <tr>\n",
       "      <th>lgb1</th>\n",
       "      <td>0.997818</td>\n",
       "      <td>1.000000</td>\n",
       "      <td>0.992722</td>\n",
       "      <td>0.983245</td>\n",
       "      <td>0.989052</td>\n",
       "    </tr>\n",
       "    <tr>\n",
       "      <th>xgb1</th>\n",
       "      <td>0.991610</td>\n",
       "      <td>0.992722</td>\n",
       "      <td>1.000000</td>\n",
       "      <td>0.988075</td>\n",
       "      <td>0.989678</td>\n",
       "    </tr>\n",
       "    <tr>\n",
       "      <th>lr1</th>\n",
       "      <td>0.977971</td>\n",
       "      <td>0.983245</td>\n",
       "      <td>0.988075</td>\n",
       "      <td>1.000000</td>\n",
       "      <td>0.986529</td>\n",
       "    </tr>\n",
       "    <tr>\n",
       "      <th>num_sold</th>\n",
       "      <td>0.987031</td>\n",
       "      <td>0.989052</td>\n",
       "      <td>0.989678</td>\n",
       "      <td>0.986529</td>\n",
       "      <td>1.000000</td>\n",
       "    </tr>\n",
       "  </tbody>\n",
       "</table>\n",
       "</div>"
      ],
      "text/plain": [
       "               cb1      lgb1      xgb1       lr1  num_sold\n",
       "cb1       1.000000  0.997818  0.991610  0.977971  0.987031\n",
       "lgb1      0.997818  1.000000  0.992722  0.983245  0.989052\n",
       "xgb1      0.991610  0.992722  1.000000  0.988075  0.989678\n",
       "lr1       0.977971  0.983245  0.988075  1.000000  0.986529\n",
       "num_sold  0.987031  0.989052  0.989678  0.986529  1.000000"
      ]
     },
     "execution_count": 74,
     "metadata": {},
     "output_type": "execute_result"
    }
   ],
   "source": [
    "models = [cb1, lgb1, xgb1, lr1]\n",
    "df_stk = sgml.stack_cv(models, df_train[target])\n",
    "df_stk.corr()"
   ]
  },
  {
   "cell_type": "code",
   "execution_count": 85,
   "id": "43a13c26-0b79-48b6-8ed8-fb3986542d43",
   "metadata": {},
   "outputs": [
    {
     "data": {
      "text/plain": [
       "0.0669141730830498"
      ]
     },
     "execution_count": 85,
     "metadata": {},
     "output_type": "execute_result"
    }
   ],
   "source": [
    "mean_absolute_percentage_error(\n",
    "    df_stk.iloc[:, :-1].dot([0.1, 0.3, 0.3, 0.3]), df_stk[target]\n",
    ")"
   ]
  },
  {
   "cell_type": "code",
   "execution_count": 86,
   "id": "b0eb8509-ddd5-4dc1-99d5-139c01179f44",
   "metadata": {},
   "outputs": [],
   "source": [
    "for i in models:\n",
    "    if i.name.startswith('cb'):\n",
    "        i.train(df_train, task_type = 'GPU')\n",
    "    elif i.name.startswith('xgb'):\n",
    "        i.train(df_train, device = 'cuda')\n",
    "    else:\n",
    "        i.train(df_train)"
   ]
  },
  {
   "cell_type": "code",
   "execution_count": 87,
   "id": "6b6dc004-5567-4bf5-a9a2-9db506d41238",
   "metadata": {},
   "outputs": [],
   "source": [
    "df_stk_prd = sgml.stack_prd(models, df_test, config)"
   ]
  },
  {
   "cell_type": "code",
   "execution_count": 88,
   "id": "bef6b3b9-2189-4971-83f3-cbf93cbb67c4",
   "metadata": {},
   "outputs": [],
   "source": [
    "np.exp(df_stk_prd.dot([0.1, 0.3, 0.3, 0.3])).rename('num_sold').to_frame().to_csv(\n",
    "    os.path.join('result', 'submission8.csv')\n",
    ")"
   ]
  },
  {
   "cell_type": "code",
   "execution_count": null,
   "id": "7b547a02-6819-4f2d-ad84-c5c0d0e31180",
   "metadata": {},
   "outputs": [],
   "source": []
  }
 ],
 "metadata": {
  "kernelspec": {
   "display_name": "Python 3 (ipykernel)",
   "language": "python",
   "name": "python3"
  },
  "language_info": {
   "codemirror_mode": {
    "name": "ipython",
    "version": 3
   },
   "file_extension": ".py",
   "mimetype": "text/x-python",
   "name": "python",
   "nbconvert_exporter": "python",
   "pygments_lexer": "ipython3",
   "version": "3.12.6"
  }
 },
 "nbformat": 4,
 "nbformat_minor": 5
}
