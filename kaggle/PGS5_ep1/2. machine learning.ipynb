{
 "cells": [
  {
   "cell_type": "code",
   "execution_count": 2,
   "id": "e1a6bd60-c061-4f0a-a024-36a2a7443d5d",
   "metadata": {},
   "outputs": [
    {
     "name": "stdout",
     "output_type": "stream",
     "text": [
      "3.12.6 (main, Sep 30 2024, 02:19:13) [GCC 9.4.0]\n",
      "pandas 2.2.3\n",
      "polars 1.12.0\n",
      "matplotlib 3.8.4\n",
      "seaborn 0.13.2\n",
      "numpy 1.26.4\n",
      "catboost 1.2.5\n",
      "xgboost 2.1.2\n"
     ]
    }
   ],
   "source": [
    "import os, sys\n",
    "import joblib\n",
    "import importlib\n",
    "\n",
    "import pandas as pd\n",
    "import polars as pl\n",
    "import numpy as np\n",
    "\n",
    "import matplotlib as mpl\n",
    "import matplotlib.pyplot as plt\n",
    "import seaborn as sns\n",
    "\n",
    "import dproc, sgml, sgutil, sgpp\n",
    "\n",
    "import lightgbm as lgb\n",
    "import catboost as cb\n",
    "import xgboost as xgb\n",
    "\n",
    "print(sys.version)\n",
    "for i in [pd, pl, mpl, sns, np, lgb, cb, xgb]:\n",
    "    try:\n",
    "        print(i.__name__, i.__version__)\n",
    "    except:\n",
    "        pass"
   ]
  },
  {
   "cell_type": "code",
   "execution_count": 4,
   "id": "98162e2b-8c5d-467b-84a2-f53c2ed1674e",
   "metadata": {},
   "outputs": [],
   "source": [
    "df_train = pd.read_parquet(os.path.join('data', 'train.parquet'))\n",
    "df_test = pd.read_parquet(os.path.join('data', 'test.parquet'))"
   ]
  },
  {
   "cell_type": "markdown",
   "id": "24ee9928-462e-40f4-81fb-95d84040fe36",
   "metadata": {},
   "source": [
    "# Config"
   ]
  },
  {
   "cell_type": "code",
   "execution_count": 158,
   "id": "3c4bd247-e124-4c0b-95c7-46d4240e2a59",
   "metadata": {},
   "outputs": [],
   "source": [
    "from sklearn.model_selection import StratifiedShuffleSplit, train_test_split, StratifiedKFold, GroupKFold\n",
    "from sklearn.metrics import mean_absolute_percentage_error\n",
    "from sklearn.linear_model import LinearRegression\n",
    "\n",
    "target = 'num_sold'\n",
    "def get_validation_splitter(validation_fraction):\n",
    "    return lambda x: (x.loc[x['year'] != x['year'].max()], x.loc[x['year'] == x['year'].max()])\n",
    "\n",
    "config = {\n",
    "    'predict_func': lambda m, df, X: pd.Series(m.predict(df[X]), index = df.index),\n",
    "    'score_func': lambda df, prds: mean_absolute_percentage_error(df[target].sort_index(), prds.sort_index()),\n",
    "    'validation_splitter': get_validation_splitter,\n",
    "    'progress_callback': sgml.ProgressCallBack(), \n",
    "    'return_train_scores': True,\n",
    "    'sp_y': 'md',\n",
    "    'y': 'num_sold',\n",
    "    'target_func': lambda a, b: np.log(b),\n",
    "    'target_invfunc': lambda b: np.exp(b)\n",
    "}\n",
    "\n",
    "config2 = config.copy()\n",
    "config2['groups'] = 'year'\n",
    "\n",
    "ss = StratifiedShuffleSplit(n_splits = 1, train_size = 0.7, random_state = 123)\n",
    "skf = StratifiedKFold(n_splits = 5, random_state = 123, shuffle = True)\n",
    "gkf = GroupKFold(n_splits = 4)\n",
    "\n",
    "cb_adapter = sgml.CBAdapter(cb.CatBoostRegressor)\n",
    "lr_adapter = sgml.SklearnAdapter(LinearRegression)\n",
    "lgb_adapter = sgml.LGBMAdapter(lgb.LGBMRegressor)\n",
    "xgb_adapter = sgml.XGBAdapter(xgb.XGBRegressor)"
   ]
  },
  {
   "cell_type": "code",
   "execution_count": 11,
   "id": "c5df3bb9-0003-41eb-b7a1-e59a3c81b2b3",
   "metadata": {},
   "outputs": [],
   "source": [
    "cb1 = sgml.CVModel('model', 'cb1', skf, config, cb_adapter).load_if_exists()"
   ]
  },
  {
   "cell_type": "code",
   "execution_count": 31,
   "id": "b3d47f2d-7bff-447a-9724-2909f235acbb",
   "metadata": {},
   "outputs": [
    {
     "data": {
      "application/vnd.jupyter.widget-view+json": {
       "model_id": "",
       "version_major": 2,
       "version_minor": 0
      },
      "text/plain": [
       "Fold:   0%|          | 0/5 [00:00<?, ?it/s]"
      ]
     },
     "metadata": {},
     "output_type": "display_data"
    },
    {
     "data": {
      "application/vnd.jupyter.widget-view+json": {
       "model_id": "",
       "version_major": 2,
       "version_minor": 0
      },
      "text/plain": [
       "Round:   0%|          | 0/10000 [00:00<?, ?it/s]"
      ]
     },
     "metadata": {},
     "output_type": "display_data"
    },
    {
     "data": {
      "application/vnd.jupyter.widget-view+json": {
       "model_id": "",
       "version_major": 2,
       "version_minor": 0
      },
      "text/plain": [
       "Round:   0%|          | 0/10000 [00:00<?, ?it/s]"
      ]
     },
     "metadata": {},
     "output_type": "display_data"
    },
    {
     "data": {
      "application/vnd.jupyter.widget-view+json": {
       "model_id": "",
       "version_major": 2,
       "version_minor": 0
      },
      "text/plain": [
       "Round:   0%|          | 0/10000 [00:00<?, ?it/s]"
      ]
     },
     "metadata": {},
     "output_type": "display_data"
    },
    {
     "data": {
      "application/vnd.jupyter.widget-view+json": {
       "model_id": "",
       "version_major": 2,
       "version_minor": 0
      },
      "text/plain": [
       "Round:   0%|          | 0/10000 [00:00<?, ?it/s]"
      ]
     },
     "metadata": {},
     "output_type": "display_data"
    },
    {
     "data": {
      "application/vnd.jupyter.widget-view+json": {
       "model_id": "",
       "version_major": 2,
       "version_minor": 0
      },
      "text/plain": [
       "Round:   0%|          | 0/10000 [00:00<?, ?it/s]"
      ]
     },
     "metadata": {},
     "output_type": "display_data"
    },
    {
     "data": {
      "text/plain": [
       "([0.046593402960826175,\n",
       "  0.04660733434506866,\n",
       "  0.046515691123249873,\n",
       "  0.04622979327412978,\n",
       "  0.04648041662296091],\n",
       " [0.044391870955446444,\n",
       "  0.044488168765938495,\n",
       "  0.04441082117504539,\n",
       "  0.044449248434999554,\n",
       "  0.04458178182615379])"
      ]
     },
     "execution_count": 31,
     "metadata": {},
     "output_type": "execute_result"
    }
   ],
   "source": [
    "hparams = {\n",
    "    'model_params': {'n_estimators': 10000, 'max_depth': 5, 'learning_rate': 0.2},\n",
    "    'X_num': ['c1', 's1', 'c2', 's2'],\n",
    "    'X_cat': ['md', 'weekday', 'country', 'y_8', 'store', 'product'],\n",
    "    #'validation_fraction': 0.1\n",
    "}\n",
    "#result = cb1.adhoc(df_train, ss, hparams, task_type = 'GPU')\n",
    "result = cb1.cv(df_train, hparams, task_type = 'GPU')\n",
    "result['valid_scores'], result['train_scores']"
   ]
  },
  {
   "cell_type": "code",
   "execution_count": 32,
   "id": "4f118ed7-ce74-4f09-a61d-5154bbdd5f72",
   "metadata": {},
   "outputs": [],
   "source": [
    "lgb1 = sgml.CVModel('model', 'lgb1', skf, config, lgb_adapter).load_if_exists()"
   ]
  },
  {
   "cell_type": "code",
   "execution_count": 38,
   "id": "686d012c-7d4e-4d34-bad0-747b0f59709e",
   "metadata": {},
   "outputs": [
    {
     "data": {
      "application/vnd.jupyter.widget-view+json": {
       "model_id": "",
       "version_major": 2,
       "version_minor": 0
      },
      "text/plain": [
       "Fold:   0%|          | 0/5 [00:00<?, ?it/s]"
      ]
     },
     "metadata": {},
     "output_type": "display_data"
    },
    {
     "data": {
      "application/vnd.jupyter.widget-view+json": {
       "model_id": "",
       "version_major": 2,
       "version_minor": 0
      },
      "text/plain": [
       "Round:   0%|          | 0/5000 [00:00<?, ?it/s]"
      ]
     },
     "metadata": {},
     "output_type": "display_data"
    },
    {
     "data": {
      "application/vnd.jupyter.widget-view+json": {
       "model_id": "",
       "version_major": 2,
       "version_minor": 0
      },
      "text/plain": [
       "Round:   0%|          | 0/5000 [00:00<?, ?it/s]"
      ]
     },
     "metadata": {},
     "output_type": "display_data"
    },
    {
     "data": {
      "application/vnd.jupyter.widget-view+json": {
       "model_id": "",
       "version_major": 2,
       "version_minor": 0
      },
      "text/plain": [
       "Round:   0%|          | 0/5000 [00:00<?, ?it/s]"
      ]
     },
     "metadata": {},
     "output_type": "display_data"
    },
    {
     "data": {
      "application/vnd.jupyter.widget-view+json": {
       "model_id": "",
       "version_major": 2,
       "version_minor": 0
      },
      "text/plain": [
       "Round:   0%|          | 0/5000 [00:00<?, ?it/s]"
      ]
     },
     "metadata": {},
     "output_type": "display_data"
    },
    {
     "data": {
      "application/vnd.jupyter.widget-view+json": {
       "model_id": "",
       "version_major": 2,
       "version_minor": 0
      },
      "text/plain": [
       "Round:   0%|          | 0/5000 [00:00<?, ?it/s]"
      ]
     },
     "metadata": {},
     "output_type": "display_data"
    },
    {
     "data": {
      "text/plain": [
       "([0.04478281981112351,\n",
       "  0.04451517845214932,\n",
       "  0.04469590453764895,\n",
       "  0.04446544273786029,\n",
       "  0.04465349156512319],\n",
       " [0.03355373506821657,\n",
       "  0.03339781633358599,\n",
       "  0.0334232239172728,\n",
       "  0.03362009033976975,\n",
       "  0.033840076928441744])"
      ]
     },
     "execution_count": 38,
     "metadata": {},
     "output_type": "execute_result"
    }
   ],
   "source": [
    "hparams = {\n",
    "    'model_params': {'n_estimators': 5000, 'num_leaves': 31, 'learning_rate': 0.1},\n",
    "    'X_num': ['c1', 's1', 'c2', 's2'],\n",
    "    'X_cat': ['md', 'weekday', 'country', 'y_8', 'store', 'product'],\n",
    "    #'validation_fraction': 0.1\n",
    "}\n",
    "#result = lgb1.adhoc(df_train, ss, hparams)\n",
    "result = lgb1.cv(df_train, hparams)\n",
    "result['valid_scores'], result['train_scores']"
   ]
  },
  {
   "cell_type": "code",
   "execution_count": 39,
   "id": "8c426e9d-0de8-4c05-aae3-23ff8bbdd4ab",
   "metadata": {},
   "outputs": [],
   "source": [
    "xgb1 = sgml.CVModel('model', 'xgb1', skf, config, xgb_adapter).load_if_exists()"
   ]
  },
  {
   "cell_type": "code",
   "execution_count": 60,
   "id": "4a01fb0d-57fb-4667-ace3-25639ae5af12",
   "metadata": {},
   "outputs": [
    {
     "data": {
      "application/vnd.jupyter.widget-view+json": {
       "model_id": "",
       "version_major": 2,
       "version_minor": 0
      },
      "text/plain": [
       "Fold:   0%|          | 0/5 [00:00<?, ?it/s]"
      ]
     },
     "metadata": {},
     "output_type": "display_data"
    },
    {
     "data": {
      "application/vnd.jupyter.widget-view+json": {
       "model_id": "",
       "version_major": 2,
       "version_minor": 0
      },
      "text/plain": [
       "Round:   0%|          | 0/10000 [00:00<?, ?it/s]"
      ]
     },
     "metadata": {},
     "output_type": "display_data"
    },
    {
     "data": {
      "application/vnd.jupyter.widget-view+json": {
       "model_id": "",
       "version_major": 2,
       "version_minor": 0
      },
      "text/plain": [
       "Round:   0%|          | 0/10000 [00:00<?, ?it/s]"
      ]
     },
     "metadata": {},
     "output_type": "display_data"
    },
    {
     "data": {
      "application/vnd.jupyter.widget-view+json": {
       "model_id": "",
       "version_major": 2,
       "version_minor": 0
      },
      "text/plain": [
       "Round:   0%|          | 0/10000 [00:00<?, ?it/s]"
      ]
     },
     "metadata": {},
     "output_type": "display_data"
    },
    {
     "data": {
      "application/vnd.jupyter.widget-view+json": {
       "model_id": "",
       "version_major": 2,
       "version_minor": 0
      },
      "text/plain": [
       "Round:   0%|          | 0/10000 [00:00<?, ?it/s]"
      ]
     },
     "metadata": {},
     "output_type": "display_data"
    },
    {
     "data": {
      "application/vnd.jupyter.widget-view+json": {
       "model_id": "",
       "version_major": 2,
       "version_minor": 0
      },
      "text/plain": [
       "Round:   0%|          | 0/10000 [00:00<?, ?it/s]"
      ]
     },
     "metadata": {},
     "output_type": "display_data"
    },
    {
     "data": {
      "text/plain": [
       "([0.047309395, 0.04695019, 0.047162827, 0.0470137, 0.04714548],\n",
       " [0.030449303, 0.030454403, 0.030381193, 0.030523246, 0.030497976])"
      ]
     },
     "execution_count": 60,
     "metadata": {},
     "output_type": "execute_result"
    }
   ],
   "source": [
    "hparams = {\n",
    "    'model_params': {'n_estimators': 10000, 'max_depth': 7, 'learning_rate': 0.06},\n",
    "    'X_num': ['c1', 's1', 'c2', 's2'],\n",
    "    'X_ohe': ['md', 'weekday', 'country', 'y_8', 'store', 'product'], 'ohe': {'drop': 'if_binary'}, \n",
    "    'validation_fraction': 0.1\n",
    "}\n",
    "#result = xgb1.adhoc(df_train, ss, hparams, device = 'cuda')\n",
    "result = xgb1.cv(df_train, hparams, device = 'cuda')\n",
    "result['valid_scores'], result['train_scores']"
   ]
  },
  {
   "cell_type": "code",
   "execution_count": 63,
   "id": "779f5b3f-ed11-49d0-a62e-b318a6bdf0a1",
   "metadata": {},
   "outputs": [
    {
     "data": {
      "text/html": [
       "<div>\n",
       "<style scoped>\n",
       "    .dataframe tbody tr th:only-of-type {\n",
       "        vertical-align: middle;\n",
       "    }\n",
       "\n",
       "    .dataframe tbody tr th {\n",
       "        vertical-align: top;\n",
       "    }\n",
       "\n",
       "    .dataframe thead th {\n",
       "        text-align: right;\n",
       "    }\n",
       "</style>\n",
       "<table border=\"1\" class=\"dataframe\">\n",
       "  <thead>\n",
       "    <tr style=\"text-align: right;\">\n",
       "      <th></th>\n",
       "      <th>cb1</th>\n",
       "      <th>lgb1</th>\n",
       "      <th>xgb1</th>\n",
       "      <th>num_sold</th>\n",
       "    </tr>\n",
       "  </thead>\n",
       "  <tbody>\n",
       "    <tr>\n",
       "      <th>cb1</th>\n",
       "      <td>1.000000</td>\n",
       "      <td>0.999164</td>\n",
       "      <td>0.998997</td>\n",
       "      <td>0.996558</td>\n",
       "    </tr>\n",
       "    <tr>\n",
       "      <th>lgb1</th>\n",
       "      <td>0.999164</td>\n",
       "      <td>1.000000</td>\n",
       "      <td>0.999464</td>\n",
       "      <td>0.996793</td>\n",
       "    </tr>\n",
       "    <tr>\n",
       "      <th>xgb1</th>\n",
       "      <td>0.998997</td>\n",
       "      <td>0.999464</td>\n",
       "      <td>1.000000</td>\n",
       "      <td>0.996508</td>\n",
       "    </tr>\n",
       "    <tr>\n",
       "      <th>num_sold</th>\n",
       "      <td>0.996558</td>\n",
       "      <td>0.996793</td>\n",
       "      <td>0.996508</td>\n",
       "      <td>1.000000</td>\n",
       "    </tr>\n",
       "  </tbody>\n",
       "</table>\n",
       "</div>"
      ],
      "text/plain": [
       "               cb1      lgb1      xgb1  num_sold\n",
       "cb1       1.000000  0.999164  0.998997  0.996558\n",
       "lgb1      0.999164  1.000000  0.999464  0.996793\n",
       "xgb1      0.998997  0.999464  1.000000  0.996508\n",
       "num_sold  0.996558  0.996793  0.996508  1.000000"
      ]
     },
     "execution_count": 63,
     "metadata": {},
     "output_type": "execute_result"
    }
   ],
   "source": [
    "models = [cb1, lgb1, xgb1]\n",
    "df_stk = sgml.stack_cv(models, df_train[target])\n",
    "df_stk.corr()"
   ]
  },
  {
   "cell_type": "code",
   "execution_count": 75,
   "id": "43a13c26-0b79-48b6-8ed8-fb3986542d43",
   "metadata": {},
   "outputs": [
    {
     "data": {
      "text/plain": [
       "0.043748826690744605"
      ]
     },
     "execution_count": 75,
     "metadata": {},
     "output_type": "execute_result"
    }
   ],
   "source": [
    "mean_absolute_percentage_error(\n",
    "    df_stk.iloc[:, :-1].dot([0.3, 0.6, 0.1]), df_stk[target]\n",
    ")"
   ]
  },
  {
   "cell_type": "code",
   "execution_count": 76,
   "id": "b0eb8509-ddd5-4dc1-99d5-139c01179f44",
   "metadata": {},
   "outputs": [
    {
     "data": {
      "application/vnd.jupyter.widget-view+json": {
       "model_id": "",
       "version_major": 2,
       "version_minor": 0
      },
      "text/plain": [
       "Round:   0%|          | 0/5000 [00:00<?, ?it/s]"
      ]
     },
     "metadata": {},
     "output_type": "display_data"
    },
    {
     "data": {
      "application/vnd.jupyter.widget-view+json": {
       "model_id": "",
       "version_major": 2,
       "version_minor": 0
      },
      "text/plain": [
       "Round:   0%|          | 0/10000 [00:00<?, ?it/s]"
      ]
     },
     "metadata": {},
     "output_type": "display_data"
    }
   ],
   "source": [
    "for i in models:\n",
    "    if i.name.startswith('cb'):\n",
    "        i.train(df_train, task_type = 'GPU')\n",
    "    elif i.name.startswith('xgb'):\n",
    "        i.train(df_train, device = 'cuda')\n",
    "    else:\n",
    "        i.train(df_train)"
   ]
  },
  {
   "cell_type": "code",
   "execution_count": 79,
   "id": "6b6dc004-5567-4bf5-a9a2-9db506d41238",
   "metadata": {},
   "outputs": [],
   "source": [
    "df_stk_prd = sgml.stack_prd(models, df_test, config)"
   ]
  },
  {
   "cell_type": "code",
   "execution_count": 83,
   "id": "bef6b3b9-2189-4971-83f3-cbf93cbb67c4",
   "metadata": {},
   "outputs": [],
   "source": [
    "np.exp(df_stk_prd.dot([0.3, 0.6, 0.1])).rename('num_sold').to_frame().to_csv(\n",
    "    os.path.join('result', 'submission6.csv')\n",
    ")"
   ]
  },
  {
   "cell_type": "code",
   "execution_count": null,
   "id": "81348a03-2845-4c22-811a-a1033bf17601",
   "metadata": {},
   "outputs": [],
   "source": [
    "#!kaggle competitions submit -c playground-series-s5e1 -f result/submission6.csv -m \"6\""
   ]
  },
  {
   "cell_type": "code",
   "execution_count": 88,
   "id": "fba112ba-459d-4994-96bf-d934e044ece3",
   "metadata": {},
   "outputs": [],
   "source": [
    "cb2 = sgml.CVModel('model', 'cb2', gkf, config, cb_adapter).load_if_exists()"
   ]
  },
  {
   "cell_type": "code",
   "execution_count": null,
   "id": "64cc1a63-58b5-45d8-b06c-40dbb478053c",
   "metadata": {},
   "outputs": [],
   "source": [
    "hparams = {\n",
    "    'model_params': {'n_estimators': 10000, 'max_depth': 5, 'learning_rate': 0.2},\n",
    "    'X_num': ['c1', 's1', 'c2', 's2'],\n",
    "    'X_cat': ['md', 'weekday', 'country', 'y_8', 'store', 'product'],\n",
    "    'validation_fraction': 0.1\n",
    "}\n",
    "result = cb1.adhoc(df_train, ss, hparams, task_type = 'GPU')\n",
    "#result = cb1.cv(df_train, hparams, task_type = 'GPU')\n",
    "result['valid_scores'], result['train_scores']"
   ]
  },
  {
   "cell_type": "code",
   "execution_count": 166,
   "id": "4b010008-6f3e-4fcf-9651-5cec6af0118f",
   "metadata": {},
   "outputs": [],
   "source": [
    "lgb2 = sgml.CVModel('model', 'lgb2', gkf, config2, lgb_adapter).load_if_exists()"
   ]
  },
  {
   "cell_type": "code",
   "execution_count": 169,
   "id": "48c9197c-03e9-46ad-a217-af3fd123f682",
   "metadata": {},
   "outputs": [
    {
     "data": {
      "application/vnd.jupyter.widget-view+json": {
       "model_id": "",
       "version_major": 2,
       "version_minor": 0
      },
      "text/plain": [
       "Fold:   0%|          | 0/4 [00:00<?, ?it/s]"
      ]
     },
     "metadata": {},
     "output_type": "display_data"
    },
    {
     "data": {
      "application/vnd.jupyter.widget-view+json": {
       "model_id": "",
       "version_major": 2,
       "version_minor": 0
      },
      "text/plain": [
       "Round:   0%|          | 0/1000 [00:00<?, ?it/s]"
      ]
     },
     "metadata": {},
     "output_type": "display_data"
    },
    {
     "data": {
      "application/vnd.jupyter.widget-view+json": {
       "model_id": "",
       "version_major": 2,
       "version_minor": 0
      },
      "text/plain": [
       "Round:   0%|          | 0/1000 [00:00<?, ?it/s]"
      ]
     },
     "metadata": {},
     "output_type": "display_data"
    },
    {
     "data": {
      "application/vnd.jupyter.widget-view+json": {
       "model_id": "",
       "version_major": 2,
       "version_minor": 0
      },
      "text/plain": [
       "Round:   0%|          | 0/1000 [00:00<?, ?it/s]"
      ]
     },
     "metadata": {},
     "output_type": "display_data"
    },
    {
     "data": {
      "application/vnd.jupyter.widget-view+json": {
       "model_id": "",
       "version_major": 2,
       "version_minor": 0
      },
      "text/plain": [
       "Round:   0%|          | 0/1000 [00:00<?, ?it/s]"
      ]
     },
     "metadata": {},
     "output_type": "display_data"
    },
    {
     "data": {
      "text/plain": [
       "([0.11726733098874209,\n",
       "  0.0759907578038341,\n",
       "  0.10495365385047431,\n",
       "  0.08494575860302575],\n",
       " [0.06089597985639476,\n",
       "  0.07499552392011985,\n",
       "  0.07333114574578933,\n",
       "  0.07212217862458374],\n",
       " 0.09578937531151907)"
      ]
     },
     "execution_count": 169,
     "metadata": {},
     "output_type": "execute_result"
    }
   ],
   "source": [
    "hparams = {\n",
    "    'model_params': {'n_estimators': 1000, 'num_leaves': 15, 'learning_rate': 0.01},\n",
    "    'X_num': ['c1', 's1', 'c2', 's2'],\n",
    "    'X_cat': ['md', 'weekday', 'country', 'y_8', 'store', 'product'],\n",
    "}\n",
    "result = lgb2.cv(df_train, hparams)\n",
    "result['valid_scores'], result['train_scores'], np.mean(result['valid_scores'])"
   ]
  },
  {
   "cell_type": "code",
   "execution_count": 178,
   "id": "b5808811-2bb4-487f-a488-0f2bc93b05e4",
   "metadata": {},
   "outputs": [],
   "source": [
    "lgb3 = sgml.CVModel('model', 'lgb3', gkf, config2, lgb_adapter).load_if_exists()"
   ]
  },
  {
   "cell_type": "code",
   "execution_count": 179,
   "id": "bda4f6be-0e2c-4f6c-94c5-cd5a830fa443",
   "metadata": {},
   "outputs": [
    {
     "data": {
      "application/vnd.jupyter.widget-view+json": {
       "model_id": "",
       "version_major": 2,
       "version_minor": 0
      },
      "text/plain": [
       "Fold:   0%|          | 0/4 [00:00<?, ?it/s]"
      ]
     },
     "metadata": {},
     "output_type": "display_data"
    },
    {
     "data": {
      "application/vnd.jupyter.widget-view+json": {
       "model_id": "",
       "version_major": 2,
       "version_minor": 0
      },
      "text/plain": [
       "Round:   0%|          | 0/1000 [00:00<?, ?it/s]"
      ]
     },
     "metadata": {},
     "output_type": "display_data"
    },
    {
     "data": {
      "application/vnd.jupyter.widget-view+json": {
       "model_id": "",
       "version_major": 2,
       "version_minor": 0
      },
      "text/plain": [
       "Round:   0%|          | 0/1000 [00:00<?, ?it/s]"
      ]
     },
     "metadata": {},
     "output_type": "display_data"
    },
    {
     "data": {
      "application/vnd.jupyter.widget-view+json": {
       "model_id": "",
       "version_major": 2,
       "version_minor": 0
      },
      "text/plain": [
       "Round:   0%|          | 0/1000 [00:00<?, ?it/s]"
      ]
     },
     "metadata": {},
     "output_type": "display_data"
    },
    {
     "data": {
      "application/vnd.jupyter.widget-view+json": {
       "model_id": "",
       "version_major": 2,
       "version_minor": 0
      },
      "text/plain": [
       "Round:   0%|          | 0/1000 [00:00<?, ?it/s]"
      ]
     },
     "metadata": {},
     "output_type": "display_data"
    },
    {
     "data": {
      "text/plain": [
       "([0.11721972521785907,\n",
       "  0.07379711340448902,\n",
       "  0.10952981732481652,\n",
       "  0.08393177973318464],\n",
       " [0.05105150392618727,\n",
       "  0.06295748221564847,\n",
       "  0.06312702675871551,\n",
       "  0.06117127754788103],\n",
       " 0.09611960892008731)"
      ]
     },
     "execution_count": 179,
     "metadata": {},
     "output_type": "execute_result"
    }
   ],
   "source": [
    "hparams = {\n",
    "    'model_params': {'n_estimators': 1000, 'num_leaves': 31, 'learning_rate': 0.01},\n",
    "    'X_num': ['c1', 's1', 'c2', 's2'],\n",
    "    'X_cat': ['md', 'weekday', 'country', 'y_8', 'store', 'product'],\n",
    "}\n",
    "result = lgb3.cv(df_train, hparams)\n",
    "result['valid_scores'], result['train_scores'], np.mean(result['valid_scores'])"
   ]
  },
  {
   "cell_type": "code",
   "execution_count": 182,
   "id": "9bfe06f5-d2ae-4ab1-8764-b37904784305",
   "metadata": {},
   "outputs": [
    {
     "data": {
      "text/html": [
       "<div>\n",
       "<style scoped>\n",
       "    .dataframe tbody tr th:only-of-type {\n",
       "        vertical-align: middle;\n",
       "    }\n",
       "\n",
       "    .dataframe tbody tr th {\n",
       "        vertical-align: top;\n",
       "    }\n",
       "\n",
       "    .dataframe thead th {\n",
       "        text-align: right;\n",
       "    }\n",
       "</style>\n",
       "<table border=\"1\" class=\"dataframe\">\n",
       "  <thead>\n",
       "    <tr style=\"text-align: right;\">\n",
       "      <th></th>\n",
       "      <th>lgb2</th>\n",
       "      <th>lgb3</th>\n",
       "      <th>num_sold</th>\n",
       "    </tr>\n",
       "  </thead>\n",
       "  <tbody>\n",
       "    <tr>\n",
       "      <th>lgb2</th>\n",
       "      <td>1.000000</td>\n",
       "      <td>0.997257</td>\n",
       "      <td>0.987763</td>\n",
       "    </tr>\n",
       "    <tr>\n",
       "      <th>lgb3</th>\n",
       "      <td>0.997257</td>\n",
       "      <td>1.000000</td>\n",
       "      <td>0.990815</td>\n",
       "    </tr>\n",
       "    <tr>\n",
       "      <th>num_sold</th>\n",
       "      <td>0.987763</td>\n",
       "      <td>0.990815</td>\n",
       "      <td>1.000000</td>\n",
       "    </tr>\n",
       "  </tbody>\n",
       "</table>\n",
       "</div>"
      ],
      "text/plain": [
       "              lgb2      lgb3  num_sold\n",
       "lgb2      1.000000  0.997257  0.987763\n",
       "lgb3      0.997257  1.000000  0.990815\n",
       "num_sold  0.987763  0.990815  1.000000"
      ]
     },
     "execution_count": 182,
     "metadata": {},
     "output_type": "execute_result"
    }
   ],
   "source": [
    "models = [lgb2, lgb3]\n",
    "df_stk = sgml.stack_cv(models, df_train[target])\n",
    "df_stk.corr()"
   ]
  },
  {
   "cell_type": "code",
   "execution_count": 190,
   "id": "f0316c23-f09e-4284-b1e6-5403046456c7",
   "metadata": {},
   "outputs": [
    {
     "data": {
      "text/plain": [
       "0.09959427359451899"
      ]
     },
     "execution_count": 190,
     "metadata": {},
     "output_type": "execute_result"
    }
   ],
   "source": [
    "mean_absolute_percentage_error(\n",
    "    df_stk[target], df_stk.iloc[:, :-1].mean(axis=1)\n",
    ")"
   ]
  },
  {
   "cell_type": "code",
   "execution_count": null,
   "id": "7b547a02-6819-4f2d-ad84-c5c0d0e31180",
   "metadata": {},
   "outputs": [],
   "source": []
  }
 ],
 "metadata": {
  "kernelspec": {
   "display_name": "Python 3 (ipykernel)",
   "language": "python",
   "name": "python3"
  },
  "language_info": {
   "codemirror_mode": {
    "name": "ipython",
    "version": 3
   },
   "file_extension": ".py",
   "mimetype": "text/x-python",
   "name": "python",
   "nbconvert_exporter": "python",
   "pygments_lexer": "ipython3",
   "version": "3.12.6"
  }
 },
 "nbformat": 4,
 "nbformat_minor": 5
}
