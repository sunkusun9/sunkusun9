{
 "cells": [
  {
   "cell_type": "markdown",
   "id": "09764f76-4634-4fc9-a342-b11cb913381e",
   "metadata": {},
   "source": [
    "# Import"
   ]
  },
  {
   "cell_type": "code",
   "execution_count": 1,
   "id": "56fe2996-ce56-4303-a5e5-8847369de05f",
   "metadata": {},
   "outputs": [
    {
     "name": "stdout",
     "output_type": "stream",
     "text": [
      "3.12.6 (main, Sep 30 2024, 02:19:13) [GCC 9.4.0]\n",
      "pandas 2.2.3\n",
      "polars 1.12.0\n",
      "matplotlib 3.8.4\n",
      "seaborn 0.13.2\n",
      "numpy 1.26.4\n",
      "catboost 1.2.5\n",
      "xgboost 2.1.2\n"
     ]
    }
   ],
   "source": [
    "import os, sys\n",
    "import joblib\n",
    "import importlib\n",
    "import holidays\n",
    "\n",
    "import pandas as pd\n",
    "import polars as pl\n",
    "import numpy as np\n",
    "\n",
    "import matplotlib as mpl\n",
    "import matplotlib.pyplot as plt\n",
    "import seaborn as sns\n",
    "\n",
    "import dproc, sgml, sgutil, sgpp\n",
    "\n",
    "import lightgbm as lgb\n",
    "import catboost as cb\n",
    "import xgboost as xgb\n",
    "\n",
    "print(sys.version)\n",
    "for i in [pd, pl, mpl, sns, np, lgb, cb, xgb]:\n",
    "    try:\n",
    "        print(i.__name__, i.__version__)\n",
    "    except:\n",
    "        pass"
   ]
  },
  {
   "cell_type": "code",
   "execution_count": 2,
   "id": "433c19e5-065f-43fd-81dd-dfab4c20ab85",
   "metadata": {},
   "outputs": [],
   "source": [
    "from datetime import date\n",
    "\n",
    "\n",
    "from sklearn.pipeline import make_pipeline\n",
    "from sklearn.preprocessing import MinMaxScaler\n",
    "from sklearn.metrics import mean_squared_error, r2_score, mean_absolute_percentage_error\n",
    "\n",
    "from scipy.stats import chi2_contingency, pearsonr\n",
    "\n",
    "from sklearn.linear_model import LinearRegression\n",
    "from sklearn.pipeline import make_pipeline\n",
    "from sklearn.compose import ColumnTransformer\n",
    "from sklearn.preprocessing import OneHotEncoder "
   ]
  },
  {
   "cell_type": "code",
   "execution_count": 3,
   "id": "d3580aa1-2a03-403d-b156-d695a1e4c943",
   "metadata": {},
   "outputs": [],
   "source": [
    "from sklearn.base import TransformerMixin\n",
    "class CountryEncoder(TransformerMixin):\n",
    "    def __init__(self, gdp_file = 'gdp.csv'):\n",
    "        self.gdp_file = gdp_file\n",
    "        \n",
    "\n",
    "    def fit(self, X, y = None):\n",
    "        df_gdp = pd.read_csv(self.gdp_file)\n",
    "        s_country = pd.Series(\n",
    "                dict(zip(np.sort(X['country'].unique()), [\"CA\", \"FI\", \"IT\", \"KE\", \"NO\", \"SG\"]))\n",
    "        )\n",
    "        self.s_holiday = pd.concat([\n",
    "            pd.Series(b, name = a).to_frame().unstack()\n",
    "            for a, b in s_country.map(lambda x: holidays.country_holidays(x, years = range(2010, 2020))).items()\n",
    "        ]).rename('holiday')\n",
    "        \n",
    "        self.s_gdp = df_gdp.loc[\n",
    "            df_gdp.iloc[:, 0].isin(X['country'].unique())\n",
    "        ].drop(columns = ['Code']).set_index('Country Name').loc[:, '2010':'2019'].rename(columns=lambda x: int(x)).stack().rename('gdp')\n",
    "        self.features = X.columns.tolist()\n",
    "        return self\n",
    "\n",
    "    def transform(self, X):\n",
    "        return X.assign(\n",
    "            date = lambda x: x['date'].dt.date\n",
    "        ).join(\n",
    "            self.s_holiday, on = ['country', 'date']\n",
    "        ).join(\n",
    "            self.s_gdp, on = ['country', 'year'] \n",
    "        ).assign(\n",
    "            holiday = lambda x: x['holiday'].fillna('None').astype('category')\n",
    "        )\n",
    "\n",
    "    def get_params(self, deep = True):\n",
    "        return {}\n",
    "        \n",
    "    def set_output(self, transform = 'pandas'):\n",
    "        pass\n",
    "\n",
    "    def get_featrue_names_out(self, X = None):\n",
    "        return self.features + ['holiday', 'gdp']"
   ]
  },
  {
   "cell_type": "code",
   "execution_count": 4,
   "id": "2d19ec4e-9d63-400e-8b68-b00ee0b1331d",
   "metadata": {},
   "outputs": [],
   "source": [
    "df_dt = pd.date_range('2010-01-01', '2020-12-31', freq = 'D').rename('date').to_frame().assign(\n",
    "    days = lambda x: (x['date'] - x['date'].min()).dt.days,\n",
    "    days_y1 = lambda x: x.groupby(x['date'].dt.year)['days'].transform(lambda x: x.rank() / len(x)),\n",
    "    days_y2 = lambda x: x.groupby(x['date'].dt.year // 2)['days'].transform(lambda x: x.rank() / len(x)),\n",
    "    c1 = lambda x: np.cos(x['days_y1'] * 2 * np.pi),\n",
    "    s1 = lambda x: np.sin(x['days_y1'] * 2 * np.pi),\n",
    "    c2 = lambda x: np.cos(x['days_y2'] * 2 * np.pi),\n",
    "    s2 = lambda x: np.sin(x['days_y2'] * 2 * np.pi),\n",
    "    c3 = lambda x: np.cos(x['days_y1'] * 4 * np.pi),\n",
    "    s3 = lambda x: np.sin(x['days_y1'] * 4 * np.pi),\n",
    "    c4 = lambda x: np.cos(x['days_y1'] * 8 * np.pi),\n",
    "    s4 = lambda x: np.sin(x['days_y1'] * 8 * np.pi),\n",
    "    date = lambda x: x['date'].dt.date,\n",
    ").drop(columns = ['days', 'days_y1', 'days_y2']).set_index('date')"
   ]
  },
  {
   "cell_type": "markdown",
   "id": "3947a788-8e51-4042-8c17-717ee554df46",
   "metadata": {},
   "source": [
    "# Load Data"
   ]
  },
  {
   "cell_type": "code",
   "execution_count": 5,
   "id": "b4c86a85-3337-447c-81b7-d400f184cde0",
   "metadata": {},
   "outputs": [],
   "source": [
    "data_path = 'data'\n",
    "files = {\n",
    "    'train': os.path.join(data_path, 'train.csv'),\n",
    "    'test': os.path.join(data_path, 'test.csv'),\n",
    "    'vars': os.path.join(data_path, 'vars.pkl')\n",
    "}\n",
    "for i in ['result', 'data', 'model', 'img']:\n",
    "    if not os.path.isdir(i):\n",
    "        os.mkdir(i)\n",
    "\n",
    "sc = sgutil.SGCache('img', 'result')"
   ]
  },
  {
   "cell_type": "code",
   "execution_count": 6,
   "id": "2dad128c-794d-4bcb-a72a-2500c4add70d",
   "metadata": {},
   "outputs": [],
   "source": [
    "if (not os.path.isfile(files['train'])) and (not os.path.isfile(files['vars'])):\n",
    "    !kaggle competitions download -c playground-series-s5e1\n",
    "    if not os.path.exists(data_path):\n",
    "        !mkdir data\n",
    "    !unzip playground-series-s5e1.zip -d data\n",
    "    !rm playground-series-s5e1.zip"
   ]
  },
  {
   "cell_type": "code",
   "execution_count": 7,
   "id": "54c6cc82-cc54-48c5-980b-c53be6933646",
   "metadata": {},
   "outputs": [],
   "source": [
    "min_dt = date(year = 2010, month = 1, day = 1)\n",
    "t = sc.cache_result(\n",
    "    'pl_pipeline',\n",
    "    lambda : make_pipeline(\n",
    "        sgpp.PolarsProcessor({'date': pl.Datetime}), \n",
    "        sgpp.ExprProcessor({\n",
    "            'year':  pl.col('date').dt.year(),\n",
    "            'month':  pl.col('date').dt.month(),\n",
    "            'day':  pl.col('date').dt.day(),\n",
    "            'weekday':  pl.col('date').dt.weekday(),\n",
    "            'days': (pl.col('date') - min_dt).dt.total_days().cast(pl.Int16),\n",
    "            'md': pl.col('date').dt.strftime('%m-%d').cast(pl.Categorical)\n",
    "        }),\n",
    "        sgpp.PandasCoverter(index_col = 'id'),\n",
    "        CountryEncoder(),\n",
    "        sgpp.JoinEncoder(df_dt, on = 'date')\n",
    "    ).fit(files['train']), rerun = 1\n",
    ")\n",
    "df_train = t.transform(files['train'])\n",
    "df_test = t.transform(files['test'])"
   ]
  },
  {
   "cell_type": "code",
   "execution_count": 8,
   "id": "4f625672-8a95-4165-89de-9b1d722197f9",
   "metadata": {},
   "outputs": [
    {
     "data": {
      "text/html": [
       "<div>\n",
       "<style scoped>\n",
       "    .dataframe tbody tr th:only-of-type {\n",
       "        vertical-align: middle;\n",
       "    }\n",
       "\n",
       "    .dataframe tbody tr th {\n",
       "        vertical-align: top;\n",
       "    }\n",
       "\n",
       "    .dataframe thead th {\n",
       "        text-align: right;\n",
       "    }\n",
       "</style>\n",
       "<table border=\"1\" class=\"dataframe\">\n",
       "  <thead>\n",
       "    <tr style=\"text-align: right;\">\n",
       "      <th></th>\n",
       "      <th>date</th>\n",
       "      <th>country</th>\n",
       "      <th>store</th>\n",
       "      <th>product</th>\n",
       "      <th>num_sold</th>\n",
       "      <th>year</th>\n",
       "      <th>month</th>\n",
       "      <th>day</th>\n",
       "      <th>weekday</th>\n",
       "      <th>days</th>\n",
       "      <th>...</th>\n",
       "      <th>holiday</th>\n",
       "      <th>gdp</th>\n",
       "      <th>c1</th>\n",
       "      <th>s1</th>\n",
       "      <th>c2</th>\n",
       "      <th>s2</th>\n",
       "      <th>c3</th>\n",
       "      <th>s3</th>\n",
       "      <th>c4</th>\n",
       "      <th>s4</th>\n",
       "    </tr>\n",
       "  </thead>\n",
       "  <tbody>\n",
       "    <tr>\n",
       "      <th>sum</th>\n",
       "      <td>0.0</td>\n",
       "      <td>0.0</td>\n",
       "      <td>0.0</td>\n",
       "      <td>0.0</td>\n",
       "      <td>8871.000000</td>\n",
       "      <td>0.0</td>\n",
       "      <td>0.0</td>\n",
       "      <td>0.0</td>\n",
       "      <td>0.0</td>\n",
       "      <td>0.0</td>\n",
       "      <td>...</td>\n",
       "      <td>0.0</td>\n",
       "      <td>0.0</td>\n",
       "      <td>0.0</td>\n",
       "      <td>0.0</td>\n",
       "      <td>0.0</td>\n",
       "      <td>0.0</td>\n",
       "      <td>0.0</td>\n",
       "      <td>0.0</td>\n",
       "      <td>0.0</td>\n",
       "      <td>0.0</td>\n",
       "    </tr>\n",
       "    <tr>\n",
       "      <th>mean</th>\n",
       "      <td>0.0</td>\n",
       "      <td>0.0</td>\n",
       "      <td>0.0</td>\n",
       "      <td>0.0</td>\n",
       "      <td>0.038548</td>\n",
       "      <td>0.0</td>\n",
       "      <td>0.0</td>\n",
       "      <td>0.0</td>\n",
       "      <td>0.0</td>\n",
       "      <td>0.0</td>\n",
       "      <td>...</td>\n",
       "      <td>0.0</td>\n",
       "      <td>0.0</td>\n",
       "      <td>0.0</td>\n",
       "      <td>0.0</td>\n",
       "      <td>0.0</td>\n",
       "      <td>0.0</td>\n",
       "      <td>0.0</td>\n",
       "      <td>0.0</td>\n",
       "      <td>0.0</td>\n",
       "      <td>0.0</td>\n",
       "    </tr>\n",
       "  </tbody>\n",
       "</table>\n",
       "<p>2 rows × 21 columns</p>\n",
       "</div>"
      ],
      "text/plain": [
       "      date  country  store  product     num_sold  year  month  day  weekday  \\\n",
       "sum    0.0      0.0    0.0      0.0  8871.000000   0.0    0.0  0.0      0.0   \n",
       "mean   0.0      0.0    0.0      0.0     0.038548   0.0    0.0  0.0      0.0   \n",
       "\n",
       "      days  ...  holiday  gdp   c1   s1   c2   s2   c3   s3   c4   s4  \n",
       "sum    0.0  ...      0.0  0.0  0.0  0.0  0.0  0.0  0.0  0.0  0.0  0.0  \n",
       "mean   0.0  ...      0.0  0.0  0.0  0.0  0.0  0.0  0.0  0.0  0.0  0.0  \n",
       "\n",
       "[2 rows x 21 columns]"
      ]
     },
     "execution_count": 8,
     "metadata": {},
     "output_type": "execute_result"
    }
   ],
   "source": [
    "df_train.isna().agg(['sum', 'mean'])"
   ]
  },
  {
   "cell_type": "code",
   "execution_count": 9,
   "id": "612a4109-8e45-48bb-8f20-19da6369fa33",
   "metadata": {},
   "outputs": [
    {
     "data": {
      "text/html": [
       "<div>\n",
       "<style scoped>\n",
       "    .dataframe tbody tr th:only-of-type {\n",
       "        vertical-align: middle;\n",
       "    }\n",
       "\n",
       "    .dataframe tbody tr th {\n",
       "        vertical-align: top;\n",
       "    }\n",
       "\n",
       "    .dataframe thead th {\n",
       "        text-align: right;\n",
       "    }\n",
       "</style>\n",
       "<table border=\"1\" class=\"dataframe\">\n",
       "  <thead>\n",
       "    <tr style=\"text-align: right;\">\n",
       "      <th></th>\n",
       "      <th>date</th>\n",
       "      <th>country</th>\n",
       "      <th>store</th>\n",
       "      <th>product</th>\n",
       "      <th>year</th>\n",
       "      <th>month</th>\n",
       "      <th>day</th>\n",
       "      <th>weekday</th>\n",
       "      <th>days</th>\n",
       "      <th>md</th>\n",
       "      <th>holiday</th>\n",
       "      <th>gdp</th>\n",
       "      <th>c1</th>\n",
       "      <th>s1</th>\n",
       "      <th>c2</th>\n",
       "      <th>s2</th>\n",
       "      <th>c3</th>\n",
       "      <th>s3</th>\n",
       "      <th>c4</th>\n",
       "      <th>s4</th>\n",
       "    </tr>\n",
       "  </thead>\n",
       "  <tbody>\n",
       "    <tr>\n",
       "      <th>sum</th>\n",
       "      <td>0.0</td>\n",
       "      <td>0.0</td>\n",
       "      <td>0.0</td>\n",
       "      <td>0.0</td>\n",
       "      <td>0.0</td>\n",
       "      <td>0.0</td>\n",
       "      <td>0.0</td>\n",
       "      <td>0.0</td>\n",
       "      <td>0.0</td>\n",
       "      <td>0.0</td>\n",
       "      <td>0.0</td>\n",
       "      <td>0.0</td>\n",
       "      <td>0.0</td>\n",
       "      <td>0.0</td>\n",
       "      <td>0.0</td>\n",
       "      <td>0.0</td>\n",
       "      <td>0.0</td>\n",
       "      <td>0.0</td>\n",
       "      <td>0.0</td>\n",
       "      <td>0.0</td>\n",
       "    </tr>\n",
       "    <tr>\n",
       "      <th>mean</th>\n",
       "      <td>0.0</td>\n",
       "      <td>0.0</td>\n",
       "      <td>0.0</td>\n",
       "      <td>0.0</td>\n",
       "      <td>0.0</td>\n",
       "      <td>0.0</td>\n",
       "      <td>0.0</td>\n",
       "      <td>0.0</td>\n",
       "      <td>0.0</td>\n",
       "      <td>0.0</td>\n",
       "      <td>0.0</td>\n",
       "      <td>0.0</td>\n",
       "      <td>0.0</td>\n",
       "      <td>0.0</td>\n",
       "      <td>0.0</td>\n",
       "      <td>0.0</td>\n",
       "      <td>0.0</td>\n",
       "      <td>0.0</td>\n",
       "      <td>0.0</td>\n",
       "      <td>0.0</td>\n",
       "    </tr>\n",
       "  </tbody>\n",
       "</table>\n",
       "</div>"
      ],
      "text/plain": [
       "      date  country  store  product  year  month  day  weekday  days   md  \\\n",
       "sum    0.0      0.0    0.0      0.0   0.0    0.0  0.0      0.0   0.0  0.0   \n",
       "mean   0.0      0.0    0.0      0.0   0.0    0.0  0.0      0.0   0.0  0.0   \n",
       "\n",
       "      holiday  gdp   c1   s1   c2   s2   c3   s3   c4   s4  \n",
       "sum       0.0  0.0  0.0  0.0  0.0  0.0  0.0  0.0  0.0  0.0  \n",
       "mean      0.0  0.0  0.0  0.0  0.0  0.0  0.0  0.0  0.0  0.0  "
      ]
     },
     "execution_count": 9,
     "metadata": {},
     "output_type": "execute_result"
    }
   ],
   "source": [
    "df_test.isna().agg(['sum', 'mean'])"
   ]
  },
  {
   "cell_type": "code",
   "execution_count": 13,
   "id": "3757c5a0-cd1f-47de-9370-399bb88466bd",
   "metadata": {},
   "outputs": [
    {
     "data": {
      "text/html": [
       "<div>\n",
       "<style scoped>\n",
       "    .dataframe tbody tr th:only-of-type {\n",
       "        vertical-align: middle;\n",
       "    }\n",
       "\n",
       "    .dataframe tbody tr th {\n",
       "        vertical-align: top;\n",
       "    }\n",
       "\n",
       "    .dataframe thead th {\n",
       "        text-align: right;\n",
       "    }\n",
       "</style>\n",
       "<table border=\"1\" class=\"dataframe\">\n",
       "  <thead>\n",
       "    <tr style=\"text-align: right;\">\n",
       "      <th></th>\n",
       "      <th>date</th>\n",
       "      <th>country</th>\n",
       "      <th>store</th>\n",
       "      <th>product</th>\n",
       "      <th>num_sold</th>\n",
       "      <th>year</th>\n",
       "      <th>month</th>\n",
       "      <th>day</th>\n",
       "      <th>weekday</th>\n",
       "      <th>days</th>\n",
       "      <th>...</th>\n",
       "      <th>holiday</th>\n",
       "      <th>gdp</th>\n",
       "      <th>c1</th>\n",
       "      <th>s1</th>\n",
       "      <th>c2</th>\n",
       "      <th>s2</th>\n",
       "      <th>c3</th>\n",
       "      <th>s3</th>\n",
       "      <th>c4</th>\n",
       "      <th>s4</th>\n",
       "    </tr>\n",
       "    <tr>\n",
       "      <th>id</th>\n",
       "      <th></th>\n",
       "      <th></th>\n",
       "      <th></th>\n",
       "      <th></th>\n",
       "      <th></th>\n",
       "      <th></th>\n",
       "      <th></th>\n",
       "      <th></th>\n",
       "      <th></th>\n",
       "      <th></th>\n",
       "      <th></th>\n",
       "      <th></th>\n",
       "      <th></th>\n",
       "      <th></th>\n",
       "      <th></th>\n",
       "      <th></th>\n",
       "      <th></th>\n",
       "      <th></th>\n",
       "      <th></th>\n",
       "      <th></th>\n",
       "      <th></th>\n",
       "    </tr>\n",
       "  </thead>\n",
       "  <tbody>\n",
       "    <tr>\n",
       "      <th>0</th>\n",
       "      <td>2010-01-01</td>\n",
       "      <td>Canada</td>\n",
       "      <td>Discount Stickers</td>\n",
       "      <td>Holographic Goose</td>\n",
       "      <td>NaN</td>\n",
       "      <td>2010</td>\n",
       "      <td>1</td>\n",
       "      <td>1</td>\n",
       "      <td>5</td>\n",
       "      <td>0</td>\n",
       "      <td>...</td>\n",
       "      <td>New Year's Day</td>\n",
       "      <td>1.617343e+12</td>\n",
       "      <td>0.999852</td>\n",
       "      <td>1.721336e-02</td>\n",
       "      <td>0.999963</td>\n",
       "      <td>0.008607</td>\n",
       "      <td>0.999407</td>\n",
       "      <td>3.442161e-02</td>\n",
       "      <td>0.99763</td>\n",
       "      <td>6.880243e-02</td>\n",
       "    </tr>\n",
       "    <tr>\n",
       "      <th>1</th>\n",
       "      <td>2010-01-01</td>\n",
       "      <td>Canada</td>\n",
       "      <td>Discount Stickers</td>\n",
       "      <td>Kaggle</td>\n",
       "      <td>973.0</td>\n",
       "      <td>2010</td>\n",
       "      <td>1</td>\n",
       "      <td>1</td>\n",
       "      <td>5</td>\n",
       "      <td>0</td>\n",
       "      <td>...</td>\n",
       "      <td>New Year's Day</td>\n",
       "      <td>1.617343e+12</td>\n",
       "      <td>0.999852</td>\n",
       "      <td>1.721336e-02</td>\n",
       "      <td>0.999963</td>\n",
       "      <td>0.008607</td>\n",
       "      <td>0.999407</td>\n",
       "      <td>3.442161e-02</td>\n",
       "      <td>0.99763</td>\n",
       "      <td>6.880243e-02</td>\n",
       "    </tr>\n",
       "    <tr>\n",
       "      <th>2</th>\n",
       "      <td>2010-01-01</td>\n",
       "      <td>Canada</td>\n",
       "      <td>Discount Stickers</td>\n",
       "      <td>Kaggle Tiers</td>\n",
       "      <td>906.0</td>\n",
       "      <td>2010</td>\n",
       "      <td>1</td>\n",
       "      <td>1</td>\n",
       "      <td>5</td>\n",
       "      <td>0</td>\n",
       "      <td>...</td>\n",
       "      <td>New Year's Day</td>\n",
       "      <td>1.617343e+12</td>\n",
       "      <td>0.999852</td>\n",
       "      <td>1.721336e-02</td>\n",
       "      <td>0.999963</td>\n",
       "      <td>0.008607</td>\n",
       "      <td>0.999407</td>\n",
       "      <td>3.442161e-02</td>\n",
       "      <td>0.99763</td>\n",
       "      <td>6.880243e-02</td>\n",
       "    </tr>\n",
       "    <tr>\n",
       "      <th>3</th>\n",
       "      <td>2010-01-01</td>\n",
       "      <td>Canada</td>\n",
       "      <td>Discount Stickers</td>\n",
       "      <td>Kerneler</td>\n",
       "      <td>423.0</td>\n",
       "      <td>2010</td>\n",
       "      <td>1</td>\n",
       "      <td>1</td>\n",
       "      <td>5</td>\n",
       "      <td>0</td>\n",
       "      <td>...</td>\n",
       "      <td>New Year's Day</td>\n",
       "      <td>1.617343e+12</td>\n",
       "      <td>0.999852</td>\n",
       "      <td>1.721336e-02</td>\n",
       "      <td>0.999963</td>\n",
       "      <td>0.008607</td>\n",
       "      <td>0.999407</td>\n",
       "      <td>3.442161e-02</td>\n",
       "      <td>0.99763</td>\n",
       "      <td>6.880243e-02</td>\n",
       "    </tr>\n",
       "    <tr>\n",
       "      <th>4</th>\n",
       "      <td>2010-01-01</td>\n",
       "      <td>Canada</td>\n",
       "      <td>Discount Stickers</td>\n",
       "      <td>Kerneler Dark Mode</td>\n",
       "      <td>491.0</td>\n",
       "      <td>2010</td>\n",
       "      <td>1</td>\n",
       "      <td>1</td>\n",
       "      <td>5</td>\n",
       "      <td>0</td>\n",
       "      <td>...</td>\n",
       "      <td>New Year's Day</td>\n",
       "      <td>1.617343e+12</td>\n",
       "      <td>0.999852</td>\n",
       "      <td>1.721336e-02</td>\n",
       "      <td>0.999963</td>\n",
       "      <td>0.008607</td>\n",
       "      <td>0.999407</td>\n",
       "      <td>3.442161e-02</td>\n",
       "      <td>0.99763</td>\n",
       "      <td>6.880243e-02</td>\n",
       "    </tr>\n",
       "    <tr>\n",
       "      <th>...</th>\n",
       "      <td>...</td>\n",
       "      <td>...</td>\n",
       "      <td>...</td>\n",
       "      <td>...</td>\n",
       "      <td>...</td>\n",
       "      <td>...</td>\n",
       "      <td>...</td>\n",
       "      <td>...</td>\n",
       "      <td>...</td>\n",
       "      <td>...</td>\n",
       "      <td>...</td>\n",
       "      <td>...</td>\n",
       "      <td>...</td>\n",
       "      <td>...</td>\n",
       "      <td>...</td>\n",
       "      <td>...</td>\n",
       "      <td>...</td>\n",
       "      <td>...</td>\n",
       "      <td>...</td>\n",
       "      <td>...</td>\n",
       "      <td>...</td>\n",
       "    </tr>\n",
       "    <tr>\n",
       "      <th>230125</th>\n",
       "      <td>2016-12-31</td>\n",
       "      <td>Singapore</td>\n",
       "      <td>Premium Sticker Mart</td>\n",
       "      <td>Holographic Goose</td>\n",
       "      <td>466.0</td>\n",
       "      <td>2016</td>\n",
       "      <td>12</td>\n",
       "      <td>31</td>\n",
       "      <td>6</td>\n",
       "      <td>2556</td>\n",
       "      <td>...</td>\n",
       "      <td>None</td>\n",
       "      <td>3.187638e+11</td>\n",
       "      <td>1.000000</td>\n",
       "      <td>-2.449294e-16</td>\n",
       "      <td>-0.999991</td>\n",
       "      <td>-0.004298</td>\n",
       "      <td>1.000000</td>\n",
       "      <td>-4.898587e-16</td>\n",
       "      <td>1.00000</td>\n",
       "      <td>-9.797174e-16</td>\n",
       "    </tr>\n",
       "    <tr>\n",
       "      <th>230126</th>\n",
       "      <td>2016-12-31</td>\n",
       "      <td>Singapore</td>\n",
       "      <td>Premium Sticker Mart</td>\n",
       "      <td>Kaggle</td>\n",
       "      <td>2907.0</td>\n",
       "      <td>2016</td>\n",
       "      <td>12</td>\n",
       "      <td>31</td>\n",
       "      <td>6</td>\n",
       "      <td>2556</td>\n",
       "      <td>...</td>\n",
       "      <td>None</td>\n",
       "      <td>3.187638e+11</td>\n",
       "      <td>1.000000</td>\n",
       "      <td>-2.449294e-16</td>\n",
       "      <td>-0.999991</td>\n",
       "      <td>-0.004298</td>\n",
       "      <td>1.000000</td>\n",
       "      <td>-4.898587e-16</td>\n",
       "      <td>1.00000</td>\n",
       "      <td>-9.797174e-16</td>\n",
       "    </tr>\n",
       "    <tr>\n",
       "      <th>230127</th>\n",
       "      <td>2016-12-31</td>\n",
       "      <td>Singapore</td>\n",
       "      <td>Premium Sticker Mart</td>\n",
       "      <td>Kaggle Tiers</td>\n",
       "      <td>2299.0</td>\n",
       "      <td>2016</td>\n",
       "      <td>12</td>\n",
       "      <td>31</td>\n",
       "      <td>6</td>\n",
       "      <td>2556</td>\n",
       "      <td>...</td>\n",
       "      <td>None</td>\n",
       "      <td>3.187638e+11</td>\n",
       "      <td>1.000000</td>\n",
       "      <td>-2.449294e-16</td>\n",
       "      <td>-0.999991</td>\n",
       "      <td>-0.004298</td>\n",
       "      <td>1.000000</td>\n",
       "      <td>-4.898587e-16</td>\n",
       "      <td>1.00000</td>\n",
       "      <td>-9.797174e-16</td>\n",
       "    </tr>\n",
       "    <tr>\n",
       "      <th>230128</th>\n",
       "      <td>2016-12-31</td>\n",
       "      <td>Singapore</td>\n",
       "      <td>Premium Sticker Mart</td>\n",
       "      <td>Kerneler</td>\n",
       "      <td>1242.0</td>\n",
       "      <td>2016</td>\n",
       "      <td>12</td>\n",
       "      <td>31</td>\n",
       "      <td>6</td>\n",
       "      <td>2556</td>\n",
       "      <td>...</td>\n",
       "      <td>None</td>\n",
       "      <td>3.187638e+11</td>\n",
       "      <td>1.000000</td>\n",
       "      <td>-2.449294e-16</td>\n",
       "      <td>-0.999991</td>\n",
       "      <td>-0.004298</td>\n",
       "      <td>1.000000</td>\n",
       "      <td>-4.898587e-16</td>\n",
       "      <td>1.00000</td>\n",
       "      <td>-9.797174e-16</td>\n",
       "    </tr>\n",
       "    <tr>\n",
       "      <th>230129</th>\n",
       "      <td>2016-12-31</td>\n",
       "      <td>Singapore</td>\n",
       "      <td>Premium Sticker Mart</td>\n",
       "      <td>Kerneler Dark Mode</td>\n",
       "      <td>1622.0</td>\n",
       "      <td>2016</td>\n",
       "      <td>12</td>\n",
       "      <td>31</td>\n",
       "      <td>6</td>\n",
       "      <td>2556</td>\n",
       "      <td>...</td>\n",
       "      <td>None</td>\n",
       "      <td>3.187638e+11</td>\n",
       "      <td>1.000000</td>\n",
       "      <td>-2.449294e-16</td>\n",
       "      <td>-0.999991</td>\n",
       "      <td>-0.004298</td>\n",
       "      <td>1.000000</td>\n",
       "      <td>-4.898587e-16</td>\n",
       "      <td>1.00000</td>\n",
       "      <td>-9.797174e-16</td>\n",
       "    </tr>\n",
       "  </tbody>\n",
       "</table>\n",
       "<p>230130 rows × 21 columns</p>\n",
       "</div>"
      ],
      "text/plain": [
       "              date    country                 store             product  \\\n",
       "id                                                                        \n",
       "0       2010-01-01     Canada     Discount Stickers   Holographic Goose   \n",
       "1       2010-01-01     Canada     Discount Stickers              Kaggle   \n",
       "2       2010-01-01     Canada     Discount Stickers        Kaggle Tiers   \n",
       "3       2010-01-01     Canada     Discount Stickers            Kerneler   \n",
       "4       2010-01-01     Canada     Discount Stickers  Kerneler Dark Mode   \n",
       "...            ...        ...                   ...                 ...   \n",
       "230125  2016-12-31  Singapore  Premium Sticker Mart   Holographic Goose   \n",
       "230126  2016-12-31  Singapore  Premium Sticker Mart              Kaggle   \n",
       "230127  2016-12-31  Singapore  Premium Sticker Mart        Kaggle Tiers   \n",
       "230128  2016-12-31  Singapore  Premium Sticker Mart            Kerneler   \n",
       "230129  2016-12-31  Singapore  Premium Sticker Mart  Kerneler Dark Mode   \n",
       "\n",
       "        num_sold  year  month  day  weekday  days  ...         holiday  \\\n",
       "id                                                 ...                   \n",
       "0            NaN  2010      1    1        5     0  ...  New Year's Day   \n",
       "1          973.0  2010      1    1        5     0  ...  New Year's Day   \n",
       "2          906.0  2010      1    1        5     0  ...  New Year's Day   \n",
       "3          423.0  2010      1    1        5     0  ...  New Year's Day   \n",
       "4          491.0  2010      1    1        5     0  ...  New Year's Day   \n",
       "...          ...   ...    ...  ...      ...   ...  ...             ...   \n",
       "230125     466.0  2016     12   31        6  2556  ...            None   \n",
       "230126    2907.0  2016     12   31        6  2556  ...            None   \n",
       "230127    2299.0  2016     12   31        6  2556  ...            None   \n",
       "230128    1242.0  2016     12   31        6  2556  ...            None   \n",
       "230129    1622.0  2016     12   31        6  2556  ...            None   \n",
       "\n",
       "                 gdp        c1            s1        c2        s2        c3  \\\n",
       "id                                                                           \n",
       "0       1.617343e+12  0.999852  1.721336e-02  0.999963  0.008607  0.999407   \n",
       "1       1.617343e+12  0.999852  1.721336e-02  0.999963  0.008607  0.999407   \n",
       "2       1.617343e+12  0.999852  1.721336e-02  0.999963  0.008607  0.999407   \n",
       "3       1.617343e+12  0.999852  1.721336e-02  0.999963  0.008607  0.999407   \n",
       "4       1.617343e+12  0.999852  1.721336e-02  0.999963  0.008607  0.999407   \n",
       "...              ...       ...           ...       ...       ...       ...   \n",
       "230125  3.187638e+11  1.000000 -2.449294e-16 -0.999991 -0.004298  1.000000   \n",
       "230126  3.187638e+11  1.000000 -2.449294e-16 -0.999991 -0.004298  1.000000   \n",
       "230127  3.187638e+11  1.000000 -2.449294e-16 -0.999991 -0.004298  1.000000   \n",
       "230128  3.187638e+11  1.000000 -2.449294e-16 -0.999991 -0.004298  1.000000   \n",
       "230129  3.187638e+11  1.000000 -2.449294e-16 -0.999991 -0.004298  1.000000   \n",
       "\n",
       "                  s3       c4            s4  \n",
       "id                                           \n",
       "0       3.442161e-02  0.99763  6.880243e-02  \n",
       "1       3.442161e-02  0.99763  6.880243e-02  \n",
       "2       3.442161e-02  0.99763  6.880243e-02  \n",
       "3       3.442161e-02  0.99763  6.880243e-02  \n",
       "4       3.442161e-02  0.99763  6.880243e-02  \n",
       "...              ...      ...           ...  \n",
       "230125 -4.898587e-16  1.00000 -9.797174e-16  \n",
       "230126 -4.898587e-16  1.00000 -9.797174e-16  \n",
       "230127 -4.898587e-16  1.00000 -9.797174e-16  \n",
       "230128 -4.898587e-16  1.00000 -9.797174e-16  \n",
       "230129 -4.898587e-16  1.00000 -9.797174e-16  \n",
       "\n",
       "[230130 rows x 21 columns]"
      ]
     },
     "execution_count": 13,
     "metadata": {},
     "output_type": "execute_result"
    }
   ],
   "source": [
    "df_train"
   ]
  },
  {
   "cell_type": "code",
   "execution_count": 11,
   "id": "86f48a2b-51d2-4876-8fbe-19b68c8ea2de",
   "metadata": {},
   "outputs": [],
   "source": [
    "target = 'num_sold'\n",
    "X_nom = ['country', 'store', 'product', 'weekday', 'month', 'md']\n",
    "X_cat = X_nom\n",
    "X_num = ['days', 'day']"
   ]
  },
  {
   "cell_type": "code",
   "execution_count": 12,
   "id": "a234db66-b96d-44c6-9914-0ca22264901d",
   "metadata": {},
   "outputs": [
    {
     "data": {
      "text/plain": [
       "(min    2010-01-01\n",
       " max    2016-12-31\n",
       " Name: date, dtype: object,\n",
       " min    2017-01-01\n",
       " max    2019-12-31\n",
       " Name: date, dtype: object)"
      ]
     },
     "execution_count": 12,
     "metadata": {},
     "output_type": "execute_result"
    }
   ],
   "source": [
    "df_train['date'].agg(['min', 'max']), df_test['date'].agg(['min', 'max'])"
   ]
  },
  {
   "cell_type": "markdown",
   "id": "e1b68473-ce03-4be8-89f5-dd4f9194963f",
   "metadata": {},
   "source": [
    "# Target"
   ]
  },
  {
   "cell_type": "code",
   "execution_count": 10,
   "id": "1b5ef43b-80cf-429c-ad3d-584761975209",
   "metadata": {},
   "outputs": [
    {
     "data": {
      "text/html": [
       "<div>\n",
       "<style scoped>\n",
       "    .dataframe tbody tr th:only-of-type {\n",
       "        vertical-align: middle;\n",
       "    }\n",
       "\n",
       "    .dataframe tbody tr th {\n",
       "        vertical-align: top;\n",
       "    }\n",
       "\n",
       "    .dataframe thead th {\n",
       "        text-align: right;\n",
       "    }\n",
       "</style>\n",
       "<table border=\"1\" class=\"dataframe\">\n",
       "  <thead>\n",
       "    <tr style=\"text-align: right;\">\n",
       "      <th></th>\n",
       "      <th>count</th>\n",
       "      <th>mean</th>\n",
       "      <th>std</th>\n",
       "      <th>min</th>\n",
       "      <th>25%</th>\n",
       "      <th>50%</th>\n",
       "      <th>75%</th>\n",
       "      <th>max</th>\n",
       "    </tr>\n",
       "  </thead>\n",
       "  <tbody>\n",
       "    <tr>\n",
       "      <th>num_sold</th>\n",
       "      <td>221259.0</td>\n",
       "      <td>752.527405</td>\n",
       "      <td>690.165466</td>\n",
       "      <td>5.0</td>\n",
       "      <td>219.0</td>\n",
       "      <td>605.0</td>\n",
       "      <td>1114.0</td>\n",
       "      <td>5939.0</td>\n",
       "    </tr>\n",
       "  </tbody>\n",
       "</table>\n",
       "</div>"
      ],
      "text/plain": [
       "             count        mean         std  min    25%    50%     75%     max\n",
       "num_sold  221259.0  752.527405  690.165466  5.0  219.0  605.0  1114.0  5939.0"
      ]
     },
     "execution_count": 10,
     "metadata": {},
     "output_type": "execute_result"
    }
   ],
   "source": [
    "df_train[target].describe().to_frame().T"
   ]
  },
  {
   "cell_type": "code",
   "execution_count": 11,
   "id": "9622c730-e5a2-4144-ab84-0f3e9ab588f5",
   "metadata": {},
   "outputs": [
    {
     "data": {
      "image/png": "[encoded data removed]",
      "text/plain": [
       "<Figure size 1600x300 with 2 Axes>"
      ]
     },
     "metadata": {},
     "output_type": "display_data"
    }
   ],
   "source": [
    "fig, axes = plt.subplots(1, 2, figsize = (16, 3))\n",
    "sns.histplot(\n",
    "    df_train[target] , ax = axes[0]\n",
    ")\n",
    "\n",
    "sns.histplot(\n",
    "    np.log(df_train[target]).rename('log_num_sold') , ax = axes[1]\n",
    ")\n",
    "plt.tight_layout()\n",
    "plt.show()"
   ]
  },
  {
   "cell_type": "code",
   "execution_count": 12,
   "id": "53376dae-49dd-41a8-b1aa-a4d9769915fa",
   "metadata": {},
   "outputs": [
    {
     "data": {
      "text/plain": [
       "array([90])"
      ]
     },
     "execution_count": 12,
     "metadata": {},
     "output_type": "execute_result"
    }
   ],
   "source": [
    "df_train['date'].value_counts().unique()"
   ]
  },
  {
   "cell_type": "code",
   "execution_count": 13,
   "id": "8961dfb7-67be-474b-b47b-fe3b1e039dad",
   "metadata": {},
   "outputs": [
    {
     "data": {
      "text/html": [
       "<div>\n",
       "<style scoped>\n",
       "    .dataframe tbody tr th:only-of-type {\n",
       "        vertical-align: middle;\n",
       "    }\n",
       "\n",
       "    .dataframe tbody tr th {\n",
       "        vertical-align: top;\n",
       "    }\n",
       "\n",
       "    .dataframe thead th {\n",
       "        text-align: right;\n",
       "    }\n",
       "</style>\n",
       "<table border=\"1\" class=\"dataframe\">\n",
       "  <thead>\n",
       "    <tr style=\"text-align: right;\">\n",
       "      <th>na_cnt_by_date</th>\n",
       "      <th>3</th>\n",
       "      <th>2</th>\n",
       "      <th>4</th>\n",
       "      <th>5</th>\n",
       "      <th>6</th>\n",
       "      <th>7</th>\n",
       "    </tr>\n",
       "  </thead>\n",
       "  <tbody>\n",
       "    <tr>\n",
       "      <th>count of na_cnt_by_date</th>\n",
       "      <td>748</td>\n",
       "      <td>679</td>\n",
       "      <td>534</td>\n",
       "      <td>447</td>\n",
       "      <td>145</td>\n",
       "      <td>4</td>\n",
       "    </tr>\n",
       "  </tbody>\n",
       "</table>\n",
       "</div>"
      ],
      "text/plain": [
       "na_cnt_by_date             3    2    4    5    6  7\n",
       "count of na_cnt_by_date  748  679  534  447  145  4"
      ]
     },
     "execution_count": 13,
     "metadata": {},
     "output_type": "execute_result"
    }
   ],
   "source": [
    "df_train.groupby('date')[target].agg(lambda x: x.isna().sum()).rename('na_cnt_by_date').value_counts().rename('count of na_cnt_by_date').to_frame().T"
   ]
  },
  {
   "cell_type": "code",
   "execution_count": 14,
   "id": "83356b88-d9d1-4133-b3b7-c36a518929f8",
   "metadata": {},
   "outputs": [
    {
     "data": {
      "image/png": "[encoded data removed]",
      "text/plain": [
       "<Figure size 1600x300 with 1 Axes>"
      ]
     },
     "metadata": {},
     "output_type": "display_data"
    }
   ],
   "source": [
    "fig = plt.figure(figsize = (16, 3))\n",
    "sns.lineplot(\n",
    "    df_train.groupby('date')[target].agg(lambda x: x.sort_values(ascending = False).iloc[:-6].sum())\n",
    ")\n",
    "plt.show()"
   ]
  },
  {
   "cell_type": "markdown",
   "id": "539b35d0-53bf-42e3-8f33-83075a811089",
   "metadata": {},
   "source": [
    "# Categorical Variables"
   ]
  },
  {
   "cell_type": "code",
   "execution_count": 15,
   "id": "88aaf2a5-9234-474d-9e42-067a2f3ccdee",
   "metadata": {},
   "outputs": [
    {
     "data": {
      "text/html": [
       "<div>\n",
       "<style scoped>\n",
       "    .dataframe tbody tr th:only-of-type {\n",
       "        vertical-align: middle;\n",
       "    }\n",
       "\n",
       "    .dataframe tbody tr th {\n",
       "        vertical-align: top;\n",
       "    }\n",
       "\n",
       "    .dataframe thead th {\n",
       "        text-align: right;\n",
       "    }\n",
       "</style>\n",
       "<table border=\"1\" class=\"dataframe\">\n",
       "  <thead>\n",
       "    <tr style=\"text-align: right;\">\n",
       "      <th></th>\n",
       "      <th>country</th>\n",
       "      <th>store</th>\n",
       "      <th>product</th>\n",
       "      <th>weekday</th>\n",
       "      <th>month</th>\n",
       "      <th>md</th>\n",
       "      <th>y_8</th>\n",
       "      <th>y_2</th>\n",
       "    </tr>\n",
       "  </thead>\n",
       "  <tbody>\n",
       "    <tr>\n",
       "      <th>nunique</th>\n",
       "      <td>6</td>\n",
       "      <td>3</td>\n",
       "      <td>5</td>\n",
       "      <td>7</td>\n",
       "      <td>12</td>\n",
       "      <td>366</td>\n",
       "      <td>2</td>\n",
       "      <td>2</td>\n",
       "    </tr>\n",
       "  </tbody>\n",
       "</table>\n",
       "</div>"
      ],
      "text/plain": [
       "         country  store  product  weekday  month   md  y_8  y_2\n",
       "nunique        6      3        5        7     12  366    2    2"
      ]
     },
     "execution_count": 15,
     "metadata": {},
     "output_type": "execute_result"
    }
   ],
   "source": [
    "df_train[X_cat].apply(lambda x: x.nunique()).rename('nunique').to_frame().T"
   ]
  },
  {
   "cell_type": "code",
   "execution_count": 16,
   "id": "44f2f2d3-af41-4dd4-b0b1-e5a2b918b3d9",
   "metadata": {},
   "outputs": [
    {
     "data": {
      "text/html": [
       "<div>\n",
       "<style scoped>\n",
       "    .dataframe tbody tr th:only-of-type {\n",
       "        vertical-align: middle;\n",
       "    }\n",
       "\n",
       "    .dataframe tbody tr th {\n",
       "        vertical-align: top;\n",
       "    }\n",
       "\n",
       "    .dataframe thead th {\n",
       "        text-align: right;\n",
       "    }\n",
       "</style>\n",
       "<table border=\"1\" class=\"dataframe\">\n",
       "  <thead>\n",
       "    <tr style=\"text-align: right;\">\n",
       "      <th>country</th>\n",
       "      <th>Canada</th>\n",
       "      <th>Finland</th>\n",
       "      <th>Italy</th>\n",
       "      <th>Kenya</th>\n",
       "      <th>Norway</th>\n",
       "      <th>Singapore</th>\n",
       "    </tr>\n",
       "  </thead>\n",
       "  <tbody>\n",
       "    <tr>\n",
       "      <th>count</th>\n",
       "      <td>38355</td>\n",
       "      <td>38355</td>\n",
       "      <td>38355</td>\n",
       "      <td>38355</td>\n",
       "      <td>38355</td>\n",
       "      <td>38355</td>\n",
       "    </tr>\n",
       "  </tbody>\n",
       "</table>\n",
       "</div>"
      ],
      "text/plain": [
       "country  Canada  Finland  Italy  Kenya  Norway  Singapore\n",
       "count     38355    38355  38355  38355   38355      38355"
      ]
     },
     "metadata": {},
     "output_type": "display_data"
    },
    {
     "data": {
      "text/html": [
       "<div>\n",
       "<style scoped>\n",
       "    .dataframe tbody tr th:only-of-type {\n",
       "        vertical-align: middle;\n",
       "    }\n",
       "\n",
       "    .dataframe tbody tr th {\n",
       "        vertical-align: top;\n",
       "    }\n",
       "\n",
       "    .dataframe thead th {\n",
       "        text-align: right;\n",
       "    }\n",
       "</style>\n",
       "<table border=\"1\" class=\"dataframe\">\n",
       "  <thead>\n",
       "    <tr style=\"text-align: right;\">\n",
       "      <th>store</th>\n",
       "      <th>Discount Stickers</th>\n",
       "      <th>Stickers for Less</th>\n",
       "      <th>Premium Sticker Mart</th>\n",
       "    </tr>\n",
       "  </thead>\n",
       "  <tbody>\n",
       "    <tr>\n",
       "      <th>count</th>\n",
       "      <td>76710</td>\n",
       "      <td>76710</td>\n",
       "      <td>76710</td>\n",
       "    </tr>\n",
       "  </tbody>\n",
       "</table>\n",
       "</div>"
      ],
      "text/plain": [
       "store  Discount Stickers  Stickers for Less  Premium Sticker Mart\n",
       "count              76710              76710                 76710"
      ]
     },
     "metadata": {},
     "output_type": "display_data"
    },
    {
     "data": {
      "text/html": [
       "<div>\n",
       "<style scoped>\n",
       "    .dataframe tbody tr th:only-of-type {\n",
       "        vertical-align: middle;\n",
       "    }\n",
       "\n",
       "    .dataframe tbody tr th {\n",
       "        vertical-align: top;\n",
       "    }\n",
       "\n",
       "    .dataframe thead th {\n",
       "        text-align: right;\n",
       "    }\n",
       "</style>\n",
       "<table border=\"1\" class=\"dataframe\">\n",
       "  <thead>\n",
       "    <tr style=\"text-align: right;\">\n",
       "      <th>product</th>\n",
       "      <th>Holographic Goose</th>\n",
       "      <th>Kaggle</th>\n",
       "      <th>Kaggle Tiers</th>\n",
       "      <th>Kerneler</th>\n",
       "      <th>Kerneler Dark Mode</th>\n",
       "    </tr>\n",
       "  </thead>\n",
       "  <tbody>\n",
       "    <tr>\n",
       "      <th>count</th>\n",
       "      <td>46026</td>\n",
       "      <td>46026</td>\n",
       "      <td>46026</td>\n",
       "      <td>46026</td>\n",
       "      <td>46026</td>\n",
       "    </tr>\n",
       "  </tbody>\n",
       "</table>\n",
       "</div>"
      ],
      "text/plain": [
       "product  Holographic Goose  Kaggle  Kaggle Tiers  Kerneler  Kerneler Dark Mode\n",
       "count                46026   46026         46026     46026               46026"
      ]
     },
     "metadata": {},
     "output_type": "display_data"
    },
    {
     "data": {
      "text/html": [
       "<div>\n",
       "<style scoped>\n",
       "    .dataframe tbody tr th:only-of-type {\n",
       "        vertical-align: middle;\n",
       "    }\n",
       "\n",
       "    .dataframe tbody tr th {\n",
       "        vertical-align: top;\n",
       "    }\n",
       "\n",
       "    .dataframe thead th {\n",
       "        text-align: right;\n",
       "    }\n",
       "</style>\n",
       "<table border=\"1\" class=\"dataframe\">\n",
       "  <thead>\n",
       "    <tr style=\"text-align: right;\">\n",
       "      <th>weekday</th>\n",
       "      <th>5</th>\n",
       "      <th>6</th>\n",
       "      <th>7</th>\n",
       "      <th>1</th>\n",
       "      <th>2</th>\n",
       "      <th>3</th>\n",
       "      <th>4</th>\n",
       "    </tr>\n",
       "  </thead>\n",
       "  <tbody>\n",
       "    <tr>\n",
       "      <th>count</th>\n",
       "      <td>32940</td>\n",
       "      <td>32940</td>\n",
       "      <td>32850</td>\n",
       "      <td>32850</td>\n",
       "      <td>32850</td>\n",
       "      <td>32850</td>\n",
       "      <td>32850</td>\n",
       "    </tr>\n",
       "  </tbody>\n",
       "</table>\n",
       "</div>"
      ],
      "text/plain": [
       "weekday      5      6      7      1      2      3      4\n",
       "count    32940  32940  32850  32850  32850  32850  32850"
      ]
     },
     "metadata": {},
     "output_type": "display_data"
    },
    {
     "data": {
      "text/html": [
       "<div>\n",
       "<style scoped>\n",
       "    .dataframe tbody tr th:only-of-type {\n",
       "        vertical-align: middle;\n",
       "    }\n",
       "\n",
       "    .dataframe tbody tr th {\n",
       "        vertical-align: top;\n",
       "    }\n",
       "\n",
       "    .dataframe thead th {\n",
       "        text-align: right;\n",
       "    }\n",
       "</style>\n",
       "<table border=\"1\" class=\"dataframe\">\n",
       "  <thead>\n",
       "    <tr style=\"text-align: right;\">\n",
       "      <th>month</th>\n",
       "      <th>1</th>\n",
       "      <th>3</th>\n",
       "      <th>5</th>\n",
       "      <th>7</th>\n",
       "      <th>8</th>\n",
       "      <th>10</th>\n",
       "      <th>12</th>\n",
       "      <th>4</th>\n",
       "      <th>6</th>\n",
       "      <th>9</th>\n",
       "      <th>11</th>\n",
       "      <th>2</th>\n",
       "    </tr>\n",
       "  </thead>\n",
       "  <tbody>\n",
       "    <tr>\n",
       "      <th>count</th>\n",
       "      <td>19530</td>\n",
       "      <td>19530</td>\n",
       "      <td>19530</td>\n",
       "      <td>19530</td>\n",
       "      <td>19530</td>\n",
       "      <td>19530</td>\n",
       "      <td>19530</td>\n",
       "      <td>18900</td>\n",
       "      <td>18900</td>\n",
       "      <td>18900</td>\n",
       "      <td>18900</td>\n",
       "      <td>17820</td>\n",
       "    </tr>\n",
       "  </tbody>\n",
       "</table>\n",
       "</div>"
      ],
      "text/plain": [
       "month     1      3      5      7      8      10     12     4      6      9   \\\n",
       "count  19530  19530  19530  19530  19530  19530  19530  18900  18900  18900   \n",
       "\n",
       "month     11     2   \n",
       "count  18900  17820  "
      ]
     },
     "metadata": {},
     "output_type": "display_data"
    },
    {
     "data": {
      "text/html": [
       "<div>\n",
       "<style scoped>\n",
       "    .dataframe tbody tr th:only-of-type {\n",
       "        vertical-align: middle;\n",
       "    }\n",
       "\n",
       "    .dataframe tbody tr th {\n",
       "        vertical-align: top;\n",
       "    }\n",
       "\n",
       "    .dataframe thead th {\n",
       "        text-align: right;\n",
       "    }\n",
       "</style>\n",
       "<table border=\"1\" class=\"dataframe\">\n",
       "  <thead>\n",
       "    <tr style=\"text-align: right;\">\n",
       "      <th>md</th>\n",
       "      <th>01-01</th>\n",
       "      <th>09-09</th>\n",
       "      <th>09-07</th>\n",
       "      <th>09-06</th>\n",
       "      <th>09-05</th>\n",
       "      <th>09-04</th>\n",
       "      <th>09-03</th>\n",
       "      <th>09-02</th>\n",
       "      <th>09-01</th>\n",
       "      <th>08-31</th>\n",
       "      <th>...</th>\n",
       "      <th>04-27</th>\n",
       "      <th>05-05</th>\n",
       "      <th>05-04</th>\n",
       "      <th>05-03</th>\n",
       "      <th>05-02</th>\n",
       "      <th>05-01</th>\n",
       "      <th>04-30</th>\n",
       "      <th>04-29</th>\n",
       "      <th>04-28</th>\n",
       "      <th>02-29</th>\n",
       "    </tr>\n",
       "  </thead>\n",
       "  <tbody>\n",
       "    <tr>\n",
       "      <th>count</th>\n",
       "      <td>630</td>\n",
       "      <td>630</td>\n",
       "      <td>630</td>\n",
       "      <td>630</td>\n",
       "      <td>630</td>\n",
       "      <td>630</td>\n",
       "      <td>630</td>\n",
       "      <td>630</td>\n",
       "      <td>630</td>\n",
       "      <td>630</td>\n",
       "      <td>...</td>\n",
       "      <td>630</td>\n",
       "      <td>630</td>\n",
       "      <td>630</td>\n",
       "      <td>630</td>\n",
       "      <td>630</td>\n",
       "      <td>630</td>\n",
       "      <td>630</td>\n",
       "      <td>630</td>\n",
       "      <td>630</td>\n",
       "      <td>180</td>\n",
       "    </tr>\n",
       "  </tbody>\n",
       "</table>\n",
       "<p>1 rows × 366 columns</p>\n",
       "</div>"
      ],
      "text/plain": [
       "md     01-01  09-09  09-07  09-06  09-05  09-04  09-03  09-02  09-01  08-31  \\\n",
       "count    630    630    630    630    630    630    630    630    630    630   \n",
       "\n",
       "md     ...  04-27  05-05  05-04  05-03  05-02  05-01  04-30  04-29  04-28  \\\n",
       "count  ...    630    630    630    630    630    630    630    630    630   \n",
       "\n",
       "md     02-29  \n",
       "count    180  \n",
       "\n",
       "[1 rows x 366 columns]"
      ]
     },
     "metadata": {},
     "output_type": "display_data"
    },
    {
     "data": {
      "text/html": [
       "<div>\n",
       "<style scoped>\n",
       "    .dataframe tbody tr th:only-of-type {\n",
       "        vertical-align: middle;\n",
       "    }\n",
       "\n",
       "    .dataframe tbody tr th {\n",
       "        vertical-align: top;\n",
       "    }\n",
       "\n",
       "    .dataframe thead th {\n",
       "        text-align: right;\n",
       "    }\n",
       "</style>\n",
       "<table border=\"1\" class=\"dataframe\">\n",
       "  <thead>\n",
       "    <tr style=\"text-align: right;\">\n",
       "      <th>y_8</th>\n",
       "      <th>True</th>\n",
       "      <th>False</th>\n",
       "    </tr>\n",
       "  </thead>\n",
       "  <tbody>\n",
       "    <tr>\n",
       "      <th>count</th>\n",
       "      <td>131490</td>\n",
       "      <td>98640</td>\n",
       "    </tr>\n",
       "  </tbody>\n",
       "</table>\n",
       "</div>"
      ],
      "text/plain": [
       "y_8     True   False\n",
       "count  131490  98640"
      ]
     },
     "metadata": {},
     "output_type": "display_data"
    },
    {
     "data": {
      "text/html": [
       "<div>\n",
       "<style scoped>\n",
       "    .dataframe tbody tr th:only-of-type {\n",
       "        vertical-align: middle;\n",
       "    }\n",
       "\n",
       "    .dataframe tbody tr th {\n",
       "        vertical-align: top;\n",
       "    }\n",
       "\n",
       "    .dataframe thead th {\n",
       "        text-align: right;\n",
       "    }\n",
       "</style>\n",
       "<table border=\"1\" class=\"dataframe\">\n",
       "  <thead>\n",
       "    <tr style=\"text-align: right;\">\n",
       "      <th>y_2</th>\n",
       "      <th>0</th>\n",
       "      <th>1</th>\n",
       "    </tr>\n",
       "  </thead>\n",
       "  <tbody>\n",
       "    <tr>\n",
       "      <th>count</th>\n",
       "      <td>131580</td>\n",
       "      <td>98550</td>\n",
       "    </tr>\n",
       "  </tbody>\n",
       "</table>\n",
       "</div>"
      ],
      "text/plain": [
       "y_2         0      1\n",
       "count  131580  98550"
      ]
     },
     "metadata": {},
     "output_type": "display_data"
    }
   ],
   "source": [
    "for i in X_cat:\n",
    "    display(df_train[i].value_counts().to_frame().T)"
   ]
  },
  {
   "cell_type": "markdown",
   "id": "8dbfb11b-d9ab-48f0-822b-4c13d2965609",
   "metadata": {},
   "source": [
    "# Imputing NA in num_sold"
   ]
  },
  {
   "cell_type": "code",
   "execution_count": 17,
   "id": "5a3efc75-e3c8-4382-8035-f4e977d28b16",
   "metadata": {},
   "outputs": [
    {
     "data": {
      "text/plain": [
       "country    0.000000e+00\n",
       "store      0.000000e+00\n",
       "product    0.000000e+00\n",
       "weekday    8.483659e-44\n",
       "month      6.909299e-79\n",
       "md         3.966093e-04\n",
       "y_8        3.826558e-10\n",
       "y_2        2.092241e-01\n",
       "dtype: float64"
      ]
     },
     "execution_count": 17,
     "metadata": {},
     "output_type": "execute_result"
    }
   ],
   "source": [
    "df_train[X_cat].apply(\n",
    "    lambda x: chi2_contingency(pd.crosstab(index = x, columns = df_train[target].isna())).pvalue\n",
    ")"
   ]
  },
  {
   "cell_type": "code",
   "execution_count": 18,
   "id": "f238e6f0-2d90-4c48-8896-e63ff984990b",
   "metadata": {},
   "outputs": [
    {
     "data": {
      "text/html": [
       "<div>\n",
       "<style scoped>\n",
       "    .dataframe tbody tr th:only-of-type {\n",
       "        vertical-align: middle;\n",
       "    }\n",
       "\n",
       "    .dataframe tbody tr th {\n",
       "        vertical-align: top;\n",
       "    }\n",
       "\n",
       "    .dataframe thead th {\n",
       "        text-align: right;\n",
       "    }\n",
       "</style>\n",
       "<table border=\"1\" class=\"dataframe\">\n",
       "  <thead>\n",
       "    <tr style=\"text-align: right;\">\n",
       "      <th>country</th>\n",
       "      <th>Canada</th>\n",
       "      <th>Finland</th>\n",
       "      <th>Italy</th>\n",
       "      <th>Kenya</th>\n",
       "      <th>Norway</th>\n",
       "      <th>Singapore</th>\n",
       "    </tr>\n",
       "    <tr>\n",
       "      <th>num_sold</th>\n",
       "      <th></th>\n",
       "      <th></th>\n",
       "      <th></th>\n",
       "      <th></th>\n",
       "      <th></th>\n",
       "      <th></th>\n",
       "    </tr>\n",
       "  </thead>\n",
       "  <tbody>\n",
       "    <tr>\n",
       "      <th>False</th>\n",
       "      <td>34109</td>\n",
       "      <td>38355</td>\n",
       "      <td>38355</td>\n",
       "      <td>33730</td>\n",
       "      <td>38355</td>\n",
       "      <td>38355</td>\n",
       "    </tr>\n",
       "    <tr>\n",
       "      <th>True</th>\n",
       "      <td>4246</td>\n",
       "      <td>0</td>\n",
       "      <td>0</td>\n",
       "      <td>4625</td>\n",
       "      <td>0</td>\n",
       "      <td>0</td>\n",
       "    </tr>\n",
       "  </tbody>\n",
       "</table>\n",
       "</div>"
      ],
      "text/plain": [
       "country   Canada  Finland  Italy  Kenya  Norway  Singapore\n",
       "num_sold                                                  \n",
       "False      34109    38355  38355  33730   38355      38355\n",
       "True        4246        0      0   4625       0          0"
      ]
     },
     "execution_count": 18,
     "metadata": {},
     "output_type": "execute_result"
    }
   ],
   "source": [
    "pd.crosstab(index = df_train['country'], columns = df_train[target].isna()).T"
   ]
  },
  {
   "cell_type": "code",
   "execution_count": 19,
   "id": "4a5e7b1a-0793-4087-bc2e-2343acb4a7d5",
   "metadata": {},
   "outputs": [
    {
     "data": {
      "text/html": [
       "<div>\n",
       "<style scoped>\n",
       "    .dataframe tbody tr th:only-of-type {\n",
       "        vertical-align: middle;\n",
       "    }\n",
       "\n",
       "    .dataframe tbody tr th {\n",
       "        vertical-align: top;\n",
       "    }\n",
       "\n",
       "    .dataframe thead th {\n",
       "        text-align: right;\n",
       "    }\n",
       "</style>\n",
       "<table border=\"1\" class=\"dataframe\">\n",
       "  <thead>\n",
       "    <tr style=\"text-align: right;\">\n",
       "      <th>product</th>\n",
       "      <th>Holographic Goose</th>\n",
       "      <th>Kaggle</th>\n",
       "      <th>Kaggle Tiers</th>\n",
       "      <th>Kerneler</th>\n",
       "      <th>Kerneler Dark Mode</th>\n",
       "    </tr>\n",
       "    <tr>\n",
       "      <th>num_sold</th>\n",
       "      <th></th>\n",
       "      <th></th>\n",
       "      <th></th>\n",
       "      <th></th>\n",
       "      <th></th>\n",
       "    </tr>\n",
       "  </thead>\n",
       "  <tbody>\n",
       "    <tr>\n",
       "      <th>False</th>\n",
       "      <td>37220</td>\n",
       "      <td>46026</td>\n",
       "      <td>46026</td>\n",
       "      <td>45962</td>\n",
       "      <td>46025</td>\n",
       "    </tr>\n",
       "    <tr>\n",
       "      <th>True</th>\n",
       "      <td>8806</td>\n",
       "      <td>0</td>\n",
       "      <td>0</td>\n",
       "      <td>64</td>\n",
       "      <td>1</td>\n",
       "    </tr>\n",
       "  </tbody>\n",
       "</table>\n",
       "</div>"
      ],
      "text/plain": [
       "product   Holographic Goose  Kaggle  Kaggle Tiers  Kerneler  \\\n",
       "num_sold                                                      \n",
       "False                 37220   46026         46026     45962   \n",
       "True                   8806       0             0        64   \n",
       "\n",
       "product   Kerneler Dark Mode  \n",
       "num_sold                      \n",
       "False                  46025  \n",
       "True                       1  "
      ]
     },
     "execution_count": 19,
     "metadata": {},
     "output_type": "execute_result"
    }
   ],
   "source": [
    "pd.crosstab(index = df_train['product'], columns = df_train[target].isna()).T"
   ]
  },
  {
   "cell_type": "code",
   "execution_count": 20,
   "id": "633c7d5a-0809-48bb-a412-dc92b3b097c8",
   "metadata": {},
   "outputs": [
    {
     "data": {
      "text/html": [
       "<div>\n",
       "<style scoped>\n",
       "    .dataframe tbody tr th:only-of-type {\n",
       "        vertical-align: middle;\n",
       "    }\n",
       "\n",
       "    .dataframe tbody tr th {\n",
       "        vertical-align: top;\n",
       "    }\n",
       "\n",
       "    .dataframe thead th {\n",
       "        text-align: right;\n",
       "    }\n",
       "</style>\n",
       "<table border=\"1\" class=\"dataframe\">\n",
       "  <thead>\n",
       "    <tr style=\"text-align: right;\">\n",
       "      <th>store</th>\n",
       "      <th>Discount Stickers</th>\n",
       "      <th>Stickers for Less</th>\n",
       "      <th>Premium Sticker Mart</th>\n",
       "    </tr>\n",
       "    <tr>\n",
       "      <th>num_sold</th>\n",
       "      <th></th>\n",
       "      <th></th>\n",
       "      <th></th>\n",
       "    </tr>\n",
       "  </thead>\n",
       "  <tbody>\n",
       "    <tr>\n",
       "      <th>False</th>\n",
       "      <td>71531</td>\n",
       "      <td>74044</td>\n",
       "      <td>75684</td>\n",
       "    </tr>\n",
       "    <tr>\n",
       "      <th>True</th>\n",
       "      <td>5179</td>\n",
       "      <td>2666</td>\n",
       "      <td>1026</td>\n",
       "    </tr>\n",
       "  </tbody>\n",
       "</table>\n",
       "</div>"
      ],
      "text/plain": [
       "store     Discount Stickers  Stickers for Less  Premium Sticker Mart\n",
       "num_sold                                                            \n",
       "False                 71531              74044                 75684\n",
       "True                   5179               2666                  1026"
      ]
     },
     "execution_count": 20,
     "metadata": {},
     "output_type": "execute_result"
    }
   ],
   "source": [
    "pd.crosstab(index = df_train['store'], columns = df_train[target].isna()).T"
   ]
  },
  {
   "cell_type": "code",
   "execution_count": 21,
   "id": "a160c39a-4403-43c0-bc3a-f1c5397b7808",
   "metadata": {},
   "outputs": [
    {
     "data": {
      "text/plain": [
       "store                 product          \n",
       "Discount Stickers     Holographic Goose    2557\n",
       "Stickers for Less     Holographic Goose    1308\n",
       "Premium Sticker Mart  Holographic Goose     380\n",
       "Discount Stickers     Kerneler                1\n",
       "Name: count, dtype: int64"
      ]
     },
     "execution_count": 21,
     "metadata": {},
     "output_type": "execute_result"
    }
   ],
   "source": [
    "df_train.loc[(df_train['country'] == 'Canada') & (df_train[target].isna()), ['store', 'product']].value_counts()"
   ]
  },
  {
   "cell_type": "code",
   "execution_count": 22,
   "id": "dbbe8ae1-62cb-4030-9249-c0d53ed25342",
   "metadata": {},
   "outputs": [
    {
     "data": {
      "text/plain": [
       "store                 product           \n",
       "Discount Stickers     Holographic Goose     2557\n",
       "Stickers for Less     Holographic Goose     1358\n",
       "Premium Sticker Mart  Holographic Goose      646\n",
       "Discount Stickers     Kerneler                63\n",
       "                      Kerneler Dark Mode       1\n",
       "Name: count, dtype: int64"
      ]
     },
     "execution_count": 22,
     "metadata": {},
     "output_type": "execute_result"
    }
   ],
   "source": [
    "df_train.loc[(df_train['country'] == 'Kenya') & (df_train[target].isna()), ['store', 'product']].value_counts()"
   ]
  },
  {
   "cell_type": "code",
   "execution_count": 23,
   "id": "882412b7-c7f9-4995-9c13-d23823da55be",
   "metadata": {},
   "outputs": [
    {
     "data": {
      "image/png": "[encoded data removed]",
      "text/plain": [
       "<Figure size 1600x300 with 1 Axes>"
      ]
     },
     "metadata": {},
     "output_type": "display_data"
    }
   ],
   "source": [
    "plt.figure(figsize = (16, 3))\n",
    "sns.barplot(\n",
    "    df_train.loc[(df_train['country'].isin(['Canada'])) & (df_train['product'] == \"Holographic Goose\") & (df_train['store'] == \"Stickers for Less\")],\n",
    "    x = 'days', y = target\n",
    ")\n",
    "xticks = plt.gca().get_xticks() \n",
    "xtick_labels = plt.gca().get_xticklabels()  # 현재 x축 레이블 가져오기\n",
    "# 일부 레이블만 표시\n",
    "plt.xticks(xticks[::50], [label.get_text() for label in xtick_labels][::50], rotation=45) \n",
    "plt.show()"
   ]
  },
  {
   "cell_type": "code",
   "execution_count": 24,
   "id": "4272fa26-3dcf-4d05-b010-e586570b2145",
   "metadata": {},
   "outputs": [
    {
     "data": {
      "image/png": "[encoded data removed]",
      "text/plain": [
       "<Figure size 1600x300 with 1 Axes>"
      ]
     },
     "metadata": {},
     "output_type": "display_data"
    }
   ],
   "source": [
    "plt.figure(figsize = (16, 3))\n",
    "sns.barplot(\n",
    "    df_train.loc[(df_train['country'].isin(['Kenya'])) & (df_train['product'] == \"Holographic Goose\") & (df_train['store'] == \"Stickers for Less\")],\n",
    "    x = 'days', y = target\n",
    ")\n",
    "xticks = plt.gca().get_xticks() \n",
    "xtick_labels = plt.gca().get_xticklabels()  # 현재 x축 레이블 가져오기\n",
    "# 일부 레이블만 표시\n",
    "plt.xticks(xticks[::50], [label.get_text() for label in xtick_labels][::50], rotation=45) \n",
    "plt.show()"
   ]
  },
  {
   "cell_type": "code",
   "execution_count": 25,
   "id": "64b01524-5f6e-4ea9-a642-02072cfc46b4",
   "metadata": {},
   "outputs": [
    {
     "data": {
      "image/png": "[encoded data removed]",
      "text/plain": [
       "<Figure size 1600x300 with 1 Axes>"
      ]
     },
     "metadata": {},
     "output_type": "display_data"
    }
   ],
   "source": [
    "plt.figure(figsize = (16, 3))\n",
    "sns.barplot(\n",
    "    df_train.loc[(df_train['country'].isin(['Canada'])) & (df_train['product'] == \"Holographic Goose\") & (df_train['store'] == \"Premium Sticker Mart\")],\n",
    "    x = 'days', y = target\n",
    ")\n",
    "xticks = plt.gca().get_xticks() \n",
    "xtick_labels = plt.gca().get_xticklabels()  # 현재 x축 레이블 가져오기\n",
    "# 일부 레이블만 표시\n",
    "plt.xticks(xticks[::50], [label.get_text() for label in xtick_labels][::50], rotation=45) \n",
    "plt.show()"
   ]
  },
  {
   "cell_type": "code",
   "execution_count": 26,
   "id": "5514279e-95b7-4e6d-b6f0-a5b6fd695080",
   "metadata": {},
   "outputs": [
    {
     "data": {
      "image/png": "[encoded data removed]",
      "text/plain": [
       "<Figure size 1600x300 with 1 Axes>"
      ]
     },
     "metadata": {},
     "output_type": "display_data"
    }
   ],
   "source": [
    "plt.figure(figsize = (16, 3))\n",
    "sns.barplot(\n",
    "    df_train.loc[(df_train['country'].isin(['Kenya'])) & (df_train['product'] == \"Holographic Goose\") & (df_train['store'] == \"Premium Sticker Mart\")],\n",
    "    x = 'days', y = target\n",
    ")\n",
    "xticks = plt.gca().get_xticks() \n",
    "xtick_labels = plt.gca().get_xticklabels()  # 현재 x축 레이블 가져오기\n",
    "# 일부 레이블만 표시\n",
    "plt.xticks(xticks[::50], [label.get_text() for label in xtick_labels][::50], rotation=45) \n",
    "plt.show()"
   ]
  },
  {
   "cell_type": "code",
   "execution_count": 27,
   "id": "14275922-d2fd-46d6-9fe0-42513f84317c",
   "metadata": {},
   "outputs": [
    {
     "data": {
      "text/html": [
       "<div>\n",
       "<style scoped>\n",
       "    .dataframe tbody tr th:only-of-type {\n",
       "        vertical-align: middle;\n",
       "    }\n",
       "\n",
       "    .dataframe tbody tr th {\n",
       "        vertical-align: top;\n",
       "    }\n",
       "\n",
       "    .dataframe thead th {\n",
       "        text-align: right;\n",
       "    }\n",
       "</style>\n",
       "<table border=\"1\" class=\"dataframe\">\n",
       "  <thead>\n",
       "    <tr style=\"text-align: right;\">\n",
       "      <th></th>\n",
       "      <th>date</th>\n",
       "      <th>country</th>\n",
       "      <th>store</th>\n",
       "      <th>product</th>\n",
       "      <th>num_sold</th>\n",
       "      <th>year</th>\n",
       "      <th>month</th>\n",
       "      <th>day</th>\n",
       "      <th>weekday</th>\n",
       "      <th>days</th>\n",
       "      <th>y_8</th>\n",
       "      <th>y_2</th>\n",
       "      <th>md</th>\n",
       "    </tr>\n",
       "    <tr>\n",
       "      <th>id</th>\n",
       "      <th></th>\n",
       "      <th></th>\n",
       "      <th></th>\n",
       "      <th></th>\n",
       "      <th></th>\n",
       "      <th></th>\n",
       "      <th></th>\n",
       "      <th></th>\n",
       "      <th></th>\n",
       "      <th></th>\n",
       "      <th></th>\n",
       "      <th></th>\n",
       "      <th></th>\n",
       "    </tr>\n",
       "  </thead>\n",
       "  <tbody>\n",
       "    <tr>\n",
       "      <th>23719</th>\n",
       "      <td>2010-09-21</td>\n",
       "      <td>Kenya</td>\n",
       "      <td>Discount Stickers</td>\n",
       "      <td>Kerneler Dark Mode</td>\n",
       "      <td>NaN</td>\n",
       "      <td>2010</td>\n",
       "      <td>9</td>\n",
       "      <td>21</td>\n",
       "      <td>2</td>\n",
       "      <td>263</td>\n",
       "      <td>False</td>\n",
       "      <td>0</td>\n",
       "      <td>09-21</td>\n",
       "    </tr>\n",
       "  </tbody>\n",
       "</table>\n",
       "</div>"
      ],
      "text/plain": [
       "            date country              store             product  num_sold  \\\n",
       "id                                                                          \n",
       "23719 2010-09-21   Kenya  Discount Stickers  Kerneler Dark Mode       NaN   \n",
       "\n",
       "       year  month  day  weekday  days    y_8  y_2     md  \n",
       "id                                                         \n",
       "23719  2010      9   21        2   263  False    0  09-21  "
      ]
     },
     "execution_count": 27,
     "metadata": {},
     "output_type": "execute_result"
    }
   ],
   "source": [
    "df_train.loc[(df_train['product'] == 'Kerneler Dark Mode') & df_train[target].isna()]"
   ]
  },
  {
   "cell_type": "code",
   "execution_count": 28,
   "id": "18c7b565-68f7-4519-96ea-83b6fc16361d",
   "metadata": {},
   "outputs": [
    {
     "data": {
      "text/html": [
       "<div>\n",
       "<style scoped>\n",
       "    .dataframe tbody tr th:only-of-type {\n",
       "        vertical-align: middle;\n",
       "    }\n",
       "\n",
       "    .dataframe tbody tr th {\n",
       "        vertical-align: top;\n",
       "    }\n",
       "\n",
       "    .dataframe thead th {\n",
       "        text-align: right;\n",
       "    }\n",
       "</style>\n",
       "<table border=\"1\" class=\"dataframe\">\n",
       "  <thead>\n",
       "    <tr style=\"text-align: right;\">\n",
       "      <th></th>\n",
       "      <th>date</th>\n",
       "      <th>country</th>\n",
       "      <th>store</th>\n",
       "      <th>product</th>\n",
       "      <th>num_sold</th>\n",
       "      <th>year</th>\n",
       "      <th>month</th>\n",
       "      <th>day</th>\n",
       "      <th>weekday</th>\n",
       "      <th>days</th>\n",
       "      <th>y_8</th>\n",
       "      <th>y_2</th>\n",
       "      <th>md</th>\n",
       "    </tr>\n",
       "    <tr>\n",
       "      <th>id</th>\n",
       "      <th></th>\n",
       "      <th></th>\n",
       "      <th></th>\n",
       "      <th></th>\n",
       "      <th></th>\n",
       "      <th></th>\n",
       "      <th></th>\n",
       "      <th></th>\n",
       "      <th></th>\n",
       "      <th></th>\n",
       "      <th></th>\n",
       "      <th></th>\n",
       "      <th></th>\n",
       "    </tr>\n",
       "  </thead>\n",
       "  <tbody>\n",
       "    <tr>\n",
       "      <th>23629</th>\n",
       "      <td>2010-09-20</td>\n",
       "      <td>Kenya</td>\n",
       "      <td>Discount Stickers</td>\n",
       "      <td>Kerneler Dark Mode</td>\n",
       "      <td>5.0</td>\n",
       "      <td>2010</td>\n",
       "      <td>9</td>\n",
       "      <td>20</td>\n",
       "      <td>1</td>\n",
       "      <td>262</td>\n",
       "      <td>False</td>\n",
       "      <td>0</td>\n",
       "      <td>09-20</td>\n",
       "    </tr>\n",
       "    <tr>\n",
       "      <th>23634</th>\n",
       "      <td>2010-09-20</td>\n",
       "      <td>Kenya</td>\n",
       "      <td>Stickers for Less</td>\n",
       "      <td>Kerneler Dark Mode</td>\n",
       "      <td>10.0</td>\n",
       "      <td>2010</td>\n",
       "      <td>9</td>\n",
       "      <td>20</td>\n",
       "      <td>1</td>\n",
       "      <td>262</td>\n",
       "      <td>False</td>\n",
       "      <td>0</td>\n",
       "      <td>09-20</td>\n",
       "    </tr>\n",
       "    <tr>\n",
       "      <th>23639</th>\n",
       "      <td>2010-09-20</td>\n",
       "      <td>Kenya</td>\n",
       "      <td>Premium Sticker Mart</td>\n",
       "      <td>Kerneler Dark Mode</td>\n",
       "      <td>13.0</td>\n",
       "      <td>2010</td>\n",
       "      <td>9</td>\n",
       "      <td>20</td>\n",
       "      <td>1</td>\n",
       "      <td>262</td>\n",
       "      <td>False</td>\n",
       "      <td>0</td>\n",
       "      <td>09-20</td>\n",
       "    </tr>\n",
       "    <tr>\n",
       "      <th>23809</th>\n",
       "      <td>2010-09-22</td>\n",
       "      <td>Kenya</td>\n",
       "      <td>Discount Stickers</td>\n",
       "      <td>Kerneler Dark Mode</td>\n",
       "      <td>5.0</td>\n",
       "      <td>2010</td>\n",
       "      <td>9</td>\n",
       "      <td>22</td>\n",
       "      <td>3</td>\n",
       "      <td>264</td>\n",
       "      <td>False</td>\n",
       "      <td>0</td>\n",
       "      <td>09-22</td>\n",
       "    </tr>\n",
       "    <tr>\n",
       "      <th>23814</th>\n",
       "      <td>2010-09-22</td>\n",
       "      <td>Kenya</td>\n",
       "      <td>Stickers for Less</td>\n",
       "      <td>Kerneler Dark Mode</td>\n",
       "      <td>11.0</td>\n",
       "      <td>2010</td>\n",
       "      <td>9</td>\n",
       "      <td>22</td>\n",
       "      <td>3</td>\n",
       "      <td>264</td>\n",
       "      <td>False</td>\n",
       "      <td>0</td>\n",
       "      <td>09-22</td>\n",
       "    </tr>\n",
       "    <tr>\n",
       "      <th>23819</th>\n",
       "      <td>2010-09-22</td>\n",
       "      <td>Kenya</td>\n",
       "      <td>Premium Sticker Mart</td>\n",
       "      <td>Kerneler Dark Mode</td>\n",
       "      <td>13.0</td>\n",
       "      <td>2010</td>\n",
       "      <td>9</td>\n",
       "      <td>22</td>\n",
       "      <td>3</td>\n",
       "      <td>264</td>\n",
       "      <td>False</td>\n",
       "      <td>0</td>\n",
       "      <td>09-22</td>\n",
       "    </tr>\n",
       "  </tbody>\n",
       "</table>\n",
       "</div>"
      ],
      "text/plain": [
       "            date country                 store             product  num_sold  \\\n",
       "id                                                                             \n",
       "23629 2010-09-20   Kenya     Discount Stickers  Kerneler Dark Mode       5.0   \n",
       "23634 2010-09-20   Kenya     Stickers for Less  Kerneler Dark Mode      10.0   \n",
       "23639 2010-09-20   Kenya  Premium Sticker Mart  Kerneler Dark Mode      13.0   \n",
       "23809 2010-09-22   Kenya     Discount Stickers  Kerneler Dark Mode       5.0   \n",
       "23814 2010-09-22   Kenya     Stickers for Less  Kerneler Dark Mode      11.0   \n",
       "23819 2010-09-22   Kenya  Premium Sticker Mart  Kerneler Dark Mode      13.0   \n",
       "\n",
       "       year  month  day  weekday  days    y_8  y_2     md  \n",
       "id                                                         \n",
       "23629  2010      9   20        1   262  False    0  09-20  \n",
       "23634  2010      9   20        1   262  False    0  09-20  \n",
       "23639  2010      9   20        1   262  False    0  09-20  \n",
       "23809  2010      9   22        3   264  False    0  09-22  \n",
       "23814  2010      9   22        3   264  False    0  09-22  \n",
       "23819  2010      9   22        3   264  False    0  09-22  "
      ]
     },
     "execution_count": 28,
     "metadata": {},
     "output_type": "execute_result"
    }
   ],
   "source": [
    "df_train.loc[(df_train['product'] == 'Kerneler Dark Mode') & (df_train['country'] == 'Kenya') & df_train['days'].isin([262, 264])]"
   ]
  },
  {
   "cell_type": "code",
   "execution_count": 29,
   "id": "546f7e56-bc5b-4e6d-adda-dbf2b0def51d",
   "metadata": {},
   "outputs": [],
   "source": [
    "df_train.loc[df_train['product'] == 'Kerneler Dark Mode', target] = df_train.loc[df_train['product'] == 'Kerneler Dark Mode', target].fillna(5)\n",
    "df_train.loc[(df_train['product'] == 'Kerneler'), target] = \\\n",
    "    df_train.loc[(df_train['product'] == 'Kerneler')].groupby(['country', 'store'], observed = False)[target].transform(\n",
    "        lambda x: x.interpolate()\n",
    "    )"
   ]
  },
  {
   "cell_type": "code",
   "execution_count": 30,
   "id": "1697ba10-2244-4c30-a066-9d72175f166f",
   "metadata": {},
   "outputs": [
    {
     "data": {
      "text/html": [
       "<div>\n",
       "<style scoped>\n",
       "    .dataframe tbody tr th:only-of-type {\n",
       "        vertical-align: middle;\n",
       "    }\n",
       "\n",
       "    .dataframe tbody tr th {\n",
       "        vertical-align: top;\n",
       "    }\n",
       "\n",
       "    .dataframe thead th {\n",
       "        text-align: right;\n",
       "    }\n",
       "</style>\n",
       "<table border=\"1\" class=\"dataframe\">\n",
       "  <thead>\n",
       "    <tr style=\"text-align: right;\">\n",
       "      <th>na_cnt_by_date</th>\n",
       "      <th>3</th>\n",
       "      <th>2</th>\n",
       "      <th>4</th>\n",
       "      <th>5</th>\n",
       "      <th>6</th>\n",
       "    </tr>\n",
       "  </thead>\n",
       "  <tbody>\n",
       "    <tr>\n",
       "      <th>count of na_cnt_by_date</th>\n",
       "      <td>751</td>\n",
       "      <td>679</td>\n",
       "      <td>547</td>\n",
       "      <td>473</td>\n",
       "      <td>107</td>\n",
       "    </tr>\n",
       "  </tbody>\n",
       "</table>\n",
       "</div>"
      ],
      "text/plain": [
       "na_cnt_by_date             3    2    4    5    6\n",
       "count of na_cnt_by_date  751  679  547  473  107"
      ]
     },
     "execution_count": 30,
     "metadata": {},
     "output_type": "execute_result"
    }
   ],
   "source": [
    "df_train.groupby('date')[target].agg(lambda x: x.isna().sum()).rename('na_cnt_by_date').value_counts().rename('count of na_cnt_by_date').to_frame().T"
   ]
  },
  {
   "cell_type": "code",
   "execution_count": 31,
   "id": "6353717d-6bf1-46a9-83e3-5a7e97fe881e",
   "metadata": {},
   "outputs": [
    {
     "data": {
      "text/plain": [
       "0"
      ]
     },
     "execution_count": 31,
     "metadata": {},
     "output_type": "execute_result"
    }
   ],
   "source": [
    "df_train.loc[df_train['product'] != 'Holographic Goose', target].isna().sum()"
   ]
  },
  {
   "cell_type": "code",
   "execution_count": 32,
   "id": "9f577361-367d-4090-aef4-a79d239012ce",
   "metadata": {},
   "outputs": [
    {
     "data": {
      "text/plain": [
       "0"
      ]
     },
     "execution_count": 32,
     "metadata": {},
     "output_type": "execute_result"
    }
   ],
   "source": [
    "df_train.loc[~df_train['country'].isin(['Canada', 'Kenya']), target].isna().sum()"
   ]
  },
  {
   "cell_type": "code",
   "execution_count": 33,
   "id": "4b202ec1-829a-4351-afe5-2d858b40b00f",
   "metadata": {},
   "outputs": [
    {
     "data": {
      "text/html": [
       "<div>\n",
       "<style scoped>\n",
       "    .dataframe tbody tr th:only-of-type {\n",
       "        vertical-align: middle;\n",
       "    }\n",
       "\n",
       "    .dataframe tbody tr th {\n",
       "        vertical-align: top;\n",
       "    }\n",
       "\n",
       "    .dataframe thead th {\n",
       "        text-align: right;\n",
       "    }\n",
       "</style>\n",
       "<table border=\"1\" class=\"dataframe\">\n",
       "  <thead>\n",
       "    <tr style=\"text-align: right;\">\n",
       "      <th>product</th>\n",
       "      <th>Holographic Goose</th>\n",
       "      <th>Kaggle</th>\n",
       "      <th>Kaggle Tiers</th>\n",
       "      <th>Kerneler</th>\n",
       "      <th>Kerneler Dark Mode</th>\n",
       "    </tr>\n",
       "    <tr>\n",
       "      <th>days</th>\n",
       "      <th></th>\n",
       "      <th></th>\n",
       "      <th></th>\n",
       "      <th></th>\n",
       "      <th></th>\n",
       "    </tr>\n",
       "  </thead>\n",
       "  <tbody>\n",
       "    <tr>\n",
       "      <th>0</th>\n",
       "      <td>0.052199</td>\n",
       "      <td>0.329210</td>\n",
       "      <td>0.289181</td>\n",
       "      <td>0.154402</td>\n",
       "      <td>0.175008</td>\n",
       "    </tr>\n",
       "    <tr>\n",
       "      <th>1</th>\n",
       "      <td>0.051393</td>\n",
       "      <td>0.331010</td>\n",
       "      <td>0.290622</td>\n",
       "      <td>0.148871</td>\n",
       "      <td>0.178105</td>\n",
       "    </tr>\n",
       "    <tr>\n",
       "      <th>2</th>\n",
       "      <td>0.051953</td>\n",
       "      <td>0.332878</td>\n",
       "      <td>0.289431</td>\n",
       "      <td>0.150612</td>\n",
       "      <td>0.175125</td>\n",
       "    </tr>\n",
       "    <tr>\n",
       "      <th>3</th>\n",
       "      <td>0.052749</td>\n",
       "      <td>0.325723</td>\n",
       "      <td>0.297911</td>\n",
       "      <td>0.146376</td>\n",
       "      <td>0.177240</td>\n",
       "    </tr>\n",
       "    <tr>\n",
       "      <th>4</th>\n",
       "      <td>0.051869</td>\n",
       "      <td>0.329591</td>\n",
       "      <td>0.290967</td>\n",
       "      <td>0.147771</td>\n",
       "      <td>0.179801</td>\n",
       "    </tr>\n",
       "  </tbody>\n",
       "</table>\n",
       "</div>"
      ],
      "text/plain": [
       "product  Holographic Goose    Kaggle  Kaggle Tiers  Kerneler  \\\n",
       "days                                                           \n",
       "0                 0.052199  0.329210      0.289181  0.154402   \n",
       "1                 0.051393  0.331010      0.290622  0.148871   \n",
       "2                 0.051953  0.332878      0.289431  0.150612   \n",
       "3                 0.052749  0.325723      0.297911  0.146376   \n",
       "4                 0.051869  0.329591      0.290967  0.147771   \n",
       "\n",
       "product  Kerneler Dark Mode  \n",
       "days                         \n",
       "0                  0.175008  \n",
       "1                  0.178105  \n",
       "2                  0.175125  \n",
       "3                  0.177240  \n",
       "4                  0.179801  "
      ]
     },
     "execution_count": 33,
     "metadata": {},
     "output_type": "execute_result"
    }
   ],
   "source": [
    "df_ratio_product = df_train.loc[~df_train['country'].isin(['Canada', 'Kenya'])].pipe(\n",
    "    lambda x: x.pivot_table(index = x['days'], columns = x['product'], values=target, aggfunc = 'sum', observed = True)\n",
    ").pipe(\n",
    "    lambda x: x.divide(x.sum(axis=1), axis = 0)\n",
    ")\n",
    "df_ratio_product.head()"
   ]
  },
  {
   "cell_type": "code",
   "execution_count": 34,
   "id": "5cde6b7b-d6dd-4430-b5d1-ea99afa8cde2",
   "metadata": {},
   "outputs": [
    {
     "data": {
      "text/html": [
       "<div>\n",
       "<style scoped>\n",
       "    .dataframe tbody tr th:only-of-type {\n",
       "        vertical-align: middle;\n",
       "    }\n",
       "\n",
       "    .dataframe tbody tr th {\n",
       "        vertical-align: top;\n",
       "    }\n",
       "\n",
       "    .dataframe thead th {\n",
       "        text-align: right;\n",
       "    }\n",
       "</style>\n",
       "<table border=\"1\" class=\"dataframe\">\n",
       "  <thead>\n",
       "    <tr style=\"text-align: right;\">\n",
       "      <th>country</th>\n",
       "      <th>Canada</th>\n",
       "      <th>Finland</th>\n",
       "      <th>Italy</th>\n",
       "      <th>Kenya</th>\n",
       "      <th>Norway</th>\n",
       "      <th>Singapore</th>\n",
       "    </tr>\n",
       "    <tr>\n",
       "      <th>days</th>\n",
       "      <th></th>\n",
       "      <th></th>\n",
       "      <th></th>\n",
       "      <th></th>\n",
       "      <th></th>\n",
       "      <th></th>\n",
       "    </tr>\n",
       "  </thead>\n",
       "  <tbody>\n",
       "    <tr>\n",
       "      <th>0</th>\n",
       "      <td>0.177600</td>\n",
       "      <td>0.178992</td>\n",
       "      <td>0.135909</td>\n",
       "      <td>0.003460</td>\n",
       "      <td>0.325773</td>\n",
       "      <td>0.178265</td>\n",
       "    </tr>\n",
       "    <tr>\n",
       "      <th>1</th>\n",
       "      <td>0.181301</td>\n",
       "      <td>0.173870</td>\n",
       "      <td>0.131336</td>\n",
       "      <td>0.003505</td>\n",
       "      <td>0.328672</td>\n",
       "      <td>0.181314</td>\n",
       "    </tr>\n",
       "    <tr>\n",
       "      <th>2</th>\n",
       "      <td>0.178494</td>\n",
       "      <td>0.175288</td>\n",
       "      <td>0.135738</td>\n",
       "      <td>0.003468</td>\n",
       "      <td>0.328460</td>\n",
       "      <td>0.178553</td>\n",
       "    </tr>\n",
       "    <tr>\n",
       "      <th>3</th>\n",
       "      <td>0.175085</td>\n",
       "      <td>0.174729</td>\n",
       "      <td>0.133957</td>\n",
       "      <td>0.003514</td>\n",
       "      <td>0.334303</td>\n",
       "      <td>0.178413</td>\n",
       "    </tr>\n",
       "    <tr>\n",
       "      <th>4</th>\n",
       "      <td>0.175983</td>\n",
       "      <td>0.177955</td>\n",
       "      <td>0.139273</td>\n",
       "      <td>0.003543</td>\n",
       "      <td>0.326975</td>\n",
       "      <td>0.176272</td>\n",
       "    </tr>\n",
       "  </tbody>\n",
       "</table>\n",
       "</div>"
      ],
      "text/plain": [
       "country    Canada   Finland     Italy     Kenya    Norway  Singapore\n",
       "days                                                                \n",
       "0        0.177600  0.178992  0.135909  0.003460  0.325773   0.178265\n",
       "1        0.181301  0.173870  0.131336  0.003505  0.328672   0.181314\n",
       "2        0.178494  0.175288  0.135738  0.003468  0.328460   0.178553\n",
       "3        0.175085  0.174729  0.133957  0.003514  0.334303   0.178413\n",
       "4        0.175983  0.177955  0.139273  0.003543  0.326975   0.176272"
      ]
     },
     "execution_count": 34,
     "metadata": {},
     "output_type": "execute_result"
    }
   ],
   "source": [
    "df_ratio_country = df_train.loc[df_train['product'] != 'Holographic Goose'].pipe(\n",
    "    lambda x: x.pivot_table(index = x['days'], columns = x['country'], values=target, aggfunc = 'sum', observed = True)\n",
    ").pipe(\n",
    "    lambda x: x.divide(x.sum(axis=1), axis = 0)\n",
    ")\n",
    "df_ratio_country.head()"
   ]
  },
  {
   "cell_type": "code",
   "execution_count": 35,
   "id": "b6da768e-a1ef-4db6-846d-2cd1afb237b9",
   "metadata": {},
   "outputs": [
    {
     "data": {
      "text/html": [
       "<div>\n",
       "<style scoped>\n",
       "    .dataframe tbody tr th:only-of-type {\n",
       "        vertical-align: middle;\n",
       "    }\n",
       "\n",
       "    .dataframe tbody tr th {\n",
       "        vertical-align: top;\n",
       "    }\n",
       "\n",
       "    .dataframe thead th {\n",
       "        text-align: right;\n",
       "    }\n",
       "</style>\n",
       "<table border=\"1\" class=\"dataframe\">\n",
       "  <thead>\n",
       "    <tr style=\"text-align: right;\">\n",
       "      <th>store</th>\n",
       "      <th>Discount Stickers</th>\n",
       "      <th>Stickers for Less</th>\n",
       "      <th>Premium Sticker Mart</th>\n",
       "    </tr>\n",
       "    <tr>\n",
       "      <th>days</th>\n",
       "      <th></th>\n",
       "      <th></th>\n",
       "      <th></th>\n",
       "    </tr>\n",
       "  </thead>\n",
       "  <tbody>\n",
       "    <tr>\n",
       "      <th>0</th>\n",
       "      <td>0.182737</td>\n",
       "      <td>0.373427</td>\n",
       "      <td>0.443836</td>\n",
       "    </tr>\n",
       "    <tr>\n",
       "      <th>1</th>\n",
       "      <td>0.185237</td>\n",
       "      <td>0.373569</td>\n",
       "      <td>0.441194</td>\n",
       "    </tr>\n",
       "    <tr>\n",
       "      <th>2</th>\n",
       "      <td>0.185028</td>\n",
       "      <td>0.359058</td>\n",
       "      <td>0.455913</td>\n",
       "    </tr>\n",
       "    <tr>\n",
       "      <th>3</th>\n",
       "      <td>0.182531</td>\n",
       "      <td>0.375596</td>\n",
       "      <td>0.441873</td>\n",
       "    </tr>\n",
       "    <tr>\n",
       "      <th>4</th>\n",
       "      <td>0.185612</td>\n",
       "      <td>0.380036</td>\n",
       "      <td>0.434352</td>\n",
       "    </tr>\n",
       "  </tbody>\n",
       "</table>\n",
       "</div>"
      ],
      "text/plain": [
       "store  Discount Stickers  Stickers for Less  Premium Sticker Mart\n",
       "days                                                             \n",
       "0               0.182737           0.373427              0.443836\n",
       "1               0.185237           0.373569              0.441194\n",
       "2               0.185028           0.359058              0.455913\n",
       "3               0.182531           0.375596              0.441873\n",
       "4               0.185612           0.380036              0.434352"
      ]
     },
     "execution_count": 35,
     "metadata": {},
     "output_type": "execute_result"
    }
   ],
   "source": [
    "df_ratio_store = df_train.loc[(df_train['product'] != 'Holographic Goose') & ~df_train['country'].isin(['Canada', 'Kenya'])].pipe(\n",
    "    lambda x: x.pivot_table(index = x['days'], columns = x['store'], values=target, aggfunc = 'sum', observed = True)\n",
    ").pipe(\n",
    "    lambda x: x.divide(x.sum(axis=1), axis = 0)\n",
    ")\n",
    "df_ratio_store.head()"
   ]
  },
  {
   "cell_type": "code",
   "execution_count": 36,
   "id": "0dcd5099-4c4e-448c-97b1-94cc9bcc9997",
   "metadata": {},
   "outputs": [
    {
     "data": {
      "text/html": [
       "<div>\n",
       "<style scoped>\n",
       "    .dataframe tbody tr th:only-of-type {\n",
       "        vertical-align: middle;\n",
       "    }\n",
       "\n",
       "    .dataframe tbody tr th {\n",
       "        vertical-align: top;\n",
       "    }\n",
       "\n",
       "    .dataframe thead tr th {\n",
       "        text-align: left;\n",
       "    }\n",
       "\n",
       "    .dataframe thead tr:last-of-type th {\n",
       "        text-align: right;\n",
       "    }\n",
       "</style>\n",
       "<table border=\"1\" class=\"dataframe\">\n",
       "  <thead>\n",
       "    <tr>\n",
       "      <th></th>\n",
       "      <th colspan=\"10\" halign=\"left\">Canada</th>\n",
       "      <th>...</th>\n",
       "      <th colspan=\"10\" halign=\"left\">Singapore</th>\n",
       "    </tr>\n",
       "    <tr>\n",
       "      <th></th>\n",
       "      <th colspan=\"5\" halign=\"left\">Discount Stickers</th>\n",
       "      <th colspan=\"5\" halign=\"left\">Stickers for Less</th>\n",
       "      <th>...</th>\n",
       "      <th colspan=\"5\" halign=\"left\">Stickers for Less</th>\n",
       "      <th colspan=\"5\" halign=\"left\">Premium Sticker Mart</th>\n",
       "    </tr>\n",
       "    <tr>\n",
       "      <th></th>\n",
       "      <th>Holographic Goose</th>\n",
       "      <th>Kaggle</th>\n",
       "      <th>Kaggle Tiers</th>\n",
       "      <th>Kerneler</th>\n",
       "      <th>Kerneler Dark Mode</th>\n",
       "      <th>Holographic Goose</th>\n",
       "      <th>Kaggle</th>\n",
       "      <th>Kaggle Tiers</th>\n",
       "      <th>Kerneler</th>\n",
       "      <th>Kerneler Dark Mode</th>\n",
       "      <th>...</th>\n",
       "      <th>Holographic Goose</th>\n",
       "      <th>Kaggle</th>\n",
       "      <th>Kaggle Tiers</th>\n",
       "      <th>Kerneler</th>\n",
       "      <th>Kerneler Dark Mode</th>\n",
       "      <th>Holographic Goose</th>\n",
       "      <th>Kaggle</th>\n",
       "      <th>Kaggle Tiers</th>\n",
       "      <th>Kerneler</th>\n",
       "      <th>Kerneler Dark Mode</th>\n",
       "    </tr>\n",
       "    <tr>\n",
       "      <th>days</th>\n",
       "      <th></th>\n",
       "      <th></th>\n",
       "      <th></th>\n",
       "      <th></th>\n",
       "      <th></th>\n",
       "      <th></th>\n",
       "      <th></th>\n",
       "      <th></th>\n",
       "      <th></th>\n",
       "      <th></th>\n",
       "      <th></th>\n",
       "      <th></th>\n",
       "      <th></th>\n",
       "      <th></th>\n",
       "      <th></th>\n",
       "      <th></th>\n",
       "      <th></th>\n",
       "      <th></th>\n",
       "      <th></th>\n",
       "      <th></th>\n",
       "      <th></th>\n",
       "    </tr>\n",
       "  </thead>\n",
       "  <tbody>\n",
       "    <tr>\n",
       "      <th>0</th>\n",
       "      <td>0.001694</td>\n",
       "      <td>0.010684</td>\n",
       "      <td>0.009385</td>\n",
       "      <td>0.005011</td>\n",
       "      <td>0.005680</td>\n",
       "      <td>0.003462</td>\n",
       "      <td>0.021833</td>\n",
       "      <td>0.019179</td>\n",
       "      <td>0.010240</td>\n",
       "      <td>0.011607</td>\n",
       "      <td>...</td>\n",
       "      <td>0.003475</td>\n",
       "      <td>0.021915</td>\n",
       "      <td>0.019251</td>\n",
       "      <td>0.010278</td>\n",
       "      <td>0.011650</td>\n",
       "      <td>0.004130</td>\n",
       "      <td>0.026047</td>\n",
       "      <td>0.022880</td>\n",
       "      <td>0.012216</td>\n",
       "      <td>0.013847</td>\n",
       "    </tr>\n",
       "    <tr>\n",
       "      <th>1</th>\n",
       "      <td>0.001726</td>\n",
       "      <td>0.011117</td>\n",
       "      <td>0.009760</td>\n",
       "      <td>0.005000</td>\n",
       "      <td>0.005981</td>\n",
       "      <td>0.003481</td>\n",
       "      <td>0.022419</td>\n",
       "      <td>0.019683</td>\n",
       "      <td>0.010083</td>\n",
       "      <td>0.012063</td>\n",
       "      <td>...</td>\n",
       "      <td>0.003481</td>\n",
       "      <td>0.022420</td>\n",
       "      <td>0.019685</td>\n",
       "      <td>0.010084</td>\n",
       "      <td>0.012064</td>\n",
       "      <td>0.004111</td>\n",
       "      <td>0.026479</td>\n",
       "      <td>0.023248</td>\n",
       "      <td>0.011909</td>\n",
       "      <td>0.014247</td>\n",
       "    </tr>\n",
       "    <tr>\n",
       "      <th>2</th>\n",
       "      <td>0.001716</td>\n",
       "      <td>0.010994</td>\n",
       "      <td>0.009559</td>\n",
       "      <td>0.004974</td>\n",
       "      <td>0.005784</td>\n",
       "      <td>0.003330</td>\n",
       "      <td>0.021334</td>\n",
       "      <td>0.018550</td>\n",
       "      <td>0.009653</td>\n",
       "      <td>0.011224</td>\n",
       "      <td>...</td>\n",
       "      <td>0.003331</td>\n",
       "      <td>0.021341</td>\n",
       "      <td>0.018556</td>\n",
       "      <td>0.009656</td>\n",
       "      <td>0.011227</td>\n",
       "      <td>0.004229</td>\n",
       "      <td>0.027098</td>\n",
       "      <td>0.023561</td>\n",
       "      <td>0.012261</td>\n",
       "      <td>0.014256</td>\n",
       "    </tr>\n",
       "    <tr>\n",
       "      <th>3</th>\n",
       "      <td>0.001686</td>\n",
       "      <td>0.010410</td>\n",
       "      <td>0.009521</td>\n",
       "      <td>0.004678</td>\n",
       "      <td>0.005664</td>\n",
       "      <td>0.003469</td>\n",
       "      <td>0.021420</td>\n",
       "      <td>0.019591</td>\n",
       "      <td>0.009626</td>\n",
       "      <td>0.011656</td>\n",
       "      <td>...</td>\n",
       "      <td>0.003535</td>\n",
       "      <td>0.021827</td>\n",
       "      <td>0.019963</td>\n",
       "      <td>0.009809</td>\n",
       "      <td>0.011877</td>\n",
       "      <td>0.004159</td>\n",
       "      <td>0.025679</td>\n",
       "      <td>0.023486</td>\n",
       "      <td>0.011540</td>\n",
       "      <td>0.013973</td>\n",
       "    </tr>\n",
       "    <tr>\n",
       "      <th>4</th>\n",
       "      <td>0.001694</td>\n",
       "      <td>0.010766</td>\n",
       "      <td>0.009504</td>\n",
       "      <td>0.004827</td>\n",
       "      <td>0.005873</td>\n",
       "      <td>0.003469</td>\n",
       "      <td>0.022043</td>\n",
       "      <td>0.019460</td>\n",
       "      <td>0.009883</td>\n",
       "      <td>0.012025</td>\n",
       "      <td>...</td>\n",
       "      <td>0.003475</td>\n",
       "      <td>0.022079</td>\n",
       "      <td>0.019492</td>\n",
       "      <td>0.009899</td>\n",
       "      <td>0.012045</td>\n",
       "      <td>0.003971</td>\n",
       "      <td>0.025235</td>\n",
       "      <td>0.022278</td>\n",
       "      <td>0.011314</td>\n",
       "      <td>0.013766</td>\n",
       "    </tr>\n",
       "  </tbody>\n",
       "</table>\n",
       "<p>5 rows × 90 columns</p>\n",
       "</div>"
      ],
      "text/plain": [
       "                Canada                                                      \\\n",
       "     Discount Stickers                                                       \n",
       "     Holographic Goose    Kaggle Kaggle Tiers  Kerneler Kerneler Dark Mode   \n",
       "days                                                                         \n",
       "0             0.001694  0.010684     0.009385  0.005011           0.005680   \n",
       "1             0.001726  0.011117     0.009760  0.005000           0.005981   \n",
       "2             0.001716  0.010994     0.009559  0.004974           0.005784   \n",
       "3             0.001686  0.010410     0.009521  0.004678           0.005664   \n",
       "4             0.001694  0.010766     0.009504  0.004827           0.005873   \n",
       "\n",
       "                                                                            \\\n",
       "     Stickers for Less                                                       \n",
       "     Holographic Goose    Kaggle Kaggle Tiers  Kerneler Kerneler Dark Mode   \n",
       "days                                                                         \n",
       "0             0.003462  0.021833     0.019179  0.010240           0.011607   \n",
       "1             0.003481  0.022419     0.019683  0.010083           0.012063   \n",
       "2             0.003330  0.021334     0.018550  0.009653           0.011224   \n",
       "3             0.003469  0.021420     0.019591  0.009626           0.011656   \n",
       "4             0.003469  0.022043     0.019460  0.009883           0.012025   \n",
       "\n",
       "      ...         Singapore                                   \\\n",
       "      ... Stickers for Less                                    \n",
       "      ... Holographic Goose    Kaggle Kaggle Tiers  Kerneler   \n",
       "days  ...                                                      \n",
       "0     ...          0.003475  0.021915     0.019251  0.010278   \n",
       "1     ...          0.003481  0.022420     0.019685  0.010084   \n",
       "2     ...          0.003331  0.021341     0.018556  0.009656   \n",
       "3     ...          0.003535  0.021827     0.019963  0.009809   \n",
       "4     ...          0.003475  0.022079     0.019492  0.009899   \n",
       "\n",
       "                                                                               \\\n",
       "                        Premium Sticker Mart                                    \n",
       "     Kerneler Dark Mode    Holographic Goose    Kaggle Kaggle Tiers  Kerneler   \n",
       "days                                                                            \n",
       "0              0.011650             0.004130  0.026047     0.022880  0.012216   \n",
       "1              0.012064             0.004111  0.026479     0.023248  0.011909   \n",
       "2              0.011227             0.004229  0.027098     0.023561  0.012261   \n",
       "3              0.011877             0.004159  0.025679     0.023486  0.011540   \n",
       "4              0.012045             0.003971  0.025235     0.022278  0.011314   \n",
       "\n",
       "                         \n",
       "                         \n",
       "     Kerneler Dark Mode  \n",
       "days                     \n",
       "0              0.013847  \n",
       "1              0.014247  \n",
       "2              0.014256  \n",
       "3              0.013973  \n",
       "4              0.013766  \n",
       "\n",
       "[5 rows x 90 columns]"
      ]
     },
     "execution_count": 36,
     "metadata": {},
     "output_type": "execute_result"
    }
   ],
   "source": [
    "df_ratio = pd.DataFrame(\n",
    "    0,\n",
    "    columns = pd.MultiIndex.from_product(df_train[X_cat[:3]].apply(lambda x: x.unique().tolist())),\n",
    "    index = df_train['days'].unique()\n",
    ").apply(\n",
    "    lambda x: df_ratio_country.loc[:, x.name[0]] * df_ratio_store.loc[:, x.name[1]] * df_ratio_product.loc[:, x.name[2]]\n",
    ")\n",
    "df_ratio.head()"
   ]
  },
  {
   "cell_type": "code",
   "execution_count": 37,
   "id": "e251583f-70e4-49c8-8ab9-a92a04c3f00d",
   "metadata": {},
   "outputs": [
    {
     "data": {
      "text/html": [
       "<div>\n",
       "<style scoped>\n",
       "    .dataframe tbody tr th:only-of-type {\n",
       "        vertical-align: middle;\n",
       "    }\n",
       "\n",
       "    .dataframe tbody tr th {\n",
       "        vertical-align: top;\n",
       "    }\n",
       "\n",
       "    .dataframe thead tr th {\n",
       "        text-align: left;\n",
       "    }\n",
       "\n",
       "    .dataframe thead tr:last-of-type th {\n",
       "        text-align: right;\n",
       "    }\n",
       "</style>\n",
       "<table border=\"1\" class=\"dataframe\">\n",
       "  <thead>\n",
       "    <tr>\n",
       "      <th></th>\n",
       "      <th colspan=\"10\" halign=\"left\">Canada</th>\n",
       "      <th>...</th>\n",
       "      <th colspan=\"10\" halign=\"left\">Singapore</th>\n",
       "    </tr>\n",
       "    <tr>\n",
       "      <th></th>\n",
       "      <th colspan=\"5\" halign=\"left\">Discount Stickers</th>\n",
       "      <th colspan=\"5\" halign=\"left\">Stickers for Less</th>\n",
       "      <th>...</th>\n",
       "      <th colspan=\"5\" halign=\"left\">Stickers for Less</th>\n",
       "      <th colspan=\"5\" halign=\"left\">Premium Sticker Mart</th>\n",
       "    </tr>\n",
       "    <tr>\n",
       "      <th></th>\n",
       "      <th>Holographic Goose</th>\n",
       "      <th>Kaggle</th>\n",
       "      <th>Kaggle Tiers</th>\n",
       "      <th>Kerneler</th>\n",
       "      <th>Kerneler Dark Mode</th>\n",
       "      <th>Holographic Goose</th>\n",
       "      <th>Kaggle</th>\n",
       "      <th>Kaggle Tiers</th>\n",
       "      <th>Kerneler</th>\n",
       "      <th>Kerneler Dark Mode</th>\n",
       "      <th>...</th>\n",
       "      <th>Holographic Goose</th>\n",
       "      <th>Kaggle</th>\n",
       "      <th>Kaggle Tiers</th>\n",
       "      <th>Kerneler</th>\n",
       "      <th>Kerneler Dark Mode</th>\n",
       "      <th>Holographic Goose</th>\n",
       "      <th>Kaggle</th>\n",
       "      <th>Kaggle Tiers</th>\n",
       "      <th>Kerneler</th>\n",
       "      <th>Kerneler Dark Mode</th>\n",
       "    </tr>\n",
       "    <tr>\n",
       "      <th>days</th>\n",
       "      <th></th>\n",
       "      <th></th>\n",
       "      <th></th>\n",
       "      <th></th>\n",
       "      <th></th>\n",
       "      <th></th>\n",
       "      <th></th>\n",
       "      <th></th>\n",
       "      <th></th>\n",
       "      <th></th>\n",
       "      <th></th>\n",
       "      <th></th>\n",
       "      <th></th>\n",
       "      <th></th>\n",
       "      <th></th>\n",
       "      <th></th>\n",
       "      <th></th>\n",
       "      <th></th>\n",
       "      <th></th>\n",
       "      <th></th>\n",
       "      <th></th>\n",
       "    </tr>\n",
       "  </thead>\n",
       "  <tbody>\n",
       "    <tr>\n",
       "      <th>0</th>\n",
       "      <td>0.0</td>\n",
       "      <td>0.010684</td>\n",
       "      <td>0.009385</td>\n",
       "      <td>0.005011</td>\n",
       "      <td>0.005680</td>\n",
       "      <td>0.003462</td>\n",
       "      <td>0.021833</td>\n",
       "      <td>0.019179</td>\n",
       "      <td>0.010240</td>\n",
       "      <td>0.011607</td>\n",
       "      <td>...</td>\n",
       "      <td>0.003475</td>\n",
       "      <td>0.021915</td>\n",
       "      <td>0.019251</td>\n",
       "      <td>0.010278</td>\n",
       "      <td>0.011650</td>\n",
       "      <td>0.004130</td>\n",
       "      <td>0.026047</td>\n",
       "      <td>0.022880</td>\n",
       "      <td>0.012216</td>\n",
       "      <td>0.013847</td>\n",
       "    </tr>\n",
       "    <tr>\n",
       "      <th>1</th>\n",
       "      <td>0.0</td>\n",
       "      <td>0.011117</td>\n",
       "      <td>0.009760</td>\n",
       "      <td>0.005000</td>\n",
       "      <td>0.005981</td>\n",
       "      <td>0.003481</td>\n",
       "      <td>0.022419</td>\n",
       "      <td>0.019683</td>\n",
       "      <td>0.010083</td>\n",
       "      <td>0.012063</td>\n",
       "      <td>...</td>\n",
       "      <td>0.003481</td>\n",
       "      <td>0.022420</td>\n",
       "      <td>0.019685</td>\n",
       "      <td>0.010084</td>\n",
       "      <td>0.012064</td>\n",
       "      <td>0.004111</td>\n",
       "      <td>0.026479</td>\n",
       "      <td>0.023248</td>\n",
       "      <td>0.011909</td>\n",
       "      <td>0.014247</td>\n",
       "    </tr>\n",
       "    <tr>\n",
       "      <th>2</th>\n",
       "      <td>0.0</td>\n",
       "      <td>0.010994</td>\n",
       "      <td>0.009559</td>\n",
       "      <td>0.004974</td>\n",
       "      <td>0.005784</td>\n",
       "      <td>0.003330</td>\n",
       "      <td>0.021334</td>\n",
       "      <td>0.018550</td>\n",
       "      <td>0.009653</td>\n",
       "      <td>0.011224</td>\n",
       "      <td>...</td>\n",
       "      <td>0.003331</td>\n",
       "      <td>0.021341</td>\n",
       "      <td>0.018556</td>\n",
       "      <td>0.009656</td>\n",
       "      <td>0.011227</td>\n",
       "      <td>0.004229</td>\n",
       "      <td>0.027098</td>\n",
       "      <td>0.023561</td>\n",
       "      <td>0.012261</td>\n",
       "      <td>0.014256</td>\n",
       "    </tr>\n",
       "    <tr>\n",
       "      <th>3</th>\n",
       "      <td>0.0</td>\n",
       "      <td>0.010410</td>\n",
       "      <td>0.009521</td>\n",
       "      <td>0.004678</td>\n",
       "      <td>0.005664</td>\n",
       "      <td>0.003469</td>\n",
       "      <td>0.021420</td>\n",
       "      <td>0.019591</td>\n",
       "      <td>0.009626</td>\n",
       "      <td>0.011656</td>\n",
       "      <td>...</td>\n",
       "      <td>0.003535</td>\n",
       "      <td>0.021827</td>\n",
       "      <td>0.019963</td>\n",
       "      <td>0.009809</td>\n",
       "      <td>0.011877</td>\n",
       "      <td>0.004159</td>\n",
       "      <td>0.025679</td>\n",
       "      <td>0.023486</td>\n",
       "      <td>0.011540</td>\n",
       "      <td>0.013973</td>\n",
       "    </tr>\n",
       "    <tr>\n",
       "      <th>4</th>\n",
       "      <td>0.0</td>\n",
       "      <td>0.010766</td>\n",
       "      <td>0.009504</td>\n",
       "      <td>0.004827</td>\n",
       "      <td>0.005873</td>\n",
       "      <td>0.003469</td>\n",
       "      <td>0.022043</td>\n",
       "      <td>0.019460</td>\n",
       "      <td>0.009883</td>\n",
       "      <td>0.012025</td>\n",
       "      <td>...</td>\n",
       "      <td>0.003475</td>\n",
       "      <td>0.022079</td>\n",
       "      <td>0.019492</td>\n",
       "      <td>0.009899</td>\n",
       "      <td>0.012045</td>\n",
       "      <td>0.003971</td>\n",
       "      <td>0.025235</td>\n",
       "      <td>0.022278</td>\n",
       "      <td>0.011314</td>\n",
       "      <td>0.013766</td>\n",
       "    </tr>\n",
       "  </tbody>\n",
       "</table>\n",
       "<p>5 rows × 90 columns</p>\n",
       "</div>"
      ],
      "text/plain": [
       "                Canada                                                      \\\n",
       "     Discount Stickers                                                       \n",
       "     Holographic Goose    Kaggle Kaggle Tiers  Kerneler Kerneler Dark Mode   \n",
       "days                                                                         \n",
       "0                  0.0  0.010684     0.009385  0.005011           0.005680   \n",
       "1                  0.0  0.011117     0.009760  0.005000           0.005981   \n",
       "2                  0.0  0.010994     0.009559  0.004974           0.005784   \n",
       "3                  0.0  0.010410     0.009521  0.004678           0.005664   \n",
       "4                  0.0  0.010766     0.009504  0.004827           0.005873   \n",
       "\n",
       "                                                                            \\\n",
       "     Stickers for Less                                                       \n",
       "     Holographic Goose    Kaggle Kaggle Tiers  Kerneler Kerneler Dark Mode   \n",
       "days                                                                         \n",
       "0             0.003462  0.021833     0.019179  0.010240           0.011607   \n",
       "1             0.003481  0.022419     0.019683  0.010083           0.012063   \n",
       "2             0.003330  0.021334     0.018550  0.009653           0.011224   \n",
       "3             0.003469  0.021420     0.019591  0.009626           0.011656   \n",
       "4             0.003469  0.022043     0.019460  0.009883           0.012025   \n",
       "\n",
       "      ...         Singapore                                   \\\n",
       "      ... Stickers for Less                                    \n",
       "      ... Holographic Goose    Kaggle Kaggle Tiers  Kerneler   \n",
       "days  ...                                                      \n",
       "0     ...          0.003475  0.021915     0.019251  0.010278   \n",
       "1     ...          0.003481  0.022420     0.019685  0.010084   \n",
       "2     ...          0.003331  0.021341     0.018556  0.009656   \n",
       "3     ...          0.003535  0.021827     0.019963  0.009809   \n",
       "4     ...          0.003475  0.022079     0.019492  0.009899   \n",
       "\n",
       "                                                                               \\\n",
       "                        Premium Sticker Mart                                    \n",
       "     Kerneler Dark Mode    Holographic Goose    Kaggle Kaggle Tiers  Kerneler   \n",
       "days                                                                            \n",
       "0              0.011650             0.004130  0.026047     0.022880  0.012216   \n",
       "1              0.012064             0.004111  0.026479     0.023248  0.011909   \n",
       "2              0.011227             0.004229  0.027098     0.023561  0.012261   \n",
       "3              0.011877             0.004159  0.025679     0.023486  0.011540   \n",
       "4              0.012045             0.003971  0.025235     0.022278  0.011314   \n",
       "\n",
       "                         \n",
       "                         \n",
       "     Kerneler Dark Mode  \n",
       "days                     \n",
       "0              0.013847  \n",
       "1              0.014247  \n",
       "2              0.014256  \n",
       "3              0.013973  \n",
       "4              0.013766  \n",
       "\n",
       "[5 rows x 90 columns]"
      ]
     },
     "execution_count": 37,
     "metadata": {},
     "output_type": "execute_result"
    }
   ],
   "source": [
    "df_ratio_notna = pd.DataFrame(\n",
    "    df_ratio.values * df_train.assign(target_notna = lambda x: x[target].notna()).pivot(\n",
    "        index = 'days', columns = X_cat[:3], values = 'target_notna'\n",
    "    ).values, index = df_ratio.index, columns = df_ratio.columns\n",
    ")\n",
    "df_ratio_notna.head()"
   ]
  },
  {
   "cell_type": "code",
   "execution_count": 38,
   "id": "982d4258-9921-447b-80ad-7dc17e11b898",
   "metadata": {},
   "outputs": [
    {
     "data": {
      "text/plain": [
       "days\n",
       "0    85714.031250\n",
       "1    82693.492188\n",
       "2    88482.773438\n",
       "3    68197.023438\n",
       "4    65831.382812\n",
       "dtype: float32"
      ]
     },
     "execution_count": 38,
     "metadata": {},
     "output_type": "execute_result"
    }
   ],
   "source": [
    "s_est_daily_sum = df_train.groupby('days')[target].sum() * 1 / df_ratio_notna.sum(axis = 1)\n",
    "s_est_daily_sum.head()"
   ]
  },
  {
   "cell_type": "code",
   "execution_count": 39,
   "id": "e503a88d-7dfa-4514-8a60-ab15dec75963",
   "metadata": {},
   "outputs": [],
   "source": [
    "df_train.loc[df_train[target].isna(), target] = df_train.loc[df_train[target].isna()].apply(\n",
    "    lambda x: df_ratio.loc[x['days'], tuple(x[X_cat[:3]])] * s_est_daily_sum.loc[x['days']], axis = 1\n",
    ")"
   ]
  },
  {
   "cell_type": "code",
   "execution_count": 40,
   "id": "98f228d0-0ed9-4c6f-9a28-7a9eb7184b6c",
   "metadata": {},
   "outputs": [
    {
     "data": {
      "text/plain": [
       "0"
      ]
     },
     "execution_count": 40,
     "metadata": {},
     "output_type": "execute_result"
    }
   ],
   "source": [
    "df_train[target].isna().sum()"
   ]
  },
  {
   "cell_type": "code",
   "execution_count": 41,
   "id": "798db8f0-99e5-4b79-a5c3-57045d3ddb57",
   "metadata": {},
   "outputs": [
    {
     "data": {
      "image/png": "[encoded data removed]",
      "text/plain": [
       "<Figure size 1600x300 with 1 Axes>"
      ]
     },
     "metadata": {},
     "output_type": "display_data"
    }
   ],
   "source": [
    "fig = plt.figure(figsize = (16, 3))\n",
    "sns.lineplot(\n",
    "    df_train.groupby('date')[target].sum()\n",
    ")\n",
    "plt.show()"
   ]
  },
  {
   "cell_type": "code",
   "execution_count": null,
   "id": "5dbe9643-31bb-4e2c-8518-94cec62cef5c",
   "metadata": {},
   "outputs": [],
   "source": [
    "fig = plt.figure(figsize = (16, 3))\n",
    "sns.lineplot(\n",
    "    df_train.groupby(['date', 'country'], as_index = False, observed=False)[target].sum(), \n",
    "    x = 'date', y = 'num_sold', hue = 'country'\n",
    ")\n",
    "plt.show()"
   ]
  },
  {
   "cell_type": "code",
   "execution_count": null,
   "id": "a97a1e3a-6892-4d7a-b62d-9f8aae7189ff",
   "metadata": {},
   "outputs": [],
   "source": [
    "fig = plt.figure(figsize = (16, 3))\n",
    "sns.lineplot(\n",
    "    df_train.groupby(['date', 'store'], as_index = False, observed=False)[target].sum(), \n",
    "    x = 'date', y = 'num_sold', hue = 'store'\n",
    ")\n",
    "plt.show()"
   ]
  },
  {
   "cell_type": "code",
   "execution_count": null,
   "id": "8b98a2a7-4630-4899-ad48-33ef595ddb26",
   "metadata": {},
   "outputs": [],
   "source": [
    "fig = plt.figure(figsize = (16, 3))\n",
    "sns.lineplot(\n",
    "    df_train.groupby(['date', 'product'], as_index = False, observed=False)[target].sum(), \n",
    "    x = 'date', y = 'num_sold', hue = 'product'\n",
    ")\n",
    "plt.show()"
   ]
  },
  {
   "cell_type": "markdown",
   "id": "a035fc96-80e5-4c85-92a5-826f1f8ffb31",
   "metadata": {
    "jp-MarkdownHeadingCollapsed": true
   },
   "source": [
    "# Reformulation Problem"
   ]
  },
  {
   "cell_type": "code",
   "execution_count": null,
   "id": "a0b1bb88-f1ef-4557-b278-0b9135c1b8b4",
   "metadata": {},
   "outputs": [],
   "source": [
    "df_re = df_train[['days', 'date', 'year', 'month', 'day', 'weekday']].drop_duplicates().set_index('days').join(\n",
    "    s_est_daily_sum.rename('est_sum')\n",
    ").assign(\n",
    "    y_days = lambda x: x['date'].dt.dayofyear,\n",
    "    est_y_mc = lambda x: x['est_sum'] - x.groupby('year')['est_sum'].transform(lambda x: x.clip(*x.quantile([0.025, 0.975])).mean()),\n",
    "    est_yw_mc = lambda x: x['est_y_mc'] - x.groupby('weekday')['est_y_mc'].transform(lambda x: x.clip(*x.quantile([0.025, 0.975])).mean()),\n",
    "    md = lambda x: x['date'].dt.strftime('%m-%d'),\n",
    "    est_ywd_mc = lambda x: x['est_yw_mc'] - x.groupby(['md'], observed = True)['est_yw_mc'].transform('mean')\n",
    ")"
   ]
  },
  {
   "cell_type": "code",
   "execution_count": null,
   "id": "d8d65a18-4f79-4ae6-bf5b-9e6a38837c92",
   "metadata": {},
   "outputs": [],
   "source": [
    "fig, axes = plt.subplots(3, 1, figsize = (16, 7))\n",
    "sns.lineplot(df_re['est_y_mc'], ax = axes[0])\n",
    "sns.lineplot(df_re['est_yw_mc'], ax = axes[1])\n",
    "sns.lineplot(df_re['est_ywd_mc'], ax = axes[2])\n",
    "plt.tight_layout()\n",
    "plt.show()"
   ]
  },
  {
   "cell_type": "code",
   "execution_count": null,
   "id": "581f620f-6285-4bc5-b53d-c4d3270dff25",
   "metadata": {},
   "outputs": [],
   "source": [
    "def get_freq_mag(t, data):\n",
    "    # FFT 수행\n",
    "    fft_result = np.fft.fft(data)  # 복소수 결과 반환\n",
    "    frequencies = np.fft.fftfreq(len(t), d=(t[1] - t[0]))  # 주파수 계산\n",
    "    \n",
    "    # 절대값(진폭) 계산\n",
    "    magnitude = np.abs(fft_result)\n",
    "    \n",
    "    # 양의 주파수만 고려 (대칭 구조이므로)\n",
    "    positive_frequencies = frequencies[frequencies > 0]\n",
    "    positive_magnitude = magnitude[frequencies > 0]\n",
    "    \n",
    "    # 주기 계산\n",
    "    periods = 1 / positive_frequencies\n",
    "    return periods, positive_magnitude\n",
    "\n",
    "periods, positive_magnitude = get_freq_mag(df_re.index.values, df_re['est_ywd_mc'].values)\n",
    "# 시각화\n",
    "fig, axes = plt.subplots(2, 1, figsize=(12, 6))\n",
    "\n",
    "# 원 데이터\n",
    "axes[0].plot(df_re.index.values, df_re['est_ywd_mc'].values, label=\"Original Data\")\n",
    "axes[0].set_title(\"Original Time Series Data\")\n",
    "axes[0].set_xlabel(\"Time\")\n",
    "axes[0].set_ylabel(\"Value\")\n",
    "axes[0].legend()\n",
    "\n",
    "# 주파수 성분\n",
    "axes[1].plot(periods, positive_magnitude, label=\"FFT Magnitude\")\n",
    "axes[1].set_title(\"Frequency Domain Analysis (FFT)\")\n",
    "axes[1].set_xlabel(\"Period (1/Frequency)\")\n",
    "axes[1].set_ylabel(\"Magnitude\")\n",
    "axes[1].set_xscale(\"log\")\n",
    "axes[1].legend()\n",
    "\n",
    "plt.tight_layout()\n",
    "plt.show()\n",
    "\n",
    "# 주요 주기 출력\n",
    "peak_indices = np.argsort(positive_magnitude)[-3:][::-1]  # 상위 3개 추출\n",
    "print(\"Top 3 periods with highest magnitude:\")\n",
    "for idx in peak_indices:\n",
    "    print(f\"Period: {periods[idx]:.2f}, Magnitude: {positive_magnitude[idx]:.2f}\")"
   ]
  },
  {
   "cell_type": "code",
   "execution_count": null,
   "id": "245c5479-1506-4f63-8133-2fc5db9a586e",
   "metadata": {},
   "outputs": [],
   "source": [
    "df_re['c1'] = np.cos((df_re.index / 365.25) * np.pi)\n",
    "df_re['s1'] = np.sin((df_re.index / 365.25) * np.pi)"
   ]
  },
  {
   "cell_type": "code",
   "execution_count": null,
   "id": "a8812571-c805-4774-b149-7de8211cab3c",
   "metadata": {},
   "outputs": [],
   "source": [
    "from scipy.stats import pearsonr\n",
    "(\n",
    "    pearsonr(df_re['c1'], df_re['est_ywd_mc']),\n",
    "    pearsonr(df_re['s1'], df_re['est_ywd_mc']),\n",
    "    pearsonr(df_re.index, df_re['est_ywd_mc'])\n",
    ")"
   ]
  },
  {
   "cell_type": "code",
   "execution_count": null,
   "id": "c92c0cc8-4b0a-4c8c-bca2-27f738aaafa2",
   "metadata": {},
   "outputs": [],
   "source": [
    "ct = ColumnTransformer([\n",
    "    ('ohe', OneHotEncoder(drop='first'), ['month', 'md']),\n",
    "    ('pt', 'passthrough', ['c1', 's1'])\n",
    "])\n",
    "reg_lr = make_pipeline(ct, LinearRegression())\n",
    "reg_lr.fit(df_re[['c1', 's1', 'month', 'md']], df_re['est_ywd_mc'])"
   ]
  },
  {
   "cell_type": "code",
   "execution_count": null,
   "id": "41178c10-0761-485f-8b21-07593b5b36fc",
   "metadata": {},
   "outputs": [],
   "source": [
    "fig = plt.figure(figsize = (16, 3))\n",
    "sns.lineplot(reg_lr.predict(df_re[['c1', 's1', 'month', 'md']]))\n",
    "plt.show()"
   ]
  },
  {
   "cell_type": "code",
   "execution_count": null,
   "id": "d1abd291-a70d-44bf-b23b-827fdc3cb548",
   "metadata": {},
   "outputs": [],
   "source": [
    "s_y = df_re.groupby('year')['est_sum'].mean()\n",
    "s_y"
   ]
  },
  {
   "cell_type": "code",
   "execution_count": null,
   "id": "a22ee049-e757-436e-b411-0aba283d691d",
   "metadata": {},
   "outputs": [],
   "source": [
    "s_weekday = df_re.groupby('weekday')['est_y_mc'].mean()\n",
    "s_md = df_re.groupby('md')['est_yw_mc'].mean()"
   ]
  },
  {
   "cell_type": "code",
   "execution_count": null,
   "id": "6f022bde-2297-4f74-82b4-3f2eac1e05dd",
   "metadata": {},
   "outputs": [],
   "source": [
    "df_re = df_re.assign(\n",
    "    est_y = s_y.mean(),\n",
    "    est_w = lambda x: x['weekday'].map(s_weekday), \n",
    "    md = lambda x: x['date'].dt.strftime('%m-%d'),\n",
    "    est_md = lambda x: x['md'].map(s_md),\n",
    "    est_days = lambda x: reg_lr.predict(x[['c1', 's1', 'month', 'md']]),\n",
    "    est_sum_prd = lambda x: x['est_y'] + x['est_w'] + x['est_md'] + x['est_days']\n",
    ")"
   ]
  },
  {
   "cell_type": "code",
   "execution_count": null,
   "id": "cd2b120a-9140-46c8-9690-cec6b4b06725",
   "metadata": {},
   "outputs": [],
   "source": [
    "s_yt = pd.Series({2017: 60000, 2018: 60000, 2019: 72000})"
   ]
  },
  {
   "cell_type": "code",
   "execution_count": null,
   "id": "78e2db03-55a1-4331-b832-557ec7e5705e",
   "metadata": {},
   "outputs": [],
   "source": [
    "df_re_test = df_test[['days', 'date', 'year', 'month', 'day', 'weekday']].drop_duplicates().set_index('days').assign(\n",
    "    c1 = lambda x: np.cos((x.index / 365.25) * np.pi),\n",
    "    s1 = lambda x: np.sin((x.index / 365.25) * np.pi),\n",
    "    est_y = lambda x: x['year'].map(s_yt), \n",
    "    est_w = lambda x: x['weekday'].map(s_weekday), \n",
    "    md = lambda x: x['date'].dt.strftime('%m-%d'),\n",
    "    est_md = lambda x: x['md'].map(s_md),\n",
    "    est_days = lambda x: reg_lr.predict(x[['c1', 's1', 'month', 'md']]),\n",
    "    est_sum = lambda x: x['est_y'] + x['est_w'] + x['est_md'] + x['est_days']\n",
    ")"
   ]
  },
  {
   "cell_type": "code",
   "execution_count": null,
   "id": "ae1bf0fe-1729-447f-8c46-8d664a7076f5",
   "metadata": {},
   "outputs": [],
   "source": [
    "fig = plt.figure(figsize = (16, 3))\n",
    "plt.plot(df_re.index, df_re['est_sum'], label='train')\n",
    "plt.plot(df_re_test.index, df_re_test['est_sum'], label='test')\n",
    "plt.legend()\n",
    "plt.show()"
   ]
  },
  {
   "cell_type": "code",
   "execution_count": null,
   "id": "71405519-da24-4115-9533-25f56aa8b04d",
   "metadata": {},
   "outputs": [],
   "source": [
    "df_ratio.apply(\n",
    "    lambda x: pearsonr(x, x.index)\n",
    ")"
   ]
  },
  {
   "cell_type": "code",
   "execution_count": null,
   "id": "2bcc5394-4536-4e23-83ed-abb284a65a05",
   "metadata": {},
   "outputs": [],
   "source": [
    "periods, positive_magnitude = get_freq_mag(df_ratio_country.index, df_ratio_country['Canada'])\n",
    "\n",
    "# 시각화\n",
    "fig, axes = plt.subplots(2, 1, figsize=(12, 6))\n",
    "\n",
    "# 원 데이터\n",
    "axes[0].plot(df_ratio_country.index, df_ratio_country['Canada'], label=\"Original Data\")\n",
    "axes[0].set_title(\"Original Time Series Data\")\n",
    "axes[0].set_xlabel(\"Time\")\n",
    "axes[0].set_ylabel(\"Value\")\n",
    "axes[0].legend()\n",
    "\n",
    "# 주파수 성분\n",
    "axes[1].plot(periods, positive_magnitude, label=\"FFT Magnitude\")\n",
    "axes[1].set_title(\"Frequency Domain Analysis (FFT)\")\n",
    "axes[1].set_xlabel(\"Period (1/Frequency)\")\n",
    "axes[1].set_ylabel(\"Magnitude\")\n",
    "axes[1].set_xscale(\"log\")\n",
    "axes[1].legend()\n",
    "\n",
    "print(periods[np.argmax(positive_magnitude)])\n",
    "plt.tight_layout()\n",
    "plt.show()"
   ]
  },
  {
   "cell_type": "code",
   "execution_count": null,
   "id": "8a97dfe6-6d4a-4bd8-8864-7bb6a9b65da5",
   "metadata": {},
   "outputs": [],
   "source": [
    "df_ratio_country.apply(\n",
    "    lambda x: get_freq_mag(x.index, x)\n",
    ").apply(\n",
    "    lambda x: [x[0][np.argmax(x[1])], np.max(x[1])]\n",
    "    , axis = 0\n",
    ")"
   ]
  },
  {
   "cell_type": "code",
   "execution_count": null,
   "id": "5bd91372-d7bd-44bb-9514-17d3c8a51755",
   "metadata": {},
   "outputs": [],
   "source": [
    "df_ratio_store.apply(\n",
    "    lambda x: get_freq_mag(x.index, x)\n",
    ").apply(\n",
    "    lambda x: [x[0][np.argmax(x[1])], np.max(x[1])]\n",
    "    , axis = 0\n",
    ")"
   ]
  },
  {
   "cell_type": "code",
   "execution_count": null,
   "id": "3de325b3-649a-43c1-a0f6-cca261b73d3b",
   "metadata": {},
   "outputs": [],
   "source": [
    "df_ratio_product.apply(\n",
    "    lambda x: get_freq_mag(x.index, x)\n",
    ").apply(\n",
    "    lambda x: [x[0][np.argmax(x[1])], np.max(x[1])]\n",
    "    , axis = 0\n",
    ")"
   ]
  },
  {
   "cell_type": "code",
   "execution_count": null,
   "id": "eb0af083-22a6-457a-a8e8-e588714f8adf",
   "metadata": {},
   "outputs": [],
   "source": [
    "df_ratio_country.apply(\n",
    "    lambda x: pearsonr(x.index, x)\n",
    ")"
   ]
  },
  {
   "cell_type": "code",
   "execution_count": null,
   "id": "44eedf17-778f-45f9-bc94-d48673011680",
   "metadata": {},
   "outputs": [],
   "source": [
    "df_ratio_store.apply(\n",
    "    lambda x: pearsonr(x.index, x)\n",
    ")"
   ]
  },
  {
   "cell_type": "code",
   "execution_count": null,
   "id": "606f86ad-eb7b-4c4b-acd1-94d039407c46",
   "metadata": {},
   "outputs": [],
   "source": [
    "df_ratio_product.apply(\n",
    "    lambda x: pearsonr(x.index, x)\n",
    ")"
   ]
  },
  {
   "cell_type": "code",
   "execution_count": null,
   "id": "80877227-ecf1-44f6-bc81-75992747c4e9",
   "metadata": {},
   "outputs": [],
   "source": [
    "products = df_train['product'].unique()\n",
    "df_dr = df_train.assign(\n",
    "    ratio = lambda x: x['num_sold'] / x.groupby('days')['num_sold'].transform('sum'),\n",
    "    md = lambda x: x['date'].dt.strftime('%m-%d'),\n",
    "    logit = lambda x: np.log(x['ratio'] / (1 - x['ratio'])),\n",
    "    c1 = lambda x: np.cos((x['days'] / 365.25 * 2) * np.pi),\n",
    "    s1 = lambda x: np.sin((x['days'] / 365.25 * 2) * np.pi),\n",
    "    c2 = lambda x: np.cos((x['days'] / 365.25) * np.pi),\n",
    "    s2 = lambda x: np.sin((x['days'] / 365.25) * np.pi),\n",
    "    y_days = lambda x: x['date'].dt.dayofyear,\n",
    ").pipe(\n",
    "    lambda x: pd.concat([x]\n",
    "        + [(x['c1'] * (x['product'] == i)).rename('c1_{}'.format(i)) for i in products]\n",
    "        + [(x['s1'] * (x['product'] == i)).rename('s1_{}'.format(i)) for i in products]\n",
    "        + [(x['c2'] * (x['product'] == i)).rename('c2_{}'.format(i)) for i in products]\n",
    "        + [(x['s2'] * (x['product'] == i)).rename('s2_{}'.format(i)) for i in products]\n",
    "        + [(x['days'] * (x['country'] == i)).rename('d_{}'.format(i)) for i in df_train['country'].unique()]\n",
    "    , axis=1)\n",
    ")"
   ]
  },
  {
   "cell_type": "code",
   "execution_count": null,
   "id": "2e8cd350-e2a7-4aac-ab5b-1f31635758b7",
   "metadata": {},
   "outputs": [],
   "source": [
    "X_cs = ['c1_{}'.format(i) for i in products] + \\\n",
    "    ['s1_{}'.format(i) for i in products] + \\\n",
    "    ['c2_{}'.format(i) for i in products] + \\\n",
    "    ['s2_{}'.format(i) for i in products]\n",
    "X_d = ['d_{}'.format(i) for i in df_train['country'].unique()]"
   ]
  },
  {
   "cell_type": "code",
   "execution_count": null,
   "id": "845dc982-27d1-4123-9cba-6cae84ec42d4",
   "metadata": {},
   "outputs": [],
   "source": [
    "df_dr_train = df_dr.loc[df_dr['year'] < 2016]\n",
    "df_dr_test = df_dr.loc[df_dr['year'] >= 2016]\n",
    "\n",
    "df_dr_re = df_dr_train[['days', 'date', 'year', 'month', 'day', 'weekday']].drop_duplicates().set_index('days').join(\n",
    "    s_est_daily_sum.rename('est_sum')\n",
    ").assign(\n",
    "    est_y_mc = lambda x: x['est_sum'] - x.groupby('year')['est_sum'].transform('mean'),\n",
    "    est_yw_mc = lambda x: x['est_y_mc'] - x.groupby('weekday')['est_y_mc'].transform('mean'),\n",
    "    md = lambda x: x['date'].dt.strftime('%m-%d'),\n",
    "    est_ywd_mc = lambda x: x['est_yw_mc'] - x.groupby('md')['est_yw_mc'].transform('mean'),\n",
    "    c1 = lambda x: np.cos((x.index / 365.25) * np.pi),\n",
    "    s1 = lambda x: np.sin((x.index / 365.25) * np.pi),\n",
    ")\n",
    "\n",
    "s_weekday = df_dr_re.groupby('weekday')['est_y_mc'].mean()\n",
    "s_md = df_dr_re.groupby('md')['est_yw_mc'].mean()\n",
    "ct = ColumnTransformer([\n",
    "    ('ohe', OneHotEncoder(drop='first'), ['month']),\n",
    "    ('pt', 'passthrough', ['c1', 's1'])\n",
    "])\n",
    "reg_lr_est = make_pipeline(ct, LinearRegression())\n",
    "reg_lr_est.fit(df_dr_re[['c1', 's1', 'month', 'md']], df_dr_re['est_ywd_mc'])\n",
    "df_dr_re_test = df_dr_test[['days', 'date', 'year', 'month', 'day', 'weekday']].drop_duplicates().set_index('days').join(\n",
    "    s_est_daily_sum.rename('est_sum')\n",
    ").assign(\n",
    "    c1 = lambda x: np.cos((x.index / 365.25) * np.pi),\n",
    "    s1 = lambda x: np.sin((x.index / 365.25) * np.pi),\n",
    "    est_y = 60000, \n",
    "    est_w = lambda x: x['weekday'].map(s_weekday), \n",
    "    md = lambda x: x['date'].dt.strftime('%m-%d'),\n",
    "    est_md = lambda x: x['md'].map(s_md),\n",
    "    est_days = lambda x: reg_lr_est.predict(x[['c1', 's1', 'month']]),\n",
    "    est_sum_prd = lambda x: x['est_y'] + x['est_w'] + x['est_md'] + x['est_days']\n",
    ")\n",
    "\n",
    "df_dr_train = df_dr_train.join(df_dr_re['est_sum'], on = 'days')\n",
    "df_dr_test = df_dr_test.join(df_dr_re_test[['est_sum', 'est_sum_prd']], on = 'days')"
   ]
  },
  {
   "cell_type": "code",
   "execution_count": null,
   "id": "389e9703-c1a7-40f2-981d-9fc3b6e52a30",
   "metadata": {},
   "outputs": [],
   "source": [
    "X_all = ['country', 'store', 'product', 'weekday', 'md', 'month', 'days'] + X_cs + X_d\n",
    "def eval_model(model, fit_params = {}):\n",
    "    model.fit(df_dr_train[X_all], df_dr_train['logit'], **fit_params)\n",
    "    prd = model.predict(df_dr_test[X_all])\n",
    "    prd_train = model.predict(df_dr_train[X_all])\n",
    "    print(\n",
    "        r2_score(df_dr_test['logit'], prd),\n",
    "        r2_score(df_dr_train['logit'], prd_train),\n",
    "        mean_absolute_percentage_error(\n",
    "            df_dr_test['num_sold'], 1 / (1 + np.exp(-prd)) * df_dr_test['est_sum_prd']\n",
    "        ),\n",
    "        mean_absolute_percentage_error(\n",
    "            df_dr_train['num_sold'], 1 / (1 + np.exp(-prd_train)) * df_dr_train['est_sum']\n",
    "        )\n",
    "    )\n",
    "    return pd.Series(prd, index = df_dr_test.index)"
   ]
  },
  {
   "cell_type": "code",
   "execution_count": null,
   "id": "d359de2e-7b24-4e03-9840-d07e476e86ad",
   "metadata": {},
   "outputs": [],
   "source": [
    "ct = ColumnTransformer([\n",
    "    ('ohe', OneHotEncoder(drop='first'), ['country', 'store', 'product', 'weekday', 'md', 'month']),\n",
    "    ('mm', MinMaxScaler(), X_d + ['days']),\n",
    "    ('pt', 'passthrough', X_cs)\n",
    "])\n",
    "reg_lr = make_pipeline(ct, LinearRegression())\n",
    "lr_prd = eval_model(reg_lr).rename('lr')"
   ]
  },
  {
   "cell_type": "code",
   "execution_count": null,
   "id": "010fbe5e-c2e6-4546-bced-9b87917231e3",
   "metadata": {},
   "outputs": [],
   "source": [
    "ct = ColumnTransformer([\n",
    "    ('ohe', OneHotEncoder(drop='if_binary'), ['country', 'store', 'product', 'weekday', 'md', 'month']),\n",
    "    ('pt', 'passthrough', X_cs + X_d )\n",
    "])\n",
    "reg_lgb = make_pipeline(ct, lgb.LGBMRegressor(verbose = -1, num_leaves=7, n_estimators=3000, learning_rate=0.1))\n",
    "lgb_prd = eval_model(reg_lgb).rename('lgb')"
   ]
  },
  {
   "cell_type": "code",
   "execution_count": null,
   "id": "6546b430-8261-4a0a-91e3-47e1c43b927f",
   "metadata": {},
   "outputs": [],
   "source": [
    "df_tmp = df_dr_test.join(\n",
    "    ((1 / (1 + np.exp(-lgb_prd))) * df_dr_test['est_sum_prd']).rename('prd')\n",
    ")"
   ]
  },
  {
   "cell_type": "code",
   "execution_count": null,
   "id": "79e7f3aa-e0a2-4d6f-99e5-f406c83794e0",
   "metadata": {},
   "outputs": [],
   "source": [
    "fig = plt.figure(figsize = (16, 3))\n",
    "sns.lineplot(\n",
    "    df_tmp.groupby(['date', 'product'], as_index = False, observed=False)['prd'].sum(), \n",
    "    x = 'date', y = 'prd', hue = 'product'\n",
    ")\n",
    "plt.show()"
   ]
  },
  {
   "cell_type": "code",
   "execution_count": null,
   "id": "bd5a7784-2d17-499b-9d8b-fdd91a6cd9c3",
   "metadata": {},
   "outputs": [],
   "source": [
    "ct = ColumnTransformer([\n",
    "    ('ohe', OneHotEncoder(drop='if_binary'), ['country', 'store', 'product', 'weekday', 'md', 'month']),\n",
    "    ('pt', 'passthrough', X_cs + X_d)\n",
    "])\n",
    "reg_lgb2 = make_pipeline(ct, lgb.LGBMRegressor(verbose = -1, num_leaves=15, n_estimators=3000, learning_rate=0.1))\n",
    "lgb_prd2 = eval_model(reg_lgb2).rename('lgb2')"
   ]
  },
  {
   "cell_type": "code",
   "execution_count": null,
   "id": "b8ad0253-4db0-4009-9ed2-4d8d35333391",
   "metadata": {},
   "outputs": [],
   "source": [
    "ct = ColumnTransformer([\n",
    "    ('ohe', OneHotEncoder(drop='if_binary'), ['country', 'store', 'product', 'weekday', 'md', 'month']),\n",
    "    ('pt', 'passthrough', X_cs + X_d)\n",
    "])\n",
    "reg_xgb = make_pipeline(ct, xgb.XGBRegressor(max_depth=3, n_estimators=2500, learning_rate = 0.05))\n",
    "xgb_prd = eval_model(reg_xgb).rename('xgb')"
   ]
  },
  {
   "cell_type": "code",
   "execution_count": null,
   "id": "ced2ad2c-75aa-40c9-8a53-4b402ae4fa98",
   "metadata": {},
   "outputs": [],
   "source": [
    "ct = ColumnTransformer([\n",
    "    ('ohe', OneHotEncoder(drop='if_binary'), ['country', 'store', 'product', 'weekday', 'md', 'month']),\n",
    "    ('pt', 'passthrough', X_cs + X_d)\n",
    "])\n",
    "reg_xgb2 = make_pipeline(ct, xgb.XGBRegressor(max_depth=2, n_estimators=2500, learning_rate = 0.05))\n",
    "xgb_prd2 = eval_model(reg_xgb2).rename('xgb2')"
   ]
  },
  {
   "cell_type": "code",
   "execution_count": null,
   "id": "c36fbe69-f1dc-47f9-a51b-f22dd594087b",
   "metadata": {},
   "outputs": [],
   "source": [
    "ct = ColumnTransformer([\n",
    "    ('pt', 'passthrough', ['country', 'store', 'product', 'weekday', 'md', 'month', 'year'] +  X_cs + X_d),\n",
    "]).set_output(transform='pandas')\n",
    "reg_cb = make_pipeline(ct, cb.CatBoostRegressor(\n",
    "    max_depth=7, n_estimators=3000, learning_rate = 0.05, verbose = 0, task_type = 'GPU',\n",
    "    cat_features = ['pt__country', 'pt__store', 'pt__product', 'pt__weekday', 'pt__md', 'pt__month']\n",
    "))\n",
    "cb_prd = eval_model(reg_cb).rename('cb')"
   ]
  },
  {
   "cell_type": "code",
   "execution_count": null,
   "id": "4f5e6da6-e9c3-4ee0-a5bb-b4daa33a1644",
   "metadata": {},
   "outputs": [],
   "source": [
    "ct = ColumnTransformer([\n",
    "    ('pt', 'passthrough', ['country', 'store', 'product', 'weekday', 'md', 'month', 'year'] +  X_cs + X_d),\n",
    "]).set_output(transform='pandas')\n",
    "reg_cb2 = make_pipeline(ct, cb.CatBoostRegressor(\n",
    "    max_depth=6, n_estimators=3000, learning_rate = 0.05, verbose = 0, task_type = 'GPU',\n",
    "    cat_features = ['pt__country', 'pt__store', 'pt__product', 'pt__weekday', 'pt__md', 'pt__month']\n",
    "))\n",
    "cb_prd2 = eval_model(reg_cb2).rename('cb2')"
   ]
  },
  {
   "cell_type": "code",
   "execution_count": null,
   "id": "fc149859-5439-458e-b5d2-7e7f46086391",
   "metadata": {},
   "outputs": [],
   "source": [
    "df_vt = pd.concat([\n",
    "    lr_prd, lgb_prd, lgb_prd2, xgb_prd, xgb_prd2, cb_prd, cb_prd2\n",
    "], axis=1)"
   ]
  },
  {
   "cell_type": "code",
   "execution_count": null,
   "id": "34fa314f-df0a-45b7-a43a-c4f07c67429e",
   "metadata": {},
   "outputs": [],
   "source": [
    "mean_absolute_percentage_error(\n",
    "    df_dr_test['num_sold'],\n",
    "    (1 / (1 + np.exp(-df_vt.dot([0.25, 0.1, 0.1, 0.1, 0.25, 0.1, 0.1])))) * df_dr_test['est_sum_prd']\n",
    ")"
   ]
  },
  {
   "cell_type": "code",
   "execution_count": null,
   "id": "e0cda299-47df-4b4c-81d6-78363bae5ba9",
   "metadata": {},
   "outputs": [],
   "source": [
    "df_dr_t = df_test.assign(\n",
    "    md = lambda x: x['date'].dt.strftime('%m-%d'),\n",
    "    c1 = lambda x: np.cos((x['days'] / 365.25 * 2) * np.pi),\n",
    "    s1 = lambda x: np.sin((x['days'] / 365.25 * 2) * np.pi),\n",
    "    c2 = lambda x: np.cos((x['days'] / 365.25) * np.pi),\n",
    "    s2 = lambda x: np.sin((x['days'] / 365.25) * np.pi),\n",
    ").pipe(\n",
    "    lambda x: pd.concat([x]\n",
    "        + [(x['c1'] * (x['product'] == i)).rename('c1_{}'.format(i)) for i in df_train['product'].unique()]\n",
    "        + [(x['s1'] * (x['product'] == i)).rename('s1_{}'.format(i)) for i in df_train['product'].unique()]\n",
    "        + [(x['c2'] * (x['product'] == i)).rename('c2_{}'.format(i)) for i in df_train['product'].unique()]\n",
    "        + [(x['s2'] * (x['product'] == i)).rename('s2_{}'.format(i)) for i in df_train['product'].unique()]\n",
    "        + [(x['days'] * (x['country'] == i)).rename('d_{}'.format(i)) for i in df_train['country'].unique()]\n",
    "    , axis=1)\n",
    ").join(\n",
    "    df_re_test['est_sum'], on = 'days'\n",
    ")"
   ]
  },
  {
   "cell_type": "code",
   "execution_count": null,
   "id": "257af566-58bd-41bf-9059-ecd70b62ed9e",
   "metadata": {},
   "outputs": [],
   "source": [
    "X_all = ['country', 'store', 'product', 'weekday', 'md', 'month', 'days'] + X_cs + X_d\n",
    "for i in [reg_lr, reg_lgb, reg_lgb2, reg_xgb, reg_xgb2, reg_cb, reg_cb2]:\n",
    "    i.fit(df_dr[X_all], df_dr['logit'])\n",
    "    prd_train = i.predict(df_dr[X_all])\n",
    "    print(\n",
    "        mean_absolute_percentage_error(\n",
    "            df_dr['num_sold'], 1 / (1 + np.exp(-prd_train)) * df_dr['days'].map(s_est_daily_sum)\n",
    "        )\n",
    "    )"
   ]
  },
  {
   "cell_type": "code",
   "execution_count": null,
   "id": "fb1156a8-600b-43df-b5b9-b1495972ee5d",
   "metadata": {},
   "outputs": [],
   "source": [
    "prds = list()\n",
    "for name, i in zip(\n",
    "    ['lr', 'lgb', 'lgb2', 'xgb', 'xgb2', 'cb', 'cb2'],\n",
    "    [reg_lr, reg_lgb, reg_lgb2, reg_xgb, reg_xgb2, reg_cb, reg_cb2]\n",
    "):\n",
    "    prd = i.predict(df_dr_t[X_all])\n",
    "    prds.append(\n",
    "        pd.Series(1 / (1 + np.exp(-prd)) * df_dr_t['est_sum'], index = df_dr_t.index, name = name)\n",
    "    )"
   ]
  },
  {
   "cell_type": "code",
   "execution_count": null,
   "id": "85d0edc8-769d-4763-aad7-f19a008ddb71",
   "metadata": {},
   "outputs": [],
   "source": [
    "pd.concat(prds, axis=1).dot([0.0, 0.2, 0.1, 0.1, 0.4, 0.1, 0.1]).rename('num_sold').to_frame().to_csv(\n",
    "    os.path.join('result', 'submission1.csv')\n",
    ")"
   ]
  },
  {
   "cell_type": "code",
   "execution_count": null,
   "id": "00f4afba-7dc1-415a-83c9-ca26b323be6a",
   "metadata": {},
   "outputs": [],
   "source": [
    "#!kaggle competitions submit -c playground-series-s5e1 -f result/submission1.csv -m \"1\""
   ]
  },
  {
   "cell_type": "code",
   "execution_count": null,
   "id": "8ec6f611-ca52-4594-a4af-69a37cb7c08d",
   "metadata": {},
   "outputs": [],
   "source": [
    "pd.concat(prds, axis=1).dot([0.2, 0.1, 0.1, 0.1, 0.3, 0.1, 0.1]).rename('num_sold').to_frame().to_csv(\n",
    "    os.path.join('result', 'submission2.csv')\n",
    ")"
   ]
  },
  {
   "cell_type": "code",
   "execution_count": null,
   "id": "ba8d2046-880f-4c29-8174-3c09dd294d8b",
   "metadata": {},
   "outputs": [],
   "source": [
    "#!kaggle competitions submit -c playground-series-s5e1 -f result/submission2.csv -m \"2\""
   ]
  },
  {
   "cell_type": "code",
   "execution_count": null,
   "id": "77ece20c-bc7b-4242-a5b5-858383d273ec",
   "metadata": {},
   "outputs": [],
   "source": [
    "pd.concat(prds, axis=1).dot([0.1, 0.15, 0.1, 0.1, 0.35, 0.1, 0.1]).rename('num_sold').to_frame().to_csv(\n",
    "    os.path.join('result', 'submission3.csv')\n",
    ")"
   ]
  },
  {
   "cell_type": "code",
   "execution_count": null,
   "id": "a447be3c-1744-413c-9d4d-a90f4c012782",
   "metadata": {},
   "outputs": [],
   "source": [
    "#!kaggle competitions submit -c playground-series-s5e1 -f result/submission3.csv -m \"3\""
   ]
  },
  {
   "cell_type": "markdown",
   "id": "edc55c29-f43e-4e1a-95d1-cf0606431bb6",
   "metadata": {
    "jp-MarkdownHeadingCollapsed": true
   },
   "source": [
    "# Reformulation Problem 2"
   ]
  },
  {
   "cell_type": "code",
   "execution_count": null,
   "id": "0a408dc1-bd2c-4b7f-adc9-ac632c071068",
   "metadata": {},
   "outputs": [],
   "source": [
    "products = df_train['product'].unique()\n",
    "df_dr = df_train.assign(\n",
    "    ratio = lambda x: x['num_sold'] / x.groupby('days')['num_sold'].transform('sum'),\n",
    "    md = lambda x: x['date'].dt.strftime('%m-%d'),\n",
    ")"
   ]
  },
  {
   "cell_type": "code",
   "execution_count": null,
   "id": "47448094-589f-4c5c-a7b9-eae8070e827a",
   "metadata": {},
   "outputs": [],
   "source": [
    "plt.figure(figsize = (16, 3))\n",
    "sns.lineplot(\n",
    "    df_dr.groupby(['days', 'product', 'weekday'], observed = True, as_index=False)['ratio'].sum(), \n",
    "    x = 'days', y = 'ratio', hue = 'product'\n",
    ")\n",
    "plt.show()"
   ]
  },
  {
   "cell_type": "code",
   "execution_count": null,
   "id": "ea6762d3-184f-4019-9201-84d6047ab2ce",
   "metadata": {},
   "outputs": [],
   "source": [
    "plt.figure(figsize = (16, 3))\n",
    "sns.lineplot(\n",
    "    df_dr.groupby(['days', 'country'], observed = True, as_index=False)['ratio'].sum(), \n",
    "    x = 'days', y = 'ratio', hue = 'country'\n",
    ")\n",
    "plt.show()"
   ]
  },
  {
   "cell_type": "code",
   "execution_count": null,
   "id": "fb69405c-77c2-46fa-8836-93ddd4c3e396",
   "metadata": {},
   "outputs": [],
   "source": [
    "plt.figure(figsize = (16, 3))\n",
    "sns.lineplot(\n",
    "    df_dr.groupby(['days', 'store'], observed = True, as_index=False)['ratio'].sum(), \n",
    "    x = 'days', y = 'ratio', hue = 'store'\n",
    ")\n",
    "plt.show()"
   ]
  },
  {
   "cell_type": "code",
   "execution_count": null,
   "id": "532494fd-2ea0-43f5-a013-801d8024e753",
   "metadata": {},
   "outputs": [],
   "source": [
    "df_dr.groupby(['days', 'store'], observed = True, as_index=False)['ratio'].sum().groupby('store', observed=True)['ratio'].mean()"
   ]
  },
  {
   "cell_type": "code",
   "execution_count": null,
   "id": "23ce9475-c303-489b-bd3a-cd6e1fd4fca4",
   "metadata": {},
   "outputs": [],
   "source": [
    "df_tmp = df_dr.loc[\n",
    "    df_dr['md'] != '02-29'\n",
    "]\n",
    "df_dr_train = df_tmp.loc[df_tmp['year'] < 2014]\n",
    "df_dr_test = df_tmp.loc[df_tmp['year'] >= 2014]"
   ]
  },
  {
   "cell_type": "code",
   "execution_count": null,
   "id": "77bc245d-846d-4745-b99f-b52a5c76fee2",
   "metadata": {},
   "outputs": [],
   "source": [
    "df_dr_train.groupby(['days', 'product'], observed = True, as_index=False)['ratio'].sum()"
   ]
  },
  {
   "cell_type": "code",
   "execution_count": null,
   "id": "eea878d4-1559-408b-b8c4-27ff67fecad5",
   "metadata": {},
   "outputs": [],
   "source": [
    "r2_score(\n",
    "    df_dr_test.groupby(['days', 'product', 'store'], observed = True)['ratio'].sum(),\n",
    "    df_dr_train.groupby(['days', 'product', 'store'], observed = True)['ratio'].sum().iloc[:16425]\n",
    ")"
   ]
  },
  {
   "cell_type": "code",
   "execution_count": null,
   "id": "d573e0ca-5b05-4e67-96e2-5be4fff520e6",
   "metadata": {},
   "outputs": [],
   "source": [
    "r2_score(\n",
    "    df_dr_test.groupby(['days', 'country'], observed = True)['ratio'].sum(),\n",
    "    df_dr_train.groupby(['days', 'country'], observed = True)['ratio'].sum().iloc[:6570]\n",
    ")"
   ]
  },
  {
   "cell_type": "code",
   "execution_count": null,
   "id": "68274e74-daeb-46be-8559-b5d6757bd7bc",
   "metadata": {},
   "outputs": [],
   "source": [
    "df_yc_ratio = df_dr.groupby(['year', 'days', 'country'], observed = True, as_index=False)['ratio'].sum().groupby(['year', 'country'], observed = True)['ratio'].mean().unstack()\n",
    "df_yc_ratio"
   ]
  },
  {
   "cell_type": "code",
   "execution_count": null,
   "id": "888173bc-89e0-4ac7-95b3-ec32ef9ee7ff",
   "metadata": {},
   "outputs": [],
   "source": [
    "plt.figure(figsize=(16, 3))\n",
    "df_mc_country = df_tmp.groupby(['year', 'days', 'country', 'weekday'], observed = True, as_index=False)['ratio'].sum().pipe(\n",
    "    lambda x: x.assign(mc = lambda x: x['ratio'] - x.groupby(['year', 'country'], observed = True)['ratio'].transform('mean'))\n",
    ")\n",
    "sns.lineplot(df_mc_country, x = 'days', y = 'mc', hue = 'country')\n",
    "\n",
    "plt.show()"
   ]
  },
  {
   "cell_type": "code",
   "execution_count": null,
   "id": "d875dbb8-9bd8-4aa3-8163-b40bf15bd9a0",
   "metadata": {},
   "outputs": [],
   "source": [
    "df_dr_train = df_mc_country.loc[df_mc_country['year'] < 2014]\n",
    "df_dr_test = df_mc_country.loc[df_mc_country['year'] >= 2014]"
   ]
  },
  {
   "cell_type": "code",
   "execution_count": null,
   "id": "31624498-8609-4ff2-a7b5-e2717cbe6a57",
   "metadata": {},
   "outputs": [],
   "source": [
    "r2_score(\n",
    "    df_dr_test.groupby(['days', 'country'], observed = True)['mc'].sum(),\n",
    "    df_dr_train.groupby(['days', 'country'], observed = True)['mc'].sum().iloc[:6570]\n",
    ")"
   ]
  },
  {
   "cell_type": "code",
   "execution_count": null,
   "id": "db41a772-bd69-4f72-98fb-06059504fe97",
   "metadata": {},
   "outputs": [],
   "source": [
    "df_dr_train.groupby(['days', 'country'], observed = True, as_index = False)['mc'].sum().groupby('country', observed=False).apply(\n",
    "    lambda x: pearsonr(x['days'], x['mc']), include_groups = False\n",
    ")"
   ]
  },
  {
   "cell_type": "code",
   "execution_count": null,
   "id": "612e2e83-7e45-4a2f-8558-23848937db41",
   "metadata": {},
   "outputs": [],
   "source": [
    "from scipy.stats import f_oneway\n",
    "df_dr_train.groupby(['days', 'country', 'weekday'], observed = True, as_index = False)['mc'].sum().groupby('country', observed=True).apply(\n",
    "    lambda x: f_oneway(*x.groupby('weekday')['mc'].agg(list)), include_groups = False\n",
    ")"
   ]
  },
  {
   "cell_type": "code",
   "execution_count": null,
   "id": "47c7f268-854f-435e-93a5-9dd68e62e3c8",
   "metadata": {},
   "outputs": [],
   "source": [
    "df_dr['y_2'] = df_dr['year'] % 2"
   ]
  },
  {
   "cell_type": "code",
   "execution_count": null,
   "id": "ce526034-0691-458d-a277-a9a4f06e1555",
   "metadata": {},
   "outputs": [],
   "source": [
    "s_ratio = df_dr.groupby(['y_2', 'md', 'country', 'product', 'store'], observed = False)['ratio'].mean()\n",
    "s_ratio"
   ]
  },
  {
   "cell_type": "code",
   "execution_count": null,
   "id": "7edad634-e32f-4e24-a565-4a532e897728",
   "metadata": {},
   "outputs": [],
   "source": [
    "df_dr_est = df_dr[['days', 'y_2', 'md', 'country', 'product', 'store', 'ratio', 'num_sold']].join(\n",
    "    s_ratio.rename('est_ratio'), on = ['y_2', 'md', 'country', 'product', 'store']\n",
    ").join(\n",
    "    df_re['est_sum_prd'].rename('est_sum'), on = 'days'\n",
    ")\n",
    "df_dr_est"
   ]
  },
  {
   "cell_type": "code",
   "execution_count": null,
   "id": "7b5f4126-704d-4661-8daa-24f579ead695",
   "metadata": {},
   "outputs": [],
   "source": [
    "r2_score(\n",
    "    df_dr_est['ratio'], df_dr_est['est_ratio']\n",
    ")"
   ]
  },
  {
   "cell_type": "code",
   "execution_count": null,
   "id": "6e1c937f-228c-4029-8b80-857414126409",
   "metadata": {},
   "outputs": [],
   "source": [
    "mean_absolute_percentage_error(\n",
    "    df_dr_est['num_sold'],  df_dr_est['est_ratio'] * df_dr_est['est_sum']\n",
    ")"
   ]
  },
  {
   "cell_type": "code",
   "execution_count": null,
   "id": "904e714c-9dea-4b0b-9976-8668c170f975",
   "metadata": {},
   "outputs": [],
   "source": [
    "df_dr_t = df_test.assign(\n",
    "    md = lambda x: x['date'].dt.strftime('%m-%d'),\n",
    "    y_2 = lambda x: x['year'] % 2\n",
    ")"
   ]
  },
  {
   "cell_type": "code",
   "execution_count": null,
   "id": "3667d5fa-84f1-4de5-9cfc-4a44b63e9cee",
   "metadata": {},
   "outputs": [],
   "source": [
    "df_dr_t[['days', 'y_2', 'md', 'country', 'product', 'store']].join(\n",
    "    s_ratio.rename('est_ratio'), on = ['y_2', 'md', 'country', 'product', 'store']\n",
    ").join(\n",
    "    df_re_test['est_sum'], on = 'days'\n",
    ").assign(\n",
    "    num_sold = lambda x: x['est_ratio'] * x['est_sum']\n",
    ")[['num_sold']].to_csv(os.path.join('result', 'submission4.csv'))"
   ]
  },
  {
   "cell_type": "code",
   "execution_count": null,
   "id": "c951e015-59ae-4a97-8dec-ec7d1159f7e9",
   "metadata": {},
   "outputs": [],
   "source": [
    "#!kaggle competitions submit -c playground-series-s5e1 -f result/submission4.csv -m \"4\""
   ]
  },
  {
   "cell_type": "code",
   "execution_count": null,
   "id": "ebfb1960-596b-4eb6-8f4d-35d9bb7ca7bd",
   "metadata": {},
   "outputs": [],
   "source": [
    "s_ratio = df_dr.groupby(['y_2', 'md', 'store', 'product', 'country'], observed = False)['ratio'].mean().groupby(['y_2', 'md', 'store', 'product'], observed = False).sum()\n",
    "s_ratio = pd.DataFrame(\n",
    "    0, index = pd.MultiIndex.from_product(\n",
    "        df_dr[['y_2', 'md', 'store', 'product']].apply(lambda x: x.unique()).tolist() + [df_dr['country'].unique().tolist()]\n",
    "    ), columns = ['ratio']\n",
    ").assign(\n",
    "    ratio = lambda x: x.index.map(lambda x: s_ratio.loc[x[:4]] * df_yc_ratio.iloc[-1].loc[x[4]])\n",
    ").dropna()['ratio']"
   ]
  },
  {
   "cell_type": "code",
   "execution_count": null,
   "id": "a9592399-2f5e-4ed3-9a0b-7a55f3e232fe",
   "metadata": {},
   "outputs": [],
   "source": [
    "df_dr_t[['days', 'y_2', 'md', 'country', 'product', 'store']].join(\n",
    "    s_ratio.rename('est_ratio'), on = ['y_2', 'md', 'store', 'product', 'country']\n",
    ").join(\n",
    "    df_re_test['est_sum'], on = 'days'\n",
    ").assign(\n",
    "    num_sold = lambda x: x['est_ratio'] * x['est_sum']\n",
    ")[['num_sold']].to_csv(os.path.join('result', 'submission5.csv'))"
   ]
  },
  {
   "cell_type": "code",
   "execution_count": null,
   "id": "0b6400b1-11c4-40aa-a46d-23c81739f753",
   "metadata": {},
   "outputs": [],
   "source": [
    "#!kaggle competitions submit -c playground-series-s5e1 -f result/submission5.csv -m \"5\""
   ]
  },
  {
   "cell_type": "markdown",
   "id": "916711da-1127-43d5-996c-81675ed99292",
   "metadata": {
    "jp-MarkdownHeadingCollapsed": true
   },
   "source": [
    "# Reformulation Problem 3"
   ]
  },
  {
   "cell_type": "code",
   "execution_count": 43,
   "id": "d22b3db3-948d-4208-b0dd-15391f3d3ec6",
   "metadata": {},
   "outputs": [],
   "source": [
    "df_train['ratio'] = df_train['num_sold'] / df_train.groupby('days')['num_sold'].transform('sum')"
   ]
  },
  {
   "cell_type": "code",
   "execution_count": 44,
   "id": "08e1cc5b-0799-472a-8670-b0228fdf3492",
   "metadata": {},
   "outputs": [
    {
     "data": {
      "text/html": [
       "<div>\n",
       "<style scoped>\n",
       "    .dataframe tbody tr th:only-of-type {\n",
       "        vertical-align: middle;\n",
       "    }\n",
       "\n",
       "    .dataframe tbody tr th {\n",
       "        vertical-align: top;\n",
       "    }\n",
       "\n",
       "    .dataframe thead th {\n",
       "        text-align: right;\n",
       "    }\n",
       "</style>\n",
       "<table border=\"1\" class=\"dataframe\">\n",
       "  <thead>\n",
       "    <tr style=\"text-align: right;\">\n",
       "      <th></th>\n",
       "      <th>date</th>\n",
       "      <th>country</th>\n",
       "      <th>store</th>\n",
       "      <th>product</th>\n",
       "      <th>num_sold</th>\n",
       "      <th>year</th>\n",
       "      <th>month</th>\n",
       "      <th>day</th>\n",
       "      <th>weekday</th>\n",
       "      <th>days</th>\n",
       "      <th>y_8</th>\n",
       "      <th>y_2</th>\n",
       "      <th>md</th>\n",
       "      <th>ratio</th>\n",
       "    </tr>\n",
       "    <tr>\n",
       "      <th>id</th>\n",
       "      <th></th>\n",
       "      <th></th>\n",
       "      <th></th>\n",
       "      <th></th>\n",
       "      <th></th>\n",
       "      <th></th>\n",
       "      <th></th>\n",
       "      <th></th>\n",
       "      <th></th>\n",
       "      <th></th>\n",
       "      <th></th>\n",
       "      <th></th>\n",
       "      <th></th>\n",
       "      <th></th>\n",
       "    </tr>\n",
       "  </thead>\n",
       "  <tbody>\n",
       "    <tr>\n",
       "      <th>0</th>\n",
       "      <td>2010-01-01</td>\n",
       "      <td>Canada</td>\n",
       "      <td>Discount Stickers</td>\n",
       "      <td>Holographic Goose</td>\n",
       "      <td>145.205307</td>\n",
       "      <td>2010</td>\n",
       "      <td>1</td>\n",
       "      <td>1</td>\n",
       "      <td>5</td>\n",
       "      <td>0</td>\n",
       "      <td>False</td>\n",
       "      <td>0</td>\n",
       "      <td>01-01</td>\n",
       "      <td>0.001694</td>\n",
       "    </tr>\n",
       "    <tr>\n",
       "      <th>1</th>\n",
       "      <td>2010-01-01</td>\n",
       "      <td>Canada</td>\n",
       "      <td>Discount Stickers</td>\n",
       "      <td>Kaggle</td>\n",
       "      <td>973.000000</td>\n",
       "      <td>2010</td>\n",
       "      <td>1</td>\n",
       "      <td>1</td>\n",
       "      <td>5</td>\n",
       "      <td>0</td>\n",
       "      <td>False</td>\n",
       "      <td>0</td>\n",
       "      <td>01-01</td>\n",
       "      <td>0.011352</td>\n",
       "    </tr>\n",
       "    <tr>\n",
       "      <th>2</th>\n",
       "      <td>2010-01-01</td>\n",
       "      <td>Canada</td>\n",
       "      <td>Discount Stickers</td>\n",
       "      <td>Kaggle Tiers</td>\n",
       "      <td>906.000000</td>\n",
       "      <td>2010</td>\n",
       "      <td>1</td>\n",
       "      <td>1</td>\n",
       "      <td>5</td>\n",
       "      <td>0</td>\n",
       "      <td>False</td>\n",
       "      <td>0</td>\n",
       "      <td>01-01</td>\n",
       "      <td>0.010570</td>\n",
       "    </tr>\n",
       "    <tr>\n",
       "      <th>3</th>\n",
       "      <td>2010-01-01</td>\n",
       "      <td>Canada</td>\n",
       "      <td>Discount Stickers</td>\n",
       "      <td>Kerneler</td>\n",
       "      <td>423.000000</td>\n",
       "      <td>2010</td>\n",
       "      <td>1</td>\n",
       "      <td>1</td>\n",
       "      <td>5</td>\n",
       "      <td>0</td>\n",
       "      <td>False</td>\n",
       "      <td>0</td>\n",
       "      <td>01-01</td>\n",
       "      <td>0.004935</td>\n",
       "    </tr>\n",
       "    <tr>\n",
       "      <th>4</th>\n",
       "      <td>2010-01-01</td>\n",
       "      <td>Canada</td>\n",
       "      <td>Discount Stickers</td>\n",
       "      <td>Kerneler Dark Mode</td>\n",
       "      <td>491.000000</td>\n",
       "      <td>2010</td>\n",
       "      <td>1</td>\n",
       "      <td>1</td>\n",
       "      <td>5</td>\n",
       "      <td>0</td>\n",
       "      <td>False</td>\n",
       "      <td>0</td>\n",
       "      <td>01-01</td>\n",
       "      <td>0.005728</td>\n",
       "    </tr>\n",
       "    <tr>\n",
       "      <th>...</th>\n",
       "      <td>...</td>\n",
       "      <td>...</td>\n",
       "      <td>...</td>\n",
       "      <td>...</td>\n",
       "      <td>...</td>\n",
       "      <td>...</td>\n",
       "      <td>...</td>\n",
       "      <td>...</td>\n",
       "      <td>...</td>\n",
       "      <td>...</td>\n",
       "      <td>...</td>\n",
       "      <td>...</td>\n",
       "      <td>...</td>\n",
       "      <td>...</td>\n",
       "    </tr>\n",
       "    <tr>\n",
       "      <th>230125</th>\n",
       "      <td>2016-12-31</td>\n",
       "      <td>Singapore</td>\n",
       "      <td>Premium Sticker Mart</td>\n",
       "      <td>Holographic Goose</td>\n",
       "      <td>466.000000</td>\n",
       "      <td>2016</td>\n",
       "      <td>12</td>\n",
       "      <td>31</td>\n",
       "      <td>6</td>\n",
       "      <td>2556</td>\n",
       "      <td>False</td>\n",
       "      <td>0</td>\n",
       "      <td>12-31</td>\n",
       "      <td>0.005713</td>\n",
       "    </tr>\n",
       "    <tr>\n",
       "      <th>230126</th>\n",
       "      <td>2016-12-31</td>\n",
       "      <td>Singapore</td>\n",
       "      <td>Premium Sticker Mart</td>\n",
       "      <td>Kaggle</td>\n",
       "      <td>2907.000000</td>\n",
       "      <td>2016</td>\n",
       "      <td>12</td>\n",
       "      <td>31</td>\n",
       "      <td>6</td>\n",
       "      <td>2556</td>\n",
       "      <td>False</td>\n",
       "      <td>0</td>\n",
       "      <td>12-31</td>\n",
       "      <td>0.035637</td>\n",
       "    </tr>\n",
       "    <tr>\n",
       "      <th>230127</th>\n",
       "      <td>2016-12-31</td>\n",
       "      <td>Singapore</td>\n",
       "      <td>Premium Sticker Mart</td>\n",
       "      <td>Kaggle Tiers</td>\n",
       "      <td>2299.000000</td>\n",
       "      <td>2016</td>\n",
       "      <td>12</td>\n",
       "      <td>31</td>\n",
       "      <td>6</td>\n",
       "      <td>2556</td>\n",
       "      <td>False</td>\n",
       "      <td>0</td>\n",
       "      <td>12-31</td>\n",
       "      <td>0.028184</td>\n",
       "    </tr>\n",
       "    <tr>\n",
       "      <th>230128</th>\n",
       "      <td>2016-12-31</td>\n",
       "      <td>Singapore</td>\n",
       "      <td>Premium Sticker Mart</td>\n",
       "      <td>Kerneler</td>\n",
       "      <td>1242.000000</td>\n",
       "      <td>2016</td>\n",
       "      <td>12</td>\n",
       "      <td>31</td>\n",
       "      <td>6</td>\n",
       "      <td>2556</td>\n",
       "      <td>False</td>\n",
       "      <td>0</td>\n",
       "      <td>12-31</td>\n",
       "      <td>0.015226</td>\n",
       "    </tr>\n",
       "    <tr>\n",
       "      <th>230129</th>\n",
       "      <td>2016-12-31</td>\n",
       "      <td>Singapore</td>\n",
       "      <td>Premium Sticker Mart</td>\n",
       "      <td>Kerneler Dark Mode</td>\n",
       "      <td>1622.000000</td>\n",
       "      <td>2016</td>\n",
       "      <td>12</td>\n",
       "      <td>31</td>\n",
       "      <td>6</td>\n",
       "      <td>2556</td>\n",
       "      <td>False</td>\n",
       "      <td>0</td>\n",
       "      <td>12-31</td>\n",
       "      <td>0.019884</td>\n",
       "    </tr>\n",
       "  </tbody>\n",
       "</table>\n",
       "<p>230130 rows × 14 columns</p>\n",
       "</div>"
      ],
      "text/plain": [
       "             date    country                 store             product  \\\n",
       "id                                                                       \n",
       "0      2010-01-01     Canada     Discount Stickers   Holographic Goose   \n",
       "1      2010-01-01     Canada     Discount Stickers              Kaggle   \n",
       "2      2010-01-01     Canada     Discount Stickers        Kaggle Tiers   \n",
       "3      2010-01-01     Canada     Discount Stickers            Kerneler   \n",
       "4      2010-01-01     Canada     Discount Stickers  Kerneler Dark Mode   \n",
       "...           ...        ...                   ...                 ...   \n",
       "230125 2016-12-31  Singapore  Premium Sticker Mart   Holographic Goose   \n",
       "230126 2016-12-31  Singapore  Premium Sticker Mart              Kaggle   \n",
       "230127 2016-12-31  Singapore  Premium Sticker Mart        Kaggle Tiers   \n",
       "230128 2016-12-31  Singapore  Premium Sticker Mart            Kerneler   \n",
       "230129 2016-12-31  Singapore  Premium Sticker Mart  Kerneler Dark Mode   \n",
       "\n",
       "           num_sold  year  month  day  weekday  days    y_8  y_2     md  \\\n",
       "id                                                                        \n",
       "0        145.205307  2010      1    1        5     0  False    0  01-01   \n",
       "1        973.000000  2010      1    1        5     0  False    0  01-01   \n",
       "2        906.000000  2010      1    1        5     0  False    0  01-01   \n",
       "3        423.000000  2010      1    1        5     0  False    0  01-01   \n",
       "4        491.000000  2010      1    1        5     0  False    0  01-01   \n",
       "...             ...   ...    ...  ...      ...   ...    ...  ...    ...   \n",
       "230125   466.000000  2016     12   31        6  2556  False    0  12-31   \n",
       "230126  2907.000000  2016     12   31        6  2556  False    0  12-31   \n",
       "230127  2299.000000  2016     12   31        6  2556  False    0  12-31   \n",
       "230128  1242.000000  2016     12   31        6  2556  False    0  12-31   \n",
       "230129  1622.000000  2016     12   31        6  2556  False    0  12-31   \n",
       "\n",
       "           ratio  \n",
       "id                \n",
       "0       0.001694  \n",
       "1       0.011352  \n",
       "2       0.010570  \n",
       "3       0.004935  \n",
       "4       0.005728  \n",
       "...          ...  \n",
       "230125  0.005713  \n",
       "230126  0.035637  \n",
       "230127  0.028184  \n",
       "230128  0.015226  \n",
       "230129  0.019884  \n",
       "\n",
       "[230130 rows x 14 columns]"
      ]
     },
     "execution_count": 44,
     "metadata": {},
     "output_type": "execute_result"
    }
   ],
   "source": [
    "df_train"
   ]
  },
  {
   "cell_type": "code",
   "execution_count": 45,
   "id": "20b51d5e-26e8-4b0a-a1a6-c364b7c81109",
   "metadata": {},
   "outputs": [],
   "source": [
    "df_sp_ratio = df_train.groupby(['year', 'y_2', 'md', 'store', 'product'], observed = True, as_index = False)['ratio'].sum()\\\n",
    "    .groupby(['y_2', 'md', 'store', 'product'], observed = True)['ratio'].mean().rename('sp_ratio')"
   ]
  },
  {
   "cell_type": "code",
   "execution_count": 46,
   "id": "7e0a9203-bdad-40e6-ab8f-2cc8419faa27",
   "metadata": {},
   "outputs": [],
   "source": [
    "df_train = df_train.join(df_sp_ratio, on = ['y_2', 'md', 'store', 'product'])\n",
    "df_test = df_test.join(df_sp_ratio, on = ['y_2', 'md', 'store', 'product'])"
   ]
  },
  {
   "cell_type": "code",
   "execution_count": 47,
   "id": "ab51c63b-20cb-440e-b832-49c744ba8d82",
   "metadata": {},
   "outputs": [
    {
     "data": {
      "text/plain": [
       "(0.038968872, 0.9957587718963623)"
      ]
     },
     "execution_count": 47,
     "metadata": {},
     "output_type": "execute_result"
    }
   ],
   "source": [
    "df_train.assign(\n",
    "    num_sold_c = lambda x: x.groupby(['days', 'country'], observed = True)['num_sold'].transform('sum'),\n",
    "    num_sold_est = lambda x: x['num_sold_c'] * x['sp_ratio']\n",
    ").pipe(\n",
    "    lambda x: (\n",
    "        mean_absolute_percentage_error(x['num_sold'], x['num_sold_est']),\n",
    "        r2_score(x['num_sold'], x['num_sold_est'])\n",
    "    )\n",
    ")"
   ]
  },
  {
   "cell_type": "code",
   "execution_count": 48,
   "id": "48ff718a-58c3-4084-bc01-ecc1d02aaeed",
   "metadata": {},
   "outputs": [
    {
     "data": {
      "text/html": [
       "<div>\n",
       "<style scoped>\n",
       "    .dataframe tbody tr th:only-of-type {\n",
       "        vertical-align: middle;\n",
       "    }\n",
       "\n",
       "    .dataframe tbody tr th {\n",
       "        vertical-align: top;\n",
       "    }\n",
       "\n",
       "    .dataframe thead th {\n",
       "        text-align: right;\n",
       "    }\n",
       "</style>\n",
       "<table border=\"1\" class=\"dataframe\">\n",
       "  <thead>\n",
       "    <tr style=\"text-align: right;\">\n",
       "      <th></th>\n",
       "      <th>date</th>\n",
       "      <th>country</th>\n",
       "      <th>year</th>\n",
       "      <th>month</th>\n",
       "      <th>day</th>\n",
       "      <th>weekday</th>\n",
       "      <th>days</th>\n",
       "      <th>y_8</th>\n",
       "      <th>y_2</th>\n",
       "      <th>md</th>\n",
       "      <th>num_sold</th>\n",
       "    </tr>\n",
       "  </thead>\n",
       "  <tbody>\n",
       "    <tr>\n",
       "      <th>0</th>\n",
       "      <td>2010-01-01</td>\n",
       "      <td>Canada</td>\n",
       "      <td>2010</td>\n",
       "      <td>1</td>\n",
       "      <td>1</td>\n",
       "      <td>5</td>\n",
       "      <td>0</td>\n",
       "      <td>False</td>\n",
       "      <td>0</td>\n",
       "      <td>01-01</td>\n",
       "      <td>15244.205078</td>\n",
       "    </tr>\n",
       "    <tr>\n",
       "      <th>1</th>\n",
       "      <td>2010-01-01</td>\n",
       "      <td>Finland</td>\n",
       "      <td>2010</td>\n",
       "      <td>1</td>\n",
       "      <td>1</td>\n",
       "      <td>5</td>\n",
       "      <td>0</td>\n",
       "      <td>False</td>\n",
       "      <td>0</td>\n",
       "      <td>01-01</td>\n",
       "      <td>15360.000000</td>\n",
       "    </tr>\n",
       "    <tr>\n",
       "      <th>2</th>\n",
       "      <td>2010-01-01</td>\n",
       "      <td>Italy</td>\n",
       "      <td>2010</td>\n",
       "      <td>1</td>\n",
       "      <td>1</td>\n",
       "      <td>5</td>\n",
       "      <td>0</td>\n",
       "      <td>False</td>\n",
       "      <td>0</td>\n",
       "      <td>01-01</td>\n",
       "      <td>11645.000000</td>\n",
       "    </tr>\n",
       "    <tr>\n",
       "      <th>3</th>\n",
       "      <td>2010-01-01</td>\n",
       "      <td>Kenya</td>\n",
       "      <td>2010</td>\n",
       "      <td>1</td>\n",
       "      <td>1</td>\n",
       "      <td>5</td>\n",
       "      <td>0</td>\n",
       "      <td>False</td>\n",
       "      <td>0</td>\n",
       "      <td>01-01</td>\n",
       "      <td>295.828796</td>\n",
       "    </tr>\n",
       "    <tr>\n",
       "      <th>4</th>\n",
       "      <td>2010-01-01</td>\n",
       "      <td>Norway</td>\n",
       "      <td>2010</td>\n",
       "      <td>1</td>\n",
       "      <td>1</td>\n",
       "      <td>5</td>\n",
       "      <td>0</td>\n",
       "      <td>False</td>\n",
       "      <td>0</td>\n",
       "      <td>01-01</td>\n",
       "      <td>27923.000000</td>\n",
       "    </tr>\n",
       "  </tbody>\n",
       "</table>\n",
       "</div>"
      ],
      "text/plain": [
       "        date  country  year  month  day  weekday  days    y_8  y_2     md  \\\n",
       "0 2010-01-01   Canada  2010      1    1        5     0  False    0  01-01   \n",
       "1 2010-01-01  Finland  2010      1    1        5     0  False    0  01-01   \n",
       "2 2010-01-01    Italy  2010      1    1        5     0  False    0  01-01   \n",
       "3 2010-01-01    Kenya  2010      1    1        5     0  False    0  01-01   \n",
       "4 2010-01-01   Norway  2010      1    1        5     0  False    0  01-01   \n",
       "\n",
       "       num_sold  \n",
       "0  15244.205078  \n",
       "1  15360.000000  \n",
       "2  11645.000000  \n",
       "3    295.828796  \n",
       "4  27923.000000  "
      ]
     },
     "execution_count": 48,
     "metadata": {},
     "output_type": "execute_result"
    }
   ],
   "source": [
    "df_train_c = df_train.groupby(\n",
    "    ['date', 'country', 'year', 'month', 'day', 'weekday', 'days', 'y_8', 'y_2', 'md'], observed = True, as_index=False\n",
    ")['num_sold'].sum()\n",
    "df_train_c.head()"
   ]
  },
  {
   "cell_type": "code",
   "execution_count": 49,
   "id": "9e437db8-1c65-4dc6-b670-e624642d96d5",
   "metadata": {},
   "outputs": [
    {
     "data": {
      "text/plain": [
       "<Axes: xlabel='num_sold', ylabel='Count'>"
      ]
     },
     "execution_count": 49,
     "metadata": {},
     "output_type": "execute_result"
    },
    {
     "data": {
      "image/png": "[encoded data removed]",
      "text/plain": [
       "<Figure size 640x480 with 1 Axes>"
      ]
     },
     "metadata": {},
     "output_type": "display_data"
    }
   ],
   "source": [
    "sns.histplot(df_train_c, x = 'num_sold')"
   ]
  },
  {
   "cell_type": "code",
   "execution_count": 51,
   "id": "1843a93b-88b8-4d77-8d7e-c17ee3d3ae56",
   "metadata": {},
   "outputs": [],
   "source": [
    "df_train_c = df_train_c.join(df_dt, on = 'days')\n",
    "df_test = df_test.join(df_dt, on = 'days')"
   ]
  },
  {
   "cell_type": "markdown",
   "id": "62a8c454-e92a-4ef7-9dea-b4644bdf385f",
   "metadata": {},
   "source": [
    "## ML Pilot"
   ]
  },
  {
   "cell_type": "code",
   "execution_count": 65,
   "id": "b78b45dc-2bf4-4331-81ff-5937fc2c3914",
   "metadata": {},
   "outputs": [],
   "source": [
    "from sklearn.model_selection import StratifiedShuffleSplit, train_test_split\n",
    "from sklearn.linear_model import LogisticRegression\n",
    "\n",
    "def get_validation_splitter(validation_fraction):\n",
    "    return lambda x: train_test_split(x, test_size = validation_fraction, stratify=x['md'])\n",
    "\n",
    "config = {\n",
    "    'predict_func': lambda m, df, X: pd.Series(m.predict(df[X]), index = df.index),\n",
    "    'score_func': lambda df, prds: r2_score(df[target].sort_index(), prds.sort_index()),\n",
    "    'validation_splitter': get_validation_splitter,\n",
    "    'progress_callback': sgml.ProgressCallBack(), \n",
    "    'return_train_scores': True,\n",
    "    'sp_y': 'md',\n",
    "    'y': 'num_sold',\n",
    "    'target_func': lambda a, b: np.log(b),\n",
    "    'target_invfunc': lambda b: np.exp(b)\n",
    "}\n",
    "\n",
    "ss = StratifiedShuffleSplit(n_splits = 1, train_size = 0.7, random_state = 123)\n",
    "\n",
    "cb_adapter = sgml.CBAdapter(cb.CatBoostRegressor)\n",
    "lr_adapter = sgml.SklearnAdapter(LinearRegression)\n",
    "lgb_adapter = sgml.LGBMAdapter(lgb.LGBMRegressor)\n",
    "xgb_adapter = sgml.XGBAdapter(xgb.XGBRegressor)"
   ]
  },
  {
   "cell_type": "code",
   "execution_count": 83,
   "id": "7d226a38-1df8-4e9a-8591-f8d217581f29",
   "metadata": {},
   "outputs": [
    {
     "data": {
      "application/vnd.jupyter.widget-view+json": {
       "model_id": "",
       "version_major": 2,
       "version_minor": 0
      },
      "text/plain": [
       "Fold:   0%|          | 0/1 [00:00<?, ?it/s]"
      ]
     },
     "metadata": {},
     "output_type": "display_data"
    },
    {
     "data": {
      "text/plain": [
       "([0.9716870038089741], [0.9739016216533336])"
      ]
     },
     "execution_count": 83,
     "metadata": {},
     "output_type": "execute_result"
    }
   ],
   "source": [
    "hparams = {\n",
    "    'model_params': {},\n",
    "    'X_mm': ['days'],\n",
    "    'X_num': ['c1', 's1', 'c2', 's2'],\n",
    "    'X_ohe': ['md', 'weekday', 'country', 'y_8'], 'ohe': {'drop': 'first'}\n",
    "}\n",
    "result = sgml.cv(df_train_c, ss, hparams, config, lr_adapter, result_proc = sgml.lr_learning_result)\n",
    "result['valid_scores'], result['train_scores']"
   ]
  },
  {
   "cell_type": "code",
   "execution_count": 81,
   "id": "0b8c2b11-5f71-4879-aee2-718e3b053483",
   "metadata": {},
   "outputs": [
    {
     "data": {
      "application/vnd.jupyter.widget-view+json": {
       "model_id": "",
       "version_major": 2,
       "version_minor": 0
      },
      "text/plain": [
       "Fold:   0%|          | 0/1 [00:00<?, ?it/s]"
      ]
     },
     "metadata": {},
     "output_type": "display_data"
    },
    {
     "data": {
      "application/vnd.jupyter.widget-view+json": {
       "model_id": "",
       "version_major": 2,
       "version_minor": 0
      },
      "text/plain": [
       "Round:   0%|          | 0/1500 [00:00<?, ?it/s]"
      ]
     },
     "metadata": {},
     "output_type": "display_data"
    },
    {
     "data": {
      "text/plain": [
       "([0.9853277825959562], [0.9972698017839231])"
      ]
     },
     "execution_count": 81,
     "metadata": {},
     "output_type": "execute_result"
    }
   ],
   "source": [
    "hparams = {\n",
    "    'model_params': {'n_estimators': 1500, 'learning_rate': 0.1},\n",
    "    'X_num': ['c1', 's1', 'c2', 's2'],\n",
    "    'X_cat': ['md', 'weekday', 'country', 'y_8']\n",
    "}\n",
    "result = sc.cache_result(\n",
    "    'lgb_pilot', lambda : sgml.cv(df_train_c, ss, hparams, config, lgb_adapter), rerun = 0\n",
    ")\n",
    "result['valid_scores'], result['train_scores']"
   ]
  },
  {
   "cell_type": "code",
   "execution_count": 82,
   "id": "48e31667-032c-443f-84bf-4ed6308c1b7b",
   "metadata": {},
   "outputs": [
    {
     "data": {
      "application/vnd.jupyter.widget-view+json": {
       "model_id": "",
       "version_major": 2,
       "version_minor": 0
      },
      "text/plain": [
       "Fold:   0%|          | 0/1 [00:00<?, ?it/s]"
      ]
     },
     "metadata": {},
     "output_type": "display_data"
    },
    {
     "data": {
      "application/vnd.jupyter.widget-view+json": {
       "model_id": "",
       "version_major": 2,
       "version_minor": 0
      },
      "text/plain": [
       "Round:   0%|          | 0/1500 [00:00<?, ?it/s]"
      ]
     },
     "metadata": {},
     "output_type": "display_data"
    },
    {
     "data": {
      "text/plain": [
       "([0.9838331937789917], [0.9951622486114502])"
      ]
     },
     "execution_count": 82,
     "metadata": {},
     "output_type": "execute_result"
    }
   ],
   "source": [
    "hparams = {\n",
    "    'model_params': {'n_estimators': 1500, 'learning_rate': 0.1},\n",
    "    'X_num': ['c1', 's1', 'c2', 's2'],\n",
    "    'X_ohe': ['md', 'weekday', 'country', 'y_8'], 'ohe': {'drop': 'if_binary'}\n",
    "}\n",
    "result = sc.cache_result(\n",
    "    'xgb_pilot', lambda : sgml.cv(df_train_c, ss, hparams, config, xgb_adapter), rerun = 0\n",
    ")\n",
    "result['valid_scores'], result['train_scores']"
   ]
  },
  {
   "cell_type": "code",
   "execution_count": 118,
   "id": "a9796c66-100e-4e9a-8328-e49f959e2186",
   "metadata": {},
   "outputs": [
    {
     "data": {
      "text/plain": [
       "([0.9882231101454206], [0.991856106837399])"
      ]
     },
     "execution_count": 118,
     "metadata": {},
     "output_type": "execute_result"
    }
   ],
   "source": [
    "hparams = {\n",
    "    'model_params': {'n_estimators': 1500, 'learning_rate': 0.1},\n",
    "    'X_num': ['c1', 's1', 'c2', 's2'],\n",
    "    'X_ohe': ['md', 'weekday', 'country', 'y_8'], 'ohe': {'drop': 'if_binary', 'sparse_output': False}\n",
    "}\n",
    "result = sc.cache_result(\n",
    "    'cb_pilot', lambda : sgml.cv(df_train_c, ss, hparams, config, cb_adapter), rerun = 0\n",
    ")\n",
    "result['valid_scores'], result['train_scores']"
   ]
  },
  {
   "cell_type": "code",
   "execution_count": 119,
   "id": "5e65756f-2ebf-4bcb-a2bf-2e417930a813",
   "metadata": {},
   "outputs": [
    {
     "data": {
      "application/vnd.jupyter.widget-view+json": {
       "model_id": "",
       "version_major": 2,
       "version_minor": 0
      },
      "text/plain": [
       "Round:   0%|          | 0/1500 [00:00<?, ?it/s]"
      ]
     },
     "metadata": {},
     "output_type": "display_data"
    }
   ],
   "source": [
    "hparams = {\n",
    "    'model_params': {'n_estimators': 1500, 'learning_rate': 0.1},\n",
    "    'X_num': ['c1', 's1', 'c2', 's2'],\n",
    "    'X_cat': ['md', 'weekday', 'country']\n",
    "}\n",
    "result_lgb = sgml.train(df_train_c, hparams, config, lgb_adapter)"
   ]
  },
  {
   "cell_type": "code",
   "execution_count": 128,
   "id": "e4290dbf-0076-485c-a76c-30661074a86d",
   "metadata": {},
   "outputs": [],
   "source": [
    "(df_test['sp_ratio'] * np.exp(make_pipeline(result_lgb[0]['preprocessor'], result_lgb[0]['model']).predict(df_test[result_lgb[1]]))).rename('num_sold')\\\n",
    "    .to_frame().to_csv(os.path.join('result', 'submission7.csv'))"
   ]
  },
  {
   "cell_type": "code",
   "execution_count": 125,
   "id": "7516a8b5-d529-4fee-aedd-b093fa0a94be",
   "metadata": {},
   "outputs": [
    {
     "data": {
      "text/plain": [
       "0.07175594903253943"
      ]
     },
     "execution_count": 125,
     "metadata": {},
     "output_type": "execute_result"
    }
   ],
   "source": [
    "df_train.join(\n",
    "    df_train_c.join(\n",
    "        result['valid_prd'].rename('num_sold_prd'), how = 'inner'\n",
    "    ).set_index(['country', 'days'])['num_sold_prd'], how = 'inner', on = ['country', 'days']\n",
    ").pipe(\n",
    "    lambda x: mean_absolute_percentage_error(x['num_sold'], x['sp_ratio'] * x['num_sold_prd'])\n",
    ")"
   ]
  },
  {
   "cell_type": "code",
   "execution_count": null,
   "id": "2f6638d6-8fe8-4a11-90ad-c4b0c974ce3b",
   "metadata": {},
   "outputs": [],
   "source": [
    "df_train = df_train.join(df_dt, on = 'date')\n",
    "df_test = df_test.join(df_dt, on = 'date')"
   ]
  },
  {
   "cell_type": "code",
   "execution_count": 115,
   "id": "44dfd558-359c-4a51-82bf-1f2eda69fdcf",
   "metadata": {},
   "outputs": [],
   "source": [
    "df_train.to_parquet(os.path.join('data', 'train.parquet'))\n",
    "df_test.to_parquet(os.path.join('data', 'test.parquet'))\n",
    "df_train_c.to_parquet(os.path.join('data', 'train_c.parquet'))"
   ]
  },
  {
   "cell_type": "markdown",
   "id": "ec304bcb-015f-4f41-a61f-d6b1f567bb42",
   "metadata": {},
   "source": [
    "# Directly"
   ]
  },
  {
   "cell_type": "code",
   "execution_count": 102,
   "id": "1b3aa400-e852-44f2-a058-c288aea03b33",
   "metadata": {},
   "outputs": [],
   "source": [
    "config2 = {\n",
    "    'predict_func': lambda m, df, X: pd.Series(m.predict(df[X]), index = df.index),\n",
    "    'score_func': lambda df, prds: mean_absolute_percentage_error(df[target].sort_index(), prds.sort_index()),\n",
    "    'validation_splitter': get_validation_splitter,\n",
    "    'progress_callback': sgml.ProgressCallBack(), \n",
    "    'return_train_scores': True,\n",
    "    'sp_y': 'md',\n",
    "    'y': 'num_sold',\n",
    "    'target_func': lambda a, b: np.log(b),\n",
    "    'target_invfunc': lambda b: np.exp(b)\n",
    "}"
   ]
  },
  {
   "cell_type": "code",
   "execution_count": 105,
   "id": "19c3c74a-7992-4ef4-81e3-141ef3bc7ec6",
   "metadata": {},
   "outputs": [
    {
     "data": {
      "application/vnd.jupyter.widget-view+json": {
       "model_id": "",
       "version_major": 2,
       "version_minor": 0
      },
      "text/plain": [
       "Fold:   0%|          | 0/1 [00:00<?, ?it/s]"
      ]
     },
     "metadata": {},
     "output_type": "display_data"
    },
    {
     "data": {
      "text/plain": [
       "([0.11425708984806618], [0.11407745336591196])"
      ]
     },
     "execution_count": 105,
     "metadata": {},
     "output_type": "execute_result"
    }
   ],
   "source": [
    "hparams = {\n",
    "    'model_params': {},\n",
    "    'X_mm': ['days'],\n",
    "    'X_num': ['c1', 's1', 'c2', 's2'],\n",
    "    'X_ohe': ['md', 'weekday', 'country', 'y_8', 'store', 'product'], 'ohe': {'drop': 'first'}\n",
    "}\n",
    "result = sgml.cv(df_train, ss, hparams, config2, lr_adapter, result_proc = sgml.lr_learning_result)\n",
    "result['valid_scores'], result['train_scores']"
   ]
  },
  {
   "cell_type": "code",
   "execution_count": 112,
   "id": "1723d14c-267b-4a19-b900-841ebce4d07a",
   "metadata": {},
   "outputs": [
    {
     "data": {
      "application/vnd.jupyter.widget-view+json": {
       "model_id": "",
       "version_major": 2,
       "version_minor": 0
      },
      "text/plain": [
       "Fold:   0%|          | 0/1 [00:00<?, ?it/s]"
      ]
     },
     "metadata": {},
     "output_type": "display_data"
    },
    {
     "data": {
      "application/vnd.jupyter.widget-view+json": {
       "model_id": "",
       "version_major": 2,
       "version_minor": 0
      },
      "text/plain": [
       "Round:   0%|          | 0/3000 [00:00<?, ?it/s]"
      ]
     },
     "metadata": {},
     "output_type": "display_data"
    },
    {
     "data": {
      "text/plain": [
       "([0.04887108928041132], [0.04790013272064632])"
      ]
     },
     "execution_count": 112,
     "metadata": {},
     "output_type": "execute_result"
    }
   ],
   "source": [
    "hparams = {\n",
    "    'model_params': {'n_estimators': 3000, 'learning_rate': 0.1},\n",
    "    'X_num': ['c1', 's1', 'c2', 's2'],\n",
    "    'X_cat': ['md', 'weekday', 'country', 'y_8', 'store', 'product']\n",
    "}\n",
    "result = sc.cache_result(\n",
    "    'cb_pilot2', lambda : sgml.cv(df_train, ss, hparams, config2, cb_adapter), rerun =1\n",
    ")\n",
    "result['valid_scores'], result['train_scores']"
   ]
  },
  {
   "cell_type": "code",
   "execution_count": null,
   "id": "62383d5a-2633-417a-aa1a-3836b3751707",
   "metadata": {},
   "outputs": [],
   "source": []
  }
 ],
 "metadata": {
  "kernelspec": {
   "display_name": "Python 3 (ipykernel)",
   "language": "python",
   "name": "python3"
  },
  "language_info": {
   "codemirror_mode": {
    "name": "ipython",
    "version": 3
   },
   "file_extension": ".py",
   "mimetype": "text/x-python",
   "name": "python",
   "nbconvert_exporter": "python",
   "pygments_lexer": "ipython3",
   "version": "3.12.6"
  }
 },
 "nbformat": 4,
 "nbformat_minor": 5
}
