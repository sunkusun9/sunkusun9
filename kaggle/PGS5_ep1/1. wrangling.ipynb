{
 "cells": [
  {
   "cell_type": "code",
   "execution_count": 22,
   "id": "56fe2996-ce56-4303-a5e5-8847369de05f",
   "metadata": {},
   "outputs": [],
   "source": [
    "import os\n",
    "import pandas as pd\n",
    "import polars as pl\n",
    "import dproc, sgml, sgutil\n",
    "\n",
    "import joblib"
   ]
  },
  {
   "cell_type": "code",
   "execution_count": 2,
   "id": "b4c86a85-3337-447c-81b7-d400f184cde0",
   "metadata": {},
   "outputs": [],
   "source": [
    "data_path = 'data'\n",
    "files = {\n",
    "    'train': os.path.join(data_path, 'train.csv'),\n",
    "    'test': os.path.join(data_path, 'test.csv'),\n",
    "    'vars': os.path.join(data_path, 'vars.pkl')\n",
    "}"
   ]
  },
  {
   "cell_type": "code",
   "execution_count": 3,
   "id": "2dad128c-794d-4bcb-a72a-2500c4add70d",
   "metadata": {},
   "outputs": [],
   "source": [
    "if (not os.path.isfile(files['train'])) and (not os.path.isfile(files['vars'])):\n",
    "    !kaggle competitions download -c playground-series-s5e1\n",
    "    if not os.path.exists(data_path):\n",
    "        !mkdir data\n",
    "    !unzip playground-series-s5e1.zip -d data\n",
    "    !rm playground-series-s5e1.zip"
   ]
  },
  {
   "cell_type": "code",
   "execution_count": 4,
   "id": "f79052f5-7bce-4d76-b3cb-1646942436e1",
   "metadata": {},
   "outputs": [],
   "source": [
    "df_type = dproc.merge_type_df([\n",
    "    pl.scan_csv(files[i]).pipe(dproc.get_type_df) for i in ['train', 'test']\n",
    "])"
   ]
  },
  {
   "cell_type": "code",
   "execution_count": 5,
   "id": "2f4847a1-9435-4cc7-b279-2867df634fe7",
   "metadata": {},
   "outputs": [],
   "source": [
    "pl_type = dproc.get_type_pl(\n",
    "    df_type, {'date': pl.Datetime}\n",
    ")"
   ]
  },
  {
   "cell_type": "code",
   "execution_count": 21,
   "id": "b2a1537d-0a20-4dde-9049-453c64ec314f",
   "metadata": {},
   "outputs": [
    {
     "data": {
      "text/html": [
       "<div>\n",
       "<style scoped>\n",
       "    .dataframe tbody tr th:only-of-type {\n",
       "        vertical-align: middle;\n",
       "    }\n",
       "\n",
       "    .dataframe tbody tr th {\n",
       "        vertical-align: top;\n",
       "    }\n",
       "\n",
       "    .dataframe thead th {\n",
       "        text-align: right;\n",
       "    }\n",
       "</style>\n",
       "<table border=\"1\" class=\"dataframe\">\n",
       "  <thead>\n",
       "    <tr style=\"text-align: right;\">\n",
       "      <th></th>\n",
       "      <th>min</th>\n",
       "      <th>max</th>\n",
       "      <th>na</th>\n",
       "      <th>count</th>\n",
       "      <th>n_unique</th>\n",
       "      <th>dtype</th>\n",
       "      <th>f32</th>\n",
       "      <th>i32</th>\n",
       "      <th>i16</th>\n",
       "      <th>i8</th>\n",
       "    </tr>\n",
       "    <tr>\n",
       "      <th>feature</th>\n",
       "      <th></th>\n",
       "      <th></th>\n",
       "      <th></th>\n",
       "      <th></th>\n",
       "      <th></th>\n",
       "      <th></th>\n",
       "      <th></th>\n",
       "      <th></th>\n",
       "      <th></th>\n",
       "      <th></th>\n",
       "    </tr>\n",
       "  </thead>\n",
       "  <tbody>\n",
       "    <tr>\n",
       "      <th>country</th>\n",
       "      <td>NaN</td>\n",
       "      <td>NaN</td>\n",
       "      <td>0.0</td>\n",
       "      <td>328680.0</td>\n",
       "      <td>6.0</td>\n",
       "      <td>String</td>\n",
       "      <td>True</td>\n",
       "      <td>True</td>\n",
       "      <td>True</td>\n",
       "      <td>True</td>\n",
       "    </tr>\n",
       "    <tr>\n",
       "      <th>date</th>\n",
       "      <td>NaN</td>\n",
       "      <td>NaN</td>\n",
       "      <td>0.0</td>\n",
       "      <td>328680.0</td>\n",
       "      <td>1826.0</td>\n",
       "      <td>String</td>\n",
       "      <td>True</td>\n",
       "      <td>True</td>\n",
       "      <td>True</td>\n",
       "      <td>True</td>\n",
       "    </tr>\n",
       "    <tr>\n",
       "      <th>id</th>\n",
       "      <td>0.0</td>\n",
       "      <td>328679.0</td>\n",
       "      <td>0.0</td>\n",
       "      <td>328680.0</td>\n",
       "      <td>164340.0</td>\n",
       "      <td>Int64</td>\n",
       "      <td>True</td>\n",
       "      <td>True</td>\n",
       "      <td>False</td>\n",
       "      <td>False</td>\n",
       "    </tr>\n",
       "    <tr>\n",
       "      <th>num_sold</th>\n",
       "      <td>5.0</td>\n",
       "      <td>5939.0</td>\n",
       "      <td>8871.0</td>\n",
       "      <td>221259.0</td>\n",
       "      <td>4038.0</td>\n",
       "      <td>Float64</td>\n",
       "      <td>True</td>\n",
       "      <td>True</td>\n",
       "      <td>True</td>\n",
       "      <td>False</td>\n",
       "    </tr>\n",
       "    <tr>\n",
       "      <th>product</th>\n",
       "      <td>NaN</td>\n",
       "      <td>NaN</td>\n",
       "      <td>0.0</td>\n",
       "      <td>328680.0</td>\n",
       "      <td>5.0</td>\n",
       "      <td>String</td>\n",
       "      <td>True</td>\n",
       "      <td>True</td>\n",
       "      <td>True</td>\n",
       "      <td>True</td>\n",
       "    </tr>\n",
       "    <tr>\n",
       "      <th>store</th>\n",
       "      <td>NaN</td>\n",
       "      <td>NaN</td>\n",
       "      <td>0.0</td>\n",
       "      <td>328680.0</td>\n",
       "      <td>3.0</td>\n",
       "      <td>String</td>\n",
       "      <td>True</td>\n",
       "      <td>True</td>\n",
       "      <td>True</td>\n",
       "      <td>True</td>\n",
       "    </tr>\n",
       "  </tbody>\n",
       "</table>\n",
       "</div>"
      ],
      "text/plain": [
       "          min       max      na     count  n_unique    dtype   f32   i32  \\\n",
       "feature                                                                    \n",
       "country   NaN       NaN     0.0  328680.0       6.0   String  True  True   \n",
       "date      NaN       NaN     0.0  328680.0    1826.0   String  True  True   \n",
       "id        0.0  328679.0     0.0  328680.0  164340.0    Int64  True  True   \n",
       "num_sold  5.0    5939.0  8871.0  221259.0    4038.0  Float64  True  True   \n",
       "product   NaN       NaN     0.0  328680.0       5.0   String  True  True   \n",
       "store     NaN       NaN     0.0  328680.0       3.0   String  True  True   \n",
       "\n",
       "            i16     i8  \n",
       "feature                 \n",
       "country    True   True  \n",
       "date       True   True  \n",
       "id        False  False  \n",
       "num_sold   True  False  \n",
       "product    True   True  \n",
       "store      True   True  "
      ]
     },
     "execution_count": 21,
     "metadata": {},
     "output_type": "execute_result"
    }
   ],
   "source": [
    "df_type"
   ]
  },
  {
   "cell_type": "code",
   "execution_count": 6,
   "id": "2146a532-0f6c-47af-aa3b-21ebbdc66d7a",
   "metadata": {},
   "outputs": [],
   "source": [
    "df_train = pl.read_csv(files['train'], schema_overrides = pl_type)\n",
    "df_test = pl.read_csv(files['test'], schema_overrides = pl_type)"
   ]
  },
  {
   "cell_type": "code",
   "execution_count": 24,
   "id": "994d0cab-bd54-45ee-bd4a-751bba90c3e2",
   "metadata": {},
   "outputs": [],
   "source": [
    "pl_dt_select = lambda x: x.select(\n",
    "    year = pl.col('date').dt.year(),\n",
    "    month = pl.col('date').dt.month(),\n",
    "    day = pl.col('date').dt.day(),\n",
    "    weekday = pl.col('date').dt.weekday()\n",
    ")"
   ]
  },
  {
   "cell_type": "code",
   "execution_count": 25,
   "id": "84749383-64ea-44fd-9f69-c366d98fb87a",
   "metadata": {},
   "outputs": [
    {
     "data": {
      "text/plain": [
       "['test.joblib']"
      ]
     },
     "execution_count": 25,
     "metadata": {},
     "output_type": "execute_result"
    }
   ],
   "source": [
    "joblib.dump(pl_dt_select, 'test.joblib')"
   ]
  },
  {
   "cell_type": "code",
   "execution_count": 20,
   "id": "e7740b24-54dc-4959-bc83-af159979f2ef",
   "metadata": {},
   "outputs": [
    {
     "data": {
      "text/plain": [
       "(shape: (230_130, 10)\n",
       " ┌────────┬──────────────┬───────────┬──────────────────────┬───┬──────┬───────┬─────┬─────────┐\n",
       " │ id     ┆ date         ┆ country   ┆ store                ┆ … ┆ year ┆ month ┆ day ┆ weekday │\n",
       " │ ---    ┆ ---          ┆ ---       ┆ ---                  ┆   ┆ ---  ┆ ---   ┆ --- ┆ ---     │\n",
       " │ i32    ┆ datetime[μs] ┆ cat       ┆ cat                  ┆   ┆ i32  ┆ i8    ┆ i8  ┆ i8      │\n",
       " ╞════════╪══════════════╪═══════════╪══════════════════════╪═══╪══════╪═══════╪═════╪═════════╡\n",
       " │ 0      ┆ 2010-01-01   ┆ Canada    ┆ Discount Stickers    ┆ … ┆ 2010 ┆ 1     ┆ 1   ┆ 5       │\n",
       " │        ┆ 00:00:00     ┆           ┆                      ┆   ┆      ┆       ┆     ┆         │\n",
       " │ 1      ┆ 2010-01-01   ┆ Canada    ┆ Discount Stickers    ┆ … ┆ 2010 ┆ 1     ┆ 1   ┆ 5       │\n",
       " │        ┆ 00:00:00     ┆           ┆                      ┆   ┆      ┆       ┆     ┆         │\n",
       " │ 2      ┆ 2010-01-01   ┆ Canada    ┆ Discount Stickers    ┆ … ┆ 2010 ┆ 1     ┆ 1   ┆ 5       │\n",
       " │        ┆ 00:00:00     ┆           ┆                      ┆   ┆      ┆       ┆     ┆         │\n",
       " │ 3      ┆ 2010-01-01   ┆ Canada    ┆ Discount Stickers    ┆ … ┆ 2010 ┆ 1     ┆ 1   ┆ 5       │\n",
       " │        ┆ 00:00:00     ┆           ┆                      ┆   ┆      ┆       ┆     ┆         │\n",
       " │ 4      ┆ 2010-01-01   ┆ Canada    ┆ Discount Stickers    ┆ … ┆ 2010 ┆ 1     ┆ 1   ┆ 5       │\n",
       " │        ┆ 00:00:00     ┆           ┆                      ┆   ┆      ┆       ┆     ┆         │\n",
       " │ …      ┆ …            ┆ …         ┆ …                    ┆ … ┆ …    ┆ …     ┆ …   ┆ …       │\n",
       " │ 230125 ┆ 2016-12-31   ┆ Singapore ┆ Premium Sticker Mart ┆ … ┆ 2016 ┆ 12    ┆ 31  ┆ 6       │\n",
       " │        ┆ 00:00:00     ┆           ┆                      ┆   ┆      ┆       ┆     ┆         │\n",
       " │ 230126 ┆ 2016-12-31   ┆ Singapore ┆ Premium Sticker Mart ┆ … ┆ 2016 ┆ 12    ┆ 31  ┆ 6       │\n",
       " │        ┆ 00:00:00     ┆           ┆                      ┆   ┆      ┆       ┆     ┆         │\n",
       " │ 230127 ┆ 2016-12-31   ┆ Singapore ┆ Premium Sticker Mart ┆ … ┆ 2016 ┆ 12    ┆ 31  ┆ 6       │\n",
       " │        ┆ 00:00:00     ┆           ┆                      ┆   ┆      ┆       ┆     ┆         │\n",
       " │ 230128 ┆ 2016-12-31   ┆ Singapore ┆ Premium Sticker Mart ┆ … ┆ 2016 ┆ 12    ┆ 31  ┆ 6       │\n",
       " │        ┆ 00:00:00     ┆           ┆                      ┆   ┆      ┆       ┆     ┆         │\n",
       " │ 230129 ┆ 2016-12-31   ┆ Singapore ┆ Premium Sticker Mart ┆ … ┆ 2016 ┆ 12    ┆ 31  ┆ 6       │\n",
       " │        ┆ 00:00:00     ┆           ┆                      ┆   ┆      ┆       ┆     ┆         │\n",
       " └────────┴──────────────┴───────────┴──────────────────────┴───┴──────┴───────┴─────┴─────────┘,\n",
       "         Description   min   max  na   count  n_unique  dtype   f32   i32  \\\n",
       " val                                                                        \n",
       " year              연  2010  2016   0  230130         7  Int32  True  True   \n",
       " month             월     1    12   0  230130        12   Int8  True  True   \n",
       " day               일     1    31   0  230130        31   Int8  True  True   \n",
       " weekday          요일     1     7   0  230130         7   Int8  True  True   \n",
       " \n",
       "           i16     i8 src  \n",
       " val                       \n",
       " year     True  False  dt  \n",
       " month    True   True  dt  \n",
       " day      True   True  dt  \n",
       " weekday  True   True  dt  )"
      ]
     },
     "execution_count": 20,
     "metadata": {},
     "output_type": "execute_result"
    }
   ],
   "source": [
    "dproc.apply_select(df_train, [\n",
    "    (pl_dt_select, ['연', '월', '일', '요일'])\n",
    "], 'dt')"
   ]
  },
  {
   "cell_type": "code",
   "execution_count": 23,
   "id": "86f48a2b-51d2-4876-8fbe-19b68c8ea2de",
   "metadata": {},
   "outputs": [
    {
     "data": {
      "text/html": [
       "<div><style>\n",
       ".dataframe > thead > tr,\n",
       ".dataframe > tbody > tr {\n",
       "  text-align: right;\n",
       "  white-space: pre-wrap;\n",
       "}\n",
       "</style>\n",
       "<small>shape: (230_130, 6)</small><table border=\"1\" class=\"dataframe\"><thead><tr><th>id</th><th>date</th><th>country</th><th>store</th><th>product</th><th>num_sold</th></tr><tr><td>i32</td><td>datetime[μs]</td><td>cat</td><td>cat</td><td>cat</td><td>f32</td></tr></thead><tbody><tr><td>0</td><td>2010-01-01 00:00:00</td><td>&quot;Canada&quot;</td><td>&quot;Discount Stickers&quot;</td><td>&quot;Holographic Goose&quot;</td><td>null</td></tr><tr><td>1</td><td>2010-01-01 00:00:00</td><td>&quot;Canada&quot;</td><td>&quot;Discount Stickers&quot;</td><td>&quot;Kaggle&quot;</td><td>973.0</td></tr><tr><td>2</td><td>2010-01-01 00:00:00</td><td>&quot;Canada&quot;</td><td>&quot;Discount Stickers&quot;</td><td>&quot;Kaggle Tiers&quot;</td><td>906.0</td></tr><tr><td>3</td><td>2010-01-01 00:00:00</td><td>&quot;Canada&quot;</td><td>&quot;Discount Stickers&quot;</td><td>&quot;Kerneler&quot;</td><td>423.0</td></tr><tr><td>4</td><td>2010-01-01 00:00:00</td><td>&quot;Canada&quot;</td><td>&quot;Discount Stickers&quot;</td><td>&quot;Kerneler Dark Mode&quot;</td><td>491.0</td></tr><tr><td>&hellip;</td><td>&hellip;</td><td>&hellip;</td><td>&hellip;</td><td>&hellip;</td><td>&hellip;</td></tr><tr><td>230125</td><td>2016-12-31 00:00:00</td><td>&quot;Singapore&quot;</td><td>&quot;Premium Sticker Mart&quot;</td><td>&quot;Holographic Goose&quot;</td><td>466.0</td></tr><tr><td>230126</td><td>2016-12-31 00:00:00</td><td>&quot;Singapore&quot;</td><td>&quot;Premium Sticker Mart&quot;</td><td>&quot;Kaggle&quot;</td><td>2907.0</td></tr><tr><td>230127</td><td>2016-12-31 00:00:00</td><td>&quot;Singapore&quot;</td><td>&quot;Premium Sticker Mart&quot;</td><td>&quot;Kaggle Tiers&quot;</td><td>2299.0</td></tr><tr><td>230128</td><td>2016-12-31 00:00:00</td><td>&quot;Singapore&quot;</td><td>&quot;Premium Sticker Mart&quot;</td><td>&quot;Kerneler&quot;</td><td>1242.0</td></tr><tr><td>230129</td><td>2016-12-31 00:00:00</td><td>&quot;Singapore&quot;</td><td>&quot;Premium Sticker Mart&quot;</td><td>&quot;Kerneler Dark Mode&quot;</td><td>1622.0</td></tr></tbody></table></div>"
      ],
      "text/plain": [
       "shape: (230_130, 6)\n",
       "┌────────┬─────────────────────┬───────────┬──────────────────────┬────────────────────┬──────────┐\n",
       "│ id     ┆ date                ┆ country   ┆ store                ┆ product            ┆ num_sold │\n",
       "│ ---    ┆ ---                 ┆ ---       ┆ ---                  ┆ ---                ┆ ---      │\n",
       "│ i32    ┆ datetime[μs]        ┆ cat       ┆ cat                  ┆ cat                ┆ f32      │\n",
       "╞════════╪═════════════════════╪═══════════╪══════════════════════╪════════════════════╪══════════╡\n",
       "│ 0      ┆ 2010-01-01 00:00:00 ┆ Canada    ┆ Discount Stickers    ┆ Holographic Goose  ┆ null     │\n",
       "│ 1      ┆ 2010-01-01 00:00:00 ┆ Canada    ┆ Discount Stickers    ┆ Kaggle             ┆ 973.0    │\n",
       "│ 2      ┆ 2010-01-01 00:00:00 ┆ Canada    ┆ Discount Stickers    ┆ Kaggle Tiers       ┆ 906.0    │\n",
       "│ 3      ┆ 2010-01-01 00:00:00 ┆ Canada    ┆ Discount Stickers    ┆ Kerneler           ┆ 423.0    │\n",
       "│ 4      ┆ 2010-01-01 00:00:00 ┆ Canada    ┆ Discount Stickers    ┆ Kerneler Dark Mode ┆ 491.0    │\n",
       "│ …      ┆ …                   ┆ …         ┆ …                    ┆ …                  ┆ …        │\n",
       "│ 230125 ┆ 2016-12-31 00:00:00 ┆ Singapore ┆ Premium Sticker Mart ┆ Holographic Goose  ┆ 466.0    │\n",
       "│ 230126 ┆ 2016-12-31 00:00:00 ┆ Singapore ┆ Premium Sticker Mart ┆ Kaggle             ┆ 2907.0   │\n",
       "│ 230127 ┆ 2016-12-31 00:00:00 ┆ Singapore ┆ Premium Sticker Mart ┆ Kaggle Tiers       ┆ 2299.0   │\n",
       "│ 230128 ┆ 2016-12-31 00:00:00 ┆ Singapore ┆ Premium Sticker Mart ┆ Kerneler           ┆ 1242.0   │\n",
       "│ 230129 ┆ 2016-12-31 00:00:00 ┆ Singapore ┆ Premium Sticker Mart ┆ Kerneler Dark Mode ┆ 1622.0   │\n",
       "└────────┴─────────────────────┴───────────┴──────────────────────┴────────────────────┴──────────┘"
      ]
     },
     "execution_count": 23,
     "metadata": {},
     "output_type": "execute_result"
    }
   ],
   "source": [
    "df_train"
   ]
  },
  {
   "cell_type": "code",
   "execution_count": null,
   "id": "134938d7-57bf-4f9e-a604-b853957ce6c8",
   "metadata": {},
   "outputs": [],
   "source": []
  }
 ],
 "metadata": {
  "kernelspec": {
   "display_name": "Python 3 (ipykernel)",
   "language": "python",
   "name": "python3"
  },
  "language_info": {
   "codemirror_mode": {
    "name": "ipython",
    "version": 3
   },
   "file_extension": ".py",
   "mimetype": "text/x-python",
   "name": "python",
   "nbconvert_exporter": "python",
   "pygments_lexer": "ipython3",
   "version": "3.12.3"
  }
 },
 "nbformat": 4,
 "nbformat_minor": 5
}
