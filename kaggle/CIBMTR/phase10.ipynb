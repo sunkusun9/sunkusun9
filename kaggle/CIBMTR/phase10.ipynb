{
 "cells": [
  {
   "cell_type": "code",
   "execution_count": 2,
   "id": "32c4f730",
   "metadata": {},
   "outputs": [
    {
     "name": "stdout",
     "output_type": "stream",
     "text": [
      "Collecting lifelines\n",
      "  Downloading lifelines-0.30.0-py3-none-any.whl.metadata (3.2 kB)\n",
      "Requirement already satisfied: numpy>=1.14.0 in /usr/local/lib/python3.10/dist-packages (from lifelines) (1.26.4)\n",
      "Requirement already satisfied: scipy>=1.7.0 in /usr/local/lib/python3.10/dist-packages (from lifelines) (1.13.1)\n",
      "Requirement already satisfied: pandas>=2.1 in /usr/local/lib/python3.10/dist-packages (from lifelines) (2.2.3)\n",
      "Requirement already satisfied: matplotlib>=3.0 in /usr/local/lib/python3.10/dist-packages (from lifelines) (3.7.5)\n",
      "Requirement already satisfied: autograd>=1.5 in /usr/local/lib/python3.10/dist-packages (from lifelines) (1.7.0)\n",
      "Collecting autograd-gamma>=0.3 (from lifelines)\n",
      "  Downloading autograd-gamma-0.5.0.tar.gz (4.0 kB)\n",
      "  Preparing metadata (setup.py) ... \u001b[?25l\u001b[?25hdone\n",
      "Collecting formulaic>=0.2.2 (from lifelines)\n",
      "  Downloading formulaic-1.1.1-py3-none-any.whl.metadata (6.9 kB)\n",
      "Collecting interface-meta>=1.2.0 (from formulaic>=0.2.2->lifelines)\n",
      "  Downloading interface_meta-1.3.0-py3-none-any.whl.metadata (6.7 kB)\n",
      "Requirement already satisfied: typing-extensions>=4.2.0 in /usr/local/lib/python3.10/dist-packages (from formulaic>=0.2.2->lifelines) (4.12.2)\n",
      "Requirement already satisfied: wrapt>=1.0 in /usr/local/lib/python3.10/dist-packages (from formulaic>=0.2.2->lifelines) (1.17.0)\n",
      "Requirement already satisfied: contourpy>=1.0.1 in /usr/local/lib/python3.10/dist-packages (from matplotlib>=3.0->lifelines) (1.3.1)\n",
      "Requirement already satisfied: cycler>=0.10 in /usr/local/lib/python3.10/dist-packages (from matplotlib>=3.0->lifelines) (0.12.1)\n",
      "Requirement already satisfied: fonttools>=4.22.0 in /usr/local/lib/python3.10/dist-packages (from matplotlib>=3.0->lifelines) (4.55.3)\n",
      "Requirement already satisfied: kiwisolver>=1.0.1 in /usr/local/lib/python3.10/dist-packages (from matplotlib>=3.0->lifelines) (1.4.7)\n",
      "Requirement already satisfied: packaging>=20.0 in /usr/local/lib/python3.10/dist-packages (from matplotlib>=3.0->lifelines) (24.2)\n",
      "Requirement already satisfied: pillow>=6.2.0 in /usr/local/lib/python3.10/dist-packages (from matplotlib>=3.0->lifelines) (11.0.0)\n",
      "Requirement already satisfied: pyparsing>=2.3.1 in /usr/local/lib/python3.10/dist-packages (from matplotlib>=3.0->lifelines) (3.2.0)\n",
      "Requirement already satisfied: python-dateutil>=2.7 in /usr/local/lib/python3.10/dist-packages (from matplotlib>=3.0->lifelines) (2.9.0.post0)\n",
      "Requirement already satisfied: mkl_fft in /usr/local/lib/python3.10/dist-packages (from numpy>=1.14.0->lifelines) (1.3.8)\n",
      "Requirement already satisfied: mkl_random in /usr/local/lib/python3.10/dist-packages (from numpy>=1.14.0->lifelines) (1.2.4)\n",
      "Requirement already satisfied: mkl_umath in /usr/local/lib/python3.10/dist-packages (from numpy>=1.14.0->lifelines) (0.1.1)\n",
      "Requirement already satisfied: mkl in /usr/local/lib/python3.10/dist-packages (from numpy>=1.14.0->lifelines) (2025.0.1)\n",
      "Requirement already satisfied: tbb4py in /usr/local/lib/python3.10/dist-packages (from numpy>=1.14.0->lifelines) (2022.0.0)\n",
      "Requirement already satisfied: mkl-service in /usr/local/lib/python3.10/dist-packages (from numpy>=1.14.0->lifelines) (2.4.1)\n",
      "Requirement already satisfied: pytz>=2020.1 in /usr/local/lib/python3.10/dist-packages (from pandas>=2.1->lifelines) (2025.1)\n",
      "Requirement already satisfied: tzdata>=2022.7 in /usr/local/lib/python3.10/dist-packages (from pandas>=2.1->lifelines) (2025.1)\n",
      "Requirement already satisfied: six>=1.5 in /usr/local/lib/python3.10/dist-packages (from python-dateutil>=2.7->matplotlib>=3.0->lifelines) (1.17.0)\n",
      "Requirement already satisfied: intel-openmp>=2024 in /usr/local/lib/python3.10/dist-packages (from mkl->numpy>=1.14.0->lifelines) (2024.2.0)\n",
      "Requirement already satisfied: tbb==2022.* in /usr/local/lib/python3.10/dist-packages (from mkl->numpy>=1.14.0->lifelines) (2022.0.0)\n",
      "Requirement already satisfied: tcmlib==1.* in /usr/local/lib/python3.10/dist-packages (from tbb==2022.*->mkl->numpy>=1.14.0->lifelines) (1.2.0)\n",
      "Requirement already satisfied: intel-cmplr-lib-rt in /usr/local/lib/python3.10/dist-packages (from mkl_umath->numpy>=1.14.0->lifelines) (2024.2.0)\n",
      "Requirement already satisfied: intel-cmplr-lib-ur==2024.2.0 in /usr/local/lib/python3.10/dist-packages (from intel-openmp>=2024->mkl->numpy>=1.14.0->lifelines) (2024.2.0)\n",
      "Downloading lifelines-0.30.0-py3-none-any.whl (349 kB)\n",
      "\u001b[2K   \u001b[90m━━━━━━━━━━━━━━━━━━━━━━━━━━━━━━━━━━━━━━━━\u001b[0m \u001b[32m349.3/349.3 kB\u001b[0m \u001b[31m8.6 MB/s\u001b[0m eta \u001b[36m0:00:00\u001b[0m:00:01\u001b[0m\n",
      "\u001b[?25hDownloading formulaic-1.1.1-py3-none-any.whl (115 kB)\n",
      "\u001b[2K   \u001b[90m━━━━━━━━━━━━━━━━━━━━━━━━━━━━━━━━━━━━━━━━\u001b[0m \u001b[32m115.7/115.7 kB\u001b[0m \u001b[31m7.1 MB/s\u001b[0m eta \u001b[36m0:00:00\u001b[0m\n",
      "\u001b[?25hDownloading interface_meta-1.3.0-py3-none-any.whl (14 kB)\n",
      "Building wheels for collected packages: autograd-gamma\n",
      "  Building wheel for autograd-gamma (setup.py) ... \u001b[?25l\u001b[?25hdone\n",
      "  Created wheel for autograd-gamma: filename=autograd_gamma-0.5.0-py3-none-any.whl size=4031 sha256=9474b835c30c57a248b2fd1924290658d738eca685475084e59332c4c0ed9a0f\n",
      "  Stored in directory: /root/.cache/pip/wheels/25/cc/e0/ef2969164144c899fedb22b338f6703e2b9cf46eeebf254991\n",
      "Successfully built autograd-gamma\n",
      "Installing collected packages: interface-meta, formulaic, autograd-gamma, lifelines\n",
      "Successfully installed autograd-gamma-0.5.0 formulaic-1.1.1 interface-meta-1.3.0 lifelines-0.30.0\n"
     ]
    }
   ],
   "source": [
    "!pip install --upgrade lifelines"
   ]
  },
  {
   "cell_type": "code",
   "execution_count": 1,
   "id": "b9b92a10",
   "metadata": {},
   "outputs": [
    {
     "name": "stdout",
     "output_type": "stream",
     "text": [
      "3.12.6 (main, Sep 30 2024, 02:19:13) [GCC 9.4.0]\n",
      "numpy 1.26.4\n",
      "pandas 2.2.3\n",
      "polars 1.12.0\n",
      "matplotlib 3.8.4\n",
      "seaborn 0.13.2\n",
      "lifelines 0.30.0\n",
      "sklearn 1.5.2\n",
      "lightgbm\n",
      "xgboost 2.1.2\n",
      "catboost 1.2.5\n"
     ]
    }
   ],
   "source": [
    "import os\n",
    "import joblib\n",
    "import numpy as np\n",
    "import pandas as pd\n",
    "import polars as pl\n",
    "\n",
    "import pandas.api.types\n",
    "import matplotlib as mpl\n",
    "import matplotlib.pyplot as plt\n",
    "import seaborn as sns\n",
    "import sklearn\n",
    "\n",
    "import lightgbm as lgb\n",
    "import xgboost as xgb\n",
    "import catboost as cb\n",
    "\n",
    "import lifelines\n",
    "from lifelines.utils import concordance_index\n",
    "\n",
    "import sys\n",
    "\n",
    "print(sys.version)\n",
    "for i in [np, pd, pl, mpl, sns, lifelines, sklearn, lgb, xgb, cb]:\n",
    "    try:\n",
    "        print(i.__name__, i.__version__)\n",
    "    except:\n",
    "        print(i.__name__)"
   ]
  },
  {
   "cell_type": "code",
   "execution_count": 32,
   "id": "089b6927",
   "metadata": {},
   "outputs": [],
   "source": [
    "import dproc, sgutil, sgpp, sgml, custpp\n",
    "from sklearn.pipeline import make_pipeline\n",
    "from sklearn.model_selection import cross_validate, KFold, ShuffleSplit, train_test_split\n",
    "from sklearn.impute import SimpleImputer\n",
    "from lifelines import NelsonAalenFitter, KaplanMeierFitter"
   ]
  },
  {
   "cell_type": "code",
   "execution_count": 3,
   "id": "361fb548",
   "metadata": {},
   "outputs": [],
   "source": [
    "data_path = 'data'\n",
    "img_path = 'img'\n",
    "result_path = 'result'\n",
    "model_path = 'model'\n",
    "\n",
    "sc = sgutil.SGCache(img_path, result_path)\n",
    "\n",
    "data_path = 'data'\n",
    "model_path = 'model'\n",
    "\n",
    "p3 =joblib.load(os.path.join(model_path, 'p3.joblib'))\n",
    "df_train = p3.transform([os.path.join(data_path, 'train.csv')])"
   ]
  },
  {
   "cell_type": "code",
   "execution_count": 4,
   "id": "9df6095a",
   "metadata": {},
   "outputs": [],
   "source": [
    "def get_naf(df, time_col='efs_time', event_col='efs'):\n",
    "    naf = NelsonAalenFitter()\n",
    "    naf.fit(durations=df['efs_time'], event_observed=df['efs'])\n",
    "    return naf.cumulative_hazard_at_times(df['efs_time']).values * -1\n",
    "df_train['naf'] = get_naf(df_train, time_col='efs_time', event_col='efs')"
   ]
  },
  {
   "cell_type": "code",
   "execution_count": 5,
   "id": "9ddafa59",
   "metadata": {},
   "outputs": [],
   "source": [
    "X_bool = ['graft_type', 'prod_type']\n",
    "X_tri = [\n",
    "    'arrhythmia', 'cardiac', 'diabetes', 'hepatic_mild', 'hepatic_severe',\n",
    "    'in_vivo_tcd', 'melphalan_dose', 'mrd_hct', 'obesity', 'peptic_ulcer',\n",
    "    'prior_tumor', 'psych_disturb', 'pulm_moderate', 'pulm_severe', 'renal_issue',\n",
    "    'rheum_issue', 'rituximab', 'vent_hist'\n",
    "]\n",
    "X_nom = [\n",
    "    'cmv_status', 'conditioning_intensity', 'cyto_score', 'cyto_score_detail', 'donor_related',\n",
    "    'dri_score', 'ethnicity', 'gvhd_proph', 'prim_disease_hct', 'race_group', 'sex_match',\n",
    "    'tbi_status', 'tce_div_match', 'tce_imm_match', 'tce_match'\n",
    "]\n",
    "X_na = [\n",
    "    'arrhythmia_na', 'cardiac_na', 'diabetes_na', 'hepatic_mild_na', 'hepatic_severe_na',\n",
    "    'obesity_na', 'peptic_ulcer_na', 'prior_tumor_na', 'psych_disturb_na', 'pulm_moderate_na',\n",
    "    'pulm_severe_na', 'renal_issue_na', 'rheum_issue_na'\n",
    "]\n",
    "X_cont = ['age_at_hct', 'donor_age']\n",
    "X_int = [\n",
    "    'comorbidity_score', 'hla_high_res_10', 'hla_high_res_6', 'hla_high_res_8', 'hla_low_res_10',\n",
    "    'hla_low_res_6', 'hla_low_res_8', 'hla_match_a_high', 'hla_match_a_low', 'hla_match_b_high',\n",
    "    'hla_match_b_low', 'hla_match_drb1_low', 'hla_match_c_high', 'hla_match_c_low', 'hla_match_dqb1_high', 'hla_match_dqb1_low',\n",
    "    'hla_match_drb1_high', 'hla_nmdp_6', 'karnofsky_score', 'year_hct'\n",
    "]\n"
   ]
  },
  {
   "cell_type": "code",
   "execution_count": 6,
   "id": "4ec4f07c",
   "metadata": {},
   "outputs": [],
   "source": [
    "def score(df, prds):\n",
    "    return df.groupby('race_group', observed=True).apply(\n",
    "        lambda x: concordance_index(x['efs_time'], -prds.loc[x.index], x['efs']), include_groups=False\n",
    "    ).pipe(\n",
    "        lambda x: float(x.mean() - x.std(ddof=0))\n",
    "    )\n",
    "def get_validation_splitter(validation_fraction):\n",
    "    return lambda x: train_test_split(x, test_size = validation_fraction)\n",
    "\n",
    "config = {\n",
    "    'predict_func': lambda m, df, X: pd.Series(m.predict(df[X]), index = df.index),\n",
    "    'score_func': score,\n",
    "    'validation_splitter': get_validation_splitter,\n",
    "    'progress_callback': sgml.ProgressCallBack(), \n",
    "    'return_train_scores': True,\n",
    "    'y': 'naf',\n",
    "}\n",
    "\n",
    "kf = KFold(n_splits=5, shuffle=True, random_state = 123)\n",
    "ss = ShuffleSplit(n_splits=1, random_state = 123)\n",
    "lgb_adapter = sgml.LGBMAdapter(lgb.LGBMRegressor)\n",
    "xgb_adapter = sgml.XGBAdapter(xgb.XGBRegressor)\n",
    "cb_adapter = sgml.CBAdapter(cb.CatBoostRegressor)"
   ]
  },
  {
   "cell_type": "markdown",
   "id": "5adfdbd7-459a-41fc-b152-4df88486fbea",
   "metadata": {},
   "source": [
    "# NAF"
   ]
  },
  {
   "cell_type": "code",
   "execution_count": 9,
   "id": "ae40ec34",
   "metadata": {},
   "outputs": [
    {
     "data": {
      "text/plain": [
       "(0.6710307291576871, 0.7719411070846158)"
      ]
     },
     "execution_count": 9,
     "metadata": {},
     "output_type": "execute_result"
    }
   ],
   "source": [
    "lgb6 = sgml.CVModel('model', 'lgb6', kf, config, lgb_adapter).load_if_exists()\n",
    "hparams = {\n",
    "    'model_params': {'num_leaves':  15, 'n_estimators':  3000, 'colsample_bytree': 0.25, 'learning_rate': 0.02},\n",
    "    'X_num': X_tri + X_cont + X_int + X_na + X_bool, \n",
    "    'X_cat': X_nom, 'cat': {'handle_unknown': 'use_encoded_value', 'unknown_value': -1},\n",
    "    #'validation_fraction': 0.1\n",
    "}\n",
    "#result = lgb6.adhoc(df_train, ss, hparams)\n",
    "result = lgb6.cv(df_train, hparams)\n",
    "np.mean(result['valid_scores']), np.mean(result['train_scores'])#,result['model_result'][0]['valid_result'].idxmin()"
   ]
  },
  {
   "cell_type": "code",
   "execution_count": 11,
   "id": "c59b30ab",
   "metadata": {},
   "outputs": [
    {
     "data": {
      "text/plain": [
       "0.6749783679685392"
      ]
     },
     "execution_count": 11,
     "metadata": {},
     "output_type": "execute_result"
    }
   ],
   "source": [
    "score(df_train, lgb6.cv_best_['prd'].sort_index())"
   ]
  },
  {
   "cell_type": "code",
   "execution_count": 16,
   "id": "cd590784-0ee5-41d4-98cd-ff7b6953d8ec",
   "metadata": {},
   "outputs": [
    {
     "data": {
      "text/plain": [
       "0.66963522328283"
      ]
     },
     "execution_count": 16,
     "metadata": {},
     "output_type": "execute_result"
    }
   ],
   "source": [
    "xgb6 = sgml.CVModel('model', 'xgb6', kf, config, xgb_adapter).load_if_exists()\n",
    "hparams = {\n",
    "    'model_params': {\n",
    "        'max_depth': 4, 'colsample_bytree': 0.25, 'subsample': 0.9, 'n_estimators': 3000, 'learning_rate': 0.02\n",
    "    },\n",
    "    'X_num':  X_tri + X_cont + X_int + X_na + X_bool, 'X_cat': X_nom, 'cat': {'handle_unknown': 'ignore'},\n",
    "    #'validation_fraction': 0.1,\n",
    "}\n",
    "#result = xgb6.adhoc(df_train, ss, hparams, device = 'cuda')\n",
    "result = xgb6.cv(df_train, hparams, device = 'cuda')\n",
    "np.mean(result['valid_scores'])#, result['model_result'][0]['valid_result'].idxmin()"
   ]
  },
  {
   "cell_type": "code",
   "execution_count": 18,
   "id": "a2e7afbd-cf50-4e4f-9390-479e3a0154bd",
   "metadata": {},
   "outputs": [
    {
     "data": {
      "text/plain": [
       "0.674085593192686"
      ]
     },
     "execution_count": 18,
     "metadata": {},
     "output_type": "execute_result"
    }
   ],
   "source": [
    "score(df_train, xgb6.cv_best_['prd'].sort_index())"
   ]
  },
  {
   "cell_type": "code",
   "execution_count": 22,
   "id": "75e06be5-13a8-437f-a357-babbb26597a7",
   "metadata": {},
   "outputs": [
    {
     "data": {
      "text/plain": [
       "0.6691212050264922"
      ]
     },
     "execution_count": 22,
     "metadata": {},
     "output_type": "execute_result"
    }
   ],
   "source": [
    "cb6 = sgml.CVModel('model', 'cb6', kf, config, cb_adapter).load_if_exists()\n",
    "hparams = {\n",
    "    'model_params': {\n",
    "        'max_depth': 6, 'n_estimators': 3500, 'learning_rate': 0.03\n",
    "    },\n",
    "    'X_num':  X_tri + X_cont + X_int + X_na + X_bool, 'X_cat': X_nom\n",
    "    #'validation_fraction': 0.1,\n",
    "}\n",
    "#result = cb6.adhoc(df_train, ss, hparams, task_type='GPU')\n",
    "result = cb6.cv(df_train, hparams, task_type = 'GPU')\n",
    "np.mean(result['valid_scores'])#, result['model_result'][0]['valid_result'].idxmin()"
   ]
  },
  {
   "cell_type": "code",
   "execution_count": 23,
   "id": "a6926c2e-d9dc-4de3-977c-de805080b77b",
   "metadata": {},
   "outputs": [
    {
     "data": {
      "text/plain": [
       "0.6735768673796051"
      ]
     },
     "execution_count": 23,
     "metadata": {},
     "output_type": "execute_result"
    }
   ],
   "source": [
    "score(df_train, cb6.cv_best_['prd'].sort_index())"
   ]
  },
  {
   "cell_type": "code",
   "execution_count": 70,
   "id": "9f689632-6d10-43cd-a412-d69953bfc963",
   "metadata": {},
   "outputs": [],
   "source": [
    "models = [lgb6, xgb6, cb6]\n",
    "df_stk = sc.cache_result(\n",
    "    'phase10_stk',\n",
    "    lambda : sgml.stack_cv(models)\n",
    ")"
   ]
  },
  {
   "cell_type": "code",
   "execution_count": 73,
   "id": "5e0c349f-3f0c-4c1a-a30f-caa53b5361fd",
   "metadata": {},
   "outputs": [
    {
     "data": {
      "text/plain": [
       "0.6765512805195582"
      ]
     },
     "execution_count": 73,
     "metadata": {},
     "output_type": "execute_result"
    }
   ],
   "source": [
    "score(\n",
    "    df_train,\n",
    "    df_stk.sort_index()[['lgb6', 'xgb6', 'cb6']].dot([0.5, 0.1, 0.4])\n",
    ")"
   ]
  },
  {
   "cell_type": "code",
   "execution_count": 23,
   "id": "4c448fb3-046b-4d38-81c5-e11546806605",
   "metadata": {},
   "outputs": [
    {
     "data": {
      "application/vnd.jupyter.widget-view+json": {
       "model_id": "",
       "version_major": 2,
       "version_minor": 0
      },
      "text/plain": [
       "Round:   0%|          | 0/3000 [00:00<?, ?it/s]"
      ]
     },
     "metadata": {},
     "output_type": "display_data"
    },
    {
     "data": {
      "application/vnd.jupyter.widget-view+json": {
       "model_id": "",
       "version_major": 2,
       "version_minor": 0
      },
      "text/plain": [
       "Round:   0%|          | 0/3000 [00:00<?, ?it/s]"
      ]
     },
     "metadata": {},
     "output_type": "display_data"
    }
   ],
   "source": [
    "for i in models:\n",
    "    if i.name.startswith('cb'):\n",
    "        i.train(df_train, task_type = 'GPU')\n",
    "    elif i.name.startswith('xgb'):\n",
    "        i.train(df_train, device = 'cuda')\n",
    "    else:\n",
    "        i.train(df_train)"
   ]
  },
  {
   "cell_type": "code",
   "execution_count": 35,
   "id": "e2d2b329-584d-476f-888f-34a67fd7ad67",
   "metadata": {},
   "outputs": [],
   "source": [
    "def transform_survival_probability(df, time_col='efs_time', event_col='efs'):\n",
    "    kmf = KaplanMeierFitter()\n",
    "    kmf.fit(df[time_col], df[event_col])\n",
    "    y = kmf.survival_function_at_times(df[time_col]).values\n",
    "    return y\n",
    "df_train['kmf'] = transform_survival_probability(df_train, time_col='efs_time', event_col='efs')\n",
    "\n",
    "config2 = {\n",
    "    'predict_func': lambda m, df, X: pd.Series(m.predict(df[X]), index = df.index),\n",
    "    'score_func': score,\n",
    "    'validation_splitter': get_validation_splitter,\n",
    "    'progress_callback': sgml.ProgressCallBack(), \n",
    "    'return_train_scores': True,\n",
    "    'y': 'kmf',\n",
    "}\n",
    "\n",
    "kf = KFold(n_splits=5, shuffle=True, random_state = 123)\n",
    "ss = ShuffleSplit(n_splits=1, random_state = 123)\n",
    "lgb_adapter2 = sgml.LGBMAdapter(lgb.LGBMRegressor)\n",
    "xgb_adapter2 = sgml.XGBAdapter(xgb.XGBRegressor)\n",
    "cb_adapter2 = sgml.CBAdapter(cb.CatBoostRegressor)"
   ]
  },
  {
   "cell_type": "code",
   "execution_count": 49,
   "id": "e37147f6-6118-4c10-998e-19c0a22d6bec",
   "metadata": {},
   "outputs": [
    {
     "data": {
      "application/vnd.jupyter.widget-view+json": {
       "model_id": "",
       "version_major": 2,
       "version_minor": 0
      },
      "text/plain": [
       "Fold:   0%|          | 0/5 [00:00<?, ?it/s]"
      ]
     },
     "metadata": {},
     "output_type": "display_data"
    },
    {
     "data": {
      "application/vnd.jupyter.widget-view+json": {
       "model_id": "",
       "version_major": 2,
       "version_minor": 0
      },
      "text/plain": [
       "Round:   0%|          | 0/3000 [00:00<?, ?it/s]"
      ]
     },
     "metadata": {},
     "output_type": "display_data"
    },
    {
     "data": {
      "application/vnd.jupyter.widget-view+json": {
       "model_id": "",
       "version_major": 2,
       "version_minor": 0
      },
      "text/plain": [
       "Round:   0%|          | 0/3000 [00:00<?, ?it/s]"
      ]
     },
     "metadata": {},
     "output_type": "display_data"
    },
    {
     "data": {
      "application/vnd.jupyter.widget-view+json": {
       "model_id": "",
       "version_major": 2,
       "version_minor": 0
      },
      "text/plain": [
       "Round:   0%|          | 0/3000 [00:00<?, ?it/s]"
      ]
     },
     "metadata": {},
     "output_type": "display_data"
    },
    {
     "data": {
      "application/vnd.jupyter.widget-view+json": {
       "model_id": "",
       "version_major": 2,
       "version_minor": 0
      },
      "text/plain": [
       "Round:   0%|          | 0/3000 [00:00<?, ?it/s]"
      ]
     },
     "metadata": {},
     "output_type": "display_data"
    },
    {
     "data": {
      "application/vnd.jupyter.widget-view+json": {
       "model_id": "",
       "version_major": 2,
       "version_minor": 0
      },
      "text/plain": [
       "Round:   0%|          | 0/3000 [00:00<?, ?it/s]"
      ]
     },
     "metadata": {},
     "output_type": "display_data"
    },
    {
     "data": {
      "text/plain": [
       "(0.6688680707946435, 0.7337469601005966)"
      ]
     },
     "execution_count": 49,
     "metadata": {},
     "output_type": "execute_result"
    }
   ],
   "source": [
    "lgb7 = sgml.CVModel('model', 'lgb7', kf, config2, lgb_adapter2).load_if_exists()\n",
    "hparams = {\n",
    "    'model_params': {'num_leaves':  15, 'n_estimators':  3000, 'colsample_bytree': 0.25, 'learning_rate': 0.01},\n",
    "    'X_num': X_tri + X_cont + X_int + X_na + X_bool, \n",
    "    'X_cat': X_nom, 'cat': {'handle_unknown': 'use_encoded_value', 'unknown_value': -1},\n",
    "    #'validation_fraction': 0.1\n",
    "}\n",
    "#result = lgb6.adhoc(df_train, ss, hparams)\n",
    "result = lgb7.cv(df_train, hparams)\n",
    "np.mean(result['valid_scores']), np.mean(result['train_scores'])#,result['model_result'][0]['valid_result'].idxmin()"
   ]
  },
  {
   "cell_type": "code",
   "execution_count": 50,
   "id": "286808e6-be11-44d9-8e4e-4c321ea266d5",
   "metadata": {},
   "outputs": [
    {
     "data": {
      "text/plain": [
       "0.673101723413942"
      ]
     },
     "execution_count": 50,
     "metadata": {},
     "output_type": "execute_result"
    }
   ],
   "source": [
    "score(df_train, lgb7.cv_best_['prd'].sort_index())"
   ]
  },
  {
   "cell_type": "code",
   "execution_count": 57,
   "id": "85f54585-65ba-46b3-8a83-9d1ec28bca81",
   "metadata": {},
   "outputs": [
    {
     "data": {
      "application/vnd.jupyter.widget-view+json": {
       "model_id": "",
       "version_major": 2,
       "version_minor": 0
      },
      "text/plain": [
       "Fold:   0%|          | 0/5 [00:00<?, ?it/s]"
      ]
     },
     "metadata": {},
     "output_type": "display_data"
    },
    {
     "data": {
      "application/vnd.jupyter.widget-view+json": {
       "model_id": "",
       "version_major": 2,
       "version_minor": 0
      },
      "text/plain": [
       "Round:   0%|          | 0/3000 [00:00<?, ?it/s]"
      ]
     },
     "metadata": {},
     "output_type": "display_data"
    },
    {
     "data": {
      "application/vnd.jupyter.widget-view+json": {
       "model_id": "",
       "version_major": 2,
       "version_minor": 0
      },
      "text/plain": [
       "Round:   0%|          | 0/3000 [00:00<?, ?it/s]"
      ]
     },
     "metadata": {},
     "output_type": "display_data"
    },
    {
     "data": {
      "application/vnd.jupyter.widget-view+json": {
       "model_id": "",
       "version_major": 2,
       "version_minor": 0
      },
      "text/plain": [
       "Round:   0%|          | 0/3000 [00:00<?, ?it/s]"
      ]
     },
     "metadata": {},
     "output_type": "display_data"
    },
    {
     "data": {
      "application/vnd.jupyter.widget-view+json": {
       "model_id": "",
       "version_major": 2,
       "version_minor": 0
      },
      "text/plain": [
       "Round:   0%|          | 0/3000 [00:00<?, ?it/s]"
      ]
     },
     "metadata": {},
     "output_type": "display_data"
    },
    {
     "data": {
      "application/vnd.jupyter.widget-view+json": {
       "model_id": "",
       "version_major": 2,
       "version_minor": 0
      },
      "text/plain": [
       "Round:   0%|          | 0/3000 [00:00<?, ?it/s]"
      ]
     },
     "metadata": {},
     "output_type": "display_data"
    },
    {
     "data": {
      "text/plain": [
       "0.6675974664754063"
      ]
     },
     "execution_count": 57,
     "metadata": {},
     "output_type": "execute_result"
    }
   ],
   "source": [
    "xgb7 = sgml.CVModel('model', 'xgb7', kf, config2, xgb_adapter).load_if_exists()\n",
    "hparams = {\n",
    "    'model_params': {\n",
    "        'max_depth': 5, 'colsample_bytree': 0.25, 'subsample': 0.9, 'n_estimators': 3000, 'learning_rate': 0.01\n",
    "    },\n",
    "    'X_num':  X_tri + X_cont + X_int + X_na + X_bool, 'X_cat': X_nom, 'cat': {'handle_unknown': 'ignore'},\n",
    "    #'validation_fraction': 0.1,\n",
    "}\n",
    "#result = xgb7.adhoc(df_train, ss, hparams, device = 'cuda')\n",
    "result = xgb7.cv(df_train, hparams, device = 'cuda')\n",
    "np.mean(result['valid_scores'])#, result['model_result'][0]['valid_result'].idxmin()"
   ]
  },
  {
   "cell_type": "code",
   "execution_count": 58,
   "id": "c56b8abb-680a-41e7-adc2-5c8c1f1e59b2",
   "metadata": {},
   "outputs": [
    {
     "data": {
      "text/plain": [
       "0.6720638440371624"
      ]
     },
     "execution_count": 58,
     "metadata": {},
     "output_type": "execute_result"
    }
   ],
   "source": [
    "score(df_train, xgb7.cv_best_['prd'].sort_index())"
   ]
  },
  {
   "cell_type": "code",
   "execution_count": 59,
   "id": "86935c48-f1f7-4b6d-a46d-20a78525ad3e",
   "metadata": {},
   "outputs": [
    {
     "data": {
      "application/vnd.jupyter.widget-view+json": {
       "model_id": "",
       "version_major": 2,
       "version_minor": 0
      },
      "text/plain": [
       "Fold:   0%|          | 0/5 [00:00<?, ?it/s]"
      ]
     },
     "metadata": {},
     "output_type": "display_data"
    },
    {
     "data": {
      "text/plain": [
       "0.6674576368479176"
      ]
     },
     "execution_count": 59,
     "metadata": {},
     "output_type": "execute_result"
    }
   ],
   "source": [
    "cb7 = sgml.CVModel('model', 'cb7', kf, config2, cb_adapter).load_if_exists()\n",
    "hparams = {\n",
    "    'model_params': {\n",
    "        'max_depth': 7, 'n_estimators': 3500, 'learning_rate': 0.03\n",
    "    },\n",
    "    'X_num':  X_tri + X_cont + X_int + X_na + X_bool, 'X_cat': X_nom\n",
    "    #'validation_fraction': 0.1,\n",
    "}\n",
    "#result = cb6.adhoc(df_train, ss, hparams, task_type='GPU')\n",
    "result = cb7.cv(df_train, hparams, task_type = 'GPU')\n",
    "np.mean(result['valid_scores'])#, result['model_result'][0]['valid_result'].idxmin()"
   ]
  },
  {
   "cell_type": "code",
   "execution_count": 60,
   "id": "8c5b9bd1-2870-4ca5-abf4-d246b413dd76",
   "metadata": {},
   "outputs": [
    {
     "data": {
      "text/plain": [
       "0.6718775695255039"
      ]
     },
     "execution_count": 60,
     "metadata": {},
     "output_type": "execute_result"
    }
   ],
   "source": [
    "score(df_train, cb7.cv_best_['prd'].sort_index())"
   ]
  },
  {
   "cell_type": "code",
   "execution_count": 61,
   "id": "c0444a3f-f1e7-4687-b340-0cc0079afdd5",
   "metadata": {},
   "outputs": [],
   "source": [
    "models = [lgb7, xgb7, cb7]\n",
    "df_stk = sc.cache_result(\n",
    "    'phase10_stk_2',\n",
    "    lambda : sgml.stack_cv(models)\n",
    ")"
   ]
  },
  {
   "cell_type": "code",
   "execution_count": 68,
   "id": "d2be8c83-dbce-49a6-b17e-df52f1272a7d",
   "metadata": {},
   "outputs": [
    {
     "data": {
      "text/plain": [
       "0.6740629781109544"
      ]
     },
     "execution_count": 68,
     "metadata": {},
     "output_type": "execute_result"
    }
   ],
   "source": [
    "score(\n",
    "    df_train,\n",
    "    df_stk.sort_index()[['lgb7', 'xgb7', 'cb7']].dot([0.5, 0.1, 0.4])\n",
    ")"
   ]
  },
  {
   "cell_type": "code",
   "execution_count": null,
   "id": "fc80da5f-60a9-4230-8e37-e1814a539e9f",
   "metadata": {},
   "outputs": [],
   "source": []
  }
 ],
 "metadata": {
  "kernelspec": {
   "display_name": "Python 3 (ipykernel)",
   "language": "python",
   "name": "python3"
  },
  "language_info": {
   "codemirror_mode": {
    "name": "ipython",
    "version": 3
   },
   "file_extension": ".py",
   "mimetype": "text/x-python",
   "name": "python",
   "nbconvert_exporter": "python",
   "pygments_lexer": "ipython3",
   "version": "3.12.6"
  }
 },
 "nbformat": 4,
 "nbformat_minor": 5
}
