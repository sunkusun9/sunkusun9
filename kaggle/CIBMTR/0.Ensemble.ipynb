{
 "cells": [
  {
   "cell_type": "code",
   "execution_count": 1,
   "id": "811b4537-9395-4609-b0f5-e85311fc6212",
   "metadata": {},
   "outputs": [
    {
     "name": "stdout",
     "output_type": "stream",
     "text": [
      "3.12.6 (main, Sep 30 2024, 02:19:13) [GCC 9.4.0]\n",
      "numpy 1.26.4\n",
      "pandas 2.2.3\n",
      "polars 1.12.0\n",
      "matplotlib 3.8.4\n",
      "seaborn 0.13.2\n",
      "lifelines 0.30.0\n",
      "sklearn 1.5.2\n",
      "lightgbm\n",
      "xgboost 2.1.2\n",
      "catboost 1.2.5\n"
     ]
    }
   ],
   "source": [
    "import os\n",
    "import joblib\n",
    "import numpy as np\n",
    "import pandas as pd\n",
    "import polars as pl\n",
    "\n",
    "import pandas.api.types\n",
    "import matplotlib as mpl\n",
    "import matplotlib.pyplot as plt\n",
    "import seaborn as sns\n",
    "import sklearn\n",
    "\n",
    "import lightgbm as lgb\n",
    "import xgboost as xgb\n",
    "import catboost as cb\n",
    "\n",
    "import lifelines\n",
    "from lifelines.utils import concordance_index\n",
    "\n",
    "import sys\n",
    "\n",
    "print(sys.version)\n",
    "for i in [np, pd, pl, mpl, sns, lifelines, sklearn, lgb, xgb, cb]:\n",
    "    try:\n",
    "        print(i.__name__, i.__version__)\n",
    "    except:\n",
    "        print(i.__name__)"
   ]
  },
  {
   "cell_type": "code",
   "execution_count": 2,
   "id": "bfccf596-b0f3-46d8-9af5-b412ef438e0d",
   "metadata": {},
   "outputs": [],
   "source": [
    "import dproc, sgutil, sgpp, sgml, custpp\n",
    "from sklearn.pipeline import make_pipeline\n",
    "from sklearn.model_selection import cross_validate, KFold, ShuffleSplit, train_test_split\n",
    "from sklearn.impute import SimpleImputer\n",
    "from lifelines import NelsonAalenFitter\n",
    "\n",
    "data_path = 'data'\n",
    "model_path = 'model'\n",
    "\n",
    "def score(df, prds):\n",
    "    return df.groupby('race_group', observed=True).apply(\n",
    "        lambda x: concordance_index(x['efs_time'], -prds.loc[x.index], x['efs']), include_groups=False\n",
    "    ).pipe(\n",
    "        lambda x: float(x.mean() - x.std(ddof=0))\n",
    "    )\n",
    "p2 =joblib.load(os.path.join(model_path, 'p2.joblib'))\n",
    "df_train = p2.transform([os.path.join(data_path, 'train.csv')])"
   ]
  },
  {
   "cell_type": "code",
   "execution_count": 33,
   "id": "4439e018-e539-4363-88ab-1fd7f121d41e",
   "metadata": {},
   "outputs": [
    {
     "data": {
      "text/html": [
       "<div>\n",
       "<style scoped>\n",
       "    .dataframe tbody tr th:only-of-type {\n",
       "        vertical-align: middle;\n",
       "    }\n",
       "\n",
       "    .dataframe tbody tr th {\n",
       "        vertical-align: top;\n",
       "    }\n",
       "\n",
       "    .dataframe thead th {\n",
       "        text-align: right;\n",
       "    }\n",
       "</style>\n",
       "<table border=\"1\" class=\"dataframe\">\n",
       "  <thead>\n",
       "    <tr style=\"text-align: right;\">\n",
       "      <th></th>\n",
       "      <th>lgb7</th>\n",
       "      <th>xgb7</th>\n",
       "      <th>cb7</th>\n",
       "    </tr>\n",
       "    <tr>\n",
       "      <th>ID</th>\n",
       "      <th></th>\n",
       "      <th></th>\n",
       "      <th></th>\n",
       "    </tr>\n",
       "  </thead>\n",
       "  <tbody>\n",
       "    <tr>\n",
       "      <th>0</th>\n",
       "      <td>0.493604</td>\n",
       "      <td>0.496470</td>\n",
       "      <td>0.498945</td>\n",
       "    </tr>\n",
       "    <tr>\n",
       "      <th>1</th>\n",
       "      <td>0.621568</td>\n",
       "      <td>0.629487</td>\n",
       "      <td>0.648487</td>\n",
       "    </tr>\n",
       "    <tr>\n",
       "      <th>2</th>\n",
       "      <td>0.447219</td>\n",
       "      <td>0.452650</td>\n",
       "      <td>0.453923</td>\n",
       "    </tr>\n",
       "    <tr>\n",
       "      <th>3</th>\n",
       "      <td>0.670165</td>\n",
       "      <td>0.659071</td>\n",
       "      <td>0.647647</td>\n",
       "    </tr>\n",
       "    <tr>\n",
       "      <th>4</th>\n",
       "      <td>0.637481</td>\n",
       "      <td>0.645079</td>\n",
       "      <td>0.654801</td>\n",
       "    </tr>\n",
       "  </tbody>\n",
       "</table>\n",
       "</div>"
      ],
      "text/plain": [
       "        lgb7      xgb7       cb7\n",
       "ID                              \n",
       "0   0.493604  0.496470  0.498945\n",
       "1   0.621568  0.629487  0.648487\n",
       "2   0.447219  0.452650  0.453923\n",
       "3   0.670165  0.659071  0.647647\n",
       "4   0.637481  0.645079  0.654801"
      ]
     },
     "execution_count": 33,
     "metadata": {},
     "output_type": "execute_result"
    }
   ],
   "source": [
    "df_kmf_cv = pd.concat([\n",
    "    joblib.load(os.path.join(model_path, '{}.cv'.format(i)))['cv_best_']['prd'].sort_index().rename(i) for i in ['lgb7', 'xgb7', 'cb7']\n",
    "], axis=1)\n",
    "df_kmf_cv.head()"
   ]
  },
  {
   "cell_type": "code",
   "execution_count": 24,
   "id": "e04d5b1b-4f05-4f3d-b1f3-432e83ac86b0",
   "metadata": {},
   "outputs": [
    {
     "data": {
      "text/html": [
       "<div>\n",
       "<style scoped>\n",
       "    .dataframe tbody tr th:only-of-type {\n",
       "        vertical-align: middle;\n",
       "    }\n",
       "\n",
       "    .dataframe tbody tr th {\n",
       "        vertical-align: top;\n",
       "    }\n",
       "\n",
       "    .dataframe thead th {\n",
       "        text-align: right;\n",
       "    }\n",
       "</style>\n",
       "<table border=\"1\" class=\"dataframe\">\n",
       "  <thead>\n",
       "    <tr style=\"text-align: right;\">\n",
       "      <th></th>\n",
       "      <th>lgb6</th>\n",
       "      <th>xgb6</th>\n",
       "      <th>cb6</th>\n",
       "    </tr>\n",
       "    <tr>\n",
       "      <th>ID</th>\n",
       "      <th></th>\n",
       "      <th></th>\n",
       "      <th></th>\n",
       "    </tr>\n",
       "  </thead>\n",
       "  <tbody>\n",
       "    <tr>\n",
       "      <th>0</th>\n",
       "      <td>-0.727016</td>\n",
       "      <td>-0.710788</td>\n",
       "      <td>-0.701036</td>\n",
       "    </tr>\n",
       "    <tr>\n",
       "      <th>1</th>\n",
       "      <td>-0.474285</td>\n",
       "      <td>-0.507268</td>\n",
       "      <td>-0.483968</td>\n",
       "    </tr>\n",
       "    <tr>\n",
       "      <th>2</th>\n",
       "      <td>-0.806291</td>\n",
       "      <td>-0.801419</td>\n",
       "      <td>-0.774680</td>\n",
       "    </tr>\n",
       "    <tr>\n",
       "      <th>3</th>\n",
       "      <td>-0.452092</td>\n",
       "      <td>-0.460558</td>\n",
       "      <td>-0.476675</td>\n",
       "    </tr>\n",
       "    <tr>\n",
       "      <th>4</th>\n",
       "      <td>-0.485533</td>\n",
       "      <td>-0.487864</td>\n",
       "      <td>-0.469562</td>\n",
       "    </tr>\n",
       "  </tbody>\n",
       "</table>\n",
       "</div>"
      ],
      "text/plain": [
       "        lgb6      xgb6       cb6\n",
       "ID                              \n",
       "0  -0.727016 -0.710788 -0.701036\n",
       "1  -0.474285 -0.507268 -0.483968\n",
       "2  -0.806291 -0.801419 -0.774680\n",
       "3  -0.452092 -0.460558 -0.476675\n",
       "4  -0.485533 -0.487864 -0.469562"
      ]
     },
     "execution_count": 24,
     "metadata": {},
     "output_type": "execute_result"
    }
   ],
   "source": [
    "df_naf_cv = pd.concat([\n",
    "    joblib.load(os.path.join(model_path, '{}.cv'.format(i)))['cv_best_']['prd'].sort_index().rename(i) for i in ['lgb6', 'xgb6', 'cb6']\n",
    "], axis=1)\n",
    "df_naf_cv.head()"
   ]
  },
  {
   "cell_type": "code",
   "execution_count": 25,
   "id": "b0fccb0e-5d99-4526-8e9f-edbd73040af6",
   "metadata": {},
   "outputs": [],
   "source": [
    "df_stk = pd.concat([\n",
    "    df_kmf_cv.dot([0.4, 0.3, 0.3]).rename('kmf').rank(),\n",
    "    df_naf_cv.dot([0.4, 0.3, 0.3]).rename('naf').rank()\n",
    "], axis=1)"
   ]
  },
  {
   "cell_type": "code",
   "execution_count": 26,
   "id": "71e48c7a-c0eb-48f4-a906-08ca434329ca",
   "metadata": {},
   "outputs": [
    {
     "data": {
      "text/plain": [
       "0.6764655470523381"
      ]
     },
     "execution_count": 26,
     "metadata": {},
     "output_type": "execute_result"
    }
   ],
   "source": [
    "score(df_train, df_stk.dot([0.0, 1.0]))"
   ]
  },
  {
   "cell_type": "code",
   "execution_count": 7,
   "id": "f0eb32ce-e52b-424f-8dc1-c5eaff4a82a0",
   "metadata": {},
   "outputs": [],
   "source": [
    "df_cv3 = pd.concat([\n",
    "    pd.concat([\n",
    "        joblib.load(os.path.join(model_path, '{}.cv'.format(i)))['cv_best_']['prd'].sort_index().rename(i) for i in ['lgb3_1', 'lgb3_2', 'lgb3_3', 'lgb3_4']\n",
    "    ], axis=1).dot([0.2, 0.2, 0.3, 0.3]),\n",
    "    pd.concat([\n",
    "        joblib.load(os.path.join(model_path, '{}.cv'.format(i)))['cv_best_']['prd'].sort_index().rename(i) for i in ['xgb3_1', 'xgb3_2', 'xgb3_3', 'xgb3_4']\n",
    "    ], axis=1).dot([0.2, 0.2, 0.3, 0.3]),\n",
    "], axis=1)"
   ]
  },
  {
   "cell_type": "code",
   "execution_count": 21,
   "id": "05e3ad71-65bd-42c6-9171-1f732e67e33c",
   "metadata": {},
   "outputs": [],
   "source": [
    "df_cv4 = pd.concat([\n",
    "    pd.concat([\n",
    "        joblib.load(os.path.join(model_path, '{}.cv'.format(i)))['cv_best_']['prd'].sort_index().rename(i) for i in ['lgb5_1', 'lgb5_2', 'lgb5_3', 'lgb5_4']\n",
    "    ], axis=1).dot([0.2, 0.2, 0.3, 0.3]),\n",
    "    pd.concat([\n",
    "        joblib.load(os.path.join(model_path, '{}.cv'.format(i)))['cv_best_']['prd'].sort_index().rename(i) for i in ['xgb5_1', 'xgb5_2', 'xgb5_3', 'xgb5_4']\n",
    "    ], axis=1).dot([0.2, 0.2, 0.3, 0.3]),\n",
    "], axis=1)"
   ]
  },
  {
   "cell_type": "code",
   "execution_count": 34,
   "id": "23a30dd0",
   "metadata": {},
   "outputs": [],
   "source": [
    "df_stk = pd.concat([\n",
    "    df_kmf_cv.dot([0.5, 0.1, 0.4]).rename('kmf').rank(),\n",
    "    df_naf_cv.dot([0.5, 0.1, 0.4]).rename('naf').rank(),\n",
    "    df_cv3.dot([0.8, 0.2]).rename('3').rank(),\n",
    "    df_cv4.dot([0.8, 0.2]).rename('4').rank()\n",
    "], axis=1)"
   ]
  },
  {
   "cell_type": "code",
   "execution_count": 38,
   "id": "8b30ab99",
   "metadata": {},
   "outputs": [
    {
     "data": {
      "text/plain": [
       "0.6819552175820196"
      ]
     },
     "execution_count": 38,
     "metadata": {},
     "output_type": "execute_result"
    }
   ],
   "source": [
    "score(df_train, df_stk.dot([0.00, 0.1, 0.0, 0.9]))"
   ]
  },
  {
   "cell_type": "code",
   "execution_count": null,
   "id": "5ea32ea6",
   "metadata": {},
   "outputs": [],
   "source": []
  }
 ],
 "metadata": {
  "kernelspec": {
   "display_name": "Python 3 (ipykernel)",
   "language": "python",
   "name": "python3"
  },
  "language_info": {
   "codemirror_mode": {
    "name": "ipython",
    "version": 3
   },
   "file_extension": ".py",
   "mimetype": "text/x-python",
   "name": "python",
   "nbconvert_exporter": "python",
   "pygments_lexer": "ipython3",
   "version": "3.12.6"
  }
 },
 "nbformat": 4,
 "nbformat_minor": 5
}
