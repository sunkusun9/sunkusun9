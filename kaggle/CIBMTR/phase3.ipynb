{
 "cells": [
  {
   "cell_type": "code",
   "execution_count": null,
   "id": "9c7bb5c7",
   "metadata": {},
   "outputs": [],
   "source": [
    "from sklearn.model_selection import StratifiedKFold\n",
    "from sklearn.metrics import roc_auc_score\n",
    "skf = StratifiedKFold(5, random_state = 123, shuffle = True)\n",
    "for train_idx, valid_idx in skf.split(df_train[X_all], df_train['efs']):\n",
    "    df_cv_train, df_valid = df_train.iloc[train_idx], df_train.iloc[valid_idx]\n",
    "    t1, t2 = (\n",
    "        df_cv_train.loc[df_cv_train['efs'] == 0.0, 'efs_time'].quantile(0.025),\n",
    "        df_cv_train.loc[df_cv_train['efs'] == 1.0, 'efs_time'].quantile(0.6)\n",
    "    )\n",
    "    df_cv_train = df_cv_train.assign(efs_b = np.nan)\n",
    "    df_cv_train.loc[(df_cv_train['efs'] == 0.0) & (df_cv_train['efs_time'] > t1), 'efs_b'] = 0\n",
    "    df_cv_train.loc[(df_cv_train['efs'] == 1.0) & (df_train['efs_time'] < t2), 'efs_b'] = 1\n",
    "    df_train_b = df_cv_train.loc[df_cv_train['efs_b'].notna()]\n",
    "    print(t1, t2, len(df_train_b), len(df_train) - len(df_train_b))\n",
    "    clf_lgb = lgb.LGBMClassifier(verbose = -1, n_estimators = 500, learning_rate = 0.02, class_weight={0.0: 1.0, 1.0: 1.0})\n",
    "    clf_lgb.fit(df_train_b[X_all], df_train_b['efs_b'], categorical_feature = X_nom)\n",
    "    prd1 = clf_lgb.predict_proba(df_train_b[X_all])[:, 1]\n",
    "    prd2 = clf_lgb.predict_proba(df_cv_train[X_all])[:, 1]\n",
    "    prd3 = clf_lgb.predict_proba(df_valid[X_all])[:, 1]\n",
    "    print(\n",
    "        roc_auc_score(df_train_b['efs'], prd1),\n",
    "        roc_auc_score(df_cv_train['efs'], prd2),\n",
    "        roc_auc_score(df_valid['efs'], prd3),\n",
    "        concordance_index(df_train_b['efs_time'], -pd.Series(prd1, index = df_train_b.index), df_train_b['efs']),\n",
    "        concordance_index(df_cv_train['efs_time'], -pd.Series(prd2, index = df_cv_train.index), df_cv_train['efs']),\n",
    "        concordance_index(df_valid['efs_time'], -pd.Series(prd3, index = df_valid.index), df_valid['efs'])\n",
    "    )"
   ]
  }
 ],
 "metadata": {
  "kernelspec": {
   "display_name": "Python 3",
   "language": "python",
   "name": "python3"
  },
  "language_info": {
   "codemirror_mode": {
    "name": "ipython",
    "version": 3
   },
   "file_extension": ".py",
   "mimetype": "text/x-python",
   "name": "python",
   "nbconvert_exporter": "python",
   "pygments_lexer": "ipython3",
   "version": "3.10.12"
  }
 },
 "nbformat": 4,
 "nbformat_minor": 5
}
