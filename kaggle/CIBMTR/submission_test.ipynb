{
 "cells": [
  {
   "cell_type": "code",
   "execution_count": null,
   "id": "2d6165a0-a173-4084-8c04-1fdb7f284234",
   "metadata": {},
   "outputs": [],
   "source": [
    "!pip install lifelines"
   ]
  },
  {
   "cell_type": "code",
   "execution_count": null,
   "id": "268cd449-1ad7-4640-bf07-acf78dda70b8",
   "metadata": {},
   "outputs": [],
   "source": [
    "import os\n",
    "import joblib\n",
    "import numpy as np\n",
    "import pandas as pd\n",
    "import polars as pl\n",
    "\n",
    "import pandas.api.types\n",
    "import matplotlib as mpl\n",
    "import matplotlib.pyplot as plt\n",
    "import seaborn as sns\n",
    "import sklearn\n",
    "\n",
    "import lightgbm as lgb\n",
    "\n",
    "import lifelines\n",
    "from lifelines.utils import concordance_index\n",
    "\n",
    "import sys\n",
    "\n",
    "print(sys.version)\n",
    "for i in [np, pd, pl, mpl, sns, lifelines, sklearn]:\n",
    "    try:\n",
    "        print(i.__name__, i.__version__)\n",
    "    except:\n",
    "        print(i.__name__)"
   ]
  },
  {
   "cell_type": "code",
   "execution_count": null,
   "id": "b114ceff-d568-4b68-a7c9-d9a0a29c922a",
   "metadata": {},
   "outputs": [],
   "source": [
    "import dproc, sgutil, sgpp, sgml, custpp\n",
    "from sklearn.pipeline import make_pipeline\n",
    "from sklearn.model_selection import cross_validate\n",
    "from sklearn.impute import SimpleImputer"
   ]
  },
  {
   "cell_type": "code",
   "execution_count": null,
   "id": "d8aff743-ca33-426b-aca5-64c0622b3763",
   "metadata": {},
   "outputs": [],
   "source": [
    "X_4 = [\n",
    "    'psych_disturb', 'diabetes', 'arrhythmia', 'renal_issue', 'pulm_severe', 'obesity', 'hepatic_severe', \n",
    "    'prior_tumor', 'peptic_ulcer','rheum_issue', 'hepatic_mild', 'cardiac','pulm_moderate'\n",
    "]\n",
    "\n",
    "X_int_fm = [\n",
    "    'comorbidity_score', 'hla_high_res_10', 'hla_high_res_6', 'hla_high_res_8', 'hla_low_res_10',\n",
    "    'hla_low_res_6', 'hla_low_res_8', 'hla_match_a_high', 'hla_match_a_low', 'hla_match_b_high',\n",
    "    'hla_match_b_low', 'hla_match_drb1_low', 'hla_match_c_high', 'hla_match_c_low', 'hla_match_dqb1_high', 'hla_match_dqb1_low',\n",
    "    'hla_match_drb1_high', 'hla_nmdp_6', 'karnofsky_score'\n",
    "]\n",
    "\n",
    "X_2 = [\n",
    "    ('graft_type', {'peripheral blood': 0, 'bone marrow': 1}),\n",
    "    ('prod_type', {'pb': 0, 'bm': 1}),\n",
    "    ('vent_hist', {'no': -1, 'yes': 1}),\n",
    "    ('rituximab', {'no': -1, 'yes': 1}),\n",
    "    ('mrd_hct', {'negative': -1, 'positive': 1}),\n",
    "    ('in_vivo_tcd', {'no': -1, 'yes': 1}),\n",
    "    ('melphalan_dose', {'n/a, mel not given': -1, 'mel': 1})\n",
    "]\n",
    "X_na = X_4 +  X_int_fm +  ['donor_age']\n",
    "X_nom_na = ['cmv_status', 'conditioning_intensity', 'cyto_score', 'cyto_score_detail', 'donor_related',\n",
    "    'dri_score', 'ethnicity', 'gvhd_proph', 'sex_match', 'tce_div_match', 'tce_imm_match', 'tce_match'\n",
    "]\n",
    "X_nom_nna = ['prim_disease_hct', 'race_group', 'tbi_status']\n",
    "p1_test = make_pipeline(\n",
    "    sgpp.PolarsProcessor(),\n",
    "    sgpp.PandasCoverter(index_col = 'ID'),\n",
    "    custpp.CIBMTTransformer(X_2, X_4, X_na, X_nom_na + X_nom_nna),\n",
    "    sgpp.ApplyWrapper(SimpleImputer(strategy='most_frequent').set_output(transform='pandas'), X_int_fm, postfix = '_fm'),\n",
    "    sgpp.ApplyWrapper(SimpleImputer(strategy='mean').set_output(transform='pandas'), ['donor_age'], postfix = '_fm'),\n",
    "    sgpp.ApplyWrapper(sgpp.CatArrangerFreq(1, 'na', 'na'), X_nom_na),\n",
    "    sgpp.ApplyWrapper(sgpp.CatOOVFilter(), X_nom_nna),\n",
    ")\n",
    "df_train = p1_test.fit_transform(['data/train.csv'])\n",
    "#joblib.dump(p1, os.path.join('model', 'p1_test.joblib'))"
   ]
  },
  {
   "cell_type": "code",
   "execution_count": null,
   "id": "1b6cad47-c24f-4f58-b1ca-36ac9c112d0c",
   "metadata": {},
   "outputs": [],
   "source": [
    "X_bool = ['graft_type', 'prod_type']\n",
    "X_tri = [\n",
    "    'arrhythmia', 'cardiac', 'diabetes', 'hepatic_mild', 'hepatic_severe',\n",
    "    'in_vivo_tcd', 'melphalan_dose', 'mrd_hct', 'obesity', 'peptic_ulcer',\n",
    "    'prior_tumor', 'psych_disturb', 'pulm_moderate', 'pulm_severe', 'renal_issue',\n",
    "    'rheum_issue', 'rituximab', 'vent_hist'\n",
    "]\n",
    "X_nom = [\n",
    "    'cmv_status', 'conditioning_intensity', 'cyto_score', 'cyto_score_detail', 'donor_related',\n",
    "    'dri_score', 'ethnicity', 'gvhd_proph', 'prim_disease_hct', 'race_group', 'sex_match',\n",
    "    'tbi_status', 'tce_div_match', 'tce_imm_match', 'tce_match'\n",
    "]\n",
    "X_na = [\n",
    "    'arrhythmia_na', 'cardiac_na', 'diabetes_na', 'hepatic_mild_na', 'hepatic_severe_na',\n",
    "    'obesity_na', 'peptic_ulcer_na', 'prior_tumor_na', 'psych_disturb_na', 'pulm_moderate_na',\n",
    "    'pulm_severe_na', 'renal_issue_na', 'rheum_issue_na'\n",
    "]\n",
    "X_cont = ['age_at_hct', 'donor_age']\n",
    "X_int = [\n",
    "    'comorbidity_score', 'hla_high_res_10', 'hla_high_res_6', 'hla_high_res_8', 'hla_low_res_10',\n",
    "    'hla_low_res_6', 'hla_low_res_8', 'hla_match_a_high', 'hla_match_a_low', 'hla_match_b_high',\n",
    "    'hla_match_b_low', 'hla_match_drb1_low', 'hla_match_c_high', 'hla_match_c_low', 'hla_match_dqb1_high', 'hla_match_dqb1_low',\n",
    "    'hla_match_drb1_high', 'hla_nmdp_6', 'karnofsky_score', 'year_hct'\n",
    "]\n"
   ]
  },
  {
   "cell_type": "code",
   "execution_count": null,
   "id": "c574a974-560c-49a7-890c-4a766ed9761d",
   "metadata": {},
   "outputs": [],
   "source": [
    "from lifelines import KaplanMeierFitter\n",
    "def transform_survival_probability(df, time_col='efs_time', event_col='efs'):\n",
    "    kmf = KaplanMeierFitter()\n",
    "    kmf.fit(df[time_col], df[event_col])\n",
    "    y = kmf.survival_function_at_times(df[time_col]).values\n",
    "    return y\n",
    "df_train['kmf'] = transform_survival_probability(df_train, time_col='efs_time', event_col='efs')"
   ]
  },
  {
   "cell_type": "code",
   "execution_count": null,
   "id": "8b08d630-aa8f-423d-9289-0de935d6a079",
   "metadata": {},
   "outputs": [],
   "source": [
    "def score(df, prds):\n",
    "    return df.groupby('race_group', observed=True).apply(\n",
    "        lambda x: concordance_index(x['efs_time'], prds.loc[x.index], x['efs']), include_groups=False\n",
    "    ).pipe(\n",
    "        lambda x: float(x.mean() - x.std(ddof=0))\n",
    "    )"
   ]
  },
  {
   "cell_type": "code",
   "execution_count": null,
   "id": "92ce7d7b-a74e-4e1f-89f9-b48708d8518d",
   "metadata": {},
   "outputs": [],
   "source": [
    "def get_validation_splitter(validation_fraction):\n",
    "    return lambda x: train_test_split(x, test_size = validation_fraction)\n",
    "\n",
    "config = {\n",
    "    'predict_func': lambda m, df, X: pd.Series(-m.predict(df[X]), index = df.index),\n",
    "    'score_func': lambda df, prds: score,\n",
    "    'validation_splitter': get_validation_splitter,\n",
    "    'progress_callback': sgml.ProgressCallBack(), \n",
    "    'return_train_scores': True,\n",
    "    'y': 'kmf',\n",
    "}\n",
    "\n",
    "lgb_adapter = sgml.LGBMAdapter(lgb.LGBMRegressor)"
   ]
  },
  {
   "cell_type": "code",
   "execution_count": null,
   "id": "66546204-b611-4a1e-a818-2b1c9450e49d",
   "metadata": {},
   "outputs": [],
   "source": [
    "hparams = {\n",
    "    'model_params': {'num_leaves':  64, 'n_estimators':  300},\n",
    "    'X_num': X_tri + X_cont + X_int + X_na + X_bool, 'X_cat': X_nom\n",
    "}\n",
    "result = sgml.train(df_train, hparams, config, lgb_adapter)"
   ]
  },
  {
   "cell_type": "code",
   "execution_count": null,
   "id": "2c567d70-3dfe-4618-974a-bb7048f29609",
   "metadata": {},
   "outputs": [],
   "source": [
    "score(\n",
    "    df_train,\n",
    "    pd.Series(\n",
    "        -make_pipeline(result[0]['preprocessor'], result[0]['model']).predict(df_train[result[1]]), index = df_train.index\n",
    "    )\n",
    ")"
   ]
  },
  {
   "cell_type": "code",
   "execution_count": null,
   "id": "89ec0dfa-b24c-46d6-8db9-9a5dbee9f3a2",
   "metadata": {},
   "outputs": [],
   "source": [
    "joblib.dump(result, os.path.join('model', 'lgb_test.joblib'))"
   ]
  }
 ],
 "metadata": {
  "kernelspec": {
   "display_name": "Python 3 (ipykernel)",
   "language": "python",
   "name": "python3"
  },
  "language_info": {
   "codemirror_mode": {
    "name": "ipython",
    "version": 3
   },
   "file_extension": ".py",
   "mimetype": "text/x-python",
   "name": "python",
   "nbconvert_exporter": "python",
   "pygments_lexer": "ipython3",
   "version": "3.12.3"
  }
 },
 "nbformat": 4,
 "nbformat_minor": 5
}
