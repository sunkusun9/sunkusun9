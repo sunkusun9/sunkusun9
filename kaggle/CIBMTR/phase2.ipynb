{
 "cells": [
  {
   "cell_type": "code",
   "execution_count": 5,
   "id": "3e24ce55-92b8-4d40-9c5f-bb80abbf7f38",
   "metadata": {},
   "outputs": [
    {
     "name": "stdout",
     "output_type": "stream",
     "text": [
      "3.12.3 (main, May  1 2024, 17:33:23) [GCC 11.4.0]\n",
      "numpy 1.26.4\n",
      "pandas 2.2.2\n",
      "polars 1.12.0\n",
      "matplotlib 3.8.4\n",
      "seaborn 0.13.2\n",
      "lifelines 0.30.0\n",
      "sklearn 1.4.2\n"
     ]
    }
   ],
   "source": [
    "import os\n",
    "import joblib\n",
    "import numpy as np\n",
    "import pandas as pd\n",
    "import polars as pl\n",
    "\n",
    "import pandas.api.types\n",
    "import matplotlib as mpl\n",
    "import matplotlib.pyplot as plt\n",
    "import seaborn as sns\n",
    "import sklearn\n",
    "\n",
    "import lightgbm as lgb\n",
    "\n",
    "import lifelines\n",
    "from lifelines.utils import concordance_index\n",
    "\n",
    "import sys\n",
    "\n",
    "print(sys.version)\n",
    "for i in [np, pd, pl, mpl, sns, lifelines, sklearn]:\n",
    "    try:\n",
    "        print(i.__name__, i.__version__)\n",
    "    except:\n",
    "        print(i.__name__)"
   ]
  },
  {
   "cell_type": "code",
   "execution_count": 6,
   "id": "304bb737-fc4f-4bac-b0bd-15853b40ca3e",
   "metadata": {},
   "outputs": [],
   "source": [
    "import dproc, sgutil, sgpp, sgml, custpp\n",
    "from sklearn.pipeline import make_pipeline\n",
    "from sklearn.model_selection import cross_validate\n",
    "from sklearn.impute import SimpleImputer\n",
    "\n",
    "data_path = 'data'\n",
    "img_path = 'img'\n",
    "result_path = 'result'\n",
    "model_path = 'model'\n",
    "\n",
    "sc = sgutil.SGCache(img_path, result_path)"
   ]
  },
  {
   "cell_type": "code",
   "execution_count": 7,
   "id": "cca73ad3-b7b5-45b4-8fbf-63fb41b9a0c3",
   "metadata": {},
   "outputs": [],
   "source": [
    "X_4 = [\n",
    "    'psych_disturb', 'diabetes', 'arrhythmia', 'renal_issue', 'pulm_severe', 'obesity', 'hepatic_severe', \n",
    "    'prior_tumor', 'peptic_ulcer','rheum_issue', 'hepatic_mild', 'cardiac','pulm_moderate'\n",
    "]\n",
    "\n",
    "X_int_fm = [\n",
    "    'comorbidity_score', 'hla_high_res_10', 'hla_high_res_6', 'hla_high_res_8', 'hla_low_res_10',\n",
    "    'hla_low_res_6', 'hla_low_res_8', 'hla_match_a_high', 'hla_match_a_low', 'hla_match_b_high',\n",
    "    'hla_match_b_low', 'hla_match_drb1_low', 'hla_match_c_high', 'hla_match_c_low', 'hla_match_dqb1_high', 'hla_match_dqb1_low',\n",
    "    'hla_match_drb1_high', 'hla_nmdp_6', 'karnofsky_score'\n",
    "]\n",
    "\n",
    "X_2 = [\n",
    "    ('graft_type', {'peripheral blood': 0, 'bone marrow': 1}),\n",
    "    ('prod_type', {'pb': 0, 'bm': 1}),\n",
    "    ('vent_hist', {'no': -1, 'yes': 1}),\n",
    "    ('rituximab', {'no': -1, 'yes': 1}),\n",
    "    ('mrd_hct', {'negative': -1, 'positive': 1}),\n",
    "    ('in_vivo_tcd', {'no': -1, 'yes': 1}),\n",
    "    ('melphalan_dose', {'n/a, mel not given': -1, 'mel': 1})\n",
    "]\n",
    "X_na = X_4 +  X_int_fm +  ['donor_age']\n",
    "X_nom_na = ['cmv_status', 'conditioning_intensity', 'cyto_score', 'cyto_score_detail', 'donor_related',\n",
    "    'dri_score', 'ethnicity', 'gvhd_proph', 'sex_match', 'tce_div_match', 'tce_imm_match', 'tce_match'\n",
    "]\n",
    "X_nom_nna = ['prim_disease_hct', 'race_group', 'tbi_status']\n",
    "p1 = make_pipeline(\n",
    "    sgpp.PolarsProcessor(),\n",
    "    sgpp.PandasCoverter(index_col = 'ID'),\n",
    "    custpp.CIBMTTransformer(X_2, X_4, X_na, X_nom_na + X_nom_nna),\n",
    "    sgpp.ApplyWrapper(SimpleImputer(strategy='most_frequent').set_output(transform='pandas'), X_int_fm, postfix = '_fm'),\n",
    "    sgpp.ApplyWrapper(SimpleImputer(strategy='mean').set_output(transform='pandas'), ['donor_age'], postfix = '_fm'),\n",
    "    sgpp.ApplyWrapper(sgpp.CatArrangerFreq(1, 'na', 'na'), X_nom_na),\n",
    "    sgpp.ApplyWrapper(sgpp.CatOOVFilter(), X_nom_nna),\n",
    ")\n",
    "df_train = p1.fit_transform([os.path.join(data_path, 'train.csv')])"
   ]
  },
  {
   "cell_type": "code",
   "execution_count": null,
   "id": "3d1ea44c-0071-4d53-8d74-3db558d6f049",
   "metadata": {},
   "outputs": [],
   "source": [
    "from sklearn.model_selection import StratifiedKFold\n",
    "from sklearn.metrics import roc_auc_score\n",
    "skf = StratifiedKFold(5, random_state = 123, shuffle = True)\n",
    "for train_idx, valid_idx in skf.split(df_train[X_all], df_train['efs']):\n",
    "    df_cv_train, df_valid = df_train.iloc[train_idx], df_train.iloc[valid_idx]\n",
    "    t1, t2 = (\n",
    "        df_cv_train.loc[df_cv_train['efs'] == 0.0, 'efs_time'].quantile(0.025),\n",
    "        df_cv_train.loc[df_cv_train['efs'] == 1.0, 'efs_time'].quantile(0.6)\n",
    "    )\n",
    "    df_cv_train = df_cv_train.assign(efs_b = np.nan)\n",
    "    df_cv_train.loc[(df_cv_train['efs'] == 0.0) & (df_cv_train['efs_time'] > t1), 'efs_b'] = 0\n",
    "    df_cv_train.loc[(df_cv_train['efs'] == 1.0) & (df_train['efs_time'] < t2), 'efs_b'] = 1\n",
    "    df_train_b = df_cv_train.loc[df_cv_train['efs_b'].notna()]\n",
    "    print(t1, t2, len(df_train_b), len(df_train) - len(df_train_b))\n",
    "    clf_lgb = lgb.LGBMClassifier(verbose = -1, n_estimators = 500, learning_rate = 0.02, class_weight={0.0: 1.0, 1.0: 1.0})\n",
    "    clf_lgb.fit(df_train_b[X_all], df_train_b['efs_b'], categorical_feature = X_nom)\n",
    "    prd1 = clf_lgb.predict_proba(df_train_b[X_all])[:, 1]\n",
    "    prd2 = clf_lgb.predict_proba(df_cv_train[X_all])[:, 1]\n",
    "    prd3 = clf_lgb.predict_proba(df_valid[X_all])[:, 1]\n",
    "    print(\n",
    "        roc_auc_score(df_train_b['efs'], prd1),\n",
    "        roc_auc_score(df_cv_train['efs'], prd2),\n",
    "        roc_auc_score(df_valid['efs'], prd3),\n",
    "        concordance_index(df_train_b['efs_time'], -pd.Series(prd1, index = df_train_b.index), df_train_b['efs']),\n",
    "        concordance_index(df_cv_train['efs_time'], -pd.Series(prd2, index = df_cv_train.index), df_cv_train['efs']),\n",
    "        concordance_index(df_valid['efs_time'], -pd.Series(prd3, index = df_valid.index), df_valid['efs'])\n",
    "    )"
   ]
  }
 ],
 "metadata": {
  "kernelspec": {
   "display_name": "Python 3 (ipykernel)",
   "language": "python",
   "name": "python3"
  },
  "language_info": {
   "codemirror_mode": {
    "name": "ipython",
    "version": 3
   },
   "file_extension": ".py",
   "mimetype": "text/x-python",
   "name": "python",
   "nbconvert_exporter": "python",
   "pygments_lexer": "ipython3",
   "version": "3.12.3"
  }
 },
 "nbformat": 4,
 "nbformat_minor": 5
}
