{
 "cells": [
  {
   "cell_type": "code",
   "execution_count": 2,
   "id": "74121d47",
   "metadata": {},
   "outputs": [
    {
     "name": "stdout",
     "output_type": "stream",
     "text": [
      "Collecting lifelines\n",
      "  Downloading lifelines-0.30.0-py3-none-any.whl.metadata (3.2 kB)\n",
      "Requirement already satisfied: numpy>=1.14.0 in /usr/local/lib/python3.10/dist-packages (from lifelines) (1.26.4)\n",
      "Requirement already satisfied: scipy>=1.7.0 in /usr/local/lib/python3.10/dist-packages (from lifelines) (1.13.1)\n",
      "Requirement already satisfied: pandas>=2.1 in /usr/local/lib/python3.10/dist-packages (from lifelines) (2.2.3)\n",
      "Requirement already satisfied: matplotlib>=3.0 in /usr/local/lib/python3.10/dist-packages (from lifelines) (3.7.5)\n",
      "Requirement already satisfied: autograd>=1.5 in /usr/local/lib/python3.10/dist-packages (from lifelines) (1.7.0)\n",
      "Collecting autograd-gamma>=0.3 (from lifelines)\n",
      "  Downloading autograd-gamma-0.5.0.tar.gz (4.0 kB)\n",
      "  Preparing metadata (setup.py) ... \u001b[?25l\u001b[?25hdone\n",
      "Collecting formulaic>=0.2.2 (from lifelines)\n",
      "  Downloading formulaic-1.1.1-py3-none-any.whl.metadata (6.9 kB)\n",
      "Collecting interface-meta>=1.2.0 (from formulaic>=0.2.2->lifelines)\n",
      "  Downloading interface_meta-1.3.0-py3-none-any.whl.metadata (6.7 kB)\n",
      "Requirement already satisfied: typing-extensions>=4.2.0 in /usr/local/lib/python3.10/dist-packages (from formulaic>=0.2.2->lifelines) (4.12.2)\n",
      "Requirement already satisfied: wrapt>=1.0 in /usr/local/lib/python3.10/dist-packages (from formulaic>=0.2.2->lifelines) (1.17.0)\n",
      "Requirement already satisfied: contourpy>=1.0.1 in /usr/local/lib/python3.10/dist-packages (from matplotlib>=3.0->lifelines) (1.3.1)\n",
      "Requirement already satisfied: cycler>=0.10 in /usr/local/lib/python3.10/dist-packages (from matplotlib>=3.0->lifelines) (0.12.1)\n",
      "Requirement already satisfied: fonttools>=4.22.0 in /usr/local/lib/python3.10/dist-packages (from matplotlib>=3.0->lifelines) (4.55.3)\n",
      "Requirement already satisfied: kiwisolver>=1.0.1 in /usr/local/lib/python3.10/dist-packages (from matplotlib>=3.0->lifelines) (1.4.7)\n",
      "Requirement already satisfied: packaging>=20.0 in /usr/local/lib/python3.10/dist-packages (from matplotlib>=3.0->lifelines) (24.2)\n",
      "Requirement already satisfied: pillow>=6.2.0 in /usr/local/lib/python3.10/dist-packages (from matplotlib>=3.0->lifelines) (11.0.0)\n",
      "Requirement already satisfied: pyparsing>=2.3.1 in /usr/local/lib/python3.10/dist-packages (from matplotlib>=3.0->lifelines) (3.2.0)\n",
      "Requirement already satisfied: python-dateutil>=2.7 in /usr/local/lib/python3.10/dist-packages (from matplotlib>=3.0->lifelines) (2.9.0.post0)\n",
      "Requirement already satisfied: mkl_fft in /usr/local/lib/python3.10/dist-packages (from numpy>=1.14.0->lifelines) (1.3.8)\n",
      "Requirement already satisfied: mkl_random in /usr/local/lib/python3.10/dist-packages (from numpy>=1.14.0->lifelines) (1.2.4)\n",
      "Requirement already satisfied: mkl_umath in /usr/local/lib/python3.10/dist-packages (from numpy>=1.14.0->lifelines) (0.1.1)\n",
      "Requirement already satisfied: mkl in /usr/local/lib/python3.10/dist-packages (from numpy>=1.14.0->lifelines) (2025.0.1)\n",
      "Requirement already satisfied: tbb4py in /usr/local/lib/python3.10/dist-packages (from numpy>=1.14.0->lifelines) (2022.0.0)\n",
      "Requirement already satisfied: mkl-service in /usr/local/lib/python3.10/dist-packages (from numpy>=1.14.0->lifelines) (2.4.1)\n",
      "Requirement already satisfied: pytz>=2020.1 in /usr/local/lib/python3.10/dist-packages (from pandas>=2.1->lifelines) (2025.1)\n",
      "Requirement already satisfied: tzdata>=2022.7 in /usr/local/lib/python3.10/dist-packages (from pandas>=2.1->lifelines) (2025.1)\n",
      "Requirement already satisfied: six>=1.5 in /usr/local/lib/python3.10/dist-packages (from python-dateutil>=2.7->matplotlib>=3.0->lifelines) (1.17.0)\n",
      "Requirement already satisfied: intel-openmp>=2024 in /usr/local/lib/python3.10/dist-packages (from mkl->numpy>=1.14.0->lifelines) (2024.2.0)\n",
      "Requirement already satisfied: tbb==2022.* in /usr/local/lib/python3.10/dist-packages (from mkl->numpy>=1.14.0->lifelines) (2022.0.0)\n",
      "Requirement already satisfied: tcmlib==1.* in /usr/local/lib/python3.10/dist-packages (from tbb==2022.*->mkl->numpy>=1.14.0->lifelines) (1.2.0)\n",
      "Requirement already satisfied: intel-cmplr-lib-rt in /usr/local/lib/python3.10/dist-packages (from mkl_umath->numpy>=1.14.0->lifelines) (2024.2.0)\n",
      "Requirement already satisfied: intel-cmplr-lib-ur==2024.2.0 in /usr/local/lib/python3.10/dist-packages (from intel-openmp>=2024->mkl->numpy>=1.14.0->lifelines) (2024.2.0)\n",
      "Downloading lifelines-0.30.0-py3-none-any.whl (349 kB)\n",
      "\u001b[2K   \u001b[90m━━━━━━━━━━━━━━━━━━━━━━━━━━━━━━━━━━━━━━━━\u001b[0m \u001b[32m349.3/349.3 kB\u001b[0m \u001b[31m7.4 MB/s\u001b[0m eta \u001b[36m0:00:00\u001b[0m:00:01\u001b[0m\n",
      "\u001b[?25hDownloading formulaic-1.1.1-py3-none-any.whl (115 kB)\n",
      "\u001b[2K   \u001b[90m━━━━━━━━━━━━━━━━━━━━━━━━━━━━━━━━━━━━━━━━\u001b[0m \u001b[32m115.7/115.7 kB\u001b[0m \u001b[31m6.4 MB/s\u001b[0m eta \u001b[36m0:00:00\u001b[0m\n",
      "\u001b[?25hDownloading interface_meta-1.3.0-py3-none-any.whl (14 kB)\n",
      "Building wheels for collected packages: autograd-gamma\n",
      "  Building wheel for autograd-gamma (setup.py) ... \u001b[?25l\u001b[?25hdone\n",
      "  Created wheel for autograd-gamma: filename=autograd_gamma-0.5.0-py3-none-any.whl size=4031 sha256=d6093550fd34929faa4e0e35f11851d7805ba299a4d8f35028531c3d4c6bf5af\n",
      "  Stored in directory: /root/.cache/pip/wheels/25/cc/e0/ef2969164144c899fedb22b338f6703e2b9cf46eeebf254991\n",
      "Successfully built autograd-gamma\n",
      "Installing collected packages: interface-meta, formulaic, autograd-gamma, lifelines\n",
      "Successfully installed autograd-gamma-0.5.0 formulaic-1.1.1 interface-meta-1.3.0 lifelines-0.30.0\n"
     ]
    }
   ],
   "source": [
    "!pip install --upgrade lifelines"
   ]
  },
  {
   "cell_type": "code",
   "execution_count": 3,
   "id": "3e24ce55-92b8-4d40-9c5f-bb80abbf7f38",
   "metadata": {},
   "outputs": [
    {
     "name": "stdout",
     "output_type": "stream",
     "text": [
      "3.10.12 (main, Nov  6 2024, 20:22:13) [GCC 11.4.0]\n",
      "numpy 1.26.4\n",
      "pandas 2.2.3\n",
      "polars 1.9.0\n",
      "matplotlib 3.7.5\n",
      "seaborn 0.12.2\n",
      "lifelines 0.30.0\n",
      "sklearn 1.2.2\n",
      "lightgbm 4.5.0\n",
      "xgboost 2.0.3\n",
      "catboost 1.2.7\n"
     ]
    }
   ],
   "source": [
    "import os\n",
    "import joblib\n",
    "import numpy as np\n",
    "import pandas as pd\n",
    "import polars as pl\n",
    "\n",
    "import pandas.api.types\n",
    "import matplotlib as mpl\n",
    "import matplotlib.pyplot as plt\n",
    "import seaborn as sns\n",
    "import sklearn\n",
    "\n",
    "import lightgbm as lgb\n",
    "import xgboost as xgb\n",
    "import catboost as cb\n",
    "\n",
    "import lifelines\n",
    "from lifelines.utils import concordance_index\n",
    "\n",
    "import sys\n",
    "\n",
    "print(sys.version)\n",
    "for i in [np, pd, pl, mpl, sns, lifelines, sklearn, lgb, xgb, cb]:\n",
    "    try:\n",
    "        print(i.__name__, i.__version__)\n",
    "    except:\n",
    "        print(i.__name__)"
   ]
  },
  {
   "cell_type": "code",
   "execution_count": 4,
   "id": "fdef71f3",
   "metadata": {},
   "outputs": [],
   "source": [
    "import dproc, sgutil, sgpp, sgml, custpp\n",
    "from sklearn.pipeline import make_pipeline\n",
    "from sklearn.model_selection import cross_validate, KFold, ShuffleSplit, train_test_split\n",
    "from sklearn.impute import SimpleImputer\n",
    "from lifelines import KaplanMeierFitter"
   ]
  },
  {
   "cell_type": "code",
   "execution_count": 6,
   "id": "cca73ad3-b7b5-45b4-8fbf-63fb41b9a0c3",
   "metadata": {},
   "outputs": [
    {
     "data": {
      "text/plain": [
       "['model/p2.joblib']"
      ]
     },
     "execution_count": 6,
     "metadata": {},
     "output_type": "execute_result"
    }
   ],
   "source": [
    "data_path = 'data'\n",
    "img_path = 'img'\n",
    "result_path = 'result'\n",
    "model_path = 'model'\n",
    "\n",
    "sc = sgutil.SGCache(img_path, result_path)\n",
    "\n",
    "X_4 = [\n",
    "    'psych_disturb', 'diabetes', 'arrhythmia', 'renal_issue', 'pulm_severe', 'obesity', 'hepatic_severe', \n",
    "    'prior_tumor', 'peptic_ulcer','rheum_issue', 'hepatic_mild', 'cardiac','pulm_moderate'\n",
    "]\n",
    "\n",
    "X_int_fm = [\n",
    "    'comorbidity_score', 'hla_high_res_10', 'hla_high_res_6', 'hla_high_res_8', 'hla_low_res_10',\n",
    "    'hla_low_res_6', 'hla_low_res_8', 'hla_match_a_high', 'hla_match_a_low', 'hla_match_b_high',\n",
    "    'hla_match_b_low', 'hla_match_drb1_low', 'hla_match_c_high', 'hla_match_c_low', 'hla_match_dqb1_high', 'hla_match_dqb1_low',\n",
    "    'hla_match_drb1_high', 'hla_nmdp_6', 'karnofsky_score'\n",
    "]\n",
    "\n",
    "X_2 = [\n",
    "    ('graft_type', {'peripheral blood': 0, 'bone marrow': 1}),\n",
    "    ('prod_type', {'pb': 0, 'bm': 1}),\n",
    "    ('vent_hist', {'no': -1, 'yes': 1}),\n",
    "    ('rituximab', {'no': -1, 'yes': 1}),\n",
    "    ('mrd_hct', {'negative': -1, 'positive': 1}),\n",
    "    ('in_vivo_tcd', {'no': -1, 'yes': 1}),\n",
    "    ('melphalan_dose', {'n/a, mel not given': -1, 'mel': 1})\n",
    "]\n",
    "X_na = X_4 +  X_int_fm +  ['donor_age']\n",
    "X_nom_na = ['cmv_status', 'conditioning_intensity', 'cyto_score', 'cyto_score_detail', 'donor_related',\n",
    "    'dri_score', 'ethnicity', 'gvhd_proph', 'sex_match', 'tce_div_match', 'tce_imm_match', 'tce_match'\n",
    "]\n",
    "X_nom_nna = ['prim_disease_hct', 'race_group', 'tbi_status']\n",
    "p2 = make_pipeline(\n",
    "    sgpp.PolarsProcessor({'ID': pl.Int64}),\n",
    "    sgpp.PandasCoverter(index_col = 'ID'),\n",
    "    custpp.CIBMTTransformer(X_2, X_4, X_na, X_nom_na + X_nom_nna),\n",
    "    sgpp.ApplyWrapper(SimpleImputer(strategy='most_frequent').set_output(transform='pandas'), X_int_fm, postfix = '_fm'),\n",
    "    sgpp.ApplyWrapper(SimpleImputer(strategy='mean').set_output(transform='pandas'), ['donor_age'], postfix = '_fm'),\n",
    "    sgpp.ApplyWrapper(sgpp.CatArrangerFreq(1, 'na', 'na'), X_nom_na),\n",
    "    sgpp.ApplyWrapper(sgpp.CatOOVFilter(), X_nom_nna),\n",
    ")\n",
    "df_train = p2.fit_transform(['data/train.csv'])\n",
    "joblib.dump(p2, os.path.join('model', 'p2.joblib'))"
   ]
  },
  {
   "cell_type": "code",
   "execution_count": 7,
   "id": "2f5aa4c0",
   "metadata": {},
   "outputs": [],
   "source": [
    "def transform_survival_probability(df, time_col='efs_time', event_col='efs'):\n",
    "    kmf = KaplanMeierFitter()\n",
    "    kmf.fit(df[time_col], df[event_col])\n",
    "    y = kmf.survival_function_at_times(df[time_col]).values\n",
    "    return y\n",
    "df_train['kmf'] = transform_survival_probability(df_train, time_col='efs_time', event_col='efs')"
   ]
  },
  {
   "cell_type": "code",
   "execution_count": 8,
   "id": "ed0ad64a",
   "metadata": {},
   "outputs": [],
   "source": [
    "X_bool = ['graft_type', 'prod_type']\n",
    "X_tri = [\n",
    "    'arrhythmia', 'cardiac', 'diabetes', 'hepatic_mild', 'hepatic_severe',\n",
    "    'in_vivo_tcd', 'melphalan_dose', 'mrd_hct', 'obesity', 'peptic_ulcer',\n",
    "    'prior_tumor', 'psych_disturb', 'pulm_moderate', 'pulm_severe', 'renal_issue',\n",
    "    'rheum_issue', 'rituximab', 'vent_hist'\n",
    "]\n",
    "X_nom = [\n",
    "    'cmv_status', 'conditioning_intensity', 'cyto_score', 'cyto_score_detail', 'donor_related',\n",
    "    'dri_score', 'ethnicity', 'gvhd_proph', 'prim_disease_hct', 'race_group', 'sex_match',\n",
    "    'tbi_status', 'tce_div_match', 'tce_imm_match', 'tce_match'\n",
    "]\n",
    "X_na = [\n",
    "    'arrhythmia_na', 'cardiac_na', 'diabetes_na', 'hepatic_mild_na', 'hepatic_severe_na',\n",
    "    'obesity_na', 'peptic_ulcer_na', 'prior_tumor_na', 'psych_disturb_na', 'pulm_moderate_na',\n",
    "    'pulm_severe_na', 'renal_issue_na', 'rheum_issue_na'\n",
    "]\n",
    "X_cont = ['age_at_hct', 'donor_age']\n",
    "X_int = [\n",
    "    'comorbidity_score', 'hla_high_res_10', 'hla_high_res_6', 'hla_high_res_8', 'hla_low_res_10',\n",
    "    'hla_low_res_6', 'hla_low_res_8', 'hla_match_a_high', 'hla_match_a_low', 'hla_match_b_high',\n",
    "    'hla_match_b_low', 'hla_match_drb1_low', 'hla_match_c_high', 'hla_match_c_low', 'hla_match_dqb1_high', 'hla_match_dqb1_low',\n",
    "    'hla_match_drb1_high', 'hla_nmdp_6', 'karnofsky_score', 'year_hct'\n",
    "]\n"
   ]
  },
  {
   "cell_type": "code",
   "execution_count": 9,
   "id": "7867b404",
   "metadata": {},
   "outputs": [],
   "source": [
    "def score(df, prds):\n",
    "    return df.groupby('race_group', observed=True).apply(\n",
    "        lambda x: concordance_index(x['efs_time'], -prds.loc[x.index], x['efs']), include_groups=False\n",
    "    ).pipe(\n",
    "        lambda x: float(x.mean() - x.std(ddof=0))\n",
    "    )\n",
    "def get_validation_splitter(validation_fraction):\n",
    "    return lambda x: train_test_split(x, test_size = validation_fraction)\n",
    "\n",
    "config = {\n",
    "    'predict_func': lambda m, df, X: pd.Series(m.predict(df[X]), index = df.index),\n",
    "    'score_func': score,\n",
    "    'validation_splitter': get_validation_splitter,\n",
    "    'progress_callback': sgml.ProgressCallBack(), \n",
    "    'return_train_scores': True,\n",
    "    'y': 'kmf',\n",
    "}\n",
    "\n",
    "kf = KFold(n_splits=10, shuffle=True, random_state = 123)\n",
    "ss = ShuffleSplit(n_splits=1, random_state = 123)\n",
    "lgb_adapter = sgml.LGBMAdapter(lgb.LGBMRegressor)\n",
    "xgb_adapter = sgml.XGBAdapter(xgb.XGBRegressor)\n",
    "cb_adapter = sgml.CBAdapter(cb.CatBoostRegressor)"
   ]
  },
  {
   "cell_type": "markdown",
   "id": "b699ffe9",
   "metadata": {},
   "source": [
    "# LGB1"
   ]
  },
  {
   "cell_type": "code",
   "execution_count": 10,
   "id": "9cbcd618",
   "metadata": {},
   "outputs": [],
   "source": [
    "lgb1 = sgml.CVModel('model', 'lgb1', kf, config, lgb_adapter).load_if_exists()"
   ]
  },
  {
   "cell_type": "code",
   "execution_count": 11,
   "id": "8644f3fb",
   "metadata": {},
   "outputs": [],
   "source": [
    "hparams = {\n",
    "    'model_params': {'num_leaves':  15, 'n_estimators':  3000, 'colsample_bytree': 0.25, 'learning_rate': 0.02},\n",
    "    'X_num': X_tri + X_cont + X_int + X_na + X_bool, \n",
    "    'X_cat': X_nom, 'cat': {'handle_unknown': 'use_encoded_value', 'unknown_value': -1},\n",
    "    #'validation_fraction': 0.1\n",
    "}\n",
    "#result = lgb1.adhoc(df_train, ss, hparams)\n",
    "result = lgb1.cv(df_train, hparams)"
   ]
  },
  {
   "cell_type": "code",
   "execution_count": 12,
   "id": "6e5f6a7b",
   "metadata": {},
   "outputs": [
    {
     "data": {
      "text/plain": [
       "0.6734179596864021"
      ]
     },
     "execution_count": 12,
     "metadata": {},
     "output_type": "execute_result"
    }
   ],
   "source": [
    "score(df_train, lgb1.cv_best_['prd'].sort_index())"
   ]
  },
  {
   "cell_type": "markdown",
   "id": "639bc675",
   "metadata": {},
   "source": [
    "# XGB1"
   ]
  },
  {
   "cell_type": "code",
   "execution_count": 13,
   "id": "e9ed7fdf",
   "metadata": {},
   "outputs": [],
   "source": [
    "xgb1 = sgml.CVModel('model', 'xgb1', kf, config, xgb_adapter).load_if_exists()"
   ]
  },
  {
   "cell_type": "code",
   "execution_count": 14,
   "id": "1c425083",
   "metadata": {},
   "outputs": [],
   "source": [
    "hparams = {\n",
    "    'model_params': {\n",
    "        'max_depth': 3, 'colsample_bytree': 0.25, 'subsample': 0.9, 'n_estimators': 3000, 'learning_rate': 0.02\n",
    "    },\n",
    "    'X_num':  X_tri + X_cont + X_int + X_na + X_bool, 'X_cat': X_nom, 'cat': {'handle_unknown': 'ignore'},\n",
    "    #'validation_fraction': 0.1,\n",
    "}\n",
    "#result = xgb1.adhoc(df_train, ss, hparams, device = 'cuda')\n",
    "result = xgb1.cv(df_train, hparams, device = 'cuda')"
   ]
  },
  {
   "cell_type": "code",
   "execution_count": 15,
   "id": "f92e8c43",
   "metadata": {},
   "outputs": [
    {
     "data": {
      "text/plain": [
       "0.6728535728965033"
      ]
     },
     "execution_count": 15,
     "metadata": {},
     "output_type": "execute_result"
    }
   ],
   "source": [
    "score(df_train, xgb1.cv_best_['prd'].sort_index())"
   ]
  },
  {
   "cell_type": "markdown",
   "id": "0f9d7098",
   "metadata": {},
   "source": [
    "# CB1"
   ]
  },
  {
   "cell_type": "code",
   "execution_count": 16,
   "id": "d02b3971",
   "metadata": {},
   "outputs": [],
   "source": [
    "cb1 = sgml.CVModel('model', 'cb1', kf, config, cb_adapter).load_if_exists()"
   ]
  },
  {
   "cell_type": "code",
   "execution_count": 17,
   "id": "bd97da53",
   "metadata": {},
   "outputs": [
    {
     "data": {
      "application/vnd.jupyter.widget-view+json": {
       "model_id": "",
       "version_major": 2,
       "version_minor": 0
      },
      "text/plain": [
       "Fold:   0%|          | 0/10 [00:00<?, ?it/s]"
      ]
     },
     "metadata": {},
     "output_type": "display_data"
    }
   ],
   "source": [
    "hparams = {\n",
    "    'model_params': {\n",
    "        'max_depth': 6, 'n_estimators': 3500, 'learning_rate': 0.03\n",
    "    },\n",
    "    'X_num':  X_tri + X_cont + X_int + X_na + X_bool, 'X_cat': X_nom\n",
    "    #'validation_fraction': 0.1,\n",
    "}\n",
    "#result = cb1.adhoc(df_train, ss, hparams, task_type='GPU')\n",
    "result = cb1.cv(df_train, hparams, task_type = 'GPU')"
   ]
  },
  {
   "cell_type": "code",
   "execution_count": 18,
   "id": "31f13555",
   "metadata": {},
   "outputs": [
    {
     "data": {
      "text/plain": [
       "0.6641486236670436"
      ]
     },
     "execution_count": 18,
     "metadata": {},
     "output_type": "execute_result"
    }
   ],
   "source": [
    "np.mean(result['valid_scores'])#, result['model_result'][0]['valid_result'].idxmin()"
   ]
  },
  {
   "cell_type": "code",
   "execution_count": 19,
   "id": "e9ee6e79",
   "metadata": {},
   "outputs": [
    {
     "data": {
      "text/plain": [
       "0.6721180385899219"
      ]
     },
     "execution_count": 19,
     "metadata": {},
     "output_type": "execute_result"
    }
   ],
   "source": [
    "score(df_train, cb1.cv_best_['prd'].sort_index())"
   ]
  },
  {
   "cell_type": "code",
   "execution_count": 20,
   "id": "dc883893",
   "metadata": {},
   "outputs": [],
   "source": [
    "models = [lgb1, xgb1, cb1]\n",
    "df_stk = sc.cache_result(\n",
    "    'phase2_stk',\n",
    "    lambda : sgml.stack_cv(models)\n",
    ")"
   ]
  },
  {
   "cell_type": "code",
   "execution_count": 23,
   "id": "0924da45",
   "metadata": {},
   "outputs": [
    {
     "data": {
      "text/plain": [
       "0.6749017855832007"
      ]
     },
     "execution_count": 23,
     "metadata": {},
     "output_type": "execute_result"
    }
   ],
   "source": [
    "score(\n",
    "    df_train,\n",
    "    df_stk.sort_index()[['lgb1', 'xgb1', 'cb1']].dot([0.4, 0.3, 0.3])\n",
    ")"
   ]
  },
  {
   "cell_type": "code",
   "execution_count": 24,
   "id": "29c0d9b9",
   "metadata": {},
   "outputs": [],
   "source": [
    "for i in models:\n",
    "    if i.name.startswith('cb'):\n",
    "        i.train(df_train, task_type = 'GPU')\n",
    "    elif i.name.startswith('xgb'):\n",
    "        i.train(df_train, device = 'cuda')\n",
    "    else:\n",
    "        i.train(df_train)"
   ]
  },
  {
   "cell_type": "code",
   "execution_count": null,
   "id": "ef50682e",
   "metadata": {},
   "outputs": [],
   "source": []
  }
 ],
 "metadata": {
  "kernelspec": {
   "display_name": "Python 3",
   "language": "python",
   "name": "python3"
  },
  "language_info": {
   "codemirror_mode": {
    "name": "ipython",
    "version": 3
   },
   "file_extension": ".py",
   "mimetype": "text/x-python",
   "name": "python",
   "nbconvert_exporter": "python",
   "pygments_lexer": "ipython3",
   "version": "3.10.12"
  }
 },
 "nbformat": 4,
 "nbformat_minor": 5
}
