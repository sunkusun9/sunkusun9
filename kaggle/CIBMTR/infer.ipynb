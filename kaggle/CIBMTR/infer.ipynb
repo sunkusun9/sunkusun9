{
 "cells": [
  {
   "cell_type": "code",
   "execution_count": 10,
   "id": "746d6a01-2880-4276-b916-72612aecda81",
   "metadata": {},
   "outputs": [
    {
     "name": "stdout",
     "output_type": "stream",
     "text": [
      "3.12.6 (main, Sep 30 2024, 02:19:13) [GCC 9.4.0]\n",
      "numpy 1.26.4\n",
      "pandas 2.2.3\n",
      "polars 1.12.0\n",
      "matplotlib 3.8.4\n",
      "seaborn 0.13.2\n",
      "lifelines 0.30.0\n",
      "sklearn 1.5.2\n",
      "lightgbm\n",
      "xgboost 2.1.2\n",
      "catboost 1.2.5\n"
     ]
    }
   ],
   "source": [
    "import os\n",
    "import joblib\n",
    "import numpy as np\n",
    "import pandas as pd\n",
    "import polars as pl\n",
    "\n",
    "import pandas.api.types\n",
    "import matplotlib as mpl\n",
    "import matplotlib.pyplot as plt\n",
    "import seaborn as sns\n",
    "import sklearn\n",
    "\n",
    "import lightgbm as lgb\n",
    "import xgboost as xgb\n",
    "import catboost as cb\n",
    "\n",
    "import lifelines\n",
    "from lifelines.utils import concordance_index\n",
    "\n",
    "import sys\n",
    "\n",
    "print(sys.version)\n",
    "for i in [np, pd, pl, mpl, sns, lifelines, sklearn, lgb, xgb, cb]:\n",
    "    try:\n",
    "        print(i.__name__, i.__version__)\n",
    "    except:\n",
    "        print(i.__name__)"
   ]
  },
  {
   "cell_type": "code",
   "execution_count": 11,
   "id": "72897b4f-4944-4ceb-9759-2712d2790cab",
   "metadata": {},
   "outputs": [],
   "source": [
    "import dproc, sgutil, sgpp, sgml, custpp\n",
    "from sklearn.pipeline import make_pipeline\n",
    "from sklearn.model_selection import cross_validate, KFold, ShuffleSplit, train_test_split\n",
    "from sklearn.impute import SimpleImputer\n",
    "from lifelines import NelsonAalenFitter"
   ]
  },
  {
   "cell_type": "code",
   "execution_count": 12,
   "id": "c673a11e-7835-4c38-80c0-0a16c18076fe",
   "metadata": {},
   "outputs": [],
   "source": [
    "data_path = 'data'\n",
    "model_path = 'model'\n",
    "\n",
    "p2 =joblib.load(os.path.join(model_path, 'p2.joblib'))\n",
    "df_train = p2.transform([os.path.join(data_path, 'train.csv')])"
   ]
  },
  {
   "cell_type": "code",
   "execution_count": 25,
   "id": "dac135e1-ae12-43ba-aeec-94e5586bfdb8",
   "metadata": {},
   "outputs": [],
   "source": [
    "import sgml\n",
    "import lightgbm as lgb\n",
    "import xgboost as xgb\n",
    "import catboost as cb\n",
    "\n",
    "def predict_func(m, df, X):\n",
    "    return pd.Series(m.predict(df[X]), index = df.index)\n",
    "\n",
    "def score(df, prds):\n",
    "    return df.groupby('race_group', observed=True).apply(\n",
    "        lambda x: concordance_index(x['efs_time'], -prds.loc[x.index], x['efs']), include_groups=False\n",
    "    ).pipe(\n",
    "        lambda x: float(x.mean() - x.std(ddof=0))\n",
    "    )\n",
    "\n",
    "lgb_adapter = sgml.LGBMAdapter(lgb.LGBMRegressor)\n",
    "xgb_adapter = sgml.XGBAdapter(xgb.XGBRegressor)\n",
    "cb_adapter = sgml.CBAdapter(cb.CatBoostRegressor)"
   ]
  },
  {
   "cell_type": "code",
   "execution_count": 18,
   "id": "668709a7-2a36-41e5-ae6c-62ee57417f03",
   "metadata": {},
   "outputs": [],
   "source": [
    "def get_kmf_predictor():\n",
    "    kmf = [\n",
    "        ('lgb1', lgb_adapter), ('xgb1', xgb_adapter), ('cb1', cb_adapter)\n",
    "    ]\n",
    "    kmf_prd = {\n",
    "        n: sgml.make_predictor(model_path, n, a, predict_func) for n, a in kmf\n",
    "    }\n",
    "    return lambda x: pd.concat([\n",
    "        p(x).rename(n) for n, p in kmf_prd.items()\n",
    "    ], axis=1)\n",
    "kmf_predictor = get_kmf_predictor()"
   ]
  },
  {
   "cell_type": "code",
   "execution_count": 23,
   "id": "c76570c9-0b97-440c-bf5e-5a02076c0166",
   "metadata": {},
   "outputs": [],
   "source": [
    "def get_naf_predictor():\n",
    "    kmf = [\n",
    "        ('lgb2', lgb_adapter), ('xgb2', xgb_adapter), ('cb2', cb_adapter)\n",
    "    ]\n",
    "    kmf_prd = {\n",
    "        n: sgml.make_predictor(model_path, n, a, predict_func) for n, a in kmf\n",
    "    }\n",
    "    return lambda x: pd.concat([\n",
    "        p(x).rename(n) for n, p in kmf_prd.items()\n",
    "    ], axis=1)\n",
    "naf_predictor = get_naf_predictor()"
   ]
  },
  {
   "cell_type": "code",
   "execution_count": 21,
   "id": "a92243b0-ccc7-4869-a987-bfe7085baef6",
   "metadata": {},
   "outputs": [],
   "source": [
    "kmf_train_prd = kmf_predictor(df_train).dot([0.4, 0.3, 0.3]).rename('kmf')"
   ]
  },
  {
   "cell_type": "code",
   "execution_count": 24,
   "id": "5b8b5e9e-25dd-420a-b3d1-3b32d134d9db",
   "metadata": {},
   "outputs": [],
   "source": [
    "naf_train_prd = naf_predictor(df_train).dot([0.4, 0.3, 0.3]).rename('naf')"
   ]
  },
  {
   "cell_type": "code",
   "execution_count": 33,
   "id": "1298e52c-538c-49ab-80a0-c768828f9c90",
   "metadata": {},
   "outputs": [
    {
     "data": {
      "text/plain": [
       "0.732103843905857"
      ]
     },
     "execution_count": 33,
     "metadata": {},
     "output_type": "execute_result"
    }
   ],
   "source": [
    "from scipy.stats import rankdata\n",
    "score(\n",
    "    df_train,\n",
    "    pd.concat([\n",
    "        kmf_train_prd.rank(),\n",
    "        naf_train_prd.rank()\n",
    "    ], axis=1).mean(axis=1)\n",
    ")"
   ]
  },
  {
   "cell_type": "code",
   "execution_count": null,
   "id": "6a453b44-13b8-4622-beda-3f1440896992",
   "metadata": {},
   "outputs": [],
   "source": []
  }
 ],
 "metadata": {
  "kernelspec": {
   "display_name": "Python 3 (ipykernel)",
   "language": "python",
   "name": "python3"
  },
  "language_info": {
   "codemirror_mode": {
    "name": "ipython",
    "version": 3
   },
   "file_extension": ".py",
   "mimetype": "text/x-python",
   "name": "python",
   "nbconvert_exporter": "python",
   "pygments_lexer": "ipython3",
   "version": "3.12.6"
  }
 },
 "nbformat": 4,
 "nbformat_minor": 5
}
