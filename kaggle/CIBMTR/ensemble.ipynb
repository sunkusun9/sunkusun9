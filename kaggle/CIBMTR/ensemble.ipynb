{
 "cells": [
  {
   "cell_type": "code",
   "execution_count": 1,
   "id": "811b4537-9395-4609-b0f5-e85311fc6212",
   "metadata": {},
   "outputs": [
    {
     "name": "stdout",
     "output_type": "stream",
     "text": [
      "3.10.12 (main, Nov  6 2024, 20:22:13) [GCC 11.4.0]\n",
      "numpy 1.26.4\n",
      "pandas 2.2.3\n",
      "polars 1.9.0\n",
      "matplotlib 3.7.5\n",
      "seaborn 0.12.2\n",
      "lifelines 0.30.0\n",
      "sklearn 1.2.2\n",
      "lightgbm 4.5.0\n",
      "xgboost 2.0.3\n",
      "catboost 1.2.7\n"
     ]
    }
   ],
   "source": [
    "import os\n",
    "import joblib\n",
    "import numpy as np\n",
    "import pandas as pd\n",
    "import polars as pl\n",
    "\n",
    "import pandas.api.types\n",
    "import matplotlib as mpl\n",
    "import matplotlib.pyplot as plt\n",
    "import seaborn as sns\n",
    "import sklearn\n",
    "\n",
    "import lightgbm as lgb\n",
    "import xgboost as xgb\n",
    "import catboost as cb\n",
    "\n",
    "import lifelines\n",
    "from lifelines.utils import concordance_index\n",
    "\n",
    "import sys\n",
    "\n",
    "print(sys.version)\n",
    "for i in [np, pd, pl, mpl, sns, lifelines, sklearn, lgb, xgb, cb]:\n",
    "    try:\n",
    "        print(i.__name__, i.__version__)\n",
    "    except:\n",
    "        print(i.__name__)"
   ]
  },
  {
   "cell_type": "code",
   "execution_count": 2,
   "id": "bfccf596-b0f3-46d8-9af5-b412ef438e0d",
   "metadata": {},
   "outputs": [],
   "source": [
    "import dproc, sgutil, sgpp, sgml, custpp\n",
    "from sklearn.pipeline import make_pipeline\n",
    "from sklearn.model_selection import cross_validate, KFold, ShuffleSplit, train_test_split\n",
    "from sklearn.impute import SimpleImputer\n",
    "from lifelines import NelsonAalenFitter\n",
    "\n",
    "data_path = 'data'\n",
    "model_path = 'model'\n",
    "\n",
    "def score(df, prds):\n",
    "    return df.groupby('race_group', observed=True).apply(\n",
    "        lambda x: concordance_index(x['efs_time'], -prds.loc[x.index], x['efs']), include_groups=False\n",
    "    ).pipe(\n",
    "        lambda x: float(x.mean() - x.std(ddof=0))\n",
    "    )\n",
    "p2 =joblib.load(os.path.join(model_path, 'p2.joblib'))\n",
    "df_train = p2.transform([os.path.join(data_path, 'train.csv')])"
   ]
  },
  {
   "cell_type": "code",
   "execution_count": 3,
   "id": "4439e018-e539-4363-88ab-1fd7f121d41e",
   "metadata": {},
   "outputs": [
    {
     "data": {
      "text/html": [
       "<div>\n",
       "<style scoped>\n",
       "    .dataframe tbody tr th:only-of-type {\n",
       "        vertical-align: middle;\n",
       "    }\n",
       "\n",
       "    .dataframe tbody tr th {\n",
       "        vertical-align: top;\n",
       "    }\n",
       "\n",
       "    .dataframe thead th {\n",
       "        text-align: right;\n",
       "    }\n",
       "</style>\n",
       "<table border=\"1\" class=\"dataframe\">\n",
       "  <thead>\n",
       "    <tr style=\"text-align: right;\">\n",
       "      <th></th>\n",
       "      <th>lgb1</th>\n",
       "      <th>xgb1</th>\n",
       "      <th>cb1</th>\n",
       "    </tr>\n",
       "    <tr>\n",
       "      <th>ID</th>\n",
       "      <th></th>\n",
       "      <th></th>\n",
       "      <th></th>\n",
       "    </tr>\n",
       "  </thead>\n",
       "  <tbody>\n",
       "    <tr>\n",
       "      <th>0</th>\n",
       "      <td>0.483554</td>\n",
       "      <td>0.496490</td>\n",
       "      <td>0.492672</td>\n",
       "    </tr>\n",
       "    <tr>\n",
       "      <th>1</th>\n",
       "      <td>0.620134</td>\n",
       "      <td>0.636595</td>\n",
       "      <td>0.685708</td>\n",
       "    </tr>\n",
       "    <tr>\n",
       "      <th>2</th>\n",
       "      <td>0.434267</td>\n",
       "      <td>0.437683</td>\n",
       "      <td>0.449668</td>\n",
       "    </tr>\n",
       "    <tr>\n",
       "      <th>3</th>\n",
       "      <td>0.660707</td>\n",
       "      <td>0.649706</td>\n",
       "      <td>0.661139</td>\n",
       "    </tr>\n",
       "    <tr>\n",
       "      <th>4</th>\n",
       "      <td>0.644397</td>\n",
       "      <td>0.642495</td>\n",
       "      <td>0.664089</td>\n",
       "    </tr>\n",
       "  </tbody>\n",
       "</table>\n",
       "</div>"
      ],
      "text/plain": [
       "        lgb1      xgb1       cb1\n",
       "ID                              \n",
       "0   0.483554  0.496490  0.492672\n",
       "1   0.620134  0.636595  0.685708\n",
       "2   0.434267  0.437683  0.449668\n",
       "3   0.660707  0.649706  0.661139\n",
       "4   0.644397  0.642495  0.664089"
      ]
     },
     "execution_count": 3,
     "metadata": {},
     "output_type": "execute_result"
    }
   ],
   "source": [
    "df_kmf_cv = pd.concat([\n",
    "    joblib.load(os.path.join(model_path, '{}.cv'.format(i)))['cv_best_']['prd'].sort_index().rename(i) for i in ['lgb1', 'xgb1', 'cb1']\n",
    "], axis=1)\n",
    "df_kmf_cv.head()"
   ]
  },
  {
   "cell_type": "code",
   "execution_count": 4,
   "id": "e04d5b1b-4f05-4f3d-b1f3-432e83ac86b0",
   "metadata": {},
   "outputs": [
    {
     "data": {
      "text/html": [
       "<div>\n",
       "<style scoped>\n",
       "    .dataframe tbody tr th:only-of-type {\n",
       "        vertical-align: middle;\n",
       "    }\n",
       "\n",
       "    .dataframe tbody tr th {\n",
       "        vertical-align: top;\n",
       "    }\n",
       "\n",
       "    .dataframe thead th {\n",
       "        text-align: right;\n",
       "    }\n",
       "</style>\n",
       "<table border=\"1\" class=\"dataframe\">\n",
       "  <thead>\n",
       "    <tr style=\"text-align: right;\">\n",
       "      <th></th>\n",
       "      <th>lgb2</th>\n",
       "      <th>xgb2</th>\n",
       "      <th>cb2</th>\n",
       "    </tr>\n",
       "    <tr>\n",
       "      <th>ID</th>\n",
       "      <th></th>\n",
       "      <th></th>\n",
       "      <th></th>\n",
       "    </tr>\n",
       "  </thead>\n",
       "  <tbody>\n",
       "    <tr>\n",
       "      <th>0</th>\n",
       "      <td>-0.725706</td>\n",
       "      <td>-0.712913</td>\n",
       "      <td>-0.723394</td>\n",
       "    </tr>\n",
       "    <tr>\n",
       "      <th>1</th>\n",
       "      <td>-0.497212</td>\n",
       "      <td>-0.498215</td>\n",
       "      <td>-0.445457</td>\n",
       "    </tr>\n",
       "    <tr>\n",
       "      <th>2</th>\n",
       "      <td>-0.802942</td>\n",
       "      <td>-0.806927</td>\n",
       "      <td>-0.785873</td>\n",
       "    </tr>\n",
       "    <tr>\n",
       "      <th>3</th>\n",
       "      <td>-0.444087</td>\n",
       "      <td>-0.475165</td>\n",
       "      <td>-0.468297</td>\n",
       "    </tr>\n",
       "    <tr>\n",
       "      <th>4</th>\n",
       "      <td>-0.488937</td>\n",
       "      <td>-0.488277</td>\n",
       "      <td>-0.462788</td>\n",
       "    </tr>\n",
       "  </tbody>\n",
       "</table>\n",
       "</div>"
      ],
      "text/plain": [
       "        lgb2      xgb2       cb2\n",
       "ID                              \n",
       "0  -0.725706 -0.712913 -0.723394\n",
       "1  -0.497212 -0.498215 -0.445457\n",
       "2  -0.802942 -0.806927 -0.785873\n",
       "3  -0.444087 -0.475165 -0.468297\n",
       "4  -0.488937 -0.488277 -0.462788"
      ]
     },
     "execution_count": 4,
     "metadata": {},
     "output_type": "execute_result"
    }
   ],
   "source": [
    "df_naf_cv = pd.concat([\n",
    "    joblib.load(os.path.join(model_path, '{}.cv'.format(i)))['cv_best_']['prd'].sort_index().rename(i) for i in ['lgb2', 'xgb2', 'cb2']\n",
    "], axis=1)\n",
    "df_naf_cv.head()"
   ]
  },
  {
   "cell_type": "code",
   "execution_count": 43,
   "id": "b0fccb0e-5d99-4526-8e9f-edbd73040af6",
   "metadata": {},
   "outputs": [],
   "source": [
    "df_stk = pd.concat([\n",
    "    df_kmf_cv.dot([0.4, 0.3, 0.3]).rename('kmf').rank(),\n",
    "    df_naf_cv.dot([0.4, 0.3, 0.3]).rename('naf').rank()\n",
    "], axis=1)"
   ]
  },
  {
   "cell_type": "code",
   "execution_count": 44,
   "id": "71e48c7a-c0eb-48f4-a906-08ca434329ca",
   "metadata": {},
   "outputs": [
    {
     "data": {
      "text/plain": [
       "0.6772404254003302"
      ]
     },
     "execution_count": 44,
     "metadata": {},
     "output_type": "execute_result"
    }
   ],
   "source": [
    "score(df_train, df_stk.dot([0.0, 1.0]))"
   ]
  },
  {
   "cell_type": "code",
   "execution_count": 30,
   "id": "f0eb32ce-e52b-424f-8dc1-c5eaff4a82a0",
   "metadata": {},
   "outputs": [],
   "source": [
    "df_cv3 = pd.concat([\n",
    "    pd.concat([\n",
    "        joblib.load(os.path.join(model_path, '{}.cv'.format(i)))['cv_best_']['prd'].sort_index().rename(i) for i in ['lgb3_1', 'lgb3_2', 'lgb3_3', 'lgb3_4']\n",
    "    ], axis=1).dot([0.2, 0.2, 0.3, 0.3]),\n",
    "    pd.concat([\n",
    "        joblib.load(os.path.join(model_path, '{}.cv'.format(i)))['cv_best_']['prd'].sort_index().rename(i) for i in ['xgb3_1', 'xgb3_2', 'xgb3_3', 'xgb3_4']\n",
    "    ], axis=1).dot([0.2, 0.2, 0.3, 0.3]),\n",
    "], axis=1)"
   ]
  },
  {
   "cell_type": "code",
   "execution_count": 46,
   "id": "23a30dd0",
   "metadata": {},
   "outputs": [],
   "source": [
    "df_stk = pd.concat([\n",
    "    df_kmf_cv.dot([0.4, 0.3, 0.3]).rename('kmf').rank(),\n",
    "    df_naf_cv.dot([0.4, 0.3, 0.3]).rename('naf').rank(),\n",
    "    df_cv3.dot([0.7, 0.3]).rename('3').rank()\n",
    "], axis=1)"
   ]
  },
  {
   "cell_type": "code",
   "execution_count": 47,
   "id": "8b30ab99",
   "metadata": {},
   "outputs": [
    {
     "data": {
      "text/plain": [
       "0.6811278688062948"
      ]
     },
     "execution_count": 47,
     "metadata": {},
     "output_type": "execute_result"
    }
   ],
   "source": [
    "score(df_train, df_stk.dot([0.05, 0.05, 0.9]))"
   ]
  },
  {
   "cell_type": "code",
   "execution_count": null,
   "id": "5ea32ea6",
   "metadata": {},
   "outputs": [],
   "source": []
  }
 ],
 "metadata": {
  "kernelspec": {
   "display_name": "Python 3",
   "language": "python",
   "name": "python3"
  },
  "language_info": {
   "codemirror_mode": {
    "name": "ipython",
    "version": 3
   },
   "file_extension": ".py",
   "mimetype": "text/x-python",
   "name": "python",
   "nbconvert_exporter": "python",
   "pygments_lexer": "ipython3",
   "version": "3.10.12"
  }
 },
 "nbformat": 4,
 "nbformat_minor": 5
}
