{
 "cells": [
  {
   "cell_type": "markdown",
   "id": "46268461-8eba-4885-b76c-e6b9f359d8cd",
   "metadata": {},
   "source": [
    "5단계 까지 도출한 사항을 정리하자면,\n",
    "\n",
    "Weight Capacity (kg)는 Price를 예측할 수 있는 Key feature 이다. Weight Capacity (kg)는 범주형 성격을 보이는데, \n",
    "\n",
    "이 배경에는 동일한 Weight Capacity (kg)에는 동일한 노이즈가 부여되었음이 짐작이 된다. \n",
    "\n",
    "이 점은 phase1~5 까지의 여러 실험을 통해 이로 인해 나타나는 결과를 통해 유력함을 확인했습니다. \n",
    "\n",
    "단계에서는 이 점을 이용한 Weight Capacity (kg)를  train에 등장하는 Weight Capacity (kg)와 5, 30을 제외한 변수는\n",
    "\n",
    "Weight Capacity (kg)로 Mean encoding을 입력으로 하는 모델을 이용하고, \n",
    "\n",
    "그렇지 않으면 Mean Encoding을 하지 않은 모델을 사용합니다."
   ]
  },
  {
   "cell_type": "code",
   "execution_count": 2,
   "id": "bf32f8b4-d6ee-4d7e-902d-4cd6203b9bc8",
   "metadata": {},
   "outputs": [
    {
     "name": "stderr",
     "output_type": "stream",
     "text": [
      "2025-02-11 08:10:08.593337: E external/local_xla/xla/stream_executor/cuda/cuda_fft.cc:477] Unable to register cuFFT factory: Attempting to register factory for plugin cuFFT when one has already been registered\n",
      "WARNING: All log messages before absl::InitializeLog() is called are written to STDERR\n",
      "E0000 00:00:1739261408.604660   64559 cuda_dnn.cc:8310] Unable to register cuDNN factory: Attempting to register factory for plugin cuDNN when one has already been registered\n",
      "E0000 00:00:1739261408.608134   64559 cuda_blas.cc:1418] Unable to register cuBLAS factory: Attempting to register factory for plugin cuBLAS when one has already been registered\n",
      "2025-02-11 08:10:08.620137: I tensorflow/core/platform/cpu_feature_guard.cc:210] This TensorFlow binary is optimized to use available CPU instructions in performance-critical operations.\n",
      "To enable the following instructions: AVX2 FMA, in other operations, rebuild TensorFlow with the appropriate compiler flags.\n"
     ]
    },
    {
     "name": "stdout",
     "output_type": "stream",
     "text": [
      "3.12.6 (main, Sep 30 2024, 02:19:13) [GCC 9.4.0]\n",
      "pandas 2.2.3\n",
      "polars 1.12.0\n",
      "matplotlib 3.8.4\n",
      "seaborn 0.13.2\n",
      "numpy 1.26.4\n",
      "scipy 1.12.0\n",
      "sklearn 1.5.2\n",
      "xgboost 2.1.2\n",
      "catboost 1.2.5\n"
     ]
    }
   ],
   "source": [
    "import os, sys\n",
    "\n",
    "import pandas as pd\n",
    "import polars as pl\n",
    "\n",
    "import matplotlib as mpl\n",
    "import matplotlib.pyplot as plt\n",
    "import seaborn as sns\n",
    "\n",
    "import numpy as np\n",
    "import scipy\n",
    "\n",
    "import sklearn\n",
    "import lightgbm as lgb\n",
    "import xgboost as xgb\n",
    "import catboost as cb\n",
    "\n",
    "import dproc, sgml, sgnn, sgpp, sgutil, custpp\n",
    "\n",
    "print(sys.version)\n",
    "for i in [pd, pl, mpl, sns, np, scipy, sklearn, lgb, xgb, cb]:\n",
    "    try:\n",
    "        print(i.__name__, i.__version__)\n",
    "    except:\n",
    "        pass"
   ]
  },
  {
   "cell_type": "code",
   "execution_count": 3,
   "id": "fcc12dc7-ef25-4faa-8738-0b4d9a2df745",
   "metadata": {},
   "outputs": [],
   "source": [
    "from itertools import combinations\n",
    "\n",
    "from sklearn.pipeline import make_pipeline\n",
    "from sklearn.model_selection import cross_val_score, KFold, ShuffleSplit, train_test_split\n",
    "from sklearn.preprocessing import TargetEncoder\n",
    "from sklearn.metrics import root_mean_squared_error, r2_score\n",
    "from sklearn.linear_model import LinearRegression"
   ]
  },
  {
   "cell_type": "code",
   "execution_count": 4,
   "id": "88aefc96-6cd2-4ef1-a6ad-29bee24b6a78",
   "metadata": {},
   "outputs": [],
   "source": [
    "sc = sgutil.SGCache('img', 'result')\n",
    "ss = ShuffleSplit(n_splits = 1, train_size = 0.8, random_state = 123)\n",
    "kf = KFold(5, random_state = 123, shuffle=True)\n",
    "\n",
    "files = {\n",
    "    'train': os.path.join('data', 'train.csv'),\n",
    "    'train_extra': os.path.join('data', 'training_extra.csv'),\n",
    "    'test': os.path.join('data', 'test.csv'),\n",
    "}\n",
    "\n",
    "t = sc.cache_result(\n",
    "    'pipeline_2',\n",
    "    lambda : make_pipeline(\n",
    "        sgpp.PolarsProcessor(), \n",
    "        sgpp.ExprProcessor({\n",
    "            'Compartments_c' : pl.col('Compartments').cast(pl.String).cast(pl.Categorical)\n",
    "        }),\n",
    "        sgpp.PandasCoverter(index_col = 'id'),\n",
    "        sgpp.ApplyWrapper(\n",
    "            sgpp.CatArrangerFreq(1, na_value = 'Unknown'),\n",
    "            ['Brand', 'Material', 'Size', 'Laptop Compartment', 'Waterproof', 'Style', 'Color']\n",
    "        ), \n",
    "        custpp.WeightCapacityProcessor()\n",
    "    ).fit(files['train']),\n",
    "    rerun = 1\n",
    ")\n",
    "df_train = pd.concat(\n",
    "    [t.transform(files['train']), t.transform(files['train_extra'])], axis = 0\n",
    ")\n",
    "df_test = t.transform(files['test'])\n",
    "\n",
    "target = 'Price'\n",
    "X_cat = ['Brand', 'Material', 'Size', 'Laptop Compartment', 'Waterproof', 'Style', 'Color', 'Compartments_c']\n",
    "X_num = ['Weight Capacity (kg)']"
   ]
  },
  {
   "cell_type": "code",
   "execution_count": 5,
   "id": "f7ba906c-801c-423d-9858-ecffd7b8d37b",
   "metadata": {},
   "outputs": [],
   "source": [
    "def get_validation_splitter(validation_fraction):\n",
    "    return lambda x: train_test_split(x, test_size = validation_fraction)\n",
    "\n",
    "config = {\n",
    "    'predict_func': lambda m, df, X: pd.Series(m.predict(df[X]), index = df.index).clip(15, 150),\n",
    "    'score_func': lambda df, prds: root_mean_squared_error(df[target].sort_index(), prds.sort_index()),\n",
    "    'validation_splitter': get_validation_splitter,\n",
    "    'progress_callback': sgml.ProgressCallBack(), \n",
    "    'return_train_scores': True,\n",
    "    'y': target,\n",
    "}\n",
    "\n",
    "cb_adapter = sgml.CBAdapter(cb.CatBoostRegressor)\n",
    "lr_adapter = sgml.SklearnAdapter(LinearRegression)\n",
    "lgb_adapter = sgml.LGBMAdapter(lgb.LGBMRegressor)\n",
    "xgb_adapter = sgml.XGBAdapter(xgb.XGBRegressor)"
   ]
  },
  {
   "cell_type": "markdown",
   "id": "c2d1b972-672d-4f54-b3ba-10fc678cb065",
   "metadata": {},
   "source": [
    "# CB1"
   ]
  },
  {
   "cell_type": "code",
   "execution_count": 6,
   "id": "a99b5ddf-711e-4eea-aff7-9992924b1f86",
   "metadata": {},
   "outputs": [],
   "source": [
    "def eval_model(hparams, adapter, case = 0, sp = ss, **args):\n",
    "    results = list()\n",
    "    for train_idx, valid_idx in sp.split(df_train, df_train[target]):\n",
    "        df_cv_train, df_valid = df_train.iloc[train_idx], df_train.iloc[valid_idx]\n",
    "        bidx = df_valid['Weight Capacity (kg)'].isin(df_cv_train['Weight Capacity (kg)'].unique()) & df_valid['Weight Capacity (kg)'].notna() &\\\n",
    "                df_valid['Weight Capacity (kg)'].between(5, 30, inclusive = 'neither')\n",
    "        if case == 1:\n",
    "            bidx = ~bidx\n",
    "        df_valid = df_valid.loc[bidx]\n",
    "        reg = sgml.train(df_cv_train, hparams, config, adapter, **args)\n",
    "        prd = make_pipeline(reg[0]['preprocessor'], reg[0]['model']).predict(df_valid[reg[1]])\n",
    "        results.append(\n",
    "            (reg, root_mean_squared_error(df_valid[target], prd), pd.Series(prd, index = df_valid.index, name = target))\n",
    "        )\n",
    "    return results"
   ]
  },
  {
   "cell_type": "code",
   "execution_count": 7,
   "id": "e4e6ce1d-17a7-4c56-8e1d-b14efdd5017e",
   "metadata": {},
   "outputs": [
    {
     "data": {
      "text/plain": [
       "(metric  set  \n",
       " RMSE    learn    699\n",
       " dtype: int64,\n",
       " 38.58545493209808)"
      ]
     },
     "execution_count": 7,
     "metadata": {},
     "output_type": "execute_result"
    }
   ],
   "source": [
    "results_0 = sc.cache_result(\n",
    "    'cv_cb1_0',\n",
    "    lambda : eval_model({\n",
    "        'model_params' : {'n_estimators': 700, 'max_depth': 7, 'learning_rate': 0.1},\n",
    "        'X_num': X_num, 'X_cat': X_cat, 'X_tgt': ['wc_i2'], 'tgt': {'cv': 24, 'smooth': 20, 'target_type': 'continuous', 'random_state': 123},\n",
    "        #'validation_fraction': 0.1\n",
    "    }, cb_adapter, case = 0, sp = kf, task_type = 'GPU')\n",
    ")\n",
    "sgml.cb_learning_result(results_0[0][0][0])['valid_result'].idxmin(), results_0[0][1]"
   ]
  },
  {
   "cell_type": "code",
   "execution_count": 8,
   "id": "ce784429-8609-49bc-b2b8-48f923d7bef1",
   "metadata": {},
   "outputs": [
    {
     "data": {
      "text/plain": [
       "(metric  set  \n",
       " RMSE    learn    999\n",
       " dtype: int64,\n",
       " 39.21964479050714)"
      ]
     },
     "execution_count": 8,
     "metadata": {},
     "output_type": "execute_result"
    }
   ],
   "source": [
    "results_1 = sc.cache_result(\n",
    "    'cv_cb1_1',\n",
    "    lambda :eval_model({\n",
    "        'model_params' : {'n_estimators': 1000, 'max_depth': 7, 'learning_rate': 0.1},\n",
    "        'X_num': X_num, 'X_cat': X_cat,\n",
    "    #    'validation_fraction': 0.1\n",
    "    }, cb_adapter, case = 1, sp = kf, task_type = 'GPU'), rerun = 0\n",
    ")\n",
    "sgml.cb_learning_result(results_1[0][0][0])['valid_result'].idxmin(), results_1[0][1]"
   ]
  },
  {
   "cell_type": "code",
   "execution_count": 9,
   "id": "66c6a4e2-6de8-4a56-8431-dec483c266a7",
   "metadata": {},
   "outputs": [
    {
     "name": "stdout",
     "output_type": "stream",
     "text": [
      "38.69925444882886\n",
      "38.7001656611936\n",
      "38.72494393663837\n",
      "38.692983930300905\n",
      "38.7080609748558\n"
     ]
    }
   ],
   "source": [
    "s_cb1 = list()\n",
    "for a, b in zip(results_0, results_1):\n",
    "    prd = pd.concat([a[2], b[2]]).sort_index().rename('cb1')\n",
    "    print(root_mean_squared_error(df_train.loc[df_train.index.isin(prd.index), target].sort_index(), prd))\n",
    "    s_cb1.append(prd)\n",
    "s_cb1 = pd.concat(s_cb1).sort_index()"
   ]
  },
  {
   "cell_type": "markdown",
   "id": "8f017e03-deea-4b00-a1b0-ad20fb4acad0",
   "metadata": {},
   "source": [
    "# XGB1"
   ]
  },
  {
   "cell_type": "code",
   "execution_count": 10,
   "id": "ed3f88af-d2b2-434d-95bc-d3280b6cbfa7",
   "metadata": {},
   "outputs": [
    {
     "data": {
      "text/plain": [
       "38.58607"
      ]
     },
     "execution_count": 10,
     "metadata": {},
     "output_type": "execute_result"
    }
   ],
   "source": [
    "results_0 = sc.cache_result(\n",
    "    'cv_xgb1_0',\n",
    "    lambda : eval_model({\n",
    "        'model_params' : {'n_estimators': 1500, 'max_depth': 5, 'learning_rate': 0.03},\n",
    "        'X_num': X_num, 'X_cat': X_cat, 'X_tgt': ['wc_i2'], 'tgt': {'cv': 24, 'smooth': 20, 'target_type': 'continuous', 'random_state': 123},\n",
    "        #'validation_fraction': 0.1\n",
    "    }, xgb_adapter, case = 0, sp = kf, device = 'cuda'), rerun = 0\n",
    ")\n",
    "results_0[0][1]"
   ]
  },
  {
   "cell_type": "code",
   "execution_count": 11,
   "id": "bd0837ff-a7a8-40f1-971a-128fac544b0d",
   "metadata": {},
   "outputs": [
    {
     "data": {
      "text/plain": [
       "39.233482"
      ]
     },
     "execution_count": 11,
     "metadata": {},
     "output_type": "execute_result"
    }
   ],
   "source": [
    "results_1 = sc.cache_result(\n",
    "    'cv_xgb1_1',\n",
    "    lambda :eval_model({\n",
    "        'model_params' : {'n_estimators': 2000, 'max_depth': 4, 'learning_rate': 0.03},\n",
    "        'X_num': X_num, 'X_cat': X_cat,\n",
    "        #'validation_fraction': 0.1\n",
    "    }, xgb_adapter, case = 1, sp = kf, device = 'cuda'), rerun = 0\n",
    ")\n",
    "results_1[0][1]"
   ]
  },
  {
   "cell_type": "code",
   "execution_count": 12,
   "id": "9853ffe8-7f83-4324-8ae2-8c5b58cfeb34",
   "metadata": {},
   "outputs": [
    {
     "name": "stdout",
     "output_type": "stream",
     "text": [
      "38.702263\n",
      "38.70285\n",
      "38.730896\n",
      "38.694828\n",
      "38.715015\n"
     ]
    }
   ],
   "source": [
    "s_xgb1 = list()\n",
    "for a, b in zip(results_0, results_1):\n",
    "    prd = pd.concat([a[2], b[2]]).sort_index().rename('xgb1')\n",
    "    print(root_mean_squared_error(df_train.loc[df_train.index.isin(prd.index), target].sort_index(), prd))\n",
    "    s_xgb1.append(prd)\n",
    "s_xgb1 = pd.concat(s_xgb1).sort_index()"
   ]
  },
  {
   "cell_type": "markdown",
   "id": "b9590b80-a6ce-40d2-9d60-101d1ffa1cda",
   "metadata": {},
   "source": [
    "# LGB1"
   ]
  },
  {
   "cell_type": "code",
   "execution_count": 13,
   "id": "c6e2195a-f64b-4fb8-9223-f9c81908d704",
   "metadata": {},
   "outputs": [
    {
     "data": {
      "text/plain": [
       "38.581233616920606"
      ]
     },
     "execution_count": 13,
     "metadata": {},
     "output_type": "execute_result"
    }
   ],
   "source": [
    "results_0 = sc.cache_result(\n",
    "    'cv_lgb1_0',\n",
    "    lambda : eval_model({\n",
    "        'model_params' : {'n_estimators': 1000, 'learning_rate': 0.03},\n",
    "        'X_num': X_num, 'X_cat': X_cat, 'X_tgt': ['wc_i2'], 'tgt': {'cv': 24, 'smooth': 20, 'target_type': 'continuous', 'random_state': 123},\n",
    "        #'validation_fraction': 0.1\n",
    "    }, lgb_adapter, case = 0, sp = kf), rerun = 0\n",
    ")\n",
    "results_0[0][1]"
   ]
  },
  {
   "cell_type": "code",
   "execution_count": 14,
   "id": "6eebe06a-0d75-4cea-ab2b-4e804cc36ca1",
   "metadata": {},
   "outputs": [
    {
     "data": {
      "text/plain": [
       "39.21659948662713"
      ]
     },
     "execution_count": 14,
     "metadata": {},
     "output_type": "execute_result"
    }
   ],
   "source": [
    "results_1 = sc.cache_result(\n",
    "    'cv_lgb1_1',\n",
    "    lambda : eval_model({\n",
    "        'model_params' : {'n_estimators': 1000, 'learning_rate': 0.03},\n",
    "        'X_num': X_num, 'X_cat': X_cat,\n",
    "        #'validation_fraction': 0.1\n",
    "    }, lgb_adapter, case = 1, sp = kf), rerun = 0\n",
    ")\n",
    "results_1[0][1]"
   ]
  },
  {
   "cell_type": "code",
   "execution_count": 15,
   "id": "51125791-ab7e-4453-931e-d20529d0dfea",
   "metadata": {},
   "outputs": [
    {
     "name": "stdout",
     "output_type": "stream",
     "text": [
      "38.69524565122885\n",
      "38.6935063504952\n",
      "38.721391865182014\n",
      "38.68683199170401\n",
      "38.704066018691925\n"
     ]
    }
   ],
   "source": [
    "s_lgb1 = list()\n",
    "for a, b in zip(results_0, results_1):\n",
    "    prd = pd.concat([a[2], b[2]]).sort_index().rename('lgb1')\n",
    "    print(root_mean_squared_error(df_train.loc[df_train.index.isin(prd.index), target].sort_index(), prd))\n",
    "    s_lgb1.append(prd)\n",
    "s_lgb1 = pd.concat(s_lgb1).sort_index()"
   ]
  },
  {
   "cell_type": "markdown",
   "id": "e7874e3a-a22d-4cda-83e6-9662ce5c1a2d",
   "metadata": {},
   "source": [
    "# Ensemble"
   ]
  },
  {
   "cell_type": "code",
   "execution_count": 16,
   "id": "807f9dec-a53d-47a4-b9a8-a8da17f1b10f",
   "metadata": {},
   "outputs": [
    {
     "data": {
      "text/html": [
       "<div>\n",
       "<style scoped>\n",
       "    .dataframe tbody tr th:only-of-type {\n",
       "        vertical-align: middle;\n",
       "    }\n",
       "\n",
       "    .dataframe tbody tr th {\n",
       "        vertical-align: top;\n",
       "    }\n",
       "\n",
       "    .dataframe thead th {\n",
       "        text-align: right;\n",
       "    }\n",
       "</style>\n",
       "<table border=\"1\" class=\"dataframe\">\n",
       "  <thead>\n",
       "    <tr style=\"text-align: right;\">\n",
       "      <th></th>\n",
       "      <th>cb1</th>\n",
       "      <th>xgb1</th>\n",
       "      <th>lgb1</th>\n",
       "    </tr>\n",
       "    <tr>\n",
       "      <th>id</th>\n",
       "      <th></th>\n",
       "      <th></th>\n",
       "      <th></th>\n",
       "    </tr>\n",
       "  </thead>\n",
       "  <tbody>\n",
       "    <tr>\n",
       "      <th>0</th>\n",
       "      <td>82.029231</td>\n",
       "      <td>81.506348</td>\n",
       "      <td>81.654079</td>\n",
       "    </tr>\n",
       "    <tr>\n",
       "      <th>1</th>\n",
       "      <td>86.546309</td>\n",
       "      <td>86.527985</td>\n",
       "      <td>86.277539</td>\n",
       "    </tr>\n",
       "    <tr>\n",
       "      <th>2</th>\n",
       "      <td>81.949834</td>\n",
       "      <td>81.494560</td>\n",
       "      <td>82.112994</td>\n",
       "    </tr>\n",
       "    <tr>\n",
       "      <th>3</th>\n",
       "      <td>90.323875</td>\n",
       "      <td>88.683304</td>\n",
       "      <td>89.693178</td>\n",
       "    </tr>\n",
       "    <tr>\n",
       "      <th>4</th>\n",
       "      <td>82.410306</td>\n",
       "      <td>82.423264</td>\n",
       "      <td>82.103973</td>\n",
       "    </tr>\n",
       "  </tbody>\n",
       "</table>\n",
       "</div>"
      ],
      "text/plain": [
       "          cb1       xgb1       lgb1\n",
       "id                                 \n",
       "0   82.029231  81.506348  81.654079\n",
       "1   86.546309  86.527985  86.277539\n",
       "2   81.949834  81.494560  82.112994\n",
       "3   90.323875  88.683304  89.693178\n",
       "4   82.410306  82.423264  82.103973"
      ]
     },
     "execution_count": 16,
     "metadata": {},
     "output_type": "execute_result"
    }
   ],
   "source": [
    "df_cv = pd.concat([\n",
    "    s_cb1, s_xgb1, s_lgb1\n",
    "], axis=1)\n",
    "df_cv.head()"
   ]
  },
  {
   "cell_type": "code",
   "execution_count": 17,
   "id": "195d7706-4b54-48aa-9bfb-8787250d2278",
   "metadata": {},
   "outputs": [
    {
     "data": {
      "text/plain": [
       "cb1     38.705083\n",
       "xgb1    38.709167\n",
       "lgb1    38.700210\n",
       "dtype: float64"
      ]
     },
     "execution_count": 17,
     "metadata": {},
     "output_type": "execute_result"
    }
   ],
   "source": [
    "df_cv.apply(\n",
    "    lambda x: root_mean_squared_error(df_train[target], x)\n",
    ")"
   ]
  },
  {
   "cell_type": "code",
   "execution_count": 18,
   "id": "7919d230-6a54-4e58-911a-bab5767c5940",
   "metadata": {},
   "outputs": [
    {
     "data": {
      "text/plain": [
       "38.7002336272789"
      ]
     },
     "execution_count": 18,
     "metadata": {},
     "output_type": "execute_result"
    }
   ],
   "source": [
    "root_mean_squared_error(\n",
    "    df_train[target], df_cv.mean(axis=1)\n",
    ")"
   ]
  },
  {
   "cell_type": "code",
   "execution_count": 19,
   "id": "7ffa493d-ead2-48d7-b3ec-2ae01089ca90",
   "metadata": {},
   "outputs": [
    {
     "data": {
      "text/plain": [
       "38.69899891724877"
      ]
     },
     "execution_count": 19,
     "metadata": {},
     "output_type": "execute_result"
    }
   ],
   "source": [
    "root_mean_squared_error(\n",
    "    df_train[target], df_cv.dot([0.3, 0.1, 0.6])\n",
    ")"
   ]
  },
  {
   "cell_type": "code",
   "execution_count": 20,
   "id": "e02a4de9-a90d-4651-99b0-d488a6eeab47",
   "metadata": {},
   "outputs": [],
   "source": [
    "def train_models(hparams0, hparams1, adapter, **args):\n",
    "    return (\n",
    "        sgml.train(df_train, hparams0, config, adapter, **args),\n",
    "        sgml.train(df_train, hparams1, config, adapter, **args),\n",
    "    )"
   ]
  },
  {
   "cell_type": "code",
   "execution_count": 22,
   "id": "8460c3af-2e2d-4223-9160-edff98cd4896",
   "metadata": {},
   "outputs": [],
   "source": [
    "reg_cb1 = sc.cache_result(\n",
    "    'reg_cb1',\n",
    "    lambda : train_models({\n",
    "            'model_params' : {'n_estimators': 700, 'max_depth': 7, 'learning_rate': 0.1},\n",
    "            'X_num': X_num, 'X_cat': X_cat, 'X_tgt': ['wc_i2'], 'tgt': {'cv': 24, 'smooth': 20, 'target_type': 'continuous', 'random_state': 123}\n",
    "        }, {\n",
    "            'model_params' : {'n_estimators': 1000, 'max_depth': 7, 'learning_rate': 0.1},\n",
    "            'X_num': X_num, 'X_cat': X_cat,\n",
    "        }, cb_adapter, task_type = 'GPU'\n",
    "    )\n",
    ")"
   ]
  },
  {
   "cell_type": "code",
   "execution_count": 23,
   "id": "c2fe923d-d969-46f5-b9a9-efd5b092f062",
   "metadata": {},
   "outputs": [
    {
     "data": {
      "application/vnd.jupyter.widget-view+json": {
       "model_id": "",
       "version_major": 2,
       "version_minor": 0
      },
      "text/plain": [
       "Round:   0%|          | 0/1500 [00:00<?, ?it/s]"
      ]
     },
     "metadata": {},
     "output_type": "display_data"
    },
    {
     "data": {
      "application/vnd.jupyter.widget-view+json": {
       "model_id": "",
       "version_major": 2,
       "version_minor": 0
      },
      "text/plain": [
       "Round:   0%|          | 0/2000 [00:00<?, ?it/s]"
      ]
     },
     "metadata": {},
     "output_type": "display_data"
    }
   ],
   "source": [
    "reg_xgb1 = sc.cache_result(\n",
    "    'reg_xgb1',\n",
    "    lambda : train_models({\n",
    "            'model_params' : {'n_estimators': 1500, 'max_depth': 5, 'learning_rate': 0.03},\n",
    "            'X_num': X_num, 'X_cat': X_cat, 'X_tgt': ['wc_i2'], 'tgt': {'cv': 24, 'smooth': 20, 'target_type': 'continuous', 'random_state': 123},\n",
    "        }, {\n",
    "            'model_params' : {'n_estimators': 2000, 'max_depth': 4, 'learning_rate': 0.03},\n",
    "            'X_num': X_num, 'X_cat': X_cat,\n",
    "        }, xgb_adapter, device = 'cuda'\n",
    "    )\n",
    ")"
   ]
  },
  {
   "cell_type": "code",
   "execution_count": 24,
   "id": "15196266-4355-49cd-85bd-2104219a2298",
   "metadata": {},
   "outputs": [
    {
     "data": {
      "application/vnd.jupyter.widget-view+json": {
       "model_id": "",
       "version_major": 2,
       "version_minor": 0
      },
      "text/plain": [
       "Round:   0%|          | 0/1000 [00:00<?, ?it/s]"
      ]
     },
     "metadata": {},
     "output_type": "display_data"
    },
    {
     "data": {
      "application/vnd.jupyter.widget-view+json": {
       "model_id": "",
       "version_major": 2,
       "version_minor": 0
      },
      "text/plain": [
       "Round:   0%|          | 0/1000 [00:00<?, ?it/s]"
      ]
     },
     "metadata": {},
     "output_type": "display_data"
    }
   ],
   "source": [
    "reg_lgb1 = sc.cache_result(\n",
    "    'reg_lgb1',\n",
    "    lambda : train_models({\n",
    "            'model_params' : {'n_estimators': 1000, 'learning_rate': 0.03},\n",
    "            'X_num': X_num, 'X_cat': X_cat, 'X_tgt': ['wc_i2'], 'tgt': {'cv': 24, 'smooth': 20, 'target_type': 'continuous', 'random_state': 123},\n",
    "        }, {\n",
    "            'model_params' : {'n_estimators': 1000, 'learning_rate': 0.03},\n",
    "            'X_num': X_num, 'X_cat': X_cat,\\\n",
    "        }, lgb_adapter\n",
    "    )\n",
    ")"
   ]
  },
  {
   "cell_type": "code",
   "execution_count": null,
   "id": "d020959d-075e-4f4a-ae1d-6f224c8af892",
   "metadata": {},
   "outputs": [],
   "source": []
  }
 ],
 "metadata": {
  "kernelspec": {
   "display_name": "Python 3 (ipykernel)",
   "language": "python",
   "name": "python3"
  },
  "language_info": {
   "codemirror_mode": {
    "name": "ipython",
    "version": 3
   },
   "file_extension": ".py",
   "mimetype": "text/x-python",
   "name": "python",
   "nbconvert_exporter": "python",
   "pygments_lexer": "ipython3",
   "version": "3.12.6"
  }
 },
 "nbformat": 4,
 "nbformat_minor": 5
}
