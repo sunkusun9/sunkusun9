{
 "cells": [
  {
   "cell_type": "markdown",
   "id": "46268461-8eba-4885-b76c-e6b9f359d8cd",
   "metadata": {},
   "source": [
    "5단계 까지 도출한 사항을 정리하자면,\n",
    "\n",
    "Weight Capacity (kg)는 Price를 예측할 수 있는 Key feature 이다. Weight Capacity (kg)는 범주형 성격을 보이는데, \n",
    "\n",
    "이는 "
   ]
  },
  {
   "cell_type": "code",
   "execution_count": 1,
   "id": "bf32f8b4-d6ee-4d7e-902d-4cd6203b9bc8",
   "metadata": {},
   "outputs": [
    {
     "name": "stderr",
     "output_type": "stream",
     "text": [
      "2025-02-10 01:23:06.474672: E external/local_xla/xla/stream_executor/cuda/cuda_fft.cc:477] Unable to register cuFFT factory: Attempting to register factory for plugin cuFFT when one has already been registered\n",
      "WARNING: All log messages before absl::InitializeLog() is called are written to STDERR\n",
      "E0000 00:00:1739150586.606831    5272 cuda_dnn.cc:8310] Unable to register cuDNN factory: Attempting to register factory for plugin cuDNN when one has already been registered\n",
      "E0000 00:00:1739150586.642442    5272 cuda_blas.cc:1418] Unable to register cuBLAS factory: Attempting to register factory for plugin cuBLAS when one has already been registered\n",
      "2025-02-10 01:23:06.955969: I tensorflow/core/platform/cpu_feature_guard.cc:210] This TensorFlow binary is optimized to use available CPU instructions in performance-critical operations.\n",
      "To enable the following instructions: AVX2 FMA, in other operations, rebuild TensorFlow with the appropriate compiler flags.\n"
     ]
    },
    {
     "name": "stdout",
     "output_type": "stream",
     "text": [
      "3.12.6 (main, Sep 30 2024, 02:19:13) [GCC 9.4.0]\n",
      "pandas 2.2.3\n",
      "polars 1.12.0\n",
      "matplotlib 3.8.4\n",
      "seaborn 0.13.2\n",
      "numpy 1.26.4\n",
      "scipy 1.12.0\n",
      "sklearn 1.5.2\n",
      "xgboost 2.1.2\n",
      "catboost 1.2.5\n"
     ]
    }
   ],
   "source": [
    "import os, sys\n",
    "\n",
    "import pandas as pd\n",
    "import polars as pl\n",
    "\n",
    "import matplotlib as mpl\n",
    "import matplotlib.pyplot as plt\n",
    "import seaborn as sns\n",
    "\n",
    "import numpy as np\n",
    "import scipy\n",
    "\n",
    "import sklearn\n",
    "import lightgbm as lgb\n",
    "import xgboost as xgb\n",
    "import catboost as cb\n",
    "\n",
    "import dproc, sgml, sgnn, sgpp, sgutil, custpp\n",
    "\n",
    "print(sys.version)\n",
    "for i in [pd, pl, mpl, sns, np, scipy, sklearn, lgb, xgb, cb]:\n",
    "    try:\n",
    "        print(i.__name__, i.__version__)\n",
    "    except:\n",
    "        pass"
   ]
  },
  {
   "cell_type": "code",
   "execution_count": 2,
   "id": "fcc12dc7-ef25-4faa-8738-0b4d9a2df745",
   "metadata": {},
   "outputs": [],
   "source": [
    "from itertools import combinations\n",
    "\n",
    "from sklearn.pipeline import make_pipeline\n",
    "from sklearn.model_selection import cross_val_score, KFold, ShuffleSplit, train_test_split\n",
    "from sklearn.preprocessing import TargetEncoder\n",
    "from sklearn.metrics import root_mean_squared_error, r2_score\n",
    "from sklearn.linear_model import LinearRegression"
   ]
  },
  {
   "cell_type": "code",
   "execution_count": 3,
   "id": "88aefc96-6cd2-4ef1-a6ad-29bee24b6a78",
   "metadata": {},
   "outputs": [],
   "source": [
    "sc = sgutil.SGCache('img', 'result')\n",
    "ss = ShuffleSplit(n_splits = 1, train_size = 0.8, random_state = 123)\n",
    "kf = KFold(5, random_state = 123, shuffle=True)\n",
    "\n",
    "files = {\n",
    "    'train': os.path.join('data', 'train.csv'),\n",
    "    'train_extra': os.path.join('data', 'training_extra.csv'),\n",
    "    'test': os.path.join('data', 'test.csv'),\n",
    "}\n",
    "\n",
    "t = sc.cache_result(\n",
    "    'pipeline_2',\n",
    "    lambda : make_pipeline(\n",
    "        sgpp.PolarsProcessor(), \n",
    "        sgpp.ExprProcessor({\n",
    "            'Compartments_c' : pl.col('Compartments').cast(pl.String).cast(pl.Categorical)\n",
    "        }),\n",
    "        sgpp.PandasCoverter(index_col = 'id'),\n",
    "        sgpp.ApplyWrapper(\n",
    "            sgpp.CatArrangerFreq(1, na_value = 'Unknown'),\n",
    "            ['Brand', 'Material', 'Size', 'Laptop Compartment', 'Waterproof', 'Style', 'Color']\n",
    "        ), \n",
    "        custpp.WeightCapacityProcessor()\n",
    "    ).fit(files['train']),\n",
    "    rerun = 1\n",
    ")\n",
    "df_train = pd.concat(\n",
    "    [t.transform(files['train']), t.transform(files['train_extra'])], axis = 0\n",
    ")\n",
    "df_test = t.transform(files['test'])\n",
    "\n",
    "target = 'Price'\n",
    "X_cat = ['Brand', 'Material', 'Size', 'Laptop Compartment', 'Waterproof', 'Style', 'Color', 'Compartments_c']\n",
    "X_num = ['Weight Capacity (kg)']"
   ]
  },
  {
   "cell_type": "code",
   "execution_count": 8,
   "id": "f7ba906c-801c-423d-9858-ecffd7b8d37b",
   "metadata": {},
   "outputs": [],
   "source": [
    "def get_validation_splitter(validation_fraction):\n",
    "    return lambda x: train_test_split(x, test_size = validation_fraction)\n",
    "\n",
    "config = {\n",
    "    'predict_func': lambda m, df, X: pd.Series(m.predict(df[X]), index = df.index).clip(15, 150),\n",
    "    'score_func': lambda df, prds: root_mean_squared_error(df[target].sort_index(), prds.sort_index()),\n",
    "    'validation_splitter': get_validation_splitter,\n",
    "    'progress_callback': sgml.ProgressCallBack(), \n",
    "    'return_train_scores': True,\n",
    "    'y': target,\n",
    "}\n",
    "\n",
    "cb_adapter = sgml.CBAdapter(cb.CatBoostRegressor)\n",
    "lr_adapter = sgml.SklearnAdapter(LinearRegression)\n",
    "lgb_adapter = sgml.LGBMAdapter(lgb.LGBMRegressor)\n",
    "xgb_adapter = sgml.XGBAdapter(xgb.XGBRegressor)"
   ]
  },
  {
   "cell_type": "code",
   "execution_count": 19,
   "id": "a99b5ddf-711e-4eea-aff7-9992924b1f86",
   "metadata": {},
   "outputs": [],
   "source": [
    "def eval_model(hparams, adapter, case = 0, sp = ss, **args):\n",
    "    results = list()\n",
    "    for train_idx, valid_idx in sp.split(df_train, df_train[target]):\n",
    "        df_cv_train, df_valid = df_train.iloc[train_idx], df_train.iloc[valid_idx]\n",
    "        bidx = df_valid['Weight Capacity (kg)'].isin(df_cv_train['Weight Capacity (kg)'].unique()) & df_valid['Weight Capacity (kg)'].notna() &\\\n",
    "                df_valid['Weight Capacity (kg)'].between(5, 30, inclusive = 'neither')\n",
    "        if case == 1:\n",
    "            bidx = ~bidx\n",
    "        df_valid = df_valid.loc[bidx]\n",
    "        reg = sgml.train(df_cv_train, hparams, config, adapter, **args)\n",
    "        results.append(\n",
    "            (reg, root_mean_squared_error(df_valid[target], make_pipeline(reg[0]['preprocessor'], reg[0]['model']).predict(df_valid[reg[1]])))\n",
    "        )\n",
    "    return results"
   ]
  },
  {
   "cell_type": "code",
   "execution_count": 38,
   "id": "e4e6ce1d-17a7-4c56-8e1d-b14efdd5017e",
   "metadata": {},
   "outputs": [
    {
     "data": {
      "application/vnd.jupyter.widget-view+json": {
       "model_id": "",
       "version_major": 2,
       "version_minor": 0
      },
      "text/plain": [
       "Round:   0%|          | 0/1500 [00:00<?, ?it/s]"
      ]
     },
     "metadata": {},
     "output_type": "display_data"
    }
   ],
   "source": [
    "results = eval_model({\n",
    "    'model_params' : {'n_estimators': 1500, 'learning_rate': 0.1},\n",
    "    'X_num': X_num, 'X_cat': X_cat,\n",
    "    'validation_fraction': 0.1\n",
    "}, cb_adapter, case = 1)"
   ]
  },
  {
   "cell_type": "code",
   "execution_count": 41,
   "id": "ce784429-8609-49bc-b2b8-48f923d7bef1",
   "metadata": {},
   "outputs": [
    {
     "data": {
      "text/plain": [
       "(metric  set         \n",
       " RMSE    learn           1499\n",
       "         validation_0    1499\n",
       "         validation_1    1493\n",
       " dtype: int64,\n",
       " 38.79740725539745)"
      ]
     },
     "execution_count": 41,
     "metadata": {},
     "output_type": "execute_result"
    }
   ],
   "source": [
    "sgml.cb_learning_result(results[0][0][0])['valid_result'].idxmin(), results[0][1]"
   ]
  },
  {
   "cell_type": "code",
   "execution_count": 42,
   "id": "8d141719-8a83-4c1a-b5d6-fe03065b6f40",
   "metadata": {},
   "outputs": [],
   "source": [
    "results = eval_model({\n",
    "    'model_params' : {'n_estimators': 500, 'learning_rate': 0.1},\n",
    "    'X_num': X_num, 'X_cat': X_cat,\n",
    "    'validation_fraction': 0.1\n",
    "}, cb_adapter, task_type = 'GPU')"
   ]
  },
  {
   "cell_type": "code",
   "execution_count": 44,
   "id": "7258ffb2-c28f-4838-90c9-3646e93b2f64",
   "metadata": {},
   "outputs": [
    {
     "data": {
      "text/plain": [
       "({'variables': array(['cat__Brand', 'cat__Material', 'cat__Size',\n",
       "         'cat__Laptop Compartment', 'cat__Waterproof', 'cat__Style',\n",
       "         'cat__Color', 'cat__Compartments_c', 'pt__Weight Capacity (kg)'],\n",
       "        dtype=object),\n",
       "  'valid_shape': (319546, 9),\n",
       "  'train_shape': (2875908, 9),\n",
       "  'target': 'Price',\n",
       "  'model': <catboost.core.CatBoostRegressor at 0x7feb015edeb0>,\n",
       "  'preprocessor': ColumnTransformer(transformers=[('cat', 'passthrough',\n",
       "                                   ['Brand', 'Material', 'Size',\n",
       "                                    'Laptop Compartment', 'Waterproof', 'Style',\n",
       "                                    'Color', 'Compartments_c']),\n",
       "                                  ('pt', 'passthrough',\n",
       "                                   ['Weight Capacity (kg)'])])},\n",
       " ['Brand',\n",
       "  'Laptop Compartment',\n",
       "  'Compartments_c',\n",
       "  'Style',\n",
       "  'Waterproof',\n",
       "  'Color',\n",
       "  'Weight Capacity (kg)',\n",
       "  'Size',\n",
       "  'Material'])"
      ]
     },
     "execution_count": 44,
     "metadata": {},
     "output_type": "execute_result"
    }
   ],
   "source": [
    "results[0][0]"
   ]
  },
  {
   "cell_type": "code",
   "execution_count": null,
   "id": "9fe2e036-0c08-41ca-84dd-65895a35cd18",
   "metadata": {},
   "outputs": [],
   "source": [
    "def eval_model(hparams, adapter, case = 0, **args):\n",
    "    results = list()\n",
    "    for train_idx, valid_idx in kf.split(df_train, df_train[target]):\n",
    "        df_cv_train, df_valid = df_train.iloc[train_idx], df_train.iloc[valid_idx]\n",
    "        bidx = df_valid['Weight Capacity (kg)'].isin(df_cv_train['Weight Capacity (kg)'].unique()) & df_valid['Weight Capacity (kg)'].notna() &\\\n",
    "                df_valid['Weight Capacity (kg)'].between(5, 30, inclusive = 'neither')\n",
    "        df_valid, df_valid2 = df_valid.loc[bidx], df_valid.loc[~bidx]\n",
    "        reg1 = sgml.train(\n",
    "            df_cv_train, {\n",
    "            'model_params' : {'n_estimators': 500, 'learning_rate': 0.1},\n",
    "            'X_num': X_num, 'X_cat': X_cat,\n",
    "            #'validation_fraction': 0.1\n",
    "        }, config, cb_adapter, task_type = 'GPU')\n",
    "        reg2 = sgml.train(\n",
    "            df_cv_train, {\n",
    "            'model_params' : {'n_estimators': 500, 'learning_rate': 0.1},\n",
    "            'X_cat': X_cat, 'X_num': X_num + ['tgt'],\n",
    "            # 'validation_fraction': 0.1\n",
    "        }, config, cb_adapter, task_type = 'GPU')\n",
    "        \n",
    "        s_merge = pd.concat([\n",
    "            pd.Series(\n",
    "                make_pipeline(reg_cb2[0]['preprocessor'], reg_cb2[0]['model']).predict(df_valid1[reg_cb2[1]]), index = df_valid1.index\n",
    "            ),\n",
    "            pd.Series(\n",
    "                make_pipeline(reg_cb[0]['preprocessor'], reg_cb[0]['model']).predict(df_valid2[reg_cb[1]]), index = df_valid2.index\n",
    "            )\n",
    "        ], axis = 0)"
   ]
  }
 ],
 "metadata": {
  "kernelspec": {
   "display_name": "Python 3 (ipykernel)",
   "language": "python",
   "name": "python3"
  },
  "language_info": {
   "codemirror_mode": {
    "name": "ipython",
    "version": 3
   },
   "file_extension": ".py",
   "mimetype": "text/x-python",
   "name": "python",
   "nbconvert_exporter": "python",
   "pygments_lexer": "ipython3",
   "version": "3.12.6"
  }
 },
 "nbformat": 4,
 "nbformat_minor": 5
}
