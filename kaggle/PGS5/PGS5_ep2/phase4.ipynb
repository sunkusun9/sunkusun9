{
 "cells": [
  {
   "cell_type": "code",
   "execution_count": 2,
   "id": "3adff24a-610c-4458-b36d-4ee45559c55f",
   "metadata": {},
   "outputs": [
    {
     "name": "stderr",
     "output_type": "stream",
     "text": [
      "2025-02-06 10:04:43.682733: E external/local_xla/xla/stream_executor/cuda/cuda_fft.cc:477] Unable to register cuFFT factory: Attempting to register factory for plugin cuFFT when one has already been registered\n",
      "WARNING: All log messages before absl::InitializeLog() is called are written to STDERR\n",
      "E0000 00:00:1738836283.694165   80173 cuda_dnn.cc:8310] Unable to register cuDNN factory: Attempting to register factory for plugin cuDNN when one has already been registered\n",
      "E0000 00:00:1738836283.697685   80173 cuda_blas.cc:1418] Unable to register cuBLAS factory: Attempting to register factory for plugin cuBLAS when one has already been registered\n",
      "2025-02-06 10:04:43.709327: I tensorflow/core/platform/cpu_feature_guard.cc:210] This TensorFlow binary is optimized to use available CPU instructions in performance-critical operations.\n",
      "To enable the following instructions: AVX2 FMA, in other operations, rebuild TensorFlow with the appropriate compiler flags.\n"
     ]
    },
    {
     "name": "stdout",
     "output_type": "stream",
     "text": [
      "3.12.6 (main, Sep 30 2024, 02:19:13) [GCC 9.4.0]\n",
      "pandas 2.2.3\n",
      "polars 1.12.0\n",
      "matplotlib 3.8.4\n",
      "seaborn 0.13.2\n",
      "numpy 1.26.4\n",
      "scipy 1.12.0\n",
      "sklearn 1.5.2\n",
      "xgboost 2.1.2\n",
      "catboost 1.2.5\n"
     ]
    }
   ],
   "source": [
    "import os, sys\n",
    "\n",
    "import pandas as pd\n",
    "import polars as pl\n",
    "\n",
    "import matplotlib as mpl\n",
    "import matplotlib.pyplot as plt\n",
    "import seaborn as sns\n",
    "\n",
    "import numpy as np\n",
    "import scipy\n",
    "\n",
    "import sklearn\n",
    "import lightgbm as lgb\n",
    "import xgboost as xgb\n",
    "import catboost as cb\n",
    "\n",
    "import dproc, sgml, sgnn, sgpp, sgutil, custpp\n",
    "\n",
    "print(sys.version)\n",
    "for i in [pd, pl, mpl, sns, np, scipy, sklearn, lgb, xgb, cb]:\n",
    "    try:\n",
    "        print(i.__name__, i.__version__)\n",
    "    except:\n",
    "        pass"
   ]
  },
  {
   "cell_type": "code",
   "execution_count": 1,
   "id": "407df7dd-8d9e-4b23-820a-3d9966bb34fd",
   "metadata": {},
   "outputs": [],
   "source": [
    "from itertools import combinations\n",
    "\n",
    "from sklearn.pipeline import make_pipeline\n",
    "from sklearn.model_selection import cross_val_score, KFold, ShuffleSplit, train_test_split\n",
    "from sklearn.preprocessing import TargetEncoder\n",
    "from sklearn.metrics import root_mean_squared_error, r2_score\n",
    "from sklearn.linear_model import LinearRegression"
   ]
  },
  {
   "cell_type": "code",
   "execution_count": 3,
   "id": "a9817a9b-7178-4135-9ced-551475a6b09d",
   "metadata": {},
   "outputs": [],
   "source": [
    "sc = sgutil.SGCache('img', 'result')\n",
    "ss = ShuffleSplit(n_splits = 1, random_state = 123)\n",
    "kf = KFold(5, random_state = 123, shuffle=True)\n",
    "\n",
    "files = {\n",
    "    'train': os.path.join('data', 'train.csv'),\n",
    "    'train_extra': os.path.join('data', 'training_extra.csv'),\n",
    "    'test': os.path.join('data', 'test.csv'),\n",
    "}\n",
    "\n",
    "t = sc.cache_result(\n",
    "    'pipeline_2',\n",
    "    lambda : make_pipeline(\n",
    "        sgpp.PolarsProcessor(), \n",
    "        sgpp.ExprProcessor({\n",
    "            'Compartments_c' : pl.col('Compartments').cast(pl.String).cast(pl.Categorical)\n",
    "        }),\n",
    "        sgpp.PandasCoverter(index_col = 'id'),\n",
    "        sgpp.ApplyWrapper(\n",
    "            sgpp.CatArrangerFreq(1, na_value = 'Unknown'),\n",
    "            ['Brand', 'Material', 'Size', 'Laptop Compartment', 'Waterproof', 'Style', 'Color']\n",
    "        ), \n",
    "        custpp.WeightCapacityProcessor()\n",
    "    ).fit(files['train']),\n",
    "    rerun = 1\n",
    ")\n",
    "df_train = pd.concat(\n",
    "    [t.transform(files['train']), t.transform(files['train_extra'])], axis = 0\n",
    ")\n",
    "df_test = t.transform(files['test'])\n",
    "\n",
    "target = 'Price'\n",
    "X_cat = ['Brand', 'Material', 'Size', 'Laptop Compartment', 'Waterproof', 'Style', 'Color', 'Compartments_c', 'wc_i']\n",
    "X_num = ['Compartments', 'Weight Capacity (kg)']"
   ]
  },
  {
   "cell_type": "code",
   "execution_count": 5,
   "id": "f1aed05c-c110-4898-b989-874d1e14e4e3",
   "metadata": {},
   "outputs": [],
   "source": [
    "from sklearn.base import TransformerMixin\n",
    "class CatArrangerFreqNear(TransformerMixin):\n",
    "    def __init__(self, min_frequency, na_value = None):\n",
    "        self.min_frequency = min_frequency\n",
    "        self.na_value = na_value\n",
    "\n",
    "    def fit(self, X, y = None):\n",
    "        if self.na_value is not None:\n",
    "            c = {\n",
    "                i: [self.na_value]\n",
    "                for i in X.columns\n",
    "            }\n",
    "        else:\n",
    "            c = {i: [] for i in X.columns}\n",
    "\n",
    "        if self.min_frequency > 0:\n",
    "            c = {\n",
    "                i: c[i] + X[i].value_counts().pipe(lambda x: x.loc[(x >= self.min_frequency) & ~x.index.isin(c[i])]).index.tolist()\n",
    "                for i in X.columns\n",
    "            }\n",
    "        else:\n",
    "            c = {\n",
    "                i: c[i] + X[i].loc[~X[i].isin(c[i])].unique().tolist() for i in X.columns\n",
    "            }\n",
    "        self.c_types_ = {\n",
    "            i: pd.CategoricalDtype(c[i]) for i in X.columns\n",
    "        }\n",
    "        return self\n",
    "        \n",
    "    def transform(self, X):\n",
    "        if self.na_value is not None:\n",
    "            ret = pd.concat([\n",
    "                dproc.rearrange_cat(X[k], v, lambda d, c: np.argmin(d - c) if c not in d else c, use_set = False).rename(k)\n",
    "                for k, v in self.c_types_.items()\n",
    "            ], axis = 1)\n",
    "            if self.na_value is not None:\n",
    "                return ret.fillna(self.na_value)\n",
    "            return ret\n",
    "        return X\n",
    "\n",
    "    def get_params(self, deep=True):\n",
    "        return {\n",
    "            \"min_frequency\": self.min_frequency, \n",
    "            \"unknown_value\": self.unknown_value,\n",
    "            \"na_value\": self.na_value\n",
    "        }\n",
    "\n",
    "    def set_output(self, transform='pandas'):\n",
    "        pass\n",
    "\n",
    "    def get_feature_names_out(self, X = None):\n",
    "        return list(self.c_types_)"
   ]
  },
  {
   "cell_type": "code",
   "execution_count": 13,
   "id": "8211e483-4980-4274-9f6a-3e3f1fd968e5",
   "metadata": {},
   "outputs": [
    {
     "data": {
      "text/plain": [
       "38.832717188489035"
      ]
     },
     "execution_count": 13,
     "metadata": {},
     "output_type": "execute_result"
    }
   ],
   "source": [
    "X = ['Weight Capacity (kg)']\n",
    "cv = kf\n",
    "tgt = TargetEncoder()\n",
    "tgt_list = list()\n",
    "cafn = sgml.CatArrangerFreqNear(30, df_train['Weight Capacity (kg)'].mode()[0])\n",
    "cafn.fit(df_train[X].astype('category'))\n",
    "for train_idx, valid_idx in cv.split(df_train[X], df_train[target]):\n",
    "    df_cv_train, df_valid = df_train.iloc[train_idx], df_train.iloc[valid_idx]\n",
    "    df_cv_train, df_valid = df_cv_train, df_valid\n",
    "    tgt.fit(cafn.transform(df_cv_train[X].astype('category')) , df_cv_train[target])\n",
    "    tgt_list.append(\n",
    "        pd.Series(tgt.transform(\n",
    "            cafn.transform(df_valid[X].astype('category'))\n",
    "        )[:, 0], index = df_valid.index, name = '_'.join(X))\n",
    "    )\n",
    "prd = pd.concat(tgt_list)\n",
    "root_mean_squared_error(\n",
    "    df_train[target], prd.sort_index()\n",
    ")"
   ]
  },
  {
   "cell_type": "code",
   "execution_count": null,
   "id": "78e1aa17-4ebf-4c7e-98ee-3dc1f66cd630",
   "metadata": {},
   "outputs": [],
   "source": []
  }
 ],
 "metadata": {
  "kernelspec": {
   "display_name": "Python 3 (ipykernel)",
   "language": "python",
   "name": "python3"
  },
  "language_info": {
   "codemirror_mode": {
    "name": "ipython",
    "version": 3
   },
   "file_extension": ".py",
   "mimetype": "text/x-python",
   "name": "python",
   "nbconvert_exporter": "python",
   "pygments_lexer": "ipython3",
   "version": "3.12.6"
  }
 },
 "nbformat": 4,
 "nbformat_minor": 5
}
