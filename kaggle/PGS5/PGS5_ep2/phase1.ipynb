{
 "cells": [
  {
   "cell_type": "markdown",
   "id": "39f539a6-a90a-407b-87f1-2f12b8884461",
   "metadata": {},
   "source": [
    "# Import"
   ]
  },
  {
   "cell_type": "code",
   "execution_count": 1,
   "id": "b8a2d37e-6feb-4e5b-be80-e5174b054214",
   "metadata": {},
   "outputs": [
    {
     "name": "stderr",
     "output_type": "stream",
     "text": [
      "2025-02-02 23:29:55.269843: I tensorflow/core/util/port.cc:113] oneDNN custom operations are on. You may see slightly different numerical results due to floating-point round-off errors from different computation orders. To turn them off, set the environment variable `TF_ENABLE_ONEDNN_OPTS=0`.\n",
      "2025-02-02 23:29:55.546203: I tensorflow/core/platform/cpu_feature_guard.cc:210] This TensorFlow binary is optimized to use available CPU instructions in performance-critical operations.\n",
      "To enable the following instructions: AVX2 AVX_VNNI FMA, in other operations, rebuild TensorFlow with the appropriate compiler flags.\n",
      "2025-02-02 23:29:56.433939: W tensorflow/compiler/tf2tensorrt/utils/py_utils.cc:38] TF-TRT Warning: Could not find TensorRT\n"
     ]
    },
    {
     "name": "stdout",
     "output_type": "stream",
     "text": [
      "3.12.3 (main, May  1 2024, 17:33:23) [GCC 11.4.0]\n",
      "pandas 2.2.2\n",
      "polars 1.12.0\n",
      "matplotlib 3.8.4\n",
      "seaborn 0.13.2\n",
      "numpy 1.26.4\n",
      "scipy 1.13.0\n",
      "sklearn 1.4.2\n",
      "lightgbm 4.3.0\n",
      "xgboost 2.1.2\n",
      "catboost 1.2.5\n"
     ]
    }
   ],
   "source": [
    "import os, sys\n",
    "\n",
    "import pandas as pd\n",
    "import polars as pl\n",
    "\n",
    "import matplotlib as mpl\n",
    "import matplotlib.pyplot as plt\n",
    "import seaborn as sns\n",
    "\n",
    "import numpy as np\n",
    "import scipy\n",
    "\n",
    "import sklearn\n",
    "import lightgbm as lgb\n",
    "import xgboost as xgb\n",
    "import catboost as cb\n",
    "\n",
    "import dproc, sgml, sgnn, sgpp, sgutil\n",
    "\n",
    "print(sys.version)\n",
    "for i in [pd, pl, mpl, sns, np, scipy, sklearn, lgb, xgb, cb]:\n",
    "    try:\n",
    "        print(i.__name__, i.__version__)\n",
    "    except:\n",
    "        pass"
   ]
  },
  {
   "cell_type": "code",
   "execution_count": 28,
   "id": "fc43f325-c939-4716-a8eb-8fcc1fa9f67f",
   "metadata": {},
   "outputs": [],
   "source": [
    "from sklearn.pipeline import make_pipeline\n",
    "from sklearn.model_selection import cross_val_score, KFold, ShuffleSplit\n",
    "\n",
    "from scipy.stats import spearmanr, kruskal, chi2_contingency\n",
    "from scipy.spatial.distance import cdist, pdist, squareform"
   ]
  },
  {
   "cell_type": "markdown",
   "id": "135a42cc-be9d-47e7-a1b7-7914c64e6886",
   "metadata": {},
   "source": [
    "# Download"
   ]
  },
  {
   "cell_type": "code",
   "execution_count": 3,
   "id": "33013cd1-a38d-4a21-8505-780df63914b5",
   "metadata": {},
   "outputs": [],
   "source": [
    "for i in ['data', 'model', 'img', 'result']:\n",
    "    if not os.path.exists(i):\n",
    "        os.mkdir(i)\n",
    "\n",
    "if not os.path.exists(os.path.join('data', 'train.csv')):\n",
    "    !kaggle competitions download -c playground-series-s5e2\n",
    "    !kaggle datasets download souradippal/student-bag-price-prediction-dataset\n",
    "    !unzip student-bag-price-prediction-dataset.zip -d data\n",
    "    !unzip playground-series-s5e2.zip -d data\n",
    "    !rm playground-series-s5e2.zip\n",
    "    !rm student-bag-price-prediction-dataset.zip"
   ]
  },
  {
   "cell_type": "markdown",
   "id": "e4e9b1fd-4c0f-4291-96f5-3d0dedaa3e83",
   "metadata": {},
   "source": [
    "# Preparation"
   ]
  },
  {
   "cell_type": "code",
   "execution_count": 4,
   "id": "5607686e-6427-43d4-8c61-c00086e18936",
   "metadata": {},
   "outputs": [],
   "source": [
    "sc = sgutil.SGCache('img', 'result')"
   ]
  },
  {
   "cell_type": "code",
   "execution_count": 5,
   "id": "7306004a-b362-4caa-ad93-cb28528356cc",
   "metadata": {},
   "outputs": [],
   "source": [
    "files = {\n",
    "    'train': os.path.join('data', 'train.csv'),\n",
    "    'test': os.path.join('data', 'test.csv'),\n",
    "    'org': os.path.join('data', 'Noisy_Student_Bag_Price_Prediction_Dataset.csv')\n",
    "}"
   ]
  },
  {
   "cell_type": "code",
   "execution_count": 6,
   "id": "2fee10d3-c0f8-4bff-a401-b75f35c381c5",
   "metadata": {},
   "outputs": [],
   "source": [
    "t = sc.cache_result(\n",
    "    'pipeline_1',\n",
    "    lambda : make_pipeline(\n",
    "        sgpp.PolarsProcessor(), \n",
    "        sgpp.PandasCoverter(index_col = 'id'),\n",
    "    ).fit(files['train']),\n",
    "    rerun = 1\n",
    ")\n",
    "df_train = t.transform(files['train'])\n",
    "df_test = t.transform(files['test'])\n",
    "df_org = t.transform(files['org'])\n",
    "df_org.set_index(-(df_org.index.rename('id') + 1), inplace=True)"
   ]
  },
  {
   "cell_type": "code",
   "execution_count": 7,
   "id": "694a39c2-a46b-47f8-804d-13e40c20ab93",
   "metadata": {},
   "outputs": [
    {
     "name": "stdout",
     "output_type": "stream",
     "text": [
      "<class 'pandas.core.frame.DataFrame'>\n",
      "Index: 300000 entries, 0 to 299999\n",
      "Data columns (total 10 columns):\n",
      " #   Column                Non-Null Count   Dtype   \n",
      "---  ------                --------------   -----   \n",
      " 0   Brand                 290295 non-null  category\n",
      " 1   Material              291653 non-null  category\n",
      " 2   Size                  293405 non-null  category\n",
      " 3   Compartments          300000 non-null  float32 \n",
      " 4   Laptop Compartment    292556 non-null  category\n",
      " 5   Waterproof            292950 non-null  category\n",
      " 6   Style                 292030 non-null  category\n",
      " 7   Color                 290050 non-null  category\n",
      " 8   Weight Capacity (kg)  299862 non-null  float32 \n",
      " 9   Price                 300000 non-null  float32 \n",
      "dtypes: category(7), float32(3)\n",
      "memory usage: 6.6 MB\n"
     ]
    }
   ],
   "source": [
    "df_train.info()"
   ]
  },
  {
   "cell_type": "code",
   "execution_count": 8,
   "id": "84aaf08e-ab30-4a0b-aaef-281c69d3ef46",
   "metadata": {},
   "outputs": [
    {
     "data": {
      "text/plain": [
       "('Price',\n",
       " ['Brand',\n",
       "  'Material',\n",
       "  'Size',\n",
       "  'Laptop Compartment',\n",
       "  'Waterproof',\n",
       "  'Style',\n",
       "  'Color'],\n",
       " ['Compartments', 'Weight Capacity (kg)'])"
      ]
     },
     "execution_count": 8,
     "metadata": {},
     "output_type": "execute_result"
    }
   ],
   "source": [
    "target = 'Price'\n",
    "X_cat = df_train.dtypes.pipe(\n",
    "    lambda x: x.loc[x == 'category'].index.tolist()\n",
    ")\n",
    "X_num = df_train.dtypes.pipe(\n",
    "    lambda x: x.loc[(x != 'category') & (x.index != target)].index.tolist()\n",
    ")\n",
    "X_all = X_cat + X_num\n",
    "target, X_cat, X_num"
   ]
  },
  {
   "cell_type": "markdown",
   "id": "d9922a56-b604-489c-adc7-f66703606cb0",
   "metadata": {},
   "source": [
    "# EDA"
   ]
  },
  {
   "cell_type": "markdown",
   "id": "663ea9ae-3aa7-4b21-8ff6-d8195d35dd02",
   "metadata": {},
   "source": [
    "## Train / Test / Org Diff"
   ]
  },
  {
   "cell_type": "code",
   "execution_count": 9,
   "id": "b790e192-39c5-41c5-93ac-f562fb9603d6",
   "metadata": {},
   "outputs": [
    {
     "data": {
      "text/plain": [
       "array([0.50166391])"
      ]
     },
     "execution_count": 9,
     "metadata": {},
     "output_type": "execute_result"
    }
   ],
   "source": [
    "ss = ShuffleSplit(n_splits = 1, random_state = 123)\n",
    "\n",
    "X_cat_diff = ['Brand', 'Material', 'Size', 'Laptop Compartment', 'Waterproof', 'Style', 'Color']\n",
    "X_num_diff = ['Compartments', 'Weight Capacity (kg)']\n",
    "X_all_diff = X_cat_diff + X_num_diff\n",
    "\n",
    "sc.cache_result(\n",
    "    'train_test_diff',\n",
    "    lambda : pd.concat([df_train[X_all_diff].assign(is_train = True), df_test[X_all_diff].assign(is_train = False)], axis = 0).dropna().pipe(\n",
    "        lambda x: cross_val_score(lgb.LGBMClassifier(verbose = 0), x[X_all_diff], x['is_train'], cv = ss, scoring = 'roc_auc')\n",
    "    )\n",
    ")"
   ]
  },
  {
   "cell_type": "code",
   "execution_count": 10,
   "id": "fefadc66-0f72-4e59-87df-72c8776b261b",
   "metadata": {},
   "outputs": [
    {
     "data": {
      "text/plain": [
       "array([0.61373943])"
      ]
     },
     "execution_count": 10,
     "metadata": {},
     "output_type": "execute_result"
    }
   ],
   "source": [
    "X_cat_diff = ['Brand', 'Material', 'Size', 'Laptop Compartment', 'Waterproof', 'Style', 'Color']\n",
    "X_num_diff = ['Compartments', 'Weight Capacity (kg)', target]\n",
    "X_all_diff = X_cat_diff + X_num_diff\n",
    "\n",
    "sc.cache_result(\n",
    "    'train_org_diff',\n",
    "    lambda : pd.concat([df_train[X_all_diff].assign(is_train = True), df_org[X_all_diff].assign(is_train = False)], axis = 0).dropna().pipe(\n",
    "        lambda x: cross_val_score(lgb.LGBMClassifier(verbose = 0), x[X_all_diff], x['is_train'], cv = ss, scoring = 'roc_auc')\n",
    "    )\n",
    ")"
   ]
  },
  {
   "cell_type": "markdown",
   "id": "3e598bcc-32e6-451a-9b9f-bb4374d8e05b",
   "metadata": {},
   "source": [
    "## Missing Values"
   ]
  },
  {
   "cell_type": "code",
   "execution_count": 11,
   "id": "19f4584a-d90f-4b94-9fcc-bbdf708ca2d2",
   "metadata": {},
   "outputs": [
    {
     "data": {
      "text/html": [
       "<div>\n",
       "<style scoped>\n",
       "    .dataframe tbody tr th:only-of-type {\n",
       "        vertical-align: middle;\n",
       "    }\n",
       "\n",
       "    .dataframe tbody tr th {\n",
       "        vertical-align: top;\n",
       "    }\n",
       "\n",
       "    .dataframe thead th {\n",
       "        text-align: right;\n",
       "    }\n",
       "</style>\n",
       "<table border=\"1\" class=\"dataframe\">\n",
       "  <thead>\n",
       "    <tr style=\"text-align: right;\">\n",
       "      <th></th>\n",
       "      <th>Brand</th>\n",
       "      <th>Material</th>\n",
       "      <th>Size</th>\n",
       "      <th>Laptop Compartment</th>\n",
       "      <th>Waterproof</th>\n",
       "      <th>Style</th>\n",
       "      <th>Color</th>\n",
       "      <th>Weight Capacity (kg)</th>\n",
       "    </tr>\n",
       "  </thead>\n",
       "  <tbody>\n",
       "    <tr>\n",
       "      <th>na_ratio</th>\n",
       "      <td>0.03235</td>\n",
       "      <td>0.027823</td>\n",
       "      <td>0.021983</td>\n",
       "      <td>0.024813</td>\n",
       "      <td>0.0235</td>\n",
       "      <td>0.026567</td>\n",
       "      <td>0.033167</td>\n",
       "      <td>0.00046</td>\n",
       "    </tr>\n",
       "  </tbody>\n",
       "</table>\n",
       "</div>"
      ],
      "text/plain": [
       "            Brand  Material      Size  Laptop Compartment  Waterproof  \\\n",
       "na_ratio  0.03235  0.027823  0.021983            0.024813      0.0235   \n",
       "\n",
       "             Style     Color  Weight Capacity (kg)  \n",
       "na_ratio  0.026567  0.033167               0.00046  "
      ]
     },
     "execution_count": 11,
     "metadata": {},
     "output_type": "execute_result"
    }
   ],
   "source": [
    "df_train[X_all].isna().mean().pipe(\n",
    "    lambda x: x.loc[x > 0].rename('na_ratio').to_frame().T\n",
    ")"
   ]
  },
  {
   "cell_type": "markdown",
   "id": "e32f34b8-1adb-43fa-817e-953ca077a526",
   "metadata": {},
   "source": [
    "## Target"
   ]
  },
  {
   "cell_type": "code",
   "execution_count": 12,
   "id": "ebb1486b-80b6-47cb-91af-1fc7599f8490",
   "metadata": {},
   "outputs": [
    {
     "data": {
      "text/html": [
       "<div>\n",
       "<style scoped>\n",
       "    .dataframe tbody tr th:only-of-type {\n",
       "        vertical-align: middle;\n",
       "    }\n",
       "\n",
       "    .dataframe tbody tr th {\n",
       "        vertical-align: top;\n",
       "    }\n",
       "\n",
       "    .dataframe thead th {\n",
       "        text-align: right;\n",
       "    }\n",
       "</style>\n",
       "<table border=\"1\" class=\"dataframe\">\n",
       "  <thead>\n",
       "    <tr style=\"text-align: right;\">\n",
       "      <th></th>\n",
       "      <th>count</th>\n",
       "      <th>mean</th>\n",
       "      <th>std</th>\n",
       "      <th>min</th>\n",
       "      <th>25%</th>\n",
       "      <th>50%</th>\n",
       "      <th>75%</th>\n",
       "      <th>max</th>\n",
       "    </tr>\n",
       "  </thead>\n",
       "  <tbody>\n",
       "    <tr>\n",
       "      <th>Price</th>\n",
       "      <td>300000.0</td>\n",
       "      <td>81.41111</td>\n",
       "      <td>39.039341</td>\n",
       "      <td>15.0</td>\n",
       "      <td>47.384621</td>\n",
       "      <td>80.956123</td>\n",
       "      <td>115.018158</td>\n",
       "      <td>150.0</td>\n",
       "    </tr>\n",
       "  </tbody>\n",
       "</table>\n",
       "</div>"
      ],
      "text/plain": [
       "          count      mean        std   min        25%        50%         75%  \\\n",
       "Price  300000.0  81.41111  39.039341  15.0  47.384621  80.956123  115.018158   \n",
       "\n",
       "         max  \n",
       "Price  150.0  "
      ]
     },
     "execution_count": 12,
     "metadata": {},
     "output_type": "execute_result"
    }
   ],
   "source": [
    "df_train[target].describe().to_frame().T"
   ]
  },
  {
   "cell_type": "code",
   "execution_count": 13,
   "id": "e4e81596-dbf2-475c-a7a1-e427b32d1f95",
   "metadata": {},
   "outputs": [
    {
     "data": {
      "image/png": "[encoded data removed]",
      "text/plain": [
       "<Figure size 1600x300 with 2 Axes>"
      ]
     },
     "metadata": {},
     "output_type": "display_data"
    }
   ],
   "source": [
    "_, axes = plt.subplots(1, 2, figsize = (16, 3))\n",
    "sns.histplot(df_train[target], ax = axes[0])\n",
    "sns.histplot(df_org[target], ax = axes[1])\n",
    "plt.tight_layout()\n",
    "plt.show()"
   ]
  },
  {
   "cell_type": "markdown",
   "id": "a1139e42-4ec2-4b3a-97cd-f77dfb407a5b",
   "metadata": {},
   "source": [
    "## Categorical Variables"
   ]
  },
  {
   "cell_type": "code",
   "execution_count": 32,
   "id": "36789e51-63a5-46e7-b8f4-aed04cd98470",
   "metadata": {},
   "outputs": [
    {
     "data": {
      "text/html": [
       "<div>\n",
       "<style scoped>\n",
       "    .dataframe tbody tr th:only-of-type {\n",
       "        vertical-align: middle;\n",
       "    }\n",
       "\n",
       "    .dataframe tbody tr th {\n",
       "        vertical-align: top;\n",
       "    }\n",
       "\n",
       "    .dataframe thead th {\n",
       "        text-align: right;\n",
       "    }\n",
       "</style>\n",
       "<table border=\"1\" class=\"dataframe\">\n",
       "  <thead>\n",
       "    <tr style=\"text-align: right;\">\n",
       "      <th></th>\n",
       "      <th>stat</th>\n",
       "      <th>pvalue</th>\n",
       "      <th>nunique</th>\n",
       "    </tr>\n",
       "  </thead>\n",
       "  <tbody>\n",
       "    <tr>\n",
       "      <th>Material</th>\n",
       "      <td>94.397776</td>\n",
       "      <td>2.487334e-20</td>\n",
       "      <td>4</td>\n",
       "    </tr>\n",
       "    <tr>\n",
       "      <th>Color</th>\n",
       "      <td>81.778818</td>\n",
       "      <td>3.560963e-16</td>\n",
       "      <td>6</td>\n",
       "    </tr>\n",
       "    <tr>\n",
       "      <th>Brand</th>\n",
       "      <td>42.562866</td>\n",
       "      <td>1.275070e-08</td>\n",
       "      <td>5</td>\n",
       "    </tr>\n",
       "    <tr>\n",
       "      <th>Waterproof</th>\n",
       "      <td>1.589209</td>\n",
       "      <td>2.074391e-01</td>\n",
       "      <td>2</td>\n",
       "    </tr>\n",
       "    <tr>\n",
       "      <th>Size</th>\n",
       "      <td>2.902191</td>\n",
       "      <td>2.343134e-01</td>\n",
       "      <td>3</td>\n",
       "    </tr>\n",
       "    <tr>\n",
       "      <th>Laptop Compartment</th>\n",
       "      <td>0.009281</td>\n",
       "      <td>9.232525e-01</td>\n",
       "      <td>2</td>\n",
       "    </tr>\n",
       "    <tr>\n",
       "      <th>Style</th>\n",
       "      <td>0.068897</td>\n",
       "      <td>9.661381e-01</td>\n",
       "      <td>3</td>\n",
       "    </tr>\n",
       "  </tbody>\n",
       "</table>\n",
       "</div>"
      ],
      "text/plain": [
       "                         stat        pvalue  nunique\n",
       "Material            94.397776  2.487334e-20        4\n",
       "Color               81.778818  3.560963e-16        6\n",
       "Brand               42.562866  1.275070e-08        5\n",
       "Waterproof           1.589209  2.074391e-01        2\n",
       "Size                 2.902191  2.343134e-01        3\n",
       "Laptop Compartment   0.009281  9.232525e-01        2\n",
       "Style                0.068897  9.661381e-01        3"
      ]
     },
     "execution_count": 32,
     "metadata": {},
     "output_type": "execute_result"
    }
   ],
   "source": [
    "sc.cache_result(\n",
    "    'kruskal_target',\n",
    "    lambda : pd.concat([\n",
    "        pd.Series(\n",
    "            kruskal(*df_train.groupby(i, observed=True)[target].agg(list)), index=['stat', 'pvalue'], name=i\n",
    "        ) for i in X_cat\n",
    "    ], axis=1), rerun = 0\n",
    ").T.join(df_train[X_cat].nunique().rename('nunique')).sort_values('pvalue', ascending = True)"
   ]
  },
  {
   "cell_type": "code",
   "execution_count": 30,
   "id": "74aace69-bede-4c31-9e53-4c57af10aa50",
   "metadata": {},
   "outputs": [
    {
     "data": {
      "text/html": [
       "<div>\n",
       "<style scoped>\n",
       "    .dataframe tbody tr th:only-of-type {\n",
       "        vertical-align: middle;\n",
       "    }\n",
       "\n",
       "    .dataframe tbody tr th {\n",
       "        vertical-align: top;\n",
       "    }\n",
       "\n",
       "    .dataframe thead th {\n",
       "        text-align: right;\n",
       "    }\n",
       "</style>\n",
       "<table border=\"1\" class=\"dataframe\">\n",
       "  <thead>\n",
       "    <tr style=\"text-align: right;\">\n",
       "      <th></th>\n",
       "      <th>Brand</th>\n",
       "      <th>Material</th>\n",
       "      <th>Size</th>\n",
       "      <th>Laptop Compartment</th>\n",
       "      <th>Waterproof</th>\n",
       "      <th>Style</th>\n",
       "      <th>Color</th>\n",
       "    </tr>\n",
       "  </thead>\n",
       "  <tbody>\n",
       "    <tr>\n",
       "      <th>Brand</th>\n",
       "      <td>0.000000e+00</td>\n",
       "      <td>1.326258e-07</td>\n",
       "      <td>0.093020</td>\n",
       "      <td>1.240839e-01</td>\n",
       "      <td>1.814956e-01</td>\n",
       "      <td>0.029342</td>\n",
       "      <td>0.479126</td>\n",
       "    </tr>\n",
       "    <tr>\n",
       "      <th>Material</th>\n",
       "      <td>1.326258e-07</td>\n",
       "      <td>0.000000e+00</td>\n",
       "      <td>0.000014</td>\n",
       "      <td>8.355747e-02</td>\n",
       "      <td>9.095699e-01</td>\n",
       "      <td>0.140027</td>\n",
       "      <td>0.038341</td>\n",
       "    </tr>\n",
       "    <tr>\n",
       "      <th>Size</th>\n",
       "      <td>9.302043e-02</td>\n",
       "      <td>1.374196e-05</td>\n",
       "      <td>0.000000</td>\n",
       "      <td>7.578808e-01</td>\n",
       "      <td>9.230872e-01</td>\n",
       "      <td>0.032041</td>\n",
       "      <td>0.012190</td>\n",
       "    </tr>\n",
       "    <tr>\n",
       "      <th>Laptop Compartment</th>\n",
       "      <td>1.240839e-01</td>\n",
       "      <td>8.355747e-02</td>\n",
       "      <td>0.757881</td>\n",
       "      <td>0.000000e+00</td>\n",
       "      <td>3.246753e-56</td>\n",
       "      <td>0.004470</td>\n",
       "      <td>0.007520</td>\n",
       "    </tr>\n",
       "    <tr>\n",
       "      <th>Waterproof</th>\n",
       "      <td>1.814956e-01</td>\n",
       "      <td>9.095699e-01</td>\n",
       "      <td>0.923087</td>\n",
       "      <td>3.246753e-56</td>\n",
       "      <td>0.000000e+00</td>\n",
       "      <td>0.789501</td>\n",
       "      <td>0.483258</td>\n",
       "    </tr>\n",
       "    <tr>\n",
       "      <th>Style</th>\n",
       "      <td>2.934222e-02</td>\n",
       "      <td>1.400270e-01</td>\n",
       "      <td>0.032041</td>\n",
       "      <td>4.469708e-03</td>\n",
       "      <td>7.895010e-01</td>\n",
       "      <td>0.000000</td>\n",
       "      <td>0.147923</td>\n",
       "    </tr>\n",
       "    <tr>\n",
       "      <th>Color</th>\n",
       "      <td>4.791256e-01</td>\n",
       "      <td>3.834111e-02</td>\n",
       "      <td>0.012190</td>\n",
       "      <td>7.520067e-03</td>\n",
       "      <td>4.832583e-01</td>\n",
       "      <td>0.147923</td>\n",
       "      <td>0.000000</td>\n",
       "    </tr>\n",
       "  </tbody>\n",
       "</table>\n",
       "</div>"
      ],
      "text/plain": [
       "                           Brand      Material      Size  Laptop Compartment  \\\n",
       "Brand               0.000000e+00  1.326258e-07  0.093020        1.240839e-01   \n",
       "Material            1.326258e-07  0.000000e+00  0.000014        8.355747e-02   \n",
       "Size                9.302043e-02  1.374196e-05  0.000000        7.578808e-01   \n",
       "Laptop Compartment  1.240839e-01  8.355747e-02  0.757881        0.000000e+00   \n",
       "Waterproof          1.814956e-01  9.095699e-01  0.923087        3.246753e-56   \n",
       "Style               2.934222e-02  1.400270e-01  0.032041        4.469708e-03   \n",
       "Color               4.791256e-01  3.834111e-02  0.012190        7.520067e-03   \n",
       "\n",
       "                      Waterproof     Style     Color  \n",
       "Brand               1.814956e-01  0.029342  0.479126  \n",
       "Material            9.095699e-01  0.140027  0.038341  \n",
       "Size                9.230872e-01  0.032041  0.012190  \n",
       "Laptop Compartment  3.246753e-56  0.004470  0.007520  \n",
       "Waterproof          0.000000e+00  0.789501  0.483258  \n",
       "Style               7.895010e-01  0.000000  0.147923  \n",
       "Color               4.832583e-01  0.147923  0.000000  "
      ]
     },
     "execution_count": 30,
     "metadata": {},
     "output_type": "execute_result"
    }
   ],
   "source": [
    "pd.DataFrame(\n",
    "    squareform(\n",
    "        sc.cache_result(\n",
    "            'chi2_variables',\n",
    "            lambda : pdist(df_train[X_cat].T, lambda u, v: chi2_contingency(pd.crosstab(u, v)).pvalue)\n",
    "        )\n",
    "    ), index = X_cat, columns = X_cat\n",
    ")"
   ]
  },
  {
   "cell_type": "code",
   "execution_count": 35,
   "id": "c07a49d3-935a-4d25-8c02-04b3620783f9",
   "metadata": {},
   "outputs": [
    {
     "data": {
      "image/png": "[encoded data removed]",
      "text/plain": [
       "<Figure size 2000x500 with 4 Axes>"
      ]
     },
     "metadata": {},
     "output_type": "display_data"
    }
   ],
   "source": [
    "sns.displot(df_train, x = target , col = 'Material')\n",
    "plt.show()"
   ]
  },
  {
   "cell_type": "code",
   "execution_count": null,
   "id": "1ba5183f-9ef3-4f64-89fe-0723477d37bc",
   "metadata": {},
   "outputs": [],
   "source": []
  }
 ],
 "metadata": {
  "kernelspec": {
   "display_name": "Python 3 (ipykernel)",
   "language": "python",
   "name": "python3"
  },
  "language_info": {
   "codemirror_mode": {
    "name": "ipython",
    "version": 3
   },
   "file_extension": ".py",
   "mimetype": "text/x-python",
   "name": "python",
   "nbconvert_exporter": "python",
   "pygments_lexer": "ipython3",
   "version": "3.12.3"
  }
 },
 "nbformat": 4,
 "nbformat_minor": 5
}
