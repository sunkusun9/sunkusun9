{
 "cells": [
  {
   "cell_type": "code",
   "execution_count": 1,
   "id": "01d489ae-e6fd-477a-aa71-bc0cc2b53bda",
   "metadata": {},
   "outputs": [
    {
     "name": "stderr",
     "output_type": "stream",
     "text": [
      "2025-02-06 07:06:41.590240: E external/local_xla/xla/stream_executor/cuda/cuda_fft.cc:477] Unable to register cuFFT factory: Attempting to register factory for plugin cuFFT when one has already been registered\n",
      "WARNING: All log messages before absl::InitializeLog() is called are written to STDERR\n",
      "E0000 00:00:1738825601.716419   54298 cuda_dnn.cc:8310] Unable to register cuDNN factory: Attempting to register factory for plugin cuDNN when one has already been registered\n",
      "E0000 00:00:1738825601.752614   54298 cuda_blas.cc:1418] Unable to register cuBLAS factory: Attempting to register factory for plugin cuBLAS when one has already been registered\n",
      "2025-02-06 07:06:42.088142: I tensorflow/core/platform/cpu_feature_guard.cc:210] This TensorFlow binary is optimized to use available CPU instructions in performance-critical operations.\n",
      "To enable the following instructions: AVX2 FMA, in other operations, rebuild TensorFlow with the appropriate compiler flags.\n"
     ]
    },
    {
     "name": "stdout",
     "output_type": "stream",
     "text": [
      "3.12.6 (main, Sep 30 2024, 02:19:13) [GCC 9.4.0]\n",
      "pandas 2.2.3\n",
      "polars 1.12.0\n",
      "matplotlib 3.8.4\n",
      "seaborn 0.13.2\n",
      "numpy 1.26.4\n",
      "scipy 1.12.0\n",
      "sklearn 1.5.2\n",
      "xgboost 2.1.2\n",
      "catboost 1.2.5\n"
     ]
    }
   ],
   "source": [
    "import os, sys\n",
    "\n",
    "import pandas as pd\n",
    "import polars as pl\n",
    "\n",
    "import matplotlib as mpl\n",
    "import matplotlib.pyplot as plt\n",
    "import seaborn as sns\n",
    "\n",
    "import numpy as np\n",
    "import scipy\n",
    "\n",
    "import sklearn\n",
    "import lightgbm as lgb\n",
    "import xgboost as xgb\n",
    "import catboost as cb\n",
    "\n",
    "import dproc, sgml, sgnn, sgpp, sgutil, custpp\n",
    "\n",
    "print(sys.version)\n",
    "for i in [pd, pl, mpl, sns, np, scipy, sklearn, lgb, xgb, cb]:\n",
    "    try:\n",
    "        print(i.__name__, i.__version__)\n",
    "    except:\n",
    "        pass"
   ]
  },
  {
   "cell_type": "code",
   "execution_count": 55,
   "id": "55ff6e77-d1f3-4534-8d6d-4191ea678e05",
   "metadata": {},
   "outputs": [],
   "source": [
    "from itertools import combinations\n",
    "\n",
    "from sklearn.pipeline import make_pipeline\n",
    "from sklearn.model_selection import cross_val_score, KFold, ShuffleSplit, train_test_split\n",
    "from sklearn.preprocessing import TargetEncoder\n",
    "from sklearn.metrics import root_mean_squared_error, r2_score\n",
    "from sklearn.linear_model import LinearRegression"
   ]
  },
  {
   "cell_type": "code",
   "execution_count": 3,
   "id": "c0520e0c-435b-4559-9d7f-a26f146b4e3f",
   "metadata": {},
   "outputs": [],
   "source": [
    "sc = sgutil.SGCache('img', 'result')\n",
    "ss = ShuffleSplit(n_splits = 1, random_state = 123)\n",
    "kf = KFold(5, random_state = 123, shuffle=True)\n",
    "\n",
    "files = {\n",
    "    'train': os.path.join('data', 'train.csv'),\n",
    "    'train_extra': os.path.join('data', 'training_extra.csv'),\n",
    "    'test': os.path.join('data', 'test.csv'),\n",
    "}"
   ]
  },
  {
   "cell_type": "code",
   "execution_count": 4,
   "id": "8ee9d661-e802-4692-9fed-3997a09f0762",
   "metadata": {},
   "outputs": [],
   "source": [
    "t = sc.cache_result(\n",
    "    'pipeline_2',\n",
    "    lambda : make_pipeline(\n",
    "        sgpp.PolarsProcessor(), \n",
    "        sgpp.ExprProcessor({\n",
    "            'Compartments_c' : pl.col('Compartments').cast(pl.String).cast(pl.Categorical)\n",
    "        }),\n",
    "        sgpp.PandasCoverter(index_col = 'id'),\n",
    "        sgpp.ApplyWrapper(\n",
    "            sgpp.CatArrangerFreq(1, na_value = 'Unknown'),\n",
    "            ['Brand', 'Material', 'Size', 'Laptop Compartment', 'Waterproof', 'Style', 'Color']\n",
    "        ), \n",
    "        custpp.WeightCapacityProcessor()\n",
    "    ).fit(files['train']),\n",
    "    rerun = 1\n",
    ")\n",
    "df_train = pd.concat(\n",
    "    [t.transform(files['train']), t.transform(files['train_extra'])], axis = 0\n",
    ")\n",
    "df_test = t.transform(files['test'])"
   ]
  },
  {
   "cell_type": "code",
   "execution_count": 5,
   "id": "2f4ca6f4-cc14-44a1-aa25-e147b6730262",
   "metadata": {},
   "outputs": [],
   "source": [
    "target = 'Price'\n",
    "X_cat = ['Brand', 'Material', 'Size', 'Laptop Compartment', 'Waterproof', 'Style', 'Color', 'Compartments_c', 'wc_i']\n",
    "X_num = ['Compartments', 'Weight Capacity (kg)']"
   ]
  },
  {
   "cell_type": "markdown",
   "id": "f51265a9-9354-41ae-86a9-75651fa08bf6",
   "metadata": {},
   "source": [
    "# Target Encoding"
   ]
  },
  {
   "cell_type": "code",
   "execution_count": 53,
   "id": "385f12c4-e5a1-4dff-8665-48a8a2d7797d",
   "metadata": {},
   "outputs": [],
   "source": [
    "def get_tgt_enc_cat(X, cv = kf, params = {'random_state': 123}):\n",
    "    tgt = TargetEncoder(target_type  = 'continuous', **params)\n",
    "    tgt_list = list()\n",
    "    for train_idx, valid_idx in cv.split(df_train[X], df_train[target]):\n",
    "        df_cv_train, df_valid = df_train.iloc[train_idx], df_train.iloc[valid_idx]\n",
    "        df_cv_train, df_valid = df_cv_train, df_valid\n",
    "        if len(X) == 0:\n",
    "            rmse_list.append(df_valid[target].std())\n",
    "            continue\n",
    "        if len(X) > 1:\n",
    "            tgt.fit(dproc.combine_cat(df_cv_train[X]).to_frame(), df_cv_train[target])\n",
    "            tgt_list.append(\n",
    "                pd.Series(tgt.transform(dproc.combine_cat(df_valid[X]).to_frame())[:, 0], index = df_valid.index, name = '_'.join(X))\n",
    "            )\n",
    "        else:\n",
    "            tgt.fit(df_cv_train[X], df_cv_train[target])\n",
    "            tgt_list.append(\n",
    "                pd.Series(tgt.transform(df_valid[X])[:, 0], index = df_valid.index, name = '_'.join(X))\n",
    "            )\n",
    "    return pd.concat(tgt_list)\n",
    "\n",
    "def get_comb_cat_tgt(n, cv = kf, X_cat = X_cat):\n",
    "    return pd.concat([\n",
    "        get_tgt_enc_cat(list(X), cv) for X in combinations(X_cat, n)\n",
    "    ], axis = 1)"
   ]
  },
  {
   "cell_type": "code",
   "execution_count": 7,
   "id": "30a7bbca-54ad-42d7-8b50-631738d79177",
   "metadata": {},
   "outputs": [],
   "source": [
    "df_tgt3 = sc.cache_result(\n",
    "    'tgt_3',\n",
    "    lambda : get_comb_cat_tgt(3), rerun = 0\n",
    ").sort_index()\n",
    "df_tgt4 = sc.cache_result(\n",
    "    'tgt_4',\n",
    "    lambda : get_comb_cat_tgt(4), rerun = 0\n",
    ").sort_index()"
   ]
  },
  {
   "cell_type": "code",
   "execution_count": 8,
   "id": "99ecb4da-a76c-4696-9c46-ea007d1db665",
   "metadata": {},
   "outputs": [],
   "source": [
    "s_rmse_tgt_3 = df_tgt3.apply(\n",
    "    lambda x: root_mean_squared_error(df_train[target], x)\n",
    ").sort_values()\n",
    "s_rmse_tgt_4 = df_tgt4.apply(\n",
    "    lambda x: root_mean_squared_error(df_train[target], x)\n",
    ").sort_values()"
   ]
  },
  {
   "cell_type": "code",
   "execution_count": 9,
   "id": "5c9c945f-2ef3-4879-b545-b073e3e980c0",
   "metadata": {},
   "outputs": [
    {
     "data": {
      "text/plain": [
       "Size_Waterproof_wc_i                  38.915715\n",
       "Material_Waterproof_wc_i              38.915882\n",
       "Waterproof_Color_wc_i                 38.916800\n",
       "Laptop Compartment_Waterproof_wc_i    38.917450\n",
       "Material_Size_wc_i                    38.917671\n",
       "Brand_Size_wc_i                       38.918317\n",
       "Brand_Waterproof_wc_i                 38.918337\n",
       "Size_Color_wc_i                       38.918495\n",
       "Material_Color_wc_i                   38.919004\n",
       "Material_Laptop Compartment_wc_i      38.919357\n",
       "dtype: float64"
      ]
     },
     "execution_count": 9,
     "metadata": {},
     "output_type": "execute_result"
    }
   ],
   "source": [
    "s_rmse_tgt_3.iloc[:10]"
   ]
  },
  {
   "cell_type": "code",
   "execution_count": 10,
   "id": "9364c70c-f45e-46bc-a0e2-a437ba712d1e",
   "metadata": {},
   "outputs": [
    {
     "data": {
      "text/plain": [
       "Size_Laptop Compartment_Waterproof_wc_i        38.915788\n",
       "Material_Size_Waterproof_wc_i                  38.916880\n",
       "Material_Laptop Compartment_Waterproof_wc_i    38.917673\n",
       "Brand_Size_Waterproof_wc_i                     38.919630\n",
       "Laptop Compartment_Waterproof_Color_wc_i       38.920032\n",
       "Laptop Compartment_Waterproof_Style_wc_i       38.920300\n",
       "Size_Waterproof_Style_wc_i                     38.920473\n",
       "Brand_Laptop Compartment_Waterproof_wc_i       38.920523\n",
       "Size_Waterproof_Color_wc_i                     38.920787\n",
       "Material_Waterproof_Style_wc_i                 38.920846\n",
       "dtype: float64"
      ]
     },
     "execution_count": 10,
     "metadata": {},
     "output_type": "execute_result"
    }
   ],
   "source": [
    "s_rmse_tgt_4.iloc[:10]"
   ]
  },
  {
   "cell_type": "code",
   "execution_count": 11,
   "id": "e61d0185-c328-4ab7-aac9-d266994e50be",
   "metadata": {},
   "outputs": [
    {
     "data": {
      "text/plain": [
       "-38.915641678692246"
      ]
     },
     "execution_count": 11,
     "metadata": {},
     "output_type": "execute_result"
    }
   ],
   "source": [
    "from sklearn.linear_model import Lasso\n",
    "from sklearn.model_selection import cross_val_score\n",
    "\n",
    "sc.cache_result(\n",
    "    'tgt_lasso_rmse',\n",
    "    lambda : cross_val_score(Lasso(), df_tgt3, df_train[target], cv = kf, scoring = 'neg_root_mean_squared_error'), rerun = 0\n",
    ").mean()"
   ]
  },
  {
   "cell_type": "code",
   "execution_count": 12,
   "id": "163f11b9-5d83-4ca1-ba72-bf2e9ca70d5a",
   "metadata": {},
   "outputs": [
    {
     "data": {
      "text/plain": [
       "38.90882819875456"
      ]
     },
     "execution_count": 12,
     "metadata": {},
     "output_type": "execute_result"
    }
   ],
   "source": [
    "reg_ls = sc.cache_result(\n",
    "    'lasso_tgt3',\n",
    "    lambda : Lasso().fit(df_tgt3, df_train[target])\n",
    ")\n",
    "X_lasso_3 = df_tgt3.columns[reg_ls.coef_ > 0].tolist()\n",
    "root_mean_squared_error(\n",
    "    df_train[target],\n",
    "    df_tgt3[X_lasso_3].mean(axis=1)\n",
    ")   "
   ]
  },
  {
   "cell_type": "code",
   "execution_count": 13,
   "id": "c6b9e17d-4ed9-49a0-96e0-cd0c2f769bb0",
   "metadata": {},
   "outputs": [
    {
     "data": {
      "text/plain": [
       "38.902266681790344"
      ]
     },
     "execution_count": 13,
     "metadata": {},
     "output_type": "execute_result"
    }
   ],
   "source": [
    "reg_ls = sc.cache_result(\n",
    "    'lasso_tgt4',\n",
    "    lambda : Lasso().fit(df_tgt4, df_train[target])\n",
    ")\n",
    "X_lasso_4 = df_tgt4.columns[reg_ls.coef_ > 0].tolist()\n",
    "root_mean_squared_error(\n",
    "    df_train[target],\n",
    "    df_tgt4[X_lasso_4].mean(axis=1)\n",
    ")"
   ]
  },
  {
   "cell_type": "code",
   "execution_count": 14,
   "id": "b7748673-e346-43db-ae99-0a38f4e04f8d",
   "metadata": {},
   "outputs": [
    {
     "data": {
      "text/plain": [
       "38.903925210474405"
      ]
     },
     "execution_count": 14,
     "metadata": {},
     "output_type": "execute_result"
    }
   ],
   "source": [
    "root_mean_squared_error(\n",
    "    df_train[target],\n",
    "    pd.concat([\n",
    "        df_tgt3[X_lasso_3],\n",
    "        df_tgt4[X_lasso_4]\n",
    "    ], axis=1).mean(axis=1)\n",
    ")"
   ]
  },
  {
   "cell_type": "code",
   "execution_count": 16,
   "id": "adfd73e1-04de-4bfc-b713-2d49ac96bcac",
   "metadata": {},
   "outputs": [],
   "source": [
    "reg_ls = sc.cache_result(\n",
    "    'lasso_tgt34',\n",
    "    lambda : Lasso().fit(pd.concat([df_tgt3[X_lasso_3], df_tgt4[X_lasso_4]], axis=1), df_train[target])\n",
    ")"
   ]
  },
  {
   "cell_type": "code",
   "execution_count": 23,
   "id": "58aa0ecb-1b03-44ed-848a-d74cabfed8d6",
   "metadata": {},
   "outputs": [
    {
     "data": {
      "text/plain": [
       "(8, 8)"
      ]
     },
     "execution_count": 23,
     "metadata": {},
     "output_type": "execute_result"
    }
   ],
   "source": [
    "len(X_lasso_3), sum(reg_ls.coef_ == 0)"
   ]
  },
  {
   "cell_type": "code",
   "execution_count": 39,
   "id": "6afb71fb-d82a-4528-b794-df9ab7863034",
   "metadata": {},
   "outputs": [
    {
     "data": {
      "text/plain": [
       "[38.91571485912435, 38.91215758926544, 38.9109039485939]"
      ]
     },
     "execution_count": 39,
     "metadata": {},
     "output_type": "execute_result"
    }
   ],
   "source": [
    "rmse_mean = list()\n",
    "for i in range(1, s_rmse_tgt_3.shape[0] + 1):\n",
    "    rmse = root_mean_squared_error(\n",
    "        df_train[target], df_tgt3[s_rmse_tgt_3.index[:i]].mean(axis=1).sort_index()\n",
    "    )\n",
    "    if len(rmse_mean) > 0 and rmse > rmse_mean[-1]:\n",
    "        break\n",
    "    rmse_mean.append(rmse)\n",
    "rmse_mean"
   ]
  },
  {
   "cell_type": "code",
   "execution_count": 42,
   "id": "288a9115-c36e-4f03-b3cf-741aceab64da",
   "metadata": {},
   "outputs": [
    {
     "data": {
      "text/plain": [
       "[38.91578764645321,\n",
       " 38.91048087298257,\n",
       " 38.909067033883204,\n",
       " 38.90719419120311,\n",
       " 38.905932464100836]"
      ]
     },
     "execution_count": 42,
     "metadata": {},
     "output_type": "execute_result"
    }
   ],
   "source": [
    "rmse_mean = list()\n",
    "for i in range(1, s_rmse_tgt_4.shape[0] + 1):\n",
    "    rmse = root_mean_squared_error(\n",
    "        df_train[target], df_tgt4[s_rmse_tgt_4.index[:i]].mean(axis=1).sort_index()\n",
    "    )\n",
    "    if len(rmse_mean) > 0 and rmse > rmse_mean[-1]:\n",
    "        break\n",
    "    rmse_mean.append(rmse)\n",
    "rmse_mean"
   ]
  },
  {
   "cell_type": "code",
   "execution_count": 56,
   "id": "246d9b91-921d-4713-bb51-7391ec72649c",
   "metadata": {},
   "outputs": [
    {
     "data": {
      "text/plain": [
       "38.90694229799814"
      ]
     },
     "execution_count": 56,
     "metadata": {},
     "output_type": "execute_result"
    }
   ],
   "source": [
    "root_mean_squared_error(\n",
    "    df_train[target], \n",
    "    pd.concat([\n",
    "        df_tgt3[s_rmse_tgt_3.index[:3]],\n",
    "        df_tgt4[s_rmse_tgt_4.index[:5]]\n",
    "    ], axis=1).mean(axis=1)\n",
    ")"
   ]
  },
  {
   "cell_type": "markdown",
   "id": "3cd77176-b3f0-4a87-8df6-f78f7f4d4700",
   "metadata": {},
   "source": [
    "from [https://www.kaggle.com/code/cdeotte/two-baseline-models-lb-38-91](Two Baseline Models - [LB 38.91])"
   ]
  },
  {
   "cell_type": "code",
   "execution_count": 65,
   "id": "aef5cc43-0e58-42a3-9513-938b91e3b3fe",
   "metadata": {},
   "outputs": [],
   "source": [
    "from cuml.preprocessing import TargetEncoder as TargetEncoder_cu\n",
    "def get_tgt_enc_cat_cu(X, cv = kf, params = {}):\n",
    "    tgt = TargetEncoder_cu(**params)\n",
    "    tgt_list = list()\n",
    "    for train_idx, valid_idx in cv.split(df_train[X], df_train[target]):\n",
    "        df_cv_train, df_valid = df_train.iloc[train_idx], df_train.iloc[valid_idx]\n",
    "        df_cv_train, df_valid = df_cv_train, df_valid\n",
    "        if len(X) == 0:\n",
    "            rmse_list.append(df_valid[target].std())\n",
    "            continue\n",
    "        if len(X) > 1:\n",
    "            tgt.fit(dproc.combine_cat(df_cv_train[X]).to_frame(), df_cv_train[target])\n",
    "            tgt_list.append(\n",
    "                pd.Series(tgt.transform(dproc.combine_cat(df_valid[X]).to_frame()), index = df_valid.index, name = '_'.join(X))\n",
    "            )\n",
    "        else:\n",
    "            tgt.fit(df_cv_train[X], df_cv_train[target])\n",
    "            tgt_list.append(\n",
    "                pd.Series(tgt.transform(df_valid[X]), index = df_valid.index, name = '_'.join(X))\n",
    "            )\n",
    "    return pd.concat(tgt_list)\n",
    "\n",
    "def get_comb_cat_tgt_cu(n, cv = kf, X_cat = X_cat):\n",
    "    return pd.concat([\n",
    "        get_tgt_enc_cat_cu(list(X), cv) for X in combinations(X_cat, n)\n",
    "    ], axis = 1)"
   ]
  },
  {
   "cell_type": "code",
   "execution_count": 49,
   "id": "22bad6e4-98ef-4435-ab2c-5d2ce9ca9a6d",
   "metadata": {},
   "outputs": [
    {
     "data": {
      "text/plain": [
       "38.76850901376839"
      ]
     },
     "execution_count": 49,
     "metadata": {},
     "output_type": "execute_result"
    }
   ],
   "source": [
    "root_mean_squared_error(\n",
    "    df_train[target],\n",
    "    sc.cache_result(\n",
    "        'me_wc',\n",
    "        lambda : get_tgt_enc_cat_cu(['Weight Capacity (kg)'], params={'n_folds': 25, 'smooth': 20, 'split_method': 'random', 'stat': 'mean'}).sort_index(), rerun = 1\n",
    "    )\n",
    ")"
   ]
  },
  {
   "cell_type": "code",
   "execution_count": null,
   "id": "e369fbba-e4f3-4057-86ed-99117abe5fa1",
   "metadata": {},
   "outputs": [],
   "source": []
  }
 ],
 "metadata": {
  "kernelspec": {
   "display_name": "Python 3 (ipykernel)",
   "language": "python",
   "name": "python3"
  },
  "language_info": {
   "codemirror_mode": {
    "name": "ipython",
    "version": 3
   },
   "file_extension": ".py",
   "mimetype": "text/x-python",
   "name": "python",
   "nbconvert_exporter": "python",
   "pygments_lexer": "ipython3",
   "version": "3.12.6"
  }
 },
 "nbformat": 4,
 "nbformat_minor": 5
}
