{
 "cells": [
  {
   "cell_type": "code",
   "execution_count": 4,
   "id": "a7d2902b-ddc9-4b87-b0b3-e0844a4dd08e",
   "metadata": {},
   "outputs": [],
   "source": [
    "import os\n",
    "import pandas as pd"
   ]
  },
  {
   "cell_type": "markdown",
   "id": "ec78b8ed-a9ab-44c9-bdbd-d6908bc71c71",
   "metadata": {},
   "source": [
    "[Leaderbord Probing](https://www.kaggle.com/code/act18l/lb-probing-hitchhiker-version/notebook)을 통해 Leader의 정답이 \n",
    "\n",
    "밝혀졌습니다. 이를 기반으로 학습셋을 다시 만들어봅니다."
   ]
  },
  {
   "cell_type": "code",
   "execution_count": 23,
   "id": "0adbecab-38fe-43a8-9a6f-d891a65a410d",
   "metadata": {},
   "outputs": [],
   "source": [
    "if not os.path.exists('data/lb_probing.csv'):\n",
    "    !kaggle kernels output act18l/lb-probing-hitchhiker-version\n",
    "    !mv submission.csv data/lb_probing.csv"
   ]
  },
  {
   "cell_type": "code",
   "execution_count": 24,
   "id": "757093f1-4e88-4b76-97c8-1df9a661f523",
   "metadata": {},
   "outputs": [],
   "source": [
    "pd.concat([\n",
    "    pd.read_csv('data/train.csv', index_col = 'id'),\n",
    "    pd.read_csv('data/test.csv', index_col = 'id').iloc[:146].join(\n",
    "        pd.read_csv('data/lb_probing.csv', index_col = 'id').iloc[:146].astype(int)\n",
    "    )\n",
    "], axis = 0).to_csv('data/train_lb.csv')"
   ]
  },
  {
   "cell_type": "code",
   "execution_count": null,
   "id": "aacde15e-eda3-4f07-bb64-fef7a9cc2d45",
   "metadata": {},
   "outputs": [],
   "source": []
  }
 ],
 "metadata": {
  "kernelspec": {
   "display_name": "Python 3 (ipykernel)",
   "language": "python",
   "name": "python3"
  },
  "language_info": {
   "codemirror_mode": {
    "name": "ipython",
    "version": 3
   },
   "file_extension": ".py",
   "mimetype": "text/x-python",
   "name": "python",
   "nbconvert_exporter": "python",
   "pygments_lexer": "ipython3",
   "version": "3.12.6"
  }
 },
 "nbformat": 4,
 "nbformat_minor": 5
}
