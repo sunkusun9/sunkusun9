{
 "cells": [
  {
   "cell_type": "code",
   "execution_count": 1,
   "id": "94507e5a-902e-4465-ba97-29ef2ae5ad7d",
   "metadata": {},
   "outputs": [],
   "source": [
    "import pandas as pd\n",
    "import numpy as np\n",
    "import sgml, sgutil\n",
    "\n",
    "sc = sgutil.SGCache('img', 'result')"
   ]
  },
  {
   "cell_type": "code",
   "execution_count": 2,
   "id": "6e3d632d-15d4-441c-bd1d-09cf5af8d453",
   "metadata": {},
   "outputs": [],
   "source": [
    "from sklearn.metrics import roc_auc_score\n",
    "from sklearn.linear_model import LogisticRegression\n",
    "from sklearn.svm import LinearSVC, SVC\n",
    "from sklearn.model_selection import StratifiedKFold, StratifiedShuffleSplit\n",
    "\n",
    "def get_validation_splitter(validation_fraction):\n",
    "    return lambda x: train_test_split(x, test_size = validation_fraction)\n",
    "\n",
    "target = 'rainfall'\n",
    "s_target = sc.read_result('target')\n",
    "config = {\n",
    "    'predict_func': lambda m, df, X: pd.Series(m.predict_proba(df[X])[:, 1], index = df.index),\n",
    "    'score_func': lambda df, prds: roc_auc_score(df[target], prds),\n",
    "    'validation_splitter': get_validation_splitter,\n",
    "    'progress_callback': sgml.ProgressCallBack(), \n",
    "    'return_train_scores': True,\n",
    "    'y': target,\n",
    "}\n",
    "\n",
    "lr_adapter = sgml.SklearnAdapter(LogisticRegression)\n",
    "svc_adapter = sgml.SklearnAdapter(SVC)\n",
    "\n",
    "skf = StratifiedKFold(5, random_state = 123, shuffle = True)\n",
    "ss = StratifiedShuffleSplit(1, random_state = 123)"
   ]
  },
  {
   "cell_type": "code",
   "execution_count": 124,
   "id": "1d636d1d-cfa6-4727-a199-d0830936f48f",
   "metadata": {},
   "outputs": [
    {
     "data": {
      "text/html": [
       "<div>\n",
       "<style scoped>\n",
       "    .dataframe tbody tr th:only-of-type {\n",
       "        vertical-align: middle;\n",
       "    }\n",
       "\n",
       "    .dataframe tbody tr th {\n",
       "        vertical-align: top;\n",
       "    }\n",
       "\n",
       "    .dataframe thead th {\n",
       "        text-align: right;\n",
       "    }\n",
       "</style>\n",
       "<table border=\"1\" class=\"dataframe\">\n",
       "  <thead>\n",
       "    <tr style=\"text-align: right;\">\n",
       "      <th></th>\n",
       "      <th>lgb_bfs</th>\n",
       "      <th>lgb_bfs_f</th>\n",
       "      <th>lgb_sfs</th>\n",
       "      <th>lgb_sfs2</th>\n",
       "      <th>lgb_sfs_a</th>\n",
       "      <th>lgb_sfs_a2</th>\n",
       "      <th>lgb_sfs_f</th>\n",
       "      <th>lr_bfs</th>\n",
       "      <th>lr_bfs_a</th>\n",
       "      <th>lr_bfs_f</th>\n",
       "      <th>...</th>\n",
       "      <th>lr_sfs_f2</th>\n",
       "      <th>lsvc_bfs_f</th>\n",
       "      <th>lsvc_sfs_f</th>\n",
       "      <th>p2svc_sfs_f</th>\n",
       "      <th>xgb_bfs</th>\n",
       "      <th>xgb_bfs_f</th>\n",
       "      <th>xgb_sfs</th>\n",
       "      <th>xgb_sfs2</th>\n",
       "      <th>xgb_sfs_a</th>\n",
       "      <th>xgb_sfs_f</th>\n",
       "    </tr>\n",
       "    <tr>\n",
       "      <th>id</th>\n",
       "      <th></th>\n",
       "      <th></th>\n",
       "      <th></th>\n",
       "      <th></th>\n",
       "      <th></th>\n",
       "      <th></th>\n",
       "      <th></th>\n",
       "      <th></th>\n",
       "      <th></th>\n",
       "      <th></th>\n",
       "      <th></th>\n",
       "      <th></th>\n",
       "      <th></th>\n",
       "      <th></th>\n",
       "      <th></th>\n",
       "      <th></th>\n",
       "      <th></th>\n",
       "      <th></th>\n",
       "      <th></th>\n",
       "      <th></th>\n",
       "      <th></th>\n",
       "    </tr>\n",
       "  </thead>\n",
       "  <tbody>\n",
       "    <tr>\n",
       "      <th>0</th>\n",
       "      <td>0.963096</td>\n",
       "      <td>0.960541</td>\n",
       "      <td>0.957347</td>\n",
       "      <td>0.961141</td>\n",
       "      <td>0.966031</td>\n",
       "      <td>0.963060</td>\n",
       "      <td>0.959939</td>\n",
       "      <td>0.968675</td>\n",
       "      <td>0.960399</td>\n",
       "      <td>0.962606</td>\n",
       "      <td>...</td>\n",
       "      <td>0.970137</td>\n",
       "      <td>0.947012</td>\n",
       "      <td>0.954585</td>\n",
       "      <td>0.938617</td>\n",
       "      <td>0.964936</td>\n",
       "      <td>0.959594</td>\n",
       "      <td>0.961516</td>\n",
       "      <td>0.964605</td>\n",
       "      <td>0.967816</td>\n",
       "      <td>0.961254</td>\n",
       "    </tr>\n",
       "    <tr>\n",
       "      <th>1</th>\n",
       "      <td>0.959187</td>\n",
       "      <td>0.958526</td>\n",
       "      <td>0.957021</td>\n",
       "      <td>0.958315</td>\n",
       "      <td>0.960232</td>\n",
       "      <td>0.959045</td>\n",
       "      <td>0.952884</td>\n",
       "      <td>0.986460</td>\n",
       "      <td>0.979461</td>\n",
       "      <td>0.981487</td>\n",
       "      <td>...</td>\n",
       "      <td>0.984648</td>\n",
       "      <td>0.964604</td>\n",
       "      <td>0.980839</td>\n",
       "      <td>0.961252</td>\n",
       "      <td>0.968355</td>\n",
       "      <td>0.960039</td>\n",
       "      <td>0.966392</td>\n",
       "      <td>0.962522</td>\n",
       "      <td>0.975247</td>\n",
       "      <td>0.970552</td>\n",
       "    </tr>\n",
       "    <tr>\n",
       "      <th>2</th>\n",
       "      <td>0.281292</td>\n",
       "      <td>0.188287</td>\n",
       "      <td>0.297268</td>\n",
       "      <td>0.345760</td>\n",
       "      <td>0.271184</td>\n",
       "      <td>0.241745</td>\n",
       "      <td>0.250209</td>\n",
       "      <td>0.148145</td>\n",
       "      <td>0.121243</td>\n",
       "      <td>0.096252</td>\n",
       "      <td>...</td>\n",
       "      <td>0.135756</td>\n",
       "      <td>0.107810</td>\n",
       "      <td>0.123279</td>\n",
       "      <td>0.110698</td>\n",
       "      <td>0.340696</td>\n",
       "      <td>0.280284</td>\n",
       "      <td>0.259725</td>\n",
       "      <td>0.231905</td>\n",
       "      <td>0.201359</td>\n",
       "      <td>0.274945</td>\n",
       "    </tr>\n",
       "    <tr>\n",
       "      <th>3</th>\n",
       "      <td>0.952688</td>\n",
       "      <td>0.958418</td>\n",
       "      <td>0.955427</td>\n",
       "      <td>0.957935</td>\n",
       "      <td>0.952604</td>\n",
       "      <td>0.950954</td>\n",
       "      <td>0.952240</td>\n",
       "      <td>0.985884</td>\n",
       "      <td>0.983930</td>\n",
       "      <td>0.979312</td>\n",
       "      <td>...</td>\n",
       "      <td>0.988272</td>\n",
       "      <td>0.970600</td>\n",
       "      <td>0.982172</td>\n",
       "      <td>0.962549</td>\n",
       "      <td>0.967486</td>\n",
       "      <td>0.963505</td>\n",
       "      <td>0.962823</td>\n",
       "      <td>0.959940</td>\n",
       "      <td>0.975169</td>\n",
       "      <td>0.967548</td>\n",
       "    </tr>\n",
       "    <tr>\n",
       "      <th>4</th>\n",
       "      <td>0.134081</td>\n",
       "      <td>0.114338</td>\n",
       "      <td>0.118900</td>\n",
       "      <td>0.110785</td>\n",
       "      <td>0.107781</td>\n",
       "      <td>0.113644</td>\n",
       "      <td>0.134351</td>\n",
       "      <td>0.132335</td>\n",
       "      <td>0.085233</td>\n",
       "      <td>0.082590</td>\n",
       "      <td>...</td>\n",
       "      <td>0.095960</td>\n",
       "      <td>0.078978</td>\n",
       "      <td>0.131572</td>\n",
       "      <td>0.135218</td>\n",
       "      <td>0.062901</td>\n",
       "      <td>0.064365</td>\n",
       "      <td>0.080142</td>\n",
       "      <td>0.077906</td>\n",
       "      <td>0.191981</td>\n",
       "      <td>0.066130</td>\n",
       "    </tr>\n",
       "  </tbody>\n",
       "</table>\n",
       "<p>5 rows × 27 columns</p>\n",
       "</div>"
      ],
      "text/plain": [
       "     lgb_bfs  lgb_bfs_f   lgb_sfs  lgb_sfs2  lgb_sfs_a  lgb_sfs_a2  lgb_sfs_f  \\\n",
       "id                                                                              \n",
       "0   0.963096   0.960541  0.957347  0.961141   0.966031    0.963060   0.959939   \n",
       "1   0.959187   0.958526  0.957021  0.958315   0.960232    0.959045   0.952884   \n",
       "2   0.281292   0.188287  0.297268  0.345760   0.271184    0.241745   0.250209   \n",
       "3   0.952688   0.958418  0.955427  0.957935   0.952604    0.950954   0.952240   \n",
       "4   0.134081   0.114338  0.118900  0.110785   0.107781    0.113644   0.134351   \n",
       "\n",
       "      lr_bfs  lr_bfs_a  lr_bfs_f  ...  lr_sfs_f2  lsvc_bfs_f  lsvc_sfs_f  \\\n",
       "id                                ...                                      \n",
       "0   0.968675  0.960399  0.962606  ...   0.970137    0.947012    0.954585   \n",
       "1   0.986460  0.979461  0.981487  ...   0.984648    0.964604    0.980839   \n",
       "2   0.148145  0.121243  0.096252  ...   0.135756    0.107810    0.123279   \n",
       "3   0.985884  0.983930  0.979312  ...   0.988272    0.970600    0.982172   \n",
       "4   0.132335  0.085233  0.082590  ...   0.095960    0.078978    0.131572   \n",
       "\n",
       "    p2svc_sfs_f   xgb_bfs  xgb_bfs_f   xgb_sfs  xgb_sfs2  xgb_sfs_a  xgb_sfs_f  \n",
       "id                                                                              \n",
       "0      0.938617  0.964936   0.959594  0.961516  0.964605   0.967816   0.961254  \n",
       "1      0.961252  0.968355   0.960039  0.966392  0.962522   0.975247   0.970552  \n",
       "2      0.110698  0.340696   0.280284  0.259725  0.231905   0.201359   0.274945  \n",
       "3      0.962549  0.967486   0.963505  0.962823  0.959940   0.975169   0.967548  \n",
       "4      0.135218  0.062901   0.064365  0.080142  0.077906   0.191981   0.066130  \n",
       "\n",
       "[5 rows x 27 columns]"
      ]
     },
     "execution_count": 124,
     "metadata": {},
     "output_type": "execute_result"
    }
   ],
   "source": [
    "df_stk = sc.read_prds(sc.get_cv_list(), s_target.index)\n",
    "df_stk.head()"
   ]
  },
  {
   "cell_type": "code",
   "execution_count": 125,
   "id": "16f94e26-2bcc-4c7a-980c-e9f58404a0e4",
   "metadata": {},
   "outputs": [
    {
     "data": {
      "text/plain": [
       "0.8999618406285073"
      ]
     },
     "execution_count": 125,
     "metadata": {},
     "output_type": "execute_result"
    }
   ],
   "source": [
    "roc_auc_score(\n",
    "    s_target, df_stk.mean(axis=1)\n",
    ")"
   ]
  },
  {
   "cell_type": "code",
   "execution_count": 126,
   "id": "3a4ffb59-b8be-48cb-a1f4-efbeb88f337b",
   "metadata": {},
   "outputs": [
    {
     "data": {
      "text/plain": [
       "(0.9013524130190798, 0.012336229931549527)"
      ]
     },
     "execution_count": 126,
     "metadata": {},
     "output_type": "execute_result"
    }
   ],
   "source": [
    "from sklearn.model_selection import cross_validate\n",
    "cv_result = cross_validate(\n",
    "    LogisticRegression(C=0.1), df_stk, s_target, scoring = 'roc_auc', cv = skf\n",
    ")\n",
    "cv_result['test_score'].mean(), cv_result['test_score'].std()"
   ]
  },
  {
   "cell_type": "code",
   "execution_count": 127,
   "id": "f377999d-2883-4afd-b0e3-047670fc88e9",
   "metadata": {},
   "outputs": [],
   "source": [
    "clf_lr = LogisticRegression(C=0.1).fit(df_stk, s_target)"
   ]
  },
  {
   "cell_type": "code",
   "execution_count": 128,
   "id": "bc504a1c-2a9b-4202-8834-9ecd48581d60",
   "metadata": {},
   "outputs": [
    {
     "data": {
      "text/plain": [
       "xgb_sfs_a      0.344361\n",
       "xgb_sfs_f      0.340658\n",
       "lr_sfs3        0.317614\n",
       "lr_sfs2        0.281497\n",
       "lgb_sfs        0.273732\n",
       "xgb_sfs2       0.255695\n",
       "xgb_bfs_f      0.245898\n",
       "lgb_bfs        0.239870\n",
       "lr_sfs         0.238800\n",
       "lr_sfs_a3      0.238518\n",
       "lr_sfs_f       0.234079\n",
       "lgb_sfs2       0.233644\n",
       "lgb_bfs_f      0.233532\n",
       "lgb_sfs_f      0.228026\n",
       "lr_sfs_a2      0.226884\n",
       "xgb_sfs        0.225739\n",
       "lgb_sfs_a      0.222320\n",
       "lr_bfs         0.210029\n",
       "lr_bfs_f       0.205904\n",
       "xgb_bfs        0.182251\n",
       "lgb_sfs_a2     0.166265\n",
       "lsvc_sfs_f     0.165908\n",
       "lr_sfs_f2      0.163403\n",
       "lr_sfs_a       0.157520\n",
       "p2svc_sfs_f    0.153823\n",
       "lr_bfs_a       0.120682\n",
       "lsvc_bfs_f     0.084123\n",
       "dtype: float64"
      ]
     },
     "execution_count": 128,
     "metadata": {},
     "output_type": "execute_result"
    }
   ],
   "source": [
    "s_coef = pd.Series(\n",
    "    clf_lr.coef_[0], index = df_stk.columns\n",
    ")\n",
    "s_coef.sort_values(ascending = False)"
   ]
  },
  {
   "cell_type": "code",
   "execution_count": 129,
   "id": "cb1b7cea-6523-4f3b-b6af-0e741321b713",
   "metadata": {},
   "outputs": [
    {
     "data": {
      "text/plain": [
       "0.8999618406285073"
      ]
     },
     "execution_count": 129,
     "metadata": {},
     "output_type": "execute_result"
    }
   ],
   "source": [
    "roc_auc_score(\n",
    "    s_target, df_stk[s_coef.loc[s_coef > 0].index.values].mean(axis=1)\n",
    ")"
   ]
  },
  {
   "cell_type": "code",
   "execution_count": 130,
   "id": "f98ab3d5-d3ee-4d98-836e-457c6cd6f57d",
   "metadata": {},
   "outputs": [
    {
     "data": {
      "text/plain": [
       "(0.9013524130190798, 0.012336229931549527)"
      ]
     },
     "execution_count": 130,
     "metadata": {},
     "output_type": "execute_result"
    }
   ],
   "source": [
    "cv_result = cross_validate(\n",
    "    LogisticRegression(C=0.1), df_stk[s_coef.loc[s_coef > 0].index.values], s_target, scoring = 'roc_auc', cv = skf\n",
    ")\n",
    "cv_result['test_score'].mean(), cv_result['test_score'].std()"
   ]
  },
  {
   "cell_type": "code",
   "execution_count": 142,
   "id": "09a4540a-b9e5-4c2c-a8a1-8cf75e25f96b",
   "metadata": {},
   "outputs": [
    {
     "data": {
      "text/plain": [
       "(0.9011560044893379, 0.011940544176577033)"
      ]
     },
     "execution_count": 142,
     "metadata": {},
     "output_type": "execute_result"
    }
   ],
   "source": [
    "cv_result = cross_validate(\n",
    "    LinearSVC(C=0.01, dual = 'auto'), df_stk, s_target, scoring = 'roc_auc', cv = skf\n",
    ")\n",
    "cv_result['test_score'].mean(), cv_result['test_score'].std()"
   ]
  },
  {
   "cell_type": "code",
   "execution_count": null,
   "id": "dd1a889b-ffde-4506-b007-85f2bf65c06d",
   "metadata": {},
   "outputs": [],
   "source": []
  }
 ],
 "metadata": {
  "kernelspec": {
   "display_name": "Python 3 (ipykernel)",
   "language": "python",
   "name": "python3"
  },
  "language_info": {
   "codemirror_mode": {
    "name": "ipython",
    "version": 3
   },
   "file_extension": ".py",
   "mimetype": "text/x-python",
   "name": "python",
   "nbconvert_exporter": "python",
   "pygments_lexer": "ipython3",
   "version": "3.12.3"
  }
 },
 "nbformat": 4,
 "nbformat_minor": 5
}
