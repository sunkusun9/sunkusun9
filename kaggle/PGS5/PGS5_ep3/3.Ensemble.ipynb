{
 "cells": [
  {
   "cell_type": "code",
   "execution_count": 1,
   "id": "94507e5a-902e-4465-ba97-29ef2ae5ad7d",
   "metadata": {},
   "outputs": [],
   "source": [
    "import pandas as pd\n",
    "import numpy as np\n",
    "import sgml, sgutil\n",
    "\n",
    "sc = sgutil.SGCache('img', 'result')"
   ]
  },
  {
   "cell_type": "code",
   "execution_count": 26,
   "id": "6e3d632d-15d4-441c-bd1d-09cf5af8d453",
   "metadata": {},
   "outputs": [],
   "source": [
    "from sklearn.metrics import roc_auc_score\n",
    "from sklearn.linear_model import LogisticRegression\n",
    "from sklearn.svm import LinearSVC, SVC\n",
    "from sklearn.model_selection import StratifiedKFold, StratifiedShuffleSplit\n",
    "\n",
    "def get_validation_splitter(validation_fraction):\n",
    "    return lambda x: train_test_split(x, test_size = validation_fraction)\n",
    "\n",
    "target = 'rainfall'\n",
    "s_target = sc.read_result('target')\n",
    "config = {\n",
    "    'predict_func': lambda m, df, X: pd.Series(m.predict_proba(df[X])[:, 1], index = df.index),\n",
    "    'score_func': lambda df, prds: roc_auc_score(df[target], prds),\n",
    "    'validation_splitter': get_validation_splitter,\n",
    "    'progress_callback': sgml.ProgressCallBack(), \n",
    "    'return_train_scores': True,\n",
    "    'y': target,\n",
    "}\n",
    "\n",
    "lr_adapter = sgml.SklearnAdapter(LogisticRegression)\n",
    "svc_adapter = sgml.SklearnAdapter(SVC)\n",
    "\n",
    "skf = StratifiedKFold(5, random_state = 123, shuffle = True)\n",
    "ss = StratifiedShuffleSplit(1, random_state = 123)"
   ]
  },
  {
   "cell_type": "code",
   "execution_count": 5,
   "id": "1358f290-858f-4c78-933f-2f20f9054542",
   "metadata": {},
   "outputs": [
    {
     "data": {
      "text/html": [
       "<div>\n",
       "<style scoped>\n",
       "    .dataframe tbody tr th:only-of-type {\n",
       "        vertical-align: middle;\n",
       "    }\n",
       "\n",
       "    .dataframe tbody tr th {\n",
       "        vertical-align: top;\n",
       "    }\n",
       "\n",
       "    .dataframe thead th {\n",
       "        text-align: right;\n",
       "    }\n",
       "</style>\n",
       "<table border=\"1\" class=\"dataframe\">\n",
       "  <thead>\n",
       "    <tr style=\"text-align: right;\">\n",
       "      <th></th>\n",
       "      <th>lgb_sfs</th>\n",
       "      <th>lgb_sfs2</th>\n",
       "      <th>lgb_sfs_a</th>\n",
       "      <th>lgb_sfs_a2</th>\n",
       "      <th>lr_bfs</th>\n",
       "      <th>lr_bfs_a</th>\n",
       "      <th>lr_sfs</th>\n",
       "      <th>lr_sfs2</th>\n",
       "      <th>lr_sfs3</th>\n",
       "      <th>lr_sfs_2</th>\n",
       "      <th>lr_sfs_3</th>\n",
       "      <th>lr_sfs_a</th>\n",
       "      <th>lr_sfs_a2</th>\n",
       "      <th>lr_sfs_a3</th>\n",
       "    </tr>\n",
       "    <tr>\n",
       "      <th>id</th>\n",
       "      <th></th>\n",
       "      <th></th>\n",
       "      <th></th>\n",
       "      <th></th>\n",
       "      <th></th>\n",
       "      <th></th>\n",
       "      <th></th>\n",
       "      <th></th>\n",
       "      <th></th>\n",
       "      <th></th>\n",
       "      <th></th>\n",
       "      <th></th>\n",
       "      <th></th>\n",
       "      <th></th>\n",
       "    </tr>\n",
       "  </thead>\n",
       "  <tbody>\n",
       "    <tr>\n",
       "      <th>0</th>\n",
       "      <td>0.957987</td>\n",
       "      <td>0.960491</td>\n",
       "      <td>0.965182</td>\n",
       "      <td>0.964534</td>\n",
       "      <td>0.968675</td>\n",
       "      <td>0.960399</td>\n",
       "      <td>0.971519</td>\n",
       "      <td>0.973572</td>\n",
       "      <td>0.973572</td>\n",
       "      <td>0.973319</td>\n",
       "      <td>0.973572</td>\n",
       "      <td>0.963775</td>\n",
       "      <td>0.963454</td>\n",
       "      <td>0.967448</td>\n",
       "    </tr>\n",
       "    <tr>\n",
       "      <th>1</th>\n",
       "      <td>0.958735</td>\n",
       "      <td>0.957716</td>\n",
       "      <td>0.957015</td>\n",
       "      <td>0.959917</td>\n",
       "      <td>0.986460</td>\n",
       "      <td>0.979461</td>\n",
       "      <td>0.986961</td>\n",
       "      <td>0.984770</td>\n",
       "      <td>0.984770</td>\n",
       "      <td>0.987867</td>\n",
       "      <td>0.984770</td>\n",
       "      <td>0.981633</td>\n",
       "      <td>0.981487</td>\n",
       "      <td>0.984377</td>\n",
       "    </tr>\n",
       "    <tr>\n",
       "      <th>2</th>\n",
       "      <td>0.324463</td>\n",
       "      <td>0.295050</td>\n",
       "      <td>0.213575</td>\n",
       "      <td>0.215169</td>\n",
       "      <td>0.148145</td>\n",
       "      <td>0.121243</td>\n",
       "      <td>0.134054</td>\n",
       "      <td>0.154791</td>\n",
       "      <td>0.154791</td>\n",
       "      <td>0.142596</td>\n",
       "      <td>0.154791</td>\n",
       "      <td>0.114761</td>\n",
       "      <td>0.119809</td>\n",
       "      <td>0.151486</td>\n",
       "    </tr>\n",
       "    <tr>\n",
       "      <th>3</th>\n",
       "      <td>0.956526</td>\n",
       "      <td>0.954448</td>\n",
       "      <td>0.950130</td>\n",
       "      <td>0.956735</td>\n",
       "      <td>0.985884</td>\n",
       "      <td>0.983930</td>\n",
       "      <td>0.990519</td>\n",
       "      <td>0.993977</td>\n",
       "      <td>0.993977</td>\n",
       "      <td>0.991563</td>\n",
       "      <td>0.993977</td>\n",
       "      <td>0.986827</td>\n",
       "      <td>0.986581</td>\n",
       "      <td>0.987076</td>\n",
       "    </tr>\n",
       "    <tr>\n",
       "      <th>4</th>\n",
       "      <td>0.116064</td>\n",
       "      <td>0.111079</td>\n",
       "      <td>0.098587</td>\n",
       "      <td>0.117240</td>\n",
       "      <td>0.132335</td>\n",
       "      <td>0.085233</td>\n",
       "      <td>0.151153</td>\n",
       "      <td>0.218779</td>\n",
       "      <td>0.218779</td>\n",
       "      <td>0.164982</td>\n",
       "      <td>0.218779</td>\n",
       "      <td>0.100179</td>\n",
       "      <td>0.106565</td>\n",
       "      <td>0.113072</td>\n",
       "    </tr>\n",
       "  </tbody>\n",
       "</table>\n",
       "</div>"
      ],
      "text/plain": [
       "     lgb_sfs  lgb_sfs2  lgb_sfs_a  lgb_sfs_a2    lr_bfs  lr_bfs_a    lr_sfs  \\\n",
       "id                                                                            \n",
       "0   0.957987  0.960491   0.965182    0.964534  0.968675  0.960399  0.971519   \n",
       "1   0.958735  0.957716   0.957015    0.959917  0.986460  0.979461  0.986961   \n",
       "2   0.324463  0.295050   0.213575    0.215169  0.148145  0.121243  0.134054   \n",
       "3   0.956526  0.954448   0.950130    0.956735  0.985884  0.983930  0.990519   \n",
       "4   0.116064  0.111079   0.098587    0.117240  0.132335  0.085233  0.151153   \n",
       "\n",
       "     lr_sfs2   lr_sfs3  lr_sfs_2  lr_sfs_3  lr_sfs_a  lr_sfs_a2  lr_sfs_a3  \n",
       "id                                                                          \n",
       "0   0.973572  0.973572  0.973319  0.973572  0.963775   0.963454   0.967448  \n",
       "1   0.984770  0.984770  0.987867  0.984770  0.981633   0.981487   0.984377  \n",
       "2   0.154791  0.154791  0.142596  0.154791  0.114761   0.119809   0.151486  \n",
       "3   0.993977  0.993977  0.991563  0.993977  0.986827   0.986581   0.987076  \n",
       "4   0.218779  0.218779  0.164982  0.218779  0.100179   0.106565   0.113072  "
      ]
     },
     "execution_count": 5,
     "metadata": {},
     "output_type": "execute_result"
    }
   ],
   "source": [
    "model_results = [\n",
    "    sc.read_prd(i, s_target.index) for i in sc.get_cv_list()\n",
    "]\n",
    "df_stk = pd.concat(model_results, axis=1)\n",
    "df_stk.head()"
   ]
  },
  {
   "cell_type": "code",
   "execution_count": 6,
   "id": "16f94e26-2bcc-4c7a-980c-e9f58404a0e4",
   "metadata": {},
   "outputs": [
    {
     "data": {
      "text/plain": [
       "0.899395061728395"
      ]
     },
     "execution_count": 6,
     "metadata": {},
     "output_type": "execute_result"
    }
   ],
   "source": [
    "roc_auc_score(\n",
    "    s_target, df_stk.mean(axis=1)\n",
    ")"
   ]
  },
  {
   "cell_type": "code",
   "execution_count": 18,
   "id": "3a4ffb59-b8be-48cb-a1f4-efbeb88f337b",
   "metadata": {},
   "outputs": [
    {
     "data": {
      "text/plain": [
       "(0.9002861952861952, 0.012099543649190754)"
      ]
     },
     "execution_count": 18,
     "metadata": {},
     "output_type": "execute_result"
    }
   ],
   "source": [
    "from sklearn.model_selection import cross_validate\n",
    "cv_result = cross_validate(\n",
    "    LogisticRegression(), df_stk, s_target, scoring = 'roc_auc', cv = skf\n",
    ")\n",
    "cv_result['test_score'].mean(), cv_result['test_score'].std()"
   ]
  },
  {
   "cell_type": "code",
   "execution_count": 40,
   "id": "f377999d-2883-4afd-b0e3-047670fc88e9",
   "metadata": {},
   "outputs": [],
   "source": [
    "clf_lr = LogisticRegression().fit(df_stk, s_target)"
   ]
  },
  {
   "cell_type": "code",
   "execution_count": 45,
   "id": "bc504a1c-2a9b-4202-8834-9ecd48581d60",
   "metadata": {},
   "outputs": [
    {
     "data": {
      "text/plain": [
       "lgb_sfs       0.852705\n",
       "lgb_sfs2      1.150141\n",
       "lgb_sfs_a     0.059445\n",
       "lgb_sfs_a2    0.755379\n",
       "lr_bfs       -0.009457\n",
       "lr_bfs_a     -0.371034\n",
       "lr_sfs        0.055362\n",
       "lr_sfs2       0.718166\n",
       "lr_sfs3       0.718166\n",
       "lr_sfs_2      0.450560\n",
       "lr_sfs_3      0.718166\n",
       "lr_sfs_a     -0.150857\n",
       "lr_sfs_a2     0.501039\n",
       "lr_sfs_a3     0.644671\n",
       "dtype: float64"
      ]
     },
     "execution_count": 45,
     "metadata": {},
     "output_type": "execute_result"
    }
   ],
   "source": [
    "s_coef = pd.Series(\n",
    "    clf_lr.coef_[0], index = df_stk.columns\n",
    ")\n",
    "s_coef"
   ]
  },
  {
   "cell_type": "code",
   "execution_count": 47,
   "id": "f98ab3d5-d3ee-4d98-836e-457c6cd6f57d",
   "metadata": {},
   "outputs": [
    {
     "data": {
      "text/plain": [
       "(0.9004489337822672, 0.011826351358647003)"
      ]
     },
     "execution_count": 47,
     "metadata": {},
     "output_type": "execute_result"
    }
   ],
   "source": [
    "cv_result = cross_validate(\n",
    "    LogisticRegression(), df_stk[s_coef.loc[s_coef > 0].index.values], s_target, scoring = 'roc_auc', cv = skf\n",
    ")\n",
    "cv_result['test_score'].mean(), cv_result['test_score'].std()"
   ]
  },
  {
   "cell_type": "code",
   "execution_count": 38,
   "id": "09a4540a-b9e5-4c2c-a8a1-8cf75e25f96b",
   "metadata": {},
   "outputs": [
    {
     "data": {
      "text/plain": [
       "(0.9015095398428732, 0.012057737949290713)"
      ]
     },
     "execution_count": 38,
     "metadata": {},
     "output_type": "execute_result"
    }
   ],
   "source": [
    "cv_result = cross_validate(\n",
    "    LinearSVC(C=10), df_stk, s_target, scoring = 'roc_auc', cv = skf\n",
    ")\n",
    "cv_result['test_score'].mean(), cv_result['test_score'].std()"
   ]
  },
  {
   "cell_type": "code",
   "execution_count": 48,
   "id": "de2bd8e4-ea51-4650-bf33-377c4f9ccad5",
   "metadata": {},
   "outputs": [
    {
     "data": {
      "text/plain": [
       "(0.9012121212121211, 0.011656976501973178)"
      ]
     },
     "execution_count": 48,
     "metadata": {},
     "output_type": "execute_result"
    }
   ],
   "source": [
    "cv_result = cross_validate(\n",
    "    LinearSVC(C=10),  df_stk[s_coef.loc[s_coef > 0].index.values], s_target, scoring = 'roc_auc', cv = skf\n",
    ")\n",
    "cv_result['test_score'].mean(), cv_result['test_score'].std()"
   ]
  },
  {
   "cell_type": "code",
   "execution_count": null,
   "id": "a35c6695-eec5-49f9-bbaf-853c7ed987fe",
   "metadata": {},
   "outputs": [],
   "source": []
  }
 ],
 "metadata": {
  "kernelspec": {
   "display_name": "Python 3 (ipykernel)",
   "language": "python",
   "name": "python3"
  },
  "language_info": {
   "codemirror_mode": {
    "name": "ipython",
    "version": 3
   },
   "file_extension": ".py",
   "mimetype": "text/x-python",
   "name": "python",
   "nbconvert_exporter": "python",
   "pygments_lexer": "ipython3",
   "version": "3.12.6"
  }
 },
 "nbformat": 4,
 "nbformat_minor": 5
}
