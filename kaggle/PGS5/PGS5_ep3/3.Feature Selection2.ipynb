{
 "cells": [
  {
   "cell_type": "code",
   "execution_count": 2,
   "id": "90532410-face-448b-a314-a0fda946a7ec",
   "metadata": {},
   "outputs": [],
   "source": [
    "import pandas as pd\n",
    "import numpy as np\n",
    "import polars as pl\n",
    "import sgml, sgutil, sgpp\n",
    "import joblib\n",
    "from sklearn.feature_selection import SequentialFeatureSelector\n",
    "\n",
    "from sklearn.pipeline import make_pipeline\n",
    "sc = sgutil.SGCache('img', 'result', 'model')\n",
    "data_processor = joblib.load('model/data_processor.joblib')\n",
    "data_processor_org = joblib.load('model/data_processor_org.joblib')\n",
    "df_train = data_processor.transform(['data/train.csv'])\n",
    "df_org = data_processor_org.transform(['data/Rainfall.csv'])\n",
    "target = 'rainfall'"
   ]
  },
  {
   "cell_type": "code",
   "execution_count": 3,
   "id": "68dc3777-db35-4ef7-9414-51dd1cc521e3",
   "metadata": {},
   "outputs": [],
   "source": [
    "X_all = [i for i in df_train.columns if i not in [target, 'day']]\n",
    "selected = [\n",
    "    np.array(X_all)[sc.read_result(i).get_support()].tolist()\n",
    "    for i in ['ff_sfs_lgb2', 'bf_sfs_lgb', 'ff_sfs_xgb2', 'bf_sfs_xgb']\n",
    "] + [\n",
    "    list(sc.read_result(i).k_feature_names_)\n",
    "    for i in ['ff_sfs_lgb_f', 'bf_sfs_lgb_f', 'ff_sfs_xgb_f', 'bf_sfs_xgb_f']\n",
    "]"
   ]
  },
  {
   "cell_type": "code",
   "execution_count": 4,
   "id": "6546a489-5524-4234-b120-313a4fa8884d",
   "metadata": {},
   "outputs": [
    {
     "data": {
      "text/plain": [
       "58"
      ]
     },
     "execution_count": 4,
     "metadata": {},
     "output_type": "execute_result"
    }
   ],
   "source": [
    "s_val = pd.Series(selected).explode().value_counts()\n",
    "len(s_val)"
   ]
  },
  {
   "cell_type": "code",
   "execution_count": 5,
   "id": "5e24adc6-d10d-4c96-b7bd-6ece08717a9d",
   "metadata": {},
   "outputs": [],
   "source": [
    "import lightgbm as lgb\n",
    "import xgboost as xgb\n",
    "import catboost as cb\n",
    "from sklearn.metrics import roc_auc_score\n",
    "from sklearn.linear_model import LogisticRegression\n",
    "from sklearn.svm import SVC\n",
    "from sklearn.neighbors import KNeighborsClassifier\n",
    "from sklearn.model_selection import StratifiedKFold, StratifiedShuffleSplit\n",
    "\n",
    "def get_validation_splitter(validation_fraction):\n",
    "    return lambda x: train_test_split(x, test_size = validation_fraction)\n",
    "\n",
    "def include_org(df, include_org = False):\n",
    "    return pd.concat([df, df_org]) if include_org else df\n",
    "\n",
    "config = {\n",
    "    'predict_func': lambda m, df, X: pd.Series(m.predict_proba(df[X])[:, 1], index = df.index),\n",
    "    'score_func': lambda df, prds: roc_auc_score(df[target], prds),\n",
    "    'validation_splitter': get_validation_splitter,\n",
    "    'progress_callback': sgml.ProgressCallBack(), \n",
    "    'return_train_scores': True,\n",
    "    'train_data_proc': include_org,\n",
    "    'y': target,\n",
    "}\n",
    "\n",
    "lr_adapter = sgml.SklearnAdapter(LogisticRegression)\n",
    "svc_adapter = sgml.SklearnAdapter(SVC)\n",
    "knn_adapter = sgml.SklearnAdapter(KNeighborsClassifier)\n",
    "lgb_adapter = sgml.LGBMAdapter(lgb.LGBMClassifier)\n",
    "xgb_adapter = sgml.XGBAdapter(xgb.XGBClassifier)\n",
    "cb_adapter = sgml.CBAdapter(cb.CatBoostClassifier)\n",
    "\n",
    "skf = StratifiedKFold(5, random_state = 123, shuffle = True)\n",
    "ss = StratifiedShuffleSplit(1, random_state = 123)"
   ]
  },
  {
   "cell_type": "code",
   "execution_count": 6,
   "id": "37fa8372-380c-4e8f-b7ec-243181979ba5",
   "metadata": {},
   "outputs": [],
   "source": [
    "import mlxtend.feature_selection as mfs"
   ]
  },
  {
   "cell_type": "code",
   "execution_count": 7,
   "id": "dbcc1b0a-bb35-43be-816d-abfa4748c7e4",
   "metadata": {},
   "outputs": [
    {
     "data": {
      "text/plain": [
       "['sin_ed',\n",
       " 'pressure',\n",
       " 'maxtemp',\n",
       " 'mintemp',\n",
       " 'sunshine',\n",
       " 'windspeed',\n",
       " 'chp',\n",
       " 'dewpoint_2',\n",
       " 'chp_3',\n",
       " 'cos_wd_1',\n",
       " 'cos_wd_4',\n",
       " 'sin_wd_2',\n",
       " 'dewpoint_ma24',\n",
       " 'humidity_ma24']"
      ]
     },
     "execution_count": 7,
     "metadata": {},
     "output_type": "execute_result"
    }
   ],
   "source": [
    "hparams = {\n",
    "    'model_params': {'num_leaves': 3, 'n_estimators': 250, 'colsample_bytree': 0.75, 'learning_rate': 0.03},\n",
    "    'X_num': X_all\n",
    "}\n",
    "sfs = sc.cache_result(\n",
    "    'ff_sfsf2_lgb',\n",
    "    lambda : mfs.SequentialFeatureSelector(\n",
    "        estimator = lgb.LGBMClassifier(verbose = 0, **hparams['model_params']), k_features = 'best', forward = True, floating = True, scoring = 'roc_auc', cv = skf\n",
    "    ).fit(df_train[X_all], df_train[target])\n",
    "\n",
    ")\n",
    "list(sfs.k_feature_names_)"
   ]
  },
  {
   "cell_type": "code",
   "execution_count": 8,
   "id": "2da3dfca-f366-4900-97c3-41941cad583a",
   "metadata": {},
   "outputs": [
    {
     "data": {
      "application/vnd.jupyter.widget-view+json": {
       "model_id": "",
       "version_major": 2,
       "version_minor": 0
      },
      "text/plain": [
       "Fold:   0%|          | 0/5 [00:00<?, ?it/s]"
      ]
     },
     "metadata": {},
     "output_type": "display_data"
    },
    {
     "data": {
      "text/plain": [
       "(0.8991638608305275, 0.9204527918069585)"
      ]
     },
     "execution_count": 8,
     "metadata": {},
     "output_type": "execute_result"
    }
   ],
   "source": [
    "hparams = {\n",
    "    'model_params' : {'num_leaves': 3, 'n_estimators': 250, 'colsample_bytree': 0.75, 'learning_rate': 0.03},\n",
    "    'X_num': list(sfs.k_feature_names_)\n",
    "}\n",
    "result = sgml.cv(df_train, skf, hparams, config, lgb_adapter)\n",
    "np.mean(result['valid_scores']), np.mean(result['train_scores'])"
   ]
  },
  {
   "cell_type": "code",
   "execution_count": 9,
   "id": "bf32754b-03f5-4794-9c00-cc3e9e33f021",
   "metadata": {},
   "outputs": [],
   "source": [
    "sc.cv_result('lgb2_sfs', hparams, lgb_adapter, result['valid_prd'])"
   ]
  },
  {
   "cell_type": "code",
   "execution_count": 10,
   "id": "fa7322ca-5766-4c89-ac8e-0e7bc1356b7f",
   "metadata": {},
   "outputs": [
    {
     "data": {
      "text/plain": [
       "['sin_ed',\n",
       " 'pressure',\n",
       " 'maxtemp',\n",
       " 'sunshine',\n",
       " 'windspeed',\n",
       " 'chp',\n",
       " 'cloud_5',\n",
       " 'dewpoint_2',\n",
       " 'dewpoint_5',\n",
       " 'chp_3',\n",
       " 'chp_6',\n",
       " 'cos_wd_1',\n",
       " 'cos_wd_4',\n",
       " 'sin_wd_2',\n",
       " 'dewpoint_ma24',\n",
       " 'humidity_ma24']"
      ]
     },
     "execution_count": 10,
     "metadata": {},
     "output_type": "execute_result"
    }
   ],
   "source": [
    "hparams = {\n",
    "    'model_params': {'num_leaves': 3, 'n_estimators': 250, 'colsample_bytree': 0.75, 'learning_rate': 0.03},\n",
    "    'X_num': X_all\n",
    "}\n",
    "sfs = sc.cache_result(\n",
    "    'bf_sfsf2_lgb',\n",
    "    lambda : mfs.SequentialFeatureSelector(\n",
    "        estimator = lgb.LGBMClassifier(verbose = 0, **hparams['model_params']), k_features = 'best', forward = False, floating = True, scoring = 'roc_auc', cv = skf\n",
    "    ).fit(df_train[X_all], df_train[target])\n",
    "\n",
    ")\n",
    "list(sfs.k_feature_names_)"
   ]
  },
  {
   "cell_type": "code",
   "execution_count": 11,
   "id": "4756cd65-f10b-446e-b234-e6074dd8240d",
   "metadata": {},
   "outputs": [
    {
     "data": {
      "application/vnd.jupyter.widget-view+json": {
       "model_id": "",
       "version_major": 2,
       "version_minor": 0
      },
      "text/plain": [
       "Fold:   0%|          | 0/5 [00:00<?, ?it/s]"
      ]
     },
     "metadata": {},
     "output_type": "display_data"
    },
    {
     "data": {
      "text/plain": [
       "(0.8990375982042649, 0.9203475729517396)"
      ]
     },
     "execution_count": 11,
     "metadata": {},
     "output_type": "execute_result"
    }
   ],
   "source": [
    "hparams = {\n",
    "    'model_params' : {'num_leaves': 3, 'n_estimators': 250, 'colsample_bytree': 0.75, 'learning_rate': 0.03},\n",
    "    'X_num': list(sfs.k_feature_names_)\n",
    "}\n",
    "result = sgml.cv(df_train, skf, hparams, config, lgb_adapter)\n",
    "np.mean(result['valid_scores']), np.mean(result['train_scores'])"
   ]
  },
  {
   "cell_type": "code",
   "execution_count": 12,
   "id": "0e1dc03b-2647-4133-a4ee-47e485ec67dc",
   "metadata": {},
   "outputs": [],
   "source": [
    "sc.cv_result('lgb2_bfs', hparams, lgb_adapter, result['valid_prd'])"
   ]
  },
  {
   "cell_type": "code",
   "execution_count": 13,
   "id": "a71ab7b8-754e-48ba-a95a-bc3a89ef20bf",
   "metadata": {},
   "outputs": [
    {
     "data": {
      "text/plain": [
       "['sin_ed',\n",
       " 'pressure',\n",
       " 'temparature',\n",
       " 'mintemp',\n",
       " 'cloud',\n",
       " 'sunshine',\n",
       " 'windspeed',\n",
       " 'sin_wd',\n",
       " 'chp',\n",
       " 'sunshine_5',\n",
       " 'cloud_3',\n",
       " 'cloud_5',\n",
       " 'cloud_6',\n",
       " 'dewpoint_1',\n",
       " 'dewpoint_2',\n",
       " 'dewpoint_5',\n",
       " 'chp_2',\n",
       " 'chp_3',\n",
       " 'cos_wd_1',\n",
       " 'cos_wd_2',\n",
       " 'cos_wd_4',\n",
       " 'sin_wd_1',\n",
       " 'sin_wd_2',\n",
       " 'sin_wd_6',\n",
       " 'temparature_ma24',\n",
       " 'mintemp_ma24',\n",
       " 'dewpoint_ma24',\n",
       " 'cloud_ma24',\n",
       " 'sunshine_ma24',\n",
       " 'sin_wd_ma24',\n",
       " 'chp_ma24',\n",
       " 'winddirection']"
      ]
     },
     "execution_count": 13,
     "metadata": {},
     "output_type": "execute_result"
    }
   ],
   "source": [
    "hparams = {\n",
    "    'model_params': {'max_depth': 2, 'n_estimators': 150, 'colsample_bytree': 0.5, 'learning_rate': 0.02},\n",
    "    'X_num': X_all\n",
    "}\n",
    "sfs = sc.cache_result(\n",
    "    'ff_sfsf2_xgb',\n",
    "    lambda : mfs.SequentialFeatureSelector(\n",
    "        estimator = xgb.XGBClassifier(**hparams['model_params']), k_features = 'best', forward = True, floating = True, scoring = 'roc_auc', cv = skf\n",
    "    ).fit(df_train[X_all], df_train[target])\n",
    "\n",
    ")\n",
    "list(sfs.k_feature_names_)"
   ]
  },
  {
   "cell_type": "code",
   "execution_count": 14,
   "id": "e5a47fc0-e530-4908-b9db-1feeaf41b05f",
   "metadata": {},
   "outputs": [
    {
     "data": {
      "text/plain": [
       "['sin_ed',\n",
       " 'pressure',\n",
       " 'temparature',\n",
       " 'mintemp',\n",
       " 'cloud',\n",
       " 'sunshine',\n",
       " 'windspeed',\n",
       " 'sin_wd',\n",
       " 'chp',\n",
       " 'sunshine_5',\n",
       " 'cloud_3',\n",
       " 'cloud_5',\n",
       " 'cloud_6',\n",
       " 'dewpoint_1',\n",
       " 'dewpoint_2',\n",
       " 'dewpoint_5',\n",
       " 'chp_2',\n",
       " 'chp_3',\n",
       " 'cos_wd_1',\n",
       " 'cos_wd_2',\n",
       " 'cos_wd_4',\n",
       " 'sin_wd_1',\n",
       " 'sin_wd_2',\n",
       " 'sin_wd_6',\n",
       " 'temparature_ma24',\n",
       " 'mintemp_ma24',\n",
       " 'dewpoint_ma24',\n",
       " 'cloud_ma24',\n",
       " 'sunshine_ma24',\n",
       " 'sin_wd_ma24',\n",
       " 'chp_ma24',\n",
       " 'winddirection']"
      ]
     },
     "execution_count": 14,
     "metadata": {},
     "output_type": "execute_result"
    }
   ],
   "source": [
    "hparams = {\n",
    "    'model_params': {'max_depth': 2, 'n_estimators': 200, 'colsample_bytree': 0.5, 'learning_rate': 0.03},\n",
    "    'X_num': X_all\n",
    "}\n",
    "sfs = sc.cache_result(\n",
    "    'ff_sfsf2_xgb',\n",
    "    lambda : mfs.SequentialFeatureSelector(\n",
    "        estimator = xgb.XGBClassifier(**hparams['model_params']), k_features = 'best', forward = True, floating = True, scoring = 'roc_auc', cv = skf\n",
    "    ).fit(df_train[X_all], df_train[target]), rerun = 0\n",
    ")\n",
    "list(sfs.k_feature_names_)"
   ]
  },
  {
   "cell_type": "code",
   "execution_count": 18,
   "id": "43a9a070-e8c1-4826-a7c1-ea28d1478063",
   "metadata": {},
   "outputs": [
    {
     "data": {
      "application/vnd.jupyter.widget-view+json": {
       "model_id": "",
       "version_major": 2,
       "version_minor": 0
      },
      "text/plain": [
       "Fold:   0%|          | 0/5 [00:00<?, ?it/s]"
      ]
     },
     "metadata": {},
     "output_type": "display_data"
    },
    {
     "data": {
      "text/plain": [
       "(0.8976711560044894, 0.9219355008417509)"
      ]
     },
     "execution_count": 18,
     "metadata": {},
     "output_type": "execute_result"
    }
   ],
   "source": [
    "hparams = {\n",
    "    'model_params' : {'max_depth': 2, 'n_estimators': 200, 'colsample_bytree': 0.5, 'learning_rate': 0.03},\n",
    "    'X_num': ['sin_ed', 'pressure', 'mintemp', 'sunshine', 'windspeed', 'chp', 'sunshine_5', 'cloud_3',\n",
    "              'dewpoint_2', 'chp_2', 'chp_3', 'chp_4', 'chp_6', 'cos_wd_1', 'cos_wd_4', 'dewpoint_ma24', 'humidity_ma24', 'year']\n",
    "}\n",
    "result = sgml.cv(df_train, skf, hparams, config, xgb_adapter)\n",
    "np.mean(result['valid_scores']), np.mean(result['train_scores'])"
   ]
  },
  {
   "cell_type": "code",
   "execution_count": null,
   "id": "c131a49f-008e-44a9-83ce-f71b49f0bacf",
   "metadata": {},
   "outputs": [],
   "source": [
    "sc.cv_result('xgb2_sfs', hparams, xgb_adapter, result['valid_prd'], overwrite = False)"
   ]
  },
  {
   "cell_type": "code",
   "execution_count": null,
   "id": "38867cae-3d9c-43ac-b198-08fe3845a8d0",
   "metadata": {},
   "outputs": [],
   "source": []
  }
 ],
 "metadata": {
  "kernelspec": {
   "display_name": "Python 3 (ipykernel)",
   "language": "python",
   "name": "python3"
  },
  "language_info": {
   "codemirror_mode": {
    "name": "ipython",
    "version": 3
   },
   "file_extension": ".py",
   "mimetype": "text/x-python",
   "name": "python",
   "nbconvert_exporter": "python",
   "pygments_lexer": "ipython3",
   "version": "3.12.6"
  }
 },
 "nbformat": 4,
 "nbformat_minor": 5
}
