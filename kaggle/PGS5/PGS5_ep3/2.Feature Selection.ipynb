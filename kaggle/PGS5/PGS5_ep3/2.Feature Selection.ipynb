{
 "cells": [
  {
   "cell_type": "code",
   "execution_count": 1,
   "id": "80c2ac79-a2c4-430a-83f1-64720cac3f28",
   "metadata": {},
   "outputs": [],
   "source": [
    "import os\n",
    "\n",
    "import pandas as pd\n",
    "import polars as pl\n",
    "import numpy as np\n",
    "import seaborn as sns\n",
    "import sgpp, sgml, sgutil\n",
    "\n",
    "from sklearn.pipeline import make_pipeline\n",
    "from sklearn.preprocessing import StandardScaler, MinMaxScaler"
   ]
  },
  {
   "cell_type": "code",
   "execution_count": 2,
   "id": "5755a8fe-6d48-432c-8cd7-05246ef6190a",
   "metadata": {},
   "outputs": [],
   "source": [
    "expr_dic = {}\n",
    "for i in ['sunshine', 'cloud', 'dewpoint', 'chp', 'cos_wd', 'sin_wd']:\n",
    "    for j in range(1, 7):\n",
    "        expr_dic['{}_{}'.format(i, j)] =  pl.col(i).shift(j).fill_null(strategy = 'backward')\n",
    "for i in ['pressure', 'maxtemp', 'temparature', 'mintemp', 'dewpoint', 'humidity', 'cloud', 'sunshine', 'windspeed', 'cos_wd', 'sin_wd', 'chp']:\n",
    "    expr_dic['{}_ma24'.format(i)] = pl.mean(i).rolling(index_column = 'id', period = '24i', closed = 'left').fill_null(strategy = 'backward')"
   ]
  },
  {
   "cell_type": "code",
   "execution_count": 3,
   "id": "f3b166f1-019b-4065-9ab2-1a023c75a8e7",
   "metadata": {},
   "outputs": [],
   "source": [
    "p1 = make_pipeline(\n",
    "    sgpp.PolarsProcessor(predefined_types = {'id': pl.Int64}),\n",
    "    sgpp.ExprProcessor({\n",
    "        'winddirection': pl.col('winddirection').fill_null(strategy = 'forward'),\n",
    "        'windspeed': pl.col('windspeed').fill_null(strategy = 'forward')\n",
    "    }),\n",
    "    sgpp.ExprProcessor({\n",
    "        'cos_wd': (pl.col('winddirection') / 180 * np.pi).cos() * pl.col('windspeed'),\n",
    "        'sin_wd': (pl.col('winddirection') / 180 * np.pi).sin() * pl.col('windspeed'),\n",
    "        'chp': pl.col('cloud') * pl.col('humidity') / pl.col('pressure'),\n",
    "        'expected_day': (pl.col('id') % 365) + 1,\n",
    "        'sin_ed': ((pl.col('id') % 365) / 365 * np.pi).sin(),\n",
    "        'year': pl.col('id') // 365, \n",
    "    })\n",
    ")\n",
    "df_train = p1.fit_transform(['data/train.csv'])\n",
    "df_test = p1.transform(['data/test.csv'])\n",
    "p2 = make_pipeline(\n",
    "    sgpp.ExprProcessor(expr_dic),\n",
    "    sgpp.PandasCoverter(index_col = 'id')\n",
    ")\n",
    "df_all = p2.fit_transform(\n",
    "    pl.concat([df_train, df_test], how = 'align')\n",
    ")\n",
    "\n",
    "p3 = make_pipeline(\n",
    "    sgpp.ApplyWrapper(\n",
    "        StandardScaler().set_output(transform='pandas'), \n",
    "        ['pressure', 'maxtemp', 'temparature', 'mintemp', 'dewpoint', 'humidity', 'cloud', 'sunshine', 'windspeed'] + ['cos_wd', 'sin_wd', 'chp'] + list(expr_dic.keys()),\n",
    "    ),\n",
    "    sgpp.ApplyWrapper(\n",
    "        MinMaxScaler().set_output(transform='pandas'), ['year', 'expected_day', 'winddirection']\n",
    "    )\n",
    ")\n",
    "df_all = p3.fit_transform(df_all)\n",
    "\n",
    "df_train = df_all.loc[df_all['rainfall'].notna()]\n",
    "df_test = df_all.loc[df_all['rainfall'].isna()].drop(columns = ['rainfall'])"
   ]
  },
  {
   "cell_type": "code",
   "execution_count": 4,
   "id": "0da40afc-9329-4403-97d0-f62a8fe0aec8",
   "metadata": {},
   "outputs": [],
   "source": [
    "df_org = make_pipeline(\n",
    "    sgpp.PolarsProcessor(predefined_types = {'id': pl.Int64, 'day': pl.Int16, 'rainfall': pl.String}),\n",
    ").fit_transform(['data/Rainfall.csv']).rename(\n",
    "    lambda x: x.strip()\n",
    ")\n",
    "df_org = make_pipeline(\n",
    "    sgpp.ExprProcessor({\n",
    "        'winddirection': pl.col('winddirection').fill_null(strategy = 'forward'),\n",
    "        'windspeed': pl.col('windspeed').fill_null(strategy = 'forward')\n",
    "    }),\n",
    "    sgpp.ExprProcessor({\n",
    "        'id': pl.arange(1, pl.col('day').len() + 1),\n",
    "        'sin_ed': (pl.arange(1, pl.col('day').len() + 1) / 365 * np.pi).sin(),\n",
    "        'cos_wd': (pl.col('winddirection') / 180 * np.pi).cos() * pl.col('windspeed'),\n",
    "        'sin_wd': (pl.col('winddirection') / 180 * np.pi).sin() * pl.col('windspeed'),\n",
    "        'chp': pl.col('cloud') * pl.col('humidity') / pl.col('pressure'),\n",
    "        'rainfall': pl.col('rainfall').replace({'yes': 1, 'no': 0}).cast(pl.Int8),\n",
    "    }),\n",
    "    sgpp.ExprProcessor(expr_dic),\n",
    "    sgpp.PandasCoverter(), \n",
    ").fit_transform(df_org).assign(\n",
    "    expected_day = lambda x: x.index + 1,\n",
    "    year = -1\n",
    ").pipe(\n",
    "    lambda x: x.set_index(-(len(x) - x.index))\n",
    ")\n",
    "df_org = p3.transform(df_org)"
   ]
  },
  {
   "cell_type": "code",
   "execution_count": 5,
   "id": "0d980a18-e374-4dc3-915a-fc2e9afb728c",
   "metadata": {},
   "outputs": [],
   "source": [
    "target = 'rainfall'\n",
    "sc = sgutil.SGCache('img', 'result')\n",
    "_ = sc.cache_result(\n",
    "    'target', lambda : df_train[target].sort_index()\n",
    ")"
   ]
  },
  {
   "cell_type": "code",
   "execution_count": 6,
   "id": "a5580597-78e9-4db9-bb2d-0a9bf06c5238",
   "metadata": {},
   "outputs": [
    {
     "data": {
      "text/plain": [
       "65"
      ]
     },
     "execution_count": 6,
     "metadata": {},
     "output_type": "execute_result"
    }
   ],
   "source": [
    "len(df_test.columns)"
   ]
  },
  {
   "cell_type": "code",
   "execution_count": 7,
   "id": "b187ed25-6a85-44ec-82a9-1520ae011cc7",
   "metadata": {},
   "outputs": [],
   "source": [
    "import lightgbm as lgb\n",
    "import xgboost as xgb\n",
    "import catboost as cb\n",
    "from sklearn.metrics import roc_auc_score\n",
    "from sklearn.linear_model import LogisticRegression\n",
    "from sklearn.svm import SVC\n",
    "from sklearn.neighbors import KNeighborsClassifier\n",
    "from sklearn.model_selection import StratifiedKFold, StratifiedShuffleSplit\n",
    "\n",
    "def get_validation_splitter(validation_fraction):\n",
    "    return lambda x: train_test_split(x, test_size = validation_fraction)\n",
    "\n",
    "def include_org(df, include_org = False):\n",
    "    return pd.concat([df, df_org]) if include_org else df\n",
    "\n",
    "config = {\n",
    "    'predict_func': lambda m, df, X: pd.Series(m.predict_proba(df[X])[:, 1], index = df.index),\n",
    "    'score_func': lambda df, prds: roc_auc_score(df[target], prds),\n",
    "    'validation_splitter': get_validation_splitter,\n",
    "    'progress_callback': sgml.ProgressCallBack(), \n",
    "    'return_train_scores': True,\n",
    "    'train_data_proc': include_org,\n",
    "    'y': target,\n",
    "}\n",
    "\n",
    "lr_adapter = sgml.SklearnAdapter(LogisticRegression)\n",
    "svc_adapter = sgml.SklearnAdapter(SVC)\n",
    "knn_adapter = sgml.SklearnAdapter(KNeighborsClassifier)\n",
    "lgb_adapter = sgml.LGBMAdapter(lgb.LGBMClassifier)\n",
    "xgb_adapter = sgml.XGBAdapter(xgb.XGBClassifier)\n",
    "cb_adapter = sgml.CBAdapter(cb.CatBoostClassifier)\n",
    "\n",
    "skf = StratifiedKFold(5, random_state = 123, shuffle = True)\n",
    "ss = StratifiedShuffleSplit(1, random_state = 123)"
   ]
  },
  {
   "cell_type": "code",
   "execution_count": 8,
   "id": "fbb4a4b4-795e-4fbf-8540-88d7c98ec36b",
   "metadata": {},
   "outputs": [],
   "source": [
    "from sklearn.feature_selection import SequentialFeatureSelector\n",
    "X_all = [i for i in df_test.columns.tolist() if i not in ['day']]"
   ]
  },
  {
   "cell_type": "markdown",
   "id": "32423a9a-4b3b-4ff5-bea1-0567eebee3aa",
   "metadata": {},
   "source": [
    "# Forward Feature Selection wrapping Logistic Regression"
   ]
  },
  {
   "cell_type": "code",
   "execution_count": 9,
   "id": "fe718862-a43f-4b9a-8870-697ab06fb425",
   "metadata": {},
   "outputs": [
    {
     "data": {
      "text/plain": [
       "array(['sin_ed', 'pressure', 'maxtemp', 'temparature', 'mintemp',\n",
       "       'dewpoint', 'sunshine', 'windspeed', 'chp', 'sunshine_1',\n",
       "       'sunshine_2', 'sunshine_3', 'sunshine_4', 'cloud_3', 'cloud_4',\n",
       "       'cloud_5', 'cloud_6', 'dewpoint_1', 'dewpoint_5', 'chp_1', 'chp_3',\n",
       "       'chp_5', 'cos_wd_3', 'cos_wd_4', 'cos_wd_5', 'sin_wd_2',\n",
       "       'maxtemp_ma24', 'temparature_ma24', 'dewpoint_ma24',\n",
       "       'humidity_ma24', 'sunshine_ma24', 'year'], dtype='<U16')"
      ]
     },
     "execution_count": 9,
     "metadata": {},
     "output_type": "execute_result"
    }
   ],
   "source": [
    "sfs = sc.cache_result(\n",
    "    'ff_sfs_lr',\n",
    "    lambda : SequentialFeatureSelector(\n",
    "        estimator = LogisticRegression(), direction = 'forward', scoring = 'roc_auc', cv = skf, n_jobs = -1\n",
    "    ).fit(df_train[X_all], df_train[target])\n",
    ")\n",
    "np.array(X_all)[sfs.get_support()]"
   ]
  },
  {
   "cell_type": "code",
   "execution_count": 10,
   "id": "8e725ff6-4749-4d1c-8d03-af93eb641ca2",
   "metadata": {},
   "outputs": [
    {
     "data": {
      "application/vnd.jupyter.widget-view+json": {
       "model_id": "",
       "version_major": 2,
       "version_minor": 0
      },
      "text/plain": [
       "Fold:   0%|          | 0/5 [00:00<?, ?it/s]"
      ]
     },
     "metadata": {},
     "output_type": "display_data"
    },
    {
     "data": {
      "text/plain": [
       "(0.8972053872053873, 0.012120648342876662)"
      ]
     },
     "execution_count": 10,
     "metadata": {},
     "output_type": "execute_result"
    }
   ],
   "source": [
    "hparams = {\n",
    "    'model_params': {},\n",
    "    'X_num': np.array(X_all)[sfs.get_support()].tolist()\n",
    "}\n",
    "result = sgml.cv(df_train, skf, hparams, config, lr_adapter, result_proc = [sgml.lr_learning_result])\n",
    "np.mean(result['valid_scores']), np.std(result['valid_scores'])"
   ]
  },
  {
   "cell_type": "code",
   "execution_count": 11,
   "id": "b0438ad8-d84b-45e5-a6dc-aea62fd378e5",
   "metadata": {},
   "outputs": [
    {
     "data": {
      "text/html": [
       "<div>\n",
       "<style scoped>\n",
       "    .dataframe tbody tr th:only-of-type {\n",
       "        vertical-align: middle;\n",
       "    }\n",
       "\n",
       "    .dataframe tbody tr th {\n",
       "        vertical-align: top;\n",
       "    }\n",
       "\n",
       "    .dataframe thead th {\n",
       "        text-align: right;\n",
       "    }\n",
       "</style>\n",
       "<table border=\"1\" class=\"dataframe\">\n",
       "  <thead>\n",
       "    <tr style=\"text-align: right;\">\n",
       "      <th></th>\n",
       "      <th>mean</th>\n",
       "      <th>std</th>\n",
       "      <th>CV</th>\n",
       "    </tr>\n",
       "  </thead>\n",
       "  <tbody>\n",
       "    <tr>\n",
       "      <th>dewpoint_ma24</th>\n",
       "      <td>-0.020234</td>\n",
       "      <td>0.113573</td>\n",
       "      <td>5.612868</td>\n",
       "    </tr>\n",
       "    <tr>\n",
       "      <th>maxtemp_ma24</th>\n",
       "      <td>-0.024915</td>\n",
       "      <td>0.081302</td>\n",
       "      <td>3.263118</td>\n",
       "    </tr>\n",
       "    <tr>\n",
       "      <th>cos_wd_3</th>\n",
       "      <td>-0.014448</td>\n",
       "      <td>0.043408</td>\n",
       "      <td>3.004357</td>\n",
       "    </tr>\n",
       "    <tr>\n",
       "      <th>sunshine_3</th>\n",
       "      <td>-0.018969</td>\n",
       "      <td>0.033022</td>\n",
       "      <td>1.740821</td>\n",
       "    </tr>\n",
       "    <tr>\n",
       "      <th>sin_wd_2</th>\n",
       "      <td>-0.015010</td>\n",
       "      <td>0.022889</td>\n",
       "      <td>1.524927</td>\n",
       "    </tr>\n",
       "    <tr>\n",
       "      <th>dewpoint_1</th>\n",
       "      <td>0.052131</td>\n",
       "      <td>0.071972</td>\n",
       "      <td>1.380610</td>\n",
       "    </tr>\n",
       "    <tr>\n",
       "      <th>chp_1</th>\n",
       "      <td>-0.039389</td>\n",
       "      <td>0.049762</td>\n",
       "      <td>1.263360</td>\n",
       "    </tr>\n",
       "    <tr>\n",
       "      <th>maxtemp</th>\n",
       "      <td>0.127891</td>\n",
       "      <td>0.153483</td>\n",
       "      <td>1.200112</td>\n",
       "    </tr>\n",
       "    <tr>\n",
       "      <th>temparature_ma24</th>\n",
       "      <td>0.365757</td>\n",
       "      <td>0.205129</td>\n",
       "      <td>0.560833</td>\n",
       "    </tr>\n",
       "    <tr>\n",
       "      <th>dewpoint_5</th>\n",
       "      <td>-0.063698</td>\n",
       "      <td>0.031295</td>\n",
       "      <td>0.491304</td>\n",
       "    </tr>\n",
       "  </tbody>\n",
       "</table>\n",
       "</div>"
      ],
      "text/plain": [
       "                      mean       std        CV\n",
       "dewpoint_ma24    -0.020234  0.113573  5.612868\n",
       "maxtemp_ma24     -0.024915  0.081302  3.263118\n",
       "cos_wd_3         -0.014448  0.043408  3.004357\n",
       "sunshine_3       -0.018969  0.033022  1.740821\n",
       "sin_wd_2         -0.015010  0.022889  1.524927\n",
       "dewpoint_1        0.052131  0.071972  1.380610\n",
       "chp_1            -0.039389  0.049762  1.263360\n",
       "maxtemp           0.127891  0.153483  1.200112\n",
       "temparature_ma24  0.365757  0.205129  0.560833\n",
       "dewpoint_5       -0.063698  0.031295  0.491304"
      ]
     },
     "execution_count": 11,
     "metadata": {},
     "output_type": "execute_result"
    }
   ],
   "source": [
    "df_coef = pd.concat([i['coef'] for i in result['model_result']], axis=1).agg(['mean', 'std'], axis = 1).assign(\n",
    "    CV = lambda x: x['std'] / x['mean'].abs()\n",
    ").sort_values('CV', ascending = False)\n",
    "df_coef.iloc[:10]"
   ]
  },
  {
   "cell_type": "code",
   "execution_count": 12,
   "id": "fe029202-086e-42ef-aba0-8ac816f094b0",
   "metadata": {},
   "outputs": [],
   "source": [
    "sc.cv_result('lr_sfs', hparams, lr_adapter, result['valid_prd'])"
   ]
  },
  {
   "cell_type": "code",
   "execution_count": 13,
   "id": "048fb934-07c0-4d11-9597-be031626c71c",
   "metadata": {},
   "outputs": [
    {
     "data": {
      "application/vnd.jupyter.widget-view+json": {
       "model_id": "",
       "version_major": 2,
       "version_minor": 0
      },
      "text/plain": [
       "Fold:   0%|          | 0/5 [00:00<?, ?it/s]"
      ]
     },
     "metadata": {},
     "output_type": "display_data"
    },
    {
     "data": {
      "text/plain": [
       "(0.8983557800224468, 0.011976255278421333)"
      ]
     },
     "execution_count": 13,
     "metadata": {},
     "output_type": "execute_result"
    }
   ],
   "source": [
    "hparams = {\n",
    "    'model_params': {},\n",
    "    'X_num': df_coef.iloc[8:].index.tolist()\n",
    "}\n",
    "result = sgml.cv(df_train, skf, hparams, config, lr_adapter, result_proc = [sgml.lr_learning_result])\n",
    "np.mean(result['valid_scores']), np.std(result['valid_scores'])"
   ]
  },
  {
   "cell_type": "code",
   "execution_count": 14,
   "id": "b6053dc4-c6a4-4e28-acca-542e8ac6a66d",
   "metadata": {},
   "outputs": [
    {
     "data": {
      "text/html": [
       "<div>\n",
       "<style scoped>\n",
       "    .dataframe tbody tr th:only-of-type {\n",
       "        vertical-align: middle;\n",
       "    }\n",
       "\n",
       "    .dataframe tbody tr th {\n",
       "        vertical-align: top;\n",
       "    }\n",
       "\n",
       "    .dataframe thead th {\n",
       "        text-align: right;\n",
       "    }\n",
       "</style>\n",
       "<table border=\"1\" class=\"dataframe\">\n",
       "  <thead>\n",
       "    <tr style=\"text-align: right;\">\n",
       "      <th></th>\n",
       "      <th>mean</th>\n",
       "      <th>std</th>\n",
       "      <th>CV</th>\n",
       "    </tr>\n",
       "  </thead>\n",
       "  <tbody>\n",
       "    <tr>\n",
       "      <th>dewpoint_5</th>\n",
       "      <td>-0.060115</td>\n",
       "      <td>0.045998</td>\n",
       "      <td>0.765164</td>\n",
       "    </tr>\n",
       "    <tr>\n",
       "      <th>temparature</th>\n",
       "      <td>-0.148630</td>\n",
       "      <td>0.109471</td>\n",
       "      <td>0.736534</td>\n",
       "    </tr>\n",
       "    <tr>\n",
       "      <th>temparature_ma24</th>\n",
       "      <td>0.339612</td>\n",
       "      <td>0.173672</td>\n",
       "      <td>0.511386</td>\n",
       "    </tr>\n",
       "    <tr>\n",
       "      <th>cos_wd_5</th>\n",
       "      <td>0.098969</td>\n",
       "      <td>0.045272</td>\n",
       "      <td>0.457440</td>\n",
       "    </tr>\n",
       "    <tr>\n",
       "      <th>chp_3</th>\n",
       "      <td>-0.258010</td>\n",
       "      <td>0.096879</td>\n",
       "      <td>0.375485</td>\n",
       "    </tr>\n",
       "    <tr>\n",
       "      <th>cloud_6</th>\n",
       "      <td>0.065133</td>\n",
       "      <td>0.023313</td>\n",
       "      <td>0.357921</td>\n",
       "    </tr>\n",
       "    <tr>\n",
       "      <th>mintemp</th>\n",
       "      <td>-0.333428</td>\n",
       "      <td>0.118167</td>\n",
       "      <td>0.354401</td>\n",
       "    </tr>\n",
       "    <tr>\n",
       "      <th>cloud_5</th>\n",
       "      <td>0.185984</td>\n",
       "      <td>0.061321</td>\n",
       "      <td>0.329710</td>\n",
       "    </tr>\n",
       "    <tr>\n",
       "      <th>sunshine_2</th>\n",
       "      <td>0.115192</td>\n",
       "      <td>0.037786</td>\n",
       "      <td>0.328024</td>\n",
       "    </tr>\n",
       "    <tr>\n",
       "      <th>cloud_4</th>\n",
       "      <td>0.149698</td>\n",
       "      <td>0.045243</td>\n",
       "      <td>0.302226</td>\n",
       "    </tr>\n",
       "  </tbody>\n",
       "</table>\n",
       "</div>"
      ],
      "text/plain": [
       "                      mean       std        CV\n",
       "dewpoint_5       -0.060115  0.045998  0.765164\n",
       "temparature      -0.148630  0.109471  0.736534\n",
       "temparature_ma24  0.339612  0.173672  0.511386\n",
       "cos_wd_5          0.098969  0.045272  0.457440\n",
       "chp_3            -0.258010  0.096879  0.375485\n",
       "cloud_6           0.065133  0.023313  0.357921\n",
       "mintemp          -0.333428  0.118167  0.354401\n",
       "cloud_5           0.185984  0.061321  0.329710\n",
       "sunshine_2        0.115192  0.037786  0.328024\n",
       "cloud_4           0.149698  0.045243  0.302226"
      ]
     },
     "execution_count": 14,
     "metadata": {},
     "output_type": "execute_result"
    }
   ],
   "source": [
    "df_coef = pd.concat([i['coef'] for i in result['model_result']], axis=1).agg(['mean', 'std'], axis = 1).assign(\n",
    "    CV = lambda x: x['std'] / x['mean'].abs()\n",
    ").sort_values('CV', ascending = False)\n",
    "df_coef.iloc[:10]"
   ]
  },
  {
   "cell_type": "code",
   "execution_count": 15,
   "id": "a3069511-3a73-40e2-b8dc-5e5b496f113d",
   "metadata": {},
   "outputs": [],
   "source": [
    "sc.cv_result('lr_sfs2', hparams, lr_adapter, result['valid_prd'])"
   ]
  },
  {
   "cell_type": "code",
   "execution_count": 16,
   "id": "a43effd1-6c9a-42f8-a163-9297eff72365",
   "metadata": {},
   "outputs": [
    {
     "data": {
      "application/vnd.jupyter.widget-view+json": {
       "model_id": "",
       "version_major": 2,
       "version_minor": 0
      },
      "text/plain": [
       "Fold:   0%|          | 0/5 [00:00<?, ?it/s]"
      ]
     },
     "metadata": {},
     "output_type": "display_data"
    },
    {
     "data": {
      "text/plain": [
       "(0.8985185185185184, 0.01312478134285176)"
      ]
     },
     "execution_count": 16,
     "metadata": {},
     "output_type": "execute_result"
    }
   ],
   "source": [
    "hparams = {\n",
    "    'model_params': {},\n",
    "    'X_num': df_coef.iloc[4:].index.tolist()\n",
    "}\n",
    "result = sgml.cv(df_train, skf, hparams, config, lr_adapter, result_proc = [sgml.lr_learning_result])\n",
    "np.mean(result['valid_scores']), np.std(result['valid_scores'])"
   ]
  },
  {
   "cell_type": "code",
   "execution_count": 17,
   "id": "04bcbc13-91e4-450e-abf2-ef090a07c422",
   "metadata": {},
   "outputs": [],
   "source": [
    "sc.cv_result('lr_sfs3', hparams, lr_adapter, result['valid_prd'])"
   ]
  },
  {
   "cell_type": "code",
   "execution_count": 18,
   "id": "28062a94-a7cc-4a9c-9abb-84d6a98661e6",
   "metadata": {},
   "outputs": [
    {
     "data": {
      "text/html": [
       "<div>\n",
       "<style scoped>\n",
       "    .dataframe tbody tr th:only-of-type {\n",
       "        vertical-align: middle;\n",
       "    }\n",
       "\n",
       "    .dataframe tbody tr th {\n",
       "        vertical-align: top;\n",
       "    }\n",
       "\n",
       "    .dataframe thead th {\n",
       "        text-align: right;\n",
       "    }\n",
       "</style>\n",
       "<table border=\"1\" class=\"dataframe\">\n",
       "  <thead>\n",
       "    <tr style=\"text-align: right;\">\n",
       "      <th></th>\n",
       "      <th>mean</th>\n",
       "      <th>std</th>\n",
       "      <th>CV</th>\n",
       "    </tr>\n",
       "  </thead>\n",
       "  <tbody>\n",
       "    <tr>\n",
       "      <th>cloud_6</th>\n",
       "      <td>0.069157</td>\n",
       "      <td>0.025011</td>\n",
       "      <td>0.361659</td>\n",
       "    </tr>\n",
       "    <tr>\n",
       "      <th>sunshine_2</th>\n",
       "      <td>0.108589</td>\n",
       "      <td>0.038656</td>\n",
       "      <td>0.355989</td>\n",
       "    </tr>\n",
       "    <tr>\n",
       "      <th>chp_3</th>\n",
       "      <td>-0.283220</td>\n",
       "      <td>0.088740</td>\n",
       "      <td>0.313325</td>\n",
       "    </tr>\n",
       "    <tr>\n",
       "      <th>cloud_4</th>\n",
       "      <td>0.156865</td>\n",
       "      <td>0.045290</td>\n",
       "      <td>0.288716</td>\n",
       "    </tr>\n",
       "    <tr>\n",
       "      <th>pressure</th>\n",
       "      <td>-0.134968</td>\n",
       "      <td>0.037416</td>\n",
       "      <td>0.277223</td>\n",
       "    </tr>\n",
       "    <tr>\n",
       "      <th>sin_ed</th>\n",
       "      <td>-0.948355</td>\n",
       "      <td>0.226483</td>\n",
       "      <td>0.238817</td>\n",
       "    </tr>\n",
       "    <tr>\n",
       "      <th>sunshine_4</th>\n",
       "      <td>0.216750</td>\n",
       "      <td>0.051374</td>\n",
       "      <td>0.237018</td>\n",
       "    </tr>\n",
       "    <tr>\n",
       "      <th>cloud_5</th>\n",
       "      <td>0.232140</td>\n",
       "      <td>0.053793</td>\n",
       "      <td>0.231728</td>\n",
       "    </tr>\n",
       "    <tr>\n",
       "      <th>year</th>\n",
       "      <td>0.554469</td>\n",
       "      <td>0.127472</td>\n",
       "      <td>0.229900</td>\n",
       "    </tr>\n",
       "    <tr>\n",
       "      <th>chp_5</th>\n",
       "      <td>-0.200099</td>\n",
       "      <td>0.045552</td>\n",
       "      <td>0.227648</td>\n",
       "    </tr>\n",
       "  </tbody>\n",
       "</table>\n",
       "</div>"
      ],
      "text/plain": [
       "                mean       std        CV\n",
       "cloud_6     0.069157  0.025011  0.361659\n",
       "sunshine_2  0.108589  0.038656  0.355989\n",
       "chp_3      -0.283220  0.088740  0.313325\n",
       "cloud_4     0.156865  0.045290  0.288716\n",
       "pressure   -0.134968  0.037416  0.277223\n",
       "sin_ed     -0.948355  0.226483  0.238817\n",
       "sunshine_4  0.216750  0.051374  0.237018\n",
       "cloud_5     0.232140  0.053793  0.231728\n",
       "year        0.554469  0.127472  0.229900\n",
       "chp_5      -0.200099  0.045552  0.227648"
      ]
     },
     "execution_count": 18,
     "metadata": {},
     "output_type": "execute_result"
    }
   ],
   "source": [
    "df_coef = pd.concat([i['coef'] for i in result['model_result']], axis=1).agg(['mean', 'std'], axis = 1).assign(\n",
    "    CV = lambda x: x['std'] / x['mean'].abs()\n",
    ").sort_values('CV', ascending = False)\n",
    "df_coef.iloc[:10]"
   ]
  },
  {
   "cell_type": "markdown",
   "id": "9a8b2b36-874b-4050-a60e-9afd9aec5270",
   "metadata": {},
   "source": [
    "# Forward Feature Selection wrapping Logistic Regression Aumenting Org"
   ]
  },
  {
   "cell_type": "code",
   "execution_count": 19,
   "id": "77675809-4285-4406-9bd8-fc2a693234bd",
   "metadata": {},
   "outputs": [
    {
     "data": {
      "text/plain": [
       "array(['sin_ed', 'pressure', 'maxtemp', 'temparature', 'mintemp',\n",
       "       'dewpoint', 'humidity', 'cloud', 'sunshine', 'windspeed', 'cos_wd',\n",
       "       'chp', 'sunshine_1', 'sunshine_2', 'sunshine_3', 'sunshine_4',\n",
       "       'sunshine_5', 'cloud_2', 'cloud_3', 'cloud_4', 'dewpoint_2',\n",
       "       'dewpoint_6', 'chp_2', 'chp_4', 'chp_6', 'cos_wd_3', 'sin_wd_2',\n",
       "       'maxtemp_ma24', 'temparature_ma24', 'mintemp_ma24', 'year',\n",
       "       'winddirection'], dtype='<U16')"
      ]
     },
     "execution_count": 19,
     "metadata": {},
     "output_type": "execute_result"
    }
   ],
   "source": [
    "sfs = sc.cache_result(\n",
    "    'ff_sfs_lr2',\n",
    "    lambda : pd.concat([df_train, df_org]).pipe(\n",
    "        lambda x: SequentialFeatureSelector(\n",
    "            estimator = LogisticRegression(), direction = 'forward', scoring = 'roc_auc', cv = skf, n_jobs = -1\n",
    "        ).fit(x[X_all], x[target])\n",
    "    )\n",
    ")\n",
    "np.array(X_all)[sfs.get_support()]"
   ]
  },
  {
   "cell_type": "code",
   "execution_count": 20,
   "id": "efe8b15c-b38a-45f2-8c93-45c8b935571e",
   "metadata": {},
   "outputs": [
    {
     "data": {
      "application/vnd.jupyter.widget-view+json": {
       "model_id": "",
       "version_major": 2,
       "version_minor": 0
      },
      "text/plain": [
       "Fold:   0%|          | 0/5 [00:00<?, ?it/s]"
      ]
     },
     "metadata": {},
     "output_type": "display_data"
    },
    {
     "data": {
      "text/plain": [
       "(0.8947811447811448, 0.012302086080667738)"
      ]
     },
     "execution_count": 20,
     "metadata": {},
     "output_type": "execute_result"
    }
   ],
   "source": [
    "hparams = {\n",
    "    'model_params': {},\n",
    "    'X_num': np.array(X_all)[sfs.get_support()].tolist(),\n",
    "    'train_data_proc_param': {'include_org': True}\n",
    "}\n",
    "result = sgml.cv(df_train, skf, hparams, config, lr_adapter, result_proc = [sgml.lr_learning_result])\n",
    "sc.cv_result('lr_sfs_a', hparams, lr_adapter, result['valid_prd'])\n",
    "np.mean(result['valid_scores']), np.std(result['valid_scores'])"
   ]
  },
  {
   "cell_type": "code",
   "execution_count": 21,
   "id": "10aeccda-a010-42da-b871-72354db0f374",
   "metadata": {},
   "outputs": [
    {
     "data": {
      "text/html": [
       "<div>\n",
       "<style scoped>\n",
       "    .dataframe tbody tr th:only-of-type {\n",
       "        vertical-align: middle;\n",
       "    }\n",
       "\n",
       "    .dataframe tbody tr th {\n",
       "        vertical-align: top;\n",
       "    }\n",
       "\n",
       "    .dataframe thead th {\n",
       "        text-align: right;\n",
       "    }\n",
       "</style>\n",
       "<table border=\"1\" class=\"dataframe\">\n",
       "  <thead>\n",
       "    <tr style=\"text-align: right;\">\n",
       "      <th></th>\n",
       "      <th>mean</th>\n",
       "      <th>std</th>\n",
       "      <th>CV</th>\n",
       "    </tr>\n",
       "  </thead>\n",
       "  <tbody>\n",
       "    <tr>\n",
       "      <th>maxtemp</th>\n",
       "      <td>-0.021097</td>\n",
       "      <td>0.149820</td>\n",
       "      <td>7.101555</td>\n",
       "    </tr>\n",
       "    <tr>\n",
       "      <th>cos_wd_3</th>\n",
       "      <td>-0.010459</td>\n",
       "      <td>0.045744</td>\n",
       "      <td>4.373801</td>\n",
       "    </tr>\n",
       "    <tr>\n",
       "      <th>mintemp_ma24</th>\n",
       "      <td>0.040715</td>\n",
       "      <td>0.160246</td>\n",
       "      <td>3.935837</td>\n",
       "    </tr>\n",
       "    <tr>\n",
       "      <th>sunshine_5</th>\n",
       "      <td>0.019164</td>\n",
       "      <td>0.033826</td>\n",
       "      <td>1.765061</td>\n",
       "    </tr>\n",
       "    <tr>\n",
       "      <th>chp_6</th>\n",
       "      <td>-0.022548</td>\n",
       "      <td>0.038773</td>\n",
       "      <td>1.719538</td>\n",
       "    </tr>\n",
       "    <tr>\n",
       "      <th>sin_wd_2</th>\n",
       "      <td>-0.022583</td>\n",
       "      <td>0.030652</td>\n",
       "      <td>1.357292</td>\n",
       "    </tr>\n",
       "    <tr>\n",
       "      <th>maxtemp_ma24</th>\n",
       "      <td>0.119042</td>\n",
       "      <td>0.137336</td>\n",
       "      <td>1.153678</td>\n",
       "    </tr>\n",
       "    <tr>\n",
       "      <th>chp_4</th>\n",
       "      <td>0.042262</td>\n",
       "      <td>0.034726</td>\n",
       "      <td>0.821677</td>\n",
       "    </tr>\n",
       "    <tr>\n",
       "      <th>chp</th>\n",
       "      <td>0.069188</td>\n",
       "      <td>0.052726</td>\n",
       "      <td>0.762076</td>\n",
       "    </tr>\n",
       "    <tr>\n",
       "      <th>temparature</th>\n",
       "      <td>-0.166954</td>\n",
       "      <td>0.126749</td>\n",
       "      <td>0.759183</td>\n",
       "    </tr>\n",
       "  </tbody>\n",
       "</table>\n",
       "</div>"
      ],
      "text/plain": [
       "                  mean       std        CV\n",
       "maxtemp      -0.021097  0.149820  7.101555\n",
       "cos_wd_3     -0.010459  0.045744  4.373801\n",
       "mintemp_ma24  0.040715  0.160246  3.935837\n",
       "sunshine_5    0.019164  0.033826  1.765061\n",
       "chp_6        -0.022548  0.038773  1.719538\n",
       "sin_wd_2     -0.022583  0.030652  1.357292\n",
       "maxtemp_ma24  0.119042  0.137336  1.153678\n",
       "chp_4         0.042262  0.034726  0.821677\n",
       "chp           0.069188  0.052726  0.762076\n",
       "temparature  -0.166954  0.126749  0.759183"
      ]
     },
     "execution_count": 21,
     "metadata": {},
     "output_type": "execute_result"
    }
   ],
   "source": [
    "df_coef = pd.concat([i['coef'] for i in result['model_result']], axis=1).agg(['mean', 'std'], axis = 1).assign(\n",
    "    CV = lambda x: x['std'] / x['mean'].abs()\n",
    ").sort_values('CV', ascending = False)\n",
    "df_coef.iloc[:10]"
   ]
  },
  {
   "cell_type": "code",
   "execution_count": 22,
   "id": "2b5084e4-c3f5-4fb4-af7f-1f69d784fa6e",
   "metadata": {},
   "outputs": [
    {
     "data": {
      "application/vnd.jupyter.widget-view+json": {
       "model_id": "",
       "version_major": 2,
       "version_minor": 0
      },
      "text/plain": [
       "Fold:   0%|          | 0/5 [00:00<?, ?it/s]"
      ]
     },
     "metadata": {},
     "output_type": "display_data"
    },
    {
     "data": {
      "text/plain": [
       "(0.8962906846240178, 0.01146601290644487)"
      ]
     },
     "execution_count": 22,
     "metadata": {},
     "output_type": "execute_result"
    }
   ],
   "source": [
    "hparams = {\n",
    "    'model_params': {},\n",
    "    'X_num': df_coef.iloc[6:].index.tolist(),\n",
    "    'train_data_proc_param': {'include_org': True}\n",
    "}\n",
    "result = sgml.cv(df_train, skf, hparams, config, lr_adapter, result_proc = [sgml.lr_learning_result])\n",
    "sc.cv_result('lr_sfs_a2', hparams, lr_adapter, result['valid_prd'])\n",
    "np.mean(result['valid_scores']), np.std(result['valid_scores'])"
   ]
  },
  {
   "cell_type": "code",
   "execution_count": 23,
   "id": "e6027f18-18e3-4586-a618-24a13c1d19cb",
   "metadata": {},
   "outputs": [
    {
     "data": {
      "text/html": [
       "<div>\n",
       "<style scoped>\n",
       "    .dataframe tbody tr th:only-of-type {\n",
       "        vertical-align: middle;\n",
       "    }\n",
       "\n",
       "    .dataframe tbody tr th {\n",
       "        vertical-align: top;\n",
       "    }\n",
       "\n",
       "    .dataframe thead th {\n",
       "        text-align: right;\n",
       "    }\n",
       "</style>\n",
       "<table border=\"1\" class=\"dataframe\">\n",
       "  <thead>\n",
       "    <tr style=\"text-align: right;\">\n",
       "      <th></th>\n",
       "      <th>mean</th>\n",
       "      <th>std</th>\n",
       "      <th>CV</th>\n",
       "    </tr>\n",
       "  </thead>\n",
       "  <tbody>\n",
       "    <tr>\n",
       "      <th>chp_4</th>\n",
       "      <td>0.034988</td>\n",
       "      <td>0.042251</td>\n",
       "      <td>1.207573</td>\n",
       "    </tr>\n",
       "    <tr>\n",
       "      <th>chp</th>\n",
       "      <td>0.054333</td>\n",
       "      <td>0.046949</td>\n",
       "      <td>0.864086</td>\n",
       "    </tr>\n",
       "    <tr>\n",
       "      <th>sunshine_3</th>\n",
       "      <td>0.048751</td>\n",
       "      <td>0.035849</td>\n",
       "      <td>0.735355</td>\n",
       "    </tr>\n",
       "    <tr>\n",
       "      <th>dewpoint_2</th>\n",
       "      <td>-0.100342</td>\n",
       "      <td>0.063914</td>\n",
       "      <td>0.636965</td>\n",
       "    </tr>\n",
       "    <tr>\n",
       "      <th>temparature</th>\n",
       "      <td>-0.184064</td>\n",
       "      <td>0.098829</td>\n",
       "      <td>0.536927</td>\n",
       "    </tr>\n",
       "    <tr>\n",
       "      <th>maxtemp_ma24</th>\n",
       "      <td>0.118299</td>\n",
       "      <td>0.062029</td>\n",
       "      <td>0.524339</td>\n",
       "    </tr>\n",
       "    <tr>\n",
       "      <th>chp_2</th>\n",
       "      <td>-0.134452</td>\n",
       "      <td>0.053239</td>\n",
       "      <td>0.395968</td>\n",
       "    </tr>\n",
       "    <tr>\n",
       "      <th>year</th>\n",
       "      <td>0.290991</td>\n",
       "      <td>0.111759</td>\n",
       "      <td>0.384062</td>\n",
       "    </tr>\n",
       "    <tr>\n",
       "      <th>cos_wd</th>\n",
       "      <td>-0.257909</td>\n",
       "      <td>0.063183</td>\n",
       "      <td>0.244983</td>\n",
       "    </tr>\n",
       "    <tr>\n",
       "      <th>dewpoint_6</th>\n",
       "      <td>0.340524</td>\n",
       "      <td>0.075403</td>\n",
       "      <td>0.221431</td>\n",
       "    </tr>\n",
       "  </tbody>\n",
       "</table>\n",
       "</div>"
      ],
      "text/plain": [
       "                  mean       std        CV\n",
       "chp_4         0.034988  0.042251  1.207573\n",
       "chp           0.054333  0.046949  0.864086\n",
       "sunshine_3    0.048751  0.035849  0.735355\n",
       "dewpoint_2   -0.100342  0.063914  0.636965\n",
       "temparature  -0.184064  0.098829  0.536927\n",
       "maxtemp_ma24  0.118299  0.062029  0.524339\n",
       "chp_2        -0.134452  0.053239  0.395968\n",
       "year          0.290991  0.111759  0.384062\n",
       "cos_wd       -0.257909  0.063183  0.244983\n",
       "dewpoint_6    0.340524  0.075403  0.221431"
      ]
     },
     "execution_count": 23,
     "metadata": {},
     "output_type": "execute_result"
    }
   ],
   "source": [
    "df_coef = pd.concat([i['coef'] for i in result['model_result']], axis=1).agg(['mean', 'std'], axis = 1).assign(\n",
    "    CV = lambda x: x['std'] / x['mean'].abs()\n",
    ").sort_values('CV', ascending = False)\n",
    "df_coef.iloc[:10]"
   ]
  },
  {
   "cell_type": "code",
   "execution_count": 24,
   "id": "15b5011e-0063-4e4d-a9c6-0eac5a8fa05c",
   "metadata": {},
   "outputs": [
    {
     "data": {
      "application/vnd.jupyter.widget-view+json": {
       "model_id": "",
       "version_major": 2,
       "version_minor": 0
      },
      "text/plain": [
       "Fold:   0%|          | 0/5 [00:00<?, ?it/s]"
      ]
     },
     "metadata": {},
     "output_type": "display_data"
    },
    {
     "data": {
      "text/plain": [
       "(0.8971043771043771, 0.011150089212136121)"
      ]
     },
     "execution_count": 24,
     "metadata": {},
     "output_type": "execute_result"
    }
   ],
   "source": [
    "hparams = {\n",
    "    'model_params': {},\n",
    "    'X_num': df_coef.iloc[7:].index.tolist(),\n",
    "    'train_data_proc_param': {'include_org': True}\n",
    "}\n",
    "result = sgml.cv(df_train, skf, hparams, config, lr_adapter, result_proc = [sgml.lr_learning_result])\n",
    "sc.cv_result('lr_sfs_a3', hparams, lr_adapter, result['valid_prd'])\n",
    "np.mean(result['valid_scores']), np.std(result['valid_scores'])"
   ]
  },
  {
   "cell_type": "markdown",
   "id": "93f68ca3-7901-4619-a7c5-4cbc22900ea0",
   "metadata": {},
   "source": [
    "# Backward Feature Selection wrapping Logistic Regression"
   ]
  },
  {
   "cell_type": "code",
   "execution_count": 25,
   "id": "62160d60-ccd5-40c2-ba19-2a9ae7869984",
   "metadata": {},
   "outputs": [
    {
     "data": {
      "text/plain": [
       "array(['sin_ed', 'pressure', 'maxtemp', 'temparature', 'mintemp',\n",
       "       'dewpoint', 'sunshine', 'windspeed', 'cos_wd', 'sin_wd', 'chp',\n",
       "       'sunshine_1', 'sunshine_2', 'sunshine_4', 'cloud_3', 'cloud_4',\n",
       "       'cloud_5', 'dewpoint_5', 'chp_3', 'chp_4', 'chp_5', 'cos_wd_3',\n",
       "       'cos_wd_4', 'sin_wd_3', 'temparature_ma24', 'mintemp_ma24',\n",
       "       'cloud_ma24', 'sunshine_ma24', 'cos_wd_ma24', 'sin_wd_ma24',\n",
       "       'chp_ma24', 'year'], dtype='<U16')"
      ]
     },
     "execution_count": 25,
     "metadata": {},
     "output_type": "execute_result"
    }
   ],
   "source": [
    "sfs = sc.cache_result(\n",
    "    'bf_sfs_lr',\n",
    "    lambda : SequentialFeatureSelector(\n",
    "        estimator = LogisticRegression(), direction = 'backward', scoring = 'roc_auc', cv = skf, n_jobs = -1\n",
    "    ).fit(df_train[X_all], df_train[target]), rerun = False\n",
    ")\n",
    "np.array(X_all)[sfs.get_support()]"
   ]
  },
  {
   "cell_type": "code",
   "execution_count": 26,
   "id": "b39c1e42-9903-49dd-8d5f-620247b8389c",
   "metadata": {},
   "outputs": [
    {
     "data": {
      "application/vnd.jupyter.widget-view+json": {
       "model_id": "",
       "version_major": 2,
       "version_minor": 0
      },
      "text/plain": [
       "Fold:   0%|          | 0/5 [00:00<?, ?it/s]"
      ]
     },
     "metadata": {},
     "output_type": "display_data"
    },
    {
     "data": {
      "text/plain": [
       "(0.8971717171717172, 0.011681897853436847)"
      ]
     },
     "execution_count": 26,
     "metadata": {},
     "output_type": "execute_result"
    }
   ],
   "source": [
    "hparams = {\n",
    "    'model_params': {},\n",
    "    'X_num': np.array(X_all)[sfs.get_support()].tolist(),\n",
    "}\n",
    "result = sgml.cv(df_train, skf, hparams, config, lr_adapter, result_proc = [sgml.lr_learning_result])\n",
    "sc.cv_result('lr_bfs', hparams, lr_adapter, result['valid_prd'])\n",
    "np.mean(result['valid_scores']), np.std(result['valid_scores'])"
   ]
  },
  {
   "cell_type": "markdown",
   "id": "2d009dcc-cff5-4894-a0c8-f3e51c5ab87c",
   "metadata": {},
   "source": [
    "# Backward Feature Selection wrapping Logistic Regression Augumenting Org"
   ]
  },
  {
   "cell_type": "code",
   "execution_count": 27,
   "id": "5cfb4a07-e69a-48d6-b516-a190f82e2acd",
   "metadata": {},
   "outputs": [
    {
     "data": {
      "text/plain": [
       "array(['sin_ed', 'pressure', 'mintemp', 'dewpoint', 'humidity', 'cloud',\n",
       "       'sunshine', 'windspeed', 'cos_wd', 'sin_wd', 'chp', 'sunshine_1',\n",
       "       'sunshine_3', 'sunshine_4', 'sunshine_6', 'cloud_4', 'cloud_5',\n",
       "       'dewpoint_2', 'dewpoint_6', 'chp_3', 'chp_5', 'chp_6', 'cos_wd_3',\n",
       "       'sin_wd_1', 'sin_wd_3', 'sin_wd_5', 'temparature_ma24',\n",
       "       'mintemp_ma24', 'cos_wd_ma24', 'sin_wd_ma24', 'year',\n",
       "       'winddirection'], dtype='<U16')"
      ]
     },
     "execution_count": 27,
     "metadata": {},
     "output_type": "execute_result"
    }
   ],
   "source": [
    "sfs = sc.cache_result(\n",
    "    'bf_sfs_lr2',\n",
    "    lambda : pd.concat([df_train, df_org]).pipe(\n",
    "        lambda x: SequentialFeatureSelector(\n",
    "            estimator = LogisticRegression(max_iter = 500), direction = 'backward', scoring = 'roc_auc', cv = skf, n_jobs = -1\n",
    "        ).fit(x[X_all], x[target])\n",
    "    )\n",
    ")\n",
    "np.array(X_all)[sfs.get_support()]"
   ]
  },
  {
   "cell_type": "code",
   "execution_count": 28,
   "id": "f63e52ca-57e8-40e8-9f23-5c9c378ac8ff",
   "metadata": {},
   "outputs": [
    {
     "data": {
      "application/vnd.jupyter.widget-view+json": {
       "model_id": "",
       "version_major": 2,
       "version_minor": 0
      },
      "text/plain": [
       "Fold:   0%|          | 0/5 [00:00<?, ?it/s]"
      ]
     },
     "metadata": {},
     "output_type": "display_data"
    },
    {
     "data": {
      "text/plain": [
       "(0.8929517396184063, 0.009206929636066645)"
      ]
     },
     "execution_count": 28,
     "metadata": {},
     "output_type": "execute_result"
    }
   ],
   "source": [
    "hparams = {\n",
    "    'model_params': {},\n",
    "    'X_num': np.array(X_all)[sfs.get_support()].tolist(),\n",
    "    'train_data_proc_param': {'include_org': True}\n",
    "}\n",
    "result = sgml.cv(df_train, skf, hparams, config, lr_adapter, result_proc = [sgml.lr_learning_result])\n",
    "sc.cv_result('lr_bfs_a', hparams, lr_adapter, result['valid_prd'])\n",
    "np.mean(result['valid_scores']), np.std(result['valid_scores'])"
   ]
  },
  {
   "cell_type": "markdown",
   "id": "61d7f936-2d44-42d2-8ccb-670b313bbc15",
   "metadata": {},
   "source": [
    "# Forward Feature Selection wrapping LGBM"
   ]
  },
  {
   "cell_type": "code",
   "execution_count": 29,
   "id": "26cb0327-5fae-4246-9e35-9fe2f335dafb",
   "metadata": {},
   "outputs": [
    {
     "data": {
      "application/vnd.jupyter.widget-view+json": {
       "model_id": "",
       "version_major": 2,
       "version_minor": 0
      },
      "text/plain": [
       "Fold:   0%|          | 0/5 [00:00<?, ?it/s]"
      ]
     },
     "metadata": {},
     "output_type": "display_data"
    },
    {
     "data": {
      "text/plain": [
       "(0.8895819304152637, 0.9398553240740741)"
      ]
     },
     "execution_count": 29,
     "metadata": {},
     "output_type": "execute_result"
    }
   ],
   "source": [
    "hparams = {\n",
    "    'model_params': {'num_leaves': 7, 'n_estimators': 100, 'colsample_bytree': 0.75, 'learning_rate': 0.03},\n",
    "    'X_num': X_all\n",
    "}\n",
    "result = sgml.cv(df_train, skf, hparams, config, lgb_adapter)\n",
    "np.mean(result['valid_scores']), np.mean(result['train_scores'])"
   ]
  },
  {
   "cell_type": "code",
   "execution_count": null,
   "id": "fc9d35bb-70cd-42f0-9205-e345573e6bbd",
   "metadata": {},
   "outputs": [],
   "source": [
    "sfs = sc.cache_result(\n",
    "    'ff_sfs_lgb',\n",
    "    lambda : SequentialFeatureSelector(\n",
    "        estimator = lgb.LGBMClassifier(verbose = 0, **hparams['model_params']), direction = 'forward', scoring = 'roc_auc', cv = skf\n",
    "    ).fit(df_train[X_all], df_train[target])\n",
    ")\n",
    "np.array(X_all)[sfs.get_support()]"
   ]
  },
  {
   "cell_type": "code",
   "execution_count": 31,
   "id": "90958e8d-4def-4eae-9aca-f287aa605204",
   "metadata": {},
   "outputs": [
    {
     "data": {
      "application/vnd.jupyter.widget-view+json": {
       "model_id": "",
       "version_major": 2,
       "version_minor": 0
      },
      "text/plain": [
       "Fold:   0%|          | 0/5 [00:00<?, ?it/s]"
      ]
     },
     "metadata": {},
     "output_type": "display_data"
    },
    {
     "data": {
      "text/plain": [
       "(0.8969472502805835, 0.9357702020202019)"
      ]
     },
     "execution_count": 31,
     "metadata": {},
     "output_type": "execute_result"
    }
   ],
   "source": [
    "hparams = {\n",
    "    'model_params': {'num_leaves': 7, 'n_estimators': 100, 'colsample_bytree': 0.75, 'learning_rate': 0.03},\n",
    "    'X_num': np.array(X_all)[sfs.get_support()].tolist()\n",
    "}\n",
    "result = sgml.cv(df_train, skf, hparams, config, lgb_adapter)\n",
    "sc.cv_result('lgb_sfs', hparams, lgb_adapter, result['valid_prd'])\n",
    "np.mean(result['valid_scores']), np.mean(result['train_scores'])"
   ]
  },
  {
   "cell_type": "code",
   "execution_count": 32,
   "id": "0024bd88-7ef8-47cf-93ab-f358d2da233c",
   "metadata": {},
   "outputs": [
    {
     "data": {
      "text/html": [
       "<div>\n",
       "<style scoped>\n",
       "    .dataframe tbody tr th:only-of-type {\n",
       "        vertical-align: middle;\n",
       "    }\n",
       "\n",
       "    .dataframe tbody tr th {\n",
       "        vertical-align: top;\n",
       "    }\n",
       "\n",
       "    .dataframe thead th {\n",
       "        text-align: right;\n",
       "    }\n",
       "</style>\n",
       "<table border=\"1\" class=\"dataframe\">\n",
       "  <thead>\n",
       "    <tr style=\"text-align: right;\">\n",
       "      <th></th>\n",
       "      <th>mean</th>\n",
       "      <th>std</th>\n",
       "      <th>CV</th>\n",
       "    </tr>\n",
       "  </thead>\n",
       "  <tbody>\n",
       "    <tr>\n",
       "      <th>cos_wd_5</th>\n",
       "      <td>8.8</td>\n",
       "      <td>6.610598</td>\n",
       "      <td>0.751204</td>\n",
       "    </tr>\n",
       "    <tr>\n",
       "      <th>sin_wd_6</th>\n",
       "      <td>9.0</td>\n",
       "      <td>6.123724</td>\n",
       "      <td>0.680414</td>\n",
       "    </tr>\n",
       "    <tr>\n",
       "      <th>sin_ed</th>\n",
       "      <td>5.6</td>\n",
       "      <td>3.714835</td>\n",
       "      <td>0.663363</td>\n",
       "    </tr>\n",
       "    <tr>\n",
       "      <th>mintemp_ma24</th>\n",
       "      <td>6.8</td>\n",
       "      <td>4.438468</td>\n",
       "      <td>0.652716</td>\n",
       "    </tr>\n",
       "    <tr>\n",
       "      <th>temparature</th>\n",
       "      <td>2.4</td>\n",
       "      <td>1.516575</td>\n",
       "      <td>0.631906</td>\n",
       "    </tr>\n",
       "    <tr>\n",
       "      <th>dewpoint_1</th>\n",
       "      <td>6.4</td>\n",
       "      <td>3.974921</td>\n",
       "      <td>0.621081</td>\n",
       "    </tr>\n",
       "    <tr>\n",
       "      <th>cloud_5</th>\n",
       "      <td>4.6</td>\n",
       "      <td>2.701851</td>\n",
       "      <td>0.587359</td>\n",
       "    </tr>\n",
       "    <tr>\n",
       "      <th>dewpoint_ma24</th>\n",
       "      <td>14.2</td>\n",
       "      <td>7.791020</td>\n",
       "      <td>0.548663</td>\n",
       "    </tr>\n",
       "    <tr>\n",
       "      <th>cos_wd_3</th>\n",
       "      <td>12.4</td>\n",
       "      <td>6.580274</td>\n",
       "      <td>0.530667</td>\n",
       "    </tr>\n",
       "    <tr>\n",
       "      <th>expected_day</th>\n",
       "      <td>10.0</td>\n",
       "      <td>5.000000</td>\n",
       "      <td>0.500000</td>\n",
       "    </tr>\n",
       "  </tbody>\n",
       "</table>\n",
       "</div>"
      ],
      "text/plain": [
       "               mean       std        CV\n",
       "cos_wd_5        8.8  6.610598  0.751204\n",
       "sin_wd_6        9.0  6.123724  0.680414\n",
       "sin_ed          5.6  3.714835  0.663363\n",
       "mintemp_ma24    6.8  4.438468  0.652716\n",
       "temparature     2.4  1.516575  0.631906\n",
       "dewpoint_1      6.4  3.974921  0.621081\n",
       "cloud_5         4.6  2.701851  0.587359\n",
       "dewpoint_ma24  14.2  7.791020  0.548663\n",
       "cos_wd_3       12.4  6.580274  0.530667\n",
       "expected_day   10.0  5.000000  0.500000"
      ]
     },
     "execution_count": 32,
     "metadata": {},
     "output_type": "execute_result"
    }
   ],
   "source": [
    "df_imp = pd.concat(\n",
    "    [i['feature_importance'] for i in result['model_result']], axis=1\n",
    ").agg(['mean', 'std'], axis=1).assign(\n",
    "    CV = lambda x: x['std'] / x['mean'].abs()\n",
    ").sort_values('CV', ascending = False)\n",
    "df_imp.iloc[:10]"
   ]
  },
  {
   "cell_type": "code",
   "execution_count": 33,
   "id": "2904ae16-f1f2-4b94-a57d-12758b51a0d9",
   "metadata": {},
   "outputs": [
    {
     "data": {
      "application/vnd.jupyter.widget-view+json": {
       "model_id": "",
       "version_major": 2,
       "version_minor": 0
      },
      "text/plain": [
       "Fold:   0%|          | 0/5 [00:00<?, ?it/s]"
      ]
     },
     "metadata": {},
     "output_type": "display_data"
    },
    {
     "data": {
      "text/plain": [
       "(0.8956874298540966, 0.9342052469135801)"
      ]
     },
     "execution_count": 33,
     "metadata": {},
     "output_type": "execute_result"
    }
   ],
   "source": [
    "hparams = {\n",
    "    'model_params': {'num_leaves': 7, 'n_estimators': 100, 'colsample_bytree': 0.75, 'learning_rate': 0.03},\n",
    "    'X_num': df_imp.iloc[3:].index.tolist()\n",
    "}\n",
    "result = sgml.cv(df_train, skf, hparams, config, lgb_adapter)\n",
    "sc.cv_result('lgb_sfs2', hparams, lgb_adapter, result['valid_prd'])\n",
    "np.mean(result['valid_scores']), np.mean(result['train_scores'])"
   ]
  },
  {
   "cell_type": "code",
   "execution_count": 34,
   "id": "3e543792-f927-414b-a690-55e43489bcdf",
   "metadata": {},
   "outputs": [
    {
     "data": {
      "text/html": [
       "<div>\n",
       "<style scoped>\n",
       "    .dataframe tbody tr th:only-of-type {\n",
       "        vertical-align: middle;\n",
       "    }\n",
       "\n",
       "    .dataframe tbody tr th {\n",
       "        vertical-align: top;\n",
       "    }\n",
       "\n",
       "    .dataframe thead th {\n",
       "        text-align: right;\n",
       "    }\n",
       "</style>\n",
       "<table border=\"1\" class=\"dataframe\">\n",
       "  <thead>\n",
       "    <tr style=\"text-align: right;\">\n",
       "      <th></th>\n",
       "      <th>mean</th>\n",
       "      <th>std</th>\n",
       "      <th>CV</th>\n",
       "    </tr>\n",
       "  </thead>\n",
       "  <tbody>\n",
       "    <tr>\n",
       "      <th>cloud_2</th>\n",
       "      <td>2.2</td>\n",
       "      <td>2.049390</td>\n",
       "      <td>0.931541</td>\n",
       "    </tr>\n",
       "    <tr>\n",
       "      <th>cloud_5</th>\n",
       "      <td>5.6</td>\n",
       "      <td>5.029911</td>\n",
       "      <td>0.898198</td>\n",
       "    </tr>\n",
       "    <tr>\n",
       "      <th>sin_wd_2</th>\n",
       "      <td>5.6</td>\n",
       "      <td>4.615192</td>\n",
       "      <td>0.824141</td>\n",
       "    </tr>\n",
       "    <tr>\n",
       "      <th>cos_wd_3</th>\n",
       "      <td>8.2</td>\n",
       "      <td>6.723095</td>\n",
       "      <td>0.819890</td>\n",
       "    </tr>\n",
       "    <tr>\n",
       "      <th>year</th>\n",
       "      <td>2.4</td>\n",
       "      <td>1.949359</td>\n",
       "      <td>0.812233</td>\n",
       "    </tr>\n",
       "    <tr>\n",
       "      <th>cloud_6</th>\n",
       "      <td>5.4</td>\n",
       "      <td>3.781534</td>\n",
       "      <td>0.700284</td>\n",
       "    </tr>\n",
       "    <tr>\n",
       "      <th>dewpoint_4</th>\n",
       "      <td>13.8</td>\n",
       "      <td>9.628084</td>\n",
       "      <td>0.697687</td>\n",
       "    </tr>\n",
       "    <tr>\n",
       "      <th>dewpoint_ma24</th>\n",
       "      <td>13.0</td>\n",
       "      <td>8.860023</td>\n",
       "      <td>0.681540</td>\n",
       "    </tr>\n",
       "    <tr>\n",
       "      <th>mintemp_ma24</th>\n",
       "      <td>6.4</td>\n",
       "      <td>4.159327</td>\n",
       "      <td>0.649895</td>\n",
       "    </tr>\n",
       "    <tr>\n",
       "      <th>expected_day</th>\n",
       "      <td>9.8</td>\n",
       "      <td>6.340347</td>\n",
       "      <td>0.646974</td>\n",
       "    </tr>\n",
       "  </tbody>\n",
       "</table>\n",
       "</div>"
      ],
      "text/plain": [
       "               mean       std        CV\n",
       "cloud_2         2.2  2.049390  0.931541\n",
       "cloud_5         5.6  5.029911  0.898198\n",
       "sin_wd_2        5.6  4.615192  0.824141\n",
       "cos_wd_3        8.2  6.723095  0.819890\n",
       "year            2.4  1.949359  0.812233\n",
       "cloud_6         5.4  3.781534  0.700284\n",
       "dewpoint_4     13.8  9.628084  0.697687\n",
       "dewpoint_ma24  13.0  8.860023  0.681540\n",
       "mintemp_ma24    6.4  4.159327  0.649895\n",
       "expected_day    9.8  6.340347  0.646974"
      ]
     },
     "execution_count": 34,
     "metadata": {},
     "output_type": "execute_result"
    }
   ],
   "source": [
    "df_imp = pd.concat(\n",
    "    [i['feature_importance'] for i in result['model_result']], axis=1\n",
    ").agg(['mean', 'std'], axis=1).assign(\n",
    "    CV = lambda x: x['std'] / x['mean'].abs()\n",
    ").sort_values('CV', ascending = False)\n",
    "df_imp.iloc[:10]"
   ]
  },
  {
   "cell_type": "markdown",
   "id": "9f5f2ae9-5dac-4cde-b40a-324753b1d05e",
   "metadata": {},
   "source": [
    "# Forward Feature Selection wrapping LGBM Augumenting Org"
   ]
  },
  {
   "cell_type": "code",
   "execution_count": 96,
   "id": "af49214b-0941-4077-a60f-dd557ba44178",
   "metadata": {},
   "outputs": [
    {
     "data": {
      "text/plain": [
       "array(['sin_ed', 'pressure', 'maxtemp', 'temparature', 'mintemp',\n",
       "       'dewpoint', 'humidity', 'cloud', 'sunshine', 'windspeed', 'chp',\n",
       "       'sunshine_1', 'sunshine_5', 'cloud_2', 'cloud_3', 'cloud_6',\n",
       "       'dewpoint_1', 'dewpoint_2', 'chp_2', 'chp_3', 'chp_4', 'chp_6',\n",
       "       'cos_wd_1', 'sin_wd_5', 'maxtemp_ma24', 'temparature_ma24',\n",
       "       'dewpoint_ma24', 'humidity_ma24', 'cloud_ma24', 'windspeed_ma24',\n",
       "       'chp_ma24', 'year'], dtype='<U16')"
      ]
     },
     "execution_count": 96,
     "metadata": {},
     "output_type": "execute_result"
    }
   ],
   "source": [
    "hparams = {\n",
    "    'model_params': {'num_leaves': 7, 'n_estimators': 100, 'colsample_bytree': 0.75, 'learning_rate': 0.03},\n",
    "    'X_num': X_all\n",
    "}\n",
    "sfs = sc.cache_result(\n",
    "    'ff_sfs_lgb2',\n",
    "    lambda : pd.concat([df_train, df_org]).pipe(\n",
    "        lambda x: SequentialFeatureSelector(\n",
    "            estimator = lgb.LGBMClassifier(verbose = 0, **hparams['model_params']), direction = 'forward', scoring = 'roc_auc', cv = skf\n",
    "        ).fit(x[X_all], x[target])\n",
    "    )\n",
    ")\n",
    "np.array(X_all)[sfs.get_support()]"
   ]
  },
  {
   "cell_type": "code",
   "execution_count": 97,
   "id": "0d8a817d-0aa7-4bfc-b8d1-de6ca8bea89f",
   "metadata": {},
   "outputs": [
    {
     "data": {
      "application/vnd.jupyter.widget-view+json": {
       "model_id": "",
       "version_major": 2,
       "version_minor": 0
      },
      "text/plain": [
       "Fold:   0%|          | 0/5 [00:00<?, ?it/s]"
      ]
     },
     "metadata": {},
     "output_type": "display_data"
    },
    {
     "data": {
      "text/plain": [
       "(0.8941694725028059, 0.9291066322568062)"
      ]
     },
     "execution_count": 97,
     "metadata": {},
     "output_type": "execute_result"
    }
   ],
   "source": [
    "hparams = {\n",
    "    'model_params': {'num_leaves': 7, 'n_estimators': 100, 'colsample_bytree': 0.75, 'learning_rate': 0.03},\n",
    "    'X_num': np.array(X_all)[sfs.get_support()].tolist(),\n",
    "    'train_data_proc_param': {'include_org': True}\n",
    "}\n",
    "result = sgml.cv(df_train, skf, hparams, config, lgb_adapter)\n",
    "sc.cv_result('lgb_sfs_a', hparams, lgb_adapter, result['valid_prd'])\n",
    "np.mean(result['valid_scores']), np.mean(result['train_scores'])"
   ]
  },
  {
   "cell_type": "code",
   "execution_count": 98,
   "id": "8670ceba-ed59-476c-a681-b8072cfee390",
   "metadata": {},
   "outputs": [
    {
     "data": {
      "text/html": [
       "<div>\n",
       "<style scoped>\n",
       "    .dataframe tbody tr th:only-of-type {\n",
       "        vertical-align: middle;\n",
       "    }\n",
       "\n",
       "    .dataframe tbody tr th {\n",
       "        vertical-align: top;\n",
       "    }\n",
       "\n",
       "    .dataframe thead th {\n",
       "        text-align: right;\n",
       "    }\n",
       "</style>\n",
       "<table border=\"1\" class=\"dataframe\">\n",
       "  <thead>\n",
       "    <tr style=\"text-align: right;\">\n",
       "      <th></th>\n",
       "      <th>mean</th>\n",
       "      <th>std</th>\n",
       "      <th>CV</th>\n",
       "    </tr>\n",
       "  </thead>\n",
       "  <tbody>\n",
       "    <tr>\n",
       "      <th>chp_2</th>\n",
       "      <td>4.6</td>\n",
       "      <td>4.449719</td>\n",
       "      <td>0.967330</td>\n",
       "    </tr>\n",
       "    <tr>\n",
       "      <th>year</th>\n",
       "      <td>1.6</td>\n",
       "      <td>1.516575</td>\n",
       "      <td>0.947859</td>\n",
       "    </tr>\n",
       "    <tr>\n",
       "      <th>sin_wd_5</th>\n",
       "      <td>7.2</td>\n",
       "      <td>6.457554</td>\n",
       "      <td>0.896882</td>\n",
       "    </tr>\n",
       "    <tr>\n",
       "      <th>chp_4</th>\n",
       "      <td>2.2</td>\n",
       "      <td>1.788854</td>\n",
       "      <td>0.813116</td>\n",
       "    </tr>\n",
       "    <tr>\n",
       "      <th>temparature</th>\n",
       "      <td>4.8</td>\n",
       "      <td>3.633180</td>\n",
       "      <td>0.756913</td>\n",
       "    </tr>\n",
       "    <tr>\n",
       "      <th>dewpoint_1</th>\n",
       "      <td>6.2</td>\n",
       "      <td>4.494441</td>\n",
       "      <td>0.724910</td>\n",
       "    </tr>\n",
       "    <tr>\n",
       "      <th>cloud_2</th>\n",
       "      <td>6.0</td>\n",
       "      <td>3.741657</td>\n",
       "      <td>0.623610</td>\n",
       "    </tr>\n",
       "    <tr>\n",
       "      <th>chp_ma24</th>\n",
       "      <td>4.0</td>\n",
       "      <td>2.345208</td>\n",
       "      <td>0.586302</td>\n",
       "    </tr>\n",
       "    <tr>\n",
       "      <th>sunshine_1</th>\n",
       "      <td>8.6</td>\n",
       "      <td>4.929503</td>\n",
       "      <td>0.573198</td>\n",
       "    </tr>\n",
       "    <tr>\n",
       "      <th>cos_wd_1</th>\n",
       "      <td>5.6</td>\n",
       "      <td>3.130495</td>\n",
       "      <td>0.559017</td>\n",
       "    </tr>\n",
       "  </tbody>\n",
       "</table>\n",
       "</div>"
      ],
      "text/plain": [
       "             mean       std        CV\n",
       "chp_2         4.6  4.449719  0.967330\n",
       "year          1.6  1.516575  0.947859\n",
       "sin_wd_5      7.2  6.457554  0.896882\n",
       "chp_4         2.2  1.788854  0.813116\n",
       "temparature   4.8  3.633180  0.756913\n",
       "dewpoint_1    6.2  4.494441  0.724910\n",
       "cloud_2       6.0  3.741657  0.623610\n",
       "chp_ma24      4.0  2.345208  0.586302\n",
       "sunshine_1    8.6  4.929503  0.573198\n",
       "cos_wd_1      5.6  3.130495  0.559017"
      ]
     },
     "execution_count": 98,
     "metadata": {},
     "output_type": "execute_result"
    }
   ],
   "source": [
    "df_imp = pd.concat(\n",
    "    [i['feature_importance'] for i in result['model_result']], axis=1\n",
    ").agg(['mean', 'std'], axis=1).assign(\n",
    "    CV = lambda x: x['std'] / x['mean'].abs()\n",
    ").sort_values('CV', ascending = False)\n",
    "df_imp.iloc[:10]"
   ]
  },
  {
   "cell_type": "code",
   "execution_count": 99,
   "id": "2eb10f52-e81d-41eb-96f8-1e28195da080",
   "metadata": {},
   "outputs": [
    {
     "data": {
      "application/vnd.jupyter.widget-view+json": {
       "model_id": "",
       "version_major": 2,
       "version_minor": 0
      },
      "text/plain": [
       "Fold:   0%|          | 0/5 [00:00<?, ?it/s]"
      ]
     },
     "metadata": {},
     "output_type": "display_data"
    },
    {
     "data": {
      "text/plain": [
       "(0.8952160493827159, 0.9286553801395666)"
      ]
     },
     "execution_count": 99,
     "metadata": {},
     "output_type": "execute_result"
    }
   ],
   "source": [
    "hparams = {\n",
    "    'model_params': {'num_leaves': 7, 'n_estimators': 100, 'colsample_bytree': 0.75, 'learning_rate': 0.03},\n",
    "    'X_num': df_imp.iloc[6:].index.tolist(),\n",
    "    'train_data_proc_param': {'include_org': True}\n",
    "}\n",
    "result = sgml.cv(df_train, skf, hparams, config, lgb_adapter)\n",
    "sc.cv_result('lgb_sfs_a2', hparams, lgb_adapter, result['valid_prd'])\n",
    "np.mean(result['valid_scores']), np.mean(result['train_scores'])"
   ]
  },
  {
   "cell_type": "markdown",
   "id": "e35c57b8-33a7-4489-ba03-8ad4dfdb125f",
   "metadata": {},
   "source": [
    "# Backward Feature Selection wrapping LGBM"
   ]
  },
  {
   "cell_type": "code",
   "execution_count": 39,
   "id": "4a7eedde-c58b-48bd-a1aa-15698093334e",
   "metadata": {},
   "outputs": [
    {
     "data": {
      "text/plain": [
       "array(['temparature', 'mintemp', 'sunshine', 'windspeed', 'cos_wd', 'chp',\n",
       "       'sunshine_1', 'sunshine_6', 'cloud_1', 'cloud_5', 'cloud_6',\n",
       "       'dewpoint_3', 'chp_1', 'chp_2', 'chp_3', 'chp_5', 'cos_wd_3',\n",
       "       'cos_wd_4', 'sin_wd_3', 'sin_wd_4', 'sin_wd_6', 'pressure_ma24',\n",
       "       'maxtemp_ma24', 'temparature_ma24', 'dewpoint_ma24',\n",
       "       'humidity_ma24', 'cloud_ma24', 'sunshine_ma24', 'sin_wd_ma24',\n",
       "       'chp_ma24', 'year', 'winddirection'], dtype='<U16')"
      ]
     },
     "execution_count": 39,
     "metadata": {},
     "output_type": "execute_result"
    }
   ],
   "source": [
    "hparams = {\n",
    "    'model_params': {'num_leaves': 7, 'n_estimators': 100, 'colsample_bytree': 0.75, 'learning_rate': 0.03},\n",
    "    'X_num': X_all\n",
    "}\n",
    "sfs = sc.cache_result(\n",
    "    'bf_sfs_lgb',\n",
    "    lambda : SequentialFeatureSelector(\n",
    "        estimator = lgb.LGBMClassifier(verbose = 0, **hparams['model_params']), direction = 'backward', scoring = 'roc_auc', cv = skf\n",
    "    ).fit(df_train[X_all], df_train[target])\n",
    ")\n",
    "np.array(X_all)[sfs.get_support()]"
   ]
  },
  {
   "cell_type": "code",
   "execution_count": 40,
   "id": "1da076e4-3bfb-4b5f-b4ad-815c040af086",
   "metadata": {},
   "outputs": [
    {
     "data": {
      "application/vnd.jupyter.widget-view+json": {
       "model_id": "",
       "version_major": 2,
       "version_minor": 0
      },
      "text/plain": [
       "Fold:   0%|          | 0/5 [00:00<?, ?it/s]"
      ]
     },
     "metadata": {},
     "output_type": "display_data"
    },
    {
     "data": {
      "text/plain": [
       "(0.8956874298540966, 0.9361584595959597)"
      ]
     },
     "execution_count": 40,
     "metadata": {},
     "output_type": "execute_result"
    }
   ],
   "source": [
    "hparams = {\n",
    "    'model_params': {'num_leaves': 7, 'n_estimators': 100, 'colsample_bytree': 0.75, 'learning_rate': 0.03},\n",
    "    'X_num': np.array(X_all)[sfs.get_support()].tolist()\n",
    "}\n",
    "result = sgml.cv(df_train, skf, hparams, config, lgb_adapter)\n",
    "sc.cv_result('lgb_bfs', hparams, lgb_adapter, result['valid_prd'])\n",
    "np.mean(result['valid_scores']), np.mean(result['train_scores'])"
   ]
  },
  {
   "cell_type": "markdown",
   "id": "eab44250-462b-46f6-9016-ac1238c64b49",
   "metadata": {},
   "source": [
    "# Forward Feature Selection wrapping XGB"
   ]
  },
  {
   "cell_type": "code",
   "execution_count": 41,
   "id": "3b529fe2-2af6-4a46-ad2f-4dd37457ce99",
   "metadata": {},
   "outputs": [
    {
     "data": {
      "application/vnd.jupyter.widget-view+json": {
       "model_id": "",
       "version_major": 2,
       "version_minor": 0
      },
      "text/plain": [
       "Fold:   0%|          | 0/5 [00:00<?, ?it/s]"
      ]
     },
     "metadata": {},
     "output_type": "display_data"
    },
    {
     "data": {
      "text/plain": [
       "(0.8913524130190797, 0.9442971380471381)"
      ]
     },
     "execution_count": 41,
     "metadata": {},
     "output_type": "execute_result"
    }
   ],
   "source": [
    "hparams = {\n",
    "    'model_params': {'max_depth': 3, 'n_estimators': 100, 'colsample_bytree': 0.75, 'learning_rate': 0.04},\n",
    "    'X_num': X_all\n",
    "}\n",
    "result = sgml.cv(df_train, skf, hparams, config, xgb_adapter)\n",
    "np.mean(result['valid_scores']), np.mean(result['train_scores'])"
   ]
  },
  {
   "cell_type": "code",
   "execution_count": 42,
   "id": "4c429933-938f-4570-9d67-214a0c6d0c88",
   "metadata": {},
   "outputs": [
    {
     "data": {
      "text/plain": [
       "array(['sin_ed', 'maxtemp', 'temparature', 'mintemp', 'dewpoint',\n",
       "       'sunshine', 'windspeed', 'chp', 'sunshine_3', 'sunshine_6',\n",
       "       'cloud_1', 'cloud_6', 'dewpoint_2', 'dewpoint_5', 'chp_1', 'chp_3',\n",
       "       'chp_4', 'chp_6', 'cos_wd_1', 'cos_wd_4', 'cos_wd_5', 'sin_wd_2',\n",
       "       'sin_wd_5', 'sin_wd_6', 'maxtemp_ma24', 'temparature_ma24',\n",
       "       'dewpoint_ma24', 'humidity_ma24', 'sunshine_ma24',\n",
       "       'windspeed_ma24', 'sin_wd_ma24', 'year'], dtype='<U16')"
      ]
     },
     "execution_count": 42,
     "metadata": {},
     "output_type": "execute_result"
    }
   ],
   "source": [
    "sfs = sc.cache_result(\n",
    "    'ff_sfs_xgb',\n",
    "    lambda : SequentialFeatureSelector(\n",
    "        estimator = xgb.XGBClassifier(**hparams['model_params']), direction = 'forward', scoring = 'roc_auc', cv = skf\n",
    "    ).fit(df_train[X_all], df_train[target])\n",
    ")\n",
    "np.array(X_all)[sfs.get_support()]"
   ]
  },
  {
   "cell_type": "code",
   "execution_count": 43,
   "id": "46a324ab-e0f7-4658-bd2a-497ecd068386",
   "metadata": {},
   "outputs": [
    {
     "data": {
      "application/vnd.jupyter.widget-view+json": {
       "model_id": "",
       "version_major": 2,
       "version_minor": 0
      },
      "text/plain": [
       "Fold:   0%|          | 0/5 [00:00<?, ?it/s]"
      ]
     },
     "metadata": {},
     "output_type": "display_data"
    },
    {
     "data": {
      "text/plain": [
       "(0.8972895622895625, 0.938904496352413)"
      ]
     },
     "execution_count": 43,
     "metadata": {},
     "output_type": "execute_result"
    }
   ],
   "source": [
    "hparams = {\n",
    "    'model_params': {'max_depth': 3, 'n_estimators': 100, 'colsample_bytree': 0.75, 'learning_rate': 0.04},\n",
    "    'X_num': np.array(X_all)[sfs.get_support()].tolist()\n",
    "}\n",
    "result = sgml.cv(df_train, skf, hparams, config, xgb_adapter)\n",
    "sc.cv_result('xgb_sfs', hparams, xgb_adapter, result['valid_prd'])\n",
    "np.mean(result['valid_scores']), np.mean(result['train_scores'])"
   ]
  },
  {
   "cell_type": "code",
   "execution_count": 44,
   "id": "d9a76e82-49e1-48ea-a39b-c8f47b30ab9e",
   "metadata": {},
   "outputs": [
    {
     "data": {
      "text/html": [
       "<div>\n",
       "<style scoped>\n",
       "    .dataframe tbody tr th:only-of-type {\n",
       "        vertical-align: middle;\n",
       "    }\n",
       "\n",
       "    .dataframe tbody tr th {\n",
       "        vertical-align: top;\n",
       "    }\n",
       "\n",
       "    .dataframe thead th {\n",
       "        text-align: right;\n",
       "    }\n",
       "</style>\n",
       "<table border=\"1\" class=\"dataframe\">\n",
       "  <thead>\n",
       "    <tr style=\"text-align: right;\">\n",
       "      <th></th>\n",
       "      <th>mean</th>\n",
       "      <th>std</th>\n",
       "      <th>CV</th>\n",
       "    </tr>\n",
       "  </thead>\n",
       "  <tbody>\n",
       "    <tr>\n",
       "      <th>mintemp</th>\n",
       "      <td>0.039779</td>\n",
       "      <td>0.021842</td>\n",
       "      <td>0.549098</td>\n",
       "    </tr>\n",
       "    <tr>\n",
       "      <th>cloud_6</th>\n",
       "      <td>0.011195</td>\n",
       "      <td>0.005909</td>\n",
       "      <td>0.527865</td>\n",
       "    </tr>\n",
       "    <tr>\n",
       "      <th>temparature</th>\n",
       "      <td>0.030662</td>\n",
       "      <td>0.015242</td>\n",
       "      <td>0.497081</td>\n",
       "    </tr>\n",
       "    <tr>\n",
       "      <th>sin_wd_ma24</th>\n",
       "      <td>0.016736</td>\n",
       "      <td>0.007650</td>\n",
       "      <td>0.457095</td>\n",
       "    </tr>\n",
       "    <tr>\n",
       "      <th>chp_1</th>\n",
       "      <td>0.024434</td>\n",
       "      <td>0.009823</td>\n",
       "      <td>0.402003</td>\n",
       "    </tr>\n",
       "    <tr>\n",
       "      <th>maxtemp</th>\n",
       "      <td>0.043826</td>\n",
       "      <td>0.016326</td>\n",
       "      <td>0.372526</td>\n",
       "    </tr>\n",
       "    <tr>\n",
       "      <th>maxtemp_ma24</th>\n",
       "      <td>0.016735</td>\n",
       "      <td>0.005493</td>\n",
       "      <td>0.328238</td>\n",
       "    </tr>\n",
       "    <tr>\n",
       "      <th>cos_wd_1</th>\n",
       "      <td>0.017793</td>\n",
       "      <td>0.004710</td>\n",
       "      <td>0.264693</td>\n",
       "    </tr>\n",
       "    <tr>\n",
       "      <th>windspeed_ma24</th>\n",
       "      <td>0.024015</td>\n",
       "      <td>0.006354</td>\n",
       "      <td>0.264570</td>\n",
       "    </tr>\n",
       "    <tr>\n",
       "      <th>dewpoint_2</th>\n",
       "      <td>0.027764</td>\n",
       "      <td>0.006754</td>\n",
       "      <td>0.243267</td>\n",
       "    </tr>\n",
       "  </tbody>\n",
       "</table>\n",
       "</div>"
      ],
      "text/plain": [
       "                    mean       std        CV\n",
       "mintemp         0.039779  0.021842  0.549098\n",
       "cloud_6         0.011195  0.005909  0.527865\n",
       "temparature     0.030662  0.015242  0.497081\n",
       "sin_wd_ma24     0.016736  0.007650  0.457095\n",
       "chp_1           0.024434  0.009823  0.402003\n",
       "maxtemp         0.043826  0.016326  0.372526\n",
       "maxtemp_ma24    0.016735  0.005493  0.328238\n",
       "cos_wd_1        0.017793  0.004710  0.264693\n",
       "windspeed_ma24  0.024015  0.006354  0.264570\n",
       "dewpoint_2      0.027764  0.006754  0.243267"
      ]
     },
     "execution_count": 44,
     "metadata": {},
     "output_type": "execute_result"
    }
   ],
   "source": [
    "df_imp = pd.concat(\n",
    "    [i['feature_importance'] for i in result['model_result']], axis=1\n",
    ").agg(['mean', 'std'], axis=1).assign(\n",
    "    CV = lambda x: x['std'] / x['mean'].abs()\n",
    ").sort_values('CV', ascending = False)\n",
    "df_imp.iloc[:10]"
   ]
  },
  {
   "cell_type": "code",
   "execution_count": 45,
   "id": "bb1b196a-cf45-419e-aee2-fa7925b49f57",
   "metadata": {},
   "outputs": [
    {
     "data": {
      "application/vnd.jupyter.widget-view+json": {
       "model_id": "",
       "version_major": 2,
       "version_minor": 0
      },
      "text/plain": [
       "Fold:   0%|          | 0/5 [00:00<?, ?it/s]"
      ]
     },
     "metadata": {},
     "output_type": "display_data"
    },
    {
     "data": {
      "text/plain": [
       "(0.897368125701459, 0.9388632856341189)"
      ]
     },
     "execution_count": 45,
     "metadata": {},
     "output_type": "execute_result"
    }
   ],
   "source": [
    "hparams = {\n",
    "    'model_params': {'max_depth': 3, 'n_estimators': 100, 'colsample_bytree': 0.75, 'learning_rate': 0.04},\n",
    "    'X_num': df_imp.iloc[2:].index.tolist()\n",
    "}\n",
    "result = sgml.cv(df_train, skf, hparams, config, xgb_adapter)\n",
    "sc.cv_result('xgb_sfs2', hparams, xgb_adapter, result['valid_prd'])\n",
    "np.mean(result['valid_scores']), np.mean(result['train_scores'])"
   ]
  },
  {
   "cell_type": "markdown",
   "id": "b2aa3623-6a54-4743-81fc-63561980111b",
   "metadata": {},
   "source": [
    "# Forward Feature Selection wrapping LGBM Augumenting Org"
   ]
  },
  {
   "cell_type": "code",
   "execution_count": 46,
   "id": "0dc5a87a-86de-4799-a800-7251094b40ed",
   "metadata": {},
   "outputs": [
    {
     "data": {
      "text/plain": [
       "array(['sin_ed', 'pressure', 'maxtemp', 'temparature', 'mintemp',\n",
       "       'dewpoint', 'humidity', 'cloud', 'sunshine', 'windspeed', 'cos_wd',\n",
       "       'sin_wd', 'chp', 'sunshine_1', 'sunshine_3', 'sunshine_6',\n",
       "       'cloud_3', 'cloud_4', 'cloud_5', 'dewpoint_3', 'chp_2', 'chp_3',\n",
       "       'cos_wd_1', 'cos_wd_2', 'cos_wd_6', 'sin_wd_2', 'temparature_ma24',\n",
       "       'mintemp_ma24', 'cloud_ma24', 'sunshine_ma24', 'windspeed_ma24',\n",
       "       'year'], dtype='<U16')"
      ]
     },
     "execution_count": 46,
     "metadata": {},
     "output_type": "execute_result"
    }
   ],
   "source": [
    "hparams = {\n",
    "    'model_params': {'max_depth': 3, 'n_estimators': 100, 'colsample_bytree': 0.75, 'learning_rate': 0.04},\n",
    "    'X_num': X_all\n",
    "}\n",
    "sfs = sc.cache_result(\n",
    "    'ff_sfs_xgb2',\n",
    "    lambda : pd.concat([df_train, df_org]).pipe(\n",
    "        lambda x: SequentialFeatureSelector(\n",
    "            estimator = xgb.XGBClassifier(**hparams['model_params']), direction = 'forward', scoring = 'roc_auc', cv = skf\n",
    "        ).fit(x[X_all], x[target])\n",
    "    )\n",
    ")\n",
    "np.array(X_all)[sfs.get_support()]"
   ]
  },
  {
   "cell_type": "code",
   "execution_count": 47,
   "id": "931c01f4-209c-4758-bb1c-8b2d7cea6ecd",
   "metadata": {},
   "outputs": [
    {
     "data": {
      "application/vnd.jupyter.widget-view+json": {
       "model_id": "",
       "version_major": 2,
       "version_minor": 0
      },
      "text/plain": [
       "Fold:   0%|          | 0/5 [00:00<?, ?it/s]"
      ]
     },
     "metadata": {},
     "output_type": "display_data"
    },
    {
     "data": {
      "text/plain": [
       "(0.8932379349046016, 0.932458459148739)"
      ]
     },
     "execution_count": 47,
     "metadata": {},
     "output_type": "execute_result"
    }
   ],
   "source": [
    "hparams = {\n",
    "    'model_params': {'max_depth': 3, 'n_estimators': 100, 'colsample_bytree': 0.75, 'learning_rate': 0.04},\n",
    "    'X_num': np.array(X_all)[sfs.get_support()].tolist(),\n",
    "    'train_data_proc_param': {'include_org': True}\n",
    "}\n",
    "result = sgml.cv(df_train, skf, hparams, config, xgb_adapter)\n",
    "sc.cv_result('xgb_sfs_a', hparams, xgb_adapter, result['valid_prd'])\n",
    "np.mean(result['valid_scores']), np.mean(result['train_scores'])"
   ]
  },
  {
   "cell_type": "code",
   "execution_count": 48,
   "id": "614fbddd-ffdd-4ce3-9cb5-ea5389ee8376",
   "metadata": {},
   "outputs": [
    {
     "data": {
      "text/html": [
       "<div>\n",
       "<style scoped>\n",
       "    .dataframe tbody tr th:only-of-type {\n",
       "        vertical-align: middle;\n",
       "    }\n",
       "\n",
       "    .dataframe tbody tr th {\n",
       "        vertical-align: top;\n",
       "    }\n",
       "\n",
       "    .dataframe thead th {\n",
       "        text-align: right;\n",
       "    }\n",
       "</style>\n",
       "<table border=\"1\" class=\"dataframe\">\n",
       "  <thead>\n",
       "    <tr style=\"text-align: right;\">\n",
       "      <th></th>\n",
       "      <th>mean</th>\n",
       "      <th>std</th>\n",
       "      <th>CV</th>\n",
       "    </tr>\n",
       "  </thead>\n",
       "  <tbody>\n",
       "    <tr>\n",
       "      <th>year</th>\n",
       "      <td>0.005378</td>\n",
       "      <td>0.005091</td>\n",
       "      <td>0.946545</td>\n",
       "    </tr>\n",
       "    <tr>\n",
       "      <th>cloud_4</th>\n",
       "      <td>0.018069</td>\n",
       "      <td>0.009273</td>\n",
       "      <td>0.513186</td>\n",
       "    </tr>\n",
       "    <tr>\n",
       "      <th>dewpoint_3</th>\n",
       "      <td>0.017460</td>\n",
       "      <td>0.008724</td>\n",
       "      <td>0.499647</td>\n",
       "    </tr>\n",
       "    <tr>\n",
       "      <th>cos_wd_6</th>\n",
       "      <td>0.015537</td>\n",
       "      <td>0.006964</td>\n",
       "      <td>0.448243</td>\n",
       "    </tr>\n",
       "    <tr>\n",
       "      <th>chp_2</th>\n",
       "      <td>0.014191</td>\n",
       "      <td>0.006312</td>\n",
       "      <td>0.444766</td>\n",
       "    </tr>\n",
       "    <tr>\n",
       "      <th>cos_wd_2</th>\n",
       "      <td>0.017929</td>\n",
       "      <td>0.007543</td>\n",
       "      <td>0.420690</td>\n",
       "    </tr>\n",
       "    <tr>\n",
       "      <th>sin_wd_2</th>\n",
       "      <td>0.017178</td>\n",
       "      <td>0.006387</td>\n",
       "      <td>0.371787</td>\n",
       "    </tr>\n",
       "    <tr>\n",
       "      <th>mintemp</th>\n",
       "      <td>0.045677</td>\n",
       "      <td>0.015609</td>\n",
       "      <td>0.341731</td>\n",
       "    </tr>\n",
       "    <tr>\n",
       "      <th>sunshine_1</th>\n",
       "      <td>0.015253</td>\n",
       "      <td>0.004352</td>\n",
       "      <td>0.285315</td>\n",
       "    </tr>\n",
       "    <tr>\n",
       "      <th>maxtemp</th>\n",
       "      <td>0.035940</td>\n",
       "      <td>0.009467</td>\n",
       "      <td>0.263405</td>\n",
       "    </tr>\n",
       "  </tbody>\n",
       "</table>\n",
       "</div>"
      ],
      "text/plain": [
       "                mean       std        CV\n",
       "year        0.005378  0.005091  0.946545\n",
       "cloud_4     0.018069  0.009273  0.513186\n",
       "dewpoint_3  0.017460  0.008724  0.499647\n",
       "cos_wd_6    0.015537  0.006964  0.448243\n",
       "chp_2       0.014191  0.006312  0.444766\n",
       "cos_wd_2    0.017929  0.007543  0.420690\n",
       "sin_wd_2    0.017178  0.006387  0.371787\n",
       "mintemp     0.045677  0.015609  0.341731\n",
       "sunshine_1  0.015253  0.004352  0.285315\n",
       "maxtemp     0.035940  0.009467  0.263405"
      ]
     },
     "execution_count": 48,
     "metadata": {},
     "output_type": "execute_result"
    }
   ],
   "source": [
    "df_imp = pd.concat(\n",
    "    [i['feature_importance'] for i in result['model_result']], axis=1\n",
    ").agg(['mean', 'std'], axis=1).assign(\n",
    "    CV = lambda x: x['std'] / x['mean'].abs()\n",
    ").sort_values('CV', ascending = False)\n",
    "df_imp.iloc[:10]"
   ]
  },
  {
   "cell_type": "code",
   "execution_count": 49,
   "id": "47408ade-afa4-49d7-8532-a8cd69e1e712",
   "metadata": {},
   "outputs": [
    {
     "data": {
      "application/vnd.jupyter.widget-view+json": {
       "model_id": "",
       "version_major": 2,
       "version_minor": 0
      },
      "text/plain": [
       "Fold:   0%|          | 0/5 [00:00<?, ?it/s]"
      ]
     },
     "metadata": {},
     "output_type": "display_data"
    },
    {
     "data": {
      "text/plain": [
       "(0.8944949494949496, 0.9314452025294265)"
      ]
     },
     "execution_count": 49,
     "metadata": {},
     "output_type": "execute_result"
    }
   ],
   "source": [
    "hparams = {\n",
    "    'model_params': {'max_depth': 3, 'n_estimators': 100, 'colsample_bytree': 0.75, 'learning_rate': 0.04},\n",
    "    'X_num': df_imp.iloc[6:].index.tolist(),\n",
    "    'train_data_proc_param': {'include_org': True}\n",
    "}\n",
    "result = sgml.cv(df_train, skf, hparams, config, xgb_adapter)\n",
    "np.mean(result['valid_scores']), np.mean(result['train_scores'])"
   ]
  },
  {
   "cell_type": "markdown",
   "id": "4a5f0412-1a12-42a1-836e-477535dc51e0",
   "metadata": {},
   "source": [
    "# Backward Feature Selection wrapping XGB"
   ]
  },
  {
   "cell_type": "code",
   "execution_count": 50,
   "id": "02fa13bf-3652-4ff8-8ccd-d3b28becba88",
   "metadata": {},
   "outputs": [
    {
     "data": {
      "text/plain": [
       "array(['pressure', 'dewpoint', 'sunshine', 'windspeed', 'cos_wd', 'chp',\n",
       "       'sunshine_1', 'sunshine_2', 'sunshine_3', 'cloud_1', 'cloud_3',\n",
       "       'cloud_4', 'cloud_5', 'cloud_6', 'dewpoint_2', 'dewpoint_3',\n",
       "       'chp_3', 'chp_4', 'chp_6', 'cos_wd_1', 'cos_wd_2', 'cos_wd_4',\n",
       "       'sin_wd_2', 'sin_wd_6', 'pressure_ma24', 'maxtemp_ma24',\n",
       "       'temparature_ma24', 'mintemp_ma24', 'humidity_ma24',\n",
       "       'sunshine_ma24', 'windspeed_ma24', 'chp_ma24'], dtype='<U16')"
      ]
     },
     "execution_count": 50,
     "metadata": {},
     "output_type": "execute_result"
    }
   ],
   "source": [
    "sfs = sc.cache_result(\n",
    "    'bf_sfs_xgb',\n",
    "    lambda : SequentialFeatureSelector(\n",
    "        estimator = xgb.XGBClassifier(**hparams['model_params']), direction = 'backward', scoring = 'roc_auc', cv = skf\n",
    "    ).fit(df_train[X_all], df_train[target])\n",
    ")\n",
    "np.array(X_all)[sfs.get_support()]"
   ]
  },
  {
   "cell_type": "code",
   "execution_count": 51,
   "id": "158589e7-a6bb-42ef-b9d7-bb9de6f625a6",
   "metadata": {},
   "outputs": [
    {
     "data": {
      "application/vnd.jupyter.widget-view+json": {
       "model_id": "",
       "version_major": 2,
       "version_minor": 0
      },
      "text/plain": [
       "Fold:   0%|          | 0/5 [00:00<?, ?it/s]"
      ]
     },
     "metadata": {},
     "output_type": "display_data"
    },
    {
     "data": {
      "text/plain": [
       "(0.8943265993265992, 0.9391373807519642)"
      ]
     },
     "execution_count": 51,
     "metadata": {},
     "output_type": "execute_result"
    }
   ],
   "source": [
    "hparams = {\n",
    "    'model_params': {'max_depth': 3, 'n_estimators': 100, 'colsample_bytree': 0.75, 'learning_rate': 0.04},\n",
    "    'X_num': np.array(X_all)[sfs.get_support()].tolist()\n",
    "}\n",
    "result = sgml.cv(df_train, skf, hparams, config, xgb_adapter)\n",
    "sc.cv_result('xgb_bfs', hparams, xgb_adapter, result['valid_prd'])\n",
    "np.mean(result['valid_scores']), np.mean(result['train_scores'])"
   ]
  },
  {
   "cell_type": "markdown",
   "id": "d13e7fad-55f7-498d-8b5e-d1858b4e8f9f",
   "metadata": {},
   "source": [
    "# Stepwise Feature Selections wrapping Logistic Regression"
   ]
  },
  {
   "cell_type": "code",
   "execution_count": 52,
   "id": "31101507-5d62-474e-bf80-b150154b06a3",
   "metadata": {},
   "outputs": [],
   "source": [
    "from mlxtend import feature_selection as mfs"
   ]
  },
  {
   "cell_type": "code",
   "execution_count": null,
   "id": "9d50aaec-90f0-4f64-b82e-9deb4b48fffa",
   "metadata": {},
   "outputs": [],
   "source": [
    "sfs = sc.cache_result(\n",
    "    'ff_sfsf_lr',\n",
    "    lambda : mfs.SequentialFeatureSelector(\n",
    "        estimator = LogisticRegression(), k_features = 'best', forward = True, floating = True, scoring = 'roc_auc', cv = skf, n_jobs = -1\n",
    "    ).fit(df_train[X_all], df_train[target])\n",
    ")\n",
    "np.array(sfs.k_feature_names_)"
   ]
  },
  {
   "cell_type": "code",
   "execution_count": 54,
   "id": "153615a5-9407-4f40-8dfa-a1ec74192286",
   "metadata": {},
   "outputs": [
    {
     "data": {
      "application/vnd.jupyter.widget-view+json": {
       "model_id": "",
       "version_major": 2,
       "version_minor": 0
      },
      "text/plain": [
       "Fold:   0%|          | 0/5 [00:00<?, ?it/s]"
      ]
     },
     "metadata": {},
     "output_type": "display_data"
    },
    {
     "data": {
      "text/plain": [
       "(0.8990460157126824, 0.01061797500616197)"
      ]
     },
     "execution_count": 54,
     "metadata": {},
     "output_type": "execute_result"
    }
   ],
   "source": [
    "hparams = {\n",
    "    'model_params': {},\n",
    "    'X_num': list(sfs.k_feature_names_)\n",
    "}\n",
    "result = sgml.cv(df_train, skf, hparams, config, lr_adapter, result_proc = [sgml.lr_learning_result])\n",
    "sc.cv_result('lr_sfs_f', hparams, lr_adapter, result['valid_prd'])\n",
    "np.mean(result['valid_scores']), np.std(result['valid_scores'])"
   ]
  },
  {
   "cell_type": "code",
   "execution_count": null,
   "id": "b22518a4-7b54-408a-9eb1-f1e534176d9a",
   "metadata": {},
   "outputs": [],
   "source": [
    "sfs = sc.cache_result(\n",
    "    'ff_sfsf_lr2',\n",
    "    lambda : pd.concat([df_train, df_org]).pipe(\n",
    "        lambda x: mfs.SequentialFeatureSelector(\n",
    "            estimator = LogisticRegression(), k_features = 'best', forward = True, floating = True, scoring = 'roc_auc', cv = skf, n_jobs = -1\n",
    "        ).fit(x[X_all], x[target])\n",
    "    )\n",
    ")\n",
    "np.array(sfs.k_feature_names_)"
   ]
  },
  {
   "cell_type": "code",
   "execution_count": 56,
   "id": "b0e8d842-89b8-4153-9bce-9b70e0f1d272",
   "metadata": {},
   "outputs": [
    {
     "data": {
      "application/vnd.jupyter.widget-view+json": {
       "model_id": "",
       "version_major": 2,
       "version_minor": 0
      },
      "text/plain": [
       "Fold:   0%|          | 0/5 [00:00<?, ?it/s]"
      ]
     },
     "metadata": {},
     "output_type": "display_data"
    },
    {
     "data": {
      "text/plain": [
       "(0.8960437710437711, 0.011426817196481703)"
      ]
     },
     "execution_count": 56,
     "metadata": {},
     "output_type": "execute_result"
    }
   ],
   "source": [
    "hparams = {\n",
    "    'model_params': {},\n",
    "    'X_num': list(sfs.k_feature_names_)\n",
    "}\n",
    "result = sgml.cv(df_train, skf, hparams, config, lr_adapter, result_proc = [sgml.lr_learning_result])\n",
    "sc.cv_result('lr_sfs_f2', hparams, lr_adapter, result['valid_prd'])\n",
    "np.mean(result['valid_scores']), np.std(result['valid_scores'])"
   ]
  },
  {
   "cell_type": "code",
   "execution_count": 100,
   "id": "81c04d9b-a64b-4a94-9f33-257cd88e2b4d",
   "metadata": {},
   "outputs": [
    {
     "data": {
      "text/plain": [
       "array(['sin_ed', 'mintemp', 'dewpoint', 'cloud', 'sunshine', 'windspeed',\n",
       "       'chp', 'sunshine_1', 'sunshine_4', 'cloud_3', 'cloud_4',\n",
       "       'cos_wd_4', 'temparature_ma24', 'humidity_ma24', 'cos_wd_ma24',\n",
       "       'sin_wd_ma24', 'year'], dtype='<U16')"
      ]
     },
     "execution_count": 100,
     "metadata": {},
     "output_type": "execute_result"
    }
   ],
   "source": [
    "sfs = sc.cache_result(\n",
    "    'bf_sfsf_lr',\n",
    "    lambda : mfs.SequentialFeatureSelector(\n",
    "        estimator = LogisticRegression(), k_features = 'best', forward = False, floating = True, scoring = 'roc_auc', cv = skf, n_jobs = -1\n",
    "    ).fit(df_train[X_all], df_train[target])\n",
    ")\n",
    "np.array(sfs.k_feature_names_)"
   ]
  },
  {
   "cell_type": "code",
   "execution_count": 101,
   "id": "54006bac-04a3-49dd-a7b4-bf27050489a7",
   "metadata": {},
   "outputs": [
    {
     "data": {
      "application/vnd.jupyter.widget-view+json": {
       "model_id": "",
       "version_major": 2,
       "version_minor": 0
      },
      "text/plain": [
       "Fold:   0%|          | 0/5 [00:00<?, ?it/s]"
      ]
     },
     "metadata": {},
     "output_type": "display_data"
    },
    {
     "data": {
      "text/plain": [
       "(0.8954320987654322, 0.012407271619931246)"
      ]
     },
     "execution_count": 101,
     "metadata": {},
     "output_type": "execute_result"
    }
   ],
   "source": [
    "hparams = {\n",
    "    'model_params': {},\n",
    "    'X_num': list(sfs.k_feature_names_),\n",
    "    'train_data_proc_param': {'include_org': True}\n",
    "}\n",
    "result = sgml.cv(df_train, skf, hparams, config, lr_adapter, result_proc = [sgml.lr_learning_result])\n",
    "sc.cv_result('lr_bfs_f', hparams, lr_adapter, result['valid_prd'])\n",
    "np.mean(result['valid_scores']), np.std(result['valid_scores'])"
   ]
  },
  {
   "cell_type": "code",
   "execution_count": null,
   "id": "06dae351-c8ad-4a29-a288-a07cfbac3a0d",
   "metadata": {},
   "outputs": [],
   "source": [
    "hparams = {\n",
    "    'model_params': {'num_leaves': 7, 'n_estimators': 100, 'colsample_bytree': 0.75, 'learning_rate': 0.03},\n",
    "    'X_num': X_all\n",
    "}\n",
    "sfs = sc.cache_result(\n",
    "    'ff_sfs_lgb_f',\n",
    "    lambda : mfs.SequentialFeatureSelector(\n",
    "        estimator = lgb.LGBMClassifier(verbose = 0, **hparams['model_params']), k_features = 'best', forward = True, floating = True, scoring = 'roc_auc', cv = skf\n",
    "    ).fit(df_train[X_all], df_train[target])\n",
    "\n",
    ")\n",
    "np.array(sfs.k_feature_names_)"
   ]
  },
  {
   "cell_type": "code",
   "execution_count": 60,
   "id": "648f782f-a5f0-4f19-b98b-a71993eda4ae",
   "metadata": {},
   "outputs": [
    {
     "data": {
      "application/vnd.jupyter.widget-view+json": {
       "model_id": "",
       "version_major": 2,
       "version_minor": 0
      },
      "text/plain": [
       "Fold:   0%|          | 0/5 [00:00<?, ?it/s]"
      ]
     },
     "metadata": {},
     "output_type": "display_data"
    },
    {
     "data": {
      "text/plain": [
       "(0.8975448933782267, 0.9289444795173962)"
      ]
     },
     "execution_count": 60,
     "metadata": {},
     "output_type": "execute_result"
    }
   ],
   "source": [
    "hparams = {\n",
    "    'model_params': {'num_leaves': 7, 'n_estimators': 100, 'colsample_bytree': 0.75, 'learning_rate': 0.03},\n",
    "    'X_num': list(sfs.k_feature_names_)\n",
    "}\n",
    "result = sgml.cv(df_train, skf, hparams, config, lgb_adapter)\n",
    "sc.cv_result('lgb_sfs_f', hparams, lgb_adapter, result['valid_prd'])\n",
    "np.mean(result['valid_scores']), np.mean(result['train_scores'])"
   ]
  },
  {
   "cell_type": "code",
   "execution_count": null,
   "id": "f8f65ab2-a680-41ed-bd2a-49713bf04018",
   "metadata": {},
   "outputs": [],
   "source": [
    "hparams = {\n",
    "    'model_params': {'num_leaves': 7, 'n_estimators': 100, 'colsample_bytree': 0.75, 'learning_rate': 0.03},\n",
    "    'X_num': X_all\n",
    "}\n",
    "sfs = sc.cache_result(\n",
    "    'bf_sfs_lgb_f',\n",
    "    lambda : mfs.SequentialFeatureSelector(\n",
    "        estimator = lgb.LGBMClassifier(verbose = 0, **hparams['model_params']), k_features = 'best', forward = False, floating = True, scoring = 'roc_auc', cv = skf\n",
    "    ).fit(df_train[X_all], df_train[target])\n",
    "\n",
    ")\n",
    "np.array(sfs.k_feature_names_)"
   ]
  },
  {
   "cell_type": "code",
   "execution_count": 62,
   "id": "5c9fc5c2-d598-4498-8f44-dbf1963dbea8",
   "metadata": {},
   "outputs": [
    {
     "data": {
      "application/vnd.jupyter.widget-view+json": {
       "model_id": "",
       "version_major": 2,
       "version_minor": 0
      },
      "text/plain": [
       "Fold:   0%|          | 0/5 [00:00<?, ?it/s]"
      ]
     },
     "metadata": {},
     "output_type": "display_data"
    },
    {
     "data": {
      "text/plain": [
       "(0.897368125701459, 0.9331044823232324)"
      ]
     },
     "execution_count": 62,
     "metadata": {},
     "output_type": "execute_result"
    }
   ],
   "source": [
    "hparams = {\n",
    "    'model_params': {'num_leaves': 7, 'n_estimators': 100, 'colsample_bytree': 0.75, 'learning_rate': 0.03},\n",
    "    'X_num': list(sfs.k_feature_names_)\n",
    "}\n",
    "result = sgml.cv(df_train, skf, hparams, config, lgb_adapter)\n",
    "sc.cv_result('lgb_bfs_f', hparams, lgb_adapter, result['valid_prd'])\n",
    "np.mean(result['valid_scores']), np.mean(result['train_scores'])"
   ]
  },
  {
   "cell_type": "code",
   "execution_count": null,
   "id": "a2f7c8a1-9de5-4d62-8f13-921b4650bd7d",
   "metadata": {},
   "outputs": [],
   "source": [
    "hparams = {\n",
    "    'model_params': {'max_depth': 3, 'n_estimators': 100, 'colsample_bytree': 0.75, 'learning_rate': 0.04},\n",
    "    'X_num': X_all\n",
    "}\n",
    "sfs = sc.cache_result(\n",
    "    'ff_sfs_xgb_f',\n",
    "    lambda : mfs.SequentialFeatureSelector(\n",
    "        estimator = xgb.XGBClassifier(**hparams['model_params']), k_features = 'best', forward = True, floating = True, scoring = 'roc_auc', cv = skf\n",
    "    ).fit(df_train[X_all], df_train[target])\n",
    "\n",
    ")\n",
    "np.array(sfs.k_feature_names_)"
   ]
  },
  {
   "cell_type": "code",
   "execution_count": 64,
   "id": "5248e903-a84c-47bb-9ef3-3b3f9cff7608",
   "metadata": {},
   "outputs": [
    {
     "data": {
      "application/vnd.jupyter.widget-view+json": {
       "model_id": "",
       "version_major": 2,
       "version_minor": 0
      },
      "text/plain": [
       "Fold:   0%|          | 0/5 [00:00<?, ?it/s]"
      ]
     },
     "metadata": {},
     "output_type": "display_data"
    },
    {
     "data": {
      "text/plain": [
       "(0.8985101010101012, 0.9348846099887765)"
      ]
     },
     "execution_count": 64,
     "metadata": {},
     "output_type": "execute_result"
    }
   ],
   "source": [
    "hparams = {\n",
    "    'model_params': {'max_depth': 3, 'n_estimators': 100, 'colsample_bytree': 0.75, 'learning_rate': 0.04},\n",
    "    'X_num': list(sfs.k_feature_names_)\n",
    "}\n",
    "result = sgml.cv(df_train, skf, hparams, config, xgb_adapter)\n",
    "sc.cv_result('xgb_sfs_f', hparams, xgb_adapter, result['valid_prd'])\n",
    "np.mean(result['valid_scores']), np.mean(result['train_scores'])"
   ]
  },
  {
   "cell_type": "code",
   "execution_count": null,
   "id": "b3fcda11-33a7-472c-9da7-b2c03507bbcd",
   "metadata": {},
   "outputs": [],
   "source": [
    "hparams = {\n",
    "    'model_params': {'max_depth': 3, 'n_estimators': 100, 'colsample_bytree': 0.75, 'learning_rate': 0.04},\n",
    "    'X_num': X_all\n",
    "}\n",
    "sfs = sc.cache_result(\n",
    "    'bf_sfs_xgb_f',\n",
    "    lambda : mfs.SequentialFeatureSelector(\n",
    "        estimator = xgb.XGBClassifier(**hparams['model_params']), k_features = 'best', forward = False, floating = True, scoring = 'roc_auc', cv = skf\n",
    "    ).fit(df_train[X_all], df_train[target])\n",
    "\n",
    ")\n",
    "np.array(sfs.k_feature_names_)"
   ]
  },
  {
   "cell_type": "code",
   "execution_count": 66,
   "id": "28500e5a-f4ce-4a1c-b98a-ff7d38422e30",
   "metadata": {},
   "outputs": [
    {
     "data": {
      "application/vnd.jupyter.widget-view+json": {
       "model_id": "",
       "version_major": 2,
       "version_minor": 0
      },
      "text/plain": [
       "Fold:   0%|          | 0/5 [00:00<?, ?it/s]"
      ]
     },
     "metadata": {},
     "output_type": "display_data"
    },
    {
     "data": {
      "text/plain": [
       "(0.8983894500561167, 0.9343153759820426)"
      ]
     },
     "execution_count": 66,
     "metadata": {},
     "output_type": "execute_result"
    }
   ],
   "source": [
    "hparams = {\n",
    "    'model_params': {'max_depth': 3, 'n_estimators': 100, 'colsample_bytree': 0.75, 'learning_rate': 0.04},\n",
    "    'X_num': list(sfs.k_feature_names_)\n",
    "}\n",
    "result = sgml.cv(df_train, skf, hparams, config, xgb_adapter)\n",
    "sc.cv_result('xgb_bfs_f', hparams, xgb_adapter, result['valid_prd'])\n",
    "np.mean(result['valid_scores']), np.mean(result['train_scores'])"
   ]
  },
  {
   "cell_type": "code",
   "execution_count": 67,
   "id": "9890399f-d538-45cc-8f49-087b78402a7f",
   "metadata": {},
   "outputs": [
    {
     "data": {
      "application/vnd.jupyter.widget-view+json": {
       "model_id": "",
       "version_major": 2,
       "version_minor": 0
      },
      "text/plain": [
       "Fold:   0%|          | 0/5 [00:00<?, ?it/s]"
      ]
     },
     "metadata": {},
     "output_type": "display_data"
    },
    {
     "data": {
      "text/plain": [
       "(0.8915151515151514, 0.9011121632996633)"
      ]
     },
     "execution_count": 67,
     "metadata": {},
     "output_type": "execute_result"
    }
   ],
   "source": [
    "hparams = {\n",
    "    'model_params': {'C': 0.01, 'probability': True, 'kernel': 'linear'},\n",
    "    'X_num': X_all\n",
    "}\n",
    "result = sgml.cv(df_train, skf, hparams, config, svc_adapter)\n",
    "np.mean(result['valid_scores']), np.mean(result['train_scores'])"
   ]
  },
  {
   "cell_type": "code",
   "execution_count": null,
   "id": "51680c12-143e-4fbf-b751-20ce66784714",
   "metadata": {},
   "outputs": [],
   "source": [
    "sfs = sc.cache_result(\n",
    "    'ff_sfsf_lsvc',\n",
    "    lambda : mfs.SequentialFeatureSelector(\n",
    "        estimator = SVC(**hparams['model_params']), k_features = 'best', forward = True, floating = True, scoring = 'roc_auc', cv = skf, n_jobs = -1\n",
    "    ).fit(df_train[X_all], df_train[target])\n",
    ")\n",
    "np.array(sfs.k_feature_names_)"
   ]
  },
  {
   "cell_type": "code",
   "execution_count": 69,
   "id": "a8a9ca71-7f60-417f-87b5-32505954755e",
   "metadata": {},
   "outputs": [
    {
     "data": {
      "application/vnd.jupyter.widget-view+json": {
       "model_id": "",
       "version_major": 2,
       "version_minor": 0
      },
      "text/plain": [
       "Fold:   0%|          | 0/5 [00:00<?, ?it/s]"
      ]
     },
     "metadata": {},
     "output_type": "display_data"
    },
    {
     "data": {
      "text/plain": [
       "(0.8986223344556679, 0.899520202020202)"
      ]
     },
     "execution_count": 69,
     "metadata": {},
     "output_type": "execute_result"
    }
   ],
   "source": [
    "hparams = {\n",
    "    'model_params': {'C': 0.01, 'probability': True, 'kernel': 'linear'},\n",
    "    'X_num': list(sfs.k_feature_names_)\n",
    "}\n",
    "result = sgml.cv(df_train, skf, hparams, config, svc_adapter)\n",
    "sc.cv_result('lsvc_sfs_f', hparams, svc_adapter, result['valid_prd'])\n",
    "np.mean(result['valid_scores']), np.mean(result['train_scores'])"
   ]
  },
  {
   "cell_type": "code",
   "execution_count": null,
   "id": "353da737-ce84-49b5-aebe-d961ce816d1b",
   "metadata": {},
   "outputs": [],
   "source": [
    "sfs = sc.cache_result(\n",
    "    'bf_sfsf_lsvc',\n",
    "    lambda : mfs.SequentialFeatureSelector(\n",
    "        estimator = SVC(**hparams['model_params']), k_features = 'best', forward = False, floating = True, scoring = 'roc_auc', cv = skf, n_jobs = -1\n",
    "    ).fit(df_train[X_all], df_train[target])\n",
    ")\n",
    "np.array(sfs.k_feature_names_)"
   ]
  },
  {
   "cell_type": "code",
   "execution_count": 71,
   "id": "f09c9f83-bb57-4356-af92-f32dc1cf84c0",
   "metadata": {},
   "outputs": [
    {
     "data": {
      "application/vnd.jupyter.widget-view+json": {
       "model_id": "",
       "version_major": 2,
       "version_minor": 0
      },
      "text/plain": [
       "Fold:   0%|          | 0/5 [00:00<?, ?it/s]"
      ]
     },
     "metadata": {},
     "output_type": "display_data"
    },
    {
     "data": {
      "text/plain": [
       "(0.899074074074074, 0.8999391484287319)"
      ]
     },
     "execution_count": 71,
     "metadata": {},
     "output_type": "execute_result"
    }
   ],
   "source": [
    "hparams = {\n",
    "    'model_params': {'C': 0.01, 'probability': True, 'kernel': 'linear'},\n",
    "    'X_num': list(sfs.k_feature_names_)\n",
    "}\n",
    "result = sgml.cv(df_train, skf, hparams, config, svc_adapter)\n",
    "sc.cv_result('lsvc_bfs_f', hparams, svc_adapter, result['valid_prd'])\n",
    "np.mean(result['valid_scores']), np.mean(result['train_scores'])"
   ]
  },
  {
   "cell_type": "code",
   "execution_count": 72,
   "id": "361c0521-574b-48e9-bf48-d6e57a46453a",
   "metadata": {},
   "outputs": [
    {
     "data": {
      "application/vnd.jupyter.widget-view+json": {
       "model_id": "",
       "version_major": 2,
       "version_minor": 0
      },
      "text/plain": [
       "Fold:   0%|          | 0/5 [00:00<?, ?it/s]"
      ]
     },
     "metadata": {},
     "output_type": "display_data"
    },
    {
     "data": {
      "text/plain": [
       "(0.8930920314253648, 0.9092631172839505)"
      ]
     },
     "execution_count": 72,
     "metadata": {},
     "output_type": "execute_result"
    }
   ],
   "source": [
    "hparams = {\n",
    "    'model_params': {'C': 0.1, 'probability': True, 'kernel': 'poly', 'degree': 2, 'coef0': 1},\n",
    "    'X_num': X_all\n",
    "}\n",
    "result = sgml.cv(df_train, skf, hparams, config, svc_adapter)\n",
    "np.mean(result['valid_scores']), np.mean(result['train_scores'])"
   ]
  },
  {
   "cell_type": "code",
   "execution_count": null,
   "id": "797ba3bf-9f4c-4201-86cf-ff15f8329244",
   "metadata": {},
   "outputs": [],
   "source": [
    "sfs = sc.cache_result(\n",
    "    'ff_sfsf_p2svc',\n",
    "    lambda : mfs.SequentialFeatureSelector(\n",
    "        estimator = SVC(**hparams['model_params']), k_features = 'best', forward = True, floating = True, scoring = 'roc_auc', cv = skf, n_jobs = -1\n",
    "    ).fit(df_train[X_all], df_train[target])\n",
    ")\n",
    "np.array(sfs.k_feature_names_)"
   ]
  },
  {
   "cell_type": "code",
   "execution_count": 74,
   "id": "f38d2c3c-daeb-4b27-95c3-6ae399b7e960",
   "metadata": {},
   "outputs": [
    {
     "data": {
      "application/vnd.jupyter.widget-view+json": {
       "model_id": "",
       "version_major": 2,
       "version_minor": 0
      },
      "text/plain": [
       "Fold:   0%|          | 0/5 [00:00<?, ?it/s]"
      ]
     },
     "metadata": {},
     "output_type": "display_data"
    },
    {
     "data": {
      "text/plain": [
       "(0.90087822671156, 0.907370405443322)"
      ]
     },
     "execution_count": 74,
     "metadata": {},
     "output_type": "execute_result"
    }
   ],
   "source": [
    "hparams = {\n",
    "    'model_params': {'C': 0.1, 'probability': True, 'kernel': 'poly', 'degree': 2, 'coef0': 1},\n",
    "    'X_num': list(sfs.k_feature_names_)\n",
    "}\n",
    "result = sgml.cv(df_train, skf, hparams, config, svc_adapter)\n",
    "sc.cv_result('p2svc_sfs_f', hparams, svc_adapter, result['valid_prd'])\n",
    "np.mean(result['valid_scores']), np.mean(result['train_scores'])"
   ]
  },
  {
   "cell_type": "code",
   "execution_count": null,
   "id": "6bd295e1-30f6-4aa1-84ab-455238b1653e",
   "metadata": {},
   "outputs": [],
   "source": [
    "sfs = sc.cache_result(\n",
    "    'bf_sfsf_p2svc',\n",
    "    lambda : mfs.SequentialFeatureSelector(\n",
    "        estimator = SVC(**hparams['model_params']), k_features = 'best', forward = True, floating = True, scoring = 'roc_auc', cv = skf, n_jobs = -1\n",
    "    ).fit(df_train[X_all], df_train[target])\n",
    ")\n",
    "np.array(sfs.k_feature_names_)"
   ]
  },
  {
   "cell_type": "code",
   "execution_count": 76,
   "id": "1893d5c7-ac4f-4b6e-aaa8-0493e169d2c8",
   "metadata": {},
   "outputs": [
    {
     "data": {
      "application/vnd.jupyter.widget-view+json": {
       "model_id": "",
       "version_major": 2,
       "version_minor": 0
      },
      "text/plain": [
       "Fold:   0%|          | 0/5 [00:00<?, ?it/s]"
      ]
     },
     "metadata": {},
     "output_type": "display_data"
    },
    {
     "data": {
      "text/plain": [
       "(0.9008726150392817, 0.9073697039842873)"
      ]
     },
     "execution_count": 76,
     "metadata": {},
     "output_type": "execute_result"
    }
   ],
   "source": [
    "hparams = {\n",
    "    'model_params': {'C': 0.1, 'probability': True, 'kernel': 'poly', 'degree': 2, 'coef0': 1},\n",
    "    'X_num': list(sfs.k_feature_names_)\n",
    "}\n",
    "result = sgml.cv(df_train, skf, hparams, config, svc_adapter)\n",
    "sc.cv_result('p2svc_bfs_f', hparams, svc_adapter, result['valid_prd'])\n",
    "np.mean(result['valid_scores']), np.mean(result['train_scores'])"
   ]
  },
  {
   "cell_type": "code",
   "execution_count": 87,
   "id": "0845e06a-1390-4729-b055-5468f026ddba",
   "metadata": {},
   "outputs": [
    {
     "data": {
      "application/vnd.jupyter.widget-view+json": {
       "model_id": "",
       "version_major": 2,
       "version_minor": 0
      },
      "text/plain": [
       "Fold:   0%|          | 0/5 [00:00<?, ?it/s]"
      ]
     },
     "metadata": {},
     "output_type": "display_data"
    },
    {
     "data": {
      "text/plain": [
       "(0.8661475869809203, 0.8825776865881032)"
      ]
     },
     "execution_count": 87,
     "metadata": {},
     "output_type": "execute_result"
    }
   ],
   "source": [
    "hparams = {\n",
    "    'model_params': {'n_neighbors': 70},\n",
    "    'X_num': X_all\n",
    "}\n",
    "result = sgml.cv(df_train, skf, hparams, config, knn_adapter)\n",
    "np.mean(result['valid_scores']), np.mean(result['train_scores'])"
   ]
  },
  {
   "cell_type": "code",
   "execution_count": 91,
   "id": "d4691ff3-ea17-4b1a-a973-e9a29446a738",
   "metadata": {},
   "outputs": [
    {
     "data": {
      "text/plain": [
       "array(['sin_ed', 'dewpoint', 'cloud', 'sunshine', 'chp', 'dewpoint_2',\n",
       "       'chp_1', 'cos_wd_4', 'cos_wd_6', 'sin_wd_3', 'sunshine_ma24',\n",
       "       'chp_ma24', 'year'], dtype='<U13')"
      ]
     },
     "execution_count": 91,
     "metadata": {},
     "output_type": "execute_result"
    }
   ],
   "source": [
    "sfs = sc.cache_result(\n",
    "    'ff_sfsf_knn70',\n",
    "    lambda : mfs.SequentialFeatureSelector(\n",
    "        estimator = KNeighborsClassifier(**hparams['model_params']), k_features = 'best', forward = True, floating = True, scoring = 'roc_auc', cv = skf, n_jobs = -1\n",
    "    ).fit(df_train[X_all], df_train[target]), rerun = 0\n",
    ")\n",
    "np.array(sfs.k_feature_names_)"
   ]
  },
  {
   "cell_type": "code",
   "execution_count": 92,
   "id": "eea895c4-e3bc-402b-8ccb-89111e93d2ca",
   "metadata": {},
   "outputs": [
    {
     "data": {
      "application/vnd.jupyter.widget-view+json": {
       "model_id": "",
       "version_major": 2,
       "version_minor": 0
      },
      "text/plain": [
       "Fold:   0%|          | 0/5 [00:00<?, ?it/s]"
      ]
     },
     "metadata": {},
     "output_type": "display_data"
    },
    {
     "data": {
      "text/plain": [
       "(0.8974354657687991, 0.9070700056116723)"
      ]
     },
     "execution_count": 92,
     "metadata": {},
     "output_type": "execute_result"
    }
   ],
   "source": [
    "hparams = {\n",
    "    'model_params': {'n_neighbors': 70},\n",
    "    'X_num': list(sfs.k_feature_names_)\n",
    "}\n",
    "result = sgml.cv(df_train, skf, hparams, config, knn_adapter)\n",
    "sc.cv_result('knn70_sfs_f', hparams, knn_adapter, result['valid_prd'])\n",
    "np.mean(result['valid_scores']), np.mean(result['train_scores'])"
   ]
  },
  {
   "cell_type": "code",
   "execution_count": 103,
   "id": "eb836157-1f43-4494-ae03-0846d7941ba6",
   "metadata": {},
   "outputs": [
    {
     "data": {
      "text/plain": [
       "array(['sin_ed', 'mintemp', 'humidity', 'cloud', 'sunshine', 'windspeed',\n",
       "       'chp', 'sunshine_3', 'cloud_6', 'dewpoint_4', 'dewpoint_6',\n",
       "       'chp_2', 'cos_wd_3', 'cos_wd_4', 'cos_wd_6', 'sin_wd_3',\n",
       "       'sin_wd_4', 'mintemp_ma24', 'dewpoint_ma24', 'chp_ma24'],\n",
       "      dtype='<U13')"
      ]
     },
     "execution_count": 103,
     "metadata": {},
     "output_type": "execute_result"
    }
   ],
   "source": [
    "sfs = sc.cache_result(\n",
    "    'bf_sfsf_knn70',\n",
    "    lambda : mfs.SequentialFeatureSelector(\n",
    "        estimator = KNeighborsClassifier(**hparams['model_params']), k_features = 'best', forward = False, floating = True, scoring = 'roc_auc', cv = skf, n_jobs = -1\n",
    "    ).fit(df_train[X_all], df_train[target]), rerun = 0\n",
    ")\n",
    "np.array(sfs.k_feature_names_)"
   ]
  },
  {
   "cell_type": "code",
   "execution_count": 104,
   "id": "eb147f3b-78b6-4c0a-b7c7-df733081cf95",
   "metadata": {},
   "outputs": [
    {
     "data": {
      "application/vnd.jupyter.widget-view+json": {
       "model_id": "",
       "version_major": 2,
       "version_minor": 0
      },
      "text/plain": [
       "Fold:   0%|          | 0/5 [00:00<?, ?it/s]"
      ]
     },
     "metadata": {},
     "output_type": "display_data"
    },
    {
     "data": {
      "text/plain": [
       "(0.8981228956228955, 0.904110725308642)"
      ]
     },
     "execution_count": 104,
     "metadata": {},
     "output_type": "execute_result"
    }
   ],
   "source": [
    "hparams = {\n",
    "    'model_params': {'n_neighbors': 70},\n",
    "    'X_num': list(sfs.k_feature_names_)\n",
    "}\n",
    "result = sgml.cv(df_train, skf, hparams, config, knn_adapter)\n",
    "sc.cv_result('knn70_bfs_f', hparams, knn_adapter, result['valid_prd'])\n",
    "np.mean(result['valid_scores']), np.mean(result['train_scores'])"
   ]
  },
  {
   "cell_type": "code",
   "execution_count": 105,
   "id": "7e51f052-eba0-4aff-8628-4c90288513aa",
   "metadata": {},
   "outputs": [
    {
     "data": {
      "text/plain": [
       "array(['sin_ed', 'temparature', 'mintemp', 'dewpoint', 'humidity',\n",
       "       'cloud', 'sunshine', 'windspeed', 'sunshine_6', 'dewpoint_1',\n",
       "       'dewpoint_6', 'sin_wd_6', 'pressure_ma24', 'maxtemp_ma24',\n",
       "       'temparature_ma24', 'mintemp_ma24', 'dewpoint_ma24', 'cloud_ma24',\n",
       "       'sunshine_ma24', 'expected_day', 'winddirection'], dtype='<U16')"
      ]
     },
     "execution_count": 105,
     "metadata": {},
     "output_type": "execute_result"
    }
   ],
   "source": [
    "sfs = sc.cache_result(\n",
    "    'ff_sfsf_knn702',\n",
    "    lambda : pd.concat([df_train, df_org]).pipe(\n",
    "        lambda x: mfs.SequentialFeatureSelector(\n",
    "            estimator = KNeighborsClassifier(**hparams['model_params']), k_features = 'best', forward = True, floating = True, scoring = 'roc_auc', cv = skf, n_jobs = -1\n",
    "        ).fit(x[X_all], x[target])\n",
    "    )\n",
    ")\n",
    "np.array(sfs.k_feature_names_)"
   ]
  },
  {
   "cell_type": "code",
   "execution_count": 107,
   "id": "9dcbdf02-4acb-4b95-9da2-9d033e46f6d9",
   "metadata": {},
   "outputs": [
    {
     "data": {
      "application/vnd.jupyter.widget-view+json": {
       "model_id": "",
       "version_major": 2,
       "version_minor": 0
      },
      "text/plain": [
       "Fold:   0%|          | 0/5 [00:00<?, ?it/s]"
      ]
     },
     "metadata": {},
     "output_type": "display_data"
    },
    {
     "data": {
      "text/plain": [
       "(0.8916189674523007, 0.8991573995711537)"
      ]
     },
     "execution_count": 107,
     "metadata": {},
     "output_type": "execute_result"
    }
   ],
   "source": [
    "hparams = {\n",
    "    'model_params': {'n_neighbors': 70},\n",
    "    'X_num': list(sfs.k_feature_names_),\n",
    "    'train_data_proc_param': {'include_org': True}\n",
    "}\n",
    "result = sgml.cv(df_train, skf, hparams, config, knn_adapter)\n",
    "sc.cv_result('knn70_sfs_f2', hparams, knn_adapter, result['valid_prd'])\n",
    "np.mean(result['valid_scores']), np.mean(result['train_scores'])"
   ]
  },
  {
   "cell_type": "markdown",
   "id": "12e4705f-dd4c-46f8-b80c-19788f080d3b",
   "metadata": {},
   "source": [
    "# Feature Selection Analysis"
   ]
  },
  {
   "cell_type": "code",
   "execution_count": 77,
   "id": "f5a81b30-2e79-4a2d-9e69-759168a7d33e",
   "metadata": {},
   "outputs": [],
   "source": [
    "result_sk = ['ff_sfs_lr', 'ff_sfs_lr2', 'bf_sfs_lr', 'bf_sfs_lr2', 'ff_sfs_lgb', 'ff_sfs_lgb2', 'bf_sfs_lgb', 'ff_sfs_xgb', 'ff_sfs_xgb2', 'bf_sfs_xgb']\n",
    "selected_sk = [\n",
    "    np.array(X_all)[sc.read_result(i).get_support()].tolist()\n",
    "    for i in result_sk\n",
    "]"
   ]
  },
  {
   "cell_type": "code",
   "execution_count": 78,
   "id": "6608143a-c6d2-45b5-a60b-72132a842016",
   "metadata": {},
   "outputs": [
    {
     "data": {
      "text/plain": [
       "temparature_ma24    10\n",
       "sunshine            10\n",
       "windspeed           10\n",
       "chp                 10\n",
       "chp_3                9\n",
       "year                 9\n",
       "mintemp              9\n",
       "dewpoint             9\n",
       "sunshine_1           8\n",
       "sin_ed               8\n",
       "Name: count, dtype: int64"
      ]
     },
     "execution_count": 78,
     "metadata": {},
     "output_type": "execute_result"
    }
   ],
   "source": [
    "pd.Series(selected_sk, index = result_sk).explode().value_counts().iloc[:10]"
   ]
  },
  {
   "cell_type": "code",
   "execution_count": 109,
   "id": "8c4937e8-13dc-4b4a-872f-1d96f04eaeea",
   "metadata": {},
   "outputs": [],
   "source": [
    "result_mfs = [\n",
    "    'ff_sfsf_lr', 'ff_sfsf_lr2', 'bf_sfsf_lr', 'ff_sfs_lgb_f', 'bf_sfs_lgb_f', 'ff_sfs_xgb_f', 'bf_sfs_xgb_f', 'ff_sfsf_lsvc', 'bf_sfsf_lsvc',\n",
    "    'ff_sfsf_p2svc', 'bf_sfsf_p2svc', 'ff_sfsf_knn70', 'bf_sfsf_knn70', 'ff_sfsf_knn702'\n",
    "]\n",
    "selected_mfs = [\n",
    "    list(sc.read_result(i).k_feature_names_)\n",
    "    for i in result_mfs\n",
    "]"
   ]
  },
  {
   "cell_type": "code",
   "execution_count": 110,
   "id": "33a20396-f672-44e5-8d96-fd271d252779",
   "metadata": {},
   "outputs": [
    {
     "data": {
      "text/plain": [
       "sunshine            14\n",
       "mintemp             13\n",
       "sin_ed              12\n",
       "dewpoint            12\n",
       "windspeed           12\n",
       "chp                 11\n",
       "cos_wd_4            10\n",
       "temparature_ma24     9\n",
       "year                 8\n",
       "cloud_3              8\n",
       "Name: count, dtype: int64"
      ]
     },
     "execution_count": 110,
     "metadata": {},
     "output_type": "execute_result"
    }
   ],
   "source": [
    "pd.Series(selected_mfs, index = result_mfs).explode().value_counts().iloc[:10]"
   ]
  },
  {
   "cell_type": "code",
   "execution_count": 114,
   "id": "035cf221-e73e-4c26-9c62-5ed511d04cbe",
   "metadata": {},
   "outputs": [
    {
     "data": {
      "text/plain": [
       "sunshine            28\n",
       "mintemp             26\n",
       "sin_ed              24\n",
       "dewpoint            24\n",
       "windspeed           24\n",
       "chp                 22\n",
       "cos_wd_4            20\n",
       "temparature_ma24    18\n",
       "year                16\n",
       "cloud_3             16\n",
       "dewpoint_ma24       14\n",
       "dewpoint_2          14\n",
       "cos_wd_ma24         14\n",
       "maxtemp_ma24        14\n",
       "humidity_ma24       14\n",
       "cloud               12\n",
       "sunshine_1          10\n",
       "sunshine_ma24       10\n",
       "temparature         10\n",
       "sin_wd_ma24         10\n",
       "cloud_6             10\n",
       "cloud_1             10\n",
       "sin_wd_6             8\n",
       "humidity             8\n",
       "dewpoint_6           8\n",
       "mintemp_ma24         8\n",
       "pressure             8\n",
       "cos_wd_5             6\n",
       "sunshine_3           6\n",
       "sin_wd_4             6\n",
       "Name: count, dtype: int64"
      ]
     },
     "execution_count": 114,
     "metadata": {},
     "output_type": "execute_result"
    }
   ],
   "source": [
    "pd.concat([\n",
    "    pd.Series(selected_mfs, index = result_mfs).explode(),\n",
    "    pd.Series(selected_mfs, index = result_mfs).explode()\n",
    "]).value_counts().iloc[:30]"
   ]
  },
  {
   "cell_type": "code",
   "execution_count": null,
   "id": "bfcc7980-1017-42a8-a0cb-a824b4fff2bc",
   "metadata": {},
   "outputs": [],
   "source": []
  },
  {
   "cell_type": "code",
   "execution_count": null,
   "id": "b23fedf1-dd3f-40d1-aa2c-c3ab880ea196",
   "metadata": {},
   "outputs": [],
   "source": []
  }
 ],
 "metadata": {
  "kernelspec": {
   "display_name": "Python 3 (ipykernel)",
   "language": "python",
   "name": "python3"
  },
  "language_info": {
   "codemirror_mode": {
    "name": "ipython",
    "version": 3
   },
   "file_extension": ".py",
   "mimetype": "text/x-python",
   "name": "python",
   "nbconvert_exporter": "python",
   "pygments_lexer": "ipython3",
   "version": "3.12.6"
  }
 },
 "nbformat": 4,
 "nbformat_minor": 5
}
