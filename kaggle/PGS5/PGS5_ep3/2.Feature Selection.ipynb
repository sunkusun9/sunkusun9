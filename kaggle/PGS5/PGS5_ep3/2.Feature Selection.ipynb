{
 "cells": [
  {
   "cell_type": "code",
   "execution_count": 1,
   "id": "80c2ac79-a2c4-430a-83f1-64720cac3f28",
   "metadata": {},
   "outputs": [],
   "source": [
    "import os\n",
    "\n",
    "import pandas as pd\n",
    "import polars as pl\n",
    "import numpy as np\n",
    "import seaborn as sns\n",
    "import sgpp, sgml, sgutil\n",
    "\n",
    "from sklearn.pipeline import make_pipeline\n",
    "from sklearn.preprocessing import StandardScaler, MinMaxScaler"
   ]
  },
  {
   "cell_type": "code",
   "execution_count": 2,
   "id": "5755a8fe-6d48-432c-8cd7-05246ef6190a",
   "metadata": {},
   "outputs": [],
   "source": [
    "expr_dic = {}\n",
    "for i in ['sunshine', 'cloud', 'dewpoint', 'chp', 'cos_wd', 'sin_wd']:\n",
    "    for j in range(1, 7):\n",
    "        expr_dic['{}_{}'.format(i, j)] =  pl.col(i).shift(j).fill_null(strategy = 'backward')\n",
    "for i in ['pressure', 'maxtemp', 'temparature', 'mintemp', 'dewpoint', 'humidity', 'cloud', 'sunshine', 'windspeed', 'cos_wd', 'sin_wd', 'chp']:\n",
    "    expr_dic['{}_ma24'.format(i)] = pl.mean(i).rolling(index_column = 'id', period = '24i', closed = 'left').fill_null(strategy = 'backward')"
   ]
  },
  {
   "cell_type": "code",
   "execution_count": 3,
   "id": "f3b166f1-019b-4065-9ab2-1a023c75a8e7",
   "metadata": {},
   "outputs": [],
   "source": [
    "p1 = make_pipeline(\n",
    "    sgpp.PolarsProcessor(predefined_types = {'id': pl.Int64}),\n",
    "    sgpp.ExprProcessor({\n",
    "        'winddirection': pl.col('winddirection').fill_null(strategy = 'forward'),\n",
    "        'windspeed': pl.col('windspeed').fill_null(strategy = 'forward')\n",
    "    }),\n",
    "    sgpp.ExprProcessor({\n",
    "        'cos_wd': (pl.col('winddirection') / 180 * np.pi).cos() * pl.col('windspeed'),\n",
    "        'sin_wd': (pl.col('winddirection') / 180 * np.pi).sin() * pl.col('windspeed'),\n",
    "        'chp': pl.col('cloud') * pl.col('humidity') / pl.col('pressure'),\n",
    "        'expected_day': (pl.col('id') % 365) + 1,\n",
    "        'sin_ed': ((pl.col('id') % 365) / 365 * np.pi).sin(),\n",
    "        'year': pl.col('id') // 365, \n",
    "    })\n",
    ")\n",
    "df_train = p1.fit_transform(['data/train.csv'])\n",
    "df_test = p1.transform(['data/test.csv'])\n",
    "p2 = make_pipeline(\n",
    "    sgpp.ExprProcessor(expr_dic),\n",
    "    sgpp.PandasCoverter(index_col = 'id')\n",
    ")\n",
    "df_all = p2.fit_transform(\n",
    "    pl.concat([df_train, df_test], how = 'align')\n",
    ")\n",
    "\n",
    "p3 = make_pipeline(\n",
    "    sgpp.ApplyWrapper(\n",
    "        StandardScaler().set_output(transform='pandas'), \n",
    "        ['pressure', 'maxtemp', 'temparature', 'mintemp', 'dewpoint', 'humidity', 'cloud', 'sunshine', 'windspeed'] + ['cos_wd', 'sin_wd', 'chp'] + list(expr_dic.keys()),\n",
    "    ),\n",
    "    sgpp.ApplyWrapper(\n",
    "        MinMaxScaler().set_output(transform='pandas'), ['year', 'expected_day', 'winddirection']\n",
    "    )\n",
    ")\n",
    "df_all = p3.fit_transform(df_all)\n",
    "\n",
    "df_train = df_all.loc[df_all['rainfall'].notna()]\n",
    "df_test = df_all.loc[df_all['rainfall'].isna()].drop(columns = ['rainfall'])"
   ]
  },
  {
   "cell_type": "code",
   "execution_count": 4,
   "id": "0da40afc-9329-4403-97d0-f62a8fe0aec8",
   "metadata": {},
   "outputs": [],
   "source": [
    "df_org = make_pipeline(\n",
    "    sgpp.PolarsProcessor(predefined_types = {'id': pl.Int64, 'day': pl.Int16, 'rainfall': pl.String}),\n",
    "    sgpp.ColumnNameCleaner(),\n",
    "    sgpp.ExprProcessor({\n",
    "        'winddirection': pl.col('winddirection').fill_null(strategy = 'forward'),\n",
    "        'windspeed': pl.col('windspeed').fill_null(strategy = 'forward')\n",
    "    }),\n",
    "    sgpp.ExprProcessor({\n",
    "        'id': -pl.arange(pl.col('day').len(), 0, -1),\n",
    "        'expected_day': pl.arange(1, pl.col('day').len() + 1),\n",
    "        'sin_ed': (pl.arange(1, pl.col('day').len() + 1) / 365 * np.pi).sin(),\n",
    "        'cos_wd': (pl.col('winddirection') / 180 * np.pi).cos() * pl.col('windspeed'),\n",
    "        'sin_wd': (pl.col('winddirection') / 180 * np.pi).sin() * pl.col('windspeed'),\n",
    "        'chp': pl.col('cloud') * pl.col('humidity') / pl.col('pressure'),\n",
    "        'rainfall': pl.col('rainfall').replace({'yes': 1, 'no': 0}).cast(pl.Int8),\n",
    "        'year': -1\n",
    "    }),\n",
    "    sgpp.ExprProcessor(expr_dic),\n",
    "    sgpp.PandasCoverter(index_col = 'id'), \n",
    ").fit_transform(['data/Rainfall.csv'])\n",
    "df_org = p3.transform(df_org)"
   ]
  },
  {
   "cell_type": "code",
   "execution_count": 5,
   "id": "0d980a18-e374-4dc3-915a-fc2e9afb728c",
   "metadata": {},
   "outputs": [],
   "source": [
    "target = 'rainfall'\n",
    "sc = sgutil.SGCache('img', 'result', 'model')\n",
    "_ = sc.cache_result(\n",
    "    'target', lambda : df_train[target].sort_index()\n",
    ")"
   ]
  },
  {
   "cell_type": "code",
   "execution_count": 6,
   "id": "a5580597-78e9-4db9-bb2d-0a9bf06c5238",
   "metadata": {},
   "outputs": [
    {
     "data": {
      "text/plain": [
       "65"
      ]
     },
     "execution_count": 6,
     "metadata": {},
     "output_type": "execute_result"
    }
   ],
   "source": [
    "len(df_test.columns)"
   ]
  },
  {
   "cell_type": "code",
   "execution_count": 37,
   "id": "b187ed25-6a85-44ec-82a9-1520ae011cc7",
   "metadata": {},
   "outputs": [],
   "source": [
    "import lightgbm as lgb\n",
    "import xgboost as xgb\n",
    "import catboost as cb\n",
    "from sklearn.metrics import roc_auc_score\n",
    "from sklearn.linear_model import LogisticRegression\n",
    "from sklearn.svm import SVC\n",
    "from sklearn.neighbors import KNeighborsClassifier\n",
    "from sklearn.model_selection import StratifiedKFold, StratifiedShuffleSplit\n",
    "\n",
    "def get_validation_splitter(validation_fraction):\n",
    "    return lambda x: train_test_split(x, test_size = validation_fraction)\n",
    "\n",
    "def include_org(df, include_org = False):\n",
    "    return pd.concat([df, df_org]) if include_org else df\n",
    "\n",
    "config = {\n",
    "    'predict_func': lambda m, df, X: pd.Series(m.predict_proba(df[X])[:, 1], index = df.index),\n",
    "    'score_func': lambda df, prds: roc_auc_score(df[target], prds),\n",
    "    'validation_splitter': get_validation_splitter,\n",
    "    'progress_callback': sgml.ProgressCallBack(), \n",
    "    'return_train_scores': True,\n",
    "    'train_data_proc': include_org,\n",
    "    'y': target,\n",
    "}\n",
    "\n",
    "lr_adapter = sgml.SklearnAdapter(LogisticRegression)\n",
    "svc_adapter = sgml.SklearnAdapter(SVC)\n",
    "knn_adapter = sgml.SklearnAdapter(KNeighborsClassifier)\n",
    "lgb_adapter = sgml.LGBMAdapter(lgb.LGBMClassifier)\n",
    "xgb_adapter = sgml.XGBAdapter(xgb.XGBClassifier)\n",
    "cb_adapter = sgml.CBAdapter(cb.CatBoostClassifier)\n",
    "\n",
    "skf = StratifiedKFold(5, random_state = 123, shuffle = True)\n",
    "ss = StratifiedShuffleSplit(1, random_state = 123)"
   ]
  },
  {
   "cell_type": "code",
   "execution_count": 38,
   "id": "fbb4a4b4-795e-4fbf-8540-88d7c98ec36b",
   "metadata": {},
   "outputs": [],
   "source": [
    "from sklearn.feature_selection import SequentialFeatureSelector\n",
    "X_all = [i for i in df_test.columns.tolist() if i not in ['day']]"
   ]
  },
  {
   "cell_type": "markdown",
   "id": "32423a9a-4b3b-4ff5-bea1-0567eebee3aa",
   "metadata": {},
   "source": [
    "# Forward Feature Selection wrapping Logistic Regression"
   ]
  },
  {
   "cell_type": "code",
   "execution_count": 39,
   "id": "fe718862-a43f-4b9a-8870-697ab06fb425",
   "metadata": {},
   "outputs": [
    {
     "data": {
      "text/plain": [
       "array(['sin_ed', 'pressure', 'maxtemp', 'temparature', 'mintemp',\n",
       "       'dewpoint', 'sunshine', 'windspeed', 'chp', 'sunshine_1',\n",
       "       'sunshine_2', 'sunshine_3', 'sunshine_4', 'cloud_3', 'cloud_4',\n",
       "       'cloud_5', 'cloud_6', 'dewpoint_1', 'dewpoint_5', 'chp_1', 'chp_3',\n",
       "       'chp_5', 'cos_wd_3', 'cos_wd_4', 'cos_wd_5', 'sin_wd_2',\n",
       "       'maxtemp_ma24', 'temparature_ma24', 'dewpoint_ma24',\n",
       "       'humidity_ma24', 'sunshine_ma24', 'year'], dtype='<U16')"
      ]
     },
     "execution_count": 39,
     "metadata": {},
     "output_type": "execute_result"
    }
   ],
   "source": [
    "sfs = sc.cache_result(\n",
    "    'ff_sfs_lr',\n",
    "    lambda : SequentialFeatureSelector(\n",
    "        estimator = LogisticRegression(), direction = 'forward', scoring = 'roc_auc', cv = skf, n_jobs = -1\n",
    "    ).fit(df_train[X_all], df_train[target])\n",
    ")\n",
    "np.array(X_all)[sfs.get_support()]"
   ]
  },
  {
   "cell_type": "code",
   "execution_count": 40,
   "id": "8e725ff6-4749-4d1c-8d03-af93eb641ca2",
   "metadata": {},
   "outputs": [
    {
     "data": {
      "application/vnd.jupyter.widget-view+json": {
       "model_id": "cbfc8408ea174cde978c11d962795746",
       "version_major": 2,
       "version_minor": 0
      },
      "text/plain": [
       "Fold:   0%|          | 0/5 [00:00<?, ?it/s]"
      ]
     },
     "metadata": {},
     "output_type": "display_data"
    },
    {
     "data": {
      "text/plain": [
       "(0.8972053872053873, 0.012120648342876662)"
      ]
     },
     "execution_count": 40,
     "metadata": {},
     "output_type": "execute_result"
    }
   ],
   "source": [
    "hparams = {\n",
    "    'model_params': {},\n",
    "    'X_num': np.array(X_all)[sfs.get_support()].tolist()\n",
    "}\n",
    "result = sgml.cv(df_train, skf, hparams, config, lr_adapter, result_proc = [sgml.lr_learning_result])\n",
    "np.mean(result['valid_scores']), np.std(result['valid_scores'])"
   ]
  },
  {
   "cell_type": "code",
   "execution_count": 41,
   "id": "b0438ad8-d84b-45e5-a6dc-aea62fd378e5",
   "metadata": {},
   "outputs": [
    {
     "data": {
      "text/html": [
       "<div>\n",
       "<style scoped>\n",
       "    .dataframe tbody tr th:only-of-type {\n",
       "        vertical-align: middle;\n",
       "    }\n",
       "\n",
       "    .dataframe tbody tr th {\n",
       "        vertical-align: top;\n",
       "    }\n",
       "\n",
       "    .dataframe thead th {\n",
       "        text-align: right;\n",
       "    }\n",
       "</style>\n",
       "<table border=\"1\" class=\"dataframe\">\n",
       "  <thead>\n",
       "    <tr style=\"text-align: right;\">\n",
       "      <th></th>\n",
       "      <th>mean</th>\n",
       "      <th>std</th>\n",
       "      <th>CV</th>\n",
       "    </tr>\n",
       "  </thead>\n",
       "  <tbody>\n",
       "    <tr>\n",
       "      <th>dewpoint_ma24</th>\n",
       "      <td>-0.020234</td>\n",
       "      <td>0.113573</td>\n",
       "      <td>5.612868</td>\n",
       "    </tr>\n",
       "    <tr>\n",
       "      <th>maxtemp_ma24</th>\n",
       "      <td>-0.024915</td>\n",
       "      <td>0.081302</td>\n",
       "      <td>3.263118</td>\n",
       "    </tr>\n",
       "    <tr>\n",
       "      <th>cos_wd_3</th>\n",
       "      <td>-0.014448</td>\n",
       "      <td>0.043408</td>\n",
       "      <td>3.004357</td>\n",
       "    </tr>\n",
       "    <tr>\n",
       "      <th>sunshine_3</th>\n",
       "      <td>-0.018969</td>\n",
       "      <td>0.033022</td>\n",
       "      <td>1.740821</td>\n",
       "    </tr>\n",
       "    <tr>\n",
       "      <th>sin_wd_2</th>\n",
       "      <td>-0.015010</td>\n",
       "      <td>0.022889</td>\n",
       "      <td>1.524927</td>\n",
       "    </tr>\n",
       "    <tr>\n",
       "      <th>dewpoint_1</th>\n",
       "      <td>0.052131</td>\n",
       "      <td>0.071972</td>\n",
       "      <td>1.380610</td>\n",
       "    </tr>\n",
       "    <tr>\n",
       "      <th>chp_1</th>\n",
       "      <td>-0.039389</td>\n",
       "      <td>0.049762</td>\n",
       "      <td>1.263360</td>\n",
       "    </tr>\n",
       "    <tr>\n",
       "      <th>maxtemp</th>\n",
       "      <td>0.127891</td>\n",
       "      <td>0.153483</td>\n",
       "      <td>1.200112</td>\n",
       "    </tr>\n",
       "    <tr>\n",
       "      <th>temparature_ma24</th>\n",
       "      <td>0.365757</td>\n",
       "      <td>0.205129</td>\n",
       "      <td>0.560833</td>\n",
       "    </tr>\n",
       "    <tr>\n",
       "      <th>dewpoint_5</th>\n",
       "      <td>-0.063698</td>\n",
       "      <td>0.031295</td>\n",
       "      <td>0.491304</td>\n",
       "    </tr>\n",
       "  </tbody>\n",
       "</table>\n",
       "</div>"
      ],
      "text/plain": [
       "                      mean       std        CV\n",
       "dewpoint_ma24    -0.020234  0.113573  5.612868\n",
       "maxtemp_ma24     -0.024915  0.081302  3.263118\n",
       "cos_wd_3         -0.014448  0.043408  3.004357\n",
       "sunshine_3       -0.018969  0.033022  1.740821\n",
       "sin_wd_2         -0.015010  0.022889  1.524927\n",
       "dewpoint_1        0.052131  0.071972  1.380610\n",
       "chp_1            -0.039389  0.049762  1.263360\n",
       "maxtemp           0.127891  0.153483  1.200112\n",
       "temparature_ma24  0.365757  0.205129  0.560833\n",
       "dewpoint_5       -0.063698  0.031295  0.491304"
      ]
     },
     "execution_count": 41,
     "metadata": {},
     "output_type": "execute_result"
    }
   ],
   "source": [
    "df_coef = pd.concat([i['coef'] for i in result['model_result']], axis=1).agg(['mean', 'std'], axis = 1).assign(\n",
    "    CV = lambda x: x['std'] / x['mean'].abs()\n",
    ").sort_values('CV', ascending = False)\n",
    "df_coef.iloc[:10]"
   ]
  },
  {
   "cell_type": "code",
   "execution_count": 42,
   "id": "fe029202-086e-42ef-aba0-8ac816f094b0",
   "metadata": {},
   "outputs": [],
   "source": [
    "sc.cv_result('lr_sfs', hparams, lr_adapter, result['valid_prd'])"
   ]
  },
  {
   "cell_type": "code",
   "execution_count": 43,
   "id": "048fb934-07c0-4d11-9597-be031626c71c",
   "metadata": {},
   "outputs": [
    {
     "data": {
      "application/vnd.jupyter.widget-view+json": {
       "model_id": "1a25668f720d44eb8e004d194e23b6fa",
       "version_major": 2,
       "version_minor": 0
      },
      "text/plain": [
       "Fold:   0%|          | 0/5 [00:00<?, ?it/s]"
      ]
     },
     "metadata": {},
     "output_type": "display_data"
    },
    {
     "data": {
      "text/plain": [
       "(0.8983557800224468, 0.011976255278421333)"
      ]
     },
     "execution_count": 43,
     "metadata": {},
     "output_type": "execute_result"
    }
   ],
   "source": [
    "hparams = {\n",
    "    'model_params': {},\n",
    "    'X_num': df_coef.iloc[8:].index.tolist()\n",
    "}\n",
    "result = sgml.cv(df_train, skf, hparams, config, lr_adapter, result_proc = [sgml.lr_learning_result])\n",
    "np.mean(result['valid_scores']), np.std(result['valid_scores'])"
   ]
  },
  {
   "cell_type": "code",
   "execution_count": 44,
   "id": "b6053dc4-c6a4-4e28-acca-542e8ac6a66d",
   "metadata": {},
   "outputs": [
    {
     "data": {
      "text/html": [
       "<div>\n",
       "<style scoped>\n",
       "    .dataframe tbody tr th:only-of-type {\n",
       "        vertical-align: middle;\n",
       "    }\n",
       "\n",
       "    .dataframe tbody tr th {\n",
       "        vertical-align: top;\n",
       "    }\n",
       "\n",
       "    .dataframe thead th {\n",
       "        text-align: right;\n",
       "    }\n",
       "</style>\n",
       "<table border=\"1\" class=\"dataframe\">\n",
       "  <thead>\n",
       "    <tr style=\"text-align: right;\">\n",
       "      <th></th>\n",
       "      <th>mean</th>\n",
       "      <th>std</th>\n",
       "      <th>CV</th>\n",
       "    </tr>\n",
       "  </thead>\n",
       "  <tbody>\n",
       "    <tr>\n",
       "      <th>dewpoint_5</th>\n",
       "      <td>-0.060115</td>\n",
       "      <td>0.045998</td>\n",
       "      <td>0.765164</td>\n",
       "    </tr>\n",
       "    <tr>\n",
       "      <th>temparature</th>\n",
       "      <td>-0.148630</td>\n",
       "      <td>0.109471</td>\n",
       "      <td>0.736534</td>\n",
       "    </tr>\n",
       "    <tr>\n",
       "      <th>temparature_ma24</th>\n",
       "      <td>0.339612</td>\n",
       "      <td>0.173672</td>\n",
       "      <td>0.511386</td>\n",
       "    </tr>\n",
       "    <tr>\n",
       "      <th>cos_wd_5</th>\n",
       "      <td>0.098969</td>\n",
       "      <td>0.045272</td>\n",
       "      <td>0.457440</td>\n",
       "    </tr>\n",
       "    <tr>\n",
       "      <th>chp_3</th>\n",
       "      <td>-0.258010</td>\n",
       "      <td>0.096879</td>\n",
       "      <td>0.375485</td>\n",
       "    </tr>\n",
       "    <tr>\n",
       "      <th>cloud_6</th>\n",
       "      <td>0.065133</td>\n",
       "      <td>0.023313</td>\n",
       "      <td>0.357921</td>\n",
       "    </tr>\n",
       "    <tr>\n",
       "      <th>mintemp</th>\n",
       "      <td>-0.333428</td>\n",
       "      <td>0.118167</td>\n",
       "      <td>0.354401</td>\n",
       "    </tr>\n",
       "    <tr>\n",
       "      <th>cloud_5</th>\n",
       "      <td>0.185984</td>\n",
       "      <td>0.061321</td>\n",
       "      <td>0.329710</td>\n",
       "    </tr>\n",
       "    <tr>\n",
       "      <th>sunshine_2</th>\n",
       "      <td>0.115192</td>\n",
       "      <td>0.037786</td>\n",
       "      <td>0.328024</td>\n",
       "    </tr>\n",
       "    <tr>\n",
       "      <th>cloud_4</th>\n",
       "      <td>0.149698</td>\n",
       "      <td>0.045243</td>\n",
       "      <td>0.302226</td>\n",
       "    </tr>\n",
       "  </tbody>\n",
       "</table>\n",
       "</div>"
      ],
      "text/plain": [
       "                      mean       std        CV\n",
       "dewpoint_5       -0.060115  0.045998  0.765164\n",
       "temparature      -0.148630  0.109471  0.736534\n",
       "temparature_ma24  0.339612  0.173672  0.511386\n",
       "cos_wd_5          0.098969  0.045272  0.457440\n",
       "chp_3            -0.258010  0.096879  0.375485\n",
       "cloud_6           0.065133  0.023313  0.357921\n",
       "mintemp          -0.333428  0.118167  0.354401\n",
       "cloud_5           0.185984  0.061321  0.329710\n",
       "sunshine_2        0.115192  0.037786  0.328024\n",
       "cloud_4           0.149698  0.045243  0.302226"
      ]
     },
     "execution_count": 44,
     "metadata": {},
     "output_type": "execute_result"
    }
   ],
   "source": [
    "df_coef = pd.concat([i['coef'] for i in result['model_result']], axis=1).agg(['mean', 'std'], axis = 1).assign(\n",
    "    CV = lambda x: x['std'] / x['mean'].abs()\n",
    ").sort_values('CV', ascending = False)\n",
    "df_coef.iloc[:10]"
   ]
  },
  {
   "cell_type": "code",
   "execution_count": 45,
   "id": "a3069511-3a73-40e2-b8dc-5e5b496f113d",
   "metadata": {},
   "outputs": [],
   "source": [
    "sc.cv_result('lr_sfs2', hparams, lr_adapter, result['valid_prd'])"
   ]
  },
  {
   "cell_type": "code",
   "execution_count": 46,
   "id": "a43effd1-6c9a-42f8-a163-9297eff72365",
   "metadata": {},
   "outputs": [
    {
     "data": {
      "application/vnd.jupyter.widget-view+json": {
       "model_id": "db7e72a776674f358f3df2b553e55f9c",
       "version_major": 2,
       "version_minor": 0
      },
      "text/plain": [
       "Fold:   0%|          | 0/5 [00:00<?, ?it/s]"
      ]
     },
     "metadata": {},
     "output_type": "display_data"
    },
    {
     "data": {
      "text/plain": [
       "(0.8985185185185184, 0.01312478134285176)"
      ]
     },
     "execution_count": 46,
     "metadata": {},
     "output_type": "execute_result"
    }
   ],
   "source": [
    "hparams = {\n",
    "    'model_params': {},\n",
    "    'X_num': df_coef.iloc[4:].index.tolist()\n",
    "}\n",
    "result = sgml.cv(df_train, skf, hparams, config, lr_adapter, result_proc = [sgml.lr_learning_result])\n",
    "np.mean(result['valid_scores']), np.std(result['valid_scores'])"
   ]
  },
  {
   "cell_type": "code",
   "execution_count": 47,
   "id": "04bcbc13-91e4-450e-abf2-ef090a07c422",
   "metadata": {},
   "outputs": [],
   "source": [
    "sc.cv_result('lr_sfs3', hparams, lr_adapter, result['valid_prd'])"
   ]
  },
  {
   "cell_type": "code",
   "execution_count": 48,
   "id": "28062a94-a7cc-4a9c-9abb-84d6a98661e6",
   "metadata": {},
   "outputs": [
    {
     "data": {
      "text/html": [
       "<div>\n",
       "<style scoped>\n",
       "    .dataframe tbody tr th:only-of-type {\n",
       "        vertical-align: middle;\n",
       "    }\n",
       "\n",
       "    .dataframe tbody tr th {\n",
       "        vertical-align: top;\n",
       "    }\n",
       "\n",
       "    .dataframe thead th {\n",
       "        text-align: right;\n",
       "    }\n",
       "</style>\n",
       "<table border=\"1\" class=\"dataframe\">\n",
       "  <thead>\n",
       "    <tr style=\"text-align: right;\">\n",
       "      <th></th>\n",
       "      <th>mean</th>\n",
       "      <th>std</th>\n",
       "      <th>CV</th>\n",
       "    </tr>\n",
       "  </thead>\n",
       "  <tbody>\n",
       "    <tr>\n",
       "      <th>cloud_6</th>\n",
       "      <td>0.069157</td>\n",
       "      <td>0.025011</td>\n",
       "      <td>0.361659</td>\n",
       "    </tr>\n",
       "    <tr>\n",
       "      <th>sunshine_2</th>\n",
       "      <td>0.108589</td>\n",
       "      <td>0.038656</td>\n",
       "      <td>0.355989</td>\n",
       "    </tr>\n",
       "    <tr>\n",
       "      <th>chp_3</th>\n",
       "      <td>-0.283220</td>\n",
       "      <td>0.088740</td>\n",
       "      <td>0.313325</td>\n",
       "    </tr>\n",
       "    <tr>\n",
       "      <th>cloud_4</th>\n",
       "      <td>0.156865</td>\n",
       "      <td>0.045290</td>\n",
       "      <td>0.288716</td>\n",
       "    </tr>\n",
       "    <tr>\n",
       "      <th>pressure</th>\n",
       "      <td>-0.134968</td>\n",
       "      <td>0.037416</td>\n",
       "      <td>0.277223</td>\n",
       "    </tr>\n",
       "    <tr>\n",
       "      <th>sin_ed</th>\n",
       "      <td>-0.948355</td>\n",
       "      <td>0.226483</td>\n",
       "      <td>0.238817</td>\n",
       "    </tr>\n",
       "    <tr>\n",
       "      <th>sunshine_4</th>\n",
       "      <td>0.216750</td>\n",
       "      <td>0.051374</td>\n",
       "      <td>0.237018</td>\n",
       "    </tr>\n",
       "    <tr>\n",
       "      <th>cloud_5</th>\n",
       "      <td>0.232140</td>\n",
       "      <td>0.053793</td>\n",
       "      <td>0.231728</td>\n",
       "    </tr>\n",
       "    <tr>\n",
       "      <th>year</th>\n",
       "      <td>0.554469</td>\n",
       "      <td>0.127472</td>\n",
       "      <td>0.229900</td>\n",
       "    </tr>\n",
       "    <tr>\n",
       "      <th>chp_5</th>\n",
       "      <td>-0.200099</td>\n",
       "      <td>0.045552</td>\n",
       "      <td>0.227648</td>\n",
       "    </tr>\n",
       "  </tbody>\n",
       "</table>\n",
       "</div>"
      ],
      "text/plain": [
       "                mean       std        CV\n",
       "cloud_6     0.069157  0.025011  0.361659\n",
       "sunshine_2  0.108589  0.038656  0.355989\n",
       "chp_3      -0.283220  0.088740  0.313325\n",
       "cloud_4     0.156865  0.045290  0.288716\n",
       "pressure   -0.134968  0.037416  0.277223\n",
       "sin_ed     -0.948355  0.226483  0.238817\n",
       "sunshine_4  0.216750  0.051374  0.237018\n",
       "cloud_5     0.232140  0.053793  0.231728\n",
       "year        0.554469  0.127472  0.229900\n",
       "chp_5      -0.200099  0.045552  0.227648"
      ]
     },
     "execution_count": 48,
     "metadata": {},
     "output_type": "execute_result"
    }
   ],
   "source": [
    "df_coef = pd.concat([i['coef'] for i in result['model_result']], axis=1).agg(['mean', 'std'], axis = 1).assign(\n",
    "    CV = lambda x: x['std'] / x['mean'].abs()\n",
    ").sort_values('CV', ascending = False)\n",
    "df_coef.iloc[:10]"
   ]
  },
  {
   "cell_type": "markdown",
   "id": "9a8b2b36-874b-4050-a60e-9afd9aec5270",
   "metadata": {},
   "source": [
    "# Forward Feature Selection wrapping Logistic Regression Aumenting Org"
   ]
  },
  {
   "cell_type": "code",
   "execution_count": 49,
   "id": "77675809-4285-4406-9bd8-fc2a693234bd",
   "metadata": {},
   "outputs": [
    {
     "data": {
      "text/plain": [
       "array(['sin_ed', 'pressure', 'maxtemp', 'temparature', 'mintemp',\n",
       "       'dewpoint', 'humidity', 'cloud', 'sunshine', 'windspeed', 'cos_wd',\n",
       "       'chp', 'sunshine_1', 'sunshine_2', 'sunshine_3', 'sunshine_4',\n",
       "       'sunshine_5', 'cloud_2', 'cloud_3', 'cloud_4', 'dewpoint_2',\n",
       "       'dewpoint_6', 'chp_2', 'chp_4', 'chp_6', 'cos_wd_3', 'sin_wd_2',\n",
       "       'maxtemp_ma24', 'temparature_ma24', 'mintemp_ma24', 'year',\n",
       "       'winddirection'], dtype='<U16')"
      ]
     },
     "execution_count": 49,
     "metadata": {},
     "output_type": "execute_result"
    }
   ],
   "source": [
    "sfs = sc.cache_result(\n",
    "    'ff_sfs_lr2',\n",
    "    lambda : pd.concat([df_train, df_org]).pipe(\n",
    "        lambda x: SequentialFeatureSelector(\n",
    "            estimator = LogisticRegression(), direction = 'forward', scoring = 'roc_auc', cv = skf, n_jobs = -1\n",
    "        ).fit(x[X_all], x[target])\n",
    "    )\n",
    ")\n",
    "np.array(X_all)[sfs.get_support()]"
   ]
  },
  {
   "cell_type": "code",
   "execution_count": 50,
   "id": "efe8b15c-b38a-45f2-8c93-45c8b935571e",
   "metadata": {},
   "outputs": [
    {
     "data": {
      "application/vnd.jupyter.widget-view+json": {
       "model_id": "5998efdede734c6dad000ee61c49071c",
       "version_major": 2,
       "version_minor": 0
      },
      "text/plain": [
       "Fold:   0%|          | 0/5 [00:00<?, ?it/s]"
      ]
     },
     "metadata": {},
     "output_type": "display_data"
    },
    {
     "data": {
      "text/plain": [
       "(0.8947811447811448, 0.012302086080667738)"
      ]
     },
     "execution_count": 50,
     "metadata": {},
     "output_type": "execute_result"
    }
   ],
   "source": [
    "hparams = {\n",
    "    'model_params': {},\n",
    "    'X_num': np.array(X_all)[sfs.get_support()].tolist(),\n",
    "    'train_data_proc_param': {'include_org': True}\n",
    "}\n",
    "result = sgml.cv(df_train, skf, hparams, config, lr_adapter, result_proc = [sgml.lr_learning_result])\n",
    "sc.cv_result('lr_sfs_a', hparams, lr_adapter, result['valid_prd'])\n",
    "np.mean(result['valid_scores']), np.std(result['valid_scores'])"
   ]
  },
  {
   "cell_type": "code",
   "execution_count": 51,
   "id": "10aeccda-a010-42da-b871-72354db0f374",
   "metadata": {},
   "outputs": [
    {
     "data": {
      "text/html": [
       "<div>\n",
       "<style scoped>\n",
       "    .dataframe tbody tr th:only-of-type {\n",
       "        vertical-align: middle;\n",
       "    }\n",
       "\n",
       "    .dataframe tbody tr th {\n",
       "        vertical-align: top;\n",
       "    }\n",
       "\n",
       "    .dataframe thead th {\n",
       "        text-align: right;\n",
       "    }\n",
       "</style>\n",
       "<table border=\"1\" class=\"dataframe\">\n",
       "  <thead>\n",
       "    <tr style=\"text-align: right;\">\n",
       "      <th></th>\n",
       "      <th>mean</th>\n",
       "      <th>std</th>\n",
       "      <th>CV</th>\n",
       "    </tr>\n",
       "  </thead>\n",
       "  <tbody>\n",
       "    <tr>\n",
       "      <th>maxtemp</th>\n",
       "      <td>-0.021097</td>\n",
       "      <td>0.149820</td>\n",
       "      <td>7.101507</td>\n",
       "    </tr>\n",
       "    <tr>\n",
       "      <th>cos_wd_3</th>\n",
       "      <td>-0.010459</td>\n",
       "      <td>0.045744</td>\n",
       "      <td>4.373715</td>\n",
       "    </tr>\n",
       "    <tr>\n",
       "      <th>mintemp_ma24</th>\n",
       "      <td>0.040715</td>\n",
       "      <td>0.160245</td>\n",
       "      <td>3.935769</td>\n",
       "    </tr>\n",
       "    <tr>\n",
       "      <th>sunshine_5</th>\n",
       "      <td>0.019164</td>\n",
       "      <td>0.033826</td>\n",
       "      <td>1.765062</td>\n",
       "    </tr>\n",
       "    <tr>\n",
       "      <th>chp_6</th>\n",
       "      <td>-0.022549</td>\n",
       "      <td>0.038773</td>\n",
       "      <td>1.719530</td>\n",
       "    </tr>\n",
       "    <tr>\n",
       "      <th>sin_wd_2</th>\n",
       "      <td>-0.022583</td>\n",
       "      <td>0.030652</td>\n",
       "      <td>1.357293</td>\n",
       "    </tr>\n",
       "    <tr>\n",
       "      <th>maxtemp_ma24</th>\n",
       "      <td>0.119041</td>\n",
       "      <td>0.137336</td>\n",
       "      <td>1.153678</td>\n",
       "    </tr>\n",
       "    <tr>\n",
       "      <th>chp_4</th>\n",
       "      <td>0.042263</td>\n",
       "      <td>0.034726</td>\n",
       "      <td>0.821672</td>\n",
       "    </tr>\n",
       "    <tr>\n",
       "      <th>chp</th>\n",
       "      <td>0.069188</td>\n",
       "      <td>0.052726</td>\n",
       "      <td>0.762075</td>\n",
       "    </tr>\n",
       "    <tr>\n",
       "      <th>temparature</th>\n",
       "      <td>-0.166954</td>\n",
       "      <td>0.126749</td>\n",
       "      <td>0.759183</td>\n",
       "    </tr>\n",
       "  </tbody>\n",
       "</table>\n",
       "</div>"
      ],
      "text/plain": [
       "                  mean       std        CV\n",
       "maxtemp      -0.021097  0.149820  7.101507\n",
       "cos_wd_3     -0.010459  0.045744  4.373715\n",
       "mintemp_ma24  0.040715  0.160245  3.935769\n",
       "sunshine_5    0.019164  0.033826  1.765062\n",
       "chp_6        -0.022549  0.038773  1.719530\n",
       "sin_wd_2     -0.022583  0.030652  1.357293\n",
       "maxtemp_ma24  0.119041  0.137336  1.153678\n",
       "chp_4         0.042263  0.034726  0.821672\n",
       "chp           0.069188  0.052726  0.762075\n",
       "temparature  -0.166954  0.126749  0.759183"
      ]
     },
     "execution_count": 51,
     "metadata": {},
     "output_type": "execute_result"
    }
   ],
   "source": [
    "df_coef = pd.concat([i['coef'] for i in result['model_result']], axis=1).agg(['mean', 'std'], axis = 1).assign(\n",
    "    CV = lambda x: x['std'] / x['mean'].abs()\n",
    ").sort_values('CV', ascending = False)\n",
    "df_coef.iloc[:10]"
   ]
  },
  {
   "cell_type": "code",
   "execution_count": 52,
   "id": "2b5084e4-c3f5-4fb4-af7f-1f69d784fa6e",
   "metadata": {},
   "outputs": [
    {
     "data": {
      "application/vnd.jupyter.widget-view+json": {
       "model_id": "a290137046b3473082f8a659a3bd8dbe",
       "version_major": 2,
       "version_minor": 0
      },
      "text/plain": [
       "Fold:   0%|          | 0/5 [00:00<?, ?it/s]"
      ]
     },
     "metadata": {},
     "output_type": "display_data"
    },
    {
     "data": {
      "text/plain": [
       "(0.8962906846240178, 0.01146601290644487)"
      ]
     },
     "execution_count": 52,
     "metadata": {},
     "output_type": "execute_result"
    }
   ],
   "source": [
    "hparams = {\n",
    "    'model_params': {},\n",
    "    'X_num': df_coef.iloc[6:].index.tolist(),\n",
    "    'train_data_proc_param': {'include_org': True}\n",
    "}\n",
    "result = sgml.cv(df_train, skf, hparams, config, lr_adapter, result_proc = [sgml.lr_learning_result])\n",
    "sc.cv_result('lr_sfs_a2', hparams, lr_adapter, result['valid_prd'])\n",
    "np.mean(result['valid_scores']), np.std(result['valid_scores'])"
   ]
  },
  {
   "cell_type": "code",
   "execution_count": 53,
   "id": "e6027f18-18e3-4586-a618-24a13c1d19cb",
   "metadata": {},
   "outputs": [
    {
     "data": {
      "text/html": [
       "<div>\n",
       "<style scoped>\n",
       "    .dataframe tbody tr th:only-of-type {\n",
       "        vertical-align: middle;\n",
       "    }\n",
       "\n",
       "    .dataframe tbody tr th {\n",
       "        vertical-align: top;\n",
       "    }\n",
       "\n",
       "    .dataframe thead th {\n",
       "        text-align: right;\n",
       "    }\n",
       "</style>\n",
       "<table border=\"1\" class=\"dataframe\">\n",
       "  <thead>\n",
       "    <tr style=\"text-align: right;\">\n",
       "      <th></th>\n",
       "      <th>mean</th>\n",
       "      <th>std</th>\n",
       "      <th>CV</th>\n",
       "    </tr>\n",
       "  </thead>\n",
       "  <tbody>\n",
       "    <tr>\n",
       "      <th>chp_4</th>\n",
       "      <td>0.034988</td>\n",
       "      <td>0.042251</td>\n",
       "      <td>1.207573</td>\n",
       "    </tr>\n",
       "    <tr>\n",
       "      <th>chp</th>\n",
       "      <td>0.054333</td>\n",
       "      <td>0.046949</td>\n",
       "      <td>0.864086</td>\n",
       "    </tr>\n",
       "    <tr>\n",
       "      <th>sunshine_3</th>\n",
       "      <td>0.048751</td>\n",
       "      <td>0.035849</td>\n",
       "      <td>0.735355</td>\n",
       "    </tr>\n",
       "    <tr>\n",
       "      <th>dewpoint_2</th>\n",
       "      <td>-0.100342</td>\n",
       "      <td>0.063914</td>\n",
       "      <td>0.636965</td>\n",
       "    </tr>\n",
       "    <tr>\n",
       "      <th>temparature</th>\n",
       "      <td>-0.184064</td>\n",
       "      <td>0.098829</td>\n",
       "      <td>0.536927</td>\n",
       "    </tr>\n",
       "    <tr>\n",
       "      <th>maxtemp_ma24</th>\n",
       "      <td>0.118299</td>\n",
       "      <td>0.062029</td>\n",
       "      <td>0.524339</td>\n",
       "    </tr>\n",
       "    <tr>\n",
       "      <th>chp_2</th>\n",
       "      <td>-0.134452</td>\n",
       "      <td>0.053239</td>\n",
       "      <td>0.395968</td>\n",
       "    </tr>\n",
       "    <tr>\n",
       "      <th>year</th>\n",
       "      <td>0.290991</td>\n",
       "      <td>0.111759</td>\n",
       "      <td>0.384062</td>\n",
       "    </tr>\n",
       "    <tr>\n",
       "      <th>cos_wd</th>\n",
       "      <td>-0.257909</td>\n",
       "      <td>0.063183</td>\n",
       "      <td>0.244983</td>\n",
       "    </tr>\n",
       "    <tr>\n",
       "      <th>dewpoint_6</th>\n",
       "      <td>0.340524</td>\n",
       "      <td>0.075403</td>\n",
       "      <td>0.221431</td>\n",
       "    </tr>\n",
       "  </tbody>\n",
       "</table>\n",
       "</div>"
      ],
      "text/plain": [
       "                  mean       std        CV\n",
       "chp_4         0.034988  0.042251  1.207573\n",
       "chp           0.054333  0.046949  0.864086\n",
       "sunshine_3    0.048751  0.035849  0.735355\n",
       "dewpoint_2   -0.100342  0.063914  0.636965\n",
       "temparature  -0.184064  0.098829  0.536927\n",
       "maxtemp_ma24  0.118299  0.062029  0.524339\n",
       "chp_2        -0.134452  0.053239  0.395968\n",
       "year          0.290991  0.111759  0.384062\n",
       "cos_wd       -0.257909  0.063183  0.244983\n",
       "dewpoint_6    0.340524  0.075403  0.221431"
      ]
     },
     "execution_count": 53,
     "metadata": {},
     "output_type": "execute_result"
    }
   ],
   "source": [
    "df_coef = pd.concat([i['coef'] for i in result['model_result']], axis=1).agg(['mean', 'std'], axis = 1).assign(\n",
    "    CV = lambda x: x['std'] / x['mean'].abs()\n",
    ").sort_values('CV', ascending = False)\n",
    "df_coef.iloc[:10]"
   ]
  },
  {
   "cell_type": "code",
   "execution_count": 54,
   "id": "15b5011e-0063-4e4d-a9c6-0eac5a8fa05c",
   "metadata": {},
   "outputs": [
    {
     "data": {
      "application/vnd.jupyter.widget-view+json": {
       "model_id": "2674237ea2544fef91473b551c6fa2c7",
       "version_major": 2,
       "version_minor": 0
      },
      "text/plain": [
       "Fold:   0%|          | 0/5 [00:00<?, ?it/s]"
      ]
     },
     "metadata": {},
     "output_type": "display_data"
    },
    {
     "data": {
      "text/plain": [
       "(0.8971043771043771, 0.011150089212136121)"
      ]
     },
     "execution_count": 54,
     "metadata": {},
     "output_type": "execute_result"
    }
   ],
   "source": [
    "hparams = {\n",
    "    'model_params': {},\n",
    "    'X_num': df_coef.iloc[7:].index.tolist(),\n",
    "    'train_data_proc_param': {'include_org': True}\n",
    "}\n",
    "result = sgml.cv(df_train, skf, hparams, config, lr_adapter, result_proc = [sgml.lr_learning_result])\n",
    "sc.cv_result('lr_sfs_a3', hparams, lr_adapter, result['valid_prd'])\n",
    "np.mean(result['valid_scores']), np.std(result['valid_scores'])"
   ]
  },
  {
   "cell_type": "markdown",
   "id": "93f68ca3-7901-4619-a7c5-4cbc22900ea0",
   "metadata": {},
   "source": [
    "# Backward Feature Selection wrapping Logistic Regression"
   ]
  },
  {
   "cell_type": "code",
   "execution_count": 55,
   "id": "62160d60-ccd5-40c2-ba19-2a9ae7869984",
   "metadata": {},
   "outputs": [
    {
     "data": {
      "text/plain": [
       "array(['sin_ed', 'pressure', 'maxtemp', 'temparature', 'mintemp',\n",
       "       'dewpoint', 'sunshine', 'windspeed', 'cos_wd', 'sin_wd', 'chp',\n",
       "       'sunshine_1', 'sunshine_2', 'sunshine_4', 'cloud_3', 'cloud_4',\n",
       "       'cloud_5', 'dewpoint_5', 'chp_3', 'chp_4', 'chp_5', 'cos_wd_3',\n",
       "       'cos_wd_4', 'sin_wd_3', 'temparature_ma24', 'mintemp_ma24',\n",
       "       'cloud_ma24', 'sunshine_ma24', 'cos_wd_ma24', 'sin_wd_ma24',\n",
       "       'chp_ma24', 'year'], dtype='<U16')"
      ]
     },
     "execution_count": 55,
     "metadata": {},
     "output_type": "execute_result"
    }
   ],
   "source": [
    "sfs = sc.cache_result(\n",
    "    'bf_sfs_lr',\n",
    "    lambda : SequentialFeatureSelector(\n",
    "        estimator = LogisticRegression(), direction = 'backward', scoring = 'roc_auc', cv = skf, n_jobs = -1\n",
    "    ).fit(df_train[X_all], df_train[target]), rerun = False\n",
    ")\n",
    "np.array(X_all)[sfs.get_support()]"
   ]
  },
  {
   "cell_type": "code",
   "execution_count": 56,
   "id": "b39c1e42-9903-49dd-8d5f-620247b8389c",
   "metadata": {},
   "outputs": [
    {
     "data": {
      "application/vnd.jupyter.widget-view+json": {
       "model_id": "99abfd7ea3104fe0b14c49052070acf1",
       "version_major": 2,
       "version_minor": 0
      },
      "text/plain": [
       "Fold:   0%|          | 0/5 [00:00<?, ?it/s]"
      ]
     },
     "metadata": {},
     "output_type": "display_data"
    },
    {
     "data": {
      "text/plain": [
       "(0.8971717171717172, 0.011681897853436847)"
      ]
     },
     "execution_count": 56,
     "metadata": {},
     "output_type": "execute_result"
    }
   ],
   "source": [
    "hparams = {\n",
    "    'model_params': {},\n",
    "    'X_num': np.array(X_all)[sfs.get_support()].tolist(),\n",
    "}\n",
    "result = sgml.cv(df_train, skf, hparams, config, lr_adapter, result_proc = [sgml.lr_learning_result])\n",
    "sc.cv_result('lr_bfs', hparams, lr_adapter, result['valid_prd'])\n",
    "np.mean(result['valid_scores']), np.std(result['valid_scores'])"
   ]
  },
  {
   "cell_type": "markdown",
   "id": "2d009dcc-cff5-4894-a0c8-f3e51c5ab87c",
   "metadata": {},
   "source": [
    "# Backward Feature Selection wrapping Logistic Regression Augumenting Org"
   ]
  },
  {
   "cell_type": "code",
   "execution_count": 57,
   "id": "5cfb4a07-e69a-48d6-b516-a190f82e2acd",
   "metadata": {},
   "outputs": [
    {
     "data": {
      "text/plain": [
       "array(['sin_ed', 'pressure', 'mintemp', 'dewpoint', 'humidity', 'cloud',\n",
       "       'sunshine', 'windspeed', 'cos_wd', 'sin_wd', 'chp', 'sunshine_1',\n",
       "       'sunshine_3', 'sunshine_4', 'sunshine_6', 'cloud_4', 'cloud_5',\n",
       "       'dewpoint_2', 'dewpoint_6', 'chp_3', 'chp_5', 'chp_6', 'cos_wd_3',\n",
       "       'sin_wd_1', 'sin_wd_3', 'sin_wd_5', 'temparature_ma24',\n",
       "       'mintemp_ma24', 'cos_wd_ma24', 'sin_wd_ma24', 'year',\n",
       "       'winddirection'], dtype='<U16')"
      ]
     },
     "execution_count": 57,
     "metadata": {},
     "output_type": "execute_result"
    }
   ],
   "source": [
    "sfs = sc.cache_result(\n",
    "    'bf_sfs_lr2',\n",
    "    lambda : pd.concat([df_train, df_org]).pipe(\n",
    "        lambda x: SequentialFeatureSelector(\n",
    "            estimator = LogisticRegression(max_iter = 500), direction = 'backward', scoring = 'roc_auc', cv = skf, n_jobs = -1\n",
    "        ).fit(x[X_all], x[target])\n",
    "    )\n",
    ")\n",
    "np.array(X_all)[sfs.get_support()]"
   ]
  },
  {
   "cell_type": "code",
   "execution_count": 58,
   "id": "f63e52ca-57e8-40e8-9f23-5c9c378ac8ff",
   "metadata": {},
   "outputs": [
    {
     "data": {
      "application/vnd.jupyter.widget-view+json": {
       "model_id": "8e8c3925d6e44df19078318d7dec52ad",
       "version_major": 2,
       "version_minor": 0
      },
      "text/plain": [
       "Fold:   0%|          | 0/5 [00:00<?, ?it/s]"
      ]
     },
     "metadata": {},
     "output_type": "display_data"
    },
    {
     "data": {
      "text/plain": [
       "(0.8929517396184063, 0.009206929636066645)"
      ]
     },
     "execution_count": 58,
     "metadata": {},
     "output_type": "execute_result"
    }
   ],
   "source": [
    "hparams = {\n",
    "    'model_params': {},\n",
    "    'X_num': np.array(X_all)[sfs.get_support()].tolist(),\n",
    "    'train_data_proc_param': {'include_org': True}\n",
    "}\n",
    "result = sgml.cv(df_train, skf, hparams, config, lr_adapter, result_proc = [sgml.lr_learning_result])\n",
    "sc.cv_result('lr_bfs_a', hparams, lr_adapter, result['valid_prd'])\n",
    "np.mean(result['valid_scores']), np.std(result['valid_scores'])"
   ]
  },
  {
   "cell_type": "markdown",
   "id": "61d7f936-2d44-42d2-8ccb-670b313bbc15",
   "metadata": {},
   "source": [
    "# Forward Feature Selection wrapping LGBM"
   ]
  },
  {
   "cell_type": "code",
   "execution_count": 59,
   "id": "26cb0327-5fae-4246-9e35-9fe2f335dafb",
   "metadata": {},
   "outputs": [
    {
     "data": {
      "application/vnd.jupyter.widget-view+json": {
       "model_id": "924e4893582c4daf8e41b33e68e779ec",
       "version_major": 2,
       "version_minor": 0
      },
      "text/plain": [
       "Fold:   0%|          | 0/5 [00:00<?, ?it/s]"
      ]
     },
     "metadata": {},
     "output_type": "display_data"
    },
    {
     "data": {
      "text/plain": [
       "(0.889421997755331, 0.9399807098765433)"
      ]
     },
     "execution_count": 59,
     "metadata": {},
     "output_type": "execute_result"
    }
   ],
   "source": [
    "hparams = {\n",
    "    'model_params': {'num_leaves': 7, 'n_estimators': 100, 'colsample_bytree': 0.75, 'learning_rate': 0.03},\n",
    "    'X_num': X_all\n",
    "}\n",
    "result = sgml.cv(df_train, skf, hparams, config, lgb_adapter)\n",
    "np.mean(result['valid_scores']), np.mean(result['train_scores'])"
   ]
  },
  {
   "cell_type": "code",
   "execution_count": 60,
   "id": "fc9d35bb-70cd-42f0-9205-e345573e6bbd",
   "metadata": {},
   "outputs": [
    {
     "data": {
      "text/plain": [
       "array(['sin_ed', 'maxtemp', 'temparature', 'mintemp', 'dewpoint',\n",
       "       'sunshine', 'windspeed', 'sin_wd', 'chp', 'cloud_1', 'cloud_2',\n",
       "       'cloud_3', 'cloud_5', 'cloud_6', 'dewpoint_1', 'dewpoint_2',\n",
       "       'dewpoint_4', 'chp_3', 'chp_5', 'cos_wd_3', 'cos_wd_4', 'cos_wd_5',\n",
       "       'sin_wd_2', 'sin_wd_6', 'maxtemp_ma24', 'temparature_ma24',\n",
       "       'mintemp_ma24', 'dewpoint_ma24', 'humidity_ma24', 'sunshine_ma24',\n",
       "       'year', 'expected_day'], dtype='<U16')"
      ]
     },
     "execution_count": 60,
     "metadata": {},
     "output_type": "execute_result"
    }
   ],
   "source": [
    "sfs = sc.cache_result(\n",
    "    'ff_sfs_lgb',\n",
    "    lambda : SequentialFeatureSelector(\n",
    "        estimator = lgb.LGBMClassifier(verbose = 0, **hparams['model_params']), direction = 'forward', scoring = 'roc_auc', cv = skf\n",
    "    ).fit(df_train[X_all], df_train[target])\n",
    ")\n",
    "np.array(X_all)[sfs.get_support()]"
   ]
  },
  {
   "cell_type": "code",
   "execution_count": 61,
   "id": "90958e8d-4def-4eae-9aca-f287aa605204",
   "metadata": {},
   "outputs": [
    {
     "data": {
      "application/vnd.jupyter.widget-view+json": {
       "model_id": "11ddac77c2864b9293c32bdb503e8a27",
       "version_major": 2,
       "version_minor": 0
      },
      "text/plain": [
       "Fold:   0%|          | 0/5 [00:00<?, ?it/s]"
      ]
     },
     "metadata": {},
     "output_type": "display_data"
    },
    {
     "data": {
      "text/plain": [
       "(0.8978815937149272, 0.9357921226150394)"
      ]
     },
     "execution_count": 61,
     "metadata": {},
     "output_type": "execute_result"
    }
   ],
   "source": [
    "hparams = {\n",
    "    'model_params': {'num_leaves': 7, 'n_estimators': 100, 'colsample_bytree': 0.75, 'learning_rate': 0.03},\n",
    "    'X_num': np.array(X_all)[sfs.get_support()].tolist()\n",
    "}\n",
    "result = sgml.cv(df_train, skf, hparams, config, lgb_adapter)\n",
    "sc.cv_result('lgb_sfs', hparams, lgb_adapter, result['valid_prd'])\n",
    "np.mean(result['valid_scores']), np.mean(result['train_scores'])"
   ]
  },
  {
   "cell_type": "code",
   "execution_count": 62,
   "id": "0024bd88-7ef8-47cf-93ab-f358d2da233c",
   "metadata": {},
   "outputs": [
    {
     "data": {
      "text/html": [
       "<div>\n",
       "<style scoped>\n",
       "    .dataframe tbody tr th:only-of-type {\n",
       "        vertical-align: middle;\n",
       "    }\n",
       "\n",
       "    .dataframe tbody tr th {\n",
       "        vertical-align: top;\n",
       "    }\n",
       "\n",
       "    .dataframe thead th {\n",
       "        text-align: right;\n",
       "    }\n",
       "</style>\n",
       "<table border=\"1\" class=\"dataframe\">\n",
       "  <thead>\n",
       "    <tr style=\"text-align: right;\">\n",
       "      <th></th>\n",
       "      <th>mean</th>\n",
       "      <th>std</th>\n",
       "      <th>CV</th>\n",
       "    </tr>\n",
       "  </thead>\n",
       "  <tbody>\n",
       "    <tr>\n",
       "      <th>cos_wd_5</th>\n",
       "      <td>9.0</td>\n",
       "      <td>8.455767</td>\n",
       "      <td>0.939530</td>\n",
       "    </tr>\n",
       "    <tr>\n",
       "      <th>mintemp_ma24</th>\n",
       "      <td>5.6</td>\n",
       "      <td>5.176872</td>\n",
       "      <td>0.924441</td>\n",
       "    </tr>\n",
       "    <tr>\n",
       "      <th>cloud_5</th>\n",
       "      <td>4.6</td>\n",
       "      <td>3.209361</td>\n",
       "      <td>0.697687</td>\n",
       "    </tr>\n",
       "    <tr>\n",
       "      <th>sin_wd_6</th>\n",
       "      <td>9.0</td>\n",
       "      <td>5.916080</td>\n",
       "      <td>0.657342</td>\n",
       "    </tr>\n",
       "    <tr>\n",
       "      <th>expected_day</th>\n",
       "      <td>8.6</td>\n",
       "      <td>5.549775</td>\n",
       "      <td>0.645323</td>\n",
       "    </tr>\n",
       "    <tr>\n",
       "      <th>sin_ed</th>\n",
       "      <td>6.4</td>\n",
       "      <td>4.098780</td>\n",
       "      <td>0.640434</td>\n",
       "    </tr>\n",
       "    <tr>\n",
       "      <th>dewpoint_4</th>\n",
       "      <td>13.2</td>\n",
       "      <td>8.348653</td>\n",
       "      <td>0.632474</td>\n",
       "    </tr>\n",
       "    <tr>\n",
       "      <th>dewpoint_1</th>\n",
       "      <td>4.8</td>\n",
       "      <td>3.033150</td>\n",
       "      <td>0.631906</td>\n",
       "    </tr>\n",
       "    <tr>\n",
       "      <th>chp_5</th>\n",
       "      <td>4.8</td>\n",
       "      <td>3.033150</td>\n",
       "      <td>0.631906</td>\n",
       "    </tr>\n",
       "    <tr>\n",
       "      <th>year</th>\n",
       "      <td>2.8</td>\n",
       "      <td>1.643168</td>\n",
       "      <td>0.586846</td>\n",
       "    </tr>\n",
       "  </tbody>\n",
       "</table>\n",
       "</div>"
      ],
      "text/plain": [
       "              mean       std        CV\n",
       "cos_wd_5       9.0  8.455767  0.939530\n",
       "mintemp_ma24   5.6  5.176872  0.924441\n",
       "cloud_5        4.6  3.209361  0.697687\n",
       "sin_wd_6       9.0  5.916080  0.657342\n",
       "expected_day   8.6  5.549775  0.645323\n",
       "sin_ed         6.4  4.098780  0.640434\n",
       "dewpoint_4    13.2  8.348653  0.632474\n",
       "dewpoint_1     4.8  3.033150  0.631906\n",
       "chp_5          4.8  3.033150  0.631906\n",
       "year           2.8  1.643168  0.586846"
      ]
     },
     "execution_count": 62,
     "metadata": {},
     "output_type": "execute_result"
    }
   ],
   "source": [
    "df_imp = pd.concat(\n",
    "    [i['feature_importance'] for i in result['model_result']], axis=1\n",
    ").agg(['mean', 'std'], axis=1).assign(\n",
    "    CV = lambda x: x['std'] / x['mean'].abs()\n",
    ").sort_values('CV', ascending = False)\n",
    "df_imp.iloc[:10]"
   ]
  },
  {
   "cell_type": "code",
   "execution_count": 63,
   "id": "2904ae16-f1f2-4b94-a57d-12758b51a0d9",
   "metadata": {},
   "outputs": [
    {
     "data": {
      "application/vnd.jupyter.widget-view+json": {
       "model_id": "920d14de43434179a4ef827b59572d4b",
       "version_major": 2,
       "version_minor": 0
      },
      "text/plain": [
       "Fold:   0%|          | 0/5 [00:00<?, ?it/s]"
      ]
     },
     "metadata": {},
     "output_type": "display_data"
    },
    {
     "data": {
      "text/plain": [
       "(0.8974635241301907, 0.9356849747474747)"
      ]
     },
     "execution_count": 63,
     "metadata": {},
     "output_type": "execute_result"
    }
   ],
   "source": [
    "hparams = {\n",
    "    'model_params': {'num_leaves': 7, 'n_estimators': 100, 'colsample_bytree': 0.75, 'learning_rate': 0.03},\n",
    "    'X_num': df_imp.iloc[3:].index.tolist()\n",
    "}\n",
    "result = sgml.cv(df_train, skf, hparams, config, lgb_adapter)\n",
    "sc.cv_result('lgb_sfs2', hparams, lgb_adapter, result['valid_prd'])\n",
    "np.mean(result['valid_scores']), np.mean(result['train_scores'])"
   ]
  },
  {
   "cell_type": "code",
   "execution_count": 64,
   "id": "3e543792-f927-414b-a690-55e43489bcdf",
   "metadata": {},
   "outputs": [
    {
     "data": {
      "text/html": [
       "<div>\n",
       "<style scoped>\n",
       "    .dataframe tbody tr th:only-of-type {\n",
       "        vertical-align: middle;\n",
       "    }\n",
       "\n",
       "    .dataframe tbody tr th {\n",
       "        vertical-align: top;\n",
       "    }\n",
       "\n",
       "    .dataframe thead th {\n",
       "        text-align: right;\n",
       "    }\n",
       "</style>\n",
       "<table border=\"1\" class=\"dataframe\">\n",
       "  <thead>\n",
       "    <tr style=\"text-align: right;\">\n",
       "      <th></th>\n",
       "      <th>mean</th>\n",
       "      <th>std</th>\n",
       "      <th>CV</th>\n",
       "    </tr>\n",
       "  </thead>\n",
       "  <tbody>\n",
       "    <tr>\n",
       "      <th>dewpoint_1</th>\n",
       "      <td>6.2</td>\n",
       "      <td>5.449771</td>\n",
       "      <td>0.878995</td>\n",
       "    </tr>\n",
       "    <tr>\n",
       "      <th>cloud_2</th>\n",
       "      <td>2.8</td>\n",
       "      <td>2.167948</td>\n",
       "      <td>0.774267</td>\n",
       "    </tr>\n",
       "    <tr>\n",
       "      <th>sin_wd_2</th>\n",
       "      <td>5.2</td>\n",
       "      <td>3.701351</td>\n",
       "      <td>0.711798</td>\n",
       "    </tr>\n",
       "    <tr>\n",
       "      <th>maxtemp_ma24</th>\n",
       "      <td>6.4</td>\n",
       "      <td>4.393177</td>\n",
       "      <td>0.686434</td>\n",
       "    </tr>\n",
       "    <tr>\n",
       "      <th>temparature_ma24</th>\n",
       "      <td>8.4</td>\n",
       "      <td>5.594640</td>\n",
       "      <td>0.666029</td>\n",
       "    </tr>\n",
       "    <tr>\n",
       "      <th>sunshine_ma24</th>\n",
       "      <td>23.4</td>\n",
       "      <td>13.557286</td>\n",
       "      <td>0.579371</td>\n",
       "    </tr>\n",
       "    <tr>\n",
       "      <th>sin_wd_6</th>\n",
       "      <td>8.4</td>\n",
       "      <td>4.827007</td>\n",
       "      <td>0.574644</td>\n",
       "    </tr>\n",
       "    <tr>\n",
       "      <th>cos_wd_3</th>\n",
       "      <td>10.4</td>\n",
       "      <td>5.856620</td>\n",
       "      <td>0.563137</td>\n",
       "    </tr>\n",
       "    <tr>\n",
       "      <th>cloud_6</th>\n",
       "      <td>6.0</td>\n",
       "      <td>3.316625</td>\n",
       "      <td>0.552771</td>\n",
       "    </tr>\n",
       "    <tr>\n",
       "      <th>dewpoint_4</th>\n",
       "      <td>12.0</td>\n",
       "      <td>6.442049</td>\n",
       "      <td>0.536837</td>\n",
       "    </tr>\n",
       "  </tbody>\n",
       "</table>\n",
       "</div>"
      ],
      "text/plain": [
       "                  mean        std        CV\n",
       "dewpoint_1         6.2   5.449771  0.878995\n",
       "cloud_2            2.8   2.167948  0.774267\n",
       "sin_wd_2           5.2   3.701351  0.711798\n",
       "maxtemp_ma24       6.4   4.393177  0.686434\n",
       "temparature_ma24   8.4   5.594640  0.666029\n",
       "sunshine_ma24     23.4  13.557286  0.579371\n",
       "sin_wd_6           8.4   4.827007  0.574644\n",
       "cos_wd_3          10.4   5.856620  0.563137\n",
       "cloud_6            6.0   3.316625  0.552771\n",
       "dewpoint_4        12.0   6.442049  0.536837"
      ]
     },
     "execution_count": 64,
     "metadata": {},
     "output_type": "execute_result"
    }
   ],
   "source": [
    "df_imp = pd.concat(\n",
    "    [i['feature_importance'] for i in result['model_result']], axis=1\n",
    ").agg(['mean', 'std'], axis=1).assign(\n",
    "    CV = lambda x: x['std'] / x['mean'].abs()\n",
    ").sort_values('CV', ascending = False)\n",
    "df_imp.iloc[:10]"
   ]
  },
  {
   "cell_type": "markdown",
   "id": "9f5f2ae9-5dac-4cde-b40a-324753b1d05e",
   "metadata": {},
   "source": [
    "# Forward Feature Selection wrapping LGBM Augumenting Org"
   ]
  },
  {
   "cell_type": "code",
   "execution_count": 65,
   "id": "af49214b-0941-4077-a60f-dd557ba44178",
   "metadata": {},
   "outputs": [
    {
     "data": {
      "text/plain": [
       "array(['sin_ed', 'pressure', 'maxtemp', 'temparature', 'mintemp',\n",
       "       'dewpoint', 'humidity', 'cloud', 'sunshine', 'windspeed', 'chp',\n",
       "       'sunshine_1', 'sunshine_5', 'cloud_2', 'cloud_3', 'cloud_6',\n",
       "       'dewpoint_1', 'dewpoint_2', 'chp_2', 'chp_3', 'chp_4', 'chp_6',\n",
       "       'cos_wd_1', 'sin_wd_5', 'maxtemp_ma24', 'temparature_ma24',\n",
       "       'dewpoint_ma24', 'humidity_ma24', 'cloud_ma24', 'windspeed_ma24',\n",
       "       'chp_ma24', 'year'], dtype='<U16')"
      ]
     },
     "execution_count": 65,
     "metadata": {},
     "output_type": "execute_result"
    }
   ],
   "source": [
    "hparams = {\n",
    "    'model_params': {'num_leaves': 7, 'n_estimators': 100, 'colsample_bytree': 0.75, 'learning_rate': 0.03},\n",
    "    'X_num': X_all\n",
    "}\n",
    "sfs = sc.cache_result(\n",
    "    'ff_sfs_lgb2',\n",
    "    lambda : pd.concat([df_train, df_org]).pipe(\n",
    "        lambda x: SequentialFeatureSelector(\n",
    "            estimator = lgb.LGBMClassifier(verbose = 0, **hparams['model_params']), direction = 'forward', scoring = 'roc_auc', cv = skf\n",
    "        ).fit(x[X_all], x[target])\n",
    "    )\n",
    ")\n",
    "np.array(X_all)[sfs.get_support()]"
   ]
  },
  {
   "cell_type": "code",
   "execution_count": 66,
   "id": "0d8a817d-0aa7-4bfc-b8d1-de6ca8bea89f",
   "metadata": {},
   "outputs": [
    {
     "data": {
      "application/vnd.jupyter.widget-view+json": {
       "model_id": "ce5b8d00f6224f30bebdeade87843b12",
       "version_major": 2,
       "version_minor": 0
      },
      "text/plain": [
       "Fold:   0%|          | 0/5 [00:00<?, ?it/s]"
      ]
     },
     "metadata": {},
     "output_type": "display_data"
    },
    {
     "data": {
      "text/plain": [
       "(0.894753086419753, 0.9293044541265711)"
      ]
     },
     "execution_count": 66,
     "metadata": {},
     "output_type": "execute_result"
    }
   ],
   "source": [
    "hparams = {\n",
    "    'model_params': {'num_leaves': 7, 'n_estimators': 100, 'colsample_bytree': 0.75, 'learning_rate': 0.03},\n",
    "    'X_num': np.array(X_all)[sfs.get_support()].tolist(),\n",
    "    'train_data_proc_param': {'include_org': True}\n",
    "}\n",
    "result = sgml.cv(df_train, skf, hparams, config, lgb_adapter)\n",
    "sc.cv_result('lgb_sfs_a', hparams, lgb_adapter, result['valid_prd'])\n",
    "np.mean(result['valid_scores']), np.mean(result['train_scores'])"
   ]
  },
  {
   "cell_type": "code",
   "execution_count": 67,
   "id": "8670ceba-ed59-476c-a681-b8072cfee390",
   "metadata": {},
   "outputs": [
    {
     "data": {
      "text/html": [
       "<div>\n",
       "<style scoped>\n",
       "    .dataframe tbody tr th:only-of-type {\n",
       "        vertical-align: middle;\n",
       "    }\n",
       "\n",
       "    .dataframe tbody tr th {\n",
       "        vertical-align: top;\n",
       "    }\n",
       "\n",
       "    .dataframe thead th {\n",
       "        text-align: right;\n",
       "    }\n",
       "</style>\n",
       "<table border=\"1\" class=\"dataframe\">\n",
       "  <thead>\n",
       "    <tr style=\"text-align: right;\">\n",
       "      <th></th>\n",
       "      <th>mean</th>\n",
       "      <th>std</th>\n",
       "      <th>CV</th>\n",
       "    </tr>\n",
       "  </thead>\n",
       "  <tbody>\n",
       "    <tr>\n",
       "      <th>year</th>\n",
       "      <td>0.4</td>\n",
       "      <td>0.547723</td>\n",
       "      <td>1.369306</td>\n",
       "    </tr>\n",
       "    <tr>\n",
       "      <th>sin_wd_5</th>\n",
       "      <td>6.6</td>\n",
       "      <td>6.465292</td>\n",
       "      <td>0.979590</td>\n",
       "    </tr>\n",
       "    <tr>\n",
       "      <th>chp_6</th>\n",
       "      <td>3.6</td>\n",
       "      <td>3.130495</td>\n",
       "      <td>0.869582</td>\n",
       "    </tr>\n",
       "    <tr>\n",
       "      <th>dewpoint_1</th>\n",
       "      <td>4.4</td>\n",
       "      <td>3.507136</td>\n",
       "      <td>0.797076</td>\n",
       "    </tr>\n",
       "    <tr>\n",
       "      <th>windspeed_ma24</th>\n",
       "      <td>6.2</td>\n",
       "      <td>3.768289</td>\n",
       "      <td>0.607789</td>\n",
       "    </tr>\n",
       "    <tr>\n",
       "      <th>maxtemp</th>\n",
       "      <td>17.6</td>\n",
       "      <td>10.285913</td>\n",
       "      <td>0.584427</td>\n",
       "    </tr>\n",
       "    <tr>\n",
       "      <th>chp_4</th>\n",
       "      <td>2.6</td>\n",
       "      <td>1.516575</td>\n",
       "      <td>0.583298</td>\n",
       "    </tr>\n",
       "    <tr>\n",
       "      <th>chp_3</th>\n",
       "      <td>4.6</td>\n",
       "      <td>2.607681</td>\n",
       "      <td>0.566887</td>\n",
       "    </tr>\n",
       "    <tr>\n",
       "      <th>humidity_ma24</th>\n",
       "      <td>4.0</td>\n",
       "      <td>2.236068</td>\n",
       "      <td>0.559017</td>\n",
       "    </tr>\n",
       "    <tr>\n",
       "      <th>temparature</th>\n",
       "      <td>7.0</td>\n",
       "      <td>3.535534</td>\n",
       "      <td>0.505076</td>\n",
       "    </tr>\n",
       "  </tbody>\n",
       "</table>\n",
       "</div>"
      ],
      "text/plain": [
       "                mean        std        CV\n",
       "year             0.4   0.547723  1.369306\n",
       "sin_wd_5         6.6   6.465292  0.979590\n",
       "chp_6            3.6   3.130495  0.869582\n",
       "dewpoint_1       4.4   3.507136  0.797076\n",
       "windspeed_ma24   6.2   3.768289  0.607789\n",
       "maxtemp         17.6  10.285913  0.584427\n",
       "chp_4            2.6   1.516575  0.583298\n",
       "chp_3            4.6   2.607681  0.566887\n",
       "humidity_ma24    4.0   2.236068  0.559017\n",
       "temparature      7.0   3.535534  0.505076"
      ]
     },
     "execution_count": 67,
     "metadata": {},
     "output_type": "execute_result"
    }
   ],
   "source": [
    "df_imp = pd.concat(\n",
    "    [i['feature_importance'] for i in result['model_result']], axis=1\n",
    ").agg(['mean', 'std'], axis=1).assign(\n",
    "    CV = lambda x: x['std'] / x['mean'].abs()\n",
    ").sort_values('CV', ascending = False)\n",
    "df_imp.iloc[:10]"
   ]
  },
  {
   "cell_type": "code",
   "execution_count": 68,
   "id": "2eb10f52-e81d-41eb-96f8-1e28195da080",
   "metadata": {},
   "outputs": [
    {
     "data": {
      "application/vnd.jupyter.widget-view+json": {
       "model_id": "945aa54b2f5b4b4fac265043a6b82715",
       "version_major": 2,
       "version_minor": 0
      },
      "text/plain": [
       "Fold:   0%|          | 0/5 [00:00<?, ?it/s]"
      ]
     },
     "metadata": {},
     "output_type": "display_data"
    },
    {
     "data": {
      "text/plain": [
       "(0.8944360269360269, 0.9285391714003444)"
      ]
     },
     "execution_count": 68,
     "metadata": {},
     "output_type": "execute_result"
    }
   ],
   "source": [
    "hparams = {\n",
    "    'model_params': {'num_leaves': 7, 'n_estimators': 100, 'colsample_bytree': 0.75, 'learning_rate': 0.03},\n",
    "    'X_num': df_imp.iloc[6:].index.tolist(),\n",
    "    'train_data_proc_param': {'include_org': True}\n",
    "}\n",
    "result = sgml.cv(df_train, skf, hparams, config, lgb_adapter)\n",
    "sc.cv_result('lgb_sfs_a2', hparams, lgb_adapter, result['valid_prd'])\n",
    "np.mean(result['valid_scores']), np.mean(result['train_scores'])"
   ]
  },
  {
   "cell_type": "markdown",
   "id": "e35c57b8-33a7-4489-ba03-8ad4dfdb125f",
   "metadata": {},
   "source": [
    "# Backward Feature Selection wrapping LGBM"
   ]
  },
  {
   "cell_type": "code",
   "execution_count": 69,
   "id": "4a7eedde-c58b-48bd-a1aa-15698093334e",
   "metadata": {},
   "outputs": [
    {
     "data": {
      "text/plain": [
       "array(['temparature', 'mintemp', 'sunshine', 'windspeed', 'cos_wd', 'chp',\n",
       "       'sunshine_1', 'sunshine_6', 'cloud_1', 'cloud_5', 'cloud_6',\n",
       "       'dewpoint_3', 'chp_1', 'chp_2', 'chp_3', 'chp_5', 'cos_wd_3',\n",
       "       'cos_wd_4', 'sin_wd_3', 'sin_wd_4', 'sin_wd_6', 'pressure_ma24',\n",
       "       'maxtemp_ma24', 'temparature_ma24', 'dewpoint_ma24',\n",
       "       'humidity_ma24', 'cloud_ma24', 'sunshine_ma24', 'sin_wd_ma24',\n",
       "       'chp_ma24', 'year', 'winddirection'], dtype='<U16')"
      ]
     },
     "execution_count": 69,
     "metadata": {},
     "output_type": "execute_result"
    }
   ],
   "source": [
    "hparams = {\n",
    "    'model_params': {'num_leaves': 7, 'n_estimators': 100, 'colsample_bytree': 0.75, 'learning_rate': 0.03},\n",
    "    'X_num': X_all\n",
    "}\n",
    "sfs = sc.cache_result(\n",
    "    'bf_sfs_lgb',\n",
    "    lambda : SequentialFeatureSelector(\n",
    "        estimator = lgb.LGBMClassifier(verbose = 0, **hparams['model_params']), direction = 'backward', scoring = 'roc_auc', cv = skf\n",
    "    ).fit(df_train[X_all], df_train[target])\n",
    ")\n",
    "np.array(X_all)[sfs.get_support()]"
   ]
  },
  {
   "cell_type": "code",
   "execution_count": 70,
   "id": "1da076e4-3bfb-4b5f-b4ad-815c040af086",
   "metadata": {},
   "outputs": [
    {
     "data": {
      "application/vnd.jupyter.widget-view+json": {
       "model_id": "0beb7495fbec4ce18d872f7d73d8f92f",
       "version_major": 2,
       "version_minor": 0
      },
      "text/plain": [
       "Fold:   0%|          | 0/5 [00:00<?, ?it/s]"
      ]
     },
     "metadata": {},
     "output_type": "display_data"
    },
    {
     "data": {
      "text/plain": [
       "(0.894851290684624, 0.9360164141414142)"
      ]
     },
     "execution_count": 70,
     "metadata": {},
     "output_type": "execute_result"
    }
   ],
   "source": [
    "hparams = {\n",
    "    'model_params': {'num_leaves': 7, 'n_estimators': 100, 'colsample_bytree': 0.75, 'learning_rate': 0.03},\n",
    "    'X_num': np.array(X_all)[sfs.get_support()].tolist()\n",
    "}\n",
    "result = sgml.cv(df_train, skf, hparams, config, lgb_adapter)\n",
    "sc.cv_result('lgb_bfs', hparams, lgb_adapter, result['valid_prd'])\n",
    "np.mean(result['valid_scores']), np.mean(result['train_scores'])"
   ]
  },
  {
   "cell_type": "markdown",
   "id": "eab44250-462b-46f6-9016-ac1238c64b49",
   "metadata": {},
   "source": [
    "# Forward Feature Selection wrapping XGB"
   ]
  },
  {
   "cell_type": "code",
   "execution_count": 71,
   "id": "3b529fe2-2af6-4a46-ad2f-4dd37457ce99",
   "metadata": {},
   "outputs": [
    {
     "data": {
      "application/vnd.jupyter.widget-view+json": {
       "model_id": "40e07cf2ac7b418f964b812dfabe8e84",
       "version_major": 2,
       "version_minor": 0
      },
      "text/plain": [
       "Fold:   0%|          | 0/5 [00:00<?, ?it/s]"
      ]
     },
     "metadata": {},
     "output_type": "display_data"
    },
    {
     "data": {
      "text/plain": [
       "(0.890830527497194, 0.9449452861952862)"
      ]
     },
     "execution_count": 71,
     "metadata": {},
     "output_type": "execute_result"
    }
   ],
   "source": [
    "hparams = {\n",
    "    'model_params': {'max_depth': 3, 'n_estimators': 100, 'colsample_bytree': 0.75, 'learning_rate': 0.04},\n",
    "    'X_num': X_all\n",
    "}\n",
    "result = sgml.cv(df_train, skf, hparams, config, xgb_adapter)\n",
    "np.mean(result['valid_scores']), np.mean(result['train_scores'])"
   ]
  },
  {
   "cell_type": "code",
   "execution_count": 72,
   "id": "4c429933-938f-4570-9d67-214a0c6d0c88",
   "metadata": {},
   "outputs": [
    {
     "data": {
      "text/plain": [
       "array(['sin_ed', 'maxtemp', 'temparature', 'mintemp', 'dewpoint',\n",
       "       'sunshine', 'windspeed', 'chp', 'sunshine_3', 'sunshine_6',\n",
       "       'cloud_1', 'cloud_6', 'dewpoint_2', 'dewpoint_5', 'chp_1', 'chp_3',\n",
       "       'chp_4', 'chp_6', 'cos_wd_1', 'cos_wd_4', 'cos_wd_5', 'sin_wd_2',\n",
       "       'sin_wd_5', 'sin_wd_6', 'maxtemp_ma24', 'temparature_ma24',\n",
       "       'dewpoint_ma24', 'humidity_ma24', 'sunshine_ma24',\n",
       "       'windspeed_ma24', 'sin_wd_ma24', 'year'], dtype='<U16')"
      ]
     },
     "execution_count": 72,
     "metadata": {},
     "output_type": "execute_result"
    }
   ],
   "source": [
    "sfs = sc.cache_result(\n",
    "    'ff_sfs_xgb',\n",
    "    lambda : SequentialFeatureSelector(\n",
    "        estimator = xgb.XGBClassifier(**hparams['model_params']), direction = 'forward', scoring = 'roc_auc', cv = skf\n",
    "    ).fit(df_train[X_all], df_train[target])\n",
    ")\n",
    "np.array(X_all)[sfs.get_support()]"
   ]
  },
  {
   "cell_type": "code",
   "execution_count": 73,
   "id": "46a324ab-e0f7-4658-bd2a-497ecd068386",
   "metadata": {},
   "outputs": [
    {
     "data": {
      "application/vnd.jupyter.widget-view+json": {
       "model_id": "1897241e15ce4f8d8818819e024ec33b",
       "version_major": 2,
       "version_minor": 0
      },
      "text/plain": [
       "Fold:   0%|          | 0/5 [00:00<?, ?it/s]"
      ]
     },
     "metadata": {},
     "output_type": "display_data"
    },
    {
     "data": {
      "text/plain": [
       "(0.8974074074074074, 0.939300119248036)"
      ]
     },
     "execution_count": 73,
     "metadata": {},
     "output_type": "execute_result"
    }
   ],
   "source": [
    "hparams = {\n",
    "    'model_params': {'max_depth': 3, 'n_estimators': 100, 'colsample_bytree': 0.75, 'learning_rate': 0.04},\n",
    "    'X_num': np.array(X_all)[sfs.get_support()].tolist()\n",
    "}\n",
    "result = sgml.cv(df_train, skf, hparams, config, xgb_adapter)\n",
    "sc.cv_result('xgb_sfs', hparams, xgb_adapter, result['valid_prd'])\n",
    "np.mean(result['valid_scores']), np.mean(result['train_scores'])"
   ]
  },
  {
   "cell_type": "code",
   "execution_count": 74,
   "id": "d9a76e82-49e1-48ea-a39b-c8f47b30ab9e",
   "metadata": {},
   "outputs": [
    {
     "data": {
      "text/html": [
       "<div>\n",
       "<style scoped>\n",
       "    .dataframe tbody tr th:only-of-type {\n",
       "        vertical-align: middle;\n",
       "    }\n",
       "\n",
       "    .dataframe tbody tr th {\n",
       "        vertical-align: top;\n",
       "    }\n",
       "\n",
       "    .dataframe thead th {\n",
       "        text-align: right;\n",
       "    }\n",
       "</style>\n",
       "<table border=\"1\" class=\"dataframe\">\n",
       "  <thead>\n",
       "    <tr style=\"text-align: right;\">\n",
       "      <th></th>\n",
       "      <th>mean</th>\n",
       "      <th>std</th>\n",
       "      <th>CV</th>\n",
       "    </tr>\n",
       "  </thead>\n",
       "  <tbody>\n",
       "    <tr>\n",
       "      <th>sin_wd_2</th>\n",
       "      <td>0.015824</td>\n",
       "      <td>0.010957</td>\n",
       "      <td>0.692473</td>\n",
       "    </tr>\n",
       "    <tr>\n",
       "      <th>temparature</th>\n",
       "      <td>0.045126</td>\n",
       "      <td>0.029284</td>\n",
       "      <td>0.648934</td>\n",
       "    </tr>\n",
       "    <tr>\n",
       "      <th>mintemp</th>\n",
       "      <td>0.026033</td>\n",
       "      <td>0.013939</td>\n",
       "      <td>0.535451</td>\n",
       "    </tr>\n",
       "    <tr>\n",
       "      <th>sin_wd_ma24</th>\n",
       "      <td>0.028133</td>\n",
       "      <td>0.014940</td>\n",
       "      <td>0.531041</td>\n",
       "    </tr>\n",
       "    <tr>\n",
       "      <th>chp_4</th>\n",
       "      <td>0.019704</td>\n",
       "      <td>0.010135</td>\n",
       "      <td>0.514338</td>\n",
       "    </tr>\n",
       "    <tr>\n",
       "      <th>dewpoint_2</th>\n",
       "      <td>0.029755</td>\n",
       "      <td>0.010634</td>\n",
       "      <td>0.357371</td>\n",
       "    </tr>\n",
       "    <tr>\n",
       "      <th>cloud_6</th>\n",
       "      <td>0.012646</td>\n",
       "      <td>0.004439</td>\n",
       "      <td>0.351047</td>\n",
       "    </tr>\n",
       "    <tr>\n",
       "      <th>maxtemp</th>\n",
       "      <td>0.044567</td>\n",
       "      <td>0.014776</td>\n",
       "      <td>0.331533</td>\n",
       "    </tr>\n",
       "    <tr>\n",
       "      <th>temparature_ma24</th>\n",
       "      <td>0.021675</td>\n",
       "      <td>0.007158</td>\n",
       "      <td>0.330252</td>\n",
       "    </tr>\n",
       "    <tr>\n",
       "      <th>cos_wd_5</th>\n",
       "      <td>0.019397</td>\n",
       "      <td>0.005940</td>\n",
       "      <td>0.306239</td>\n",
       "    </tr>\n",
       "  </tbody>\n",
       "</table>\n",
       "</div>"
      ],
      "text/plain": [
       "                      mean       std        CV\n",
       "sin_wd_2          0.015824  0.010957  0.692473\n",
       "temparature       0.045126  0.029284  0.648934\n",
       "mintemp           0.026033  0.013939  0.535451\n",
       "sin_wd_ma24       0.028133  0.014940  0.531041\n",
       "chp_4             0.019704  0.010135  0.514338\n",
       "dewpoint_2        0.029755  0.010634  0.357371\n",
       "cloud_6           0.012646  0.004439  0.351047\n",
       "maxtemp           0.044567  0.014776  0.331533\n",
       "temparature_ma24  0.021675  0.007158  0.330252\n",
       "cos_wd_5          0.019397  0.005940  0.306239"
      ]
     },
     "execution_count": 74,
     "metadata": {},
     "output_type": "execute_result"
    }
   ],
   "source": [
    "df_imp = pd.concat(\n",
    "    [i['feature_importance'] for i in result['model_result']], axis=1\n",
    ").agg(['mean', 'std'], axis=1).assign(\n",
    "    CV = lambda x: x['std'] / x['mean'].abs()\n",
    ").sort_values('CV', ascending = False)\n",
    "df_imp.iloc[:10]"
   ]
  },
  {
   "cell_type": "code",
   "execution_count": 75,
   "id": "bb1b196a-cf45-419e-aee2-fa7925b49f57",
   "metadata": {},
   "outputs": [
    {
     "data": {
      "application/vnd.jupyter.widget-view+json": {
       "model_id": "f8de57383c5c4f3ebc4f53e4b1aee22f",
       "version_major": 2,
       "version_minor": 0
      },
      "text/plain": [
       "Fold:   0%|          | 0/5 [00:00<?, ?it/s]"
      ]
     },
     "metadata": {},
     "output_type": "display_data"
    },
    {
     "data": {
      "text/plain": [
       "(0.8980808080808081, 0.9389749929854097)"
      ]
     },
     "execution_count": 75,
     "metadata": {},
     "output_type": "execute_result"
    }
   ],
   "source": [
    "hparams = {\n",
    "    'model_params': {'max_depth': 3, 'n_estimators': 100, 'colsample_bytree': 0.75, 'learning_rate': 0.04},\n",
    "    'X_num': df_imp.iloc[2:].index.tolist()\n",
    "}\n",
    "result = sgml.cv(df_train, skf, hparams, config, xgb_adapter)\n",
    "sc.cv_result('xgb_sfs2', hparams, xgb_adapter, result['valid_prd'])\n",
    "np.mean(result['valid_scores']), np.mean(result['train_scores'])"
   ]
  },
  {
   "cell_type": "markdown",
   "id": "b2aa3623-6a54-4743-81fc-63561980111b",
   "metadata": {},
   "source": [
    "# Forward Feature Selection wrapping LGBM Augumenting Org"
   ]
  },
  {
   "cell_type": "code",
   "execution_count": 76,
   "id": "0dc5a87a-86de-4799-a800-7251094b40ed",
   "metadata": {},
   "outputs": [
    {
     "data": {
      "text/plain": [
       "array(['sin_ed', 'pressure', 'maxtemp', 'temparature', 'mintemp',\n",
       "       'dewpoint', 'humidity', 'cloud', 'sunshine', 'windspeed', 'cos_wd',\n",
       "       'sin_wd', 'chp', 'sunshine_1', 'sunshine_3', 'sunshine_6',\n",
       "       'cloud_3', 'cloud_4', 'cloud_5', 'dewpoint_3', 'chp_2', 'chp_3',\n",
       "       'cos_wd_1', 'cos_wd_2', 'cos_wd_6', 'sin_wd_2', 'temparature_ma24',\n",
       "       'mintemp_ma24', 'cloud_ma24', 'sunshine_ma24', 'windspeed_ma24',\n",
       "       'year'], dtype='<U16')"
      ]
     },
     "execution_count": 76,
     "metadata": {},
     "output_type": "execute_result"
    }
   ],
   "source": [
    "hparams = {\n",
    "    'model_params': {'max_depth': 3, 'n_estimators': 100, 'colsample_bytree': 0.75, 'learning_rate': 0.04},\n",
    "    'X_num': X_all\n",
    "}\n",
    "sfs = sc.cache_result(\n",
    "    'ff_sfs_xgb2',\n",
    "    lambda : pd.concat([df_train, df_org]).pipe(\n",
    "        lambda x: SequentialFeatureSelector(\n",
    "            estimator = xgb.XGBClassifier(**hparams['model_params']), direction = 'forward', scoring = 'roc_auc', cv = skf\n",
    "        ).fit(x[X_all], x[target])\n",
    "    )\n",
    ")\n",
    "np.array(X_all)[sfs.get_support()]"
   ]
  },
  {
   "cell_type": "code",
   "execution_count": 77,
   "id": "931c01f4-209c-4758-bb1c-8b2d7cea6ecd",
   "metadata": {},
   "outputs": [
    {
     "data": {
      "application/vnd.jupyter.widget-view+json": {
       "model_id": "f3f53b31e54143f7a6f7023f36598ba7",
       "version_major": 2,
       "version_minor": 0
      },
      "text/plain": [
       "Fold:   0%|          | 0/5 [00:00<?, ?it/s]"
      ]
     },
     "metadata": {},
     "output_type": "display_data"
    },
    {
     "data": {
      "text/plain": [
       "(0.892730078563412, 0.9328386625662745)"
      ]
     },
     "execution_count": 77,
     "metadata": {},
     "output_type": "execute_result"
    }
   ],
   "source": [
    "hparams = {\n",
    "    'model_params': {'max_depth': 3, 'n_estimators': 100, 'colsample_bytree': 0.75, 'learning_rate': 0.04},\n",
    "    'X_num': np.array(X_all)[sfs.get_support()].tolist(),\n",
    "    'train_data_proc_param': {'include_org': True}\n",
    "}\n",
    "result = sgml.cv(df_train, skf, hparams, config, xgb_adapter)\n",
    "sc.cv_result('xgb_sfs_a', hparams, xgb_adapter, result['valid_prd'])\n",
    "np.mean(result['valid_scores']), np.mean(result['train_scores'])"
   ]
  },
  {
   "cell_type": "code",
   "execution_count": 78,
   "id": "614fbddd-ffdd-4ce3-9cb5-ea5389ee8376",
   "metadata": {},
   "outputs": [
    {
     "data": {
      "text/html": [
       "<div>\n",
       "<style scoped>\n",
       "    .dataframe tbody tr th:only-of-type {\n",
       "        vertical-align: middle;\n",
       "    }\n",
       "\n",
       "    .dataframe tbody tr th {\n",
       "        vertical-align: top;\n",
       "    }\n",
       "\n",
       "    .dataframe thead th {\n",
       "        text-align: right;\n",
       "    }\n",
       "</style>\n",
       "<table border=\"1\" class=\"dataframe\">\n",
       "  <thead>\n",
       "    <tr style=\"text-align: right;\">\n",
       "      <th></th>\n",
       "      <th>mean</th>\n",
       "      <th>std</th>\n",
       "      <th>CV</th>\n",
       "    </tr>\n",
       "  </thead>\n",
       "  <tbody>\n",
       "    <tr>\n",
       "      <th>year</th>\n",
       "      <td>0.004691</td>\n",
       "      <td>0.004510</td>\n",
       "      <td>0.961465</td>\n",
       "    </tr>\n",
       "    <tr>\n",
       "      <th>temparature</th>\n",
       "      <td>0.044348</td>\n",
       "      <td>0.022436</td>\n",
       "      <td>0.505911</td>\n",
       "    </tr>\n",
       "    <tr>\n",
       "      <th>dewpoint_3</th>\n",
       "      <td>0.021473</td>\n",
       "      <td>0.010637</td>\n",
       "      <td>0.495364</td>\n",
       "    </tr>\n",
       "    <tr>\n",
       "      <th>cloud_4</th>\n",
       "      <td>0.018860</td>\n",
       "      <td>0.008840</td>\n",
       "      <td>0.468726</td>\n",
       "    </tr>\n",
       "    <tr>\n",
       "      <th>maxtemp</th>\n",
       "      <td>0.034693</td>\n",
       "      <td>0.011210</td>\n",
       "      <td>0.323127</td>\n",
       "    </tr>\n",
       "    <tr>\n",
       "      <th>cos_wd_1</th>\n",
       "      <td>0.015215</td>\n",
       "      <td>0.004814</td>\n",
       "      <td>0.316370</td>\n",
       "    </tr>\n",
       "    <tr>\n",
       "      <th>mintemp</th>\n",
       "      <td>0.046001</td>\n",
       "      <td>0.013188</td>\n",
       "      <td>0.286681</td>\n",
       "    </tr>\n",
       "    <tr>\n",
       "      <th>cos_wd_6</th>\n",
       "      <td>0.018253</td>\n",
       "      <td>0.004961</td>\n",
       "      <td>0.271796</td>\n",
       "    </tr>\n",
       "    <tr>\n",
       "      <th>windspeed_ma24</th>\n",
       "      <td>0.019010</td>\n",
       "      <td>0.005144</td>\n",
       "      <td>0.270591</td>\n",
       "    </tr>\n",
       "    <tr>\n",
       "      <th>cloud_5</th>\n",
       "      <td>0.011589</td>\n",
       "      <td>0.003097</td>\n",
       "      <td>0.267268</td>\n",
       "    </tr>\n",
       "  </tbody>\n",
       "</table>\n",
       "</div>"
      ],
      "text/plain": [
       "                    mean       std        CV\n",
       "year            0.004691  0.004510  0.961465\n",
       "temparature     0.044348  0.022436  0.505911\n",
       "dewpoint_3      0.021473  0.010637  0.495364\n",
       "cloud_4         0.018860  0.008840  0.468726\n",
       "maxtemp         0.034693  0.011210  0.323127\n",
       "cos_wd_1        0.015215  0.004814  0.316370\n",
       "mintemp         0.046001  0.013188  0.286681\n",
       "cos_wd_6        0.018253  0.004961  0.271796\n",
       "windspeed_ma24  0.019010  0.005144  0.270591\n",
       "cloud_5         0.011589  0.003097  0.267268"
      ]
     },
     "execution_count": 78,
     "metadata": {},
     "output_type": "execute_result"
    }
   ],
   "source": [
    "df_imp = pd.concat(\n",
    "    [i['feature_importance'] for i in result['model_result']], axis=1\n",
    ").agg(['mean', 'std'], axis=1).assign(\n",
    "    CV = lambda x: x['std'] / x['mean'].abs()\n",
    ").sort_values('CV', ascending = False)\n",
    "df_imp.iloc[:10]"
   ]
  },
  {
   "cell_type": "code",
   "execution_count": 79,
   "id": "47408ade-afa4-49d7-8532-a8cd69e1e712",
   "metadata": {},
   "outputs": [
    {
     "data": {
      "application/vnd.jupyter.widget-view+json": {
       "model_id": "b63ef28899524629b35851e9a9ba93f4",
       "version_major": 2,
       "version_minor": 0
      },
      "text/plain": [
       "Fold:   0%|          | 0/5 [00:00<?, ?it/s]"
      ]
     },
     "metadata": {},
     "output_type": "display_data"
    },
    {
     "data": {
      "text/plain": [
       "(0.892564534231201, 0.9311259477513435)"
      ]
     },
     "execution_count": 79,
     "metadata": {},
     "output_type": "execute_result"
    }
   ],
   "source": [
    "hparams = {\n",
    "    'model_params': {'max_depth': 3, 'n_estimators': 100, 'colsample_bytree': 0.75, 'learning_rate': 0.04},\n",
    "    'X_num': df_imp.iloc[6:].index.tolist(),\n",
    "    'train_data_proc_param': {'include_org': True}\n",
    "}\n",
    "result = sgml.cv(df_train, skf, hparams, config, xgb_adapter)\n",
    "np.mean(result['valid_scores']), np.mean(result['train_scores'])"
   ]
  },
  {
   "cell_type": "markdown",
   "id": "4a5f0412-1a12-42a1-836e-477535dc51e0",
   "metadata": {},
   "source": [
    "# Backward Feature Selection wrapping XGB"
   ]
  },
  {
   "cell_type": "code",
   "execution_count": 80,
   "id": "02fa13bf-3652-4ff8-8ccd-d3b28becba88",
   "metadata": {},
   "outputs": [
    {
     "data": {
      "text/plain": [
       "array(['pressure', 'dewpoint', 'sunshine', 'windspeed', 'cos_wd', 'chp',\n",
       "       'sunshine_1', 'sunshine_2', 'sunshine_3', 'cloud_1', 'cloud_3',\n",
       "       'cloud_4', 'cloud_5', 'cloud_6', 'dewpoint_2', 'dewpoint_3',\n",
       "       'chp_3', 'chp_4', 'chp_6', 'cos_wd_1', 'cos_wd_2', 'cos_wd_4',\n",
       "       'sin_wd_2', 'sin_wd_6', 'pressure_ma24', 'maxtemp_ma24',\n",
       "       'temparature_ma24', 'mintemp_ma24', 'humidity_ma24',\n",
       "       'sunshine_ma24', 'windspeed_ma24', 'chp_ma24'], dtype='<U16')"
      ]
     },
     "execution_count": 80,
     "metadata": {},
     "output_type": "execute_result"
    }
   ],
   "source": [
    "sfs = sc.cache_result(\n",
    "    'bf_sfs_xgb',\n",
    "    lambda : SequentialFeatureSelector(\n",
    "        estimator = xgb.XGBClassifier(**hparams['model_params']), direction = 'backward', scoring = 'roc_auc', cv = skf\n",
    "    ).fit(df_train[X_all], df_train[target])\n",
    ")\n",
    "np.array(X_all)[sfs.get_support()]"
   ]
  },
  {
   "cell_type": "code",
   "execution_count": 81,
   "id": "158589e7-a6bb-42ef-b9d7-bb9de6f625a6",
   "metadata": {},
   "outputs": [
    {
     "data": {
      "application/vnd.jupyter.widget-view+json": {
       "model_id": "1cacb4dec47c4a52a36def4dc98b1c6b",
       "version_major": 2,
       "version_minor": 0
      },
      "text/plain": [
       "Fold:   0%|          | 0/5 [00:00<?, ?it/s]"
      ]
     },
     "metadata": {},
     "output_type": "display_data"
    },
    {
     "data": {
      "text/plain": [
       "(0.8956060606060607, 0.9394081439393938)"
      ]
     },
     "execution_count": 81,
     "metadata": {},
     "output_type": "execute_result"
    }
   ],
   "source": [
    "hparams = {\n",
    "    'model_params': {'max_depth': 3, 'n_estimators': 100, 'colsample_bytree': 0.75, 'learning_rate': 0.04},\n",
    "    'X_num': np.array(X_all)[sfs.get_support()].tolist()\n",
    "}\n",
    "result = sgml.cv(df_train, skf, hparams, config, xgb_adapter)\n",
    "sc.cv_result('xgb_bfs', hparams, xgb_adapter, result['valid_prd'])\n",
    "np.mean(result['valid_scores']), np.mean(result['train_scores'])"
   ]
  },
  {
   "cell_type": "markdown",
   "id": "d13e7fad-55f7-498d-8b5e-d1858b4e8f9f",
   "metadata": {},
   "source": [
    "# Stepwise Feature Selections wrapping Logistic Regression"
   ]
  },
  {
   "cell_type": "code",
   "execution_count": 82,
   "id": "31101507-5d62-474e-bf80-b150154b06a3",
   "metadata": {},
   "outputs": [],
   "source": [
    "from mlxtend import feature_selection as mfs"
   ]
  },
  {
   "cell_type": "code",
   "execution_count": 83,
   "id": "9d50aaec-90f0-4f64-b82e-9deb4b48fffa",
   "metadata": {},
   "outputs": [
    {
     "data": {
      "text/plain": [
       "array(['sin_ed', 'pressure', 'mintemp', 'dewpoint', 'sunshine',\n",
       "       'windspeed', 'chp', 'sunshine_1', 'sunshine_2', 'sunshine_4',\n",
       "       'cloud_3', 'cloud_4', 'cloud_5', 'dewpoint_5', 'chp_5', 'cos_wd_4',\n",
       "       'maxtemp_ma24', 'temparature_ma24', 'humidity_ma24', 'cos_wd_ma24',\n",
       "       'sin_wd_ma24', 'year'], dtype='<U16')"
      ]
     },
     "execution_count": 83,
     "metadata": {},
     "output_type": "execute_result"
    }
   ],
   "source": [
    "sfs = sc.cache_result(\n",
    "    'ff_sfsf_lr',\n",
    "    lambda : mfs.SequentialFeatureSelector(\n",
    "        estimator = LogisticRegression(), k_features = 'best', forward = True, floating = True, scoring = 'roc_auc', cv = skf, n_jobs = -1\n",
    "    ).fit(df_train[X_all], df_train[target])\n",
    ")\n",
    "np.array(sfs.k_feature_names_)"
   ]
  },
  {
   "cell_type": "code",
   "execution_count": 84,
   "id": "153615a5-9407-4f40-8dfa-a1ec74192286",
   "metadata": {},
   "outputs": [
    {
     "data": {
      "application/vnd.jupyter.widget-view+json": {
       "model_id": "d26ccc096199413e8d84012e8c8bf6d6",
       "version_major": 2,
       "version_minor": 0
      },
      "text/plain": [
       "Fold:   0%|          | 0/5 [00:00<?, ?it/s]"
      ]
     },
     "metadata": {},
     "output_type": "display_data"
    },
    {
     "data": {
      "text/plain": [
       "(0.8990460157126824, 0.01061797500616197)"
      ]
     },
     "execution_count": 84,
     "metadata": {},
     "output_type": "execute_result"
    }
   ],
   "source": [
    "hparams = {\n",
    "    'model_params': {},\n",
    "    'X_num': list(sfs.k_feature_names_)\n",
    "}\n",
    "result = sgml.cv(df_train, skf, hparams, config, lr_adapter, result_proc = [sgml.lr_learning_result])\n",
    "sc.cv_result('lr_sfs_f', hparams, lr_adapter, result['valid_prd'])\n",
    "np.mean(result['valid_scores']), np.std(result['valid_scores'])"
   ]
  },
  {
   "cell_type": "code",
   "execution_count": 85,
   "id": "b22518a4-7b54-408a-9eb1-f1e534176d9a",
   "metadata": {},
   "outputs": [
    {
     "data": {
      "text/plain": [
       "array(['sin_ed', 'pressure', 'mintemp', 'dewpoint', 'humidity', 'cloud',\n",
       "       'sunshine', 'windspeed', 'cos_wd', 'sunshine_1', 'cloud_3',\n",
       "       'dewpoint_2', 'dewpoint_6', 'maxtemp_ma24', 'temparature_ma24',\n",
       "       'mintemp_ma24', 'winddirection'], dtype='<U16')"
      ]
     },
     "execution_count": 85,
     "metadata": {},
     "output_type": "execute_result"
    }
   ],
   "source": [
    "sfs = sc.cache_result(\n",
    "    'ff_sfsf_lr2',\n",
    "    lambda : pd.concat([df_train, df_org]).pipe(\n",
    "        lambda x: mfs.SequentialFeatureSelector(\n",
    "            estimator = LogisticRegression(), k_features = 'best', forward = True, floating = True, scoring = 'roc_auc', cv = skf, n_jobs = -1\n",
    "        ).fit(x[X_all], x[target])\n",
    "    )\n",
    ")\n",
    "np.array(sfs.k_feature_names_)"
   ]
  },
  {
   "cell_type": "code",
   "execution_count": 86,
   "id": "b0e8d842-89b8-4153-9bce-9b70e0f1d272",
   "metadata": {},
   "outputs": [
    {
     "data": {
      "application/vnd.jupyter.widget-view+json": {
       "model_id": "97d492d0b5f4415dbdcf6cfaf4c8c9cd",
       "version_major": 2,
       "version_minor": 0
      },
      "text/plain": [
       "Fold:   0%|          | 0/5 [00:00<?, ?it/s]"
      ]
     },
     "metadata": {},
     "output_type": "display_data"
    },
    {
     "data": {
      "text/plain": [
       "(0.8960437710437711, 0.011426817196481703)"
      ]
     },
     "execution_count": 86,
     "metadata": {},
     "output_type": "execute_result"
    }
   ],
   "source": [
    "hparams = {\n",
    "    'model_params': {},\n",
    "    'X_num': list(sfs.k_feature_names_)\n",
    "}\n",
    "result = sgml.cv(df_train, skf, hparams, config, lr_adapter, result_proc = [sgml.lr_learning_result])\n",
    "sc.cv_result('lr_sfs_f2', hparams, lr_adapter, result['valid_prd'])\n",
    "np.mean(result['valid_scores']), np.std(result['valid_scores'])"
   ]
  },
  {
   "cell_type": "code",
   "execution_count": 87,
   "id": "81c04d9b-a64b-4a94-9f33-257cd88e2b4d",
   "metadata": {},
   "outputs": [
    {
     "data": {
      "text/plain": [
       "array(['sin_ed', 'mintemp', 'dewpoint', 'cloud', 'sunshine', 'windspeed',\n",
       "       'chp', 'sunshine_1', 'sunshine_4', 'cloud_3', 'cloud_4',\n",
       "       'cos_wd_4', 'temparature_ma24', 'humidity_ma24', 'cos_wd_ma24',\n",
       "       'sin_wd_ma24', 'year'], dtype='<U16')"
      ]
     },
     "execution_count": 87,
     "metadata": {},
     "output_type": "execute_result"
    }
   ],
   "source": [
    "sfs = sc.cache_result(\n",
    "    'bf_sfsf_lr',\n",
    "    lambda : mfs.SequentialFeatureSelector(\n",
    "        estimator = LogisticRegression(), k_features = 'best', forward = False, floating = True, scoring = 'roc_auc', cv = skf, n_jobs = -1\n",
    "    ).fit(df_train[X_all], df_train[target])\n",
    ")\n",
    "np.array(sfs.k_feature_names_)"
   ]
  },
  {
   "cell_type": "code",
   "execution_count": 88,
   "id": "54006bac-04a3-49dd-a7b4-bf27050489a7",
   "metadata": {},
   "outputs": [
    {
     "data": {
      "application/vnd.jupyter.widget-view+json": {
       "model_id": "7b3435fe1b4b46708b861913649518fc",
       "version_major": 2,
       "version_minor": 0
      },
      "text/plain": [
       "Fold:   0%|          | 0/5 [00:00<?, ?it/s]"
      ]
     },
     "metadata": {},
     "output_type": "display_data"
    },
    {
     "data": {
      "text/plain": [
       "(0.8954320987654322, 0.012407271619931246)"
      ]
     },
     "execution_count": 88,
     "metadata": {},
     "output_type": "execute_result"
    }
   ],
   "source": [
    "hparams = {\n",
    "    'model_params': {},\n",
    "    'X_num': list(sfs.k_feature_names_),\n",
    "    'train_data_proc_param': {'include_org': True}\n",
    "}\n",
    "result = sgml.cv(df_train, skf, hparams, config, lr_adapter, result_proc = [sgml.lr_learning_result])\n",
    "sc.cv_result('lr_bfs_f', hparams, lr_adapter, result['valid_prd'])\n",
    "np.mean(result['valid_scores']), np.std(result['valid_scores'])"
   ]
  },
  {
   "cell_type": "code",
   "execution_count": 89,
   "id": "06dae351-c8ad-4a29-a288-a07cfbac3a0d",
   "metadata": {},
   "outputs": [
    {
     "data": {
      "text/plain": [
       "array(['sin_ed', 'mintemp', 'sunshine', 'sin_wd', 'chp', 'cloud_1',\n",
       "       'cloud_5', 'cloud_6', 'chp_3', 'sin_wd_6', 'maxtemp_ma24',\n",
       "       'temparature_ma24', 'sunshine_ma24', 'chp_ma24'], dtype='<U16')"
      ]
     },
     "execution_count": 89,
     "metadata": {},
     "output_type": "execute_result"
    }
   ],
   "source": [
    "hparams = {\n",
    "    'model_params': {'num_leaves': 7, 'n_estimators': 100, 'colsample_bytree': 0.75, 'learning_rate': 0.03},\n",
    "    'X_num': X_all\n",
    "}\n",
    "sfs = sc.cache_result(\n",
    "    'ff_sfs_lgb_f',\n",
    "    lambda : mfs.SequentialFeatureSelector(\n",
    "        estimator = lgb.LGBMClassifier(verbose = 0, **hparams['model_params']), k_features = 'best', forward = True, floating = True, scoring = 'roc_auc', cv = skf\n",
    "    ).fit(df_train[X_all], df_train[target])\n",
    "\n",
    ")\n",
    "np.array(sfs.k_feature_names_)"
   ]
  },
  {
   "cell_type": "code",
   "execution_count": 90,
   "id": "648f782f-a5f0-4f19-b98b-a71993eda4ae",
   "metadata": {},
   "outputs": [
    {
     "data": {
      "application/vnd.jupyter.widget-view+json": {
       "model_id": "659d19b21d1d42758687089094432de8",
       "version_major": 2,
       "version_minor": 0
      },
      "text/plain": [
       "Fold:   0%|          | 0/5 [00:00<?, ?it/s]"
      ]
     },
     "metadata": {},
     "output_type": "display_data"
    },
    {
     "data": {
      "text/plain": [
       "(0.897732884399551, 0.9294440937149272)"
      ]
     },
     "execution_count": 90,
     "metadata": {},
     "output_type": "execute_result"
    }
   ],
   "source": [
    "hparams = {\n",
    "    'model_params': {'num_leaves': 7, 'n_estimators': 100, 'colsample_bytree': 0.75, 'learning_rate': 0.03},\n",
    "    'X_num': list(sfs.k_feature_names_)\n",
    "}\n",
    "result = sgml.cv(df_train, skf, hparams, config, lgb_adapter)\n",
    "sc.cv_result('lgb_sfs_f', hparams, lgb_adapter, result['valid_prd'])\n",
    "np.mean(result['valid_scores']), np.mean(result['train_scores'])"
   ]
  },
  {
   "cell_type": "code",
   "execution_count": 91,
   "id": "f8f65ab2-a680-41ed-bd2a-49713bf04018",
   "metadata": {},
   "outputs": [
    {
     "data": {
      "text/plain": [
       "array(['sin_ed', 'temparature', 'mintemp', 'dewpoint', 'sunshine',\n",
       "       'windspeed', 'chp', 'cloud_3', 'chp_3', 'chp_4', 'cos_wd_4',\n",
       "       'maxtemp_ma24', 'temparature_ma24', 'humidity_ma24', 'cos_wd_ma24'],\n",
       "      dtype='<U16')"
      ]
     },
     "execution_count": 91,
     "metadata": {},
     "output_type": "execute_result"
    }
   ],
   "source": [
    "hparams = {\n",
    "    'model_params': {'num_leaves': 7, 'n_estimators': 100, 'colsample_bytree': 0.75, 'learning_rate': 0.03},\n",
    "    'X_num': X_all\n",
    "}\n",
    "sfs = sc.cache_result(\n",
    "    'bf_sfs_lgb_f',\n",
    "    lambda : mfs.SequentialFeatureSelector(\n",
    "        estimator = lgb.LGBMClassifier(verbose = 0, **hparams['model_params']), k_features = 'best', forward = False, floating = True, scoring = 'roc_auc', cv = skf\n",
    "    ).fit(df_train[X_all], df_train[target])\n",
    "\n",
    ")\n",
    "np.array(sfs.k_feature_names_)"
   ]
  },
  {
   "cell_type": "code",
   "execution_count": 92,
   "id": "5c9fc5c2-d598-4498-8f44-dbf1963dbea8",
   "metadata": {},
   "outputs": [
    {
     "data": {
      "application/vnd.jupyter.widget-view+json": {
       "model_id": "ae881eaa4d5e43f49996abc5df9147c3",
       "version_major": 2,
       "version_minor": 0
      },
      "text/plain": [
       "Fold:   0%|          | 0/5 [00:00<?, ?it/s]"
      ]
     },
     "metadata": {},
     "output_type": "display_data"
    },
    {
     "data": {
      "text/plain": [
       "(0.8989450056116723, 0.9331223695286195)"
      ]
     },
     "execution_count": 92,
     "metadata": {},
     "output_type": "execute_result"
    }
   ],
   "source": [
    "hparams = {\n",
    "    'model_params': {'num_leaves': 7, 'n_estimators': 100, 'colsample_bytree': 0.75, 'learning_rate': 0.03},\n",
    "    'X_num': list(sfs.k_feature_names_)\n",
    "}\n",
    "result = sgml.cv(df_train, skf, hparams, config, lgb_adapter)\n",
    "sc.cv_result('lgb_bfs_f', hparams, lgb_adapter, result['valid_prd'])\n",
    "np.mean(result['valid_scores']), np.mean(result['train_scores'])"
   ]
  },
  {
   "cell_type": "code",
   "execution_count": 93,
   "id": "a2f7c8a1-9de5-4d62-8f13-921b4650bd7d",
   "metadata": {},
   "outputs": [
    {
     "data": {
      "text/plain": [
       "array(['sin_ed', 'maxtemp', 'temparature', 'mintemp', 'dewpoint',\n",
       "       'sunshine', 'windspeed', 'chp', 'sunshine_3', 'cloud_1', 'cloud_6',\n",
       "       'dewpoint_2', 'cos_wd_4', 'cos_wd_5', 'sin_wd_2', 'sin_wd_6',\n",
       "       'maxtemp_ma24', 'temparature_ma24', 'dewpoint_ma24',\n",
       "       'humidity_ma24'], dtype='<U16')"
      ]
     },
     "execution_count": 93,
     "metadata": {},
     "output_type": "execute_result"
    }
   ],
   "source": [
    "hparams = {\n",
    "    'model_params': {'max_depth': 3, 'n_estimators': 100, 'colsample_bytree': 0.75, 'learning_rate': 0.04},\n",
    "    'X_num': X_all\n",
    "}\n",
    "sfs = sc.cache_result(\n",
    "    'ff_sfs_xgb_f',\n",
    "    lambda : mfs.SequentialFeatureSelector(\n",
    "        estimator = xgb.XGBClassifier(**hparams['model_params']), k_features = 'best', forward = True, floating = True, scoring = 'roc_auc', cv = skf\n",
    "    ).fit(df_train[X_all], df_train[target])\n",
    "\n",
    ")\n",
    "np.array(sfs.k_feature_names_)"
   ]
  },
  {
   "cell_type": "code",
   "execution_count": 94,
   "id": "5248e903-a84c-47bb-9ef3-3b3f9cff7608",
   "metadata": {},
   "outputs": [
    {
     "data": {
      "application/vnd.jupyter.widget-view+json": {
       "model_id": "4f1c1d7c5f834674ad549b61b74c2dc9",
       "version_major": 2,
       "version_minor": 0
      },
      "text/plain": [
       "Fold:   0%|          | 0/5 [00:00<?, ?it/s]"
      ]
     },
     "metadata": {},
     "output_type": "display_data"
    },
    {
     "data": {
      "text/plain": [
       "(0.8985437710437709, 0.9357281144781145)"
      ]
     },
     "execution_count": 94,
     "metadata": {},
     "output_type": "execute_result"
    }
   ],
   "source": [
    "hparams = {\n",
    "    'model_params': {'max_depth': 3, 'n_estimators': 100, 'colsample_bytree': 0.75, 'learning_rate': 0.04},\n",
    "    'X_num': list(sfs.k_feature_names_)\n",
    "}\n",
    "result = sgml.cv(df_train, skf, hparams, config, xgb_adapter)\n",
    "sc.cv_result('xgb_sfs_f', hparams, xgb_adapter, result['valid_prd'])\n",
    "np.mean(result['valid_scores']), np.mean(result['train_scores'])"
   ]
  },
  {
   "cell_type": "code",
   "execution_count": 95,
   "id": "b3fcda11-33a7-472c-9da7-b2c03507bbcd",
   "metadata": {},
   "outputs": [
    {
     "data": {
      "text/plain": [
       "array(['sin_ed', 'mintemp', 'dewpoint', 'sunshine', 'windspeed', 'chp',\n",
       "       'sunshine_3', 'cloud_1', 'dewpoint_2', 'cos_wd_4', 'sin_wd_6',\n",
       "       'dewpoint_ma24', 'humidity_ma24', 'sin_wd_ma24', 'year'],\n",
       "      dtype='<U13')"
      ]
     },
     "execution_count": 95,
     "metadata": {},
     "output_type": "execute_result"
    }
   ],
   "source": [
    "hparams = {\n",
    "    'model_params': {'max_depth': 3, 'n_estimators': 100, 'colsample_bytree': 0.75, 'learning_rate': 0.04},\n",
    "    'X_num': X_all\n",
    "}\n",
    "sfs = sc.cache_result(\n",
    "    'bf_sfs_xgb_f',\n",
    "    lambda : mfs.SequentialFeatureSelector(\n",
    "        estimator = xgb.XGBClassifier(**hparams['model_params']), k_features = 'best', forward = False, floating = True, scoring = 'roc_auc', cv = skf\n",
    "    ).fit(df_train[X_all], df_train[target])\n",
    "\n",
    ")\n",
    "np.array(sfs.k_feature_names_)"
   ]
  },
  {
   "cell_type": "code",
   "execution_count": 96,
   "id": "28500e5a-f4ce-4a1c-b98a-ff7d38422e30",
   "metadata": {},
   "outputs": [
    {
     "data": {
      "application/vnd.jupyter.widget-view+json": {
       "model_id": "e9ca0d4902e6452d8d955601da6ef6be",
       "version_major": 2,
       "version_minor": 0
      },
      "text/plain": [
       "Fold:   0%|          | 0/5 [00:00<?, ?it/s]"
      ]
     },
     "metadata": {},
     "output_type": "display_data"
    },
    {
     "data": {
      "text/plain": [
       "(0.899405162738496, 0.9343618476430977)"
      ]
     },
     "execution_count": 96,
     "metadata": {},
     "output_type": "execute_result"
    }
   ],
   "source": [
    "hparams = {\n",
    "    'model_params': {'max_depth': 3, 'n_estimators': 100, 'colsample_bytree': 0.75, 'learning_rate': 0.04},\n",
    "    'X_num': list(sfs.k_feature_names_)\n",
    "}\n",
    "result = sgml.cv(df_train, skf, hparams, config, xgb_adapter)\n",
    "sc.cv_result('xgb_bfs_f', hparams, xgb_adapter, result['valid_prd'])\n",
    "np.mean(result['valid_scores']), np.mean(result['train_scores'])"
   ]
  },
  {
   "cell_type": "code",
   "execution_count": 97,
   "id": "9890399f-d538-45cc-8f49-087b78402a7f",
   "metadata": {},
   "outputs": [
    {
     "data": {
      "application/vnd.jupyter.widget-view+json": {
       "model_id": "44f3952b5b8049ef83a46166b9ea6934",
       "version_major": 2,
       "version_minor": 0
      },
      "text/plain": [
       "Fold:   0%|          | 0/5 [00:00<?, ?it/s]"
      ]
     },
     "metadata": {},
     "output_type": "display_data"
    },
    {
     "data": {
      "text/plain": [
       "(0.8915151515151514, 0.9011123386644219)"
      ]
     },
     "execution_count": 97,
     "metadata": {},
     "output_type": "execute_result"
    }
   ],
   "source": [
    "hparams = {\n",
    "    'model_params': {'C': 0.01, 'probability': True, 'kernel': 'linear'},\n",
    "    'X_num': X_all\n",
    "}\n",
    "result = sgml.cv(df_train, skf, hparams, config, svc_adapter)\n",
    "np.mean(result['valid_scores']), np.mean(result['train_scores'])"
   ]
  },
  {
   "cell_type": "code",
   "execution_count": 98,
   "id": "51680c12-143e-4fbf-b751-20ce66784714",
   "metadata": {},
   "outputs": [
    {
     "data": {
      "text/plain": [
       "array(['sin_ed', 'pressure', 'temparature', 'mintemp', 'dewpoint',\n",
       "       'sunshine', 'windspeed', 'chp', 'sunshine_1', 'sunshine_2',\n",
       "       'cloud_3', 'dewpoint_2', 'dewpoint_5', 'dewpoint_6', 'chp_5',\n",
       "       'cos_wd_5', 'sin_wd_2', 'sin_wd_4', 'maxtemp_ma24',\n",
       "       'temparature_ma24', 'dewpoint_ma24', 'humidity_ma24',\n",
       "       'cos_wd_ma24', 'year'], dtype='<U16')"
      ]
     },
     "execution_count": 98,
     "metadata": {},
     "output_type": "execute_result"
    }
   ],
   "source": [
    "sfs = sc.cache_result(\n",
    "    'ff_sfsf_lsvc',\n",
    "    lambda : mfs.SequentialFeatureSelector(\n",
    "        estimator = SVC(**hparams['model_params']), k_features = 'best', forward = True, floating = True, scoring = 'roc_auc', cv = skf, n_jobs = -1\n",
    "    ).fit(df_train[X_all], df_train[target])\n",
    ")\n",
    "np.array(sfs.k_feature_names_)"
   ]
  },
  {
   "cell_type": "code",
   "execution_count": 99,
   "id": "a8a9ca71-7f60-417f-87b5-32505954755e",
   "metadata": {},
   "outputs": [
    {
     "data": {
      "application/vnd.jupyter.widget-view+json": {
       "model_id": "6261a30b6b254204bcb232da43314bc6",
       "version_major": 2,
       "version_minor": 0
      },
      "text/plain": [
       "Fold:   0%|          | 0/5 [00:00<?, ?it/s]"
      ]
     },
     "metadata": {},
     "output_type": "display_data"
    },
    {
     "data": {
      "text/plain": [
       "(0.8986139169472503, 0.8995172208193042)"
      ]
     },
     "execution_count": 99,
     "metadata": {},
     "output_type": "execute_result"
    }
   ],
   "source": [
    "hparams = {\n",
    "    'model_params': {'C': 0.01, 'probability': True, 'kernel': 'linear'},\n",
    "    'X_num': list(sfs.k_feature_names_)\n",
    "}\n",
    "result = sgml.cv(df_train, skf, hparams, config, svc_adapter)\n",
    "sc.cv_result('lsvc_sfs_f', hparams, svc_adapter, result['valid_prd'])\n",
    "np.mean(result['valid_scores']), np.mean(result['train_scores'])"
   ]
  },
  {
   "cell_type": "code",
   "execution_count": 100,
   "id": "353da737-ce84-49b5-aebe-d961ce816d1b",
   "metadata": {},
   "outputs": [
    {
     "data": {
      "text/plain": [
       "array(['sin_ed', 'pressure', 'temparature', 'mintemp', 'dewpoint',\n",
       "       'humidity', 'cloud', 'sunshine', 'windspeed', 'cos_wd',\n",
       "       'sunshine_1', 'cloud_3', 'cos_wd_4', 'cos_wd_5', 'sin_wd_4',\n",
       "       'temparature_ma24', 'mintemp_ma24', 'humidity_ma24', 'cos_wd_ma24',\n",
       "       'year'], dtype='<U16')"
      ]
     },
     "execution_count": 100,
     "metadata": {},
     "output_type": "execute_result"
    }
   ],
   "source": [
    "sfs = sc.cache_result(\n",
    "    'bf_sfsf_lsvc',\n",
    "    lambda : mfs.SequentialFeatureSelector(\n",
    "        estimator = SVC(**hparams['model_params']), k_features = 'best', forward = False, floating = True, scoring = 'roc_auc', cv = skf, n_jobs = -1\n",
    "    ).fit(df_train[X_all], df_train[target])\n",
    ")\n",
    "np.array(sfs.k_feature_names_)"
   ]
  },
  {
   "cell_type": "code",
   "execution_count": 101,
   "id": "f09c9f83-bb57-4356-af92-f32dc1cf84c0",
   "metadata": {},
   "outputs": [
    {
     "data": {
      "application/vnd.jupyter.widget-view+json": {
       "model_id": "9db55df527c54186b9ff52cd6473e128",
       "version_major": 2,
       "version_minor": 0
      },
      "text/plain": [
       "Fold:   0%|          | 0/5 [00:00<?, ?it/s]"
      ]
     },
     "metadata": {},
     "output_type": "display_data"
    },
    {
     "data": {
      "text/plain": [
       "(0.8990712682379349, 0.8999386223344559)"
      ]
     },
     "execution_count": 101,
     "metadata": {},
     "output_type": "execute_result"
    }
   ],
   "source": [
    "hparams = {\n",
    "    'model_params': {'C': 0.01, 'probability': True, 'kernel': 'linear'},\n",
    "    'X_num': list(sfs.k_feature_names_)\n",
    "}\n",
    "result = sgml.cv(df_train, skf, hparams, config, svc_adapter)\n",
    "sc.cv_result('lsvc_bfs_f', hparams, svc_adapter, result['valid_prd'])\n",
    "np.mean(result['valid_scores']), np.mean(result['train_scores'])"
   ]
  },
  {
   "cell_type": "code",
   "execution_count": 102,
   "id": "361c0521-574b-48e9-bf48-d6e57a46453a",
   "metadata": {},
   "outputs": [
    {
     "data": {
      "application/vnd.jupyter.widget-view+json": {
       "model_id": "96c0d57ceab84816a92ff649622f07b2",
       "version_major": 2,
       "version_minor": 0
      },
      "text/plain": [
       "Fold:   0%|          | 0/5 [00:00<?, ?it/s]"
      ]
     },
     "metadata": {},
     "output_type": "display_data"
    },
    {
     "data": {
      "text/plain": [
       "(0.8931032547699214, 0.9092634680134679)"
      ]
     },
     "execution_count": 102,
     "metadata": {},
     "output_type": "execute_result"
    }
   ],
   "source": [
    "hparams = {\n",
    "    'model_params': {'C': 0.1, 'probability': True, 'kernel': 'poly', 'degree': 2, 'coef0': 1},\n",
    "    'X_num': X_all\n",
    "}\n",
    "result = sgml.cv(df_train, skf, hparams, config, svc_adapter)\n",
    "np.mean(result['valid_scores']), np.mean(result['train_scores'])"
   ]
  },
  {
   "cell_type": "code",
   "execution_count": 103,
   "id": "797ba3bf-9f4c-4201-86cf-ff15f8329244",
   "metadata": {},
   "outputs": [
    {
     "data": {
      "text/plain": [
       "array(['mintemp', 'dewpoint', 'sunshine', 'windspeed', 'chp', 'cloud_1',\n",
       "       'cloud_3', 'cloud_6', 'dewpoint_2', 'cos_wd_1', 'cos_wd_3',\n",
       "       'cos_wd_4', 'dewpoint_ma24', 'sunshine_ma24', 'cos_wd_ma24',\n",
       "       'sin_wd_ma24', 'year'], dtype='<U13')"
      ]
     },
     "execution_count": 103,
     "metadata": {},
     "output_type": "execute_result"
    }
   ],
   "source": [
    "sfs = sc.cache_result(\n",
    "    'ff_sfsf_p2svc',\n",
    "    lambda : mfs.SequentialFeatureSelector(\n",
    "        estimator = SVC(**hparams['model_params']), k_features = 'best', forward = True, floating = True, scoring = 'roc_auc', cv = skf, n_jobs = -1\n",
    "    ).fit(df_train[X_all], df_train[target])\n",
    ")\n",
    "np.array(sfs.k_feature_names_)"
   ]
  },
  {
   "cell_type": "code",
   "execution_count": 104,
   "id": "f38d2c3c-daeb-4b27-95c3-6ae399b7e960",
   "metadata": {},
   "outputs": [
    {
     "data": {
      "application/vnd.jupyter.widget-view+json": {
       "model_id": "57b6e984c1704371a2cc0ecd22adede9",
       "version_major": 2,
       "version_minor": 0
      },
      "text/plain": [
       "Fold:   0%|          | 0/5 [00:00<?, ?it/s]"
      ]
     },
     "metadata": {},
     "output_type": "display_data"
    },
    {
     "data": {
      "text/plain": [
       "(0.9008810325476994, 0.9073690025252527)"
      ]
     },
     "execution_count": 104,
     "metadata": {},
     "output_type": "execute_result"
    }
   ],
   "source": [
    "hparams = {\n",
    "    'model_params': {'C': 0.1, 'probability': True, 'kernel': 'poly', 'degree': 2, 'coef0': 1},\n",
    "    'X_num': list(sfs.k_feature_names_)\n",
    "}\n",
    "result = sgml.cv(df_train, skf, hparams, config, svc_adapter)\n",
    "sc.cv_result('p2svc_sfs_f', hparams, svc_adapter, result['valid_prd'])\n",
    "np.mean(result['valid_scores']), np.mean(result['train_scores'])"
   ]
  },
  {
   "cell_type": "code",
   "execution_count": 122,
   "id": "6bd295e1-30f6-4aa1-84ab-455238b1653e",
   "metadata": {},
   "outputs": [
    {
     "data": {
      "text/plain": [
       "array(['mintemp', 'dewpoint', 'sunshine', 'windspeed', 'chp', 'cloud_1',\n",
       "       'cloud_3', 'cloud_6', 'dewpoint_2', 'cos_wd_1', 'cos_wd_3',\n",
       "       'cos_wd_4', 'dewpoint_ma24', 'sunshine_ma24', 'cos_wd_ma24',\n",
       "       'sin_wd_ma24', 'year'], dtype='<U13')"
      ]
     },
     "execution_count": 122,
     "metadata": {},
     "output_type": "execute_result"
    }
   ],
   "source": [
    "sfs = sc.cache_result(\n",
    "    'bf_sfsf_p2svc',\n",
    "    lambda : mfs.SequentialFeatureSelector(\n",
    "        estimator = SVC(**hparams['model_params']), k_features = 'best', forward = True, floating = True, scoring = 'roc_auc', cv = skf, n_jobs = -1\n",
    "    ).fit(df_train[X_all], df_train[target]), rerun = 0\n",
    ")\n",
    "np.array(sfs.k_feature_names_)"
   ]
  },
  {
   "cell_type": "code",
   "execution_count": 123,
   "id": "1893d5c7-ac4f-4b6e-aaa8-0493e169d2c8",
   "metadata": {},
   "outputs": [
    {
     "data": {
      "application/vnd.jupyter.widget-view+json": {
       "model_id": "a2613c1586714412bd09c2da2ea6ae86",
       "version_major": 2,
       "version_minor": 0
      },
      "text/plain": [
       "Fold:   0%|          | 0/5 [00:00<?, ?it/s]"
      ]
     },
     "metadata": {},
     "output_type": "display_data"
    },
    {
     "data": {
      "text/plain": [
       "(0.9009034792368127, 0.9073684764309764)"
      ]
     },
     "execution_count": 123,
     "metadata": {},
     "output_type": "execute_result"
    }
   ],
   "source": [
    "hparams = {\n",
    "    'model_params': {'C': 0.1, 'probability': True, 'kernel': 'poly', 'degree': 2, 'coef0': 1},\n",
    "    'X_num': list(sfs.k_feature_names_)\n",
    "}\n",
    "result = sgml.cv(df_train, skf, hparams, config, svc_adapter)\n",
    "sc.cv_result('p2svc_bfs_f', hparams, svc_adapter, result['valid_prd'])\n",
    "np.mean(result['valid_scores']), np.mean(result['train_scores'])"
   ]
  },
  {
   "cell_type": "code",
   "execution_count": 124,
   "id": "0845e06a-1390-4729-b055-5468f026ddba",
   "metadata": {},
   "outputs": [
    {
     "data": {
      "application/vnd.jupyter.widget-view+json": {
       "model_id": "2bdfa92f47354f7a80e64b0e0bf7d39b",
       "version_major": 2,
       "version_minor": 0
      },
      "text/plain": [
       "Fold:   0%|          | 0/5 [00:00<?, ?it/s]"
      ]
     },
     "metadata": {},
     "output_type": "display_data"
    },
    {
     "data": {
      "text/plain": [
       "(0.8661475869809203, 0.8825776865881032)"
      ]
     },
     "execution_count": 124,
     "metadata": {},
     "output_type": "execute_result"
    }
   ],
   "source": [
    "hparams = {\n",
    "    'model_params': {'n_neighbors': 70},\n",
    "    'X_num': X_all\n",
    "}\n",
    "result = sgml.cv(df_train, skf, hparams, config, knn_adapter)\n",
    "np.mean(result['valid_scores']), np.mean(result['train_scores'])"
   ]
  },
  {
   "cell_type": "code",
   "execution_count": 125,
   "id": "d4691ff3-ea17-4b1a-a973-e9a29446a738",
   "metadata": {},
   "outputs": [
    {
     "data": {
      "text/plain": [
       "array(['sin_ed', 'dewpoint', 'cloud', 'sunshine', 'chp', 'dewpoint_2',\n",
       "       'chp_1', 'cos_wd_4', 'cos_wd_6', 'sin_wd_3', 'sunshine_ma24',\n",
       "       'chp_ma24', 'year'], dtype='<U13')"
      ]
     },
     "execution_count": 125,
     "metadata": {},
     "output_type": "execute_result"
    }
   ],
   "source": [
    "sfs = sc.cache_result(\n",
    "    'ff_sfsf_knn70',\n",
    "    lambda : mfs.SequentialFeatureSelector(\n",
    "        estimator = KNeighborsClassifier(**hparams['model_params']), k_features = 'best', forward = True, floating = True, scoring = 'roc_auc', cv = skf, n_jobs = -1\n",
    "    ).fit(df_train[X_all], df_train[target]), rerun = 0\n",
    ")\n",
    "np.array(sfs.k_feature_names_)"
   ]
  },
  {
   "cell_type": "code",
   "execution_count": 126,
   "id": "eea895c4-e3bc-402b-8ccb-89111e93d2ca",
   "metadata": {},
   "outputs": [
    {
     "data": {
      "application/vnd.jupyter.widget-view+json": {
       "model_id": "7d7fc263ef9a406ca4c941d7619e3f51",
       "version_major": 2,
       "version_minor": 0
      },
      "text/plain": [
       "Fold:   0%|          | 0/5 [00:00<?, ?it/s]"
      ]
     },
     "metadata": {},
     "output_type": "display_data"
    },
    {
     "data": {
      "text/plain": [
       "(0.8974354657687991, 0.9070700056116723)"
      ]
     },
     "execution_count": 126,
     "metadata": {},
     "output_type": "execute_result"
    }
   ],
   "source": [
    "hparams = {\n",
    "    'model_params': {'n_neighbors': 70},\n",
    "    'X_num': list(sfs.k_feature_names_)\n",
    "}\n",
    "result = sgml.cv(df_train, skf, hparams, config, knn_adapter)\n",
    "sc.cv_result('knn70_sfs_f', hparams, knn_adapter, result['valid_prd'])\n",
    "np.mean(result['valid_scores']), np.mean(result['train_scores'])"
   ]
  },
  {
   "cell_type": "code",
   "execution_count": 127,
   "id": "eb836157-1f43-4494-ae03-0846d7941ba6",
   "metadata": {},
   "outputs": [
    {
     "data": {
      "text/plain": [
       "array(['sin_ed', 'mintemp', 'humidity', 'cloud', 'sunshine', 'windspeed',\n",
       "       'chp', 'sunshine_3', 'cloud_6', 'dewpoint_4', 'dewpoint_6',\n",
       "       'chp_2', 'cos_wd_3', 'cos_wd_4', 'cos_wd_6', 'sin_wd_3',\n",
       "       'sin_wd_4', 'mintemp_ma24', 'dewpoint_ma24', 'chp_ma24'],\n",
       "      dtype='<U13')"
      ]
     },
     "execution_count": 127,
     "metadata": {},
     "output_type": "execute_result"
    }
   ],
   "source": [
    "sfs = sc.cache_result(\n",
    "    'bf_sfsf_knn70',\n",
    "    lambda : mfs.SequentialFeatureSelector(\n",
    "        estimator = KNeighborsClassifier(**hparams['model_params']), k_features = 'best', forward = False, floating = True, scoring = 'roc_auc', cv = skf, n_jobs = -1\n",
    "    ).fit(df_train[X_all], df_train[target]), rerun = 0\n",
    ")\n",
    "np.array(sfs.k_feature_names_)"
   ]
  },
  {
   "cell_type": "code",
   "execution_count": 128,
   "id": "eb147f3b-78b6-4c0a-b7c7-df733081cf95",
   "metadata": {},
   "outputs": [
    {
     "data": {
      "application/vnd.jupyter.widget-view+json": {
       "model_id": "92a84a6fa3b4425282cba3fdd625d67d",
       "version_major": 2,
       "version_minor": 0
      },
      "text/plain": [
       "Fold:   0%|          | 0/5 [00:00<?, ?it/s]"
      ]
     },
     "metadata": {},
     "output_type": "display_data"
    },
    {
     "data": {
      "text/plain": [
       "(0.8981228956228955, 0.904110725308642)"
      ]
     },
     "execution_count": 128,
     "metadata": {},
     "output_type": "execute_result"
    }
   ],
   "source": [
    "hparams = {\n",
    "    'model_params': {'n_neighbors': 70},\n",
    "    'X_num': list(sfs.k_feature_names_)\n",
    "}\n",
    "result = sgml.cv(df_train, skf, hparams, config, knn_adapter)\n",
    "sc.cv_result('knn70_bfs_f', hparams, knn_adapter, result['valid_prd'])\n",
    "np.mean(result['valid_scores']), np.mean(result['train_scores'])"
   ]
  },
  {
   "cell_type": "code",
   "execution_count": 129,
   "id": "7e51f052-eba0-4aff-8628-4c90288513aa",
   "metadata": {},
   "outputs": [
    {
     "data": {
      "text/plain": [
       "array(['sin_ed', 'temparature', 'mintemp', 'dewpoint', 'humidity',\n",
       "       'cloud', 'sunshine', 'windspeed', 'sunshine_6', 'dewpoint_1',\n",
       "       'dewpoint_6', 'sin_wd_6', 'pressure_ma24', 'maxtemp_ma24',\n",
       "       'temparature_ma24', 'mintemp_ma24', 'dewpoint_ma24', 'cloud_ma24',\n",
       "       'sunshine_ma24', 'expected_day', 'winddirection'], dtype='<U16')"
      ]
     },
     "execution_count": 129,
     "metadata": {},
     "output_type": "execute_result"
    }
   ],
   "source": [
    "sfs = sc.cache_result(\n",
    "    'ff_sfsf_knn702',\n",
    "    lambda : pd.concat([df_train, df_org]).pipe(\n",
    "        lambda x: mfs.SequentialFeatureSelector(\n",
    "            estimator = KNeighborsClassifier(**hparams['model_params']), k_features = 'best', forward = True, floating = True, scoring = 'roc_auc', cv = skf, n_jobs = -1\n",
    "        ).fit(x[X_all], x[target])\n",
    "    )\n",
    ")\n",
    "np.array(sfs.k_feature_names_)"
   ]
  },
  {
   "cell_type": "code",
   "execution_count": 130,
   "id": "9dcbdf02-4acb-4b95-9da2-9d033e46f6d9",
   "metadata": {},
   "outputs": [
    {
     "data": {
      "application/vnd.jupyter.widget-view+json": {
       "model_id": "c36bbf55a4384c57969615282fda897d",
       "version_major": 2,
       "version_minor": 0
      },
      "text/plain": [
       "Fold:   0%|          | 0/5 [00:00<?, ?it/s]"
      ]
     },
     "metadata": {},
     "output_type": "display_data"
    },
    {
     "data": {
      "text/plain": [
       "(0.8916189674523007, 0.8991573995711537)"
      ]
     },
     "execution_count": 130,
     "metadata": {},
     "output_type": "execute_result"
    }
   ],
   "source": [
    "hparams = {\n",
    "    'model_params': {'n_neighbors': 70},\n",
    "    'X_num': list(sfs.k_feature_names_),\n",
    "    'train_data_proc_param': {'include_org': True}\n",
    "}\n",
    "result = sgml.cv(df_train, skf, hparams, config, knn_adapter)\n",
    "sc.cv_result('knn70_sfs_f2', hparams, knn_adapter, result['valid_prd'])\n",
    "np.mean(result['valid_scores']), np.mean(result['train_scores'])"
   ]
  },
  {
   "cell_type": "markdown",
   "id": "12e4705f-dd4c-46f8-b80c-19788f080d3b",
   "metadata": {},
   "source": [
    "# Feature Selection Analysis"
   ]
  },
  {
   "cell_type": "code",
   "execution_count": 131,
   "id": "f5a81b30-2e79-4a2d-9e69-759168a7d33e",
   "metadata": {},
   "outputs": [],
   "source": [
    "result_sk = ['ff_sfs_lr', 'ff_sfs_lr2', 'bf_sfs_lr', 'bf_sfs_lr2', 'ff_sfs_lgb', 'ff_sfs_lgb2', 'bf_sfs_lgb', 'ff_sfs_xgb', 'ff_sfs_xgb2', 'bf_sfs_xgb']\n",
    "selected_sk = [\n",
    "    np.array(X_all)[sc.read_result(i).get_support()].tolist()\n",
    "    for i in result_sk\n",
    "]"
   ]
  },
  {
   "cell_type": "code",
   "execution_count": 132,
   "id": "6608143a-c6d2-45b5-a60b-72132a842016",
   "metadata": {},
   "outputs": [
    {
     "data": {
      "text/plain": [
       "temparature_ma24    10\n",
       "sunshine            10\n",
       "windspeed           10\n",
       "chp                 10\n",
       "chp_3                9\n",
       "year                 9\n",
       "mintemp              9\n",
       "dewpoint             9\n",
       "sunshine_1           8\n",
       "sin_ed               8\n",
       "Name: count, dtype: int64"
      ]
     },
     "execution_count": 132,
     "metadata": {},
     "output_type": "execute_result"
    }
   ],
   "source": [
    "pd.Series(selected_sk, index = result_sk).explode().value_counts().iloc[:10]"
   ]
  },
  {
   "cell_type": "code",
   "execution_count": 133,
   "id": "8c4937e8-13dc-4b4a-872f-1d96f04eaeea",
   "metadata": {},
   "outputs": [],
   "source": [
    "result_mfs = [\n",
    "    'ff_sfsf_lr', 'ff_sfsf_lr2', 'bf_sfsf_lr', 'ff_sfs_lgb_f', 'bf_sfs_lgb_f', 'ff_sfs_xgb_f', 'bf_sfs_xgb_f', 'ff_sfsf_lsvc', 'bf_sfsf_lsvc',\n",
    "    'ff_sfsf_p2svc', 'bf_sfsf_p2svc', 'ff_sfsf_knn70', 'bf_sfsf_knn70', 'ff_sfsf_knn702'\n",
    "]\n",
    "selected_mfs = [\n",
    "    list(sc.read_result(i).k_feature_names_)\n",
    "    for i in result_mfs\n",
    "]"
   ]
  },
  {
   "cell_type": "code",
   "execution_count": 134,
   "id": "33a20396-f672-44e5-8d96-fd271d252779",
   "metadata": {},
   "outputs": [
    {
     "data": {
      "text/plain": [
       "sunshine            14\n",
       "mintemp             13\n",
       "sin_ed              12\n",
       "dewpoint            12\n",
       "windspeed           12\n",
       "chp                 11\n",
       "cos_wd_4            10\n",
       "temparature_ma24     9\n",
       "year                 8\n",
       "cloud_3              8\n",
       "Name: count, dtype: int64"
      ]
     },
     "execution_count": 134,
     "metadata": {},
     "output_type": "execute_result"
    }
   ],
   "source": [
    "pd.Series(selected_mfs, index = result_mfs).explode().value_counts().iloc[:10]"
   ]
  },
  {
   "cell_type": "code",
   "execution_count": 135,
   "id": "035cf221-e73e-4c26-9c62-5ed511d04cbe",
   "metadata": {},
   "outputs": [
    {
     "data": {
      "text/plain": [
       "sunshine            28\n",
       "mintemp             26\n",
       "sin_ed              24\n",
       "dewpoint            24\n",
       "windspeed           24\n",
       "chp                 22\n",
       "cos_wd_4            20\n",
       "temparature_ma24    18\n",
       "year                16\n",
       "cloud_3             16\n",
       "dewpoint_ma24       14\n",
       "dewpoint_2          14\n",
       "cos_wd_ma24         14\n",
       "maxtemp_ma24        14\n",
       "humidity_ma24       14\n",
       "cloud               12\n",
       "sunshine_1          10\n",
       "sunshine_ma24       10\n",
       "temparature         10\n",
       "sin_wd_ma24         10\n",
       "cloud_6             10\n",
       "cloud_1             10\n",
       "sin_wd_6             8\n",
       "humidity             8\n",
       "dewpoint_6           8\n",
       "mintemp_ma24         8\n",
       "pressure             8\n",
       "cos_wd_5             6\n",
       "sunshine_3           6\n",
       "sin_wd_4             6\n",
       "Name: count, dtype: int64"
      ]
     },
     "execution_count": 135,
     "metadata": {},
     "output_type": "execute_result"
    }
   ],
   "source": [
    "pd.concat([\n",
    "    pd.Series(selected_mfs, index = result_mfs).explode(),\n",
    "    pd.Series(selected_mfs, index = result_mfs).explode()\n",
    "]).value_counts().iloc[:30]"
   ]
  },
  {
   "cell_type": "code",
   "execution_count": null,
   "id": "bfcc7980-1017-42a8-a0cb-a824b4fff2bc",
   "metadata": {},
   "outputs": [],
   "source": []
  }
 ],
 "metadata": {
  "kernelspec": {
   "display_name": "Python 3 (ipykernel)",
   "language": "python",
   "name": "python3"
  },
  "language_info": {
   "codemirror_mode": {
    "name": "ipython",
    "version": 3
   },
   "file_extension": ".py",
   "mimetype": "text/x-python",
   "name": "python",
   "nbconvert_exporter": "python",
   "pygments_lexer": "ipython3",
   "version": "3.12.6"
  }
 },
 "nbformat": 4,
 "nbformat_minor": 5
}
