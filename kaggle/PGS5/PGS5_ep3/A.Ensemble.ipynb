{
 "cells": [
  {
   "cell_type": "code",
   "execution_count": 1,
   "id": "94507e5a-902e-4465-ba97-29ef2ae5ad7d",
   "metadata": {},
   "outputs": [],
   "source": [
    "import pandas as pd\n",
    "import numpy as np\n",
    "import sgml, sgutil\n",
    "\n",
    "sc = sgutil.SGCache('img', 'result')"
   ]
  },
  {
   "cell_type": "code",
   "execution_count": 2,
   "id": "6e3d632d-15d4-441c-bd1d-09cf5af8d453",
   "metadata": {},
   "outputs": [],
   "source": [
    "from sklearn.metrics import roc_auc_score\n",
    "from sklearn.linear_model import LogisticRegression\n",
    "from sklearn.svm import LinearSVC, SVC\n",
    "from sklearn.model_selection import StratifiedKFold, StratifiedShuffleSplit\n",
    "\n",
    "def get_validation_splitter(validation_fraction):\n",
    "    return lambda x: train_test_split(x, test_size = validation_fraction)\n",
    "\n",
    "target = 'rainfall'\n",
    "s_target = sc.read_result('target')\n",
    "config = {\n",
    "    'predict_func': lambda m, df, X: pd.Series(m.predict_proba(df[X])[:, 1], index = df.index),\n",
    "    'score_func': lambda df, prds: roc_auc_score(df[target], prds),\n",
    "    'validation_splitter': get_validation_splitter,\n",
    "    'progress_callback': sgml.ProgressCallBack(), \n",
    "    'return_train_scores': True,\n",
    "    'y': target,\n",
    "}\n",
    "\n",
    "lr_adapter = sgml.SklearnAdapter(LogisticRegression)\n",
    "svc_adapter = sgml.SklearnAdapter(SVC)\n",
    "\n",
    "skf = StratifiedKFold(5, random_state = 123, shuffle = True)\n",
    "ss = StratifiedShuffleSplit(1, random_state = 123)"
   ]
  },
  {
   "cell_type": "code",
   "execution_count": 38,
   "id": "1d636d1d-cfa6-4727-a199-d0830936f48f",
   "metadata": {},
   "outputs": [
    {
     "data": {
      "text/html": [
       "<div>\n",
       "<style scoped>\n",
       "    .dataframe tbody tr th:only-of-type {\n",
       "        vertical-align: middle;\n",
       "    }\n",
       "\n",
       "    .dataframe tbody tr th {\n",
       "        vertical-align: top;\n",
       "    }\n",
       "\n",
       "    .dataframe thead th {\n",
       "        text-align: right;\n",
       "    }\n",
       "</style>\n",
       "<table border=\"1\" class=\"dataframe\">\n",
       "  <thead>\n",
       "    <tr style=\"text-align: right;\">\n",
       "      <th></th>\n",
       "      <th>knn70_bfs_f</th>\n",
       "      <th>knn70_sfs_f</th>\n",
       "      <th>knn70_sfs_f2</th>\n",
       "      <th>lgb_bfs</th>\n",
       "      <th>lgb_bfs_f</th>\n",
       "      <th>lgb_sfs</th>\n",
       "      <th>lgb_sfs2</th>\n",
       "      <th>lgb_sfs_a</th>\n",
       "      <th>lgb_sfs_a2</th>\n",
       "      <th>lgb_sfs_f</th>\n",
       "      <th>...</th>\n",
       "      <th>lsvc_bfs_f</th>\n",
       "      <th>lsvc_sfs_f</th>\n",
       "      <th>p2svc_bfs_f</th>\n",
       "      <th>p2svc_sfs_f</th>\n",
       "      <th>xgb_bfs</th>\n",
       "      <th>xgb_bfs_f</th>\n",
       "      <th>xgb_sfs</th>\n",
       "      <th>xgb_sfs2</th>\n",
       "      <th>xgb_sfs_a</th>\n",
       "      <th>xgb_sfs_f</th>\n",
       "    </tr>\n",
       "    <tr>\n",
       "      <th>id</th>\n",
       "      <th></th>\n",
       "      <th></th>\n",
       "      <th></th>\n",
       "      <th></th>\n",
       "      <th></th>\n",
       "      <th></th>\n",
       "      <th></th>\n",
       "      <th></th>\n",
       "      <th></th>\n",
       "      <th></th>\n",
       "      <th></th>\n",
       "      <th></th>\n",
       "      <th></th>\n",
       "      <th></th>\n",
       "      <th></th>\n",
       "      <th></th>\n",
       "      <th></th>\n",
       "      <th></th>\n",
       "      <th></th>\n",
       "      <th></th>\n",
       "      <th></th>\n",
       "    </tr>\n",
       "  </thead>\n",
       "  <tbody>\n",
       "    <tr>\n",
       "      <th>0</th>\n",
       "      <td>0.942857</td>\n",
       "      <td>0.942857</td>\n",
       "      <td>0.957143</td>\n",
       "      <td>0.961729</td>\n",
       "      <td>0.963410</td>\n",
       "      <td>0.959396</td>\n",
       "      <td>0.960603</td>\n",
       "      <td>0.954278</td>\n",
       "      <td>0.958530</td>\n",
       "      <td>0.960227</td>\n",
       "      <td>...</td>\n",
       "      <td>0.946687</td>\n",
       "      <td>0.953316</td>\n",
       "      <td>0.939305</td>\n",
       "      <td>0.939116</td>\n",
       "      <td>0.960705</td>\n",
       "      <td>0.951509</td>\n",
       "      <td>0.964470</td>\n",
       "      <td>0.961581</td>\n",
       "      <td>0.971312</td>\n",
       "      <td>0.953746</td>\n",
       "    </tr>\n",
       "    <tr>\n",
       "      <th>1</th>\n",
       "      <td>0.985714</td>\n",
       "      <td>0.971429</td>\n",
       "      <td>1.000000</td>\n",
       "      <td>0.957777</td>\n",
       "      <td>0.957388</td>\n",
       "      <td>0.958262</td>\n",
       "      <td>0.959730</td>\n",
       "      <td>0.957464</td>\n",
       "      <td>0.960577</td>\n",
       "      <td>0.955016</td>\n",
       "      <td>...</td>\n",
       "      <td>0.964884</td>\n",
       "      <td>0.980961</td>\n",
       "      <td>0.960510</td>\n",
       "      <td>0.960704</td>\n",
       "      <td>0.970343</td>\n",
       "      <td>0.964462</td>\n",
       "      <td>0.963227</td>\n",
       "      <td>0.961197</td>\n",
       "      <td>0.975665</td>\n",
       "      <td>0.962158</td>\n",
       "    </tr>\n",
       "    <tr>\n",
       "      <th>2</th>\n",
       "      <td>0.314286</td>\n",
       "      <td>0.128571</td>\n",
       "      <td>0.185714</td>\n",
       "      <td>0.306126</td>\n",
       "      <td>0.214272</td>\n",
       "      <td>0.350243</td>\n",
       "      <td>0.292654</td>\n",
       "      <td>0.226779</td>\n",
       "      <td>0.233048</td>\n",
       "      <td>0.222275</td>\n",
       "      <td>...</td>\n",
       "      <td>0.107595</td>\n",
       "      <td>0.131004</td>\n",
       "      <td>0.111948</td>\n",
       "      <td>0.115182</td>\n",
       "      <td>0.298123</td>\n",
       "      <td>0.285813</td>\n",
       "      <td>0.285703</td>\n",
       "      <td>0.253963</td>\n",
       "      <td>0.208304</td>\n",
       "      <td>0.225557</td>\n",
       "    </tr>\n",
       "    <tr>\n",
       "      <th>3</th>\n",
       "      <td>0.985714</td>\n",
       "      <td>0.957143</td>\n",
       "      <td>0.985714</td>\n",
       "      <td>0.951085</td>\n",
       "      <td>0.957388</td>\n",
       "      <td>0.954954</td>\n",
       "      <td>0.954629</td>\n",
       "      <td>0.958466</td>\n",
       "      <td>0.960463</td>\n",
       "      <td>0.957285</td>\n",
       "      <td>...</td>\n",
       "      <td>0.970843</td>\n",
       "      <td>0.982288</td>\n",
       "      <td>0.961817</td>\n",
       "      <td>0.962007</td>\n",
       "      <td>0.969265</td>\n",
       "      <td>0.962990</td>\n",
       "      <td>0.955591</td>\n",
       "      <td>0.961683</td>\n",
       "      <td>0.974714</td>\n",
       "      <td>0.965428</td>\n",
       "    </tr>\n",
       "    <tr>\n",
       "      <th>4</th>\n",
       "      <td>0.314286</td>\n",
       "      <td>0.157143</td>\n",
       "      <td>0.285714</td>\n",
       "      <td>0.125042</td>\n",
       "      <td>0.117842</td>\n",
       "      <td>0.121943</td>\n",
       "      <td>0.102464</td>\n",
       "      <td>0.167561</td>\n",
       "      <td>0.154888</td>\n",
       "      <td>0.113593</td>\n",
       "      <td>...</td>\n",
       "      <td>0.078792</td>\n",
       "      <td>0.139608</td>\n",
       "      <td>0.136672</td>\n",
       "      <td>0.140219</td>\n",
       "      <td>0.080916</td>\n",
       "      <td>0.063153</td>\n",
       "      <td>0.071863</td>\n",
       "      <td>0.072423</td>\n",
       "      <td>0.203416</td>\n",
       "      <td>0.050437</td>\n",
       "    </tr>\n",
       "  </tbody>\n",
       "</table>\n",
       "<p>5 rows × 31 columns</p>\n",
       "</div>"
      ],
      "text/plain": [
       "    knn70_bfs_f  knn70_sfs_f  knn70_sfs_f2   lgb_bfs  lgb_bfs_f   lgb_sfs  \\\n",
       "id                                                                          \n",
       "0      0.942857     0.942857      0.957143  0.961729   0.963410  0.959396   \n",
       "1      0.985714     0.971429      1.000000  0.957777   0.957388  0.958262   \n",
       "2      0.314286     0.128571      0.185714  0.306126   0.214272  0.350243   \n",
       "3      0.985714     0.957143      0.985714  0.951085   0.957388  0.954954   \n",
       "4      0.314286     0.157143      0.285714  0.125042   0.117842  0.121943   \n",
       "\n",
       "    lgb_sfs2  lgb_sfs_a  lgb_sfs_a2  lgb_sfs_f  ...  lsvc_bfs_f  lsvc_sfs_f  \\\n",
       "id                                              ...                           \n",
       "0   0.960603   0.954278    0.958530   0.960227  ...    0.946687    0.953316   \n",
       "1   0.959730   0.957464    0.960577   0.955016  ...    0.964884    0.980961   \n",
       "2   0.292654   0.226779    0.233048   0.222275  ...    0.107595    0.131004   \n",
       "3   0.954629   0.958466    0.960463   0.957285  ...    0.970843    0.982288   \n",
       "4   0.102464   0.167561    0.154888   0.113593  ...    0.078792    0.139608   \n",
       "\n",
       "    p2svc_bfs_f  p2svc_sfs_f   xgb_bfs  xgb_bfs_f   xgb_sfs  xgb_sfs2  \\\n",
       "id                                                                      \n",
       "0      0.939305     0.939116  0.960705   0.951509  0.964470  0.961581   \n",
       "1      0.960510     0.960704  0.970343   0.964462  0.963227  0.961197   \n",
       "2      0.111948     0.115182  0.298123   0.285813  0.285703  0.253963   \n",
       "3      0.961817     0.962007  0.969265   0.962990  0.955591  0.961683   \n",
       "4      0.136672     0.140219  0.080916   0.063153  0.071863  0.072423   \n",
       "\n",
       "    xgb_sfs_a  xgb_sfs_f  \n",
       "id                        \n",
       "0    0.971312   0.953746  \n",
       "1    0.975665   0.962158  \n",
       "2    0.208304   0.225557  \n",
       "3    0.974714   0.965428  \n",
       "4    0.203416   0.050437  \n",
       "\n",
       "[5 rows x 31 columns]"
      ]
     },
     "execution_count": 38,
     "metadata": {},
     "output_type": "execute_result"
    }
   ],
   "source": [
    "df_stk = sc.read_prds(sc.get_cv_list(), s_target.index)\n",
    "df_stk.head()"
   ]
  },
  {
   "cell_type": "code",
   "execution_count": 39,
   "id": "5a7923bf-71ab-4a2a-9376-2f2fca3e29dc",
   "metadata": {},
   "outputs": [
    {
     "data": {
      "text/plain": [
       "p2svc_sfs_f     0.899905\n",
       "p2svc_bfs_f     0.899890\n",
       "lr_sfs_f        0.898687\n",
       "lsvc_bfs_f      0.898419\n",
       "lr_sfs3         0.898169\n",
       "lr_sfs2         0.898044\n",
       "lsvc_sfs_f      0.897831\n",
       "knn70_bfs_f     0.897017\n",
       "lr_sfs          0.896853\n",
       "lr_sfs_a3       0.896734\n",
       "lr_bfs          0.896706\n",
       "knn70_sfs_f     0.896539\n",
       "xgb_bfs_f       0.896468\n",
       "lr_sfs_a2       0.896047\n",
       "xgb_sfs_f       0.895691\n",
       "lr_sfs_f2       0.895504\n",
       "lr_bfs_f        0.895328\n",
       "xgb_sfs         0.895090\n",
       "xgb_sfs2        0.894864\n",
       "lgb_sfs_f       0.894483\n",
       "lgb_bfs_f       0.894456\n",
       "lr_sfs_a        0.894342\n",
       "lgb_sfs         0.894180\n",
       "lgb_bfs         0.893356\n",
       "lr_bfs_a        0.892708\n",
       "lgb_sfs2        0.892393\n",
       "xgb_bfs         0.892093\n",
       "lgb_sfs_a2      0.891894\n",
       "xgb_sfs_a       0.891749\n",
       "knn70_sfs_f2    0.890999\n",
       "lgb_sfs_a       0.890458\n",
       "dtype: float64"
      ]
     },
     "execution_count": 39,
     "metadata": {},
     "output_type": "execute_result"
    }
   ],
   "source": [
    "df_stk.apply(\n",
    "    lambda x: roc_auc_score(s_target, x)\n",
    ").sort_values(ascending = False)"
   ]
  },
  {
   "cell_type": "code",
   "execution_count": 40,
   "id": "16f94e26-2bcc-4c7a-980c-e9f58404a0e4",
   "metadata": {},
   "outputs": [
    {
     "data": {
      "text/plain": [
       "0.9007845117845119"
      ]
     },
     "execution_count": 40,
     "metadata": {},
     "output_type": "execute_result"
    }
   ],
   "source": [
    "roc_auc_score(\n",
    "    s_target, df_stk.mean(axis=1)\n",
    ")"
   ]
  },
  {
   "cell_type": "code",
   "execution_count": 41,
   "id": "3a4ffb59-b8be-48cb-a1f4-efbeb88f337b",
   "metadata": {},
   "outputs": [
    {
     "data": {
      "text/plain": [
       "(0.9018911335578002, 0.012146510989015206)"
      ]
     },
     "execution_count": 41,
     "metadata": {},
     "output_type": "execute_result"
    }
   ],
   "source": [
    "from sklearn.model_selection import cross_validate\n",
    "cv_result = cross_validate(\n",
    "    LogisticRegression(C=0.1), df_stk, s_target, scoring = 'roc_auc', cv = skf\n",
    ")\n",
    "cv_result['test_score'].mean(), cv_result['test_score'].std()"
   ]
  },
  {
   "cell_type": "code",
   "execution_count": 42,
   "id": "f377999d-2883-4afd-b0e3-047670fc88e9",
   "metadata": {},
   "outputs": [],
   "source": [
    "clf_lr = LogisticRegression(C=0.1).fit(df_stk, s_target)"
   ]
  },
  {
   "cell_type": "code",
   "execution_count": 43,
   "id": "bc504a1c-2a9b-4202-8834-9ecd48581d60",
   "metadata": {},
   "outputs": [
    {
     "data": {
      "text/plain": [
       "lgb_sfs_a2      0.373527\n",
       "lgb_sfs_a       0.314613\n",
       "lr_sfs3         0.295846\n",
       "knn70_sfs_f     0.275183\n",
       "xgb_sfs_a       0.271136\n",
       "lr_sfs2         0.258798\n",
       "knn70_sfs_f2    0.251917\n",
       "xgb_sfs_f       0.248518\n",
       "lgb_sfs         0.233409\n",
       "lgb_bfs         0.222004\n",
       "lgb_bfs_f       0.218033\n",
       "lr_sfs          0.216092\n",
       "lgb_sfs_f       0.215340\n",
       "lr_sfs_f        0.212659\n",
       "xgb_bfs_f       0.210295\n",
       "lr_sfs_a3       0.204883\n",
       "lgb_sfs2        0.204608\n",
       "lr_sfs_a2       0.193866\n",
       "xgb_sfs         0.191407\n",
       "lr_bfs          0.188418\n",
       "xgb_sfs2        0.179209\n",
       "lr_bfs_f        0.163221\n",
       "knn70_bfs_f     0.162781\n",
       "xgb_bfs         0.132673\n",
       "lsvc_sfs_f      0.130629\n",
       "lr_sfs_f2       0.129065\n",
       "lr_sfs_a        0.124218\n",
       "p2svc_bfs_f     0.098607\n",
       "p2svc_sfs_f     0.096970\n",
       "lr_bfs_a        0.088405\n",
       "lsvc_bfs_f      0.037879\n",
       "dtype: float64"
      ]
     },
     "execution_count": 43,
     "metadata": {},
     "output_type": "execute_result"
    }
   ],
   "source": [
    "s_coef = pd.Series(\n",
    "    clf_lr.coef_[0], index = df_stk.columns\n",
    ")\n",
    "s_coef.sort_values(ascending = False)"
   ]
  },
  {
   "cell_type": "code",
   "execution_count": 44,
   "id": "cb1b7cea-6523-4f3b-b6af-0e741321b713",
   "metadata": {},
   "outputs": [
    {
     "data": {
      "text/plain": [
       "0.9007845117845119"
      ]
     },
     "execution_count": 44,
     "metadata": {},
     "output_type": "execute_result"
    }
   ],
   "source": [
    "roc_auc_score(\n",
    "    s_target, df_stk[s_coef.loc[s_coef > 0].index.values].mean(axis=1)\n",
    ")"
   ]
  },
  {
   "cell_type": "code",
   "execution_count": 45,
   "id": "f98ab3d5-d3ee-4d98-836e-457c6cd6f57d",
   "metadata": {},
   "outputs": [
    {
     "data": {
      "text/plain": [
       "(0.9018911335578002, 0.012146510989015206)"
      ]
     },
     "execution_count": 45,
     "metadata": {},
     "output_type": "execute_result"
    }
   ],
   "source": [
    "cv_result = cross_validate(\n",
    "    LogisticRegression(C=0.1), df_stk[s_coef.loc[s_coef > 0].index.values], s_target, scoring = 'roc_auc', cv = skf\n",
    ")\n",
    "cv_result['test_score'].mean(), cv_result['test_score'].std()"
   ]
  },
  {
   "cell_type": "code",
   "execution_count": 46,
   "id": "09a4540a-b9e5-4c2c-a8a1-8cf75e25f96b",
   "metadata": {},
   "outputs": [
    {
     "data": {
      "text/plain": [
       "(0.9007744107744108, 0.012695899748597007)"
      ]
     },
     "execution_count": 46,
     "metadata": {},
     "output_type": "execute_result"
    }
   ],
   "source": [
    "cv_result = cross_validate(\n",
    "    LinearSVC(C=0.01, dual = 'auto'), df_stk, s_target, scoring = 'roc_auc', cv = skf\n",
    ")\n",
    "cv_result['test_score'].mean(), cv_result['test_score'].std()"
   ]
  },
  {
   "cell_type": "code",
   "execution_count": null,
   "id": "dd1a889b-ffde-4506-b007-85f2bf65c06d",
   "metadata": {},
   "outputs": [],
   "source": []
  }
 ],
 "metadata": {
  "kernelspec": {
   "display_name": "Python 3 (ipykernel)",
   "language": "python",
   "name": "python3"
  },
  "language_info": {
   "codemirror_mode": {
    "name": "ipython",
    "version": 3
   },
   "file_extension": ".py",
   "mimetype": "text/x-python",
   "name": "python",
   "nbconvert_exporter": "python",
   "pygments_lexer": "ipython3",
   "version": "3.12.6"
  }
 },
 "nbformat": 4,
 "nbformat_minor": 5
}
