{
 "cells": [
  {
   "cell_type": "code",
   "execution_count": 1,
   "id": "66e8b0e0-6a65-4acf-8e52-3f7987a9305c",
   "metadata": {},
   "outputs": [],
   "source": [
    "import os\n",
    "\n",
    "import pandas as pd\n",
    "import polars as pl\n",
    "import numpy as np\n",
    "import seaborn as sns\n",
    "import sgpp, sgml, sgutil\n",
    "import joblib\n",
    "\n",
    "from sklearn.pipeline import make_pipeline\n",
    "from sklearn.preprocessing import StandardScaler, MinMaxScaler\n",
    "\n",
    "sc = sgutil.SGCache('img', 'result', 'model')\n",
    "data_processor = joblib.load('model/data_processor2.joblib')\n",
    "data_processor_org = joblib.load('model/data_processor_org2.joblib')\n",
    "df_train = data_processor.transform(['data/train_lb.csv'])\n",
    "df_org = data_processor_org.transform(['data/Rainfall.csv'])\n",
    "target = 'rainfall'"
   ]
  },
  {
   "cell_type": "code",
   "execution_count": 2,
   "id": "b7eb9853-e313-444c-9f1a-2c4738bc7378",
   "metadata": {},
   "outputs": [],
   "source": [
    "df_train_org = pd.concat([df_train, df_org], axis = 0)"
   ]
  },
  {
   "cell_type": "code",
   "execution_count": 3,
   "id": "26a12db8-4b89-4334-8250-785dc3241e97",
   "metadata": {},
   "outputs": [],
   "source": [
    "X_sfs = ['pressure', 'temparature', 'dewpoint', 'humidity', 'cloud', 'sunshine', 'windspeed', \n",
    "         'sin_wd', 'cos_wd', 'year', 'chp', 'shp']\n",
    "for i in ['sunshine', 'cloud', 'chp', 'shp']:\n",
    "    for j in range(1, 4):\n",
    "        X_sfs.append('{}_{}'.format(i, j))\n",
    "for i in ['maxtemp', 'temparature', 'dewpoint', 'humidity', 'cloud', 'sunshine', 'windspeed', 'chp', 'shp']:\n",
    "    X_sfs.append('{}_ma24'.format(i))"
   ]
  },
  {
   "cell_type": "code",
   "execution_count": 4,
   "id": "047cb13b-6447-4071-af06-46e781dcb895",
   "metadata": {},
   "outputs": [],
   "source": [
    "import lightgbm as lgb\n",
    "import xgboost as xgb\n",
    "import catboost as cb\n",
    "from sklearn.metrics import roc_auc_score\n",
    "from sklearn.linear_model import LogisticRegression\n",
    "from sklearn.svm import SVC\n",
    "from sklearn.neighbors import KNeighborsClassifier\n",
    "from sklearn.model_selection import StratifiedKFold, StratifiedShuffleSplit\n",
    "from mlxtend.feature_selection import SequentialFeatureSelector\n",
    "\n",
    "def get_validation_splitter(validation_fraction):\n",
    "    return lambda x: train_test_split(x, test_size = validation_fraction)\n",
    "\n",
    "def include_org(df, include_org = False):\n",
    "    return pd.concat([df, df_org]) if include_org else df\n",
    "\n",
    "config = {\n",
    "    'predict_func': lambda m, df, X: pd.Series(m.predict_proba(df[X])[:, 1], index = df.index),\n",
    "    'score_func': lambda df, prds: roc_auc_score(df[target], prds),\n",
    "    'validation_splitter': get_validation_splitter,\n",
    "    'progress_callback': sgml.ProgressCallBack(), \n",
    "    'return_train_scores': True,\n",
    "    'train_data_proc': include_org,\n",
    "    'y': target,\n",
    "}\n",
    "\n",
    "lr_adapter = sgml.SklearnAdapter(LogisticRegression)\n",
    "svc_adapter = sgml.SklearnAdapter(SVC)\n",
    "knn_adapter = sgml.SklearnAdapter(KNeighborsClassifier)\n",
    "lgb_adapter = sgml.LGBMAdapter(lgb.LGBMClassifier)\n",
    "xgb_adapter = sgml.XGBAdapter(xgb.XGBClassifier)\n",
    "cb_adapter = sgml.CBAdapter(cb.CatBoostClassifier)\n",
    "\n",
    "skf = StratifiedKFold(5, random_state = 123, shuffle = True)\n",
    "ss = StratifiedShuffleSplit(1, random_state = 123)"
   ]
  },
  {
   "cell_type": "code",
   "execution_count": 5,
   "id": "bff7c1db-135c-46e7-a277-534b93bd617c",
   "metadata": {},
   "outputs": [],
   "source": [
    "wrappers = [\n",
    "    ('lr', LogisticRegression, lr_adapter, {}),\n",
    "    ('lgb', lgb.LGBMClassifier, lgb_adapter, {'num_leaves': 7, 'n_estimators': 100, 'colsample_bytree': 0.75, 'learning_rate': 0.03, 'verbose': 0}),\n",
    "    ('xgb', xgb.XGBClassifier, xgb_adapter, {'max_depth': 3, 'n_estimators': 100, 'colsample_bytree': 0.75, 'learning_rate': 0.04}),\n",
    "    ('knn', KNeighborsClassifier, knn_adapter, {'n_neighbors': 70}),\n",
    "    ('svc', SVC, svc_adapter, {'C': 0.1, 'probability': True, 'kernel': 'poly', 'degree': 2, 'coef0': 1})\n",
    "]\n",
    "forward = [\n",
    "    ('fwd', True), ('bwd', False)\n",
    "]\n",
    "inc_org = [\n",
    "    ('no', False),\n",
    "    ('yes', True)\n",
    "]"
   ]
  },
  {
   "cell_type": "code",
   "execution_count": null,
   "id": "8c148b86-09db-4e77-b74a-2449ed3ae666",
   "metadata": {},
   "outputs": [],
   "source": [
    "results = list()\n",
    "for m, wrapper, adapter, hparams in wrappers:\n",
    "    for f_name, f in forward:\n",
    "        for i_name, inc in inc_org:\n",
    "            model_name = 'dp2_{}_{}_{}'.format(m, f_name, i_name)\n",
    "            df = df_train_org if inc else df_train\n",
    "            sfs = sc.cache_result(\n",
    "                model_name,\n",
    "                lambda : SequentialFeatureSelector(\n",
    "                    wrapper(**hparams), 'best', forward = f, floating = True, cv = skf, scoring = 'roc_auc'\n",
    "                ).fit(df[X_sfs], df[target]), rerun = False\n",
    "            )\n",
    "            hparams_cv = {\n",
    "                'model_params': hparams, \n",
    "                'X_num': list(sfs.k_feature_names_),\n",
    "                'train_data_proc_param': {'include_org': inc}\n",
    "            }\n",
    "            valid_scores = sc.cv_result(model_name, df_train, skf, hparams_cv, config, adapter)\n",
    "            results.append(\n",
    "                (model_name, sfs.k_feature_names_, sfs.k_score_, np.mean(valid_scores), np.std(valid_scores))\n",
    "            )\n",
    "            print(results[-1])"
   ]
  },
  {
   "cell_type": "code",
   "execution_count": null,
   "id": "e7612b7a-ae6b-47d0-9320-bbff1f05f8ab",
   "metadata": {},
   "outputs": [],
   "source": []
  }
 ],
 "metadata": {
  "kernelspec": {
   "display_name": "Python 3 (ipykernel)",
   "language": "python",
   "name": "python3"
  },
  "language_info": {
   "codemirror_mode": {
    "name": "ipython",
    "version": 3
   },
   "file_extension": ".py",
   "mimetype": "text/x-python",
   "name": "python",
   "nbconvert_exporter": "python",
   "pygments_lexer": "ipython3",
   "version": "3.12.6"
  }
 },
 "nbformat": 4,
 "nbformat_minor": 5
}
