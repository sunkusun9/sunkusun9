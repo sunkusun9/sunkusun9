{
 "cells": [
  {
   "cell_type": "code",
   "execution_count": 1,
   "id": "66e8b0e0-6a65-4acf-8e52-3f7987a9305c",
   "metadata": {},
   "outputs": [],
   "source": [
    "import os\n",
    "\n",
    "import pandas as pd\n",
    "import polars as pl\n",
    "import numpy as np\n",
    "import seaborn as sns\n",
    "import sgpp, sgml, sgutil\n",
    "import joblib\n",
    "\n",
    "from sklearn.pipeline import make_pipeline\n",
    "from sklearn.preprocessing import StandardScaler, MinMaxScaler\n",
    "\n",
    "sc = sgutil.SGCache('img', 'result', 'model')\n",
    "data_processor = joblib.load('model/data_processor2.joblib')\n",
    "data_processor_org = joblib.load('model/data_processor_org2.joblib')\n",
    "df_train = data_processor.transform(['data/train_lb.csv'])\n",
    "df_org = data_processor_org.transform(['data/Rainfall.csv'])\n",
    "target = 'rainfall'"
   ]
  },
  {
   "cell_type": "code",
   "execution_count": 2,
   "id": "b7eb9853-e313-444c-9f1a-2c4738bc7378",
   "metadata": {},
   "outputs": [],
   "source": [
    "df_train_org = pd.concat([df_train, df_org], axis = 0)"
   ]
  },
  {
   "cell_type": "code",
   "execution_count": 3,
   "id": "26a12db8-4b89-4334-8250-785dc3241e97",
   "metadata": {},
   "outputs": [],
   "source": [
    "X_sfs = ['pressure', 'temparature', 'dewpoint', 'humidity', 'cloud', 'sunshine', 'windspeed', \n",
    "         'sin_wd', 'cos_wd', 'year', 'chp', 'shp']\n",
    "for i in ['sunshine', 'cloud', 'chp', 'shp']:\n",
    "    for j in range(1, 4):\n",
    "        X_sfs.append('{}_{}'.format(i, j))\n",
    "for i in ['maxtemp', 'temparature', 'dewpoint', 'humidity', 'cloud', 'sunshine', 'windspeed', 'chp', 'shp']:\n",
    "    X_sfs.append('{}_ma24'.format(i))"
   ]
  },
  {
   "cell_type": "code",
   "execution_count": 4,
   "id": "047cb13b-6447-4071-af06-46e781dcb895",
   "metadata": {},
   "outputs": [],
   "source": [
    "import lightgbm as lgb\n",
    "import xgboost as xgb\n",
    "import catboost as cb\n",
    "from sklearn.metrics import roc_auc_score\n",
    "from sklearn.linear_model import LogisticRegression\n",
    "from sklearn.svm import SVC\n",
    "from sklearn.neighbors import KNeighborsClassifier\n",
    "from sklearn.model_selection import StratifiedKFold, StratifiedShuffleSplit\n",
    "from mlxtend.feature_selection import SequentialFeatureSelector\n",
    "\n",
    "def get_validation_splitter(validation_fraction):\n",
    "    return lambda x: train_test_split(x, test_size = validation_fraction)\n",
    "\n",
    "def include_org(df, include_org = False):\n",
    "    return pd.concat([df, df_org]) if include_org else df\n",
    "\n",
    "config = {\n",
    "    'predict_func': lambda m, df, X: pd.Series(m.predict_proba(df[X])[:, 1], index = df.index),\n",
    "    'score_func': lambda df, prds: roc_auc_score(df[target], prds),\n",
    "    'validation_splitter': get_validation_splitter,\n",
    "    'progress_callback': sgml.ProgressCallBack(), \n",
    "    'return_train_scores': True,\n",
    "    'train_data_proc': include_org,\n",
    "    'y': target,\n",
    "}\n",
    "\n",
    "lr_adapter = sgml.SklearnAdapter(LogisticRegression)\n",
    "svc_adapter = sgml.SklearnAdapter(SVC)\n",
    "knn_adapter = sgml.SklearnAdapter(KNeighborsClassifier)\n",
    "lgb_adapter = sgml.LGBMAdapter(lgb.LGBMClassifier)\n",
    "xgb_adapter = sgml.XGBAdapter(xgb.XGBClassifier)\n",
    "cb_adapter = sgml.CBAdapter(cb.CatBoostClassifier)\n",
    "\n",
    "skf = StratifiedKFold(5, random_state = 123, shuffle = True)\n",
    "ss = StratifiedShuffleSplit(1, random_state = 123)"
   ]
  },
  {
   "cell_type": "code",
   "execution_count": 5,
   "id": "bff7c1db-135c-46e7-a277-534b93bd617c",
   "metadata": {},
   "outputs": [],
   "source": [
    "wrappers = [\n",
    "    ('lr', LogisticRegression, lr_adapter, {'solver': 'liblinear'}),\n",
    "    ('lgb', lgb.LGBMClassifier, lgb_adapter, {'num_leaves': 7, 'n_estimators': 100, 'colsample_bytree': 0.75, 'learning_rate': 0.03, 'verbose': 0}),\n",
    "    ('xgb', xgb.XGBClassifier, xgb_adapter, {'max_depth': 3, 'n_estimators': 100, 'colsample_bytree': 0.75, 'learning_rate': 0.04}),\n",
    "    ('knn', KNeighborsClassifier, knn_adapter, {'n_neighbors': 70}),\n",
    "    ('svc', SVC, svc_adapter, {'C': 0.1, 'probability': True, 'kernel': 'poly', 'degree': 2, 'coef0': 1})\n",
    "]\n",
    "forward = [\n",
    "    ('fwd', True), ('bwd', False)\n",
    "]\n",
    "inc_org = [\n",
    "    ('no', False),\n",
    "    ('yes', True)\n",
    "]"
   ]
  },
  {
   "cell_type": "code",
   "execution_count": 6,
   "id": "8c148b86-09db-4e77-b74a-2449ed3ae666",
   "metadata": {},
   "outputs": [
    {
     "name": "stdout",
     "output_type": "stream",
     "text": [
      "('dp2_lr_fwd_no', ('temparature', 'dewpoint', 'cloud', 'sunshine', 'windspeed', 'chp', 'sunshine_1', 'sunshine_2', 'sunshine_3', 'cloud_3', 'chp_3', 'shp_3', 'temparature_ma24', 'cloud_ma24', 'shp_ma24'), 0.8950583687072656, 0.8950583687072656, 0.006448044455650506)\n",
      "('dp2_lr_fwd_yes', ('pressure', 'temparature', 'dewpoint', 'humidity', 'cloud', 'windspeed', 'cos_wd', 'shp', 'chp_2', 'chp_3', 'shp_1', 'maxtemp_ma24', 'temparature_ma24', 'cloud_ma24', 'shp_ma24'), 0.8953128055554214, 0.8935524528185506, 0.007775189327468324)\n",
      "('dp2_lr_bwd_no', ('temparature', 'dewpoint', 'cloud', 'sunshine', 'windspeed', 'chp', 'sunshine_1', 'sunshine_2', 'cloud_3', 'chp_3', 'dewpoint_ma24', 'cloud_ma24', 'sunshine_ma24', 'shp_ma24'), 0.8954590156922162, 0.8954590156922162, 0.006433819913575707)\n",
      "('dp2_lr_bwd_yes', ('temparature', 'dewpoint', 'humidity', 'cloud', 'windspeed', 'shp', 'cloud_3', 'shp_1', 'temparature_ma24', 'dewpoint_ma24', 'cloud_ma24', 'shp_ma24'), 0.8948968610395, 0.8941136735399058, 0.006904006327540012)\n",
      "('dp2_lgb_fwd_no', ('pressure', 'temparature', 'dewpoint', 'humidity', 'cloud', 'sunshine', 'cos_wd', 'sunshine_2', 'cloud_1', 'temparature_ma24', 'cloud_ma24', 'sunshine_ma24', 'windspeed_ma24', 'chp_ma24'), 0.894520990644938, 0.892757732713133, 0.004506234053547059)\n",
      "('dp2_lgb_fwd_yes', ('humidity', 'cloud', 'sunshine', 'windspeed', 'sin_wd', 'cos_wd', 'chp', 'sunshine_2', 'chp_1', 'maxtemp_ma24', 'temparature_ma24', 'cloud_ma24', 'sunshine_ma24', 'chp_ma24', 'shp_ma24'), 0.8916997035536525, 0.8915978808691605, 0.0040270506371060805)\n",
      "('dp2_lgb_bwd_no', ('pressure', 'dewpoint', 'cloud', 'sunshine', 'chp', 'chp_1', 'cloud_ma24', 'chp_ma24'), 0.8942987439577512, 0.8930699119634511, 0.0065705981927050685)\n",
      "('dp2_lgb_bwd_yes', ('pressure', 'humidity', 'cloud', 'sin_wd', 'cos_wd', 'year', 'chp', 'shp', 'sunshine_1', 'cloud_2', 'shp_1', 'maxtemp_ma24', 'cloud_ma24', 'chp_ma24', 'shp_ma24'), 0.8914794084384422, 0.8914961956693623, 0.0036261909973359023)\n",
      "('dp2_xgb_fwd_no', ('pressure', 'dewpoint', 'cloud', 'sunshine', 'cos_wd', 'chp', 'cloud_1', 'cloud_3', 'chp_1', 'temparature_ma24', 'cloud_ma24', 'chp_ma24'), 0.8934998827744319, 0.8922817236106928, 0.006994381313036411)\n",
      "('dp2_xgb_fwd_yes', ('pressure', 'humidity', 'cloud', 'windspeed', 'sin_wd', 'cos_wd', 'year', 'shp', 'cloud_3', 'chp_1', 'temparature_ma24', 'cloud_ma24', 'sunshine_ma24', 'shp_ma24'), 0.8943102661969757, 0.89015546715592, 0.0063677292893131185)\n"
     ]
    },
    {
     "data": {
      "application/vnd.jupyter.widget-view+json": {
       "model_id": "6552160f91b349c9aa607d4f6d6a057b",
       "version_major": 2,
       "version_minor": 0
      },
      "text/plain": [
       "Fold:   0%|          | 0/5 [00:00<?, ?it/s]"
      ]
     },
     "metadata": {},
     "output_type": "display_data"
    },
    {
     "name": "stdout",
     "output_type": "stream",
     "text": [
      "('dp2_xgb_bwd_no', ('dewpoint', 'humidity', 'cloud', 'sunshine', 'cos_wd', 'year', 'chp', 'cloud_1', 'cloud_3', 'chp_1', 'shp_1', 'maxtemp_ma24', 'humidity_ma24'), 0.89444299340767, 0.8931039062731736, 0.006095772049457402)\n"
     ]
    },
    {
     "data": {
      "application/vnd.jupyter.widget-view+json": {
       "model_id": "2a5f157324624ccc9e1a28e16a0e68b1",
       "version_major": 2,
       "version_minor": 0
      },
      "text/plain": [
       "Fold:   0%|          | 0/5 [00:00<?, ?it/s]"
      ]
     },
     "metadata": {},
     "output_type": "display_data"
    },
    {
     "name": "stdout",
     "output_type": "stream",
     "text": [
      "('dp2_xgb_bwd_yes', ('pressure', 'temparature', 'humidity', 'cloud', 'sin_wd', 'cos_wd', 'year', 'chp', 'shp', 'sunshine_2', 'chp_2', 'maxtemp_ma24', 'cloud_ma24', 'chp_ma24', 'shp_ma24'), 0.8949212965273965, 0.8920217312237249, 0.005096930848130386)\n"
     ]
    },
    {
     "data": {
      "application/vnd.jupyter.widget-view+json": {
       "model_id": "245294c9b83c45b4b783d9771d0275d6",
       "version_major": 2,
       "version_minor": 0
      },
      "text/plain": [
       "Fold:   0%|          | 0/5 [00:00<?, ?it/s]"
      ]
     },
     "metadata": {},
     "output_type": "display_data"
    },
    {
     "name": "stdout",
     "output_type": "stream",
     "text": [
      "('dp2_knn_fwd_no', ('dewpoint', 'cos_wd', 'year', 'chp', 'shp', 'cloud_1', 'maxtemp_ma24', 'temparature_ma24', 'dewpoint_ma24', 'sunshine_ma24', 'chp_ma24'), 0.8917624541238943, 0.8917624541238943, 0.007379280513942331)\n"
     ]
    },
    {
     "data": {
      "application/vnd.jupyter.widget-view+json": {
       "model_id": "15950918469a4bf69b02c2a67fce86fa",
       "version_major": 2,
       "version_minor": 0
      },
      "text/plain": [
       "Fold:   0%|          | 0/5 [00:00<?, ?it/s]"
      ]
     },
     "metadata": {},
     "output_type": "display_data"
    },
    {
     "name": "stdout",
     "output_type": "stream",
     "text": [
      "('dp2_knn_fwd_yes', ('dewpoint', 'humidity', 'cloud', 'cos_wd', 'shp', 'maxtemp_ma24', 'temparature_ma24', 'dewpoint_ma24', 'cloud_ma24', 'sunshine_ma24', 'windspeed_ma24'), 0.8886649170445826, 0.8873120265673309, 0.005673901312227002)\n"
     ]
    },
    {
     "data": {
      "application/vnd.jupyter.widget-view+json": {
       "model_id": "de31bc3aa987476287d4ac2d00bffe5e",
       "version_major": 2,
       "version_minor": 0
      },
      "text/plain": [
       "Fold:   0%|          | 0/5 [00:00<?, ?it/s]"
      ]
     },
     "metadata": {},
     "output_type": "display_data"
    },
    {
     "name": "stdout",
     "output_type": "stream",
     "text": [
      "('dp2_knn_bwd_no', ('dewpoint', 'sunshine', 'year', 'chp'), 0.8920137065270921, 0.8920137065270921, 0.0054132938847248485)\n"
     ]
    },
    {
     "data": {
      "application/vnd.jupyter.widget-view+json": {
       "model_id": "a4aec843068a41ec8fb743d72c448c9b",
       "version_major": 2,
       "version_minor": 0
      },
      "text/plain": [
       "Fold:   0%|          | 0/5 [00:00<?, ?it/s]"
      ]
     },
     "metadata": {},
     "output_type": "display_data"
    },
    {
     "name": "stdout",
     "output_type": "stream",
     "text": [
      "('dp2_knn_bwd_yes', ('dewpoint', 'humidity', 'cloud', 'sunshine', 'cos_wd', 'maxtemp_ma24', 'temparature_ma24', 'dewpoint_ma24', 'cloud_ma24', 'sunshine_ma24', 'shp_ma24'), 0.8888580303073406, 0.888366198235851, 0.005165340147978148)\n"
     ]
    },
    {
     "data": {
      "application/vnd.jupyter.widget-view+json": {
       "model_id": "6da835ab5c2944be9d4bdb0f1d119f52",
       "version_major": 2,
       "version_minor": 0
      },
      "text/plain": [
       "Fold:   0%|          | 0/5 [00:00<?, ?it/s]"
      ]
     },
     "metadata": {},
     "output_type": "display_data"
    },
    {
     "name": "stdout",
     "output_type": "stream",
     "text": [
      "('dp2_svc_fwd_no', ('pressure', 'temparature', 'dewpoint', 'sunshine', 'windspeed', 'chp', 'sunshine_1', 'sunshine_3', 'cloud_2', 'cloud_3', 'chp_3', 'shp_1', 'shp_2', 'shp_3', 'maxtemp_ma24', 'temparature_ma24', 'dewpoint_ma24'), 0.8912819318125342, 0.8912819318125342, 0.007704754375711072)\n"
     ]
    },
    {
     "data": {
      "application/vnd.jupyter.widget-view+json": {
       "model_id": "5cc932f6dc4f4c6198a0ec0f7852c78a",
       "version_major": 2,
       "version_minor": 0
      },
      "text/plain": [
       "Fold:   0%|          | 0/5 [00:00<?, ?it/s]"
      ]
     },
     "metadata": {},
     "output_type": "display_data"
    },
    {
     "name": "stdout",
     "output_type": "stream",
     "text": [
      "('dp2_svc_fwd_yes', ('pressure', 'temparature', 'dewpoint', 'cloud', 'windspeed', 'chp', 'shp', 'sunshine_2', 'cloud_1', 'chp_1', 'chp_2', 'chp_3', 'shp_1', 'maxtemp_ma24', 'cloud_ma24', 'sunshine_ma24', 'windspeed_ma24', 'chp_ma24', 'shp_ma24'), 0.8937486749014664, 0.8911534823998604, 0.006126517923065173)\n"
     ]
    },
    {
     "data": {
      "application/vnd.jupyter.widget-view+json": {
       "model_id": "e13f436d8eb847968b3258fa36c037e6",
       "version_major": 2,
       "version_minor": 0
      },
      "text/plain": [
       "Fold:   0%|          | 0/5 [00:00<?, ?it/s]"
      ]
     },
     "metadata": {},
     "output_type": "display_data"
    },
    {
     "name": "stdout",
     "output_type": "stream",
     "text": [
      "('dp2_svc_bwd_no', ('pressure', 'temparature', 'dewpoint', 'sunshine', 'windspeed', 'sin_wd', 'chp', 'sunshine_2', 'shp_1', 'maxtemp_ma24', 'temparature_ma24', 'dewpoint_ma24', 'humidity_ma24', 'cloud_ma24', 'sunshine_ma24', 'shp_ma24'), 0.8923372553560839, 0.8923421960675464, 0.005885474690354851)\n"
     ]
    },
    {
     "data": {
      "application/vnd.jupyter.widget-view+json": {
       "model_id": "bd69e7e6b81f40c9b3bb3cf2c8f94522",
       "version_major": 2,
       "version_minor": 0
      },
      "text/plain": [
       "Fold:   0%|          | 0/5 [00:00<?, ?it/s]"
      ]
     },
     "metadata": {},
     "output_type": "display_data"
    },
    {
     "name": "stdout",
     "output_type": "stream",
     "text": [
      "('dp2_svc_bwd_yes', ('pressure', 'temparature', 'dewpoint', 'humidity', 'cloud', 'sunshine', 'windspeed', 'chp', 'sunshine_1', 'sunshine_2', 'cloud_1', 'chp_1', 'chp_2', 'chp_3', 'shp_1', 'maxtemp_ma24', 'temparature_ma24', 'dewpoint_ma24', 'cloud_ma24', 'sunshine_ma24', 'windspeed_ma24', 'chp_ma24', 'shp_ma24'), 0.893710288418375, 0.8905582585289826, 0.0061987199738983015)\n"
     ]
    }
   ],
   "source": [
    "results = list()\n",
    "for m, wrapper, adapter, hparams in wrappers:\n",
    "    for f_name, f in forward:\n",
    "        for i_name, inc in inc_org:\n",
    "            model_name = 'dp2_{}_{}_{}'.format(m, f_name, i_name)\n",
    "            df = df_train_org if inc else df_train\n",
    "            sfs = sc.cache_result(\n",
    "                model_name,\n",
    "                lambda : SequentialFeatureSelector(\n",
    "                    wrapper(**hparams), 'best', forward = f, floating = True, cv = skf, scoring = 'roc_auc'\n",
    "                ).fit(df[X_sfs], df[target]), rerun = False\n",
    "            )\n",
    "            hparams_cv = {\n",
    "                'model_params': hparams, \n",
    "                'X_num': list(sfs.k_feature_names_),\n",
    "                'train_data_proc_param': {'include_org': inc}\n",
    "            }\n",
    "            valid_scores = sc.cv_result(model_name, df_train, skf, hparams_cv, config, adapter)\n",
    "            results.append(\n",
    "                (model_name, sfs.k_feature_names_, sfs.k_score_, np.mean(valid_scores), np.std(valid_scores))\n",
    "            )\n",
    "            print(results[-1])"
   ]
  },
  {
   "cell_type": "code",
   "execution_count": 17,
   "id": "3b283894-c2df-41ce-ac25-75a567f6ed79",
   "metadata": {},
   "outputs": [],
   "source": [
    "df_fs_result = pd.DataFrame(\n",
    "    results, columns = ['model', 'features', 'k_score', 'm', 'std']\n",
    ").sort_values(\n",
    "    'm', ascending = False\n",
    ").pipe(\n",
    "    lambda x: x.join(\n",
    "        x.pop('model').str.split('_', expand = True)\n",
    "    )\n",
    ")"
   ]
  },
  {
   "cell_type": "code",
   "execution_count": 23,
   "id": "cdd860c8-a3c2-4ee3-b4ce-b011137998b0",
   "metadata": {},
   "outputs": [
    {
     "data": {
      "text/plain": [
       "features\n",
       "cloud               8\n",
       "cloud_ma24          7\n",
       "cos_wd              7\n",
       "pressure            6\n",
       "chp                 6\n",
       "chp_ma24            6\n",
       "humidity            6\n",
       "sunshine            5\n",
       "chp_1               5\n",
       "shp_ma24            4\n",
       "sin_wd              4\n",
       "temparature_ma24    4\n",
       "dewpoint            4\n",
       "maxtemp_ma24        4\n",
       "year                4\n",
       "Name: count, dtype: int64"
      ]
     },
     "execution_count": 23,
     "metadata": {},
     "output_type": "execute_result"
    }
   ],
   "source": [
    "gb_feat_cnt = df_fs_result.loc[\n",
    "    df_fs_result[1].isin(['xgb', 'lgb']), 'features'\n",
    "].explode().value_counts()\n",
    "X_gb = gb_feat_cnt.loc[gb_feat_cnt >= 4].index.tolist()\n",
    "gb_feat_cnt.loc[gb_feat_cnt >= 4]"
   ]
  },
  {
   "cell_type": "code",
   "execution_count": 42,
   "id": "846c0a0d-433b-4fbe-843d-2904b7e05db0",
   "metadata": {},
   "outputs": [
    {
     "data": {
      "application/vnd.jupyter.widget-view+json": {
       "model_id": "034d7b356659491a9c677ec121d969e3",
       "version_major": 2,
       "version_minor": 0
      },
      "text/plain": [
       "Fold:   0%|          | 0/5 [00:00<?, ?it/s]"
      ]
     },
     "metadata": {},
     "output_type": "display_data"
    },
    {
     "data": {
      "text/plain": [
       "0.8911669125113224"
      ]
     },
     "execution_count": 42,
     "metadata": {},
     "output_type": "execute_result"
    }
   ],
   "source": [
    "hparams = {\n",
    "    'model_params': {'max_depth': 4, 'n_estimators': 200, 'learning_rate': 0.04},\n",
    "    'X_num': X_gb\n",
    "}\n",
    "valid_scores = sc.cv_result(\n",
    "    'dp2_cb_fg4_no', df_train, skf, hparams, config, cb_adapter, rerun =False\n",
    ")\n",
    "np.mean(valid_scores)"
   ]
  },
  {
   "cell_type": "code",
   "execution_count": 71,
   "id": "853ace2d-cb6a-45e7-bf92-3ec72a8a3f49",
   "metadata": {},
   "outputs": [
    {
     "data": {
      "application/vnd.jupyter.widget-view+json": {
       "model_id": "58b05ea24ef646a9b4dcde77c6517d47",
       "version_major": 2,
       "version_minor": 0
      },
      "text/plain": [
       "Fold:   0%|          | 0/5 [00:00<?, ?it/s]"
      ]
     },
     "metadata": {},
     "output_type": "display_data"
    },
    {
     "data": {
      "text/plain": [
       "0.8931480685626662"
      ]
     },
     "execution_count": 71,
     "metadata": {},
     "output_type": "execute_result"
    }
   ],
   "source": [
    "hparams = {\n",
    "    'model_params': {'num_leaves': 3, 'n_estimators': 1000, 'colsample_bytree': 0.25, 'subsample': 0.25, 'subsample_freq': 1, 'learning_rate': 0.01},\n",
    "    'X_num': X_gb\n",
    "}\n",
    "valid_scores = sc.cv_result(\n",
    "    'dp2_lgb_fg4_no', df_train, skf, hparams, config, lgb_adapter, rerun = False\n",
    ")\n",
    "np.mean(valid_scores)"
   ]
  },
  {
   "cell_type": "code",
   "execution_count": 86,
   "id": "9d5f2532-54ec-4ed8-bdb1-8d2ee97162ea",
   "metadata": {},
   "outputs": [
    {
     "data": {
      "application/vnd.jupyter.widget-view+json": {
       "model_id": "633aedabba1a45e694b73585b4e5bd5c",
       "version_major": 2,
       "version_minor": 0
      },
      "text/plain": [
       "Fold:   0%|          | 0/5 [00:00<?, ?it/s]"
      ]
     },
     "metadata": {},
     "output_type": "display_data"
    },
    {
     "data": {
      "text/plain": [
       "0.8931438539425409"
      ]
     },
     "execution_count": 86,
     "metadata": {},
     "output_type": "execute_result"
    }
   ],
   "source": [
    "hparams = {\n",
    "    'model_params': {'max_depth': 3, 'n_estimators': 1000, 'colsample_bytree': 0.25, 'subsample': 0.25, 'learning_rate': 0.01},\n",
    "    'X_num': X_gb\n",
    "}\n",
    "valid_scores = sc.cv_result(\n",
    "    'dp2_xgb_fg4_no', df_train, skf, hparams, config, xgb_adapter, rerun =True\n",
    ")\n",
    "np.mean(valid_scores)"
   ]
  },
  {
   "cell_type": "code",
   "execution_count": null,
   "id": "449d7571-dcd7-4553-b6a7-65093811f170",
   "metadata": {},
   "outputs": [],
   "source": []
  }
 ],
 "metadata": {
  "kernelspec": {
   "display_name": "Python 3 (ipykernel)",
   "language": "python",
   "name": "python3"
  },
  "language_info": {
   "codemirror_mode": {
    "name": "ipython",
    "version": 3
   },
   "file_extension": ".py",
   "mimetype": "text/x-python",
   "name": "python",
   "nbconvert_exporter": "python",
   "pygments_lexer": "ipython3",
   "version": "3.12.9"
  }
 },
 "nbformat": 4,
 "nbformat_minor": 5
}
