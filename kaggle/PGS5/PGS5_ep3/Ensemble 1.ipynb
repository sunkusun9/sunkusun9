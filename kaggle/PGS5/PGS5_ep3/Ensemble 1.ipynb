{
 "cells": [
  {
   "cell_type": "code",
   "execution_count": 28,
   "id": "94507e5a-902e-4465-ba97-29ef2ae5ad7d",
   "metadata": {},
   "outputs": [],
   "source": [
    "import pandas as pd\n",
    "import numpy as np\n",
    "import sgml, sgutil\n",
    "import joblib\n",
    "\n",
    "import seaborn as sns\n",
    "import matplotlib.pyplot as plt"
   ]
  },
  {
   "cell_type": "code",
   "execution_count": 2,
   "id": "79ad4469-b01a-4c7d-8f46-e7946484abf6",
   "metadata": {},
   "outputs": [],
   "source": [
    "sc = sgutil.SGCache('img', 'result', 'model')\n",
    "data_processor = joblib.load('model/data_processor.joblib')"
   ]
  },
  {
   "cell_type": "code",
   "execution_count": 3,
   "id": "6e3d632d-15d4-441c-bd1d-09cf5af8d453",
   "metadata": {},
   "outputs": [],
   "source": [
    "from sklearn.metrics import roc_auc_score\n",
    "from sklearn.linear_model import LogisticRegression\n",
    "from sklearn.svm import LinearSVC, SVC\n",
    "from sklearn.model_selection import train_test_split, StratifiedKFold, StratifiedShuffleSplit\n",
    "\n",
    "def get_validation_splitter(validation_fraction):\n",
    "    return lambda x: train_test_split(x, test_size = validation_fraction)\n",
    "\n",
    "target = 'rainfall'\n",
    "s_target = sc.read_result('target')\n",
    "config = {\n",
    "    'predict_func': lambda m, df, X: pd.Series(m.predict_proba(df[X])[:, 1], index = df.index),\n",
    "    'score_func': lambda df, prds: roc_auc_score(df[target], prds),\n",
    "    'validation_splitter': get_validation_splitter,\n",
    "    'progress_callback': sgml.ProgressCallBack(), \n",
    "    'return_train_scores': True,\n",
    "    'y': target,\n",
    "}\n",
    "\n",
    "lr_adapter = sgml.SklearnAdapter(LogisticRegression)\n",
    "svc_adapter = sgml.SklearnAdapter(SVC)\n",
    "\n",
    "skf = StratifiedKFold(5, random_state = 123, shuffle = True)\n",
    "ss = StratifiedShuffleSplit(1, random_state = 123)"
   ]
  },
  {
   "cell_type": "code",
   "execution_count": 4,
   "id": "1d636d1d-cfa6-4727-a199-d0830936f48f",
   "metadata": {},
   "outputs": [
    {
     "data": {
      "text/html": [
       "<div>\n",
       "<style scoped>\n",
       "    .dataframe tbody tr th:only-of-type {\n",
       "        vertical-align: middle;\n",
       "    }\n",
       "\n",
       "    .dataframe tbody tr th {\n",
       "        vertical-align: top;\n",
       "    }\n",
       "\n",
       "    .dataframe thead th {\n",
       "        text-align: right;\n",
       "    }\n",
       "</style>\n",
       "<table border=\"1\" class=\"dataframe\">\n",
       "  <thead>\n",
       "    <tr style=\"text-align: right;\">\n",
       "      <th></th>\n",
       "      <th>knn70_bfs_f</th>\n",
       "      <th>knn70_sfs_f</th>\n",
       "      <th>knn70_sfs_f2</th>\n",
       "      <th>lgb2_bfs</th>\n",
       "      <th>lgb2_sfs</th>\n",
       "      <th>lgb_bfs</th>\n",
       "      <th>lgb_bfs_f</th>\n",
       "      <th>lgb_sfs</th>\n",
       "      <th>lgb_sfs2</th>\n",
       "      <th>lgb_sfs_a</th>\n",
       "      <th>...</th>\n",
       "      <th>lsvc_sfs_f</th>\n",
       "      <th>p2svc_bfs_f</th>\n",
       "      <th>p2svc_sfs_f</th>\n",
       "      <th>xgb2_sfs</th>\n",
       "      <th>xgb_bfs</th>\n",
       "      <th>xgb_bfs_f</th>\n",
       "      <th>xgb_sfs</th>\n",
       "      <th>xgb_sfs2</th>\n",
       "      <th>xgb_sfs_a</th>\n",
       "      <th>xgb_sfs_f</th>\n",
       "    </tr>\n",
       "    <tr>\n",
       "      <th>id</th>\n",
       "      <th></th>\n",
       "      <th></th>\n",
       "      <th></th>\n",
       "      <th></th>\n",
       "      <th></th>\n",
       "      <th></th>\n",
       "      <th></th>\n",
       "      <th></th>\n",
       "      <th></th>\n",
       "      <th></th>\n",
       "      <th></th>\n",
       "      <th></th>\n",
       "      <th></th>\n",
       "      <th></th>\n",
       "      <th></th>\n",
       "      <th></th>\n",
       "      <th></th>\n",
       "      <th></th>\n",
       "      <th></th>\n",
       "      <th></th>\n",
       "      <th></th>\n",
       "    </tr>\n",
       "  </thead>\n",
       "  <tbody>\n",
       "    <tr>\n",
       "      <th>0</th>\n",
       "      <td>0.942857</td>\n",
       "      <td>0.942857</td>\n",
       "      <td>0.957143</td>\n",
       "      <td>0.974977</td>\n",
       "      <td>0.973798</td>\n",
       "      <td>0.961417</td>\n",
       "      <td>0.963167</td>\n",
       "      <td>0.961687</td>\n",
       "      <td>0.960689</td>\n",
       "      <td>0.956218</td>\n",
       "      <td>...</td>\n",
       "      <td>0.953288</td>\n",
       "      <td>0.937191</td>\n",
       "      <td>0.938471</td>\n",
       "      <td>0.964370</td>\n",
       "      <td>0.963953</td>\n",
       "      <td>0.955173</td>\n",
       "      <td>0.961235</td>\n",
       "      <td>0.963688</td>\n",
       "      <td>0.970289</td>\n",
       "      <td>0.961985</td>\n",
       "    </tr>\n",
       "    <tr>\n",
       "      <th>1</th>\n",
       "      <td>0.985714</td>\n",
       "      <td>0.971429</td>\n",
       "      <td>1.000000</td>\n",
       "      <td>0.974478</td>\n",
       "      <td>0.970909</td>\n",
       "      <td>0.957803</td>\n",
       "      <td>0.958344</td>\n",
       "      <td>0.957796</td>\n",
       "      <td>0.957746</td>\n",
       "      <td>0.958206</td>\n",
       "      <td>...</td>\n",
       "      <td>0.980180</td>\n",
       "      <td>0.959864</td>\n",
       "      <td>0.960714</td>\n",
       "      <td>0.964913</td>\n",
       "      <td>0.969485</td>\n",
       "      <td>0.963900</td>\n",
       "      <td>0.960262</td>\n",
       "      <td>0.961113</td>\n",
       "      <td>0.976316</td>\n",
       "      <td>0.967845</td>\n",
       "    </tr>\n",
       "    <tr>\n",
       "      <th>2</th>\n",
       "      <td>0.314286</td>\n",
       "      <td>0.128571</td>\n",
       "      <td>0.185714</td>\n",
       "      <td>0.334941</td>\n",
       "      <td>0.340818</td>\n",
       "      <td>0.287065</td>\n",
       "      <td>0.197811</td>\n",
       "      <td>0.379307</td>\n",
       "      <td>0.305180</td>\n",
       "      <td>0.220279</td>\n",
       "      <td>...</td>\n",
       "      <td>0.122947</td>\n",
       "      <td>0.116077</td>\n",
       "      <td>0.115836</td>\n",
       "      <td>0.347704</td>\n",
       "      <td>0.273288</td>\n",
       "      <td>0.289338</td>\n",
       "      <td>0.273836</td>\n",
       "      <td>0.267013</td>\n",
       "      <td>0.180858</td>\n",
       "      <td>0.252246</td>\n",
       "    </tr>\n",
       "    <tr>\n",
       "      <th>3</th>\n",
       "      <td>0.985714</td>\n",
       "      <td>0.957143</td>\n",
       "      <td>0.985714</td>\n",
       "      <td>0.977193</td>\n",
       "      <td>0.975646</td>\n",
       "      <td>0.952438</td>\n",
       "      <td>0.958344</td>\n",
       "      <td>0.956876</td>\n",
       "      <td>0.955035</td>\n",
       "      <td>0.958135</td>\n",
       "      <td>...</td>\n",
       "      <td>0.981545</td>\n",
       "      <td>0.961186</td>\n",
       "      <td>0.962021</td>\n",
       "      <td>0.966300</td>\n",
       "      <td>0.967861</td>\n",
       "      <td>0.967488</td>\n",
       "      <td>0.954288</td>\n",
       "      <td>0.959300</td>\n",
       "      <td>0.975920</td>\n",
       "      <td>0.968815</td>\n",
       "    </tr>\n",
       "    <tr>\n",
       "      <th>4</th>\n",
       "      <td>0.314286</td>\n",
       "      <td>0.157143</td>\n",
       "      <td>0.285714</td>\n",
       "      <td>0.075772</td>\n",
       "      <td>0.066668</td>\n",
       "      <td>0.110976</td>\n",
       "      <td>0.113101</td>\n",
       "      <td>0.113991</td>\n",
       "      <td>0.106087</td>\n",
       "      <td>0.152921</td>\n",
       "      <td>...</td>\n",
       "      <td>0.131292</td>\n",
       "      <td>0.141290</td>\n",
       "      <td>0.141041</td>\n",
       "      <td>0.096430</td>\n",
       "      <td>0.066765</td>\n",
       "      <td>0.070751</td>\n",
       "      <td>0.079994</td>\n",
       "      <td>0.072386</td>\n",
       "      <td>0.218235</td>\n",
       "      <td>0.063515</td>\n",
       "    </tr>\n",
       "  </tbody>\n",
       "</table>\n",
       "<p>5 rows × 34 columns</p>\n",
       "</div>"
      ],
      "text/plain": [
       "    knn70_bfs_f  knn70_sfs_f  knn70_sfs_f2  lgb2_bfs  lgb2_sfs   lgb_bfs  \\\n",
       "id                                                                         \n",
       "0      0.942857     0.942857      0.957143  0.974977  0.973798  0.961417   \n",
       "1      0.985714     0.971429      1.000000  0.974478  0.970909  0.957803   \n",
       "2      0.314286     0.128571      0.185714  0.334941  0.340818  0.287065   \n",
       "3      0.985714     0.957143      0.985714  0.977193  0.975646  0.952438   \n",
       "4      0.314286     0.157143      0.285714  0.075772  0.066668  0.110976   \n",
       "\n",
       "    lgb_bfs_f   lgb_sfs  lgb_sfs2  lgb_sfs_a  ...  lsvc_sfs_f  p2svc_bfs_f  \\\n",
       "id                                            ...                            \n",
       "0    0.963167  0.961687  0.960689   0.956218  ...    0.953288     0.937191   \n",
       "1    0.958344  0.957796  0.957746   0.958206  ...    0.980180     0.959864   \n",
       "2    0.197811  0.379307  0.305180   0.220279  ...    0.122947     0.116077   \n",
       "3    0.958344  0.956876  0.955035   0.958135  ...    0.981545     0.961186   \n",
       "4    0.113101  0.113991  0.106087   0.152921  ...    0.131292     0.141290   \n",
       "\n",
       "    p2svc_sfs_f  xgb2_sfs   xgb_bfs  xgb_bfs_f   xgb_sfs  xgb_sfs2  xgb_sfs_a  \\\n",
       "id                                                                              \n",
       "0      0.938471  0.964370  0.963953   0.955173  0.961235  0.963688   0.970289   \n",
       "1      0.960714  0.964913  0.969485   0.963900  0.960262  0.961113   0.976316   \n",
       "2      0.115836  0.347704  0.273288   0.289338  0.273836  0.267013   0.180858   \n",
       "3      0.962021  0.966300  0.967861   0.967488  0.954288  0.959300   0.975920   \n",
       "4      0.141041  0.096430  0.066765   0.070751  0.079994  0.072386   0.218235   \n",
       "\n",
       "    xgb_sfs_f  \n",
       "id             \n",
       "0    0.961985  \n",
       "1    0.967845  \n",
       "2    0.252246  \n",
       "3    0.968815  \n",
       "4    0.063515  \n",
       "\n",
       "[5 rows x 34 columns]"
      ]
     },
     "execution_count": 4,
     "metadata": {},
     "output_type": "execute_result"
    }
   ],
   "source": [
    "df_stk = sc.read_prds(sc.get_cv_list(), s_target.index)\n",
    "df_stk.head()"
   ]
  },
  {
   "cell_type": "code",
   "execution_count": 5,
   "id": "8c600b4e-5a36-489a-97be-835f8dd124da",
   "metadata": {},
   "outputs": [
    {
     "data": {
      "text/plain": [
       "p2svc_sfs_f     0.899900\n",
       "p2svc_bfs_f     0.899774\n",
       "lr_sfs_f        0.898687\n",
       "lsvc_bfs_f      0.898386\n",
       "lr_sfs3         0.898169\n",
       "lr_sfs2         0.898044\n",
       "xgb_bfs_f       0.897747\n",
       "lsvc_sfs_f      0.897714\n",
       "knn70_bfs_f     0.897017\n",
       "lr_sfs          0.896853\n",
       "lgb2_bfs        0.896796\n",
       "lr_sfs_a3       0.896734\n",
       "lgb2_sfs        0.896718\n",
       "lr_bfs          0.896706\n",
       "xgb_sfs_f       0.896549\n",
       "knn70_sfs_f     0.896539\n",
       "lr_sfs_a2       0.896047\n",
       "lgb_bfs_f       0.895994\n",
       "xgb2_sfs        0.895639\n",
       "xgb_sfs2        0.895558\n",
       "lr_sfs_f2       0.895504\n",
       "lr_bfs_f        0.895328\n",
       "xgb_sfs         0.894973\n",
       "lgb_sfs         0.894939\n",
       "lgb_sfs_f       0.894705\n",
       "lr_sfs_a        0.894342\n",
       "lgb_sfs2        0.894047\n",
       "xgb_bfs         0.893626\n",
       "lr_bfs_a        0.892708\n",
       "lgb_bfs         0.892308\n",
       "xgb_sfs_a       0.891333\n",
       "lgb_sfs_a2      0.891235\n",
       "lgb_sfs_a       0.891017\n",
       "knn70_sfs_f2    0.890999\n",
       "dtype: float64"
      ]
     },
     "execution_count": 5,
     "metadata": {},
     "output_type": "execute_result"
    }
   ],
   "source": [
    "df_stk.apply(\n",
    "    lambda x: roc_auc_score(s_target, x)\n",
    ").sort_values(ascending = False)"
   ]
  },
  {
   "cell_type": "code",
   "execution_count": 6,
   "id": "16f94e26-2bcc-4c7a-980c-e9f58404a0e4",
   "metadata": {},
   "outputs": [
    {
     "data": {
      "text/plain": [
       "0.9010145903479236"
      ]
     },
     "execution_count": 6,
     "metadata": {},
     "output_type": "execute_result"
    }
   ],
   "source": [
    "roc_auc_score(\n",
    "    s_target, df_stk[[i for i in df_stk.columns if i not in ['xgb2_sfs']]].mean(axis=1)\n",
    ")"
   ]
  },
  {
   "cell_type": "code",
   "execution_count": 7,
   "id": "3a4ffb59-b8be-48cb-a1f4-efbeb88f337b",
   "metadata": {},
   "outputs": [
    {
     "data": {
      "application/vnd.jupyter.widget-view+json": {
       "model_id": "53f9705bcdb646f9a1d015789b1f9a1c",
       "version_major": 2,
       "version_minor": 0
      },
      "text/plain": [
       "Fold:   0%|          | 0/5 [00:00<?, ?it/s]"
      ]
     },
     "metadata": {},
     "output_type": "display_data"
    },
    {
     "data": {
      "text/plain": [
       "(0.9019472502805836, 0.012426092566867313)"
      ]
     },
     "execution_count": 7,
     "metadata": {},
     "output_type": "execute_result"
    }
   ],
   "source": [
    "hparams = {\n",
    "    'model_params': {'C': 0.1},\n",
    "    'X_num': df_stk.columns.tolist()\n",
    "}\n",
    "result = sgml.cv(df_stk.assign(rainfall = s_target), skf, hparams, config, lr_adapter, result_proc = [sgml.lr_learning_result])\n",
    "np.mean(result['valid_scores']), np.std(result['valid_scores'])"
   ]
  },
  {
   "cell_type": "code",
   "execution_count": 8,
   "id": "f377999d-2883-4afd-b0e3-047670fc88e9",
   "metadata": {},
   "outputs": [
    {
     "data": {
      "text/html": [
       "<div>\n",
       "<style scoped>\n",
       "    .dataframe tbody tr th:only-of-type {\n",
       "        vertical-align: middle;\n",
       "    }\n",
       "\n",
       "    .dataframe tbody tr th {\n",
       "        vertical-align: top;\n",
       "    }\n",
       "\n",
       "    .dataframe thead th {\n",
       "        text-align: right;\n",
       "    }\n",
       "</style>\n",
       "<table border=\"1\" class=\"dataframe\">\n",
       "  <thead>\n",
       "    <tr style=\"text-align: right;\">\n",
       "      <th></th>\n",
       "      <th>mean</th>\n",
       "      <th>std</th>\n",
       "      <th>CV</th>\n",
       "    </tr>\n",
       "  </thead>\n",
       "  <tbody>\n",
       "    <tr>\n",
       "      <th>lsvc_bfs_f</th>\n",
       "      <td>0.046660</td>\n",
       "      <td>0.044418</td>\n",
       "      <td>0.951958</td>\n",
       "    </tr>\n",
       "    <tr>\n",
       "      <th>p2svc_bfs_f</th>\n",
       "      <td>0.097073</td>\n",
       "      <td>0.046657</td>\n",
       "      <td>0.480632</td>\n",
       "    </tr>\n",
       "    <tr>\n",
       "      <th>p2svc_sfs_f</th>\n",
       "      <td>0.100620</td>\n",
       "      <td>0.045470</td>\n",
       "      <td>0.451896</td>\n",
       "    </tr>\n",
       "    <tr>\n",
       "      <th>knn70_bfs_f</th>\n",
       "      <td>0.138438</td>\n",
       "      <td>0.039124</td>\n",
       "      <td>0.282613</td>\n",
       "    </tr>\n",
       "    <tr>\n",
       "      <th>xgb_bfs</th>\n",
       "      <td>0.123726</td>\n",
       "      <td>0.026737</td>\n",
       "      <td>0.216098</td>\n",
       "    </tr>\n",
       "    <tr>\n",
       "      <th>lr_bfs_a</th>\n",
       "      <td>0.092126</td>\n",
       "      <td>0.018626</td>\n",
       "      <td>0.202183</td>\n",
       "    </tr>\n",
       "    <tr>\n",
       "      <th>knn70_sfs_f2</th>\n",
       "      <td>0.213367</td>\n",
       "      <td>0.040650</td>\n",
       "      <td>0.190516</td>\n",
       "    </tr>\n",
       "    <tr>\n",
       "      <th>lr_sfs3</th>\n",
       "      <td>0.258689</td>\n",
       "      <td>0.045506</td>\n",
       "      <td>0.175911</td>\n",
       "    </tr>\n",
       "    <tr>\n",
       "      <th>lr_sfs_a</th>\n",
       "      <td>0.120263</td>\n",
       "      <td>0.021106</td>\n",
       "      <td>0.175501</td>\n",
       "    </tr>\n",
       "    <tr>\n",
       "      <th>lr_bfs_f</th>\n",
       "      <td>0.156056</td>\n",
       "      <td>0.025926</td>\n",
       "      <td>0.166132</td>\n",
       "    </tr>\n",
       "  </tbody>\n",
       "</table>\n",
       "</div>"
      ],
      "text/plain": [
       "                  mean       std        CV\n",
       "lsvc_bfs_f    0.046660  0.044418  0.951958\n",
       "p2svc_bfs_f   0.097073  0.046657  0.480632\n",
       "p2svc_sfs_f   0.100620  0.045470  0.451896\n",
       "knn70_bfs_f   0.138438  0.039124  0.282613\n",
       "xgb_bfs       0.123726  0.026737  0.216098\n",
       "lr_bfs_a      0.092126  0.018626  0.202183\n",
       "knn70_sfs_f2  0.213367  0.040650  0.190516\n",
       "lr_sfs3       0.258689  0.045506  0.175911\n",
       "lr_sfs_a      0.120263  0.021106  0.175501\n",
       "lr_bfs_f      0.156056  0.025926  0.166132"
      ]
     },
     "execution_count": 8,
     "metadata": {},
     "output_type": "execute_result"
    }
   ],
   "source": [
    "df_coef = pd.concat([i['coef'] for i in result['model_result']], axis=1).agg(['mean', 'std'], axis = 1).assign(\n",
    "    CV = lambda x: x['std'] / x['mean'].abs()\n",
    ").sort_values('CV', ascending = False)\n",
    "df_coef.iloc[:10]"
   ]
  },
  {
   "cell_type": "code",
   "execution_count": 9,
   "id": "bc504a1c-2a9b-4202-8834-9ecd48581d60",
   "metadata": {},
   "outputs": [
    {
     "data": {
      "application/vnd.jupyter.widget-view+json": {
       "model_id": "5a416c27c56045ef82145e00894dea54",
       "version_major": 2,
       "version_minor": 0
      },
      "text/plain": [
       "Fold:   0%|          | 0/5 [00:00<?, ?it/s]"
      ]
     },
     "metadata": {},
     "output_type": "display_data"
    },
    {
     "data": {
      "text/plain": [
       "(0.9020594837261504, 0.012224427528991378)"
      ]
     },
     "execution_count": 9,
     "metadata": {},
     "output_type": "execute_result"
    }
   ],
   "source": [
    "hparams = {\n",
    "    'model_params': {'C': 0.1},\n",
    "    'X_num': df_coef.iloc[3:].index.tolist()\n",
    "}\n",
    "result = sgml.cv(df_stk.assign(rainfall = s_target), skf, hparams, config, lr_adapter, result_proc = [sgml.lr_learning_result])\n",
    "np.mean(result['valid_scores']), np.std(result['valid_scores'])"
   ]
  },
  {
   "cell_type": "code",
   "execution_count": 10,
   "id": "ca441490-2259-4f20-8177-d274f717c030",
   "metadata": {},
   "outputs": [],
   "source": [
    "s_stk_lr = result['valid_prd'].rename('stk_lr')"
   ]
  },
  {
   "cell_type": "code",
   "execution_count": 11,
   "id": "cb1b7cea-6523-4f3b-b6af-0e741321b713",
   "metadata": {},
   "outputs": [
    {
     "data": {
      "text/plain": [
       "0.9009921436588104"
      ]
     },
     "execution_count": 11,
     "metadata": {},
     "output_type": "execute_result"
    }
   ],
   "source": [
    "roc_auc_score(\n",
    "    s_target, df_stk[ df_coef.iloc[1:].index.tolist()].mean(axis=1)\n",
    ")"
   ]
  },
  {
   "cell_type": "code",
   "execution_count": 12,
   "id": "09a4540a-b9e5-4c2c-a8a1-8cf75e25f96b",
   "metadata": {},
   "outputs": [
    {
     "data": {
      "application/vnd.jupyter.widget-view+json": {
       "model_id": "2e08ede4c5a049648dfe69dec35d4128",
       "version_major": 2,
       "version_minor": 0
      },
      "text/plain": [
       "Fold:   0%|          | 0/5 [00:00<?, ?it/s]"
      ]
     },
     "metadata": {},
     "output_type": "display_data"
    },
    {
     "data": {
      "text/plain": [
       "(0.9020482603815937, 0.011932188906025045)"
      ]
     },
     "execution_count": 12,
     "metadata": {},
     "output_type": "execute_result"
    }
   ],
   "source": [
    "hparams = {\n",
    "    'model_params': {'C': 0.01, 'probability': True, 'kernel': 'linear'},\n",
    "    'X_num': df_stk.columns.tolist()\n",
    "}\n",
    "result = sgml.cv(df_stk.assign(rainfall = s_target), skf, hparams, config, svc_adapter)\n",
    "np.mean(result['valid_scores']), np.std(result['valid_scores'])"
   ]
  },
  {
   "cell_type": "code",
   "execution_count": 13,
   "id": "dd1a889b-ffde-4506-b007-85f2bf65c06d",
   "metadata": {},
   "outputs": [],
   "source": [
    "s_stk_svc = result['valid_prd'].rename('stk_svc')"
   ]
  },
  {
   "cell_type": "code",
   "execution_count": 26,
   "id": "11fa27a5-a20b-4134-a368-63ade5349183",
   "metadata": {},
   "outputs": [
    {
     "data": {
      "text/plain": [
       "0.9005858585858585"
      ]
     },
     "execution_count": 26,
     "metadata": {},
     "output_type": "execute_result"
    }
   ],
   "source": [
    "s_avg = pd.concat([s_stk_lr, s_stk_svc, df_stk.mean(axis=1)], axis=1).mean(axis=1)\n",
    "roc_auc_score(\n",
    "    s_target, s_avg\n",
    ")"
   ]
  },
  {
   "cell_type": "code",
   "execution_count": 33,
   "id": "8afd967d-c750-4da4-9d92-cd3769c240a6",
   "metadata": {},
   "outputs": [
    {
     "data": {
      "text/plain": [
       "id\n",
       "0       0.946956\n",
       "1       0.954458\n",
       "2       0.152210\n",
       "3       0.954709\n",
       "4       0.100463\n",
       "          ...   \n",
       "2185    0.953396\n",
       "2186    0.954695\n",
       "2187    0.801946\n",
       "2188    0.951806\n",
       "2189    0.954069\n",
       "Length: 2190, dtype: float64"
      ]
     },
     "execution_count": 33,
     "metadata": {},
     "output_type": "execute_result"
    }
   ],
   "source": [
    "sc.cache_result(\n",
    "    'e_prd', lambda : s_avg\n",
    ")"
   ]
  },
  {
   "cell_type": "code",
   "execution_count": 16,
   "id": "c545cfff-9abb-4d10-beba-09dd2e4dfb6c",
   "metadata": {},
   "outputs": [],
   "source": [
    "predictors = {\n",
    "    i: sc.get_predictor_cv(i, config) for i in sc.get_cv_list()\n",
    "}\n",
    "\n",
    "df_test = data_processor.transform(['data/test.csv'])\n",
    "df_stk_test = pd.concat([\n",
    "    v(df_test).rename(k) for k, v in predictors.items()\n",
    "], axis=1)"
   ]
  },
  {
   "cell_type": "markdown",
   "id": "294f92d1-127e-49e7-be3b-fa3c7ca7cd8d",
   "metadata": {},
   "source": [
    "# Submision 1"
   ]
  },
  {
   "cell_type": "code",
   "execution_count": 14,
   "id": "ed0caf20-ad6a-4f26-b277-84bc3b444624",
   "metadata": {},
   "outputs": [],
   "source": [
    "hparams = {\n",
    "    'model_params': {'C': 0.1},\n",
    "    'X_num': df_coef.iloc[3:].index.tolist()\n",
    "}\n",
    "objs, spec = sgml.train(df_stk.assign(rainfall=s_target), hparams, config, lr_adapter)\n",
    "lr_stk = sgml.assemble_predictor(objs['model'], objs.get('preprocessor'), spec, config)\n",
    "lr_stk(df_stk_test).rename(target).to_csv('result/submission1.csv')"
   ]
  },
  {
   "cell_type": "code",
   "execution_count": 42,
   "id": "3b76cf5e-a1d9-4d8f-9bff-72cc8db0d35f",
   "metadata": {},
   "outputs": [
    {
     "name": "stdout",
     "output_type": "stream",
     "text": [
      "Warning: Looks like you're using an outdated API Version, please consider updating (server 1.6.17 / client 1.6.12)\n",
      "100%|██████████████████████████████████████| 17.1k/17.1k [00:01<00:00, 15.9kB/s]\n",
      "Successfully submitted to Binary Prediction with a Rainfall Dataset"
     ]
    }
   ],
   "source": [
    "# 0.84258\n",
    "# !kaggle competitions submit -c playground-series-s5e3 -f result/submission1.csv -m \"1\""
   ]
  },
  {
   "cell_type": "markdown",
   "id": "b6016f2c-269e-49e6-bb4b-d79f7def9d72",
   "metadata": {},
   "source": [
    "# Submission 2"
   ]
  },
  {
   "cell_type": "code",
   "execution_count": 15,
   "id": "f29ef921-b4d7-4107-a506-1cf15a2e6f73",
   "metadata": {},
   "outputs": [],
   "source": [
    "hparams = {\n",
    "    'model_params': {'C': 0.01, 'probability': True, 'kernel': 'linear'},\n",
    "    'X_num': df_stk.columns.tolist()\n",
    "}\n",
    "objs, spec = sgml.train(df_stk.assign(rainfall=s_target), hparams, config, svc_adapter)\n",
    "svc_stk = sgml.assemble_predictor(objs['model'], objs.get('preprocessor'), spec, config)\n",
    "svc_stk(df_stk_test).rename(target).to_csv('result/submission2.csv')"
   ]
  },
  {
   "cell_type": "code",
   "execution_count": 45,
   "id": "94b68fa7-5b6e-4ea7-a151-717feeb3ab3d",
   "metadata": {},
   "outputs": [
    {
     "name": "stdout",
     "output_type": "stream",
     "text": [
      "Warning: Looks like you're using an outdated API Version, please consider updating (server 1.6.17 / client 1.6.12)\n",
      "100%|██████████████████████████████████████| 17.1k/17.1k [00:01<00:00, 15.9kB/s]\n",
      "Successfully submitted to Binary Prediction with a Rainfall Dataset"
     ]
    }
   ],
   "source": [
    "# 0.84768\n",
    "# !kaggle competitions submit -c playground-series-s5e3 -f result/submission2.csv -m \"2\""
   ]
  },
  {
   "cell_type": "markdown",
   "id": "ae780a52-adf1-4c55-beab-07a6d805b8df",
   "metadata": {},
   "source": [
    "# Submision 3 "
   ]
  },
  {
   "cell_type": "code",
   "execution_count": 46,
   "id": "28dff3d6-4238-4f52-8d00-487e5d64e921",
   "metadata": {},
   "outputs": [],
   "source": [
    "df_stk_test.mean(axis=1).rename(target).to_csv('result/submission3.csv')"
   ]
  },
  {
   "cell_type": "code",
   "execution_count": 47,
   "id": "ca58648f-b449-4d2a-babd-a9194bde61e0",
   "metadata": {},
   "outputs": [
    {
     "name": "stdout",
     "output_type": "stream",
     "text": [
      "Warning: Looks like you're using an outdated API Version, please consider updating (server 1.6.17 / client 1.6.12)\n",
      "100%|██████████████████████████████████████| 17.1k/17.1k [00:01<00:00, 15.9kB/s]\n",
      "Successfully submitted to Binary Prediction with a Rainfall Dataset"
     ]
    }
   ],
   "source": [
    "# 0.84714\n",
    "# !kaggle competitions submit -c playground-series-s5e3 -f result/submission3.csv -m \"3\""
   ]
  },
  {
   "cell_type": "code",
   "execution_count": 53,
   "id": "e3daa36f-2149-4fa7-a5c9-83c1c1b51b40",
   "metadata": {},
   "outputs": [],
   "source": [
    "df_train = data_processor.transform(['data/train.csv'])"
   ]
  },
  {
   "cell_type": "markdown",
   "id": "e7284cb6-9378-4259-9b5e-137682ee8d26",
   "metadata": {},
   "source": [
    "# Submission 4"
   ]
  },
  {
   "cell_type": "code",
   "execution_count": 17,
   "id": "c08847b1-5a48-484c-b79d-0acb4b0cebc6",
   "metadata": {},
   "outputs": [],
   "source": [
    "hparams = {\n",
    "    'model_params': {'C': 0.01},\n",
    "    'X_num': df_coef.iloc[3:].index.tolist()\n",
    "}\n",
    "objs, spec = sgml.train(df_stk.assign(rainfall=s_target), hparams, config, lr_adapter)\n",
    "lr_stk = sgml.assemble_predictor(objs['model'], objs.get('preprocessor'), spec, config)\n",
    "lr_stk(df_stk_test).rename(target).to_csv('result/submission4.csv')"
   ]
  },
  {
   "cell_type": "code",
   "execution_count": 18,
   "id": "c95415f0-2cef-47b1-8624-18b9dfa70a2a",
   "metadata": {},
   "outputs": [
    {
     "name": "stdout",
     "output_type": "stream",
     "text": [
      "Warning: Looks like you're using an outdated API Version, please consider updating (server 1.6.17 / client 1.6.12)\n",
      "100%|██████████████████████████████████████| 17.1k/17.1k [00:01<00:00, 15.8kB/s]\n",
      "Successfully submitted to Binary Prediction with a Rainfall Dataset"
     ]
    }
   ],
   "source": [
    "# 0.84499\n",
    "#!kaggle competitions submit -c playground-series-s5e3 -f result/submission4.csv -m \"4\""
   ]
  },
  {
   "cell_type": "markdown",
   "id": "e2fce2d3-e991-44b5-9d61-f434fd3cfcf6",
   "metadata": {},
   "source": [
    "# Submission 5"
   ]
  },
  {
   "cell_type": "code",
   "execution_count": 19,
   "id": "5fdac745-1b7b-4e5d-be3a-fa9c2f67401f",
   "metadata": {},
   "outputs": [],
   "source": [
    "hparams = {\n",
    "    'model_params': {'C': 0.01, 'probability': True, 'kernel': 'linear'},\n",
    "    'X_num': df_stk.columns.tolist()\n",
    "}\n",
    "objs, spec = sgml.train(df_stk.assign(rainfall=s_target), hparams, config, svc_adapter)\n",
    "svc_stk = sgml.assemble_predictor(objs['model'], objs.get('preprocessor'), spec, config)\n",
    "svc_stk(df_stk_test).rename(target).to_csv('result/submission5.csv')"
   ]
  },
  {
   "cell_type": "code",
   "execution_count": 20,
   "id": "99fc1ea3-7228-40f4-aef1-d1eb485fb24a",
   "metadata": {},
   "outputs": [
    {
     "name": "stdout",
     "output_type": "stream",
     "text": [
      "Warning: Looks like you're using an outdated API Version, please consider updating (server 1.6.17 / client 1.6.12)\n",
      "100%|██████████████████████████████████████| 17.1k/17.1k [00:01<00:00, 17.0kB/s]\n",
      "Successfully submitted to Binary Prediction with a Rainfall Dataset"
     ]
    }
   ],
   "source": [
    "# 0.84714\n",
    "# !kaggle competitions submit -c playground-series-s5e3 -f result/submission5.csv -m \"5\""
   ]
  },
  {
   "cell_type": "markdown",
   "id": "dec9b03e-a484-4c35-9189-3ca51747def7",
   "metadata": {},
   "source": [
    "# Submission 6"
   ]
  },
  {
   "cell_type": "code",
   "execution_count": 21,
   "id": "1dc48975-35cc-4e73-9c77-3d08fa62b97f",
   "metadata": {},
   "outputs": [],
   "source": [
    "df_stk_test.mean(axis=1).rename(target).to_csv('result/submission6.csv')"
   ]
  },
  {
   "cell_type": "code",
   "execution_count": 22,
   "id": "8f09d2be-4568-4c6f-887a-0d6f9e0de009",
   "metadata": {},
   "outputs": [
    {
     "name": "stdout",
     "output_type": "stream",
     "text": [
      "Warning: Looks like you're using an outdated API Version, please consider updating (server 1.6.17 / client 1.6.12)\n",
      "100%|██████████████████████████████████████| 17.1k/17.1k [00:01<00:00, 16.3kB/s]\n",
      "Successfully submitted to Binary Prediction with a Rainfall Dataset"
     ]
    }
   ],
   "source": [
    "# 0.84553\n",
    "# !kaggle competitions submit -c playground-series-s5e3 -f result/submission6.csv -m \"6\""
   ]
  },
  {
   "cell_type": "markdown",
   "id": "51037f7e-717c-49ac-9ee3-71f2b247f3d0",
   "metadata": {},
   "source": [
    "# Submission 7"
   ]
  },
  {
   "cell_type": "code",
   "execution_count": 24,
   "id": "6e5ae34b-a4bb-4d3e-9c30-86789e106995",
   "metadata": {},
   "outputs": [],
   "source": [
    "pd.concat([\n",
    "    lr_stk(df_stk_test),\n",
    "    svc_stk(df_stk_test),\n",
    "    df_stk_test.mean(axis=1),\n",
    "], axis=1).mean(axis=1).rename(target).to_csv('result/submission7.csv')"
   ]
  },
  {
   "cell_type": "code",
   "execution_count": 25,
   "id": "b0adfdf2-f780-4f2b-a364-f6e92b83efdc",
   "metadata": {},
   "outputs": [
    {
     "name": "stdout",
     "output_type": "stream",
     "text": [
      "Warning: Looks like you're using an outdated API Version, please consider updating (server 1.6.17 / client 1.6.12)\n",
      "100%|██████████████████████████████████████| 17.1k/17.1k [00:01<00:00, 15.3kB/s]\n",
      "Successfully submitted to Binary Prediction with a Rainfall Dataset"
     ]
    }
   ],
   "source": [
    "# 0.84607\n",
    "#!kaggle competitions submit -c playground-series-s5e3 -f result/submission7.csv -m \"7\""
   ]
  },
  {
   "cell_type": "code",
   "execution_count": null,
   "id": "94324355-3e3b-42fc-ab7c-8396bf543e74",
   "metadata": {},
   "outputs": [],
   "source": []
  }
 ],
 "metadata": {
  "kernelspec": {
   "display_name": "Python 3 (ipykernel)",
   "language": "python",
   "name": "python3"
  },
  "language_info": {
   "codemirror_mode": {
    "name": "ipython",
    "version": 3
   },
   "file_extension": ".py",
   "mimetype": "text/x-python",
   "name": "python",
   "nbconvert_exporter": "python",
   "pygments_lexer": "ipython3",
   "version": "3.12.9"
  }
 },
 "nbformat": 4,
 "nbformat_minor": 5
}
