{
 "cells": [
  {
   "cell_type": "code",
   "execution_count": 1,
   "id": "80c2ac79-a2c4-430a-83f1-64720cac3f28",
   "metadata": {},
   "outputs": [],
   "source": [
    "import os\n",
    "\n",
    "import pandas as pd\n",
    "import polars as pl\n",
    "import numpy as np\n",
    "import seaborn as sns\n",
    "import sgpp, sgml, sgutil\n",
    "\n",
    "from sklearn.pipeline import make_pipeline\n",
    "from sklearn.preprocessing import StandardScaler, MinMaxScaler"
   ]
  },
  {
   "cell_type": "code",
   "execution_count": 2,
   "id": "5755a8fe-6d48-432c-8cd7-05246ef6190a",
   "metadata": {},
   "outputs": [],
   "source": [
    "expr_dic = {}\n",
    "for i in ['sunshine', 'cloud', 'dewpoint', 'chp', 'cos_wd', 'sin_wd']:\n",
    "    for j in range(1, 7):\n",
    "        expr_dic['{}_{}'.format(i, j)] =  pl.col(i).shift(j).fill_null(strategy = 'backward')\n",
    "for i in ['pressure', 'maxtemp', 'temparature', 'mintemp', 'dewpoint', 'humidity', 'cloud', 'sunshine', 'windspeed', 'cos_wd', 'sin_wd', 'chp']:\n",
    "    expr_dic['{}_ma24'.format(i)] = pl.mean(i).rolling(index_column = 'id', period = '24i', closed = 'left').fill_null(strategy = 'backward')"
   ]
  },
  {
   "cell_type": "code",
   "execution_count": 96,
   "id": "f3b166f1-019b-4065-9ab2-1a023c75a8e7",
   "metadata": {},
   "outputs": [],
   "source": [
    "p1 = make_pipeline(\n",
    "    sgpp.PolarsProcessor(predefined_types = {'id': pl.Int64}),\n",
    "    sgpp.ExprProcessor({\n",
    "        'winddirection': pl.col('winddirection').fill_null(strategy = 'forward'),\n",
    "        'windspeed': pl.col('windspeed').fill_null(strategy = 'forward')\n",
    "    }),\n",
    "    sgpp.ExprProcessor({\n",
    "        'cos_wd': (pl.col('winddirection') / 180 * np.pi).cos() * pl.col('windspeed'),\n",
    "        'sin_wd': (pl.col('winddirection') / 180 * np.pi).sin() * pl.col('windspeed'),\n",
    "        'chp': pl.col('cloud') * pl.col('humidity') / pl.col('pressure'),\n",
    "        'expected_day': (pl.col('id') % 365) + 1,\n",
    "        'sin_ed': ((pl.col('id') % 365) / 365 * np.pi).sin(),\n",
    "        'year': pl.col('id') // 365, \n",
    "    })\n",
    ")\n",
    "df_train = p1.fit_transform(['data/train.csv'])\n",
    "df_test = p1.transform(['data/test.csv'])\n",
    "p2 = make_pipeline(\n",
    "    sgpp.ExprProcessor(expr_dic),\n",
    "    sgpp.PandasCoverter(index_col = 'id')\n",
    ")\n",
    "df_all = p2.fit_transform(\n",
    "    pl.concat([df_train, df_test], how = 'align')\n",
    ")\n",
    "\n",
    "p3 = make_pipeline(\n",
    "    sgpp.ApplyWrapper(\n",
    "        StandardScaler().set_output(transform='pandas'), \n",
    "        ['pressure', 'maxtemp', 'temparature', 'mintemp', 'dewpoint', 'humidity', 'cloud', 'sunshine', 'windspeed'] + ['cos_wd', 'sin_wd', 'chp'] + list(expr_dic.keys()),\n",
    "    ),\n",
    "    sgpp.ApplyWrapper(\n",
    "        MinMaxScaler().set_output(transform='pandas'), ['year', 'expected_day', 'winddirection']\n",
    "    )\n",
    ")\n",
    "df_all = p3.fit_transform(df_all)\n",
    "\n",
    "df_train = df_all.loc[df_all['rainfall'].notna()]\n",
    "df_test = df_all.loc[df_all['rainfall'].isna()].drop(columns = ['rainfall'])"
   ]
  },
  {
   "cell_type": "code",
   "execution_count": 97,
   "id": "0da40afc-9329-4403-97d0-f62a8fe0aec8",
   "metadata": {},
   "outputs": [],
   "source": [
    "df_org = make_pipeline(\n",
    "    sgpp.PolarsProcessor(predefined_types = {'id': pl.Int64, 'day': pl.Int16, 'rainfall': pl.String}),\n",
    ").fit_transform(['data/Rainfall.csv']).rename(\n",
    "    lambda x: x.strip()\n",
    ")\n",
    "df_org = make_pipeline(\n",
    "    sgpp.ExprProcessor({\n",
    "        'winddirection': pl.col('winddirection').fill_null(strategy = 'forward'),\n",
    "        'windspeed': pl.col('windspeed').fill_null(strategy = 'forward')\n",
    "    }),\n",
    "    sgpp.ExprProcessor({\n",
    "        'id': pl.arange(1, pl.col('day').len() + 1),\n",
    "        'sin_ed': (pl.arange(1, pl.col('day').len() + 1) / 365 * np.pi).sin(),\n",
    "        'cos_wd': (pl.col('winddirection') / 180 * np.pi).cos() * pl.col('windspeed'),\n",
    "        'sin_wd': (pl.col('winddirection') / 180 * np.pi).sin() * pl.col('windspeed'),\n",
    "        'chp': pl.col('cloud') * pl.col('humidity') / pl.col('pressure'),\n",
    "        'rainfall': pl.col('rainfall').replace({'yes': 1, 'no': 0}).cast(pl.Int8),\n",
    "    }),\n",
    "    sgpp.ExprProcessor(expr_dic),\n",
    "    sgpp.PandasCoverter(), \n",
    ").fit_transform(df_org).assign(\n",
    "    expected_day = lambda x: x.index + 1,\n",
    "    year = -1\n",
    ").pipe(\n",
    "    lambda x: x.set_index(-(len(x) - x.index))\n",
    ")\n",
    "df_org = p3.transform(df_org)"
   ]
  },
  {
   "cell_type": "code",
   "execution_count": 98,
   "id": "0d980a18-e374-4dc3-915a-fc2e9afb728c",
   "metadata": {},
   "outputs": [],
   "source": [
    "target = 'rainfall'\n",
    "sc = sgutil.SGCache('img', 'result')\n",
    "_ = sc.cache_result(\n",
    "    'target', lambda : df_train[target].sort_index()\n",
    ")"
   ]
  },
  {
   "cell_type": "code",
   "execution_count": 99,
   "id": "a5580597-78e9-4db9-bb2d-0a9bf06c5238",
   "metadata": {},
   "outputs": [
    {
     "data": {
      "text/plain": [
       "65"
      ]
     },
     "execution_count": 99,
     "metadata": {},
     "output_type": "execute_result"
    }
   ],
   "source": [
    "len(df_test.columns)"
   ]
  },
  {
   "cell_type": "code",
   "execution_count": 13,
   "id": "b187ed25-6a85-44ec-82a9-1520ae011cc7",
   "metadata": {},
   "outputs": [],
   "source": [
    "import lightgbm as lgb\n",
    "import xgboost as xgb\n",
    "import catboost as cb\n",
    "from sklearn.metrics import roc_auc_score\n",
    "from sklearn.linear_model import LogisticRegression\n",
    "from sklearn.svm import SVC\n",
    "from sklearn.neighbors import KNeighborsClassifier\n",
    "from sklearn.model_selection import StratifiedKFold, StratifiedShuffleSplit\n",
    "\n",
    "def get_validation_splitter(validation_fraction):\n",
    "    return lambda x: train_test_split(x, test_size = validation_fraction)\n",
    "\n",
    "def include_org(df, include_org = False):\n",
    "    return pd.concat([df, df_org]) if include_org else df\n",
    "\n",
    "config = {\n",
    "    'predict_func': lambda m, df, X: pd.Series(m.predict_proba(df[X])[:, 1], index = df.index),\n",
    "    'score_func': lambda df, prds: roc_auc_score(df[target], prds),\n",
    "    'validation_splitter': get_validation_splitter,\n",
    "    'progress_callback': sgml.ProgressCallBack(), \n",
    "    'return_train_scores': True,\n",
    "    'train_data_proc': include_org,\n",
    "    'y': target,\n",
    "}\n",
    "\n",
    "lr_adapter = sgml.SklearnAdapter(LogisticRegression)\n",
    "svc_adapter = sgml.SklearnAdapter(SVC)\n",
    "knn_adapter = sgml.SklearnAdapter(KNeighborsClassifier)\n",
    "lgb_adapter = sgml.LGBMAdapter(lgb.LGBMClassifier)\n",
    "xgb_adapter = sgml.XGBAdapter(xgb.XGBClassifier)\n",
    "cb_adapter = sgml.CBAdapter(cb.CatBoostClassifier)\n",
    "\n",
    "skf = StratifiedKFold(5, random_state = 123, shuffle = True)\n",
    "ss = StratifiedShuffleSplit(1, random_state = 123)"
   ]
  },
  {
   "cell_type": "code",
   "execution_count": 100,
   "id": "fbb4a4b4-795e-4fbf-8540-88d7c98ec36b",
   "metadata": {},
   "outputs": [],
   "source": [
    "from sklearn.feature_selection import SequentialFeatureSelector\n",
    "X_all = [i for i in df_test.columns.tolist() if i not in ['day']]"
   ]
  },
  {
   "cell_type": "markdown",
   "id": "32423a9a-4b3b-4ff5-bea1-0567eebee3aa",
   "metadata": {},
   "source": [
    "# Forward Feature Selection wrapping Logistic Regression"
   ]
  },
  {
   "cell_type": "code",
   "execution_count": 9,
   "id": "fe718862-a43f-4b9a-8870-697ab06fb425",
   "metadata": {},
   "outputs": [
    {
     "data": {
      "text/plain": [
       "array(['sin_ed', 'pressure', 'maxtemp', 'temparature', 'mintemp',\n",
       "       'dewpoint', 'sunshine', 'windspeed', 'chp', 'sunshine_1',\n",
       "       'sunshine_2', 'sunshine_3', 'sunshine_4', 'cloud_3', 'cloud_4',\n",
       "       'cloud_5', 'cloud_6', 'dewpoint_1', 'dewpoint_5', 'chp_1', 'chp_3',\n",
       "       'chp_5', 'cos_wd_3', 'cos_wd_4', 'cos_wd_5', 'sin_wd_2',\n",
       "       'maxtemp_ma24', 'temparature_ma24', 'dewpoint_ma24',\n",
       "       'humidity_ma24', 'sunshine_ma24', 'year'], dtype='<U16')"
      ]
     },
     "execution_count": 9,
     "metadata": {},
     "output_type": "execute_result"
    }
   ],
   "source": [
    "sfs = sc.cache_result(\n",
    "    'ff_sfs_lr',\n",
    "    lambda : SequentialFeatureSelector(\n",
    "        estimator = LogisticRegression(), direction = 'forward', scoring = 'roc_auc', cv = skf, n_jobs = -1\n",
    "    ).fit(df_train[X_all], df_train[target])\n",
    ")\n",
    "np.array(X_all)[sfs.get_support()]"
   ]
  },
  {
   "cell_type": "code",
   "execution_count": 10,
   "id": "8e725ff6-4749-4d1c-8d03-af93eb641ca2",
   "metadata": {},
   "outputs": [
    {
     "data": {
      "application/vnd.jupyter.widget-view+json": {
       "model_id": "",
       "version_major": 2,
       "version_minor": 0
      },
      "text/plain": [
       "Fold:   0%|          | 0/5 [00:00<?, ?it/s]"
      ]
     },
     "metadata": {},
     "output_type": "display_data"
    },
    {
     "data": {
      "text/plain": [
       "(0.8972053872053873, 0.012120648342876662)"
      ]
     },
     "execution_count": 10,
     "metadata": {},
     "output_type": "execute_result"
    }
   ],
   "source": [
    "hparams = {\n",
    "    'model_params': {},\n",
    "    'X_num': np.array(X_all)[sfs.get_support()].tolist()\n",
    "}\n",
    "result = sgml.cv(df_train, skf, hparams, config, lr_adapter, result_proc = [sgml.lr_learning_result])\n",
    "np.mean(result['valid_scores']), np.std(result['valid_scores'])"
   ]
  },
  {
   "cell_type": "code",
   "execution_count": 12,
   "id": "b0438ad8-d84b-45e5-a6dc-aea62fd378e5",
   "metadata": {},
   "outputs": [
    {
     "data": {
      "text/html": [
       "<div>\n",
       "<style scoped>\n",
       "    .dataframe tbody tr th:only-of-type {\n",
       "        vertical-align: middle;\n",
       "    }\n",
       "\n",
       "    .dataframe tbody tr th {\n",
       "        vertical-align: top;\n",
       "    }\n",
       "\n",
       "    .dataframe thead th {\n",
       "        text-align: right;\n",
       "    }\n",
       "</style>\n",
       "<table border=\"1\" class=\"dataframe\">\n",
       "  <thead>\n",
       "    <tr style=\"text-align: right;\">\n",
       "      <th></th>\n",
       "      <th>mean</th>\n",
       "      <th>std</th>\n",
       "      <th>CV</th>\n",
       "    </tr>\n",
       "  </thead>\n",
       "  <tbody>\n",
       "    <tr>\n",
       "      <th>dewpoint_ma24</th>\n",
       "      <td>-0.020234</td>\n",
       "      <td>0.113573</td>\n",
       "      <td>5.612868</td>\n",
       "    </tr>\n",
       "    <tr>\n",
       "      <th>maxtemp_ma24</th>\n",
       "      <td>-0.024915</td>\n",
       "      <td>0.081302</td>\n",
       "      <td>3.263118</td>\n",
       "    </tr>\n",
       "    <tr>\n",
       "      <th>cos_wd_3</th>\n",
       "      <td>-0.014448</td>\n",
       "      <td>0.043408</td>\n",
       "      <td>3.004357</td>\n",
       "    </tr>\n",
       "    <tr>\n",
       "      <th>sunshine_3</th>\n",
       "      <td>-0.018969</td>\n",
       "      <td>0.033022</td>\n",
       "      <td>1.740821</td>\n",
       "    </tr>\n",
       "    <tr>\n",
       "      <th>sin_wd_2</th>\n",
       "      <td>-0.015010</td>\n",
       "      <td>0.022889</td>\n",
       "      <td>1.524927</td>\n",
       "    </tr>\n",
       "    <tr>\n",
       "      <th>dewpoint_1</th>\n",
       "      <td>0.052131</td>\n",
       "      <td>0.071972</td>\n",
       "      <td>1.380610</td>\n",
       "    </tr>\n",
       "    <tr>\n",
       "      <th>chp_1</th>\n",
       "      <td>-0.039389</td>\n",
       "      <td>0.049762</td>\n",
       "      <td>1.263360</td>\n",
       "    </tr>\n",
       "    <tr>\n",
       "      <th>maxtemp</th>\n",
       "      <td>0.127891</td>\n",
       "      <td>0.153483</td>\n",
       "      <td>1.200112</td>\n",
       "    </tr>\n",
       "    <tr>\n",
       "      <th>temparature_ma24</th>\n",
       "      <td>0.365757</td>\n",
       "      <td>0.205129</td>\n",
       "      <td>0.560833</td>\n",
       "    </tr>\n",
       "    <tr>\n",
       "      <th>dewpoint_5</th>\n",
       "      <td>-0.063698</td>\n",
       "      <td>0.031295</td>\n",
       "      <td>0.491304</td>\n",
       "    </tr>\n",
       "  </tbody>\n",
       "</table>\n",
       "</div>"
      ],
      "text/plain": [
       "                      mean       std        CV\n",
       "dewpoint_ma24    -0.020234  0.113573  5.612868\n",
       "maxtemp_ma24     -0.024915  0.081302  3.263118\n",
       "cos_wd_3         -0.014448  0.043408  3.004357\n",
       "sunshine_3       -0.018969  0.033022  1.740821\n",
       "sin_wd_2         -0.015010  0.022889  1.524927\n",
       "dewpoint_1        0.052131  0.071972  1.380610\n",
       "chp_1            -0.039389  0.049762  1.263360\n",
       "maxtemp           0.127891  0.153483  1.200112\n",
       "temparature_ma24  0.365757  0.205129  0.560833\n",
       "dewpoint_5       -0.063698  0.031295  0.491304"
      ]
     },
     "execution_count": 12,
     "metadata": {},
     "output_type": "execute_result"
    }
   ],
   "source": [
    "df_coef = pd.concat([i['coef'] for i in result['model_result']], axis=1).agg(['mean', 'std'], axis = 1).assign(\n",
    "    CV = lambda x: x['std'] / x['mean'].abs()\n",
    ").sort_values('CV', ascending = False)\n",
    "df_coef.iloc[:10]"
   ]
  },
  {
   "cell_type": "code",
   "execution_count": 14,
   "id": "fe029202-086e-42ef-aba0-8ac816f094b0",
   "metadata": {},
   "outputs": [],
   "source": [
    "sc.cv_result('lr_sfs', hparams, lr_adapter, result['valid_prd'])"
   ]
  },
  {
   "cell_type": "code",
   "execution_count": 15,
   "id": "048fb934-07c0-4d11-9597-be031626c71c",
   "metadata": {},
   "outputs": [
    {
     "data": {
      "application/vnd.jupyter.widget-view+json": {
       "model_id": "",
       "version_major": 2,
       "version_minor": 0
      },
      "text/plain": [
       "Fold:   0%|          | 0/5 [00:00<?, ?it/s]"
      ]
     },
     "metadata": {},
     "output_type": "display_data"
    },
    {
     "data": {
      "text/plain": [
       "(0.8983557800224468, 0.011976255278421333)"
      ]
     },
     "execution_count": 15,
     "metadata": {},
     "output_type": "execute_result"
    }
   ],
   "source": [
    "hparams = {\n",
    "    'model_params': {},\n",
    "    'X_num': df_coef.iloc[8:].index.tolist()\n",
    "}\n",
    "result = sgml.cv(df_train, skf, hparams, config, lr_adapter, result_proc = [sgml.lr_learning_result])\n",
    "np.mean(result['valid_scores']), np.std(result['valid_scores'])"
   ]
  },
  {
   "cell_type": "code",
   "execution_count": 16,
   "id": "b6053dc4-c6a4-4e28-acca-542e8ac6a66d",
   "metadata": {},
   "outputs": [
    {
     "data": {
      "text/html": [
       "<div>\n",
       "<style scoped>\n",
       "    .dataframe tbody tr th:only-of-type {\n",
       "        vertical-align: middle;\n",
       "    }\n",
       "\n",
       "    .dataframe tbody tr th {\n",
       "        vertical-align: top;\n",
       "    }\n",
       "\n",
       "    .dataframe thead th {\n",
       "        text-align: right;\n",
       "    }\n",
       "</style>\n",
       "<table border=\"1\" class=\"dataframe\">\n",
       "  <thead>\n",
       "    <tr style=\"text-align: right;\">\n",
       "      <th></th>\n",
       "      <th>mean</th>\n",
       "      <th>std</th>\n",
       "      <th>CV</th>\n",
       "    </tr>\n",
       "  </thead>\n",
       "  <tbody>\n",
       "    <tr>\n",
       "      <th>dewpoint_5</th>\n",
       "      <td>-0.060115</td>\n",
       "      <td>0.045998</td>\n",
       "      <td>0.765164</td>\n",
       "    </tr>\n",
       "    <tr>\n",
       "      <th>temparature</th>\n",
       "      <td>-0.148630</td>\n",
       "      <td>0.109471</td>\n",
       "      <td>0.736534</td>\n",
       "    </tr>\n",
       "    <tr>\n",
       "      <th>temparature_ma24</th>\n",
       "      <td>0.339612</td>\n",
       "      <td>0.173672</td>\n",
       "      <td>0.511386</td>\n",
       "    </tr>\n",
       "    <tr>\n",
       "      <th>cos_wd_5</th>\n",
       "      <td>0.098969</td>\n",
       "      <td>0.045272</td>\n",
       "      <td>0.457440</td>\n",
       "    </tr>\n",
       "    <tr>\n",
       "      <th>chp_3</th>\n",
       "      <td>-0.258010</td>\n",
       "      <td>0.096879</td>\n",
       "      <td>0.375485</td>\n",
       "    </tr>\n",
       "    <tr>\n",
       "      <th>cloud_6</th>\n",
       "      <td>0.065133</td>\n",
       "      <td>0.023313</td>\n",
       "      <td>0.357921</td>\n",
       "    </tr>\n",
       "    <tr>\n",
       "      <th>mintemp</th>\n",
       "      <td>-0.333428</td>\n",
       "      <td>0.118167</td>\n",
       "      <td>0.354401</td>\n",
       "    </tr>\n",
       "    <tr>\n",
       "      <th>cloud_5</th>\n",
       "      <td>0.185984</td>\n",
       "      <td>0.061321</td>\n",
       "      <td>0.329710</td>\n",
       "    </tr>\n",
       "    <tr>\n",
       "      <th>sunshine_2</th>\n",
       "      <td>0.115192</td>\n",
       "      <td>0.037786</td>\n",
       "      <td>0.328024</td>\n",
       "    </tr>\n",
       "    <tr>\n",
       "      <th>cloud_4</th>\n",
       "      <td>0.149698</td>\n",
       "      <td>0.045243</td>\n",
       "      <td>0.302226</td>\n",
       "    </tr>\n",
       "  </tbody>\n",
       "</table>\n",
       "</div>"
      ],
      "text/plain": [
       "                      mean       std        CV\n",
       "dewpoint_5       -0.060115  0.045998  0.765164\n",
       "temparature      -0.148630  0.109471  0.736534\n",
       "temparature_ma24  0.339612  0.173672  0.511386\n",
       "cos_wd_5          0.098969  0.045272  0.457440\n",
       "chp_3            -0.258010  0.096879  0.375485\n",
       "cloud_6           0.065133  0.023313  0.357921\n",
       "mintemp          -0.333428  0.118167  0.354401\n",
       "cloud_5           0.185984  0.061321  0.329710\n",
       "sunshine_2        0.115192  0.037786  0.328024\n",
       "cloud_4           0.149698  0.045243  0.302226"
      ]
     },
     "execution_count": 16,
     "metadata": {},
     "output_type": "execute_result"
    }
   ],
   "source": [
    "df_coef = pd.concat([i['coef'] for i in result['model_result']], axis=1).agg(['mean', 'std'], axis = 1).assign(\n",
    "    CV = lambda x: x['std'] / x['mean'].abs()\n",
    ").sort_values('CV', ascending = False)\n",
    "df_coef.iloc[:10]"
   ]
  },
  {
   "cell_type": "code",
   "execution_count": 23,
   "id": "a3069511-3a73-40e2-b8dc-5e5b496f113d",
   "metadata": {},
   "outputs": [],
   "source": [
    "sc.cv_result('lr_sfs2', hparams, lr_adapter, result['valid_prd'])"
   ]
  },
  {
   "cell_type": "code",
   "execution_count": 19,
   "id": "a43effd1-6c9a-42f8-a163-9297eff72365",
   "metadata": {},
   "outputs": [
    {
     "data": {
      "application/vnd.jupyter.widget-view+json": {
       "model_id": "",
       "version_major": 2,
       "version_minor": 0
      },
      "text/plain": [
       "Fold:   0%|          | 0/5 [00:00<?, ?it/s]"
      ]
     },
     "metadata": {},
     "output_type": "display_data"
    },
    {
     "data": {
      "text/plain": [
       "(0.8985185185185184, 0.01312478134285176)"
      ]
     },
     "execution_count": 19,
     "metadata": {},
     "output_type": "execute_result"
    }
   ],
   "source": [
    "hparams = {\n",
    "    'model_params': {},\n",
    "    'X_num': df_coef.iloc[4:].index.tolist()\n",
    "}\n",
    "result = sgml.cv(df_train, skf, hparams, config, lr_adapter, result_proc = [sgml.lr_learning_result])\n",
    "np.mean(result['valid_scores']), np.std(result['valid_scores'])"
   ]
  },
  {
   "cell_type": "code",
   "execution_count": 24,
   "id": "04bcbc13-91e4-450e-abf2-ef090a07c422",
   "metadata": {},
   "outputs": [],
   "source": [
    "sc.cv_result('lr_sfs3', hparams, lr_adapter, result['valid_prd'])"
   ]
  },
  {
   "cell_type": "code",
   "execution_count": 22,
   "id": "28062a94-a7cc-4a9c-9abb-84d6a98661e6",
   "metadata": {},
   "outputs": [
    {
     "data": {
      "text/html": [
       "<div>\n",
       "<style scoped>\n",
       "    .dataframe tbody tr th:only-of-type {\n",
       "        vertical-align: middle;\n",
       "    }\n",
       "\n",
       "    .dataframe tbody tr th {\n",
       "        vertical-align: top;\n",
       "    }\n",
       "\n",
       "    .dataframe thead th {\n",
       "        text-align: right;\n",
       "    }\n",
       "</style>\n",
       "<table border=\"1\" class=\"dataframe\">\n",
       "  <thead>\n",
       "    <tr style=\"text-align: right;\">\n",
       "      <th></th>\n",
       "      <th>mean</th>\n",
       "      <th>std</th>\n",
       "      <th>CV</th>\n",
       "    </tr>\n",
       "  </thead>\n",
       "  <tbody>\n",
       "    <tr>\n",
       "      <th>cloud_6</th>\n",
       "      <td>0.069157</td>\n",
       "      <td>0.025011</td>\n",
       "      <td>0.361659</td>\n",
       "    </tr>\n",
       "    <tr>\n",
       "      <th>sunshine_2</th>\n",
       "      <td>0.108589</td>\n",
       "      <td>0.038656</td>\n",
       "      <td>0.355989</td>\n",
       "    </tr>\n",
       "    <tr>\n",
       "      <th>chp_3</th>\n",
       "      <td>-0.283220</td>\n",
       "      <td>0.088740</td>\n",
       "      <td>0.313325</td>\n",
       "    </tr>\n",
       "    <tr>\n",
       "      <th>cloud_4</th>\n",
       "      <td>0.156865</td>\n",
       "      <td>0.045290</td>\n",
       "      <td>0.288716</td>\n",
       "    </tr>\n",
       "    <tr>\n",
       "      <th>pressure</th>\n",
       "      <td>-0.134968</td>\n",
       "      <td>0.037416</td>\n",
       "      <td>0.277223</td>\n",
       "    </tr>\n",
       "    <tr>\n",
       "      <th>sin_ed</th>\n",
       "      <td>-0.948355</td>\n",
       "      <td>0.226483</td>\n",
       "      <td>0.238817</td>\n",
       "    </tr>\n",
       "    <tr>\n",
       "      <th>sunshine_4</th>\n",
       "      <td>0.216750</td>\n",
       "      <td>0.051374</td>\n",
       "      <td>0.237018</td>\n",
       "    </tr>\n",
       "    <tr>\n",
       "      <th>cloud_5</th>\n",
       "      <td>0.232140</td>\n",
       "      <td>0.053793</td>\n",
       "      <td>0.231728</td>\n",
       "    </tr>\n",
       "    <tr>\n",
       "      <th>year</th>\n",
       "      <td>0.554469</td>\n",
       "      <td>0.127472</td>\n",
       "      <td>0.229900</td>\n",
       "    </tr>\n",
       "    <tr>\n",
       "      <th>chp_5</th>\n",
       "      <td>-0.200099</td>\n",
       "      <td>0.045552</td>\n",
       "      <td>0.227648</td>\n",
       "    </tr>\n",
       "  </tbody>\n",
       "</table>\n",
       "</div>"
      ],
      "text/plain": [
       "                mean       std        CV\n",
       "cloud_6     0.069157  0.025011  0.361659\n",
       "sunshine_2  0.108589  0.038656  0.355989\n",
       "chp_3      -0.283220  0.088740  0.313325\n",
       "cloud_4     0.156865  0.045290  0.288716\n",
       "pressure   -0.134968  0.037416  0.277223\n",
       "sin_ed     -0.948355  0.226483  0.238817\n",
       "sunshine_4  0.216750  0.051374  0.237018\n",
       "cloud_5     0.232140  0.053793  0.231728\n",
       "year        0.554469  0.127472  0.229900\n",
       "chp_5      -0.200099  0.045552  0.227648"
      ]
     },
     "execution_count": 22,
     "metadata": {},
     "output_type": "execute_result"
    }
   ],
   "source": [
    "df_coef = pd.concat([i['coef'] for i in result['model_result']], axis=1).agg(['mean', 'std'], axis = 1).assign(\n",
    "    CV = lambda x: x['std'] / x['mean'].abs()\n",
    ").sort_values('CV', ascending = False)\n",
    "df_coef.iloc[:10]"
   ]
  },
  {
   "cell_type": "markdown",
   "id": "9a8b2b36-874b-4050-a60e-9afd9aec5270",
   "metadata": {},
   "source": [
    "# Forward Feature Selection wrapping Logistic Regression Aumenting Org"
   ]
  },
  {
   "cell_type": "code",
   "execution_count": 76,
   "id": "77675809-4285-4406-9bd8-fc2a693234bd",
   "metadata": {},
   "outputs": [
    {
     "data": {
      "text/plain": [
       "array(['sin_ed', 'pressure', 'maxtemp', 'temparature', 'mintemp',\n",
       "       'dewpoint', 'humidity', 'cloud', 'sunshine', 'windspeed', 'cos_wd',\n",
       "       'chp', 'sunshine_1', 'sunshine_2', 'sunshine_3', 'sunshine_4',\n",
       "       'sunshine_5', 'cloud_2', 'cloud_3', 'cloud_4', 'dewpoint_2',\n",
       "       'dewpoint_6', 'chp_2', 'chp_4', 'chp_6', 'cos_wd_3', 'sin_wd_2',\n",
       "       'maxtemp_ma24', 'temparature_ma24', 'mintemp_ma24', 'year',\n",
       "       'winddirection'], dtype='<U16')"
      ]
     },
     "execution_count": 76,
     "metadata": {},
     "output_type": "execute_result"
    }
   ],
   "source": [
    "sfs = sc.cache_result(\n",
    "    'ff_sfs_lr2',\n",
    "    lambda : pd.concat([df_train, df_org]).pipe(\n",
    "        lambda x: SequentialFeatureSelector(\n",
    "            estimator = LogisticRegression(), direction = 'forward', scoring = 'roc_auc', cv = skf, n_jobs = -1\n",
    "        ).fit(x[X_all], x[target])\n",
    "    )\n",
    ")\n",
    "np.array(X_all)[sfs.get_support()]"
   ]
  },
  {
   "cell_type": "code",
   "execution_count": 77,
   "id": "efe8b15c-b38a-45f2-8c93-45c8b935571e",
   "metadata": {},
   "outputs": [
    {
     "data": {
      "application/vnd.jupyter.widget-view+json": {
       "model_id": "",
       "version_major": 2,
       "version_minor": 0
      },
      "text/plain": [
       "Fold:   0%|          | 0/5 [00:00<?, ?it/s]"
      ]
     },
     "metadata": {},
     "output_type": "display_data"
    },
    {
     "data": {
      "text/plain": [
       "(0.8947811447811448, 0.012302086080667738)"
      ]
     },
     "execution_count": 77,
     "metadata": {},
     "output_type": "execute_result"
    }
   ],
   "source": [
    "hparams = {\n",
    "    'model_params': {},\n",
    "    'X_num': np.array(X_all)[sfs.get_support()].tolist(),\n",
    "    'train_data_proc_param': {'include_org': True}\n",
    "}\n",
    "result = sgml.cv(df_train, skf, hparams, config, lr_adapter, result_proc = [sgml.lr_learning_result])\n",
    "sc.cv_result('lr_sfs_a', hparams, lr_adapter, result['valid_prd'])\n",
    "np.mean(result['valid_scores']), np.std(result['valid_scores'])"
   ]
  },
  {
   "cell_type": "code",
   "execution_count": 78,
   "id": "10aeccda-a010-42da-b871-72354db0f374",
   "metadata": {},
   "outputs": [
    {
     "data": {
      "text/html": [
       "<div>\n",
       "<style scoped>\n",
       "    .dataframe tbody tr th:only-of-type {\n",
       "        vertical-align: middle;\n",
       "    }\n",
       "\n",
       "    .dataframe tbody tr th {\n",
       "        vertical-align: top;\n",
       "    }\n",
       "\n",
       "    .dataframe thead th {\n",
       "        text-align: right;\n",
       "    }\n",
       "</style>\n",
       "<table border=\"1\" class=\"dataframe\">\n",
       "  <thead>\n",
       "    <tr style=\"text-align: right;\">\n",
       "      <th></th>\n",
       "      <th>mean</th>\n",
       "      <th>std</th>\n",
       "      <th>CV</th>\n",
       "    </tr>\n",
       "  </thead>\n",
       "  <tbody>\n",
       "    <tr>\n",
       "      <th>maxtemp</th>\n",
       "      <td>-0.021097</td>\n",
       "      <td>0.149820</td>\n",
       "      <td>7.101543</td>\n",
       "    </tr>\n",
       "    <tr>\n",
       "      <th>cos_wd_3</th>\n",
       "      <td>-0.010459</td>\n",
       "      <td>0.045744</td>\n",
       "      <td>4.373780</td>\n",
       "    </tr>\n",
       "    <tr>\n",
       "      <th>mintemp_ma24</th>\n",
       "      <td>0.040715</td>\n",
       "      <td>0.160246</td>\n",
       "      <td>3.935820</td>\n",
       "    </tr>\n",
       "    <tr>\n",
       "      <th>sunshine_5</th>\n",
       "      <td>0.019164</td>\n",
       "      <td>0.033826</td>\n",
       "      <td>1.765062</td>\n",
       "    </tr>\n",
       "    <tr>\n",
       "      <th>chp_6</th>\n",
       "      <td>-0.022549</td>\n",
       "      <td>0.038773</td>\n",
       "      <td>1.719536</td>\n",
       "    </tr>\n",
       "    <tr>\n",
       "      <th>sin_wd_2</th>\n",
       "      <td>-0.022583</td>\n",
       "      <td>0.030652</td>\n",
       "      <td>1.357292</td>\n",
       "    </tr>\n",
       "    <tr>\n",
       "      <th>maxtemp_ma24</th>\n",
       "      <td>0.119042</td>\n",
       "      <td>0.137336</td>\n",
       "      <td>1.153678</td>\n",
       "    </tr>\n",
       "    <tr>\n",
       "      <th>chp_4</th>\n",
       "      <td>0.042262</td>\n",
       "      <td>0.034726</td>\n",
       "      <td>0.821676</td>\n",
       "    </tr>\n",
       "    <tr>\n",
       "      <th>chp</th>\n",
       "      <td>0.069188</td>\n",
       "      <td>0.052726</td>\n",
       "      <td>0.762075</td>\n",
       "    </tr>\n",
       "    <tr>\n",
       "      <th>temparature</th>\n",
       "      <td>-0.166954</td>\n",
       "      <td>0.126749</td>\n",
       "      <td>0.759183</td>\n",
       "    </tr>\n",
       "  </tbody>\n",
       "</table>\n",
       "</div>"
      ],
      "text/plain": [
       "                  mean       std        CV\n",
       "maxtemp      -0.021097  0.149820  7.101543\n",
       "cos_wd_3     -0.010459  0.045744  4.373780\n",
       "mintemp_ma24  0.040715  0.160246  3.935820\n",
       "sunshine_5    0.019164  0.033826  1.765062\n",
       "chp_6        -0.022549  0.038773  1.719536\n",
       "sin_wd_2     -0.022583  0.030652  1.357292\n",
       "maxtemp_ma24  0.119042  0.137336  1.153678\n",
       "chp_4         0.042262  0.034726  0.821676\n",
       "chp           0.069188  0.052726  0.762075\n",
       "temparature  -0.166954  0.126749  0.759183"
      ]
     },
     "execution_count": 78,
     "metadata": {},
     "output_type": "execute_result"
    }
   ],
   "source": [
    "df_coef = pd.concat([i['coef'] for i in result['model_result']], axis=1).agg(['mean', 'std'], axis = 1).assign(\n",
    "    CV = lambda x: x['std'] / x['mean'].abs()\n",
    ").sort_values('CV', ascending = False)\n",
    "df_coef.iloc[:10]"
   ]
  },
  {
   "cell_type": "code",
   "execution_count": 79,
   "id": "2b5084e4-c3f5-4fb4-af7f-1f69d784fa6e",
   "metadata": {},
   "outputs": [
    {
     "data": {
      "application/vnd.jupyter.widget-view+json": {
       "model_id": "",
       "version_major": 2,
       "version_minor": 0
      },
      "text/plain": [
       "Fold:   0%|          | 0/5 [00:00<?, ?it/s]"
      ]
     },
     "metadata": {},
     "output_type": "display_data"
    },
    {
     "data": {
      "text/plain": [
       "(0.8962906846240178, 0.01146601290644487)"
      ]
     },
     "execution_count": 79,
     "metadata": {},
     "output_type": "execute_result"
    }
   ],
   "source": [
    "hparams = {\n",
    "    'model_params': {},\n",
    "    'X_num': df_coef.iloc[6:].index.tolist(),\n",
    "    'train_data_proc_param': {'include_org': True}\n",
    "}\n",
    "result = sgml.cv(df_train, skf, hparams, config, lr_adapter, result_proc = [sgml.lr_learning_result])\n",
    "sc.cv_result('lr_sfs_a2', hparams, lr_adapter, result['valid_prd'])\n",
    "np.mean(result['valid_scores']), np.std(result['valid_scores'])"
   ]
  },
  {
   "cell_type": "code",
   "execution_count": 80,
   "id": "e6027f18-18e3-4586-a618-24a13c1d19cb",
   "metadata": {},
   "outputs": [
    {
     "data": {
      "text/html": [
       "<div>\n",
       "<style scoped>\n",
       "    .dataframe tbody tr th:only-of-type {\n",
       "        vertical-align: middle;\n",
       "    }\n",
       "\n",
       "    .dataframe tbody tr th {\n",
       "        vertical-align: top;\n",
       "    }\n",
       "\n",
       "    .dataframe thead th {\n",
       "        text-align: right;\n",
       "    }\n",
       "</style>\n",
       "<table border=\"1\" class=\"dataframe\">\n",
       "  <thead>\n",
       "    <tr style=\"text-align: right;\">\n",
       "      <th></th>\n",
       "      <th>mean</th>\n",
       "      <th>std</th>\n",
       "      <th>CV</th>\n",
       "    </tr>\n",
       "  </thead>\n",
       "  <tbody>\n",
       "    <tr>\n",
       "      <th>chp_4</th>\n",
       "      <td>0.034988</td>\n",
       "      <td>0.042251</td>\n",
       "      <td>1.207573</td>\n",
       "    </tr>\n",
       "    <tr>\n",
       "      <th>chp</th>\n",
       "      <td>0.054333</td>\n",
       "      <td>0.046949</td>\n",
       "      <td>0.864086</td>\n",
       "    </tr>\n",
       "    <tr>\n",
       "      <th>sunshine_3</th>\n",
       "      <td>0.048751</td>\n",
       "      <td>0.035849</td>\n",
       "      <td>0.735355</td>\n",
       "    </tr>\n",
       "    <tr>\n",
       "      <th>dewpoint_2</th>\n",
       "      <td>-0.100342</td>\n",
       "      <td>0.063914</td>\n",
       "      <td>0.636965</td>\n",
       "    </tr>\n",
       "    <tr>\n",
       "      <th>temparature</th>\n",
       "      <td>-0.184064</td>\n",
       "      <td>0.098829</td>\n",
       "      <td>0.536927</td>\n",
       "    </tr>\n",
       "    <tr>\n",
       "      <th>maxtemp_ma24</th>\n",
       "      <td>0.118299</td>\n",
       "      <td>0.062029</td>\n",
       "      <td>0.524339</td>\n",
       "    </tr>\n",
       "    <tr>\n",
       "      <th>chp_2</th>\n",
       "      <td>-0.134452</td>\n",
       "      <td>0.053239</td>\n",
       "      <td>0.395968</td>\n",
       "    </tr>\n",
       "    <tr>\n",
       "      <th>year</th>\n",
       "      <td>0.290991</td>\n",
       "      <td>0.111759</td>\n",
       "      <td>0.384062</td>\n",
       "    </tr>\n",
       "    <tr>\n",
       "      <th>cos_wd</th>\n",
       "      <td>-0.257909</td>\n",
       "      <td>0.063183</td>\n",
       "      <td>0.244983</td>\n",
       "    </tr>\n",
       "    <tr>\n",
       "      <th>dewpoint_6</th>\n",
       "      <td>0.340524</td>\n",
       "      <td>0.075403</td>\n",
       "      <td>0.221431</td>\n",
       "    </tr>\n",
       "  </tbody>\n",
       "</table>\n",
       "</div>"
      ],
      "text/plain": [
       "                  mean       std        CV\n",
       "chp_4         0.034988  0.042251  1.207573\n",
       "chp           0.054333  0.046949  0.864086\n",
       "sunshine_3    0.048751  0.035849  0.735355\n",
       "dewpoint_2   -0.100342  0.063914  0.636965\n",
       "temparature  -0.184064  0.098829  0.536927\n",
       "maxtemp_ma24  0.118299  0.062029  0.524339\n",
       "chp_2        -0.134452  0.053239  0.395968\n",
       "year          0.290991  0.111759  0.384062\n",
       "cos_wd       -0.257909  0.063183  0.244983\n",
       "dewpoint_6    0.340524  0.075403  0.221431"
      ]
     },
     "execution_count": 80,
     "metadata": {},
     "output_type": "execute_result"
    }
   ],
   "source": [
    "df_coef = pd.concat([i['coef'] for i in result['model_result']], axis=1).agg(['mean', 'std'], axis = 1).assign(\n",
    "    CV = lambda x: x['std'] / x['mean'].abs()\n",
    ").sort_values('CV', ascending = False)\n",
    "df_coef.iloc[:10]"
   ]
  },
  {
   "cell_type": "code",
   "execution_count": 82,
   "id": "15b5011e-0063-4e4d-a9c6-0eac5a8fa05c",
   "metadata": {},
   "outputs": [
    {
     "data": {
      "application/vnd.jupyter.widget-view+json": {
       "model_id": "",
       "version_major": 2,
       "version_minor": 0
      },
      "text/plain": [
       "Fold:   0%|          | 0/5 [00:00<?, ?it/s]"
      ]
     },
     "metadata": {},
     "output_type": "display_data"
    },
    {
     "data": {
      "text/plain": [
       "(0.8971043771043771, 0.011150089212136121)"
      ]
     },
     "execution_count": 82,
     "metadata": {},
     "output_type": "execute_result"
    }
   ],
   "source": [
    "hparams = {\n",
    "    'model_params': {},\n",
    "    'X_num': df_coef.iloc[7:].index.tolist(),\n",
    "    'train_data_proc_param': {'include_org': True}\n",
    "}\n",
    "result = sgml.cv(df_train, skf, hparams, config, lr_adapter, result_proc = [sgml.lr_learning_result])\n",
    "sc.cv_result('lr_sfs_a3', hparams, lr_adapter, result['valid_prd'])\n",
    "np.mean(result['valid_scores']), np.std(result['valid_scores'])"
   ]
  },
  {
   "cell_type": "markdown",
   "id": "93f68ca3-7901-4619-a7c5-4cbc22900ea0",
   "metadata": {},
   "source": [
    "# Backward Feature Selection wrapping Logistic Regression"
   ]
  },
  {
   "cell_type": "code",
   "execution_count": 107,
   "id": "62160d60-ccd5-40c2-ba19-2a9ae7869984",
   "metadata": {},
   "outputs": [
    {
     "data": {
      "text/plain": [
       "array(['sin_ed', 'pressure', 'maxtemp', 'temparature', 'mintemp',\n",
       "       'dewpoint', 'sunshine', 'windspeed', 'cos_wd', 'sin_wd', 'chp',\n",
       "       'sunshine_1', 'sunshine_2', 'sunshine_4', 'cloud_3', 'cloud_4',\n",
       "       'cloud_5', 'dewpoint_5', 'chp_3', 'chp_4', 'chp_5', 'cos_wd_3',\n",
       "       'cos_wd_4', 'sin_wd_3', 'temparature_ma24', 'mintemp_ma24',\n",
       "       'cloud_ma24', 'sunshine_ma24', 'cos_wd_ma24', 'sin_wd_ma24',\n",
       "       'chp_ma24', 'year'], dtype='<U16')"
      ]
     },
     "execution_count": 107,
     "metadata": {},
     "output_type": "execute_result"
    }
   ],
   "source": [
    "sfs = sc.cache_result(\n",
    "    'bf_sfs_lr',\n",
    "    lambda : SequentialFeatureSelector(\n",
    "        estimator = LogisticRegression(), direction = 'backward', scoring = 'roc_auc', cv = skf, n_jobs = -1\n",
    "    ).fit(df_train[X_all], df_train[target]), rerun = False\n",
    ")\n",
    "np.array(X_all)[sfs.get_support()]"
   ]
  },
  {
   "cell_type": "code",
   "execution_count": 108,
   "id": "b39c1e42-9903-49dd-8d5f-620247b8389c",
   "metadata": {},
   "outputs": [
    {
     "data": {
      "application/vnd.jupyter.widget-view+json": {
       "model_id": "",
       "version_major": 2,
       "version_minor": 0
      },
      "text/plain": [
       "Fold:   0%|          | 0/5 [00:00<?, ?it/s]"
      ]
     },
     "metadata": {},
     "output_type": "display_data"
    },
    {
     "data": {
      "text/plain": [
       "(0.8971717171717172, 0.011681897853436847)"
      ]
     },
     "execution_count": 108,
     "metadata": {},
     "output_type": "execute_result"
    }
   ],
   "source": [
    "hparams = {\n",
    "    'model_params': {},\n",
    "    'X_num': np.array(X_all)[sfs.get_support()].tolist(),\n",
    "}\n",
    "result = sgml.cv(df_train, skf, hparams, config, lr_adapter, result_proc = [sgml.lr_learning_result])\n",
    "sc.cv_result('lr_bfs', hparams, lr_adapter, result['valid_prd'])\n",
    "np.mean(result['valid_scores']), np.std(result['valid_scores'])"
   ]
  },
  {
   "cell_type": "markdown",
   "id": "2d009dcc-cff5-4894-a0c8-f3e51c5ab87c",
   "metadata": {},
   "source": [
    "# Backward Feature Selection wrapping Logistic Regression Augumenting Org"
   ]
  },
  {
   "cell_type": "code",
   "execution_count": 109,
   "id": "5cfb4a07-e69a-48d6-b516-a190f82e2acd",
   "metadata": {},
   "outputs": [
    {
     "data": {
      "text/plain": [
       "array(['sin_ed', 'pressure', 'mintemp', 'dewpoint', 'humidity', 'cloud',\n",
       "       'sunshine', 'windspeed', 'cos_wd', 'sin_wd', 'chp', 'sunshine_1',\n",
       "       'sunshine_3', 'sunshine_4', 'sunshine_6', 'cloud_4', 'cloud_5',\n",
       "       'dewpoint_2', 'dewpoint_6', 'chp_3', 'chp_5', 'chp_6', 'cos_wd_3',\n",
       "       'sin_wd_1', 'sin_wd_3', 'sin_wd_5', 'temparature_ma24',\n",
       "       'mintemp_ma24', 'cos_wd_ma24', 'sin_wd_ma24', 'year',\n",
       "       'winddirection'], dtype='<U16')"
      ]
     },
     "execution_count": 109,
     "metadata": {},
     "output_type": "execute_result"
    }
   ],
   "source": [
    "sfs = sc.cache_result(\n",
    "    'bf_sfs_lr2',\n",
    "    lambda : pd.concat([df_train, df_org]).pipe(\n",
    "        lambda x: SequentialFeatureSelector(\n",
    "            estimator = LogisticRegression(max_iter = 500), direction = 'backward', scoring = 'roc_auc', cv = skf, n_jobs = -1\n",
    "        ).fit(x[X_all], x[target])\n",
    "    )\n",
    ")\n",
    "np.array(X_all)[sfs.get_support()]"
   ]
  },
  {
   "cell_type": "code",
   "execution_count": 110,
   "id": "f63e52ca-57e8-40e8-9f23-5c9c378ac8ff",
   "metadata": {},
   "outputs": [
    {
     "data": {
      "application/vnd.jupyter.widget-view+json": {
       "model_id": "",
       "version_major": 2,
       "version_minor": 0
      },
      "text/plain": [
       "Fold:   0%|          | 0/5 [00:00<?, ?it/s]"
      ]
     },
     "metadata": {},
     "output_type": "display_data"
    },
    {
     "data": {
      "text/plain": [
       "(0.8929517396184063, 0.009206929636066645)"
      ]
     },
     "execution_count": 110,
     "metadata": {},
     "output_type": "execute_result"
    }
   ],
   "source": [
    "hparams = {\n",
    "    'model_params': {},\n",
    "    'X_num': np.array(X_all)[sfs.get_support()].tolist(),\n",
    "    'train_data_proc_param': {'include_org': True}\n",
    "}\n",
    "result = sgml.cv(df_train, skf, hparams, config, lr_adapter, result_proc = [sgml.lr_learning_result])\n",
    "sc.cv_result('lr_bfs_a', hparams, lr_adapter, result['valid_prd'])\n",
    "np.mean(result['valid_scores']), np.std(result['valid_scores'])"
   ]
  },
  {
   "cell_type": "markdown",
   "id": "61d7f936-2d44-42d2-8ccb-670b313bbc15",
   "metadata": {},
   "source": [
    "# Forward Feature Selection wrapping LGBM"
   ]
  },
  {
   "cell_type": "code",
   "execution_count": 15,
   "id": "26cb0327-5fae-4246-9e35-9fe2f335dafb",
   "metadata": {},
   "outputs": [
    {
     "data": {
      "application/vnd.jupyter.widget-view+json": {
       "model_id": "",
       "version_major": 2,
       "version_minor": 0
      },
      "text/plain": [
       "Fold:   0%|          | 0/5 [00:00<?, ?it/s]"
      ]
     },
     "metadata": {},
     "output_type": "display_data"
    },
    {
     "data": {
      "text/plain": [
       "(0.8884736251402916, 0.9403738776655443)"
      ]
     },
     "execution_count": 15,
     "metadata": {},
     "output_type": "execute_result"
    }
   ],
   "source": [
    "hparams = {\n",
    "    'model_params': {'num_leaves': 7, 'n_estimators': 100, 'colsample_bytree': 0.75, 'learning_rate': 0.03},\n",
    "    'X_num': X_all\n",
    "}\n",
    "result = sgml.cv(df_train, skf, hparams, config, lgb_adapter)\n",
    "np.mean(result['valid_scores']), np.mean(result['train_scores'])"
   ]
  },
  {
   "cell_type": "code",
   "execution_count": 18,
   "id": "fc9d35bb-70cd-42f0-9205-e345573e6bbd",
   "metadata": {},
   "outputs": [
    {
     "data": {
      "text/plain": [
       "array(['sin_ed', 'maxtemp', 'temparature', 'mintemp', 'dewpoint',\n",
       "       'sunshine', 'windspeed', 'sin_wd', 'chp', 'cloud_1', 'cloud_2',\n",
       "       'cloud_3', 'cloud_5', 'cloud_6', 'dewpoint_1', 'dewpoint_2',\n",
       "       'dewpoint_4', 'chp_3', 'chp_5', 'cos_wd_3', 'cos_wd_4', 'cos_wd_5',\n",
       "       'sin_wd_2', 'sin_wd_6', 'maxtemp_ma24', 'temparature_ma24',\n",
       "       'mintemp_ma24', 'dewpoint_ma24', 'humidity_ma24', 'sunshine_ma24',\n",
       "       'year', 'expected_day'], dtype='<U16')"
      ]
     },
     "execution_count": 18,
     "metadata": {},
     "output_type": "execute_result"
    }
   ],
   "source": [
    "sfs = sc.cache_result(\n",
    "    'ff_sfs_lgb',\n",
    "    lambda : SequentialFeatureSelector(\n",
    "        estimator = lgb.LGBMClassifier(verbose = 0, **hparams['model_params']), direction = 'forward', scoring = 'roc_auc', cv = skf\n",
    "    ).fit(df_train[X_all], df_train[target])\n",
    ")\n",
    "np.array(X_all)[sfs.get_support()]"
   ]
  },
  {
   "cell_type": "code",
   "execution_count": 21,
   "id": "90958e8d-4def-4eae-9aca-f287aa605204",
   "metadata": {},
   "outputs": [
    {
     "data": {
      "application/vnd.jupyter.widget-view+json": {
       "model_id": "",
       "version_major": 2,
       "version_minor": 0
      },
      "text/plain": [
       "Fold:   0%|          | 0/5 [00:00<?, ?it/s]"
      ]
     },
     "metadata": {},
     "output_type": "display_data"
    },
    {
     "data": {
      "text/plain": [
       "(0.8969191919191918, 0.9363073442760943)"
      ]
     },
     "execution_count": 21,
     "metadata": {},
     "output_type": "execute_result"
    }
   ],
   "source": [
    "hparams = {\n",
    "    'model_params': {'num_leaves': 7, 'n_estimators': 100, 'colsample_bytree': 0.75, 'learning_rate': 0.03},\n",
    "    'X_num': np.array(X_all)[sfs.get_support()].tolist()\n",
    "}\n",
    "result = sgml.cv(df_train, skf, hparams, config, lgb_adapter)\n",
    "sc.cv_result('lgb_sfs', hparams, lgb_adapter, result['valid_prd'])\n",
    "np.mean(result['valid_scores']), np.mean(result['train_scores'])"
   ]
  },
  {
   "cell_type": "code",
   "execution_count": 33,
   "id": "0024bd88-7ef8-47cf-93ab-f358d2da233c",
   "metadata": {},
   "outputs": [
    {
     "data": {
      "text/html": [
       "<div>\n",
       "<style scoped>\n",
       "    .dataframe tbody tr th:only-of-type {\n",
       "        vertical-align: middle;\n",
       "    }\n",
       "\n",
       "    .dataframe tbody tr th {\n",
       "        vertical-align: top;\n",
       "    }\n",
       "\n",
       "    .dataframe thead th {\n",
       "        text-align: right;\n",
       "    }\n",
       "</style>\n",
       "<table border=\"1\" class=\"dataframe\">\n",
       "  <thead>\n",
       "    <tr style=\"text-align: right;\">\n",
       "      <th></th>\n",
       "      <th>mean</th>\n",
       "      <th>std</th>\n",
       "      <th>CV</th>\n",
       "    </tr>\n",
       "  </thead>\n",
       "  <tbody>\n",
       "    <tr>\n",
       "      <th>sin_wd_6</th>\n",
       "      <td>8.2</td>\n",
       "      <td>7.049823</td>\n",
       "      <td>0.859734</td>\n",
       "    </tr>\n",
       "    <tr>\n",
       "      <th>cloud_5</th>\n",
       "      <td>6.2</td>\n",
       "      <td>4.764452</td>\n",
       "      <td>0.768460</td>\n",
       "    </tr>\n",
       "    <tr>\n",
       "      <th>dewpoint_ma24</th>\n",
       "      <td>13.0</td>\n",
       "      <td>9.772410</td>\n",
       "      <td>0.751724</td>\n",
       "    </tr>\n",
       "    <tr>\n",
       "      <th>cos_wd_5</th>\n",
       "      <td>8.2</td>\n",
       "      <td>6.058052</td>\n",
       "      <td>0.738787</td>\n",
       "    </tr>\n",
       "    <tr>\n",
       "      <th>cos_wd_3</th>\n",
       "      <td>9.4</td>\n",
       "      <td>6.655825</td>\n",
       "      <td>0.708066</td>\n",
       "    </tr>\n",
       "    <tr>\n",
       "      <th>mintemp</th>\n",
       "      <td>7.8</td>\n",
       "      <td>5.069517</td>\n",
       "      <td>0.649938</td>\n",
       "    </tr>\n",
       "    <tr>\n",
       "      <th>dewpoint_4</th>\n",
       "      <td>12.6</td>\n",
       "      <td>7.893035</td>\n",
       "      <td>0.626431</td>\n",
       "    </tr>\n",
       "    <tr>\n",
       "      <th>chp_5</th>\n",
       "      <td>5.4</td>\n",
       "      <td>3.361547</td>\n",
       "      <td>0.622509</td>\n",
       "    </tr>\n",
       "    <tr>\n",
       "      <th>expected_day</th>\n",
       "      <td>9.4</td>\n",
       "      <td>5.319774</td>\n",
       "      <td>0.565933</td>\n",
       "    </tr>\n",
       "    <tr>\n",
       "      <th>sunshine_ma24</th>\n",
       "      <td>24.6</td>\n",
       "      <td>12.218838</td>\n",
       "      <td>0.496701</td>\n",
       "    </tr>\n",
       "  </tbody>\n",
       "</table>\n",
       "</div>"
      ],
      "text/plain": [
       "               mean        std        CV\n",
       "sin_wd_6        8.2   7.049823  0.859734\n",
       "cloud_5         6.2   4.764452  0.768460\n",
       "dewpoint_ma24  13.0   9.772410  0.751724\n",
       "cos_wd_5        8.2   6.058052  0.738787\n",
       "cos_wd_3        9.4   6.655825  0.708066\n",
       "mintemp         7.8   5.069517  0.649938\n",
       "dewpoint_4     12.6   7.893035  0.626431\n",
       "chp_5           5.4   3.361547  0.622509\n",
       "expected_day    9.4   5.319774  0.565933\n",
       "sunshine_ma24  24.6  12.218838  0.496701"
      ]
     },
     "execution_count": 33,
     "metadata": {},
     "output_type": "execute_result"
    }
   ],
   "source": [
    "df_imp = pd.concat(\n",
    "    [i['feature_importance'] for i in result['model_result']], axis=1\n",
    ").agg(['mean', 'std'], axis=1).assign(\n",
    "    CV = lambda x: x['std'] / x['mean'].abs()\n",
    ").sort_values('CV', ascending = False)\n",
    "df_imp.iloc[:10]"
   ]
  },
  {
   "cell_type": "code",
   "execution_count": 40,
   "id": "2904ae16-f1f2-4b94-a57d-12758b51a0d9",
   "metadata": {},
   "outputs": [
    {
     "data": {
      "application/vnd.jupyter.widget-view+json": {
       "model_id": "",
       "version_major": 2,
       "version_minor": 0
      },
      "text/plain": [
       "Fold:   0%|          | 0/5 [00:00<?, ?it/s]"
      ]
     },
     "metadata": {},
     "output_type": "display_data"
    },
    {
     "data": {
      "text/plain": [
       "(0.8983277216610549, 0.9354950547138048)"
      ]
     },
     "execution_count": 40,
     "metadata": {},
     "output_type": "execute_result"
    }
   ],
   "source": [
    "hparams = {\n",
    "    'model_params': {'num_leaves': 7, 'n_estimators': 100, 'colsample_bytree': 0.75, 'learning_rate': 0.03},\n",
    "    'X_num': df_imp.iloc[3:].index.tolist()\n",
    "}\n",
    "result = sgml.cv(df_train, skf, hparams, config, lgb_adapter)\n",
    "sc.cv_result('lgb_sfs2', hparams, lgb_adapter, result['valid_prd'])\n",
    "np.mean(result['valid_scores']), np.mean(result['train_scores'])"
   ]
  },
  {
   "cell_type": "code",
   "execution_count": 41,
   "id": "3e543792-f927-414b-a690-55e43489bcdf",
   "metadata": {},
   "outputs": [
    {
     "data": {
      "text/html": [
       "<div>\n",
       "<style scoped>\n",
       "    .dataframe tbody tr th:only-of-type {\n",
       "        vertical-align: middle;\n",
       "    }\n",
       "\n",
       "    .dataframe tbody tr th {\n",
       "        vertical-align: top;\n",
       "    }\n",
       "\n",
       "    .dataframe thead th {\n",
       "        text-align: right;\n",
       "    }\n",
       "</style>\n",
       "<table border=\"1\" class=\"dataframe\">\n",
       "  <thead>\n",
       "    <tr style=\"text-align: right;\">\n",
       "      <th></th>\n",
       "      <th>mean</th>\n",
       "      <th>std</th>\n",
       "      <th>CV</th>\n",
       "    </tr>\n",
       "  </thead>\n",
       "  <tbody>\n",
       "    <tr>\n",
       "      <th>year</th>\n",
       "      <td>3.6</td>\n",
       "      <td>2.701851</td>\n",
       "      <td>0.750514</td>\n",
       "    </tr>\n",
       "    <tr>\n",
       "      <th>cos_wd_5</th>\n",
       "      <td>10.0</td>\n",
       "      <td>7.211103</td>\n",
       "      <td>0.721110</td>\n",
       "    </tr>\n",
       "    <tr>\n",
       "      <th>dewpoint_1</th>\n",
       "      <td>6.4</td>\n",
       "      <td>4.335897</td>\n",
       "      <td>0.677484</td>\n",
       "    </tr>\n",
       "    <tr>\n",
       "      <th>cos_wd_3</th>\n",
       "      <td>10.4</td>\n",
       "      <td>6.877500</td>\n",
       "      <td>0.661298</td>\n",
       "    </tr>\n",
       "    <tr>\n",
       "      <th>mintemp</th>\n",
       "      <td>9.0</td>\n",
       "      <td>5.567764</td>\n",
       "      <td>0.618640</td>\n",
       "    </tr>\n",
       "    <tr>\n",
       "      <th>mintemp_ma24</th>\n",
       "      <td>10.4</td>\n",
       "      <td>6.148170</td>\n",
       "      <td>0.591170</td>\n",
       "    </tr>\n",
       "    <tr>\n",
       "      <th>cloud_2</th>\n",
       "      <td>4.0</td>\n",
       "      <td>2.121320</td>\n",
       "      <td>0.530330</td>\n",
       "    </tr>\n",
       "    <tr>\n",
       "      <th>sin_wd_2</th>\n",
       "      <td>6.4</td>\n",
       "      <td>3.361547</td>\n",
       "      <td>0.525242</td>\n",
       "    </tr>\n",
       "    <tr>\n",
       "      <th>sunshine_ma24</th>\n",
       "      <td>23.6</td>\n",
       "      <td>11.760102</td>\n",
       "      <td>0.498309</td>\n",
       "    </tr>\n",
       "    <tr>\n",
       "      <th>temparature</th>\n",
       "      <td>4.4</td>\n",
       "      <td>2.190890</td>\n",
       "      <td>0.497930</td>\n",
       "    </tr>\n",
       "  </tbody>\n",
       "</table>\n",
       "</div>"
      ],
      "text/plain": [
       "               mean        std        CV\n",
       "year            3.6   2.701851  0.750514\n",
       "cos_wd_5       10.0   7.211103  0.721110\n",
       "dewpoint_1      6.4   4.335897  0.677484\n",
       "cos_wd_3       10.4   6.877500  0.661298\n",
       "mintemp         9.0   5.567764  0.618640\n",
       "mintemp_ma24   10.4   6.148170  0.591170\n",
       "cloud_2         4.0   2.121320  0.530330\n",
       "sin_wd_2        6.4   3.361547  0.525242\n",
       "sunshine_ma24  23.6  11.760102  0.498309\n",
       "temparature     4.4   2.190890  0.497930"
      ]
     },
     "execution_count": 41,
     "metadata": {},
     "output_type": "execute_result"
    }
   ],
   "source": [
    "df_imp = pd.concat(\n",
    "    [i['feature_importance'] for i in result['model_result']], axis=1\n",
    ").agg(['mean', 'std'], axis=1).assign(\n",
    "    CV = lambda x: x['std'] / x['mean'].abs()\n",
    ").sort_values('CV', ascending = False)\n",
    "df_imp.iloc[:10]"
   ]
  },
  {
   "cell_type": "markdown",
   "id": "9f5f2ae9-5dac-4cde-b40a-324753b1d05e",
   "metadata": {},
   "source": [
    "# Forward Feature Selection wrapping LGBM Augumenting Org"
   ]
  },
  {
   "cell_type": "code",
   "execution_count": 115,
   "id": "af49214b-0941-4077-a60f-dd557ba44178",
   "metadata": {},
   "outputs": [
    {
     "data": {
      "text/plain": [
       "array(['sin_ed', 'pressure', 'maxtemp', 'temparature', 'mintemp',\n",
       "       'dewpoint', 'humidity', 'cloud', 'sunshine', 'windspeed', 'chp',\n",
       "       'sunshine_1', 'sunshine_5', 'cloud_2', 'cloud_3', 'cloud_6',\n",
       "       'dewpoint_1', 'dewpoint_2', 'chp_2', 'chp_3', 'chp_4', 'chp_6',\n",
       "       'cos_wd_1', 'sin_wd_5', 'maxtemp_ma24', 'temparature_ma24',\n",
       "       'dewpoint_ma24', 'humidity_ma24', 'cloud_ma24', 'windspeed_ma24',\n",
       "       'chp_ma24', 'year'], dtype='<U16')"
      ]
     },
     "execution_count": 115,
     "metadata": {},
     "output_type": "execute_result"
    }
   ],
   "source": [
    "hparams = {\n",
    "    'model_params': {'num_leaves': 7, 'n_estimators': 100, 'colsample_bytree': 0.75, 'learning_rate': 0.03},\n",
    "    'X_num': X_all\n",
    "}\n",
    "sfs = sc.cache_result(\n",
    "    'ff_sfs_lgb2',\n",
    "    lambda : pd.concat([df_train, df_org]).pipe(\n",
    "        lambda x: SequentialFeatureSelector(\n",
    "            estimator = lgb.LGBMClassifier(verbose = 0, **hparams['model_params']), direction = 'forward', scoring = 'roc_auc', cv = skf\n",
    "        ).fit(x[X_all], x[target])\n",
    "    )\n",
    ")\n",
    "np.array(X_all)[sfs.get_support()]"
   ]
  },
  {
   "cell_type": "code",
   "execution_count": 116,
   "id": "0d8a817d-0aa7-4bfc-b8d1-de6ca8bea89f",
   "metadata": {},
   "outputs": [
    {
     "data": {
      "application/vnd.jupyter.widget-view+json": {
       "model_id": "",
       "version_major": 2,
       "version_minor": 0
      },
      "text/plain": [
       "Fold:   0%|          | 0/5 [00:00<?, ?it/s]"
      ]
     },
     "metadata": {},
     "output_type": "display_data"
    },
    {
     "data": {
      "text/plain": [
       "(0.8902076318742985, 0.9356239478114479)"
      ]
     },
     "execution_count": 116,
     "metadata": {},
     "output_type": "execute_result"
    }
   ],
   "source": [
    "hparams = {\n",
    "    'model_params': {'num_leaves': 7, 'n_estimators': 100, 'colsample_bytree': 0.75, 'learning_rate': 0.03},\n",
    "    'X_num': np.array(X_all)[sfs.get_support()].tolist()\n",
    "}\n",
    "result = sgml.cv(df_train, skf, hparams, config, lgb_adapter)\n",
    "sc.cv_result('lgb_sfs_a', hparams, lgb_adapter, result['valid_prd'])\n",
    "np.mean(result['valid_scores']), np.mean(result['train_scores'])"
   ]
  },
  {
   "cell_type": "code",
   "execution_count": 117,
   "id": "8670ceba-ed59-476c-a681-b8072cfee390",
   "metadata": {},
   "outputs": [
    {
     "data": {
      "text/html": [
       "<div>\n",
       "<style scoped>\n",
       "    .dataframe tbody tr th:only-of-type {\n",
       "        vertical-align: middle;\n",
       "    }\n",
       "\n",
       "    .dataframe tbody tr th {\n",
       "        vertical-align: top;\n",
       "    }\n",
       "\n",
       "    .dataframe thead th {\n",
       "        text-align: right;\n",
       "    }\n",
       "</style>\n",
       "<table border=\"1\" class=\"dataframe\">\n",
       "  <thead>\n",
       "    <tr style=\"text-align: right;\">\n",
       "      <th></th>\n",
       "      <th>mean</th>\n",
       "      <th>std</th>\n",
       "      <th>CV</th>\n",
       "    </tr>\n",
       "  </thead>\n",
       "  <tbody>\n",
       "    <tr>\n",
       "      <th>temparature</th>\n",
       "      <td>3.0</td>\n",
       "      <td>3.937004</td>\n",
       "      <td>1.312335</td>\n",
       "    </tr>\n",
       "    <tr>\n",
       "      <th>sin_ed</th>\n",
       "      <td>3.2</td>\n",
       "      <td>4.147288</td>\n",
       "      <td>1.296028</td>\n",
       "    </tr>\n",
       "    <tr>\n",
       "      <th>year</th>\n",
       "      <td>4.4</td>\n",
       "      <td>4.979960</td>\n",
       "      <td>1.131809</td>\n",
       "    </tr>\n",
       "    <tr>\n",
       "      <th>cloud_2</th>\n",
       "      <td>1.8</td>\n",
       "      <td>1.643168</td>\n",
       "      <td>0.912871</td>\n",
       "    </tr>\n",
       "    <tr>\n",
       "      <th>sunshine_5</th>\n",
       "      <td>8.6</td>\n",
       "      <td>6.693280</td>\n",
       "      <td>0.778288</td>\n",
       "    </tr>\n",
       "    <tr>\n",
       "      <th>sin_wd_5</th>\n",
       "      <td>8.6</td>\n",
       "      <td>6.580274</td>\n",
       "      <td>0.765148</td>\n",
       "    </tr>\n",
       "    <tr>\n",
       "      <th>chp_2</th>\n",
       "      <td>4.4</td>\n",
       "      <td>3.209361</td>\n",
       "      <td>0.729400</td>\n",
       "    </tr>\n",
       "    <tr>\n",
       "      <th>humidity</th>\n",
       "      <td>12.2</td>\n",
       "      <td>8.318654</td>\n",
       "      <td>0.681857</td>\n",
       "    </tr>\n",
       "    <tr>\n",
       "      <th>cloud_6</th>\n",
       "      <td>5.2</td>\n",
       "      <td>3.492850</td>\n",
       "      <td>0.671702</td>\n",
       "    </tr>\n",
       "    <tr>\n",
       "      <th>chp_4</th>\n",
       "      <td>5.4</td>\n",
       "      <td>3.286335</td>\n",
       "      <td>0.608581</td>\n",
       "    </tr>\n",
       "  </tbody>\n",
       "</table>\n",
       "</div>"
      ],
      "text/plain": [
       "             mean       std        CV\n",
       "temparature   3.0  3.937004  1.312335\n",
       "sin_ed        3.2  4.147288  1.296028\n",
       "year          4.4  4.979960  1.131809\n",
       "cloud_2       1.8  1.643168  0.912871\n",
       "sunshine_5    8.6  6.693280  0.778288\n",
       "sin_wd_5      8.6  6.580274  0.765148\n",
       "chp_2         4.4  3.209361  0.729400\n",
       "humidity     12.2  8.318654  0.681857\n",
       "cloud_6       5.2  3.492850  0.671702\n",
       "chp_4         5.4  3.286335  0.608581"
      ]
     },
     "execution_count": 117,
     "metadata": {},
     "output_type": "execute_result"
    }
   ],
   "source": [
    "df_imp = pd.concat(\n",
    "    [i['feature_importance'] for i in result['model_result']], axis=1\n",
    ").agg(['mean', 'std'], axis=1).assign(\n",
    "    CV = lambda x: x['std'] / x['mean'].abs()\n",
    ").sort_values('CV', ascending = False)\n",
    "df_imp.iloc[:10]"
   ]
  },
  {
   "cell_type": "code",
   "execution_count": 128,
   "id": "2eb10f52-e81d-41eb-96f8-1e28195da080",
   "metadata": {},
   "outputs": [
    {
     "data": {
      "application/vnd.jupyter.widget-view+json": {
       "model_id": "",
       "version_major": 2,
       "version_minor": 0
      },
      "text/plain": [
       "Fold:   0%|          | 0/5 [00:00<?, ?it/s]"
      ]
     },
     "metadata": {},
     "output_type": "display_data"
    },
    {
     "data": {
      "text/plain": [
       "(0.8937485970819304, 0.935530303030303)"
      ]
     },
     "execution_count": 128,
     "metadata": {},
     "output_type": "execute_result"
    }
   ],
   "source": [
    "hparams = {\n",
    "    'model_params': {'num_leaves': 7, 'n_estimators': 100, 'colsample_bytree': 0.75, 'learning_rate': 0.03},\n",
    "    'X_num': df_imp.iloc[6:].index.tolist()\n",
    "}\n",
    "result = sgml.cv(df_train, skf, hparams, config, lgb_adapter)\n",
    "sc.cv_result('lgb_sfs_a2', hparams, lgb_adapter, result['valid_prd'])\n",
    "np.mean(result['valid_scores']), np.mean(result['train_scores'])"
   ]
  },
  {
   "cell_type": "markdown",
   "id": "e35c57b8-33a7-4489-ba03-8ad4dfdb125f",
   "metadata": {},
   "source": [
    "# Backward Feature Selection wrapping LGBM"
   ]
  },
  {
   "cell_type": "code",
   "execution_count": 111,
   "id": "4a7eedde-c58b-48bd-a1aa-15698093334e",
   "metadata": {},
   "outputs": [
    {
     "data": {
      "text/plain": [
       "array(['temparature', 'mintemp', 'sunshine', 'windspeed', 'cos_wd', 'chp',\n",
       "       'sunshine_1', 'sunshine_6', 'cloud_1', 'cloud_5', 'cloud_6',\n",
       "       'dewpoint_3', 'chp_1', 'chp_2', 'chp_3', 'chp_5', 'cos_wd_3',\n",
       "       'cos_wd_4', 'sin_wd_3', 'sin_wd_4', 'sin_wd_6', 'pressure_ma24',\n",
       "       'maxtemp_ma24', 'temparature_ma24', 'dewpoint_ma24',\n",
       "       'humidity_ma24', 'cloud_ma24', 'sunshine_ma24', 'sin_wd_ma24',\n",
       "       'chp_ma24', 'year', 'winddirection'], dtype='<U16')"
      ]
     },
     "execution_count": 111,
     "metadata": {},
     "output_type": "execute_result"
    }
   ],
   "source": [
    "hparams = {\n",
    "    'model_params': {'num_leaves': 7, 'n_estimators': 100, 'colsample_bytree': 0.75, 'learning_rate': 0.03},\n",
    "    'X_num': X_all\n",
    "}\n",
    "sfs = sc.cache_result(\n",
    "    'bf_sfs_lgb',\n",
    "    lambda : SequentialFeatureSelector(\n",
    "        estimator = lgb.LGBMClassifier(verbose = 0, **hparams['model_params']), direction = 'backward', scoring = 'roc_auc', cv = skf\n",
    "    ).fit(df_train[X_all], df_train[target])\n",
    ")\n",
    "np.array(X_all)[sfs.get_support()]"
   ]
  },
  {
   "cell_type": "code",
   "execution_count": 113,
   "id": "1da076e4-3bfb-4b5f-b4ad-815c040af086",
   "metadata": {},
   "outputs": [
    {
     "data": {
      "application/vnd.jupyter.widget-view+json": {
       "model_id": "",
       "version_major": 2,
       "version_minor": 0
      },
      "text/plain": [
       "Fold:   0%|          | 0/5 [00:00<?, ?it/s]"
      ]
     },
     "metadata": {},
     "output_type": "display_data"
    },
    {
     "data": {
      "text/plain": [
       "(0.8956593714927049, 0.9357386363636364)"
      ]
     },
     "execution_count": 113,
     "metadata": {},
     "output_type": "execute_result"
    }
   ],
   "source": [
    "hparams = {\n",
    "    'model_params': {'num_leaves': 7, 'n_estimators': 100, 'colsample_bytree': 0.75, 'learning_rate': 0.03},\n",
    "    'X_num': np.array(X_all)[sfs.get_support()].tolist()\n",
    "}\n",
    "result = sgml.cv(df_train, skf, hparams, config, lgb_adapter)\n",
    "sc.cv_result('lgb_bfs', hparams, lgb_adapter, result['valid_prd'])\n",
    "np.mean(result['valid_scores']), np.mean(result['train_scores'])"
   ]
  },
  {
   "cell_type": "code",
   "execution_count": null,
   "id": "74ba84cd-d7e7-4398-80e6-29f8119a553f",
   "metadata": {},
   "outputs": [],
   "source": []
  }
 ],
 "metadata": {
  "kernelspec": {
   "display_name": "Python 3 (ipykernel)",
   "language": "python",
   "name": "python3"
  },
  "language_info": {
   "codemirror_mode": {
    "name": "ipython",
    "version": 3
   },
   "file_extension": ".py",
   "mimetype": "text/x-python",
   "name": "python",
   "nbconvert_exporter": "python",
   "pygments_lexer": "ipython3",
   "version": "3.12.6"
  }
 },
 "nbformat": 4,
 "nbformat_minor": 5
}
