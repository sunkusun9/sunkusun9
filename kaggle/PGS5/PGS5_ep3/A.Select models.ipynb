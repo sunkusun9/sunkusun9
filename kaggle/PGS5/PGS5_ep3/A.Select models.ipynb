{
 "cells": [
  {
   "cell_type": "code",
   "execution_count": 1,
   "id": "aae8607b-d6f3-433e-b1d1-b39887ff195d",
   "metadata": {},
   "outputs": [],
   "source": [
    "import os\n",
    "\n",
    "import pandas as pd\n",
    "import polars as pl\n",
    "import numpy as np\n",
    "import seaborn as sns\n",
    "import sgpp, sgml, sgutil\n",
    "import joblib\n",
    "\n",
    "from sklearn.pipeline import make_pipeline\n",
    "from sklearn.preprocessing import StandardScaler, MinMaxScaler"
   ]
  },
  {
   "cell_type": "code",
   "execution_count": 2,
   "id": "0522abf2-032a-4567-a7cd-6b64807b12bb",
   "metadata": {},
   "outputs": [],
   "source": [
    "expr_dic = {}\n",
    "for i in ['sunshine', 'cloud', 'dewpoint', 'chp', 'cos_wd', 'sin_wd']:\n",
    "    for j in range(1, 7):\n",
    "        expr_dic['{}_{}'.format(i, j)] =  pl.col(i).shift(j).fill_null(strategy = 'backward')\n",
    "for i in ['pressure', 'maxtemp', 'temparature', 'mintemp', 'dewpoint', 'humidity', 'cloud', 'sunshine', 'windspeed', 'cos_wd', 'sin_wd', 'chp']:\n",
    "    expr_dic['{}_ma24'.format(i)] = pl.mean(i).rolling(index_column = 'id', period = '24i', closed = 'left').fill_null(strategy = 'backward')\n",
    "\n",
    "p1 = make_pipeline(\n",
    "    sgpp.PolarsProcessor(predefined_types = {'id': pl.Int64}),\n",
    "    sgpp.ExprProcessor({\n",
    "        'winddirection': pl.col('winddirection').fill_null(strategy = 'forward'),\n",
    "        'windspeed': pl.col('windspeed').fill_null(strategy = 'forward')\n",
    "    }),\n",
    "    sgpp.ExprProcessor({\n",
    "        'cos_wd': (pl.col('winddirection') / 180 * np.pi).cos() * pl.col('windspeed'),\n",
    "        'sin_wd': (pl.col('winddirection') / 180 * np.pi).sin() * pl.col('windspeed'),\n",
    "        'chp': pl.col('cloud') * pl.col('humidity') / pl.col('pressure'),\n",
    "        'expected_day': (pl.col('id') % 365) + 1,\n",
    "        'sin_ed': ((pl.col('id') % 365) / 365 * np.pi).sin(),\n",
    "        'year': pl.col('id') // 365, \n",
    "    })\n",
    ")\n",
    "df_train = p1.fit_transform(['data/train.csv'])\n",
    "df_test = p1.transform(['data/test.csv'])\n",
    "p2 = make_pipeline(\n",
    "    sgpp.ExprProcessor(expr_dic),\n",
    "    sgpp.PandasCoverter(index_col = 'id')\n",
    ")\n",
    "df_all = p2.fit_transform(\n",
    "    pl.concat([df_train, df_test], how = 'align')\n",
    ")\n",
    "\n",
    "p3 = make_pipeline(\n",
    "    sgpp.ApplyWrapper(\n",
    "        StandardScaler().set_output(transform='pandas'), \n",
    "        ['pressure', 'maxtemp', 'temparature', 'mintemp', 'dewpoint', 'humidity', 'cloud', 'sunshine', 'windspeed'] + ['cos_wd', 'sin_wd', 'chp'] + list(expr_dic.keys()),\n",
    "    ),\n",
    "    sgpp.ApplyWrapper(\n",
    "        MinMaxScaler().set_output(transform='pandas'), ['year', 'expected_day', 'winddirection']\n",
    "    )\n",
    ")\n",
    "df_all = p3.fit_transform(df_all)\n",
    "\n",
    "df_train = df_all.loc[df_all['rainfall'].notna()]\n",
    "df_test = df_all.loc[df_all['rainfall'].isna()].drop(columns = ['rainfall'])\n",
    "\n",
    "df_org = make_pipeline(\n",
    "    sgpp.PolarsProcessor(predefined_types = {'id': pl.Int64, 'day': pl.Int16, 'rainfall': pl.String}),\n",
    ").fit_transform(['data/Rainfall.csv']).rename(\n",
    "    lambda x: x.strip()\n",
    ")\n",
    "df_org = make_pipeline(\n",
    "    sgpp.ExprProcessor({\n",
    "        'winddirection': pl.col('winddirection').fill_null(strategy = 'forward'),\n",
    "        'windspeed': pl.col('windspeed').fill_null(strategy = 'forward')\n",
    "    }),\n",
    "    sgpp.ExprProcessor({\n",
    "        'id': pl.arange(1, pl.col('day').len() + 1),\n",
    "        'sin_ed': (pl.arange(1, pl.col('day').len() + 1) / 365 * np.pi).sin(),\n",
    "        'cos_wd': (pl.col('winddirection') / 180 * np.pi).cos() * pl.col('windspeed'),\n",
    "        'sin_wd': (pl.col('winddirection') / 180 * np.pi).sin() * pl.col('windspeed'),\n",
    "        'chp': pl.col('cloud') * pl.col('humidity') / pl.col('pressure'),\n",
    "        'rainfall': pl.col('rainfall').replace({'yes': 1, 'no': 0}).cast(pl.Int8),\n",
    "    }),\n",
    "    sgpp.ExprProcessor(expr_dic),\n",
    "    sgpp.PandasCoverter(), \n",
    ").fit_transform(df_org).assign(\n",
    "    expected_day = lambda x: x.index + 1,\n",
    "    year = -1\n",
    ").pipe(\n",
    "    lambda x: x.set_index(-(len(x) - x.index))\n",
    ")\n",
    "df_org = p3.transform(df_org)\n",
    "\n",
    "target = 'rainfall'\n",
    "sc = sgutil.SGCache('img', 'result', 'model')"
   ]
  },
  {
   "cell_type": "code",
   "execution_count": 3,
   "id": "2046bb1a-180f-4aa9-81c5-b3de5ac067be",
   "metadata": {},
   "outputs": [
    {
     "data": {
      "text/plain": [
       "['model/data_processor.joblib']"
      ]
     },
     "execution_count": 3,
     "metadata": {},
     "output_type": "execute_result"
    }
   ],
   "source": [
    "data_processor = make_pipeline(\n",
    "    p1, p2, p3\n",
    ")\n",
    "joblib.dump(data_processor, 'model/data_processor.joblib')"
   ]
  },
  {
   "cell_type": "code",
   "execution_count": 4,
   "id": "209f29a8-7773-40c9-a596-dc39c24968e1",
   "metadata": {},
   "outputs": [
    {
     "data": {
      "text/plain": [
       "['model/data_processor_org.joblib']"
      ]
     },
     "execution_count": 4,
     "metadata": {},
     "output_type": "execute_result"
    }
   ],
   "source": [
    "data_processor_org = make_pipeline(\n",
    "    sgpp.PolarsProcessor(predefined_types = {'id': pl.Int64, 'day': pl.Int16, 'rainfall': pl.String}),\n",
    "    sgpp.ColumnNameCleaner(),\n",
    "    sgpp.ExprProcessor({\n",
    "        'winddirection': pl.col('winddirection').fill_null(strategy = 'forward'),\n",
    "        'windspeed': pl.col('windspeed').fill_null(strategy = 'forward')\n",
    "    }),\n",
    "    sgpp.ExprProcessor({\n",
    "        'id': -pl.arange(pl.col('day').len(), 0, -1),\n",
    "        'expected_day': pl.arange(1, pl.col('day').len() + 1),\n",
    "        'sin_ed': (pl.arange(1, pl.col('day').len() + 1) / 365 * np.pi).sin(),\n",
    "        'cos_wd': (pl.col('winddirection') / 180 * np.pi).cos() * pl.col('windspeed'),\n",
    "        'sin_wd': (pl.col('winddirection') / 180 * np.pi).sin() * pl.col('windspeed'),\n",
    "        'chp': pl.col('cloud') * pl.col('humidity') / pl.col('pressure'),\n",
    "        'rainfall': pl.col('rainfall').replace({'yes': 1, 'no': 0}).cast(pl.Int8),\n",
    "        'year': -1\n",
    "    }),\n",
    "    sgpp.ExprProcessor(expr_dic),\n",
    "    sgpp.PandasCoverter(index_col = 'id'), \n",
    ").fit(['data/Rainfall.csv'])\n",
    "joblib.dump(\n",
    "    make_pipeline(\n",
    "        data_processor_org, p3\n",
    "    ), 'model/data_processor_org.joblib'\n",
    ")"
   ]
  },
  {
   "cell_type": "code",
   "execution_count": 5,
   "id": "0f5d5dd7-500e-448b-a42d-70248ce1cf98",
   "metadata": {},
   "outputs": [],
   "source": [
    "from sklearn.model_selection import train_test_split\n",
    "\n",
    "def get_validation_splitter(validation_fraction):\n",
    "    return lambda x: train_test_split(x, test_size = validation_fraction)\n",
    "\n",
    "def include_org(df, include_org = False):\n",
    "    return pd.concat([df, df_org]) if include_org else df\n",
    "\n",
    "config = {\n",
    "    'predict_func': lambda m, df, X: pd.Series(m.predict_proba(df[X])[:, 1], index = df.index),\n",
    "    'score_func': lambda df, prds: roc_auc_score(df[target], prds),\n",
    "    'validation_splitter': get_validation_splitter,\n",
    "    'progress_callback': sgml.ProgressCallBack(), \n",
    "    'return_train_scores': True,\n",
    "    'train_data_proc': include_org,\n",
    "    'y': target,\n",
    "}"
   ]
  },
  {
   "cell_type": "code",
   "execution_count": 6,
   "id": "d95cdf85-4041-4048-ad38-2a74f3e68374",
   "metadata": {},
   "outputs": [],
   "source": [
    "for i in sc.get_cv_list():\n",
    "    sc.train_cv(i, df_train, config)"
   ]
  },
  {
   "cell_type": "code",
   "execution_count": null,
   "id": "7109d2ab-fe45-4d5b-bf42-523846bf3158",
   "metadata": {},
   "outputs": [],
   "source": []
  },
  {
   "cell_type": "code",
   "execution_count": null,
   "id": "3652df00-b4a5-468e-98df-1d398c14f847",
   "metadata": {},
   "outputs": [],
   "source": []
  }
 ],
 "metadata": {
  "kernelspec": {
   "display_name": "Python 3 (ipykernel)",
   "language": "python",
   "name": "python3"
  },
  "language_info": {
   "codemirror_mode": {
    "name": "ipython",
    "version": 3
   },
   "file_extension": ".py",
   "mimetype": "text/x-python",
   "name": "python",
   "nbconvert_exporter": "python",
   "pygments_lexer": "ipython3",
   "version": "3.12.9"
  }
 },
 "nbformat": 4,
 "nbformat_minor": 5
}
