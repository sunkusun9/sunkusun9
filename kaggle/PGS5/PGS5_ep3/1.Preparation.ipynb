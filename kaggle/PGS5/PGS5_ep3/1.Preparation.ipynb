{
 "cells": [
  {
   "cell_type": "code",
   "execution_count": 1,
   "id": "f0a01845-6d06-4de5-aac9-9baf21df1e79",
   "metadata": {},
   "outputs": [],
   "source": [
    "import os"
   ]
  },
  {
   "cell_type": "code",
   "execution_count": 4,
   "id": "52f58066-561f-4099-b7f4-976cbe50c339",
   "metadata": {},
   "outputs": [],
   "source": [
    "for i in ['data', 'model', 'img', 'result']:\n",
    "    if not os.path.exists(i):\n",
    "        os.makedirs(i)"
   ]
  },
  {
   "cell_type": "markdown",
   "id": "edcfc3d7-86f2-44a4-803d-f596709077b1",
   "metadata": {},
   "source": [
    "# Download data"
   ]
  },
  {
   "cell_type": "code",
   "execution_count": null,
   "id": "d6d46f96-e2ca-41b7-be0a-80de3f401f5b",
   "metadata": {},
   "outputs": [],
   "source": [
    "if not os.path.exists(os.path.join('data', 'train.csv')):\n",
    "    !kaggle competitions download -c playground-series-s5e3\n",
    "    !unzip playground-series-s5e3.zip -d data\n",
    "    !rm playground-series-s5e3.zip\n",
    "    !kaggle datasets download subho117/rainfall-prediction-using-machine-learning\n",
    "    !unzip rainfall-prediction-using-machine-learning.zip -d data\n",
    "    !rm rainfall-prediction-using-machine-learning.zip"
   ]
  },
  {
   "cell_type": "code",
   "execution_count": 37,
   "id": "5b52bd9e-59e0-445e-a4f0-70a6a95127d5",
   "metadata": {},
   "outputs": [],
   "source": [
    "import polars as pl\n",
    "import pandas as pd\n",
    "import numpy as np\n",
    "import sgpp, dproc, sgutil\n",
    "import seaborn as sns\n",
    "from sklearn.pipeline import make_pipeline"
   ]
  },
  {
   "cell_type": "markdown",
   "id": "948c0fd0-3b17-40ba-a26c-918fabab8b63",
   "metadata": {},
   "source": [
    "# Descriptive Analysis"
   ]
  },
  {
   "cell_type": "code",
   "execution_count": 23,
   "id": "19d0e2ed-511e-4b34-8fb7-bfc5310fa581",
   "metadata": {},
   "outputs": [],
   "source": [
    "p1 = make_pipeline(\n",
    "    sgpp.PolarsProcessor(predefined_types = {'id': pl.Int64}),\n",
    "    sgpp.PandasCoverter(index_col = 'id')\n",
    ")\n",
    "df_train = p1.fit_transform(['data/train.csv'])"
   ]
  },
  {
   "cell_type": "code",
   "execution_count": 24,
   "id": "8374861b-0546-43f1-9d0e-4184c6df8bc0",
   "metadata": {},
   "outputs": [
    {
     "name": "stdout",
     "output_type": "stream",
     "text": [
      "<class 'pandas.core.frame.DataFrame'>\n",
      "Index: 2190 entries, 0 to 2189\n",
      "Data columns (total 12 columns):\n",
      " #   Column         Non-Null Count  Dtype  \n",
      "---  ------         --------------  -----  \n",
      " 0   day            2190 non-null   int16  \n",
      " 1   pressure       2190 non-null   float32\n",
      " 2   maxtemp        2190 non-null   float32\n",
      " 3   temparature    2190 non-null   float32\n",
      " 4   mintemp        2190 non-null   float32\n",
      " 5   dewpoint       2190 non-null   float32\n",
      " 6   humidity       2190 non-null   float32\n",
      " 7   cloud          2190 non-null   float32\n",
      " 8   sunshine       2190 non-null   float32\n",
      " 9   winddirection  2190 non-null   float32\n",
      " 10  windspeed      2190 non-null   float32\n",
      " 11  rainfall       2190 non-null   int8   \n",
      "dtypes: float32(10), int16(1), int8(1)\n",
      "memory usage: 109.1 KB\n"
     ]
    }
   ],
   "source": [
    "df_train.info()"
   ]
  },
  {
   "cell_type": "code",
   "execution_count": 32,
   "id": "b8761e8d-0df9-45e3-8496-e7bb630527fa",
   "metadata": {},
   "outputs": [],
   "source": [
    "target = 'rainfall'\n",
    "X = [\n",
    "    'day', 'pressure', 'maxtemp', 'temparature', 'mintemp', 'dewpoint',\n",
    "    'humidity', 'cloud', 'sunshine', 'winddirection', 'windspeed'\n",
    "]\n",
    "sc = sgutil.SGCache('img', 'result')"
   ]
  },
  {
   "cell_type": "code",
   "execution_count": 51,
   "id": "932d1e8e-2245-4e8c-b196-18df3520eea9",
   "metadata": {},
   "outputs": [
    {
     "data": {
      "text/html": [
       "<div>\n",
       "<style scoped>\n",
       "    .dataframe tbody tr th:only-of-type {\n",
       "        vertical-align: middle;\n",
       "    }\n",
       "\n",
       "    .dataframe tbody tr th {\n",
       "        vertical-align: top;\n",
       "    }\n",
       "\n",
       "    .dataframe thead th {\n",
       "        text-align: right;\n",
       "    }\n",
       "</style>\n",
       "<table border=\"1\" class=\"dataframe\">\n",
       "  <thead>\n",
       "    <tr style=\"text-align: right;\">\n",
       "      <th></th>\n",
       "      <th>day</th>\n",
       "      <th>pressure</th>\n",
       "      <th>maxtemp</th>\n",
       "      <th>temparature</th>\n",
       "      <th>mintemp</th>\n",
       "      <th>dewpoint</th>\n",
       "      <th>humidity</th>\n",
       "      <th>cloud</th>\n",
       "      <th>sunshine</th>\n",
       "      <th>winddirection</th>\n",
       "      <th>windspeed</th>\n",
       "    </tr>\n",
       "  </thead>\n",
       "  <tbody>\n",
       "    <tr>\n",
       "      <th>count</th>\n",
       "      <td>2190.000000</td>\n",
       "      <td>2190.000000</td>\n",
       "      <td>2190.000000</td>\n",
       "      <td>2190.000000</td>\n",
       "      <td>2190.000000</td>\n",
       "      <td>2190.000000</td>\n",
       "      <td>2190.000000</td>\n",
       "      <td>2190.000000</td>\n",
       "      <td>2190.000000</td>\n",
       "      <td>2190.000000</td>\n",
       "      <td>2190.000000</td>\n",
       "    </tr>\n",
       "    <tr>\n",
       "      <th>mean</th>\n",
       "      <td>179.948402</td>\n",
       "      <td>1013.602051</td>\n",
       "      <td>26.365799</td>\n",
       "      <td>23.953056</td>\n",
       "      <td>22.170092</td>\n",
       "      <td>20.454567</td>\n",
       "      <td>82.036530</td>\n",
       "      <td>75.721916</td>\n",
       "      <td>3.744429</td>\n",
       "      <td>104.863152</td>\n",
       "      <td>21.804703</td>\n",
       "    </tr>\n",
       "    <tr>\n",
       "      <th>std</th>\n",
       "      <td>105.203592</td>\n",
       "      <td>5.655366</td>\n",
       "      <td>5.654330</td>\n",
       "      <td>5.222410</td>\n",
       "      <td>5.059120</td>\n",
       "      <td>5.288406</td>\n",
       "      <td>7.800653</td>\n",
       "      <td>18.026497</td>\n",
       "      <td>3.626327</td>\n",
       "      <td>80.002411</td>\n",
       "      <td>9.898659</td>\n",
       "    </tr>\n",
       "    <tr>\n",
       "      <th>min</th>\n",
       "      <td>1.000000</td>\n",
       "      <td>999.000000</td>\n",
       "      <td>10.400000</td>\n",
       "      <td>7.400000</td>\n",
       "      <td>4.000000</td>\n",
       "      <td>-0.300000</td>\n",
       "      <td>39.000000</td>\n",
       "      <td>2.000000</td>\n",
       "      <td>0.000000</td>\n",
       "      <td>10.000000</td>\n",
       "      <td>4.400000</td>\n",
       "    </tr>\n",
       "    <tr>\n",
       "      <th>25%</th>\n",
       "      <td>89.000000</td>\n",
       "      <td>1008.599976</td>\n",
       "      <td>21.299999</td>\n",
       "      <td>19.299999</td>\n",
       "      <td>17.700001</td>\n",
       "      <td>16.799999</td>\n",
       "      <td>77.000000</td>\n",
       "      <td>69.000000</td>\n",
       "      <td>0.400000</td>\n",
       "      <td>40.000000</td>\n",
       "      <td>14.125000</td>\n",
       "    </tr>\n",
       "    <tr>\n",
       "      <th>50%</th>\n",
       "      <td>178.500000</td>\n",
       "      <td>1013.000000</td>\n",
       "      <td>27.799999</td>\n",
       "      <td>25.500000</td>\n",
       "      <td>23.849999</td>\n",
       "      <td>22.150001</td>\n",
       "      <td>82.000000</td>\n",
       "      <td>83.000000</td>\n",
       "      <td>2.400000</td>\n",
       "      <td>70.000000</td>\n",
       "      <td>20.500000</td>\n",
       "    </tr>\n",
       "    <tr>\n",
       "      <th>75%</th>\n",
       "      <td>270.000000</td>\n",
       "      <td>1017.774994</td>\n",
       "      <td>31.200001</td>\n",
       "      <td>28.400000</td>\n",
       "      <td>26.400000</td>\n",
       "      <td>25.000000</td>\n",
       "      <td>88.000000</td>\n",
       "      <td>88.000000</td>\n",
       "      <td>6.800000</td>\n",
       "      <td>200.000000</td>\n",
       "      <td>27.900000</td>\n",
       "    </tr>\n",
       "    <tr>\n",
       "      <th>max</th>\n",
       "      <td>365.000000</td>\n",
       "      <td>1034.599976</td>\n",
       "      <td>36.000000</td>\n",
       "      <td>31.500000</td>\n",
       "      <td>29.799999</td>\n",
       "      <td>26.700001</td>\n",
       "      <td>98.000000</td>\n",
       "      <td>100.000000</td>\n",
       "      <td>12.100000</td>\n",
       "      <td>300.000000</td>\n",
       "      <td>59.500000</td>\n",
       "    </tr>\n",
       "    <tr>\n",
       "      <th>nunique</th>\n",
       "      <td>365.000000</td>\n",
       "      <td>236.000000</td>\n",
       "      <td>219.000000</td>\n",
       "      <td>198.000000</td>\n",
       "      <td>199.000000</td>\n",
       "      <td>218.000000</td>\n",
       "      <td>49.000000</td>\n",
       "      <td>78.000000</td>\n",
       "      <td>120.000000</td>\n",
       "      <td>35.000000</td>\n",
       "      <td>223.000000</td>\n",
       "    </tr>\n",
       "  </tbody>\n",
       "</table>\n",
       "</div>"
      ],
      "text/plain": [
       "                 day     pressure      maxtemp  temparature      mintemp  \\\n",
       "count    2190.000000  2190.000000  2190.000000  2190.000000  2190.000000   \n",
       "mean      179.948402  1013.602051    26.365799    23.953056    22.170092   \n",
       "std       105.203592     5.655366     5.654330     5.222410     5.059120   \n",
       "min         1.000000   999.000000    10.400000     7.400000     4.000000   \n",
       "25%        89.000000  1008.599976    21.299999    19.299999    17.700001   \n",
       "50%       178.500000  1013.000000    27.799999    25.500000    23.849999   \n",
       "75%       270.000000  1017.774994    31.200001    28.400000    26.400000   \n",
       "max       365.000000  1034.599976    36.000000    31.500000    29.799999   \n",
       "nunique   365.000000   236.000000   219.000000   198.000000   199.000000   \n",
       "\n",
       "            dewpoint     humidity        cloud     sunshine  winddirection  \\\n",
       "count    2190.000000  2190.000000  2190.000000  2190.000000    2190.000000   \n",
       "mean       20.454567    82.036530    75.721916     3.744429     104.863152   \n",
       "std         5.288406     7.800653    18.026497     3.626327      80.002411   \n",
       "min        -0.300000    39.000000     2.000000     0.000000      10.000000   \n",
       "25%        16.799999    77.000000    69.000000     0.400000      40.000000   \n",
       "50%        22.150001    82.000000    83.000000     2.400000      70.000000   \n",
       "75%        25.000000    88.000000    88.000000     6.800000     200.000000   \n",
       "max        26.700001    98.000000   100.000000    12.100000     300.000000   \n",
       "nunique   218.000000    49.000000    78.000000   120.000000      35.000000   \n",
       "\n",
       "           windspeed  \n",
       "count    2190.000000  \n",
       "mean       21.804703  \n",
       "std         9.898659  \n",
       "min         4.400000  \n",
       "25%        14.125000  \n",
       "50%        20.500000  \n",
       "75%        27.900000  \n",
       "max        59.500000  \n",
       "nunique   223.000000  "
      ]
     },
     "execution_count": 51,
     "metadata": {},
     "output_type": "execute_result"
    }
   ],
   "source": [
    "pd.concat([\n",
    "    df_train[X].describe(),\n",
    "    df_train[X].apply(lambda x: x.nunique()).rename('nunique').to_frame().T\n",
    "])"
   ]
  },
  {
   "cell_type": "code",
   "execution_count": 53,
   "id": "766f8150-d7bb-4f90-b607-6bb91f29efd9",
   "metadata": {},
   "outputs": [],
   "source": [
    "df_test = p1.transform(['data/test.csv'])"
   ]
  },
  {
   "cell_type": "code",
   "execution_count": 54,
   "id": "933b26f4-2317-4ccb-9e14-5a36df366745",
   "metadata": {},
   "outputs": [
    {
     "name": "stdout",
     "output_type": "stream",
     "text": [
      "<class 'pandas.core.frame.DataFrame'>\n",
      "Index: 730 entries, 2190 to 2919\n",
      "Data columns (total 11 columns):\n",
      " #   Column         Non-Null Count  Dtype  \n",
      "---  ------         --------------  -----  \n",
      " 0   day            730 non-null    int16  \n",
      " 1   pressure       730 non-null    float32\n",
      " 2   maxtemp        730 non-null    float32\n",
      " 3   temparature    730 non-null    float32\n",
      " 4   mintemp        730 non-null    float32\n",
      " 5   dewpoint       730 non-null    float32\n",
      " 6   humidity       730 non-null    float32\n",
      " 7   cloud          730 non-null    float32\n",
      " 8   sunshine       730 non-null    float32\n",
      " 9   winddirection  729 non-null    float32\n",
      " 10  windspeed      730 non-null    float32\n",
      "dtypes: float32(10), int16(1)\n",
      "memory usage: 35.6 KB\n"
     ]
    }
   ],
   "source": [
    "df_test.info()"
   ]
  },
  {
   "cell_type": "code",
   "execution_count": 55,
   "id": "7193a0f9-2358-4261-85b7-a94397492307",
   "metadata": {},
   "outputs": [
    {
     "data": {
      "text/html": [
       "<div>\n",
       "<style scoped>\n",
       "    .dataframe tbody tr th:only-of-type {\n",
       "        vertical-align: middle;\n",
       "    }\n",
       "\n",
       "    .dataframe tbody tr th {\n",
       "        vertical-align: top;\n",
       "    }\n",
       "\n",
       "    .dataframe thead th {\n",
       "        text-align: right;\n",
       "    }\n",
       "</style>\n",
       "<table border=\"1\" class=\"dataframe\">\n",
       "  <thead>\n",
       "    <tr style=\"text-align: right;\">\n",
       "      <th></th>\n",
       "      <th>day</th>\n",
       "      <th>pressure</th>\n",
       "      <th>maxtemp</th>\n",
       "      <th>temparature</th>\n",
       "      <th>mintemp</th>\n",
       "      <th>dewpoint</th>\n",
       "      <th>humidity</th>\n",
       "      <th>cloud</th>\n",
       "      <th>sunshine</th>\n",
       "      <th>winddirection</th>\n",
       "      <th>windspeed</th>\n",
       "    </tr>\n",
       "  </thead>\n",
       "  <tbody>\n",
       "    <tr>\n",
       "      <th>count</th>\n",
       "      <td>730.000000</td>\n",
       "      <td>730.000000</td>\n",
       "      <td>730.000000</td>\n",
       "      <td>730.000000</td>\n",
       "      <td>730.000000</td>\n",
       "      <td>730.000000</td>\n",
       "      <td>730.000000</td>\n",
       "      <td>730.000000</td>\n",
       "      <td>730.000000</td>\n",
       "      <td>729.000000</td>\n",
       "      <td>730.000000</td>\n",
       "    </tr>\n",
       "    <tr>\n",
       "      <th>mean</th>\n",
       "      <td>183.000000</td>\n",
       "      <td>1013.503052</td>\n",
       "      <td>26.372467</td>\n",
       "      <td>23.963287</td>\n",
       "      <td>22.110273</td>\n",
       "      <td>20.460138</td>\n",
       "      <td>82.669861</td>\n",
       "      <td>76.360275</td>\n",
       "      <td>3.664384</td>\n",
       "      <td>103.923180</td>\n",
       "      <td>22.484247</td>\n",
       "    </tr>\n",
       "    <tr>\n",
       "      <th>std</th>\n",
       "      <td>105.438271</td>\n",
       "      <td>5.505871</td>\n",
       "      <td>5.672521</td>\n",
       "      <td>5.278099</td>\n",
       "      <td>5.170743</td>\n",
       "      <td>5.391169</td>\n",
       "      <td>7.818714</td>\n",
       "      <td>17.934122</td>\n",
       "      <td>3.639272</td>\n",
       "      <td>81.695457</td>\n",
       "      <td>9.954779</td>\n",
       "    </tr>\n",
       "    <tr>\n",
       "      <th>min</th>\n",
       "      <td>1.000000</td>\n",
       "      <td>1000.000000</td>\n",
       "      <td>7.400000</td>\n",
       "      <td>5.900000</td>\n",
       "      <td>4.200000</td>\n",
       "      <td>-0.000000</td>\n",
       "      <td>39.000000</td>\n",
       "      <td>0.000000</td>\n",
       "      <td>0.000000</td>\n",
       "      <td>10.000000</td>\n",
       "      <td>4.500000</td>\n",
       "    </tr>\n",
       "    <tr>\n",
       "      <th>25%</th>\n",
       "      <td>92.000000</td>\n",
       "      <td>1008.725006</td>\n",
       "      <td>21.600000</td>\n",
       "      <td>19.824999</td>\n",
       "      <td>17.824999</td>\n",
       "      <td>16.799999</td>\n",
       "      <td>77.250000</td>\n",
       "      <td>69.000000</td>\n",
       "      <td>0.325000</td>\n",
       "      <td>40.000000</td>\n",
       "      <td>14.500000</td>\n",
       "    </tr>\n",
       "    <tr>\n",
       "      <th>50%</th>\n",
       "      <td>183.000000</td>\n",
       "      <td>1012.700012</td>\n",
       "      <td>27.799999</td>\n",
       "      <td>25.650001</td>\n",
       "      <td>23.900000</td>\n",
       "      <td>22.299999</td>\n",
       "      <td>82.000000</td>\n",
       "      <td>83.000000</td>\n",
       "      <td>2.200000</td>\n",
       "      <td>70.000000</td>\n",
       "      <td>21.299999</td>\n",
       "    </tr>\n",
       "    <tr>\n",
       "      <th>75%</th>\n",
       "      <td>274.000000</td>\n",
       "      <td>1017.599976</td>\n",
       "      <td>31.000000</td>\n",
       "      <td>28.375000</td>\n",
       "      <td>26.400000</td>\n",
       "      <td>25.000000</td>\n",
       "      <td>89.000000</td>\n",
       "      <td>88.000000</td>\n",
       "      <td>6.675000</td>\n",
       "      <td>200.000000</td>\n",
       "      <td>28.400000</td>\n",
       "    </tr>\n",
       "    <tr>\n",
       "      <th>max</th>\n",
       "      <td>365.000000</td>\n",
       "      <td>1032.199951</td>\n",
       "      <td>35.799999</td>\n",
       "      <td>31.799999</td>\n",
       "      <td>29.100000</td>\n",
       "      <td>26.700001</td>\n",
       "      <td>98.000000</td>\n",
       "      <td>100.000000</td>\n",
       "      <td>11.800000</td>\n",
       "      <td>300.000000</td>\n",
       "      <td>59.500000</td>\n",
       "    </tr>\n",
       "    <tr>\n",
       "      <th>nunique</th>\n",
       "      <td>365.000000</td>\n",
       "      <td>185.000000</td>\n",
       "      <td>182.000000</td>\n",
       "      <td>175.000000</td>\n",
       "      <td>171.000000</td>\n",
       "      <td>172.000000</td>\n",
       "      <td>42.000000</td>\n",
       "      <td>69.000000</td>\n",
       "      <td>110.000000</td>\n",
       "      <td>29.000000</td>\n",
       "      <td>205.000000</td>\n",
       "    </tr>\n",
       "  </tbody>\n",
       "</table>\n",
       "</div>"
      ],
      "text/plain": [
       "                day     pressure     maxtemp  temparature     mintemp  \\\n",
       "count    730.000000   730.000000  730.000000   730.000000  730.000000   \n",
       "mean     183.000000  1013.503052   26.372467    23.963287   22.110273   \n",
       "std      105.438271     5.505871    5.672521     5.278099    5.170743   \n",
       "min        1.000000  1000.000000    7.400000     5.900000    4.200000   \n",
       "25%       92.000000  1008.725006   21.600000    19.824999   17.824999   \n",
       "50%      183.000000  1012.700012   27.799999    25.650001   23.900000   \n",
       "75%      274.000000  1017.599976   31.000000    28.375000   26.400000   \n",
       "max      365.000000  1032.199951   35.799999    31.799999   29.100000   \n",
       "nunique  365.000000   185.000000  182.000000   175.000000  171.000000   \n",
       "\n",
       "           dewpoint    humidity       cloud    sunshine  winddirection  \\\n",
       "count    730.000000  730.000000  730.000000  730.000000     729.000000   \n",
       "mean      20.460138   82.669861   76.360275    3.664384     103.923180   \n",
       "std        5.391169    7.818714   17.934122    3.639272      81.695457   \n",
       "min       -0.000000   39.000000    0.000000    0.000000      10.000000   \n",
       "25%       16.799999   77.250000   69.000000    0.325000      40.000000   \n",
       "50%       22.299999   82.000000   83.000000    2.200000      70.000000   \n",
       "75%       25.000000   89.000000   88.000000    6.675000     200.000000   \n",
       "max       26.700001   98.000000  100.000000   11.800000     300.000000   \n",
       "nunique  172.000000   42.000000   69.000000  110.000000      29.000000   \n",
       "\n",
       "          windspeed  \n",
       "count    730.000000  \n",
       "mean      22.484247  \n",
       "std        9.954779  \n",
       "min        4.500000  \n",
       "25%       14.500000  \n",
       "50%       21.299999  \n",
       "75%       28.400000  \n",
       "max       59.500000  \n",
       "nunique  205.000000  "
      ]
     },
     "execution_count": 55,
     "metadata": {},
     "output_type": "execute_result"
    }
   ],
   "source": [
    "pd.concat([\n",
    "    df_test[X].describe(),\n",
    "    df_test[X].apply(lambda x: x.nunique()).rename('nunique').to_frame().T\n",
    "])"
   ]
  },
  {
   "cell_type": "code",
   "execution_count": 86,
   "id": "4255eda5-f731-4eb7-9860-c873dffcb4b0",
   "metadata": {},
   "outputs": [],
   "source": [
    "df_org = make_pipeline(\n",
    "    sgpp.PolarsProcessor(predefined_types = {'id': pl.Int64, 'day': pl.Int16, 'rainfall': pl.String}),\n",
    "    sgpp.ExprProcessor({\n",
    "        'rainfall': pl.col('rainfall').replace({'yes': 1, 'no': 0}).cast(pl.Int8)\n",
    "    }),\n",
    "    sgpp.PandasCoverter(index_col = 'id'), \n",
    ").fit_transform(['data/Rainfall.csv']).rename(\n",
    "    columns = lambda x: x.strip()\n",
    ")"
   ]
  },
  {
   "cell_type": "code",
   "execution_count": 87,
   "id": "5ca77dfd-3296-4530-acd0-ff4699cde5ec",
   "metadata": {},
   "outputs": [
    {
     "name": "stdout",
     "output_type": "stream",
     "text": [
      "<class 'pandas.core.frame.DataFrame'>\n",
      "RangeIndex: 366 entries, 0 to 365\n",
      "Data columns (total 12 columns):\n",
      " #   Column         Non-Null Count  Dtype  \n",
      "---  ------         --------------  -----  \n",
      " 0   day            366 non-null    int16  \n",
      " 1   pressure       366 non-null    float32\n",
      " 2   maxtemp        366 non-null    float32\n",
      " 3   temparature    366 non-null    float32\n",
      " 4   mintemp        366 non-null    float32\n",
      " 5   dewpoint       366 non-null    float32\n",
      " 6   humidity       366 non-null    int8   \n",
      " 7   cloud          366 non-null    int8   \n",
      " 8   rainfall       366 non-null    int8   \n",
      " 9   sunshine       366 non-null    float32\n",
      " 10  winddirection  365 non-null    float32\n",
      " 11  windspeed      365 non-null    float32\n",
      "dtypes: float32(8), int16(1), int8(3)\n",
      "memory usage: 13.4 KB\n"
     ]
    }
   ],
   "source": [
    "df_org.info()"
   ]
  },
  {
   "cell_type": "code",
   "execution_count": 88,
   "id": "a7672075-2f9e-4ee3-b2a8-ac6b5ed02c3d",
   "metadata": {},
   "outputs": [
    {
     "data": {
      "text/html": [
       "<div>\n",
       "<style scoped>\n",
       "    .dataframe tbody tr th:only-of-type {\n",
       "        vertical-align: middle;\n",
       "    }\n",
       "\n",
       "    .dataframe tbody tr th {\n",
       "        vertical-align: top;\n",
       "    }\n",
       "\n",
       "    .dataframe thead th {\n",
       "        text-align: right;\n",
       "    }\n",
       "</style>\n",
       "<table border=\"1\" class=\"dataframe\">\n",
       "  <thead>\n",
       "    <tr style=\"text-align: right;\">\n",
       "      <th></th>\n",
       "      <th>day</th>\n",
       "      <th>pressure</th>\n",
       "      <th>maxtemp</th>\n",
       "      <th>temparature</th>\n",
       "      <th>mintemp</th>\n",
       "      <th>dewpoint</th>\n",
       "      <th>humidity</th>\n",
       "      <th>cloud</th>\n",
       "      <th>sunshine</th>\n",
       "      <th>winddirection</th>\n",
       "      <th>windspeed</th>\n",
       "    </tr>\n",
       "  </thead>\n",
       "  <tbody>\n",
       "    <tr>\n",
       "      <th>count</th>\n",
       "      <td>366.000000</td>\n",
       "      <td>366.000000</td>\n",
       "      <td>366.000000</td>\n",
       "      <td>366.000000</td>\n",
       "      <td>366.000000</td>\n",
       "      <td>366.000000</td>\n",
       "      <td>366.000000</td>\n",
       "      <td>366.000000</td>\n",
       "      <td>366.000000</td>\n",
       "      <td>365.000000</td>\n",
       "      <td>365.000000</td>\n",
       "    </tr>\n",
       "    <tr>\n",
       "      <th>mean</th>\n",
       "      <td>15.756831</td>\n",
       "      <td>1013.742554</td>\n",
       "      <td>26.191257</td>\n",
       "      <td>23.747269</td>\n",
       "      <td>21.894535</td>\n",
       "      <td>19.989071</td>\n",
       "      <td>80.177596</td>\n",
       "      <td>71.128415</td>\n",
       "      <td>4.419399</td>\n",
       "      <td>101.506851</td>\n",
       "      <td>21.536985</td>\n",
       "    </tr>\n",
       "    <tr>\n",
       "      <th>std</th>\n",
       "      <td>8.823592</td>\n",
       "      <td>6.414776</td>\n",
       "      <td>5.978343</td>\n",
       "      <td>5.632813</td>\n",
       "      <td>5.594152</td>\n",
       "      <td>5.997021</td>\n",
       "      <td>10.062470</td>\n",
       "      <td>21.798012</td>\n",
       "      <td>3.934398</td>\n",
       "      <td>81.723724</td>\n",
       "      <td>10.069712</td>\n",
       "    </tr>\n",
       "    <tr>\n",
       "      <th>min</th>\n",
       "      <td>1.000000</td>\n",
       "      <td>998.500000</td>\n",
       "      <td>7.100000</td>\n",
       "      <td>4.900000</td>\n",
       "      <td>3.100000</td>\n",
       "      <td>-0.400000</td>\n",
       "      <td>36.000000</td>\n",
       "      <td>0.000000</td>\n",
       "      <td>0.000000</td>\n",
       "      <td>10.000000</td>\n",
       "      <td>4.400000</td>\n",
       "    </tr>\n",
       "    <tr>\n",
       "      <th>25%</th>\n",
       "      <td>8.000000</td>\n",
       "      <td>1008.500000</td>\n",
       "      <td>21.200001</td>\n",
       "      <td>18.824999</td>\n",
       "      <td>17.125000</td>\n",
       "      <td>16.125000</td>\n",
       "      <td>75.000000</td>\n",
       "      <td>58.000000</td>\n",
       "      <td>0.500000</td>\n",
       "      <td>40.000000</td>\n",
       "      <td>13.700000</td>\n",
       "    </tr>\n",
       "    <tr>\n",
       "      <th>50%</th>\n",
       "      <td>16.000000</td>\n",
       "      <td>1013.000000</td>\n",
       "      <td>27.750000</td>\n",
       "      <td>25.450000</td>\n",
       "      <td>23.700001</td>\n",
       "      <td>21.950000</td>\n",
       "      <td>80.500000</td>\n",
       "      <td>80.000000</td>\n",
       "      <td>3.500000</td>\n",
       "      <td>70.000000</td>\n",
       "      <td>20.500000</td>\n",
       "    </tr>\n",
       "    <tr>\n",
       "      <th>75%</th>\n",
       "      <td>23.000000</td>\n",
       "      <td>1018.099976</td>\n",
       "      <td>31.200001</td>\n",
       "      <td>28.600000</td>\n",
       "      <td>26.575000</td>\n",
       "      <td>25.000000</td>\n",
       "      <td>87.000000</td>\n",
       "      <td>88.000000</td>\n",
       "      <td>8.200000</td>\n",
       "      <td>190.000000</td>\n",
       "      <td>27.900000</td>\n",
       "    </tr>\n",
       "    <tr>\n",
       "      <th>max</th>\n",
       "      <td>31.000000</td>\n",
       "      <td>1034.599976</td>\n",
       "      <td>36.299999</td>\n",
       "      <td>32.400002</td>\n",
       "      <td>30.000000</td>\n",
       "      <td>26.700001</td>\n",
       "      <td>98.000000</td>\n",
       "      <td>100.000000</td>\n",
       "      <td>12.100000</td>\n",
       "      <td>350.000000</td>\n",
       "      <td>59.500000</td>\n",
       "    </tr>\n",
       "    <tr>\n",
       "      <th>nunique</th>\n",
       "      <td>31.000000</td>\n",
       "      <td>188.000000</td>\n",
       "      <td>174.000000</td>\n",
       "      <td>158.000000</td>\n",
       "      <td>157.000000</td>\n",
       "      <td>158.000000</td>\n",
       "      <td>49.000000</td>\n",
       "      <td>79.000000</td>\n",
       "      <td>104.000000</td>\n",
       "      <td>31.000000</td>\n",
       "      <td>223.000000</td>\n",
       "    </tr>\n",
       "  </tbody>\n",
       "</table>\n",
       "</div>"
      ],
      "text/plain": [
       "                day     pressure     maxtemp  temparature     mintemp  \\\n",
       "count    366.000000   366.000000  366.000000   366.000000  366.000000   \n",
       "mean      15.756831  1013.742554   26.191257    23.747269   21.894535   \n",
       "std        8.823592     6.414776    5.978343     5.632813    5.594152   \n",
       "min        1.000000   998.500000    7.100000     4.900000    3.100000   \n",
       "25%        8.000000  1008.500000   21.200001    18.824999   17.125000   \n",
       "50%       16.000000  1013.000000   27.750000    25.450000   23.700001   \n",
       "75%       23.000000  1018.099976   31.200001    28.600000   26.575000   \n",
       "max       31.000000  1034.599976   36.299999    32.400002   30.000000   \n",
       "nunique   31.000000   188.000000  174.000000   158.000000  157.000000   \n",
       "\n",
       "           dewpoint    humidity       cloud    sunshine  winddirection  \\\n",
       "count    366.000000  366.000000  366.000000  366.000000     365.000000   \n",
       "mean      19.989071   80.177596   71.128415    4.419399     101.506851   \n",
       "std        5.997021   10.062470   21.798012    3.934398      81.723724   \n",
       "min       -0.400000   36.000000    0.000000    0.000000      10.000000   \n",
       "25%       16.125000   75.000000   58.000000    0.500000      40.000000   \n",
       "50%       21.950000   80.500000   80.000000    3.500000      70.000000   \n",
       "75%       25.000000   87.000000   88.000000    8.200000     190.000000   \n",
       "max       26.700001   98.000000  100.000000   12.100000     350.000000   \n",
       "nunique  158.000000   49.000000   79.000000  104.000000      31.000000   \n",
       "\n",
       "          windspeed  \n",
       "count    365.000000  \n",
       "mean      21.536985  \n",
       "std       10.069712  \n",
       "min        4.400000  \n",
       "25%       13.700000  \n",
       "50%       20.500000  \n",
       "75%       27.900000  \n",
       "max       59.500000  \n",
       "nunique  223.000000  "
      ]
     },
     "execution_count": 88,
     "metadata": {},
     "output_type": "execute_result"
    }
   ],
   "source": [
    "pd.concat([\n",
    "    df_org[X].describe(),\n",
    "    df_org[X].apply(lambda x: x.nunique()).rename('nunique').to_frame().T\n",
    "])"
   ]
  },
  {
   "cell_type": "code",
   "execution_count": 89,
   "id": "c8dcfd72-8173-4ddc-8b03-f9e58f211a82",
   "metadata": {},
   "outputs": [
    {
     "data": {
      "text/html": [
       "<div>\n",
       "<style scoped>\n",
       "    .dataframe tbody tr th:only-of-type {\n",
       "        vertical-align: middle;\n",
       "    }\n",
       "\n",
       "    .dataframe tbody tr th {\n",
       "        vertical-align: top;\n",
       "    }\n",
       "\n",
       "    .dataframe thead th {\n",
       "        text-align: right;\n",
       "    }\n",
       "</style>\n",
       "<table border=\"1\" class=\"dataframe\">\n",
       "  <thead>\n",
       "    <tr style=\"text-align: right;\">\n",
       "      <th></th>\n",
       "      <th>day</th>\n",
       "      <th>pressure</th>\n",
       "      <th>maxtemp</th>\n",
       "      <th>temparature</th>\n",
       "      <th>mintemp</th>\n",
       "      <th>dewpoint</th>\n",
       "      <th>humidity</th>\n",
       "      <th>cloud</th>\n",
       "      <th>rainfall</th>\n",
       "      <th>sunshine</th>\n",
       "      <th>winddirection</th>\n",
       "      <th>windspeed</th>\n",
       "    </tr>\n",
       "  </thead>\n",
       "  <tbody>\n",
       "    <tr>\n",
       "      <th>160</th>\n",
       "      <td>9</td>\n",
       "      <td>1005.700012</td>\n",
       "      <td>31.700001</td>\n",
       "      <td>28.200001</td>\n",
       "      <td>26.6</td>\n",
       "      <td>25.700001</td>\n",
       "      <td>86</td>\n",
       "      <td>79</td>\n",
       "      <td>1</td>\n",
       "      <td>6.5</td>\n",
       "      <td>NaN</td>\n",
       "      <td>NaN</td>\n",
       "    </tr>\n",
       "  </tbody>\n",
       "</table>\n",
       "</div>"
      ],
      "text/plain": [
       "     day     pressure    maxtemp  temparature  mintemp   dewpoint  humidity  \\\n",
       "160    9  1005.700012  31.700001    28.200001     26.6  25.700001        86   \n",
       "\n",
       "     cloud  rainfall  sunshine  winddirection  windspeed  \n",
       "160     79         1       6.5            NaN        NaN  "
      ]
     },
     "execution_count": 89,
     "metadata": {},
     "output_type": "execute_result"
    }
   ],
   "source": [
    "df_org.loc[df_org[X].isna().any(axis=1)]"
   ]
  },
  {
   "cell_type": "markdown",
   "id": "58d40f80-4e8b-4d59-b492-95881797d3b4",
   "metadata": {},
   "source": [
    "# Train / Test / Org Difference"
   ]
  },
  {
   "cell_type": "markdown",
   "id": "ee40a8f6-b77d-4aa7-a5be-b1594b72b2f7",
   "metadata": {},
   "source": [
    "## Train vs Test "
   ]
  },
  {
   "cell_type": "code",
   "execution_count": 95,
   "id": "fc15f0b5-a89c-4d1e-ba6d-0e951d6b4ee9",
   "metadata": {},
   "outputs": [],
   "source": [
    "from sklearn.model_selection import cross_validate, StratifiedKFold\n",
    "import lightgbm as lgb"
   ]
  },
  {
   "cell_type": "code",
   "execution_count": 97,
   "id": "90f45dba-a4b9-46d5-9e3a-d9756bcfd2c7",
   "metadata": {},
   "outputs": [
    {
     "data": {
      "text/plain": [
       "{'fit_time': array([0.01832294, 0.01750112, 0.01750422, 0.01759052, 0.01770592]),\n",
       " 'score_time': array([0.00209785, 0.00198126, 0.00198221, 0.00198865, 0.00202799]),\n",
       " 'test_score': array([0.45865391, 0.49407331, 0.48434666, 0.46880278, 0.49080503]),\n",
       " 'train_score': array([0.96311554, 0.96476092, 0.96260145, 0.96829651, 0.97169282])}"
      ]
     },
     "execution_count": 97,
     "metadata": {},
     "output_type": "execute_result"
    }
   ],
   "source": [
    "skf = StratifiedKFold(5, random_state = 123, shuffle=True)\n",
    "df = pd.concat([\n",
    "    df_train[X].assign(is_train = True),\n",
    "    df_test[X].assign(is_train = False)\n",
    "], axis = 0)\n",
    "cross_validate(lgb.LGBMClassifier(verbose = 0, num_leaves = 15), df[X], df['is_train'], scoring = 'roc_auc', cv = skf, return_train_score = True)"
   ]
  },
  {
   "cell_type": "markdown",
   "id": "0406a3eb-12cc-4b56-9c96-1207d19bd724",
   "metadata": {},
   "source": [
    "Train과 Test Set의 구분이 어렵습니다."
   ]
  },
  {
   "cell_type": "markdown",
   "id": "8effe0e2-b99b-4448-b01f-5168c208a5c1",
   "metadata": {},
   "source": [
    "## Train vs Org"
   ]
  },
  {
   "cell_type": "code",
   "execution_count": 99,
   "id": "29f99eb5-ecb1-4a7c-9158-123b4ecb55fd",
   "metadata": {},
   "outputs": [
    {
     "data": {
      "text/plain": [
       "{'fit_time': array([0.01933074, 0.01762795, 0.01771045, 0.01794815, 0.01695943]),\n",
       " 'score_time': array([0.00212026, 0.0020237 , 0.00256228, 0.00205231, 0.00199342]),\n",
       " 'test_score': array([0.9922251 , 0.98570714, 0.9847376 , 0.9811722 , 0.99218115]),\n",
       " 'train_score': array([1., 1., 1., 1., 1.])}"
      ]
     },
     "execution_count": 99,
     "metadata": {},
     "output_type": "execute_result"
    }
   ],
   "source": [
    "skf = StratifiedKFold(5, random_state = 123, shuffle=True)\n",
    "df = pd.concat([\n",
    "    df_train[X + [target]].assign(is_train = True),\n",
    "    df_org[X + [target]].assign(is_train = False)\n",
    "], axis = 0)\n",
    "cross_validate(lgb.LGBMClassifier(verbose = 0, num_leaves = 15), df[X + [target]], df['is_train'], scoring = 'roc_auc', cv = skf, return_train_score = True)"
   ]
  },
  {
   "cell_type": "code",
   "execution_count": 100,
   "id": "8a269706-da41-4841-9104-2a60626d9ed2",
   "metadata": {},
   "outputs": [],
   "source": [
    "clf_lgb = lgb.LGBMClassifier(verbose = 0, num_leaves = 15).fit(df[X + [target]], df['is_train'])"
   ]
  },
  {
   "cell_type": "code",
   "execution_count": 104,
   "id": "0b107fd7-3414-4ca0-80ba-63d9a260848b",
   "metadata": {},
   "outputs": [
    {
     "data": {
      "text/plain": [
       "day            278\n",
       "windspeed      201\n",
       "dewpoint       159\n",
       "maxtemp        129\n",
       "temparature    124\n",
       "dtype: int32"
      ]
     },
     "execution_count": 104,
     "metadata": {},
     "output_type": "execute_result"
    }
   ],
   "source": [
    "pd.Series(\n",
    "    clf_lgb.feature_importances_, index = X + [target]\n",
    ").sort_values(ascending = False).iloc[:5]"
   ]
  },
  {
   "cell_type": "code",
   "execution_count": 105,
   "id": "3b25d722-670a-412a-aa31-62294e5d0dbb",
   "metadata": {},
   "outputs": [
    {
     "data": {
      "text/plain": [
       "day\n",
       "91     7\n",
       "144    7\n",
       "267    7\n",
       "140    7\n",
       "111    7\n",
       "      ..\n",
       "157    5\n",
       "286    5\n",
       "38     5\n",
       "336    5\n",
       "365    5\n",
       "Name: count, Length: 365, dtype: int64"
      ]
     },
     "execution_count": 105,
     "metadata": {},
     "output_type": "execute_result"
    }
   ],
   "source": [
    "df_train['day'].value_counts()"
   ]
  },
  {
   "cell_type": "code",
   "execution_count": 106,
   "id": "c2a0ce74-104d-4942-8967-bd57561743b2",
   "metadata": {},
   "outputs": [
    {
     "data": {
      "text/plain": [
       "{'fit_time': array([0.02198076, 0.01790667, 0.01905203, 0.01795983, 0.01721811]),\n",
       " 'score_time': array([0.00214553, 0.00200772, 0.00204396, 0.0019834 , 0.00201011]),\n",
       " 'test_score': array([0.51604344, 0.53480953, 0.57315319, 0.50134484, 0.5511353 ]),\n",
       " 'train_score': array([0.9829549 , 0.98471664, 0.98433969, 0.9833345 , 0.98481891])}"
      ]
     },
     "execution_count": 106,
     "metadata": {},
     "output_type": "execute_result"
    }
   ],
   "source": [
    "X_ = [i for i in X + [target] if i != 'day']\n",
    "\n",
    "cross_validate(lgb.LGBMClassifier(verbose = 0, num_leaves = 15), df[X_], df['is_train'], scoring = 'roc_auc', cv = skf, return_train_score = True)"
   ]
  },
  {
   "cell_type": "markdown",
   "id": "3cb84dfb-67ac-48d0-a5bf-8dbfe89cc7a9",
   "metadata": {},
   "source": [
    "원본 데이터와 학습 데이터는 구분이 명확히 되지만,\n",
    "day 속성을 빼면 구분이 어렵습니다.\n",
    "\n",
    "그리고, 원본 데이터는 day는 일자상의 day이고 Playground는 dayofyear를 나타냅니다.\n",
    "\n",
    "**TODO**: 데이터가 적습니다. 원본 데이터의 day를 Playground 셋에 맞추어 사용할 수 있을지 살펴봅니다."
   ]
  },
  {
   "cell_type": "markdown",
   "id": "a7bffb7b-e366-4ecb-96ef-20e59d0e5130",
   "metadata": {},
   "source": [
    "## Target Distribution"
   ]
  },
  {
   "cell_type": "code",
   "execution_count": 108,
   "id": "b7c1be13-a82f-4981-9dfe-f85f493bb175",
   "metadata": {},
   "outputs": [
    {
     "data": {
      "text/plain": [
       "rainfall\n",
       "1    0.753425\n",
       "0    0.246575\n",
       "Name: proportion, dtype: float64"
      ]
     },
     "execution_count": 108,
     "metadata": {},
     "output_type": "execute_result"
    }
   ],
   "source": [
    "df_train[target].value_counts(normalize=True)"
   ]
  },
  {
   "cell_type": "code",
   "execution_count": 109,
   "id": "864accb5-6015-4eda-9cd2-e5180f7ecf87",
   "metadata": {},
   "outputs": [
    {
     "data": {
      "text/plain": [
       "rainfall\n",
       "1    0.680328\n",
       "0    0.319672\n",
       "Name: proportion, dtype: float64"
      ]
     },
     "execution_count": 109,
     "metadata": {},
     "output_type": "execute_result"
    }
   ],
   "source": [
    "df_org[target].value_counts(normalize=True)"
   ]
  },
  {
   "cell_type": "markdown",
   "id": "71074c06-cc03-4de5-ab1d-a6b5edbe9a51",
   "metadata": {},
   "source": [
    "## Features"
   ]
  },
  {
   "cell_type": "code",
   "execution_count": 125,
   "id": "07173963-e7b8-499d-ac80-6b62e053f8fc",
   "metadata": {},
   "outputs": [
    {
     "data": {
      "image/png": "[encoded data removed]",
      "text/plain": [
       "<Figure size 1600x700 with 12 Axes>"
      ]
     },
     "metadata": {},
     "output_type": "display_data"
    }
   ],
   "source": [
    "sc.cache_fig(\n",
    "    'dist_features', lambda x: [sns.histplot(df_train, x=i, ax=ax, hue=target) for i, ax in zip(X, x)] , 3, 4, (16, 7), redraw = False\n",
    ")"
   ]
  },
  {
   "cell_type": "code",
   "execution_count": null,
   "id": "7713507f-5b35-4828-8d13-ac54866a2cd1",
   "metadata": {},
   "outputs": [],
   "source": []
  }
 ],
 "metadata": {
  "kernelspec": {
   "display_name": "Python 3 (ipykernel)",
   "language": "python",
   "name": "python3"
  },
  "language_info": {
   "codemirror_mode": {
    "name": "ipython",
    "version": 3
   },
   "file_extension": ".py",
   "mimetype": "text/x-python",
   "name": "python",
   "nbconvert_exporter": "python",
   "pygments_lexer": "ipython3",
   "version": "3.12.6"
  }
 },
 "nbformat": 4,
 "nbformat_minor": 5
}
