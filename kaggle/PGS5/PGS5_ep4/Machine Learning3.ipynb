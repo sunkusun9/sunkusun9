{
 "cells": [
  {
   "cell_type": "code",
   "execution_count": 6,
   "id": "d7da7071-cfc6-4a2a-bc1a-6b0e2bf036d9",
   "metadata": {},
   "outputs": [
    {
     "name": "stdout",
     "output_type": "stream",
     "text": [
      "3.12.6 (main, Sep 30 2024, 02:19:13) [GCC 9.4.0]\n"
     ]
    }
   ],
   "source": [
    "import os, sys\n",
    "\n",
    "import sgpp, sgml, dproc, sgutil\n",
    "import pandas as pd\n",
    "import polars as pl\n",
    "import numpy as np\n",
    "import matplotlib.pyplot as plt\n",
    "import seaborn as sns\n",
    "from tqdm.notebook import tqdm\n",
    "\n",
    "import warnings\n",
    "warnings.simplefilter(action='ignore', category=FutureWarning)\n",
    "\n",
    "print(sys.version)\n",
    "\n",
    "from sklearn.pipeline import make_pipeline"
   ]
  },
  {
   "cell_type": "code",
   "execution_count": 7,
   "id": "cafe2b17-8573-448f-8aff-0078fa2dd1d9",
   "metadata": {},
   "outputs": [],
   "source": [
    "sc = sgutil.SGCache('img', 'result', 'model')\n",
    "p = make_pipeline(\n",
    "    sgpp.PolarsProcessor(),\n",
    "    sgpp.ExprProcessor({\n",
    "        'ELm_num': (pl.col('Episode_Length_minutes').fill_null(pl.col('Episode_Length_minutes').mean()).clip(5, 120) - 5) / 115,\n",
    "        'GP': (pl.col('Guest_Popularity_percentage').fill_null(pl.col('Guest_Popularity_percentage').clip(0,100).mean()).clip(0, 100) / 100),\n",
    "        'HP': pl.col('Host_Popularity_percentage').clip(0, 100) / 100,\n",
    "        'NAd': (pl.when(pl.col('Number_of_Ads') > 4).then(0).otherwise(pl.col('Number_of_Ads'))).fill_null(0.0) /3 ,\n",
    "        'Number_of_Ads': (pl.when(pl.col('Number_of_Ads') > 4).then(0).otherwise(pl.col('Number_of_Ads'))).fill_null(0).cast(pl.Int8),\n",
    "        'ELm_na': pl.col('Episode_Length_minutes').is_null(),\n",
    "        'GPp_na': pl.col('Guest_Popularity_percentage').is_null(),\n",
    "        'ELm_sqrt': ((pl.col('Episode_Length_minutes').fill_null(pl.col('Episode_Length_minutes').mean()).clip(5, 120) - 5) / 115)  ** 0.5\n",
    "    }),\n",
    "    sgpp.PandasConverter(index_col = 'id'),\n",
    ")\n",
    "p.fit(['data/train.csv'])\n",
    "df_train = p.transform(['data/train.csv'])\n",
    "df_test = p.transform(['data/test.csv'])"
   ]
  },
  {
   "cell_type": "code",
   "execution_count": 10,
   "id": "a88ba3df-c359-4471-8dfe-cb1d2c75dc8e",
   "metadata": {},
   "outputs": [],
   "source": [
    "import lightgbm as lgb\n",
    "import xgboost as xgb\n",
    "import catboost as cb\n",
    "from sklearn.metrics import root_mean_squared_error\n",
    "from sklearn.model_selection import KFold, cross_validate, cross_val_score, ShuffleSplit\n",
    "from sklearn.linear_model import LinearRegression\n",
    "from mlxtend.feature_selection import SequentialFeatureSelector\n",
    "kf = KFold(5, shuffle = True, random_state = 123)\n",
    "ss = ShuffleSplit(1, train_size = 0.8, random_state = 123)\n",
    "target = 'Listening_Time_minutes'\n",
    "X_all = [i for i in df_train.columns if i != target]\n",
    "\n",
    "def get_validation_splitter(validation_fraction):\n",
    "    return lambda x: train_test_split(x, test_size = validation_fraction)\n",
    "\n",
    "config = {\n",
    "    'predict_func': lambda m, df, X: pd.Series(m.predict(df[X]), index = df.index),\n",
    "    'score_func': lambda df, prds: root_mean_squared_error(df[target], prds),\n",
    "    'validation_splitter': get_validation_splitter,\n",
    "    'progress_callback': sgml.ProgressCallBack(), \n",
    "    'return_train_scores': True,\n",
    "    'y': target,\n",
    "}\n",
    "\n",
    "lr_adapter = sgml.SklearnAdapter(LinearRegression)\n",
    "lgb_adapter = sgml.LGBMAdapter(lgb.LGBMRegressor, progress = 50)\n",
    "xgb_adapter = sgml.XGBAdapter(xgb.XGBRegressor, progress = 50)"
   ]
  },
  {
   "cell_type": "markdown",
   "id": "0c42de0b-7548-4b28-889e-7b4e94c81bdc",
   "metadata": {},
   "source": [
    "2.Feature Engineering.ipynb 에서 발견한 속성들로 학습을 시킵니다."
   ]
  },
  {
   "cell_type": "code",
   "execution_count": 21,
   "id": "07f4ece3-0d74-4d7c-971a-20de3be14949",
   "metadata": {},
   "outputs": [],
   "source": [
    "X_tgt_sel, _ = sc.read_result('tgt_sel')"
   ]
  },
  {
   "cell_type": "code",
   "execution_count": 31,
   "id": "7f9a5e1c-fcfd-4619-b5d0-83a17d58227b",
   "metadata": {},
   "outputs": [
    {
     "name": "stdout",
     "output_type": "stream",
     "text": [
      "generating 0 Fold\n",
      "generating 1 Fold\n",
      "generating 2 Fold\n",
      "generating 3 Fold\n",
      "generating 4 Fold\n"
     ]
    }
   ],
   "source": [
    "from sklearn.preprocessing import TargetEncoder\n",
    "def tge_proc(df_train, df_valid):\n",
    "    X_tgt_var = pd.Series(X_tgt_sel).str.split(',').explode().unique().tolist()\n",
    "    df_train_all, df_valid_all = list(), list()\n",
    "    tge = make_pipeline(\n",
    "        sgpp.CatCombiner2(pd.Series(X_tgt_sel).str.split(',').tolist()), TargetEncoder()\n",
    "    ).set_output(transform = 'pandas')\n",
    "    return tge.fit_transform(df_train[X_tgt_var], df_train[target]), tge.transform(df_valid[X_tgt_var])\n",
    "\n",
    "for i, (train_idx, valid_idx) in enumerate(kf.split(df_train[X_all], df_train[target])):\n",
    "    print(\"generating {} Fold\".format(i))\n",
    "    sc.cache_result(\n",
    "        'kf_sp_{}2'.format(i),\n",
    "        lambda : tge_proc(df_train.iloc[train_idx], df_train.iloc[valid_idx]), rerun = 0\n",
    "    )\n",
    "X_tgt = X_tgt_sel"
   ]
  },
  {
   "cell_type": "markdown",
   "id": "95043240-efd2-43c4-b875-ef6c2307c01c",
   "metadata": {},
   "source": [
    "# Linear Regression 2"
   ]
  },
  {
   "cell_type": "code",
   "execution_count": 32,
   "id": "56b39bcc-a2cf-4049-a81c-894bf031d6d0",
   "metadata": {},
   "outputs": [
    {
     "data": {
      "text/plain": [
       "[np.float64(12.80809672753578),\n",
       " np.float64(12.831797164631581),\n",
       " np.float64(12.869177151735707),\n",
       " np.float64(12.89695525439413),\n",
       " np.float64(12.912815772222732)]"
      ]
     },
     "execution_count": 32,
     "metadata": {},
     "output_type": "execute_result"
    }
   ],
   "source": [
    "hparams = {\n",
    "    'X_num': ['GP', 'HP', 'NAd', 'ELm_sqrt', 'ELm_num', 'ELm_na'] + X_tgt\n",
    "}\n",
    "rmse_oof = list()\n",
    "for i, (train_idx, valid_idx) in enumerate(kf.split(df_train[X_all], df_train[target])):\n",
    "    df_tgt_train, df_tgt_valid = sc.cache_result(\n",
    "        'kf_sp_{}2'.format(i),\n",
    "        lambda : tge_proc(df_train.iloc[train_idx], df_train.iloc[valid_idx])\n",
    "    )\n",
    "    result = sgml.train(\n",
    "        dproc.join_and_assign(df_train.iloc[train_idx], df_tgt_train), hparams, config, lr_adapter\n",
    "    )\n",
    "    result = result[0]\n",
    "    if 'preprocessor' in result:\n",
    "        m = make_pipeline(result['preprocessor'], result['model'])\n",
    "    else:\n",
    "        m = result['model']\n",
    "    rmse_oof.append(\n",
    "        root_mean_squared_error(\n",
    "            df_train.iloc[valid_idx][target],\n",
    "            m.predict(\n",
    "                dproc.join_and_assign(df_train.iloc[valid_idx], df_tgt_valid)[result['variables']]\n",
    "            )\n",
    "        )\n",
    "    )\n",
    "rmse_oof"
   ]
  },
  {
   "cell_type": "markdown",
   "id": "e6c26de5-f8c9-40fd-a4da-b56cbf34a43a",
   "metadata": {},
   "source": [
    "# LGB 2"
   ]
  },
  {
   "cell_type": "code",
   "execution_count": 33,
   "id": "8598765e-620f-44f2-bbd8-b9e17069f04a",
   "metadata": {},
   "outputs": [
    {
     "data": {
      "application/vnd.jupyter.widget-view+json": {
       "model_id": "",
       "version_major": 2,
       "version_minor": 0
      },
      "text/plain": [
       "Round:   0%|          | 0/1500 [00:00<?, ?it/s]"
      ]
     },
     "metadata": {},
     "output_type": "display_data"
    },
    {
     "data": {
      "application/vnd.jupyter.widget-view+json": {
       "model_id": "",
       "version_major": 2,
       "version_minor": 0
      },
      "text/plain": [
       "Round:   0%|          | 0/1500 [00:00<?, ?it/s]"
      ]
     },
     "metadata": {},
     "output_type": "display_data"
    },
    {
     "data": {
      "application/vnd.jupyter.widget-view+json": {
       "model_id": "",
       "version_major": 2,
       "version_minor": 0
      },
      "text/plain": [
       "Round:   0%|          | 0/1500 [00:00<?, ?it/s]"
      ]
     },
     "metadata": {},
     "output_type": "display_data"
    },
    {
     "data": {
      "application/vnd.jupyter.widget-view+json": {
       "model_id": "",
       "version_major": 2,
       "version_minor": 0
      },
      "text/plain": [
       "Round:   0%|          | 0/1500 [00:00<?, ?it/s]"
      ]
     },
     "metadata": {},
     "output_type": "display_data"
    },
    {
     "data": {
      "application/vnd.jupyter.widget-view+json": {
       "model_id": "",
       "version_major": 2,
       "version_minor": 0
      },
      "text/plain": [
       "Round:   0%|          | 0/1500 [00:00<?, ?it/s]"
      ]
     },
     "metadata": {},
     "output_type": "display_data"
    }
   ],
   "source": [
    "hparams = {\n",
    "    'model_params': {'num_leaves': 1024, 'n_estimators': 1500, 'learning_rate': 0.01, 'colsample_bytree': 0.7},\n",
    "    'X_num': ['GP', 'HP', 'NAd', 'ELm_num', 'ELm_na'] + [i.replace(',', '_') for i in X_tgt],\n",
    "    'metric': 'rmse'\n",
    "}\n",
    "rmse_oof = list()\n",
    "for i, (train_idx, valid_idx) in enumerate(kf.split(df_train[X_all], df_train[target])):\n",
    "    df_tgt_train, df_tgt_valid = sc.read_result('kf_sp_{}2'.format(i))\n",
    "    df_tgt_train, df_tgt_valid = df_tgt_train.rename(columns = lambda x: x.replace(',', '_')), df_tgt_valid.rename(columns = lambda x: x.replace(',', '_'))\n",
    "    result = sgml.train(\n",
    "        dproc.join_and_assign(df_train.iloc[train_idx], df_tgt_train), hparams, config, lgb_adapter\n",
    "    )\n",
    "    result = result[0]\n",
    "    if 'preprocessor' in result:\n",
    "        m = make_pipeline(result['preprocessor'], result['model'])\n",
    "    else:\n",
    "        m = result['model']\n",
    "    rmse_oof.append(\n",
    "        root_mean_squared_error(\n",
    "            df_train.iloc[valid_idx][target],\n",
    "            m.predict(\n",
    "                dproc.join_and_assign(df_train.iloc[valid_idx], df_tgt_valid)[result['variables']]\n",
    "            )\n",
    "        )\n",
    "    )"
   ]
  },
  {
   "cell_type": "code",
   "execution_count": 34,
   "id": "5ca48926-8ed0-408a-a239-323f743d4547",
   "metadata": {},
   "outputs": [
    {
     "data": {
      "text/plain": [
       "[np.float64(11.8728253373632),\n",
       " np.float64(11.893152483420323),\n",
       " np.float64(11.898166553175242),\n",
       " np.float64(11.977559155461316),\n",
       " np.float64(11.984174012061468)]"
      ]
     },
     "execution_count": 34,
     "metadata": {},
     "output_type": "execute_result"
    }
   ],
   "source": [
    "rmse_oof"
   ]
  }
 ],
 "metadata": {
  "kernelspec": {
   "display_name": "Python 3 (ipykernel)",
   "language": "python",
   "name": "python3"
  },
  "language_info": {
   "codemirror_mode": {
    "name": "ipython",
    "version": 3
   },
   "file_extension": ".py",
   "mimetype": "text/x-python",
   "name": "python",
   "nbconvert_exporter": "python",
   "pygments_lexer": "ipython3",
   "version": "3.12.6"
  }
 },
 "nbformat": 4,
 "nbformat_minor": 5
}
