{
 "cells": [
  {
   "cell_type": "code",
   "execution_count": 1,
   "id": "1023a900-749b-4b03-b118-f03d5c58a829",
   "metadata": {},
   "outputs": [
    {
     "name": "stdout",
     "output_type": "stream",
     "text": [
      "3.12.6 (main, Sep 30 2024, 02:19:13) [GCC 9.4.0]\n"
     ]
    }
   ],
   "source": [
    "import os, sys\n",
    "\n",
    "import sgpp, sgml, dproc, sgutil\n",
    "import pandas as pd\n",
    "import polars as pl\n",
    "import numpy as np\n",
    "import matplotlib.pyplot as plt\n",
    "import seaborn as sns\n",
    "\n",
    "import warnings\n",
    "warnings.simplefilter(action='ignore', category=FutureWarning)\n",
    "\n",
    "print(sys.version)\n",
    "\n",
    "from sklearn.pipeline import make_pipeline"
   ]
  },
  {
   "cell_type": "markdown",
   "id": "3e29aa35-1bdc-41c0-a6b6-48e2e1da1a29",
   "metadata": {},
   "source": [
    "- 다른 Kaggle 노트에서 했듯이 Episode_Length_minutes의 결측 여부로 구분하지 않고 Target Encoding을 합니다."
   ]
  },
  {
   "cell_type": "code",
   "execution_count": 2,
   "id": "6dab3377-ae3c-441a-a0cd-f8dec89d336a",
   "metadata": {},
   "outputs": [],
   "source": [
    "sc = sgutil.SGCache('img', 'result', 'model')\n",
    "p = make_pipeline(\n",
    "    sgpp.PolarsProcessor(),\n",
    "    sgpp.ExprProcessor({\n",
    "        'ELm_num': (pl.col('Episode_Length_minutes').clip(5, 120) - 5) / 115,\n",
    "        'GP': (pl.col('Guest_Popularity_percentage').fill_null(pl.col('Guest_Popularity_percentage').clip(0,100).mean()).clip(0, 100) / 100),\n",
    "        'HP': pl.col('Host_Popularity_percentage').clip(0, 100) / 100,\n",
    "        'NAd': (pl.when(pl.col('Number_of_Ads') > 4).then(0).otherwise(pl.col('Number_of_Ads'))).fill_null(0.0) /3 ,\n",
    "        'Number_of_Ads': (pl.when(pl.col('Number_of_Ads') > 4).then(0).otherwise(pl.col('Number_of_Ads'))).fill_null(0).cast(pl.Int8),\n",
    "        'ELm_na': pl.col('Episode_Length_minutes').is_null(),\n",
    "        'GPp_na': pl.col('Guest_Popularity_percentage').is_null(),\n",
    "        'ELm_sqrt': ((pl.col('Episode_Length_minutes').clip(5, 120) - 5) / 115)  ** 0.5\n",
    "    }),\n",
    "    sgpp.PandasConverter(index_col = 'id')\n",
    ")\n",
    "p.fit(['data/train.csv'])\n",
    "df_train = p.transform(['data/train.csv'])\n",
    "df_test = p.transform(['data/test.csv'])\n",
    "target = 'Listening_Time_minutes'\n",
    "X_all = [i for i in df_train.columns if i != target]"
   ]
  },
  {
   "cell_type": "code",
   "execution_count": 3,
   "id": "68dad3e3-2088-4375-b32f-f1e39d8df59d",
   "metadata": {},
   "outputs": [],
   "source": [
    "import lightgbm as lgb\n",
    "import xgboost as xgb\n",
    "import catboost as cb\n",
    "from sklearn.metrics import root_mean_squared_error\n",
    "from sklearn.model_selection import KFold, cross_validate, cross_val_score, ShuffleSplit, train_test_split\n",
    "from sklearn.linear_model import LinearRegression\n",
    "from mlxtend.feature_selection import SequentialFeatureSelector\n",
    "kf = KFold(5, shuffle = True, random_state = 123)\n",
    "ss = ShuffleSplit(1, train_size = 0.8, random_state = 123)\n",
    "\n",
    "def get_validation_splitter(validation_fraction):\n",
    "    return lambda x: train_test_split(x, test_size = validation_fraction)\n",
    "\n",
    "config = {\n",
    "    'predict_func': lambda m, df, X: pd.Series(m.predict(df[X]), index = df.index),\n",
    "    'score_func': lambda df, prds: root_mean_squared_error(df[target], prds),\n",
    "    'validation_splitter': get_validation_splitter,\n",
    "    'progress_callback': sgml.ProgressCallBack(), \n",
    "    'return_train_scores': True,\n",
    "    'y': target,\n",
    "}\n",
    "\n",
    "lr_adapter = sgml.SklearnAdapter(LinearRegression)\n",
    "lgb_adapter = sgml.LGBMAdapter(lgb.LGBMRegressor, progress = 50)\n",
    "xgb_adapter = sgml.XGBAdapter(xgb.XGBRegressor, progress = 50)"
   ]
  },
  {
   "cell_type": "code",
   "execution_count": 4,
   "id": "61790ceb-db30-4a2b-bb43-1f06973ba70f",
   "metadata": {},
   "outputs": [],
   "source": [
    "from itertools import combinations\n",
    "from tqdm.notebook import tqdm \n",
    "from cuml.preprocessing import TargetEncoder\n",
    "\n",
    "def get_tgt_rmse(df, X_tgt, target, smooth_space = np.linspace(1, 10, 10)):\n",
    "    rmse_fold = list()\n",
    "    best_prd = None\n",
    "    best_rmse = np.inf\n",
    "    for i in smooth_space:\n",
    "        tgt = TargetEncoder(smooth = i, split_method ='continuous')\n",
    "        prds = list()\n",
    "        rmses = list()\n",
    "        for train_idx, test_idx in kf.split(df[X_tgt], df[target]):\n",
    "            df.iloc[train_idx].pipe(lambda x: tgt.fit(x[X_tgt], x[target]))\n",
    "            df_valid = df.iloc[test_idx]\n",
    "            prds.append(\n",
    "                pd.Series(tgt.transform(df_valid[X_tgt]), index = df_valid.index)\n",
    "            )\n",
    "            rmses.append(\n",
    "                root_mean_squared_error(df_valid[target], prds[-1])\n",
    "            )\n",
    "        rmse_fold.append(np.mean(rmses))\n",
    "        if best_rmse > rmse_fold[-1]:\n",
    "            best_rmse = rmse_fold[-1]\n",
    "            best_prd = pd.concat(prds)\n",
    "    return np.min(rmse_fold), smooth_space[np.argmin(rmse_fold)], best_prd\n",
    "\n",
    "def get_tgt_rmse_list(df, X_values, target, smooth_space = [0.01, 0.1, 1, 10, 100, 1000]):\n",
    "    results = list()\n",
    "    best_prd_list = list()\n",
    "    for i in tqdm(X_values):\n",
    "        rmse, best_smooth, best_prd = get_tgt_rmse(df, i, target, smooth_space = smooth_space)\n",
    "        results.append(\n",
    "            pd.Series(\n",
    "                [i, rmse, best_smooth], index = ['X_tgt', 'RMSE', 'smooth']\n",
    "            )\n",
    "        )\n",
    "        best_prd_list.append(best_prd.rename('__'.join(i)))\n",
    "    return pd.DataFrame(results).sort_values('RMSE'), pd.concat(best_prd_list, axis=1).sort_index()\n",
    "\n",
    "def get_tgt_fit_transform(df_train, df_test, X_tgt, target, smooth):\n",
    "    results = list()\n",
    "    best_prd_list = list()\n",
    "    tgt = TargetEncoder(smooth = smooth, split_method ='continuous')\n",
    "    return pd.Series(\n",
    "        tgt.fit(df_train[X_tgt], df_train[target]).transform(df_test[X_tgt]),\n",
    "        index = df_test.index, name = '__'.join(X_tgt)\n",
    "    )"
   ]
  },
  {
   "cell_type": "code",
   "execution_count": 5,
   "id": "c82d071f-cc21-4896-9900-4b7191b6b132",
   "metadata": {},
   "outputs": [],
   "source": [
    "# FROM 2. Feature Engineering.ipynb \n",
    "# Target Encoding1\n",
    "\n",
    "X = [\n",
    "    'Host_Popularity_percentage', 'Guest_Popularity_percentage', 'Number_of_Ads',\n",
    "    'Episode_Sentiment', 'Episode_Title', 'Genre', 'Podcast_Name', 'Publication_Day', 'Publication_Time'\n",
    "]\n",
    "\n",
    "df_c_list, df_tgt_list = list(), list()\n",
    "for j in range(1, 5):\n",
    "    df_c, df_tgt = sc.cache_result(\n",
    "        'tgt_enc_target_{}'.format(j), lambda : get_tgt_rmse_list(df_train, [list(i) for i in combinations(X, j)], target), rerun = 0\n",
    "    )\n",
    "    df_c_list.append(df_c)\n",
    "    df_tgt_list.append(df_tgt)\n",
    "\n",
    "df_c1 = pd.concat(df_c_list, axis = 0)\n",
    "df_tgt1 = pd.concat(df_tgt_list, axis = 1).rename(columns = lambda x: x + '_t')\n",
    "X_tgt1s = {'tgt1_{}'.format(j): ['__'.join(i) + '_t' for i in combinations(X, j)] for j in range(1, 5)}\n",
    "del df_c_list, df_tgt_list\n",
    "\n",
    "df_test_tgt1 = sc.cache_result(\n",
    "    'tgt_enc_target_test',\n",
    "    lambda : pd.concat([\n",
    "        get_tgt_fit_transform(df_train, df_test, i, target, j)\n",
    "        for i, j in df_c1[['X_tgt', 'smooth']].values\n",
    "    ], axis =1)\n",
    ").rename(columns = lambda x: x + '_t')\n",
    "\n",
    "df_train = dproc.join_and_assign(df_train, df_tgt1)\n",
    "df_test = dproc.join_and_assign(df_test, df_test_tgt1)\n",
    "del df_tgt1, df_test_tgt1"
   ]
  },
  {
   "cell_type": "code",
   "execution_count": 6,
   "id": "9d79d452-a2b2-4b59-8cd0-040c5f7a3a89",
   "metadata": {},
   "outputs": [],
   "source": [
    "X = [\n",
    "    'Episode_Length_minutes', 'Host_Popularity_percentage', 'Guest_Popularity_percentage', 'Number_of_Ads',\n",
    "    'Episode_Sentiment', 'Episode_Title', 'Genre', 'Podcast_Name', 'Publication_Day', 'Publication_Time'\n",
    "]\n",
    "\n",
    "df_c_list, df_tgt_list = list(), list()\n",
    "for j in range(1, 6):\n",
    "    df_c, df_tgt = sc.cache_result(\n",
    "        'tgt2_enc_target_{}'.format(j), lambda : get_tgt_rmse_list(df_train, [['Episode_Length_minutes'] + list(i) for i in combinations(X[1:], j - 1)], target), rerun = 0\n",
    "    )\n",
    "    df_c_list.append(df_c)\n",
    "    df_tgt_list.append(df_tgt)\n",
    "\n",
    "df_c = pd.concat(df_c_list, axis = 0)\n",
    "df_tgt_2 = pd.concat(df_tgt_list, axis = 1).rename(columns = lambda x: x + '_t2')\n",
    "X_tgt_2 = {'tgt_{}_2'.format(j): ['__'.join(['Episode_Length_minutes'] + list(i)) + '_t2' for i in combinations(X[1:], j - 1)] for j in range(1, 6)}\n",
    "del df_c_list, df_tgt_list"
   ]
  },
  {
   "cell_type": "code",
   "execution_count": 7,
   "id": "bbb08808-3bc7-4566-9194-74b435a607f1",
   "metadata": {},
   "outputs": [],
   "source": [
    "df_test_tgt_2 = sc.cache_result(\n",
    "    'tgt2_enc_target_test',\n",
    "    lambda : pd.concat([\n",
    "        get_tgt_fit_transform(df_train, df_test, i, target, j)\n",
    "        for i, j in df_c[['X_tgt', 'smooth']].values\n",
    "    ], axis =1), rerun = 0\n",
    ").rename(columns = lambda x: x + '_t2')"
   ]
  },
  {
   "cell_type": "code",
   "execution_count": 8,
   "id": "84f9b3e6-d629-4c6c-91ec-e0c562269a58",
   "metadata": {},
   "outputs": [],
   "source": [
    "df_train = dproc.join_and_assign(df_train, df_tgt_2)\n",
    "df_test = dproc.join_and_assign(df_test, df_test_tgt_2)\n",
    "del df_tgt_2, df_test_tgt_2"
   ]
  },
  {
   "cell_type": "markdown",
   "id": "8ac6e35f-fc16-4a04-a9b9-f3c0526cbff7",
   "metadata": {},
   "source": [
    "# Linear Regression 2"
   ]
  },
  {
   "cell_type": "code",
   "execution_count": 35,
   "id": "3416b6c6-070a-469c-98d0-5724762ff38d",
   "metadata": {},
   "outputs": [
    {
     "data": {
      "text/plain": [
       "np.float64(12.958728854787168)"
      ]
     },
     "execution_count": 35,
     "metadata": {},
     "output_type": "execute_result"
    }
   ],
   "source": [
    "hparams = {\n",
    "    'X_num': X_tgt1s['tgt1_1'] + X_tgt1s['tgt1_2'] + X_tgt1s['tgt1_3'] +  X_tgt1s['tgt1_4'] + \\\n",
    "            X_tgt_2['tgt_1_2'] + X_tgt_2['tgt_2_2'] + X_tgt_2['tgt_3_2'] + X_tgt_2['tgt_4_2']# + X_tgt_2['tgt_5_2']\n",
    "}\n",
    "\n",
    "result = sc.cv_result('LR_R2', df_train, kf, hparams, config, lr_adapter, result_proc = [sgml.lr_learning_result])\n",
    "np.mean(result['valid_scores'])"
   ]
  },
  {
   "cell_type": "code",
   "execution_count": 37,
   "id": "fec0b2c2-2fb1-4c54-a4ab-1b717a17cb67",
   "metadata": {},
   "outputs": [
    {
     "data": {
      "text/plain": [
       "[np.float64(12.913741269064793),\n",
       " np.float64(12.91332471106123),\n",
       " np.float64(12.97125949462766),\n",
       " np.float64(12.980572575758234),\n",
       " np.float64(13.01474622342393)]"
      ]
     },
     "execution_count": 37,
     "metadata": {},
     "output_type": "execute_result"
    }
   ],
   "source": [
    "result['valid_scores']"
   ]
  },
  {
   "cell_type": "markdown",
   "id": "4d12b9f1-a842-48c0-8752-aa6ae3a3576b",
   "metadata": {},
   "source": [
    "# XGB2 "
   ]
  },
  {
   "cell_type": "code",
   "execution_count": 16,
   "id": "7196b219-5c50-4412-9392-ab54099d5bf1",
   "metadata": {},
   "outputs": [
    {
     "data": {
      "application/vnd.jupyter.widget-view+json": {
       "model_id": "a0e375389c3a4894928853e40de9755f",
       "version_major": 2,
       "version_minor": 0
      },
      "text/plain": [
       "Fold:   0%|          | 0/5 [00:00<?, ?it/s]"
      ]
     },
     "metadata": {},
     "output_type": "display_data"
    },
    {
     "data": {
      "application/vnd.jupyter.widget-view+json": {
       "model_id": "",
       "version_major": 2,
       "version_minor": 0
      },
      "text/plain": [
       "Round:   0%|          | 0/500 [00:00<?, ?it/s]"
      ]
     },
     "metadata": {},
     "output_type": "display_data"
    },
    {
     "data": {
      "text/plain": [
       "np.float32(15.240668)"
      ]
     },
     "execution_count": 16,
     "metadata": {},
     "output_type": "execute_result"
    }
   ],
   "source": [
    "hparams = {\n",
    "    'X_num': X_tgt1s['tgt1_1'] + X_tgt1s['tgt1_2'] + X_tgt1s['tgt1_3'] +  X_tgt1s['tgt1_4'] + \\\n",
    "        X_tgt_2['tgt_1_2'], #+ X_tgt_2['tgt_2_2'] + X_tgt_2['tgt_3_2'] + X_tgt_2['tgt_4_2'] + X_tgt_2['tgt_5_2'],\n",
    "    'model_params': {'max_depth': 11, 'n_estimators': 500, 'colsample_bytree': 0.7, 'learning_rate': 0.007},\n",
    "    'validation_fraction': 0.1\n",
    "}\n",
    "\n",
    "result = sgml.cv(df_train, kf, hparams, config, xgb_adapter, use_gpu = True, rerun = 1)\n",
    "np.mean(result['valid_scores'])"
   ]
  },
  {
   "cell_type": "code",
   "execution_count": null,
   "id": "0be52c16-9cd3-419d-9cb5-370eea13f2c7",
   "metadata": {},
   "outputs": [],
   "source": [
    "hparams = {\n",
    "    'X_num': X_tgt1s['tgt1_1'] + X_tgt1s['tgt1_2'] + X_tgt1s['tgt1_3'] +  X_tgt1s['tgt1_4'] + \\\n",
    "        X_tgt_2['tgt_1_2'] + X_tgt_2['tgt_2_2'] + X_tgt_2['tgt_3_2'] + X_tgt_2['tgt_4_2'] + X_tgt_2['tgt_5_2'],\n",
    "    'model_params': {'max_depth': 11, 'n_estimators': 1500, 'colsample_bytree': 0.7, 'learning_rate': 0.007},\n",
    "}\n",
    "\n",
    "result = sc.cv_result('XGB_2', df_train, kf, hparams, config, xgb_adapter, use_gpu = True, rerun = 1)\n",
    "np.mean(result['valid_scores'])"
   ]
  },
  {
   "cell_type": "code",
   "execution_count": 15,
   "id": "ba30dd34-9829-47a8-81cd-192477d5664d",
   "metadata": {},
   "outputs": [
    {
     "data": {
      "text/plain": [
       "array([48.389637, 67.25354 , 46.280693, ..., 16.778877, 81.66974 ,\n",
       "       11.199295], shape=(750000,), dtype=float32)"
      ]
     },
     "execution_count": 15,
     "metadata": {},
     "output_type": "execute_result"
    }
   ],
   "source": [
    "sc.read_prd('XGB_2')"
   ]
  },
  {
   "cell_type": "code",
   "execution_count": 16,
   "id": "9a685055-010d-4bb9-aef2-51521dd24b95",
   "metadata": {},
   "outputs": [],
   "source": [
    "prd_off = pd.Series(\n",
    "    sc.read_prd('XGB_2'), index = df_train.index\n",
    ")"
   ]
  },
  {
   "cell_type": "code",
   "execution_count": 18,
   "id": "1a13c9bf-2faf-4f0d-9943-c41e692c9325",
   "metadata": {},
   "outputs": [
    {
     "data": {
      "text/plain": [
       "id\n",
       "551931    -73.819794\n",
       "354394    -71.448586\n",
       "138604    -69.686058\n",
       "50704     -69.058617\n",
       "206754    -66.664749\n",
       "             ...    \n",
       "391491     96.640778\n",
       "483905     98.030952\n",
       "583239    101.363632\n",
       "3859      102.183578\n",
       "63965     106.190018\n",
       "Length: 750000, dtype: float32"
      ]
     },
     "execution_count": 18,
     "metadata": {},
     "output_type": "execute_result"
    }
   ],
   "source": [
    "(df_train[target] - prd_off).sort_values()"
   ]
  },
  {
   "cell_type": "code",
   "execution_count": 12,
   "id": "7707518b-fa15-4e27-affa-83cfc3e55e61",
   "metadata": {},
   "outputs": [
    {
     "data": {
      "text/plain": [
       "['Podcast_Name',\n",
       " 'Episode_Title',\n",
       " 'Episode_Length_minutes',\n",
       " 'Genre',\n",
       " 'Host_Popularity_percentage',\n",
       " 'Publication_Day',\n",
       " 'Publication_Time',\n",
       " 'Guest_Popularity_percentage',\n",
       " 'Number_of_Ads',\n",
       " 'Episode_Sentiment',\n",
       " 'ELm_num',\n",
       " 'GP',\n",
       " 'HP',\n",
       " 'NAd',\n",
       " 'ELm_na',\n",
       " 'GPp_na',\n",
       " 'ELm_sqrt']"
      ]
     },
     "execution_count": 12,
     "metadata": {},
     "output_type": "execute_result"
    }
   ],
   "source": [
    "X_all"
   ]
  },
  {
   "cell_type": "code",
   "execution_count": 13,
   "id": "337c81cf-0761-488a-ab1c-542427766454",
   "metadata": {},
   "outputs": [],
   "source": [
    "a, b = None, None\n",
    "for i, (train_idx, valid_idx) in enumerate(kf.split(df_train, df_train[target])):\n",
    "    if i == 0:\n",
    "        a = df_train.iloc[valid_idx]\n",
    "    elif i == 1:\n",
    "        b = df_train.iloc[valid_idx]"
   ]
  },
  {
   "cell_type": "code",
   "execution_count": 14,
   "id": "c4373afc-9c71-4651-8477-f62cbb47cac0",
   "metadata": {},
   "outputs": [
    {
     "name": "stdout",
     "output_type": "stream",
     "text": [
      "Podcast_Name 0.3144325570282423\n",
      "Episode_Title 0.577316907832015\n",
      "Episode_Length_minutes nan\n",
      "Genre 0.2886007684207449\n",
      "Host_Popularity_percentage nan\n",
      "Publication_Day 0.327130728815115\n",
      "Publication_Time 0.5372906074856663\n",
      "Guest_Popularity_percentage nan\n",
      "Number_of_Ads 0.2668851442384523\n",
      "Episode_Sentiment 0.2068476190140054\n",
      "ELm_num nan\n",
      "GP nan\n",
      "HP nan\n",
      "NAd 0.2668851442384523\n",
      "ELm_na 0.7577088730708249\n",
      "GPp_na 0.09860643024865465\n",
      "ELm_sqrt nan\n"
     ]
    }
   ],
   "source": [
    "from scipy.stats import chi2_contingency\n",
    "for i in X_all:\n",
    "    print(\n",
    "        i, chi2_contingency(\n",
    "            pd.concat([\n",
    "                a[i].value_counts().rename('a'),\n",
    "                b[i].value_counts().rename('b'),\n",
    "            ], axis=1)\n",
    "        )[1]\n",
    "    )"
   ]
  },
  {
   "cell_type": "code",
   "execution_count": 27,
   "id": "4a33750f-4310-4b4c-9d4f-2fe7fb4562ec",
   "metadata": {},
   "outputs": [
    {
     "data": {
      "text/plain": [
       "<seaborn.axisgrid.FacetGrid at 0x7f83ebc3e360>"
      ]
     },
     "execution_count": 27,
     "metadata": {},
     "output_type": "execute_result"
    },
    {
     "data": {
      "image/png": "[encoded data removed]",
      "text/plain": [
       "<Figure size 2500x500 with 5 Axes>"
      ]
     },
     "metadata": {},
     "output_type": "display_data"
    }
   ],
   "source": [
    "sns.displot(\n",
    "    pd.concat(err_list),  x = 'resi', col = 'fold'\n",
    ")"
   ]
  },
  {
   "cell_type": "markdown",
   "id": "5adda424-8092-4e12-bf97-6da97c5092de",
   "metadata": {},
   "source": [
    "- Target Encoding을 Cross Validation으로 Cross Fitting해놓고 입력 변수로 사용할 경우 Data leakage를 발생시킬 수 있습니다.\n",
    "\n",
    "- 위 문제에서 Fold = 1의 테스트 성능이 떨어진 것은 Data Leakage에 의한 것입니다.\n",
    "\n",
    "- 따라 Target Encoding은 Train셋으로 매번 Fit을 시키던지 아니면, Train에서 Target Enocoder를 fit_transform(기본적으로 전달된 데이터셋으로 cross fit 시킨 결과를 반환)"
   ]
  },
  {
   "cell_type": "code",
   "execution_count": null,
   "id": "9331ed51-d4ea-42f2-a820-b7e87e0ee229",
   "metadata": {},
   "outputs": [],
   "source": []
  }
 ],
 "metadata": {
  "kernelspec": {
   "display_name": "Python 3 (ipykernel)",
   "language": "python",
   "name": "python3"
  },
  "language_info": {
   "codemirror_mode": {
    "name": "ipython",
    "version": 3
   },
   "file_extension": ".py",
   "mimetype": "text/x-python",
   "name": "python",
   "nbconvert_exporter": "python",
   "pygments_lexer": "ipython3",
   "version": "3.12.6"
  }
 },
 "nbformat": 4,
 "nbformat_minor": 5
}
