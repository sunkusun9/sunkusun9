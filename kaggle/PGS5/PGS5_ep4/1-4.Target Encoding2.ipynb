{
 "cells": [
  {
   "cell_type": "code",
   "execution_count": 2,
   "id": "6f6a1c99-92f8-437d-9e5c-0a738061fe6a",
   "metadata": {},
   "outputs": [
    {
     "name": "stdout",
     "output_type": "stream",
     "text": [
      "3.12.6 (main, Sep 30 2024, 02:19:13) [GCC 9.4.0]\n"
     ]
    }
   ],
   "source": [
    "import os, sys\n",
    "\n",
    "import sgpp, sgml, dproc, sgutil\n",
    "import pandas as pd\n",
    "import polars as pl\n",
    "import numpy as np\n",
    "import matplotlib.pyplot as plt\n",
    "import seaborn as sns\n",
    "\n",
    "import warnings\n",
    "warnings.simplefilter(action='ignore', category=FutureWarning)\n",
    "\n",
    "print(sys.version)\n",
    "\n",
    "from sklearn.pipeline import make_pipeline"
   ]
  },
  {
   "cell_type": "markdown",
   "id": "82833319-facb-4805-ad8e-a70688f6ded3",
   "metadata": {},
   "source": [
    "- Host_Popularity_percentage 범주형 변수화\n",
    "  \n",
    "- Guest_Popularity_percentage 범주형 변수화\n",
    "\n",
    "- Host_Popularity_percentage 를 -1 ~ 1 사이로 MinMaxScaling \n",
    "\n",
    "- Number_of_Ads에 이상치가 존재합니다. 이를 최빈값으로 정리하고 0 ~ 1 사이로 MinMaxScaling\n",
    "\n",
    "- Guest_Popularity_percentage 를 -1 ~ 1 사이로 MinMaxScaling\n",
    "\n",
    "- Episode_Length_minutes 는 범주형 변수화\n",
    "\n",
    "- Episode_Length_minutes를 5에서 120 사이로"
   ]
  },
  {
   "cell_type": "code",
   "execution_count": 3,
   "id": "85f44819-afe1-4de8-ae60-ebd55a410a98",
   "metadata": {},
   "outputs": [],
   "source": [
    "sc = sgutil.SGCache('img', 'result', 'model')"
   ]
  },
  {
   "cell_type": "code",
   "execution_count": 4,
   "id": "d1733f59-93fb-4816-aefe-e8b04c4bc41a",
   "metadata": {},
   "outputs": [
    {
     "data": {
      "text/html": [
       "<style>#sk-container-id-1 {\n",
       "  /* Definition of color scheme common for light and dark mode */\n",
       "  --sklearn-color-text: black;\n",
       "  --sklearn-color-line: gray;\n",
       "  /* Definition of color scheme for unfitted estimators */\n",
       "  --sklearn-color-unfitted-level-0: #fff5e6;\n",
       "  --sklearn-color-unfitted-level-1: #f6e4d2;\n",
       "  --sklearn-color-unfitted-level-2: #ffe0b3;\n",
       "  --sklearn-color-unfitted-level-3: chocolate;\n",
       "  /* Definition of color scheme for fitted estimators */\n",
       "  --sklearn-color-fitted-level-0: #f0f8ff;\n",
       "  --sklearn-color-fitted-level-1: #d4ebff;\n",
       "  --sklearn-color-fitted-level-2: #b3dbfd;\n",
       "  --sklearn-color-fitted-level-3: cornflowerblue;\n",
       "\n",
       "  /* Specific color for light theme */\n",
       "  --sklearn-color-text-on-default-background: var(--sg-text-color, var(--theme-code-foreground, var(--jp-content-font-color1, black)));\n",
       "  --sklearn-color-background: var(--sg-background-color, var(--theme-background, var(--jp-layout-color0, white)));\n",
       "  --sklearn-color-border-box: var(--sg-text-color, var(--theme-code-foreground, var(--jp-content-font-color1, black)));\n",
       "  --sklearn-color-icon: #696969;\n",
       "\n",
       "  @media (prefers-color-scheme: dark) {\n",
       "    /* Redefinition of color scheme for dark theme */\n",
       "    --sklearn-color-text-on-default-background: var(--sg-text-color, var(--theme-code-foreground, var(--jp-content-font-color1, white)));\n",
       "    --sklearn-color-background: var(--sg-background-color, var(--theme-background, var(--jp-layout-color0, #111)));\n",
       "    --sklearn-color-border-box: var(--sg-text-color, var(--theme-code-foreground, var(--jp-content-font-color1, white)));\n",
       "    --sklearn-color-icon: #878787;\n",
       "  }\n",
       "}\n",
       "\n",
       "#sk-container-id-1 {\n",
       "  color: var(--sklearn-color-text);\n",
       "}\n",
       "\n",
       "#sk-container-id-1 pre {\n",
       "  padding: 0;\n",
       "}\n",
       "\n",
       "#sk-container-id-1 input.sk-hidden--visually {\n",
       "  border: 0;\n",
       "  clip: rect(1px 1px 1px 1px);\n",
       "  clip: rect(1px, 1px, 1px, 1px);\n",
       "  height: 1px;\n",
       "  margin: -1px;\n",
       "  overflow: hidden;\n",
       "  padding: 0;\n",
       "  position: absolute;\n",
       "  width: 1px;\n",
       "}\n",
       "\n",
       "#sk-container-id-1 div.sk-dashed-wrapped {\n",
       "  border: 1px dashed var(--sklearn-color-line);\n",
       "  margin: 0 0.4em 0.5em 0.4em;\n",
       "  box-sizing: border-box;\n",
       "  padding-bottom: 0.4em;\n",
       "  background-color: var(--sklearn-color-background);\n",
       "}\n",
       "\n",
       "#sk-container-id-1 div.sk-container {\n",
       "  /* jupyter's `normalize.less` sets `[hidden] { display: none; }`\n",
       "     but bootstrap.min.css set `[hidden] { display: none !important; }`\n",
       "     so we also need the `!important` here to be able to override the\n",
       "     default hidden behavior on the sphinx rendered scikit-learn.org.\n",
       "     See: https://github.com/scikit-learn/scikit-learn/issues/21755 */\n",
       "  display: inline-block !important;\n",
       "  position: relative;\n",
       "}\n",
       "\n",
       "#sk-container-id-1 div.sk-text-repr-fallback {\n",
       "  display: none;\n",
       "}\n",
       "\n",
       "div.sk-parallel-item,\n",
       "div.sk-serial,\n",
       "div.sk-item {\n",
       "  /* draw centered vertical line to link estimators */\n",
       "  background-image: linear-gradient(var(--sklearn-color-text-on-default-background), var(--sklearn-color-text-on-default-background));\n",
       "  background-size: 2px 100%;\n",
       "  background-repeat: no-repeat;\n",
       "  background-position: center center;\n",
       "}\n",
       "\n",
       "/* Parallel-specific style estimator block */\n",
       "\n",
       "#sk-container-id-1 div.sk-parallel-item::after {\n",
       "  content: \"\";\n",
       "  width: 100%;\n",
       "  border-bottom: 2px solid var(--sklearn-color-text-on-default-background);\n",
       "  flex-grow: 1;\n",
       "}\n",
       "\n",
       "#sk-container-id-1 div.sk-parallel {\n",
       "  display: flex;\n",
       "  align-items: stretch;\n",
       "  justify-content: center;\n",
       "  background-color: var(--sklearn-color-background);\n",
       "  position: relative;\n",
       "}\n",
       "\n",
       "#sk-container-id-1 div.sk-parallel-item {\n",
       "  display: flex;\n",
       "  flex-direction: column;\n",
       "}\n",
       "\n",
       "#sk-container-id-1 div.sk-parallel-item:first-child::after {\n",
       "  align-self: flex-end;\n",
       "  width: 50%;\n",
       "}\n",
       "\n",
       "#sk-container-id-1 div.sk-parallel-item:last-child::after {\n",
       "  align-self: flex-start;\n",
       "  width: 50%;\n",
       "}\n",
       "\n",
       "#sk-container-id-1 div.sk-parallel-item:only-child::after {\n",
       "  width: 0;\n",
       "}\n",
       "\n",
       "/* Serial-specific style estimator block */\n",
       "\n",
       "#sk-container-id-1 div.sk-serial {\n",
       "  display: flex;\n",
       "  flex-direction: column;\n",
       "  align-items: center;\n",
       "  background-color: var(--sklearn-color-background);\n",
       "  padding-right: 1em;\n",
       "  padding-left: 1em;\n",
       "}\n",
       "\n",
       "\n",
       "/* Toggleable style: style used for estimator/Pipeline/ColumnTransformer box that is\n",
       "clickable and can be expanded/collapsed.\n",
       "- Pipeline and ColumnTransformer use this feature and define the default style\n",
       "- Estimators will overwrite some part of the style using the `sk-estimator` class\n",
       "*/\n",
       "\n",
       "/* Pipeline and ColumnTransformer style (default) */\n",
       "\n",
       "#sk-container-id-1 div.sk-toggleable {\n",
       "  /* Default theme specific background. It is overwritten whether we have a\n",
       "  specific estimator or a Pipeline/ColumnTransformer */\n",
       "  background-color: var(--sklearn-color-background);\n",
       "}\n",
       "\n",
       "/* Toggleable label */\n",
       "#sk-container-id-1 label.sk-toggleable__label {\n",
       "  cursor: pointer;\n",
       "  display: block;\n",
       "  width: 100%;\n",
       "  margin-bottom: 0;\n",
       "  padding: 0.5em;\n",
       "  box-sizing: border-box;\n",
       "  text-align: center;\n",
       "}\n",
       "\n",
       "#sk-container-id-1 label.sk-toggleable__label-arrow:before {\n",
       "  /* Arrow on the left of the label */\n",
       "  content: \"▸\";\n",
       "  float: left;\n",
       "  margin-right: 0.25em;\n",
       "  color: var(--sklearn-color-icon);\n",
       "}\n",
       "\n",
       "#sk-container-id-1 label.sk-toggleable__label-arrow:hover:before {\n",
       "  color: var(--sklearn-color-text);\n",
       "}\n",
       "\n",
       "/* Toggleable content - dropdown */\n",
       "\n",
       "#sk-container-id-1 div.sk-toggleable__content {\n",
       "  max-height: 0;\n",
       "  max-width: 0;\n",
       "  overflow: hidden;\n",
       "  text-align: left;\n",
       "  /* unfitted */\n",
       "  background-color: var(--sklearn-color-unfitted-level-0);\n",
       "}\n",
       "\n",
       "#sk-container-id-1 div.sk-toggleable__content.fitted {\n",
       "  /* fitted */\n",
       "  background-color: var(--sklearn-color-fitted-level-0);\n",
       "}\n",
       "\n",
       "#sk-container-id-1 div.sk-toggleable__content pre {\n",
       "  margin: 0.2em;\n",
       "  border-radius: 0.25em;\n",
       "  color: var(--sklearn-color-text);\n",
       "  /* unfitted */\n",
       "  background-color: var(--sklearn-color-unfitted-level-0);\n",
       "}\n",
       "\n",
       "#sk-container-id-1 div.sk-toggleable__content.fitted pre {\n",
       "  /* unfitted */\n",
       "  background-color: var(--sklearn-color-fitted-level-0);\n",
       "}\n",
       "\n",
       "#sk-container-id-1 input.sk-toggleable__control:checked~div.sk-toggleable__content {\n",
       "  /* Expand drop-down */\n",
       "  max-height: 200px;\n",
       "  max-width: 100%;\n",
       "  overflow: auto;\n",
       "}\n",
       "\n",
       "#sk-container-id-1 input.sk-toggleable__control:checked~label.sk-toggleable__label-arrow:before {\n",
       "  content: \"▾\";\n",
       "}\n",
       "\n",
       "/* Pipeline/ColumnTransformer-specific style */\n",
       "\n",
       "#sk-container-id-1 div.sk-label input.sk-toggleable__control:checked~label.sk-toggleable__label {\n",
       "  color: var(--sklearn-color-text);\n",
       "  background-color: var(--sklearn-color-unfitted-level-2);\n",
       "}\n",
       "\n",
       "#sk-container-id-1 div.sk-label.fitted input.sk-toggleable__control:checked~label.sk-toggleable__label {\n",
       "  background-color: var(--sklearn-color-fitted-level-2);\n",
       "}\n",
       "\n",
       "/* Estimator-specific style */\n",
       "\n",
       "/* Colorize estimator box */\n",
       "#sk-container-id-1 div.sk-estimator input.sk-toggleable__control:checked~label.sk-toggleable__label {\n",
       "  /* unfitted */\n",
       "  background-color: var(--sklearn-color-unfitted-level-2);\n",
       "}\n",
       "\n",
       "#sk-container-id-1 div.sk-estimator.fitted input.sk-toggleable__control:checked~label.sk-toggleable__label {\n",
       "  /* fitted */\n",
       "  background-color: var(--sklearn-color-fitted-level-2);\n",
       "}\n",
       "\n",
       "#sk-container-id-1 div.sk-label label.sk-toggleable__label,\n",
       "#sk-container-id-1 div.sk-label label {\n",
       "  /* The background is the default theme color */\n",
       "  color: var(--sklearn-color-text-on-default-background);\n",
       "}\n",
       "\n",
       "/* On hover, darken the color of the background */\n",
       "#sk-container-id-1 div.sk-label:hover label.sk-toggleable__label {\n",
       "  color: var(--sklearn-color-text);\n",
       "  background-color: var(--sklearn-color-unfitted-level-2);\n",
       "}\n",
       "\n",
       "/* Label box, darken color on hover, fitted */\n",
       "#sk-container-id-1 div.sk-label.fitted:hover label.sk-toggleable__label.fitted {\n",
       "  color: var(--sklearn-color-text);\n",
       "  background-color: var(--sklearn-color-fitted-level-2);\n",
       "}\n",
       "\n",
       "/* Estimator label */\n",
       "\n",
       "#sk-container-id-1 div.sk-label label {\n",
       "  font-family: monospace;\n",
       "  font-weight: bold;\n",
       "  display: inline-block;\n",
       "  line-height: 1.2em;\n",
       "}\n",
       "\n",
       "#sk-container-id-1 div.sk-label-container {\n",
       "  text-align: center;\n",
       "}\n",
       "\n",
       "/* Estimator-specific */\n",
       "#sk-container-id-1 div.sk-estimator {\n",
       "  font-family: monospace;\n",
       "  border: 1px dotted var(--sklearn-color-border-box);\n",
       "  border-radius: 0.25em;\n",
       "  box-sizing: border-box;\n",
       "  margin-bottom: 0.5em;\n",
       "  /* unfitted */\n",
       "  background-color: var(--sklearn-color-unfitted-level-0);\n",
       "}\n",
       "\n",
       "#sk-container-id-1 div.sk-estimator.fitted {\n",
       "  /* fitted */\n",
       "  background-color: var(--sklearn-color-fitted-level-0);\n",
       "}\n",
       "\n",
       "/* on hover */\n",
       "#sk-container-id-1 div.sk-estimator:hover {\n",
       "  /* unfitted */\n",
       "  background-color: var(--sklearn-color-unfitted-level-2);\n",
       "}\n",
       "\n",
       "#sk-container-id-1 div.sk-estimator.fitted:hover {\n",
       "  /* fitted */\n",
       "  background-color: var(--sklearn-color-fitted-level-2);\n",
       "}\n",
       "\n",
       "/* Specification for estimator info (e.g. \"i\" and \"?\") */\n",
       "\n",
       "/* Common style for \"i\" and \"?\" */\n",
       "\n",
       ".sk-estimator-doc-link,\n",
       "a:link.sk-estimator-doc-link,\n",
       "a:visited.sk-estimator-doc-link {\n",
       "  float: right;\n",
       "  font-size: smaller;\n",
       "  line-height: 1em;\n",
       "  font-family: monospace;\n",
       "  background-color: var(--sklearn-color-background);\n",
       "  border-radius: 1em;\n",
       "  height: 1em;\n",
       "  width: 1em;\n",
       "  text-decoration: none !important;\n",
       "  margin-left: 1ex;\n",
       "  /* unfitted */\n",
       "  border: var(--sklearn-color-unfitted-level-1) 1pt solid;\n",
       "  color: var(--sklearn-color-unfitted-level-1);\n",
       "}\n",
       "\n",
       ".sk-estimator-doc-link.fitted,\n",
       "a:link.sk-estimator-doc-link.fitted,\n",
       "a:visited.sk-estimator-doc-link.fitted {\n",
       "  /* fitted */\n",
       "  border: var(--sklearn-color-fitted-level-1) 1pt solid;\n",
       "  color: var(--sklearn-color-fitted-level-1);\n",
       "}\n",
       "\n",
       "/* On hover */\n",
       "div.sk-estimator:hover .sk-estimator-doc-link:hover,\n",
       ".sk-estimator-doc-link:hover,\n",
       "div.sk-label-container:hover .sk-estimator-doc-link:hover,\n",
       ".sk-estimator-doc-link:hover {\n",
       "  /* unfitted */\n",
       "  background-color: var(--sklearn-color-unfitted-level-3);\n",
       "  color: var(--sklearn-color-background);\n",
       "  text-decoration: none;\n",
       "}\n",
       "\n",
       "div.sk-estimator.fitted:hover .sk-estimator-doc-link.fitted:hover,\n",
       ".sk-estimator-doc-link.fitted:hover,\n",
       "div.sk-label-container:hover .sk-estimator-doc-link.fitted:hover,\n",
       ".sk-estimator-doc-link.fitted:hover {\n",
       "  /* fitted */\n",
       "  background-color: var(--sklearn-color-fitted-level-3);\n",
       "  color: var(--sklearn-color-background);\n",
       "  text-decoration: none;\n",
       "}\n",
       "\n",
       "/* Span, style for the box shown on hovering the info icon */\n",
       ".sk-estimator-doc-link span {\n",
       "  display: none;\n",
       "  z-index: 9999;\n",
       "  position: relative;\n",
       "  font-weight: normal;\n",
       "  right: .2ex;\n",
       "  padding: .5ex;\n",
       "  margin: .5ex;\n",
       "  width: min-content;\n",
       "  min-width: 20ex;\n",
       "  max-width: 50ex;\n",
       "  color: var(--sklearn-color-text);\n",
       "  box-shadow: 2pt 2pt 4pt #999;\n",
       "  /* unfitted */\n",
       "  background: var(--sklearn-color-unfitted-level-0);\n",
       "  border: .5pt solid var(--sklearn-color-unfitted-level-3);\n",
       "}\n",
       "\n",
       ".sk-estimator-doc-link.fitted span {\n",
       "  /* fitted */\n",
       "  background: var(--sklearn-color-fitted-level-0);\n",
       "  border: var(--sklearn-color-fitted-level-3);\n",
       "}\n",
       "\n",
       ".sk-estimator-doc-link:hover span {\n",
       "  display: block;\n",
       "}\n",
       "\n",
       "/* \"?\"-specific style due to the `<a>` HTML tag */\n",
       "\n",
       "#sk-container-id-1 a.estimator_doc_link {\n",
       "  float: right;\n",
       "  font-size: 1rem;\n",
       "  line-height: 1em;\n",
       "  font-family: monospace;\n",
       "  background-color: var(--sklearn-color-background);\n",
       "  border-radius: 1rem;\n",
       "  height: 1rem;\n",
       "  width: 1rem;\n",
       "  text-decoration: none;\n",
       "  /* unfitted */\n",
       "  color: var(--sklearn-color-unfitted-level-1);\n",
       "  border: var(--sklearn-color-unfitted-level-1) 1pt solid;\n",
       "}\n",
       "\n",
       "#sk-container-id-1 a.estimator_doc_link.fitted {\n",
       "  /* fitted */\n",
       "  border: var(--sklearn-color-fitted-level-1) 1pt solid;\n",
       "  color: var(--sklearn-color-fitted-level-1);\n",
       "}\n",
       "\n",
       "/* On hover */\n",
       "#sk-container-id-1 a.estimator_doc_link:hover {\n",
       "  /* unfitted */\n",
       "  background-color: var(--sklearn-color-unfitted-level-3);\n",
       "  color: var(--sklearn-color-background);\n",
       "  text-decoration: none;\n",
       "}\n",
       "\n",
       "#sk-container-id-1 a.estimator_doc_link.fitted:hover {\n",
       "  /* fitted */\n",
       "  background-color: var(--sklearn-color-fitted-level-3);\n",
       "}\n",
       "</style><div id=\"sk-container-id-1\" class=\"sk-top-container\"><div class=\"sk-text-repr-fallback\"><pre>Pipeline(steps=[(&#x27;polarsprocessor&#x27;,\n",
       "                 &lt;sgpp.PolarsProcessor object at 0x7f2474a8c500&gt;),\n",
       "                (&#x27;exprprocessor&#x27;,\n",
       "                 &lt;sgpp.ExprProcessor object at 0x7f24747899d0&gt;),\n",
       "                (&#x27;pandasconverter&#x27;,\n",
       "                 &lt;sgpp.PandasConverter object at 0x7f2474bf98e0&gt;)])</pre><b>In a Jupyter environment, please rerun this cell to show the HTML representation or trust the notebook. <br />On GitHub, the HTML representation is unable to render, please try loading this page with nbviewer.org.</b></div><div class=\"sk-container\" hidden><div class=\"sk-item sk-dashed-wrapped\"><div class=\"sk-label-container\"><div class=\"sk-label fitted sk-toggleable\"><input class=\"sk-toggleable__control sk-hidden--visually\" id=\"sk-estimator-id-1\" type=\"checkbox\" ><label for=\"sk-estimator-id-1\" class=\"sk-toggleable__label fitted sk-toggleable__label-arrow fitted\">&nbsp;&nbsp;Pipeline<a class=\"sk-estimator-doc-link fitted\" rel=\"noreferrer\" target=\"_blank\" href=\"https://scikit-learn.org/1.5/modules/generated/sklearn.pipeline.Pipeline.html\">?<span>Documentation for Pipeline</span></a><span class=\"sk-estimator-doc-link fitted\">i<span>Fitted</span></span></label><div class=\"sk-toggleable__content fitted\"><pre>Pipeline(steps=[(&#x27;polarsprocessor&#x27;,\n",
       "                 &lt;sgpp.PolarsProcessor object at 0x7f2474a8c500&gt;),\n",
       "                (&#x27;exprprocessor&#x27;,\n",
       "                 &lt;sgpp.ExprProcessor object at 0x7f24747899d0&gt;),\n",
       "                (&#x27;pandasconverter&#x27;,\n",
       "                 &lt;sgpp.PandasConverter object at 0x7f2474bf98e0&gt;)])</pre></div> </div></div><div class=\"sk-serial\"><div class=\"sk-item\"><div class=\"sk-estimator fitted sk-toggleable\"><input class=\"sk-toggleable__control sk-hidden--visually\" id=\"sk-estimator-id-2\" type=\"checkbox\" ><label for=\"sk-estimator-id-2\" class=\"sk-toggleable__label fitted sk-toggleable__label-arrow fitted\">PolarsProcessor</label><div class=\"sk-toggleable__content fitted\"><pre>&lt;sgpp.PolarsProcessor object at 0x7f2474a8c500&gt;</pre></div> </div></div><div class=\"sk-item\"><div class=\"sk-estimator fitted sk-toggleable\"><input class=\"sk-toggleable__control sk-hidden--visually\" id=\"sk-estimator-id-3\" type=\"checkbox\" ><label for=\"sk-estimator-id-3\" class=\"sk-toggleable__label fitted sk-toggleable__label-arrow fitted\">ExprProcessor</label><div class=\"sk-toggleable__content fitted\"><pre>&lt;sgpp.ExprProcessor object at 0x7f24747899d0&gt;</pre></div> </div></div><div class=\"sk-item\"><div class=\"sk-estimator fitted sk-toggleable\"><input class=\"sk-toggleable__control sk-hidden--visually\" id=\"sk-estimator-id-4\" type=\"checkbox\" ><label for=\"sk-estimator-id-4\" class=\"sk-toggleable__label fitted sk-toggleable__label-arrow fitted\">PandasConverter</label><div class=\"sk-toggleable__content fitted\"><pre>&lt;sgpp.PandasConverter object at 0x7f2474bf98e0&gt;</pre></div> </div></div></div></div></div></div>"
      ],
      "text/plain": [
       "Pipeline(steps=[('polarsprocessor',\n",
       "                 <sgpp.PolarsProcessor object at 0x7f2474a8c500>),\n",
       "                ('exprprocessor',\n",
       "                 <sgpp.ExprProcessor object at 0x7f24747899d0>),\n",
       "                ('pandasconverter',\n",
       "                 <sgpp.PandasConverter object at 0x7f2474bf98e0>)])"
      ]
     },
     "execution_count": 4,
     "metadata": {},
     "output_type": "execute_result"
    }
   ],
   "source": [
    "p = make_pipeline(\n",
    "    sgpp.PolarsProcessor(),\n",
    "    sgpp.ExprProcessor({\n",
    "        'ELm_num': (pl.col('Episode_Length_minutes').clip(5, 120) - 5) / 115,\n",
    "        'GP': (pl.col('Guest_Popularity_percentage').fill_null(pl.col('Guest_Popularity_percentage').clip(0,100).mean()).clip(0, 100) / 100),\n",
    "        'HP': pl.col('Host_Popularity_percentage').clip(0, 100) / 100,\n",
    "        'NAd': (pl.when(pl.col('Number_of_Ads') > 4).then(0).otherwise(pl.col('Number_of_Ads'))).fill_null(0.0) /3 ,\n",
    "        'Number_of_Ads': (pl.when(pl.col('Number_of_Ads') > 4).then(0).otherwise(pl.col('Number_of_Ads'))).fill_null(0).cast(pl.Int8),\n",
    "        'ELm_na': pl.col('Episode_Length_minutes').is_null(),\n",
    "        'GPp_na': pl.col('Guest_Popularity_percentage').is_null(),\n",
    "        'ELm_sqrt': ((pl.col('Episode_Length_minutes').clip(5, 120) - 5) / 115)  ** 0.5\n",
    "    }),\n",
    "    sgpp.PandasConverter(index_col = 'id')\n",
    ")\n",
    "p.fit(['data/train.csv'])"
   ]
  },
  {
   "cell_type": "code",
   "execution_count": 5,
   "id": "bf2b979b-0791-4b73-95be-ecc45b9006c6",
   "metadata": {},
   "outputs": [],
   "source": [
    "df_train = p.transform(['data/train.csv'])\n",
    "df_train_1 = df_train.loc[df_train['Episode_Length_minutes'].notna()]\n",
    "target = 'Listening_Time_minutes'"
   ]
  },
  {
   "cell_type": "code",
   "execution_count": 6,
   "id": "ed2a1a72-5e55-47dc-a9df-d93273b8137f",
   "metadata": {},
   "outputs": [],
   "source": [
    "import lightgbm as lgb\n",
    "import xgboost as xgb\n",
    "import catboost as cb\n",
    "from sklearn.metrics import root_mean_squared_error\n",
    "from sklearn.model_selection import KFold, cross_validate, cross_val_score, ShuffleSplit\n",
    "from sklearn.linear_model import LinearRegression\n",
    "from mlxtend.feature_selection import SequentialFeatureSelector\n",
    "kf = KFold(4, shuffle = True, random_state = 123)\n",
    "ss = ShuffleSplit(1, train_size = 0.75, random_state = 123)\n",
    "\n",
    "def get_validation_splitter(validation_fraction):\n",
    "    return lambda x: train_test_split(x, test_size = validation_fraction)\n",
    "\n",
    "def include_org(df, include_org = False):\n",
    "    return pd.concat([df, df_org]) if include_org else df\n",
    "\n",
    "config = {\n",
    "    'predict_func': lambda m, df, X: pd.Series(m.predict(df[X]), index = df.index),\n",
    "    'score_func': lambda df, prds: root_mean_squared_error(df[target], prds),\n",
    "    'validation_splitter': get_validation_splitter,\n",
    "    'progress_callback': sgml.ProgressCallBack(), \n",
    "    'return_train_scores': True,\n",
    "    'train_data_proc': include_org,\n",
    "    'y': target,\n",
    "}\n",
    "\n",
    "lr_adapter = sgml.SklearnAdapter(LinearRegression)"
   ]
  },
  {
   "cell_type": "markdown",
   "id": "7187422c-f0d4-4a56-9cb0-b71bbe15a3ff",
   "metadata": {},
   "source": [
    "- Target Encoding 실험 재설계,\n",
    "  > Episode_Length_minutes 제외한 모든 변수로 모든 데이터셋으로 Combination 1 ~ 4\n",
    "  >\n",
    "  > Episode_Length_minutes 포함 모든 변수로 Episode_Length_minutes 미결측 데이터셋으로 Combination 0 ~ 3"
   ]
  },
  {
   "cell_type": "code",
   "execution_count": 7,
   "id": "2cbef553-0913-4b76-9437-92531e6fa34b",
   "metadata": {},
   "outputs": [],
   "source": [
    "from itertools import combinations\n",
    "from tqdm.notebook import tqdm \n",
    "from cuml.preprocessing import TargetEncoder\n",
    "\n",
    "def get_tgt_rmse(df, X_tgt, smooth_space = np.linspace(1, 10, 10)):\n",
    "    rmse_fold = list()\n",
    "    best_prd = None\n",
    "    best_rmse = np.inf\n",
    "    for i in smooth_space:\n",
    "        tgt = TargetEncoder(smooth = i, split_method ='continuous')\n",
    "        prds = list()\n",
    "        rmses = list()\n",
    "        for train_idx, test_idx in kf.split(df[X_tgt], df[target]):\n",
    "            df.iloc[train_idx].pipe(lambda x: tgt.fit(x[X_tgt], x[target]))\n",
    "            df_valid = df.iloc[test_idx]\n",
    "            prds.append(\n",
    "                pd.Series(tgt.transform(df_valid[X_tgt]), index = df_valid.index)\n",
    "            )\n",
    "            rmses.append(\n",
    "                root_mean_squared_error(df_valid[target], prds[-1])\n",
    "            )\n",
    "        rmse_fold.append(np.mean(rmses))\n",
    "        if best_rmse > rmse_fold[-1]:\n",
    "            best_rmse = rmse_fold[-1]\n",
    "            best_prd = pd.concat(prds)\n",
    "    return np.min(rmse_fold), smooth_space[np.argmin(rmse_fold)], best_prd\n",
    "\n",
    "def get_tgt_rmse_list(df, X_values, smooth_space = [0.01, 0.1, 1, 10, 100, 1000]):\n",
    "    results = list()\n",
    "    best_prd_list = list()\n",
    "    for i in tqdm(X_values):\n",
    "        rmse, best_smooth, best_prd = get_tgt_rmse(df, i, smooth_space = smooth_space)\n",
    "        results.append(\n",
    "            pd.Series(\n",
    "                [i, rmse, best_smooth], index = ['X_tgt', 'RMSE', 'smooth']\n",
    "            )\n",
    "        )\n",
    "        best_prd_list.append(best_prd.rename('__'.join(i)))\n",
    "    return pd.DataFrame(results).sort_values('RMSE'), pd.concat(best_prd_list, axis=1).sort_index()"
   ]
  },
  {
   "cell_type": "code",
   "execution_count": 8,
   "id": "ac8ed3ee-322b-4f3a-92a0-fb7481190598",
   "metadata": {},
   "outputs": [],
   "source": [
    "X_val = [\n",
    "    'Host_Popularity_percentage', 'Guest_Popularity_percentage', 'Number_of_Ads',\n",
    "    'Episode_Sentiment', 'Episode_Title', 'Genre', 'Podcast_Name', 'Publication_Day', 'Publication_Time'\n",
    "]"
   ]
  },
  {
   "cell_type": "markdown",
   "id": "5c827009-55de-411b-8346-d29698102d80",
   "metadata": {},
   "source": [
    "# ALL"
   ]
  },
  {
   "cell_type": "code",
   "execution_count": 9,
   "id": "20c04614-cf44-40a8-b3f7-501a4e12d136",
   "metadata": {},
   "outputs": [
    {
     "data": {
      "application/vnd.jupyter.widget-view+json": {
       "model_id": "9afc97c80e134528b5508bdd448d7c3f",
       "version_major": 2,
       "version_minor": 0
      },
      "text/plain": [
       "  0%|          | 0/9 [00:00<?, ?it/s]"
      ]
     },
     "metadata": {},
     "output_type": "display_data"
    },
    {
     "data": {
      "text/html": [
       "<div>\n",
       "<style scoped>\n",
       "    .dataframe tbody tr th:only-of-type {\n",
       "        vertical-align: middle;\n",
       "    }\n",
       "\n",
       "    .dataframe tbody tr th {\n",
       "        vertical-align: top;\n",
       "    }\n",
       "\n",
       "    .dataframe thead th {\n",
       "        text-align: right;\n",
       "    }\n",
       "</style>\n",
       "<table border=\"1\" class=\"dataframe\">\n",
       "  <thead>\n",
       "    <tr style=\"text-align: right;\">\n",
       "      <th></th>\n",
       "      <th>X_tgt</th>\n",
       "      <th>RMSE</th>\n",
       "      <th>smooth</th>\n",
       "    </tr>\n",
       "  </thead>\n",
       "  <tbody>\n",
       "    <tr>\n",
       "      <th>0</th>\n",
       "      <td>[Host_Popularity_percentage]</td>\n",
       "      <td>26.851036</td>\n",
       "      <td>10</td>\n",
       "    </tr>\n",
       "    <tr>\n",
       "      <th>2</th>\n",
       "      <td>[Number_of_Ads]</td>\n",
       "      <td>26.923613</td>\n",
       "      <td>10</td>\n",
       "    </tr>\n",
       "    <tr>\n",
       "      <th>1</th>\n",
       "      <td>[Guest_Popularity_percentage]</td>\n",
       "      <td>26.991587</td>\n",
       "      <td>100</td>\n",
       "    </tr>\n",
       "    <tr>\n",
       "      <th>4</th>\n",
       "      <td>[Episode_Title]</td>\n",
       "      <td>27.064105</td>\n",
       "      <td>100</td>\n",
       "    </tr>\n",
       "    <tr>\n",
       "      <th>6</th>\n",
       "      <td>[Podcast_Name]</td>\n",
       "      <td>27.104318</td>\n",
       "      <td>100</td>\n",
       "    </tr>\n",
       "    <tr>\n",
       "      <th>3</th>\n",
       "      <td>[Episode_Sentiment]</td>\n",
       "      <td>27.117177</td>\n",
       "      <td>100</td>\n",
       "    </tr>\n",
       "    <tr>\n",
       "      <th>8</th>\n",
       "      <td>[Publication_Time]</td>\n",
       "      <td>27.130197</td>\n",
       "      <td>1000</td>\n",
       "    </tr>\n",
       "    <tr>\n",
       "      <th>5</th>\n",
       "      <td>[Genre]</td>\n",
       "      <td>27.131325</td>\n",
       "      <td>1000</td>\n",
       "    </tr>\n",
       "    <tr>\n",
       "      <th>7</th>\n",
       "      <td>[Publication_Day]</td>\n",
       "      <td>27.134080</td>\n",
       "      <td>1000</td>\n",
       "    </tr>\n",
       "  </tbody>\n",
       "</table>\n",
       "</div>"
      ],
      "text/plain": [
       "                           X_tgt       RMSE  smooth\n",
       "0   [Host_Popularity_percentage]  26.851036      10\n",
       "2                [Number_of_Ads]  26.923613      10\n",
       "1  [Guest_Popularity_percentage]  26.991587     100\n",
       "4                [Episode_Title]  27.064105     100\n",
       "6                 [Podcast_Name]  27.104318     100\n",
       "3            [Episode_Sentiment]  27.117177     100\n",
       "8             [Publication_Time]  27.130197    1000\n",
       "5                        [Genre]  27.131325    1000\n",
       "7              [Publication_Day]  27.134080    1000"
      ]
     },
     "execution_count": 9,
     "metadata": {},
     "output_type": "execute_result"
    }
   ],
   "source": [
    "df_c1, df_prd_1 = sc.cache_result(\n",
    "    'tgt_rmse_c1_all', lambda : get_tgt_rmse_list(df_train, [list(i) for i in combinations(X_val, 1)]), rerun = 0\n",
    ")\n",
    "df_c1"
   ]
  },
  {
   "cell_type": "code",
   "execution_count": null,
   "id": "01f6678a-eeb6-4669-b6a5-420e3e0e5483",
   "metadata": {},
   "outputs": [],
   "source": [
    "df_c2, df_prd_2 = sc.cache_result(\n",
    "    'tgt_rmse_c2_all', lambda : get_tgt_rmse_list(df_train, [list(i) for i in combinations(X_val, 2)]), rerun = 0\n",
    ")\n",
    "df_c2.iloc[:25]"
   ]
  },
  {
   "cell_type": "code",
   "execution_count": null,
   "id": "91da9084-91d5-4335-8eea-193f5bc49a0b",
   "metadata": {},
   "outputs": [],
   "source": [
    "df_c3, df_prd_3 = sc.cache_result(\n",
    "    'tgt_rmse_c3_all', lambda : get_tgt_rmse_list(df_train, [list(i) for i in combinations(X_val, 3)]), rerun = 0\n",
    ")\n",
    "df_c3.iloc[:25]"
   ]
  },
  {
   "cell_type": "code",
   "execution_count": null,
   "id": "3ac54dd5-6a5f-42e3-b8cf-3ac405f520e7",
   "metadata": {},
   "outputs": [],
   "source": [
    "df_c4, df_prd_4 = sc.cache_result(\n",
    "    'tgt_rmse_c4_all', lambda : get_tgt_rmse_list(df_train, [list(i) for i in combinations(X_val, 4)]), rerun = 0\n",
    ")\n",
    "df_c4.iloc[:25]"
   ]
  },
  {
   "cell_type": "code",
   "execution_count": null,
   "id": "d3e1add2-4cbe-45ff-a86f-99a490c2cfd1",
   "metadata": {},
   "outputs": [],
   "source": [
    "df_c5, df_prd_5 = sc.cache_result(\n",
    "    'tgt_rmse_c5_all', lambda : get_tgt_rmse_list(df_train, [list(i) for i in combinations(X_val, 5)]), rerun = 0\n",
    ")\n",
    "df_c5.iloc[:25]"
   ]
  },
  {
   "cell_type": "markdown",
   "id": "430ce609-8dcb-4f9b-af47-4e262f484089",
   "metadata": {},
   "source": [
    "# Episode_Length_minutes Not NA"
   ]
  },
  {
   "cell_type": "code",
   "execution_count": null,
   "id": "cec54169-5f76-4815-88a2-d9d2327c5986",
   "metadata": {},
   "outputs": [],
   "source": [
    "df_c0_2, df_prd_0_2 = sc.cache_result(\n",
    "    'tgt_rmse_c0_2', lambda : get_tgt_rmse_list(df_train, [['Episode_Length_minutes']]), rerun = 0\n",
    ")\n",
    "df_c0_2"
   ]
  },
  {
   "cell_type": "code",
   "execution_count": null,
   "id": "aba439f0-b085-42de-b20a-fd8a96bf821d",
   "metadata": {},
   "outputs": [],
   "source": [
    "df_c1_2, df_prd_1_2 = sc.cache_result(\n",
    "    'tgt_rmse_c1_2', \n",
    "    lambda : get_tgt_rmse_list(df_train, [['Episode_Length_minutes'] + list(i) for i in combinations(X_val, 1)]), rerun = 0\n",
    ")\n",
    "df_c1_2"
   ]
  },
  {
   "cell_type": "code",
   "execution_count": null,
   "id": "518c0eb9-11d0-4524-a2fc-d06108cb574c",
   "metadata": {},
   "outputs": [],
   "source": [
    "df_c2_2, df_prd_2_2 = sc.cache_result(\n",
    "    'tgt_rmse_c2_2', \n",
    "    lambda : get_tgt_rmse_list(df_train, [['Episode_Length_minutes'] + list(i) for i in combinations(X_val, 2)]), rerun = 0\n",
    ")\n",
    "df_c2_2"
   ]
  },
  {
   "cell_type": "code",
   "execution_count": null,
   "id": "b1b65c08-5f92-43f1-b0ff-2e9f5c075b2f",
   "metadata": {},
   "outputs": [],
   "source": [
    "df_c3_2, df_prd_3_2 = sc.cache_result(\n",
    "    'tgt_rmse_c3_2', \n",
    "    lambda : get_tgt_rmse_list(df_train, [['Episode_Length_minutes'] + list(i) for i in combinations(X_val, 3)]), rerun = 0\n",
    ")\n",
    "df_c3_2"
   ]
  },
  {
   "cell_type": "code",
   "execution_count": null,
   "id": "0856fd2c-10c7-443f-826a-3a12d2e949f0",
   "metadata": {},
   "outputs": [],
   "source": [
    "df_c4_2, df_prd_4_2 = sc.cache_result(\n",
    "    'tgt_rmse_c4_2', \n",
    "    lambda : get_tgt_rmse_list(df_train, [['Episode_Length_minutes'] + list(i) for i in combinations(X_val, 4)]), rerun = 0\n",
    ")\n",
    "df_c4_2"
   ]
  },
  {
   "cell_type": "markdown",
   "id": "872a5aff-aaf8-4c97-8f10-cabbba4de40a",
   "metadata": {},
   "source": [
    "# Linear Regression"
   ]
  },
  {
   "cell_type": "code",
   "execution_count": null,
   "id": "10a49d73-599e-4180-bc37-70e40f9a802e",
   "metadata": {},
   "outputs": [],
   "source": [
    "result_list, tgt_list = list(), list()\n",
    "for i in ['tgt_rmse_c1_all', 'tgt_rmse_c2_all', 'tgt_rmse_c3_all', 'tgt_rmse_c4_all', \n",
    "          'tgt_rmse_c0_2', 'tgt_rmse_c1_2', 'tgt_rmse_c2_2', 'tgt_rmse_c3_2']:\n",
    "    df_result, df_tgt = sc.read_result(i)\n",
    "    result_list.append(df_result)\n",
    "    tgt_list.append(df_tgt)\n",
    "df_tgt, df_tgt_result = pd.concat(tgt_list, axis=1).join(df_train[target]), pd.concat(result_list)\n",
    "del result_list, tgt_list"
   ]
  },
  {
   "cell_type": "code",
   "execution_count": null,
   "id": "c3ebf500-0b74-4b41-ab24-592e7579ef2d",
   "metadata": {},
   "outputs": [],
   "source": [
    "from itertools import combinations\n",
    "X_val = [\n",
    "    'Host_Popularity_percentage', 'Guest_Popularity_percentage', 'Number_of_Ads',\n",
    "    'Episode_Sentiment', 'Episode_Title', 'Genre', 'Podcast_Name', 'Publication_Day', 'Publication_Time'\n",
    "]\n",
    "X_tgts = {\n",
    "    **{'tgt_{}'.format(j): ['__'.join(i) for i in combinations(X_val, j)] for j in range(1, 5)},\n",
    "    **{'tgt_{}_2'.format(j): ['__'.join(['Episode_Length_minutes'] + list(i)) for i in combinations(X_val, j)] for j in range(0,4)}\n",
    "}"
   ]
  },
  {
   "cell_type": "markdown",
   "id": "a8a46814-8894-4077-9f1b-5232550260cf",
   "metadata": {},
   "source": [
    "## ALL"
   ]
  },
  {
   "cell_type": "code",
   "execution_count": null,
   "id": "e1da013d-48a3-429d-8036-b6755f1f3328",
   "metadata": {},
   "outputs": [],
   "source": [
    "from sklearn.linear_model import LinearRegression\n",
    "\n",
    "hparams = {\n",
    "    'X_num': X_tgts['tgt_1'] + X_tgts['tgt_2'] + X_tgts['tgt_3'] + X_tgts['tgt_4']\n",
    "}\n",
    "\n",
    "result_1 = sc.cv_result('LR_0', df_tgt, kf, hparams, config, lr_adapter, result_proc = [sgml.lr_learning_result])\n",
    "np.mean(result_1['valid_scores'])"
   ]
  },
  {
   "cell_type": "code",
   "execution_count": null,
   "id": "a26b2557-c32f-47b3-a8d6-f8665ab9d458",
   "metadata": {},
   "outputs": [],
   "source": [
    "pd.DataFrame([i['coef'] for i in result['model_result']]).abs().mean().sort_values(ascending = False).iloc[:25]"
   ]
  },
  {
   "cell_type": "markdown",
   "id": "1cb89598-85ba-47b5-954f-74f6db6cb484",
   "metadata": {},
   "source": [
    "### Step-wise Forward Feature Selection\n",
    "\n",
    "지나치게 오래걸립니다."
   ]
  },
  {
   "cell_type": "code",
   "execution_count": null,
   "id": "5ea25259-02f6-45bc-8bc1-49958ead0507",
   "metadata": {},
   "outputs": [],
   "source": [
    "\"\"\"\n",
    "sfs = SequentialFeatureSelector(\n",
    "    LinearRegression(), k_features = 'best', forward = True, floating = True, scoring = 'neg_root_mean_squared_error', cv = kf, \n",
    "    fixed_features = ['Host_Popularity_percentage__Guest_Popularity_percentage']\n",
    ")\n",
    "\"\"\""
   ]
  },
  {
   "cell_type": "markdown",
   "id": "d383887d-3d69-4094-b5d5-7842dfd956ae",
   "metadata": {},
   "source": [
    "### PCA + Sequential Addition"
   ]
  },
  {
   "cell_type": "code",
   "execution_count": null,
   "id": "79417ab9-6a05-48b3-83e5-beee8e2c39a4",
   "metadata": {},
   "outputs": [],
   "source": [
    "from sklearn.decomposition import PCA\n",
    "from tqdm.notebook import tqdm\n",
    "pca = PCA()\n",
    "pca.fit(df_tgt)"
   ]
  },
  {
   "cell_type": "code",
   "execution_count": null,
   "id": "4df3e812-941f-486f-93af-485d864815f8",
   "metadata": {},
   "outputs": [],
   "source": [
    "pca.explained_variance_ratio_.cumsum()\n",
    "X_tgt_pca = pca.transform(df_tgt)"
   ]
  },
  {
   "cell_type": "code",
   "execution_count": null,
   "id": "11698142-f55b-4de0-9255-c4ccedae4392",
   "metadata": {},
   "outputs": [],
   "source": [
    "scores = list()\n",
    "for i in tqdm(list(range(2, X_tgt_pca.shape[1] + 1))):\n",
    "    scores.append(\n",
    "        np.mean(cross_val_score(LinearRegression(), X_tgt_pca[:, :i], df_train[target], cv = kf, scoring = 'neg_root_mean_squared_error'))\n",
    "    )"
   ]
  },
  {
   "cell_type": "code",
   "execution_count": null,
   "id": "d870478a-8824-4cfb-9dcd-3d65bb5bf8a9",
   "metadata": {},
   "outputs": [],
   "source": [
    "np.argmax(scores), np.max(scores), scores[-1], pca.explained_variance_ratio_[:(np.argmax(scores) - 1)].sum()"
   ]
  },
  {
   "cell_type": "markdown",
   "id": "883ee142-4c3d-40b9-933a-fb0c2cc2365a",
   "metadata": {},
   "source": [
    "- 거의 모든 속성이 유의미 하다고 보여집니다."
   ]
  },
  {
   "cell_type": "markdown",
   "id": "32e04890-c3bd-45f7-844e-56cc7b728321",
   "metadata": {},
   "source": [
    "# Episode_Length_minutes Not NA"
   ]
  },
  {
   "cell_type": "code",
   "execution_count": null,
   "id": "3cb52611-9661-4a44-9302-3e19d34b139c",
   "metadata": {},
   "outputs": [],
   "source": [
    "from sklearn.linear_model import LinearRegression\n",
    "\n",
    "hparams = {\n",
    "    'X_num': X_tgts['tgt_1'] + X_tgts['tgt_2'] + X_tgts['tgt_3'] + X_tgts['tgt_4'] + \\\n",
    "            X_tgts['tgt_0_2'] + X_tgts['tgt_1_2'] + X_tgts['tgt_2_2'] + X_tgts['tgt_3_2']\n",
    "}\n",
    "\n",
    "result_2 = sc.cv_result('LR_0_2', df_tgt.loc[~df_train['ELm_na']], kf, hparams, config, lr_adapter, result_proc = [sgml.lr_learning_result])\n",
    "np.mean(result_2['valid_scores'])"
   ]
  },
  {
   "cell_type": "code",
   "execution_count": null,
   "id": "9abb0dc1-7ed5-4791-9130-a56db246d309",
   "metadata": {},
   "outputs": [],
   "source": [
    "pd.DataFrame([i['coef'] for i in result['model_result']]).abs().mean().sort_values(ascending = False).iloc[:25]"
   ]
  },
  {
   "cell_type": "code",
   "execution_count": null,
   "id": "74e7c3f5-41e0-4dec-ad32-6f8357cf6b09",
   "metadata": {},
   "outputs": [],
   "source": [
    "(\n",
    "    (\n",
    "        (np.mean(result_1['valid_scores']) ** 2) * df_train['ELm_na'].sum() + (np.mean(result_2['valid_scores']) ** 2) * (~df_train['ELm_na']).sum()\n",
    "    ) / df_train.shape[0]\n",
    ") ** 0.5"
   ]
  },
  {
   "cell_type": "markdown",
   "id": "4d1d730a-c43f-4e98-b214-01f870506a70",
   "metadata": {},
   "source": [
    "## ALL with all tgt values"
   ]
  },
  {
   "cell_type": "code",
   "execution_count": null,
   "id": "f5ed2774-be38-48fe-8a74-0aee9e52c0df",
   "metadata": {},
   "outputs": [],
   "source": [
    "hparams = {\n",
    "    'X_num': X_tgts['tgt_1'] + X_tgts['tgt_2'] + X_tgts['tgt_3'] + X_tgts['tgt_4'] +\\\n",
    "            X_tgts['tgt_0_2'] + X_tgts['tgt_1_2'] + X_tgts['tgt_2_2'] + X_tgts['tgt_3_2']\n",
    "}\n",
    "\n",
    "result_3 = sc.cv_result('LR_0_3', df_tgt, kf, hparams, config, lr_adapter, result_proc = [sgml.lr_learning_result])\n",
    "result_3['valid_scores'], np.mean(result_3['valid_scores'])"
   ]
  },
  {
   "cell_type": "markdown",
   "id": "21b52033-7f8e-489d-b9ae-ef68e95cbe65",
   "metadata": {},
   "source": [
    "- Episode_Length_minutes이 NA일 때외 NA가 아닐 때 따로 학습시켰을 때 효과가 더 좋습니다.\n"
   ]
  },
  {
   "cell_type": "markdown",
   "id": "d71a86c0-91fe-4a34-9a15-2073672fde25",
   "metadata": {},
   "source": [
    "# Generating Target Encoded Data for test set\n",
    "\n",
    "유의한 Target Encoding 결과를 가려내는 것은 지금 상태로썬 소모적으로 보입니다.\n",
    "\n",
    "또한 Episode_Length_minutes 와 Combination 4는 들어가는 리소스 대비 성능향상이 너무 미약하여 제외 합니다."
   ]
  },
  {
   "cell_type": "code",
   "execution_count": null,
   "id": "a500651c-72c3-48c2-aa8b-633588571992",
   "metadata": {},
   "outputs": [],
   "source": [
    "df_test = p.transform(['data/test.csv'])"
   ]
  },
  {
   "cell_type": "code",
   "execution_count": null,
   "id": "b2d529eb-8827-4ed1-ac5f-18c3ae68f60a",
   "metadata": {},
   "outputs": [],
   "source": [
    "X_tgt_list = list()\n",
    "for i in range(1, 6):\n",
    "    X_tgt_list.extend([list(i) for i in combinations(X_val, i)])\n",
    "X_tgt_list.append(['Episode_Length_minutes'])\n",
    "for i in range(1, 4):\n",
    "    X_tgt_list.extend([['Episode_Length_minutes'] + list(i) for i in combinations(X_val, i)])"
   ]
  },
  {
   "cell_type": "code",
   "execution_count": null,
   "id": "58860d11-8fda-4212-8196-413856055c59",
   "metadata": {},
   "outputs": [],
   "source": [
    "def get_tgt_fit_transform(df_train, df_test, X_tgt, smooth):\n",
    "    results = list()\n",
    "    best_prd_list = list()\n",
    "    tgt = TargetEncoder(smooth = i, split_method ='continuous')\n",
    "    return pd.Series(\n",
    "        tgt.fit(df_train[X_tgt], df_train[target]).transform(df_test[X_tgt]),\n",
    "        index = df_test.index, name = '__'.join(X_tgt)\n",
    "    )"
   ]
  },
  {
   "cell_type": "code",
   "execution_count": null,
   "id": "0e46a0ca-88cd-4ce0-8195-ed452d0e21ca",
   "metadata": {},
   "outputs": [],
   "source": [
    "s_smooth = pd.concat([\n",
    "    df_c0_2, df_c1_2, df_c2_2, df_c3_2, df_c4_2, df_c1, df_c2, df_c3, df_c4, df_c5\n",
    "], axis=0).assign(\n",
    "    X_tgt = lambda x: x['X_tgt'].apply(lambda x: '__'.join(x) if type(x) == list else x)\n",
    ").set_index('X_tgt')['smooth']"
   ]
  },
  {
   "cell_type": "code",
   "execution_count": null,
   "id": "e251ffec-7286-48aa-a31d-6f8369240820",
   "metadata": {},
   "outputs": [],
   "source": [
    "df_tgt_test = sc.cache_result(\n",
    "    'tgt_test',\n",
    "    lambda : pd.concat([\n",
    "        get_tgt_fit_transform(df_train, df_test, i, s_smooth['__'.join(i)])\n",
    "        for i in X_tgt_list\n",
    "    ], axis= 1), rerun = 1\n",
    ")"
   ]
  },
  {
   "cell_type": "code",
   "execution_count": null,
   "id": "ab9fb971-92dd-4c51-800d-2bb3252e8f5a",
   "metadata": {},
   "outputs": [],
   "source": [
    "df_tgt = pd.concat([df_prd_1, df_prd_2, df_prd_3, df_prd_4, df_prd_5], axis=1)\n",
    "df_tgt.head()"
   ]
  },
  {
   "cell_type": "markdown",
   "id": "8a6b5eef-ae67-4668-9cbb-72c9e0cf31a4",
   "metadata": {},
   "source": [
    "# TGT406 + LR"
   ]
  },
  {
   "cell_type": "code",
   "execution_count": null,
   "id": "17819f9f-7de2-4421-807e-f61c7f65e642",
   "metadata": {},
   "outputs": [],
   "source": [
    "X_lr = df_tgt.columns.tolist()\n",
    "reg_lr = LinearRegression().fit(df_tgt, df_train[target])"
   ]
  },
  {
   "cell_type": "code",
   "execution_count": null,
   "id": "96b50131-f3ee-411c-a91b-7896af916358",
   "metadata": {},
   "outputs": [],
   "source": [
    "s_prd1 = df_tgt_test.loc[df_test['Episode_Length_minutes'].isna(), X_lr].pipe(\n",
    "    lambda x: pd.Series(reg_lr.predict(x), index = x.index, name = target)\n",
    ")\n",
    "s_prd1.head()"
   ]
  },
  {
   "cell_type": "code",
   "execution_count": null,
   "id": "48e8ddf6-952c-4a4d-8295-8fcd782956a7",
   "metadata": {},
   "outputs": [],
   "source": [
    "df_tgt = pd.concat([df_prd_0_2, df_prd_1_2, df_prd_2_2, df_prd_3_2, df_prd_1, df_prd_2, df_prd_3, df_prd_4, df_prd_5], axis=1).loc[\n",
    "    df_train_1.index\n",
    "]\n",
    "df_tgt.head()"
   ]
  },
  {
   "cell_type": "code",
   "execution_count": null,
   "id": "c8076a7e-5c9e-45f2-9b77-5edddf9f5ee1",
   "metadata": {},
   "outputs": [],
   "source": [
    "X_lr = df_tgt.columns.tolist()\n",
    "reg_lr = LinearRegression().fit(df_tgt, df_train_1[target])"
   ]
  },
  {
   "cell_type": "code",
   "execution_count": null,
   "id": "c4dcefd7-5ffa-48f3-8e0d-51280a0eaacc",
   "metadata": {},
   "outputs": [],
   "source": [
    "s_prd2 = df_tgt_test.loc[df_test['Episode_Length_minutes'].notna(), X_lr].pipe(\n",
    "    lambda x: pd.Series(reg_lr.predict(x), index = x.index, name = target)\n",
    ")\n",
    "s_prd2.head()"
   ]
  },
  {
   "cell_type": "code",
   "execution_count": null,
   "id": "c6f9c2b4-92bb-4131-942c-7701c7ee35a4",
   "metadata": {},
   "outputs": [],
   "source": [
    "pd.concat([s_prd1, s_prd2]).sort_index().to_csv('result/submission1.csv')"
   ]
  },
  {
   "cell_type": "markdown",
   "id": "9acc5dd0-dedc-4d77-84b9-3f4908e82b95",
   "metadata": {},
   "source": [
    "# TGT406 + MM Scaled mean imputed X_num + LR"
   ]
  },
  {
   "cell_type": "code",
   "execution_count": null,
   "id": "3e360663-e14b-4b68-b526-d56e8f7f7f85",
   "metadata": {},
   "outputs": [],
   "source": [
    "hparams = {\n",
    "    'X_ohe': ['Podcast_Name', 'Episode_Title', 'Genre', 'Publication_Day', 'Publication_Time', 'Episode_Sentiment'],\n",
    "    'ohe': {'drop': 'first'},\n",
    "    'X_num': ['GP', 'HP', 'NAd']\n",
    "}\n",
    "\n",
    "result = sgml.cv(df_train, kf, hparams, config, lr_adapter, result_proc = [sgml.lr_learning_result])\n",
    "np.mean(result['valid_scores'])"
   ]
  },
  {
   "cell_type": "code",
   "execution_count": null,
   "id": "327b5d17-c28c-4bb8-9462-87076a727e9b",
   "metadata": {},
   "outputs": [],
   "source": [
    "df_train[target].std()"
   ]
  },
  {
   "cell_type": "code",
   "execution_count": null,
   "id": "e9272862-0356-484f-981c-5e5f8352a7b2",
   "metadata": {},
   "outputs": [],
   "source": [
    "hparams = {\n",
    "    'X_num': ['GP', 'HP', 'NAd'] + X_tgts['tgt_1'] + X_tgts['tgt_2'] + X_tgts['tgt_3'] + X_tgts['tgt_4']\n",
    "}\n",
    "\n",
    "result_1 = sgml.cv(\n",
    "    df_train.drop(columns = [\n",
    "        'Podcast_Name', 'Episode_Title', 'Episode_Length_minutes', 'Genre',\n",
    "        'Host_Popularity_percentage', 'Publication_Day', 'Publication_Time',\n",
    "        'Guest_Popularity_percentage', 'Number_of_Ads', 'Episode_Sentiment', 'Listening_Time_minutes'\n",
    "    ]).join(df_tgt), kf, hparams, config, lr_adapter, result_proc = [sgml.lr_learning_result]\n",
    ")\n",
    "np.mean(result_1['valid_scores'])"
   ]
  },
  {
   "cell_type": "code",
   "execution_count": null,
   "id": "8c18e155-b3a2-4c39-b924-f686c4a3f24e",
   "metadata": {},
   "outputs": [],
   "source": [
    "hparams = {\n",
    "    'X_num': ['GP', 'HP', 'NAd', 'ELm_num', 'ELm_sqrt'] + X_tgts['tgt_1'] + X_tgts['tgt_2'] + X_tgts['tgt_3'] + X_tgts['tgt_4'] + X_tgts['tgt_0_2'] + X_tgts['tgt_1_2'] + X_tgts['tgt_2_2'] + X_tgts['tgt_3_2']\n",
    "}\n",
    "\n",
    "result_2 = sgml.cv(\n",
    "    df_train.drop(columns = [\n",
    "        'Podcast_Name', 'Episode_Title', 'Episode_Length_minutes', 'Genre',\n",
    "        'Host_Popularity_percentage', 'Publication_Day', 'Publication_Time',\n",
    "        'Guest_Popularity_percentage', 'Number_of_Ads', 'Episode_Sentiment', 'Listening_Time_minutes'\n",
    "    ]).join(df_tgt).loc[~df_train['ELm_na']], kf, hparams, config, lr_adapter, result_proc = [sgml.lr_learning_result]\n",
    ")\n",
    "np.mean(result_2['valid_scores'])"
   ]
  },
  {
   "cell_type": "code",
   "execution_count": null,
   "id": "efb699e8-6573-4075-ab9c-d3d4135c8b45",
   "metadata": {},
   "outputs": [],
   "source": [
    "(\n",
    "    (\n",
    "        (np.mean(result_1['valid_scores']) ** 2) * df_train['ELm_na'].sum() + (np.mean(result_2['valid_scores']) ** 2) * (~df_train['ELm_na']).sum()\n",
    "    ) / df_train.shape[0]\n",
    ") ** 0.5"
   ]
  },
  {
   "cell_type": "markdown",
   "id": "a86292ed-a90d-4f05-904f-b1645fbfa7ac",
   "metadata": {},
   "source": [
    "- Target Encoding 변수와 Episode_Length_minutes를 같이 사용하게 되면 오히려 정확도가 떨어집니다."
   ]
  },
  {
   "cell_type": "code",
   "execution_count": null,
   "id": "a8085c81-e5e9-4531-9a98-4efd75f4dee3",
   "metadata": {},
   "outputs": [],
   "source": []
  }
 ],
 "metadata": {
  "kernelspec": {
   "display_name": "Python 3 (ipykernel)",
   "language": "python",
   "name": "python3"
  },
  "language_info": {
   "codemirror_mode": {
    "name": "ipython",
    "version": 3
   },
   "file_extension": ".py",
   "mimetype": "text/x-python",
   "name": "python",
   "nbconvert_exporter": "python",
   "pygments_lexer": "ipython3",
   "version": "3.12.6"
  }
 },
 "nbformat": 4,
 "nbformat_minor": 5
}
