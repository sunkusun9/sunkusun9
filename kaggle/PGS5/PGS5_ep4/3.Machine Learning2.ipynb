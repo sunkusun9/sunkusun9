{
 "cells": [
  {
   "cell_type": "code",
   "execution_count": 1,
   "id": "9ab02c3c-de53-495e-914e-2fdea0ed85e4",
   "metadata": {},
   "outputs": [
    {
     "name": "stdout",
     "output_type": "stream",
     "text": [
      "3.12.9 (main, Mar 15 2025, 13:36:28) [GCC 13.3.0]\n"
     ]
    }
   ],
   "source": [
    "import os, sys\n",
    "\n",
    "import sgpp, sgml, dproc, sgutil\n",
    "import pandas as pd\n",
    "import polars as pl\n",
    "import numpy as np\n",
    "import matplotlib.pyplot as plt\n",
    "import seaborn as sns\n",
    "\n",
    "import warnings\n",
    "warnings.simplefilter(action='ignore', category=FutureWarning)\n",
    "\n",
    "print(sys.version)\n",
    "\n",
    "from sklearn.pipeline import make_pipeline"
   ]
  },
  {
   "cell_type": "code",
   "execution_count": 2,
   "id": "52320536-5288-4010-81fa-2adc125a1921",
   "metadata": {},
   "outputs": [],
   "source": [
    "elected_comb = [\n",
    "    # 2-interaction\n",
    "    ['Episode_Length_minutes', 'Host_Popularity_percentage'],\n",
    "    ['Episode_Length_minutes', 'Guest_Popularity_percentage'],\n",
    "    ['Episode_Length_minutes', 'Number_of_Ads'],\n",
    "    ['Episode_Title', 'Host_Popularity_percentage'],\n",
    "    ['Episode_Title', 'Guest_Popularity_percentage'],\n",
    "    ['Episode_Title', 'Number_of_Ads'],    \n",
    "    ['Host_Popularity_percentage', 'Guest_Popularity_percentage'],\n",
    "    ['Host_Popularity_percentage', 'Number_of_Ads'],\n",
    "    ['Host_Popularity_percentage', 'Episode_Sentiment'],\n",
    "    ['Episode_Length_minutes', 'Podcast_Name'],\n",
    "    ['Episode_Title', 'Podcast_Name'],  \n",
    "    ['Guest_Popularity_percentage', 'Podcast_Name'],\n",
    "    \n",
    "    # 3-interaction\n",
    "    ['Episode_Length_minutes', 'Episode_Title', 'Host_Popularity_percentage'],\n",
    "    ['Episode_Length_minutes', 'Episode_Title', 'Guest_Popularity_percentage'],\n",
    "    ['Episode_Length_minutes', 'Episode_Title', 'Number_of_Ads'],\n",
    "    ['Episode_Length_minutes', 'Episode_Title', 'Episode_Sentiment'],\n",
    "    ['Episode_Length_minutes', 'Episode_Title', 'Publication_Day'],\n",
    "    ['Episode_Length_minutes', 'Host_Popularity_percentage', 'Guest_Popularity_percentage'],\n",
    "    ['Episode_Length_minutes', 'Host_Popularity_percentage', 'Number_of_Ads'],\n",
    "    ['Episode_Length_minutes', 'Host_Popularity_percentage', 'Episode_Sentiment'],\n",
    "    ['Episode_Length_minutes', 'Host_Popularity_percentage', 'Publication_Day'],\n",
    "    ['Episode_Length_minutes', 'Host_Popularity_percentage', 'Publication_Time'],\n",
    "    ['Episode_Length_minutes', 'Guest_Popularity_percentage', 'Number_of_Ads'],\n",
    "    ['Episode_Length_minutes', 'Guest_Popularity_percentage', 'Publication_Day'],\n",
    "    ['Episode_Length_minutes', 'Guest_Popularity_percentage', 'Publication_Time'],\n",
    "    ['Episode_Length_minutes', 'Number_of_Ads', 'Episode_Sentiment'],\n",
    "    ['Episode_Length_minutes', 'Number_of_Ads', 'Publication_Day'],\n",
    "    ['Episode_Length_minutes', 'Episode_Sentiment', 'Publication_Time'],\n",
    "    ['Episode_Title', 'Host_Popularity_percentage', 'Guest_Popularity_percentage'],\n",
    "    ['Episode_Title', 'Host_Popularity_percentage', 'Number_of_Ads'],\n",
    "    ['Episode_Title', 'Host_Popularity_percentage', 'Episode_Sentiment'],\n",
    "    ['Episode_Title', 'Host_Popularity_percentage', 'Publication_Day'],\n",
    "    ['Episode_Title', 'Host_Popularity_percentage', 'Publication_Time'],\n",
    "    ['Episode_Title', 'Host_Popularity_percentage', 'Genre'],\n",
    "    ['Episode_Title', 'Guest_Popularity_percentage', 'Number_of_Ads'],\n",
    "    ['Episode_Title', 'Guest_Popularity_percentage', 'Episode_Sentiment'],\n",
    "    ['Episode_Title', 'Guest_Popularity_percentage', 'Publication_Day'],\n",
    "    ['Episode_Title', 'Guest_Popularity_percentage', 'Publication_Time'],\n",
    "    ['Episode_Title', 'Guest_Popularity_percentage', 'Genre'],\n",
    "    ['Episode_Title', 'Number_of_Ads', 'Episode_Sentiment'],\n",
    "    ['Host_Popularity_percentage', 'Guest_Popularity_percentage', 'Number_of_Ads'],\n",
    "    ['Host_Popularity_percentage', 'Guest_Popularity_percentage', 'Episode_Sentiment'],\n",
    "    ['Host_Popularity_percentage', 'Guest_Popularity_percentage', 'Publication_Day'],\n",
    "    ['Host_Popularity_percentage', 'Guest_Popularity_percentage', 'Publication_Time'],\n",
    "    ['Host_Popularity_percentage', 'Number_of_Ads', 'Publication_Day'],\n",
    "\n",
    "    ['Guest_Popularity_percentage', 'Number_of_Ads', 'Episode_Sentiment'],\n",
    "    ['Guest_Popularity_percentage', 'Number_of_Ads', 'Genre'],    \n",
    "    \n",
    "    # 4-interaction\n",
    "    ['Episode_Length_minutes', 'Episode_Title', 'Host_Popularity_percentage', 'Guest_Popularity_percentage'],\n",
    "    ['Episode_Length_minutes', 'Episode_Title', 'Host_Popularity_percentage', 'Number_of_Ads'],\n",
    "    ['Episode_Length_minutes', 'Episode_Title', 'Host_Popularity_percentage', 'Episode_Sentiment'],\n",
    "    ['Episode_Length_minutes', 'Episode_Title', 'Host_Popularity_percentage', 'Publication_Day'],\n",
    "    ['Episode_Length_minutes', 'Episode_Title', 'Host_Popularity_percentage', 'Publication_Time'],\n",
    "    ['Episode_Length_minutes', 'Episode_Title', 'Host_Popularity_percentage', 'Genre'],\n",
    "    ['Episode_Length_minutes', 'Episode_Title', 'Guest_Popularity_percentage', 'Number_of_Ads'],\n",
    "    ['Episode_Length_minutes', 'Episode_Title', 'Guest_Popularity_percentage', 'Episode_Sentiment'],\n",
    "    ['Episode_Length_minutes', 'Episode_Title', 'Guest_Popularity_percentage', 'Publication_Day'],\n",
    "    ['Episode_Length_minutes', 'Episode_Title', 'Guest_Popularity_percentage', 'Publication_Time'],\n",
    "    ['Episode_Length_minutes', 'Episode_Title', 'Number_of_Ads', 'Episode_Sentiment'],\n",
    "    ['Episode_Length_minutes', 'Episode_Title', 'Number_of_Ads', 'Publication_Day'],\n",
    "    ['Episode_Length_minutes', 'Episode_Title', 'Number_of_Ads', 'Publication_Time'],\n",
    "    ['Episode_Length_minutes', 'Episode_Title', 'Publication_Day', 'Publication_Time'],\n",
    "    ['Episode_Length_minutes', 'Episode_Title', 'Publication_Day', 'Genre'],    \n",
    "    ['Episode_Length_minutes', 'Host_Popularity_percentage', 'Guest_Popularity_percentage', 'Number_of_Ads'],\n",
    "    ['Episode_Length_minutes', 'Host_Popularity_percentage', 'Guest_Popularity_percentage', 'Episode_Sentiment'],\n",
    "    ['Episode_Length_minutes', 'Host_Popularity_percentage', 'Guest_Popularity_percentage', 'Publication_Day'],\n",
    "    ['Episode_Length_minutes', 'Host_Popularity_percentage', 'Guest_Popularity_percentage', 'Publication_Time'],\n",
    "    ['Episode_Length_minutes', 'Host_Popularity_percentage', 'Number_of_Ads', 'Episode_Sentiment'],\n",
    "    ['Episode_Length_minutes', 'Host_Popularity_percentage', 'Number_of_Ads', 'Publication_Day'],\n",
    "    ['Episode_Length_minutes', 'Host_Popularity_percentage', 'Publication_Day', 'Publication_Time'],\n",
    "    ['Episode_Length_minutes', 'Host_Popularity_percentage', 'Publication_Day', 'Genre'],\n",
    "    ['Episode_Length_minutes', 'Guest_Popularity_percentage', 'Number_of_Ads', 'Episode_Sentiment'],\n",
    "    ['Episode_Length_minutes', 'Guest_Popularity_percentage', 'Number_of_Ads', 'Publication_Day'],\n",
    "    ['Episode_Length_minutes', 'Guest_Popularity_percentage', 'Number_of_Ads', 'Publication_Time'],\n",
    "    ['Episode_Length_minutes', 'Guest_Popularity_percentage', 'Number_of_Ads', 'Genre'],\n",
    "    ['Episode_Length_minutes', 'Episode_Title', 'Publication_Time', 'Podcast_Name'],\n",
    "    \n",
    "    ['Episode_Title', 'Host_Popularity_percentage', 'Guest_Popularity_percentage', 'Number_of_Ads'],\n",
    "    ['Episode_Title', 'Host_Popularity_percentage', 'Guest_Popularity_percentage', 'Episode_Sentiment'],\n",
    "    ['Episode_Title', 'Host_Popularity_percentage', 'Number_of_Ads', 'Publication_Day'],\n",
    "    ['Episode_Title', 'Host_Popularity_percentage', 'Number_of_Ads', 'Publication_Time'],\n",
    "    ['Episode_Title', 'Host_Popularity_percentage', 'Episode_Sentiment', 'Publication_Day'],\n",
    "    ['Episode_Title', 'Host_Popularity_percentage', 'Episode_Sentiment', 'Publication_Time'],\n",
    "    ['Episode_Title', 'Host_Popularity_percentage', 'Episode_Sentiment', 'Genre'],\n",
    "    ['Episode_Title', 'Host_Popularity_percentage', 'Publication_Day', 'Publication_Time'],\n",
    "    ['Episode_Title', 'Host_Popularity_percentage', 'Publication_Time', 'Genre'],\n",
    "    ['Episode_Title', 'Guest_Popularity_percentage', 'Number_of_Ads', 'Episode_Sentiment'],\n",
    "    ['Episode_Title', 'Guest_Popularity_percentage', 'Number_of_Ads', 'Genre'],\n",
    "    ['Episode_Title', 'Host_Popularity_percentage', 'Episode_Sentiment', 'Podcast_Name'],\n",
    "    ['Host_Popularity_percentage', 'Number_of_Ads', 'Episode_Sentiment', 'Podcast_Name'],\n",
    "    ['Host_Popularity_percentage', 'Number_of_Ads', 'Publication_Day', 'Podcast_Name'],\n",
    "    ['Host_Popularity_percentage', 'Number_of_Ads', 'Publication_Time', 'Podcast_Name'],\n",
    "    \n",
    "]\n",
    "\n",
    "X_tgt = [','.join(i) for i in elected_comb]"
   ]
  },
  {
   "cell_type": "code",
   "execution_count": 9,
   "id": "2d50e258-00b7-4f60-abfe-45a68086d7be",
   "metadata": {},
   "outputs": [],
   "source": [
    "sc = sgutil.SGCache('img', 'result', 'model')\n",
    "p = make_pipeline(\n",
    "    sgpp.PolarsProcessor(),\n",
    "    sgpp.ExprProcessor({\n",
    "        'ELm_num': (pl.col('Episode_Length_minutes').fill_null(pl.col('Episode_Length_minutes').mean()).clip(5, 120) - 5) / 115,\n",
    "        'GP': (pl.col('Guest_Popularity_percentage').fill_null(pl.col('Guest_Popularity_percentage').clip(0,100).mean()).clip(0, 100) / 100),\n",
    "        'HP': pl.col('Host_Popularity_percentage').clip(0, 100) / 100,\n",
    "        'NAd': (pl.when(pl.col('Number_of_Ads') > 4).then(0).otherwise(pl.col('Number_of_Ads'))).fill_null(0.0) /3 ,\n",
    "        'Number_of_Ads': (pl.when(pl.col('Number_of_Ads') > 4).then(0).otherwise(pl.col('Number_of_Ads'))).fill_null(0).cast(pl.Int8),\n",
    "        'ELm_na': pl.col('Episode_Length_minutes').is_null(),\n",
    "        'GPp_na': pl.col('Guest_Popularity_percentage').is_null(),\n",
    "        'ELm_sqrt': ((pl.col('Episode_Length_minutes').fill_null(pl.col('Episode_Length_minutes').mean()).clip(5, 120) - 5) / 115)  ** 0.5\n",
    "    }),\n",
    "    sgpp.PandasConverter(index_col = 'id'),\n",
    "    sgpp.ApplyWrapper(\n",
    "        sgpp.CatCombiner2(elected_comb), pd.Series(elected_comb).explode().unique().tolist()\n",
    "    )\n",
    ")\n",
    "p.fit(['data/train.csv'])\n",
    "df_train = p.transform(['data/train.csv'])\n",
    "df_test = p.transform(['data/test.csv'])"
   ]
  },
  {
   "cell_type": "code",
   "execution_count": 10,
   "id": "44e9e91f-e82b-4ee8-b9ff-b10a3cf3ef7a",
   "metadata": {},
   "outputs": [],
   "source": [
    "import lightgbm as lgb\n",
    "import xgboost as xgb\n",
    "import catboost as cb\n",
    "from sklearn.metrics import root_mean_squared_error\n",
    "from sklearn.model_selection import KFold, cross_validate, cross_val_score, ShuffleSplit\n",
    "from sklearn.linear_model import LinearRegression\n",
    "from mlxtend.feature_selection import SequentialFeatureSelector\n",
    "kf = KFold(5, shuffle = True, random_state = 123)\n",
    "ss = ShuffleSplit(1, train_size = 0.8, random_state = 123)\n",
    "target = 'Listening_Time_minutes'\n",
    "X_all = [i for i in df_train.columns if i != target]\n",
    "\n",
    "def get_validation_splitter(validation_fraction):\n",
    "    return lambda x: train_test_split(x, test_size = validation_fraction)\n",
    "\n",
    "config = {\n",
    "    'predict_func': lambda m, df, X: pd.Series(m.predict(df[X]), index = df.index),\n",
    "    'score_func': lambda df, prds: root_mean_squared_error(df[target], prds),\n",
    "    'validation_splitter': get_validation_splitter,\n",
    "    'progress_callback': sgml.ProgressCallBack(), \n",
    "    'return_train_scores': True,\n",
    "    'y': target,\n",
    "}\n",
    "\n",
    "lr_adapter = sgml.SklearnAdapter(LinearRegression)\n",
    "lgb_adapter = sgml.LGBMAdapter(lgb.LGBMRegressor, progress = 50)\n",
    "xgb_adapter = sgml.XGBAdapter(xgb.XGBRegressor, progress = 50)"
   ]
  },
  {
   "cell_type": "markdown",
   "id": "aa3c7415-1853-4140-8beb-ecf0f2dc6f71",
   "metadata": {},
   "source": [
    "# Linear Regression 1"
   ]
  },
  {
   "cell_type": "code",
   "execution_count": 12,
   "id": "7e98b7ec-473a-4172-9b53-68670a8aa037",
   "metadata": {},
   "outputs": [
    {
     "data": {
      "application/vnd.jupyter.widget-view+json": {
       "model_id": "defd2a9189984c51a42e008cd11ebcb8",
       "version_major": 2,
       "version_minor": 0
      },
      "text/plain": [
       "Fold:   0%|          | 0/5 [00:00<?, ?it/s]"
      ]
     },
     "metadata": {},
     "output_type": "display_data"
    },
    {
     "ename": "KeyboardInterrupt",
     "evalue": "",
     "output_type": "error",
     "traceback": [
      "\u001b[31m---------------------------------------------------------------------------\u001b[39m",
      "\u001b[31mKeyboardInterrupt\u001b[39m                         Traceback (most recent call last)",
      "\u001b[36mCell\u001b[39m\u001b[36m \u001b[39m\u001b[32mIn[12]\u001b[39m\u001b[32m, line 6\u001b[39m\n\u001b[32m      1\u001b[39m hparams = {\n\u001b[32m      2\u001b[39m     \u001b[33m'\u001b[39m\u001b[33mX_tgt\u001b[39m\u001b[33m'\u001b[39m: X_tgt,\n\u001b[32m      3\u001b[39m     \u001b[33m'\u001b[39m\u001b[33mX_num\u001b[39m\u001b[33m'\u001b[39m: [\u001b[33m'\u001b[39m\u001b[33mGP\u001b[39m\u001b[33m'\u001b[39m, \u001b[33m'\u001b[39m\u001b[33mHP\u001b[39m\u001b[33m'\u001b[39m, \u001b[33m'\u001b[39m\u001b[33mNAd\u001b[39m\u001b[33m'\u001b[39m, \u001b[33m'\u001b[39m\u001b[33mELm_sqrt\u001b[39m\u001b[33m'\u001b[39m, \u001b[33m'\u001b[39m\u001b[33mELm_num\u001b[39m\u001b[33m'\u001b[39m, \u001b[33m'\u001b[39m\u001b[33mELm_na\u001b[39m\u001b[33m'\u001b[39m]\n\u001b[32m      4\u001b[39m }\n\u001b[32m----> \u001b[39m\u001b[32m6\u001b[39m result = \u001b[43msc\u001b[49m\u001b[43m.\u001b[49m\u001b[43mcv_result\u001b[49m\u001b[43m(\u001b[49m\u001b[33;43m'\u001b[39;49m\u001b[33;43mLR_1\u001b[39;49m\u001b[33;43m'\u001b[39;49m\u001b[43m,\u001b[49m\u001b[43m \u001b[49m\u001b[43mdf_train\u001b[49m\u001b[43m,\u001b[49m\u001b[43m \u001b[49m\u001b[43mkf\u001b[49m\u001b[43m,\u001b[49m\u001b[43m \u001b[49m\u001b[43mhparams\u001b[49m\u001b[43m,\u001b[49m\u001b[43m \u001b[49m\u001b[43mconfig\u001b[49m\u001b[43m,\u001b[49m\u001b[43m \u001b[49m\u001b[43mlr_adapter\u001b[49m\u001b[43m,\u001b[49m\u001b[43m \u001b[49m\u001b[43mresult_proc\u001b[49m\u001b[43m \u001b[49m\u001b[43m=\u001b[49m\u001b[43m \u001b[49m\u001b[43m[\u001b[49m\u001b[43msgml\u001b[49m\u001b[43m.\u001b[49m\u001b[43mlr_learning_result\u001b[49m\u001b[43m]\u001b[49m\u001b[43m,\u001b[49m\u001b[43m \u001b[49m\u001b[43mrerun\u001b[49m\u001b[43m \u001b[49m\u001b[43m=\u001b[49m\u001b[43m \u001b[49m\u001b[32;43m1\u001b[39;49m\u001b[43m)\u001b[49m\n\u001b[32m      7\u001b[39m np.mean(result[\u001b[33m'\u001b[39m\u001b[33mvalid_scores\u001b[39m\u001b[33m'\u001b[39m])\n",
      "\u001b[36mFile \u001b[39m\u001b[32m/mnt/d/work/sunkusun9/kaggle/PGS5/PGS5_ep4/sgutil.py:99\u001b[39m, in \u001b[36mSGCache.cv_result\u001b[39m\u001b[34m(self, cv_name, df, sp, hparams, config, adapter, use_gpu, rerun, result_proc)\u001b[39m\n\u001b[32m     97\u001b[39m \u001b[38;5;28;01mif\u001b[39;00m \u001b[38;5;129;01mnot\u001b[39;00m rerun \u001b[38;5;129;01mand\u001b[39;00m os.path.exists(filename):\n\u001b[32m     98\u001b[39m     \u001b[38;5;28;01mreturn\u001b[39;00m \u001b[38;5;28mself\u001b[39m.read_cv(cv_name)\n\u001b[32m---> \u001b[39m\u001b[32m99\u001b[39m result = \u001b[43msgml\u001b[49m\u001b[43m.\u001b[49m\u001b[43mcv\u001b[49m\u001b[43m(\u001b[49m\u001b[43mdf\u001b[49m\u001b[43m,\u001b[49m\u001b[43m \u001b[49m\u001b[43msp\u001b[49m\u001b[43m,\u001b[49m\u001b[43m \u001b[49m\u001b[43mhparams\u001b[49m\u001b[43m,\u001b[49m\u001b[43m \u001b[49m\u001b[43mconfig\u001b[49m\u001b[43m,\u001b[49m\u001b[43m \u001b[49m\u001b[43madapter\u001b[49m\u001b[43m,\u001b[49m\u001b[43m \u001b[49m\u001b[43muse_gpu\u001b[49m\u001b[43m \u001b[49m\u001b[43m=\u001b[49m\u001b[43m \u001b[49m\u001b[43muse_gpu\u001b[49m\u001b[43m,\u001b[49m\u001b[43m \u001b[49m\u001b[43mresult_proc\u001b[49m\u001b[43m \u001b[49m\u001b[43m=\u001b[49m\u001b[43m \u001b[49m\u001b[43mresult_proc\u001b[49m\u001b[43m)\u001b[49m\n\u001b[32m    100\u001b[39m cv = {\n\u001b[32m    101\u001b[39m     \u001b[33m'\u001b[39m\u001b[33mhparams\u001b[39m\u001b[33m'\u001b[39m: hparams,\n\u001b[32m    102\u001b[39m     \u001b[33m'\u001b[39m\u001b[33madapter\u001b[39m\u001b[33m'\u001b[39m: adapter,\n\u001b[32m    103\u001b[39m     \u001b[33m'\u001b[39m\u001b[33mvalid_scores\u001b[39m\u001b[33m'\u001b[39m: result[\u001b[33m'\u001b[39m\u001b[33mvalid_scores\u001b[39m\u001b[33m'\u001b[39m],\n\u001b[32m    104\u001b[39m     \u001b[33m'\u001b[39m\u001b[33mmodel_result\u001b[39m\u001b[33m'\u001b[39m: result.get(\u001b[33m'\u001b[39m\u001b[33mmodel_result\u001b[39m\u001b[33m'\u001b[39m, \u001b[38;5;28;01mNone\u001b[39;00m)\n\u001b[32m    105\u001b[39m }\n\u001b[32m    106\u001b[39m joblib.dump(cv, os.path.join(\u001b[38;5;28mself\u001b[39m.result_path, cv_name + \u001b[33m'\u001b[39m\u001b[33m.cv\u001b[39m\u001b[33m'\u001b[39m))\n",
      "\u001b[36mFile \u001b[39m\u001b[32m/mnt/d/work/sunkusun9/kaggle/PGS5/PGS5_ep4/sgml.py:668\u001b[39m, in \u001b[36mcv\u001b[39m\u001b[34m(df, sp, hparams, config, adapter, use_gpu, **argv)\u001b[39m\n\u001b[32m    665\u001b[39m     config = config.copy()\n\u001b[32m    666\u001b[39m     config[\u001b[33m'\u001b[39m\u001b[33mtrain_data_proc\u001b[39m\u001b[33m'\u001b[39m] = partial(config[\u001b[33m'\u001b[39m\u001b[33mtrain_data_proc\u001b[39m\u001b[33m'\u001b[39m], **hparams[\u001b[33m'\u001b[39m\u001b[33mtrain_data_proc_param\u001b[39m\u001b[33m'\u001b[39m])\n\u001b[32m--> \u001b[39m\u001b[32m668\u001b[39m ret = \u001b[43mcv_model\u001b[49m\u001b[43m(\u001b[49m\n\u001b[32m    669\u001b[39m \u001b[43m    \u001b[49m\u001b[43msp\u001b[49m\u001b[43m=\u001b[49m\u001b[43msp\u001b[49m\u001b[43m,\u001b[49m\u001b[43m \u001b[49m\u001b[43mdf\u001b[49m\u001b[43m=\u001b[49m\u001b[43mdf\u001b[49m\u001b[43m,\u001b[49m\u001b[43m \u001b[49m\u001b[43m*\u001b[49m\u001b[43m*\u001b[49m\u001b[43mconfig\u001b[49m\u001b[43m,\u001b[49m\u001b[43m \u001b[49m\u001b[43m*\u001b[49m\u001b[43m*\u001b[49m\u001b[43madapter\u001b[49m\u001b[43m.\u001b[49m\u001b[43madapt\u001b[49m\u001b[43m(\u001b[49m\u001b[43mhparams\u001b[49m\u001b[43m,\u001b[49m\u001b[43m \u001b[49m\u001b[43mis_train\u001b[49m\u001b[43m=\u001b[49m\u001b[38;5;28;43;01mFalse\u001b[39;49;00m\u001b[43m,\u001b[49m\u001b[43m \u001b[49m\u001b[43muse_gpu\u001b[49m\u001b[43m \u001b[49m\u001b[43m=\u001b[49m\u001b[43m \u001b[49m\u001b[43muse_gpu\u001b[49m\u001b[43m,\u001b[49m\u001b[43m \u001b[49m\u001b[43m*\u001b[49m\u001b[43m*\u001b[49m\u001b[43margv\u001b[49m\u001b[43m)\u001b[49m\n\u001b[32m    670\u001b[39m \u001b[43m\u001b[49m\u001b[43m)\u001b[49m\n\u001b[32m    671\u001b[39m ret[\u001b[33m'\u001b[39m\u001b[33mhparams\u001b[39m\u001b[33m'\u001b[39m] = hparams\n\u001b[32m    672\u001b[39m \u001b[38;5;28;01mreturn\u001b[39;00m ret\n",
      "\u001b[36mFile \u001b[39m\u001b[32m/mnt/d/work/sunkusun9/kaggle/PGS5/PGS5_ep4/sgml.py:630\u001b[39m, in \u001b[36mcv_model\u001b[39m\u001b[34m(sp, model, model_params, df, X, y, predict_func, score_func, return_train_scores, preprocessor, result_proc, train_data_proc, train_params, sp_y, groups, target_func, target_invfunc, progress_callback)\u001b[39m\n\u001b[32m    628\u001b[39m \u001b[38;5;28;01mif\u001b[39;00m train_data_proc != \u001b[38;5;28;01mNone\u001b[39;00m:\n\u001b[32m    629\u001b[39m     df_cv_train = train_data_proc(df_cv_train)\n\u001b[32m--> \u001b[39m\u001b[32m630\u001b[39m result = \u001b[43mtrain_model\u001b[49m\u001b[43m(\u001b[49m\u001b[43mmodel\u001b[49m\u001b[43m,\u001b[49m\u001b[43m \u001b[49m\u001b[43mmodel_params\u001b[49m\u001b[43m,\u001b[49m\u001b[43m \u001b[49m\u001b[43mdf_cv_train\u001b[49m\u001b[43m,\u001b[49m\u001b[43m \u001b[49m\u001b[43mX\u001b[49m\u001b[43m,\u001b[49m\u001b[43m \u001b[49m\u001b[43my\u001b[49m\u001b[43m,\u001b[49m\u001b[43m \u001b[49m\u001b[43mpreprocessor\u001b[49m\u001b[43m=\u001b[49m\u001b[43mpreprocessor\u001b[49m\u001b[43m,\u001b[49m\u001b[43m \u001b[49m\u001b[43mtarget_func\u001b[49m\u001b[43m=\u001b[49m\u001b[43mtarget_func\u001b[49m\u001b[43m,\u001b[49m\u001b[43m \u001b[49m\u001b[43m*\u001b[49m\u001b[43m*\u001b[49m\u001b[43mtrain_params\u001b[49m\u001b[43m)\u001b[49m\n\u001b[32m    631\u001b[39m \u001b[38;5;28;01mif\u001b[39;00m \u001b[33m'\u001b[39m\u001b[33mpreprocessor\u001b[39m\u001b[33m'\u001b[39m \u001b[38;5;129;01min\u001b[39;00m result:\n\u001b[32m    632\u001b[39m     m = make_pipeline(result[\u001b[33m'\u001b[39m\u001b[33mpreprocessor\u001b[39m\u001b[33m'\u001b[39m], result[\u001b[33m'\u001b[39m\u001b[33mmodel\u001b[39m\u001b[33m'\u001b[39m])\n",
      "\u001b[36mFile \u001b[39m\u001b[32m/mnt/d/work/sunkusun9/kaggle/PGS5/PGS5_ep4/sgml.py:479\u001b[39m, in \u001b[36mtrain_model\u001b[39m\u001b[34m(model, model_params, df_train, X, y, valid_splitter, preprocessor, fit_params, valid_config_proc, target_func, **argv)\u001b[39m\n\u001b[32m    477\u001b[39m \u001b[38;5;28;01mif\u001b[39;00m valid_splitter \u001b[38;5;129;01mis\u001b[39;00m \u001b[38;5;129;01mnot\u001b[39;00m \u001b[38;5;28;01mNone\u001b[39;00m:\n\u001b[32m    478\u001b[39m     df_train, df_valid = valid_splitter(df_train)\n\u001b[32m--> \u001b[39m\u001b[32m479\u001b[39m X_train = \u001b[43mpreprocessor\u001b[49m\u001b[43m.\u001b[49m\u001b[43mfit_transform\u001b[49m\u001b[43m(\u001b[49m\u001b[43mdf_train\u001b[49m\u001b[43m[\u001b[49m\u001b[43mX\u001b[49m\u001b[43m]\u001b[49m\u001b[43m,\u001b[49m\u001b[43m \u001b[49m\u001b[43mdf_train\u001b[49m\u001b[43m[\u001b[49m\u001b[43my\u001b[49m\u001b[43m]\u001b[49m\u001b[43m)\u001b[49m\n\u001b[32m    480\u001b[39m n_categ = argv.get(\u001b[33m'\u001b[39m\u001b[33mcategorical_num\u001b[39m\u001b[33m'\u001b[39m, \u001b[32m0\u001b[39m)\n\u001b[32m    481\u001b[39m \u001b[38;5;28;01mif\u001b[39;00m n_categ > \u001b[32m0\u001b[39m:\n",
      "\u001b[36mFile \u001b[39m\u001b[32m~/python312/lib/python3.12/site-packages/sklearn/utils/_set_output.py:319\u001b[39m, in \u001b[36m_wrap_method_output.<locals>.wrapped\u001b[39m\u001b[34m(self, X, *args, **kwargs)\u001b[39m\n\u001b[32m    317\u001b[39m \u001b[38;5;129m@wraps\u001b[39m(f)\n\u001b[32m    318\u001b[39m \u001b[38;5;28;01mdef\u001b[39;00m\u001b[38;5;250m \u001b[39m\u001b[34mwrapped\u001b[39m(\u001b[38;5;28mself\u001b[39m, X, *args, **kwargs):\n\u001b[32m--> \u001b[39m\u001b[32m319\u001b[39m     data_to_wrap = \u001b[43mf\u001b[49m\u001b[43m(\u001b[49m\u001b[38;5;28;43mself\u001b[39;49m\u001b[43m,\u001b[49m\u001b[43m \u001b[49m\u001b[43mX\u001b[49m\u001b[43m,\u001b[49m\u001b[43m \u001b[49m\u001b[43m*\u001b[49m\u001b[43margs\u001b[49m\u001b[43m,\u001b[49m\u001b[43m \u001b[49m\u001b[43m*\u001b[49m\u001b[43m*\u001b[49m\u001b[43mkwargs\u001b[49m\u001b[43m)\u001b[49m\n\u001b[32m    320\u001b[39m     \u001b[38;5;28;01mif\u001b[39;00m \u001b[38;5;28misinstance\u001b[39m(data_to_wrap, \u001b[38;5;28mtuple\u001b[39m):\n\u001b[32m    321\u001b[39m         \u001b[38;5;66;03m# only wrap the first output for cross decomposition\u001b[39;00m\n\u001b[32m    322\u001b[39m         return_tuple = (\n\u001b[32m    323\u001b[39m             _wrap_data_with_container(method, data_to_wrap[\u001b[32m0\u001b[39m], X, \u001b[38;5;28mself\u001b[39m),\n\u001b[32m    324\u001b[39m             *data_to_wrap[\u001b[32m1\u001b[39m:],\n\u001b[32m    325\u001b[39m         )\n",
      "\u001b[36mFile \u001b[39m\u001b[32m~/python312/lib/python3.12/site-packages/sklearn/base.py:1389\u001b[39m, in \u001b[36m_fit_context.<locals>.decorator.<locals>.wrapper\u001b[39m\u001b[34m(estimator, *args, **kwargs)\u001b[39m\n\u001b[32m   1382\u001b[39m     estimator._validate_params()\n\u001b[32m   1384\u001b[39m \u001b[38;5;28;01mwith\u001b[39;00m config_context(\n\u001b[32m   1385\u001b[39m     skip_parameter_validation=(\n\u001b[32m   1386\u001b[39m         prefer_skip_nested_validation \u001b[38;5;129;01mor\u001b[39;00m global_skip_validation\n\u001b[32m   1387\u001b[39m     )\n\u001b[32m   1388\u001b[39m ):\n\u001b[32m-> \u001b[39m\u001b[32m1389\u001b[39m     \u001b[38;5;28;01mreturn\u001b[39;00m \u001b[43mfit_method\u001b[49m\u001b[43m(\u001b[49m\u001b[43mestimator\u001b[49m\u001b[43m,\u001b[49m\u001b[43m \u001b[49m\u001b[43m*\u001b[49m\u001b[43margs\u001b[49m\u001b[43m,\u001b[49m\u001b[43m \u001b[49m\u001b[43m*\u001b[49m\u001b[43m*\u001b[49m\u001b[43mkwargs\u001b[49m\u001b[43m)\u001b[49m\n",
      "\u001b[36mFile \u001b[39m\u001b[32m~/python312/lib/python3.12/site-packages/sklearn/compose/_column_transformer.py:1001\u001b[39m, in \u001b[36mColumnTransformer.fit_transform\u001b[39m\u001b[34m(self, X, y, **params)\u001b[39m\n\u001b[32m    998\u001b[39m \u001b[38;5;28;01melse\u001b[39;00m:\n\u001b[32m    999\u001b[39m     routed_params = \u001b[38;5;28mself\u001b[39m._get_empty_routing()\n\u001b[32m-> \u001b[39m\u001b[32m1001\u001b[39m result = \u001b[38;5;28;43mself\u001b[39;49m\u001b[43m.\u001b[49m\u001b[43m_call_func_on_transformers\u001b[49m\u001b[43m(\u001b[49m\n\u001b[32m   1002\u001b[39m \u001b[43m    \u001b[49m\u001b[43mX\u001b[49m\u001b[43m,\u001b[49m\n\u001b[32m   1003\u001b[39m \u001b[43m    \u001b[49m\u001b[43my\u001b[49m\u001b[43m,\u001b[49m\n\u001b[32m   1004\u001b[39m \u001b[43m    \u001b[49m\u001b[43m_fit_transform_one\u001b[49m\u001b[43m,\u001b[49m\n\u001b[32m   1005\u001b[39m \u001b[43m    \u001b[49m\u001b[43mcolumn_as_labels\u001b[49m\u001b[43m=\u001b[49m\u001b[38;5;28;43;01mFalse\u001b[39;49;00m\u001b[43m,\u001b[49m\n\u001b[32m   1006\u001b[39m \u001b[43m    \u001b[49m\u001b[43mrouted_params\u001b[49m\u001b[43m=\u001b[49m\u001b[43mrouted_params\u001b[49m\u001b[43m,\u001b[49m\n\u001b[32m   1007\u001b[39m \u001b[43m\u001b[49m\u001b[43m)\u001b[49m\n\u001b[32m   1009\u001b[39m \u001b[38;5;28;01mif\u001b[39;00m \u001b[38;5;129;01mnot\u001b[39;00m result:\n\u001b[32m   1010\u001b[39m     \u001b[38;5;28mself\u001b[39m._update_fitted_transformers([])\n",
      "\u001b[36mFile \u001b[39m\u001b[32m~/python312/lib/python3.12/site-packages/sklearn/compose/_column_transformer.py:910\u001b[39m, in \u001b[36mColumnTransformer._call_func_on_transformers\u001b[39m\u001b[34m(self, X, y, func, column_as_labels, routed_params)\u001b[39m\n\u001b[32m    898\u001b[39m             extra_args = {}\n\u001b[32m    899\u001b[39m         jobs.append(\n\u001b[32m    900\u001b[39m             delayed(func)(\n\u001b[32m    901\u001b[39m                 transformer=clone(trans) \u001b[38;5;28;01mif\u001b[39;00m \u001b[38;5;129;01mnot\u001b[39;00m fitted \u001b[38;5;28;01melse\u001b[39;00m trans,\n\u001b[32m   (...)\u001b[39m\u001b[32m    907\u001b[39m             )\n\u001b[32m    908\u001b[39m         )\n\u001b[32m--> \u001b[39m\u001b[32m910\u001b[39m     \u001b[38;5;28;01mreturn\u001b[39;00m \u001b[43mParallel\u001b[49m\u001b[43m(\u001b[49m\u001b[43mn_jobs\u001b[49m\u001b[43m=\u001b[49m\u001b[38;5;28;43mself\u001b[39;49m\u001b[43m.\u001b[49m\u001b[43mn_jobs\u001b[49m\u001b[43m)\u001b[49m\u001b[43m(\u001b[49m\u001b[43mjobs\u001b[49m\u001b[43m)\u001b[49m\n\u001b[32m    912\u001b[39m \u001b[38;5;28;01mexcept\u001b[39;00m \u001b[38;5;167;01mValueError\u001b[39;00m \u001b[38;5;28;01mas\u001b[39;00m e:\n\u001b[32m    913\u001b[39m     \u001b[38;5;28;01mif\u001b[39;00m \u001b[33m\"\u001b[39m\u001b[33mExpected 2D array, got 1D array instead\u001b[39m\u001b[33m\"\u001b[39m \u001b[38;5;129;01min\u001b[39;00m \u001b[38;5;28mstr\u001b[39m(e):\n",
      "\u001b[36mFile \u001b[39m\u001b[32m~/python312/lib/python3.12/site-packages/sklearn/utils/parallel.py:77\u001b[39m, in \u001b[36mParallel.__call__\u001b[39m\u001b[34m(self, iterable)\u001b[39m\n\u001b[32m     72\u001b[39m config = get_config()\n\u001b[32m     73\u001b[39m iterable_with_config = (\n\u001b[32m     74\u001b[39m     (_with_config(delayed_func, config), args, kwargs)\n\u001b[32m     75\u001b[39m     \u001b[38;5;28;01mfor\u001b[39;00m delayed_func, args, kwargs \u001b[38;5;129;01min\u001b[39;00m iterable\n\u001b[32m     76\u001b[39m )\n\u001b[32m---> \u001b[39m\u001b[32m77\u001b[39m \u001b[38;5;28;01mreturn\u001b[39;00m \u001b[38;5;28;43msuper\u001b[39;49m\u001b[43m(\u001b[49m\u001b[43m)\u001b[49m\u001b[43m.\u001b[49m\u001b[34;43m__call__\u001b[39;49m\u001b[43m(\u001b[49m\u001b[43miterable_with_config\u001b[49m\u001b[43m)\u001b[49m\n",
      "\u001b[36mFile \u001b[39m\u001b[32m~/python312/lib/python3.12/site-packages/joblib/parallel.py:1918\u001b[39m, in \u001b[36mParallel.__call__\u001b[39m\u001b[34m(self, iterable)\u001b[39m\n\u001b[32m   1916\u001b[39m     output = \u001b[38;5;28mself\u001b[39m._get_sequential_output(iterable)\n\u001b[32m   1917\u001b[39m     \u001b[38;5;28mnext\u001b[39m(output)\n\u001b[32m-> \u001b[39m\u001b[32m1918\u001b[39m     \u001b[38;5;28;01mreturn\u001b[39;00m output \u001b[38;5;28;01mif\u001b[39;00m \u001b[38;5;28mself\u001b[39m.return_generator \u001b[38;5;28;01melse\u001b[39;00m \u001b[38;5;28;43mlist\u001b[39;49m\u001b[43m(\u001b[49m\u001b[43moutput\u001b[49m\u001b[43m)\u001b[49m\n\u001b[32m   1920\u001b[39m \u001b[38;5;66;03m# Let's create an ID that uniquely identifies the current call. If the\u001b[39;00m\n\u001b[32m   1921\u001b[39m \u001b[38;5;66;03m# call is interrupted early and that the same instance is immediately\u001b[39;00m\n\u001b[32m   1922\u001b[39m \u001b[38;5;66;03m# re-used, this id will be used to prevent workers that were\u001b[39;00m\n\u001b[32m   1923\u001b[39m \u001b[38;5;66;03m# concurrently finalizing a task from the previous call to run the\u001b[39;00m\n\u001b[32m   1924\u001b[39m \u001b[38;5;66;03m# callback.\u001b[39;00m\n\u001b[32m   1925\u001b[39m \u001b[38;5;28;01mwith\u001b[39;00m \u001b[38;5;28mself\u001b[39m._lock:\n",
      "\u001b[36mFile \u001b[39m\u001b[32m~/python312/lib/python3.12/site-packages/joblib/parallel.py:1847\u001b[39m, in \u001b[36mParallel._get_sequential_output\u001b[39m\u001b[34m(self, iterable)\u001b[39m\n\u001b[32m   1845\u001b[39m \u001b[38;5;28mself\u001b[39m.n_dispatched_batches += \u001b[32m1\u001b[39m\n\u001b[32m   1846\u001b[39m \u001b[38;5;28mself\u001b[39m.n_dispatched_tasks += \u001b[32m1\u001b[39m\n\u001b[32m-> \u001b[39m\u001b[32m1847\u001b[39m res = \u001b[43mfunc\u001b[49m\u001b[43m(\u001b[49m\u001b[43m*\u001b[49m\u001b[43margs\u001b[49m\u001b[43m,\u001b[49m\u001b[43m \u001b[49m\u001b[43m*\u001b[49m\u001b[43m*\u001b[49m\u001b[43mkwargs\u001b[49m\u001b[43m)\u001b[49m\n\u001b[32m   1848\u001b[39m \u001b[38;5;28mself\u001b[39m.n_completed_tasks += \u001b[32m1\u001b[39m\n\u001b[32m   1849\u001b[39m \u001b[38;5;28mself\u001b[39m.print_progress()\n",
      "\u001b[36mFile \u001b[39m\u001b[32m~/python312/lib/python3.12/site-packages/sklearn/utils/parallel.py:139\u001b[39m, in \u001b[36m_FuncWrapper.__call__\u001b[39m\u001b[34m(self, *args, **kwargs)\u001b[39m\n\u001b[32m    137\u001b[39m     config = {}\n\u001b[32m    138\u001b[39m \u001b[38;5;28;01mwith\u001b[39;00m config_context(**config):\n\u001b[32m--> \u001b[39m\u001b[32m139\u001b[39m     \u001b[38;5;28;01mreturn\u001b[39;00m \u001b[38;5;28;43mself\u001b[39;49m\u001b[43m.\u001b[49m\u001b[43mfunction\u001b[49m\u001b[43m(\u001b[49m\u001b[43m*\u001b[49m\u001b[43margs\u001b[49m\u001b[43m,\u001b[49m\u001b[43m \u001b[49m\u001b[43m*\u001b[49m\u001b[43m*\u001b[49m\u001b[43mkwargs\u001b[49m\u001b[43m)\u001b[49m\n",
      "\u001b[36mFile \u001b[39m\u001b[32m~/python312/lib/python3.12/site-packages/sklearn/pipeline.py:1551\u001b[39m, in \u001b[36m_fit_transform_one\u001b[39m\u001b[34m(transformer, X, y, weight, message_clsname, message, params)\u001b[39m\n\u001b[32m   1549\u001b[39m \u001b[38;5;28;01mwith\u001b[39;00m _print_elapsed_time(message_clsname, message):\n\u001b[32m   1550\u001b[39m     \u001b[38;5;28;01mif\u001b[39;00m \u001b[38;5;28mhasattr\u001b[39m(transformer, \u001b[33m\"\u001b[39m\u001b[33mfit_transform\u001b[39m\u001b[33m\"\u001b[39m):\n\u001b[32m-> \u001b[39m\u001b[32m1551\u001b[39m         res = \u001b[43mtransformer\u001b[49m\u001b[43m.\u001b[49m\u001b[43mfit_transform\u001b[49m\u001b[43m(\u001b[49m\u001b[43mX\u001b[49m\u001b[43m,\u001b[49m\u001b[43m \u001b[49m\u001b[43my\u001b[49m\u001b[43m,\u001b[49m\u001b[43m \u001b[49m\u001b[43m*\u001b[49m\u001b[43m*\u001b[49m\u001b[43mparams\u001b[49m\u001b[43m.\u001b[49m\u001b[43mget\u001b[49m\u001b[43m(\u001b[49m\u001b[33;43m\"\u001b[39;49m\u001b[33;43mfit_transform\u001b[39;49m\u001b[33;43m\"\u001b[39;49m\u001b[43m,\u001b[49m\u001b[43m \u001b[49m\u001b[43m{\u001b[49m\u001b[43m}\u001b[49m\u001b[43m)\u001b[49m\u001b[43m)\u001b[49m\n\u001b[32m   1552\u001b[39m     \u001b[38;5;28;01melse\u001b[39;00m:\n\u001b[32m   1553\u001b[39m         res = transformer.fit(X, y, **params.get(\u001b[33m\"\u001b[39m\u001b[33mfit\u001b[39m\u001b[33m\"\u001b[39m, {})).transform(\n\u001b[32m   1554\u001b[39m             X, **params.get(\u001b[33m\"\u001b[39m\u001b[33mtransform\u001b[39m\u001b[33m\"\u001b[39m, {})\n\u001b[32m   1555\u001b[39m         )\n",
      "\u001b[36mFile \u001b[39m\u001b[32m~/python312/lib/python3.12/site-packages/sklearn/utils/_set_output.py:319\u001b[39m, in \u001b[36m_wrap_method_output.<locals>.wrapped\u001b[39m\u001b[34m(self, X, *args, **kwargs)\u001b[39m\n\u001b[32m    317\u001b[39m \u001b[38;5;129m@wraps\u001b[39m(f)\n\u001b[32m    318\u001b[39m \u001b[38;5;28;01mdef\u001b[39;00m\u001b[38;5;250m \u001b[39m\u001b[34mwrapped\u001b[39m(\u001b[38;5;28mself\u001b[39m, X, *args, **kwargs):\n\u001b[32m--> \u001b[39m\u001b[32m319\u001b[39m     data_to_wrap = \u001b[43mf\u001b[49m\u001b[43m(\u001b[49m\u001b[38;5;28;43mself\u001b[39;49m\u001b[43m,\u001b[49m\u001b[43m \u001b[49m\u001b[43mX\u001b[49m\u001b[43m,\u001b[49m\u001b[43m \u001b[49m\u001b[43m*\u001b[49m\u001b[43margs\u001b[49m\u001b[43m,\u001b[49m\u001b[43m \u001b[49m\u001b[43m*\u001b[49m\u001b[43m*\u001b[49m\u001b[43mkwargs\u001b[49m\u001b[43m)\u001b[49m\n\u001b[32m    320\u001b[39m     \u001b[38;5;28;01mif\u001b[39;00m \u001b[38;5;28misinstance\u001b[39m(data_to_wrap, \u001b[38;5;28mtuple\u001b[39m):\n\u001b[32m    321\u001b[39m         \u001b[38;5;66;03m# only wrap the first output for cross decomposition\u001b[39;00m\n\u001b[32m    322\u001b[39m         return_tuple = (\n\u001b[32m    323\u001b[39m             _wrap_data_with_container(method, data_to_wrap[\u001b[32m0\u001b[39m], X, \u001b[38;5;28mself\u001b[39m),\n\u001b[32m    324\u001b[39m             *data_to_wrap[\u001b[32m1\u001b[39m:],\n\u001b[32m    325\u001b[39m         )\n",
      "\u001b[36mFile \u001b[39m\u001b[32m~/python312/lib/python3.12/site-packages/sklearn/base.py:1389\u001b[39m, in \u001b[36m_fit_context.<locals>.decorator.<locals>.wrapper\u001b[39m\u001b[34m(estimator, *args, **kwargs)\u001b[39m\n\u001b[32m   1382\u001b[39m     estimator._validate_params()\n\u001b[32m   1384\u001b[39m \u001b[38;5;28;01mwith\u001b[39;00m config_context(\n\u001b[32m   1385\u001b[39m     skip_parameter_validation=(\n\u001b[32m   1386\u001b[39m         prefer_skip_nested_validation \u001b[38;5;129;01mor\u001b[39;00m global_skip_validation\n\u001b[32m   1387\u001b[39m     )\n\u001b[32m   1388\u001b[39m ):\n\u001b[32m-> \u001b[39m\u001b[32m1389\u001b[39m     \u001b[38;5;28;01mreturn\u001b[39;00m \u001b[43mfit_method\u001b[49m\u001b[43m(\u001b[49m\u001b[43mestimator\u001b[49m\u001b[43m,\u001b[49m\u001b[43m \u001b[49m\u001b[43m*\u001b[49m\u001b[43margs\u001b[49m\u001b[43m,\u001b[49m\u001b[43m \u001b[49m\u001b[43m*\u001b[49m\u001b[43m*\u001b[49m\u001b[43mkwargs\u001b[49m\u001b[43m)\u001b[49m\n",
      "\u001b[36mFile \u001b[39m\u001b[32m~/python312/lib/python3.12/site-packages/sklearn/preprocessing/_target_encoder.py:259\u001b[39m, in \u001b[36mTargetEncoder.fit_transform\u001b[39m\u001b[34m(self, X, y)\u001b[39m\n\u001b[32m    236\u001b[39m \u001b[38;5;250m\u001b[39m\u001b[33;03m\"\"\"Fit :class:`TargetEncoder` and transform X with the target encoding.\u001b[39;00m\n\u001b[32m    237\u001b[39m \n\u001b[32m    238\u001b[39m \u001b[33;03m.. note::\u001b[39;00m\n\u001b[32m   (...)\u001b[39m\u001b[32m    255\u001b[39m \u001b[33;03m    Transformed input.\u001b[39;00m\n\u001b[32m    256\u001b[39m \u001b[33;03m\"\"\"\u001b[39;00m\n\u001b[32m    257\u001b[39m \u001b[38;5;28;01mfrom\u001b[39;00m\u001b[38;5;250m \u001b[39m\u001b[34;01m.\u001b[39;00m\u001b[34;01m.\u001b[39;00m\u001b[34;01mmodel_selection\u001b[39;00m\u001b[38;5;250m \u001b[39m\u001b[38;5;28;01mimport\u001b[39;00m KFold, StratifiedKFold  \u001b[38;5;66;03m# avoid circular import\u001b[39;00m\n\u001b[32m--> \u001b[39m\u001b[32m259\u001b[39m X_ordinal, X_known_mask, y_encoded, n_categories = \u001b[38;5;28;43mself\u001b[39;49m\u001b[43m.\u001b[49m\u001b[43m_fit_encodings_all\u001b[49m\u001b[43m(\u001b[49m\u001b[43mX\u001b[49m\u001b[43m,\u001b[49m\u001b[43m \u001b[49m\u001b[43my\u001b[49m\u001b[43m)\u001b[49m\n\u001b[32m    261\u001b[39m \u001b[38;5;66;03m# The cv splitter is voluntarily restricted to *KFold to enforce non\u001b[39;00m\n\u001b[32m    262\u001b[39m \u001b[38;5;66;03m# overlapping validation folds, otherwise the fit_transform output will\u001b[39;00m\n\u001b[32m    263\u001b[39m \u001b[38;5;66;03m# not be well-specified.\u001b[39;00m\n\u001b[32m    264\u001b[39m \u001b[38;5;28;01mif\u001b[39;00m \u001b[38;5;28mself\u001b[39m.target_type_ == \u001b[33m\"\u001b[39m\u001b[33mcontinuous\u001b[39m\u001b[33m\"\u001b[39m:\n",
      "\u001b[36mFile \u001b[39m\u001b[32m~/python312/lib/python3.12/site-packages/sklearn/preprocessing/_target_encoder.py:359\u001b[39m, in \u001b[36mTargetEncoder._fit_encodings_all\u001b[39m\u001b[34m(self, X, y)\u001b[39m\n\u001b[32m    353\u001b[39m \u001b[38;5;28;01mfrom\u001b[39;00m\u001b[38;5;250m \u001b[39m\u001b[34;01m.\u001b[39;00m\u001b[34;01m.\u001b[39;00m\u001b[34;01mpreprocessing\u001b[39;00m\u001b[38;5;250m \u001b[39m\u001b[38;5;28;01mimport\u001b[39;00m (\n\u001b[32m    354\u001b[39m     LabelBinarizer,\n\u001b[32m    355\u001b[39m     LabelEncoder,\n\u001b[32m    356\u001b[39m )\n\u001b[32m    358\u001b[39m check_consistent_length(X, y)\n\u001b[32m--> \u001b[39m\u001b[32m359\u001b[39m \u001b[38;5;28;43mself\u001b[39;49m\u001b[43m.\u001b[49m\u001b[43m_fit\u001b[49m\u001b[43m(\u001b[49m\u001b[43mX\u001b[49m\u001b[43m,\u001b[49m\u001b[43m \u001b[49m\u001b[43mhandle_unknown\u001b[49m\u001b[43m=\u001b[49m\u001b[33;43m\"\u001b[39;49m\u001b[33;43mignore\u001b[39;49m\u001b[33;43m\"\u001b[39;49m\u001b[43m,\u001b[49m\u001b[43m \u001b[49m\u001b[43mensure_all_finite\u001b[49m\u001b[43m=\u001b[49m\u001b[33;43m\"\u001b[39;49m\u001b[33;43mallow-nan\u001b[39;49m\u001b[33;43m\"\u001b[39;49m\u001b[43m)\u001b[49m\n\u001b[32m    361\u001b[39m \u001b[38;5;28;01mif\u001b[39;00m \u001b[38;5;28mself\u001b[39m.target_type == \u001b[33m\"\u001b[39m\u001b[33mauto\u001b[39m\u001b[33m\"\u001b[39m:\n\u001b[32m    362\u001b[39m     accepted_target_types = (\u001b[33m\"\u001b[39m\u001b[33mbinary\u001b[39m\u001b[33m\"\u001b[39m, \u001b[33m\"\u001b[39m\u001b[33mmulticlass\u001b[39m\u001b[33m\"\u001b[39m, \u001b[33m\"\u001b[39m\u001b[33mcontinuous\u001b[39m\u001b[33m\"\u001b[39m)\n",
      "\u001b[36mFile \u001b[39m\u001b[32m~/python312/lib/python3.12/site-packages/sklearn/preprocessing/_encoders.py:103\u001b[39m, in \u001b[36m_BaseEncoder._fit\u001b[39m\u001b[34m(self, X, handle_unknown, ensure_all_finite, return_counts, return_and_ignore_missing_for_infrequent)\u001b[39m\n\u001b[32m    100\u001b[39m Xi = X_list[i]\n\u001b[32m    102\u001b[39m \u001b[38;5;28;01mif\u001b[39;00m \u001b[38;5;28mself\u001b[39m.categories == \u001b[33m\"\u001b[39m\u001b[33mauto\u001b[39m\u001b[33m\"\u001b[39m:\n\u001b[32m--> \u001b[39m\u001b[32m103\u001b[39m     result = \u001b[43m_unique\u001b[49m\u001b[43m(\u001b[49m\u001b[43mXi\u001b[49m\u001b[43m,\u001b[49m\u001b[43m \u001b[49m\u001b[43mreturn_counts\u001b[49m\u001b[43m=\u001b[49m\u001b[43mcompute_counts\u001b[49m\u001b[43m)\u001b[49m\n\u001b[32m    104\u001b[39m     \u001b[38;5;28;01mif\u001b[39;00m compute_counts:\n\u001b[32m    105\u001b[39m         cats, counts = result\n",
      "\u001b[36mFile \u001b[39m\u001b[32m~/python312/lib/python3.12/site-packages/sklearn/utils/_encode.py:52\u001b[39m, in \u001b[36m_unique\u001b[39m\u001b[34m(values, return_inverse, return_counts)\u001b[39m\n\u001b[32m     21\u001b[39m \u001b[38;5;250m\u001b[39m\u001b[33;03m\"\"\"Helper function to find unique values with support for python objects.\u001b[39;00m\n\u001b[32m     22\u001b[39m \n\u001b[32m     23\u001b[39m \u001b[33;03mUses pure python method for object dtype, and numpy method for\u001b[39;00m\n\u001b[32m   (...)\u001b[39m\u001b[32m     49\u001b[39m \u001b[33;03m    array. Only provided if `return_counts` is True.\u001b[39;00m\n\u001b[32m     50\u001b[39m \u001b[33;03m\"\"\"\u001b[39;00m\n\u001b[32m     51\u001b[39m \u001b[38;5;28;01mif\u001b[39;00m values.dtype == \u001b[38;5;28mobject\u001b[39m:\n\u001b[32m---> \u001b[39m\u001b[32m52\u001b[39m     \u001b[38;5;28;01mreturn\u001b[39;00m \u001b[43m_unique_python\u001b[49m\u001b[43m(\u001b[49m\n\u001b[32m     53\u001b[39m \u001b[43m        \u001b[49m\u001b[43mvalues\u001b[49m\u001b[43m,\u001b[49m\u001b[43m \u001b[49m\u001b[43mreturn_inverse\u001b[49m\u001b[43m=\u001b[49m\u001b[43mreturn_inverse\u001b[49m\u001b[43m,\u001b[49m\u001b[43m \u001b[49m\u001b[43mreturn_counts\u001b[49m\u001b[43m=\u001b[49m\u001b[43mreturn_counts\u001b[49m\n\u001b[32m     54\u001b[39m \u001b[43m    \u001b[49m\u001b[43m)\u001b[49m\n\u001b[32m     55\u001b[39m \u001b[38;5;66;03m# numerical\u001b[39;00m\n\u001b[32m     56\u001b[39m \u001b[38;5;28;01mreturn\u001b[39;00m _unique_np(\n\u001b[32m     57\u001b[39m     values, return_inverse=return_inverse, return_counts=return_counts\n\u001b[32m     58\u001b[39m )\n",
      "\u001b[36mFile \u001b[39m\u001b[32m~/python312/lib/python3.12/site-packages/sklearn/utils/_encode.py:183\u001b[39m, in \u001b[36m_unique_python\u001b[39m\u001b[34m(values, return_inverse, return_counts)\u001b[39m\n\u001b[32m    180\u001b[39m uniques_set = \u001b[38;5;28mset\u001b[39m(values)\n\u001b[32m    181\u001b[39m uniques_set, missing_values = _extract_missing(uniques_set)\n\u001b[32m--> \u001b[39m\u001b[32m183\u001b[39m uniques = \u001b[38;5;28;43msorted\u001b[39;49m\u001b[43m(\u001b[49m\u001b[43muniques_set\u001b[49m\u001b[43m)\u001b[49m\n\u001b[32m    184\u001b[39m uniques.extend(missing_values.to_list())\n\u001b[32m    185\u001b[39m uniques = np.array(uniques, dtype=values.dtype)\n",
      "\u001b[31mKeyboardInterrupt\u001b[39m: "
     ]
    }
   ],
   "source": [
    "hparams = {\n",
    "    'X_tgt': X_tgt,\n",
    "    'X_num': ['GP', 'HP', 'NAd', 'ELm_sqrt', 'ELm_num', 'ELm_na']\n",
    "}\n",
    "\n",
    "result = sc.cv_result('LR_1', df_train, kf, hparams, config, lr_adapter, result_proc = [sgml.lr_learning_result], rerun = 1)\n",
    "np.mean(result['valid_scores'])"
   ]
  },
  {
   "cell_type": "markdown",
   "id": "eaa4a08e-6bab-4927-95a2-2e57c31fb70b",
   "metadata": {},
   "source": [
    "# LGB 1"
   ]
  },
  {
   "cell_type": "code",
   "execution_count": 13,
   "id": "215c1a39-6799-4816-872e-0ad804507051",
   "metadata": {},
   "outputs": [
    {
     "data": {
      "application/vnd.jupyter.widget-view+json": {
       "model_id": "0738f09f2ffa494ba4966a7a64e7a90c",
       "version_major": 2,
       "version_minor": 0
      },
      "text/plain": [
       "Fold:   0%|          | 0/1 [00:00<?, ?it/s]"
      ]
     },
     "metadata": {},
     "output_type": "display_data"
    },
    {
     "data": {
      "application/vnd.jupyter.widget-view+json": {
       "model_id": "041375752d124cb6bf5a9064a1dd816b",
       "version_major": 2,
       "version_minor": 0
      },
      "text/plain": [
       "Round:   0%|          | 0/1500 [00:00<?, ?it/s]"
      ]
     },
     "metadata": {},
     "output_type": "display_data"
    },
    {
     "name": "stderr",
     "output_type": "stream",
     "text": [
      "/home/sun9sun9/python312/lib/python3.12/site-packages/sklearn/utils/validation.py:2739: UserWarning: X does not have valid feature names, but LGBMRegressor was fitted with feature names\n",
      "  warnings.warn(\n",
      "/home/sun9sun9/python312/lib/python3.12/site-packages/sklearn/utils/validation.py:2739: UserWarning: X does not have valid feature names, but LGBMRegressor was fitted with feature names\n",
      "  warnings.warn(\n"
     ]
    },
    {
     "data": {
      "text/plain": [
       "12.015577160698056"
      ]
     },
     "execution_count": 13,
     "metadata": {},
     "output_type": "execute_result"
    }
   ],
   "source": [
    "hparams = {\n",
    "    'model_params': {'num_leaves': 1024, 'n_estimators': 1500, 'learning_rate': 0.01, 'colsample_bytree': 0.7},\n",
    "    'X_tgt': X_tgt, 'X_num': ['GP', 'HP', 'NAd', 'ELm_num', 'ELm_na'],\n",
    "    'validation_fraction': 0.1, 'metric': 'rmse'\n",
    "    #'X_cat': ['Episode_Length_minutes'], 'cat': {'handle_unknown': 'use_encoded_value', 'unknown_value': 1000000, 'encoded_missing_value': 1000000, 'min_frequency': 2}\n",
    "}\n",
    "\n",
    "result = sgml.cv(df_train, ss, hparams, config, lgb_adapter, rerun=0)\n",
    "np.mean(result['valid_scores'])"
   ]
  },
  {
   "cell_type": "code",
   "execution_count": 14,
   "id": "6ced62f5-27d9-4a11-999c-fa0a629d7a54",
   "metadata": {},
   "outputs": [
    {
     "data": {
      "text/plain": [
       "metric  set     \n",
       "l2      training    1499\n",
       "        valid_1     1464\n",
       "dtype: int64"
      ]
     },
     "execution_count": 14,
     "metadata": {},
     "output_type": "execute_result"
    }
   ],
   "source": [
    "result['model_result'][0]['valid_result'].idxmin()"
   ]
  },
  {
   "cell_type": "code",
   "execution_count": 20,
   "id": "6d60a4f8-7335-4946-a130-8004d939f871",
   "metadata": {},
   "outputs": [
    {
     "data": {
      "text/plain": [
       "pt__HP                                                                                     49728\n",
       "tgt__Host_Popularity_percentage,Episode_Sentiment                                          46090\n",
       "tgt__Episode_Title,Podcast_Name                                                            45112\n",
       "tgt__Host_Popularity_percentage,Number_of_Ads,Publication_Day                              43784\n",
       "tgt__Host_Popularity_percentage,Number_of_Ads                                              43033\n",
       "tgt__Guest_Popularity_percentage,Number_of_Ads,Episode_Sentiment                           41735\n",
       "tgt__Episode_Length_minutes,Episode_Sentiment,Publication_Time                             39769\n",
       "pt__GP                                                                                     38903\n",
       "tgt__Episode_Title,Number_of_Ads,Episode_Sentiment                                         38663\n",
       "tgt__Episode_Length_minutes,Podcast_Name                                                   38143\n",
       "tgt__Episode_Title,Number_of_Ads                                                           37967\n",
       "tgt__Guest_Popularity_percentage,Podcast_Name                                              37901\n",
       "pt__ELm_sqrt                                                                               37053\n",
       "tgt__Guest_Popularity_percentage,Number_of_Ads,Genre                                       36545\n",
       "tgt__Episode_Length_minutes,Number_of_Ads,Publication_Day                                  36172\n",
       "tgt__Episode_Length_minutes,Number_of_Ads,Episode_Sentiment                                33934\n",
       "tgt__Episode_Length_minutes,Number_of_Ads                                                  32670\n",
       "tgt__Episode_Title,Host_Popularity_percentage                                              27229\n",
       "tgt__Episode_Length_minutes,Guest_Popularity_percentage                                    26793\n",
       "tgt__Episode_Length_minutes,Host_Popularity_percentage                                     25736\n",
       "tgt__Episode_Length_minutes,Episode_Title,Episode_Sentiment                                24923\n",
       "tgt__Episode_Length_minutes,Episode_Title,Publication_Time,Podcast_Name                    24463\n",
       "tgt__Episode_Title,Guest_Popularity_percentage                                             24416\n",
       "tgt__Episode_Length_minutes,Episode_Title,Publication_Day,Publication_Time                 23684\n",
       "tgt__Episode_Length_minutes,Episode_Title,Publication_Day                                  23573\n",
       "tgt__Episode_Length_minutes,Episode_Title,Publication_Day,Genre                            23152\n",
       "tgt__Episode_Length_minutes,Episode_Title,Number_of_Ads,Publication_Time                   22716\n",
       "tgt__Episode_Length_minutes,Episode_Title,Number_of_Ads,Publication_Day                    22420\n",
       "tgt__Episode_Length_minutes,Host_Popularity_percentage,Publication_Time                    22199\n",
       "tgt__Episode_Length_minutes,Host_Popularity_percentage,Episode_Sentiment                   22102\n",
       "tgt__Episode_Length_minutes,Guest_Popularity_percentage,Publication_Time                   22053\n",
       "tgt__Episode_Length_minutes,Episode_Title,Number_of_Ads                                    21944\n",
       "tgt__Episode_Length_minutes,Host_Popularity_percentage,Number_of_Ads                       21483\n",
       "tgt__Episode_Length_minutes,Episode_Title,Number_of_Ads,Episode_Sentiment                  20115\n",
       "tgt__Episode_Length_minutes,Guest_Popularity_percentage,Number_of_Ads                      19747\n",
       "tgt__Episode_Length_minutes,Guest_Popularity_percentage,Publication_Day                    19094\n",
       "tgt__Episode_Length_minutes,Host_Popularity_percentage,Publication_Day                     17203\n",
       "tgt__Episode_Title,Guest_Popularity_percentage,Publication_Time                            16956\n",
       "tgt__Episode_Title,Guest_Popularity_percentage,Episode_Sentiment                           16521\n",
       "tgt__Episode_Title,Guest_Popularity_percentage,Publication_Day                             14739\n",
       "tgt__Episode_Length_minutes,Guest_Popularity_percentage,Number_of_Ads,Episode_Sentiment    14066\n",
       "tgt__Episode_Length_minutes,Host_Popularity_percentage,Number_of_Ads,Episode_Sentiment     13903\n",
       "tgt__Episode_Title,Guest_Popularity_percentage,Number_of_Ads                               13870\n",
       "tgt__Episode_Length_minutes,Guest_Popularity_percentage,Number_of_Ads,Publication_Time     13263\n",
       "tgt__Episode_Title,Host_Popularity_percentage,Episode_Sentiment                            12921\n",
       "tgt__Episode_Title,Guest_Popularity_percentage,Genre                                       12207\n",
       "tgt__Host_Popularity_percentage,Guest_Popularity_percentage                                12033\n",
       "tgt__Episode_Title,Host_Popularity_percentage,Number_of_Ads                                11869\n",
       "tgt__Episode_Title,Guest_Popularity_percentage,Number_of_Ads,Episode_Sentiment             11592\n",
       "tgt__Episode_Title,Host_Popularity_percentage,Publication_Time                             11200\n",
       "dtype: int32"
      ]
     },
     "execution_count": 20,
     "metadata": {},
     "output_type": "execute_result"
    }
   ],
   "source": [
    "result['model_result'][0]['feature_importance'].sort_values(ascending = False).iloc[:50]"
   ]
  },
  {
   "cell_type": "code",
   "execution_count": 28,
   "id": "b0112633-f534-40e3-aba3-cda83f0eafbc",
   "metadata": {},
   "outputs": [
    {
     "data": {
      "application/vnd.jupyter.widget-view+json": {
       "model_id": "b1ab75e683b14e56b025dd944eefa5f4",
       "version_major": 2,
       "version_minor": 0
      },
      "text/plain": [
       "Fold:   0%|          | 0/1 [00:00<?, ?it/s]"
      ]
     },
     "metadata": {},
     "output_type": "display_data"
    },
    {
     "data": {
      "text/plain": [
       "12.902246414939077"
      ]
     },
     "execution_count": 28,
     "metadata": {},
     "output_type": "execute_result"
    }
   ],
   "source": [
    "hparams = {\n",
    "    'X_tgt': result['model_result'][0]['feature_importance'].sort_values(ascending = False).iloc[:50].index.to_series().str.split('__', expand = True).pipe(\n",
    "                lambda x: x.loc[x[0] == 'tgt']\n",
    "            )[1].tolist(),\n",
    "    'X_num': ['GP', 'HP', 'NAd', 'ELm_sqrt', 'ELm_num', 'ELm_na']\n",
    "}\n",
    "\n",
    "result = sc.cv_result('LR_1', df_train, ss, hparams, config, lr_adapter, result_proc = [sgml.lr_learning_result], rerun = 1)\n",
    "np.mean(result['valid_scores'])"
   ]
  },
  {
   "cell_type": "code",
   "execution_count": 29,
   "id": "4034e520-689c-4f60-a65e-d1096c5ef89a",
   "metadata": {},
   "outputs": [],
   "source": [
    "X_tgt2 = ['Host_Popularity_percentage,Episode_Sentiment',\n",
    " 'Episode_Title,Podcast_Name',\n",
    " 'Host_Popularity_percentage,Number_of_Ads,Publication_Day',\n",
    " 'Host_Popularity_percentage,Number_of_Ads',\n",
    " 'Guest_Popularity_percentage,Number_of_Ads,Episode_Sentiment',\n",
    " 'Episode_Length_minutes,Episode_Sentiment,Publication_Time',\n",
    " 'Episode_Title,Number_of_Ads,Episode_Sentiment',\n",
    " 'Episode_Length_minutes,Podcast_Name',\n",
    " 'Episode_Title,Number_of_Ads',\n",
    " 'Guest_Popularity_percentage,Podcast_Name',\n",
    " 'Guest_Popularity_percentage,Number_of_Ads,Genre',\n",
    " 'Episode_Length_minutes,Number_of_Ads,Publication_Day',\n",
    " 'Episode_Length_minutes,Number_of_Ads,Episode_Sentiment',\n",
    " 'Episode_Length_minutes,Number_of_Ads',\n",
    " 'Episode_Title,Host_Popularity_percentage',\n",
    " 'Episode_Length_minutes,Guest_Popularity_percentage',\n",
    " 'Episode_Length_minutes,Host_Popularity_percentage',\n",
    " 'Episode_Length_minutes,Episode_Title,Episode_Sentiment',\n",
    " 'Episode_Length_minutes,Episode_Title,Publication_Time,Podcast_Name',\n",
    " 'Episode_Title,Guest_Popularity_percentage',\n",
    " 'Episode_Length_minutes,Episode_Title,Publication_Day,Publication_Time',\n",
    " 'Episode_Length_minutes,Episode_Title,Publication_Day',\n",
    " 'Episode_Length_minutes,Episode_Title,Publication_Day,Genre',\n",
    " 'Episode_Length_minutes,Episode_Title,Number_of_Ads,Publication_Time',\n",
    " 'Episode_Length_minutes,Episode_Title,Number_of_Ads,Publication_Day',\n",
    " 'Episode_Length_minutes,Host_Popularity_percentage,Publication_Time',\n",
    " 'Episode_Length_minutes,Host_Popularity_percentage,Episode_Sentiment',\n",
    " 'Episode_Length_minutes,Guest_Popularity_percentage,Publication_Time',\n",
    " 'Episode_Length_minutes,Episode_Title,Number_of_Ads',\n",
    " 'Episode_Length_minutes,Host_Popularity_percentage,Number_of_Ads',\n",
    " 'Episode_Length_minutes,Episode_Title,Number_of_Ads,Episode_Sentiment',\n",
    " 'Episode_Length_minutes,Guest_Popularity_percentage,Number_of_Ads',\n",
    " 'Episode_Length_minutes,Guest_Popularity_percentage,Publication_Day',\n",
    " 'Episode_Length_minutes,Host_Popularity_percentage,Publication_Day',\n",
    " 'Episode_Title,Guest_Popularity_percentage,Publication_Time',\n",
    " 'Episode_Title,Guest_Popularity_percentage,Episode_Sentiment',\n",
    " 'Episode_Title,Guest_Popularity_percentage,Publication_Day',\n",
    " 'Episode_Length_minutes,Guest_Popularity_percentage,Number_of_Ads,Episode_Sentiment',\n",
    " 'Episode_Length_minutes,Host_Popularity_percentage,Number_of_Ads,Episode_Sentiment',\n",
    " 'Episode_Title,Guest_Popularity_percentage,Number_of_Ads',\n",
    " 'Episode_Length_minutes,Guest_Popularity_percentage,Number_of_Ads,Publication_Time',\n",
    " 'Episode_Title,Host_Popularity_percentage,Episode_Sentiment',\n",
    " 'Episode_Title,Guest_Popularity_percentage,Genre',\n",
    " 'Host_Popularity_percentage,Guest_Popularity_percentage',\n",
    " 'Episode_Title,Host_Popularity_percentage,Number_of_Ads',\n",
    " 'Episode_Title,Guest_Popularity_percentage,Number_of_Ads,Episode_Sentiment',\n",
    " 'Episode_Title,Host_Popularity_percentage,Publication_Time']"
   ]
  },
  {
   "cell_type": "code",
   "execution_count": 30,
   "id": "2a7c3667-9d36-420f-bdd2-8c0940716257",
   "metadata": {},
   "outputs": [
    {
     "data": {
      "application/vnd.jupyter.widget-view+json": {
       "model_id": "fd39a3cd4c9c4d18b7f006583bb04ae6",
       "version_major": 2,
       "version_minor": 0
      },
      "text/plain": [
       "Fold:   0%|          | 0/1 [00:00<?, ?it/s]"
      ]
     },
     "metadata": {},
     "output_type": "display_data"
    },
    {
     "data": {
      "application/vnd.jupyter.widget-view+json": {
       "model_id": "d3e1639ed8264ba79c7fda9135e445fb",
       "version_major": 2,
       "version_minor": 0
      },
      "text/plain": [
       "Round:   0%|          | 0/1500 [00:00<?, ?it/s]"
      ]
     },
     "metadata": {},
     "output_type": "display_data"
    },
    {
     "name": "stderr",
     "output_type": "stream",
     "text": [
      "/home/sun9sun9/python312/lib/python3.12/site-packages/sklearn/utils/validation.py:2739: UserWarning: X does not have valid feature names, but LGBMRegressor was fitted with feature names\n",
      "  warnings.warn(\n",
      "/home/sun9sun9/python312/lib/python3.12/site-packages/sklearn/utils/validation.py:2739: UserWarning: X does not have valid feature names, but LGBMRegressor was fitted with feature names\n",
      "  warnings.warn(\n"
     ]
    },
    {
     "data": {
      "text/plain": [
       "12.106815321332654"
      ]
     },
     "execution_count": 30,
     "metadata": {},
     "output_type": "execute_result"
    }
   ],
   "source": [
    "hparams = {\n",
    "    'model_params': {'num_leaves': 1024, 'n_estimators': 1500, 'learning_rate': 0.01, 'colsample_bytree': 0.7},\n",
    "    'X_tgt': X_tgt2, 'X_num': ['GP', 'HP', 'NAd', 'ELm_num', 'ELm_na'],\n",
    "    'validation_fraction': 0.1, 'metric': 'rmse'\n",
    "    #'X_cat': ['Episode_Length_minutes'], 'cat': {'handle_unknown': 'use_encoded_value', 'unknown_value': 1000000, 'encoded_missing_value': 1000000, 'min_frequency': 2}\n",
    "}\n",
    "\n",
    "result = sgml.cv(df_train, ss, hparams, config, lgb_adapter, rerun=0)\n",
    "np.mean(result['valid_scores'])"
   ]
  },
  {
   "cell_type": "code",
   "execution_count": 32,
   "id": "54818884-b247-4804-b3ae-f883c7da2360",
   "metadata": {},
   "outputs": [
    {
     "data": {
      "text/plain": [
       "pt__NAd       6437\n",
       "pt__ELm_na    1407\n",
       "dtype: int32"
      ]
     },
     "execution_count": 32,
     "metadata": {},
     "output_type": "execute_result"
    }
   ],
   "source": [
    "result['model_result'][0]['feature_importance'].sort_values(ascending = False).iloc[50:100]"
   ]
  },
  {
   "cell_type": "code",
   "execution_count": 34,
   "id": "03f0f92f-d1f7-4527-a4b2-93e914bece6d",
   "metadata": {},
   "outputs": [],
   "source": [
    "from sklearn.model_selection import train_test_split\n",
    "df_train_tgt1, df_test_tgt1 = train_test_split(\n",
    "    df_train, train_size = 0.75, random_state =123, shuffle=True\n",
    ")"
   ]
  },
  {
   "cell_type": "code",
   "execution_count": 36,
   "id": "a820cc17-fe6f-4d7a-b726-bb02aa7c303c",
   "metadata": {},
   "outputs": [
    {
     "data": {
      "text/html": [
       "<style>#sk-container-id-1 {\n",
       "  /* Definition of color scheme common for light and dark mode */\n",
       "  --sklearn-color-text: #000;\n",
       "  --sklearn-color-text-muted: #666;\n",
       "  --sklearn-color-line: gray;\n",
       "  /* Definition of color scheme for unfitted estimators */\n",
       "  --sklearn-color-unfitted-level-0: #fff5e6;\n",
       "  --sklearn-color-unfitted-level-1: #f6e4d2;\n",
       "  --sklearn-color-unfitted-level-2: #ffe0b3;\n",
       "  --sklearn-color-unfitted-level-3: chocolate;\n",
       "  /* Definition of color scheme for fitted estimators */\n",
       "  --sklearn-color-fitted-level-0: #f0f8ff;\n",
       "  --sklearn-color-fitted-level-1: #d4ebff;\n",
       "  --sklearn-color-fitted-level-2: #b3dbfd;\n",
       "  --sklearn-color-fitted-level-3: cornflowerblue;\n",
       "\n",
       "  /* Specific color for light theme */\n",
       "  --sklearn-color-text-on-default-background: var(--sg-text-color, var(--theme-code-foreground, var(--jp-content-font-color1, black)));\n",
       "  --sklearn-color-background: var(--sg-background-color, var(--theme-background, var(--jp-layout-color0, white)));\n",
       "  --sklearn-color-border-box: var(--sg-text-color, var(--theme-code-foreground, var(--jp-content-font-color1, black)));\n",
       "  --sklearn-color-icon: #696969;\n",
       "\n",
       "  @media (prefers-color-scheme: dark) {\n",
       "    /* Redefinition of color scheme for dark theme */\n",
       "    --sklearn-color-text-on-default-background: var(--sg-text-color, var(--theme-code-foreground, var(--jp-content-font-color1, white)));\n",
       "    --sklearn-color-background: var(--sg-background-color, var(--theme-background, var(--jp-layout-color0, #111)));\n",
       "    --sklearn-color-border-box: var(--sg-text-color, var(--theme-code-foreground, var(--jp-content-font-color1, white)));\n",
       "    --sklearn-color-icon: #878787;\n",
       "  }\n",
       "}\n",
       "\n",
       "#sk-container-id-1 {\n",
       "  color: var(--sklearn-color-text);\n",
       "}\n",
       "\n",
       "#sk-container-id-1 pre {\n",
       "  padding: 0;\n",
       "}\n",
       "\n",
       "#sk-container-id-1 input.sk-hidden--visually {\n",
       "  border: 0;\n",
       "  clip: rect(1px 1px 1px 1px);\n",
       "  clip: rect(1px, 1px, 1px, 1px);\n",
       "  height: 1px;\n",
       "  margin: -1px;\n",
       "  overflow: hidden;\n",
       "  padding: 0;\n",
       "  position: absolute;\n",
       "  width: 1px;\n",
       "}\n",
       "\n",
       "#sk-container-id-1 div.sk-dashed-wrapped {\n",
       "  border: 1px dashed var(--sklearn-color-line);\n",
       "  margin: 0 0.4em 0.5em 0.4em;\n",
       "  box-sizing: border-box;\n",
       "  padding-bottom: 0.4em;\n",
       "  background-color: var(--sklearn-color-background);\n",
       "}\n",
       "\n",
       "#sk-container-id-1 div.sk-container {\n",
       "  /* jupyter's `normalize.less` sets `[hidden] { display: none; }`\n",
       "     but bootstrap.min.css set `[hidden] { display: none !important; }`\n",
       "     so we also need the `!important` here to be able to override the\n",
       "     default hidden behavior on the sphinx rendered scikit-learn.org.\n",
       "     See: https://github.com/scikit-learn/scikit-learn/issues/21755 */\n",
       "  display: inline-block !important;\n",
       "  position: relative;\n",
       "}\n",
       "\n",
       "#sk-container-id-1 div.sk-text-repr-fallback {\n",
       "  display: none;\n",
       "}\n",
       "\n",
       "div.sk-parallel-item,\n",
       "div.sk-serial,\n",
       "div.sk-item {\n",
       "  /* draw centered vertical line to link estimators */\n",
       "  background-image: linear-gradient(var(--sklearn-color-text-on-default-background), var(--sklearn-color-text-on-default-background));\n",
       "  background-size: 2px 100%;\n",
       "  background-repeat: no-repeat;\n",
       "  background-position: center center;\n",
       "}\n",
       "\n",
       "/* Parallel-specific style estimator block */\n",
       "\n",
       "#sk-container-id-1 div.sk-parallel-item::after {\n",
       "  content: \"\";\n",
       "  width: 100%;\n",
       "  border-bottom: 2px solid var(--sklearn-color-text-on-default-background);\n",
       "  flex-grow: 1;\n",
       "}\n",
       "\n",
       "#sk-container-id-1 div.sk-parallel {\n",
       "  display: flex;\n",
       "  align-items: stretch;\n",
       "  justify-content: center;\n",
       "  background-color: var(--sklearn-color-background);\n",
       "  position: relative;\n",
       "}\n",
       "\n",
       "#sk-container-id-1 div.sk-parallel-item {\n",
       "  display: flex;\n",
       "  flex-direction: column;\n",
       "}\n",
       "\n",
       "#sk-container-id-1 div.sk-parallel-item:first-child::after {\n",
       "  align-self: flex-end;\n",
       "  width: 50%;\n",
       "}\n",
       "\n",
       "#sk-container-id-1 div.sk-parallel-item:last-child::after {\n",
       "  align-self: flex-start;\n",
       "  width: 50%;\n",
       "}\n",
       "\n",
       "#sk-container-id-1 div.sk-parallel-item:only-child::after {\n",
       "  width: 0;\n",
       "}\n",
       "\n",
       "/* Serial-specific style estimator block */\n",
       "\n",
       "#sk-container-id-1 div.sk-serial {\n",
       "  display: flex;\n",
       "  flex-direction: column;\n",
       "  align-items: center;\n",
       "  background-color: var(--sklearn-color-background);\n",
       "  padding-right: 1em;\n",
       "  padding-left: 1em;\n",
       "}\n",
       "\n",
       "\n",
       "/* Toggleable style: style used for estimator/Pipeline/ColumnTransformer box that is\n",
       "clickable and can be expanded/collapsed.\n",
       "- Pipeline and ColumnTransformer use this feature and define the default style\n",
       "- Estimators will overwrite some part of the style using the `sk-estimator` class\n",
       "*/\n",
       "\n",
       "/* Pipeline and ColumnTransformer style (default) */\n",
       "\n",
       "#sk-container-id-1 div.sk-toggleable {\n",
       "  /* Default theme specific background. It is overwritten whether we have a\n",
       "  specific estimator or a Pipeline/ColumnTransformer */\n",
       "  background-color: var(--sklearn-color-background);\n",
       "}\n",
       "\n",
       "/* Toggleable label */\n",
       "#sk-container-id-1 label.sk-toggleable__label {\n",
       "  cursor: pointer;\n",
       "  display: flex;\n",
       "  width: 100%;\n",
       "  margin-bottom: 0;\n",
       "  padding: 0.5em;\n",
       "  box-sizing: border-box;\n",
       "  text-align: center;\n",
       "  align-items: start;\n",
       "  justify-content: space-between;\n",
       "  gap: 0.5em;\n",
       "}\n",
       "\n",
       "#sk-container-id-1 label.sk-toggleable__label .caption {\n",
       "  font-size: 0.6rem;\n",
       "  font-weight: lighter;\n",
       "  color: var(--sklearn-color-text-muted);\n",
       "}\n",
       "\n",
       "#sk-container-id-1 label.sk-toggleable__label-arrow:before {\n",
       "  /* Arrow on the left of the label */\n",
       "  content: \"▸\";\n",
       "  float: left;\n",
       "  margin-right: 0.25em;\n",
       "  color: var(--sklearn-color-icon);\n",
       "}\n",
       "\n",
       "#sk-container-id-1 label.sk-toggleable__label-arrow:hover:before {\n",
       "  color: var(--sklearn-color-text);\n",
       "}\n",
       "\n",
       "/* Toggleable content - dropdown */\n",
       "\n",
       "#sk-container-id-1 div.sk-toggleable__content {\n",
       "  max-height: 0;\n",
       "  max-width: 0;\n",
       "  overflow: hidden;\n",
       "  text-align: left;\n",
       "  /* unfitted */\n",
       "  background-color: var(--sklearn-color-unfitted-level-0);\n",
       "}\n",
       "\n",
       "#sk-container-id-1 div.sk-toggleable__content.fitted {\n",
       "  /* fitted */\n",
       "  background-color: var(--sklearn-color-fitted-level-0);\n",
       "}\n",
       "\n",
       "#sk-container-id-1 div.sk-toggleable__content pre {\n",
       "  margin: 0.2em;\n",
       "  border-radius: 0.25em;\n",
       "  color: var(--sklearn-color-text);\n",
       "  /* unfitted */\n",
       "  background-color: var(--sklearn-color-unfitted-level-0);\n",
       "}\n",
       "\n",
       "#sk-container-id-1 div.sk-toggleable__content.fitted pre {\n",
       "  /* unfitted */\n",
       "  background-color: var(--sklearn-color-fitted-level-0);\n",
       "}\n",
       "\n",
       "#sk-container-id-1 input.sk-toggleable__control:checked~div.sk-toggleable__content {\n",
       "  /* Expand drop-down */\n",
       "  max-height: 200px;\n",
       "  max-width: 100%;\n",
       "  overflow: auto;\n",
       "}\n",
       "\n",
       "#sk-container-id-1 input.sk-toggleable__control:checked~label.sk-toggleable__label-arrow:before {\n",
       "  content: \"▾\";\n",
       "}\n",
       "\n",
       "/* Pipeline/ColumnTransformer-specific style */\n",
       "\n",
       "#sk-container-id-1 div.sk-label input.sk-toggleable__control:checked~label.sk-toggleable__label {\n",
       "  color: var(--sklearn-color-text);\n",
       "  background-color: var(--sklearn-color-unfitted-level-2);\n",
       "}\n",
       "\n",
       "#sk-container-id-1 div.sk-label.fitted input.sk-toggleable__control:checked~label.sk-toggleable__label {\n",
       "  background-color: var(--sklearn-color-fitted-level-2);\n",
       "}\n",
       "\n",
       "/* Estimator-specific style */\n",
       "\n",
       "/* Colorize estimator box */\n",
       "#sk-container-id-1 div.sk-estimator input.sk-toggleable__control:checked~label.sk-toggleable__label {\n",
       "  /* unfitted */\n",
       "  background-color: var(--sklearn-color-unfitted-level-2);\n",
       "}\n",
       "\n",
       "#sk-container-id-1 div.sk-estimator.fitted input.sk-toggleable__control:checked~label.sk-toggleable__label {\n",
       "  /* fitted */\n",
       "  background-color: var(--sklearn-color-fitted-level-2);\n",
       "}\n",
       "\n",
       "#sk-container-id-1 div.sk-label label.sk-toggleable__label,\n",
       "#sk-container-id-1 div.sk-label label {\n",
       "  /* The background is the default theme color */\n",
       "  color: var(--sklearn-color-text-on-default-background);\n",
       "}\n",
       "\n",
       "/* On hover, darken the color of the background */\n",
       "#sk-container-id-1 div.sk-label:hover label.sk-toggleable__label {\n",
       "  color: var(--sklearn-color-text);\n",
       "  background-color: var(--sklearn-color-unfitted-level-2);\n",
       "}\n",
       "\n",
       "/* Label box, darken color on hover, fitted */\n",
       "#sk-container-id-1 div.sk-label.fitted:hover label.sk-toggleable__label.fitted {\n",
       "  color: var(--sklearn-color-text);\n",
       "  background-color: var(--sklearn-color-fitted-level-2);\n",
       "}\n",
       "\n",
       "/* Estimator label */\n",
       "\n",
       "#sk-container-id-1 div.sk-label label {\n",
       "  font-family: monospace;\n",
       "  font-weight: bold;\n",
       "  display: inline-block;\n",
       "  line-height: 1.2em;\n",
       "}\n",
       "\n",
       "#sk-container-id-1 div.sk-label-container {\n",
       "  text-align: center;\n",
       "}\n",
       "\n",
       "/* Estimator-specific */\n",
       "#sk-container-id-1 div.sk-estimator {\n",
       "  font-family: monospace;\n",
       "  border: 1px dotted var(--sklearn-color-border-box);\n",
       "  border-radius: 0.25em;\n",
       "  box-sizing: border-box;\n",
       "  margin-bottom: 0.5em;\n",
       "  /* unfitted */\n",
       "  background-color: var(--sklearn-color-unfitted-level-0);\n",
       "}\n",
       "\n",
       "#sk-container-id-1 div.sk-estimator.fitted {\n",
       "  /* fitted */\n",
       "  background-color: var(--sklearn-color-fitted-level-0);\n",
       "}\n",
       "\n",
       "/* on hover */\n",
       "#sk-container-id-1 div.sk-estimator:hover {\n",
       "  /* unfitted */\n",
       "  background-color: var(--sklearn-color-unfitted-level-2);\n",
       "}\n",
       "\n",
       "#sk-container-id-1 div.sk-estimator.fitted:hover {\n",
       "  /* fitted */\n",
       "  background-color: var(--sklearn-color-fitted-level-2);\n",
       "}\n",
       "\n",
       "/* Specification for estimator info (e.g. \"i\" and \"?\") */\n",
       "\n",
       "/* Common style for \"i\" and \"?\" */\n",
       "\n",
       ".sk-estimator-doc-link,\n",
       "a:link.sk-estimator-doc-link,\n",
       "a:visited.sk-estimator-doc-link {\n",
       "  float: right;\n",
       "  font-size: smaller;\n",
       "  line-height: 1em;\n",
       "  font-family: monospace;\n",
       "  background-color: var(--sklearn-color-background);\n",
       "  border-radius: 1em;\n",
       "  height: 1em;\n",
       "  width: 1em;\n",
       "  text-decoration: none !important;\n",
       "  margin-left: 0.5em;\n",
       "  text-align: center;\n",
       "  /* unfitted */\n",
       "  border: var(--sklearn-color-unfitted-level-1) 1pt solid;\n",
       "  color: var(--sklearn-color-unfitted-level-1);\n",
       "}\n",
       "\n",
       ".sk-estimator-doc-link.fitted,\n",
       "a:link.sk-estimator-doc-link.fitted,\n",
       "a:visited.sk-estimator-doc-link.fitted {\n",
       "  /* fitted */\n",
       "  border: var(--sklearn-color-fitted-level-1) 1pt solid;\n",
       "  color: var(--sklearn-color-fitted-level-1);\n",
       "}\n",
       "\n",
       "/* On hover */\n",
       "div.sk-estimator:hover .sk-estimator-doc-link:hover,\n",
       ".sk-estimator-doc-link:hover,\n",
       "div.sk-label-container:hover .sk-estimator-doc-link:hover,\n",
       ".sk-estimator-doc-link:hover {\n",
       "  /* unfitted */\n",
       "  background-color: var(--sklearn-color-unfitted-level-3);\n",
       "  color: var(--sklearn-color-background);\n",
       "  text-decoration: none;\n",
       "}\n",
       "\n",
       "div.sk-estimator.fitted:hover .sk-estimator-doc-link.fitted:hover,\n",
       ".sk-estimator-doc-link.fitted:hover,\n",
       "div.sk-label-container:hover .sk-estimator-doc-link.fitted:hover,\n",
       ".sk-estimator-doc-link.fitted:hover {\n",
       "  /* fitted */\n",
       "  background-color: var(--sklearn-color-fitted-level-3);\n",
       "  color: var(--sklearn-color-background);\n",
       "  text-decoration: none;\n",
       "}\n",
       "\n",
       "/* Span, style for the box shown on hovering the info icon */\n",
       ".sk-estimator-doc-link span {\n",
       "  display: none;\n",
       "  z-index: 9999;\n",
       "  position: relative;\n",
       "  font-weight: normal;\n",
       "  right: .2ex;\n",
       "  padding: .5ex;\n",
       "  margin: .5ex;\n",
       "  width: min-content;\n",
       "  min-width: 20ex;\n",
       "  max-width: 50ex;\n",
       "  color: var(--sklearn-color-text);\n",
       "  box-shadow: 2pt 2pt 4pt #999;\n",
       "  /* unfitted */\n",
       "  background: var(--sklearn-color-unfitted-level-0);\n",
       "  border: .5pt solid var(--sklearn-color-unfitted-level-3);\n",
       "}\n",
       "\n",
       ".sk-estimator-doc-link.fitted span {\n",
       "  /* fitted */\n",
       "  background: var(--sklearn-color-fitted-level-0);\n",
       "  border: var(--sklearn-color-fitted-level-3);\n",
       "}\n",
       "\n",
       ".sk-estimator-doc-link:hover span {\n",
       "  display: block;\n",
       "}\n",
       "\n",
       "/* \"?\"-specific style due to the `<a>` HTML tag */\n",
       "\n",
       "#sk-container-id-1 a.estimator_doc_link {\n",
       "  float: right;\n",
       "  font-size: 1rem;\n",
       "  line-height: 1em;\n",
       "  font-family: monospace;\n",
       "  background-color: var(--sklearn-color-background);\n",
       "  border-radius: 1rem;\n",
       "  height: 1rem;\n",
       "  width: 1rem;\n",
       "  text-decoration: none;\n",
       "  /* unfitted */\n",
       "  color: var(--sklearn-color-unfitted-level-1);\n",
       "  border: var(--sklearn-color-unfitted-level-1) 1pt solid;\n",
       "}\n",
       "\n",
       "#sk-container-id-1 a.estimator_doc_link.fitted {\n",
       "  /* fitted */\n",
       "  border: var(--sklearn-color-fitted-level-1) 1pt solid;\n",
       "  color: var(--sklearn-color-fitted-level-1);\n",
       "}\n",
       "\n",
       "/* On hover */\n",
       "#sk-container-id-1 a.estimator_doc_link:hover {\n",
       "  /* unfitted */\n",
       "  background-color: var(--sklearn-color-unfitted-level-3);\n",
       "  color: var(--sklearn-color-background);\n",
       "  text-decoration: none;\n",
       "}\n",
       "\n",
       "#sk-container-id-1 a.estimator_doc_link.fitted:hover {\n",
       "  /* fitted */\n",
       "  background-color: var(--sklearn-color-fitted-level-3);\n",
       "}\n",
       "</style><div id=\"sk-container-id-1\" class=\"sk-top-container\"><div class=\"sk-text-repr-fallback\"><pre>TargetEncoder(cv=4, random_state=123)</pre><b>In a Jupyter environment, please rerun this cell to show the HTML representation or trust the notebook. <br />On GitHub, the HTML representation is unable to render, please try loading this page with nbviewer.org.</b></div><div class=\"sk-container\" hidden><div class=\"sk-item\"><div class=\"sk-estimator fitted sk-toggleable\"><input class=\"sk-toggleable__control sk-hidden--visually\" id=\"sk-estimator-id-1\" type=\"checkbox\" checked><label for=\"sk-estimator-id-1\" class=\"sk-toggleable__label fitted sk-toggleable__label-arrow\"><div><div>TargetEncoder</div></div><div><a class=\"sk-estimator-doc-link fitted\" rel=\"noreferrer\" target=\"_blank\" href=\"https://scikit-learn.org/1.6/modules/generated/sklearn.preprocessing.TargetEncoder.html\">?<span>Documentation for TargetEncoder</span></a><span class=\"sk-estimator-doc-link fitted\">i<span>Fitted</span></span></div></label><div class=\"sk-toggleable__content fitted\"><pre>TargetEncoder(cv=4, random_state=123)</pre></div> </div></div></div></div>"
      ],
      "text/plain": [
       "TargetEncoder(cv=4, random_state=123)"
      ]
     },
     "execution_count": 36,
     "metadata": {},
     "output_type": "execute_result"
    }
   ],
   "source": [
    "from sklearn.preprocessing import TargetEncoder\n",
    "\n",
    "tgt = TargetEncoder(cv = 4, random_state = 123)\n",
    "tgt.fit(df_train_tgt1[['Host_Popularity_percentage,Episode_Sentiment']], df_train_tgt1[target])"
   ]
  },
  {
   "cell_type": "code",
   "execution_count": 38,
   "id": "a4750d44-1245-45e3-b7e2-efafee63433d",
   "metadata": {},
   "outputs": [
    {
     "data": {
      "text/plain": [
       "27.110308008418933"
      ]
     },
     "execution_count": 38,
     "metadata": {},
     "output_type": "execute_result"
    }
   ],
   "source": [
    "root_mean_squared_error(\n",
    "    df_test_tgt1[target], tgt.transform(df_test_tgt1[['Host_Popularity_percentage,Episode_Sentiment']])[:, 0]\n",
    ")"
   ]
  },
  {
   "cell_type": "code",
   "execution_count": 40,
   "id": "85bf0589-3d7b-4cdf-9cb4-c45499b35c09",
   "metadata": {},
   "outputs": [
    {
     "data": {
      "text/plain": [
       "15.045093824885647"
      ]
     },
     "execution_count": 40,
     "metadata": {},
     "output_type": "execute_result"
    }
   ],
   "source": [
    "tgt.fit(df_train_tgt1[['Episode_Length_minutes,Episode_Sentiment,Publication_Time']], df_train_tgt1[target])\n",
    "root_mean_squared_error(\n",
    "    df_test_tgt1[target], tgt.transform(df_test_tgt1[['Episode_Length_minutes,Episode_Sentiment,Publication_Time']])[:, 0]\n",
    ")"
   ]
  },
  {
   "cell_type": "code",
   "execution_count": 41,
   "id": "4aeb0454-b3a6-4ede-85bb-4260ead39df9",
   "metadata": {},
   "outputs": [
    {
     "data": {
      "text/plain": [
       "13.402868075299962"
      ]
     },
     "execution_count": 41,
     "metadata": {},
     "output_type": "execute_result"
    }
   ],
   "source": [
    "tgt.fit(df_train_tgt1[['Episode_Length_minutes']], df_train_tgt1[target])\n",
    "root_mean_squared_error(\n",
    "    df_test_tgt1[target], tgt.transform(df_test_tgt1[['Episode_Length_minutes']])[:, 0]\n",
    ")"
   ]
  },
  {
   "cell_type": "code",
   "execution_count": 46,
   "id": "e5dd36d4-039f-41f4-8503-db85dc5a9e27",
   "metadata": {},
   "outputs": [
    {
     "data": {
      "application/vnd.jupyter.widget-view+json": {
       "model_id": "3559ec2ff6084d789526c32da86db6d2",
       "version_major": 2,
       "version_minor": 0
      },
      "text/plain": [
       "Fold:   0%|          | 0/1 [00:00<?, ?it/s]"
      ]
     },
     "metadata": {},
     "output_type": "display_data"
    },
    {
     "data": {
      "text/plain": [
       "13.137181914208908"
      ]
     },
     "execution_count": 46,
     "metadata": {},
     "output_type": "execute_result"
    }
   ],
   "source": [
    "hparams = {\n",
    "    'X_tgt': ['Episode_Length_minutes,Episode_Sentiment,Publication_Time', 'Episode_Length_minutes', 'Host_Popularity_percentage,Episode_Sentiment'],\n",
    "    'X_num': ['GP', 'HP', 'NAd', 'ELm_sqrt', 'ELm_num', 'ELm_na']\n",
    "}\n",
    "\n",
    "result = sc.cv_result('LR_1', df_train, ss, hparams, config, lr_adapter, result_proc = [sgml.lr_learning_result], rerun = 1)\n",
    "np.mean(result['valid_scores'])"
   ]
  },
  {
   "cell_type": "code",
   "execution_count": 47,
   "id": "366ee2da-79c3-489f-9cb6-9794da4e9412",
   "metadata": {},
   "outputs": [
    {
     "data": {
      "application/vnd.jupyter.widget-view+json": {
       "model_id": "5fff7a56483844a6b56a7991c4e54f82",
       "version_major": 2,
       "version_minor": 0
      },
      "text/plain": [
       "Fold:   0%|          | 0/1 [00:00<?, ?it/s]"
      ]
     },
     "metadata": {},
     "output_type": "display_data"
    },
    {
     "data": {
      "application/vnd.jupyter.widget-view+json": {
       "model_id": "5b3fa81dd1e148f18fddff759fc82b38",
       "version_major": 2,
       "version_minor": 0
      },
      "text/plain": [
       "Round:   0%|          | 0/1500 [00:00<?, ?it/s]"
      ]
     },
     "metadata": {},
     "output_type": "display_data"
    },
    {
     "name": "stderr",
     "output_type": "stream",
     "text": [
      "/home/sun9sun9/python312/lib/python3.12/site-packages/sklearn/utils/validation.py:2739: UserWarning: X does not have valid feature names, but LGBMRegressor was fitted with feature names\n",
      "  warnings.warn(\n",
      "/home/sun9sun9/python312/lib/python3.12/site-packages/sklearn/utils/validation.py:2739: UserWarning: X does not have valid feature names, but LGBMRegressor was fitted with feature names\n",
      "  warnings.warn(\n"
     ]
    },
    {
     "data": {
      "text/plain": [
       "12.853681399016606"
      ]
     },
     "execution_count": 47,
     "metadata": {},
     "output_type": "execute_result"
    }
   ],
   "source": [
    "hparams = {\n",
    "    'model_params': {'num_leaves': 1024, 'n_estimators': 1500, 'learning_rate': 0.01, 'colsample_bytree': 0.7},\n",
    "    'X_tgt': ['Episode_Length_minutes,Episode_Sentiment,Publication_Time', 'Episode_Length_minutes', 'Host_Popularity_percentage,Episode_Sentiment'],'X_num': ['GP', 'HP', 'NAd', 'ELm_num', 'ELm_na'],\n",
    "    'validation_fraction': 0.1, 'metric': 'rmse'\n",
    "    #'X_cat': ['Episode_Length_minutes'], 'cat': {'handle_unknown': 'use_encoded_value', 'unknown_value': 1000000, 'encoded_missing_value': 1000000, 'min_frequency': 2}\n",
    "}\n",
    "\n",
    "result = sgml.cv(df_train, ss, hparams, config, lgb_adapter, rerun=0)\n",
    "np.mean(result['valid_scores'])"
   ]
  },
  {
   "cell_type": "code",
   "execution_count": null,
   "id": "3df99af3-5091-4957-8edf-e37644782a87",
   "metadata": {},
   "outputs": [],
   "source": []
  }
 ],
 "metadata": {
  "kernelspec": {
   "display_name": "Python 3 (ipykernel)",
   "language": "python",
   "name": "python3"
  },
  "language_info": {
   "codemirror_mode": {
    "name": "ipython",
    "version": 3
   },
   "file_extension": ".py",
   "mimetype": "text/x-python",
   "name": "python",
   "nbconvert_exporter": "python",
   "pygments_lexer": "ipython3",
   "version": "3.12.9"
  }
 },
 "nbformat": 4,
 "nbformat_minor": 5
}
