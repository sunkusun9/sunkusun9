{
 "cells": [
  {
   "cell_type": "code",
   "execution_count": 1,
   "id": "882eb0d8-d1a3-4899-83e8-c60b8360b847",
   "metadata": {},
   "outputs": [
    {
     "name": "stdout",
     "output_type": "stream",
     "text": [
      "3.12.9 (main, Mar 15 2025, 13:36:28) [GCC 13.3.0]\n"
     ]
    }
   ],
   "source": [
    "import os, sys\n",
    "\n",
    "import sgpp, sgml, dproc, sgutil\n",
    "import pandas as pd\n",
    "import polars as pl\n",
    "import numpy as np\n",
    "import sklearn\n",
    "import matplotlib.pyplot as plt\n",
    "import seaborn as sns\n",
    "from tqdm.notebook import tqdm\n",
    "\n",
    "import warnings\n",
    "warnings.simplefilter(action='ignore', category=FutureWarning)\n",
    "\n",
    "print(sys.version)\n",
    "\n",
    "from sklearn.pipeline import make_pipeline\n",
    "from sklearn.impute import SimpleImputer"
   ]
  },
  {
   "cell_type": "code",
   "execution_count": 2,
   "id": "db601d2e-0ad0-4d1b-b78e-e6f7d772b1e5",
   "metadata": {},
   "outputs": [],
   "source": [
    "sc = sgutil.SGCache('img', 'result', 'model')\n",
    "p = make_pipeline(\n",
    "    sgpp.PolarsProcessor(),\n",
    "    sgpp.ExprProcessor({\n",
    "        'ELm_num': (pl.col('Episode_Length_minutes').clip(5, 120) - 5) / 115,\n",
    "        'GP': pl.col('Guest_Popularity_percentage').clip(0, 100) / 100,\n",
    "        'HP': pl.col('Host_Popularity_percentage').clip(0, 100) / 100,\n",
    "        'NAd': (pl.when(pl.col('Number_of_Ads') > 4).then(0).otherwise(pl.col('Number_of_Ads'))).fill_null(0.0) /3 ,\n",
    "        'Number_of_Ads': (pl.when(pl.col('Number_of_Ads') > 4).then(0).otherwise(pl.col('Number_of_Ads'))).fill_null(0).cast(pl.Int8),\n",
    "        'ELm_na': pl.col('Episode_Length_minutes').is_null(),\n",
    "        'GPp_na': pl.col('Guest_Popularity_percentage').is_null(),\n",
    "        'ELm_sqrt': ((pl.col('Episode_Length_minutes').fill_null(pl.col('Episode_Length_minutes').mean()).clip(5, 120) - 5) / 115)  ** 0.5\n",
    "    }),\n",
    "    sgpp.PandasConverter(index_col = 'id'),\n",
    "    sgpp.ApplyWrapper(SimpleImputer().set_output(transform = 'pandas'), ['ELm_num', 'GP'])\n",
    ")\n",
    "p.fit(['data/train.csv'])\n",
    "df_train = p.transform(['data/train.csv'])\n",
    "df_test = p.transform(['data/test.csv'])"
   ]
  },
  {
   "cell_type": "code",
   "execution_count": 3,
   "id": "867a0d1a-7f2b-4992-8c8c-b3e36af22d84",
   "metadata": {},
   "outputs": [],
   "source": [
    "df_train_1 = df_train.loc[~df_train['ELm_na']]\n",
    "df_test_1 = df_test.loc[~df_test['ELm_na']]\n",
    "target = 'Listening_Time_minutes'\n",
    "resi = 'resi'\n",
    "X_all = [i for i in df_train.columns if i != target]"
   ]
  },
  {
   "cell_type": "code",
   "execution_count": 4,
   "id": "f5a29764-efd8-4dc8-8301-cda03c8d0928",
   "metadata": {},
   "outputs": [],
   "source": [
    "import lightgbm as lgb\n",
    "import xgboost as xgb\n",
    "import catboost as cb\n",
    "from sklearn.metrics import root_mean_squared_error\n",
    "from sklearn.model_selection import KFold, cross_validate, cross_val_score, ShuffleSplit, train_test_split\n",
    "from sklearn.linear_model import LinearRegression\n",
    "from mlxtend.feature_selection import SequentialFeatureSelector\n",
    "kf = KFold(5, shuffle = True, random_state = 123)\n",
    "ss = ShuffleSplit(1, train_size = 0.8, random_state = 123)\n",
    "\n",
    "def get_validation_splitter(validation_fraction):\n",
    "    return lambda x: train_test_split(x, test_size = validation_fraction)\n",
    "\n",
    "config = {\n",
    "    'predict_func': lambda m, df, X: pd.Series(m.predict(df[X]), index = df.index),\n",
    "    'score_func': lambda df, prds: root_mean_squared_error(df[target], prds),\n",
    "    'validation_splitter': get_validation_splitter,\n",
    "    'progress_callback': sgml.ProgressCallBack(), \n",
    "    'return_train_scores': True,\n",
    "    'y': target,\n",
    "}\n",
    "\n",
    "config2 = {\n",
    "    'predict_func': lambda m, df, X: pd.Series(m.predict(df[X]), index = df.index),\n",
    "    'score_func': lambda df, prds: root_mean_squared_error(df[resi], prds),\n",
    "    'validation_splitter': get_validation_splitter,\n",
    "    'progress_callback': sgml.ProgressCallBack(), \n",
    "    'return_train_scores': False,\n",
    "    'y': resi,\n",
    "}\n",
    "\n",
    "lr_adapter = sgml.SklearnAdapter(LinearRegression)\n",
    "lgb_adapter = sgml.LGBMAdapter(lgb.LGBMRegressor, progress = 50)\n",
    "xgb_adapter = sgml.XGBAdapter(xgb.XGBRegressor, progress = 50)"
   ]
  },
  {
   "cell_type": "code",
   "execution_count": 5,
   "id": "204dc974-16f2-438a-aff7-50f5c9fc9c24",
   "metadata": {},
   "outputs": [],
   "source": [
    "df_train_1 = df_train_1.assign(\n",
    "    prd = sc.read_prd('LR_Elm_notna'),\n",
    "    resi = lambda x: x[target] - x['prd']\n",
    ")\n",
    "df_test_1 = df_test_1.assign(\n",
    "    prd = sc.get_predictor_cv('LR_Elm_notna', config)(df_test_1)\n",
    ")"
   ]
  },
  {
   "cell_type": "code",
   "execution_count": 7,
   "id": "957708b2-8f0a-4b61-a3a2-e428d8ae685b",
   "metadata": {},
   "outputs": [
    {
     "data": {
      "text/plain": [
       "9.462844973040315"
      ]
     },
     "execution_count": 7,
     "metadata": {},
     "output_type": "execute_result"
    }
   ],
   "source": [
    "rmse_oof, prd_oof_lgb = sc.read_result('cv_lgb2')\n",
    "root_mean_squared_error(\n",
    "    df_train.loc[~df_train['ELm_na'], target], prd_oof_lgb.loc[~df_train['ELm_na']]\n",
    ")"
   ]
  },
  {
   "cell_type": "code",
   "execution_count": 7,
   "id": "47099473-9afb-4194-be51-0eb829ad78ca",
   "metadata": {},
   "outputs": [],
   "source": [
    "from itertools import combinations \n",
    "encode_columns = ['Episode_Length_minutes', 'Episode_Title', 'Host_Popularity_percentage', 'Number_of_Ads', 'Episode_Sentiment', 'Publication_Day', 'Publication_Time']\n",
    "pair_size = [2, 3, 4]\n",
    "X_tgt_sel = list()\n",
    "for j in pair_size:\n",
    "    X_tgt_sel.extend(\n",
    "        [','.join(i) for i in combinations(encode_columns, j)]\n",
    "    )"
   ]
  },
  {
   "cell_type": "code",
   "execution_count": 15,
   "id": "42965978-43fb-45d9-ad17-36d816d6de74",
   "metadata": {},
   "outputs": [],
   "source": [
    "cc = sgpp.CatCombiner2([['Episode_Length_minutes','Host_Popularity_percentage']])\n",
    "df_train_1 = dproc.join_and_assign(df_train_1, cc.fit_transform(df_train_1))\n",
    "df_test_1 = dproc.join_and_assign(df_test_1, cc.transform(df_test_1))"
   ]
  },
  {
   "cell_type": "code",
   "execution_count": 16,
   "id": "aeacd8ca-2b95-4102-a6fe-5d0281a00191",
   "metadata": {},
   "outputs": [
    {
     "data": {
      "text/plain": [
       "['Podcast_Name',\n",
       " 'Episode_Title',\n",
       " 'Episode_Length_minutes',\n",
       " 'Genre',\n",
       " 'Host_Popularity_percentage',\n",
       " 'Publication_Day',\n",
       " 'Publication_Time',\n",
       " 'Guest_Popularity_percentage',\n",
       " 'Number_of_Ads',\n",
       " 'Episode_Sentiment',\n",
       " 'HP',\n",
       " 'NAd',\n",
       " 'ELm_na',\n",
       " 'GPp_na',\n",
       " 'ELm_sqrt',\n",
       " 'ELm_num',\n",
       " 'GP']"
      ]
     },
     "execution_count": 16,
     "metadata": {},
     "output_type": "execute_result"
    }
   ],
   "source": [
    "X_all"
   ]
  },
  {
   "cell_type": "code",
   "execution_count": 44,
   "id": "8c31adaa-dcdb-4d2f-af44-25efa96fc1c7",
   "metadata": {},
   "outputs": [],
   "source": [
    "hparams = {\n",
    "    'model_params': {'num_leaves': 511, 'n_estimators': 1500, 'learning_rate': 0.03, 'colsample_bytree': 0.7, 'metric': 'rmse'},\n",
    "    'X_cat': ['Podcast_Name', 'Episode_Title', 'Genre', 'Publication_Day', 'Publication_Time', 'Episode_Sentiment'],\n",
    "    'X_num': ['GP', 'HP', 'NAd', 'ELm_num'],\n",
    "    'X_tgt': ['Episode_Length_minutes_Host_Popularity_percentage'],\n",
    "    'validation_fraction': 0.1\n",
    "}"
   ]
  },
  {
   "cell_type": "code",
   "execution_count": 45,
   "id": "48704082-b653-4c7c-9a9e-8c8acea25ec9",
   "metadata": {},
   "outputs": [
    {
     "data": {
      "application/vnd.jupyter.widget-view+json": {
       "model_id": "4f337bea5b044dc0a2ad127415236553",
       "version_major": 2,
       "version_minor": 0
      },
      "text/plain": [
       "Fold:   0%|          | 0/1 [00:00<?, ?it/s]"
      ]
     },
     "metadata": {},
     "output_type": "display_data"
    },
    {
     "data": {
      "application/vnd.jupyter.widget-view+json": {
       "model_id": "d2f99278137241ecb95439f7ece0ca52",
       "version_major": 2,
       "version_minor": 0
      },
      "text/plain": [
       "Round:   0%|          | 0/1500 [00:00<?, ?it/s]"
      ]
     },
     "metadata": {},
     "output_type": "display_data"
    },
    {
     "name": "stderr",
     "output_type": "stream",
     "text": [
      "/home/sun9sun9/python312/lib/python3.12/site-packages/sklearn/utils/validation.py:2739: UserWarning: X does not have valid feature names, but LGBMRegressor was fitted with feature names\n",
      "  warnings.warn(\n",
      "/home/sun9sun9/python312/lib/python3.12/site-packages/sklearn/utils/validation.py:2739: UserWarning: X does not have valid feature names, but LGBMRegressor was fitted with feature names\n",
      "  warnings.warn(\n"
     ]
    }
   ],
   "source": [
    "result = sc.cache_result(\n",
    "    \"cv_lgb4\", \n",
    "    lambda : sgml.cv(df_train_1, ss, hparams, config2, lgb_adapter),\n",
    "    rerun = True\n",
    ")"
   ]
  },
  {
   "cell_type": "code",
   "execution_count": null,
   "id": "7766538e-77b5-4260-bb61-2481cb018cf5",
   "metadata": {},
   "outputs": [],
   "source": []
  }
 ],
 "metadata": {
  "kernelspec": {
   "display_name": "Python 3 (ipykernel)",
   "language": "python",
   "name": "python3"
  },
  "language_info": {
   "codemirror_mode": {
    "name": "ipython",
    "version": 3
   },
   "file_extension": ".py",
   "mimetype": "text/x-python",
   "name": "python",
   "nbconvert_exporter": "python",
   "pygments_lexer": "ipython3",
   "version": "3.12.9"
  }
 },
 "nbformat": 4,
 "nbformat_minor": 5
}
