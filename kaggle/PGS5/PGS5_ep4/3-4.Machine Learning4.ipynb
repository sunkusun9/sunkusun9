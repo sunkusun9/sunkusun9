{
 "cells": [
  {
   "cell_type": "code",
   "execution_count": 2,
   "id": "882eb0d8-d1a3-4899-83e8-c60b8360b847",
   "metadata": {},
   "outputs": [
    {
     "name": "stdout",
     "output_type": "stream",
     "text": [
      "3.12.9 (main, Mar 15 2025, 13:36:28) [GCC 13.3.0]\n"
     ]
    }
   ],
   "source": [
    "import os, sys\n",
    "\n",
    "import sgpp, sgml, dproc, sgutil\n",
    "import pandas as pd\n",
    "import polars as pl\n",
    "import numpy as np\n",
    "import sklearn\n",
    "import matplotlib.pyplot as plt\n",
    "import seaborn as sns\n",
    "from tqdm.notebook import tqdm\n",
    "\n",
    "import warnings\n",
    "warnings.simplefilter(action='ignore', category=FutureWarning)\n",
    "\n",
    "print(sys.version)\n",
    "\n",
    "from sklearn.pipeline import make_pipeline\n",
    "from sklearn.impute import SimpleImputer"
   ]
  },
  {
   "cell_type": "code",
   "execution_count": 3,
   "id": "db601d2e-0ad0-4d1b-b78e-e6f7d772b1e5",
   "metadata": {},
   "outputs": [],
   "source": [
    "sc = sgutil.SGCache('img', 'result', 'model')\n",
    "p = make_pipeline(\n",
    "    sgpp.PolarsProcessor(),\n",
    "    sgpp.ExprProcessor({\n",
    "        'ELm_num': (pl.col('Episode_Length_minutes').clip(5, 120) - 5) / 115,\n",
    "        'GP': pl.col('Guest_Popularity_percentage').clip(0, 100) / 100,\n",
    "        'HP': pl.col('Host_Popularity_percentage').clip(0, 100) / 100,\n",
    "        'NAd': (pl.when(pl.col('Number_of_Ads') > 4).then(0).otherwise(pl.col('Number_of_Ads'))).fill_null(0.0) /3 ,\n",
    "        'Number_of_Ads': (pl.when(pl.col('Number_of_Ads') > 4).then(0).otherwise(pl.col('Number_of_Ads'))).fill_null(0).cast(pl.Int8),\n",
    "        'ELm_na': pl.col('Episode_Length_minutes').is_null(),\n",
    "        'GPp_na': pl.col('Guest_Popularity_percentage').is_null(),\n",
    "        'ELm_sqrt': ((pl.col('Episode_Length_minutes').fill_null(pl.col('Episode_Length_minutes').mean()).clip(5, 120) - 5) / 115)  ** 0.5\n",
    "    }),\n",
    "    sgpp.PandasConverter(index_col = 'id'),\n",
    "    sgpp.ApplyWrapper(SimpleImputer().set_output(transform = 'pandas'), ['ELm_num', 'GP'])\n",
    ")\n",
    "p.fit(['data/train.csv'])\n",
    "df_train = p.transform(['data/train.csv'])\n",
    "df_test = p.transform(['data/test.csv'])"
   ]
  },
  {
   "cell_type": "code",
   "execution_count": 4,
   "id": "867a0d1a-7f2b-4992-8c8c-b3e36af22d84",
   "metadata": {},
   "outputs": [],
   "source": [
    "df_train_1 = df_train.loc[~df_train['ELm_na']]\n",
    "df_test_1 = df_test.loc[~df_test['ELm_na']]\n",
    "target = 'Listening_Time_minutes'\n",
    "resi = 'resi'\n",
    "X_all = [i for i in df_train.columns if i != target]"
   ]
  },
  {
   "cell_type": "code",
   "execution_count": 5,
   "id": "f5a29764-efd8-4dc8-8301-cda03c8d0928",
   "metadata": {},
   "outputs": [],
   "source": [
    "import lightgbm as lgb\n",
    "import xgboost as xgb\n",
    "import catboost as cb\n",
    "from sklearn.metrics import root_mean_squared_error\n",
    "from sklearn.model_selection import KFold, cross_validate, cross_val_score, ShuffleSplit, train_test_split\n",
    "from sklearn.linear_model import LinearRegression\n",
    "from mlxtend.feature_selection import SequentialFeatureSelector\n",
    "kf = KFold(5, shuffle = True, random_state = 123)\n",
    "ss = ShuffleSplit(1, train_size = 0.8, random_state = 123)\n",
    "\n",
    "def get_validation_splitter(validation_fraction):\n",
    "    return lambda x: train_test_split(x, test_size = validation_fraction)\n",
    "\n",
    "config = {\n",
    "    'predict_func': lambda m, df, X: pd.Series(m.predict(df[X]), index = df.index),\n",
    "    'score_func': lambda df, prds: root_mean_squared_error(df[target], prds),\n",
    "    'validation_splitter': get_validation_splitter,\n",
    "    'progress_callback': sgml.ProgressCallBack(), \n",
    "    'return_train_scores': True,\n",
    "    'y': target,\n",
    "}\n",
    "\n",
    "config2 = {\n",
    "    'predict_func': lambda m, df, X: pd.Series(m.predict(df[X]), index = df.index),\n",
    "    'score_func': lambda df, prds: root_mean_squared_error(df[resi], prds),\n",
    "    'validation_splitter': get_validation_splitter,\n",
    "    'progress_callback': sgml.ProgressCallBack(), \n",
    "    'return_train_scores': False,\n",
    "    'y': resi,\n",
    "}\n",
    "\n",
    "lr_adapter = sgml.SklearnAdapter(LinearRegression)\n",
    "lgb_adapter = sgml.LGBMAdapter(lgb.LGBMRegressor, progress = 50)\n",
    "xgb_adapter = sgml.XGBAdapter(xgb.XGBRegressor, progress = 50)"
   ]
  },
  {
   "cell_type": "markdown",
   "id": "542cf623-4342-49b6-ad92-ed4c15df57fe",
   "metadata": {},
   "source": [
    "- 선형 모델의 잔차를 타겟으로 하는 모델을 만듭니다.\n",
    "- 이를 위해 Feature Engineering에서 Target Encoding을 위한 속성 선택 과정에서 도출한 변수를 사용합니다."
   ]
  },
  {
   "cell_type": "code",
   "execution_count": 6,
   "id": "204dc974-16f2-438a-aff7-50f5c9fc9c24",
   "metadata": {},
   "outputs": [],
   "source": [
    "df_train_1 = df_train_1.assign(\n",
    "    prd = sc.read_prd('LR_Elm_notna'),\n",
    "    resi = lambda x: x[target] - x['prd']\n",
    ")\n",
    "df_test_1 = df_test_1.assign(\n",
    "    prd = sc.get_predictor_cv('LR_Elm_notna', config)(df_test_1)\n",
    ")"
   ]
  },
  {
   "cell_type": "code",
   "execution_count": 7,
   "id": "957708b2-8f0a-4b61-a3a2-e428d8ae685b",
   "metadata": {},
   "outputs": [
    {
     "data": {
      "text/plain": [
       "9.462844973040315"
      ]
     },
     "execution_count": 7,
     "metadata": {},
     "output_type": "execute_result"
    }
   ],
   "source": [
    "rmse_oof, prd_oof_lgb = sc.read_result('cv_lgb2')\n",
    "root_mean_squared_error(\n",
    "    df_train.loc[~df_train['ELm_na'], target], prd_oof_lgb.loc[~df_train['ELm_na']]\n",
    ")"
   ]
  },
  {
   "cell_type": "code",
   "execution_count": 14,
   "id": "47099473-9afb-4194-be51-0eb829ad78ca",
   "metadata": {},
   "outputs": [],
   "source": [
    "X_tgt_sel, _ = sc.read_result('tgt_sel_resi2') # 속성 선택 과정을 통해 도출된 조합된 속성\n",
    "from sklearn.preprocessing import TargetEncoder\n",
    "\n",
    "def tge_proc(df_train, df_valid):\n",
    "    X_tgt_var = pd.Series(X_tgt_sel).str.split('__').explode().unique().tolist()\n",
    "    tge = make_pipeline(\n",
    "        sgpp.CatCombiner2(pd.Series(X_tgt_sel).str.split('__').tolist()), TargetEncoder()\n",
    "    ).set_output(transform = 'pandas')\n",
    "    return tge.fit_transform(df_train[X_tgt_var], df_train[resi]), tge.transform(df_valid[X_tgt_var])"
   ]
  },
  {
   "cell_type": "code",
   "execution_count": 17,
   "id": "42965978-43fb-45d9-ad17-36d816d6de74",
   "metadata": {},
   "outputs": [
    {
     "name": "stdout",
     "output_type": "stream",
     "text": [
      "generating 0 Fold\n",
      "generating 1 Fold\n",
      "generating 2 Fold\n",
      "generating 3 Fold\n",
      "generating 4 Fold\n"
     ]
    }
   ],
   "source": [
    "for i, (train_idx, valid_idx) in enumerate(kf.split(df_train_1[X_all], df_train_1[resi])):\n",
    "    print(\"generating {} Fold\".format(i))\n",
    "    sc.cache_result(\n",
    "        'kf_sp_resi_{}'.format(i),\n",
    "        lambda : tge_proc(df_train_1.iloc[train_idx], df_train_1.iloc[valid_idx]), rerun = 0\n",
    "    )"
   ]
  },
  {
   "cell_type": "code",
   "execution_count": 18,
   "id": "1ff8f0dc-af51-49ae-a5f0-77d5aefd5adb",
   "metadata": {},
   "outputs": [],
   "source": [
    "_ =sc.cache_result(\n",
    "    'tgt_enc_resi', lambda : tge_proc(df_train_1, df_test_1), rerun = 0\n",
    ")"
   ]
  },
  {
   "cell_type": "code",
   "execution_count": 20,
   "id": "89a0fc68-e43a-46d7-b3b2-64882670c4b3",
   "metadata": {},
   "outputs": [],
   "source": [
    "def cv_tgt_resi(hparams, adapter, test_run = False, **argv):\n",
    "    rmse_oof = list()\n",
    "    prd_oof = list()\n",
    "    for i, (train_idx, valid_idx) in enumerate(kf.split(df_train_1[X_all], df_train_1[target])):\n",
    "        df_tgt_train, df_tgt_valid = sc.read_result('kf_sp_resi_{}'.format(i))\n",
    "        result = sgml.train(\n",
    "            dproc.join_and_assign(\n",
    "                df_train_1.iloc[train_idx].rename(columns = {'Episode_Title': 'ET', 'Genre': 'G'}), \n",
    "                df_tgt_train\n",
    "            ), hparams, config2, adapter, **argv\n",
    "        )\n",
    "        predictor = sgml.assemble_predictor(**result[0], spec = result[1], config = config2)\n",
    "        prd_oof.append(\n",
    "            predictor(dproc.join_and_assign(\n",
    "                df_train_1.iloc[valid_idx].rename(columns = {'Episode_Title': 'ET', 'Genre': 'G'}), \n",
    "                df_tgt_valid\n",
    "            ))\n",
    "        )\n",
    "        rmse_oof.append(\n",
    "            root_mean_squared_error(df_train_1.iloc[valid_idx][resi], prd_oof[-1])\n",
    "        )\n",
    "        if test_run:\n",
    "            break\n",
    "    return rmse_oof, pd.concat(prd_oof).sort_index()"
   ]
  },
  {
   "cell_type": "markdown",
   "id": "40a896ef-7530-4430-9ed4-c19f0ecf9b9a",
   "metadata": {},
   "source": [
    "# LGB3"
   ]
  },
  {
   "cell_type": "code",
   "execution_count": 56,
   "id": "8c31adaa-dcdb-4d2f-af44-25efa96fc1c7",
   "metadata": {},
   "outputs": [],
   "source": [
    "hparams = {\n",
    "    'model_params': {'num_leaves': 255, 'n_estimators': 3000, 'learning_rate': 0.01, 'colsample_bytree': 0.7, 'metric': 'rmse'},\n",
    "    'X_cat': ['Podcast_Name', 'ET', 'G', 'Publication_Day', 'Publication_Time', 'Episode_Sentiment'],\n",
    "    'X_num': ['GP', 'HP', 'NAd', 'ELm_num'] + X_tgt_sel,\n",
    "    'validation_fraction': 0.1\n",
    "}"
   ]
  },
  {
   "cell_type": "code",
   "execution_count": 57,
   "id": "48704082-b653-4c7c-9a9e-8c8acea25ec9",
   "metadata": {},
   "outputs": [
    {
     "data": {
      "application/vnd.jupyter.widget-view+json": {
       "model_id": "d89085db1ec9488ba97bfc6570d91cde",
       "version_major": 2,
       "version_minor": 0
      },
      "text/plain": [
       "Round:   0%|          | 0/3000 [00:00<?, ?it/s]"
      ]
     },
     "metadata": {},
     "output_type": "display_data"
    },
    {
     "name": "stderr",
     "output_type": "stream",
     "text": [
      "/home/sun9sun9/python312/lib/python3.12/site-packages/sklearn/utils/validation.py:2739: UserWarning: X does not have valid feature names, but LGBMRegressor was fitted with feature names\n",
      "  warnings.warn(\n"
     ]
    }
   ],
   "source": [
    "result = sc.cache_result(\n",
    "    \"cv_lgb3\", \n",
    "    lambda : cv_tgt_resi(hparams, lgb_adapter, test_run = True),\n",
    "    rerun = True\n",
    ")"
   ]
  },
  {
   "cell_type": "code",
   "execution_count": 58,
   "id": "7766538e-77b5-4260-bb61-2481cb018cf5",
   "metadata": {},
   "outputs": [
    {
     "data": {
      "text/plain": [
       "([9.494932022843424],\n",
       " id\n",
       " 7        -11.925543\n",
       " 11         2.764987\n",
       " 12        -0.947146\n",
       " 13        -5.415752\n",
       " 15        10.825530\n",
       "             ...    \n",
       " 749986    -4.286009\n",
       " 749988    -0.393125\n",
       " 749993    -0.410707\n",
       " 749995    -1.558802\n",
       " 749997    -2.453536\n",
       " Length: 132582, dtype: float64)"
      ]
     },
     "execution_count": 58,
     "metadata": {},
     "output_type": "execute_result"
    }
   ],
   "source": [
    "result"
   ]
  },
  {
   "cell_type": "code",
   "execution_count": null,
   "id": "0393022e-721e-43d8-9965-e99408a4375b",
   "metadata": {},
   "outputs": [],
   "source": []
  }
 ],
 "metadata": {
  "kernelspec": {
   "display_name": "Python 3 (ipykernel)",
   "language": "python",
   "name": "python3"
  },
  "language_info": {
   "codemirror_mode": {
    "name": "ipython",
    "version": 3
   },
   "file_extension": ".py",
   "mimetype": "text/x-python",
   "name": "python",
   "nbconvert_exporter": "python",
   "pygments_lexer": "ipython3",
   "version": "3.12.9"
  }
 },
 "nbformat": 4,
 "nbformat_minor": 5
}
