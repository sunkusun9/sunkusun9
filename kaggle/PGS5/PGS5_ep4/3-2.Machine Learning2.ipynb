{
 "cells": [
  {
   "cell_type": "code",
   "execution_count": 4,
   "id": "9ab02c3c-de53-495e-914e-2fdea0ed85e4",
   "metadata": {},
   "outputs": [
    {
     "name": "stdout",
     "output_type": "stream",
     "text": [
      "3.12.6 (main, Sep 30 2024, 02:19:13) [GCC 9.4.0]\n"
     ]
    }
   ],
   "source": [
    "import os, sys\n",
    "\n",
    "import sgpp, sgml, dproc, sgutil\n",
    "import pandas as pd\n",
    "import polars as pl\n",
    "import numpy as np\n",
    "import matplotlib.pyplot as plt\n",
    "import seaborn as sns\n",
    "from tqdm.notebook import tqdm\n",
    "\n",
    "import warnings\n",
    "warnings.simplefilter(action='ignore', category=FutureWarning)\n",
    "\n",
    "print(sys.version)\n",
    "\n",
    "from sklearn.pipeline import make_pipeline"
   ]
  },
  {
   "cell_type": "code",
   "execution_count": 5,
   "id": "2d50e258-00b7-4f60-abfe-45a68086d7be",
   "metadata": {},
   "outputs": [],
   "source": [
    "sc = sgutil.SGCache('img', 'result', 'model')\n",
    "p = make_pipeline(\n",
    "    sgpp.PolarsProcessor(),\n",
    "    sgpp.ExprProcessor({\n",
    "        'ELm_num': (pl.col('Episode_Length_minutes').fill_null(pl.col('Episode_Length_minutes').mean()).clip(5, 120) - 5) / 115,\n",
    "        'GP': (pl.col('Guest_Popularity_percentage').fill_null(pl.col('Guest_Popularity_percentage').clip(0,100).mean()).clip(0, 100) / 100),\n",
    "        'HP': pl.col('Host_Popularity_percentage').clip(0, 100) / 100,\n",
    "        'NAd': (pl.when(pl.col('Number_of_Ads') > 4).then(0).otherwise(pl.col('Number_of_Ads'))).fill_null(0.0) /3 ,\n",
    "        'Number_of_Ads': (pl.when(pl.col('Number_of_Ads') > 4).then(0).otherwise(pl.col('Number_of_Ads'))).fill_null(0).cast(pl.Int8),\n",
    "        'ELm_na': pl.col('Episode_Length_minutes').is_null(),\n",
    "        'GPp_na': pl.col('Guest_Popularity_percentage').is_null(),\n",
    "        'ELm_sqrt': ((pl.col('Episode_Length_minutes').fill_null(pl.col('Episode_Length_minutes').mean()).clip(5, 120) - 5) / 115)  ** 0.5\n",
    "    }),\n",
    "    sgpp.PandasConverter(index_col = 'id'),\n",
    ")\n",
    "p.fit(['data/train.csv'])\n",
    "df_train = p.transform(['data/train.csv'])\n",
    "df_test = p.transform(['data/test.csv'])"
   ]
  },
  {
   "cell_type": "code",
   "execution_count": 6,
   "id": "44e9e91f-e82b-4ee8-b9ff-b10a3cf3ef7a",
   "metadata": {},
   "outputs": [],
   "source": [
    "import lightgbm as lgb\n",
    "import xgboost as xgb\n",
    "import catboost as cb\n",
    "from sklearn.metrics import root_mean_squared_error\n",
    "from sklearn.model_selection import KFold, cross_validate, cross_val_score, ShuffleSplit\n",
    "from sklearn.linear_model import LinearRegression\n",
    "from mlxtend.feature_selection import SequentialFeatureSelector\n",
    "kf = KFold(5, shuffle = True, random_state = 123)\n",
    "ss = ShuffleSplit(1, train_size = 0.8, random_state = 123)\n",
    "target = 'Listening_Time_minutes'\n",
    "X_all = [i for i in df_train.columns if i != target]\n",
    "\n",
    "def get_validation_splitter(validation_fraction):\n",
    "    return lambda x: train_test_split(x, test_size = validation_fraction)\n",
    "\n",
    "config = {\n",
    "    'predict_func': lambda m, df, X: pd.Series(m.predict(df[X]), index = df.index),\n",
    "    'score_func': lambda df, prds: root_mean_squared_error(df[target], prds),\n",
    "    'validation_splitter': get_validation_splitter,\n",
    "    'progress_callback': sgml.ProgressCallBack(), \n",
    "    'return_train_scores': True,\n",
    "    'y': target,\n",
    "}\n",
    "\n",
    "lr_adapter = sgml.SklearnAdapter(LinearRegression)\n",
    "lgb_adapter = sgml.LGBMAdapter(lgb.LGBMRegressor, progress = 50)\n",
    "xgb_adapter = sgml.XGBAdapter(xgb.XGBRegressor, progress = 50)"
   ]
  },
  {
   "cell_type": "code",
   "execution_count": 7,
   "id": "56a6ea07-b4ad-4622-871b-2c876abca489",
   "metadata": {},
   "outputs": [],
   "source": [
    "# 2-interaction\n",
    "X_intr2 = [\n",
    "    ['Episode_Length_minutes', 'Host_Popularity_percentage'],\n",
    "    ['Episode_Length_minutes', 'Guest_Popularity_percentage'],\n",
    "    ['Episode_Length_minutes', 'Number_of_Ads'],\n",
    "    ['Episode_Title', 'Host_Popularity_percentage'],\n",
    "    ['Episode_Title', 'Guest_Popularity_percentage'],\n",
    "    ['Episode_Title', 'Number_of_Ads'],    \n",
    "    ['Host_Popularity_percentage', 'Guest_Popularity_percentage'],\n",
    "    ['Host_Popularity_percentage', 'Number_of_Ads'],\n",
    "    ['Host_Popularity_percentage', 'Episode_Sentiment'],\n",
    "    ['Episode_Length_minutes', 'Podcast_Name'],\n",
    "    ['Episode_Title', 'Podcast_Name'],  \n",
    "    ['Guest_Popularity_percentage', 'Podcast_Name'],\n",
    "]\n",
    "# 3-interaction\n",
    "X_intr3 = [\n",
    "    ['Episode_Length_minutes', 'Episode_Title', 'Host_Popularity_percentage'],\n",
    "    ['Episode_Length_minutes', 'Episode_Title', 'Guest_Popularity_percentage'],\n",
    "    ['Episode_Length_minutes', 'Episode_Title', 'Number_of_Ads'],\n",
    "    ['Episode_Length_minutes', 'Episode_Title', 'Episode_Sentiment'],\n",
    "    ['Episode_Length_minutes', 'Episode_Title', 'Publication_Day'],\n",
    "    ['Episode_Length_minutes', 'Host_Popularity_percentage', 'Guest_Popularity_percentage'],\n",
    "    ['Episode_Length_minutes', 'Host_Popularity_percentage', 'Number_of_Ads'],\n",
    "    ['Episode_Length_minutes', 'Host_Popularity_percentage', 'Episode_Sentiment'],\n",
    "    ['Episode_Length_minutes', 'Host_Popularity_percentage', 'Publication_Day'],\n",
    "    ['Episode_Length_minutes', 'Host_Popularity_percentage', 'Publication_Time'],\n",
    "    ['Episode_Length_minutes', 'Guest_Popularity_percentage', 'Number_of_Ads'],\n",
    "    ['Episode_Length_minutes', 'Guest_Popularity_percentage', 'Publication_Day'],\n",
    "    ['Episode_Length_minutes', 'Guest_Popularity_percentage', 'Publication_Time'],\n",
    "    ['Episode_Length_minutes', 'Number_of_Ads', 'Episode_Sentiment'],\n",
    "    ['Episode_Length_minutes', 'Number_of_Ads', 'Publication_Day'],\n",
    "    ['Episode_Length_minutes', 'Episode_Sentiment', 'Publication_Time'],\n",
    "    ['Episode_Title', 'Host_Popularity_percentage', 'Guest_Popularity_percentage'],\n",
    "    ['Episode_Title', 'Host_Popularity_percentage', 'Number_of_Ads'],\n",
    "    ['Episode_Title', 'Host_Popularity_percentage', 'Episode_Sentiment'],\n",
    "    ['Episode_Title', 'Host_Popularity_percentage', 'Publication_Day'],\n",
    "    ['Episode_Title', 'Host_Popularity_percentage', 'Publication_Time'],\n",
    "    ['Episode_Title', 'Host_Popularity_percentage', 'Genre'],\n",
    "    ['Episode_Title', 'Guest_Popularity_percentage', 'Number_of_Ads'],\n",
    "    ['Episode_Title', 'Guest_Popularity_percentage', 'Episode_Sentiment'],\n",
    "    ['Episode_Title', 'Guest_Popularity_percentage', 'Publication_Day'],\n",
    "    ['Episode_Title', 'Guest_Popularity_percentage', 'Publication_Time'],\n",
    "    ['Episode_Title', 'Guest_Popularity_percentage', 'Genre'],\n",
    "    ['Episode_Title', 'Number_of_Ads', 'Episode_Sentiment'],\n",
    "    ['Host_Popularity_percentage', 'Guest_Popularity_percentage', 'Number_of_Ads'],\n",
    "    ['Host_Popularity_percentage', 'Guest_Popularity_percentage', 'Episode_Sentiment'],\n",
    "    ['Host_Popularity_percentage', 'Guest_Popularity_percentage', 'Publication_Day'],\n",
    "    ['Host_Popularity_percentage', 'Guest_Popularity_percentage', 'Publication_Time'],\n",
    "    ['Host_Popularity_percentage', 'Number_of_Ads', 'Publication_Day'],\n",
    "\n",
    "    ['Guest_Popularity_percentage', 'Number_of_Ads', 'Episode_Sentiment'],\n",
    "    ['Guest_Popularity_percentage', 'Number_of_Ads', 'Genre'],    \n",
    "]\n",
    "# 4-interaction\n",
    "X_intr4 = [\n",
    "    ['Episode_Length_minutes', 'Episode_Title', 'Host_Popularity_percentage', 'Guest_Popularity_percentage'],\n",
    "    ['Episode_Length_minutes', 'Episode_Title', 'Host_Popularity_percentage', 'Number_of_Ads'],\n",
    "    ['Episode_Length_minutes', 'Episode_Title', 'Host_Popularity_percentage', 'Episode_Sentiment'],\n",
    "    ['Episode_Length_minutes', 'Episode_Title', 'Host_Popularity_percentage', 'Publication_Day'],\n",
    "    ['Episode_Length_minutes', 'Episode_Title', 'Host_Popularity_percentage', 'Publication_Time'],\n",
    "    ['Episode_Length_minutes', 'Episode_Title', 'Host_Popularity_percentage', 'Genre'],\n",
    "    ['Episode_Length_minutes', 'Episode_Title', 'Guest_Popularity_percentage', 'Number_of_Ads'],\n",
    "    ['Episode_Length_minutes', 'Episode_Title', 'Guest_Popularity_percentage', 'Episode_Sentiment'],\n",
    "    ['Episode_Length_minutes', 'Episode_Title', 'Guest_Popularity_percentage', 'Publication_Day'],\n",
    "    ['Episode_Length_minutes', 'Episode_Title', 'Guest_Popularity_percentage', 'Publication_Time'],\n",
    "    ['Episode_Length_minutes', 'Episode_Title', 'Number_of_Ads', 'Episode_Sentiment'],\n",
    "    ['Episode_Length_minutes', 'Episode_Title', 'Number_of_Ads', 'Publication_Day'],\n",
    "    ['Episode_Length_minutes', 'Episode_Title', 'Number_of_Ads', 'Publication_Time'],\n",
    "    ['Episode_Length_minutes', 'Episode_Title', 'Publication_Day', 'Publication_Time'],\n",
    "    ['Episode_Length_minutes', 'Episode_Title', 'Publication_Day', 'Genre'],    \n",
    "    ['Episode_Length_minutes', 'Host_Popularity_percentage', 'Guest_Popularity_percentage', 'Number_of_Ads'],\n",
    "    ['Episode_Length_minutes', 'Host_Popularity_percentage', 'Guest_Popularity_percentage', 'Episode_Sentiment'],\n",
    "    ['Episode_Length_minutes', 'Host_Popularity_percentage', 'Guest_Popularity_percentage', 'Publication_Day'],\n",
    "    ['Episode_Length_minutes', 'Host_Popularity_percentage', 'Guest_Popularity_percentage', 'Publication_Time'],\n",
    "    ['Episode_Length_minutes', 'Host_Popularity_percentage', 'Number_of_Ads', 'Episode_Sentiment'],\n",
    "    ['Episode_Length_minutes', 'Host_Popularity_percentage', 'Number_of_Ads', 'Publication_Day'],\n",
    "    ['Episode_Length_minutes', 'Host_Popularity_percentage', 'Publication_Day', 'Publication_Time'],\n",
    "    ['Episode_Length_minutes', 'Host_Popularity_percentage', 'Publication_Day', 'Genre'],\n",
    "    ['Episode_Length_minutes', 'Guest_Popularity_percentage', 'Number_of_Ads', 'Episode_Sentiment'],\n",
    "    ['Episode_Length_minutes', 'Guest_Popularity_percentage', 'Number_of_Ads', 'Publication_Day'],\n",
    "    ['Episode_Length_minutes', 'Guest_Popularity_percentage', 'Number_of_Ads', 'Publication_Time'],\n",
    "    ['Episode_Length_minutes', 'Guest_Popularity_percentage', 'Number_of_Ads', 'Genre'],\n",
    "    ['Episode_Length_minutes', 'Episode_Title', 'Publication_Time', 'Podcast_Name'],\n",
    "    \n",
    "    ['Episode_Title', 'Host_Popularity_percentage', 'Guest_Popularity_percentage', 'Number_of_Ads'],\n",
    "    ['Episode_Title', 'Host_Popularity_percentage', 'Guest_Popularity_percentage', 'Episode_Sentiment'],\n",
    "    ['Episode_Title', 'Host_Popularity_percentage', 'Number_of_Ads', 'Publication_Day'],\n",
    "    ['Episode_Title', 'Host_Popularity_percentage', 'Number_of_Ads', 'Publication_Time'],\n",
    "    ['Episode_Title', 'Host_Popularity_percentage', 'Episode_Sentiment', 'Publication_Day'],\n",
    "    ['Episode_Title', 'Host_Popularity_percentage', 'Episode_Sentiment', 'Publication_Time'],\n",
    "    ['Episode_Title', 'Host_Popularity_percentage', 'Episode_Sentiment', 'Genre'],\n",
    "    ['Episode_Title', 'Host_Popularity_percentage', 'Publication_Day', 'Publication_Time'],\n",
    "    ['Episode_Title', 'Host_Popularity_percentage', 'Publication_Time', 'Genre'],\n",
    "    ['Episode_Title', 'Guest_Popularity_percentage', 'Number_of_Ads', 'Episode_Sentiment'],\n",
    "    ['Episode_Title', 'Guest_Popularity_percentage', 'Number_of_Ads', 'Genre'],\n",
    "    ['Episode_Title', 'Host_Popularity_percentage', 'Episode_Sentiment', 'Podcast_Name'],\n",
    "    ['Host_Popularity_percentage', 'Number_of_Ads', 'Episode_Sentiment', 'Podcast_Name'],\n",
    "    ['Host_Popularity_percentage', 'Number_of_Ads', 'Publication_Day', 'Podcast_Name'],\n",
    "    ['Host_Popularity_percentage', 'Number_of_Ads', 'Publication_Time', 'Podcast_Name'],\n",
    "]"
   ]
  },
  {
   "cell_type": "code",
   "execution_count": 8,
   "id": "6511be1b-d49c-4078-909c-d2b667b48f70",
   "metadata": {},
   "outputs": [
    {
     "name": "stdout",
     "output_type": "stream",
     "text": [
      "generating 0 Fold\n",
      "generating 1 Fold\n",
      "generating 2 Fold\n",
      "generating 3 Fold\n",
      "generating 4 Fold\n"
     ]
    }
   ],
   "source": [
    "from sklearn.preprocessing import TargetEncoder\n",
    "def tge_proc(df_train, df_valid):\n",
    "    X_tgt_var = pd.Series(X_intr2 + X_intr3 + X_intr4).explode().unique().tolist()\n",
    "    df_train_all, df_valid_all = list(), list()\n",
    "    for X in tqdm([X_intr2, X_intr3, X_intr4]):\n",
    "        tge = make_pipeline(\n",
    "            sgpp.CatCombiner2(X), TargetEncoder()\n",
    "        ).set_output(transform = 'pandas')\n",
    "        df_train_all.append(tge.fit_transform(df_train[X_tgt_var], df_train[target]))\n",
    "        df_valid_all.append(tge.transform(df_valid[X_tgt_var]))\n",
    "    return pd.concat(df_train_all, axis = 1), pd.concat(df_valid_all, axis = 1)\n",
    "\n",
    "for i, (train_idx, valid_idx) in enumerate(kf.split(df_train[X_all], df_train[target])):\n",
    "    print(\"generating {} Fold\".format(i))\n",
    "    sc.cache_result(\n",
    "        'kf_sp_{}'.format(i),\n",
    "        lambda : tge_proc(df_train.iloc[train_idx], df_train.iloc[valid_idx]), rerun = 0\n",
    "    )\n",
    "X_tgt = [','.join(i) for i in X_intr2 + X_intr3 + X_intr4]"
   ]
  },
  {
   "cell_type": "markdown",
   "id": "aa3c7415-1853-4140-8beb-ecf0f2dc6f71",
   "metadata": {},
   "source": [
    "# Linear Regression 1"
   ]
  },
  {
   "cell_type": "code",
   "execution_count": 137,
   "id": "7e98b7ec-473a-4172-9b53-68670a8aa037",
   "metadata": {},
   "outputs": [
    {
     "data": {
      "text/plain": [
       "[np.float64(12.871837301357745),\n",
       " np.float64(12.89579590774183),\n",
       " np.float64(12.94096237840895),\n",
       " np.float64(12.962358358630198),\n",
       " np.float64(12.969134970563681)]"
      ]
     },
     "execution_count": 137,
     "metadata": {},
     "output_type": "execute_result"
    }
   ],
   "source": [
    "hparams = {\n",
    "    'X_num': ['GP', 'HP', 'NAd', 'ELm_sqrt', 'ELm_num', 'ELm_na'] + X_tgt\n",
    "}\n",
    "rmse_oof = list()\n",
    "for i, (train_idx, valid_idx) in enumerate(kf.split(df_train[X_all], df_train[target])):\n",
    "    df_tgt_train, df_tgt_valid = sc.cache_result(\n",
    "        'kf_sp_{}'.format(i),\n",
    "        lambda : tge_proc(df_train.iloc[train_idx], df_train.iloc[valid_idx])\n",
    "    )\n",
    "    result = sgml.train(\n",
    "        dproc.join_and_assign(df_train.iloc[train_idx], df_tgt_train), hparams, config, lr_adapter\n",
    "    )\n",
    "    result = result[0]\n",
    "    if 'preprocessor' in result:\n",
    "        m = make_pipeline(result['preprocessor'], result['model'])\n",
    "    else:\n",
    "        m = result['model']\n",
    "    rmse_oof.append(\n",
    "        root_mean_squared_error(\n",
    "            df_train.iloc[valid_idx][target],\n",
    "            m.predict(\n",
    "                dproc.join_and_assign(df_train.iloc[valid_idx], df_tgt_valid)[result['variables']]\n",
    "            )\n",
    "        )\n",
    "    )\n",
    "rmse_oof"
   ]
  },
  {
   "cell_type": "markdown",
   "id": "eaa4a08e-6bab-4927-95a2-2e57c31fb70b",
   "metadata": {},
   "source": [
    "# LGB 1"
   ]
  },
  {
   "cell_type": "code",
   "execution_count": 9,
   "id": "215c1a39-6799-4816-872e-0ad804507051",
   "metadata": {},
   "outputs": [
    {
     "data": {
      "application/vnd.jupyter.widget-view+json": {
       "model_id": "",
       "version_major": 2,
       "version_minor": 0
      },
      "text/plain": [
       "Round:   0%|          | 0/1500 [00:00<?, ?it/s]"
      ]
     },
     "metadata": {},
     "output_type": "display_data"
    },
    {
     "data": {
      "application/vnd.jupyter.widget-view+json": {
       "model_id": "",
       "version_major": 2,
       "version_minor": 0
      },
      "text/plain": [
       "Round:   0%|          | 0/1500 [00:00<?, ?it/s]"
      ]
     },
     "metadata": {},
     "output_type": "display_data"
    },
    {
     "data": {
      "application/vnd.jupyter.widget-view+json": {
       "model_id": "",
       "version_major": 2,
       "version_minor": 0
      },
      "text/plain": [
       "Round:   0%|          | 0/1500 [00:00<?, ?it/s]"
      ]
     },
     "metadata": {},
     "output_type": "display_data"
    },
    {
     "data": {
      "application/vnd.jupyter.widget-view+json": {
       "model_id": "",
       "version_major": 2,
       "version_minor": 0
      },
      "text/plain": [
       "Round:   0%|          | 0/1500 [00:00<?, ?it/s]"
      ]
     },
     "metadata": {},
     "output_type": "display_data"
    },
    {
     "data": {
      "application/vnd.jupyter.widget-view+json": {
       "model_id": "",
       "version_major": 2,
       "version_minor": 0
      },
      "text/plain": [
       "Round:   0%|          | 0/1500 [00:00<?, ?it/s]"
      ]
     },
     "metadata": {},
     "output_type": "display_data"
    }
   ],
   "source": [
    "hparams = {\n",
    "    'model_params': {'num_leaves': 1024, 'n_estimators': 1500, 'learning_rate': 0.01, 'colsample_bytree': 0.7},\n",
    "    'X_num': ['GP', 'HP', 'NAd', 'ELm_num', 'ELm_na'] + [i.replace(',', '_') for i in X_tgt],\n",
    "    'metric': 'rmse'\n",
    "}\n",
    "rmse_oof = list()\n",
    "for i, (train_idx, valid_idx) in enumerate(kf.split(df_train[X_all], df_train[target])):\n",
    "    df_tgt_train, df_tgt_valid = sc.read_result('kf_sp_{}'.format(i))\n",
    "    df_tgt_train, df_tgt_valid = df_tgt_train.rename(columns = lambda x: x.replace(',', '_')), df_tgt_valid.rename(columns = lambda x: x.replace(',', '_'))\n",
    "    result = sgml.train(\n",
    "        dproc.join_and_assign(df_train.iloc[train_idx], df_tgt_train), hparams, config, lgb_adapter\n",
    "    )\n",
    "    result = result[0]\n",
    "    if 'preprocessor' in result:\n",
    "        m = make_pipeline(result['preprocessor'], result['model'])\n",
    "    else:\n",
    "        m = result['model']\n",
    "    rmse_oof.append(\n",
    "        root_mean_squared_error(\n",
    "            df_train.iloc[valid_idx][target],\n",
    "            m.predict(\n",
    "                dproc.join_and_assign(df_train.iloc[valid_idx], df_tgt_valid)[result['variables']]\n",
    "            )\n",
    "        )\n",
    "    )"
   ]
  },
  {
   "cell_type": "code",
   "execution_count": 11,
   "id": "b0112633-f534-40e3-aba3-cda83f0eafbc",
   "metadata": {},
   "outputs": [
    {
     "data": {
      "text/plain": [
       "([np.float64(11.951568837831974),\n",
       "  np.float64(11.943062223561693),\n",
       "  np.float64(11.96452858184975),\n",
       "  np.float64(12.041280284131219),\n",
       "  np.float64(12.051085031313832)],\n",
       " np.float64(11.990304991737693))"
      ]
     },
     "execution_count": 11,
     "metadata": {},
     "output_type": "execute_result"
    }
   ],
   "source": [
    "rmse_oof, np.mean(rmse_oof)"
   ]
  },
  {
   "cell_type": "code",
   "execution_count": null,
   "id": "3df99af3-5091-4957-8edf-e37644782a87",
   "metadata": {},
   "outputs": [],
   "source": []
  }
 ],
 "metadata": {
  "kernelspec": {
   "display_name": "Python 3 (ipykernel)",
   "language": "python",
   "name": "python3"
  },
  "language_info": {
   "codemirror_mode": {
    "name": "ipython",
    "version": 3
   },
   "file_extension": ".py",
   "mimetype": "text/x-python",
   "name": "python",
   "nbconvert_exporter": "python",
   "pygments_lexer": "ipython3",
   "version": "3.12.9"
  }
 },
 "nbformat": 4,
 "nbformat_minor": 5
}
