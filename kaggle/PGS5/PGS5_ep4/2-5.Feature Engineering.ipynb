{
 "cells": [
  {
   "cell_type": "code",
   "execution_count": 1,
   "id": "2c1211fe-201f-43c5-8f48-b1ee6ba71105",
   "metadata": {},
   "outputs": [
    {
     "name": "stderr",
     "output_type": "stream",
     "text": [
      "2025-04-30 01:45:51.310014: I tensorflow/core/util/port.cc:153] oneDNN custom operations are on. You may see slightly different numerical results due to floating-point round-off errors from different computation orders. To turn them off, set the environment variable `TF_ENABLE_ONEDNN_OPTS=0`.\n",
      "2025-04-30 01:45:51.347987: E external/local_xla/xla/stream_executor/cuda/cuda_fft.cc:467] Unable to register cuFFT factory: Attempting to register factory for plugin cuFFT when one has already been registered\n",
      "WARNING: All log messages before absl::InitializeLog() is called are written to STDERR\n",
      "E0000 00:00:1745945151.368395   74212 cuda_dnn.cc:8579] Unable to register cuDNN factory: Attempting to register factory for plugin cuDNN when one has already been registered\n",
      "E0000 00:00:1745945151.374811   74212 cuda_blas.cc:1407] Unable to register cuBLAS factory: Attempting to register factory for plugin cuBLAS when one has already been registered\n",
      "W0000 00:00:1745945151.402705   74212 computation_placer.cc:177] computation placer already registered. Please check linkage and avoid linking the same target more than once.\n",
      "W0000 00:00:1745945151.402734   74212 computation_placer.cc:177] computation placer already registered. Please check linkage and avoid linking the same target more than once.\n",
      "W0000 00:00:1745945151.402736   74212 computation_placer.cc:177] computation placer already registered. Please check linkage and avoid linking the same target more than once.\n",
      "W0000 00:00:1745945151.402736   74212 computation_placer.cc:177] computation placer already registered. Please check linkage and avoid linking the same target more than once.\n",
      "2025-04-30 01:45:51.410662: I tensorflow/core/platform/cpu_feature_guard.cc:210] This TensorFlow binary is optimized to use available CPU instructions in performance-critical operations.\n",
      "To enable the following instructions: AVX2 AVX_VNNI FMA, in other operations, rebuild TensorFlow with the appropriate compiler flags.\n"
     ]
    },
    {
     "name": "stdout",
     "output_type": "stream",
     "text": [
      "3.12.9 (main, Mar 15 2025, 13:36:28) [GCC 13.3.0]\n"
     ]
    }
   ],
   "source": [
    "import os, sys\n",
    "\n",
    "import sgpp, sgml, dproc, sgutil, sgnn\n",
    "import pandas as pd\n",
    "import polars as pl\n",
    "import numpy as np\n",
    "import matplotlib.pyplot as plt\n",
    "import seaborn as sns\n",
    "from tqdm.notebook import tqdm\n",
    "\n",
    "import warnings\n",
    "warnings.simplefilter(action='ignore', category=FutureWarning)\n",
    "\n",
    "print(sys.version)\n",
    "\n",
    "from sklearn.pipeline import make_pipeline\n",
    "from sklearn.impute import SimpleImputer"
   ]
  },
  {
   "cell_type": "code",
   "execution_count": 2,
   "id": "b54b9ffb-0d8e-4667-8ee5-a351e250c7b7",
   "metadata": {},
   "outputs": [],
   "source": [
    "sc = sgutil.SGCache('img', 'result', 'model')\n",
    "p = make_pipeline(\n",
    "    sgpp.PolarsProcessor(),\n",
    "    sgpp.ExprProcessor({\n",
    "        'ELm_num': (pl.col('Episode_Length_minutes').clip(5, 120) - 5) / 115,\n",
    "        'GP': pl.col('Guest_Popularity_percentage').clip(0, 100) / 100,\n",
    "        'HP': pl.col('Host_Popularity_percentage').clip(0, 100) / 100,\n",
    "        'NAd': (pl.when(pl.col('Number_of_Ads') > 4).then(0).otherwise(pl.col('Number_of_Ads'))).fill_null(0.0) /3 ,\n",
    "        'Number_of_Ads': (pl.when(pl.col('Number_of_Ads') > 4).then(0).otherwise(pl.col('Number_of_Ads'))).fill_null(0).cast(pl.Int8),\n",
    "        'ELm_na': pl.col('Episode_Length_minutes').is_null(),\n",
    "        'GPp_na': pl.col('Guest_Popularity_percentage').is_null(),\n",
    "        'ELm_sqrt': ((pl.col('Episode_Length_minutes').fill_null(pl.col('Episode_Length_minutes').mean()).clip(5, 120) - 5) / 115)  ** 0.5\n",
    "    }),\n",
    "    sgpp.PandasConverter(index_col = 'id'),\n",
    "    sgpp.ApplyWrapper(SimpleImputer().set_output(transform = 'pandas'), ['ELm_num', 'GP'])\n",
    ")\n",
    "p.fit(['data/train.csv'])\n",
    "df_train = p.transform(['data/train.csv'])\n",
    "df_test = p.transform(['data/test.csv'])"
   ]
  },
  {
   "cell_type": "code",
   "execution_count": 3,
   "id": "b1e2e64c-b1c9-4922-b755-80c442f50568",
   "metadata": {},
   "outputs": [],
   "source": [
    "import lightgbm as lgb\n",
    "import xgboost as xgb\n",
    "import catboost as cb\n",
    "from sklearn.metrics import root_mean_squared_error\n",
    "from sklearn.model_selection import KFold, cross_validate, cross_val_score, ShuffleSplit\n",
    "from sklearn.linear_model import LinearRegression\n",
    "from mlxtend.feature_selection import SequentialFeatureSelector\n",
    "kf = KFold(4, shuffle = True, random_state = 123)\n",
    "ss = ShuffleSplit(1, train_size = 0.75, random_state = 123)\n",
    "target = 'Listening_Time_minutes'\n",
    "X_all = [i for i in df_train.columns if i != target]\n",
    "\n",
    "def get_validation_splitter(validation_fraction):\n",
    "    return lambda x: train_test_split(x, test_size = validation_fraction)\n",
    "\n",
    "config = {\n",
    "    'predict_func': lambda m, df, X: pd.Series(m.predict(df[X]), index = df.index),\n",
    "    'score_func': lambda df, prds: root_mean_squared_error(df[target], prds),\n",
    "    'validation_splitter': get_validation_splitter,\n",
    "    'progress_callback': sgml.ProgressCallBack(), \n",
    "    'return_train_scores': True,\n",
    "    'y': target,\n",
    "}\n",
    "\n",
    "lr_adapter = sgml.SklearnAdapter(LinearRegression)\n",
    "lgb_adapter = sgml.LGBMAdapter(lgb.LGBMRegressor, progress = 50)\n",
    "xgb_adapter = sgml.XGBAdapter(xgb.XGBRegressor, progress = 50)"
   ]
  },
  {
   "cell_type": "code",
   "execution_count": 4,
   "id": "9e118c18-3362-460e-840b-8aebc5a25ab2",
   "metadata": {},
   "outputs": [],
   "source": [
    "from sklearn.preprocessing import TargetEncoder\n",
    "X_tgt = [\n",
    "    'Podcast_Name', 'Episode_Title', 'Episode_Length_minutes', 'Genre', 'Host_Popularity_percentage', 'Publication_Day', \n",
    "    'Publication_Time','Guest_Popularity_percentage', 'Number_of_Ads','Episode_Sentiment'\n",
    "]\n",
    "def tge_proc(df_train, df_valid, X_vars):\n",
    "    tge = make_pipeline(\n",
    "        sgpp.CatCombiner2(X_vars), TargetEncoder(cv = 4)\n",
    "    ).set_output(transform = 'pandas')\n",
    "    return tge.fit_transform(df_train[X_tgt], df_train[target]), tge.transform(df_valid[X_tgt])"
   ]
  },
  {
   "cell_type": "code",
   "execution_count": 5,
   "id": "b1dca746-0033-46fa-8df8-bd9e73cafe36",
   "metadata": {},
   "outputs": [
    {
     "name": "stdout",
     "output_type": "stream",
     "text": [
      "generating 0 Fold\n"
     ]
    }
   ],
   "source": [
    "from itertools import combinations\n",
    "X_inter2_4 = list()\n",
    "for i in range(2, 5):\n",
    "    X_inter2_4.extend([list(i) for i in combinations(X_tgt, i)])\n",
    "for i, (train_idx, valid_idx) in enumerate(ss.split(df_train[X_all], df_train[target])):\n",
    "    print(\"generating {} Fold\".format(i))\n",
    "    sc.cache_result(\n",
    "        'ss_tgt_2_4_{}'.format(i),\n",
    "        lambda : tge_proc(df_train.iloc[train_idx], df_train.iloc[valid_idx], X_inter2_4), rerun = 0\n",
    "    )"
   ]
  },
  {
   "cell_type": "code",
   "execution_count": 6,
   "id": "96b205c3-a708-4de9-909c-e78f576cd1a3",
   "metadata": {},
   "outputs": [
    {
     "name": "stdout",
     "output_type": "stream",
     "text": [
      "generating 0 Fold\n"
     ]
    }
   ],
   "source": [
    "X_inter5 = [list(i) for i in combinations(X_tgt, 5)]\n",
    "for i, (train_idx, valid_idx) in enumerate(ss.split(df_train[X_all], df_train[target])):\n",
    "    print(\"generating {} Fold\".format(i))\n",
    "    sc.cache_result(\n",
    "        'ss_tgt_5_{}'.format(i),\n",
    "        lambda : tge_proc(df_train.iloc[train_idx], df_train.iloc[valid_idx], X_inter5), rerun = 0\n",
    "    )"
   ]
  },
  {
   "cell_type": "code",
   "execution_count": 7,
   "id": "34aded4f-9fe8-4f91-9975-063000889202",
   "metadata": {},
   "outputs": [
    {
     "name": "stdout",
     "output_type": "stream",
     "text": [
      "generating 0 Fold\n"
     ]
    }
   ],
   "source": [
    "X_inter6 = [list(i) for i in combinations(X_tgt, 6)]\n",
    "for i, (train_idx, valid_idx) in enumerate(ss.split(df_train[X_all], df_train[target])):\n",
    "    print(\"generating {} Fold\".format(i))\n",
    "    sc.cache_result(\n",
    "        'ss_tgt_6_{}'.format(i),\n",
    "        lambda : tge_proc(df_train.iloc[train_idx], df_train.iloc[valid_idx], X_inter6), rerun = 0\n",
    "    )"
   ]
  },
  {
   "cell_type": "code",
   "execution_count": 8,
   "id": "7babd090-25aa-4db4-8b49-f166734c2f27",
   "metadata": {},
   "outputs": [
    {
     "name": "stdout",
     "output_type": "stream",
     "text": [
      "generating 0 Fold\n"
     ]
    }
   ],
   "source": [
    "X_inter7 = [list(i) for i in combinations(X_tgt, 7)]\n",
    "for i, (train_idx, valid_idx) in enumerate(ss.split(df_train[X_all], df_train[target])):\n",
    "    print(\"generating {} Fold\".format(i))\n",
    "    sc.cache_result(\n",
    "        'ss_tgt_7_{}'.format(i),\n",
    "        lambda : tge_proc(df_train.iloc[train_idx], df_train.iloc[valid_idx], X_inter7), rerun = 0\n",
    "    )"
   ]
  },
  {
   "cell_type": "code",
   "execution_count": 9,
   "id": "6e3f7ff8-2f89-4304-a89c-102413f12eb7",
   "metadata": {},
   "outputs": [
    {
     "name": "stdout",
     "output_type": "stream",
     "text": [
      "generating 0 Fold\n"
     ]
    }
   ],
   "source": [
    "X_inter8 = [list(i) for i in combinations(X_tgt, 8)]\n",
    "for i, (train_idx, valid_idx) in enumerate(ss.split(df_train[X_all], df_train[target])):\n",
    "    print(\"generating {} Fold\".format(i))\n",
    "    sc.cache_result(\n",
    "        'ss_tgt_8_{}'.format(i),\n",
    "        lambda : tge_proc(df_train.iloc[train_idx], df_train.iloc[valid_idx], X_inter8), rerun = 0\n",
    "    )"
   ]
  },
  {
   "cell_type": "code",
   "execution_count": 10,
   "id": "d35d7f45-dead-4ffb-bd10-ee141a76424a",
   "metadata": {},
   "outputs": [
    {
     "name": "stdout",
     "output_type": "stream",
     "text": [
      "generating 0 Fold\n"
     ]
    }
   ],
   "source": [
    "X_inter9 = [list(i) for i in combinations(X_tgt, 9)]\n",
    "for i, (train_idx, valid_idx) in enumerate(ss.split(df_train[X_all], df_train[target])):\n",
    "    print(\"generating {} Fold\".format(i))\n",
    "    sc.cache_result(\n",
    "        'ss_tgt_9_{}'.format(i),\n",
    "        lambda : tge_proc(df_train.iloc[train_idx], df_train.iloc[valid_idx], X_inter9), rerun = 0\n",
    "    )"
   ]
  },
  {
   "cell_type": "code",
   "execution_count": 15,
   "id": "33b737fe-939c-4b21-a1aa-7ea60847c257",
   "metadata": {},
   "outputs": [],
   "source": [
    "def cv_tgt3(hparams, adapter, tgt_set, test_run = False, **argv):\n",
    "    rmse_oof = list()\n",
    "    prd_oof = list()\n",
    "    for i, (train_idx, valid_idx) in enumerate(ss.split(df_train[X_all], df_train[target])):\n",
    "        df_tgts_train, df_tgts_valid = list(), list()\n",
    "        for j in tgt_set:\n",
    "            df_tgt_train, df_tgt_valid = sc.read_result('{}_{}'.format(j, i))\n",
    "            df_tgts_train.append(df_tgt_train)\n",
    "            df_tgts_valid.append(df_tgt_valid)\n",
    "        df_tgts_train = pd.concat(df_tgts_train, axis=1)\n",
    "        df_tgts_valid = pd.concat(df_tgts_valid, axis=1)\n",
    "        result = sgml.train(\n",
    "            dproc.join_and_assign(\n",
    "                df_train.iloc[train_idx], df_tgts_train\n",
    "            ), hparams, config, adapter, **argv\n",
    "        )\n",
    "        predictor = sgml.assemble_predictor(**result[0], spec = result[1], config = config)\n",
    "        prd_oof.append(\n",
    "            predictor(dproc.join_and_assign(\n",
    "                df_train.iloc[valid_idx], df_tgts_valid\n",
    "            ))\n",
    "        )\n",
    "        rmse_oof.append(\n",
    "            root_mean_squared_error(df_train.iloc[valid_idx][target], prd_oof[-1])\n",
    "        )\n",
    "        if test_run:\n",
    "            break\n",
    "    return rmse_oof, pd.concat(prd_oof).sort_index()"
   ]
  },
  {
   "cell_type": "markdown",
   "id": "c924c320-3799-4b23-8e41-1a21b5335770",
   "metadata": {},
   "source": [
    "# XGB 3"
   ]
  },
  {
   "cell_type": "code",
   "execution_count": 16,
   "id": "6f98d29c-f552-452a-9423-364e85e85d6a",
   "metadata": {},
   "outputs": [],
   "source": [
    "X_tgt = ['__'.join(i) for i in X_inter2_4 + X_inter5 + X_inter6 + X_inter7 + X_inter8 + X_inter9]\n",
    "hparams = {\n",
    "    'model_params': {'max_depth': 10, 'n_estimators': 1500, 'learning_rate': 0.02, 'colsample_bytree': 0.7},\n",
    "    'X_num': X_tgt, 'validation_fraction': 0.1\n",
    "}"
   ]
  },
  {
   "cell_type": "code",
   "execution_count": 27,
   "id": "9e038ea5-309b-466a-b655-8ac4441086ac",
   "metadata": {},
   "outputs": [
    {
     "data": {
      "text/plain": [
       "(12.128799438476562, [12.128799438476562])"
      ]
     },
     "execution_count": 27,
     "metadata": {},
     "output_type": "execute_result"
    }
   ],
   "source": [
    "rmse_oof, prd_oof_xgb3 = sc.cache_result(\n",
    "    'cv_xgb3', lambda : cv_tgt3(hparams, xgb_adapter, ['ss_tgt_2_4', 'ss_tgt_5', 'ss_tgt_6', 'ss_tgt_7', 'ss_tgt_8', 'ss_tgt_9'], use_gpu = True), rerun = 0\n",
    ")\n",
    "np.mean(rmse_oof), rmse_oof"
   ]
  },
  {
   "cell_type": "markdown",
   "id": "f007042e-5acb-4dd8-937f-169609eee1d3",
   "metadata": {},
   "source": [
    "# XGB 4"
   ]
  },
  {
   "cell_type": "code",
   "execution_count": 28,
   "id": "4db7df9d-8ee0-4838-a1e6-f2aa59ce0504",
   "metadata": {},
   "outputs": [],
   "source": [
    "X_tgt = ['__'.join(i) for i in X_inter2_4 + X_inter5 + X_inter6 + X_inter7 + X_inter8]\n",
    "hparams = {\n",
    "    'model_params': {'max_depth': 10, 'n_estimators': 1500, 'learning_rate': 0.02, 'colsample_bytree': 0.7},\n",
    "    'X_num': X_tgt, 'validation_fraction': 0.1\n",
    "}"
   ]
  },
  {
   "cell_type": "code",
   "execution_count": 29,
   "id": "a7367a3e-bbd3-41b3-8f5f-772a1a625fb3",
   "metadata": {},
   "outputs": [
    {
     "data": {
      "text/plain": [
       "(12.12886905670166, [12.12886905670166])"
      ]
     },
     "execution_count": 29,
     "metadata": {},
     "output_type": "execute_result"
    }
   ],
   "source": [
    "rmse_oof, prd_oof_xgb4 = sc.cache_result(\n",
    "    'cv_xgb4', lambda : cv_tgt3(hparams, xgb_adapter, ['ss_tgt_2_4', 'ss_tgt_5', 'ss_tgt_6', 'ss_tgt_7', 'ss_tgt_8'], use_gpu = True), rerun = 0\n",
    ")\n",
    "np.mean(rmse_oof), rmse_oof"
   ]
  },
  {
   "cell_type": "markdown",
   "id": "6a63ebe2-3458-447a-bbdc-436759eaccaf",
   "metadata": {},
   "source": [
    "# XGB 5"
   ]
  },
  {
   "cell_type": "code",
   "execution_count": 30,
   "id": "c941f31f-2809-479e-9753-72d63447e83a",
   "metadata": {},
   "outputs": [],
   "source": [
    "X_tgt = ['__'.join(i) for i in X_inter2_4 + X_inter5 + X_inter6 + X_inter7]\n",
    "hparams = {\n",
    "    'model_params': {'max_depth': 10, 'n_estimators': 1500, 'learning_rate': 0.02, 'colsample_bytree': 0.7},\n",
    "    'X_num': X_tgt, 'validation_fraction': 0.1\n",
    "}"
   ]
  },
  {
   "cell_type": "code",
   "execution_count": 31,
   "id": "6a437d8c-833d-4ea4-a2bc-fcc2ea38b200",
   "metadata": {},
   "outputs": [
    {
     "data": {
      "text/plain": [
       "(12.129864692687988, [12.129864692687988])"
      ]
     },
     "execution_count": 31,
     "metadata": {},
     "output_type": "execute_result"
    }
   ],
   "source": [
    "rmse_oof, prd_oof_xgb5 = sc.cache_result(\n",
    "    'cv_xgb5', lambda : cv_tgt3(hparams, xgb_adapter, ['ss_tgt_2_4', 'ss_tgt_5', 'ss_tgt_6', 'ss_tgt_7'], use_gpu = True), rerun = 0\n",
    ")\n",
    "np.mean(rmse_oof), rmse_oof"
   ]
  },
  {
   "cell_type": "code",
   "execution_count": 34,
   "id": "a35fe031-3b78-46e6-8e12-8cef6b89acd1",
   "metadata": {},
   "outputs": [
    {
     "data": {
      "text/plain": [
       "12.109758377075195"
      ]
     },
     "execution_count": 34,
     "metadata": {},
     "output_type": "execute_result"
    }
   ],
   "source": [
    "((prd_oof_xgb3 + prd_oof_xgb4  + prd_oof_xgb5) / 3).pipe(\n",
    "    lambda x: root_mean_squared_error(df_train.loc[x.index, target], x)\n",
    ")"
   ]
  },
  {
   "cell_type": "markdown",
   "id": "36df8347-fc9b-4faf-be10-cbab5f5e9cfc",
   "metadata": {},
   "source": [
    "# LGB 5"
   ]
  },
  {
   "cell_type": "code",
   "execution_count": 40,
   "id": "25a28559-52b3-4ee1-829c-9f9039e105eb",
   "metadata": {},
   "outputs": [],
   "source": [
    "X_tgt = ['__'.join(i) for i in X_inter2_4 + X_inter5 + X_inter6 + X_inter7]\n",
    "hparams = {\n",
    "    'model_params': {'num_leaves': 31, 'n_estimators': 1500, 'learning_rate': 0.02, 'colsample_bytree': 0.7, 'metric': 'RMSE'},\n",
    "    'X_num': X_tgt, 'validation_fraction': 0.1\n",
    "}"
   ]
  },
  {
   "cell_type": "code",
   "execution_count": null,
   "id": "cf129955-8275-4993-a90a-3996c763e0f9",
   "metadata": {},
   "outputs": [],
   "source": [
    "rmse_oof, prd_oof_lgb5 = sc.cache_result(\n",
    "    'cv_lgb5', lambda : cv_tgt3(hparams, lgb_adapter, ['ss_tgt_2_4', 'ss_tgt_5', 'ss_tgt_6', 'ss_tgt_7']), rerun = 0\n",
    ")\n",
    "np.mean(rmse_oof), rmse_oof"
   ]
  },
  {
   "cell_type": "markdown",
   "id": "4f2339dc-95fa-4e72-b6d6-6fadfce0fc47",
   "metadata": {},
   "source": [
    "# XGB 6"
   ]
  },
  {
   "cell_type": "code",
   "execution_count": null,
   "id": "3ea12ad9-a485-4334-8594-300b208d9192",
   "metadata": {},
   "outputs": [],
   "source": [
    "X_tgt = ['__'.join(i) for i in X_inter2_4 + X_inter5 + X_inter6]\n",
    "hparams = {\n",
    "    'model_params': {'max_depth': 10, 'n_estimators': 1500, 'learning_rate': 0.02, 'colsample_bytree': 0.7},\n",
    "    'X_num': X_tgt, 'validation_fraction': 0.1\n",
    "}"
   ]
  },
  {
   "cell_type": "code",
   "execution_count": null,
   "id": "e99341cb-9dc7-4992-a7ac-8cc7dce58c0a",
   "metadata": {},
   "outputs": [],
   "source": [
    "rmse_oof, prd_oof_xgb = sc.cache_result(\n",
    "    'cv_xgb6', lambda : cv_tgt3(hparams, xgb_adapter, ['ss_tgt_2_4', 'ss_tgt_5', 'ss_tgt_6'], use_gpu = True), rerun = 0\n",
    ")\n",
    "np.mean(rmse_oof), rmse_oof"
   ]
  },
  {
   "cell_type": "code",
   "execution_count": null,
   "id": "0afa4a3e-0097-416d-b966-d444defe41b5",
   "metadata": {},
   "outputs": [],
   "source": []
  },
  {
   "cell_type": "code",
   "execution_count": null,
   "id": "2745979c-b6d8-4b7b-b4b1-f2c0bc2b4fbe",
   "metadata": {},
   "outputs": [],
   "source": [
    "sc.cache_result(\n",
    "    'tgt_2_4'.format(i),\n",
    "    lambda : tge_proc(df_train, df_test, X_inter2_4), rerun = 0\n",
    ")"
   ]
  },
  {
   "cell_type": "code",
   "execution_count": null,
   "id": "1d404ac8-cc82-481c-a3d5-f57838427329",
   "metadata": {},
   "outputs": [],
   "source": [
    "sc.cache_result(\n",
    "    'tgt_5'.format(i),\n",
    "    lambda : tge_proc(df_train, df_test, X_inter5), rerun = 0\n",
    ")"
   ]
  },
  {
   "cell_type": "code",
   "execution_count": null,
   "id": "bb24bbbe-1339-41d8-b16d-f03bcb067e4d",
   "metadata": {},
   "outputs": [],
   "source": [
    "sc.cache_result(\n",
    "    'tgt_6'.format(i),\n",
    "    lambda : tge_proc(df_train, df_test, X_inter6), rerun = 0\n",
    ")"
   ]
  },
  {
   "cell_type": "code",
   "execution_count": null,
   "id": "d4757e2b-2325-47db-8c24-440709b4bdb8",
   "metadata": {},
   "outputs": [],
   "source": [
    "sc.cache_result(\n",
    "    'tgt_7'.format(i),\n",
    "    lambda : tge_proc(df_train, df_test, X_inter7), rerun = 0\n",
    ")"
   ]
  },
  {
   "cell_type": "code",
   "execution_count": null,
   "id": "689da129-a499-4bd8-9520-e808bc27783d",
   "metadata": {},
   "outputs": [],
   "source": [
    "sc.cache_result(\n",
    "    'tgt_8'.format(i),\n",
    "    lambda : tge_proc(df_train, df_test, X_inter8), rerun = 0\n",
    ")"
   ]
  },
  {
   "cell_type": "code",
   "execution_count": null,
   "id": "d95b08e0-7967-4f17-a4a5-fb015414d767",
   "metadata": {},
   "outputs": [],
   "source": [
    "sc.cache_result(\n",
    "    'tgt_9'.format(i),\n",
    "    lambda : tge_proc(df_train, df_test, X_inter9), rerun = 0\n",
    ")"
   ]
  },
  {
   "cell_type": "code",
   "execution_count": null,
   "id": "6f931fc9-b3e1-4575-b42b-df178ba41816",
   "metadata": {},
   "outputs": [],
   "source": []
  }
 ],
 "metadata": {
  "kernelspec": {
   "display_name": "Python 3 (ipykernel)",
   "language": "python",
   "name": "python3"
  },
  "language_info": {
   "codemirror_mode": {
    "name": "ipython",
    "version": 3
   },
   "file_extension": ".py",
   "mimetype": "text/x-python",
   "name": "python",
   "nbconvert_exporter": "python",
   "pygments_lexer": "ipython3",
   "version": "3.12.9"
  }
 },
 "nbformat": 4,
 "nbformat_minor": 5
}
