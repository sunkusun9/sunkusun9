{
 "cells": [
  {
   "cell_type": "code",
   "execution_count": 1,
   "id": "2c1211fe-201f-43c5-8f48-b1ee6ba71105",
   "metadata": {},
   "outputs": [
    {
     "name": "stdout",
     "output_type": "stream",
     "text": [
      "3.12.6 (main, Sep 30 2024, 02:19:13) [GCC 9.4.0]\n"
     ]
    }
   ],
   "source": [
    "import os, sys\n",
    "\n",
    "import sgpp, sgml, dproc, sgutil\n",
    "import pandas as pd\n",
    "import polars as pl\n",
    "import numpy as np\n",
    "import matplotlib.pyplot as plt\n",
    "import seaborn as sns\n",
    "from tqdm.notebook import tqdm\n",
    "import warnings\n",
    "warnings.simplefilter(action='ignore', category=FutureWarning)\n",
    "\n",
    "print(sys.version)\n",
    "\n",
    "from sklearn.pipeline import make_pipeline\n",
    "from sklearn.impute import SimpleImputer"
   ]
  },
  {
   "cell_type": "code",
   "execution_count": 2,
   "id": "b54b9ffb-0d8e-4667-8ee5-a351e250c7b7",
   "metadata": {},
   "outputs": [],
   "source": [
    "sc = sgutil.SGCache('img', 'result', 'model')\n",
    "p = make_pipeline(\n",
    "    sgpp.PolarsProcessor(),\n",
    "    sgpp.ExprProcessor({\n",
    "        'ELm_num': (pl.col('Episode_Length_minutes').clip(5, 120) - 5) / 115,\n",
    "        'GP': pl.col('Guest_Popularity_percentage').clip(0, 100) / 100,\n",
    "        'HP': pl.col('Host_Popularity_percentage').clip(0, 100) / 100,\n",
    "        'NAd': (pl.when(pl.col('Number_of_Ads') > 4).then(0).otherwise(pl.col('Number_of_Ads'))).fill_null(0.0) /3 ,\n",
    "        'Number_of_Ads': (pl.when(pl.col('Number_of_Ads') > 4).then(0).otherwise(pl.col('Number_of_Ads'))).fill_null(0).cast(pl.Int8),\n",
    "        'ELm_na': pl.col('Episode_Length_minutes').is_null(),\n",
    "        'GPp_na': pl.col('Guest_Popularity_percentage').is_null(),\n",
    "        'ELm_sqrt': ((pl.col('Episode_Length_minutes').fill_null(pl.col('Episode_Length_minutes').mean()).clip(5, 120) - 5) / 115)  ** 0.5\n",
    "    }),\n",
    "    sgpp.PandasConverter(index_col = 'id'),\n",
    "    sgpp.ApplyWrapper(SimpleImputer().set_output(transform = 'pandas'), ['ELm_num', 'GP'])\n",
    ")\n",
    "p.fit(['data/train.csv'])\n",
    "df_train = p.transform(['data/train.csv'])\n",
    "df_test = p.transform(['data/test.csv'])"
   ]
  },
  {
   "cell_type": "code",
   "execution_count": 3,
   "id": "b1e2e64c-b1c9-4922-b755-80c442f50568",
   "metadata": {},
   "outputs": [],
   "source": [
    "import lightgbm as lgb\n",
    "import xgboost as xgb\n",
    "import catboost as cb\n",
    "from sklearn.metrics import root_mean_squared_error\n",
    "from sklearn.model_selection import KFold, cross_validate, cross_val_score, ShuffleSplit\n",
    "from sklearn.linear_model import LinearRegression\n",
    "from mlxtend.feature_selection import SequentialFeatureSelector\n",
    "kf = KFold(4, shuffle = True, random_state = 123)\n",
    "ss = ShuffleSplit(1, train_size = 0.75, random_state = 123)\n",
    "target = 'Listening_Time_minutes'\n",
    "X_all = [i for i in df_train.columns if i != target]\n",
    "\n",
    "def get_validation_splitter(validation_fraction):\n",
    "    return lambda x: train_test_split(x, test_size = validation_fraction)\n",
    "\n",
    "config = {\n",
    "    'predict_func': lambda m, df, X: pd.Series(m.predict(df[X]), index = df.index),\n",
    "    'score_func': lambda df, prds: root_mean_squared_error(df[target], prds),\n",
    "    'validation_splitter': get_validation_splitter,\n",
    "    'progress_callback': sgml.ProgressCallBack(), \n",
    "    'return_train_scores': False,\n",
    "    'y': target,\n",
    "}\n",
    "\n",
    "lr_adapter = sgml.SklearnAdapter(LinearRegression)\n",
    "lgb_adapter = sgml.LGBMAdapter(lgb.LGBMRegressor, progress = 50)\n",
    "xgb_adapter = sgml.XGBAdapter(xgb.XGBRegressor, progress = 50)"
   ]
  },
  {
   "cell_type": "code",
   "execution_count": 4,
   "id": "9e118c18-3362-460e-840b-8aebc5a25ab2",
   "metadata": {},
   "outputs": [],
   "source": [
    "from sklearn.preprocessing import TargetEncoder\n",
    "X_tgt = [\n",
    "    'Podcast_Name', 'Episode_Title', 'Episode_Length_minutes', 'Genre', 'Host_Popularity_percentage', 'Publication_Day', \n",
    "    'Publication_Time','Guest_Popularity_percentage', 'Number_of_Ads','Episode_Sentiment'\n",
    "]\n",
    "def tge_proc(df_train, df_valid, X_vars):\n",
    "    tge = make_pipeline(\n",
    "        sgpp.CatCombiner2(X_vars), TargetEncoder(cv = 4)\n",
    "    ).set_output(transform = 'pandas')\n",
    "    return tge.fit_transform(df_train[X_tgt], df_train[target]), tge.transform(df_valid[X_tgt])"
   ]
  },
  {
   "cell_type": "code",
   "execution_count": 5,
   "id": "2e769049-3ede-4e85-b210-495868efd283",
   "metadata": {},
   "outputs": [],
   "source": [
    "from itertools import combinations\n",
    "X_inter2_4 = list()\n",
    "for i in range(2, 5):\n",
    "    X_inter2_4.extend([list(i) for i in combinations(X_tgt, i)])\n",
    "X_inter5 = [list(i) for i in combinations(X_tgt, 5)]\n",
    "X_inter6 = [list(i) for i in combinations(X_tgt, 6)]\n",
    "X_inter7 = [list(i) for i in combinations(X_tgt, 7)]\n",
    "X_inter8 = [list(i) for i in combinations(X_tgt, 8)]\n",
    "X_inter9 = [list(i) for i in combinations(X_tgt, 9)]\n",
    "X_inter1 = [list(i) for i in combinations(X_tgt, 1)]"
   ]
  },
  {
   "cell_type": "code",
   "execution_count": 6,
   "id": "b1dca746-0033-46fa-8df8-bd9e73cafe36",
   "metadata": {},
   "outputs": [
    {
     "name": "stdout",
     "output_type": "stream",
     "text": [
      "generating 0 Fold\n"
     ]
    }
   ],
   "source": [
    "for i, (train_idx, valid_idx) in enumerate(ss.split(df_train[X_all], df_train[target])):\n",
    "    print(\"generating {} Fold\".format(i))\n",
    "    sc.cache_result(\n",
    "        'ss_tgt_2_4_{}'.format(i),\n",
    "        lambda : tge_proc(df_train.iloc[train_idx], df_train.iloc[valid_idx], X_inter2_4), rerun = 0\n",
    "    )"
   ]
  },
  {
   "cell_type": "code",
   "execution_count": 7,
   "id": "96b205c3-a708-4de9-909c-e78f576cd1a3",
   "metadata": {},
   "outputs": [
    {
     "name": "stdout",
     "output_type": "stream",
     "text": [
      "generating 0 Fold\n"
     ]
    }
   ],
   "source": [
    "for i, (train_idx, valid_idx) in enumerate(ss.split(df_train[X_all], df_train[target])):\n",
    "    print(\"generating {} Fold\".format(i))\n",
    "    sc.cache_result(\n",
    "        'ss_tgt_5_{}'.format(i),\n",
    "        lambda : tge_proc(df_train.iloc[train_idx], df_train.iloc[valid_idx], X_inter5), rerun = 0\n",
    "    )"
   ]
  },
  {
   "cell_type": "code",
   "execution_count": 8,
   "id": "34aded4f-9fe8-4f91-9975-063000889202",
   "metadata": {},
   "outputs": [
    {
     "name": "stdout",
     "output_type": "stream",
     "text": [
      "generating 0 Fold\n"
     ]
    }
   ],
   "source": [
    "for i, (train_idx, valid_idx) in enumerate(ss.split(df_train[X_all], df_train[target])):\n",
    "    print(\"generating {} Fold\".format(i))\n",
    "    sc.cache_result(\n",
    "        'ss_tgt_6_{}'.format(i),\n",
    "        lambda : tge_proc(df_train.iloc[train_idx], df_train.iloc[valid_idx], X_inter6), rerun = 0\n",
    "    )"
   ]
  },
  {
   "cell_type": "code",
   "execution_count": 9,
   "id": "7babd090-25aa-4db4-8b49-f166734c2f27",
   "metadata": {},
   "outputs": [
    {
     "name": "stdout",
     "output_type": "stream",
     "text": [
      "generating 0 Fold\n"
     ]
    }
   ],
   "source": [
    "for i, (train_idx, valid_idx) in enumerate(ss.split(df_train[X_all], df_train[target])):\n",
    "    print(\"generating {} Fold\".format(i))\n",
    "    sc.cache_result(\n",
    "        'ss_tgt_7_{}'.format(i),\n",
    "        lambda : tge_proc(df_train.iloc[train_idx], df_train.iloc[valid_idx], X_inter7), rerun = 0\n",
    "    )"
   ]
  },
  {
   "cell_type": "code",
   "execution_count": 10,
   "id": "6e3f7ff8-2f89-4304-a89c-102413f12eb7",
   "metadata": {},
   "outputs": [
    {
     "name": "stdout",
     "output_type": "stream",
     "text": [
      "generating 0 Fold\n"
     ]
    }
   ],
   "source": [
    "for i, (train_idx, valid_idx) in enumerate(ss.split(df_train[X_all], df_train[target])):\n",
    "    print(\"generating {} Fold\".format(i))\n",
    "    sc.cache_result(\n",
    "        'ss_tgt_8_{}'.format(i),\n",
    "        lambda : tge_proc(df_train.iloc[train_idx], df_train.iloc[valid_idx], X_inter8), rerun = 0\n",
    "    )"
   ]
  },
  {
   "cell_type": "code",
   "execution_count": 11,
   "id": "d35d7f45-dead-4ffb-bd10-ee141a76424a",
   "metadata": {},
   "outputs": [
    {
     "name": "stdout",
     "output_type": "stream",
     "text": [
      "generating 0 Fold\n"
     ]
    }
   ],
   "source": [
    "for i, (train_idx, valid_idx) in enumerate(ss.split(df_train[X_all], df_train[target])):\n",
    "    print(\"generating {} Fold\".format(i))\n",
    "    sc.cache_result(\n",
    "        'ss_tgt_9_{}'.format(i),\n",
    "        lambda : tge_proc(df_train.iloc[train_idx], df_train.iloc[valid_idx], X_inter9), rerun = 0\n",
    "    )"
   ]
  },
  {
   "cell_type": "code",
   "execution_count": 12,
   "id": "c444b7b3-c014-40d4-b1be-8c08f0884c88",
   "metadata": {},
   "outputs": [
    {
     "name": "stdout",
     "output_type": "stream",
     "text": [
      "generating 0 Fold\n"
     ]
    }
   ],
   "source": [
    "for i, (train_idx, valid_idx) in enumerate(ss.split(df_train[X_all], df_train[target])):\n",
    "    print(\"generating {} Fold\".format(i))\n",
    "    sc.cache_result(\n",
    "        'ss_tgt_1_{}'.format(i),\n",
    "        lambda : tge_proc(df_train.iloc[train_idx], df_train.iloc[valid_idx], X_inter1), rerun = 0\n",
    "    )"
   ]
  },
  {
   "cell_type": "code",
   "execution_count": 5,
   "id": "33b737fe-939c-4b21-a1aa-7ea60847c257",
   "metadata": {},
   "outputs": [],
   "source": [
    "def cv_tgt3(hparams, adapter, tgt_set, test_run = False, **argv):\n",
    "    rmse_oof = list()\n",
    "    prd_oof = list()\n",
    "    for i, (train_idx, valid_idx) in enumerate(ss.split(df_train[X_all], df_train[target])):\n",
    "        df_tgts_train, df_tgts_valid = list(), list()\n",
    "        for j in tgt_set:\n",
    "            df_tgt_train, df_tgt_valid = sc.read_result('{}_{}'.format(j, i))\n",
    "            df_tgts_train.append(df_tgt_train)\n",
    "            df_tgts_valid.append(df_tgt_valid)\n",
    "        df_tgts_train = pd.concat(df_tgts_train, axis=1)\n",
    "        df_tgts_valid = pd.concat(df_tgts_valid, axis=1)\n",
    "        result = sgml.train(\n",
    "            dproc.join_and_assign(\n",
    "                df_train.iloc[train_idx], df_tgts_train\n",
    "            ), hparams, config, adapter, **argv\n",
    "        )\n",
    "        predictor = sgml.assemble_predictor(**result[0], spec = result[1], config = config)\n",
    "        prd_oof.append(\n",
    "            predictor(dproc.join_and_assign(\n",
    "                df_train.iloc[valid_idx], df_tgts_valid\n",
    "            ))\n",
    "        )\n",
    "        rmse_oof.append(\n",
    "            root_mean_squared_error(df_train.iloc[valid_idx][target], prd_oof[-1])\n",
    "        )\n",
    "        if test_run:\n",
    "            break\n",
    "    return rmse_oof, pd.concat(prd_oof).sort_index()"
   ]
  },
  {
   "cell_type": "markdown",
   "id": "c924c320-3799-4b23-8e41-1a21b5335770",
   "metadata": {},
   "source": [
    "# XGB 3"
   ]
  },
  {
   "cell_type": "code",
   "execution_count": 7,
   "id": "6f98d29c-f552-452a-9423-364e85e85d6a",
   "metadata": {},
   "outputs": [],
   "source": [
    "X_tgt = ['__'.join(i) for i in X_inter1 + X_inter2_4 + X_inter5 + X_inter6 + X_inter7 + X_inter8 + X_inter9]\n",
    "hparams_xgb3 = {\n",
    "    'model_params': {'max_depth': 10, 'n_estimators': 1500, 'learning_rate': 0.02, 'colsample_bytree': 0.25},\n",
    "    'X_num': ['GP', 'HP', 'NAd', 'ELm_num'] + X_tgt, 'validation_fraction': 0.1\n",
    "}"
   ]
  },
  {
   "cell_type": "code",
   "execution_count": 8,
   "id": "9e038ea5-309b-466a-b655-8ac4441086ac",
   "metadata": {},
   "outputs": [
    {
     "data": {
      "text/plain": [
       "(np.float32(11.934904), [np.float32(11.934904)])"
      ]
     },
     "execution_count": 8,
     "metadata": {},
     "output_type": "execute_result"
    }
   ],
   "source": [
    "rmse_oof, prd_oof_xgb3 = sc.cache_result(\n",
    "    'cv_xgb3', lambda : cv_tgt3(\n",
    "        hparams_xgb3, xgb_adapter, \n",
    "        ['ss_tgt_1', 'ss_tgt_2_4', 'ss_tgt_5', 'ss_tgt_6', 'ss_tgt_7', 'ss_tgt_8', 'ss_tgt_9'], use_gpu = True\n",
    "    ), rerun = 0\n",
    ")\n",
    "np.mean(rmse_oof), rmse_oof"
   ]
  },
  {
   "cell_type": "markdown",
   "id": "f007042e-5acb-4dd8-937f-169609eee1d3",
   "metadata": {},
   "source": [
    "# XGB 4"
   ]
  },
  {
   "cell_type": "code",
   "execution_count": 8,
   "id": "4db7df9d-8ee0-4838-a1e6-f2aa59ce0504",
   "metadata": {},
   "outputs": [],
   "source": [
    "X_tgt = ['__'.join(i) for i in  X_inter1 + X_inter2_4 + X_inter5 + X_inter6 + X_inter7 + X_inter8]\n",
    "hparams_xgb4 = {\n",
    "    'model_params': {'max_depth': 10, 'n_estimators': 1500, 'learning_rate': 0.02, 'colsample_bytree': 0.5},\n",
    "    'X_num': ['GP', 'HP', 'NAd', 'ELm_num'] + X_tgt, 'validation_fraction': 0.1\n",
    "}"
   ]
  },
  {
   "cell_type": "code",
   "execution_count": 10,
   "id": "a7367a3e-bbd3-41b3-8f5f-772a1a625fb3",
   "metadata": {},
   "outputs": [
    {
     "data": {
      "text/plain": [
       "(np.float32(11.934055), [np.float32(11.934055)])"
      ]
     },
     "execution_count": 10,
     "metadata": {},
     "output_type": "execute_result"
    }
   ],
   "source": [
    "rmse_oof, prd_oof_xgb4 = sc.cache_result(\n",
    "    'cv_xgb4', lambda : cv_tgt3(\n",
    "        hparams_xgb4, xgb_adapter, \n",
    "        ['ss_tgt_1', 'ss_tgt_2_4', 'ss_tgt_5', 'ss_tgt_6', 'ss_tgt_7', 'ss_tgt_8'], use_gpu = True\n",
    "    ), rerun = 0\n",
    ")\n",
    "np.mean(rmse_oof), rmse_oof"
   ]
  },
  {
   "cell_type": "markdown",
   "id": "6a63ebe2-3458-447a-bbdc-436759eaccaf",
   "metadata": {},
   "source": [
    "# XGB 5"
   ]
  },
  {
   "cell_type": "code",
   "execution_count": 9,
   "id": "c941f31f-2809-479e-9753-72d63447e83a",
   "metadata": {},
   "outputs": [],
   "source": [
    "X_tgt = ['__'.join(i) for i in X_inter1 + X_inter2_4 + X_inter5 + X_inter6 + X_inter7]\n",
    "hparams_xgb5 = {\n",
    "    'model_params': {'max_depth': 10, 'n_estimators': 1500, 'learning_rate': 0.02, 'colsample_bytree': 0.7},\n",
    "    'X_num': ['GP', 'HP', 'NAd', 'ELm_num'] + X_tgt, 'validation_fraction': 0.1\n",
    "}"
   ]
  },
  {
   "cell_type": "code",
   "execution_count": 12,
   "id": "6a437d8c-833d-4ea4-a2bc-fcc2ea38b200",
   "metadata": {},
   "outputs": [
    {
     "data": {
      "text/plain": [
       "(np.float32(11.944567), [np.float32(11.944567)])"
      ]
     },
     "execution_count": 12,
     "metadata": {},
     "output_type": "execute_result"
    }
   ],
   "source": [
    "rmse_oof, prd_oof_xgb5 = sc.cache_result(\n",
    "    'cv_xgb5', lambda : cv_tgt3(\n",
    "        hparams_xgb5, xgb_adapter, \n",
    "        ['ss_tgt_1', 'ss_tgt_2_4', 'ss_tgt_5', 'ss_tgt_6', 'ss_tgt_7'], use_gpu = True\n",
    "    ), rerun = 0\n",
    ")\n",
    "np.mean(rmse_oof), rmse_oof"
   ]
  },
  {
   "cell_type": "code",
   "execution_count": 13,
   "id": "a35fe031-3b78-46e6-8e12-8cef6b89acd1",
   "metadata": {},
   "outputs": [
    {
     "data": {
      "text/plain": [
       "np.float32(11.913565)"
      ]
     },
     "execution_count": 13,
     "metadata": {},
     "output_type": "execute_result"
    }
   ],
   "source": [
    "((prd_oof_xgb3 + prd_oof_xgb4  + prd_oof_xgb5) / 3).pipe(\n",
    "    lambda x: root_mean_squared_error(df_train.loc[x.index, target], x)\n",
    ")"
   ]
  },
  {
   "cell_type": "markdown",
   "id": "36df8347-fc9b-4faf-be10-cbab5f5e9cfc",
   "metadata": {},
   "source": [
    "# LGB 5"
   ]
  },
  {
   "cell_type": "code",
   "execution_count": 10,
   "id": "25a28559-52b3-4ee1-829c-9f9039e105eb",
   "metadata": {},
   "outputs": [],
   "source": [
    "X_tgt = ['__'.join(i) for i in X_inter1 + X_inter2_4 + X_inter5 + X_inter6 + X_inter7]\n",
    "hparams_lgb5 = {\n",
    "    'model_params': {'num_leaves': 1024, 'n_estimators': 1500, 'learning_rate': 0.02, 'colsample_bytree': 0.7, 'metric': 'RMSE'},\n",
    "    'X_num': ['GP', 'HP', 'NAd', 'ELm_num'] + X_tgt, 'validation_fraction': 0.1\n",
    "}"
   ]
  },
  {
   "cell_type": "code",
   "execution_count": 15,
   "id": "cf129955-8275-4993-a90a-3996c763e0f9",
   "metadata": {},
   "outputs": [
    {
     "data": {
      "text/plain": [
       "(np.float64(11.933838613850925), [np.float64(11.933838613850925)])"
      ]
     },
     "execution_count": 15,
     "metadata": {},
     "output_type": "execute_result"
    }
   ],
   "source": [
    "rmse_oof, prd_oof_lgb5 = sc.cache_result(\n",
    "    'cv_lgb5', lambda : cv_tgt3(\n",
    "        hparams_lgb5, lgb_adapter, \n",
    "        ['ss_tgt_1', 'ss_tgt_2_4', 'ss_tgt_5', 'ss_tgt_6', 'ss_tgt_7']\n",
    "    ), rerun = 0\n",
    ")\n",
    "np.mean(rmse_oof), rmse_oof"
   ]
  },
  {
   "cell_type": "code",
   "execution_count": 16,
   "id": "d060e327-55bc-49dd-a7ff-ad8740b976b4",
   "metadata": {},
   "outputs": [
    {
     "data": {
      "text/plain": [
       "np.float64(11.899139085079813)"
      ]
     },
     "execution_count": 16,
     "metadata": {},
     "output_type": "execute_result"
    }
   ],
   "source": [
    "((prd_oof_xgb3 + prd_oof_xgb4  + prd_oof_xgb5 + prd_oof_lgb5) / 4).pipe(\n",
    "    lambda x: root_mean_squared_error(df_train.loc[x.index, target], x)\n",
    ")"
   ]
  },
  {
   "cell_type": "markdown",
   "id": "2af3cff5-87a9-46a3-ab43-ebabb0c37f82",
   "metadata": {},
   "source": [
    "# LGB 6"
   ]
  },
  {
   "cell_type": "code",
   "execution_count": 11,
   "id": "b28bdf57-a3e0-469d-b256-d00de29ef6e3",
   "metadata": {},
   "outputs": [],
   "source": [
    "X_tgt = ['__'.join(i) for i in X_inter1 + X_inter2_4 + X_inter5 + X_inter6 + X_inter7 + X_inter8]\n",
    "hparams_lgb6 = {\n",
    "    'model_params': {'num_leaves': 512, 'n_estimators': 1500, 'learning_rate': 0.02, 'colsample_bytree': 0.7, 'metric': 'RMSE'},\n",
    "    'X_num': ['GP', 'HP', 'NAd', 'ELm_num'] + X_tgt, 'validation_fraction': 0.1\n",
    "}"
   ]
  },
  {
   "cell_type": "code",
   "execution_count": 18,
   "id": "2a2bc7da-4405-4b4b-8c94-d447a43ea39f",
   "metadata": {},
   "outputs": [
    {
     "data": {
      "application/vnd.jupyter.widget-view+json": {
       "model_id": "",
       "version_major": 2,
       "version_minor": 0
      },
      "text/plain": [
       "Round:   0%|          | 0/1500 [00:00<?, ?it/s]"
      ]
     },
     "metadata": {},
     "output_type": "display_data"
    },
    {
     "data": {
      "text/plain": [
       "(np.float64(11.927822328915358), [np.float64(11.927822328915358)])"
      ]
     },
     "execution_count": 18,
     "metadata": {},
     "output_type": "execute_result"
    }
   ],
   "source": [
    "rmse_oof, prd_oof_lgb6 = sc.cache_result(\n",
    "    'cv_lgb6', lambda : cv_tgt3(\n",
    "        hparams_lgb5, lgb_adapter, \n",
    "        ['ss_tgt_1', 'ss_tgt_2_4', 'ss_tgt_5', 'ss_tgt_6', 'ss_tgt_7', 'ss_tgt_8']\n",
    "    ), rerun = 0\n",
    ")\n",
    "np.mean(rmse_oof), rmse_oof"
   ]
  },
  {
   "cell_type": "code",
   "execution_count": 32,
   "id": "70e6ad07-9ed4-4112-af7a-d93e402c6876",
   "metadata": {},
   "outputs": [
    {
     "data": {
      "text/plain": [
       "np.float64(11.891587539908157)"
      ]
     },
     "execution_count": 32,
     "metadata": {},
     "output_type": "execute_result"
    }
   ],
   "source": [
    "((prd_oof_xgb3 + prd_oof_xgb4  + prd_oof_xgb5 + prd_oof_lgb5 + prd_oof_lgb6) / 5).pipe(\n",
    "    lambda x: root_mean_squared_error(df_train.loc[x.index, target], x)\n",
    ")"
   ]
  },
  {
   "cell_type": "markdown",
   "id": "4f2339dc-95fa-4e72-b6d6-6fadfce0fc47",
   "metadata": {},
   "source": [
    "# XGB 6"
   ]
  },
  {
   "cell_type": "code",
   "execution_count": 34,
   "id": "3ea12ad9-a485-4334-8594-300b208d9192",
   "metadata": {},
   "outputs": [],
   "source": [
    "X_tgt = ['__'.join(i) for i in X_inter1 + X_inter2_4 + X_inter5 + X_inter6]\n",
    "hparams_xgb6 = {\n",
    "    'model_params': {'max_depth': 10, 'n_estimators': 1500, 'learning_rate': 0.02, 'colsample_bytree': 0.8},\n",
    "    'X_num': ['GP', 'HP', 'NAd', 'ELm_num'] + X_tgt, 'validation_fraction': 0.1\n",
    "}"
   ]
  },
  {
   "cell_type": "code",
   "execution_count": 35,
   "id": "e99341cb-9dc7-4992-a7ac-8cc7dce58c0a",
   "metadata": {},
   "outputs": [
    {
     "data": {
      "application/vnd.jupyter.widget-view+json": {
       "model_id": "",
       "version_major": 2,
       "version_minor": 0
      },
      "text/plain": [
       "Round:   0%|          | 0/1500 [00:00<?, ?it/s]"
      ]
     },
     "metadata": {},
     "output_type": "display_data"
    },
    {
     "data": {
      "text/plain": [
       "(np.float32(11.950178), [np.float32(11.950178)])"
      ]
     },
     "execution_count": 35,
     "metadata": {},
     "output_type": "execute_result"
    }
   ],
   "source": [
    "rmse_oof, prd_oof_xgb6 = sc.cache_result(\n",
    "    'cv_xgb6', lambda : cv_tgt3(hparams_xgb6, xgb_adapter, ['ss_tgt_1', 'ss_tgt_2_4', 'ss_tgt_5', 'ss_tgt_6'], use_gpu = True), rerun = 1\n",
    ")\n",
    "np.mean(rmse_oof), rmse_oof"
   ]
  },
  {
   "cell_type": "code",
   "execution_count": 36,
   "id": "c9d17ffc-8eba-4eaf-9427-f71fe151a853",
   "metadata": {},
   "outputs": [
    {
     "data": {
      "text/plain": [
       "np.float64(11.893755357580401)"
      ]
     },
     "execution_count": 36,
     "metadata": {},
     "output_type": "execute_result"
    }
   ],
   "source": [
    "((prd_oof_xgb3 + prd_oof_xgb4  + prd_oof_xgb5 + prd_oof_lgb5 + prd_oof_lgb6 + prd_oof_xgb6) / 6).pipe(\n",
    "    lambda x: root_mean_squared_error(df_train.loc[x.index, target], x)\n",
    ")"
   ]
  },
  {
   "cell_type": "markdown",
   "id": "d00d11c7-af3a-4f4b-b7cf-ddf2e80b66ed",
   "metadata": {},
   "source": [
    "# XGB 7"
   ]
  },
  {
   "cell_type": "code",
   "execution_count": 9,
   "id": "606eecd8-598f-4473-aa1e-3ec3f1b5a81a",
   "metadata": {},
   "outputs": [],
   "source": [
    "X_tgt = ['__'.join(i) for i in  X_inter1 + X_inter2_4 + X_inter5 + X_inter7]\n",
    "hparams_xgb7 = {\n",
    "    'model_params': {'max_depth': 11, 'n_estimators': 1500, 'learning_rate': 0.03, 'colsample_bytree': 0.5, 'min_child_weight': 50},\n",
    "    'X_num': ['GP', 'HP', 'NAd', 'ELm_num'] + X_tgt, 'validation_fraction': 0.1\n",
    "}"
   ]
  },
  {
   "cell_type": "code",
   "execution_count": null,
   "id": "33ef6f7a-bd27-481e-bd6c-4e6d78131566",
   "metadata": {},
   "outputs": [],
   "source": [
    "rmse_oof, prd_oof_xgb7 = sc.cache_result(\n",
    "    'cv_xgb7', lambda : cv_tgt3(\n",
    "        hparams_xgb7, xgb_adapter, \n",
    "        ['ss_tgt_1', 'ss_tgt_2_4', 'ss_tgt_5', 'ss_tgt_6', 'ss_tgt_7', 'ss_tgt_8'], use_gpu = True\n",
    "    ), rerun = 1\n",
    ")\n",
    "np.mean(rmse_oof), rmse_oof"
   ]
  },
  {
   "cell_type": "code",
   "execution_count": null,
   "id": "2745979c-b6d8-4b7b-b4b1-f2c0bc2b4fbe",
   "metadata": {},
   "outputs": [],
   "source": [
    "_ = sc.cache_result(\n",
    "    'tgt_2_4', lambda : tge_proc(df_train, df_test, X_inter2_4), rerun = 0\n",
    ")"
   ]
  },
  {
   "cell_type": "code",
   "execution_count": null,
   "id": "1d404ac8-cc82-481c-a3d5-f57838427329",
   "metadata": {},
   "outputs": [],
   "source": [
    "_ = sc.cache_result(\n",
    "    'tgt_5', lambda : tge_proc(df_train, df_test, X_inter5), rerun = 0\n",
    ")"
   ]
  },
  {
   "cell_type": "code",
   "execution_count": null,
   "id": "bb24bbbe-1339-41d8-b16d-f03bcb067e4d",
   "metadata": {},
   "outputs": [],
   "source": [
    "_ = sc.cache_result(\n",
    "    'tgt_6', lambda : tge_proc(df_train, df_test, X_inter6), rerun = 0\n",
    ")"
   ]
  },
  {
   "cell_type": "code",
   "execution_count": null,
   "id": "d4757e2b-2325-47db-8c24-440709b4bdb8",
   "metadata": {},
   "outputs": [],
   "source": [
    "_ = sc.cache_result(\n",
    "    'tgt_7', lambda : tge_proc(df_train, df_test, X_inter7), rerun = 0\n",
    ")"
   ]
  },
  {
   "cell_type": "code",
   "execution_count": null,
   "id": "689da129-a499-4bd8-9520-e808bc27783d",
   "metadata": {},
   "outputs": [],
   "source": [
    "_ = sc.cache_result(\n",
    "    'tgt_8', lambda : tge_proc(df_train, df_test, X_inter8), rerun = 0\n",
    ")"
   ]
  },
  {
   "cell_type": "code",
   "execution_count": null,
   "id": "d95b08e0-7967-4f17-a4a5-fb015414d767",
   "metadata": {},
   "outputs": [],
   "source": [
    "_ = sc.cache_result(\n",
    "    'tgt_9', lambda : tge_proc(df_train, df_test, X_inter9), rerun = 0\n",
    ")"
   ]
  },
  {
   "cell_type": "code",
   "execution_count": null,
   "id": "6f931fc9-b3e1-4575-b42b-df178ba41816",
   "metadata": {},
   "outputs": [],
   "source": [
    "_ = sc.cache_result(\n",
    "    'tgt_1', lambda : tge_proc(df_train, df_test, X_inter1), rerun = 0\n",
    ")"
   ]
  },
  {
   "cell_type": "code",
   "execution_count": 6,
   "id": "6c885d0a-0e3d-4a9c-81d1-99f4516950b7",
   "metadata": {},
   "outputs": [],
   "source": [
    "df_tgts_train, df_tgts_test = list(), list()\n",
    "for i in ['tgt_1', 'tgt_2_4', 'tgt_5', 'tgt_6', 'tgt_7', 'tgt_8', 'tgt_9']:\n",
    "    df_tgt_train, df_tgt_valid = sc.read_result(i)\n",
    "    df_tgts_train.append(df_tgt_train)\n",
    "    df_tgts_test.append(df_tgt_valid)\n",
    "df_tgts_train = pd.concat(df_tgts_train, axis=1)\n",
    "df_tgts_test = pd.concat(df_tgts_test, axis=1)\n",
    "df_train = dproc.join_and_assign(df_train, df_tgts_train)\n",
    "df_test = dproc.join_and_assign(df_test, df_tgts_test)"
   ]
  },
  {
   "cell_type": "code",
   "execution_count": 13,
   "id": "3a5defae-c139-4000-ae13-6d0e8db90722",
   "metadata": {},
   "outputs": [
    {
     "name": "stdout",
     "output_type": "stream",
     "text": [
      "xgb3_model\n"
     ]
    },
    {
     "name": "stderr",
     "output_type": "stream",
     "text": [
      "/home/sun9sun9/python312/lib/python3.12/site-packages/xgboost/core.py:158: UserWarning: [09:24:42] WARNING: /workspace/src/common/error_msg.cc:58: Falling back to prediction using DMatrix due to mismatched devices. This might lead to higher memory usage and slower performance. XGBoost is running on: cuda:0, while the input data is on: cpu.\n",
      "Potential solutions:\n",
      "- Use a data structure that matches the device ordinal in the booster.\n",
      "- Set the device for booster before call to inplace_predict.\n",
      "\n",
      "This warning will only be shown once.\n",
      "\n",
      "  warnings.warn(smsg, UserWarning)\n"
     ]
    },
    {
     "name": "stdout",
     "output_type": "stream",
     "text": [
      "xgb4_model\n",
      "xgb5_model\n",
      "lgb5_model\n",
      "lgb6_model\n"
     ]
    }
   ],
   "source": [
    "models = [\n",
    "    ('xgb3_model', hparams_xgb3, xgb_adapter, {'use_gpu': True}), \n",
    "    ('xgb4_model', hparams_xgb4, xgb_adapter, {'use_gpu': True}),\n",
    "    ('xgb5_model', hparams_xgb5, xgb_adapter, {'use_gpu': True}),\n",
    "    ('lgb5_model', hparams_lgb5, lgb_adapter, {}),\n",
    "    ('lgb6_model', hparams_lgb6, lgb_adapter, {}),\n",
    "]\n",
    "\n",
    "prds = list()\n",
    "for i, hparams, adapter, argv in models:\n",
    "    print(i)\n",
    "    if 'validation_fraction' in hparams:\n",
    "        hparams.pop('validation_fraction')\n",
    "    result = sc.cache_result(\n",
    "        i, lambda : sgml.train(\n",
    "            df_train, hparams, config, adapter, **argv\n",
    "        )\n",
    "    )\n",
    "    predictor = sgml.assemble_predictor(**result[0], spec = result[1], config = config)\n",
    "    prds.append(predictor(df_test).rename(i))"
   ]
  },
  {
   "cell_type": "code",
   "execution_count": 16,
   "id": "56806f0d-c886-429e-a1df-4ae341892017",
   "metadata": {},
   "outputs": [],
   "source": [
    "pd.concat(prds, axis = 1).mean(axis = 1).rename(target).to_csv('result/submission12.csv')"
   ]
  },
  {
   "cell_type": "markdown",
   "id": "341681a3-3ee9-4556-b8d7-a8bd65d1acd3",
   "metadata": {},
   "source": [
    "# Ensemble 2"
   ]
  },
  {
   "cell_type": "code",
   "execution_count": null,
   "id": "004378c0-b2ea-4119-93cd-0021e058817e",
   "metadata": {},
   "outputs": [],
   "source": [
    "!kaggle kernels output pirhosseinlou/xgboost-single-model -p /result/e1.csv"
   ]
  },
  {
   "cell_type": "code",
   "execution_count": null,
   "id": "82e1c63f-d5a9-4aea-a5b5-68a9d11956a4",
   "metadata": {},
   "outputs": [],
   "source": [
    "!kaggle kernels output itasps/xgboost-for-predicting-podcast-listening-time -p /result/e2.csv"
   ]
  },
  {
   "cell_type": "code",
   "execution_count": 15,
   "id": "6c53270d-4d53-46eb-8bbb-c69b5797971c",
   "metadata": {},
   "outputs": [],
   "source": [
    "pd.concat([\n",
    "    pd.read_csv('result/submission12.csv', index_col = 'id')[target],\n",
    "    pd.read_csv('result/e1.csv', index_col = 'id')[target],\n",
    "    pd.read_csv('result/e2.csv', index_col = 'id')[target]\n",
    "], axis=1).dot([0.4, 0.3, 0.3]).rename(target).to_csv('result/submission13.csv')"
   ]
  },
  {
   "cell_type": "code",
   "execution_count": 16,
   "id": "870fcf30-3ae3-46c3-b4d2-2744b961ace9",
   "metadata": {},
   "outputs": [
    {
     "name": "stdout",
     "output_type": "stream",
     "text": [
      "id,Listening_Time_minutes\n",
      "750000,54.25828380531418\n",
      "750001,23.687879584149115\n",
      "750002,48.06980681735792\n",
      "750003,80.54972500361517\n",
      "750004,50.04464040831872\n",
      "750005,22.07875733989915\n",
      "750006,93.67984337914278\n",
      "750007,39.95214575307881\n",
      "750008,63.836863387589446\n"
     ]
    }
   ],
   "source": [
    "!head result/submission13.csv"
   ]
  },
  {
   "cell_type": "code",
   "execution_count": null,
   "id": "3ab8c22c-0087-4bb2-a8a2-403dad725c29",
   "metadata": {},
   "outputs": [],
   "source": []
  }
 ],
 "metadata": {
  "kernelspec": {
   "display_name": "Python 3 (ipykernel)",
   "language": "python",
   "name": "python3"
  },
  "language_info": {
   "codemirror_mode": {
    "name": "ipython",
    "version": 3
   },
   "file_extension": ".py",
   "mimetype": "text/x-python",
   "name": "python",
   "nbconvert_exporter": "python",
   "pygments_lexer": "ipython3",
   "version": "3.12.6"
  }
 },
 "nbformat": 4,
 "nbformat_minor": 5
}
