{
 "cells": [
  {
   "cell_type": "markdown",
   "id": "cc8e9121-28a0-4c9d-bde4-71d64c847838",
   "metadata": {},
   "source": [
    "# Submission"
   ]
  },
  {
   "cell_type": "markdown",
   "id": "a045aff1-7ced-4121-a4f1-3efb0d91661d",
   "metadata": {},
   "source": [
    "|Submission|Experiments name|Note|Validation Result|Public Score|의견|\n",
    "|---|----|-----|-----|----|-----|\n",
    "|Submission1.csv|LR_0|1-4 Target Encoding2.ipynb|4-fold CV, RMSE: 12.9223|13.46369|분리했을 때의 성능 집계에 신경을 써야함.<br/> 또한 결측이 있을 경우와 없을 때 분리에 큰 의미가 없음|\n",
    "|Submission2.csv|XGB1|2 Feature Engineering.ipynb|5-fold CV, RMSE: 12.0511474609375|11.96567||\n",
    "|Submission3.csv|LGB1|2 Feature Engineering.ipynb|5-fold CV, RMSE: 12.061242868841823|11.98543||\n",
    "|Submission4.csv|Ensemble|2 Feature Engineering.ipynb|5-fold CV, RMSE: 12.043910934372109|11.96283|XGB1 + LGB1|"
   ]
  },
  {
   "cell_type": "code",
   "execution_count": 1,
   "id": "eb99fcaa-1094-4449-a09b-b35d2b67147d",
   "metadata": {},
   "outputs": [],
   "source": [
    "# !kaggle competitions submit -c playground-series-s5e4 -f result/submission1.csv -m \"1\""
   ]
  },
  {
   "cell_type": "code",
   "execution_count": 3,
   "id": "7c8bba49-4cd5-4b2f-be31-c273880b77fe",
   "metadata": {},
   "outputs": [
    {
     "name": "stdout",
     "output_type": "stream",
     "text": [
      "100%|██████████████████████████████████████| 3.94M/3.94M [00:02<00:00, 1.75MB/s]\n",
      "Successfully submitted to Predict Podcast Listening Time"
     ]
    }
   ],
   "source": [
    "# !kaggle competitions submit -c playground-series-s5e4 -f result/Submission2.csv -m \"2\""
   ]
  },
  {
   "cell_type": "code",
   "execution_count": 4,
   "id": "b8a56759-0200-404f-97c8-2c6e79d12cf9",
   "metadata": {},
   "outputs": [
    {
     "name": "stdout",
     "output_type": "stream",
     "text": [
      "100%|██████████████████████████████████████| 6.02M/6.02M [00:02<00:00, 2.50MB/s]\n",
      "Successfully submitted to Predict Podcast Listening Time"
     ]
    }
   ],
   "source": [
    "# !kaggle competitions submit -c playground-series-s5e4 -f result/Submission3.csv -m \"3\""
   ]
  },
  {
   "cell_type": "code",
   "execution_count": 5,
   "id": "5416a2c2-a68b-4092-b166-d9840a633b1a",
   "metadata": {},
   "outputs": [
    {
     "name": "stdout",
     "output_type": "stream",
     "text": [
      "100%|██████████████████████████████████████| 6.02M/6.02M [00:02<00:00, 2.51MB/s]\n",
      "Successfully submitted to Predict Podcast Listening Time"
     ]
    }
   ],
   "source": [
    "# !kaggle competitions submit -c playground-series-s5e4 -f result/Submission4.csv -m \"4\""
   ]
  },
  {
   "cell_type": "code",
   "execution_count": null,
   "id": "a6270033-39f1-4c31-89be-a4a7575f057d",
   "metadata": {},
   "outputs": [],
   "source": []
  }
 ],
 "metadata": {
  "kernelspec": {
   "display_name": "Python 3 (ipykernel)",
   "language": "python",
   "name": "python3"
  },
  "language_info": {
   "codemirror_mode": {
    "name": "ipython",
    "version": 3
   },
   "file_extension": ".py",
   "mimetype": "text/x-python",
   "name": "python",
   "nbconvert_exporter": "python",
   "pygments_lexer": "ipython3",
   "version": "3.12.9"
  }
 },
 "nbformat": 4,
 "nbformat_minor": 5
}
