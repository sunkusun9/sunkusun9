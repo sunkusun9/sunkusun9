{
 "cells": [
  {
   "cell_type": "markdown",
   "id": "cc8e9121-28a0-4c9d-bde4-71d64c847838",
   "metadata": {},
   "source": [
    "# Experiments"
   ]
  },
  {
   "cell_type": "markdown",
   "id": "a045aff1-7ced-4121-a4f1-3efb0d91661d",
   "metadata": {},
   "source": [
    "|Experiments name|Note|Validation Result|Public Score|의견|\n",
    "|---|----|-----|-----|----|\n",
    "|LR_0|1-4 Target Encoding2.ipynb|4-fold CV, RMSE: 12.9223|13.46369|분리했을 때의 성능 집계에 신경을 써야함.<br/> 또한 결측이 있을 경우와 없을 때 분리에 큰 의미가 없음|"
   ]
  },
  {
   "cell_type": "code",
   "execution_count": 1,
   "id": "eb99fcaa-1094-4449-a09b-b35d2b67147d",
   "metadata": {},
   "outputs": [],
   "source": [
    "# !kaggle competitions submit -c playground-series-s5e4 -f result/submission1.csv -m \"1\""
   ]
  },
  {
   "cell_type": "code",
   "execution_count": null,
   "id": "7c8bba49-4cd5-4b2f-be31-c273880b77fe",
   "metadata": {},
   "outputs": [],
   "source": []
  }
 ],
 "metadata": {
  "kernelspec": {
   "display_name": "Python 3 (ipykernel)",
   "language": "python",
   "name": "python3"
  },
  "language_info": {
   "codemirror_mode": {
    "name": "ipython",
    "version": 3
   },
   "file_extension": ".py",
   "mimetype": "text/x-python",
   "name": "python",
   "nbconvert_exporter": "python",
   "pygments_lexer": "ipython3",
   "version": "3.12.6"
  }
 },
 "nbformat": 4,
 "nbformat_minor": 5
}
