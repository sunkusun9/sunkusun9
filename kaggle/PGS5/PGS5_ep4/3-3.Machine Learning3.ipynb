{
 "cells": [
  {
   "cell_type": "code",
   "execution_count": 1,
   "id": "d7da7071-cfc6-4a2a-bc1a-6b0e2bf036d9",
   "metadata": {},
   "outputs": [
    {
     "name": "stderr",
     "output_type": "stream",
     "text": [
      "2025-04-28 21:23:07.558767: I tensorflow/core/util/port.cc:153] oneDNN custom operations are on. You may see slightly different numerical results due to floating-point round-off errors from different computation orders. To turn them off, set the environment variable `TF_ENABLE_ONEDNN_OPTS=0`.\n",
      "2025-04-28 21:23:07.689836: E external/local_xla/xla/stream_executor/cuda/cuda_fft.cc:467] Unable to register cuFFT factory: Attempting to register factory for plugin cuFFT when one has already been registered\n",
      "WARNING: All log messages before absl::InitializeLog() is called are written to STDERR\n",
      "E0000 00:00:1745842987.748185     720 cuda_dnn.cc:8579] Unable to register cuDNN factory: Attempting to register factory for plugin cuDNN when one has already been registered\n",
      "E0000 00:00:1745842987.766046     720 cuda_blas.cc:1407] Unable to register cuBLAS factory: Attempting to register factory for plugin cuBLAS when one has already been registered\n",
      "W0000 00:00:1745842987.882439     720 computation_placer.cc:177] computation placer already registered. Please check linkage and avoid linking the same target more than once.\n",
      "W0000 00:00:1745842987.882475     720 computation_placer.cc:177] computation placer already registered. Please check linkage and avoid linking the same target more than once.\n",
      "W0000 00:00:1745842987.882476     720 computation_placer.cc:177] computation placer already registered. Please check linkage and avoid linking the same target more than once.\n",
      "W0000 00:00:1745842987.882476     720 computation_placer.cc:177] computation placer already registered. Please check linkage and avoid linking the same target more than once.\n",
      "2025-04-28 21:23:07.894869: I tensorflow/core/platform/cpu_feature_guard.cc:210] This TensorFlow binary is optimized to use available CPU instructions in performance-critical operations.\n",
      "To enable the following instructions: AVX2 AVX_VNNI FMA, in other operations, rebuild TensorFlow with the appropriate compiler flags.\n"
     ]
    },
    {
     "name": "stdout",
     "output_type": "stream",
     "text": [
      "3.12.9 (main, Mar 15 2025, 13:36:28) [GCC 13.3.0]\n"
     ]
    }
   ],
   "source": [
    "import os, sys\n",
    "\n",
    "import sgpp, sgml, dproc, sgutil, sgnn\n",
    "import pandas as pd\n",
    "import polars as pl\n",
    "import numpy as np\n",
    "import matplotlib.pyplot as plt\n",
    "import seaborn as sns\n",
    "from tqdm.notebook import tqdm\n",
    "\n",
    "import warnings\n",
    "warnings.simplefilter(action='ignore', category=FutureWarning)\n",
    "\n",
    "print(sys.version)\n",
    "\n",
    "from sklearn.pipeline import make_pipeline\n",
    "from sklearn.impute import SimpleImputer"
   ]
  },
  {
   "cell_type": "code",
   "execution_count": 2,
   "id": "cafe2b17-8573-448f-8aff-0078fa2dd1d9",
   "metadata": {},
   "outputs": [],
   "source": [
    "sc = sgutil.SGCache('img', 'result', 'model')\n",
    "p = make_pipeline(\n",
    "    sgpp.PolarsProcessor(),\n",
    "    sgpp.ExprProcessor({\n",
    "        'ELm_num': (pl.col('Episode_Length_minutes').clip(5, 120) - 5) / 115,\n",
    "        'GP': pl.col('Guest_Popularity_percentage').clip(0, 100) / 100,\n",
    "        'HP': pl.col('Host_Popularity_percentage').clip(0, 100) / 100,\n",
    "        'NAd': (pl.when(pl.col('Number_of_Ads') > 4).then(0).otherwise(pl.col('Number_of_Ads'))).fill_null(0.0) /3 ,\n",
    "        'Number_of_Ads': (pl.when(pl.col('Number_of_Ads') > 4).then(0).otherwise(pl.col('Number_of_Ads'))).fill_null(0).cast(pl.Int8),\n",
    "        'ELm_na': pl.col('Episode_Length_minutes').is_null(),\n",
    "        'GPp_na': pl.col('Guest_Popularity_percentage').is_null(),\n",
    "        'ELm_sqrt': ((pl.col('Episode_Length_minutes').fill_null(pl.col('Episode_Length_minutes').mean()).clip(5, 120) - 5) / 115)  ** 0.5\n",
    "    }),\n",
    "    sgpp.PandasConverter(index_col = 'id'),\n",
    "    sgpp.ApplyWrapper(SimpleImputer().set_output(transform = 'pandas'), ['ELm_num', 'GP'])\n",
    ")\n",
    "p.fit(['data/train.csv'])\n",
    "df_train = p.transform(['data/train.csv'])\n",
    "df_test = p.transform(['data/test.csv'])"
   ]
  },
  {
   "cell_type": "code",
   "execution_count": 3,
   "id": "a88ba3df-c359-4471-8dfe-cb1d2c75dc8e",
   "metadata": {},
   "outputs": [],
   "source": [
    "import lightgbm as lgb\n",
    "import xgboost as xgb\n",
    "import catboost as cb\n",
    "from sklearn.metrics import root_mean_squared_error\n",
    "from sklearn.model_selection import KFold, cross_validate, cross_val_score, ShuffleSplit\n",
    "from sklearn.linear_model import LinearRegression\n",
    "from mlxtend.feature_selection import SequentialFeatureSelector\n",
    "kf = KFold(5, shuffle = True, random_state = 123)\n",
    "ss = ShuffleSplit(1, train_size = 0.8, random_state = 123)\n",
    "target = 'Listening_Time_minutes'\n",
    "X_all = [i for i in df_train.columns if i != target]\n",
    "\n",
    "def get_validation_splitter(validation_fraction):\n",
    "    return lambda x: train_test_split(x, test_size = validation_fraction)\n",
    "\n",
    "config = {\n",
    "    'predict_func': lambda m, df, X: pd.Series(m.predict(df[X]), index = df.index),\n",
    "    'score_func': lambda df, prds: root_mean_squared_error(df[target], prds),\n",
    "    'validation_splitter': get_validation_splitter,\n",
    "    'progress_callback': sgml.ProgressCallBack(), \n",
    "    'return_train_scores': True,\n",
    "    'y': target,\n",
    "}\n",
    "\n",
    "lr_adapter = sgml.SklearnAdapter(LinearRegression)\n",
    "lgb_adapter = sgml.LGBMAdapter(lgb.LGBMRegressor, progress = 50)\n",
    "xgb_adapter = sgml.XGBAdapter(xgb.XGBRegressor, progress = 50)\n",
    "cb_adapter = sgml.CBAdapter(cb.CatBoostRegressor, progress = 50)\n",
    "nn_adapter = sgnn.NNAdapter(model=sgnn.NNRegressor, progress = 50)"
   ]
  },
  {
   "cell_type": "markdown",
   "id": "0c42de0b-7548-4b28-889e-7b4e94c81bdc",
   "metadata": {},
   "source": [
    "2.Feature Engineering.ipynb 에서 발견한 속성들로 학습을 시킵니다."
   ]
  },
  {
   "cell_type": "code",
   "execution_count": 4,
   "id": "07f4ece3-0d74-4d7c-971a-20de3be14949",
   "metadata": {},
   "outputs": [],
   "source": [
    "X_tgt_sel, _ = sc.read_result('tgt_sel')\n",
    "from sklearn.preprocessing import TargetEncoder\n",
    "\n",
    "def tge_proc(df_train, df_valid):\n",
    "    X_tgt_var = pd.Series(X_tgt_sel).str.split(',').explode().unique().tolist()\n",
    "    tge = make_pipeline(\n",
    "        sgpp.CatCombiner2(pd.Series(X_tgt_sel).str.split(',').tolist()), TargetEncoder()\n",
    "    ).set_output(transform = 'pandas')\n",
    "    return tge.fit_transform(df_train[X_tgt_var], df_train[target]), tge.transform(df_valid[X_tgt_var])"
   ]
  },
  {
   "cell_type": "code",
   "execution_count": 6,
   "id": "7f9a5e1c-fcfd-4619-b5d0-83a17d58227b",
   "metadata": {},
   "outputs": [
    {
     "name": "stdout",
     "output_type": "stream",
     "text": [
      "generating 0 Fold\n",
      "generating 1 Fold\n",
      "generating 2 Fold\n",
      "generating 3 Fold\n",
      "generating 4 Fold\n"
     ]
    }
   ],
   "source": [
    "for i, (train_idx, valid_idx) in enumerate(kf.split(df_train[X_all], df_train[target])):\n",
    "    print(\"generating {} Fold\".format(i))\n",
    "    sc.cache_result(\n",
    "        'kf_sp_{}2'.format(i),\n",
    "        lambda : tge_proc(df_train.iloc[train_idx], df_train.iloc[valid_idx]), rerun = 0\n",
    "    )"
   ]
  },
  {
   "cell_type": "code",
   "execution_count": 7,
   "id": "d29e45ba-2979-4c33-b9f8-5f4ef0ccbcc3",
   "metadata": {},
   "outputs": [],
   "source": [
    "_ =sc.cache_result(\n",
    "    'tgt_enc2', lambda : tge_proc(df_train, df_test), rerun = 0\n",
    ")"
   ]
  },
  {
   "cell_type": "code",
   "execution_count": 5,
   "id": "3d20186d-c1df-499d-b072-c64577b85713",
   "metadata": {},
   "outputs": [],
   "source": [
    "def cv_tgt2(hparams, adapter, test_run = False, **argv):\n",
    "    rmse_oof = list()\n",
    "    prd_oof = list()\n",
    "    for i, (train_idx, valid_idx) in enumerate(kf.split(df_train[X_all], df_train[target])):\n",
    "        df_tgt_train, df_tgt_valid = sc.cache_result(\n",
    "            'kf_sp_{}2'.format(i),\n",
    "            lambda : tge_proc(df_train.iloc[train_idx], df_train.iloc[valid_idx])\n",
    "        )\n",
    "        result = sgml.train(\n",
    "            dproc.join_and_assign(\n",
    "                df_train.iloc[train_idx].rename(columns = {'Episode_Title': 'ET', 'Genre': 'G'}), \n",
    "                df_tgt_train.rename(columns = lambda x: x.replace(',', '_'))), hparams, config, adapter, **argv\n",
    "        )\n",
    "        predictor = sgml.assemble_predictor(**result[0], spec = result[1], config = config)\n",
    "        prd_oof.append(\n",
    "            predictor(dproc.join_and_assign(\n",
    "                df_train.iloc[valid_idx].rename(columns = {'Episode_Title': 'ET', 'Genre': 'G'}), \n",
    "                df_tgt_valid.rename(columns = lambda x: x.replace(',', '_'))\n",
    "            ))\n",
    "        )\n",
    "        rmse_oof.append(\n",
    "            root_mean_squared_error(df_train.iloc[valid_idx][target], prd_oof[-1])\n",
    "        )\n",
    "        if test_run:\n",
    "            break\n",
    "    return rmse_oof, pd.concat(prd_oof).sort_index()"
   ]
  },
  {
   "cell_type": "markdown",
   "id": "95043240-efd2-43c4-b875-ef6c2307c01c",
   "metadata": {},
   "source": [
    "# Linear Regression 2"
   ]
  },
  {
   "cell_type": "code",
   "execution_count": 17,
   "id": "285929f2-02bf-4d6b-934a-572d6396ff24",
   "metadata": {},
   "outputs": [],
   "source": [
    "X_tgt = X_tgt_sel\n",
    "hparams = {\n",
    "    'X_num': ['GP', 'HP', 'NAd', 'ELm_sqrt', 'ELm_num', 'ELm_na'] + [i.replace(',', '_') for i in X_tgt]\n",
    "}"
   ]
  },
  {
   "cell_type": "code",
   "execution_count": 18,
   "id": "56b39bcc-a2cf-4049-a81c-894bf031d6d0",
   "metadata": {},
   "outputs": [
    {
     "data": {
      "text/plain": [
       "[12.805628602113751,\n",
       " 12.831107080031513,\n",
       " 12.869922126139686,\n",
       " 12.89564465274633,\n",
       " 12.911804869939672]"
      ]
     },
     "execution_count": 18,
     "metadata": {},
     "output_type": "execute_result"
    }
   ],
   "source": [
    "rmse_oof, prd_oof = sc.cache_result(\n",
    "    'lr2', lambda : cv_tgt2(hparams, lr_adapter)\n",
    ")\n",
    "rmse_oof"
   ]
  },
  {
   "cell_type": "code",
   "execution_count": 19,
   "id": "d2a158f2-636a-402d-9fec-ae818f9d0e65",
   "metadata": {},
   "outputs": [],
   "source": [
    "df_tgt_train, df_tgt_test = sc.read_result('tgt_enc2')\n",
    "result = sc.cache_result(\n",
    "    \"lr2_m2\", lambda : sgml.train(\n",
    "        dproc.join_and_assign(df_train, df_tgt_train.rename(columns = lambda x: x.replace(',', '_'))), hparams, config, lr_adapter\n",
    "    )\n",
    ")\n",
    "predictor = sgml.assemble_predictor(**result[0], config = config, spec = result[1])\n",
    "prd = predictor(\n",
    "    dproc.join_and_assign(df_test, df_tgt_test.rename(columns = lambda x: x.replace(',', '_')))\n",
    ")\n",
    "prd.rename(target).to_csv('result/submission7_2.csv')"
   ]
  },
  {
   "cell_type": "markdown",
   "id": "e6c26de5-f8c9-40fd-a4da-b56cbf34a43a",
   "metadata": {},
   "source": [
    "# LGB 2"
   ]
  },
  {
   "cell_type": "code",
   "execution_count": 20,
   "id": "308c768d-8aa7-4149-8725-7d6456734679",
   "metadata": {},
   "outputs": [],
   "source": [
    "X_tgt = X_tgt_sel\n",
    "hparams = {\n",
    "    'model_params': {'num_leaves': 1024, 'n_estimators': 1500, 'learning_rate': 0.01, 'colsample_bytree': 0.7},\n",
    "    'X_num': ['GP', 'HP', 'NAd', 'ELm_num', 'ELm_na'] + [i.replace(',', '_') for i in X_tgt],\n",
    "    'metric': 'rmse'\n",
    "}"
   ]
  },
  {
   "cell_type": "code",
   "execution_count": 8,
   "id": "8598765e-620f-44f2-bbd8-b9e17069f04a",
   "metadata": {},
   "outputs": [
    {
     "data": {
      "text/plain": [
       "(11.927139537250884,\n",
       " [11.883674552343056,\n",
       "  11.891175999570464,\n",
       "  11.909504203491974,\n",
       "  11.974334369606053,\n",
       "  11.977008561242876])"
      ]
     },
     "execution_count": 8,
     "metadata": {},
     "output_type": "execute_result"
    }
   ],
   "source": [
    "rmse_oof, prd_oof_lgb = sc.cache_result(\n",
    "    'cv_lgb2', lambda : cv_tgt2(hparams, lgb_adapter)\n",
    ")\n",
    "np.mean(rmse_oof), rmse_oof"
   ]
  },
  {
   "cell_type": "code",
   "execution_count": 22,
   "id": "f28b1425-2df3-4e86-ae94-0e43cb634929",
   "metadata": {},
   "outputs": [
    {
     "data": {
      "application/vnd.jupyter.widget-view+json": {
       "model_id": "5e934679dd224d80bdf90f797ed7f2a2",
       "version_major": 2,
       "version_minor": 0
      },
      "text/plain": [
       "Round:   0%|          | 0/1500 [00:00<?, ?it/s]"
      ]
     },
     "metadata": {},
     "output_type": "display_data"
    }
   ],
   "source": [
    "df_tgt_train, df_tgt_test = sc.read_result('tgt_enc2')\n",
    "result = sc.cache_result(\n",
    "    \"lgb2_2\", lambda : sgml.train(\n",
    "        dproc.join_and_assign(df_train, df_tgt_train.rename(columns = lambda x: x.replace(',', '_'))), hparams, config, lgb_adapter\n",
    "    )\n",
    ")\n",
    "predictor = sgml.assemble_predictor(**result[0], config = config, spec = result[1])\n",
    "prd = predictor(\n",
    "    dproc.join_and_assign(df_test, df_tgt_test.rename(columns = lambda x: x.replace(',', '_')))\n",
    ")\n",
    "prd.rename(target).to_csv('result/submission5_2.csv')"
   ]
  },
  {
   "cell_type": "markdown",
   "id": "fad7ad8d-4358-40e2-8e16-09d8980cc4b2",
   "metadata": {},
   "source": [
    "LR2, LGB2 모두 교차 검증의 성능과 Public Score와 차이가 상당히 납니다. 왜 그런지... 디버깅이 필요해 보입니다.\n",
    "\n",
    "> 디버깅 완료: Train과 Test 각각 ELm과 GP의 결측치를 복원한게 문제가 됐습니다."
   ]
  },
  {
   "cell_type": "markdown",
   "id": "1b19a66f-176a-4f03-b731-3dfcfc3283c5",
   "metadata": {},
   "source": [
    "# XGB 2"
   ]
  },
  {
   "cell_type": "code",
   "execution_count": 15,
   "id": "3be38c18-6782-4f8f-94ae-adeb9ba9ce94",
   "metadata": {},
   "outputs": [],
   "source": [
    "X_tgt = X_tgt_sel\n",
    "hparams = {\n",
    "    'model_params': {'max_depth': 10, 'n_estimators': 1500, 'learning_rate': 0.02, 'colsample_bytree': 0.7},\n",
    "    'X_num': ['GP', 'HP', 'NAd', 'ELm_num', 'ELm_na'] + [i.replace(',', '_') for i in X_tgt],\n",
    "}"
   ]
  },
  {
   "cell_type": "code",
   "execution_count": 9,
   "id": "126b71dd-ecd1-4549-82be-dc4c036f0a7d",
   "metadata": {},
   "outputs": [
    {
     "data": {
      "text/plain": [
       "(11.955599975585937,\n",
       " [11.905922889709473,\n",
       "  11.917500495910645,\n",
       "  11.939695358276367,\n",
       "  12.005415916442871,\n",
       "  12.009465217590332])"
      ]
     },
     "execution_count": 9,
     "metadata": {},
     "output_type": "execute_result"
    }
   ],
   "source": [
    "rmse_oof, prd_oof_xgb = sc.cache_result(\n",
    "    'cv_xgb2', lambda : cv_tgt2(hparams, xgb_adapter, use_gpu = True), rerun = 0\n",
    ")\n",
    "np.mean(rmse_oof), rmse_oof"
   ]
  },
  {
   "cell_type": "code",
   "execution_count": 9,
   "id": "3f6a711b-3fd4-4320-84ab-e7d0eef971e3",
   "metadata": {},
   "outputs": [
    {
     "data": {
      "application/vnd.jupyter.widget-view+json": {
       "model_id": "987be6e4dcc44a66a28e64c56fa74abe",
       "version_major": 2,
       "version_minor": 0
      },
      "text/plain": [
       "Round:   0%|          | 0/1500 [00:00<?, ?it/s]"
      ]
     },
     "metadata": {},
     "output_type": "display_data"
    }
   ],
   "source": [
    "df_tgt_train, df_tgt_test = sc.read_result('tgt_enc2')\n",
    "result = sc.cache_result(\n",
    "    \"xgb2\", lambda : sgml.train(\n",
    "        dproc.join_and_assign(df_train, df_tgt_train.rename(columns = lambda x: x.replace(',', '_'))), hparams, config, xgb_adapter\n",
    "    )\n",
    ")"
   ]
  },
  {
   "cell_type": "markdown",
   "id": "bb60bb98-6a9c-4426-b7a8-441bd209ad9d",
   "metadata": {},
   "source": [
    "# CAT 1"
   ]
  },
  {
   "cell_type": "code",
   "execution_count": 21,
   "id": "1b3347a4-cc63-4285-b93c-cdebae05bbad",
   "metadata": {},
   "outputs": [],
   "source": [
    "X_tgt = X_tgt_sel\n",
    "hparams = {\n",
    "    'model_params': {'max_depth': 12, 'n_estimators': 1500, 'learning_rate': 0.05},\n",
    "    'X_cat': ['Podcast_Name', 'ET', 'G', 'Publication_Day', 'Publication_Time', 'Episode_Sentiment'],\n",
    "    'X_num': ['GP', 'HP', 'NAd', 'ELm_num', 'ELm_na'] + [i.replace(',', '_') for i in X_tgt],\n",
    "}"
   ]
  },
  {
   "cell_type": "code",
   "execution_count": 10,
   "id": "15162efb-8d51-4e97-a76f-d6dea6e2cece",
   "metadata": {},
   "outputs": [
    {
     "data": {
      "text/plain": [
       "(12.024958809105506,\n",
       " [11.97769259753349,\n",
       "  11.992119435823222,\n",
       "  12.008359769471664,\n",
       "  12.072927122912313,\n",
       "  12.073695119786848])"
      ]
     },
     "execution_count": 10,
     "metadata": {},
     "output_type": "execute_result"
    }
   ],
   "source": [
    "rmse_oof, prd_oof_cb = sc.cache_result(\n",
    "    'cv_cb1', lambda : cv_tgt2(hparams, cb_adapter, use_gpu = True)\n",
    ")\n",
    "np.mean(rmse_oof), rmse_oof"
   ]
  },
  {
   "cell_type": "code",
   "execution_count": 23,
   "id": "04dc6e38-ec0d-4a26-8cad-e0f3a8977ad2",
   "metadata": {},
   "outputs": [
    {
     "data": {
      "application/vnd.jupyter.widget-view+json": {
       "model_id": "792fa229ccf745bdadfd5af79c7fc817",
       "version_major": 2,
       "version_minor": 0
      },
      "text/plain": [
       "Round:   0%|          | 0/1500 [00:00<?, ?it/s]"
      ]
     },
     "metadata": {},
     "output_type": "display_data"
    }
   ],
   "source": [
    "df_tgt_train, df_tgt_test = sc.read_result('tgt_enc2')\n",
    "result = sc.cache_result(\n",
    "    \"cb1\", lambda : sgml.train(\n",
    "        dproc.join_and_assign(\n",
    "            df_train.rename(columns = {'Episode_Title': 'ET', 'Genre': 'G'}), \n",
    "            df_tgt_train.rename(columns = lambda x: x.replace(',', '_'))\n",
    "        ), hparams, config, cb_adapter\n",
    "    )\n",
    ")"
   ]
  },
  {
   "cell_type": "markdown",
   "id": "ee878dc8-a1bb-438d-8598-f0b4e0b3fa40",
   "metadata": {},
   "source": [
    "# NN1"
   ]
  },
  {
   "cell_type": "code",
   "execution_count": 12,
   "id": "26ffbd4b-44c5-404f-9284-95a712e00c10",
   "metadata": {},
   "outputs": [],
   "source": [
    "X_tgt = X_tgt_sel\n",
    "nn_params = {\n",
    "    'config':  [\n",
    "        {'unit': 128, 'activation': 'relu', 'batch_norm': False},\n",
    "        {'unit': 128, 'activation': 'relu', 'batch_norm': False},\n",
    "        {'unit': 64, 'activation': 'relu', 'batch_norm': False},\n",
    "        {'unit': 64, 'activation': 'relu', 'batch_norm': False},\n",
    "    ]\n",
    "}\n",
    "\n",
    "hparams = {\n",
    "    'model_params': {\n",
    "        'model_params': nn_params,\n",
    "        'epochs': 30,\n",
    "        'optimizer': ('Adam', {'learning_rate': 0.0001}),\n",
    "        'batch_size': 128, 'shuffle_size': 102400,\n",
    "        'early_stopping': None, 'reduce_lr_on_plateau': None, 'lr_scheduler': None\n",
    "    }, \n",
    "    'X_num':  [i.replace(',', '_') for i in X_tgt],\n",
    "    'validation_fraction': 0.1\n",
    "}"
   ]
  },
  {
   "cell_type": "code",
   "execution_count": null,
   "id": "5df00268-5bd5-4f8a-b34e-7b1c6711eebf",
   "metadata": {},
   "outputs": [],
   "source": [
    "cv_tgt2(hparams, nn_adapter, test_run = True, use_gpu = True)"
   ]
  },
  {
   "cell_type": "markdown",
   "id": "29a7bc64-0a7c-4147-8c98-4514111e84b5",
   "metadata": {},
   "source": [
    "# Ensemble 2"
   ]
  },
  {
   "cell_type": "code",
   "execution_count": 23,
   "id": "2e927e78-3111-405b-b4b9-050d88b0c89a",
   "metadata": {},
   "outputs": [
    {
     "data": {
      "text/plain": [
       "11.917298470770655"
      ]
     },
     "execution_count": 23,
     "metadata": {},
     "output_type": "execute_result"
    }
   ],
   "source": [
    "root_mean_squared_error(\n",
    "    df_train[target],\n",
    "    pd.concat([prd_oof_lgb, prd_oof_xgb], axis=1).dot([0.7, 0.3])\n",
    ")"
   ]
  },
  {
   "cell_type": "code",
   "execution_count": 24,
   "id": "8a512a15-b02f-43f2-bad9-7f69bb32912c",
   "metadata": {},
   "outputs": [],
   "source": [
    "df_tgt_train, df_tgt_test = sc.read_result('tgt_enc2')\n",
    "result = sc.read_result(\"lgb2_2\")\n",
    "predictor = sgml.assemble_predictor(**result[0], config = config, spec = result[1])\n",
    "prd_lgb2_2 = predictor(\n",
    "    dproc.join_and_assign(df_test, df_tgt_test.rename(columns = lambda x: x.replace(',', '_')))\n",
    ")"
   ]
  },
  {
   "cell_type": "code",
   "execution_count": 25,
   "id": "3f718f88-bf77-4226-9e5c-84a43005b564",
   "metadata": {},
   "outputs": [],
   "source": [
    "result = sc.read_result(\"xgb2\")\n",
    "predictor = sgml.assemble_predictor(**result[0], config = config, spec = result[1])\n",
    "prd_xgb2 = predictor(\n",
    "    dproc.join_and_assign(df_test, df_tgt_test.rename(columns = lambda x: x.replace(',', '_')))\n",
    ")"
   ]
  },
  {
   "cell_type": "code",
   "execution_count": 29,
   "id": "45de2887-708e-442d-832e-e1d71cbc08b6",
   "metadata": {},
   "outputs": [],
   "source": [
    "(pd.concat([prd_lgb2_2, prd_xgb2], axis=1).dot([0.7, 0.3])).rename(target).to_csv('result/submission10.csv')"
   ]
  },
  {
   "cell_type": "markdown",
   "id": "bd44f41b-af89-4018-8899-d6db6166fddc",
   "metadata": {},
   "source": [
    "# Ensemble 3"
   ]
  },
  {
   "cell_type": "code",
   "execution_count": 20,
   "id": "dcf459db-27dc-48c5-815e-00961d8112fd",
   "metadata": {},
   "outputs": [
    {
     "data": {
      "text/plain": [
       "11.916032568369"
      ]
     },
     "execution_count": 20,
     "metadata": {},
     "output_type": "execute_result"
    }
   ],
   "source": [
    "root_mean_squared_error(\n",
    "    df_train[target],\n",
    "    pd.concat([prd_oof_lgb, prd_oof_xgb, prd_oof_cb], axis=1).dot([0.6, 0.3, 0.1])\n",
    ")"
   ]
  },
  {
   "cell_type": "code",
   "execution_count": 26,
   "id": "6bb7e162-5ba7-4174-a553-639766b413fb",
   "metadata": {},
   "outputs": [],
   "source": [
    "result = sc.read_result(\"cb1\")\n",
    "predictor = sgml.assemble_predictor(**result[0], config = config, spec = result[1])\n",
    "prd_cb = predictor(\n",
    "    dproc.join_and_assign(\n",
    "        df_test.rename(columns = {'Episode_Title': 'ET', 'Genre': 'G'}), \n",
    "        df_tgt_test.rename(columns = lambda x: x.replace(',', '_'))\n",
    "    )\n",
    ")"
   ]
  },
  {
   "cell_type": "code",
   "execution_count": 27,
   "id": "47a94055-4441-437d-ba5d-0847983a014a",
   "metadata": {},
   "outputs": [],
   "source": [
    "(pd.concat([\n",
    "    prd_lgb2_2, prd_xgb2, prd_cb\n",
    "], axis=1).dot([0.6, 0.3, 0.1])).rename(target).to_csv('result/submission11.csv')"
   ]
  },
  {
   "cell_type": "code",
   "execution_count": null,
   "id": "d27dbdd0-0286-4ec0-a511-8e951fa0fbb9",
   "metadata": {},
   "outputs": [],
   "source": []
  }
 ],
 "metadata": {
  "kernelspec": {
   "display_name": "Python 3 (ipykernel)",
   "language": "python",
   "name": "python3"
  },
  "language_info": {
   "codemirror_mode": {
    "name": "ipython",
    "version": 3
   },
   "file_extension": ".py",
   "mimetype": "text/x-python",
   "name": "python",
   "nbconvert_exporter": "python",
   "pygments_lexer": "ipython3",
   "version": "3.12.6"
  }
 },
 "nbformat": 4,
 "nbformat_minor": 5
}
