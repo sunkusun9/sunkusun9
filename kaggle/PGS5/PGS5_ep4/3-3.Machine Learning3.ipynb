{
 "cells": [
  {
   "cell_type": "code",
   "execution_count": 1,
   "id": "d7da7071-cfc6-4a2a-bc1a-6b0e2bf036d9",
   "metadata": {},
   "outputs": [
    {
     "name": "stdout",
     "output_type": "stream",
     "text": [
      "3.12.6 (main, Sep 30 2024, 02:19:13) [GCC 9.4.0]\n"
     ]
    }
   ],
   "source": [
    "import os, sys\n",
    "\n",
    "import sgpp, sgml, dproc, sgutil\n",
    "import pandas as pd\n",
    "import polars as pl\n",
    "import numpy as np\n",
    "import matplotlib.pyplot as plt\n",
    "import seaborn as sns\n",
    "from tqdm.notebook import tqdm\n",
    "\n",
    "import warnings\n",
    "warnings.simplefilter(action='ignore', category=FutureWarning)\n",
    "\n",
    "print(sys.version)\n",
    "\n",
    "from sklearn.pipeline import make_pipeline"
   ]
  },
  {
   "cell_type": "code",
   "execution_count": 2,
   "id": "cafe2b17-8573-448f-8aff-0078fa2dd1d9",
   "metadata": {},
   "outputs": [],
   "source": [
    "sc = sgutil.SGCache('img', 'result', 'model')\n",
    "p = make_pipeline(\n",
    "    sgpp.PolarsProcessor(),\n",
    "    sgpp.ExprProcessor({\n",
    "        'ELm_num': (pl.col('Episode_Length_minutes').fill_null(pl.col('Episode_Length_minutes').mean()).clip(5, 120) - 5) / 115,\n",
    "        'GP': (pl.col('Guest_Popularity_percentage').fill_null(pl.col('Guest_Popularity_percentage').clip(0,100).mean()).clip(0, 100) / 100),\n",
    "        'HP': pl.col('Host_Popularity_percentage').clip(0, 100) / 100,\n",
    "        'NAd': (pl.when(pl.col('Number_of_Ads') > 4).then(0).otherwise(pl.col('Number_of_Ads'))).fill_null(0.0) /3 ,\n",
    "        'Number_of_Ads': (pl.when(pl.col('Number_of_Ads') > 4).then(0).otherwise(pl.col('Number_of_Ads'))).fill_null(0).cast(pl.Int8),\n",
    "        'ELm_na': pl.col('Episode_Length_minutes').is_null(),\n",
    "        'GPp_na': pl.col('Guest_Popularity_percentage').is_null(),\n",
    "        'ELm_sqrt': ((pl.col('Episode_Length_minutes').fill_null(pl.col('Episode_Length_minutes').mean()).clip(5, 120) - 5) / 115)  ** 0.5\n",
    "    }),\n",
    "    sgpp.PandasConverter(index_col = 'id'),\n",
    ")\n",
    "p.fit(['data/train.csv'])\n",
    "df_train = p.transform(['data/train.csv'])\n",
    "df_test = p.transform(['data/test.csv'])"
   ]
  },
  {
   "cell_type": "code",
   "execution_count": 3,
   "id": "a88ba3df-c359-4471-8dfe-cb1d2c75dc8e",
   "metadata": {},
   "outputs": [],
   "source": [
    "import lightgbm as lgb\n",
    "import xgboost as xgb\n",
    "import catboost as cb\n",
    "from sklearn.metrics import root_mean_squared_error\n",
    "from sklearn.model_selection import KFold, cross_validate, cross_val_score, ShuffleSplit\n",
    "from sklearn.linear_model import LinearRegression\n",
    "from mlxtend.feature_selection import SequentialFeatureSelector\n",
    "kf = KFold(5, shuffle = True, random_state = 123)\n",
    "ss = ShuffleSplit(1, train_size = 0.8, random_state = 123)\n",
    "target = 'Listening_Time_minutes'\n",
    "X_all = [i for i in df_train.columns if i != target]\n",
    "\n",
    "def get_validation_splitter(validation_fraction):\n",
    "    return lambda x: train_test_split(x, test_size = validation_fraction)\n",
    "\n",
    "config = {\n",
    "    'predict_func': lambda m, df, X: pd.Series(m.predict(df[X]), index = df.index),\n",
    "    'score_func': lambda df, prds: root_mean_squared_error(df[target], prds),\n",
    "    'validation_splitter': get_validation_splitter,\n",
    "    'progress_callback': sgml.ProgressCallBack(), \n",
    "    'return_train_scores': True,\n",
    "    'y': target,\n",
    "}\n",
    "\n",
    "lr_adapter = sgml.SklearnAdapter(LinearRegression)\n",
    "lgb_adapter = sgml.LGBMAdapter(lgb.LGBMRegressor, progress = 50)\n",
    "xgb_adapter = sgml.XGBAdapter(xgb.XGBRegressor, progress = 50)"
   ]
  },
  {
   "cell_type": "markdown",
   "id": "0c42de0b-7548-4b28-889e-7b4e94c81bdc",
   "metadata": {},
   "source": [
    "2.Feature Engineering.ipynb 에서 발견한 속성들로 학습을 시킵니다."
   ]
  },
  {
   "cell_type": "code",
   "execution_count": 4,
   "id": "07f4ece3-0d74-4d7c-971a-20de3be14949",
   "metadata": {},
   "outputs": [],
   "source": [
    "X_tgt_sel, _ = sc.read_result('tgt_sel')\n",
    "from sklearn.preprocessing import TargetEncoder\n",
    "\n",
    "def tge_proc(df_train, df_valid):\n",
    "    X_tgt_var = pd.Series(X_tgt_sel).str.split(',').explode().unique().tolist()\n",
    "    df_train_all, df_valid_all = list(), list()\n",
    "    tge = make_pipeline(\n",
    "        sgpp.CatCombiner2(pd.Series(X_tgt_sel).str.split(',').tolist()), TargetEncoder()\n",
    "    ).set_output(transform = 'pandas')\n",
    "    return tge.fit_transform(df_train[X_tgt_var], df_train[target]), tge.transform(df_valid[X_tgt_var])"
   ]
  },
  {
   "cell_type": "code",
   "execution_count": 6,
   "id": "7f9a5e1c-fcfd-4619-b5d0-83a17d58227b",
   "metadata": {},
   "outputs": [
    {
     "name": "stdout",
     "output_type": "stream",
     "text": [
      "generating 0 Fold\n",
      "generating 1 Fold\n",
      "generating 2 Fold\n",
      "generating 3 Fold\n",
      "generating 4 Fold\n"
     ]
    }
   ],
   "source": [
    "for i, (train_idx, valid_idx) in enumerate(kf.split(df_train[X_all], df_train[target])):\n",
    "    print(\"generating {} Fold\".format(i))\n",
    "    sc.cache_result(\n",
    "        'kf_sp_{}2'.format(i),\n",
    "        lambda : tge_proc(df_train.iloc[train_idx], df_train.iloc[valid_idx]), rerun = 0\n",
    "    )\n",
    "X_tgt = X_tgt_sel"
   ]
  },
  {
   "cell_type": "code",
   "execution_count": 7,
   "id": "d29e45ba-2979-4c33-b9f8-5f4ef0ccbcc3",
   "metadata": {},
   "outputs": [],
   "source": [
    "_ =sc.cache_result(\n",
    "    'tgt_enc2', lambda : tge_proc(df_train, df_test), rerun = 0\n",
    ")"
   ]
  },
  {
   "cell_type": "code",
   "execution_count": 35,
   "id": "3d20186d-c1df-499d-b072-c64577b85713",
   "metadata": {},
   "outputs": [],
   "source": [
    "def cv_tgt2(hparams, adapter):\n",
    "    rmse_oof = list()\n",
    "    prd_oof = list()\n",
    "    for i, (train_idx, valid_idx) in enumerate(kf.split(df_train[X_all], df_train[target])):\n",
    "        df_tgt_train, df_tgt_valid = sc.cache_result(\n",
    "            'kf_sp_{}2'.format(i),\n",
    "            lambda : tge_proc(df_train.iloc[train_idx], df_train.iloc[valid_idx])\n",
    "        )\n",
    "        result = sgml.train(\n",
    "            dproc.join_and_assign(df_train.iloc[train_idx], df_tgt_train.rename(columns = lambda x: x.replace(',', '_'))), hparams, config, adapter\n",
    "        )\n",
    "        predictor = sgml.assemble_predictor(**result[0], config = config)\n",
    "        prd_oof.append(\n",
    "            predictor(dproc.join_and_assign(df_train.iloc[valid_idx], df_tgt_valid.rename(columns = lambda x: x.replace(',', '_'))))\n",
    "        )\n",
    "        rmse_oof.append(\n",
    "            root_mean_squared_error(df_train.iloc[valid_idx][target], prd_oof[-1])\n",
    "        )\n",
    "    return rmse_oof, pd.concat(prd_oof).sort_index()"
   ]
  },
  {
   "cell_type": "markdown",
   "id": "95043240-efd2-43c4-b875-ef6c2307c01c",
   "metadata": {},
   "source": [
    "# Linear Regression 2"
   ]
  },
  {
   "cell_type": "code",
   "execution_count": 60,
   "id": "285929f2-02bf-4d6b-934a-572d6396ff24",
   "metadata": {},
   "outputs": [],
   "source": [
    "hparams = {\n",
    "    'X_num': ['GP', 'HP', 'NAd', 'ELm_sqrt', 'ELm_num', 'ELm_na'] + [i.replace(',', '_') for i in X_tgt]\n",
    "}"
   ]
  },
  {
   "cell_type": "code",
   "execution_count": 18,
   "id": "56b39bcc-a2cf-4049-a81c-894bf031d6d0",
   "metadata": {},
   "outputs": [
    {
     "data": {
      "text/plain": [
       "[12.805628602113751,\n",
       " 12.831107080031513,\n",
       " 12.869922126139686,\n",
       " 12.89564465274633,\n",
       " 12.911804869939672]"
      ]
     },
     "execution_count": 18,
     "metadata": {},
     "output_type": "execute_result"
    }
   ],
   "source": [
    "rmse_oof, prd_oof = sc.cache_result(\n",
    "    'lr2', lambda : cv_tgt2(hparams, lr_adapter)\n",
    ")\n",
    "rmse_oof"
   ]
  },
  {
   "cell_type": "code",
   "execution_count": 61,
   "id": "d2a158f2-636a-402d-9fec-ae818f9d0e65",
   "metadata": {},
   "outputs": [],
   "source": [
    "df_tgt_train, df_tgt_test = sc.read_result('tgt_enc2')\n",
    "result = sc.cache_result(\n",
    "    \"lr2_m\", lambda : sgml.train(\n",
    "        dproc.join_and_assign(df_train, df_tgt_train.rename(columns = lambda x: x.replace(',', '_'))), hparams, config, lr_adapter\n",
    "    )\n",
    ")\n",
    "predictor = sgml.assemble_predictor(**result[0], config = config)\n",
    "prd = predictor(\n",
    "    dproc.join_and_assign(df_test, df_tgt_test.rename(columns = lambda x: x.replace(',', '_')))\n",
    ")\n",
    "prd.rename(target).to_csv('result/submission7.csv')"
   ]
  },
  {
   "cell_type": "markdown",
   "id": "e6c26de5-f8c9-40fd-a4da-b56cbf34a43a",
   "metadata": {},
   "source": [
    "# LGB 2"
   ]
  },
  {
   "cell_type": "code",
   "execution_count": 9,
   "id": "308c768d-8aa7-4149-8725-7d6456734679",
   "metadata": {},
   "outputs": [],
   "source": [
    "hparams = {\n",
    "    'model_params': {'num_leaves': 1024, 'n_estimators': 1500, 'learning_rate': 0.01, 'colsample_bytree': 0.7},\n",
    "    'X_num': ['GP', 'HP', 'NAd', 'ELm_num', 'ELm_na'] + [i.replace(',', '_') for i in X_tgt],\n",
    "    'metric': 'rmse'\n",
    "}"
   ]
  },
  {
   "cell_type": "code",
   "execution_count": null,
   "id": "8598765e-620f-44f2-bbd8-b9e17069f04a",
   "metadata": {},
   "outputs": [],
   "source": [
    "rmse_oof, prd_oof = sc.cache_result(\n",
    "    'cv_lgb2', lambda : cv_tgt2(hparams, lgb_adapter)\n",
    ")\n",
    "rmse_oof"
   ]
  },
  {
   "cell_type": "code",
   "execution_count": 20,
   "id": "f28b1425-2df3-4e86-ae94-0e43cb634929",
   "metadata": {},
   "outputs": [],
   "source": [
    "df_tgt_train, df_tgt_test = sc.read_result('tgt_enc2')\n",
    "result = sc.cache_result(\n",
    "    \"lgb2\", lambda : sgml.train(\n",
    "        dproc.join_and_assign(df_train, df_tgt_train.rename(columns = lambda x: x.replace(',', '_'))), hparams, config, lgb_adapter\n",
    "    )\n",
    ")\n",
    "predictor = sgml.assemble_predictor(**result[0], config = config)\n",
    "prd = predictor(\n",
    "    dproc.join_and_assign(df_test, df_tgt_test.rename(columns = lambda x: x.replace(',', '_')))\n",
    ")\n",
    "prd.rename(target).to_csv('result/submission5.csv')"
   ]
  },
  {
   "cell_type": "markdown",
   "id": "fad7ad8d-4358-40e2-8e16-09d8980cc4b2",
   "metadata": {},
   "source": [
    "LR2, LGB2 모두 교차 검증의 성능과 Public Score와 차이가 상당히 납니다. 왜 그런지... 디버깅이 필요해 보입니다."
   ]
  },
  {
   "cell_type": "code",
   "execution_count": null,
   "id": "d18af912-6463-40d8-8c43-00c54f9c15a5",
   "metadata": {},
   "outputs": [],
   "source": []
  }
 ],
 "metadata": {
  "kernelspec": {
   "display_name": "Python 3 (ipykernel)",
   "language": "python",
   "name": "python3"
  },
  "language_info": {
   "codemirror_mode": {
    "name": "ipython",
    "version": 3
   },
   "file_extension": ".py",
   "mimetype": "text/x-python",
   "name": "python",
   "nbconvert_exporter": "python",
   "pygments_lexer": "ipython3",
   "version": "3.12.6"
  }
 },
 "nbformat": 4,
 "nbformat_minor": 5
}
