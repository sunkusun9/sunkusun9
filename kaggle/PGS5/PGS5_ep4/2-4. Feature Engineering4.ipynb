{
 "cells": [
  {
   "cell_type": "code",
   "execution_count": 1,
   "id": "7042ae9b-5995-4651-9819-e45eac6fbdfd",
   "metadata": {},
   "outputs": [
    {
     "name": "stdout",
     "output_type": "stream",
     "text": [
      "3.12.6 (main, Sep 30 2024, 02:19:13) [GCC 9.4.0]\n"
     ]
    }
   ],
   "source": [
    "import os, sys\n",
    "\n",
    "import sgpp, sgml, dproc, sgutil\n",
    "import pandas as pd\n",
    "import polars as pl\n",
    "import numpy as np\n",
    "import matplotlib.pyplot as plt\n",
    "import seaborn as sns\n",
    "from tqdm.notebook import tqdm\n",
    "\n",
    "import warnings\n",
    "warnings.simplefilter(action='ignore', category=FutureWarning)\n",
    "\n",
    "print(sys.version)\n",
    "\n",
    "from sklearn.pipeline import make_pipeline\n",
    "from sklearn.impute import SimpleImputer\n",
    "from sklearn.preprocessing import FunctionTransformer"
   ]
  },
  {
   "cell_type": "code",
   "execution_count": 2,
   "id": "2a85d0f0-90fc-4e7c-8bb0-12ab194b4057",
   "metadata": {},
   "outputs": [],
   "source": [
    "sc = sgutil.SGCache('img', 'result', 'model')\n",
    "p = make_pipeline(\n",
    "    sgpp.PolarsProcessor(),\n",
    "    sgpp.ExprProcessor({\n",
    "        'ELm_num': (pl.col('Episode_Length_minutes').clip(5, 120) - 5) / 115,\n",
    "        'GP': pl.col('Guest_Popularity_percentage').clip(0, 100) / 100,\n",
    "        'HP': pl.col('Host_Popularity_percentage').clip(0, 100) / 100,\n",
    "        'NAd': (pl.when(pl.col('Number_of_Ads') > 4).then(0).otherwise(pl.col('Number_of_Ads'))).fill_null(0.0) /3 ,\n",
    "        'Number_of_Ads': (pl.when(pl.col('Number_of_Ads') > 4).then(0).otherwise(pl.col('Number_of_Ads'))).fill_null(0).cast(pl.Int8),\n",
    "        'ELm_na': pl.col('Episode_Length_minutes').is_null(),\n",
    "        'GPp_na': pl.col('Guest_Popularity_percentage').is_null(),\n",
    "        'ELm_sqrt': ((pl.col('Episode_Length_minutes').fill_null(pl.col('Episode_Length_minutes').mean()).clip(5, 120) - 5) / 115)  ** 0.5,\n",
    "        'ELm_num2': pl.col('Episode_Length_minutes').clip(5, 120),\n",
    "    }),\n",
    "    sgpp.PandasConverter(index_col = 'id'),\n",
    "    sgpp.ApplyWrapper(SimpleImputer().set_output(transform = 'pandas'), ['ELm_num', 'ELm_num2', 'GP']),\n",
    "    sgpp.ApplyWrapper(FunctionTransformer(np.log1p).set_output(transform = 'pandas'), ['ELm_num', 'GP', 'HP'], postfix = '_log1p')\n",
    ")\n",
    "p.fit(['data/train.csv'])\n",
    "df_train = p.transform(['data/train.csv'])\n",
    "df_test = p.transform(['data/test.csv'])"
   ]
  },
  {
   "cell_type": "code",
   "execution_count": 3,
   "id": "26defa4d-9d11-4ca4-ae27-dca3251a622c",
   "metadata": {},
   "outputs": [],
   "source": [
    "target = 'Listening_Time_minutes'\n",
    "resi = 'resi'\n",
    "X_all = [i for i in df_train.columns if i != target]"
   ]
  },
  {
   "cell_type": "code",
   "execution_count": 4,
   "id": "b2e0aaaf-8927-4dd1-94c1-ca6c3374dbad",
   "metadata": {},
   "outputs": [],
   "source": [
    "df_train[target + '_log1p'] = np.log1p(df_train[target])"
   ]
  },
  {
   "cell_type": "code",
   "execution_count": 7,
   "id": "1b76f1dd-58ac-4595-9783-7408452b55bc",
   "metadata": {},
   "outputs": [],
   "source": [
    "import lightgbm as lgb\n",
    "import xgboost as xgb\n",
    "import catboost as cb\n",
    "from sklearn.metrics import root_mean_squared_error\n",
    "from sklearn.model_selection import KFold, cross_validate, cross_val_score, ShuffleSplit, train_test_split\n",
    "from sklearn.linear_model import LinearRegression\n",
    "from mlxtend.feature_selection import SequentialFeatureSelector\n",
    "kf = KFold(5, shuffle = True, random_state = 123)\n",
    "ss = ShuffleSplit(1, train_size = 0.8, random_state = 123)\n",
    "\n",
    "def get_validation_splitter(validation_fraction):\n",
    "    return lambda x: train_test_split(x, test_size = validation_fraction)\n",
    "\n",
    "config = {\n",
    "    'predict_func': lambda m, df, X: pd.Series(m.predict(df[X]), index = df.index),\n",
    "    'score_func': lambda df, prds: root_mean_squared_error(df[target], prds),\n",
    "    'validation_splitter': get_validation_splitter,\n",
    "    'progress_callback': sgml.ProgressCallBack(), \n",
    "    'return_train_scores': True,\n",
    "    'target_func': lambda X, y: np.log1p(y),\n",
    "    'target_invfunc': lambda X, y: np.exp(y) - 1,\n",
    "    'y': target,\n",
    "}\n",
    "lr_adapter = sgml.SklearnAdapter(LinearRegression)\n",
    "lgb_adapter = sgml.LGBMAdapter(lgb.LGBMRegressor, progress = 50)\n",
    "xgb_adapter = sgml.XGBAdapter(xgb.XGBRegressor, progress = 50)"
   ]
  },
  {
   "cell_type": "markdown",
   "id": "2783ddc1-1ec4-438c-b8ff-c556640b97f8",
   "metadata": {},
   "source": [
    "# LR_log1p"
   ]
  },
  {
   "cell_type": "code",
   "execution_count": 6,
   "id": "63cfdf83-03c6-47b4-a98d-7f9c6cff0179",
   "metadata": {},
   "outputs": [
    {
     "data": {
      "application/vnd.jupyter.widget-view+json": {
       "model_id": "",
       "version_major": 2,
       "version_minor": 0
      },
      "text/plain": [
       "Fold:   0%|          | 0/5 [00:00<?, ?it/s]"
      ]
     },
     "metadata": {},
     "output_type": "display_data"
    },
    {
     "data": {
      "text/plain": [
       "np.float64(13.968929283906679)"
      ]
     },
     "execution_count": 6,
     "metadata": {},
     "output_type": "execute_result"
    }
   ],
   "source": [
    "hparams = {\n",
    "    'X_ohe': ['Podcast_Name', 'Episode_Title', 'Genre', 'Publication_Day', 'Publication_Time', 'Episode_Sentiment'],\n",
    "    'ohe': {'drop': 'first'},\n",
    "    'X_num': ['GP_log1p', 'HP_log1p', 'NAd', 'ELm_num_log1p']\n",
    "}\n",
    "\n",
    "result = sc.cv_result('LR_log1p', df_train.loc[~df_train['ELm_na']], kf, hparams, config, \n",
    "                      lr_adapter, result_proc = [sgml.lr_learning_result], rerun = 0)\n",
    "np.mean(result['valid_scores'])"
   ]
  },
  {
   "cell_type": "markdown",
   "id": "44833168-bb6f-4182-b97d-ceeb23ef994e",
   "metadata": {},
   "source": [
    "# LR_div"
   ]
  },
  {
   "cell_type": "code",
   "execution_count": 8,
   "id": "cbfe58a4-0c0b-4965-bb86-91013d0f751b",
   "metadata": {},
   "outputs": [],
   "source": [
    "config2 = {\n",
    "    'predict_func': lambda m, df, X: pd.Series(m.predict(df[X]), index = df.index),\n",
    "    'score_func': lambda df, prds: root_mean_squared_error(df[target], prds),\n",
    "    'validation_splitter': get_validation_splitter,\n",
    "    'progress_callback': sgml.ProgressCallBack(), \n",
    "    'return_train_scores': True,\n",
    "    'target_func': lambda X, y: y / X['ELm_num2'],\n",
    "    'target_invfunc': lambda X, y: y * X['ELm_num2'],\n",
    "    'y': target,\n",
    "}"
   ]
  },
  {
   "cell_type": "code",
   "execution_count": 9,
   "id": "b72c4003-debb-44b8-a501-ff454d73df5a",
   "metadata": {},
   "outputs": [
    {
     "data": {
      "application/vnd.jupyter.widget-view+json": {
       "model_id": "",
       "version_major": 2,
       "version_minor": 0
      },
      "text/plain": [
       "Fold:   0%|          | 0/5 [00:00<?, ?it/s]"
      ]
     },
     "metadata": {},
     "output_type": "display_data"
    },
    {
     "data": {
      "text/plain": [
       "np.float64(15.778656439978969)"
      ]
     },
     "execution_count": 9,
     "metadata": {},
     "output_type": "execute_result"
    }
   ],
   "source": [
    "hparams = {\n",
    "    'X_ohe': ['Podcast_Name', 'Episode_Title', 'Genre', 'Publication_Day', 'Publication_Time', 'Episode_Sentiment'],\n",
    "    'ohe': {'drop': 'first'},\n",
    "    'X_num': ['GP', 'HP', 'NAd', 'ELm_num']\n",
    "}\n",
    "\n",
    "result = sc.cv_result('LR_div', df_train.loc[~df_train['ELm_na']], kf, hparams, config, \n",
    "                      lr_adapter, result_proc = [sgml.lr_learning_result], rerun = 0)\n",
    "np.mean(result['valid_scores'])"
   ]
  },
  {
   "cell_type": "markdown",
   "id": "2b8bbd29-9695-4059-82ba-45df9137a3e4",
   "metadata": {},
   "source": [
    "# LGB_div"
   ]
  },
  {
   "cell_type": "code",
   "execution_count": 12,
   "id": "6d49eaec-c84e-469b-9a01-44f4b844fb10",
   "metadata": {},
   "outputs": [
    {
     "data": {
      "application/vnd.jupyter.widget-view+json": {
       "model_id": "",
       "version_major": 2,
       "version_minor": 0
      },
      "text/plain": [
       "Fold:   0%|          | 0/5 [00:00<?, ?it/s]"
      ]
     },
     "metadata": {},
     "output_type": "display_data"
    },
    {
     "data": {
      "application/vnd.jupyter.widget-view+json": {
       "model_id": "",
       "version_major": 2,
       "version_minor": 0
      },
      "text/plain": [
       "Round:   0%|          | 0/3000 [00:00<?, ?it/s]"
      ]
     },
     "metadata": {},
     "output_type": "display_data"
    },
    {
     "data": {
      "application/vnd.jupyter.widget-view+json": {
       "model_id": "",
       "version_major": 2,
       "version_minor": 0
      },
      "text/plain": [
       "Round:   0%|          | 0/3000 [00:00<?, ?it/s]"
      ]
     },
     "metadata": {},
     "output_type": "display_data"
    },
    {
     "data": {
      "application/vnd.jupyter.widget-view+json": {
       "model_id": "",
       "version_major": 2,
       "version_minor": 0
      },
      "text/plain": [
       "Round:   0%|          | 0/3000 [00:00<?, ?it/s]"
      ]
     },
     "metadata": {},
     "output_type": "display_data"
    },
    {
     "data": {
      "application/vnd.jupyter.widget-view+json": {
       "model_id": "",
       "version_major": 2,
       "version_minor": 0
      },
      "text/plain": [
       "Round:   0%|          | 0/3000 [00:00<?, ?it/s]"
      ]
     },
     "metadata": {},
     "output_type": "display_data"
    },
    {
     "data": {
      "application/vnd.jupyter.widget-view+json": {
       "model_id": "",
       "version_major": 2,
       "version_minor": 0
      },
      "text/plain": [
       "Round:   0%|          | 0/3000 [00:00<?, ?it/s]"
      ]
     },
     "metadata": {},
     "output_type": "display_data"
    },
    {
     "data": {
      "text/plain": [
       "np.float64(10.294693914658714)"
      ]
     },
     "execution_count": 12,
     "metadata": {},
     "output_type": "execute_result"
    }
   ],
   "source": [
    "hparams = {\n",
    "    'model_params': {'num_leaves': 255, 'n_estimators': 3000, 'learning_rate': 0.05, 'colsample_bytree': 0.7, 'metric': 'rmse'},\n",
    "    'X_cat': ['Podcast_Name', 'Episode_Title', 'Genre', 'Publication_Day', 'Publication_Time', 'Episode_Sentiment'],\n",
    "    'X_num': ['GP', 'HP', 'NAd', 'ELm_num']\n",
    "}\n",
    "\n",
    "result = sc.cv_result('lgb_div', df_train.loc[~df_train['ELm_na']], kf, hparams, config, \n",
    "                      lgb_adapter, rerun = 0)\n",
    "np.mean(result['valid_scores'])"
   ]
  },
  {
   "cell_type": "markdown",
   "id": "493eaf0c-d1cf-4ad5-9761-7e4b9b4aba9d",
   "metadata": {},
   "source": [
    "# LGB_ELm_impute "
   ]
  },
  {
   "cell_type": "code",
   "execution_count": 44,
   "id": "8cbb4cc4-c340-478e-a74a-2b328719f218",
   "metadata": {},
   "outputs": [],
   "source": [
    "df_train_ELm = pd.concat([\n",
    "    df_train.loc[~df_train['ELm_na']],\n",
    "    df_test.loc[~df_test['ELm_na']],\n",
    "])"
   ]
  },
  {
   "cell_type": "code",
   "execution_count": 46,
   "id": "85c22ca0-98de-4182-b9ce-5688ac91497e",
   "metadata": {},
   "outputs": [
    {
     "data": {
      "text/plain": [
       "{'fit_time': array([2.53317261, 2.52076435, 2.4920342 , 2.4984982 , 2.49239779]),\n",
       " 'score_time': array([0.63646126, 0.64848351, 0.65622282, 0.63845563, 0.67402911]),\n",
       " 'test_score': array([0.02980957, 0.029526  , 0.0285018 , 0.03142865, 0.03078145]),\n",
       " 'train_score': array([0.05117267, 0.05116901, 0.05130769, 0.0506525 , 0.05057917])}"
      ]
     },
     "execution_count": 46,
     "metadata": {},
     "output_type": "execute_result"
    }
   ],
   "source": [
    "import lightgbm as lgb\n",
    "from sklearn.model_selection import cross_validate\n",
    "\n",
    "X_cat = ['Episode_Sentiment', 'Episode_Title', 'Genre', 'Podcast_Name', 'Publication_Day', 'Publication_Time']\n",
    "X_lgb_num = ['Host_Popularity_percentage', 'Guest_Popularity_percentage', 'Number_of_Ads']\n",
    "X_lgb = X_cat + X_lgb_num\n",
    "cross_validate(\n",
    "    lgb.LGBMRegressor(verbose=-1, num_leaves = 15, n_estimators = 500, learning_rate = 0.05), \n",
    "    df_train_ELm[X_lgb], df_train_ELm['ELm_num'], scoring = 'r2', cv = kf, \n",
    "    params = {'categorical_feature': X_cat}, return_train_score = True\n",
    ")"
   ]
  },
  {
   "cell_type": "code",
   "execution_count": 54,
   "id": "d4975c0a-3267-4bd4-8da0-5eb5ec13361e",
   "metadata": {},
   "outputs": [],
   "source": [
    "def lgb_imp_elm():\n",
    "    reg_lgb = lgb.LGBMRegressor(verbose=-1, num_leaves = 15, n_estimators = 500, learning_rate = 0.05)\n",
    "    reg_lgb.fit(df_train_ELm[X_lgb], df_train_ELm['ELm_num'])\n",
    "    return df_train.loc[df_train['ELm_na']].pipe(\n",
    "        lambda x: pd.Series(reg_lgb.predict(x[X_lgb]), index = x.index)\n",
    "    ), df_test.loc[df_test['ELm_na']].pipe(\n",
    "        lambda x: pd.Series(reg_lgb.predict(x[X_lgb]), index = x.index)\n",
    "    )\n",
    "s_train_elm, s_test_elm = sc.cache_result('lgb_impute_elm', lgb_imp_elm)"
   ]
  },
  {
   "cell_type": "markdown",
   "id": "74d3cfe2-75e6-47a1-a78f-4dc56bb98b07",
   "metadata": {},
   "source": [
    "# LR_ELm_imp"
   ]
  },
  {
   "cell_type": "code",
   "execution_count": 48,
   "id": "ff38910c-787a-4214-b2e1-7835087c7b93",
   "metadata": {},
   "outputs": [],
   "source": [
    "config3 = {\n",
    "    'predict_func': lambda m, df, X: pd.Series(m.predict(df[X]), index = df.index),\n",
    "    'score_func': lambda df, prds: root_mean_squared_error(df[target], prds),\n",
    "    'validation_splitter': get_validation_splitter,\n",
    "    'progress_callback': sgml.ProgressCallBack(), \n",
    "    'return_train_scores': True,\n",
    "    'y': target,\n",
    "}"
   ]
  },
  {
   "cell_type": "code",
   "execution_count": 60,
   "id": "5f45c6dc-c14a-43c9-8f03-f03f81884089",
   "metadata": {},
   "outputs": [],
   "source": [
    "df_train.loc[df_train['ELm_na'], 'ELm_num'] = df_train['ELm_num'].mean()\n",
    "df_test.loc[df_test['ELm_na'], 'ELm_num'] = df_train['ELm_num'].mean()"
   ]
  },
  {
   "cell_type": "code",
   "execution_count": 61,
   "id": "f203afd1-6dd6-4ff8-b7e5-145457b14abe",
   "metadata": {},
   "outputs": [
    {
     "data": {
      "application/vnd.jupyter.widget-view+json": {
       "model_id": "",
       "version_major": 2,
       "version_minor": 0
      },
      "text/plain": [
       "Fold:   0%|          | 0/5 [00:00<?, ?it/s]"
      ]
     },
     "metadata": {},
     "output_type": "display_data"
    },
    {
     "data": {
      "text/plain": [
       "np.float64(17.39910022213298)"
      ]
     },
     "execution_count": 61,
     "metadata": {},
     "output_type": "execute_result"
    }
   ],
   "source": [
    "hparams = {\n",
    "    'X_ohe': ['Podcast_Name', 'Episode_Title', 'Genre', 'Publication_Day', 'Publication_Time', 'Episode_Sentiment'],\n",
    "    'ohe': {'drop': 'first'},\n",
    "    'X_num': ['GP', 'HP', 'NAd', 'ELm_num']\n",
    "}\n",
    "\n",
    "result = sc.cv_result('LR_ELm_imp', df_train, kf, hparams, config, \n",
    "                      lr_adapter, result_proc = [sgml.lr_learning_result], rerun = 0)\n",
    "np.mean(result['valid_scores'])"
   ]
  },
  {
   "cell_type": "code",
   "execution_count": 70,
   "id": "92a05b00-02f5-4d1d-bd81-bff851f90b7d",
   "metadata": {},
   "outputs": [
    {
     "data": {
      "text/plain": [
       "np.float64(27.136443178239656)"
      ]
     },
     "execution_count": 70,
     "metadata": {},
     "output_type": "execute_result"
    }
   ],
   "source": [
    "root_mean_squared_error(\n",
    "    df_train.loc[df_train['ELm_na'], target],\n",
    "    sc.read_prd('LR_ELm_imp', df_train.index).loc[df_train['ELm_na']]\n",
    ")"
   ]
  },
  {
   "cell_type": "code",
   "execution_count": 71,
   "id": "c94e2ed5-8d27-4db8-86a0-264c51256583",
   "metadata": {},
   "outputs": [
    {
     "data": {
      "text/plain": [
       "np.float64(15.676603280220364)"
      ]
     },
     "execution_count": 71,
     "metadata": {},
     "output_type": "execute_result"
    }
   ],
   "source": [
    "root_mean_squared_error(\n",
    "    df_train.loc[~df_train['ELm_na'], target],\n",
    "    sc.read_prd('LR_ELm_imp', df_train.index).loc[~df_train['ELm_na']]\n",
    ")"
   ]
  },
  {
   "cell_type": "code",
   "execution_count": null,
   "id": "40e5f599-5f36-4b82-9f99-4d6103e80a3e",
   "metadata": {},
   "outputs": [],
   "source": []
  }
 ],
 "metadata": {
  "kernelspec": {
   "display_name": "Python 3 (ipykernel)",
   "language": "python",
   "name": "python3"
  },
  "language_info": {
   "codemirror_mode": {
    "name": "ipython",
    "version": 3
   },
   "file_extension": ".py",
   "mimetype": "text/x-python",
   "name": "python",
   "nbconvert_exporter": "python",
   "pygments_lexer": "ipython3",
   "version": "3.12.6"
  }
 },
 "nbformat": 4,
 "nbformat_minor": 5
}
