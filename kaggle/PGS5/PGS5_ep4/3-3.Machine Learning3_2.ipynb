{
 "cells": [
  {
   "cell_type": "code",
   "execution_count": 2,
   "id": "d7da7071-cfc6-4a2a-bc1a-6b0e2bf036d9",
   "metadata": {},
   "outputs": [
    {
     "name": "stdout",
     "output_type": "stream",
     "text": [
      "3.12.9 (main, Mar 15 2025, 13:36:28) [GCC 13.3.0]\n",
      "1.6.1\n"
     ]
    }
   ],
   "source": [
    "import os, sys\n",
    "\n",
    "import sgpp, sgml, dproc, sgutil\n",
    "import pandas as pd\n",
    "import polars as pl\n",
    "import numpy as np\n",
    "import sklearn\n",
    "import matplotlib.pyplot as plt\n",
    "import seaborn as sns\n",
    "from tqdm.notebook import tqdm\n",
    "\n",
    "import warnings\n",
    "warnings.simplefilter(action='ignore', category=FutureWarning)\n",
    "\n",
    "print(sys.version)\n",
    "\n",
    "from sklearn.pipeline import make_pipeline\n",
    "print(sklearn.__version__)"
   ]
  },
  {
   "cell_type": "code",
   "execution_count": 3,
   "id": "cafe2b17-8573-448f-8aff-0078fa2dd1d9",
   "metadata": {},
   "outputs": [],
   "source": [
    "sc = sgutil.SGCache('img', 'result', 'model')\n",
    "p = make_pipeline(\n",
    "    sgpp.PolarsProcessor(),\n",
    "    sgpp.ExprProcessor({\n",
    "        'ELm_num': (pl.col('Episode_Length_minutes').fill_null(pl.col('Episode_Length_minutes').mean()).clip(5, 120) - 5) / 115,\n",
    "        'GP': (pl.col('Guest_Popularity_percentage').fill_null(pl.col('Guest_Popularity_percentage').clip(0,100).mean()).clip(0, 100) / 100),\n",
    "        'HP': pl.col('Host_Popularity_percentage').clip(0, 100) / 100,\n",
    "        'NAd': (pl.when(pl.col('Number_of_Ads') > 4).then(0).otherwise(pl.col('Number_of_Ads'))).fill_null(0.0) /3 ,\n",
    "        'Number_of_Ads': (pl.when(pl.col('Number_of_Ads') > 4).then(0).otherwise(pl.col('Number_of_Ads'))).fill_null(0).cast(pl.Int8),\n",
    "        'ELm_na': pl.col('Episode_Length_minutes').is_null(),\n",
    "        'GPp_na': pl.col('Guest_Popularity_percentage').is_null(),\n",
    "        'ELm_sqrt': ((pl.col('Episode_Length_minutes').fill_null(pl.col('Episode_Length_minutes').mean()).clip(5, 120) - 5) / 115)  ** 0.5\n",
    "    }),\n",
    "    sgpp.PandasConverter(index_col = 'id'),\n",
    ")\n",
    "p.fit(['data/train.csv'])\n",
    "df_train = p.transform(['data/train.csv'])\n",
    "df_test = p.transform(['data/test.csv'])"
   ]
  },
  {
   "cell_type": "code",
   "execution_count": 4,
   "id": "a88ba3df-c359-4471-8dfe-cb1d2c75dc8e",
   "metadata": {},
   "outputs": [],
   "source": [
    "import lightgbm as lgb\n",
    "import xgboost as xgb\n",
    "import catboost as cb\n",
    "from sklearn.metrics import root_mean_squared_error\n",
    "from sklearn.model_selection import KFold, cross_validate, cross_val_score, ShuffleSplit\n",
    "from sklearn.linear_model import LinearRegression\n",
    "from mlxtend.feature_selection import SequentialFeatureSelector\n",
    "kf = KFold(5, shuffle = True, random_state = 123)\n",
    "ss = ShuffleSplit(1, train_size = 0.8, random_state = 123)\n",
    "target = 'Listening_Time_minutes'\n",
    "X_all = [i for i in df_train.columns if i != target]\n",
    "\n",
    "def get_validation_splitter(validation_fraction):\n",
    "    return lambda x: train_test_split(x, test_size = validation_fraction)\n",
    "\n",
    "config = {\n",
    "    'predict_func': lambda m, df, X: pd.Series(m.predict(df[X]), index = df.index),\n",
    "    'score_func': lambda df, prds: root_mean_squared_error(df[target], prds),\n",
    "    'validation_splitter': get_validation_splitter,\n",
    "    'progress_callback': sgml.ProgressCallBack(), \n",
    "    'return_train_scores': True,\n",
    "    'y': target,\n",
    "}\n",
    "\n",
    "lr_adapter = sgml.SklearnAdapter(LinearRegression)\n",
    "lgb_adapter = sgml.LGBMAdapter(lgb.LGBMRegressor, progress = 50)\n",
    "xgb_adapter = sgml.XGBAdapter(xgb.XGBRegressor, progress = 50)"
   ]
  },
  {
   "cell_type": "markdown",
   "id": "0c42de0b-7548-4b28-889e-7b4e94c81bdc",
   "metadata": {},
   "source": [
    "2.Feature Engineering.ipynb 에서 발견한 속성들로 학습을 시킵니다."
   ]
  },
  {
   "cell_type": "code",
   "execution_count": 5,
   "id": "07f4ece3-0d74-4d7c-971a-20de3be14949",
   "metadata": {},
   "outputs": [],
   "source": [
    "X_tgt_sel, _ = sc.read_result('tgt_sel')\n",
    "from sklearn.preprocessing import TargetEncoder\n",
    "\n",
    "def tge_proc(df_train, df_valid, df_test):\n",
    "    X_tgt_var = pd.Series(X_tgt_sel).str.split(',').explode().unique().tolist()\n",
    "    tge = make_pipeline(\n",
    "        sgpp.CatCombiner2(pd.Series(X_tgt_sel).str.split(',').tolist()), TargetEncoder()\n",
    "    ).set_output(transform = 'pandas')\n",
    "    return (\n",
    "        tge.fit_transform(df_train[X_tgt_var], df_train[target]), \n",
    "        tge.transform(df_valid[X_tgt_var]), \n",
    "        tge.transform(df_test[X_tgt_var])\n",
    "    )"
   ]
  },
  {
   "cell_type": "code",
   "execution_count": 5,
   "id": "7f9a5e1c-fcfd-4619-b5d0-83a17d58227b",
   "metadata": {},
   "outputs": [
    {
     "name": "stdout",
     "output_type": "stream",
     "text": [
      "generating 0 Fold\n",
      "generating 1 Fold\n",
      "generating 2 Fold\n",
      "generating 3 Fold\n",
      "generating 4 Fold\n"
     ]
    }
   ],
   "source": [
    "for i, (train_idx, valid_idx) in enumerate(kf.split(df_train[X_all], df_train[target])):\n",
    "    print(\"generating {} Fold\".format(i))\n",
    "    sc.cache_result(\n",
    "        'kf_sp_{}_3'.format(i),\n",
    "        lambda : tge_proc(df_train.iloc[train_idx], df_train.iloc[valid_idx], df_test), rerun = 0\n",
    "    )\n",
    "X_tgt = X_tgt_sel"
   ]
  },
  {
   "cell_type": "code",
   "execution_count": 13,
   "id": "3d20186d-c1df-499d-b072-c64577b85713",
   "metadata": {},
   "outputs": [],
   "source": [
    "def cv_tgt3(hparams, adapter):\n",
    "    rmse_oof = list()\n",
    "    prd_oof = list()\n",
    "    test_prd = list()\n",
    "    \n",
    "    for i, (train_idx, valid_idx) in enumerate(kf.split(df_train[X_all], df_train[target])):\n",
    "        df_tgt_train, df_tgt_valid, df_tgt_test = sc.cache_result(\n",
    "            'kf_sp_{}_3'.format(i),\n",
    "            lambda : tge_proc(df_train.iloc[train_idx], df_train.iloc[valid_idx])\n",
    "        )\n",
    "        result = sgml.train(\n",
    "            dproc.join_and_assign(df_train.iloc[train_idx], df_tgt_train.rename(columns = lambda x: x.replace(',', '_'))), hparams, config, adapter\n",
    "        )\n",
    "        predictor = sgml.assemble_predictor(**result[0], config = config)\n",
    "        prd_oof.append(\n",
    "            predictor(dproc.join_and_assign(df_train.iloc[valid_idx], df_tgt_valid.rename(columns = lambda x: x.replace(',', '_'))))\n",
    "        )\n",
    "        rmse_oof.append(\n",
    "            root_mean_squared_error(df_train.iloc[valid_idx][target], prd_oof[-1])\n",
    "        )\n",
    "        test_prd.append(\n",
    "            predictor(dproc.join_and_assign(df_test, df_tgt_test.rename(columns = lambda x: x.replace(',', '_'))))\n",
    "        )\n",
    "    return rmse_oof, pd.concat(prd_oof).sort_index(), test_prd"
   ]
  },
  {
   "cell_type": "markdown",
   "id": "95043240-efd2-43c4-b875-ef6c2307c01c",
   "metadata": {},
   "source": [
    "# Linear Regression 2"
   ]
  },
  {
   "cell_type": "code",
   "execution_count": 7,
   "id": "285929f2-02bf-4d6b-934a-572d6396ff24",
   "metadata": {},
   "outputs": [],
   "source": [
    "hparams = {\n",
    "    'X_num': ['GP', 'HP', 'NAd', 'ELm_sqrt', 'ELm_num', 'ELm_na'] + [i.replace(',', '_') for i in X_tgt]\n",
    "}"
   ]
  },
  {
   "cell_type": "code",
   "execution_count": 12,
   "id": "56b39bcc-a2cf-4049-a81c-894bf031d6d0",
   "metadata": {},
   "outputs": [],
   "source": [
    "rmse_oof, prd_oof, prd_test = sc.cache_result(\n",
    "    'lr3', lambda : cv_tgt3(hparams, lr_adapter), rerun = 0\n",
    ")\n",
    "#rmse_oof"
   ]
  },
  {
   "cell_type": "code",
   "execution_count": 17,
   "id": "d2a158f2-636a-402d-9fec-ae818f9d0e65",
   "metadata": {},
   "outputs": [],
   "source": [
    "pd.concat(prd_test, axis=1).mean(axis=1).rename(target).to_csv('result/submission8.csv')"
   ]
  },
  {
   "cell_type": "code",
   "execution_count": 19,
   "id": "4fa0d89f-910d-4e39-890a-eb8ddd78a8cd",
   "metadata": {},
   "outputs": [
    {
     "data": {
      "text/plain": [
       "12.863499267030816"
      ]
     },
     "execution_count": 19,
     "metadata": {},
     "output_type": "execute_result"
    }
   ],
   "source": [
    "root_mean_squared_error(\n",
    "    df_train[target], prd_oof\n",
    ")"
   ]
  },
  {
   "cell_type": "markdown",
   "id": "a99687cc-45fa-46e6-884e-fd724bdee3e6",
   "metadata": {},
   "source": [
    "- Podcast_Name 을 제외하고 결과를 뽑아 봅니다."
   ]
  },
  {
   "cell_type": "code",
   "execution_count": 15,
   "id": "602eb4f4-048a-46f7-b697-3f8ab800c576",
   "metadata": {},
   "outputs": [],
   "source": [
    "hparams = {\n",
    "    'X_num': ['GP', 'HP', 'NAd', 'ELm_sqrt', 'ELm_num', 'ELm_na'] + [i.replace(',', '_') for i in X_tgt if 'Podcast_Name' not in i.split(',')]\n",
    "}"
   ]
  },
  {
   "cell_type": "code",
   "execution_count": 16,
   "id": "d149c8b7-227f-4aef-be6c-028936c1bd00",
   "metadata": {},
   "outputs": [
    {
     "data": {
      "text/plain": [
       "12.884181703021346"
      ]
     },
     "execution_count": 16,
     "metadata": {},
     "output_type": "execute_result"
    }
   ],
   "source": [
    "rmse_oof, prd_oof, prd_test = sc.cache_result(\n",
    "    'lr3_2', lambda : cv_tgt3(hparams, lr_adapter), rerun = 0\n",
    ")\n",
    "root_mean_squared_error(\n",
    "    df_train[target], prd_oof\n",
    ")"
   ]
  },
  {
   "cell_type": "code",
   "execution_count": 17,
   "id": "c11bd78b-2bdb-4d17-b4ef-ec89075d480e",
   "metadata": {},
   "outputs": [],
   "source": [
    "pd.concat(prd_test, axis=1).mean(axis=1).rename(target).to_csv('result/submission9.csv')"
   ]
  },
  {
   "cell_type": "code",
   "execution_count": null,
   "id": "638b00fb-c8c5-4dcf-bc67-5fa2e936cab9",
   "metadata": {},
   "outputs": [],
   "source": []
  }
 ],
 "metadata": {
  "kernelspec": {
   "display_name": "Python 3 (ipykernel)",
   "language": "python",
   "name": "python3"
  },
  "language_info": {
   "codemirror_mode": {
    "name": "ipython",
    "version": 3
   },
   "file_extension": ".py",
   "mimetype": "text/x-python",
   "name": "python",
   "nbconvert_exporter": "python",
   "pygments_lexer": "ipython3",
   "version": "3.12.9"
  }
 },
 "nbformat": 4,
 "nbformat_minor": 5
}
