{
 "cells": [
  {
   "cell_type": "code",
   "execution_count": 1,
   "id": "ee4f1563-e863-42b8-86e6-22122e351e5d",
   "metadata": {},
   "outputs": [
    {
     "name": "stderr",
     "output_type": "stream",
     "text": [
      "2025-05-20 05:20:27.784194: E external/local_xla/xla/stream_executor/cuda/cuda_fft.cc:467] Unable to register cuFFT factory: Attempting to register factory for plugin cuFFT when one has already been registered\n",
      "WARNING: All log messages before absl::InitializeLog() is called are written to STDERR\n",
      "E0000 00:00:1747718427.795855    4658 cuda_dnn.cc:8579] Unable to register cuDNN factory: Attempting to register factory for plugin cuDNN when one has already been registered\n",
      "E0000 00:00:1747718427.799461    4658 cuda_blas.cc:1407] Unable to register cuBLAS factory: Attempting to register factory for plugin cuBLAS when one has already been registered\n",
      "W0000 00:00:1747718427.808510    4658 computation_placer.cc:177] computation placer already registered. Please check linkage and avoid linking the same target more than once.\n",
      "W0000 00:00:1747718427.808523    4658 computation_placer.cc:177] computation placer already registered. Please check linkage and avoid linking the same target more than once.\n",
      "W0000 00:00:1747718427.808525    4658 computation_placer.cc:177] computation placer already registered. Please check linkage and avoid linking the same target more than once.\n",
      "W0000 00:00:1747718427.808526    4658 computation_placer.cc:177] computation placer already registered. Please check linkage and avoid linking the same target more than once.\n",
      "2025-05-20 05:20:27.811666: I tensorflow/core/platform/cpu_feature_guard.cc:210] This TensorFlow binary is optimized to use available CPU instructions in performance-critical operations.\n",
      "To enable the following instructions: AVX2 FMA, in other operations, rebuild TensorFlow with the appropriate compiler flags.\n"
     ]
    }
   ],
   "source": [
    "import sgml, sgutil, sgpp, dproc\n",
    "import pandas as pd\n",
    "import numpy as np\n",
    "import matplotlib.pyplot as plt\n",
    "import seaborn as sns\n",
    "from sklearn.metrics import root_mean_squared_error\n",
    "\n",
    "from proc_v2 import p\n",
    "from ml_v2 import X_cat, X_num, X_all, target, kf, skf, ss, config\n",
    "from ml_v2 import xgb_adapter, lgb_adapter, cb_adapter, lr_adapter, nn_adapter\n",
    "\n",
    "sc = sgutil.SGCache('img', 'result', 'model')\n",
    "df_train = p.fit_transform(['data/train.csv']).assign(\n",
    "    Calories_Log = lambda x: np.log(x['Calories'] + 1)\n",
    ")\n",
    "df_test = p.transform(['data/test.csv'])"
   ]
  },
  {
   "cell_type": "code",
   "execution_count": 2,
   "id": "1bf518d2-35f9-42a3-94bb-298fd9778eb0",
   "metadata": {},
   "outputs": [
    {
     "data": {
      "text/plain": [
       "30"
      ]
     },
     "execution_count": 2,
     "metadata": {},
     "output_type": "execute_result"
    }
   ],
   "source": [
    "df_train['Duration'].nunique()"
   ]
  },
  {
   "cell_type": "code",
   "execution_count": 3,
   "id": "7fc5495e-8dc4-4719-84ed-857f1d4e5c5f",
   "metadata": {},
   "outputs": [
    {
     "data": {
      "text/plain": [
       "63"
      ]
     },
     "execution_count": 3,
     "metadata": {},
     "output_type": "execute_result"
    }
   ],
   "source": [
    "df_train['Heart_Rate'].nunique()"
   ]
  },
  {
   "cell_type": "code",
   "execution_count": 4,
   "id": "b345056d-d049-4e11-aab2-73a7d828da7a",
   "metadata": {},
   "outputs": [
    {
     "data": {
      "text/plain": [
       "75"
      ]
     },
     "execution_count": 4,
     "metadata": {},
     "output_type": "execute_result"
    }
   ],
   "source": [
    "df_train['Body_Temp'].nunique()"
   ]
  },
  {
   "cell_type": "markdown",
   "id": "070b791a-d167-43ae-a574-38d262388fea",
   "metadata": {},
   "source": [
    "# Target Encoder의 효과를 봅니다."
   ]
  },
  {
   "cell_type": "code",
   "execution_count": 5,
   "id": "a4d7d85d-d7f5-4f19-9365-981870f149a2",
   "metadata": {},
   "outputs": [
    {
     "data": {
      "text/plain": [
       "np.float32(0.12801187)"
      ]
     },
     "execution_count": 5,
     "metadata": {},
     "output_type": "execute_result"
    }
   ],
   "source": [
    "df_train.groupby(['Duration', 'Heart_Rate', 'Body_Temp'])[target].agg(\n",
    "    ['mean', 'std', 'size']\n",
    ").query('size >= 50')['std'].mean()"
   ]
  },
  {
   "cell_type": "code",
   "execution_count": 6,
   "id": "68da9980-399d-46b3-b7cc-f37f37fb8dd4",
   "metadata": {},
   "outputs": [
    {
     "data": {
      "text/plain": [
       "np.float32(0.14161234)"
      ]
     },
     "execution_count": 6,
     "metadata": {},
     "output_type": "execute_result"
    }
   ],
   "source": [
    "df_train.groupby(['Duration', 'Heart_Rate'])[target].agg(\n",
    "    ['mean', 'std', 'size']\n",
    ").query('size >= 50')['std'].mean()"
   ]
  },
  {
   "cell_type": "code",
   "execution_count": 7,
   "id": "a7330d43-1616-42dc-b2c0-ccfa834013da",
   "metadata": {},
   "outputs": [
    {
     "data": {
      "text/plain": [
       "np.float32(0.1881298)"
      ]
     },
     "execution_count": 7,
     "metadata": {},
     "output_type": "execute_result"
    }
   ],
   "source": [
    "df_train.groupby(['Duration', 'Body_Temp'])[target].agg(\n",
    "    ['mean', 'std', 'size']\n",
    ").query('size >= 50')['std'].mean()"
   ]
  },
  {
   "cell_type": "code",
   "execution_count": 8,
   "id": "b81b079b-b8eb-4847-8376-0ccc4435f491",
   "metadata": {},
   "outputs": [
    {
     "data": {
      "text/plain": [
       "np.float32(0.17675276)"
      ]
     },
     "execution_count": 8,
     "metadata": {},
     "output_type": "execute_result"
    }
   ],
   "source": [
    "df_train.groupby(['Duration'])[target].agg(\n",
    "    ['mean', 'std', 'size']\n",
    ").query('size >= 50')['std'].mean()"
   ]
  },
  {
   "cell_type": "code",
   "execution_count": 9,
   "id": "d2a45cab-59ea-4acf-b2b9-51b0dd6ff376",
   "metadata": {},
   "outputs": [
    {
     "data": {
      "text/plain": [
       "np.float32(0.10964416)"
      ]
     },
     "execution_count": 9,
     "metadata": {},
     "output_type": "execute_result"
    }
   ],
   "source": [
    "df_train.groupby(['Sex', 'Duration', 'Heart_Rate', 'Body_Temp'])[target].agg(\n",
    "    ['mean', 'std', 'size']\n",
    ").query('size >= 50')['std'].mean()"
   ]
  },
  {
   "cell_type": "code",
   "execution_count": 10,
   "id": "09a64609-aabe-49dd-9f2a-f07b7580fbec",
   "metadata": {},
   "outputs": [
    {
     "data": {
      "text/plain": [
       "np.float32(0.9575898)"
      ]
     },
     "execution_count": 10,
     "metadata": {},
     "output_type": "execute_result"
    }
   ],
   "source": [
    "df_train.groupby(['Height', 'Weight'])[target].agg(\n",
    "    ['mean', 'std', 'size']\n",
    ").query('size >= 50')['std'].mean()"
   ]
  },
  {
   "cell_type": "code",
   "execution_count": 11,
   "id": "a3152524-a140-40fc-9a4e-4b569ac097a3",
   "metadata": {},
   "outputs": [
    {
     "data": {
      "text/plain": [
       "np.float32(0.9839047)"
      ]
     },
     "execution_count": 11,
     "metadata": {},
     "output_type": "execute_result"
    }
   ],
   "source": [
    "df_train.groupby(['Height'])[target].agg(\n",
    "    ['mean', 'std', 'size']\n",
    ").query('size >= 50')['std'].mean()"
   ]
  },
  {
   "cell_type": "code",
   "execution_count": 12,
   "id": "1303b870-cbfe-408c-86fd-e4547a572787",
   "metadata": {},
   "outputs": [
    {
     "data": {
      "text/plain": [
       "np.float32(1.0028571)"
      ]
     },
     "execution_count": 12,
     "metadata": {},
     "output_type": "execute_result"
    }
   ],
   "source": [
    "df_train.groupby(['Weight'])[target].agg(\n",
    "    ['mean', 'std', 'size']\n",
    ").query('size >= 50')['std'].mean()"
   ]
  },
  {
   "cell_type": "code",
   "execution_count": 13,
   "id": "8db52682-e183-4c93-8447-87b1f73a77e8",
   "metadata": {},
   "outputs": [
    {
     "data": {
      "text/plain": [
       "np.float32(0.9559728)"
      ]
     },
     "execution_count": 13,
     "metadata": {},
     "output_type": "execute_result"
    }
   ],
   "source": [
    "df_train.groupby(['Sex', 'Height', 'Weight'])[target].agg(\n",
    "    ['mean', 'std', 'size']\n",
    ").query('size >= 50')['std'].mean()"
   ]
  },
  {
   "cell_type": "code",
   "execution_count": 14,
   "id": "3def6198-5ae2-4eb1-8a05-0b0cdfa55f48",
   "metadata": {},
   "outputs": [],
   "source": [
    "cc = sgpp.CatCombiner2(\n",
    "    [['Sex', 'Duration', 'Heart_Rate', 'Body_Temp'], ['Sex', 'Height', 'Weight']]\n",
    ")\n",
    "df_train = dproc.join_and_assign(\n",
    "    df_train, cc.fit_transform(df_train)\n",
    ")"
   ]
  },
  {
   "cell_type": "markdown",
   "id": "8ca6634c-6ab9-43d8-9b00-acd7e894faf5",
   "metadata": {},
   "source": [
    "- Age를 제외하고 log 속성을 추가하면 성능 향상이 있습니다."
   ]
  },
  {
   "cell_type": "code",
   "execution_count": 16,
   "id": "b9ec18ac-870c-4a52-8870-9d306a569cdd",
   "metadata": {},
   "outputs": [
    {
     "data": {
      "application/vnd.jupyter.widget-view+json": {
       "model_id": "",
       "version_major": 2,
       "version_minor": 0
      },
      "text/plain": [
       "Fold:   0%|          | 0/4 [00:00<?, ?it/s]"
      ]
     },
     "metadata": {},
     "output_type": "display_data"
    },
    {
     "data": {
      "text/plain": [
       "{'valid_scores': [np.float64(0.09129340635479342),\n",
       "  np.float64(0.09109195748206424),\n",
       "  np.float64(0.09051232885890394),\n",
       "  np.float64(0.09165227257363966)],\n",
       " 'valid_prd': id\n",
       " 0         4.976757\n",
       " 1         3.613450\n",
       " 2         3.350551\n",
       " 3         4.915635\n",
       " 4         5.010252\n",
       "             ...   \n",
       " 749995    5.359852\n",
       " 749996    4.598993\n",
       " 749997    5.459991\n",
       " 749998    4.642135\n",
       " 749999    4.609905\n",
       " Length: 750000, dtype: float64,\n",
       " 'model_result': [],\n",
       " 'train_scores': [np.float64(0.08861555140140004),\n",
       "  np.float64(0.08846257710299021),\n",
       "  np.float64(0.08872304101917802),\n",
       "  np.float64(0.08852086168446736)],\n",
       " 'hparams': {'X_std': ['Duration_log',\n",
       "   'Heart_Rate_sqrt_d',\n",
       "   'Height_log',\n",
       "   'Weight_log',\n",
       "   'Heart_Rate_log',\n",
       "   'Body_Temp_log',\n",
       "   'Age',\n",
       "   'Height',\n",
       "   'Weight',\n",
       "   'Duration',\n",
       "   'Heart_Rate',\n",
       "   'Body_Temp'],\n",
       "  'X_tgt': ['Sex__Duration__Heart_Rate__Body_Temp', 'Sex__Height__Weight'],\n",
       "  'tgt': {'smooth': 0.1, 'random_state': 125}}}"
      ]
     },
     "execution_count": 16,
     "metadata": {},
     "output_type": "execute_result"
    }
   ],
   "source": [
    "sgml.cv(df_train, kf, {\n",
    "    'X_std': ['Duration_log', 'Heart_Rate_sqrt_d', 'Height_log', 'Weight_log', 'Heart_Rate_log', 'Body_Temp_log'] + X_num, \n",
    "    'X_tgt': df_train.columns[-2:].tolist(), 'tgt': {'smooth': 0.1, 'random_state': 123}}, config, lr_adapter)"
   ]
  },
  {
   "cell_type": "code",
   "execution_count": 4,
   "id": "a586f07c-7201-4531-94fb-346cd6067d8e",
   "metadata": {},
   "outputs": [],
   "source": [
    "from sklearn.model_selection import StratifiedKFold\n",
    "skf = StratifiedKFold(5, random_state = 123, shuffle = True)"
   ]
  },
  {
   "cell_type": "code",
   "execution_count": 15,
   "id": "fd44e879-7616-48d0-b0db-10d0334fa420",
   "metadata": {},
   "outputs": [
    {
     "data": {
      "text/html": [
       "<div>\n",
       "<style scoped>\n",
       "    .dataframe tbody tr th:only-of-type {\n",
       "        vertical-align: middle;\n",
       "    }\n",
       "\n",
       "    .dataframe tbody tr th {\n",
       "        vertical-align: top;\n",
       "    }\n",
       "\n",
       "    .dataframe thead th {\n",
       "        text-align: right;\n",
       "    }\n",
       "</style>\n",
       "<table border=\"1\" class=\"dataframe\">\n",
       "  <thead>\n",
       "    <tr style=\"text-align: right;\">\n",
       "      <th></th>\n",
       "      <th>Sex</th>\n",
       "      <th>Age</th>\n",
       "      <th>Height</th>\n",
       "      <th>Weight</th>\n",
       "      <th>Duration</th>\n",
       "      <th>Heart_Rate</th>\n",
       "      <th>Body_Temp</th>\n",
       "      <th>Calories</th>\n",
       "      <th>const</th>\n",
       "      <th>duration_bin</th>\n",
       "      <th>...</th>\n",
       "      <th>Heart_Rate_div_Body_Temp_sqrt</th>\n",
       "      <th>Body_Temp_div_Age_sqrt</th>\n",
       "      <th>Body_Temp_div_Height_sqrt</th>\n",
       "      <th>Body_Temp_div_Weight_sqrt</th>\n",
       "      <th>Body_Temp_div_Duration_sqrt</th>\n",
       "      <th>Body_Temp_div_Heart_Rate_sqrt</th>\n",
       "      <th>Body_Temp_sqrt</th>\n",
       "      <th>Calories_Log</th>\n",
       "      <th>Sex__Duration__Heart_Rate__Body_Temp</th>\n",
       "      <th>Sex__Height__Weight</th>\n",
       "    </tr>\n",
       "    <tr>\n",
       "      <th>id</th>\n",
       "      <th></th>\n",
       "      <th></th>\n",
       "      <th></th>\n",
       "      <th></th>\n",
       "      <th></th>\n",
       "      <th></th>\n",
       "      <th></th>\n",
       "      <th></th>\n",
       "      <th></th>\n",
       "      <th></th>\n",
       "      <th></th>\n",
       "      <th></th>\n",
       "      <th></th>\n",
       "      <th></th>\n",
       "      <th></th>\n",
       "      <th></th>\n",
       "      <th></th>\n",
       "      <th></th>\n",
       "      <th></th>\n",
       "      <th></th>\n",
       "      <th></th>\n",
       "    </tr>\n",
       "  </thead>\n",
       "  <tbody>\n",
       "    <tr>\n",
       "      <th>0</th>\n",
       "      <td>True</td>\n",
       "      <td>36</td>\n",
       "      <td>189.0</td>\n",
       "      <td>82.0</td>\n",
       "      <td>26.0</td>\n",
       "      <td>101.0</td>\n",
       "      <td>41.000000</td>\n",
       "      <td>150.0</td>\n",
       "      <td>1</td>\n",
       "      <td>8</td>\n",
       "      <td>...</td>\n",
       "      <td>15.773550</td>\n",
       "      <td>6.833333</td>\n",
       "      <td>2.982311</td>\n",
       "      <td>4.527692</td>\n",
       "      <td>8.040762</td>\n",
       "      <td>4.079653</td>\n",
       "      <td>6.403124</td>\n",
       "      <td>5.017280</td>\n",
       "      <td>True__26.0__101.0__41.0__</td>\n",
       "      <td>True__189.0__82.0__</td>\n",
       "    </tr>\n",
       "    <tr>\n",
       "      <th>1</th>\n",
       "      <td>False</td>\n",
       "      <td>64</td>\n",
       "      <td>163.0</td>\n",
       "      <td>60.0</td>\n",
       "      <td>8.0</td>\n",
       "      <td>85.0</td>\n",
       "      <td>39.700001</td>\n",
       "      <td>34.0</td>\n",
       "      <td>1</td>\n",
       "      <td>2</td>\n",
       "      <td>...</td>\n",
       "      <td>13.490364</td>\n",
       "      <td>4.962500</td>\n",
       "      <td>3.109544</td>\n",
       "      <td>5.125248</td>\n",
       "      <td>14.036070</td>\n",
       "      <td>4.306070</td>\n",
       "      <td>6.300794</td>\n",
       "      <td>3.555348</td>\n",
       "      <td>False__8.0__85.0__39.7__</td>\n",
       "      <td>False__163.0__60.0__</td>\n",
       "    </tr>\n",
       "    <tr>\n",
       "      <th>2</th>\n",
       "      <td>False</td>\n",
       "      <td>51</td>\n",
       "      <td>161.0</td>\n",
       "      <td>64.0</td>\n",
       "      <td>7.0</td>\n",
       "      <td>84.0</td>\n",
       "      <td>39.799999</td>\n",
       "      <td>29.0</td>\n",
       "      <td>1</td>\n",
       "      <td>1</td>\n",
       "      <td>...</td>\n",
       "      <td>13.314895</td>\n",
       "      <td>5.573115</td>\n",
       "      <td>3.136679</td>\n",
       "      <td>4.975000</td>\n",
       "      <td>15.042987</td>\n",
       "      <td>4.342535</td>\n",
       "      <td>6.308724</td>\n",
       "      <td>3.401197</td>\n",
       "      <td>False__7.0__84.0__39.8__</td>\n",
       "      <td>False__161.0__64.0__</td>\n",
       "    </tr>\n",
       "    <tr>\n",
       "      <th>3</th>\n",
       "      <td>True</td>\n",
       "      <td>20</td>\n",
       "      <td>192.0</td>\n",
       "      <td>90.0</td>\n",
       "      <td>25.0</td>\n",
       "      <td>105.0</td>\n",
       "      <td>40.700001</td>\n",
       "      <td>140.0</td>\n",
       "      <td>1</td>\n",
       "      <td>8</td>\n",
       "      <td>...</td>\n",
       "      <td>16.458569</td>\n",
       "      <td>9.100797</td>\n",
       "      <td>2.937269</td>\n",
       "      <td>4.290157</td>\n",
       "      <td>8.140000</td>\n",
       "      <td>3.971913</td>\n",
       "      <td>6.379655</td>\n",
       "      <td>4.948760</td>\n",
       "      <td>True__25.0__105.0__40.7__</td>\n",
       "      <td>True__192.0__90.0__</td>\n",
       "    </tr>\n",
       "    <tr>\n",
       "      <th>4</th>\n",
       "      <td>False</td>\n",
       "      <td>38</td>\n",
       "      <td>166.0</td>\n",
       "      <td>61.0</td>\n",
       "      <td>25.0</td>\n",
       "      <td>102.0</td>\n",
       "      <td>40.599998</td>\n",
       "      <td>146.0</td>\n",
       "      <td>1</td>\n",
       "      <td>8</td>\n",
       "      <td>...</td>\n",
       "      <td>16.008003</td>\n",
       "      <td>6.586189</td>\n",
       "      <td>3.151171</td>\n",
       "      <td>5.198297</td>\n",
       "      <td>8.120000</td>\n",
       "      <td>4.019999</td>\n",
       "      <td>6.371813</td>\n",
       "      <td>4.990433</td>\n",
       "      <td>False__25.0__102.0__40.6__</td>\n",
       "      <td>False__166.0__61.0__</td>\n",
       "    </tr>\n",
       "    <tr>\n",
       "      <th>...</th>\n",
       "      <td>...</td>\n",
       "      <td>...</td>\n",
       "      <td>...</td>\n",
       "      <td>...</td>\n",
       "      <td>...</td>\n",
       "      <td>...</td>\n",
       "      <td>...</td>\n",
       "      <td>...</td>\n",
       "      <td>...</td>\n",
       "      <td>...</td>\n",
       "      <td>...</td>\n",
       "      <td>...</td>\n",
       "      <td>...</td>\n",
       "      <td>...</td>\n",
       "      <td>...</td>\n",
       "      <td>...</td>\n",
       "      <td>...</td>\n",
       "      <td>...</td>\n",
       "      <td>...</td>\n",
       "      <td>...</td>\n",
       "      <td>...</td>\n",
       "    </tr>\n",
       "    <tr>\n",
       "      <th>749995</th>\n",
       "      <td>True</td>\n",
       "      <td>28</td>\n",
       "      <td>193.0</td>\n",
       "      <td>97.0</td>\n",
       "      <td>30.0</td>\n",
       "      <td>114.0</td>\n",
       "      <td>40.900002</td>\n",
       "      <td>230.0</td>\n",
       "      <td>1</td>\n",
       "      <td>9</td>\n",
       "      <td>...</td>\n",
       "      <td>17.825560</td>\n",
       "      <td>7.729374</td>\n",
       "      <td>2.944047</td>\n",
       "      <td>4.152766</td>\n",
       "      <td>7.467284</td>\n",
       "      <td>3.830636</td>\n",
       "      <td>6.395311</td>\n",
       "      <td>5.442418</td>\n",
       "      <td>True__30.0__114.0__40.9__</td>\n",
       "      <td>True__193.0__97.0__</td>\n",
       "    </tr>\n",
       "    <tr>\n",
       "      <th>749996</th>\n",
       "      <td>False</td>\n",
       "      <td>64</td>\n",
       "      <td>165.0</td>\n",
       "      <td>63.0</td>\n",
       "      <td>18.0</td>\n",
       "      <td>92.0</td>\n",
       "      <td>40.500000</td>\n",
       "      <td>96.0</td>\n",
       "      <td>1</td>\n",
       "      <td>5</td>\n",
       "      <td>...</td>\n",
       "      <td>14.456405</td>\n",
       "      <td>5.062500</td>\n",
       "      <td>3.152921</td>\n",
       "      <td>5.102520</td>\n",
       "      <td>9.545942</td>\n",
       "      <td>4.222417</td>\n",
       "      <td>6.363961</td>\n",
       "      <td>4.574711</td>\n",
       "      <td>False__18.0__92.0__40.5__</td>\n",
       "      <td>False__165.0__63.0__</td>\n",
       "    </tr>\n",
       "    <tr>\n",
       "      <th>749997</th>\n",
       "      <td>True</td>\n",
       "      <td>60</td>\n",
       "      <td>162.0</td>\n",
       "      <td>67.0</td>\n",
       "      <td>29.0</td>\n",
       "      <td>113.0</td>\n",
       "      <td>40.900002</td>\n",
       "      <td>221.0</td>\n",
       "      <td>1</td>\n",
       "      <td>9</td>\n",
       "      <td>...</td>\n",
       "      <td>17.669195</td>\n",
       "      <td>5.280168</td>\n",
       "      <td>3.213408</td>\n",
       "      <td>4.996731</td>\n",
       "      <td>7.594940</td>\n",
       "      <td>3.847548</td>\n",
       "      <td>6.395311</td>\n",
       "      <td>5.402678</td>\n",
       "      <td>True__29.0__113.0__40.9__</td>\n",
       "      <td>True__162.0__67.0__</td>\n",
       "    </tr>\n",
       "    <tr>\n",
       "      <th>749998</th>\n",
       "      <td>True</td>\n",
       "      <td>45</td>\n",
       "      <td>182.0</td>\n",
       "      <td>91.0</td>\n",
       "      <td>17.0</td>\n",
       "      <td>102.0</td>\n",
       "      <td>40.299999</td>\n",
       "      <td>109.0</td>\n",
       "      <td>1</td>\n",
       "      <td>5</td>\n",
       "      <td>...</td>\n",
       "      <td>16.067476</td>\n",
       "      <td>6.007569</td>\n",
       "      <td>2.987235</td>\n",
       "      <td>4.224587</td>\n",
       "      <td>9.774186</td>\n",
       "      <td>3.990295</td>\n",
       "      <td>6.348228</td>\n",
       "      <td>4.700480</td>\n",
       "      <td>True__17.0__102.0__40.3__</td>\n",
       "      <td>True__182.0__91.0__</td>\n",
       "    </tr>\n",
       "    <tr>\n",
       "      <th>749999</th>\n",
       "      <td>False</td>\n",
       "      <td>39</td>\n",
       "      <td>171.0</td>\n",
       "      <td>65.0</td>\n",
       "      <td>19.0</td>\n",
       "      <td>97.0</td>\n",
       "      <td>40.599998</td>\n",
       "      <td>103.0</td>\n",
       "      <td>1</td>\n",
       "      <td>6</td>\n",
       "      <td>...</td>\n",
       "      <td>15.223297</td>\n",
       "      <td>6.501203</td>\n",
       "      <td>3.104760</td>\n",
       "      <td>5.035810</td>\n",
       "      <td>9.314279</td>\n",
       "      <td>4.122305</td>\n",
       "      <td>6.371813</td>\n",
       "      <td>4.644391</td>\n",
       "      <td>False__19.0__97.0__40.6__</td>\n",
       "      <td>False__171.0__65.0__</td>\n",
       "    </tr>\n",
       "  </tbody>\n",
       "</table>\n",
       "<p>750000 rows × 354 columns</p>\n",
       "</div>"
      ],
      "text/plain": [
       "          Sex  Age  Height  Weight  Duration  Heart_Rate  Body_Temp  Calories  \\\n",
       "id                                                                              \n",
       "0        True   36   189.0    82.0      26.0       101.0  41.000000     150.0   \n",
       "1       False   64   163.0    60.0       8.0        85.0  39.700001      34.0   \n",
       "2       False   51   161.0    64.0       7.0        84.0  39.799999      29.0   \n",
       "3        True   20   192.0    90.0      25.0       105.0  40.700001     140.0   \n",
       "4       False   38   166.0    61.0      25.0       102.0  40.599998     146.0   \n",
       "...       ...  ...     ...     ...       ...         ...        ...       ...   \n",
       "749995   True   28   193.0    97.0      30.0       114.0  40.900002     230.0   \n",
       "749996  False   64   165.0    63.0      18.0        92.0  40.500000      96.0   \n",
       "749997   True   60   162.0    67.0      29.0       113.0  40.900002     221.0   \n",
       "749998   True   45   182.0    91.0      17.0       102.0  40.299999     109.0   \n",
       "749999  False   39   171.0    65.0      19.0        97.0  40.599998     103.0   \n",
       "\n",
       "        const duration_bin  ...  Heart_Rate_div_Body_Temp_sqrt  \\\n",
       "id                          ...                                  \n",
       "0           1            8  ...                      15.773550   \n",
       "1           1            2  ...                      13.490364   \n",
       "2           1            1  ...                      13.314895   \n",
       "3           1            8  ...                      16.458569   \n",
       "4           1            8  ...                      16.008003   \n",
       "...       ...          ...  ...                            ...   \n",
       "749995      1            9  ...                      17.825560   \n",
       "749996      1            5  ...                      14.456405   \n",
       "749997      1            9  ...                      17.669195   \n",
       "749998      1            5  ...                      16.067476   \n",
       "749999      1            6  ...                      15.223297   \n",
       "\n",
       "        Body_Temp_div_Age_sqrt  Body_Temp_div_Height_sqrt  \\\n",
       "id                                                          \n",
       "0                     6.833333                   2.982311   \n",
       "1                     4.962500                   3.109544   \n",
       "2                     5.573115                   3.136679   \n",
       "3                     9.100797                   2.937269   \n",
       "4                     6.586189                   3.151171   \n",
       "...                        ...                        ...   \n",
       "749995                7.729374                   2.944047   \n",
       "749996                5.062500                   3.152921   \n",
       "749997                5.280168                   3.213408   \n",
       "749998                6.007569                   2.987235   \n",
       "749999                6.501203                   3.104760   \n",
       "\n",
       "        Body_Temp_div_Weight_sqrt  Body_Temp_div_Duration_sqrt  \\\n",
       "id                                                               \n",
       "0                        4.527692                     8.040762   \n",
       "1                        5.125248                    14.036070   \n",
       "2                        4.975000                    15.042987   \n",
       "3                        4.290157                     8.140000   \n",
       "4                        5.198297                     8.120000   \n",
       "...                           ...                          ...   \n",
       "749995                   4.152766                     7.467284   \n",
       "749996                   5.102520                     9.545942   \n",
       "749997                   4.996731                     7.594940   \n",
       "749998                   4.224587                     9.774186   \n",
       "749999                   5.035810                     9.314279   \n",
       "\n",
       "        Body_Temp_div_Heart_Rate_sqrt  Body_Temp_sqrt  Calories_Log  \\\n",
       "id                                                                    \n",
       "0                            4.079653        6.403124      5.017280   \n",
       "1                            4.306070        6.300794      3.555348   \n",
       "2                            4.342535        6.308724      3.401197   \n",
       "3                            3.971913        6.379655      4.948760   \n",
       "4                            4.019999        6.371813      4.990433   \n",
       "...                               ...             ...           ...   \n",
       "749995                       3.830636        6.395311      5.442418   \n",
       "749996                       4.222417        6.363961      4.574711   \n",
       "749997                       3.847548        6.395311      5.402678   \n",
       "749998                       3.990295        6.348228      4.700480   \n",
       "749999                       4.122305        6.371813      4.644391   \n",
       "\n",
       "        Sex__Duration__Heart_Rate__Body_Temp   Sex__Height__Weight  \n",
       "id                                                                  \n",
       "0                  True__26.0__101.0__41.0__   True__189.0__82.0__  \n",
       "1                   False__8.0__85.0__39.7__  False__163.0__60.0__  \n",
       "2                   False__7.0__84.0__39.8__  False__161.0__64.0__  \n",
       "3                  True__25.0__105.0__40.7__   True__192.0__90.0__  \n",
       "4                 False__25.0__102.0__40.6__  False__166.0__61.0__  \n",
       "...                                      ...                   ...  \n",
       "749995             True__30.0__114.0__40.9__   True__193.0__97.0__  \n",
       "749996             False__18.0__92.0__40.5__  False__165.0__63.0__  \n",
       "749997             True__29.0__113.0__40.9__   True__162.0__67.0__  \n",
       "749998             True__17.0__102.0__40.3__   True__182.0__91.0__  \n",
       "749999             False__19.0__97.0__40.6__  False__171.0__65.0__  \n",
       "\n",
       "[750000 rows x 354 columns]"
      ]
     },
     "execution_count": 15,
     "metadata": {},
     "output_type": "execute_result"
    }
   ],
   "source": [
    "df_train"
   ]
  },
  {
   "cell_type": "code",
   "execution_count": null,
   "id": "1cb4b92c-a8bd-4280-a7d6-b940aed60a20",
   "metadata": {},
   "outputs": [],
   "source": []
  }
 ],
 "metadata": {
  "kernelspec": {
   "display_name": "Python 3 (ipykernel)",
   "language": "python",
   "name": "python3"
  },
  "language_info": {
   "codemirror_mode": {
    "name": "ipython",
    "version": 3
   },
   "file_extension": ".py",
   "mimetype": "text/x-python",
   "name": "python",
   "nbconvert_exporter": "python",
   "pygments_lexer": "ipython3",
   "version": "3.12.6"
  }
 },
 "nbformat": 4,
 "nbformat_minor": 5
}
