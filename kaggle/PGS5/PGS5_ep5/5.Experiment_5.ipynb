{
 "cells": [
  {
   "cell_type": "code",
   "execution_count": 1,
   "id": "ee4f1563-e863-42b8-86e6-22122e351e5d",
   "metadata": {},
   "outputs": [
    {
     "name": "stderr",
     "output_type": "stream",
     "text": [
      "2025-05-21 00:53:15.357084: I tensorflow/core/util/port.cc:153] oneDNN custom operations are on. You may see slightly different numerical results due to floating-point round-off errors from different computation orders. To turn them off, set the environment variable `TF_ENABLE_ONEDNN_OPTS=0`.\n",
      "2025-05-21 00:53:15.366119: E external/local_xla/xla/stream_executor/cuda/cuda_fft.cc:467] Unable to register cuFFT factory: Attempting to register factory for plugin cuFFT when one has already been registered\n",
      "WARNING: All log messages before absl::InitializeLog() is called are written to STDERR\n",
      "E0000 00:00:1747756395.377815   20760 cuda_dnn.cc:8579] Unable to register cuDNN factory: Attempting to register factory for plugin cuDNN when one has already been registered\n",
      "E0000 00:00:1747756395.381510   20760 cuda_blas.cc:1407] Unable to register cuBLAS factory: Attempting to register factory for plugin cuBLAS when one has already been registered\n",
      "W0000 00:00:1747756395.390805   20760 computation_placer.cc:177] computation placer already registered. Please check linkage and avoid linking the same target more than once.\n",
      "W0000 00:00:1747756395.390813   20760 computation_placer.cc:177] computation placer already registered. Please check linkage and avoid linking the same target more than once.\n",
      "W0000 00:00:1747756395.390814   20760 computation_placer.cc:177] computation placer already registered. Please check linkage and avoid linking the same target more than once.\n",
      "W0000 00:00:1747756395.390815   20760 computation_placer.cc:177] computation placer already registered. Please check linkage and avoid linking the same target more than once.\n",
      "2025-05-21 00:53:15.393388: I tensorflow/core/platform/cpu_feature_guard.cc:210] This TensorFlow binary is optimized to use available CPU instructions in performance-critical operations.\n",
      "To enable the following instructions: AVX2 AVX_VNNI FMA, in other operations, rebuild TensorFlow with the appropriate compiler flags.\n"
     ]
    }
   ],
   "source": [
    "import sgml, sgutil, sgpp, dproc\n",
    "import pandas as pd\n",
    "import numpy as np\n",
    "import matplotlib.pyplot as plt\n",
    "import seaborn as sns\n",
    "from sklearn.metrics import root_mean_squared_error\n",
    "\n",
    "from proc_v2 import p\n",
    "from ml_v2 import X_cat, X_num, X_all, target, kf, skf, ss, config\n",
    "from ml_v2 import xgb_adapter, lgb_adapter, cb_adapter, lr_adapter, nn_adapter\n",
    "\n",
    "sc = sgutil.SGCache('img', 'result', 'model')\n",
    "df_train = p.fit_transform(['data/train.csv']).assign(\n",
    "    Calories_Log = lambda x: np.log(x['Calories'] + 1)\n",
    ")\n",
    "df_test = p.transform(['data/test.csv'])"
   ]
  },
  {
   "cell_type": "markdown",
   "id": "1216d861-0c57-46df-bc04-98de6539d1ea",
   "metadata": {},
   "source": [
    "# Duration-Aware CV-5"
   ]
  },
  {
   "cell_type": "code",
   "execution_count": 4,
   "id": "e3918fdf-a6c0-4f87-b872-1d2895c07a28",
   "metadata": {},
   "outputs": [
    {
     "data": {
      "text/plain": [
       "['Age_mul_Height',\n",
       " 'Age_mul_Weight',\n",
       " 'Age_mul_Duration',\n",
       " 'Age_mul_Heart_Rate',\n",
       " 'Age_mul_Body_Temp',\n",
       " 'Height_mul_Weight',\n",
       " 'Duration_mul_Height',\n",
       " 'Duration_mul_Weight',\n",
       " 'Duration_mul_Heart_Rate',\n",
       " 'Heart_Rate_mul_Height',\n",
       " 'Heart_Rate_mul_Weight',\n",
       " 'Body_Temp_mul_Height',\n",
       " 'Body_Temp_mul_Weight',\n",
       " 'Body_Temp_mul_Duration',\n",
       " 'Body_Temp_mul_Heart_Rate']"
      ]
     },
     "execution_count": 4,
     "metadata": {},
     "output_type": "execute_result"
    }
   ],
   "source": [
    "from itertools import product\n",
    "X_o2 = [i + '_mul_'+ j for i, j in product(X_num, X_num) if i < j]\n",
    "X_o2"
   ]
  },
  {
   "cell_type": "code",
   "execution_count": 5,
   "id": "41d96ddb-b8ed-4f28-b711-63fc051634c3",
   "metadata": {},
   "outputs": [
    {
     "data": {
      "text/plain": [
       "['Weight',\n",
       " 'Weight_r',\n",
       " 'Weight_log',\n",
       " 'Weight_sqrt_d',\n",
       " 'Weight_2',\n",
       " 'Weight_div_Age',\n",
       " 'Weight_div_Height',\n",
       " 'Weight_div_Duration',\n",
       " 'Weight_div_Heart_Rate',\n",
       " 'Weight_div_Body_Temp',\n",
       " 'Weight_2_mul_Age',\n",
       " 'Weight_2_mul_Height',\n",
       " 'Weight_3',\n",
       " 'Weight_2_mul_Duration',\n",
       " 'Weight_2_mul_Heart_Rate',\n",
       " 'Weight_2_mul_Body_Temp',\n",
       " 'Weight_2_div_Age',\n",
       " 'Weight_2_div_Height',\n",
       " 'Weight_2_div_Duration',\n",
       " 'Weight_2_div_Heart_Rate',\n",
       " 'Weight_2_div_Body_Temp',\n",
       " 'Weight_div_Age_2',\n",
       " 'Weight_div_Age_mul_Height',\n",
       " 'Weight_div_Age_mul_Duration',\n",
       " 'Weight_div_Age_mul_Heart_Rate',\n",
       " 'Weight_div_Age_mul_Body_Temp',\n",
       " 'Weight_div_Height_2',\n",
       " 'Weight_div_Duration_mul_Height',\n",
       " 'Weight_div_Duration_2',\n",
       " 'Weight_div_Duration_mul_Heart_Rate',\n",
       " 'Weight_div_Heart_Rate_mul_Height',\n",
       " 'Weight_div_Heart_Rate_2',\n",
       " 'Weight_div_Body_Temp_mul_Height',\n",
       " 'Weight_div_Body_Temp_mul_Duration',\n",
       " 'Weight_div_Body_Temp_mul_Heart_Rate',\n",
       " 'Weight_div_Body_Temp_2',\n",
       " 'Weight_div_Age_sqrt',\n",
       " 'Weight_div_Height_sqrt',\n",
       " 'Weight_sqrt',\n",
       " 'Weight_div_Duration_sqrt',\n",
       " 'Weight_div_Heart_Rate_sqrt',\n",
       " 'Weight_div_Body_Temp_sqrt']"
      ]
     },
     "execution_count": 5,
     "metadata": {},
     "output_type": "execute_result"
    }
   ],
   "source": [
    "[i for i in df_train.columns if i.startswith('Weight')]"
   ]
  },
  {
   "cell_type": "markdown",
   "id": "a9800de5-091f-4d6b-85b8-a865357150a3",
   "metadata": {},
   "source": [
    "## CB_da_skf5"
   ]
  },
  {
   "cell_type": "code",
   "execution_count": 2,
   "id": "1bf518d2-35f9-42a3-94bb-298fd9778eb0",
   "metadata": {},
   "outputs": [
    {
     "data": {
      "text/plain": [
       "id\n",
       "0         8\n",
       "1         2\n",
       "2         1\n",
       "3         8\n",
       "4         8\n",
       "         ..\n",
       "749995    9\n",
       "749996    5\n",
       "749997    9\n",
       "749998    5\n",
       "749999    6\n",
       "Name: duration_bin, Length: 750000, dtype: category\n",
       "Categories (10, object): ['0', '1', '2', '3', ..., '6', '7', '8', '9']"
      ]
     },
     "execution_count": 2,
     "metadata": {},
     "output_type": "execute_result"
    }
   ],
   "source": [
    "hparams = {\n",
    "    'model_params': {'early_stopping_rounds': 50}, \n",
    "    'X_num': ['Age', 'Height', 'Weight', 'Duration', 'Heart_Rate', 'Body_Temp', 'Heart_Rate_div_Duration', 'Weight_div_Height_2'] + X_o2, \n",
    "    'X_cat': ['Sex']\n",
    "    'validation_fraction': 0.2\n",
    "}\n",
    "\n",
    "result = sc.cv_result('cb5_skf5', df_train, skf, hparams, config, cb_adapter, use_gpu = 0, rerun = 0)\n",
    "np.mean(result['valid_scores']), result['valid_scores']"
   ]
  },
  {
   "cell_type": "code",
   "execution_count": 3,
   "id": "7fc5495e-8dc4-4719-84ed-857f1d4e5c5f",
   "metadata": {},
   "outputs": [
    {
     "data": {
      "text/plain": [
       "63"
      ]
     },
     "execution_count": 3,
     "metadata": {},
     "output_type": "execute_result"
    }
   ],
   "source": [
    "df_train['Heart_Rate'].nunique()"
   ]
  },
  {
   "cell_type": "code",
   "execution_count": 4,
   "id": "b345056d-d049-4e11-aab2-73a7d828da7a",
   "metadata": {},
   "outputs": [
    {
     "data": {
      "text/plain": [
       "75"
      ]
     },
     "execution_count": 4,
     "metadata": {},
     "output_type": "execute_result"
    }
   ],
   "source": [
    "df_train['Body_Temp'].nunique()"
   ]
  },
  {
   "cell_type": "code",
   "execution_count": null,
   "id": "1cb4b92c-a8bd-4280-a7d6-b940aed60a20",
   "metadata": {},
   "outputs": [],
   "source": []
  }
 ],
 "metadata": {
  "kernelspec": {
   "display_name": "Python 3 (ipykernel)",
   "language": "python",
   "name": "python3"
  },
  "language_info": {
   "codemirror_mode": {
    "name": "ipython",
    "version": 3
   },
   "file_extension": ".py",
   "mimetype": "text/x-python",
   "name": "python",
   "nbconvert_exporter": "python",
   "pygments_lexer": "ipython3",
   "version": "3.12.9"
  }
 },
 "nbformat": 4,
 "nbformat_minor": 5
}
