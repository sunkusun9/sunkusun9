{
 "cells": [
  {
   "cell_type": "code",
   "execution_count": 1,
   "id": "ee4f1563-e863-42b8-86e6-22122e351e5d",
   "metadata": {},
   "outputs": [
    {
     "name": "stderr",
     "output_type": "stream",
     "text": [
      "2025-05-24 23:22:52.241870: I tensorflow/core/util/port.cc:153] oneDNN custom operations are on. You may see slightly different numerical results due to floating-point round-off errors from different computation orders. To turn them off, set the environment variable `TF_ENABLE_ONEDNN_OPTS=0`.\n",
      "2025-05-24 23:22:52.250884: E external/local_xla/xla/stream_executor/cuda/cuda_fft.cc:467] Unable to register cuFFT factory: Attempting to register factory for plugin cuFFT when one has already been registered\n",
      "WARNING: All log messages before absl::InitializeLog() is called are written to STDERR\n",
      "E0000 00:00:1748096572.261718   56733 cuda_dnn.cc:8579] Unable to register cuDNN factory: Attempting to register factory for plugin cuDNN when one has already been registered\n",
      "E0000 00:00:1748096572.264839   56733 cuda_blas.cc:1407] Unable to register cuBLAS factory: Attempting to register factory for plugin cuBLAS when one has already been registered\n",
      "W0000 00:00:1748096572.272525   56733 computation_placer.cc:177] computation placer already registered. Please check linkage and avoid linking the same target more than once.\n",
      "W0000 00:00:1748096572.272537   56733 computation_placer.cc:177] computation placer already registered. Please check linkage and avoid linking the same target more than once.\n",
      "W0000 00:00:1748096572.272538   56733 computation_placer.cc:177] computation placer already registered. Please check linkage and avoid linking the same target more than once.\n",
      "W0000 00:00:1748096572.272538   56733 computation_placer.cc:177] computation placer already registered. Please check linkage and avoid linking the same target more than once.\n",
      "2025-05-24 23:22:52.275518: I tensorflow/core/platform/cpu_feature_guard.cc:210] This TensorFlow binary is optimized to use available CPU instructions in performance-critical operations.\n",
      "To enable the following instructions: AVX2 AVX_VNNI FMA, in other operations, rebuild TensorFlow with the appropriate compiler flags.\n"
     ]
    }
   ],
   "source": [
    "import sgml, sgutil, sgpp, dproc\n",
    "import pandas as pd\n",
    "import numpy as np\n",
    "import matplotlib.pyplot as plt\n",
    "import seaborn as sns\n",
    "from sklearn.metrics import root_mean_squared_error\n",
    "\n",
    "from proc_v2 import p\n",
    "from ml_v2 import X_cat, X_num, X_all, target, kf, skf, ss, config, scheduler\n",
    "from ml_v2 import xgb_adapter, lgb_adapter, cb_adapter, lr_adapter, nn_adapter\n",
    "\n",
    "from functools import partial\n",
    "\n",
    "sc = sgutil.SGCache('img', 'result', 'model')\n",
    "df_train = p.fit_transform(['data/train.csv']).assign(\n",
    "    Calories_Log = lambda x: np.log(x['Calories'] + 1)\n",
    ")\n",
    "df_test = p.transform(['data/test.csv'])"
   ]
  },
  {
   "cell_type": "markdown",
   "id": "1216d861-0c57-46df-bc04-98de6539d1ea",
   "metadata": {},
   "source": [
    "# Duration-Aware CV-5"
   ]
  },
  {
   "cell_type": "code",
   "execution_count": 2,
   "id": "e3918fdf-a6c0-4f87-b872-1d2895c07a28",
   "metadata": {},
   "outputs": [
    {
     "data": {
      "text/plain": [
       "['Age_mul_Height',\n",
       " 'Age_mul_Weight',\n",
       " 'Age_mul_Duration',\n",
       " 'Age_mul_Heart_Rate',\n",
       " 'Age_mul_Body_Temp',\n",
       " 'Height_mul_Weight',\n",
       " 'Duration_mul_Height',\n",
       " 'Duration_mul_Weight',\n",
       " 'Duration_mul_Heart_Rate',\n",
       " 'Heart_Rate_mul_Height',\n",
       " 'Heart_Rate_mul_Weight',\n",
       " 'Body_Temp_mul_Height',\n",
       " 'Body_Temp_mul_Weight',\n",
       " 'Body_Temp_mul_Duration',\n",
       " 'Body_Temp_mul_Heart_Rate']"
      ]
     },
     "execution_count": 2,
     "metadata": {},
     "output_type": "execute_result"
    }
   ],
   "source": [
    "from itertools import product\n",
    "X_o2 = [i + '_mul_'+ j for i, j in product(X_num, X_num) if i < j]\n",
    "X_o2"
   ]
  },
  {
   "cell_type": "markdown",
   "id": "a9800de5-091f-4d6b-85b8-a865357150a3",
   "metadata": {},
   "source": [
    "## CB_da_skf5"
   ]
  },
  {
   "cell_type": "code",
   "execution_count": 13,
   "id": "1bf518d2-35f9-42a3-94bb-298fd9778eb0",
   "metadata": {},
   "outputs": [
    {
     "data": {
      "text/plain": [
       "(0.05921423685913637,\n",
       " [0.05958546768671888,\n",
       "  0.05915621229557451,\n",
       "  0.059710016930662135,\n",
       "  0.05886812440666825,\n",
       "  0.05875136297605805])"
      ]
     },
     "execution_count": 13,
     "metadata": {},
     "output_type": "execute_result"
    }
   ],
   "source": [
    "hparams = {\n",
    "    'model_params': {'max_depth': 7, 'n_estimators': 4000, 'learning_rate': 0.07, 'colsample_bylevel': 0.8, 'early_stopping_rounds': 300}, \n",
    "    'X_num': ['Sex', 'Age', 'Height', 'Weight', 'Duration', 'Heart_Rate', 'Body_Temp'],\n",
    "    'validation_fraction': 'oof'\n",
    "}\n",
    "\n",
    "result_cb = sc.cv_result('cb5_da_skf5', df_train, skf, hparams, config, cb_adapter, use_gpu = 0, rerun = 0,\n",
    "                     result_proc = partial(sgml.predict_learning_result, df=df_test))\n",
    "np.mean(result_cb['valid_scores']), result_cb['valid_scores']"
   ]
  },
  {
   "cell_type": "markdown",
   "id": "706c2ba4-68c4-46f9-8621-4d48315d6aba",
   "metadata": {},
   "source": [
    "## XGB_da_skf5"
   ]
  },
  {
   "cell_type": "code",
   "execution_count": 11,
   "id": "7fc5495e-8dc4-4719-84ed-857f1d4e5c5f",
   "metadata": {},
   "outputs": [
    {
     "data": {
      "text/plain": [
       "(0.05945324972271919,\n",
       " [0.05985007807612419,\n",
       "  0.05950526148080826,\n",
       "  0.05980324372649193,\n",
       "  0.0592055581510067,\n",
       "  0.058902107179164886])"
      ]
     },
     "execution_count": 11,
     "metadata": {},
     "output_type": "execute_result"
    }
   ],
   "source": [
    "X_o2 = ['Body_Temp_mul_Duration', 'Duration_mul_Heart_Rate']\n",
    "hparams = {\n",
    "    'model_params': {'n_estimators': 5000, 'colsample_bytree': 0.5, 'learning_rate': 0.007, 'subsample': 0.9, 'max_depth': 8, 'early_stopping_rounds': 300},\n",
    "    'X_num': ['Sex', 'Age', 'Height', 'Weight', 'Duration_log', 'Heart_Rate', 'Body_Temp', 'Heart_Rate_div_Weight_sqrt'] + X_o2, \n",
    "    'validation_fraction': 'oof'\n",
    "}\n",
    "\n",
    "result_xgb = sc.cv_result('xgb_da_skf5', df_train, skf, hparams, config, xgb_adapter, use_gpu = 0, rerun = 0,\n",
    "                     result_proc = partial(sgml.predict_learning_result, df=df_test))\n",
    "np.mean(result_xgb['valid_scores']), result_xgb['valid_scores']"
   ]
  },
  {
   "cell_type": "markdown",
   "id": "d2ed2d49-d650-4a7b-bf59-52c183a673ed",
   "metadata": {},
   "source": [
    "## LGB_da_skf5"
   ]
  },
  {
   "cell_type": "code",
   "execution_count": 11,
   "id": "1fdce12a-a96f-4101-9e8c-a31abd4173d1",
   "metadata": {},
   "outputs": [
    {
     "data": {
      "text/plain": [
       "(0.05921423685913637,\n",
       " [0.05958546768671888,\n",
       "  0.05915621229557451,\n",
       "  0.059710016930662135,\n",
       "  0.05886812440666825,\n",
       "  0.05875136297605805])"
      ]
     },
     "execution_count": 11,
     "metadata": {},
     "output_type": "execute_result"
    }
   ],
   "source": [
    "X_o2 = ['Body_Temp_mul_Duration', 'Duration_mul_Heart_Rate']\n",
    "hparams = {\n",
    "    'model_params': {'n_estimators': 5000, 'colsample_bytree': 0.5, 'num_leaves': 31, 'learning_rate': 0.03, 'early_stopping_rounds': 100},\n",
    "    'X_num': ['Sex', 'Age', 'Height', 'Weight', 'Duration_log', 'Heart_Rate', 'Body_Temp', 'Heart_Rate_div_Weight_sqrt'] + X_o2, \n",
    "    'validation_fraction': 'oof'\n",
    "}\n",
    "result_lgb = sc.cv_result('lgb_da_skf5', df_train, skf, hparams, config, lgb_adapter, rerun = 0,\n",
    "                     result_proc = partial(sgml.predict_learning_result, df=df_test))\n",
    "np.mean(result_lgb['valid_scores']), result_lgb['valid_scores']"
   ]
  },
  {
   "cell_type": "code",
   "execution_count": 29,
   "id": "1cb4b92c-a8bd-4280-a7d6-b940aed60a20",
   "metadata": {},
   "outputs": [
    {
     "data": {
      "text/plain": [
       "0.05906179415200209"
      ]
     },
     "execution_count": 29,
     "metadata": {},
     "output_type": "execute_result"
    }
   ],
   "source": [
    "root_mean_squared_error(\n",
    "    df_train[target],\n",
    "    pd.concat([\n",
    "        pd.Series(sc.read_prd(i), index = df_train.index, name = i)\n",
    "        for i in ['cb5_da_skf5', 'xgb_da_skf5', 'lgb_da_skf5']\n",
    "    ], axis =1).dot([0.6, 0.4, 0.0])\n",
    ")"
   ]
  },
  {
   "cell_type": "markdown",
   "id": "dc039059-ea06-4e4f-8879-4c53b37e83b9",
   "metadata": {},
   "source": [
    "# Ensemble"
   ]
  },
  {
   "cell_type": "code",
   "execution_count": 15,
   "id": "4d60a06f-2e8e-4c80-8ffe-c2c0b2d3cbbd",
   "metadata": {},
   "outputs": [],
   "source": [
    "models = ['lgb2', 'lgb1', 'xgb1', 'xgb3', 'cb1', 'cb2', 'cb3', 'cb4', 'cb5', 'nn1', 'nn2', 'cb5_da', 'xgb_da', 'lgb_da']\n",
    "X_model = [i + '_skf5' for i in models]\n",
    "df_stk = sc.read_prds(X_model, index = df_train.index).assign(\n",
    "    Calories_Log = df_train[target],\n",
    "    duration_bin = pd.qcut(df_train['Duration'], q = 10, labels = np.arange(0, 10))\n",
    ")"
   ]
  },
  {
   "cell_type": "code",
   "execution_count": 16,
   "id": "0501295c-8344-4e6e-a09e-38d19fd02af6",
   "metadata": {},
   "outputs": [
    {
     "data": {
      "application/vnd.jupyter.widget-view+json": {
       "model_id": "fcebce860e394f9696924ee025080f5e",
       "version_major": 2,
       "version_minor": 0
      },
      "text/plain": [
       "Fold:   0%|          | 0/5 [00:00<?, ?it/s]"
      ]
     },
     "metadata": {},
     "output_type": "display_data"
    },
    {
     "data": {
      "text/plain": [
       "0.05898965194788795"
      ]
     },
     "execution_count": 16,
     "metadata": {},
     "output_type": "execute_result"
    }
   ],
   "source": [
    "X_stk = [i + '_skf5' for i in models]\n",
    "hparams = {\n",
    "    'X_num': X_stk\n",
    "}\n",
    "result = sgml.cv(df_stk, skf, hparams,  {**config, 'sp_y': 'duration_bin'}, lr_adapter)\n",
    "np.mean(result['valid_scores'])"
   ]
  },
  {
   "cell_type": "code",
   "execution_count": 17,
   "id": "bc9e2f1a-5816-4948-acee-144a8834bccf",
   "metadata": {},
   "outputs": [],
   "source": [
    "import sgfs"
   ]
  },
  {
   "cell_type": "code",
   "execution_count": 18,
   "id": "a75cd0e9-0b55-4739-aebc-9824ffcd4561",
   "metadata": {},
   "outputs": [
    {
     "data": {
      "text/plain": [
       "[inf,\n",
       " 0.05945302738509161,\n",
       " 0.05920054755556721,\n",
       " 0.05909124381958336,\n",
       " 0.059079547039009174,\n",
       " 0.0590741690266993,\n",
       " 0.05907110946365807,\n",
       " 0.05906606547834305,\n",
       " 0.05906563183990104]"
      ]
     },
     "execution_count": 18,
     "metadata": {},
     "output_type": "execute_result"
    }
   ],
   "source": [
    "X_sel, _, result = sgfs.step_fs_fast(df_stk.assign(const = 1), X_stk, target, [], set(), [np.inf], root_mean_squared_error)\n",
    "result"
   ]
  },
  {
   "cell_type": "code",
   "execution_count": 19,
   "id": "2a4f3d29-1b07-40fb-b2f6-a4377629e752",
   "metadata": {},
   "outputs": [
    {
     "data": {
      "application/vnd.jupyter.widget-view+json": {
       "model_id": "2420d2fdc9eb4485ae8bd8e2339f89ed",
       "version_major": 2,
       "version_minor": 0
      },
      "text/plain": [
       "Fold:   0%|          | 0/5 [00:00<?, ?it/s]"
      ]
     },
     "metadata": {},
     "output_type": "display_data"
    },
    {
     "data": {
      "text/plain": [
       "(0.05897226347194764,\n",
       " [0.059301902285167137,\n",
       "  0.058994556857618466,\n",
       "  0.05935555121882213,\n",
       "  0.05869540527783597,\n",
       "  0.058513901720294484])"
      ]
     },
     "execution_count": 19,
     "metadata": {},
     "output_type": "execute_result"
    }
   ],
   "source": [
    "result = sgml.cv(df_stk, skf, {'X_num': X_sel}, {**config, 'sp_y': 'duration_bin'}, lr_adapter, result_proc = [sgml.lr_learning_result])\n",
    "np.mean(result['valid_scores']), result['valid_scores']"
   ]
  },
  {
   "cell_type": "code",
   "execution_count": 20,
   "id": "b0ad5a4d-1f2c-4e13-b101-206bbefd07be",
   "metadata": {},
   "outputs": [
    {
     "data": {
      "text/plain": [
       "cb2_skf5       0.136420\n",
       "cb1_skf5       0.119979\n",
       "lgb2_skf5     -0.044986\n",
       "nn2_skf5       0.320127\n",
       "lgb1_skf5      0.136059\n",
       "cb5_skf5       0.064125\n",
       "xgb_da_skf5    0.295727\n",
       "xgb1_skf5     -0.027381\n",
       "dtype: float64"
      ]
     },
     "execution_count": 20,
     "metadata": {},
     "output_type": "execute_result"
    }
   ],
   "source": [
    "pd.concat([pd.Series(i['coef']) for i in result['model_result']], axis = 1).mean(axis = 1)"
   ]
  },
  {
   "cell_type": "code",
   "execution_count": 24,
   "id": "d72c0060-15ce-4915-a4c1-72a48e335a4c",
   "metadata": {},
   "outputs": [
    {
     "data": {
      "text/html": [
       "<div>\n",
       "<style scoped>\n",
       "    .dataframe tbody tr th:only-of-type {\n",
       "        vertical-align: middle;\n",
       "    }\n",
       "\n",
       "    .dataframe tbody tr th {\n",
       "        vertical-align: top;\n",
       "    }\n",
       "\n",
       "    .dataframe thead th {\n",
       "        text-align: right;\n",
       "    }\n",
       "</style>\n",
       "<table border=\"1\" class=\"dataframe\">\n",
       "  <thead>\n",
       "    <tr style=\"text-align: right;\">\n",
       "      <th></th>\n",
       "      <th>cb2_skf5</th>\n",
       "      <th>cb1_skf5</th>\n",
       "      <th>lgb2_skf5</th>\n",
       "      <th>nn2_skf5</th>\n",
       "      <th>lgb1_skf5</th>\n",
       "      <th>cb5_skf5</th>\n",
       "      <th>xgb1_skf5</th>\n",
       "    </tr>\n",
       "    <tr>\n",
       "      <th>id</th>\n",
       "      <th></th>\n",
       "      <th></th>\n",
       "      <th></th>\n",
       "      <th></th>\n",
       "      <th></th>\n",
       "      <th></th>\n",
       "      <th></th>\n",
       "    </tr>\n",
       "  </thead>\n",
       "  <tbody>\n",
       "    <tr>\n",
       "      <th>750000</th>\n",
       "      <td>3.345108</td>\n",
       "      <td>3.339252</td>\n",
       "      <td>3.342220</td>\n",
       "      <td>3.343099</td>\n",
       "      <td>3.343804</td>\n",
       "      <td>3.335049</td>\n",
       "      <td>3.336766</td>\n",
       "    </tr>\n",
       "    <tr>\n",
       "      <th>750001</th>\n",
       "      <td>4.690045</td>\n",
       "      <td>4.691551</td>\n",
       "      <td>4.694324</td>\n",
       "      <td>4.693828</td>\n",
       "      <td>4.696249</td>\n",
       "      <td>4.685364</td>\n",
       "      <td>4.704313</td>\n",
       "    </tr>\n",
       "    <tr>\n",
       "      <th>750002</th>\n",
       "      <td>4.470860</td>\n",
       "      <td>4.471377</td>\n",
       "      <td>4.471508</td>\n",
       "      <td>4.477394</td>\n",
       "      <td>4.471234</td>\n",
       "      <td>4.484206</td>\n",
       "      <td>4.473776</td>\n",
       "    </tr>\n",
       "    <tr>\n",
       "      <th>750003</th>\n",
       "      <td>4.844425</td>\n",
       "      <td>4.840599</td>\n",
       "      <td>4.837693</td>\n",
       "      <td>4.839946</td>\n",
       "      <td>4.838142</td>\n",
       "      <td>4.838311</td>\n",
       "      <td>4.835355</td>\n",
       "    </tr>\n",
       "    <tr>\n",
       "      <th>750004</th>\n",
       "      <td>4.347627</td>\n",
       "      <td>4.345177</td>\n",
       "      <td>4.335305</td>\n",
       "      <td>4.347324</td>\n",
       "      <td>4.346876</td>\n",
       "      <td>4.333550</td>\n",
       "      <td>4.339695</td>\n",
       "    </tr>\n",
       "  </tbody>\n",
       "</table>\n",
       "</div>"
      ],
      "text/plain": [
       "        cb2_skf5  cb1_skf5  lgb2_skf5  nn2_skf5  lgb1_skf5  cb5_skf5  \\\n",
       "id                                                                     \n",
       "750000  3.345108  3.339252   3.342220  3.343099   3.343804  3.335049   \n",
       "750001  4.690045  4.691551   4.694324  4.693828   4.696249  4.685364   \n",
       "750002  4.470860  4.471377   4.471508  4.477394   4.471234  4.484206   \n",
       "750003  4.844425  4.840599   4.837693  4.839946   4.838142  4.838311   \n",
       "750004  4.347627  4.345177   4.335305  4.347324   4.346876  4.333550   \n",
       "\n",
       "        xgb1_skf5  \n",
       "id                 \n",
       "750000   3.336766  \n",
       "750001   4.704313  \n",
       "750002   4.473776  \n",
       "750003   4.835355  \n",
       "750004   4.339695  "
      ]
     },
     "execution_count": 24,
     "metadata": {},
     "output_type": "execute_result"
    }
   ],
   "source": [
    "df_stk_test = pd.concat([\n",
    "    sc.get_predictor_cv(i, config)(df_test).rename(i) for i in [\n",
    "        'cb2_skf5', 'cb1_skf5', 'lgb2_skf5', 'nn2_skf5', 'lgb1_skf5',  'cb5_skf5', 'xgb1_skf5'\n",
    "    ]\n",
    "], axis = 1)\n",
    "df_stk_test.head()"
   ]
  },
  {
   "cell_type": "code",
   "execution_count": 25,
   "id": "642f48d5-3472-4b01-9a7b-46d645d84c5e",
   "metadata": {},
   "outputs": [
    {
     "data": {
      "text/html": [
       "<div>\n",
       "<style scoped>\n",
       "    .dataframe tbody tr th:only-of-type {\n",
       "        vertical-align: middle;\n",
       "    }\n",
       "\n",
       "    .dataframe tbody tr th {\n",
       "        vertical-align: top;\n",
       "    }\n",
       "\n",
       "    .dataframe thead th {\n",
       "        text-align: right;\n",
       "    }\n",
       "</style>\n",
       "<table border=\"1\" class=\"dataframe\">\n",
       "  <thead>\n",
       "    <tr style=\"text-align: right;\">\n",
       "      <th></th>\n",
       "      <th>cb2_skf5</th>\n",
       "      <th>cb1_skf5</th>\n",
       "      <th>lgb2_skf5</th>\n",
       "      <th>nn2_skf5</th>\n",
       "      <th>lgb1_skf5</th>\n",
       "      <th>cb5_skf5</th>\n",
       "      <th>xgb1_skf5</th>\n",
       "      <th>xgb_da_skf5</th>\n",
       "    </tr>\n",
       "    <tr>\n",
       "      <th>id</th>\n",
       "      <th></th>\n",
       "      <th></th>\n",
       "      <th></th>\n",
       "      <th></th>\n",
       "      <th></th>\n",
       "      <th></th>\n",
       "      <th></th>\n",
       "      <th></th>\n",
       "    </tr>\n",
       "  </thead>\n",
       "  <tbody>\n",
       "    <tr>\n",
       "      <th>750000</th>\n",
       "      <td>3.345108</td>\n",
       "      <td>3.339252</td>\n",
       "      <td>3.342220</td>\n",
       "      <td>3.343099</td>\n",
       "      <td>3.343804</td>\n",
       "      <td>3.335049</td>\n",
       "      <td>3.336766</td>\n",
       "      <td>3.342004</td>\n",
       "    </tr>\n",
       "    <tr>\n",
       "      <th>750001</th>\n",
       "      <td>4.690045</td>\n",
       "      <td>4.691551</td>\n",
       "      <td>4.694324</td>\n",
       "      <td>4.693828</td>\n",
       "      <td>4.696249</td>\n",
       "      <td>4.685364</td>\n",
       "      <td>4.704313</td>\n",
       "      <td>4.696612</td>\n",
       "    </tr>\n",
       "    <tr>\n",
       "      <th>750002</th>\n",
       "      <td>4.470860</td>\n",
       "      <td>4.471377</td>\n",
       "      <td>4.471508</td>\n",
       "      <td>4.477394</td>\n",
       "      <td>4.471234</td>\n",
       "      <td>4.484206</td>\n",
       "      <td>4.473776</td>\n",
       "      <td>4.480614</td>\n",
       "    </tr>\n",
       "    <tr>\n",
       "      <th>750003</th>\n",
       "      <td>4.844425</td>\n",
       "      <td>4.840599</td>\n",
       "      <td>4.837693</td>\n",
       "      <td>4.839946</td>\n",
       "      <td>4.838142</td>\n",
       "      <td>4.838311</td>\n",
       "      <td>4.835355</td>\n",
       "      <td>4.844573</td>\n",
       "    </tr>\n",
       "    <tr>\n",
       "      <th>750004</th>\n",
       "      <td>4.347627</td>\n",
       "      <td>4.345177</td>\n",
       "      <td>4.335305</td>\n",
       "      <td>4.347324</td>\n",
       "      <td>4.346876</td>\n",
       "      <td>4.333550</td>\n",
       "      <td>4.339695</td>\n",
       "      <td>4.339159</td>\n",
       "    </tr>\n",
       "  </tbody>\n",
       "</table>\n",
       "</div>"
      ],
      "text/plain": [
       "        cb2_skf5  cb1_skf5  lgb2_skf5  nn2_skf5  lgb1_skf5  cb5_skf5  \\\n",
       "id                                                                     \n",
       "750000  3.345108  3.339252   3.342220  3.343099   3.343804  3.335049   \n",
       "750001  4.690045  4.691551   4.694324  4.693828   4.696249  4.685364   \n",
       "750002  4.470860  4.471377   4.471508  4.477394   4.471234  4.484206   \n",
       "750003  4.844425  4.840599   4.837693  4.839946   4.838142  4.838311   \n",
       "750004  4.347627  4.345177   4.335305  4.347324   4.346876  4.333550   \n",
       "\n",
       "        xgb1_skf5  xgb_da_skf5  \n",
       "id                              \n",
       "750000   3.336766     3.342004  \n",
       "750001   4.704313     4.696612  \n",
       "750002   4.473776     4.480614  \n",
       "750003   4.835355     4.844573  \n",
       "750004   4.339695     4.339159  "
      ]
     },
     "execution_count": 25,
     "metadata": {},
     "output_type": "execute_result"
    }
   ],
   "source": [
    "df_stk_test = df_stk_test.join(\n",
    "    pd.Series(np.vstack(sc.read_cv('xgb_da_skf5')['model_result']).mean(axis = 0), index = df_test.index, name = 'xgb_da_skf5')\n",
    ")\n",
    "df_stk_test.head()"
   ]
  },
  {
   "cell_type": "code",
   "execution_count": 26,
   "id": "b66d69c3-ea72-4c85-9329-a0802441f2c8",
   "metadata": {},
   "outputs": [
    {
     "data": {
      "text/html": [
       "<style>#sk-container-id-1 {\n",
       "  /* Definition of color scheme common for light and dark mode */\n",
       "  --sklearn-color-text: #000;\n",
       "  --sklearn-color-text-muted: #666;\n",
       "  --sklearn-color-line: gray;\n",
       "  /* Definition of color scheme for unfitted estimators */\n",
       "  --sklearn-color-unfitted-level-0: #fff5e6;\n",
       "  --sklearn-color-unfitted-level-1: #f6e4d2;\n",
       "  --sklearn-color-unfitted-level-2: #ffe0b3;\n",
       "  --sklearn-color-unfitted-level-3: chocolate;\n",
       "  /* Definition of color scheme for fitted estimators */\n",
       "  --sklearn-color-fitted-level-0: #f0f8ff;\n",
       "  --sklearn-color-fitted-level-1: #d4ebff;\n",
       "  --sklearn-color-fitted-level-2: #b3dbfd;\n",
       "  --sklearn-color-fitted-level-3: cornflowerblue;\n",
       "\n",
       "  /* Specific color for light theme */\n",
       "  --sklearn-color-text-on-default-background: var(--sg-text-color, var(--theme-code-foreground, var(--jp-content-font-color1, black)));\n",
       "  --sklearn-color-background: var(--sg-background-color, var(--theme-background, var(--jp-layout-color0, white)));\n",
       "  --sklearn-color-border-box: var(--sg-text-color, var(--theme-code-foreground, var(--jp-content-font-color1, black)));\n",
       "  --sklearn-color-icon: #696969;\n",
       "\n",
       "  @media (prefers-color-scheme: dark) {\n",
       "    /* Redefinition of color scheme for dark theme */\n",
       "    --sklearn-color-text-on-default-background: var(--sg-text-color, var(--theme-code-foreground, var(--jp-content-font-color1, white)));\n",
       "    --sklearn-color-background: var(--sg-background-color, var(--theme-background, var(--jp-layout-color0, #111)));\n",
       "    --sklearn-color-border-box: var(--sg-text-color, var(--theme-code-foreground, var(--jp-content-font-color1, white)));\n",
       "    --sklearn-color-icon: #878787;\n",
       "  }\n",
       "}\n",
       "\n",
       "#sk-container-id-1 {\n",
       "  color: var(--sklearn-color-text);\n",
       "}\n",
       "\n",
       "#sk-container-id-1 pre {\n",
       "  padding: 0;\n",
       "}\n",
       "\n",
       "#sk-container-id-1 input.sk-hidden--visually {\n",
       "  border: 0;\n",
       "  clip: rect(1px 1px 1px 1px);\n",
       "  clip: rect(1px, 1px, 1px, 1px);\n",
       "  height: 1px;\n",
       "  margin: -1px;\n",
       "  overflow: hidden;\n",
       "  padding: 0;\n",
       "  position: absolute;\n",
       "  width: 1px;\n",
       "}\n",
       "\n",
       "#sk-container-id-1 div.sk-dashed-wrapped {\n",
       "  border: 1px dashed var(--sklearn-color-line);\n",
       "  margin: 0 0.4em 0.5em 0.4em;\n",
       "  box-sizing: border-box;\n",
       "  padding-bottom: 0.4em;\n",
       "  background-color: var(--sklearn-color-background);\n",
       "}\n",
       "\n",
       "#sk-container-id-1 div.sk-container {\n",
       "  /* jupyter's `normalize.less` sets `[hidden] { display: none; }`\n",
       "     but bootstrap.min.css set `[hidden] { display: none !important; }`\n",
       "     so we also need the `!important` here to be able to override the\n",
       "     default hidden behavior on the sphinx rendered scikit-learn.org.\n",
       "     See: https://github.com/scikit-learn/scikit-learn/issues/21755 */\n",
       "  display: inline-block !important;\n",
       "  position: relative;\n",
       "}\n",
       "\n",
       "#sk-container-id-1 div.sk-text-repr-fallback {\n",
       "  display: none;\n",
       "}\n",
       "\n",
       "div.sk-parallel-item,\n",
       "div.sk-serial,\n",
       "div.sk-item {\n",
       "  /* draw centered vertical line to link estimators */\n",
       "  background-image: linear-gradient(var(--sklearn-color-text-on-default-background), var(--sklearn-color-text-on-default-background));\n",
       "  background-size: 2px 100%;\n",
       "  background-repeat: no-repeat;\n",
       "  background-position: center center;\n",
       "}\n",
       "\n",
       "/* Parallel-specific style estimator block */\n",
       "\n",
       "#sk-container-id-1 div.sk-parallel-item::after {\n",
       "  content: \"\";\n",
       "  width: 100%;\n",
       "  border-bottom: 2px solid var(--sklearn-color-text-on-default-background);\n",
       "  flex-grow: 1;\n",
       "}\n",
       "\n",
       "#sk-container-id-1 div.sk-parallel {\n",
       "  display: flex;\n",
       "  align-items: stretch;\n",
       "  justify-content: center;\n",
       "  background-color: var(--sklearn-color-background);\n",
       "  position: relative;\n",
       "}\n",
       "\n",
       "#sk-container-id-1 div.sk-parallel-item {\n",
       "  display: flex;\n",
       "  flex-direction: column;\n",
       "}\n",
       "\n",
       "#sk-container-id-1 div.sk-parallel-item:first-child::after {\n",
       "  align-self: flex-end;\n",
       "  width: 50%;\n",
       "}\n",
       "\n",
       "#sk-container-id-1 div.sk-parallel-item:last-child::after {\n",
       "  align-self: flex-start;\n",
       "  width: 50%;\n",
       "}\n",
       "\n",
       "#sk-container-id-1 div.sk-parallel-item:only-child::after {\n",
       "  width: 0;\n",
       "}\n",
       "\n",
       "/* Serial-specific style estimator block */\n",
       "\n",
       "#sk-container-id-1 div.sk-serial {\n",
       "  display: flex;\n",
       "  flex-direction: column;\n",
       "  align-items: center;\n",
       "  background-color: var(--sklearn-color-background);\n",
       "  padding-right: 1em;\n",
       "  padding-left: 1em;\n",
       "}\n",
       "\n",
       "\n",
       "/* Toggleable style: style used for estimator/Pipeline/ColumnTransformer box that is\n",
       "clickable and can be expanded/collapsed.\n",
       "- Pipeline and ColumnTransformer use this feature and define the default style\n",
       "- Estimators will overwrite some part of the style using the `sk-estimator` class\n",
       "*/\n",
       "\n",
       "/* Pipeline and ColumnTransformer style (default) */\n",
       "\n",
       "#sk-container-id-1 div.sk-toggleable {\n",
       "  /* Default theme specific background. It is overwritten whether we have a\n",
       "  specific estimator or a Pipeline/ColumnTransformer */\n",
       "  background-color: var(--sklearn-color-background);\n",
       "}\n",
       "\n",
       "/* Toggleable label */\n",
       "#sk-container-id-1 label.sk-toggleable__label {\n",
       "  cursor: pointer;\n",
       "  display: flex;\n",
       "  width: 100%;\n",
       "  margin-bottom: 0;\n",
       "  padding: 0.5em;\n",
       "  box-sizing: border-box;\n",
       "  text-align: center;\n",
       "  align-items: start;\n",
       "  justify-content: space-between;\n",
       "  gap: 0.5em;\n",
       "}\n",
       "\n",
       "#sk-container-id-1 label.sk-toggleable__label .caption {\n",
       "  font-size: 0.6rem;\n",
       "  font-weight: lighter;\n",
       "  color: var(--sklearn-color-text-muted);\n",
       "}\n",
       "\n",
       "#sk-container-id-1 label.sk-toggleable__label-arrow:before {\n",
       "  /* Arrow on the left of the label */\n",
       "  content: \"▸\";\n",
       "  float: left;\n",
       "  margin-right: 0.25em;\n",
       "  color: var(--sklearn-color-icon);\n",
       "}\n",
       "\n",
       "#sk-container-id-1 label.sk-toggleable__label-arrow:hover:before {\n",
       "  color: var(--sklearn-color-text);\n",
       "}\n",
       "\n",
       "/* Toggleable content - dropdown */\n",
       "\n",
       "#sk-container-id-1 div.sk-toggleable__content {\n",
       "  max-height: 0;\n",
       "  max-width: 0;\n",
       "  overflow: hidden;\n",
       "  text-align: left;\n",
       "  /* unfitted */\n",
       "  background-color: var(--sklearn-color-unfitted-level-0);\n",
       "}\n",
       "\n",
       "#sk-container-id-1 div.sk-toggleable__content.fitted {\n",
       "  /* fitted */\n",
       "  background-color: var(--sklearn-color-fitted-level-0);\n",
       "}\n",
       "\n",
       "#sk-container-id-1 div.sk-toggleable__content pre {\n",
       "  margin: 0.2em;\n",
       "  border-radius: 0.25em;\n",
       "  color: var(--sklearn-color-text);\n",
       "  /* unfitted */\n",
       "  background-color: var(--sklearn-color-unfitted-level-0);\n",
       "}\n",
       "\n",
       "#sk-container-id-1 div.sk-toggleable__content.fitted pre {\n",
       "  /* unfitted */\n",
       "  background-color: var(--sklearn-color-fitted-level-0);\n",
       "}\n",
       "\n",
       "#sk-container-id-1 input.sk-toggleable__control:checked~div.sk-toggleable__content {\n",
       "  /* Expand drop-down */\n",
       "  max-height: 200px;\n",
       "  max-width: 100%;\n",
       "  overflow: auto;\n",
       "}\n",
       "\n",
       "#sk-container-id-1 input.sk-toggleable__control:checked~label.sk-toggleable__label-arrow:before {\n",
       "  content: \"▾\";\n",
       "}\n",
       "\n",
       "/* Pipeline/ColumnTransformer-specific style */\n",
       "\n",
       "#sk-container-id-1 div.sk-label input.sk-toggleable__control:checked~label.sk-toggleable__label {\n",
       "  color: var(--sklearn-color-text);\n",
       "  background-color: var(--sklearn-color-unfitted-level-2);\n",
       "}\n",
       "\n",
       "#sk-container-id-1 div.sk-label.fitted input.sk-toggleable__control:checked~label.sk-toggleable__label {\n",
       "  background-color: var(--sklearn-color-fitted-level-2);\n",
       "}\n",
       "\n",
       "/* Estimator-specific style */\n",
       "\n",
       "/* Colorize estimator box */\n",
       "#sk-container-id-1 div.sk-estimator input.sk-toggleable__control:checked~label.sk-toggleable__label {\n",
       "  /* unfitted */\n",
       "  background-color: var(--sklearn-color-unfitted-level-2);\n",
       "}\n",
       "\n",
       "#sk-container-id-1 div.sk-estimator.fitted input.sk-toggleable__control:checked~label.sk-toggleable__label {\n",
       "  /* fitted */\n",
       "  background-color: var(--sklearn-color-fitted-level-2);\n",
       "}\n",
       "\n",
       "#sk-container-id-1 div.sk-label label.sk-toggleable__label,\n",
       "#sk-container-id-1 div.sk-label label {\n",
       "  /* The background is the default theme color */\n",
       "  color: var(--sklearn-color-text-on-default-background);\n",
       "}\n",
       "\n",
       "/* On hover, darken the color of the background */\n",
       "#sk-container-id-1 div.sk-label:hover label.sk-toggleable__label {\n",
       "  color: var(--sklearn-color-text);\n",
       "  background-color: var(--sklearn-color-unfitted-level-2);\n",
       "}\n",
       "\n",
       "/* Label box, darken color on hover, fitted */\n",
       "#sk-container-id-1 div.sk-label.fitted:hover label.sk-toggleable__label.fitted {\n",
       "  color: var(--sklearn-color-text);\n",
       "  background-color: var(--sklearn-color-fitted-level-2);\n",
       "}\n",
       "\n",
       "/* Estimator label */\n",
       "\n",
       "#sk-container-id-1 div.sk-label label {\n",
       "  font-family: monospace;\n",
       "  font-weight: bold;\n",
       "  display: inline-block;\n",
       "  line-height: 1.2em;\n",
       "}\n",
       "\n",
       "#sk-container-id-1 div.sk-label-container {\n",
       "  text-align: center;\n",
       "}\n",
       "\n",
       "/* Estimator-specific */\n",
       "#sk-container-id-1 div.sk-estimator {\n",
       "  font-family: monospace;\n",
       "  border: 1px dotted var(--sklearn-color-border-box);\n",
       "  border-radius: 0.25em;\n",
       "  box-sizing: border-box;\n",
       "  margin-bottom: 0.5em;\n",
       "  /* unfitted */\n",
       "  background-color: var(--sklearn-color-unfitted-level-0);\n",
       "}\n",
       "\n",
       "#sk-container-id-1 div.sk-estimator.fitted {\n",
       "  /* fitted */\n",
       "  background-color: var(--sklearn-color-fitted-level-0);\n",
       "}\n",
       "\n",
       "/* on hover */\n",
       "#sk-container-id-1 div.sk-estimator:hover {\n",
       "  /* unfitted */\n",
       "  background-color: var(--sklearn-color-unfitted-level-2);\n",
       "}\n",
       "\n",
       "#sk-container-id-1 div.sk-estimator.fitted:hover {\n",
       "  /* fitted */\n",
       "  background-color: var(--sklearn-color-fitted-level-2);\n",
       "}\n",
       "\n",
       "/* Specification for estimator info (e.g. \"i\" and \"?\") */\n",
       "\n",
       "/* Common style for \"i\" and \"?\" */\n",
       "\n",
       ".sk-estimator-doc-link,\n",
       "a:link.sk-estimator-doc-link,\n",
       "a:visited.sk-estimator-doc-link {\n",
       "  float: right;\n",
       "  font-size: smaller;\n",
       "  line-height: 1em;\n",
       "  font-family: monospace;\n",
       "  background-color: var(--sklearn-color-background);\n",
       "  border-radius: 1em;\n",
       "  height: 1em;\n",
       "  width: 1em;\n",
       "  text-decoration: none !important;\n",
       "  margin-left: 0.5em;\n",
       "  text-align: center;\n",
       "  /* unfitted */\n",
       "  border: var(--sklearn-color-unfitted-level-1) 1pt solid;\n",
       "  color: var(--sklearn-color-unfitted-level-1);\n",
       "}\n",
       "\n",
       ".sk-estimator-doc-link.fitted,\n",
       "a:link.sk-estimator-doc-link.fitted,\n",
       "a:visited.sk-estimator-doc-link.fitted {\n",
       "  /* fitted */\n",
       "  border: var(--sklearn-color-fitted-level-1) 1pt solid;\n",
       "  color: var(--sklearn-color-fitted-level-1);\n",
       "}\n",
       "\n",
       "/* On hover */\n",
       "div.sk-estimator:hover .sk-estimator-doc-link:hover,\n",
       ".sk-estimator-doc-link:hover,\n",
       "div.sk-label-container:hover .sk-estimator-doc-link:hover,\n",
       ".sk-estimator-doc-link:hover {\n",
       "  /* unfitted */\n",
       "  background-color: var(--sklearn-color-unfitted-level-3);\n",
       "  color: var(--sklearn-color-background);\n",
       "  text-decoration: none;\n",
       "}\n",
       "\n",
       "div.sk-estimator.fitted:hover .sk-estimator-doc-link.fitted:hover,\n",
       ".sk-estimator-doc-link.fitted:hover,\n",
       "div.sk-label-container:hover .sk-estimator-doc-link.fitted:hover,\n",
       ".sk-estimator-doc-link.fitted:hover {\n",
       "  /* fitted */\n",
       "  background-color: var(--sklearn-color-fitted-level-3);\n",
       "  color: var(--sklearn-color-background);\n",
       "  text-decoration: none;\n",
       "}\n",
       "\n",
       "/* Span, style for the box shown on hovering the info icon */\n",
       ".sk-estimator-doc-link span {\n",
       "  display: none;\n",
       "  z-index: 9999;\n",
       "  position: relative;\n",
       "  font-weight: normal;\n",
       "  right: .2ex;\n",
       "  padding: .5ex;\n",
       "  margin: .5ex;\n",
       "  width: min-content;\n",
       "  min-width: 20ex;\n",
       "  max-width: 50ex;\n",
       "  color: var(--sklearn-color-text);\n",
       "  box-shadow: 2pt 2pt 4pt #999;\n",
       "  /* unfitted */\n",
       "  background: var(--sklearn-color-unfitted-level-0);\n",
       "  border: .5pt solid var(--sklearn-color-unfitted-level-3);\n",
       "}\n",
       "\n",
       ".sk-estimator-doc-link.fitted span {\n",
       "  /* fitted */\n",
       "  background: var(--sklearn-color-fitted-level-0);\n",
       "  border: var(--sklearn-color-fitted-level-3);\n",
       "}\n",
       "\n",
       ".sk-estimator-doc-link:hover span {\n",
       "  display: block;\n",
       "}\n",
       "\n",
       "/* \"?\"-specific style due to the `<a>` HTML tag */\n",
       "\n",
       "#sk-container-id-1 a.estimator_doc_link {\n",
       "  float: right;\n",
       "  font-size: 1rem;\n",
       "  line-height: 1em;\n",
       "  font-family: monospace;\n",
       "  background-color: var(--sklearn-color-background);\n",
       "  border-radius: 1rem;\n",
       "  height: 1rem;\n",
       "  width: 1rem;\n",
       "  text-decoration: none;\n",
       "  /* unfitted */\n",
       "  color: var(--sklearn-color-unfitted-level-1);\n",
       "  border: var(--sklearn-color-unfitted-level-1) 1pt solid;\n",
       "}\n",
       "\n",
       "#sk-container-id-1 a.estimator_doc_link.fitted {\n",
       "  /* fitted */\n",
       "  border: var(--sklearn-color-fitted-level-1) 1pt solid;\n",
       "  color: var(--sklearn-color-fitted-level-1);\n",
       "}\n",
       "\n",
       "/* On hover */\n",
       "#sk-container-id-1 a.estimator_doc_link:hover {\n",
       "  /* unfitted */\n",
       "  background-color: var(--sklearn-color-unfitted-level-3);\n",
       "  color: var(--sklearn-color-background);\n",
       "  text-decoration: none;\n",
       "}\n",
       "\n",
       "#sk-container-id-1 a.estimator_doc_link.fitted:hover {\n",
       "  /* fitted */\n",
       "  background-color: var(--sklearn-color-fitted-level-3);\n",
       "}\n",
       "</style><div id=\"sk-container-id-1\" class=\"sk-top-container\"><div class=\"sk-text-repr-fallback\"><pre>LinearRegression()</pre><b>In a Jupyter environment, please rerun this cell to show the HTML representation or trust the notebook. <br />On GitHub, the HTML representation is unable to render, please try loading this page with nbviewer.org.</b></div><div class=\"sk-container\" hidden><div class=\"sk-item\"><div class=\"sk-estimator fitted sk-toggleable\"><input class=\"sk-toggleable__control sk-hidden--visually\" id=\"sk-estimator-id-1\" type=\"checkbox\" checked><label for=\"sk-estimator-id-1\" class=\"sk-toggleable__label fitted sk-toggleable__label-arrow\"><div><div>LinearRegression</div></div><div><a class=\"sk-estimator-doc-link fitted\" rel=\"noreferrer\" target=\"_blank\" href=\"https://scikit-learn.org/1.6/modules/generated/sklearn.linear_model.LinearRegression.html\">?<span>Documentation for LinearRegression</span></a><span class=\"sk-estimator-doc-link fitted\">i<span>Fitted</span></span></div></label><div class=\"sk-toggleable__content fitted\"><pre>LinearRegression()</pre></div> </div></div></div></div>"
      ],
      "text/plain": [
       "LinearRegression()"
      ]
     },
     "execution_count": 26,
     "metadata": {},
     "output_type": "execute_result"
    }
   ],
   "source": [
    "from sklearn.linear_model import LinearRegression\n",
    "reg_meta_lr = LinearRegression()\n",
    "reg_meta_lr.fit(df_stk[X_sel], df_train[target])"
   ]
  },
  {
   "cell_type": "code",
   "execution_count": 27,
   "id": "04353d30-85bd-4aee-9d15-b348a8aa030d",
   "metadata": {},
   "outputs": [],
   "source": [
    "pd.Series(\n",
    "    reg_meta_lr.predict(df_stk_test[X_sel]), index = df_stk_test.index, name = 'Calories'\n",
    ").pipe(lambda x: (np.exp(x) - 1).clip(lower = 1)).to_csv('result/submission8.csv')"
   ]
  },
  {
   "cell_type": "code",
   "execution_count": 13,
   "id": "0cc87923-3201-40db-bdb0-dd9a2c4885aa",
   "metadata": {},
   "outputs": [
    {
     "name": "stdout",
     "output_type": "stream",
     "text": [
      "id,Calories\n",
      "750000,27.284962484460088\n",
      "750001,108.22294014572229\n",
      "750002,86.9465197836893\n",
      "750003,125.7152886388522\n",
      "750004,76.05542728645645\n",
      "750005,21.73949000813518\n",
      "750006,48.59378494124187\n",
      "750007,6.788324241664323\n",
      "750008,10.008999888355769\n"
     ]
    }
   ],
   "source": [
    "!head result/submission8.csv"
   ]
  },
  {
   "cell_type": "code",
   "execution_count": 28,
   "id": "404a3015-dc24-4814-ac6b-45a5a615b7b7",
   "metadata": {},
   "outputs": [
    {
     "name": "stdout",
     "output_type": "stream",
     "text": [
      "100%|██████████████████████████████████████| 6.06M/6.06M [00:02<00:00, 2.83MB/s]\n",
      "Successfully submitted to Predict Calorie Expenditure"
     ]
    }
   ],
   "source": [
    "# !kaggle competitions submit -c playground-series-s5e5 -f result/submission8.csv -m \"Ensemble8\""
   ]
  },
  {
   "cell_type": "markdown",
   "id": "eb5c1311-6d7b-4fc8-86c7-eb591ab38b74",
   "metadata": {},
   "source": [
    "# Duration Aware + Interaction Feature"
   ]
  },
  {
   "cell_type": "code",
   "execution_count": 2,
   "id": "794dd07e-002e-4a8f-b915-ff4455690847",
   "metadata": {},
   "outputs": [],
   "source": [
    "df_train = pd.concat([\n",
    "    df_train,\n",
    "    df_train[X_num].multiply(df_train['Sex'].astype('float32'), axis=0).rename(columns = lambda x: x + '_1'),\n",
    "    df_train[X_num].multiply((1 - df_train['Sex'].astype('float32')), axis=0).rename(columns = lambda x: x + '_0')\n",
    "], axis=1)"
   ]
  },
  {
   "cell_type": "code",
   "execution_count": 3,
   "id": "ce69ed01-cc16-44c0-aee2-eacc4c0ab25b",
   "metadata": {},
   "outputs": [],
   "source": [
    "X_if = [i + '_1' for i in X_num ] + [i + '_0' for i in X_num ]"
   ]
  },
  {
   "cell_type": "markdown",
   "id": "e1c1d035-b408-47fc-8232-9ff2a0ff0b5c",
   "metadata": {},
   "source": [
    "- CatBoost와 XGBoost 모두 성능의 개선점이 보이지 않습니다."
   ]
  },
  {
   "cell_type": "markdown",
   "id": "1ea31bf0-5252-4812-97d2-b367b4752fa9",
   "metadata": {},
   "source": [
    "# High Fold\n",
    "\n",
    "- 많은 수의 교차 검증을 하여 Random Forest 스러운 모델의 기법을 써봅니다 "
   ]
  },
  {
   "cell_type": "code",
   "execution_count": 2,
   "id": "d121c7eb-0cbf-46ab-bbb4-9e255f483295",
   "metadata": {},
   "outputs": [],
   "source": [
    "from sklearn.model_selection import StratifiedShuffleSplit, train_test_split\n",
    "ssf50 = StratifiedShuffleSplit(50, train_size = 0.8, random_state = 123)\n",
    "ssf25 = StratifiedShuffleSplit(25, train_size = 0.8, random_state = 123)"
   ]
  },
  {
   "cell_type": "code",
   "execution_count": 6,
   "id": "a5b9b4d8-8e3f-4ee4-8a68-660d5fac5591",
   "metadata": {},
   "outputs": [],
   "source": [
    "df_train_ho, df_valid_ho = train_test_split(df_train, train_size = 0.75, random_state = 123, shuffle = True)"
   ]
  },
  {
   "cell_type": "code",
   "execution_count": null,
   "id": "8fc72522-f179-4de8-a2e4-8234fb7a0841",
   "metadata": {},
   "outputs": [],
   "source": [
    "X_o2 = ['Body_Temp_mul_Duration', 'Duration_mul_Heart_Rate']\n",
    "hparams = {\n",
    "    'model_params': {'n_estimators': 5000, 'colsample_bytree': 0.5, 'learning_rate': 0.01, 'subsample': 0.9, 'max_depth': 8, 'early_stopping_rounds': 300},\n",
    "    'X_num': ['Sex', 'Age', 'Height', 'Weight', 'Duration_log', 'Heart_Rate', 'Body_Temp', 'Heart_Rate_div_Weight_sqrt'] + X_o2, \n",
    "    'validation_fraction': 'oof'\n",
    "}\n",
    "ssf50 = StratifiedShuffleSplit(50, train_size = 0.8, random_state = 123)\n",
    "result_xgb = sc.cv_result('xgb_da_ssf50', df_train_ho, ssf50, hparams, config, xgb_adapter, use_gpu = 1, rerun = 0,\n",
    "                     result_proc = partial(sgml.predict_learning_result, df=df_valid_ho))\n",
    "np.mean(result_xgb['valid_scores']), result_xgb['valid_scores']"
   ]
  },
  {
   "cell_type": "code",
   "execution_count": 14,
   "id": "33d3287b-5e30-4655-aa55-2050090bfe07",
   "metadata": {},
   "outputs": [
    {
     "data": {
      "text/plain": [
       "0.059616874903440475"
      ]
     },
     "execution_count": 14,
     "metadata": {},
     "output_type": "execute_result"
    }
   ],
   "source": [
    "root_mean_squared_error(\n",
    "    df_valid_ho[target], np.vstack(result_xgb['model_result']).mean(axis = 0)\n",
    ")"
   ]
  },
  {
   "cell_type": "code",
   "execution_count": 17,
   "id": "8ca5c6e7-6614-4ca4-8a8d-fee7343544fc",
   "metadata": {},
   "outputs": [
    {
     "data": {
      "text/plain": [
       "(0.059622136130928996,\n",
       " [0.05970972403883934,\n",
       "  0.05945446714758873,\n",
       "  0.06025796756148338,\n",
       "  0.06007489562034607,\n",
       "  0.05851852893829346,\n",
       "  0.059629883617162704,\n",
       "  0.058500271290540695,\n",
       "  0.05993784964084625,\n",
       "  0.05857853218913078,\n",
       "  0.05895112454891205,\n",
       "  0.05956907570362091,\n",
       "  0.059883009642362595,\n",
       "  0.05960804224014282,\n",
       "  0.059217240661382675,\n",
       "  0.06039721518754959,\n",
       "  0.061017993837594986,\n",
       "  0.06017300859093666,\n",
       "  0.060396213084459305,\n",
       "  0.059514369815588,\n",
       "  0.06055770069360733,\n",
       "  0.0602448396384716,\n",
       "  0.05943973362445831,\n",
       "  0.05957671254873276,\n",
       "  0.05968595668673515,\n",
       "  0.05939721316099167,\n",
       "  0.05865190923213959,\n",
       "  0.058121904730796814,\n",
       "  0.060373254120349884,\n",
       "  0.059239331632852554,\n",
       "  0.06001932919025421,\n",
       "  0.05931759253144264,\n",
       "  0.059035733342170715,\n",
       "  0.06129910796880722,\n",
       "  0.05987044423818588,\n",
       "  0.05972221866250038,\n",
       "  0.060376498848199844,\n",
       "  0.05982634797692299,\n",
       "  0.05947359278798103,\n",
       "  0.060355935245752335,\n",
       "  0.05860772356390953,\n",
       "  0.06001404672861099,\n",
       "  0.05905250459909439,\n",
       "  0.05990945175290108,\n",
       "  0.058615755289793015,\n",
       "  0.06003328040242195,\n",
       "  0.05925179645419121,\n",
       "  0.05945870280265808,\n",
       "  0.05990111082792282,\n",
       "  0.05970315262675285,\n",
       "  0.058584511280059814])"
      ]
     },
     "execution_count": 17,
     "metadata": {},
     "output_type": "execute_result"
    }
   ],
   "source": [
    "X_o2 = ['Body_Temp_mul_Duration', 'Duration_mul_Heart_Rate']\n",
    "hparams = {\n",
    "    'model_params': {'n_estimators': 5000, 'colsample_bytree': 0.5, 'learning_rate': 0.01, 'subsample': 0.9, 'max_depth': 8, 'early_stopping_rounds': 300},\n",
    "    'X_num': ['Sex', 'Age', 'Height', 'Weight', 'Duration_log', 'Heart_Rate', 'Body_Temp', 'Heart_Rate_div_Weight_sqrt'] + X_o2, \n",
    "    'validation_fraction': 'oof'\n",
    "}\n",
    "result_xgb = sc.cv_result('xgb_da_ssf50_sb', df_train, ssf50, hparams, config, xgb_adapter, use_gpu = 1, rerun = 0,\n",
    "                     result_proc = partial(sgml.predict_learning_result, df=df_test))\n",
    "np.mean(result_xgb['valid_scores']), result_xgb['valid_scores']"
   ]
  },
  {
   "cell_type": "code",
   "execution_count": 18,
   "id": "2054e178-969d-47e3-a2dc-fe7f62572b0e",
   "metadata": {},
   "outputs": [
    {
     "data": {
      "text/plain": [
       "(0.059555191296287883,\n",
       " [0.05964243618140191,\n",
       "  0.059253224061895114,\n",
       "  0.06044266164369892,\n",
       "  0.06015859833080649,\n",
       "  0.05848991754252254,\n",
       "  0.05925666937307361,\n",
       "  0.05879254680077867,\n",
       "  0.05964691961484383,\n",
       "  0.058386468877192774,\n",
       "  0.05873897646178013,\n",
       "  0.05937971668715145,\n",
       "  0.06031550770266292,\n",
       "  0.05957939140615279,\n",
       "  0.05911447333781476,\n",
       "  0.0603202807775528,\n",
       "  0.06107799587580963,\n",
       "  0.0598996822413904,\n",
       "  0.06004917770643736,\n",
       "  0.05952826704725772,\n",
       "  0.06065419024188999,\n",
       "  0.060240519196051306,\n",
       "  0.059478379675975836,\n",
       "  0.05948225202551691,\n",
       "  0.05965061879272189,\n",
       "  0.05953380029997595,\n",
       "  0.058349545446830464,\n",
       "  0.05808496488714645,\n",
       "  0.059906855657577314,\n",
       "  0.05915870470859298,\n",
       "  0.060173429609749536,\n",
       "  0.059244339189880264,\n",
       "  0.05909465976872529,\n",
       "  0.06119477496996145,\n",
       "  0.0598973204870157,\n",
       "  0.059811490463440725,\n",
       "  0.05973680066335052,\n",
       "  0.05956823848601056,\n",
       "  0.059963268334269425,\n",
       "  0.060154037647002286,\n",
       "  0.05869838840217912,\n",
       "  0.0601062296143608,\n",
       "  0.05896553949098611,\n",
       "  0.0597393546564827,\n",
       "  0.05866292934735614,\n",
       "  0.060076142375756536,\n",
       "  0.05917087485322106,\n",
       "  0.05877810297293385,\n",
       "  0.05967387921545918,\n",
       "  0.05972238900509516,\n",
       "  0.05871463265865485])"
      ]
     },
     "execution_count": 18,
     "metadata": {},
     "output_type": "execute_result"
    }
   ],
   "source": [
    "hparams = {\n",
    "    'model_params': {'max_depth': 7, 'n_estimators': 2000, 'learning_rate': 0.07}, \n",
    "    'X_num': ['Sex', 'Age', 'Height', 'Weight', 'Duration_log', 'Heart_Rate', 'Body_Temp'], \n",
    "}\n",
    "\n",
    "result_cb = sc.cv_result('cb_da_ssf50_sb', df_train, ssf50, hparams, config, cb_adapter, use_gpu = 1, rerun = 0,\n",
    "                     result_proc = partial(sgml.predict_learning_result, df=df_test))\n",
    "np.mean(result_cb['valid_scores']), result_cb['valid_scores']"
   ]
  },
  {
   "cell_type": "markdown",
   "id": "df8d927d-ded6-404a-ac99-bf70d75dcc87",
   "metadata": {},
   "source": [
    "# Ensemble"
   ]
  },
  {
   "cell_type": "code",
   "execution_count": 15,
   "id": "828776aa-741b-415e-9ac8-f04b74b2fd03",
   "metadata": {},
   "outputs": [],
   "source": [
    "pd.concat([\n",
    "    pd.Series(np.vstack(result_xgb['model_result']).mean(axis = 0), index = df_test.index, name = 'xgb'),\n",
    "    pd.Series(np.vstack(result_cb['model_result']).mean(axis = 0), index = df_test.index, name = 'cb')\n",
    "], axis = 1).dot([0.4, 0.6]).pipe(lambda x: (np.exp(x) - 1).clip(lower = 1)).to_csv('result/submission9.csv')"
   ]
  },
  {
   "cell_type": "code",
   "execution_count": 16,
   "id": "93fba7c0-5dd9-49a0-aaca-549352f2f895",
   "metadata": {},
   "outputs": [
    {
     "name": "stdout",
     "output_type": "stream",
     "text": [
      "100%|██████████████████████████████████████| 6.06M/6.06M [00:02<00:00, 2.51MB/s]\n",
      "Successfully submitted to Predict Calorie Expenditure"
     ]
    }
   ],
   "source": [
    "# !kaggle competitions submit -c playground-series-s5e5 -f result/submission9.csv -m \"Ensemble9\""
   ]
  },
  {
   "cell_type": "code",
   "execution_count": 5,
   "id": "75baab74-c532-406a-b8d6-a471a78b32a7",
   "metadata": {},
   "outputs": [
    {
     "data": {
      "text/plain": [
       "(0.05997607246041298,\n",
       " [0.059879906475543976,\n",
       "  0.05963442847132683,\n",
       "  0.060638800263404846,\n",
       "  0.060151517391204834,\n",
       "  0.058605559170246124,\n",
       "  0.059453703463077545,\n",
       "  0.059070851653814316,\n",
       "  0.06016174703836441,\n",
       "  0.058642398566007614,\n",
       "  0.058789581060409546,\n",
       "  0.05931291729211807,\n",
       "  0.06166021525859833,\n",
       "  0.05997556447982788,\n",
       "  0.05918755382299423,\n",
       "  0.06036893278360367,\n",
       "  0.06235136091709137,\n",
       "  0.06029874086380005,\n",
       "  0.06019004061818123,\n",
       "  0.06007293611764908,\n",
       "  0.06064626947045326,\n",
       "  0.06091777980327606,\n",
       "  0.059519823640584946,\n",
       "  0.059815093874931335,\n",
       "  0.05968823656439781,\n",
       "  0.060367852449417114])"
      ]
     },
     "execution_count": 5,
     "metadata": {},
     "output_type": "execute_result"
    }
   ],
   "source": [
    "nn_params = {\n",
    "    'config':  [\n",
    "        {'unit': 64, 'activation': 'swish', 'batch_norm': False},\n",
    "        {'unit': 128, 'activation': 'swish', 'batch_norm': False},\n",
    "        {'unit': 128, 'activation': 'swish', 'batch_norm': False},\n",
    "        {'unit': 64, 'activation': 'swish', 'batch_norm': False},\n",
    "    ]\n",
    "}\n",
    "\n",
    "hparams = {\n",
    "    'model_params': {\n",
    "        'model_params': nn_params,\n",
    "        'epochs': 30,\n",
    "        'optimizer': ('Adam', {'learning_rate': 0.0002}),\n",
    "        'batch_size': 128, 'shuffle_size': 204800,\n",
    "        'early_stopping': None, 'reduce_lr_on_plateau': None, 'lr_scheduler': {'schedule': scheduler}\n",
    "    }, 'X_std': ['Age', 'Height', 'Weight', 'Duration', 'Duration_log', 'Heart_Rate', 'Heart_Rate_sqrt_d', 'Body_Temp'], 'X_num': ['Sex']\n",
    "}\n",
    "\n",
    "result_nn = sc.cv_result('nn_da_ssf25_sb', df_train, ssf25, hparams, config, nn_adapter, rerun = 0,\n",
    "                     result_proc = partial(sgml.predict_learning_result, df=df_test))\n",
    "np.mean(result_nn['valid_scores']), result_nn['valid_scores']"
   ]
  },
  {
   "cell_type": "code",
   "execution_count": 19,
   "id": "f87570eb-911d-4bf6-9ab0-29308c5390a1",
   "metadata": {},
   "outputs": [],
   "source": [
    "pd.concat([\n",
    "    pd.Series(np.vstack(result_xgb['model_result']).mean(axis = 0), index = df_test.index, name = 'xgb'),\n",
    "    pd.Series(np.vstack(result_cb['model_result']).mean(axis = 0), index = df_test.index, name = 'cb'),\n",
    "    pd.Series(np.vstack(result_nn['model_result']).mean(axis = 0), index = df_test.index, name = 'nn')\n",
    "], axis = 1).dot([0.3, 0.4, 0.3]).pipe(lambda x: (np.exp(x) - 1).clip(lower = 1)).to_csv('result/submission10.csv')"
   ]
  },
  {
   "cell_type": "code",
   "execution_count": 20,
   "id": "1ccee064-5a7d-4f9a-9f31-b2befbe489fa",
   "metadata": {},
   "outputs": [
    {
     "name": "stdout",
     "output_type": "stream",
     "text": [
      "100%|██████████████████████████████████████| 6.06M/6.06M [00:02<00:00, 2.58MB/s]\n",
      "Successfully submitted to Predict Calorie Expenditure"
     ]
    }
   ],
   "source": [
    "#!kaggle competitions submit -c playground-series-s5e5 -f result/submission10.csv -m \"Ensemble10\""
   ]
  },
  {
   "cell_type": "code",
   "execution_count": null,
   "id": "cf494c84-b4e3-44cf-b2bc-70be53e9c3c0",
   "metadata": {},
   "outputs": [],
   "source": []
  }
 ],
 "metadata": {
  "kernelspec": {
   "display_name": "Python 3 (ipykernel)",
   "language": "python",
   "name": "python3"
  },
  "language_info": {
   "codemirror_mode": {
    "name": "ipython",
    "version": 3
   },
   "file_extension": ".py",
   "mimetype": "text/x-python",
   "name": "python",
   "nbconvert_exporter": "python",
   "pygments_lexer": "ipython3",
   "version": "3.12.9"
  }
 },
 "nbformat": 4,
 "nbformat_minor": 5
}
