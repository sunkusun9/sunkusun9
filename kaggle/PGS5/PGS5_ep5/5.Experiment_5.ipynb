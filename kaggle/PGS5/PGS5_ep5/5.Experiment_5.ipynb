{
 "cells": [
  {
   "cell_type": "code",
   "execution_count": 2,
   "id": "ee4f1563-e863-42b8-86e6-22122e351e5d",
   "metadata": {},
   "outputs": [
    {
     "name": "stderr",
     "output_type": "stream",
     "text": [
      "2025-05-20 01:31:13.274010: I tensorflow/core/util/port.cc:153] oneDNN custom operations are on. You may see slightly different numerical results due to floating-point round-off errors from different computation orders. To turn them off, set the environment variable `TF_ENABLE_ONEDNN_OPTS=0`.\n",
      "2025-05-20 01:31:13.285114: E external/local_xla/xla/stream_executor/cuda/cuda_fft.cc:467] Unable to register cuFFT factory: Attempting to register factory for plugin cuFFT when one has already been registered\n",
      "WARNING: All log messages before absl::InitializeLog() is called are written to STDERR\n",
      "E0000 00:00:1747672273.298482    3743 cuda_dnn.cc:8579] Unable to register cuDNN factory: Attempting to register factory for plugin cuDNN when one has already been registered\n",
      "E0000 00:00:1747672273.303244    3743 cuda_blas.cc:1407] Unable to register cuBLAS factory: Attempting to register factory for plugin cuBLAS when one has already been registered\n",
      "W0000 00:00:1747672273.313840    3743 computation_placer.cc:177] computation placer already registered. Please check linkage and avoid linking the same target more than once.\n",
      "W0000 00:00:1747672273.313850    3743 computation_placer.cc:177] computation placer already registered. Please check linkage and avoid linking the same target more than once.\n",
      "W0000 00:00:1747672273.313851    3743 computation_placer.cc:177] computation placer already registered. Please check linkage and avoid linking the same target more than once.\n",
      "W0000 00:00:1747672273.313852    3743 computation_placer.cc:177] computation placer already registered. Please check linkage and avoid linking the same target more than once.\n",
      "2025-05-20 01:31:13.317789: I tensorflow/core/platform/cpu_feature_guard.cc:210] This TensorFlow binary is optimized to use available CPU instructions in performance-critical operations.\n",
      "To enable the following instructions: AVX2 AVX_VNNI FMA, in other operations, rebuild TensorFlow with the appropriate compiler flags.\n"
     ]
    }
   ],
   "source": [
    "import sgml, sgutil, sgpp, dproc\n",
    "import pandas as pd\n",
    "import numpy as np\n",
    "import matplotlib.pyplot as plt\n",
    "import seaborn as sns\n",
    "from sklearn.metrics import root_mean_squared_error\n",
    "\n",
    "from proc_v2 import p\n",
    "from ml_v1 import X_cat, X_num, X_all, target, kf, ss, config\n",
    "from ml_v1 import xgb_adapter, lgb_adapter, cb_adapter, lr_adapter, nn_adapter\n",
    "\n",
    "sc = sgutil.SGCache('img', 'result', 'model')\n",
    "df_train = p.fit_transform(['data/train.csv']).assign(\n",
    "    Calories_Log = lambda x: np.log(x['Calories'] + 1)\n",
    ")\n",
    "df_test = p.transform(['data/test.csv'])"
   ]
  },
  {
   "cell_type": "code",
   "execution_count": 3,
   "id": "1bf518d2-35f9-42a3-94bb-298fd9778eb0",
   "metadata": {},
   "outputs": [
    {
     "data": {
      "text/plain": [
       "30"
      ]
     },
     "execution_count": 3,
     "metadata": {},
     "output_type": "execute_result"
    }
   ],
   "source": [
    "df_train['Duration'].nunique()"
   ]
  },
  {
   "cell_type": "code",
   "execution_count": 4,
   "id": "7fc5495e-8dc4-4719-84ed-857f1d4e5c5f",
   "metadata": {},
   "outputs": [
    {
     "data": {
      "text/plain": [
       "63"
      ]
     },
     "execution_count": 4,
     "metadata": {},
     "output_type": "execute_result"
    }
   ],
   "source": [
    "df_train['Heart_Rate'].nunique()"
   ]
  },
  {
   "cell_type": "code",
   "execution_count": 5,
   "id": "b345056d-d049-4e11-aab2-73a7d828da7a",
   "metadata": {},
   "outputs": [
    {
     "data": {
      "text/plain": [
       "75"
      ]
     },
     "execution_count": 5,
     "metadata": {},
     "output_type": "execute_result"
    }
   ],
   "source": [
    "df_train['Body_Temp'].nunique()"
   ]
  },
  {
   "cell_type": "markdown",
   "id": "070b791a-d167-43ae-a574-38d262388fea",
   "metadata": {},
   "source": [
    "# Target Encoder의 효과를 봅니다."
   ]
  },
  {
   "cell_type": "code",
   "execution_count": 23,
   "id": "a4d7d85d-d7f5-4f19-9365-981870f149a2",
   "metadata": {},
   "outputs": [
    {
     "data": {
      "text/plain": [
       "0.12801187"
      ]
     },
     "execution_count": 23,
     "metadata": {},
     "output_type": "execute_result"
    }
   ],
   "source": [
    "df_train.groupby(['Duration', 'Heart_Rate', 'Body_Temp'])[target].agg(\n",
    "    ['mean', 'std', 'size']\n",
    ").query('size >= 50')['std'].mean()"
   ]
  },
  {
   "cell_type": "code",
   "execution_count": 14,
   "id": "68da9980-399d-46b3-b7cc-f37f37fb8dd4",
   "metadata": {},
   "outputs": [
    {
     "data": {
      "text/plain": [
       "0.14161234"
      ]
     },
     "execution_count": 14,
     "metadata": {},
     "output_type": "execute_result"
    }
   ],
   "source": [
    "df_train.groupby(['Duration', 'Heart_Rate'])[target].agg(\n",
    "    ['mean', 'std', 'size']\n",
    ").query('size >= 50')['std'].mean()"
   ]
  },
  {
   "cell_type": "code",
   "execution_count": 15,
   "id": "a7330d43-1616-42dc-b2c0-ccfa834013da",
   "metadata": {},
   "outputs": [
    {
     "data": {
      "text/plain": [
       "0.1881298"
      ]
     },
     "execution_count": 15,
     "metadata": {},
     "output_type": "execute_result"
    }
   ],
   "source": [
    "df_train.groupby(['Duration', 'Body_Temp'])[target].agg(\n",
    "    ['mean', 'std', 'size']\n",
    ").query('size >= 50')['std'].mean()"
   ]
  },
  {
   "cell_type": "code",
   "execution_count": 16,
   "id": "b81b079b-b8eb-4847-8376-0ccc4435f491",
   "metadata": {},
   "outputs": [
    {
     "data": {
      "text/plain": [
       "0.17675276"
      ]
     },
     "execution_count": 16,
     "metadata": {},
     "output_type": "execute_result"
    }
   ],
   "source": [
    "df_train.groupby(['Duration'])[target].agg(\n",
    "    ['mean', 'std', 'size']\n",
    ").query('size >= 50')['std'].mean()"
   ]
  },
  {
   "cell_type": "code",
   "execution_count": 24,
   "id": "d2a45cab-59ea-4acf-b2b9-51b0dd6ff376",
   "metadata": {},
   "outputs": [
    {
     "data": {
      "text/plain": [
       "0.10964416"
      ]
     },
     "execution_count": 24,
     "metadata": {},
     "output_type": "execute_result"
    }
   ],
   "source": [
    "df_train.groupby(['Sex', 'Duration', 'Heart_Rate', 'Body_Temp'])[target].agg(\n",
    "    ['mean', 'std', 'size']\n",
    ").query('size >= 50')['std'].mean()"
   ]
  },
  {
   "cell_type": "code",
   "execution_count": 19,
   "id": "09a64609-aabe-49dd-9f2a-f07b7580fbec",
   "metadata": {},
   "outputs": [
    {
     "data": {
      "text/plain": [
       "0.9575898"
      ]
     },
     "execution_count": 19,
     "metadata": {},
     "output_type": "execute_result"
    }
   ],
   "source": [
    "df_train.groupby(['Height', 'Weight'])[target].agg(\n",
    "    ['mean', 'std', 'size']\n",
    ").query('size >= 50')['std'].mean()"
   ]
  },
  {
   "cell_type": "code",
   "execution_count": 20,
   "id": "a3152524-a140-40fc-9a4e-4b569ac097a3",
   "metadata": {},
   "outputs": [
    {
     "data": {
      "text/plain": [
       "0.9839047"
      ]
     },
     "execution_count": 20,
     "metadata": {},
     "output_type": "execute_result"
    }
   ],
   "source": [
    "df_train.groupby(['Height'])[target].agg(\n",
    "    ['mean', 'std', 'size']\n",
    ").query('size >= 50')['std'].mean()"
   ]
  },
  {
   "cell_type": "code",
   "execution_count": 21,
   "id": "1303b870-cbfe-408c-86fd-e4547a572787",
   "metadata": {},
   "outputs": [
    {
     "data": {
      "text/plain": [
       "1.0028571"
      ]
     },
     "execution_count": 21,
     "metadata": {},
     "output_type": "execute_result"
    }
   ],
   "source": [
    "df_train.groupby(['Weight'])[target].agg(\n",
    "    ['mean', 'std', 'size']\n",
    ").query('size >= 50')['std'].mean()"
   ]
  },
  {
   "cell_type": "code",
   "execution_count": 25,
   "id": "8db52682-e183-4c93-8447-87b1f73a77e8",
   "metadata": {},
   "outputs": [
    {
     "data": {
      "text/plain": [
       "0.9559728"
      ]
     },
     "execution_count": 25,
     "metadata": {},
     "output_type": "execute_result"
    }
   ],
   "source": [
    "df_train.groupby(['Sex', 'Height', 'Weight'])[target].agg(\n",
    "    ['mean', 'std', 'size']\n",
    ").query('size >= 50')['std'].mean()"
   ]
  },
  {
   "cell_type": "code",
   "execution_count": 28,
   "id": "3def6198-5ae2-4eb1-8a05-0b0cdfa55f48",
   "metadata": {},
   "outputs": [],
   "source": [
    "cc = sgpp.CatCombiner2(\n",
    "    [['Sex', 'Duration', 'Heart_Rate', 'Body_Temp'], ['Sex', 'Height', 'Weight']]\n",
    ")\n",
    "df_train = dproc.join_and_assign(\n",
    "    df_train, cc.fit_transform(df_train)\n",
    ")"
   ]
  },
  {
   "cell_type": "code",
   "execution_count": 51,
   "id": "6fda5d84-0199-431d-805b-c6b1c1d3dda9",
   "metadata": {},
   "outputs": [
    {
     "data": {
      "application/vnd.jupyter.widget-view+json": {
       "model_id": "09d552c7bccc4cfa900de01ba10c7ddd",
       "version_major": 2,
       "version_minor": 0
      },
      "text/plain": [
       "Fold:   0%|          | 0/4 [00:00<?, ?it/s]"
      ]
     },
     "metadata": {},
     "output_type": "display_data"
    },
    {
     "data": {
      "text/plain": [
       "{'valid_scores': [0.09580501430537243,\n",
       "  0.09554967334257566,\n",
       "  0.0950815439172017,\n",
       "  0.09612906550500196],\n",
       " 'valid_prd': id\n",
       " 0         4.969359\n",
       " 1         3.597198\n",
       " 2         3.367708\n",
       " 3         4.912362\n",
       " 4         4.977167\n",
       "             ...   \n",
       " 749995    5.349983\n",
       " 749996    4.583249\n",
       " 749997    5.483796\n",
       " 749998    4.662099\n",
       " 749999    4.596092\n",
       " Length: 750000, dtype: float64,\n",
       " 'model_result': [],\n",
       " 'train_scores': [0.09258123041642373,\n",
       "  0.09261837002672306,\n",
       "  0.09272315387427311,\n",
       "  0.09250549421345512],\n",
       " 'hparams': {'X_num': ['Duration_log', 'Age', 'Heart_Rate_sqrt_d'],\n",
       "  'X_tgt': ['Sex__Duration__Heart_Rate__Body_Temp', 'Sex__Height__Weight'],\n",
       "  'tgt': {'smooth': 0.1}}}"
      ]
     },
     "execution_count": 51,
     "metadata": {},
     "output_type": "execute_result"
    }
   ],
   "source": [
    "sgml.cv(df_train, kf, {'X_num': ['Duration_log', 'Age', 'Heart_Rate_sqrt_d'], \n",
    "                       'X_tgt': df_train.columns[-2:].tolist(), 'tgt': {'smooth': 0.1}}, config, lr_adapter)"
   ]
  },
  {
   "cell_type": "code",
   "execution_count": 32,
   "id": "3866f214-309c-4568-8fc7-d862633c9067",
   "metadata": {},
   "outputs": [
    {
     "data": {
      "text/plain": [
       "Index(['Sex__Duration__Heart_Rate__Body_Temp', 'Sex__Height__Weight'], dtype='object')"
      ]
     },
     "execution_count": 32,
     "metadata": {},
     "output_type": "execute_result"
    }
   ],
   "source": []
  },
  {
   "cell_type": "code",
   "execution_count": null,
   "id": "a586f07c-7201-4531-94fb-346cd6067d8e",
   "metadata": {},
   "outputs": [],
   "source": []
  }
 ],
 "metadata": {
  "kernelspec": {
   "display_name": "Python 3 (ipykernel)",
   "language": "python",
   "name": "python3"
  },
  "language_info": {
   "codemirror_mode": {
    "name": "ipython",
    "version": 3
   },
   "file_extension": ".py",
   "mimetype": "text/x-python",
   "name": "python",
   "nbconvert_exporter": "python",
   "pygments_lexer": "ipython3",
   "version": "3.12.9"
  }
 },
 "nbformat": 4,
 "nbformat_minor": 5
}
