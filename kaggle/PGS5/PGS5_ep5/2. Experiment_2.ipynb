{
 "cells": [
  {
   "cell_type": "code",
   "execution_count": 67,
   "id": "0dcfffa6-20a6-4b47-967a-04211eeba910",
   "metadata": {},
   "outputs": [],
   "source": [
    "import sgml, sgutil, sgpp, dproc\n",
    "import pandas as pd\n",
    "import numpy as np\n",
    "import matplotlib.pyplot as plt\n",
    "import seaborn as sns\n",
    "from sklearn.metrics import root_mean_squared_error"
   ]
  },
  {
   "cell_type": "code",
   "execution_count": 2,
   "id": "c9bf4729-ca71-4f25-83f8-7a30f743b7e2",
   "metadata": {},
   "outputs": [],
   "source": [
    "from proc_v1 import p\n",
    "from ml_v1 import X_cat, X_num, X_all, target, kf, ss, config\n",
    "from ml_v1 import xgb_adapter, lgb_adapter, cb_adapter, lr_adapter"
   ]
  },
  {
   "cell_type": "code",
   "execution_count": 9,
   "id": "098fd5d7-3b72-4239-a454-34fdfdca6977",
   "metadata": {},
   "outputs": [],
   "source": [
    "sc = sgutil.SGCache('img', 'result', 'model')\n",
    "df_train = p.fit_transform(['data/train.csv']).assign(\n",
    "    Calories_Log = lambda x: np.log(x['Calories'] + 1)\n",
    ")\n",
    "df_test = p.transform(['data/test.csv'])"
   ]
  },
  {
   "cell_type": "code",
   "execution_count": 5,
   "id": "be6467d8-7229-4163-b5da-6c53ba4f4ac0",
   "metadata": {},
   "outputs": [
    {
     "data": {
      "text/plain": [
       "Index(['Sex', 'Age', 'Height', 'Weight', 'Duration', 'Heart_Rate', 'Body_Temp',\n",
       "       'Calories', 'Duration_log', 'Heart_Rate_div_Weight_sqrt',\n",
       "       'Age_div_Weight_sqrt', 'Body_Temp_div_Heart_Rate', 'Weight_2_Duration'],\n",
       "      dtype='object')"
      ]
     },
     "execution_count": 5,
     "metadata": {},
     "output_type": "execute_result"
    }
   ],
   "source": [
    "df_train.columns"
   ]
  },
  {
   "cell_type": "markdown",
   "id": "161851af-ce6c-4f42-8e07-c5f38eed60ba",
   "metadata": {},
   "source": [
    "# LGB 1\n",
    "\n",
    "- Duration 대신에 Duration_log를 사용하고 나머지 변수를 넣습니다."
   ]
  },
  {
   "cell_type": "code",
   "execution_count": 116,
   "id": "3e80d56a-426c-4919-8823-34bffb71c6e4",
   "metadata": {},
   "outputs": [
    {
     "data": {
      "application/vnd.jupyter.widget-view+json": {
       "model_id": "2b5bd3076e4b4735b2d7eea7ebafe491",
       "version_major": 2,
       "version_minor": 0
      },
      "text/plain": [
       "Fold:   0%|          | 0/4 [00:00<?, ?it/s]"
      ]
     },
     "metadata": {},
     "output_type": "display_data"
    },
    {
     "data": {
      "text/plain": [
       "(0.06019226677386045,\n",
       " [0.06007911150499369,\n",
       "  0.06108536277081935,\n",
       "  0.05890153017031521,\n",
       "  0.060703062649313556])"
      ]
     },
     "execution_count": 116,
     "metadata": {},
     "output_type": "execute_result"
    }
   ],
   "source": [
    "hparams = {\n",
    "    'model_params': {'n_estimators': 2000, 'colsample_bytree': 0.9, 'num_leaves': 63, 'learning_rate': 0.03},\n",
    "    'X_num': ['Sex', 'Age', 'Height', 'Weight', 'Duration_log', 'Heart_Rate', 'Body_Temp'], \n",
    "    #'validation_fraction': 0.1, \n",
    "}\n",
    "result = sc.cv_result('lgb1', df_train, kf, hparams, config, lgb_adapter, rerun = 0)\n",
    "np.mean(result['valid_scores']), result['valid_scores']"
   ]
  },
  {
   "cell_type": "markdown",
   "id": "aa8aeae1-b0cb-45cf-9da8-f83005022146",
   "metadata": {},
   "source": [
    "# LGB 2"
   ]
  },
  {
   "cell_type": "code",
   "execution_count": 121,
   "id": "ae321116-1b3d-464d-b840-e189aed1346c",
   "metadata": {},
   "outputs": [
    {
     "data": {
      "application/vnd.jupyter.widget-view+json": {
       "model_id": "573145c852674b96a448ffd89fd44ffd",
       "version_major": 2,
       "version_minor": 0
      },
      "text/plain": [
       "Fold:   0%|          | 0/4 [00:00<?, ?it/s]"
      ]
     },
     "metadata": {},
     "output_type": "display_data"
    },
    {
     "data": {
      "text/plain": [
       "(0.06020235343334941,\n",
       " [0.06012424687183828,\n",
       "  0.06109689964224183,\n",
       "  0.05889602519069495,\n",
       "  0.060692242028622584])"
      ]
     },
     "execution_count": 121,
     "metadata": {},
     "output_type": "execute_result"
    }
   ],
   "source": [
    "hparams = {\n",
    "    'model_params': {'n_estimators': 2500, 'colsample_bytree': 0.9, 'num_leaves': 7, 'learning_rate': 0.07},\n",
    "    'X_num': ['Sex', 'Age', 'Height', 'Weight', 'Duration_log', 'Heart_Rate', 'Body_Temp'], \n",
    "    #'validation_fraction': 0.1, \n",
    "}\n",
    "result = sc.cv_result('lgb2', df_train, kf, hparams, config, lgb_adapter, rerun = 0)\n",
    "np.mean(result['valid_scores']), result['valid_scores']"
   ]
  },
  {
   "cell_type": "code",
   "execution_count": 122,
   "id": "9be66210-aa9b-49a3-9377-613d3dc66f80",
   "metadata": {},
   "outputs": [
    {
     "data": {
      "text/plain": [
       "0.05982246533502571"
      ]
     },
     "execution_count": 122,
     "metadata": {},
     "output_type": "execute_result"
    }
   ],
   "source": [
    "root_mean_squared_error(\n",
    "    df_train[target],\n",
    "    sc.read_prds(['lgb2', 'lgb1'], index = df_train.index).dot([0.5, 0.5])\n",
    ")"
   ]
  },
  {
   "cell_type": "markdown",
   "id": "90088e2e-ef96-4941-98b1-0c82bf63039c",
   "metadata": {},
   "source": [
    "# CB1"
   ]
  },
  {
   "cell_type": "code",
   "execution_count": 104,
   "id": "b53aac8f-e00a-4d95-8923-352b3e7a0d8d",
   "metadata": {},
   "outputs": [
    {
     "data": {
      "application/vnd.jupyter.widget-view+json": {
       "model_id": "d0e999c3f2f446eb9a3a633cb731b031",
       "version_major": 2,
       "version_minor": 0
      },
      "text/plain": [
       "Fold:   0%|          | 0/4 [00:00<?, ?it/s]"
      ]
     },
     "metadata": {},
     "output_type": "display_data"
    },
    {
     "data": {
      "text/plain": [
       "(0.059661819891972,\n",
       " [0.05942043391561231,\n",
       "  0.060589339037000235,\n",
       "  0.05830634124626922,\n",
       "  0.06033116536900623])"
      ]
     },
     "execution_count": 104,
     "metadata": {},
     "output_type": "execute_result"
    }
   ],
   "source": [
    "hparams = {\n",
    "    'model_params': {'max_depth': 5, 'n_estimators': 2000, 'learning_rate': 0.1}, \n",
    "    'X_num': ['Sex', 'Age', 'Height', 'Weight', 'Duration_log', 'Heart_Rate', 'Body_Temp'], \n",
    "}\n",
    "\n",
    "result = sc.cv_result('cb1', df_train, kf, hparams, config, cb_adapter, rerun = 0)\n",
    "np.mean(result['valid_scores']), result['valid_scores']"
   ]
  },
  {
   "cell_type": "markdown",
   "id": "73eb3116-2ace-4922-83b6-2cee9117f972",
   "metadata": {},
   "source": [
    "# CB2"
   ]
  },
  {
   "cell_type": "code",
   "execution_count": 108,
   "id": "d0973ba4-8af9-4601-a3a9-6755014f459b",
   "metadata": {},
   "outputs": [
    {
     "data": {
      "application/vnd.jupyter.widget-view+json": {
       "model_id": "dba42210792e4fbb8574e888dcbc56e3",
       "version_major": 2,
       "version_minor": 0
      },
      "text/plain": [
       "Fold:   0%|          | 0/4 [00:00<?, ?it/s]"
      ]
     },
     "metadata": {},
     "output_type": "display_data"
    },
    {
     "data": {
      "text/plain": [
       "(0.05967605446748434,\n",
       " [0.05940975474268567,\n",
       "  0.06056260252132592,\n",
       "  0.05843785657515635,\n",
       "  0.060294004030769434])"
      ]
     },
     "execution_count": 108,
     "metadata": {},
     "output_type": "execute_result"
    }
   ],
   "source": [
    "hparams = {\n",
    "    'model_params': {'max_depth': 6, 'n_estimators': 2000, 'learning_rate': 0.1}, \n",
    "    'X_num': ['Sex', 'Age', 'Height', 'Weight', 'Duration_log', 'Heart_Rate', 'Body_Temp'], \n",
    "}\n",
    "\n",
    "result = sc.cv_result('cb2', df_train, kf, hparams, config, cb_adapter, rerun = 0)\n",
    "np.mean(result['valid_scores']), result['valid_scores']"
   ]
  },
  {
   "cell_type": "code",
   "execution_count": 123,
   "id": "36cca583-ac74-4d12-8abc-7497b2daacef",
   "metadata": {},
   "outputs": [
    {
     "data": {
      "text/plain": [
       "0.05949587467354857"
      ]
     },
     "execution_count": 123,
     "metadata": {},
     "output_type": "execute_result"
    }
   ],
   "source": [
    "root_mean_squared_error(\n",
    "    df_train[target],\n",
    "    sc.read_prds(['lgb2', 'lgb1', 'cb1', 'cb2'], index = df_train.index).dot([0.1, 0.1, 0.4, 0.4])\n",
    ")"
   ]
  },
  {
   "cell_type": "code",
   "execution_count": null,
   "id": "2be0d2f1-847d-48b2-80a1-0ce0cf3d9110",
   "metadata": {},
   "outputs": [],
   "source": []
  }
 ],
 "metadata": {
  "kernelspec": {
   "display_name": "Python 3 (ipykernel)",
   "language": "python",
   "name": "python3"
  },
  "language_info": {
   "codemirror_mode": {
    "name": "ipython",
    "version": 3
   },
   "file_extension": ".py",
   "mimetype": "text/x-python",
   "name": "python",
   "nbconvert_exporter": "python",
   "pygments_lexer": "ipython3",
   "version": "3.12.9"
  }
 },
 "nbformat": 4,
 "nbformat_minor": 5
}
