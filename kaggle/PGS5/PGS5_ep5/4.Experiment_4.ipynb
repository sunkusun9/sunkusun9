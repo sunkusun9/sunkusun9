{
 "cells": [
  {
   "cell_type": "code",
   "execution_count": 1,
   "id": "66a1369e-72f3-4c99-9319-3898f633913b",
   "metadata": {},
   "outputs": [
    {
     "name": "stderr",
     "output_type": "stream",
     "text": [
      "2025-05-20 01:15:47.169542: I tensorflow/core/util/port.cc:153] oneDNN custom operations are on. You may see slightly different numerical results due to floating-point round-off errors from different computation orders. To turn them off, set the environment variable `TF_ENABLE_ONEDNN_OPTS=0`.\n",
      "2025-05-20 01:15:47.179407: E external/local_xla/xla/stream_executor/cuda/cuda_fft.cc:467] Unable to register cuFFT factory: Attempting to register factory for plugin cuFFT when one has already been registered\n",
      "WARNING: All log messages before absl::InitializeLog() is called are written to STDERR\n",
      "E0000 00:00:1747671347.189543   51045 cuda_dnn.cc:8579] Unable to register cuDNN factory: Attempting to register factory for plugin cuDNN when one has already been registered\n",
      "E0000 00:00:1747671347.192828   51045 cuda_blas.cc:1407] Unable to register cuBLAS factory: Attempting to register factory for plugin cuBLAS when one has already been registered\n",
      "W0000 00:00:1747671347.201071   51045 computation_placer.cc:177] computation placer already registered. Please check linkage and avoid linking the same target more than once.\n",
      "W0000 00:00:1747671347.201082   51045 computation_placer.cc:177] computation placer already registered. Please check linkage and avoid linking the same target more than once.\n",
      "W0000 00:00:1747671347.201083   51045 computation_placer.cc:177] computation placer already registered. Please check linkage and avoid linking the same target more than once.\n",
      "W0000 00:00:1747671347.201084   51045 computation_placer.cc:177] computation placer already registered. Please check linkage and avoid linking the same target more than once.\n",
      "2025-05-20 01:15:47.204127: I tensorflow/core/platform/cpu_feature_guard.cc:210] This TensorFlow binary is optimized to use available CPU instructions in performance-critical operations.\n",
      "To enable the following instructions: AVX2 AVX_VNNI FMA, in other operations, rebuild TensorFlow with the appropriate compiler flags.\n"
     ]
    }
   ],
   "source": [
    "import sgml, sgutil, sgpp, dproc\n",
    "import pandas as pd\n",
    "import numpy as np\n",
    "import matplotlib.pyplot as plt\n",
    "import seaborn as sns\n",
    "from sklearn.metrics import root_mean_squared_error\n",
    "\n",
    "from proc_v2 import p\n",
    "from ml_v1 import X_cat, X_num, X_all, target, kf, ss, config, scheduler\n",
    "from ml_v1 import xgb_adapter, lgb_adapter, cb_adapter, lr_adapter, nn_adapter\n",
    "\n",
    "sc = sgutil.SGCache('img', 'result', 'model')\n",
    "df_train = p.fit_transform(['data/train.csv']).assign(\n",
    "    Calories_Log = lambda x: np.log(x['Calories'] + 1)\n",
    ")\n",
    "df_test = p.transform(['data/test.csv'])"
   ]
  },
  {
   "cell_type": "markdown",
   "id": "36dc94de-e3ae-41aa-8add-cab547e0bf01",
   "metadata": {},
   "source": [
    "# 검증 방법의 조정 검토\n",
    "\n",
    "Duration이 target에 영향도가 높다는 것은 공감이 됩니다. \n",
    "\n",
    "기존의 경험중에서 검증 방법의 부적합함으로 순위가 낮게 나온적이 있어 조정 검토를 해봅니다.\n",
    "\n",
    "Kaggler의 분석 중에서 Duration의 10 분위구간으로 계층적 분리 사례가 보입니다. \n",
    "\n",
    "Public Leader가 검증보다 좋게 나오니 더 좋은 결과와 기복이 적은 검증을 보여 주는 게 더 적합 검증법이라 생각이 되어 조정을 검토를 위해\n",
    "\n",
    "제시된 검증법의 결과를 살펴봅니다."
   ]
  },
  {
   "cell_type": "code",
   "execution_count": 2,
   "id": "d444497a-a5dd-429a-a428-cb5f73e27bee",
   "metadata": {},
   "outputs": [],
   "source": [
    "from sklearn.model_selection import StratifiedKFold, KFold\n",
    "skf = StratifiedKFold(5, random_state = 123, shuffle = True)\n",
    "kf5 = KFold(5, random_state = 123, shuffle = True)"
   ]
  },
  {
   "cell_type": "code",
   "execution_count": 23,
   "id": "a7d1985c-30e3-4579-afac-0fb6f90144c7",
   "metadata": {},
   "outputs": [],
   "source": [
    "import pandas as pd\n",
    "df_train['duration_bin'] = pd.qcut(df_train['Duration'], q = 10, labels = np.arange(0, 10))"
   ]
  },
  {
   "cell_type": "code",
   "execution_count": 4,
   "id": "cce7145f-30ca-4466-8fa9-b0187bfdcb08",
   "metadata": {},
   "outputs": [
    {
     "data": {
      "text/plain": [
       "(0.0602333072030953, 0.0007964254636918083)"
      ]
     },
     "execution_count": 4,
     "metadata": {},
     "output_type": "execute_result"
    }
   ],
   "source": [
    "result_lgb1_kf4 = sc.read_cv('lgb1')\n",
    "np.mean(result_lgb1_kf4['valid_scores']), np.std(result_lgb1_kf4['valid_scores'])"
   ]
  },
  {
   "cell_type": "code",
   "execution_count": null,
   "id": "7125da18-23ec-4b39-8d9f-0d280372dd93",
   "metadata": {},
   "outputs": [],
   "source": [
    "result = sgml.cv(df_train, skf, result_lgb1_kf4['hparams'], {**config, 'sp_y': 'duration_bin'}, result_lgb1_kf4['adapter'])\n",
    "np.mean(result['valid_scores']), np.std(result['valid_scores'])"
   ]
  },
  {
   "cell_type": "code",
   "execution_count": null,
   "id": "7b2886b8-d639-46af-9d3c-fccf188dc74b",
   "metadata": {},
   "outputs": [],
   "source": [
    "result = sgml.cv(df_train, kf5, result_lgb1_kf4['hparams'], config, result_lgb1_kf4['adapter'])\n",
    "np.mean(result['valid_scores']), np.std(result['valid_scores'])"
   ]
  },
  {
   "cell_type": "markdown",
   "id": "4e07d3a5-9bca-49b0-9924-930338b77aa5",
   "metadata": {},
   "source": [
    "- Kaggler들의 결과와 비교를 위해 5Fold를 기복이 더 적고, Public Score와 유사한 Duration_bin에 대한 계층적 분리를 선택합니다."
   ]
  },
  {
   "cell_type": "markdown",
   "id": "fbd47c28-64a7-4df8-b560-3953eb9d0c6c",
   "metadata": {},
   "source": [
    "## 재학습"
   ]
  },
  {
   "cell_type": "code",
   "execution_count": 10,
   "id": "a7babdcb-b48d-46ac-b6b9-98bd42bde261",
   "metadata": {},
   "outputs": [],
   "source": [
    "for i in ['lgb2', 'lgb1', 'xgb1', 'xgb2', 'cb1', 'cb2', 'cb3', 'cb4', 'nn1', 'nn2']:\n",
    "    result_kf4= sc.read_cv(i)\n",
    "    sc.cv_result(i + '_skf5', df_train, skf, result_kf4['hparams'], {**config, 'sp_y': 'duration_bin'}, result_kf4['adapter'])"
   ]
  },
  {
   "cell_type": "code",
   "execution_count": 25,
   "id": "3e8ef440-6c01-4aa1-aa6e-4f8aefad0892",
   "metadata": {},
   "outputs": [],
   "source": [
    "df_stk = sc.read_prds(\n",
    "    [i + '_skf5' for i in ['lgb2', 'lgb1', 'xgb1', 'xgb2', 'cb1', 'cb2', 'cb3', 'cb4', 'nn1', 'nn2']], index = df_train.index\n",
    ").assign(\n",
    "    Calories_Log = df_train[target],\n",
    "    duration_bin = pd.qcut(df_train['Duration'], q = 10, labels = np.arange(0, 10))\n",
    ")"
   ]
  },
  {
   "cell_type": "code",
   "execution_count": 26,
   "id": "11459f62-1d20-4703-98cc-43c7dff32526",
   "metadata": {},
   "outputs": [
    {
     "data": {
      "application/vnd.jupyter.widget-view+json": {
       "model_id": "783300c84ffd4ece94271b5c3c9a3284",
       "version_major": 2,
       "version_minor": 0
      },
      "text/plain": [
       "Fold:   0%|          | 0/5 [00:00<?, ?it/s]"
      ]
     },
     "metadata": {},
     "output_type": "display_data"
    },
    {
     "data": {
      "text/plain": [
       "0.05905013560776077"
      ]
     },
     "execution_count": 26,
     "metadata": {},
     "output_type": "execute_result"
    }
   ],
   "source": [
    "X_stk = [i + '_skf5' for i in ['lgb2', 'lgb1', 'xgb1', 'xgb2', 'cb1', 'cb2', 'cb3', 'cb4', 'nn1', 'nn2']]\n",
    "hparams = {\n",
    "    'X_num': X_stk\n",
    "}\n",
    "result = sgml.cv(df_stk, skf, hparams, {**config, 'sp_y': 'duration_bin'}, lr_adapter)\n",
    "np.mean(result['valid_scores'])"
   ]
  },
  {
   "cell_type": "code",
   "execution_count": 2,
   "id": "3dcc453b-2363-47f3-91c5-a514f53c8850",
   "metadata": {},
   "outputs": [],
   "source": [
    "from itertools import product\n",
    "\n",
    "X_o2 = ['Body_Temp_mul_Duration', 'Duration_mul_Heart_Rate']"
   ]
  },
  {
   "cell_type": "markdown",
   "id": "bed5636f-dff7-413b-88fb-49131415cf28",
   "metadata": {},
   "source": [
    "## XGB3"
   ]
  },
  {
   "cell_type": "code",
   "execution_count": 4,
   "id": "3ebae296-28e9-49e8-9537-1552a4fa2eaf",
   "metadata": {},
   "outputs": [
    {
     "data": {
      "text/plain": [
       "(0.059901101514697075,\n",
       " [0.0597374327480793,\n",
       "  0.06098819151520729,\n",
       "  0.058511871844530106,\n",
       "  0.0603669099509716])"
      ]
     },
     "execution_count": 4,
     "metadata": {},
     "output_type": "execute_result"
    }
   ],
   "source": [
    "hparams = {\n",
    "    'model_params': {'n_estimators': 1000, 'colsample_bytree': 0.5, 'learning_rate': 0.02, 'subsample': 0.9, 'max_depth': 8},\n",
    "    'X_num': ['Sex', 'Age', 'Height', 'Weight', 'Duration_log', 'Heart_Rate', 'Body_Temp', 'Heart_Rate_div_Weight_sqrt'] + X_o2, \n",
    "    #'validation_fraction': 0.1, \n",
    "}\n",
    "result = sc.cv_result('xgb3', df_train, kf, hparams, config, xgb_adapter, rerun = 0, use_gpu = True)\n",
    "np.mean(result['valid_scores']), result['valid_scores']"
   ]
  },
  {
   "cell_type": "markdown",
   "id": "8cc6d9ec-f671-4d07-8dcb-1e9df01d1168",
   "metadata": {},
   "source": [
    "## LGB3"
   ]
  },
  {
   "cell_type": "code",
   "execution_count": 4,
   "id": "23f9342e-8e06-40e4-a872-40439f6604c9",
   "metadata": {},
   "outputs": [
    {
     "data": {
      "application/vnd.jupyter.widget-view+json": {
       "model_id": "9dd7641e58414b1995a5dd2a40ba5c4d",
       "version_major": 2,
       "version_minor": 0
      },
      "text/plain": [
       "Fold:   0%|          | 0/4 [00:00<?, ?it/s]"
      ]
     },
     "metadata": {},
     "output_type": "display_data"
    },
    {
     "data": {
      "text/plain": [
       "(0.06015547295126207,\n",
       " [0.060088512149218336,\n",
       "  0.06094721375015833,\n",
       "  0.058943984142731706,\n",
       "  0.06064218176293988])"
      ]
     },
     "execution_count": 4,
     "metadata": {},
     "output_type": "execute_result"
    }
   ],
   "source": [
    "hparams = {\n",
    "    'model_params': {'n_estimators': 2300, 'colsample_bytree': 0.5, 'num_leaves': 63, 'learning_rate': 0.03},\n",
    "    'X_num': ['Sex', 'Age', 'Height', 'Weight', 'Duration_log', 'Heart_Rate', 'Body_Temp', 'Heart_Rate_div_Weight_sqrt'] + X_o2, \n",
    "    #'validation_fraction': 0.1, \n",
    "}\n",
    "result = sc.cv_result('lgb3', df_train, kf, hparams, config, lgb_adapter, rerun = 0)\n",
    "np.mean(result['valid_scores']), result['valid_scores']"
   ]
  },
  {
   "cell_type": "markdown",
   "id": "d87654a9-6b5c-45a0-8419-20981adb2e5f",
   "metadata": {},
   "source": [
    "## CB5"
   ]
  },
  {
   "cell_type": "code",
   "execution_count": 17,
   "id": "7130b504-8120-4122-b267-10470f5a8d49",
   "metadata": {},
   "outputs": [
    {
     "data": {
      "application/vnd.jupyter.widget-view+json": {
       "model_id": "da5375994d824b4194914f932a86dc46",
       "version_major": 2,
       "version_minor": 0
      },
      "text/plain": [
       "Fold:   0%|          | 0/4 [00:00<?, ?it/s]"
      ]
     },
     "metadata": {},
     "output_type": "display_data"
    },
    {
     "data": {
      "text/plain": [
       "(0.059683692528551976,\n",
       " [0.05939315987476944,\n",
       "  0.0605820802424876,\n",
       "  0.05846471024896851,\n",
       "  0.060294819747982356])"
      ]
     },
     "execution_count": 17,
     "metadata": {},
     "output_type": "execute_result"
    }
   ],
   "source": [
    "hparams = {\n",
    "    'model_params': {'max_depth': 6, 'n_estimators': 2000, 'learning_rate': 0.07, 'colsample_bylevel': 0.75}, \n",
    "    'X_num': ['Sex', 'Age', 'Height', 'Weight', 'Duration_log', 'Heart_Rate', 'Body_Temp', 'Heart_Rate_div_Weight_sqrt'] + X_o2, \n",
    "}\n",
    "\n",
    "result = sc.cv_result('cb5', df_train, kf, hparams, config, cb_adapter, use_gpu = 0, rerun = 0)\n",
    "np.mean(result['valid_scores']), result['valid_scores']"
   ]
  },
  {
   "cell_type": "markdown",
   "id": "bf572724-b3b5-41d7-b0eb-74ce668d33b3",
   "metadata": {},
   "source": [
    "# Ensemble"
   ]
  },
  {
   "cell_type": "code",
   "execution_count": 18,
   "id": "5b5c7059-13ab-43f0-b9f7-efe93c90212c",
   "metadata": {},
   "outputs": [],
   "source": [
    "df_stk = sc.read_prds(\n",
    "    ['lgb2', 'lgb1', 'lgb3', 'xgb1', 'xgb2', 'xgb3', 'cb1', 'cb2', 'cb3', 'cb4', 'cb5', 'nn1', 'nn2'], index = df_train.index\n",
    ").assign(\n",
    "    Calories_Log = df_train[target]\n",
    ")"
   ]
  },
  {
   "cell_type": "code",
   "execution_count": 19,
   "id": "de424802-dc2e-4e24-8984-696cfe9e0659",
   "metadata": {},
   "outputs": [
    {
     "data": {
      "application/vnd.jupyter.widget-view+json": {
       "model_id": "f089dc76134642d880d6b266f5ff0073",
       "version_major": 2,
       "version_minor": 0
      },
      "text/plain": [
       "Fold:   0%|          | 0/4 [00:00<?, ?it/s]"
      ]
     },
     "metadata": {},
     "output_type": "display_data"
    },
    {
     "data": {
      "text/plain": [
       "0.05931652800963023"
      ]
     },
     "execution_count": 19,
     "metadata": {},
     "output_type": "execute_result"
    }
   ],
   "source": [
    "X_stk = ['lgb2', 'lgb1', 'lgb3', 'xgb1', 'xgb2', 'xgb3', 'cb1', 'cb2', 'cb3', 'cb4', 'cb5', 'nn1', 'nn2']\n",
    "hparams = {\n",
    "    'X_num': X_stk\n",
    "}\n",
    "result = sgml.cv(df_stk, kf, hparams, config, lr_adapter)\n",
    "np.mean(result['valid_scores'])"
   ]
  },
  {
   "cell_type": "code",
   "execution_count": 10,
   "id": "efe2f3ca-dbb1-4d2c-ac8b-bde5e3be34a2",
   "metadata": {},
   "outputs": [],
   "source": [
    "import sgfs"
   ]
  },
  {
   "cell_type": "code",
   "execution_count": 12,
   "id": "cc13b8ef-342a-45e1-bdd0-d18e1e7dcbb2",
   "metadata": {},
   "outputs": [
    {
     "data": {
      "text/plain": [
       "(['cb1', 'xgb3', 'nn1', 'xgb2'],\n",
       " set(),\n",
       " [inf,\n",
       "  0.05943455473528065,\n",
       "  0.05934302580607246,\n",
       "  0.05927327462942142,\n",
       "  0.05926873676502093])"
      ]
     },
     "execution_count": 12,
     "metadata": {},
     "output_type": "execute_result"
    }
   ],
   "source": [
    "sgfs.step_fs_fast(df_stk.assign(const = 1), X_stk, target, [], set(), [np.inf], root_mean_squared_error)"
   ]
  },
  {
   "cell_type": "code",
   "execution_count": 13,
   "id": "b44ae0e8-7ace-4027-976c-8335bf96008d",
   "metadata": {},
   "outputs": [
    {
     "data": {
      "application/vnd.jupyter.widget-view+json": {
       "model_id": "1869988edb4f4305b7b13d5969af6268",
       "version_major": 2,
       "version_minor": 0
      },
      "text/plain": [
       "Fold:   0%|          | 0/4 [00:00<?, ?it/s]"
      ]
     },
     "metadata": {},
     "output_type": "display_data"
    },
    {
     "data": {
      "text/plain": [
       "(0.05935754555891216,\n",
       " [0.05911224449724054,\n",
       "  0.060344899193953125,\n",
       "  0.0580770611722538,\n",
       "  0.059895977372201155])"
      ]
     },
     "execution_count": 13,
     "metadata": {},
     "output_type": "execute_result"
    }
   ],
   "source": [
    "result = sgml.cv(df_stk, kf, {'X_num': ['cb1', 'xgb3', 'nn1', 'xgb2']}, config, lr_adapter)\n",
    "np.mean(result['valid_scores']), result['valid_scores']"
   ]
  },
  {
   "cell_type": "code",
   "execution_count": null,
   "id": "5e17f1e7-3d59-4086-b4fa-03fff68c9a21",
   "metadata": {},
   "outputs": [],
   "source": []
  }
 ],
 "metadata": {
  "kernelspec": {
   "display_name": "Python 3 (ipykernel)",
   "language": "python",
   "name": "python3"
  },
  "language_info": {
   "codemirror_mode": {
    "name": "ipython",
    "version": 3
   },
   "file_extension": ".py",
   "mimetype": "text/x-python",
   "name": "python",
   "nbconvert_exporter": "python",
   "pygments_lexer": "ipython3",
   "version": "3.12.9"
  }
 },
 "nbformat": 4,
 "nbformat_minor": 5
}
