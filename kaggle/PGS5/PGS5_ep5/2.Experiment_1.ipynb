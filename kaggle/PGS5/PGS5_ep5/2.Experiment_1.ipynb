{
 "cells": [
  {
   "cell_type": "code",
   "execution_count": 1,
   "id": "94097410-f9b3-4ee2-adb1-ecae6b2dd654",
   "metadata": {},
   "outputs": [],
   "source": [
    "import sgml, sgutil, sgpp, dproc\n",
    "import pandas as pd\n",
    "import numpy as np"
   ]
  },
  {
   "cell_type": "code",
   "execution_count": 2,
   "id": "998ee42c-a596-4e16-9fd3-ccef9ee73066",
   "metadata": {},
   "outputs": [],
   "source": [
    "from proc_v1 import p\n",
    "from ml_v1 import X_cat, X_num, X_all, target, kf, ss, config\n",
    "from ml_v1 import xgb_adapter, lgb_adapter, cb_adapter, lr_adapter"
   ]
  },
  {
   "cell_type": "code",
   "execution_count": 3,
   "id": "3bde588d-044d-47a3-8731-89557c878acc",
   "metadata": {},
   "outputs": [
    {
     "data": {
      "text/plain": [
       "750000"
      ]
     },
     "execution_count": 3,
     "metadata": {},
     "output_type": "execute_result"
    }
   ],
   "source": [
    "sc = sgutil.SGCache('img', 'result', 'model')\n",
    "df_train = p.fit_transform('data/train.csv').assign(\n",
    "    Calories_Log = lambda x: np.log(x['Calories'] + 1)\n",
    ")\n",
    "df_test = p.transform('data/test.csv')\n",
    "len(df_train)"
   ]
  },
  {
   "cell_type": "markdown",
   "id": "882a096e-bd32-4c81-903a-1acfb4910504",
   "metadata": {},
   "source": [
    "# 1. Polynomial Feature Generation & Selection\n",
    "\n",
    "- 1차, 1 / 1차, 2차, 1차 / 1차, 2차 / 1차, 1차 / 2차, 3차 속성을 만듭니다.\n",
    "- 전체 속성으로 선형 모델을 학습 시키고, 회귀계수를 봅니다.\n",
    "- 다중 공선성으로 인해 회귀계수가 커진 케이스가 확인 됐습니다. VIF를 측정하여 속성을 선별합니다."
   ]
  },
  {
   "cell_type": "code",
   "execution_count": 4,
   "id": "bde7f046-718b-4639-bd8c-5b63d5077280",
   "metadata": {},
   "outputs": [],
   "source": [
    "from itertools import combinations, product\n",
    "\n",
    "X_r = [i + '_r' for i in X_num]\n",
    "X_o2 = [(i + '_2' if i == j else i + '_mul_'+ j, (i, j)) for i, j in product(X_num, X_num) if i <= j]\n",
    "X_1d1 = [(i + '_div_' + j, (i, j)) for i, j in product(X_num, X_num) if i != j]\n",
    "X_o2d1 = [\n",
    "    (i + '_div_' + j, (i, j)) for (i, a), j in product(X_o2, X_num) if j not in a \n",
    "]\n",
    "X_o1d2 = [\n",
    "    (i + '_div_' + j, (i, j)) for i, (j, a) in product(X_num, X_o2) if i not in a \n",
    "]\n",
    "\n",
    "X_o3 = [\n",
    "    (\n",
    "        i + '_3' if i == j and j == k else i + '_2_mul_' + k if i == j else i + '_2_mul_' + k if i == k  else j + '_2_mul_' + i if j == k else i + '_mul_' + j + '_mul_' + k,\n",
    "        (i, j, k)\n",
    "    )\n",
    "    for i, j, k in product(X_num, X_num, X_num) if i <= j and i <= k and j <= k\n",
    "]"
   ]
  },
  {
   "cell_type": "code",
   "execution_count": 5,
   "id": "98f1c7d1-d417-4a3c-ba4e-e9e20ecdeebd",
   "metadata": {},
   "outputs": [
    {
     "data": {
      "text/html": [
       "<div>\n",
       "<style scoped>\n",
       "    .dataframe tbody tr th:only-of-type {\n",
       "        vertical-align: middle;\n",
       "    }\n",
       "\n",
       "    .dataframe tbody tr th {\n",
       "        vertical-align: top;\n",
       "    }\n",
       "\n",
       "    .dataframe thead th {\n",
       "        text-align: right;\n",
       "    }\n",
       "</style>\n",
       "<table border=\"1\" class=\"dataframe\">\n",
       "  <thead>\n",
       "    <tr style=\"text-align: right;\">\n",
       "      <th></th>\n",
       "      <th>Sex</th>\n",
       "      <th>Age</th>\n",
       "      <th>Height</th>\n",
       "      <th>Weight</th>\n",
       "      <th>Duration</th>\n",
       "      <th>Heart_Rate</th>\n",
       "      <th>Body_Temp</th>\n",
       "      <th>Calories</th>\n",
       "      <th>Calories_Log</th>\n",
       "      <th>Age_r</th>\n",
       "      <th>...</th>\n",
       "      <th>Body_Temp_div_Height_2</th>\n",
       "      <th>Body_Temp_div_Height_mul_Weight</th>\n",
       "      <th>Body_Temp_div_Weight_2</th>\n",
       "      <th>Body_Temp_div_Duration_mul_Height</th>\n",
       "      <th>Body_Temp_div_Duration_mul_Weight</th>\n",
       "      <th>Body_Temp_div_Duration_2</th>\n",
       "      <th>Body_Temp_div_Duration_mul_Heart_Rate</th>\n",
       "      <th>Body_Temp_div_Heart_Rate_mul_Height</th>\n",
       "      <th>Body_Temp_div_Heart_Rate_mul_Weight</th>\n",
       "      <th>Body_Temp_div_Heart_Rate_2</th>\n",
       "    </tr>\n",
       "    <tr>\n",
       "      <th>id</th>\n",
       "      <th></th>\n",
       "      <th></th>\n",
       "      <th></th>\n",
       "      <th></th>\n",
       "      <th></th>\n",
       "      <th></th>\n",
       "      <th></th>\n",
       "      <th></th>\n",
       "      <th></th>\n",
       "      <th></th>\n",
       "      <th></th>\n",
       "      <th></th>\n",
       "      <th></th>\n",
       "      <th></th>\n",
       "      <th></th>\n",
       "      <th></th>\n",
       "      <th></th>\n",
       "      <th></th>\n",
       "      <th></th>\n",
       "      <th></th>\n",
       "      <th></th>\n",
       "    </tr>\n",
       "  </thead>\n",
       "  <tbody>\n",
       "    <tr>\n",
       "      <th>0</th>\n",
       "      <td>True</td>\n",
       "      <td>36</td>\n",
       "      <td>189.0</td>\n",
       "      <td>82.0</td>\n",
       "      <td>26.0</td>\n",
       "      <td>101.0</td>\n",
       "      <td>41.000000</td>\n",
       "      <td>150.0</td>\n",
       "      <td>5.017280</td>\n",
       "      <td>0.027778</td>\n",
       "      <td>...</td>\n",
       "      <td>0.001148</td>\n",
       "      <td>0.002646</td>\n",
       "      <td>0.006098</td>\n",
       "      <td>0.008344</td>\n",
       "      <td>0.019231</td>\n",
       "      <td>0.060651</td>\n",
       "      <td>0.015613</td>\n",
       "      <td>0.002148</td>\n",
       "      <td>0.004950</td>\n",
       "      <td>0.004019</td>\n",
       "    </tr>\n",
       "    <tr>\n",
       "      <th>1</th>\n",
       "      <td>False</td>\n",
       "      <td>64</td>\n",
       "      <td>163.0</td>\n",
       "      <td>60.0</td>\n",
       "      <td>8.0</td>\n",
       "      <td>85.0</td>\n",
       "      <td>39.700001</td>\n",
       "      <td>34.0</td>\n",
       "      <td>3.555348</td>\n",
       "      <td>0.015625</td>\n",
       "      <td>...</td>\n",
       "      <td>0.001494</td>\n",
       "      <td>0.004059</td>\n",
       "      <td>0.011028</td>\n",
       "      <td>0.030445</td>\n",
       "      <td>0.082708</td>\n",
       "      <td>0.620313</td>\n",
       "      <td>0.058382</td>\n",
       "      <td>0.002865</td>\n",
       "      <td>0.007784</td>\n",
       "      <td>0.005495</td>\n",
       "    </tr>\n",
       "    <tr>\n",
       "      <th>2</th>\n",
       "      <td>False</td>\n",
       "      <td>51</td>\n",
       "      <td>161.0</td>\n",
       "      <td>64.0</td>\n",
       "      <td>7.0</td>\n",
       "      <td>84.0</td>\n",
       "      <td>39.799999</td>\n",
       "      <td>29.0</td>\n",
       "      <td>3.401197</td>\n",
       "      <td>0.019608</td>\n",
       "      <td>...</td>\n",
       "      <td>0.001535</td>\n",
       "      <td>0.003863</td>\n",
       "      <td>0.009717</td>\n",
       "      <td>0.035315</td>\n",
       "      <td>0.088839</td>\n",
       "      <td>0.812245</td>\n",
       "      <td>0.067687</td>\n",
       "      <td>0.002943</td>\n",
       "      <td>0.007403</td>\n",
       "      <td>0.005641</td>\n",
       "    </tr>\n",
       "    <tr>\n",
       "      <th>3</th>\n",
       "      <td>True</td>\n",
       "      <td>20</td>\n",
       "      <td>192.0</td>\n",
       "      <td>90.0</td>\n",
       "      <td>25.0</td>\n",
       "      <td>105.0</td>\n",
       "      <td>40.700001</td>\n",
       "      <td>140.0</td>\n",
       "      <td>4.948760</td>\n",
       "      <td>0.050000</td>\n",
       "      <td>...</td>\n",
       "      <td>0.001104</td>\n",
       "      <td>0.002355</td>\n",
       "      <td>0.005025</td>\n",
       "      <td>0.008479</td>\n",
       "      <td>0.018089</td>\n",
       "      <td>0.065120</td>\n",
       "      <td>0.015505</td>\n",
       "      <td>0.002019</td>\n",
       "      <td>0.004307</td>\n",
       "      <td>0.003692</td>\n",
       "    </tr>\n",
       "    <tr>\n",
       "      <th>4</th>\n",
       "      <td>False</td>\n",
       "      <td>38</td>\n",
       "      <td>166.0</td>\n",
       "      <td>61.0</td>\n",
       "      <td>25.0</td>\n",
       "      <td>102.0</td>\n",
       "      <td>40.599998</td>\n",
       "      <td>146.0</td>\n",
       "      <td>4.990433</td>\n",
       "      <td>0.026316</td>\n",
       "      <td>...</td>\n",
       "      <td>0.001473</td>\n",
       "      <td>0.004009</td>\n",
       "      <td>0.010911</td>\n",
       "      <td>0.009783</td>\n",
       "      <td>0.026623</td>\n",
       "      <td>0.064960</td>\n",
       "      <td>0.015922</td>\n",
       "      <td>0.002398</td>\n",
       "      <td>0.006525</td>\n",
       "      <td>0.003902</td>\n",
       "    </tr>\n",
       "  </tbody>\n",
       "</table>\n",
       "<p>5 rows × 302 columns</p>\n",
       "</div>"
      ],
      "text/plain": [
       "      Sex  Age  Height  Weight  Duration  Heart_Rate  Body_Temp  Calories  \\\n",
       "id                                                                          \n",
       "0    True   36   189.0    82.0      26.0       101.0  41.000000     150.0   \n",
       "1   False   64   163.0    60.0       8.0        85.0  39.700001      34.0   \n",
       "2   False   51   161.0    64.0       7.0        84.0  39.799999      29.0   \n",
       "3    True   20   192.0    90.0      25.0       105.0  40.700001     140.0   \n",
       "4   False   38   166.0    61.0      25.0       102.0  40.599998     146.0   \n",
       "\n",
       "    Calories_Log     Age_r  ...  Body_Temp_div_Height_2  \\\n",
       "id                          ...                           \n",
       "0       5.017280  0.027778  ...                0.001148   \n",
       "1       3.555348  0.015625  ...                0.001494   \n",
       "2       3.401197  0.019608  ...                0.001535   \n",
       "3       4.948760  0.050000  ...                0.001104   \n",
       "4       4.990433  0.026316  ...                0.001473   \n",
       "\n",
       "    Body_Temp_div_Height_mul_Weight  Body_Temp_div_Weight_2  \\\n",
       "id                                                            \n",
       "0                          0.002646                0.006098   \n",
       "1                          0.004059                0.011028   \n",
       "2                          0.003863                0.009717   \n",
       "3                          0.002355                0.005025   \n",
       "4                          0.004009                0.010911   \n",
       "\n",
       "    Body_Temp_div_Duration_mul_Height  Body_Temp_div_Duration_mul_Weight  \\\n",
       "id                                                                         \n",
       "0                            0.008344                           0.019231   \n",
       "1                            0.030445                           0.082708   \n",
       "2                            0.035315                           0.088839   \n",
       "3                            0.008479                           0.018089   \n",
       "4                            0.009783                           0.026623   \n",
       "\n",
       "    Body_Temp_div_Duration_2  Body_Temp_div_Duration_mul_Heart_Rate  \\\n",
       "id                                                                    \n",
       "0                   0.060651                               0.015613   \n",
       "1                   0.620313                               0.058382   \n",
       "2                   0.812245                               0.067687   \n",
       "3                   0.065120                               0.015505   \n",
       "4                   0.064960                               0.015922   \n",
       "\n",
       "    Body_Temp_div_Heart_Rate_mul_Height  Body_Temp_div_Heart_Rate_mul_Weight  \\\n",
       "id                                                                             \n",
       "0                              0.002148                             0.004950   \n",
       "1                              0.002865                             0.007784   \n",
       "2                              0.002943                             0.007403   \n",
       "3                              0.002019                             0.004307   \n",
       "4                              0.002398                             0.006525   \n",
       "\n",
       "    Body_Temp_div_Heart_Rate_2  \n",
       "id                              \n",
       "0                     0.004019  \n",
       "1                     0.005495  \n",
       "2                     0.005641  \n",
       "3                     0.003692  \n",
       "4                     0.003902  \n",
       "\n",
       "[5 rows x 302 columns]"
      ]
     },
     "execution_count": 5,
     "metadata": {},
     "output_type": "execute_result"
    }
   ],
   "source": [
    "var_list = [(1 / df_train[a]).rename(a + '_r') for a in X_num]\n",
    "var_list.extend([(df_train[a].astype('float32') * df_train[b].astype('float32')).rename(i) for i, (a, b) in X_o2])\n",
    "var_list.extend([(df_train[a].astype('float32') / df_train[b].astype('float32')).rename(i) for i, (a, b) in X_1d1])\n",
    "var_list.extend([(df_train[a].astype('float32') * df_train[b].astype('float32') * df_train[c].astype('float32')).rename(i) for i, (a, b, c) in X_o3])\n",
    "\n",
    "df_sel = dproc.join_and_assign(\n",
    "    df_train,\n",
    "    pd.concat(var_list, axis = 1)\n",
    ")\n",
    "df_sel = dproc.join_and_assign(\n",
    "    df_sel,\n",
    "    pd.concat([(df_sel[a] / df_sel[b]).rename(i) for i, (a, b) in X_o2d1 + X_o1d2], axis = 1)\n",
    ")\n",
    "df_sel.head()"
   ]
  },
  {
   "cell_type": "code",
   "execution_count": 6,
   "id": "097ecd9b-d7b7-4a85-8a05-d115bc61e3f2",
   "metadata": {},
   "outputs": [],
   "source": [
    "X_sel = [i for i in df_sel.columns if i not in ('Calories', 'Calories_Log')]"
   ]
  },
  {
   "cell_type": "code",
   "execution_count": 8,
   "id": "1914f1f9-6c97-4746-b392-0366728e2dbf",
   "metadata": {},
   "outputs": [
    {
     "data": {
      "text/plain": [
       "[0.06812648703351626]"
      ]
     },
     "execution_count": 8,
     "metadata": {},
     "output_type": "execute_result"
    }
   ],
   "source": [
    "result = sgml.cv(df_sel, ss, {'X_std': X_sel}, config, lr_adapter, result_proc = [sgml.lr_learning_result])\n",
    "result['valid_scores']"
   ]
  },
  {
   "cell_type": "code",
   "execution_count": 9,
   "id": "aa9bc337-ad3e-40b1-8586-0f3c203eab72",
   "metadata": {},
   "outputs": [
    {
     "data": {
      "text/plain": [
       "std__Age_mul_Body_Temp      -2679.302825\n",
       "std__Weight_div_Body_Temp   -2300.629808\n",
       "std__Heart_Rate_2           -2001.656839\n",
       "std__Age_div_Body_Temp      -1875.567715\n",
       "std__Body_Temp_mul_Weight   -1743.840844\n",
       "                                ...     \n",
       "std__Height_mul_Weight       2120.526621\n",
       "std__Duration_div_Height     2483.858796\n",
       "std__Duration_mul_Height     2900.983539\n",
       "std__Age                     3205.103881\n",
       "std__Weight                  3328.888549\n",
       "Length: 300, dtype: float64"
      ]
     },
     "execution_count": 9,
     "metadata": {},
     "output_type": "execute_result"
    }
   ],
   "source": [
    "result['model_result'][0]['coef'].sort_values()"
   ]
  },
  {
   "cell_type": "code",
   "execution_count": 10,
   "id": "a914ef02-2c7d-4d5c-98b2-e294c7054d8b",
   "metadata": {},
   "outputs": [
    {
     "data": {
      "application/vnd.jupyter.widget-view+json": {
       "model_id": "6f2fc9ba8d804679accbef4f620381f0",
       "version_major": 2,
       "version_minor": 0
      },
      "text/plain": [
       "Fold:   0%|          | 0/1 [00:00<?, ?it/s]"
      ]
     },
     "metadata": {},
     "output_type": "display_data"
    }
   ],
   "source": [
    "result = sgml.cv(df_sel.sample(frac=0.1), ss, {'X_std': X_sel}, config, lr_adapter, result_proc = [sgml.lr_learning_result])\n",
    "result['valid_scores']"
   ]
  },
  {
   "cell_type": "code",
   "execution_count": 19,
   "id": "ce3e78e9-8601-46e9-b696-d3e872ecf949",
   "metadata": {},
   "outputs": [],
   "source": [
    "from tqdm.notebook import tqdm"
   ]
  },
  {
   "cell_type": "code",
   "execution_count": 22,
   "id": "89f04814-7362-4cbb-a0d4-f32cd7aa238c",
   "metadata": {},
   "outputs": [
    {
     "data": {
      "application/vnd.jupyter.widget-view+json": {
       "model_id": "666380fab229462bb73cb14a1fd45d93",
       "version_major": 2,
       "version_minor": 0
      },
      "text/plain": [
       "  0%|          | 0/300 [00:00<?, ?it/s]"
      ]
     },
     "metadata": {},
     "output_type": "display_data"
    },
    {
     "data": {
      "text/plain": [
       "Body_Temp_2_div_Age                 [0.9630523324012756]\n",
       "Age_div_Body_Temp_2                 [0.9630053639411926]\n",
       "Age_2_div_Heart_Rate                [0.9629924297332764]\n",
       "Weight_div_Height                   [0.9629755616188049]\n",
       "Weight_3                             [0.962936282157898]\n",
       "Weight_2_div_Height                 [0.9629279971122742]\n",
       "Height_div_Weight                   [0.9629268050193787]\n",
       "Height_2_div_Weight                 [0.9628967046737671]\n",
       "Weight_2                            [0.9628810286521912]\n",
       "Weight_div_Height_2                 [0.9628792405128479]\n",
       "Heart_Rate_div_Age_2                [0.9628680348396301]\n",
       "Weight_2_mul_Height                 [0.9628543257713318]\n",
       "Weight                              [0.9628183841705322]\n",
       "Height_div_Weight_2                 [0.9627500772476196]\n",
       "Height_mul_Weight                   [0.9627408981323242]\n",
       "Height_2_mul_Weight                 [0.9627084732055664]\n",
       "Weight_r                            [0.9626862406730652]\n",
       "Sex                                 [0.9626516855941063]\n",
       "Weight_2_mul_Body_Temp              [0.9625654220581055]\n",
       "Body_Temp_div_Age_mul_Weight        [0.9625089168548584]\n",
       "Height_3                            [0.9623920321464539]\n",
       "Height_2                            [0.9623522758483887]\n",
       "Height                              [0.9623147249221802]\n",
       "Height_r                            [0.9622482061386108]\n",
       "Body_Temp_div_Age_mul_Height         [0.962056040763855]\n",
       "Age_mul_Weight_div_Body_Temp        [0.9620186686515808]\n",
       "Body_Temp_mul_Height_mul_Weight     [0.9619618058204651]\n",
       "Age_mul_Height_div_Body_Temp        [0.9616103172302246]\n",
       "Body_Temp_div_Age                    [0.961579442024231]\n",
       "Body_Temp_mul_Height_div_Age        [0.9611683487892151]\n",
       "Body_Temp_mul_Weight_div_Age        [0.9611495137214661]\n",
       "Age_div_Body_Temp                   [0.9611311554908752]\n",
       "Weight_2_mul_Age                    [0.9609058499336243]\n",
       "Age_div_Body_Temp_mul_Weight        [0.9608400464057922]\n",
       "Age_div_Body_Temp_mul_Height        [0.9607471227645874]\n",
       "Weight_2_div_Body_Temp              [0.9605668783187866]\n",
       "Body_Temp_div_Age_2                  [0.960561990737915]\n",
       "Age_mul_Body_Temp_div_Heart_Rate    [0.9602034091949463]\n",
       "Heart_Rate_div_Age_mul_Body_Temp    [0.9601495265960693]\n",
       "Body_Temp_div_Weight_2              [0.9601324796676636]\n",
       "Body_Temp_mul_Weight                [0.9601181745529175]\n",
       "Age_mul_Height_mul_Weight           [0.9600611329078674]\n",
       "Age_2_div_Body_Temp                 [0.9593268036842346]\n",
       "Height_2_mul_Body_Temp              [0.9592100977897644]\n",
       "Height_div_Age_mul_Weight           [0.9591367244720459]\n",
       "Age_mul_Weight                       [0.959069550037384]\n",
       "Height_2_mul_Age                    [0.9588896632194519]\n",
       "Weight_2_div_Age                    [0.9587741494178772]\n",
       "Age_div_Weight_2                    [0.9585145711898804]\n",
       "Height_mul_Weight_div_Body_Temp     [0.9581799507141113]\n",
       "dtype: object"
      ]
     },
     "execution_count": 22,
     "metadata": {},
     "output_type": "execute_result"
    }
   ],
   "source": [
    "s_score1 = pd.Series({\n",
    "    i: sgml.cv(df_sel, ss, {'X_std': [i]}, {**config, 'progress_callback': None}, lr_adapter, result_proc = [sgml.lr_learning_result])['valid_scores'][0]\n",
    "    for i in tqdm(X_sel)\n",
    "})\n",
    "s_score1.sort_values(ascending = False).iloc[:50]"
   ]
  },
  {
   "cell_type": "code",
   "execution_count": 28,
   "id": "abbe907b-0f3c-42e4-8048-a4001e1485ac",
   "metadata": {},
   "outputs": [
    {
     "data": {
      "text/plain": [
       "Body_Temp_3                              0.291039\n",
       "Body_Temp_2                              0.291284\n",
       "Body_Temp                                0.291960\n",
       "Body_Temp_r                              0.294626\n",
       "Duration_div_Body_Temp_2                 0.317725\n",
       "Duration_div_Body_Temp_mul_Heart_Rate    0.319305\n",
       "Duration_div_Body_Temp                   0.322041\n",
       "Duration_div_Heart_Rate                  0.322106\n",
       "Body_Temp_mul_Duration_div_Heart_Rate    0.325333\n",
       "Duration                                 0.326600\n",
       "dtype: float64"
      ]
     },
     "execution_count": 28,
     "metadata": {},
     "output_type": "execute_result"
    }
   ],
   "source": [
    "s_score1.apply(lambda x: x[0]).sort_values().iloc[:10]"
   ]
  },
  {
   "cell_type": "code",
   "execution_count": 26,
   "id": "e7f9ad60-af44-4d39-8ed1-9bdb3422cf58",
   "metadata": {},
   "outputs": [
    {
     "data": {
      "text/plain": [
       "id\n",
       "0         68921.000000\n",
       "1         62570.777344\n",
       "2         63044.789062\n",
       "3         67419.148438\n",
       "4         66923.406250\n",
       "              ...     \n",
       "749995    68417.937500\n",
       "749996    66430.125000\n",
       "749997    68417.937500\n",
       "749998    65450.824219\n",
       "749999    66923.406250\n",
       "Name: Body_Temp_3, Length: 750000, dtype: float32"
      ]
     },
     "execution_count": 26,
     "metadata": {},
     "output_type": "execute_result"
    }
   ],
   "source": [
    "df_sel['Body_Temp_3']"
   ]
  },
  {
   "cell_type": "code",
   "execution_count": 27,
   "id": "fa339318-bb0d-4d92-8b22-097d7d43f566",
   "metadata": {},
   "outputs": [
    {
     "data": {
      "text/plain": [
       "id\n",
       "0         1681.000000\n",
       "1         1576.090088\n",
       "2         1584.039917\n",
       "3         1656.490112\n",
       "4         1648.359863\n",
       "             ...     \n",
       "749995    1672.810181\n",
       "749996    1640.250000\n",
       "749997    1672.810181\n",
       "749998    1624.089966\n",
       "749999    1648.359863\n",
       "Name: Body_Temp_2, Length: 750000, dtype: float32"
      ]
     },
     "execution_count": 27,
     "metadata": {},
     "output_type": "execute_result"
    }
   ],
   "source": [
    "df_sel['Body_Temp_2']"
   ]
  }
 ],
 "metadata": {
  "kernelspec": {
   "display_name": "Python 3 (ipykernel)",
   "language": "python",
   "name": "python3"
  },
  "language_info": {
   "codemirror_mode": {
    "name": "ipython",
    "version": 3
   },
   "file_extension": ".py",
   "mimetype": "text/x-python",
   "name": "python",
   "nbconvert_exporter": "python",
   "pygments_lexer": "ipython3",
   "version": "3.12.9"
  }
 },
 "nbformat": 4,
 "nbformat_minor": 5
}
