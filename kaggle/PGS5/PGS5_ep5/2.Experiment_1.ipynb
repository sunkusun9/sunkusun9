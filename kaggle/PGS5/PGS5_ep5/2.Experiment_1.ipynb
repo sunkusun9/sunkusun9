{
 "cells": [
  {
   "cell_type": "code",
   "execution_count": 1,
   "id": "94097410-f9b3-4ee2-adb1-ecae6b2dd654",
   "metadata": {},
   "outputs": [],
   "source": [
    "import sgml, sgutil, sgpp, dproc\n",
    "import pandas as pd\n",
    "import numpy as np"
   ]
  },
  {
   "cell_type": "code",
   "execution_count": 2,
   "id": "998ee42c-a596-4e16-9fd3-ccef9ee73066",
   "metadata": {},
   "outputs": [],
   "source": [
    "from proc_v1 import p\n",
    "from ml_v1 import X_cat, X_num, X_all, target, kf, ss, config\n",
    "from ml_v1 import xgb_adapter, lgb_adapter, cb_adapter, lr_adapter"
   ]
  },
  {
   "cell_type": "code",
   "execution_count": 3,
   "id": "3bde588d-044d-47a3-8731-89557c878acc",
   "metadata": {},
   "outputs": [
    {
     "data": {
      "text/plain": [
       "750000"
      ]
     },
     "execution_count": 3,
     "metadata": {},
     "output_type": "execute_result"
    }
   ],
   "source": [
    "sc = sgutil.SGCache('img', 'result', 'model')\n",
    "df_train = p.fit_transform('data/train.csv').assign(\n",
    "    Calories_Log = lambda x: np.log(x['Calories'] + 1)\n",
    ")\n",
    "df_test = p.transform('data/test.csv')\n",
    "len(df_train)"
   ]
  },
  {
   "cell_type": "markdown",
   "id": "882a096e-bd32-4c81-903a-1acfb4910504",
   "metadata": {},
   "source": [
    "# 1. Polynomial Feature Generation & Selection\n",
    "\n",
    "- 1차, 1 / 1차, 2차, 1차 / 1차, 2차 / 1차, 1차 / 2차, 3차 속성을 만듭니다.\n",
    "- 전체 속성으로 선형 모델을 학습 시키고, 회귀계수를 봅니다.\n",
    "- 다중 공선성으로 인해 회귀계수가 커진 케이스가 확인 됐습니다. VIF를 측정하여 속성을 선별합니다."
   ]
  },
  {
   "cell_type": "code",
   "execution_count": 4,
   "id": "bde7f046-718b-4639-bd8c-5b63d5077280",
   "metadata": {},
   "outputs": [],
   "source": [
    "from itertools import combinations, product\n",
    "\n",
    "X_r = [i + '_r' for i in X_num]\n",
    "X_o2 = [(i + '_2' if i == j else i + '_mul_'+ j, (i, j)) for i, j in product(X_num, X_num) if i <= j]\n",
    "X_1d1 = [(i + '_div_' + j, (i, j)) for i, j in product(X_num, X_num) if i != j]\n",
    "X_o2d1 = [\n",
    "    (i + '_div_' + j, (i, j)) for (i, a), j in product(X_o2, X_num) if j not in a \n",
    "]\n",
    "X_o1d2 = [\n",
    "    (i + '_div_' + j, (i, j)) for i, (j, a) in product(X_num, X_o2) if i not in a \n",
    "]\n",
    "\n",
    "X_o3 = [\n",
    "    (\n",
    "        i + '_3' if i == j and j == k else i + '_2_mul_' + k if i == j else i + '_2_mul_' + k if i == k  else j + '_2_mul_' + i if j == k else i + '_mul_' + j + '_mul_' + k,\n",
    "        (i, j, k)\n",
    "    )\n",
    "    for i, j, k in product(X_num, X_num, X_num) if i <= j and i <= k and j <= k\n",
    "]"
   ]
  },
  {
   "cell_type": "code",
   "execution_count": 5,
   "id": "98f1c7d1-d417-4a3c-ba4e-e9e20ecdeebd",
   "metadata": {},
   "outputs": [
    {
     "data": {
      "text/html": [
       "<div>\n",
       "<style scoped>\n",
       "    .dataframe tbody tr th:only-of-type {\n",
       "        vertical-align: middle;\n",
       "    }\n",
       "\n",
       "    .dataframe tbody tr th {\n",
       "        vertical-align: top;\n",
       "    }\n",
       "\n",
       "    .dataframe thead th {\n",
       "        text-align: right;\n",
       "    }\n",
       "</style>\n",
       "<table border=\"1\" class=\"dataframe\">\n",
       "  <thead>\n",
       "    <tr style=\"text-align: right;\">\n",
       "      <th></th>\n",
       "      <th>Sex</th>\n",
       "      <th>Age</th>\n",
       "      <th>Height</th>\n",
       "      <th>Weight</th>\n",
       "      <th>Duration</th>\n",
       "      <th>Heart_Rate</th>\n",
       "      <th>Body_Temp</th>\n",
       "      <th>Calories</th>\n",
       "      <th>Calories_Log</th>\n",
       "      <th>Age_r</th>\n",
       "      <th>...</th>\n",
       "      <th>Body_Temp_div_Height_2</th>\n",
       "      <th>Body_Temp_div_Height_mul_Weight</th>\n",
       "      <th>Body_Temp_div_Weight_2</th>\n",
       "      <th>Body_Temp_div_Duration_mul_Height</th>\n",
       "      <th>Body_Temp_div_Duration_mul_Weight</th>\n",
       "      <th>Body_Temp_div_Duration_2</th>\n",
       "      <th>Body_Temp_div_Duration_mul_Heart_Rate</th>\n",
       "      <th>Body_Temp_div_Heart_Rate_mul_Height</th>\n",
       "      <th>Body_Temp_div_Heart_Rate_mul_Weight</th>\n",
       "      <th>Body_Temp_div_Heart_Rate_2</th>\n",
       "    </tr>\n",
       "    <tr>\n",
       "      <th>id</th>\n",
       "      <th></th>\n",
       "      <th></th>\n",
       "      <th></th>\n",
       "      <th></th>\n",
       "      <th></th>\n",
       "      <th></th>\n",
       "      <th></th>\n",
       "      <th></th>\n",
       "      <th></th>\n",
       "      <th></th>\n",
       "      <th></th>\n",
       "      <th></th>\n",
       "      <th></th>\n",
       "      <th></th>\n",
       "      <th></th>\n",
       "      <th></th>\n",
       "      <th></th>\n",
       "      <th></th>\n",
       "      <th></th>\n",
       "      <th></th>\n",
       "      <th></th>\n",
       "    </tr>\n",
       "  </thead>\n",
       "  <tbody>\n",
       "    <tr>\n",
       "      <th>0</th>\n",
       "      <td>True</td>\n",
       "      <td>36</td>\n",
       "      <td>189.0</td>\n",
       "      <td>82.0</td>\n",
       "      <td>26.0</td>\n",
       "      <td>101.0</td>\n",
       "      <td>41.000000</td>\n",
       "      <td>150.0</td>\n",
       "      <td>5.017280</td>\n",
       "      <td>0.027778</td>\n",
       "      <td>...</td>\n",
       "      <td>0.001148</td>\n",
       "      <td>0.002646</td>\n",
       "      <td>0.006098</td>\n",
       "      <td>0.008344</td>\n",
       "      <td>0.019231</td>\n",
       "      <td>0.060651</td>\n",
       "      <td>0.015613</td>\n",
       "      <td>0.002148</td>\n",
       "      <td>0.004950</td>\n",
       "      <td>0.004019</td>\n",
       "    </tr>\n",
       "    <tr>\n",
       "      <th>1</th>\n",
       "      <td>False</td>\n",
       "      <td>64</td>\n",
       "      <td>163.0</td>\n",
       "      <td>60.0</td>\n",
       "      <td>8.0</td>\n",
       "      <td>85.0</td>\n",
       "      <td>39.700001</td>\n",
       "      <td>34.0</td>\n",
       "      <td>3.555348</td>\n",
       "      <td>0.015625</td>\n",
       "      <td>...</td>\n",
       "      <td>0.001494</td>\n",
       "      <td>0.004059</td>\n",
       "      <td>0.011028</td>\n",
       "      <td>0.030445</td>\n",
       "      <td>0.082708</td>\n",
       "      <td>0.620313</td>\n",
       "      <td>0.058382</td>\n",
       "      <td>0.002865</td>\n",
       "      <td>0.007784</td>\n",
       "      <td>0.005495</td>\n",
       "    </tr>\n",
       "    <tr>\n",
       "      <th>2</th>\n",
       "      <td>False</td>\n",
       "      <td>51</td>\n",
       "      <td>161.0</td>\n",
       "      <td>64.0</td>\n",
       "      <td>7.0</td>\n",
       "      <td>84.0</td>\n",
       "      <td>39.799999</td>\n",
       "      <td>29.0</td>\n",
       "      <td>3.401197</td>\n",
       "      <td>0.019608</td>\n",
       "      <td>...</td>\n",
       "      <td>0.001535</td>\n",
       "      <td>0.003863</td>\n",
       "      <td>0.009717</td>\n",
       "      <td>0.035315</td>\n",
       "      <td>0.088839</td>\n",
       "      <td>0.812245</td>\n",
       "      <td>0.067687</td>\n",
       "      <td>0.002943</td>\n",
       "      <td>0.007403</td>\n",
       "      <td>0.005641</td>\n",
       "    </tr>\n",
       "    <tr>\n",
       "      <th>3</th>\n",
       "      <td>True</td>\n",
       "      <td>20</td>\n",
       "      <td>192.0</td>\n",
       "      <td>90.0</td>\n",
       "      <td>25.0</td>\n",
       "      <td>105.0</td>\n",
       "      <td>40.700001</td>\n",
       "      <td>140.0</td>\n",
       "      <td>4.948760</td>\n",
       "      <td>0.050000</td>\n",
       "      <td>...</td>\n",
       "      <td>0.001104</td>\n",
       "      <td>0.002355</td>\n",
       "      <td>0.005025</td>\n",
       "      <td>0.008479</td>\n",
       "      <td>0.018089</td>\n",
       "      <td>0.065120</td>\n",
       "      <td>0.015505</td>\n",
       "      <td>0.002019</td>\n",
       "      <td>0.004307</td>\n",
       "      <td>0.003692</td>\n",
       "    </tr>\n",
       "    <tr>\n",
       "      <th>4</th>\n",
       "      <td>False</td>\n",
       "      <td>38</td>\n",
       "      <td>166.0</td>\n",
       "      <td>61.0</td>\n",
       "      <td>25.0</td>\n",
       "      <td>102.0</td>\n",
       "      <td>40.599998</td>\n",
       "      <td>146.0</td>\n",
       "      <td>4.990433</td>\n",
       "      <td>0.026316</td>\n",
       "      <td>...</td>\n",
       "      <td>0.001473</td>\n",
       "      <td>0.004009</td>\n",
       "      <td>0.010911</td>\n",
       "      <td>0.009783</td>\n",
       "      <td>0.026623</td>\n",
       "      <td>0.064960</td>\n",
       "      <td>0.015922</td>\n",
       "      <td>0.002398</td>\n",
       "      <td>0.006525</td>\n",
       "      <td>0.003902</td>\n",
       "    </tr>\n",
       "  </tbody>\n",
       "</table>\n",
       "<p>5 rows × 302 columns</p>\n",
       "</div>"
      ],
      "text/plain": [
       "      Sex  Age  Height  Weight  Duration  Heart_Rate  Body_Temp  Calories  \\\n",
       "id                                                                          \n",
       "0    True   36   189.0    82.0      26.0       101.0  41.000000     150.0   \n",
       "1   False   64   163.0    60.0       8.0        85.0  39.700001      34.0   \n",
       "2   False   51   161.0    64.0       7.0        84.0  39.799999      29.0   \n",
       "3    True   20   192.0    90.0      25.0       105.0  40.700001     140.0   \n",
       "4   False   38   166.0    61.0      25.0       102.0  40.599998     146.0   \n",
       "\n",
       "    Calories_Log     Age_r  ...  Body_Temp_div_Height_2  \\\n",
       "id                          ...                           \n",
       "0       5.017280  0.027778  ...                0.001148   \n",
       "1       3.555348  0.015625  ...                0.001494   \n",
       "2       3.401197  0.019608  ...                0.001535   \n",
       "3       4.948760  0.050000  ...                0.001104   \n",
       "4       4.990433  0.026316  ...                0.001473   \n",
       "\n",
       "    Body_Temp_div_Height_mul_Weight  Body_Temp_div_Weight_2  \\\n",
       "id                                                            \n",
       "0                          0.002646                0.006098   \n",
       "1                          0.004059                0.011028   \n",
       "2                          0.003863                0.009717   \n",
       "3                          0.002355                0.005025   \n",
       "4                          0.004009                0.010911   \n",
       "\n",
       "    Body_Temp_div_Duration_mul_Height  Body_Temp_div_Duration_mul_Weight  \\\n",
       "id                                                                         \n",
       "0                            0.008344                           0.019231   \n",
       "1                            0.030445                           0.082708   \n",
       "2                            0.035315                           0.088839   \n",
       "3                            0.008479                           0.018089   \n",
       "4                            0.009783                           0.026623   \n",
       "\n",
       "    Body_Temp_div_Duration_2  Body_Temp_div_Duration_mul_Heart_Rate  \\\n",
       "id                                                                    \n",
       "0                   0.060651                               0.015613   \n",
       "1                   0.620313                               0.058382   \n",
       "2                   0.812245                               0.067687   \n",
       "3                   0.065120                               0.015505   \n",
       "4                   0.064960                               0.015922   \n",
       "\n",
       "    Body_Temp_div_Heart_Rate_mul_Height  Body_Temp_div_Heart_Rate_mul_Weight  \\\n",
       "id                                                                             \n",
       "0                              0.002148                             0.004950   \n",
       "1                              0.002865                             0.007784   \n",
       "2                              0.002943                             0.007403   \n",
       "3                              0.002019                             0.004307   \n",
       "4                              0.002398                             0.006525   \n",
       "\n",
       "    Body_Temp_div_Heart_Rate_2  \n",
       "id                              \n",
       "0                     0.004019  \n",
       "1                     0.005495  \n",
       "2                     0.005641  \n",
       "3                     0.003692  \n",
       "4                     0.003902  \n",
       "\n",
       "[5 rows x 302 columns]"
      ]
     },
     "execution_count": 5,
     "metadata": {},
     "output_type": "execute_result"
    }
   ],
   "source": [
    "var_list = [(1 / df_train[a]).rename(a + '_r') for a in X_num]\n",
    "var_list.extend([(df_train[a].astype('float32') * df_train[b].astype('float32')).rename(i) for i, (a, b) in X_o2])\n",
    "var_list.extend([(df_train[a].astype('float32') / df_train[b].astype('float32')).rename(i) for i, (a, b) in X_1d1])\n",
    "var_list.extend([(df_train[a].astype('float32') * df_train[b].astype('float32') * df_train[c].astype('float32')).rename(i) for i, (a, b, c) in X_o3])\n",
    "\n",
    "df_sel = dproc.join_and_assign(\n",
    "    df_train,\n",
    "    pd.concat(var_list, axis = 1)\n",
    ")\n",
    "df_sel = dproc.join_and_assign(\n",
    "    df_sel,\n",
    "    pd.concat([(df_sel[a] / df_sel[b]).rename(i) for i, (a, b) in X_o2d1 + X_o1d2], axis = 1)\n",
    ")\n",
    "df_sel.head()"
   ]
  },
  {
   "cell_type": "code",
   "execution_count": 6,
   "id": "097ecd9b-d7b7-4a85-8a05-d115bc61e3f2",
   "metadata": {},
   "outputs": [],
   "source": [
    "X_sel = [i for i in df_sel.columns if i not in ('Calories', 'Calories_Log')]"
   ]
  },
  {
   "cell_type": "code",
   "execution_count": 7,
   "id": "1b517ba8-a038-46c1-9bd6-0c7318b068d9",
   "metadata": {},
   "outputs": [],
   "source": [
    "from sklearn.preprocessing import StandardScaler \n",
    "df_sel[X_sel] = StandardScaler().fit_transform(df_sel[X_sel])"
   ]
  },
  {
   "cell_type": "code",
   "execution_count": null,
   "id": "1914f1f9-6c97-4746-b392-0366728e2dbf",
   "metadata": {},
   "outputs": [],
   "source": [
    "result = sgml.cv(df_sel, ss, {'X_num': X_sel}, config, lr_adapter, result_proc = [sgml.lr_learning_result])\n",
    "result['valid_scores']"
   ]
  },
  {
   "cell_type": "code",
   "execution_count": null,
   "id": "aa9bc337-ad3e-40b1-8586-0f3c203eab72",
   "metadata": {},
   "outputs": [],
   "source": [
    "result['model_result'][0]['coef'].sort_values()"
   ]
  },
  {
   "cell_type": "markdown",
   "id": "49a6257a-be13-49ca-ba08-7cb47b22a2df",
   "metadata": {},
   "source": [
    "- 변수가 300개라 모든 변수를 가지고 순차적 선택을 하는 것에는 리소스에 무리가 있었습니다.\n",
    "\n",
    "- 이를 보완 하기 위해, 차수가 낮은 것에서 시작하여 높은 것으로 그룹핑하여 추가를 해갑니다."
   ]
  },
  {
   "cell_type": "markdown",
   "id": "8f3e3878-048b-4fcf-9d2d-c12e5d103801",
   "metadata": {},
   "source": [
    "> from cuml.linear_model import LinearRegression as cu_LinearRegression\n",
    "> \n",
    "> lr_c_adapter = sgml.SklearnAdapter(cu_LinearRegression)\n",
    "> \n",
    "> 속도를 높이기 위해 cuml.LinearRegression을 사용해봤지만, 역효과만 있습니다."
   ]
  },
  {
   "cell_type": "code",
   "execution_count": 22,
   "id": "ce3e78e9-8601-46e9-b696-d3e872ecf949",
   "metadata": {},
   "outputs": [],
   "source": [
    "from tqdm.notebook import tqdm\n",
    "def get_rmse(X):\n",
    "    return sgml.cv(df_sel, ss, {'X_num': X}, {**config, 'progress_callback': None}, lr_adapter)['valid_scores'][0]\n",
    "\n",
    "def fs(X, X_ff):\n",
    "    return pd.Series(\n",
    "        {i: get_rmse(X + [i]) for i in X_ff if i not in X}\n",
    "    ).sort_values()\n",
    "def be(X, floated_list):\n",
    "    if len(X) < 2: return pd.Series()\n",
    "    return pd.Series(\n",
    "        {i: get_rmse([j for j in X if j != i]) for i in X[:-1] if i not in floated_list}\n",
    "    ).sort_values()\n",
    "\n",
    "def step_fs(X_, X_selected, floated_list, rmse_list):\n",
    "    while(True):\n",
    "        s_rmse = fs(X_selected, X_)\n",
    "        if len(s_rmse) == 0:\n",
    "            break\n",
    "        if rmse_list[-1] > s_rmse.iloc[0]:\n",
    "            rmse_list.append(s_rmse.iloc[0])\n",
    "            X_selected.append(s_rmse.index[0])\n",
    "            print(\"Selected: {}, RMSE: {}\".format(X_selected[-1], rmse_list[-1]))\n",
    "        else:\n",
    "            break\n",
    "        while(True):\n",
    "            s_rmse = be(X_selected[:-1], floated_list)\n",
    "            if len(s_rmse) > 0 and rmse_list[-1] > s_rmse.iloc[0]:\n",
    "                rmse_list.append(s_rmse.iloc[0])\n",
    "                floated_list.add(s_rmse.index[0])\n",
    "                X_selected = [i for i in X_selected if i != s_rmse.index[0]]\n",
    "                print(\"Excluded: {}, RMSE: {}\".format(X_selected[-1], rmse_list[-1]))\n",
    "            else:\n",
    "                break\n",
    "    return X_selected, floated_list, rmse_list"
   ]
  },
  {
   "cell_type": "code",
   "execution_count": 9,
   "id": "89f04814-7362-4cbb-a0d4-f32cd7aa238c",
   "metadata": {},
   "outputs": [
    {
     "data": {
      "text/plain": [
       "np.float64(0.18064835569722082)"
      ]
     },
     "execution_count": 9,
     "metadata": {},
     "output_type": "execute_result"
    }
   ],
   "source": [
    "X_selected = list()\n",
    "rmse_list = [np.inf]\n",
    "X_ = X_num\n",
    "X_selected, floated_list, rmse_list = sc.cache_result('fs_o1', lambda : step_fs(X_num, X_selected, set(), rmse_list), rerun = 0)\n",
    "rmse_list[-1]"
   ]
  },
  {
   "cell_type": "code",
   "execution_count": 10,
   "id": "abbe907b-0f3c-42e4-8048-a4001e1485ac",
   "metadata": {},
   "outputs": [
    {
     "data": {
      "text/plain": [
       "np.float64(0.11890502541192026)"
      ]
     },
     "execution_count": 10,
     "metadata": {},
     "output_type": "execute_result"
    }
   ],
   "source": [
    "X_selected, floated_list, rmse_list = sc.cache_result(\n",
    "    'fs_r', lambda : step_fs(X_r, X_selected, set(), rmse_list), rerun = 0\n",
    ")\n",
    "rmse_list[-1]"
   ]
  },
  {
   "cell_type": "code",
   "execution_count": 20,
   "id": "e7f9ad60-af44-4d39-8ed1-9bdb3422cf58",
   "metadata": {},
   "outputs": [
    {
     "data": {
      "text/plain": [
       "np.float64(0.08281917544819208)"
      ]
     },
     "execution_count": 20,
     "metadata": {},
     "output_type": "execute_result"
    }
   ],
   "source": [
    "X_selected, floated_list, rmse_list = sc.cache_result(\n",
    "    'fs_o2', lambda : step_fs([i[0] for i in X_o2], X_selected, set(), rmse_list), rerun = 0\n",
    ")\n",
    "rmse_list[-1]"
   ]
  },
  {
   "cell_type": "code",
   "execution_count": null,
   "id": "fa339318-bb0d-4d92-8b22-097d7d43f566",
   "metadata": {},
   "outputs": [
    {
     "name": "stdout",
     "output_type": "stream",
     "text": [
      "Selected: Duration_div_Body_Temp, RMSE: 0.0776620488597596\n",
      "Excluded: Duration_div_Body_Temp, RMSE: 0.07766204753406722\n",
      "Selected: Heart_Rate_div_Weight, RMSE: 0.07718973571763937\n"
     ]
    }
   ],
   "source": [
    "X_selected, floated_list, rmse_list = sc.cache_result(\n",
    "    'fs_1d1', lambda : step_fs([i[0] for i in X_1d1], X_selected, set(), rmse_list), rerun = 1\n",
    ")\n",
    "rmse_list[-1]"
   ]
  },
  {
   "cell_type": "code",
   "execution_count": 83,
   "id": "9bebafb0-35e1-49fd-9af6-5040e382da4a",
   "metadata": {},
   "outputs": [
    {
     "data": {
      "text/plain": [
       "np.float64(0.08358412825458636)"
      ]
     },
     "execution_count": 83,
     "metadata": {},
     "output_type": "execute_result"
    }
   ],
   "source": [
    "X_selected, floated_list, rmse_list = sc.cache_result(\n",
    "    'fs_o2d1', lambda : step_fs([i[0] for i in X_o2d1], X_selected, set(), rmse_list), rerun = 0\n",
    ")\n",
    "rmse_list[-1]"
   ]
  },
  {
   "cell_type": "code",
   "execution_count": 84,
   "id": "a01b4665-f650-4d8a-af4e-4a5bc8b76fbc",
   "metadata": {},
   "outputs": [
    {
     "data": {
      "text/plain": [
       "np.float64(0.08358412825458636)"
      ]
     },
     "execution_count": 84,
     "metadata": {},
     "output_type": "execute_result"
    }
   ],
   "source": [
    "X_selected, floated_list, rmse_list = sc.cache_result(\n",
    "    'fs_o1d2', lambda : step_fs([i[0] for i in X_o1d2], X_selected, set(), rmse_list), rerun = 0\n",
    ")\n",
    "rmse_list[-1]"
   ]
  },
  {
   "cell_type": "code",
   "execution_count": 85,
   "id": "0296670a-ea39-4955-8dbd-bba59a6be1cd",
   "metadata": {},
   "outputs": [
    {
     "data": {
      "text/plain": [
       "np.float64(0.08358412825458636)"
      ]
     },
     "execution_count": 85,
     "metadata": {},
     "output_type": "execute_result"
    }
   ],
   "source": [
    "X_selected, floated_list, rmse_list = sc.cache_result(\n",
    "    'fs_o3', lambda : step_fs([i[0] for i in X_o3], X_selected, set(), rmse_list), rerun = 0\n",
    ")\n",
    "rmse_list[-1]"
   ]
  },
  {
   "cell_type": "code",
   "execution_count": 14,
   "id": "d0d831d9-bfc8-4023-8388-ee5a0c938cd5",
   "metadata": {},
   "outputs": [
    {
     "data": {
      "text/plain": [
       "(['Body_Temp',\n",
       "  'Heart_Rate',\n",
       "  'Duration',\n",
       "  'Height',\n",
       "  'Duration_r',\n",
       "  'Heart_Rate_r',\n",
       "  'Body_Temp_r',\n",
       "  'Weight_r',\n",
       "  'Age_r',\n",
       "  'Duration_2',\n",
       "  'Age_mul_Weight',\n",
       "  'Heart_Rate_mul_Height',\n",
       "  'Age_mul_Heart_Rate',\n",
       "  'Body_Temp_mul_Duration',\n",
       "  'Duration_mul_Weight',\n",
       "  'Duration_mul_Height',\n",
       "  'Body_Temp_mul_Weight',\n",
       "  'Weight_2',\n",
       "  'Body_Temp_mul_Height',\n",
       "  'Heart_Rate_mul_Weight',\n",
       "  'Heart_Rate_2',\n",
       "  'Age_mul_Height',\n",
       "  'Age_mul_Body_Temp',\n",
       "  'Age_2',\n",
       "  'Age_mul_Duration',\n",
       "  'Height_mul_Weight'],\n",
       " [inf,\n",
       "  np.float64(0.29196013462209186),\n",
       "  np.float64(0.2156951337506078),\n",
       "  np.float64(0.19719277658388445),\n",
       "  np.float64(0.1811255747608456),\n",
       "  np.float64(0.18064878864449152),\n",
       "  np.float64(0.18064835569722082),\n",
       "  np.float64(0.1368928785348389),\n",
       "  np.float64(0.1368888058883413),\n",
       "  np.float64(0.12458855799487811),\n",
       "  np.float64(0.1245853566860645),\n",
       "  np.float64(0.12053494384148174),\n",
       "  np.float64(0.11940880647281166),\n",
       "  np.float64(0.11911921746192301),\n",
       "  np.float64(0.11890502541192026),\n",
       "  np.float64(0.09991557632288962),\n",
       "  np.float64(0.09251794115924752),\n",
       "  np.float64(0.09251669636095722),\n",
       "  np.float64(0.08755931181269137),\n",
       "  np.float64(0.08522282331413326),\n",
       "  np.float64(0.08436053514347015),\n",
       "  np.float64(0.08414776362924367),\n",
       "  np.float64(0.08393712716620925),\n",
       "  np.float64(0.08360011148445262),\n",
       "  np.float64(0.08344995698395236),\n",
       "  np.float64(0.08324588003745285),\n",
       "  np.float64(0.08306332776765715),\n",
       "  np.float64(0.08296353620169711),\n",
       "  np.float64(0.08288226202283705),\n",
       "  np.float64(0.08282164138608324),\n",
       "  np.float64(0.08282094097163557),\n",
       "  np.float64(0.08281956331457845),\n",
       "  np.float64(0.08281919103255396),\n",
       "  np.float64(0.08281917544819208)])"
      ]
     },
     "execution_count": 14,
     "metadata": {},
     "output_type": "execute_result"
    }
   ],
   "source": [
    "X_selected, rmse_list"
   ]
  },
  {
   "cell_type": "code",
   "execution_count": 15,
   "id": "6879f747-a5f3-4f37-a14f-959aea7e7052",
   "metadata": {},
   "outputs": [
    {
     "data": {
      "application/vnd.jupyter.widget-view+json": {
       "model_id": "",
       "version_major": 2,
       "version_minor": 0
      },
      "text/plain": [
       "Fold:   0%|          | 0/1 [00:00<?, ?it/s]"
      ]
     },
     "metadata": {},
     "output_type": "display_data"
    },
    {
     "data": {
      "text/plain": [
       "[np.float64(0.08281917544819205)]"
      ]
     },
     "execution_count": 15,
     "metadata": {},
     "output_type": "execute_result"
    }
   ],
   "source": [
    "result = sgml.cv(df_sel, ss, {'X_num': X_selected}, config, lr_adapter, result_proc = [sgml.lr_learning_result])\n",
    "result['valid_scores']"
   ]
  },
  {
   "cell_type": "code",
   "execution_count": 75,
   "id": "45e1a7d0-3586-4dca-9f06-dd768bf64894",
   "metadata": {},
   "outputs": [
    {
     "data": {
      "text/plain": [
       "Body_Temp_r      -1.667618\n",
       "Body_Temp        -1.596018\n",
       "Duration_2       -0.484186\n",
       "Heart_Rate_r     -0.264925\n",
       "Duration_r       -0.135189\n",
       "Age              -0.114819\n",
       "Age_r            -0.026699\n",
       "Heart_Rate       -0.024870\n",
       "Height_r         -0.008415\n",
       "Height           -0.001109\n",
       "Weight_r          0.115493\n",
       "Age_mul_Weight    0.220618\n",
       "Duration          1.024658\n",
       "dtype: float64"
      ]
     },
     "execution_count": 75,
     "metadata": {},
     "output_type": "execute_result"
    }
   ],
   "source": [
    "result['model_result'][0]['coef'].sort_values()"
   ]
  },
  {
   "cell_type": "code",
   "execution_count": null,
   "id": "3fc596fb-f3cf-4672-91a8-4414d1d317d5",
   "metadata": {},
   "outputs": [],
   "source": [
    "- 다중공선성을 VIF"
   ]
  }
 ],
 "metadata": {
  "kernelspec": {
   "display_name": "Python 3 (ipykernel)",
   "language": "python",
   "name": "python3"
  },
  "language_info": {
   "codemirror_mode": {
    "name": "ipython",
    "version": 3
   },
   "file_extension": ".py",
   "mimetype": "text/x-python",
   "name": "python",
   "nbconvert_exporter": "python",
   "pygments_lexer": "ipython3",
   "version": "3.12.6"
  }
 },
 "nbformat": 4,
 "nbformat_minor": 5
}
