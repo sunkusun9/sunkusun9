{
 "cells": [
  {
   "cell_type": "code",
   "execution_count": 1,
   "id": "94097410-f9b3-4ee2-adb1-ecae6b2dd654",
   "metadata": {},
   "outputs": [],
   "source": [
    "import sgml, sgutil, sgpp, dproc\n",
    "import pandas as pd\n",
    "import numpy as np\n",
    "import matplotlib.pyplot as plt\n",
    "import seaborn as sns"
   ]
  },
  {
   "cell_type": "code",
   "execution_count": 2,
   "id": "998ee42c-a596-4e16-9fd3-ccef9ee73066",
   "metadata": {},
   "outputs": [],
   "source": [
    "from proc_v1 import p\n",
    "from ml_v1 import X_cat, X_num, X_all, target, kf, ss, config\n",
    "from ml_v1 import xgb_adapter, lgb_adapter, cb_adapter, lr_adapter"
   ]
  },
  {
   "cell_type": "code",
   "execution_count": 3,
   "id": "3bde588d-044d-47a3-8731-89557c878acc",
   "metadata": {},
   "outputs": [
    {
     "data": {
      "text/plain": [
       "750000"
      ]
     },
     "execution_count": 3,
     "metadata": {},
     "output_type": "execute_result"
    }
   ],
   "source": [
    "sc = sgutil.SGCache('img', 'result', 'model')\n",
    "df_train = p.fit_transform('data/train.csv').assign(\n",
    "    Calories_Log = lambda x: np.log(x['Calories'] + 1)\n",
    ")\n",
    "df_test = p.transform('data/test.csv')\n",
    "len(df_train)"
   ]
  },
  {
   "cell_type": "markdown",
   "id": "882a096e-bd32-4c81-903a-1acfb4910504",
   "metadata": {},
   "source": [
    "# 1. Polynomial Feature Generation & Selection\n",
    "\n",
    "- 1차, 1 / 1차, 2차, 1차 / 1차, 2차 / 1차, 1차 / 2차, 3차 속성을 만듭니다.\n",
    "- 전체 속성으로 선형 모델을 학습 시키고, 회귀계수를 봅니다.\n",
    "- 다중 공선성으로 인해 회귀계수가 커진 케이스가 확인 됐습니다. VIF를 측정하여 속성을 선별합니다."
   ]
  },
  {
   "cell_type": "code",
   "execution_count": 4,
   "id": "bde7f046-718b-4639-bd8c-5b63d5077280",
   "metadata": {},
   "outputs": [],
   "source": [
    "from itertools import combinations, product\n",
    "\n",
    "X_r = [i + '_r' for i in X_num]\n",
    "X_o2 = [(i + '_2' if i == j else i + '_mul_'+ j, (i, j)) for i, j in product(X_num, X_num) if i <= j]\n",
    "X_1d1 = [(i + '_div_' + j, (i, j)) for i, j in product(X_num, X_num) if i != j]\n",
    "X_o2d1 = [\n",
    "    (i + '_div_' + j, (i, j)) for (i, a), j in product(X_o2, X_num) if j not in a \n",
    "]\n",
    "X_o1d2 = [\n",
    "    (i + '_div_' + j, (i, j)) for i, (j, a) in product(X_num, X_o2) if i not in a \n",
    "]\n",
    "\n",
    "X_o3 = [\n",
    "    (\n",
    "        i + '_3' if i == j and j == k else i + '_2_mul_' + k if i == j else i + '_2_mul_' + j if i == k  else j + '_2_mul_' + i if j == k else i + '_mul_' + j + '_mul_' + k,\n",
    "        (i, j, k)\n",
    "    )\n",
    "    for i, j, k in product(X_num, X_num, X_num) if i <= j and i <= k and j <= k\n",
    "]"
   ]
  },
  {
   "cell_type": "code",
   "execution_count": 5,
   "id": "98f1c7d1-d417-4a3c-ba4e-e9e20ecdeebd",
   "metadata": {},
   "outputs": [
    {
     "data": {
      "text/html": [
       "<div>\n",
       "<style scoped>\n",
       "    .dataframe tbody tr th:only-of-type {\n",
       "        vertical-align: middle;\n",
       "    }\n",
       "\n",
       "    .dataframe tbody tr th {\n",
       "        vertical-align: top;\n",
       "    }\n",
       "\n",
       "    .dataframe thead th {\n",
       "        text-align: right;\n",
       "    }\n",
       "</style>\n",
       "<table border=\"1\" class=\"dataframe\">\n",
       "  <thead>\n",
       "    <tr style=\"text-align: right;\">\n",
       "      <th></th>\n",
       "      <th>Sex</th>\n",
       "      <th>Age</th>\n",
       "      <th>Height</th>\n",
       "      <th>Weight</th>\n",
       "      <th>Duration</th>\n",
       "      <th>Heart_Rate</th>\n",
       "      <th>Body_Temp</th>\n",
       "      <th>Calories</th>\n",
       "      <th>Calories_Log</th>\n",
       "      <th>Age_r</th>\n",
       "      <th>...</th>\n",
       "      <th>Body_Temp_div_Height_mul_Weight</th>\n",
       "      <th>Body_Temp_div_Weight_2</th>\n",
       "      <th>Body_Temp_div_Duration_mul_Height</th>\n",
       "      <th>Body_Temp_div_Duration_mul_Weight</th>\n",
       "      <th>Body_Temp_div_Duration_2</th>\n",
       "      <th>Body_Temp_div_Duration_mul_Heart_Rate</th>\n",
       "      <th>Body_Temp_div_Heart_Rate_mul_Height</th>\n",
       "      <th>Body_Temp_div_Heart_Rate_mul_Weight</th>\n",
       "      <th>Body_Temp_div_Heart_Rate_2</th>\n",
       "      <th>const</th>\n",
       "    </tr>\n",
       "    <tr>\n",
       "      <th>id</th>\n",
       "      <th></th>\n",
       "      <th></th>\n",
       "      <th></th>\n",
       "      <th></th>\n",
       "      <th></th>\n",
       "      <th></th>\n",
       "      <th></th>\n",
       "      <th></th>\n",
       "      <th></th>\n",
       "      <th></th>\n",
       "      <th></th>\n",
       "      <th></th>\n",
       "      <th></th>\n",
       "      <th></th>\n",
       "      <th></th>\n",
       "      <th></th>\n",
       "      <th></th>\n",
       "      <th></th>\n",
       "      <th></th>\n",
       "      <th></th>\n",
       "      <th></th>\n",
       "    </tr>\n",
       "  </thead>\n",
       "  <tbody>\n",
       "    <tr>\n",
       "      <th>0</th>\n",
       "      <td>True</td>\n",
       "      <td>36</td>\n",
       "      <td>189.0</td>\n",
       "      <td>82.0</td>\n",
       "      <td>26.0</td>\n",
       "      <td>101.0</td>\n",
       "      <td>41.000000</td>\n",
       "      <td>150.0</td>\n",
       "      <td>5.017280</td>\n",
       "      <td>0.027778</td>\n",
       "      <td>...</td>\n",
       "      <td>0.002646</td>\n",
       "      <td>0.006098</td>\n",
       "      <td>0.008344</td>\n",
       "      <td>0.019231</td>\n",
       "      <td>0.060651</td>\n",
       "      <td>0.015613</td>\n",
       "      <td>0.002148</td>\n",
       "      <td>0.004950</td>\n",
       "      <td>0.004019</td>\n",
       "      <td>1</td>\n",
       "    </tr>\n",
       "    <tr>\n",
       "      <th>1</th>\n",
       "      <td>False</td>\n",
       "      <td>64</td>\n",
       "      <td>163.0</td>\n",
       "      <td>60.0</td>\n",
       "      <td>8.0</td>\n",
       "      <td>85.0</td>\n",
       "      <td>39.700001</td>\n",
       "      <td>34.0</td>\n",
       "      <td>3.555348</td>\n",
       "      <td>0.015625</td>\n",
       "      <td>...</td>\n",
       "      <td>0.004059</td>\n",
       "      <td>0.011028</td>\n",
       "      <td>0.030445</td>\n",
       "      <td>0.082708</td>\n",
       "      <td>0.620313</td>\n",
       "      <td>0.058382</td>\n",
       "      <td>0.002865</td>\n",
       "      <td>0.007784</td>\n",
       "      <td>0.005495</td>\n",
       "      <td>1</td>\n",
       "    </tr>\n",
       "    <tr>\n",
       "      <th>2</th>\n",
       "      <td>False</td>\n",
       "      <td>51</td>\n",
       "      <td>161.0</td>\n",
       "      <td>64.0</td>\n",
       "      <td>7.0</td>\n",
       "      <td>84.0</td>\n",
       "      <td>39.799999</td>\n",
       "      <td>29.0</td>\n",
       "      <td>3.401197</td>\n",
       "      <td>0.019608</td>\n",
       "      <td>...</td>\n",
       "      <td>0.003863</td>\n",
       "      <td>0.009717</td>\n",
       "      <td>0.035315</td>\n",
       "      <td>0.088839</td>\n",
       "      <td>0.812245</td>\n",
       "      <td>0.067687</td>\n",
       "      <td>0.002943</td>\n",
       "      <td>0.007403</td>\n",
       "      <td>0.005641</td>\n",
       "      <td>1</td>\n",
       "    </tr>\n",
       "    <tr>\n",
       "      <th>3</th>\n",
       "      <td>True</td>\n",
       "      <td>20</td>\n",
       "      <td>192.0</td>\n",
       "      <td>90.0</td>\n",
       "      <td>25.0</td>\n",
       "      <td>105.0</td>\n",
       "      <td>40.700001</td>\n",
       "      <td>140.0</td>\n",
       "      <td>4.948760</td>\n",
       "      <td>0.050000</td>\n",
       "      <td>...</td>\n",
       "      <td>0.002355</td>\n",
       "      <td>0.005025</td>\n",
       "      <td>0.008479</td>\n",
       "      <td>0.018089</td>\n",
       "      <td>0.065120</td>\n",
       "      <td>0.015505</td>\n",
       "      <td>0.002019</td>\n",
       "      <td>0.004307</td>\n",
       "      <td>0.003692</td>\n",
       "      <td>1</td>\n",
       "    </tr>\n",
       "    <tr>\n",
       "      <th>4</th>\n",
       "      <td>False</td>\n",
       "      <td>38</td>\n",
       "      <td>166.0</td>\n",
       "      <td>61.0</td>\n",
       "      <td>25.0</td>\n",
       "      <td>102.0</td>\n",
       "      <td>40.599998</td>\n",
       "      <td>146.0</td>\n",
       "      <td>4.990433</td>\n",
       "      <td>0.026316</td>\n",
       "      <td>...</td>\n",
       "      <td>0.004009</td>\n",
       "      <td>0.010911</td>\n",
       "      <td>0.009783</td>\n",
       "      <td>0.026623</td>\n",
       "      <td>0.064960</td>\n",
       "      <td>0.015922</td>\n",
       "      <td>0.002398</td>\n",
       "      <td>0.006525</td>\n",
       "      <td>0.003902</td>\n",
       "      <td>1</td>\n",
       "    </tr>\n",
       "  </tbody>\n",
       "</table>\n",
       "<p>5 rows × 303 columns</p>\n",
       "</div>"
      ],
      "text/plain": [
       "      Sex  Age  Height  Weight  Duration  Heart_Rate  Body_Temp  Calories  \\\n",
       "id                                                                          \n",
       "0    True   36   189.0    82.0      26.0       101.0  41.000000     150.0   \n",
       "1   False   64   163.0    60.0       8.0        85.0  39.700001      34.0   \n",
       "2   False   51   161.0    64.0       7.0        84.0  39.799999      29.0   \n",
       "3    True   20   192.0    90.0      25.0       105.0  40.700001     140.0   \n",
       "4   False   38   166.0    61.0      25.0       102.0  40.599998     146.0   \n",
       "\n",
       "    Calories_Log     Age_r  ...  Body_Temp_div_Height_mul_Weight  \\\n",
       "id                          ...                                    \n",
       "0       5.017280  0.027778  ...                         0.002646   \n",
       "1       3.555348  0.015625  ...                         0.004059   \n",
       "2       3.401197  0.019608  ...                         0.003863   \n",
       "3       4.948760  0.050000  ...                         0.002355   \n",
       "4       4.990433  0.026316  ...                         0.004009   \n",
       "\n",
       "    Body_Temp_div_Weight_2  Body_Temp_div_Duration_mul_Height  \\\n",
       "id                                                              \n",
       "0                 0.006098                           0.008344   \n",
       "1                 0.011028                           0.030445   \n",
       "2                 0.009717                           0.035315   \n",
       "3                 0.005025                           0.008479   \n",
       "4                 0.010911                           0.009783   \n",
       "\n",
       "    Body_Temp_div_Duration_mul_Weight  Body_Temp_div_Duration_2  \\\n",
       "id                                                                \n",
       "0                            0.019231                  0.060651   \n",
       "1                            0.082708                  0.620313   \n",
       "2                            0.088839                  0.812245   \n",
       "3                            0.018089                  0.065120   \n",
       "4                            0.026623                  0.064960   \n",
       "\n",
       "    Body_Temp_div_Duration_mul_Heart_Rate  \\\n",
       "id                                          \n",
       "0                                0.015613   \n",
       "1                                0.058382   \n",
       "2                                0.067687   \n",
       "3                                0.015505   \n",
       "4                                0.015922   \n",
       "\n",
       "    Body_Temp_div_Heart_Rate_mul_Height  Body_Temp_div_Heart_Rate_mul_Weight  \\\n",
       "id                                                                             \n",
       "0                              0.002148                             0.004950   \n",
       "1                              0.002865                             0.007784   \n",
       "2                              0.002943                             0.007403   \n",
       "3                              0.002019                             0.004307   \n",
       "4                              0.002398                             0.006525   \n",
       "\n",
       "    Body_Temp_div_Heart_Rate_2  const  \n",
       "id                                     \n",
       "0                     0.004019      1  \n",
       "1                     0.005495      1  \n",
       "2                     0.005641      1  \n",
       "3                     0.003692      1  \n",
       "4                     0.003902      1  \n",
       "\n",
       "[5 rows x 303 columns]"
      ]
     },
     "execution_count": 5,
     "metadata": {},
     "output_type": "execute_result"
    }
   ],
   "source": [
    "var_list = [(1 / df_train[a]).rename(a + '_r') for a in X_num]\n",
    "var_list.extend([(df_train[a].astype('float32') * df_train[b].astype('float32')).rename(i) for i, (a, b) in X_o2])\n",
    "var_list.extend([(df_train[a].astype('float32') / df_train[b].astype('float32')).rename(i) for i, (a, b) in X_1d1])\n",
    "var_list.extend([(df_train[a].astype('float32') * df_train[b].astype('float32') * df_train[c].astype('float32')).rename(i) for i, (a, b, c) in X_o3])\n",
    "\n",
    "df_sel = dproc.join_and_assign(\n",
    "    df_train,\n",
    "    pd.concat(var_list, axis = 1)\n",
    ")\n",
    "df_sel = dproc.join_and_assign(\n",
    "    df_sel,\n",
    "    pd.concat([(df_sel[a] / df_sel[b]).rename(i) for i, (a, b) in X_o2d1 + X_o1d2], axis = 1)\n",
    ").assign(\n",
    "    const = 1\n",
    ")\n",
    "df_sel.head()"
   ]
  },
  {
   "cell_type": "code",
   "execution_count": 6,
   "id": "097ecd9b-d7b7-4a85-8a05-d115bc61e3f2",
   "metadata": {},
   "outputs": [],
   "source": [
    "X_sel = [i for i in df_sel.columns if i not in ('Calories', 'Calories_Log', 'const')]"
   ]
  },
  {
   "cell_type": "code",
   "execution_count": 9,
   "id": "1914f1f9-6c97-4746-b392-0366728e2dbf",
   "metadata": {},
   "outputs": [
    {
     "data": {
      "application/vnd.jupyter.widget-view+json": {
       "model_id": "01f9f909e8224cbd9883d2c4a92f52da",
       "version_major": 2,
       "version_minor": 0
      },
      "text/plain": [
       "Fold:   0%|          | 0/1 [00:00<?, ?it/s]"
      ]
     },
     "metadata": {},
     "output_type": "display_data"
    },
    {
     "data": {
      "text/plain": [
       "0.06812648703357553"
      ]
     },
     "execution_count": 9,
     "metadata": {},
     "output_type": "execute_result"
    }
   ],
   "source": [
    "from sklearn.preprocessing import StandardScaler \n",
    "df_sel[X_sel] = StandardScaler().fit_transform(df_sel[X_sel])\n",
    "result = sgml.cv(df_sel, ss, {'X_num': X_sel}, config, lr_adapter, result_proc = [sgml.lr_learning_result])\n",
    "rmse_all = result['valid_scores'][0]\n",
    "rmse_all"
   ]
  },
  {
   "cell_type": "code",
   "execution_count": 10,
   "id": "aa9bc337-ad3e-40b1-8586-0f3c203eab72",
   "metadata": {},
   "outputs": [
    {
     "data": {
      "text/plain": [
       "Age_mul_Body_Temp      -2677.607570\n",
       "Weight_div_Body_Temp   -2300.548245\n",
       "Heart_Rate_2           -2002.387705\n",
       "Age_div_Body_Temp      -1874.426188\n",
       "Body_Temp_mul_Weight   -1743.892062\n",
       "                           ...     \n",
       "Height_mul_Weight       2120.462376\n",
       "Duration_div_Height     2484.250042\n",
       "Duration_mul_Height     2901.800486\n",
       "Age                     3203.112360\n",
       "Weight                  3328.888976\n",
       "Length: 300, dtype: float64"
      ]
     },
     "execution_count": 10,
     "metadata": {},
     "output_type": "execute_result"
    }
   ],
   "source": [
    "result['model_result'][0]['coef'].sort_values()"
   ]
  },
  {
   "cell_type": "code",
   "execution_count": 11,
   "id": "43ada95d-e1dd-425b-9c5b-c48eb359d99d",
   "metadata": {},
   "outputs": [
    {
     "data": {
      "image/png": "[encoded data removed]",
      "text/plain": [
       "<Figure size 640x480 with 1 Axes>"
      ]
     },
     "metadata": {},
     "output_type": "display_data"
    }
   ],
   "source": [
    "sns.histplot(result['model_result'][0]['coef'])\n",
    "plt.show()"
   ]
  },
  {
   "cell_type": "markdown",
   "id": "49a6257a-be13-49ca-ba08-7cb47b22a2df",
   "metadata": {},
   "source": [
    "- 변수가 300개라 모든 변수를 가지고 순차적 선택을 하는 것에는 리소스에 무리가 있었습니다.\n",
    "\n",
    "- 이를 보완 하기 위해, 차수가 낮은 것에서 시작하여 높은 것으로 그룹핑하여 추가를 해갑니다."
   ]
  },
  {
   "cell_type": "code",
   "execution_count": 10,
   "id": "ce3e78e9-8601-46e9-b696-d3e872ecf949",
   "metadata": {},
   "outputs": [],
   "source": [
    "from tqdm.notebook import tqdm\n",
    "import multiprocessing as mp\n",
    "from cuml.linear_model import LinearRegression as cu_LinearRegression\n",
    "lr_c_adapter = sgml.SklearnAdapter(cu_LinearRegression)\n",
    "\n",
    "def get_rmse_c(X):\n",
    "    return sgml.cv(df_sel, ss, {'model_params': {'copy_X': True}, 'X_num': X}, {**config, 'progress_callback': None}, lr_c_adapter)['valid_scores'][0]\n",
    "\n",
    "def fs(X, X_ff):\n",
    "    return pd.Series(\n",
    "        {i: get_rmse_c(X + [i]) for i in X_ff if i not in X}\n",
    "    ).sort_values()\n",
    "def be(X, floated_list):\n",
    "    if len(X) < 2: return pd.Series()\n",
    "    return pd.Series(\n",
    "        {i: get_rmse_c([j for j in X if j != i]) for i in X[:-1] if i not in floated_list}\n",
    "    ).sort_values()\n",
    "\n",
    "def step_fs(X_, X_selected, floated_list, rmse_list):\n",
    "    while(True):\n",
    "        s_rmse = fs(X_selected, X_)\n",
    "        if len(s_rmse) == 0:\n",
    "            break\n",
    "        if rmse_list[-1] > s_rmse.iloc[0]:\n",
    "            rmse_list.append(s_rmse.iloc[0])\n",
    "            X_selected.append(s_rmse.index[0])\n",
    "            print(\"Selected: {}, RMSE: {}\".format(X_selected[-1], rmse_list[-1]))\n",
    "        else:\n",
    "            break\n",
    "        while(True):\n",
    "            s_rmse = be(X_selected, floated_list)\n",
    "            if len(s_rmse) > 0 and rmse_list[-1] > s_rmse.iloc[0]:\n",
    "                rmse_list.append(s_rmse.iloc[0])\n",
    "                floated_list.add(s_rmse.index[0])\n",
    "                X_selected = [i for i in X_selected if i != s_rmse.index[0]]\n",
    "                print(\"Excluded: {}, RMSE: {}\".format(s_rmse.index[0], rmse_list[-1]))\n",
    "            else:\n",
    "                break\n",
    "    return X_selected, floated_list, rmse_list"
   ]
  },
  {
   "cell_type": "code",
   "execution_count": 11,
   "id": "52bc6146-d811-4c52-b061-65398d328b57",
   "metadata": {},
   "outputs": [],
   "source": [
    "def get_rmse(v):\n",
    "    i, X = v[0], v[1]\n",
    "    return i, sgml.cv(df_sel, ss, {'X_num': X}, {**config, 'progress_callback': None}, lr_adapter)['valid_scores'][0]\n",
    "\n",
    "def fs_mp(X, X_ff):\n",
    "    X_list = [(i, X + [i]) for i in X_ff if i not in X]\n",
    "    with mp.Pool(mp.cpu_count()) as pool:\n",
    "        results = pool.map(get_rmse, X_list)\n",
    "    return pd.Series(\n",
    "        {k: v for k, v in results}\n",
    "    ).sort_values()\n",
    "\n",
    "def be_mp(X, floated_list):\n",
    "    if len(X) < 2: return pd.Series()\n",
    "    X_list = [(i, [j for j in X if j != i]) for i in X[:-1] if i not in floated_list]\n",
    "    with mp.Pool(mp.cpu_count()) as pool:\n",
    "        results = pool.map(get_rmse, X_list)\n",
    "    return pd.Series(\n",
    "        {k: v for k, v in results}\n",
    "    ).sort_values()\n",
    "\n",
    "def step_fs_mp(X_, X_selected, floated_list, rmse_list):\n",
    "    while(True):\n",
    "        s_rmse = fs_mp(X_selected, X_)\n",
    "        if len(s_rmse) == 0:\n",
    "            break\n",
    "        if rmse_list[-1] > s_rmse.iloc[0]:\n",
    "            rmse_list.append(s_rmse.iloc[0])\n",
    "            X_selected.append(s_rmse.index[0])\n",
    "            print(\"Selected: {}, RMSE: {}\".format(X_selected[-1], rmse_list[-1]))\n",
    "        else:\n",
    "            break\n",
    "        while(True):\n",
    "            s_rmse = be_mp(X_selected, floated_list)\n",
    "            if len(s_rmse) > 0 and rmse_list[-1] > s_rmse.iloc[0]:\n",
    "                rmse_list.append(s_rmse.iloc[0])\n",
    "                floated_list.add(s_rmse.index[0])\n",
    "                X_selected = [i for i in X_selected if i != s_rmse.index[0]]\n",
    "                print(\"Excluded: {}, RMSE: {}\".format(s_rmse.index[0], rmse_list[-1]))\n",
    "            else:\n",
    "                break\n",
    "    return X_selected, floated_list, rmse_list"
   ]
  },
  {
   "cell_type": "code",
   "execution_count": 15,
   "id": "89f04814-7362-4cbb-a0d4-f32cd7aa238c",
   "metadata": {},
   "outputs": [
    {
     "data": {
      "text/plain": [
       "0.18064835569722082"
      ]
     },
     "execution_count": 15,
     "metadata": {},
     "output_type": "execute_result"
    }
   ],
   "source": [
    "X_selected = list()\n",
    "rmse_list = [np.inf]\n",
    "X_selected, floated_list, rmse_list = sc.cache_result('fs_o1', lambda : step_fs(X_num, X_selected, set(), rmse_list), rerun = 0)\n",
    "rmse_list[-1]"
   ]
  },
  {
   "cell_type": "code",
   "execution_count": 30,
   "id": "abbe907b-0f3c-42e4-8048-a4001e1485ac",
   "metadata": {},
   "outputs": [
    {
     "data": {
      "text/plain": [
       "0.11890502541192025"
      ]
     },
     "execution_count": 30,
     "metadata": {},
     "output_type": "execute_result"
    }
   ],
   "source": [
    "X_selected, floated_list, rmse_list = sc.cache_result(\n",
    "    'fs_r', lambda : step_fs(X_r, X_selected, set(), rmse_list), rerun = 0\n",
    ")\n",
    "rmse_list[-1]"
   ]
  },
  {
   "cell_type": "code",
   "execution_count": 31,
   "id": "e7f9ad60-af44-4d39-8ed1-9bdb3422cf58",
   "metadata": {},
   "outputs": [
    {
     "data": {
      "text/plain": [
       "0.08281917544819209"
      ]
     },
     "execution_count": 31,
     "metadata": {},
     "output_type": "execute_result"
    }
   ],
   "source": [
    "X_selected, floated_list, rmse_list = sc.cache_result(\n",
    "    'fs_o2', lambda : step_fs([i[0] for i in X_o2], X_selected, set(), rmse_list), rerun = 0\n",
    ")\n",
    "rmse_list[-1]"
   ]
  },
  {
   "cell_type": "code",
   "execution_count": 32,
   "id": "fa339318-bb0d-4d92-8b22-097d7d43f566",
   "metadata": {},
   "outputs": [
    {
     "data": {
      "text/plain": [
       "0.07591978840844088"
      ]
     },
     "execution_count": 32,
     "metadata": {},
     "output_type": "execute_result"
    }
   ],
   "source": [
    "X_selected, floated_list, rmse_list = sc.cache_result(\n",
    "    'fs_1d1', lambda : step_fs([i[0] for i in X_1d1], X_selected, set(), rmse_list), rerun = 0\n",
    ")\n",
    "rmse_list[-1]"
   ]
  },
  {
   "cell_type": "code",
   "execution_count": 33,
   "id": "9bebafb0-35e1-49fd-9af6-5040e382da4a",
   "metadata": {},
   "outputs": [
    {
     "data": {
      "text/plain": [
       "0.0718067288948422"
      ]
     },
     "execution_count": 33,
     "metadata": {},
     "output_type": "execute_result"
    }
   ],
   "source": [
    "X_selected, floated_list, rmse_list = sc.cache_result(\n",
    "    'fs_o2d1', lambda : step_fs_mp([i[0] for i in X_o2d1], X_selected, set(), rmse_list), rerun = 0\n",
    ")\n",
    "rmse_list[-1]"
   ]
  },
  {
   "cell_type": "code",
   "execution_count": 34,
   "id": "a01b4665-f650-4d8a-af4e-4a5bc8b76fbc",
   "metadata": {},
   "outputs": [
    {
     "data": {
      "text/plain": [
       "0.07070597741714742"
      ]
     },
     "execution_count": 34,
     "metadata": {},
     "output_type": "execute_result"
    }
   ],
   "source": [
    "X_selected, floated_list, rmse_list = sc.cache_result(\n",
    "    'fs_o1d2', lambda : step_fs_mp([i[0] for i in X_o1d2], X_selected, set(), rmse_list), rerun = 0\n",
    ")\n",
    "rmse_list[-1]"
   ]
  },
  {
   "cell_type": "code",
   "execution_count": 35,
   "id": "0296670a-ea39-4955-8dbd-bba59a6be1cd",
   "metadata": {},
   "outputs": [
    {
     "data": {
      "text/plain": [
       "0.07054807770710889"
      ]
     },
     "execution_count": 35,
     "metadata": {},
     "output_type": "execute_result"
    }
   ],
   "source": [
    "X_selected, floated_list, rmse_list = sc.cache_result(\n",
    "    'fs_o3', lambda : step_fs_mp([i[0] for i in X_o3], X_selected, set(), rmse_list), rerun = 0\n",
    ")\n",
    "rmse_list[-1]"
   ]
  },
  {
   "cell_type": "code",
   "execution_count": 36,
   "id": "6879f747-a5f3-4f37-a14f-959aea7e7052",
   "metadata": {},
   "outputs": [
    {
     "data": {
      "application/vnd.jupyter.widget-view+json": {
       "model_id": "b03b0f0ca76e4801a3f6ae34a14657d4",
       "version_major": 2,
       "version_minor": 0
      },
      "text/plain": [
       "Fold:   0%|          | 0/1 [00:00<?, ?it/s]"
      ]
     },
     "metadata": {},
     "output_type": "display_data"
    },
    {
     "data": {
      "text/plain": [
       "[0.07054807770711112]"
      ]
     },
     "execution_count": 36,
     "metadata": {},
     "output_type": "execute_result"
    }
   ],
   "source": [
    "result = sgml.cv(df_sel, ss, {'X_num': X_selected}, config, lr_adapter, result_proc = [sgml.lr_learning_result])\n",
    "result['valid_scores']"
   ]
  },
  {
   "cell_type": "code",
   "execution_count": 21,
   "id": "45e1a7d0-3586-4dca-9f06-dd768bf64894",
   "metadata": {},
   "outputs": [
    {
     "data": {
      "text/plain": [
       "(98,\n",
       " array(['Body_Temp', 'Duration', 'Duration_2', 'Body_Temp_mul_Duration',\n",
       "        'Body_Temp_mul_Weight', 'Weight_2', 'Age_mul_Height',\n",
       "        'Body_Temp_div_Duration', 'Weight_div_Heart_Rate',\n",
       "        'Age_div_Weight', 'Heart_Rate_div_Body_Temp',\n",
       "        'Weight_div_Duration', 'Body_Temp_div_Weight', 'Height_div_Age',\n",
       "        'Weight_2_div_Heart_Rate', 'Duration_2_div_Body_Temp',\n",
       "        'Heart_Rate_2_div_Duration', 'Weight_2_div_Age',\n",
       "        'Height_mul_Weight_div_Body_Temp', 'Height_mul_Weight_div_Age',\n",
       "        'Age_mul_Weight_div_Height', 'Age_mul_Height_div_Weight',\n",
       "        'Body_Temp_mul_Heart_Rate_div_Duration',\n",
       "        'Heart_Rate_2_div_Body_Temp', 'Heart_Rate_2_div_Weight',\n",
       "        'Weight_2_div_Duration', 'Duration_mul_Heart_Rate_div_Body_Temp',\n",
       "        'Duration_2_div_Heart_Rate', 'Body_Temp_2_div_Weight',\n",
       "        'Height_2_div_Body_Temp', 'Age_2_div_Heart_Rate',\n",
       "        'Age_mul_Weight_div_Duration', 'Heart_Rate_mul_Weight_div_Age',\n",
       "        'Age_mul_Weight_div_Heart_Rate', 'Heart_Rate_div_Duration_2',\n",
       "        'Duration_div_Body_Temp_mul_Heart_Rate',\n",
       "        'Duration_div_Heart_Rate_2', 'Age_div_Heart_Rate_2',\n",
       "        'Body_Temp_div_Duration_mul_Heart_Rate',\n",
       "        'Heart_Rate_div_Body_Temp_mul_Duration',\n",
       "        'Heart_Rate_div_Age_mul_Weight', 'Body_Temp_div_Heart_Rate_2',\n",
       "        'Height_div_Age_mul_Weight', 'Age_div_Height_2',\n",
       "        'Body_Temp_div_Heart_Rate_mul_Height',\n",
       "        'Body_Temp_div_Height_mul_Weight', 'Weight_div_Height_2',\n",
       "        'Duration_div_Body_Temp_2', 'Weight_div_Age_mul_Height',\n",
       "        'Heart_Rate_div_Age_mul_Duration',\n",
       "        'Heart_Rate_div_Age_mul_Body_Temp',\n",
       "        'Duration_div_Age_mul_Body_Temp',\n",
       "        'Height_div_Body_Temp_mul_Heart_Rate',\n",
       "        'Heart_Rate_div_Body_Temp_mul_Height', 'Height_div_Body_Temp_2',\n",
       "        'Weight_div_Body_Temp_mul_Height', 'Heart_Rate_div_Height_2',\n",
       "        'Heart_Rate_div_Duration_mul_Height',\n",
       "        'Height_div_Duration_mul_Weight',\n",
       "        'Height_div_Heart_Rate_mul_Weight',\n",
       "        'Height_div_Body_Temp_mul_Duration',\n",
       "        'Height_div_Body_Temp_mul_Weight',\n",
       "        'Weight_div_Body_Temp_mul_Heart_Rate', 'Weight_div_Body_Temp_2',\n",
       "        'Body_Temp_div_Age_2', 'Body_Temp_div_Height_2',\n",
       "        'Duration_div_Age_mul_Heart_Rate', 'Weight_div_Age_mul_Duration',\n",
       "        'Age_div_Duration_mul_Weight', 'Age_div_Body_Temp_mul_Weight',\n",
       "        'Age_div_Body_Temp_mul_Height', 'Body_Temp_div_Age_mul_Weight',\n",
       "        'Age_div_Heart_Rate_mul_Height',\n",
       "        'Heart_Rate_mul_Height_mul_Weight',\n",
       "        'Body_Temp_mul_Heart_Rate_mul_Weight', 'Height_2_mul_Heart_Rate',\n",
       "        'Body_Temp_mul_Heart_Rate_mul_Height', 'Height_2_mul_Age',\n",
       "        'Body_Temp_2_mul_Weight', 'Weight_2_mul_Age',\n",
       "        'Weight_2_mul_Heart_Rate', 'Body_Temp_mul_Duration_mul_Heart_Rate',\n",
       "        'Heart_Rate_3', 'Height_2_mul_Weight', 'Height_2_mul_Body_Temp',\n",
       "        'Duration_2_mul_Body_Temp', 'Body_Temp_2_mul_Duration',\n",
       "        'Duration_2_mul_Age', 'Age_mul_Duration_mul_Heart_Rate',\n",
       "        'Heart_Rate_2_mul_Weight', 'Heart_Rate_2_mul_Duration',\n",
       "        'Weight_2_mul_Height', 'Heart_Rate_2_mul_Height',\n",
       "        'Body_Temp_2_mul_Height', 'Age_mul_Duration_mul_Height',\n",
       "        'Age_2_mul_Body_Temp', 'Age_2_mul_Weight', 'Age_2_mul_Height'],\n",
       "       dtype='<U37'))"
      ]
     },
     "execution_count": 21,
     "metadata": {},
     "output_type": "execute_result"
    }
   ],
   "source": [
    "len(X_selected), np.array(X_selected)"
   ]
  },
  {
   "cell_type": "code",
   "execution_count": 37,
   "id": "3fc596fb-f3cf-4672-91a8-4414d1d317d5",
   "metadata": {},
   "outputs": [
    {
     "data": {
      "text/plain": [
       "Body_Temp_mul_Duration            -628.440215\n",
       "Height_mul_Weight_div_Body_Temp    -55.189597\n",
       "Duration_div_Body_Temp_2           -46.878210\n",
       "Duration_2_div_Body_Temp           -45.344002\n",
       "Heart_Rate_div_Body_Temp           -42.269036\n",
       "                                      ...    \n",
       "Weight_div_Body_Temp_2              52.618924\n",
       "Body_Temp_mul_Weight                76.852817\n",
       "Duration_2                          86.418111\n",
       "Body_Temp_2_mul_Duration           238.878689\n",
       "Duration                           472.902968\n",
       "Length: 98, dtype: float64"
      ]
     },
     "execution_count": 37,
     "metadata": {},
     "output_type": "execute_result"
    }
   ],
   "source": [
    "pd.Series(result['model_result'][0]['coef']).sort_values()"
   ]
  },
  {
   "cell_type": "code",
   "execution_count": null,
   "id": "9b13fb5c-a3e7-4864-87a3-31edc5058ae5",
   "metadata": {},
   "outputs": [],
   "source": [
    "from sklearn.linear_model import Lasso\n",
    "result = sgml.cv(df_sel, ss, {'model_params': {'alpha': 1e-6, 'max_iter': 2000}, 'X_num': X_sel}, config, sgml.SklearnAdapter(Lasso), result_proc = [sgml.lr_learning_result])\n",
    "result['valid_scores']"
   ]
  },
  {
   "cell_type": "code",
   "execution_count": null,
   "id": "15453466-3522-4db3-972d-5be75e6d2c38",
   "metadata": {},
   "outputs": [],
   "source": [
    "sns.histplot(result['model_result'][0]['coef'])\n",
    "plt.show()"
   ]
  },
  {
   "cell_type": "code",
   "execution_count": 40,
   "id": "8fe47cb6-f1cd-4185-bcd6-224b11637fca",
   "metadata": {},
   "outputs": [
    {
     "data": {
      "application/vnd.jupyter.widget-view+json": {
       "model_id": "fb37bf790cac43cabb4f9fa8ee123bd0",
       "version_major": 2,
       "version_minor": 0
      },
      "text/plain": [
       "Fold:   0%|          | 0/1 [00:00<?, ?it/s]"
      ]
     },
     "metadata": {},
     "output_type": "display_data"
    },
    {
     "data": {
      "text/plain": [
       "[0.068523406731391]"
      ]
     },
     "execution_count": 40,
     "metadata": {},
     "output_type": "execute_result"
    }
   ],
   "source": [
    "from sklearn.linear_model import Ridge\n",
    "result = sgml.cv(df_sel, ss, {'model_params': {'alpha': 1e-3}, 'X_num': X_sel}, config, sgml.SklearnAdapter(Ridge), result_proc = [sgml.lr_learning_result])\n",
    "result['valid_scores']"
   ]
  },
  {
   "cell_type": "code",
   "execution_count": 41,
   "id": "87d5a8db-15c0-4b6a-a1ff-4232e4f8bc23",
   "metadata": {},
   "outputs": [
    {
     "data": {
      "image/png": "[encoded data removed]",
      "text/plain": [
       "<Figure size 640x480 with 1 Axes>"
      ]
     },
     "metadata": {},
     "output_type": "display_data"
    }
   ],
   "source": [
    "sns.histplot(result['model_result'][0]['coef'])\n",
    "plt.show()"
   ]
  },
  {
   "cell_type": "code",
   "execution_count": 42,
   "id": "20de9208-51ce-46d4-8c22-38f41f79fa71",
   "metadata": {},
   "outputs": [
    {
     "data": {
      "text/plain": [
       "Heart_Rate                              -20.365835\n",
       "Body_Temp_2_mul_Duration                -16.865307\n",
       "Heart_Rate_2_mul_Duration               -16.786587\n",
       "Heart_Rate_div_Body_Temp                -15.564463\n",
       "Weight_2_mul_Body_Temp                  -14.918791\n",
       "                                           ...    \n",
       "Body_Temp_mul_Duration_mul_Heart_Rate    14.198431\n",
       "Age_mul_Height_mul_Weight                14.302717\n",
       "Body_Temp_div_Heart_Rate_2               14.497902\n",
       "Heart_Rate_2_div_Body_Temp               15.153733\n",
       "Heart_Rate_2_mul_Body_Temp               20.439106\n",
       "Length: 300, dtype: float64"
      ]
     },
     "execution_count": 42,
     "metadata": {},
     "output_type": "execute_result"
    }
   ],
   "source": [
    "pd.Series(result['model_result'][0]['coef']).sort_values()"
   ]
  },
  {
   "cell_type": "markdown",
   "id": "65f5cfe0-6668-4285-ae93-847bc77772c9",
   "metadata": {},
   "source": [
    "- Ridge로 회귀계수의 크기를 줄일 수 있지만 성능도 같이 줄어드니다."
   ]
  },
  {
   "cell_type": "markdown",
   "id": "7536d3d8-be91-4a43-bc2d-f0cc6ffb5a9a",
   "metadata": {},
   "source": [
    "- Backward Eliminations를 사용해봅니다."
   ]
  },
  {
   "cell_type": "code",
   "execution_count": null,
   "id": "bab7f0bd-8220-4d14-8321-9aa4bc85c9e8",
   "metadata": {},
   "outputs": [],
   "source": [
    "def be_mp2(X, floated_list):\n",
    "    if len(X) < 2: return pd.Series()\n",
    "    X_list = [(i, [j for j in X if j != i]) for i in X if i not in floated_list]\n",
    "    results = {}\n",
    "    for k, v in tqdm(X_list):\n",
    "        results[k] = get_rmse_c(v)\n",
    "    return pd.Series(results).sort_values()\n",
    "\n",
    "el = list()\n",
    "rmse_list = [get_rmse_c(X_sel)]\n",
    "cnt = 0\n",
    "while(True):\n",
    "    s_rmse = sc.cache_result(\n",
    "        'be_{}'.format(cnt), lambda : be_mp2([i for i in X_sel if i not in el], set())\n",
    "    )\n",
    "    cnt += 1\n",
    "    if len(s_rmse) > 0 and rmse_list[-1] > s_rmse.iloc[0]:\n",
    "        rmse_list.append(s_rmse.iloc[0])\n",
    "        el.append(s_rmse.index[0])\n",
    "        print(\"Excluded: {}, RMSE: {}\".format(el[-1], rmse_list[-1]))\n",
    "    else:\n",
    "        break"
   ]
  },
  {
   "cell_type": "markdown",
   "id": "f1e028ff-6ff3-40d3-9d1f-057b955fea54",
   "metadata": {},
   "source": [
    "- 성능의 개선 여지가 크지 않습니다.\n",
    "\n",
    "- 공선성이 큰 속성을 제외해봅니다."
   ]
  },
  {
   "cell_type": "code",
   "execution_count": 9,
   "id": "fdfc51a1-b5b0-4cd8-81dc-85b9cade7e73",
   "metadata": {},
   "outputs": [],
   "source": [
    "from sklearn.metrics import r2_score\n",
    "import gc\n",
    "def get_r2(X_var):\n",
    "    r2_scores = list()\n",
    "    for i in tqdm(X_var):\n",
    "        X_ = [j for j in X_var if j != i]\n",
    "        r2_scores.append(\n",
    "            r2_score(\n",
    "                df_sel[i], cu_LinearRegression(copy_X = True).fit(df_sel[X_], df_sel[i]).predict(df_sel[X_])\n",
    "            )\n",
    "        )\n",
    "        gc.collect()\n",
    "    return pd.Series(r2_scores, index = X_var).sort_values(ascending = False)"
   ]
  },
  {
   "cell_type": "markdown",
   "id": "104391f2-67d8-499e-a5d5-335a24bc4fa0",
   "metadata": {},
   "source": [
    "- 원래 변수들 간의 다중 공선성을 조사합니다."
   ]
  },
  {
   "cell_type": "code",
   "execution_count": 15,
   "id": "080c0df8-c54b-4896-a580-a40cef630ce7",
   "metadata": {},
   "outputs": [
    {
     "data": {
      "application/vnd.jupyter.widget-view+json": {
       "model_id": "52994db1242d43228e53b788cc52fbed",
       "version_major": 2,
       "version_minor": 0
      },
      "text/plain": [
       "  0%|          | 0/6 [00:00<?, ?it/s]"
      ]
     },
     "metadata": {},
     "output_type": "display_data"
    },
    {
     "data": {
      "text/plain": [
       "Weight        0.921672\n",
       "Height        0.921273\n",
       "Duration      0.882499\n",
       "Body_Temp     0.816003\n",
       "Heart_Rate    0.766673\n",
       "Age           0.048410\n",
       "dtype: float64"
      ]
     },
     "execution_count": 15,
     "metadata": {},
     "output_type": "execute_result"
    }
   ],
   "source": [
    "get_r2(X_num)"
   ]
  },
  {
   "cell_type": "markdown",
   "id": "f62a0093-3dc6-4bd5-92e4-c10ec9f78d20",
   "metadata": {},
   "source": [
    "- Weight와 Height가 공선성이 강합니다."
   ]
  },
  {
   "cell_type": "code",
   "execution_count": 16,
   "id": "23ce2ec3-3960-4167-802b-ae1dfcc94718",
   "metadata": {},
   "outputs": [
    {
     "data": {
      "application/vnd.jupyter.widget-view+json": {
       "model_id": "2df87e44e4f54adf8dff3f2b83db2d88",
       "version_major": 2,
       "version_minor": 0
      },
      "text/plain": [
       "  0%|          | 0/5 [00:00<?, ?it/s]"
      ]
     },
     "metadata": {},
     "output_type": "display_data"
    },
    {
     "data": {
      "text/plain": [
       "Duration      0.882476\n",
       "Body_Temp     0.815981\n",
       "Heart_Rate    0.766543\n",
       "Height        0.002123\n",
       "Age           0.001859\n",
       "dtype: float64"
      ]
     },
     "execution_count": 16,
     "metadata": {},
     "output_type": "execute_result"
    }
   ],
   "source": [
    "get_r2([i for i in X_num if i != 'Weight'])"
   ]
  },
  {
   "cell_type": "code",
   "execution_count": 17,
   "id": "d4e142ff-b502-4efc-abc2-66b8cddd29b1",
   "metadata": {},
   "outputs": [
    {
     "data": {
      "application/vnd.jupyter.widget-view+json": {
       "model_id": "3f6c44ee40c24d739605cdb45b6e1343",
       "version_major": 2,
       "version_minor": 0
      },
      "text/plain": [
       "  0%|          | 0/4 [00:00<?, ?it/s]"
      ]
     },
     "metadata": {},
     "output_type": "display_data"
    },
    {
     "data": {
      "text/plain": [
       "Body_Temp     0.634442\n",
       "Heart_Rate    0.633830\n",
       "Height        0.001938\n",
       "Age           0.001230\n",
       "dtype: float64"
      ]
     },
     "execution_count": 17,
     "metadata": {},
     "output_type": "execute_result"
    }
   ],
   "source": [
    "get_r2([i for i in X_num if i not in ['Weight', 'Duration']])"
   ]
  },
  {
   "cell_type": "code",
   "execution_count": 8,
   "id": "8f47a9d1-0c3c-406f-bbcd-b56ce22b9816",
   "metadata": {},
   "outputs": [],
   "source": [
    "import numpy as np\n",
    "from numpy.linalg import inv\n",
    "\n",
    "def r2_fast(X, use_const = True):\n",
    "    n, p = X.shape\n",
    "    if use_const:\n",
    "        p -= 1\n",
    "    # Step 2: Compute Gram matrix and its inverse\n",
    "    G = X.T @ X\n",
    "    G_inv = inv(G)\n",
    "\n",
    "    r2s = np.zeros(p)\n",
    "\n",
    "    for j in range(p):\n",
    "        # Step 3: Extract alpha = (G_inv)_{jj}\n",
    "        alpha = G_inv[j, j]\n",
    "\n",
    "        # Step 4: Variance of x_j (centered)\n",
    "        var_j = np.var(X[:, j], ddof=0) * n  # multiply by n because G = X.T @ X\n",
    "\n",
    "        # Step 5: R² calculation using Schur complement identity\n",
    "        r2 = 1 - (1 / (alpha * var_j))\n",
    "        r2s[j] = r2\n",
    "\n",
    "    return r2s\n",
    "\n",
    "def r2_sc(X):\n",
    "    return pd.Series(\n",
    "        r2_fast(df_sel[X + ['const']].values), index = X\n",
    "    ).sort_values(ascending = False)"
   ]
  },
  {
   "cell_type": "code",
   "execution_count": 69,
   "id": "9ecc2133-848e-4d69-bb66-716059bf1209",
   "metadata": {},
   "outputs": [
    {
     "data": {
      "text/plain": [
       "Weight        0.921672\n",
       "Height        0.921273\n",
       "Duration      0.882499\n",
       "Body_Temp     0.816003\n",
       "Heart_Rate    0.766673\n",
       "Age           0.048410\n",
       "dtype: float64"
      ]
     },
     "execution_count": 69,
     "metadata": {},
     "output_type": "execute_result"
    }
   ],
   "source": [
    "r2_sc(X_num)"
   ]
  },
  {
   "cell_type": "code",
   "execution_count": 70,
   "id": "2a060106-1e6c-4e02-a0a8-50a067060323",
   "metadata": {},
   "outputs": [
    {
     "data": {
      "text/plain": [
       "Duration      0.882476\n",
       "Body_Temp     0.815981\n",
       "Heart_Rate    0.766543\n",
       "Height        0.002123\n",
       "Age           0.001859\n",
       "dtype: float64"
      ]
     },
     "execution_count": 70,
     "metadata": {},
     "output_type": "execute_result"
    }
   ],
   "source": [
    "r2_sc([i for i in X_num if i != 'Weight'])"
   ]
  },
  {
   "cell_type": "markdown",
   "id": "0aea5c71-28aa-44c4-8cca-dd734fb5e109",
   "metadata": {},
   "source": [
    "- r2_fast 이용하여 변수를 포함 시켰을 때 공선성이 적은 변수를 골라 포함시켜갑니다."
   ]
  },
  {
   "cell_type": "code",
   "execution_count": 25,
   "id": "b8bdebaf-4ee1-4936-9af6-5ff36f1eb6e3",
   "metadata": {},
   "outputs": [],
   "source": [
    "def get_var_to_eliminate(X_tgt, threshold = 0.99):\n",
    "    el = {}\n",
    "    for i in range(len(X_tgt)):\n",
    "        s_r2 = r2_sc([i for i in X_tgt if i not in el])\n",
    "        if s_r2.iloc[0] > threshold:\n",
    "            el[s_r2.index[0]] = s_r2.iloc[0]\n",
    "        else:\n",
    "            break\n",
    "    return pd.Series(el)"
   ]
  },
  {
   "cell_type": "code",
   "execution_count": 72,
   "id": "79d2c3d6-8fbe-4e6b-b4c1-6d2e27da0703",
   "metadata": {},
   "outputs": [],
   "source": [
    "s_exc = sc.cache_result(\n",
    "    'exc_r2', lambda : get_var_to_eliminate(X_sel, 0.8)\n",
    ")"
   ]
  },
  {
   "cell_type": "code",
   "execution_count": 73,
   "id": "55f4c20f-10e8-4426-a120-5101883338b8",
   "metadata": {},
   "outputs": [
    {
     "data": {
      "application/vnd.jupyter.widget-view+json": {
       "model_id": "2d4eee92210d4f45b11d20380489c47b",
       "version_major": 2,
       "version_minor": 0
      },
      "text/plain": [
       "Fold:   0%|          | 0/1 [00:00<?, ?it/s]"
      ]
     },
     "metadata": {},
     "output_type": "display_data"
    },
    {
     "data": {
      "text/plain": [
       "[0.06824796234140333]"
      ]
     },
     "execution_count": 73,
     "metadata": {},
     "output_type": "execute_result"
    }
   ],
   "source": [
    "result = sgml.cv(df_sel, ss, {'X_num': [i for i in X_sel if i not in s_exc.index[:50]]}, config, lr_adapter, result_proc = [sgml.lr_learning_result])\n",
    "result['valid_scores']"
   ]
  },
  {
   "cell_type": "code",
   "execution_count": 74,
   "id": "256b9280-71be-4af2-ae69-7967274cbbb4",
   "metadata": {},
   "outputs": [
    {
     "data": {
      "application/vnd.jupyter.widget-view+json": {
       "model_id": "3efd10bf72b54fe99fae13abc9062c4a",
       "version_major": 2,
       "version_minor": 0
      },
      "text/plain": [
       "Fold:   0%|          | 0/1 [00:00<?, ?it/s]"
      ]
     },
     "metadata": {},
     "output_type": "display_data"
    },
    {
     "data": {
      "text/plain": [
       "[0.06878948232552616]"
      ]
     },
     "execution_count": 74,
     "metadata": {},
     "output_type": "execute_result"
    }
   ],
   "source": [
    "result = sgml.cv(df_sel, ss, {'X_num': [i for i in X_sel if i not in s_exc.index[:100]]}, config, lr_adapter, result_proc = [sgml.lr_learning_result])\n",
    "result['valid_scores']"
   ]
  },
  {
   "cell_type": "code",
   "execution_count": 75,
   "id": "f4703268-b7a8-4c8f-9cd0-85cc927af264",
   "metadata": {},
   "outputs": [
    {
     "data": {
      "application/vnd.jupyter.widget-view+json": {
       "model_id": "ea94a26e371b44c198030d2297ebba18",
       "version_major": 2,
       "version_minor": 0
      },
      "text/plain": [
       "Fold:   0%|          | 0/1 [00:00<?, ?it/s]"
      ]
     },
     "metadata": {},
     "output_type": "display_data"
    },
    {
     "data": {
      "text/plain": [
       "[0.07018588114062105]"
      ]
     },
     "execution_count": 75,
     "metadata": {},
     "output_type": "execute_result"
    }
   ],
   "source": [
    "result = sgml.cv(df_sel, ss, {'X_num': [i for i in X_sel if i not in s_exc.index[:200]]}, config, lr_adapter, result_proc = [sgml.lr_learning_result])\n",
    "result['valid_scores']"
   ]
  },
  {
   "cell_type": "code",
   "execution_count": 76,
   "id": "d5f7fd89-628f-4f42-90dd-0ee9d32e0698",
   "metadata": {},
   "outputs": [
    {
     "data": {
      "application/vnd.jupyter.widget-view+json": {
       "model_id": "345376f7bc0c42abb3b1a22c8a84f07c",
       "version_major": 2,
       "version_minor": 0
      },
      "text/plain": [
       "Fold:   0%|          | 0/1 [00:00<?, ?it/s]"
      ]
     },
     "metadata": {},
     "output_type": "display_data"
    },
    {
     "data": {
      "text/plain": [
       "[0.07401156122859467]"
      ]
     },
     "execution_count": 76,
     "metadata": {},
     "output_type": "execute_result"
    }
   ],
   "source": [
    "result = sgml.cv(df_sel, ss, {'X_num': [i for i in X_sel if i not in s_exc.index[:250]]}, config, lr_adapter, result_proc = [sgml.lr_learning_result])\n",
    "result['valid_scores']"
   ]
  },
  {
   "cell_type": "code",
   "execution_count": 77,
   "id": "bb2566a9-826a-4493-b845-e4b8707b5e16",
   "metadata": {},
   "outputs": [
    {
     "data": {
      "application/vnd.jupyter.widget-view+json": {
       "model_id": "c7f90e5f25ae469e9353fabcc293286e",
       "version_major": 2,
       "version_minor": 0
      },
      "text/plain": [
       "Fold:   0%|          | 0/1 [00:00<?, ?it/s]"
      ]
     },
     "metadata": {},
     "output_type": "display_data"
    },
    {
     "data": {
      "text/plain": [
       "[0.07777651286116688]"
      ]
     },
     "execution_count": 77,
     "metadata": {},
     "output_type": "execute_result"
    }
   ],
   "source": [
    "result = sgml.cv(df_sel, ss, {'X_num': [i for i in X_sel if i not in s_exc.index[:270]]}, config, lr_adapter, result_proc = [sgml.lr_learning_result])\n",
    "result['valid_scores']"
   ]
  },
  {
   "cell_type": "code",
   "execution_count": 78,
   "id": "90cd1cc2-3f62-4306-a6e5-73ba51e27ea2",
   "metadata": {},
   "outputs": [
    {
     "data": {
      "application/vnd.jupyter.widget-view+json": {
       "model_id": "cdf1e57dda804a708f01e4165f331963",
       "version_major": 2,
       "version_minor": 0
      },
      "text/plain": [
       "Fold:   0%|          | 0/1 [00:00<?, ?it/s]"
      ]
     },
     "metadata": {},
     "output_type": "display_data"
    },
    {
     "data": {
      "text/plain": [
       "[0.2554399056147664]"
      ]
     },
     "execution_count": 78,
     "metadata": {},
     "output_type": "execute_result"
    }
   ],
   "source": [
    "result = sgml.cv(df_sel, ss, {'X_num': [i for i in X_sel if i not in s_exc.index[:290]]}, config, lr_adapter, result_proc = [sgml.lr_learning_result])\n",
    "result['valid_scores']"
   ]
  },
  {
   "cell_type": "code",
   "execution_count": 79,
   "id": "9deca615-55f0-4433-9dbd-5f2825cba34f",
   "metadata": {},
   "outputs": [
    {
     "data": {
      "application/vnd.jupyter.widget-view+json": {
       "model_id": "5456420ce6fb4b8d8cbe4baeab025939",
       "version_major": 2,
       "version_minor": 0
      },
      "text/plain": [
       "Fold:   0%|          | 0/1 [00:00<?, ?it/s]"
      ]
     },
     "metadata": {},
     "output_type": "display_data"
    },
    {
     "data": {
      "text/plain": [
       "[0.07398964134988695]"
      ]
     },
     "execution_count": 79,
     "metadata": {},
     "output_type": "execute_result"
    }
   ],
   "source": [
    "result = sgml.cv(df_sel, ss, {'pca': {'X_num': X_sel, 'hparams': {'n_components': 0.9999}}}, config, lr_adapter, result_proc = [sgml.lr_learning_result])\n",
    "result['valid_scores']"
   ]
  },
  {
   "cell_type": "code",
   "execution_count": 7,
   "id": "7a18f2ec-b9ac-4791-a778-09e318a94d8f",
   "metadata": {},
   "outputs": [],
   "source": [
    "import numpy as np\n",
    "from numpy.linalg import inv\n",
    "\n",
    "def lm_fs_fast(X_all, y, base_vars, use_const = True):\n",
    "    n, p = X_all.shape\n",
    "    if use_const:\n",
    "        p -= 1\n",
    "    X_base = X_all[:, base_vars]\n",
    "    G_inv = inv(X_base.T @ X_base)\n",
    "    b = X_base.T @ y\n",
    "    total_var = np.sum((y - y.mean()) ** 2)\n",
    "\n",
    "    r2s = {}\n",
    "    base_set = set(base_vars)\n",
    "    for j in range(p):\n",
    "        if j in base_set:\n",
    "            continue\n",
    "\n",
    "        xj = X_all[:, j:j + 1]# (n,1)\n",
    "        B = X_base.T @ xj\n",
    "        C = xj.T @ X_base \n",
    "        D = xj.T @ xj\n",
    "\n",
    "        # s = Schur complement\n",
    "        G_inv_new = (C @ G_inv)\n",
    "        S = D - (G_inv_new @ B)\n",
    "        \n",
    "        if S[0][0] <= 1e-10:\n",
    "            r2s[j] = np.nan  # ill-conditioned\n",
    "            continue\n",
    "\n",
    "        G_inv_new_lower = -G_inv_new / S\n",
    "        G_inv_updated = np.block([\n",
    "            [G_inv + G_inv_new.T @ G_inv_new / S, G_inv_new_lower.T],\n",
    "            [G_inv_new_lower, 1 / S]\n",
    "        ])\n",
    "        b_new = np.hstack((b, xj.T @ y))\n",
    "        beta_new = G_inv_updated @ b_new    \n",
    "        X_full = np.hstack([X_base, xj])\n",
    "        y_pred = (X_full @ beta_new).flatten()\n",
    "        ss_res = np.sum((y - y_pred) ** 2)\n",
    "        r2 = 1 - ss_res / total_var\n",
    "        r2s[j] = r2\n",
    "    return r2s\n",
    "\n",
    "def lm_el_fast(X, y, use_const = True):\n",
    "    n, p = X.shape\n",
    "    ids = np.arange(p)\n",
    "    if use_const:\n",
    "        p -= 1\n",
    "    G_inv = inv(X.T @ X)\n",
    "    b = X.T @ y\n",
    "    total_var = np.sum((y - y.mean()) ** 2)\n",
    "    r2s = np.zeros(p)\n",
    "    \n",
    "    for j in range(p):\n",
    "        idx = ids != j\n",
    "\n",
    "        # Extract M, alpha, v from full G_inv\n",
    "        M = G_inv[np.ix_(idx, idx)] # (p-1)x(p-1)\n",
    "        v = G_inv[idx, j].reshape(-1, 1)# (p-1)x1\n",
    "        alpha = G_inv[j, j]# scalar\n",
    "        # Schur-complement-based inverse of G_sub\n",
    "        G_sub_inv = M - (v @ v.T) / alpha\n",
    "\n",
    "        # b_sub for beta\n",
    "        b_sub = b[idx].reshape(-1, 1) # (p-1)x1\n",
    "        beta_sub = (G_sub_inv @ b_sub).flatten()  # (p-1)x1\n",
    "\n",
    "        # Predict y using X_{-j}\n",
    "        y_pred = X[:, idx] @ beta_sub\n",
    "        ss_res = np.sum((y - y_pred) ** 2)\n",
    "        r2s[j] = 1 - ss_res / total_var\n",
    "\n",
    "    return r2s"
   ]
  },
  {
   "cell_type": "code",
   "execution_count": 14,
   "id": "fa0d845b-e78e-4e8c-9459-12d07fb51637",
   "metadata": {},
   "outputs": [
    {
     "data": {
      "text/plain": [
       "array([0.98424252, 0.98493251, 0.98474077, 0.96857929, 0.98407143,\n",
       "       0.98403994, 0.98489252, 0.9849285 , 0.98466392, 0.98294217,\n",
       "       0.98192726, 0.98390105])"
      ]
     },
     "execution_count": 14,
     "metadata": {},
     "output_type": "execute_result"
    }
   ],
   "source": [
    "lm_el_fast(df_sel[X_num + X_r + ['const']].values, df_sel[target])"
   ]
  },
  {
   "cell_type": "code",
   "execution_count": 11,
   "id": "e2a1c565-fef3-4838-952c-052238180c13",
   "metadata": {},
   "outputs": [
    {
     "name": "stdout",
     "output_type": "stream",
     "text": [
      "Age 0.9561951040508987 [-0.07363163  0.06378543  0.22078683  0.23059454  0.53379692]\n",
      "Height 0.9647196230037101 [ 0.09173423 -0.01356347  0.22628199  0.23061535  0.52675677]\n",
      "Weight 0.9647245566528716 [ 0.09090311 -0.01369752  0.22641069  0.23046985  0.52662872]\n",
      "Duration 0.958237860311244 [ 0.08949843 -0.00633408 -0.00879613  0.32725687  0.65414174]\n",
      "Heart_Rate 0.9513611002271798 [ 0.09124061 -0.01500212  0.00453427  0.42196559  0.5335294 ]\n",
      "Body_Temp 0.9097197568521521 [ 0.09916954 -0.02175485  0.00394842  0.6908174   0.24290572]\n"
     ]
    }
   ],
   "source": [
    "from sklearn.linear_model import LinearRegression\n",
    "for i in X_num:\n",
    "    X_lr = [j for j in X_num if i != j]\n",
    "    reg_lr = LinearRegression()\n",
    "    print(\n",
    "        i, r2_score(\n",
    "            df_sel[target],\n",
    "            reg_lr.fit(df_sel[X_lr], df_sel[target]).predict(df_sel[X_lr])\n",
    "        ),\n",
    "        reg_lr.coef_\n",
    "    )"
   ]
  },
  {
   "cell_type": "code",
   "execution_count": 8,
   "id": "fe94ed97-eaaa-4e78-8741-b5c0302ee47e",
   "metadata": {},
   "outputs": [],
   "source": [
    "import numpy as np\n",
    "from numpy.linalg import inv\n",
    "from sklearn.model_selection import train_test_split\n",
    "from sklearn.metrics import root_mean_squared_error\n",
    "\n",
    "def lm_fs_fast2(X_all, y, base_vars, use_const = True, train_size = 0.8, random_state = 123):\n",
    "    n, p = X_all.shape\n",
    "    X_train, X_test, y_train, y_test = train_test_split(X_all, y, train_size = train_size, random_state = random_state)\n",
    "    if use_const:\n",
    "        p -= 1\n",
    "        base_vars.append(-1)\n",
    "    X_base = X_train[:, base_vars]\n",
    "    G_inv = inv(X_base.T @ X_base)\n",
    "    b = X_base.T @ y_train\n",
    "    \n",
    "    metric = {}\n",
    "    base_set = set(base_vars)\n",
    "    for j in range(p):\n",
    "        if j in base_set:\n",
    "            continue\n",
    "\n",
    "        xj = X_train[:, j:j + 1]# (n,1)\n",
    "        B = X_base.T @ xj\n",
    "        C = xj.T @ X_base \n",
    "        D = xj.T @ xj\n",
    "\n",
    "        # s = Schur complement\n",
    "        G_inv_new = (C @ G_inv)\n",
    "        S = D - (G_inv_new @ B)\n",
    "        \n",
    "        if S[0][0] <= 1e-10:\n",
    "            metric[j] = np.inf\n",
    "            continue\n",
    "\n",
    "        G_inv_new_lower = -G_inv_new / S\n",
    "        G_inv_updated = np.block([\n",
    "            [G_inv + G_inv_new.T @ G_inv_new / S, G_inv_new_lower.T],\n",
    "            [G_inv_new_lower, 1 / S]\n",
    "        ])\n",
    "        b_new = np.hstack((b, xj.T @ y_train))\n",
    "        beta_new = (G_inv_updated @ b_new).flatten()\n",
    "        X_full = np.hstack([X_test[:, base_vars], X_test[:, j:j + 1]])\n",
    "        y_pred = X_full @ beta_new\n",
    "        metric[j] = root_mean_squared_error(y_test, y_pred)\n",
    "    return metric\n",
    "\n",
    "def lm_el_fast2(X, y, use_const = True, train_size = 0.8, random_state = 123):\n",
    "    n, p = X.shape\n",
    "    ids = np.arange(p)\n",
    "    if use_const:\n",
    "        p -= 1\n",
    "    X_train, X_test, y_train, y_test = train_test_split(X, y, train_size = train_size, random_state = random_state)\n",
    "    G_inv = inv(X_train.T @ X_train)\n",
    "    b = X_train.T @ y_train\n",
    "    metric = np.zeros(p)\n",
    "\n",
    "    for j in range(p):\n",
    "        idx = ids != j\n",
    "\n",
    "        # Extract M, alpha, v from full G_inv\n",
    "        M = G_inv[np.ix_(idx, idx)] # (p-1)x(p-1)\n",
    "        v = G_inv[idx, j].reshape(-1, 1)# (p-1)x1\n",
    "        alpha = G_inv[j, j]# scalar\n",
    "        # Schur-complement-based inverse of G_sub\n",
    "        G_sub_inv = M - (v @ v.T) / alpha\n",
    "\n",
    "        # b_sub for beta\n",
    "        b_sub = b[idx].reshape(-1, 1) # (p-1)x1\n",
    "        beta_sub = (G_sub_inv @ b_sub).flatten()  # (p-1)x1\n",
    "\n",
    "        # Predict y using X_{-j}\n",
    "        y_pred = X_test[:, idx] @ beta_sub\n",
    "        metric[j] = root_mean_squared_error(y_test, y_pred)\n",
    "    return metric"
   ]
  },
  {
   "cell_type": "code",
   "execution_count": 11,
   "id": "999c3fde-9ef4-4a7e-83a2-b7e8df96b399",
   "metadata": {},
   "outputs": [
    {
     "data": {
      "text/plain": [
       "{1: np.float64(0.9566583034828902),\n",
       " 2: np.float64(0.9570454555022977),\n",
       " 3: np.float64(0.3126439697518508),\n",
       " 4: np.float64(0.44204050576574994),\n",
       " 5: np.float64(0.2799724059980127)}"
      ]
     },
     "execution_count": 11,
     "metadata": {},
     "output_type": "execute_result"
    }
   ],
   "source": [
    "lm_fs_fast2(df_sel[X_num + ['const']].values, df_sel[target].values, [0])"
   ]
  },
  {
   "cell_type": "code",
   "execution_count": 15,
   "id": "ea9a3532-55d7-4dc4-aab7-89555d01026d",
   "metadata": {},
   "outputs": [
    {
     "name": "stdout",
     "output_type": "stream",
     "text": [
      "Height 0.9555175993522554 [ 0.11465777 -0.04205298]\n",
      "Weight 0.9558706751306756 [ 0.11659742 -0.03315575]\n",
      "Duration 0.3126898288335705 [0.10000086 0.90399528]\n",
      "Heart_Rate 0.4428472346214227 [0.09970873 0.84786619]\n",
      "Body_Temp 0.27937654047327976 [0.08644798 0.91514942]\n"
     ]
    }
   ],
   "source": [
    "from sklearn.linear_model import LinearRegression\n",
    "for i in X_num[1:]:\n",
    "    X_lr = X_num[:1] + [i]\n",
    "    reg_lr = LinearRegression()\n",
    "    print(\n",
    "        i, root_mean_squared_error(\n",
    "            df_sel[target],\n",
    "            reg_lr.fit(df_sel[X_lr], df_sel[target]).predict(df_sel[X_lr])\n",
    "        ),\n",
    "        reg_lr.coef_\n",
    "    )"
   ]
  },
  {
   "cell_type": "code",
   "execution_count": 9,
   "id": "cbfd82bb-92f1-47b2-836c-deb6287eb3b8",
   "metadata": {},
   "outputs": [],
   "source": [
    "def fs_fast(X, X_ff):\n",
    "    return pd.Series(\n",
    "        lm_fs_fast2(df_sel[X_ff + ['const']].values, df_sel[target], [X_ff.index(i) for i in X]).values(),\n",
    "        index = [i for i in X_ff if i not in X]\n",
    "    ).sort_values()\n",
    "\n",
    "def be_fast(X, floated_list):\n",
    "    if len(X) < 2: return pd.Series()\n",
    "    return pd.Series(\n",
    "        lm_el_fast2(df_sel[X + ['const']].values, df_sel[target]), index = X\n",
    "    ).pipe(lambda x: x.loc[~x.index.isin(floated_list)]).sort_values()\n",
    "\n",
    "def step_fs_fast(X_, X_selected, floated_list, rmse_list):\n",
    "    while(True):\n",
    "        s_rmse = fs_fast(X_selected, X_)\n",
    "        if len(s_rmse) == 0:\n",
    "            break\n",
    "        if rmse_list[-1] > s_rmse.iloc[0]:\n",
    "            rmse_list.append(s_rmse.iloc[0])\n",
    "            X_selected.append(s_rmse.index[0])\n",
    "            print(\"Selected: {}, RMSE: {}\".format(X_selected[-1], rmse_list[-1]))\n",
    "        else:\n",
    "            break\n",
    "        while(True):\n",
    "            s_rmse = be_fast(X_selected, floated_list)\n",
    "            if len(s_rmse) > 0 and rmse_list[-1] > s_rmse.iloc[0]:\n",
    "                rmse_list.append(s_rmse.iloc[0])\n",
    "                floated_list.add(s_rmse.index[0])\n",
    "                X_selected = [i for i in X_selected if i != s_rmse.index[0]]\n",
    "                print(\"Excluded: {}, RMSE: {}\".format(s_rmse.index[0], rmse_list[-1]))\n",
    "            else:\n",
    "                break\n",
    "    return X_selected, floated_list, rmse_list"
   ]
  },
  {
   "cell_type": "code",
   "execution_count": null,
   "id": "82ba15bd-1f75-4f95-92d7-70def2fae1c5",
   "metadata": {},
   "outputs": [],
   "source": [
    "X_selected = list()\n",
    "rmse_list = [np.inf]\n",
    "X_selected, floated_list, rmse_list = sc.cache_result(\n",
    "    'fs_fast2', lambda : step_fs_fast(X_sel, X_selected, set(), rmse_list)\n",
    ")"
   ]
  },
  {
   "cell_type": "code",
   "execution_count": 19,
   "id": "363bb3dc-e986-47de-90a4-2ad6812969d3",
   "metadata": {},
   "outputs": [
    {
     "data": {
      "text/plain": [
       "69"
      ]
     },
     "execution_count": 19,
     "metadata": {},
     "output_type": "execute_result"
    }
   ],
   "source": [
    "len(X_selected)"
   ]
  },
  {
   "cell_type": "code",
   "execution_count": 20,
   "id": "04149d21-1c76-499b-8d51-9e20d90ea3b0",
   "metadata": {},
   "outputs": [
    {
     "data": {
      "application/vnd.jupyter.widget-view+json": {
       "model_id": "82432a9e2c2e4640b9702322406d0c78",
       "version_major": 2,
       "version_minor": 0
      },
      "text/plain": [
       "Fold:   0%|          | 0/1 [00:00<?, ?it/s]"
      ]
     },
     "metadata": {},
     "output_type": "display_data"
    },
    {
     "data": {
      "text/plain": [
       "[0.06920401255309504]"
      ]
     },
     "execution_count": 20,
     "metadata": {},
     "output_type": "execute_result"
    }
   ],
   "source": [
    "result = sgml.cv(df_sel, ss, {'X_num': X_selected}, config, lr_adapter, result_proc = [sgml.lr_learning_result])\n",
    "result['valid_scores']"
   ]
  },
  {
   "cell_type": "code",
   "execution_count": 23,
   "id": "9a5e546f-a7c5-40bb-92f5-089e085e27e5",
   "metadata": {},
   "outputs": [
    {
     "data": {
      "text/plain": [
       "Heart_Rate_div_Body_Temp     -76.237514\n",
       "Heart_Rate_r                 -65.694487\n",
       "Heart_Rate_3                 -18.656378\n",
       "Body_Temp_2_div_Heart_Rate   -17.029563\n",
       "Heart_Rate_mul_Weight        -14.130126\n",
       "                                ...    \n",
       "Body_Temp_r                   14.797729\n",
       "Body_Temp_mul_Weight          23.437684\n",
       "Heart_Rate                    28.704176\n",
       "Body_Temp_div_Heart_Rate      46.861580\n",
       "Heart_Rate_2_div_Body_Temp    62.494575\n",
       "Length: 69, dtype: float64"
      ]
     },
     "execution_count": 23,
     "metadata": {},
     "output_type": "execute_result"
    }
   ],
   "source": [
    "result['model_result'][0]['coef'].sort_values()"
   ]
  },
  {
   "cell_type": "code",
   "execution_count": 40,
   "id": "245158d6-40a5-4676-93c0-891e508ff28b",
   "metadata": {},
   "outputs": [
    {
     "data": {
      "text/plain": [
       "Heart_Rate_div_Body_Temp     1.000000e+00\n",
       "Body_Temp_div_Heart_Rate     1.000000e+00\n",
       "Body_Temp_mul_Weight         1.000000e+00\n",
       "Heart_Rate_div_Weight        1.000000e+00\n",
       "Weight_div_Heart_Rate        9.999999e-01\n",
       "                                 ...     \n",
       "Weight_2_mul_Duration        5.530733e-01\n",
       "Heart_Rate_2_div_Height      1.678805e-01\n",
       "Height_div_Age_2             3.731778e-03\n",
       "Sex                          4.261296e-04\n",
       "Heart_Rate_div_Duration_2    1.998401e-15\n",
       "Length: 69, dtype: float64"
      ]
     },
     "execution_count": 40,
     "metadata": {},
     "output_type": "execute_result"
    }
   ],
   "source": [
    "s_r2 = get_var_to_eliminate(X_selected, 0.0)"
   ]
  },
  {
   "cell_type": "code",
   "execution_count": 90,
   "id": "3df5d06a-8ef4-449f-ac64-415f925c1417",
   "metadata": {},
   "outputs": [
    {
     "data": {
      "text/plain": [
       "Heart_Rate_div_Duration_2    1.998401e-15\n",
       "Sex                          4.261296e-04\n",
       "Height_div_Age_2             3.731778e-03\n",
       "Heart_Rate_2_div_Height      1.678805e-01\n",
       "Weight_2_mul_Duration        5.530733e-01\n",
       "dtype: float64"
      ]
     },
     "execution_count": 90,
     "metadata": {},
     "output_type": "execute_result"
    }
   ],
   "source": [
    "s_r2.sort_values().iloc[:5]"
   ]
  },
  {
   "cell_type": "code",
   "execution_count": 88,
   "id": "1a1ced68-5cab-4483-9b25-c8df39aeaebe",
   "metadata": {},
   "outputs": [
    {
     "data": {
      "application/vnd.jupyter.widget-view+json": {
       "model_id": "47ee7bc2fcd14588b43812e26dcc556b",
       "version_major": 2,
       "version_minor": 0
      },
      "text/plain": [
       "Fold:   0%|          | 0/1 [00:00<?, ?it/s]"
      ]
     },
     "metadata": {},
     "output_type": "display_data"
    },
    {
     "data": {
      "text/plain": [
       "[0.2633030048179551]"
      ]
     },
     "execution_count": 88,
     "metadata": {},
     "output_type": "execute_result"
    }
   ],
   "source": [
    "result = sgml.cv(df_sel, ss, {'X_num': s_r2.sort_values().index[:5].tolist()}, config, lr_adapter, result_proc = [sgml.lr_learning_result])\n",
    "result['valid_scores']"
   ]
  },
  {
   "cell_type": "code",
   "execution_count": 89,
   "id": "7e1da412-7b01-4857-b79c-aea3a2f19bfa",
   "metadata": {},
   "outputs": [
    {
     "data": {
      "text/plain": [
       "Heart_Rate_div_Duration_2   -0.253247\n",
       "Sex                         -0.101416\n",
       "Height_div_Age_2            -0.075208\n",
       "Heart_Rate_2_div_Height      0.464296\n",
       "Weight_2_mul_Duration        0.468421\n",
       "dtype: float64"
      ]
     },
     "execution_count": 89,
     "metadata": {},
     "output_type": "execute_result"
    }
   ],
   "source": [
    "result['model_result'][0]['coef'].sort_values()"
   ]
  },
  {
   "cell_type": "markdown",
   "id": "4e1b8ff2-62d7-4417-8418-9e056aec487f",
   "metadata": {},
   "source": [
    "- Log 변환과, SQRT 속성을 추가합니다. \n"
   ]
  },
  {
   "cell_type": "code",
   "execution_count": 11,
   "id": "975b62c5-6599-44af-a4a0-ba5fc6abd7f6",
   "metadata": {},
   "outputs": [],
   "source": [
    "X_log = [i + '_log' for i in X_num]\n",
    "X_sqrt_d = [i + '_sqrt_d' for i in X_num]\n",
    "X_sqrt = [\n",
    "    (i + '_sqrt' if i == j else i + '_div_' + j + '_sqrt', (i, j + '_sqrt_d')) for i, j in product(X_num, X_num)\n",
    "]\n",
    "var_list = [np.log(df_train[a]).rename(a + '_log') for a in X_num]\n",
    "var_list.extend([1 / np.sqrt(df_train[a]).rename(a + '_sqrt_d') for a in X_num])\n",
    "df_sel = dproc.join_and_assign(df_sel, pd.concat(var_list, axis=1))\n",
    "var_list = [(df_sel[a] * df_sel[b]).rename(i) for i, (a, b) in X_sqrt]\n",
    "df_sel = dproc.join_and_assign(df_sel, pd.concat(var_list, axis=1))"
   ]
  },
  {
   "cell_type": "code",
   "execution_count": 14,
   "id": "9b8ed905-6298-4323-b9b6-c3d398da75e2",
   "metadata": {},
   "outputs": [],
   "source": [
    "from sklearn.preprocessing import StandardScaler\n",
    "\n",
    "X_sel += X_log + X_sqrt_d + [i for i, (_,_) in X_sqrt]\n",
    "df_sel[X_sel] = StandardScaler().fit_transform(df_sel[X_sel])"
   ]
  },
  {
   "cell_type": "code",
   "execution_count": 15,
   "id": "d9968bff-3471-4e30-8155-59c49dc0eeb3",
   "metadata": {},
   "outputs": [
    {
     "data": {
      "application/vnd.jupyter.widget-view+json": {
       "model_id": "",
       "version_major": 2,
       "version_minor": 0
      },
      "text/plain": [
       "Fold:   0%|          | 0/1 [00:00<?, ?it/s]"
      ]
     },
     "metadata": {},
     "output_type": "display_data"
    },
    {
     "data": {
      "text/plain": [
       "[np.float64(0.06757573659549984)]"
      ]
     },
     "execution_count": 15,
     "metadata": {},
     "output_type": "execute_result"
    }
   ],
   "source": [
    "result = sgml.cv(df_sel, ss, {'X_num': X_sel}, config, lr_adapter, result_proc = [sgml.lr_learning_result])\n",
    "result['valid_scores']"
   ]
  },
  {
   "cell_type": "code",
   "execution_count": 16,
   "id": "814cdbbe-2505-4303-9f67-817df75f8a7d",
   "metadata": {},
   "outputs": [
    {
     "name": "stdout",
     "output_type": "stream",
     "text": [
      "Selected: Duration_log, RMSE: 0.1995965687139262\n",
      "Selected: Heart_Rate_sqrt_d, RMSE: 0.1391376347745638\n",
      "Selected: Age_div_Heart_Rate_2, RMSE: 0.09870479466423314\n",
      "Selected: Heart_Rate_div_Duration_mul_Weight, RMSE: 0.09424642899545825\n",
      "Selected: Weight_div_Age_mul_Heart_Rate, RMSE: 0.09222798928615193\n",
      "Selected: Weight_2_mul_Age, RMSE: 0.08719309318416582\n",
      "Selected: Weight_div_Age_2, RMSE: 0.08231547094141457\n",
      "Selected: Weight_3, RMSE: 0.07963381147145546\n",
      "Selected: Sex, RMSE: 0.07774548029838056\n",
      "Selected: Weight_div_Heart_Rate_2, RMSE: 0.07683284494681396\n",
      "Selected: Age_div_Heart_Rate_mul_Weight, RMSE: 0.0756307608123456\n",
      "Selected: Height_div_Age_mul_Duration, RMSE: 0.07496522613125707\n",
      "Selected: Body_Temp_mul_Weight_div_Age, RMSE: 0.07480400550852064\n",
      "Selected: Age_div_Height_mul_Weight, RMSE: 0.07458402880879744\n",
      "Selected: Height_div_Age_mul_Heart_Rate, RMSE: 0.07434477977982137\n",
      "Selected: Heart_Rate_mul_Height_div_Age, RMSE: 0.07398099118582006\n",
      "Selected: Weight_2_div_Heart_Rate, RMSE: 0.07388175075946207\n",
      "Excluded: Weight_2_mul_Age, RMSE: 0.07388088398337758\n",
      "Selected: Heart_Rate_r, RMSE: 0.07305847095125816\n",
      "Excluded: Heart_Rate_div_Duration_mul_Weight, RMSE: 0.07305831210354777\n",
      "Selected: Weight_div_Duration_mul_Heart_Rate, RMSE: 0.07288446808779389\n",
      "Selected: Age_mul_Weight_div_Duration, RMSE: 0.07277915035503542\n",
      "Selected: Heart_Rate_2_mul_Body_Temp, RMSE: 0.0727334188714001\n",
      "Selected: Age_div_Duration_2, RMSE: 0.07269860337309418\n",
      "Selected: Weight_2_div_Age, RMSE: 0.07266793439131923\n",
      "Selected: Height_2_div_Body_Temp, RMSE: 0.07261952627832574\n",
      "Selected: Heart_Rate_2_mul_Weight, RMSE: 0.0725947832391901\n",
      "Selected: Height_div_Heart_Rate_2, RMSE: 0.07248595875752849\n",
      "Selected: Age_div_Weight_2, RMSE: 0.07243363030644787\n",
      "Selected: Height_div_Weight_2, RMSE: 0.07235790043974867\n",
      "Excluded: Height_div_Age_mul_Duration, RMSE: 0.07235638479417525\n",
      "Selected: Weight_div_Age_sqrt, RMSE: 0.07214640922374362\n",
      "Selected: Body_Temp_mul_Heart_Rate_div_Weight, RMSE: 0.07196724598249872\n",
      "Selected: Body_Temp_div_Weight_2, RMSE: 0.07181782081293464\n",
      "Selected: Heart_Rate_mul_Weight_div_Body_Temp, RMSE: 0.07159801095547935\n",
      "Selected: Body_Temp_mul_Heart_Rate_div_Age, RMSE: 0.07148888866656608\n",
      "Selected: Age_div_Height_2, RMSE: 0.07141709479094031\n",
      "Excluded: Age_div_Duration_2, RMSE: 0.07141423250196623\n",
      "Selected: Weight_div_Heart_Rate_mul_Height, RMSE: 0.07131137772399349\n",
      "Selected: Weight_2_mul_Age, RMSE: 0.07124408210962409\n",
      "Selected: Weight_2_div_Duration, RMSE: 0.07117832606574744\n",
      "Selected: Height_mul_Weight_div_Age, RMSE: 0.07111897589285664\n",
      "Excluded: Body_Temp_mul_Weight_div_Age, RMSE: 0.07111718220654847\n",
      "Selected: Duration_mul_Height_mul_Weight, RMSE: 0.07106980712989903\n",
      "Selected: Height_2_div_Age, RMSE: 0.07102254803343372\n",
      "Selected: Age_mul_Height_mul_Weight, RMSE: 0.07097584669498623\n",
      "Excluded: Height_div_Age_mul_Heart_Rate, RMSE: 0.07097408289655217\n",
      "Excluded: Weight_div_Age_2, RMSE: 0.07097399484325834\n",
      "Selected: Height_2_mul_Age, RMSE: 0.07092986264250402\n",
      "Selected: Height_mul_Weight_div_Heart_Rate, RMSE: 0.07085919298101924\n",
      "Excluded: Height_2_div_Body_Temp, RMSE: 0.07085527074693512\n",
      "Excluded: Height_div_Heart_Rate_2, RMSE: 0.07085472361467705\n",
      "Selected: Weight_div_Duration_2, RMSE: 0.07082670077341269\n",
      "Selected: Body_Temp_div_Duration_mul_Heart_Rate, RMSE: 0.070779129670052\n",
      "Selected: Heart_Rate_2_div_Duration, RMSE: 0.07073401299216094\n",
      "Selected: Weight_div_Body_Temp_mul_Duration, RMSE: 0.07064067282512587\n",
      "Selected: Body_Temp_div_Duration_mul_Weight, RMSE: 0.07058697884391536\n",
      "Excluded: Weight_2_div_Duration, RMSE: 0.07057434227897107\n",
      "Selected: Heart_Rate_div_Duration_sqrt, RMSE: 0.07052130260201464\n",
      "Selected: Body_Temp_mul_Weight_div_Heart_Rate, RMSE: 0.07048566845901781\n",
      "Selected: Body_Temp_2_mul_Weight, RMSE: 0.07045473032697183\n",
      "Excluded: Weight_div_Duration_2, RMSE: 0.07045441803121226\n",
      "Selected: Weight_2_mul_Heart_Rate, RMSE: 0.07043037481760694\n",
      "Excluded: Heart_Rate_mul_Weight_div_Body_Temp, RMSE: 0.07042477068360793\n",
      "Selected: Weight_2, RMSE: 0.07039542143924145\n",
      "Excluded: Body_Temp_div_Duration_mul_Heart_Rate, RMSE: 0.07039512478923425\n",
      "Selected: Weight_r, RMSE: 0.07035990977950526\n",
      "Selected: Heart_Rate_mul_Weight, RMSE: 0.07032344169196092\n",
      "Excluded: Weight_3, RMSE: 0.0703220520950634\n",
      "Selected: Heart_Rate_div_Duration_mul_Weight, RMSE: 0.07028080715256688\n",
      "Selected: Height_div_Age_mul_Heart_Rate, RMSE: 0.07026848992265354\n",
      "Selected: Body_Temp_mul_Duration_mul_Height, RMSE: 0.07025523201476953\n",
      "Excluded: Duration_mul_Height_mul_Weight, RMSE: 0.0702524646020056\n",
      "Excluded: Body_Temp_div_Duration_mul_Weight, RMSE: 0.07025218571574482\n",
      "Selected: Height_2_div_Heart_Rate, RMSE: 0.0702466234626081\n",
      "Selected: Height_div_Heart_Rate_mul_Weight, RMSE: 0.07023972915653638\n",
      "Selected: Body_Temp_div_Heart_Rate_sqrt, RMSE: 0.07023233144283501\n",
      "Selected: Age_mul_Heart_Rate_mul_Weight, RMSE: 0.07022105407122559\n",
      "Selected: Age_mul_Duration_mul_Heart_Rate, RMSE: 0.07021234718248387\n",
      "Excluded: Heart_Rate_mul_Height_div_Age, RMSE: 0.07021105689712635\n",
      "Selected: Age_mul_Body_Temp_mul_Duration, RMSE: 0.07019204066568482\n",
      "Selected: Duration_mul_Height_div_Heart_Rate, RMSE: 0.07016911084856059\n",
      "Excluded: Heart_Rate_r, RMSE: 0.07016698877429987\n",
      "Selected: Duration_2_div_Age, RMSE: 0.07015158033251075\n",
      "Selected: Duration_div_Age_sqrt, RMSE: 0.07013592445475475\n",
      "Selected: Weight_div_Duration, RMSE: 0.07012067969114161\n",
      "Selected: Heart_Rate_2_div_Height, RMSE: 0.0701068379888096\n",
      "Selected: Body_Temp_div_Duration_mul_Weight, RMSE: 0.07009510604501466\n",
      "Excluded: Heart_Rate_2_mul_Weight, RMSE: 0.07009500225674348\n",
      "Excluded: Weight_2_div_Age, RMSE: 0.07009493111342774\n",
      "Selected: Height_div_Duration_mul_Weight, RMSE: 0.07008820496549999\n",
      "Selected: Heart_Rate_2_mul_Age, RMSE: 0.07007999999877235\n",
      "Selected: Age_mul_Body_Temp_mul_Heart_Rate, RMSE: 0.0700702555490219\n",
      "Excluded: Body_Temp_mul_Weight_div_Heart_Rate, RMSE: 0.07007008150834482\n",
      "Selected: Body_Temp_2_mul_Height, RMSE: 0.07006026382910815\n",
      "Selected: Age_mul_Body_Temp_div_Weight, RMSE: 0.0700514999842719\n",
      "Excluded: Body_Temp_2_mul_Weight, RMSE: 0.07005098746844608\n",
      "Excluded: Heart_Rate_2_div_Height, RMSE: 0.0700506481947476\n",
      "Selected: Body_Temp_div_Duration_2, RMSE: 0.07004517184388731\n",
      "Selected: Duration_2_mul_Age, RMSE: 0.07003771334151446\n",
      "Selected: Duration_3, RMSE: 0.07002999209932505\n",
      "Selected: Duration_2_mul_Heart_Rate, RMSE: 0.0700234874398673\n",
      "Excluded: Duration_div_Age_sqrt, RMSE: 0.07002299129114646\n",
      "Selected: Age_2_mul_Weight, RMSE: 0.07001875265228308\n",
      "Selected: Heart_Rate_mul_Weight_div_Age, RMSE: 0.07001061919860439\n",
      "Selected: Age_2_mul_Heart_Rate, RMSE: 0.07000421486331183\n",
      "Selected: Age_mul_Body_Temp_mul_Weight, RMSE: 0.06999968428982808\n",
      "Selected: Body_Temp_mul_Height_div_Weight, RMSE: 0.06999533378304754\n",
      "Selected: Height_div_Age_2, RMSE: 0.0699906906378653\n",
      "Excluded: Duration_2_div_Age, RMSE: 0.06999044792519359\n",
      "Selected: Heart_Rate_mul_Height_div_Duration, RMSE: 0.06998645222478539\n",
      "Selected: Height_div_Duration_2, RMSE: 0.06998028140101824\n",
      "Selected: Height_div_Duration_sqrt, RMSE: 0.06997300884239678\n",
      "Excluded: Duration_2_mul_Heart_Rate, RMSE: 0.06997188484853101\n",
      "Selected: Body_Temp_2_mul_Age, RMSE: 0.06996612856834643\n",
      "Selected: Height_mul_Weight, RMSE: 0.06995938462503039\n",
      "Excluded: Body_Temp_mul_Heart_Rate_div_Age, RMSE: 0.0699593518953272\n",
      "Selected: Weight_div_Height, RMSE: 0.06994806343369914\n",
      "Selected: Body_Temp_2_div_Weight, RMSE: 0.06993340533069953\n",
      "Selected: Body_Temp_mul_Heart_Rate_mul_Weight, RMSE: 0.06992512923967031\n",
      "Selected: Height_2_mul_Heart_Rate, RMSE: 0.06991777490060164\n",
      "Selected: Heart_Rate_mul_Height, RMSE: 0.0699122569405572\n",
      "Excluded: Weight_div_Heart_Rate_2, RMSE: 0.06991189576829844\n",
      "Excluded: Heart_Rate_mul_Weight, RMSE: 0.06990898810877749\n",
      "Selected: Duration_div_Heart_Rate_2, RMSE: 0.06990176159491192\n",
      "Excluded: Duration_mul_Height_div_Heart_Rate, RMSE: 0.06989450248384081\n",
      "Excluded: Weight_div_Duration, RMSE: 0.0698929688221166\n",
      "Selected: Body_Temp_div_Heart_Rate_mul_Weight, RMSE: 0.06988537001388373\n",
      "Selected: Age_mul_Duration, RMSE: 0.06987961257051138\n",
      "Selected: Weight_div_Duration_sqrt, RMSE: 0.06987537622973701\n",
      "Excluded: Heart_Rate_2_mul_Body_Temp, RMSE: 0.0698735603277435\n",
      "Selected: Heart_Rate_div_Weight_2, RMSE: 0.0698620349518587\n",
      "Selected: Body_Temp_div_Height_mul_Weight, RMSE: 0.06985713618785873\n",
      "Selected: Heart_Rate, RMSE: 0.06985538570103507\n",
      "Selected: Heart_Rate_div_Height_sqrt, RMSE: 0.06984779392262203\n",
      "Excluded: Height_2_mul_Heart_Rate, RMSE: 0.06984729713817707\n",
      "Excluded: Body_Temp_mul_Heart_Rate_mul_Weight, RMSE: 0.06984708327515765\n",
      "Excluded: Height_div_Duration_mul_Weight, RMSE: 0.06984654436575828\n",
      "Selected: Height_div_Heart_Rate, RMSE: 0.06984368834675432\n",
      "Selected: Heart_Rate_mul_Weight_div_Body_Temp, RMSE: 0.06983769739487301\n",
      "Selected: Body_Temp_mul_Heart_Rate_mul_Weight, RMSE: 0.06983338024699422\n",
      "Excluded: Height_2_div_Heart_Rate, RMSE: 0.06983223469867939\n",
      "Excluded: Height_div_Weight_2, RMSE: 0.06983206809441754\n",
      "Selected: Body_Temp_mul_Weight_div_Height, RMSE: 0.0698304340791193\n",
      "Selected: Duration_mul_Weight_div_Height, RMSE: 0.06982916730876529\n",
      "Excluded: Body_Temp_2_div_Weight, RMSE: 0.06982868626222852\n",
      "Selected: Heart_Rate_mul_Weight_div_Duration, RMSE: 0.06982487639788487\n",
      "Selected: Body_Temp_div_Weight, RMSE: 0.06982230660673638\n",
      "Selected: Weight_2_mul_Height, RMSE: 0.06981866274319638\n",
      "Excluded: Body_Temp_2_mul_Height, RMSE: 0.0698181762422478\n",
      "Excluded: Weight_r, RMSE: 0.06981741801607629\n",
      "Selected: Height_2_mul_Heart_Rate, RMSE: 0.06981593060228455\n",
      "Selected: Weight_3, RMSE: 0.06981485247809585\n",
      "Selected: Height_2, RMSE: 0.06981141301857235\n",
      "Excluded: Heart_Rate_div_Duration_sqrt, RMSE: 0.06981129363783635\n",
      "Selected: Age_2_div_Body_Temp, RMSE: 0.0698094224021655\n",
      "Selected: Body_Temp_2_div_Heart_Rate, RMSE: 0.06980840044728645\n",
      "Selected: Body_Temp_2_mul_Weight, RMSE: 0.06980576824987611\n",
      "Selected: Heart_Rate_mul_Height_div_Weight, RMSE: 0.06980303654708257\n",
      "Selected: Weight_log, RMSE: 0.06980135796169097\n"
     ]
    }
   ],
   "source": [
    "X_selected = list()\n",
    "rmse_list = [np.inf]\n",
    "X_selected, floated_list, rmse_list = sc.cache_result(\n",
    "    'fs_fast2_2', lambda : step_fs_fast(X_sel, X_selected, set(), rmse_list), rerun = 1\n",
    ")"
   ]
  },
  {
   "cell_type": "code",
   "execution_count": 17,
   "id": "ee0dc59c-3359-4739-84f1-2370b86bd595",
   "metadata": {},
   "outputs": [
    {
     "data": {
      "application/vnd.jupyter.widget-view+json": {
       "model_id": "",
       "version_major": 2,
       "version_minor": 0
      },
      "text/plain": [
       "Fold:   0%|          | 0/1 [00:00<?, ?it/s]"
      ]
     },
     "metadata": {},
     "output_type": "display_data"
    },
    {
     "data": {
      "text/plain": [
       "[np.float64(0.06931439312353471)]"
      ]
     },
     "execution_count": 17,
     "metadata": {},
     "output_type": "execute_result"
    }
   ],
   "source": [
    "result = sgml.cv(df_sel, ss, {'X_num': X_selected}, config, lr_adapter, result_proc = [sgml.lr_learning_result])\n",
    "result['valid_scores']"
   ]
  },
  {
   "cell_type": "code",
   "execution_count": 135,
   "id": "85fa1ff2-4d66-442c-83c8-d4ef5bca1f7e",
   "metadata": {},
   "outputs": [
    {
     "data": {
      "text/plain": [
       "Weight_2                       -382.332152\n",
       "Heart_Rate                     -161.056265\n",
       "Heart_Rate_mul_Weight          -100.510612\n",
       "Heart_Rate_sqrt_d               -87.574503\n",
       "Weight_sqrt_d                   -72.084118\n",
       "                                   ...    \n",
       "Weight_3                         39.050229\n",
       "Heart_Rate_r                     46.425879\n",
       "Heart_Rate_div_Weight_sqrt_d     58.461733\n",
       "Heart_Rate_2                    122.277537\n",
       "Weight_sqrt                     356.378532\n",
       "Length: 68, dtype: float64"
      ]
     },
     "execution_count": 135,
     "metadata": {},
     "output_type": "execute_result"
    }
   ],
   "source": [
    "result['model_result'][0]['coef'].sort_values()"
   ]
  },
  {
   "cell_type": "code",
   "execution_count": 136,
   "id": "ca504d97-198b-4596-a25e-23af5f2f5c7e",
   "metadata": {},
   "outputs": [
    {
     "data": {
      "text/plain": [
       "Sex                             0.000011\n",
       "Age_div_Duration_2              0.000850\n",
       "Duration_2_mul_Heart_Rate       0.092901\n",
       "Body_Temp_div_Weight_2          0.633915\n",
       "Body_Temp_div_Heart_Rate_2      0.665913\n",
       "                                  ...   \n",
       "Weight_sqrt                     1.000000\n",
       "Heart_Rate_sqrt_d               1.000000\n",
       "Heart_Rate_div_Weight_sqrt_d    1.000000\n",
       "Heart_Rate                      1.000000\n",
       "Weight_2                        1.000000\n",
       "Length: 67, dtype: float64"
      ]
     },
     "execution_count": 136,
     "metadata": {},
     "output_type": "execute_result"
    }
   ],
   "source": [
    "s_r2 = get_var_to_eliminate(X_selected, 0.0).sort_values()\n",
    "s_r2"
   ]
  },
  {
   "cell_type": "code",
   "execution_count": 124,
   "id": "e16fdeca-6c5b-4dc5-8eca-320a0522260f",
   "metadata": {},
   "outputs": [
    {
     "data": {
      "application/vnd.jupyter.widget-view+json": {
       "model_id": "d9e073b5d76642e3b2da7d2f48efea70",
       "version_major": 2,
       "version_minor": 0
      },
      "text/plain": [
       "Fold:   0%|          | 0/1 [00:00<?, ?it/s]"
      ]
     },
     "metadata": {},
     "output_type": "display_data"
    },
    {
     "data": {
      "text/plain": [
       "[0.0750261023330266]"
      ]
     },
     "execution_count": 124,
     "metadata": {},
     "output_type": "execute_result"
    }
   ],
   "source": [
    "result = sgml.cv(df_sel, ss, {'X_num': s_r2.sort_values().index[:20].tolist()}, config, lr_adapter, result_proc = [sgml.lr_learning_result])\n",
    "result['valid_scores']"
   ]
  },
  {
   "cell_type": "code",
   "execution_count": 125,
   "id": "6e5c83b4-3a09-4930-aa1a-978d98aa16f7",
   "metadata": {},
   "outputs": [
    {
     "data": {
      "text/plain": [
       "Height_mul_Weight_div_Heart_Rate     -0.330607\n",
       "Body_Temp_div_Heart_Rate_2           -0.120001\n",
       "Weight_2_mul_Age                     -0.101314\n",
       "Age_mul_Body_Temp_div_Weight         -0.067475\n",
       "Heart_Rate_3                         -0.055731\n",
       "Age_2_mul_Height                     -0.045436\n",
       "Sex                                  -0.035670\n",
       "Duration_2_mul_Body_Temp             -0.031057\n",
       "Age_mul_Height_div_Duration          -0.025297\n",
       "Heart_Rate_mul_Weight_div_Age        -0.008391\n",
       "Weight_div_Duration_2                -0.003080\n",
       "Heart_Rate_mul_Height_div_Duration    0.017935\n",
       "Duration_3                            0.021200\n",
       "Body_Temp_3                           0.032703\n",
       "Weight_3                              0.045102\n",
       "Height_div_Duration_mul_Heart_Rate    0.062403\n",
       "Heart_Rate_div_Weight_2               0.091598\n",
       "Heart_Rate_mul_Height_mul_Weight      0.289057\n",
       "Age_mul_Weight_div_Heart_Rate         0.322951\n",
       "Duration_log                          1.011359\n",
       "dtype: float64"
      ]
     },
     "execution_count": 125,
     "metadata": {},
     "output_type": "execute_result"
    }
   ],
   "source": [
    "result['model_result'][0]['coef'].sort_values()"
   ]
  },
  {
   "cell_type": "code",
   "execution_count": 129,
   "id": "68525f3e-c734-4592-ae52-b48ae7ea5452",
   "metadata": {},
   "outputs": [
    {
     "data": {
      "application/vnd.jupyter.widget-view+json": {
       "model_id": "4f8b03ee50884f258f2b20d8a2b97458",
       "version_major": 2,
       "version_minor": 0
      },
      "text/plain": [
       "Fold:   0%|          | 0/1 [00:00<?, ?it/s]"
      ]
     },
     "metadata": {},
     "output_type": "display_data"
    },
    {
     "data": {
      "text/plain": [
       "[0.08022250806791238]"
      ]
     },
     "execution_count": 129,
     "metadata": {},
     "output_type": "execute_result"
    }
   ],
   "source": [
    "X_step_sel = [\n",
    "    'Duration_log', 'Heart_Rate_div_Weight_sqrt_d', 'Age_div_Weight_sqrt_d',\n",
    "    'Age_mul_Heart_Rate_div_Body_Temp', 'Sex', 'Body_Temp_div_Heart_Rate_2',  'Weight_2_mul_Duration'\n",
    "]\n",
    "result = sgml.cv(df_sel, ss, {'X_num': X_step_sel}, config, lr_adapter, result_proc = [sgml.lr_learning_result])\n",
    "result['valid_scores']"
   ]
  },
  {
   "cell_type": "code",
   "execution_count": 130,
   "id": "09f9792f-e20f-4c21-b865-8cae4ca1037c",
   "metadata": {},
   "outputs": [
    {
     "data": {
      "text/plain": [
       "Age_mul_Heart_Rate_div_Body_Temp   -0.304488\n",
       "Body_Temp_div_Heart_Rate_2         -0.156461\n",
       "Sex                                -0.041590\n",
       "Heart_Rate_div_Weight_sqrt_d        0.018173\n",
       "Age_div_Weight_sqrt_d               0.045164\n",
       "Weight_2_mul_Duration               0.046708\n",
       "Duration_log                        0.916870\n",
       "dtype: float64"
      ]
     },
     "execution_count": 130,
     "metadata": {},
     "output_type": "execute_result"
    }
   ],
   "source": [
    "result['model_result'][0]['coef'].sort_values()"
   ]
  },
  {
   "cell_type": "code",
   "execution_count": null,
   "id": "85e06df7-568e-490d-b6ed-35d00353ca87",
   "metadata": {},
   "outputs": [],
   "source": []
  }
 ],
 "metadata": {
  "kernelspec": {
   "display_name": "Python 3 (ipykernel)",
   "language": "python",
   "name": "python3"
  },
  "language_info": {
   "codemirror_mode": {
    "name": "ipython",
    "version": 3
   },
   "file_extension": ".py",
   "mimetype": "text/x-python",
   "name": "python",
   "nbconvert_exporter": "python",
   "pygments_lexer": "ipython3",
   "version": "3.12.9"
  }
 },
 "nbformat": 4,
 "nbformat_minor": 5
}
