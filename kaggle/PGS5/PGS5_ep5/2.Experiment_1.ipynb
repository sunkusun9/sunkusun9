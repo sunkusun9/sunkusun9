{
 "cells": [
  {
   "cell_type": "code",
   "execution_count": 1,
   "id": "94097410-f9b3-4ee2-adb1-ecae6b2dd654",
   "metadata": {},
   "outputs": [],
   "source": [
    "import sgml, sgutil, sgpp, dproc\n",
    "import pandas as pd\n",
    "import numpy as np\n",
    "import matplotlib.pyplot as plt\n",
    "import seaborn as sns"
   ]
  },
  {
   "cell_type": "code",
   "execution_count": 2,
   "id": "998ee42c-a596-4e16-9fd3-ccef9ee73066",
   "metadata": {},
   "outputs": [],
   "source": [
    "from proc_v1 import p\n",
    "from ml_v1 import X_cat, X_num, X_all, target, kf, ss, config\n",
    "from ml_v1 import xgb_adapter, lgb_adapter, cb_adapter, lr_adapter"
   ]
  },
  {
   "cell_type": "code",
   "execution_count": 3,
   "id": "3bde588d-044d-47a3-8731-89557c878acc",
   "metadata": {},
   "outputs": [
    {
     "data": {
      "text/plain": [
       "750000"
      ]
     },
     "execution_count": 3,
     "metadata": {},
     "output_type": "execute_result"
    }
   ],
   "source": [
    "sc = sgutil.SGCache('img', 'result', 'model')\n",
    "df_train = p.fit_transform('data/train.csv').assign(\n",
    "    Calories_Log = lambda x: np.log(x['Calories'] + 1)\n",
    ")\n",
    "df_test = p.transform('data/test.csv')\n",
    "len(df_train)"
   ]
  },
  {
   "cell_type": "markdown",
   "id": "882a096e-bd32-4c81-903a-1acfb4910504",
   "metadata": {},
   "source": [
    "# 1. Polynomial Feature Generation & Selection\n",
    "\n",
    "- 1차, 1 / 1차, 2차, 1차 / 1차, 2차 / 1차, 1차 / 2차, 3차 속성을 만듭니다.\n",
    "- 전체 속성으로 선형 모델을 학습 시키고, 회귀계수를 봅니다.\n",
    "- 다중 공선성으로 인해 회귀계수가 커진 케이스가 확인 됐습니다. VIF를 측정하여 속성을 선별합니다."
   ]
  },
  {
   "cell_type": "code",
   "execution_count": 4,
   "id": "bde7f046-718b-4639-bd8c-5b63d5077280",
   "metadata": {},
   "outputs": [],
   "source": [
    "from itertools import combinations, product\n",
    "\n",
    "X_r = [i + '_r' for i in X_num]\n",
    "X_o2 = [(i + '_2' if i == j else i + '_mul_'+ j, (i, j)) for i, j in product(X_num, X_num) if i <= j]\n",
    "X_1d1 = [(i + '_div_' + j, (i, j)) for i, j in product(X_num, X_num) if i != j]\n",
    "X_o2d1 = [\n",
    "    (i + '_div_' + j, (i, j)) for (i, a), j in product(X_o2, X_num) if j not in a \n",
    "]\n",
    "X_o1d2 = [\n",
    "    (i + '_div_' + j, (i, j)) for i, (j, a) in product(X_num, X_o2) if i not in a \n",
    "]\n",
    "\n",
    "X_o3 = [\n",
    "    (\n",
    "        i + '_3' if i == j and j == k else i + '_2_mul_' + k if i == j else i + '_2_mul_' + k if i == k  else j + '_2_mul_' + i if j == k else i + '_mul_' + j + '_mul_' + k,\n",
    "        (i, j, k)\n",
    "    )\n",
    "    for i, j, k in product(X_num, X_num, X_num) if i <= j and i <= k and j <= k\n",
    "]"
   ]
  },
  {
   "cell_type": "code",
   "execution_count": 5,
   "id": "98f1c7d1-d417-4a3c-ba4e-e9e20ecdeebd",
   "metadata": {},
   "outputs": [
    {
     "data": {
      "text/html": [
       "<div>\n",
       "<style scoped>\n",
       "    .dataframe tbody tr th:only-of-type {\n",
       "        vertical-align: middle;\n",
       "    }\n",
       "\n",
       "    .dataframe tbody tr th {\n",
       "        vertical-align: top;\n",
       "    }\n",
       "\n",
       "    .dataframe thead th {\n",
       "        text-align: right;\n",
       "    }\n",
       "</style>\n",
       "<table border=\"1\" class=\"dataframe\">\n",
       "  <thead>\n",
       "    <tr style=\"text-align: right;\">\n",
       "      <th></th>\n",
       "      <th>Sex</th>\n",
       "      <th>Age</th>\n",
       "      <th>Height</th>\n",
       "      <th>Weight</th>\n",
       "      <th>Duration</th>\n",
       "      <th>Heart_Rate</th>\n",
       "      <th>Body_Temp</th>\n",
       "      <th>Calories</th>\n",
       "      <th>Calories_Log</th>\n",
       "      <th>Age_r</th>\n",
       "      <th>...</th>\n",
       "      <th>Body_Temp_div_Height_2</th>\n",
       "      <th>Body_Temp_div_Height_mul_Weight</th>\n",
       "      <th>Body_Temp_div_Weight_2</th>\n",
       "      <th>Body_Temp_div_Duration_mul_Height</th>\n",
       "      <th>Body_Temp_div_Duration_mul_Weight</th>\n",
       "      <th>Body_Temp_div_Duration_2</th>\n",
       "      <th>Body_Temp_div_Duration_mul_Heart_Rate</th>\n",
       "      <th>Body_Temp_div_Heart_Rate_mul_Height</th>\n",
       "      <th>Body_Temp_div_Heart_Rate_mul_Weight</th>\n",
       "      <th>Body_Temp_div_Heart_Rate_2</th>\n",
       "    </tr>\n",
       "    <tr>\n",
       "      <th>id</th>\n",
       "      <th></th>\n",
       "      <th></th>\n",
       "      <th></th>\n",
       "      <th></th>\n",
       "      <th></th>\n",
       "      <th></th>\n",
       "      <th></th>\n",
       "      <th></th>\n",
       "      <th></th>\n",
       "      <th></th>\n",
       "      <th></th>\n",
       "      <th></th>\n",
       "      <th></th>\n",
       "      <th></th>\n",
       "      <th></th>\n",
       "      <th></th>\n",
       "      <th></th>\n",
       "      <th></th>\n",
       "      <th></th>\n",
       "      <th></th>\n",
       "      <th></th>\n",
       "    </tr>\n",
       "  </thead>\n",
       "  <tbody>\n",
       "    <tr>\n",
       "      <th>0</th>\n",
       "      <td>True</td>\n",
       "      <td>36</td>\n",
       "      <td>189.0</td>\n",
       "      <td>82.0</td>\n",
       "      <td>26.0</td>\n",
       "      <td>101.0</td>\n",
       "      <td>41.000000</td>\n",
       "      <td>150.0</td>\n",
       "      <td>5.017280</td>\n",
       "      <td>0.027778</td>\n",
       "      <td>...</td>\n",
       "      <td>0.001148</td>\n",
       "      <td>0.002646</td>\n",
       "      <td>0.006098</td>\n",
       "      <td>0.008344</td>\n",
       "      <td>0.019231</td>\n",
       "      <td>0.060651</td>\n",
       "      <td>0.015613</td>\n",
       "      <td>0.002148</td>\n",
       "      <td>0.004950</td>\n",
       "      <td>0.004019</td>\n",
       "    </tr>\n",
       "    <tr>\n",
       "      <th>1</th>\n",
       "      <td>False</td>\n",
       "      <td>64</td>\n",
       "      <td>163.0</td>\n",
       "      <td>60.0</td>\n",
       "      <td>8.0</td>\n",
       "      <td>85.0</td>\n",
       "      <td>39.700001</td>\n",
       "      <td>34.0</td>\n",
       "      <td>3.555348</td>\n",
       "      <td>0.015625</td>\n",
       "      <td>...</td>\n",
       "      <td>0.001494</td>\n",
       "      <td>0.004059</td>\n",
       "      <td>0.011028</td>\n",
       "      <td>0.030445</td>\n",
       "      <td>0.082708</td>\n",
       "      <td>0.620313</td>\n",
       "      <td>0.058382</td>\n",
       "      <td>0.002865</td>\n",
       "      <td>0.007784</td>\n",
       "      <td>0.005495</td>\n",
       "    </tr>\n",
       "    <tr>\n",
       "      <th>2</th>\n",
       "      <td>False</td>\n",
       "      <td>51</td>\n",
       "      <td>161.0</td>\n",
       "      <td>64.0</td>\n",
       "      <td>7.0</td>\n",
       "      <td>84.0</td>\n",
       "      <td>39.799999</td>\n",
       "      <td>29.0</td>\n",
       "      <td>3.401197</td>\n",
       "      <td>0.019608</td>\n",
       "      <td>...</td>\n",
       "      <td>0.001535</td>\n",
       "      <td>0.003863</td>\n",
       "      <td>0.009717</td>\n",
       "      <td>0.035315</td>\n",
       "      <td>0.088839</td>\n",
       "      <td>0.812245</td>\n",
       "      <td>0.067687</td>\n",
       "      <td>0.002943</td>\n",
       "      <td>0.007403</td>\n",
       "      <td>0.005641</td>\n",
       "    </tr>\n",
       "    <tr>\n",
       "      <th>3</th>\n",
       "      <td>True</td>\n",
       "      <td>20</td>\n",
       "      <td>192.0</td>\n",
       "      <td>90.0</td>\n",
       "      <td>25.0</td>\n",
       "      <td>105.0</td>\n",
       "      <td>40.700001</td>\n",
       "      <td>140.0</td>\n",
       "      <td>4.948760</td>\n",
       "      <td>0.050000</td>\n",
       "      <td>...</td>\n",
       "      <td>0.001104</td>\n",
       "      <td>0.002355</td>\n",
       "      <td>0.005025</td>\n",
       "      <td>0.008479</td>\n",
       "      <td>0.018089</td>\n",
       "      <td>0.065120</td>\n",
       "      <td>0.015505</td>\n",
       "      <td>0.002019</td>\n",
       "      <td>0.004307</td>\n",
       "      <td>0.003692</td>\n",
       "    </tr>\n",
       "    <tr>\n",
       "      <th>4</th>\n",
       "      <td>False</td>\n",
       "      <td>38</td>\n",
       "      <td>166.0</td>\n",
       "      <td>61.0</td>\n",
       "      <td>25.0</td>\n",
       "      <td>102.0</td>\n",
       "      <td>40.599998</td>\n",
       "      <td>146.0</td>\n",
       "      <td>4.990433</td>\n",
       "      <td>0.026316</td>\n",
       "      <td>...</td>\n",
       "      <td>0.001473</td>\n",
       "      <td>0.004009</td>\n",
       "      <td>0.010911</td>\n",
       "      <td>0.009783</td>\n",
       "      <td>0.026623</td>\n",
       "      <td>0.064960</td>\n",
       "      <td>0.015922</td>\n",
       "      <td>0.002398</td>\n",
       "      <td>0.006525</td>\n",
       "      <td>0.003902</td>\n",
       "    </tr>\n",
       "  </tbody>\n",
       "</table>\n",
       "<p>5 rows × 302 columns</p>\n",
       "</div>"
      ],
      "text/plain": [
       "      Sex  Age  Height  Weight  Duration  Heart_Rate  Body_Temp  Calories  \\\n",
       "id                                                                          \n",
       "0    True   36   189.0    82.0      26.0       101.0  41.000000     150.0   \n",
       "1   False   64   163.0    60.0       8.0        85.0  39.700001      34.0   \n",
       "2   False   51   161.0    64.0       7.0        84.0  39.799999      29.0   \n",
       "3    True   20   192.0    90.0      25.0       105.0  40.700001     140.0   \n",
       "4   False   38   166.0    61.0      25.0       102.0  40.599998     146.0   \n",
       "\n",
       "    Calories_Log     Age_r  ...  Body_Temp_div_Height_2  \\\n",
       "id                          ...                           \n",
       "0       5.017280  0.027778  ...                0.001148   \n",
       "1       3.555348  0.015625  ...                0.001494   \n",
       "2       3.401197  0.019608  ...                0.001535   \n",
       "3       4.948760  0.050000  ...                0.001104   \n",
       "4       4.990433  0.026316  ...                0.001473   \n",
       "\n",
       "    Body_Temp_div_Height_mul_Weight  Body_Temp_div_Weight_2  \\\n",
       "id                                                            \n",
       "0                          0.002646                0.006098   \n",
       "1                          0.004059                0.011028   \n",
       "2                          0.003863                0.009717   \n",
       "3                          0.002355                0.005025   \n",
       "4                          0.004009                0.010911   \n",
       "\n",
       "    Body_Temp_div_Duration_mul_Height  Body_Temp_div_Duration_mul_Weight  \\\n",
       "id                                                                         \n",
       "0                            0.008344                           0.019231   \n",
       "1                            0.030445                           0.082708   \n",
       "2                            0.035315                           0.088839   \n",
       "3                            0.008479                           0.018089   \n",
       "4                            0.009783                           0.026623   \n",
       "\n",
       "    Body_Temp_div_Duration_2  Body_Temp_div_Duration_mul_Heart_Rate  \\\n",
       "id                                                                    \n",
       "0                   0.060651                               0.015613   \n",
       "1                   0.620313                               0.058382   \n",
       "2                   0.812245                               0.067687   \n",
       "3                   0.065120                               0.015505   \n",
       "4                   0.064960                               0.015922   \n",
       "\n",
       "    Body_Temp_div_Heart_Rate_mul_Height  Body_Temp_div_Heart_Rate_mul_Weight  \\\n",
       "id                                                                             \n",
       "0                              0.002148                             0.004950   \n",
       "1                              0.002865                             0.007784   \n",
       "2                              0.002943                             0.007403   \n",
       "3                              0.002019                             0.004307   \n",
       "4                              0.002398                             0.006525   \n",
       "\n",
       "    Body_Temp_div_Heart_Rate_2  \n",
       "id                              \n",
       "0                     0.004019  \n",
       "1                     0.005495  \n",
       "2                     0.005641  \n",
       "3                     0.003692  \n",
       "4                     0.003902  \n",
       "\n",
       "[5 rows x 302 columns]"
      ]
     },
     "execution_count": 5,
     "metadata": {},
     "output_type": "execute_result"
    }
   ],
   "source": [
    "var_list = [(1 / df_train[a]).rename(a + '_r') for a in X_num]\n",
    "var_list.extend([(df_train[a].astype('float32') * df_train[b].astype('float32')).rename(i) for i, (a, b) in X_o2])\n",
    "var_list.extend([(df_train[a].astype('float32') / df_train[b].astype('float32')).rename(i) for i, (a, b) in X_1d1])\n",
    "var_list.extend([(df_train[a].astype('float32') * df_train[b].astype('float32') * df_train[c].astype('float32')).rename(i) for i, (a, b, c) in X_o3])\n",
    "\n",
    "df_sel = dproc.join_and_assign(\n",
    "    df_train,\n",
    "    pd.concat(var_list, axis = 1)\n",
    ")\n",
    "df_sel = dproc.join_and_assign(\n",
    "    df_sel,\n",
    "    pd.concat([(df_sel[a] / df_sel[b]).rename(i) for i, (a, b) in X_o2d1 + X_o1d2], axis = 1)\n",
    ")\n",
    "df_sel.head()"
   ]
  },
  {
   "cell_type": "code",
   "execution_count": 6,
   "id": "46c52b3d-cb24-4106-afad-2ba55f6a2a41",
   "metadata": {},
   "outputs": [
    {
     "data": {
      "text/html": [
       "<div>\n",
       "<style scoped>\n",
       "    .dataframe tbody tr th:only-of-type {\n",
       "        vertical-align: middle;\n",
       "    }\n",
       "\n",
       "    .dataframe tbody tr th {\n",
       "        vertical-align: top;\n",
       "    }\n",
       "\n",
       "    .dataframe thead th {\n",
       "        text-align: right;\n",
       "    }\n",
       "</style>\n",
       "<table border=\"1\" class=\"dataframe\">\n",
       "  <thead>\n",
       "    <tr style=\"text-align: right;\">\n",
       "      <th></th>\n",
       "      <th>Sex</th>\n",
       "      <th>Age</th>\n",
       "      <th>Height</th>\n",
       "      <th>Weight</th>\n",
       "      <th>Duration</th>\n",
       "      <th>Heart_Rate</th>\n",
       "      <th>Body_Temp</th>\n",
       "      <th>Calories</th>\n",
       "      <th>Calories_Log</th>\n",
       "      <th>Age_r</th>\n",
       "      <th>...</th>\n",
       "      <th>Body_Temp_div_Height_2</th>\n",
       "      <th>Body_Temp_div_Height_mul_Weight</th>\n",
       "      <th>Body_Temp_div_Weight_2</th>\n",
       "      <th>Body_Temp_div_Duration_mul_Height</th>\n",
       "      <th>Body_Temp_div_Duration_mul_Weight</th>\n",
       "      <th>Body_Temp_div_Duration_2</th>\n",
       "      <th>Body_Temp_div_Duration_mul_Heart_Rate</th>\n",
       "      <th>Body_Temp_div_Heart_Rate_mul_Height</th>\n",
       "      <th>Body_Temp_div_Heart_Rate_mul_Weight</th>\n",
       "      <th>Body_Temp_div_Heart_Rate_2</th>\n",
       "    </tr>\n",
       "    <tr>\n",
       "      <th>id</th>\n",
       "      <th></th>\n",
       "      <th></th>\n",
       "      <th></th>\n",
       "      <th></th>\n",
       "      <th></th>\n",
       "      <th></th>\n",
       "      <th></th>\n",
       "      <th></th>\n",
       "      <th></th>\n",
       "      <th></th>\n",
       "      <th></th>\n",
       "      <th></th>\n",
       "      <th></th>\n",
       "      <th></th>\n",
       "      <th></th>\n",
       "      <th></th>\n",
       "      <th></th>\n",
       "      <th></th>\n",
       "      <th></th>\n",
       "      <th></th>\n",
       "      <th></th>\n",
       "    </tr>\n",
       "  </thead>\n",
       "  <tbody>\n",
       "    <tr>\n",
       "      <th>0</th>\n",
       "      <td>True</td>\n",
       "      <td>36</td>\n",
       "      <td>189.0</td>\n",
       "      <td>82.0</td>\n",
       "      <td>26.0</td>\n",
       "      <td>101.0</td>\n",
       "      <td>41.000000</td>\n",
       "      <td>150.0</td>\n",
       "      <td>5.017280</td>\n",
       "      <td>0.027778</td>\n",
       "      <td>...</td>\n",
       "      <td>0.001148</td>\n",
       "      <td>0.002646</td>\n",
       "      <td>0.006098</td>\n",
       "      <td>0.008344</td>\n",
       "      <td>0.019231</td>\n",
       "      <td>0.060651</td>\n",
       "      <td>0.015613</td>\n",
       "      <td>0.002148</td>\n",
       "      <td>0.004950</td>\n",
       "      <td>0.004019</td>\n",
       "    </tr>\n",
       "    <tr>\n",
       "      <th>1</th>\n",
       "      <td>False</td>\n",
       "      <td>64</td>\n",
       "      <td>163.0</td>\n",
       "      <td>60.0</td>\n",
       "      <td>8.0</td>\n",
       "      <td>85.0</td>\n",
       "      <td>39.700001</td>\n",
       "      <td>34.0</td>\n",
       "      <td>3.555348</td>\n",
       "      <td>0.015625</td>\n",
       "      <td>...</td>\n",
       "      <td>0.001494</td>\n",
       "      <td>0.004059</td>\n",
       "      <td>0.011028</td>\n",
       "      <td>0.030445</td>\n",
       "      <td>0.082708</td>\n",
       "      <td>0.620313</td>\n",
       "      <td>0.058382</td>\n",
       "      <td>0.002865</td>\n",
       "      <td>0.007784</td>\n",
       "      <td>0.005495</td>\n",
       "    </tr>\n",
       "    <tr>\n",
       "      <th>2</th>\n",
       "      <td>False</td>\n",
       "      <td>51</td>\n",
       "      <td>161.0</td>\n",
       "      <td>64.0</td>\n",
       "      <td>7.0</td>\n",
       "      <td>84.0</td>\n",
       "      <td>39.799999</td>\n",
       "      <td>29.0</td>\n",
       "      <td>3.401197</td>\n",
       "      <td>0.019608</td>\n",
       "      <td>...</td>\n",
       "      <td>0.001535</td>\n",
       "      <td>0.003863</td>\n",
       "      <td>0.009717</td>\n",
       "      <td>0.035315</td>\n",
       "      <td>0.088839</td>\n",
       "      <td>0.812245</td>\n",
       "      <td>0.067687</td>\n",
       "      <td>0.002943</td>\n",
       "      <td>0.007403</td>\n",
       "      <td>0.005641</td>\n",
       "    </tr>\n",
       "    <tr>\n",
       "      <th>3</th>\n",
       "      <td>True</td>\n",
       "      <td>20</td>\n",
       "      <td>192.0</td>\n",
       "      <td>90.0</td>\n",
       "      <td>25.0</td>\n",
       "      <td>105.0</td>\n",
       "      <td>40.700001</td>\n",
       "      <td>140.0</td>\n",
       "      <td>4.948760</td>\n",
       "      <td>0.050000</td>\n",
       "      <td>...</td>\n",
       "      <td>0.001104</td>\n",
       "      <td>0.002355</td>\n",
       "      <td>0.005025</td>\n",
       "      <td>0.008479</td>\n",
       "      <td>0.018089</td>\n",
       "      <td>0.065120</td>\n",
       "      <td>0.015505</td>\n",
       "      <td>0.002019</td>\n",
       "      <td>0.004307</td>\n",
       "      <td>0.003692</td>\n",
       "    </tr>\n",
       "    <tr>\n",
       "      <th>4</th>\n",
       "      <td>False</td>\n",
       "      <td>38</td>\n",
       "      <td>166.0</td>\n",
       "      <td>61.0</td>\n",
       "      <td>25.0</td>\n",
       "      <td>102.0</td>\n",
       "      <td>40.599998</td>\n",
       "      <td>146.0</td>\n",
       "      <td>4.990433</td>\n",
       "      <td>0.026316</td>\n",
       "      <td>...</td>\n",
       "      <td>0.001473</td>\n",
       "      <td>0.004009</td>\n",
       "      <td>0.010911</td>\n",
       "      <td>0.009783</td>\n",
       "      <td>0.026623</td>\n",
       "      <td>0.064960</td>\n",
       "      <td>0.015922</td>\n",
       "      <td>0.002398</td>\n",
       "      <td>0.006525</td>\n",
       "      <td>0.003902</td>\n",
       "    </tr>\n",
       "  </tbody>\n",
       "</table>\n",
       "<p>5 rows × 302 columns</p>\n",
       "</div>"
      ],
      "text/plain": [
       "      Sex  Age  Height  Weight  Duration  Heart_Rate  Body_Temp  Calories  \\\n",
       "id                                                                          \n",
       "0    True   36   189.0    82.0      26.0       101.0  41.000000     150.0   \n",
       "1   False   64   163.0    60.0       8.0        85.0  39.700001      34.0   \n",
       "2   False   51   161.0    64.0       7.0        84.0  39.799999      29.0   \n",
       "3    True   20   192.0    90.0      25.0       105.0  40.700001     140.0   \n",
       "4   False   38   166.0    61.0      25.0       102.0  40.599998     146.0   \n",
       "\n",
       "    Calories_Log     Age_r  ...  Body_Temp_div_Height_2  \\\n",
       "id                          ...                           \n",
       "0       5.017280  0.027778  ...                0.001148   \n",
       "1       3.555348  0.015625  ...                0.001494   \n",
       "2       3.401197  0.019608  ...                0.001535   \n",
       "3       4.948760  0.050000  ...                0.001104   \n",
       "4       4.990433  0.026316  ...                0.001473   \n",
       "\n",
       "    Body_Temp_div_Height_mul_Weight  Body_Temp_div_Weight_2  \\\n",
       "id                                                            \n",
       "0                          0.002646                0.006098   \n",
       "1                          0.004059                0.011028   \n",
       "2                          0.003863                0.009717   \n",
       "3                          0.002355                0.005025   \n",
       "4                          0.004009                0.010911   \n",
       "\n",
       "    Body_Temp_div_Duration_mul_Height  Body_Temp_div_Duration_mul_Weight  \\\n",
       "id                                                                         \n",
       "0                            0.008344                           0.019231   \n",
       "1                            0.030445                           0.082708   \n",
       "2                            0.035315                           0.088839   \n",
       "3                            0.008479                           0.018089   \n",
       "4                            0.009783                           0.026623   \n",
       "\n",
       "    Body_Temp_div_Duration_2  Body_Temp_div_Duration_mul_Heart_Rate  \\\n",
       "id                                                                    \n",
       "0                   0.060651                               0.015613   \n",
       "1                   0.620313                               0.058382   \n",
       "2                   0.812245                               0.067687   \n",
       "3                   0.065120                               0.015505   \n",
       "4                   0.064960                               0.015922   \n",
       "\n",
       "    Body_Temp_div_Heart_Rate_mul_Height  Body_Temp_div_Heart_Rate_mul_Weight  \\\n",
       "id                                                                             \n",
       "0                              0.002148                             0.004950   \n",
       "1                              0.002865                             0.007784   \n",
       "2                              0.002943                             0.007403   \n",
       "3                              0.002019                             0.004307   \n",
       "4                              0.002398                             0.006525   \n",
       "\n",
       "    Body_Temp_div_Heart_Rate_2  \n",
       "id                              \n",
       "0                     0.004019  \n",
       "1                     0.005495  \n",
       "2                     0.005641  \n",
       "3                     0.003692  \n",
       "4                     0.003902  \n",
       "\n",
       "[5 rows x 302 columns]"
      ]
     },
     "execution_count": 6,
     "metadata": {},
     "output_type": "execute_result"
    }
   ],
   "source": [
    "var_list = [(1 / df_test[a]).rename(a + '_r') for a in X_num]\n",
    "var_list.extend([(df_test[a].astype('float32') * df_test[b].astype('float32')).rename(i) for i, (a, b) in X_o2])\n",
    "var_list.extend([(df_test[a].astype('float32') / df_test[b].astype('float32')).rename(i) for i, (a, b) in X_1d1])\n",
    "var_list.extend([(df_test[a].astype('float32') * df_test[b].astype('float32') * df_test[c].astype('float32')).rename(i) for i, (a, b, c) in X_o3])\n",
    "\n",
    "df_sel_test = dproc.join_and_assign(\n",
    "    df_test,\n",
    "    pd.concat(var_list, axis = 1)\n",
    ")\n",
    "df_sel_test = dproc.join_and_assign(\n",
    "    df_sel,\n",
    "    pd.concat([(df_sel[a] / df_sel[b]).rename(i) for i, (a, b) in X_o2d1 + X_o1d2], axis = 1)\n",
    ")\n",
    "df_sel_test.head()"
   ]
  },
  {
   "cell_type": "code",
   "execution_count": 7,
   "id": "097ecd9b-d7b7-4a85-8a05-d115bc61e3f2",
   "metadata": {},
   "outputs": [],
   "source": [
    "X_sel = [i for i in df_sel.columns if i not in ('Calories', 'Calories_Log')]"
   ]
  },
  {
   "cell_type": "code",
   "execution_count": 8,
   "id": "1b517ba8-a038-46c1-9bd6-0c7318b068d9",
   "metadata": {},
   "outputs": [],
   "source": [
    "from sklearn.preprocessing import StandardScaler \n",
    "df_sel[X_sel] = StandardScaler().fit_transform(df_sel[X_sel])"
   ]
  },
  {
   "cell_type": "code",
   "execution_count": 9,
   "id": "1914f1f9-6c97-4746-b392-0366728e2dbf",
   "metadata": {},
   "outputs": [
    {
     "data": {
      "application/vnd.jupyter.widget-view+json": {
       "model_id": "",
       "version_major": 2,
       "version_minor": 0
      },
      "text/plain": [
       "Fold:   0%|          | 0/1 [00:00<?, ?it/s]"
      ]
     },
     "metadata": {},
     "output_type": "display_data"
    },
    {
     "data": {
      "text/plain": [
       "np.float64(0.06812648703363128)"
      ]
     },
     "execution_count": 9,
     "metadata": {},
     "output_type": "execute_result"
    }
   ],
   "source": [
    "result = sgml.cv(df_sel, ss, {'X_num': X_sel}, config, lr_adapter, result_proc = [sgml.lr_learning_result])\n",
    "rmse_all = result['valid_scores'][0]\n",
    "rmse_all"
   ]
  },
  {
   "cell_type": "code",
   "execution_count": 10,
   "id": "aa9bc337-ad3e-40b1-8586-0f3c203eab72",
   "metadata": {},
   "outputs": [
    {
     "data": {
      "text/plain": [
       "Age_mul_Body_Temp      -2677.607575\n",
       "Weight_div_Body_Temp   -2300.548247\n",
       "Heart_Rate_2           -2002.387704\n",
       "Age_div_Body_Temp      -1874.426193\n",
       "Body_Temp_mul_Weight   -1743.892066\n",
       "                           ...     \n",
       "Height_mul_Weight       2120.462375\n",
       "Duration_div_Height     2484.250041\n",
       "Duration_mul_Height     2901.800484\n",
       "Age                     3203.112368\n",
       "Weight                  3328.888980\n",
       "Length: 300, dtype: float64"
      ]
     },
     "execution_count": 10,
     "metadata": {},
     "output_type": "execute_result"
    }
   ],
   "source": [
    "result['model_result'][0]['coef'].sort_values()"
   ]
  },
  {
   "cell_type": "code",
   "execution_count": 11,
   "id": "43ada95d-e1dd-425b-9c5b-c48eb359d99d",
   "metadata": {},
   "outputs": [
    {
     "data": {
      "image/png": "[encoded data removed]",
      "text/plain": [
       "<Figure size 640x480 with 1 Axes>"
      ]
     },
     "metadata": {},
     "output_type": "display_data"
    }
   ],
   "source": [
    "sns.histplot(result['model_result'][0]['coef'])\n",
    "plt.show()"
   ]
  },
  {
   "cell_type": "markdown",
   "id": "49a6257a-be13-49ca-ba08-7cb47b22a2df",
   "metadata": {},
   "source": [
    "- 변수가 300개라 모든 변수를 가지고 순차적 선택을 하는 것에는 리소스에 무리가 있었습니다.\n",
    "\n",
    "- 이를 보완 하기 위해, 차수가 낮은 것에서 시작하여 높은 것으로 그룹핑하여 추가를 해갑니다."
   ]
  },
  {
   "cell_type": "code",
   "execution_count": 11,
   "id": "87a4e89e-b75e-402d-8aed-52ad3cef1f0a",
   "metadata": {},
   "outputs": [],
   "source": [
    "from cuml.linear_model import LinearRegression as cu_LinearRegression\n",
    "lr_c_adapter = sgml.SklearnAdapter(cu_LinearRegression)"
   ]
  },
  {
   "cell_type": "code",
   "execution_count": 12,
   "id": "ce3e78e9-8601-46e9-b696-d3e872ecf949",
   "metadata": {},
   "outputs": [],
   "source": [
    "from tqdm.notebook import tqdm\n",
    "import multiprocessing as mp\n",
    "\n",
    "def get_rmse_c(X):\n",
    "    return sgml.cv(df_sel, ss, {'model_params': {'copy_X': True}, 'X_num': X}, {**config, 'progress_callback': None}, lr_c_adapter)['valid_scores'][0]\n",
    "\n",
    "def fs(X, X_ff):\n",
    "    return pd.Series(\n",
    "        {i: get_rmse_c(X + [i]) for i in X_ff if i not in X}\n",
    "    ).sort_values()\n",
    "def be(X, floated_list):\n",
    "    if len(X) < 2: return pd.Series()\n",
    "    return pd.Series(\n",
    "        {i: get_rmse_c([j for j in X if j != i]) for i in X[:-1] if i not in floated_list}\n",
    "    ).sort_values()\n",
    "\n",
    "def step_fs(X_, X_selected, floated_list, rmse_list):\n",
    "    while(True):\n",
    "        s_rmse = fs(X_selected, X_)\n",
    "        if len(s_rmse) == 0:\n",
    "            break\n",
    "        if rmse_list[-1] > s_rmse.iloc[0]:\n",
    "            rmse_list.append(s_rmse.iloc[0])\n",
    "            X_selected.append(s_rmse.index[0])\n",
    "            print(\"Selected: {}, RMSE: {}\".format(X_selected[-1], rmse_list[-1]))\n",
    "        else:\n",
    "            break\n",
    "        while(True):\n",
    "            s_rmse = be(X_selected, floated_list)\n",
    "            if len(s_rmse) > 0 and rmse_list[-1] > s_rmse.iloc[0]:\n",
    "                rmse_list.append(s_rmse.iloc[0])\n",
    "                floated_list.add(s_rmse.index[0])\n",
    "                X_selected = [i for i in X_selected if i != s_rmse.index[0]]\n",
    "                print(\"Excluded: {}, RMSE: {}\".format(s_rmse.index[0], rmse_list[-1]))\n",
    "            else:\n",
    "                break\n",
    "    return X_selected, floated_list, rmse_list"
   ]
  },
  {
   "cell_type": "code",
   "execution_count": 13,
   "id": "52bc6146-d811-4c52-b061-65398d328b57",
   "metadata": {},
   "outputs": [],
   "source": [
    "def get_rmse(v):\n",
    "    i, X = v[0], v[1]\n",
    "    return i, sgml.cv(df_sel, ss, {'X_num': X}, {**config, 'progress_callback': None}, lr_adapter)['valid_scores'][0]\n",
    "\n",
    "def fs_mp(X, X_ff):\n",
    "    X_list = [(i, X + [i]) for i in X_ff if i not in X]\n",
    "    with mp.Pool(mp.cpu_count()) as pool:\n",
    "        results = pool.map(get_rmse, X_list)\n",
    "    return pd.Series(\n",
    "        {k: v for k, v in results}\n",
    "    ).sort_values()\n",
    "\n",
    "def be_mp(X, floated_list):\n",
    "    if len(X) < 2: return pd.Series()\n",
    "    X_list = [(i, [j for j in X if j != i]) for i in X[:-1] if i not in floated_list]\n",
    "    with mp.Pool(mp.cpu_count()) as pool:\n",
    "        results = pool.map(get_rmse, X_list)\n",
    "    return pd.Series(\n",
    "        {k: v for k, v in results}\n",
    "    ).sort_values()\n",
    "\n",
    "def step_fs_mp(X_, X_selected, floated_list, rmse_list):\n",
    "    while(True):\n",
    "        s_rmse = fs_mp(X_selected, X_)\n",
    "        if len(s_rmse) == 0:\n",
    "            break\n",
    "        if rmse_list[-1] > s_rmse.iloc[0]:\n",
    "            rmse_list.append(s_rmse.iloc[0])\n",
    "            X_selected.append(s_rmse.index[0])\n",
    "            print(\"Selected: {}, RMSE: {}\".format(X_selected[-1], rmse_list[-1]))\n",
    "        else:\n",
    "            break\n",
    "        while(True):\n",
    "            s_rmse = be_mp(X_selected, floated_list)\n",
    "            if len(s_rmse) > 0 and rmse_list[-1] > s_rmse.iloc[0]:\n",
    "                rmse_list.append(s_rmse.iloc[0])\n",
    "                floated_list.add(s_rmse.index[0])\n",
    "                X_selected = [i for i in X_selected if i != s_rmse.index[0]]\n",
    "                print(\"Excluded: {}, RMSE: {}\".format(s_rmse.index[0], rmse_list[-1]))\n",
    "            else:\n",
    "                break\n",
    "    return X_selected, floated_list, rmse_list"
   ]
  },
  {
   "cell_type": "code",
   "execution_count": 29,
   "id": "89f04814-7362-4cbb-a0d4-f32cd7aa238c",
   "metadata": {},
   "outputs": [
    {
     "data": {
      "text/plain": [
       "0.18064835569722082"
      ]
     },
     "execution_count": 29,
     "metadata": {},
     "output_type": "execute_result"
    }
   ],
   "source": [
    "X_selected = list()\n",
    "rmse_list = [np.inf]\n",
    "X_ = X_num\n",
    "X_selected, floated_list, rmse_list = sc.cache_result('fs_o1', lambda : step_fs(X_num, X_selected, set(), rmse_list), rerun = 0)\n",
    "rmse_list[-1]"
   ]
  },
  {
   "cell_type": "code",
   "execution_count": 30,
   "id": "abbe907b-0f3c-42e4-8048-a4001e1485ac",
   "metadata": {},
   "outputs": [
    {
     "data": {
      "text/plain": [
       "0.11890502541192025"
      ]
     },
     "execution_count": 30,
     "metadata": {},
     "output_type": "execute_result"
    }
   ],
   "source": [
    "X_selected, floated_list, rmse_list = sc.cache_result(\n",
    "    'fs_r', lambda : step_fs(X_r, X_selected, set(), rmse_list), rerun = 0\n",
    ")\n",
    "rmse_list[-1]"
   ]
  },
  {
   "cell_type": "code",
   "execution_count": 31,
   "id": "e7f9ad60-af44-4d39-8ed1-9bdb3422cf58",
   "metadata": {},
   "outputs": [
    {
     "data": {
      "text/plain": [
       "0.08281917544819209"
      ]
     },
     "execution_count": 31,
     "metadata": {},
     "output_type": "execute_result"
    }
   ],
   "source": [
    "X_selected, floated_list, rmse_list = sc.cache_result(\n",
    "    'fs_o2', lambda : step_fs([i[0] for i in X_o2], X_selected, set(), rmse_list), rerun = 0\n",
    ")\n",
    "rmse_list[-1]"
   ]
  },
  {
   "cell_type": "code",
   "execution_count": 32,
   "id": "fa339318-bb0d-4d92-8b22-097d7d43f566",
   "metadata": {},
   "outputs": [
    {
     "data": {
      "text/plain": [
       "0.07591978840844088"
      ]
     },
     "execution_count": 32,
     "metadata": {},
     "output_type": "execute_result"
    }
   ],
   "source": [
    "X_selected, floated_list, rmse_list = sc.cache_result(\n",
    "    'fs_1d1', lambda : step_fs([i[0] for i in X_1d1], X_selected, set(), rmse_list), rerun = 0\n",
    ")\n",
    "rmse_list[-1]"
   ]
  },
  {
   "cell_type": "code",
   "execution_count": 33,
   "id": "9bebafb0-35e1-49fd-9af6-5040e382da4a",
   "metadata": {},
   "outputs": [
    {
     "data": {
      "text/plain": [
       "0.0718067288948422"
      ]
     },
     "execution_count": 33,
     "metadata": {},
     "output_type": "execute_result"
    }
   ],
   "source": [
    "X_selected, floated_list, rmse_list = sc.cache_result(\n",
    "    'fs_o2d1', lambda : step_fs_mp([i[0] for i in X_o2d1], X_selected, set(), rmse_list), rerun = 0\n",
    ")\n",
    "rmse_list[-1]"
   ]
  },
  {
   "cell_type": "code",
   "execution_count": 34,
   "id": "a01b4665-f650-4d8a-af4e-4a5bc8b76fbc",
   "metadata": {},
   "outputs": [
    {
     "data": {
      "text/plain": [
       "0.07070597741714742"
      ]
     },
     "execution_count": 34,
     "metadata": {},
     "output_type": "execute_result"
    }
   ],
   "source": [
    "X_selected, floated_list, rmse_list = sc.cache_result(\n",
    "    'fs_o1d2', lambda : step_fs_mp([i[0] for i in X_o1d2], X_selected, set(), rmse_list), rerun = 0\n",
    ")\n",
    "rmse_list[-1]"
   ]
  },
  {
   "cell_type": "code",
   "execution_count": 35,
   "id": "0296670a-ea39-4955-8dbd-bba59a6be1cd",
   "metadata": {},
   "outputs": [
    {
     "data": {
      "text/plain": [
       "0.07054807770710889"
      ]
     },
     "execution_count": 35,
     "metadata": {},
     "output_type": "execute_result"
    }
   ],
   "source": [
    "X_selected, floated_list, rmse_list = sc.cache_result(\n",
    "    'fs_o3', lambda : step_fs_mp([i[0] for i in X_o3], X_selected, set(), rmse_list), rerun = 0\n",
    ")\n",
    "rmse_list[-1]"
   ]
  },
  {
   "cell_type": "code",
   "execution_count": 36,
   "id": "6879f747-a5f3-4f37-a14f-959aea7e7052",
   "metadata": {},
   "outputs": [
    {
     "data": {
      "application/vnd.jupyter.widget-view+json": {
       "model_id": "b03b0f0ca76e4801a3f6ae34a14657d4",
       "version_major": 2,
       "version_minor": 0
      },
      "text/plain": [
       "Fold:   0%|          | 0/1 [00:00<?, ?it/s]"
      ]
     },
     "metadata": {},
     "output_type": "display_data"
    },
    {
     "data": {
      "text/plain": [
       "[0.07054807770711112]"
      ]
     },
     "execution_count": 36,
     "metadata": {},
     "output_type": "execute_result"
    }
   ],
   "source": [
    "result = sgml.cv(df_sel, ss, {'X_num': X_selected}, config, lr_adapter, result_proc = [sgml.lr_learning_result])\n",
    "result['valid_scores']"
   ]
  },
  {
   "cell_type": "code",
   "execution_count": 21,
   "id": "45e1a7d0-3586-4dca-9f06-dd768bf64894",
   "metadata": {},
   "outputs": [
    {
     "data": {
      "text/plain": [
       "(98,\n",
       " array(['Body_Temp', 'Duration', 'Duration_2', 'Body_Temp_mul_Duration',\n",
       "        'Body_Temp_mul_Weight', 'Weight_2', 'Age_mul_Height',\n",
       "        'Body_Temp_div_Duration', 'Weight_div_Heart_Rate',\n",
       "        'Age_div_Weight', 'Heart_Rate_div_Body_Temp',\n",
       "        'Weight_div_Duration', 'Body_Temp_div_Weight', 'Height_div_Age',\n",
       "        'Weight_2_div_Heart_Rate', 'Duration_2_div_Body_Temp',\n",
       "        'Heart_Rate_2_div_Duration', 'Weight_2_div_Age',\n",
       "        'Height_mul_Weight_div_Body_Temp', 'Height_mul_Weight_div_Age',\n",
       "        'Age_mul_Weight_div_Height', 'Age_mul_Height_div_Weight',\n",
       "        'Body_Temp_mul_Heart_Rate_div_Duration',\n",
       "        'Heart_Rate_2_div_Body_Temp', 'Heart_Rate_2_div_Weight',\n",
       "        'Weight_2_div_Duration', 'Duration_mul_Heart_Rate_div_Body_Temp',\n",
       "        'Duration_2_div_Heart_Rate', 'Body_Temp_2_div_Weight',\n",
       "        'Height_2_div_Body_Temp', 'Age_2_div_Heart_Rate',\n",
       "        'Age_mul_Weight_div_Duration', 'Heart_Rate_mul_Weight_div_Age',\n",
       "        'Age_mul_Weight_div_Heart_Rate', 'Heart_Rate_div_Duration_2',\n",
       "        'Duration_div_Body_Temp_mul_Heart_Rate',\n",
       "        'Duration_div_Heart_Rate_2', 'Age_div_Heart_Rate_2',\n",
       "        'Body_Temp_div_Duration_mul_Heart_Rate',\n",
       "        'Heart_Rate_div_Body_Temp_mul_Duration',\n",
       "        'Heart_Rate_div_Age_mul_Weight', 'Body_Temp_div_Heart_Rate_2',\n",
       "        'Height_div_Age_mul_Weight', 'Age_div_Height_2',\n",
       "        'Body_Temp_div_Heart_Rate_mul_Height',\n",
       "        'Body_Temp_div_Height_mul_Weight', 'Weight_div_Height_2',\n",
       "        'Duration_div_Body_Temp_2', 'Weight_div_Age_mul_Height',\n",
       "        'Heart_Rate_div_Age_mul_Duration',\n",
       "        'Heart_Rate_div_Age_mul_Body_Temp',\n",
       "        'Duration_div_Age_mul_Body_Temp',\n",
       "        'Height_div_Body_Temp_mul_Heart_Rate',\n",
       "        'Heart_Rate_div_Body_Temp_mul_Height', 'Height_div_Body_Temp_2',\n",
       "        'Weight_div_Body_Temp_mul_Height', 'Heart_Rate_div_Height_2',\n",
       "        'Heart_Rate_div_Duration_mul_Height',\n",
       "        'Height_div_Duration_mul_Weight',\n",
       "        'Height_div_Heart_Rate_mul_Weight',\n",
       "        'Height_div_Body_Temp_mul_Duration',\n",
       "        'Height_div_Body_Temp_mul_Weight',\n",
       "        'Weight_div_Body_Temp_mul_Heart_Rate', 'Weight_div_Body_Temp_2',\n",
       "        'Body_Temp_div_Age_2', 'Body_Temp_div_Height_2',\n",
       "        'Duration_div_Age_mul_Heart_Rate', 'Weight_div_Age_mul_Duration',\n",
       "        'Age_div_Duration_mul_Weight', 'Age_div_Body_Temp_mul_Weight',\n",
       "        'Age_div_Body_Temp_mul_Height', 'Body_Temp_div_Age_mul_Weight',\n",
       "        'Age_div_Heart_Rate_mul_Height',\n",
       "        'Heart_Rate_mul_Height_mul_Weight',\n",
       "        'Body_Temp_mul_Heart_Rate_mul_Weight', 'Height_2_mul_Heart_Rate',\n",
       "        'Body_Temp_mul_Heart_Rate_mul_Height', 'Height_2_mul_Age',\n",
       "        'Body_Temp_2_mul_Weight', 'Weight_2_mul_Age',\n",
       "        'Weight_2_mul_Heart_Rate', 'Body_Temp_mul_Duration_mul_Heart_Rate',\n",
       "        'Heart_Rate_3', 'Height_2_mul_Weight', 'Height_2_mul_Body_Temp',\n",
       "        'Duration_2_mul_Body_Temp', 'Body_Temp_2_mul_Duration',\n",
       "        'Duration_2_mul_Age', 'Age_mul_Duration_mul_Heart_Rate',\n",
       "        'Heart_Rate_2_mul_Weight', 'Heart_Rate_2_mul_Duration',\n",
       "        'Weight_2_mul_Height', 'Heart_Rate_2_mul_Height',\n",
       "        'Body_Temp_2_mul_Height', 'Age_mul_Duration_mul_Height',\n",
       "        'Age_2_mul_Body_Temp', 'Age_2_mul_Weight', 'Age_2_mul_Height'],\n",
       "       dtype='<U37'))"
      ]
     },
     "execution_count": 21,
     "metadata": {},
     "output_type": "execute_result"
    }
   ],
   "source": [
    "len(X_selected), np.array(X_selected)"
   ]
  },
  {
   "cell_type": "code",
   "execution_count": 37,
   "id": "3fc596fb-f3cf-4672-91a8-4414d1d317d5",
   "metadata": {},
   "outputs": [
    {
     "data": {
      "text/plain": [
       "Body_Temp_mul_Duration            -628.440215\n",
       "Height_mul_Weight_div_Body_Temp    -55.189597\n",
       "Duration_div_Body_Temp_2           -46.878210\n",
       "Duration_2_div_Body_Temp           -45.344002\n",
       "Heart_Rate_div_Body_Temp           -42.269036\n",
       "                                      ...    \n",
       "Weight_div_Body_Temp_2              52.618924\n",
       "Body_Temp_mul_Weight                76.852817\n",
       "Duration_2                          86.418111\n",
       "Body_Temp_2_mul_Duration           238.878689\n",
       "Duration                           472.902968\n",
       "Length: 98, dtype: float64"
      ]
     },
     "execution_count": 37,
     "metadata": {},
     "output_type": "execute_result"
    }
   ],
   "source": [
    "pd.Series(result['model_result'][0]['coef']).sort_values()"
   ]
  },
  {
   "cell_type": "code",
   "execution_count": null,
   "id": "9b13fb5c-a3e7-4864-87a3-31edc5058ae5",
   "metadata": {},
   "outputs": [],
   "source": [
    "from sklearn.linear_model import Lasso\n",
    "result = sgml.cv(df_sel, ss, {'model_params': {'alpha': 1e-6, 'max_iter': 2000}, 'X_num': X_sel}, config, sgml.SklearnAdapter(Lasso), result_proc = [sgml.lr_learning_result])\n",
    "result['valid_scores']"
   ]
  },
  {
   "cell_type": "code",
   "execution_count": null,
   "id": "15453466-3522-4db3-972d-5be75e6d2c38",
   "metadata": {},
   "outputs": [],
   "source": [
    "sns.histplot(result['model_result'][0]['coef'])\n",
    "plt.show()"
   ]
  },
  {
   "cell_type": "code",
   "execution_count": 40,
   "id": "8fe47cb6-f1cd-4185-bcd6-224b11637fca",
   "metadata": {},
   "outputs": [
    {
     "data": {
      "application/vnd.jupyter.widget-view+json": {
       "model_id": "fb37bf790cac43cabb4f9fa8ee123bd0",
       "version_major": 2,
       "version_minor": 0
      },
      "text/plain": [
       "Fold:   0%|          | 0/1 [00:00<?, ?it/s]"
      ]
     },
     "metadata": {},
     "output_type": "display_data"
    },
    {
     "data": {
      "text/plain": [
       "[0.068523406731391]"
      ]
     },
     "execution_count": 40,
     "metadata": {},
     "output_type": "execute_result"
    }
   ],
   "source": [
    "from sklearn.linear_model import Ridge\n",
    "result = sgml.cv(df_sel, ss, {'model_params': {'alpha': 1e-3}, 'X_num': X_sel}, config, sgml.SklearnAdapter(Ridge), result_proc = [sgml.lr_learning_result])\n",
    "result['valid_scores']"
   ]
  },
  {
   "cell_type": "code",
   "execution_count": 41,
   "id": "87d5a8db-15c0-4b6a-a1ff-4232e4f8bc23",
   "metadata": {},
   "outputs": [
    {
     "data": {
      "image/png": "[encoded data removed]",
      "text/plain": [
       "<Figure size 640x480 with 1 Axes>"
      ]
     },
     "metadata": {},
     "output_type": "display_data"
    }
   ],
   "source": [
    "sns.histplot(result['model_result'][0]['coef'])\n",
    "plt.show()"
   ]
  },
  {
   "cell_type": "code",
   "execution_count": 42,
   "id": "20de9208-51ce-46d4-8c22-38f41f79fa71",
   "metadata": {},
   "outputs": [
    {
     "data": {
      "text/plain": [
       "Heart_Rate                              -20.365835\n",
       "Body_Temp_2_mul_Duration                -16.865307\n",
       "Heart_Rate_2_mul_Duration               -16.786587\n",
       "Heart_Rate_div_Body_Temp                -15.564463\n",
       "Weight_2_mul_Body_Temp                  -14.918791\n",
       "                                           ...    \n",
       "Body_Temp_mul_Duration_mul_Heart_Rate    14.198431\n",
       "Age_mul_Height_mul_Weight                14.302717\n",
       "Body_Temp_div_Heart_Rate_2               14.497902\n",
       "Heart_Rate_2_div_Body_Temp               15.153733\n",
       "Heart_Rate_2_mul_Body_Temp               20.439106\n",
       "Length: 300, dtype: float64"
      ]
     },
     "execution_count": 42,
     "metadata": {},
     "output_type": "execute_result"
    }
   ],
   "source": [
    "pd.Series(result['model_result'][0]['coef']).sort_values()"
   ]
  },
  {
   "cell_type": "markdown",
   "id": "65f5cfe0-6668-4285-ae93-847bc77772c9",
   "metadata": {},
   "source": [
    "- Ridge로 회귀계수의 크기를 줄일 수 있지만 성능도 같이 줄어드니다."
   ]
  },
  {
   "cell_type": "markdown",
   "id": "7536d3d8-be91-4a43-bc2d-f0cc6ffb5a9a",
   "metadata": {},
   "source": [
    "- Backward Eliminations를 사용해봅니다."
   ]
  },
  {
   "cell_type": "code",
   "execution_count": null,
   "id": "bab7f0bd-8220-4d14-8321-9aa4bc85c9e8",
   "metadata": {},
   "outputs": [],
   "source": [
    "def be_mp2(X, floated_list):\n",
    "    if len(X) < 2: return pd.Series()\n",
    "    X_list = [(i, [j for j in X if j != i]) for i in X if i not in floated_list]\n",
    "    results = {}\n",
    "    for k, v in tqdm(X_list):\n",
    "        results[k] = get_rmse_c(v)\n",
    "    return pd.Series(results).sort_values()\n",
    "\n",
    "el = list()\n",
    "rmse_list = [get_rmse_c(X_sel)]\n",
    "cnt = 0\n",
    "while(True):\n",
    "    s_rmse = sc.cache_result(\n",
    "        'be_{}'.format(cnt), lambda : be_mp2([i for i in X_sel if i not in el], set())\n",
    "    )\n",
    "    cnt += 1\n",
    "    if len(s_rmse) > 0 and rmse_list[-1] > s_rmse.iloc[0]:\n",
    "        rmse_list.append(s_rmse.iloc[0])\n",
    "        el.append(s_rmse.index[0])\n",
    "        print(\"Excluded: {}, RMSE: {}\".format(el[-1], rmse_list[-1]))\n",
    "    else:\n",
    "        break"
   ]
  },
  {
   "cell_type": "markdown",
   "id": "f1e028ff-6ff3-40d3-9d1f-057b955fea54",
   "metadata": {},
   "source": [
    "- 성능의 개선 여지가 크지 않습니다.\n",
    "\n",
    "- 공선성이 큰 속성을 제외해봅니다."
   ]
  },
  {
   "cell_type": "code",
   "execution_count": 14,
   "id": "fdfc51a1-b5b0-4cd8-81dc-85b9cade7e73",
   "metadata": {},
   "outputs": [],
   "source": [
    "from sklearn.metrics import r2_score\n",
    "import gc\n",
    "def get_r2(X_var):\n",
    "    r2_scores = list()\n",
    "    for i in tqdm(X_var):\n",
    "        X_ = [j for j in X_var if j != i]\n",
    "        r2_scores.append(\n",
    "            r2_score(\n",
    "                df_sel[i], cu_LinearRegression(copy_X = True).fit(df_sel[X_], df_sel[i]).predict(df_sel[X_])\n",
    "            )\n",
    "        )\n",
    "        gc.collect()\n",
    "    return pd.Series(r2_scores, index = X_var).sort_values(ascending = False)"
   ]
  },
  {
   "cell_type": "markdown",
   "id": "104391f2-67d8-499e-a5d5-335a24bc4fa0",
   "metadata": {},
   "source": [
    "- 원래 변수들 간의 다중 공선성을 조사합니다."
   ]
  },
  {
   "cell_type": "code",
   "execution_count": 15,
   "id": "080c0df8-c54b-4896-a580-a40cef630ce7",
   "metadata": {},
   "outputs": [
    {
     "data": {
      "application/vnd.jupyter.widget-view+json": {
       "model_id": "52994db1242d43228e53b788cc52fbed",
       "version_major": 2,
       "version_minor": 0
      },
      "text/plain": [
       "  0%|          | 0/6 [00:00<?, ?it/s]"
      ]
     },
     "metadata": {},
     "output_type": "display_data"
    },
    {
     "data": {
      "text/plain": [
       "Weight        0.921672\n",
       "Height        0.921273\n",
       "Duration      0.882499\n",
       "Body_Temp     0.816003\n",
       "Heart_Rate    0.766673\n",
       "Age           0.048410\n",
       "dtype: float64"
      ]
     },
     "execution_count": 15,
     "metadata": {},
     "output_type": "execute_result"
    }
   ],
   "source": [
    "get_r2(X_num)"
   ]
  },
  {
   "cell_type": "markdown",
   "id": "f62a0093-3dc6-4bd5-92e4-c10ec9f78d20",
   "metadata": {},
   "source": [
    "- Weight와 Height가 공선성이 강합니다."
   ]
  },
  {
   "cell_type": "code",
   "execution_count": 16,
   "id": "23ce2ec3-3960-4167-802b-ae1dfcc94718",
   "metadata": {},
   "outputs": [
    {
     "data": {
      "application/vnd.jupyter.widget-view+json": {
       "model_id": "2df87e44e4f54adf8dff3f2b83db2d88",
       "version_major": 2,
       "version_minor": 0
      },
      "text/plain": [
       "  0%|          | 0/5 [00:00<?, ?it/s]"
      ]
     },
     "metadata": {},
     "output_type": "display_data"
    },
    {
     "data": {
      "text/plain": [
       "Duration      0.882476\n",
       "Body_Temp     0.815981\n",
       "Heart_Rate    0.766543\n",
       "Height        0.002123\n",
       "Age           0.001859\n",
       "dtype: float64"
      ]
     },
     "execution_count": 16,
     "metadata": {},
     "output_type": "execute_result"
    }
   ],
   "source": [
    "get_r2([i for i in X_num if i != 'Weight'])"
   ]
  },
  {
   "cell_type": "code",
   "execution_count": 17,
   "id": "d4e142ff-b502-4efc-abc2-66b8cddd29b1",
   "metadata": {},
   "outputs": [
    {
     "data": {
      "application/vnd.jupyter.widget-view+json": {
       "model_id": "3f6c44ee40c24d739605cdb45b6e1343",
       "version_major": 2,
       "version_minor": 0
      },
      "text/plain": [
       "  0%|          | 0/4 [00:00<?, ?it/s]"
      ]
     },
     "metadata": {},
     "output_type": "display_data"
    },
    {
     "data": {
      "text/plain": [
       "Body_Temp     0.634442\n",
       "Heart_Rate    0.633830\n",
       "Height        0.001938\n",
       "Age           0.001230\n",
       "dtype: float64"
      ]
     },
     "execution_count": 17,
     "metadata": {},
     "output_type": "execute_result"
    }
   ],
   "source": [
    "get_r2([i for i in X_num if i not in ['Weight', 'Duration']])"
   ]
  },
  {
   "cell_type": "code",
   "execution_count": 52,
   "id": "8f47a9d1-0c3c-406f-bbcd-b56ce22b9816",
   "metadata": {},
   "outputs": [],
   "source": [
    "import numpy as np\n",
    "from numpy.linalg import inv\n",
    "\n",
    "def r2_schur_complement(X):\n",
    "    \"\"\"\n",
    "    X: centered data matrix of shape (n_samples, n_features)\n",
    "    Returns: R^2 score for each variable treated as target,\n",
    "             using Schur complement and Gram matrix inversion\n",
    "    \"\"\"\n",
    "    n, p = X.shape\n",
    "\n",
    "    # Step 1: Center the data (important for correct variance)\n",
    "    Xc = X - X.mean(axis=0)\n",
    "\n",
    "    # Step 2: Compute Gram matrix and its inverse\n",
    "    G = Xc.T @ Xc\n",
    "    G_inv = inv(G)\n",
    "\n",
    "    r2s = np.zeros(p)\n",
    "\n",
    "    for j in range(p):\n",
    "        # Step 3: Extract alpha = (G_inv)_{jj}\n",
    "        alpha = G_inv[j, j]\n",
    "\n",
    "        # Step 4: Variance of x_j (centered)\n",
    "        var_j = np.var(Xc[:, j], ddof=0) * n  # multiply by n because G = X.T @ X\n",
    "\n",
    "        # Step 5: R² calculation using Schur complement identity\n",
    "        r2 = 1 - (1 / (alpha * var_j))\n",
    "        r2s[j] = r2\n",
    "\n",
    "    return r2s\n",
    "\n",
    "def r2_sc(X):\n",
    "    return pd.Series(\n",
    "        r2_schur_complement(df_sel[X].values), index = X\n",
    "    ).sort_values(ascending = False)"
   ]
  },
  {
   "cell_type": "code",
   "execution_count": 54,
   "id": "9ecc2133-848e-4d69-bb66-716059bf1209",
   "metadata": {},
   "outputs": [
    {
     "data": {
      "text/plain": [
       "Weight        0.921672\n",
       "Height        0.921273\n",
       "Duration      0.882499\n",
       "Body_Temp     0.816003\n",
       "Heart_Rate    0.766673\n",
       "Age           0.048410\n",
       "dtype: float64"
      ]
     },
     "execution_count": 54,
     "metadata": {},
     "output_type": "execute_result"
    }
   ],
   "source": [
    "r2_sc(X_num)"
   ]
  },
  {
   "cell_type": "code",
   "execution_count": 55,
   "id": "2a060106-1e6c-4e02-a0a8-50a067060323",
   "metadata": {},
   "outputs": [
    {
     "data": {
      "text/plain": [
       "Duration      0.882476\n",
       "Body_Temp     0.815981\n",
       "Heart_Rate    0.766543\n",
       "Height        0.002123\n",
       "Age           0.001859\n",
       "dtype: float64"
      ]
     },
     "execution_count": 55,
     "metadata": {},
     "output_type": "execute_result"
    }
   ],
   "source": [
    "r2_sc([i for i in X_num if i != 'Weight'])"
   ]
  },
  {
   "cell_type": "markdown",
   "id": "0aea5c71-28aa-44c4-8cca-dd734fb5e109",
   "metadata": {},
   "source": [
    "- r2_schur_complement를 이용하여 변수를 포함 시켰을 때 공선성이 적은 변수를 골라 포함시켜갑니다."
   ]
  },
  {
   "cell_type": "code",
   "execution_count": 173,
   "id": "b8bdebaf-4ee1-4936-9af6-5ff36f1eb6e3",
   "metadata": {},
   "outputs": [],
   "source": [
    "def get_var_to_eliminate(X_tgt, threshold = 0.99):\n",
    "    el = {}\n",
    "    for i in range(len(X_tgt)):\n",
    "        s_r2 = r2_sc([i for i in X_tgt if i not in el])\n",
    "        if s_r2.iloc[0] > threshold:\n",
    "            el[s_r2.index[0]] = s_r2.iloc[0]\n",
    "        else:\n",
    "            break\n",
    "    return pd.Series(el)"
   ]
  },
  {
   "cell_type": "code",
   "execution_count": 137,
   "id": "71a7dfaf-097d-4899-9718-bfb17c2478be",
   "metadata": {},
   "outputs": [
    {
     "data": {
      "text/plain": [
       "Series([], dtype: object)"
      ]
     },
     "execution_count": 137,
     "metadata": {},
     "output_type": "execute_result"
    }
   ],
   "source": [
    "X_tgt = X_num + X_r + ['Sex']\n",
    "s_ex = get_var_to_eliminate(X_tgt, 0.99999)\n",
    "ex = s_ex.index.tolist()\n",
    "s_ex"
   ]
  },
  {
   "cell_type": "code",
   "execution_count": 138,
   "id": "3ac14a6b-e8bc-447f-af4c-2475c312ce05",
   "metadata": {},
   "outputs": [
    {
     "data": {
      "text/plain": [
       "Body_Temp                 1.000000\n",
       "Height                    0.999998\n",
       "Heart_Rate                0.999995\n",
       "Body_Temp_mul_Duration    0.999995\n",
       "Body_Temp_mul_Height      0.999993\n",
       "dtype: float64"
      ]
     },
     "execution_count": 138,
     "metadata": {},
     "output_type": "execute_result"
    }
   ],
   "source": [
    "X_tgt = [i for i in X_tgt if i not in ex] + [i[0] for i in X_o2]\n",
    "s_ex = get_var_to_eliminate(X_tgt, 0.99999)\n",
    "ex.extend(s_ex.index.tolist())\n",
    "s_ex"
   ]
  },
  {
   "cell_type": "code",
   "execution_count": 139,
   "id": "23b8e127-ec87-4a46-9001-28f4f7304917",
   "metadata": {},
   "outputs": [
    {
     "data": {
      "text/plain": [
       "Weight                      1.000000\n",
       "Age                         1.000000\n",
       "Height_r                    1.000000\n",
       "Heart_Rate_r                1.000000\n",
       "Duration                    0.999999\n",
       "Weight_div_Body_Temp        0.999999\n",
       "Heart_Rate_mul_Height       0.999998\n",
       "Weight_r                    0.999998\n",
       "Height_mul_Weight           0.999997\n",
       "Duration_div_Body_Temp      0.999995\n",
       "Heart_Rate_div_Height       0.999994\n",
       "Age_mul_Height              0.999993\n",
       "Body_Temp_mul_Heart_Rate    0.999992\n",
       "Body_Temp_mul_Weight        0.999992\n",
       "Age_r                       0.999992\n",
       "dtype: float64"
      ]
     },
     "execution_count": 139,
     "metadata": {},
     "output_type": "execute_result"
    }
   ],
   "source": [
    "X_tgt = [i for i in X_tgt if i not in ex] + [i[0] for i in X_1d1]\n",
    "s_ex = get_var_to_eliminate(X_tgt, 0.99999)\n",
    "ex.extend(s_ex.index.tolist())\n",
    "s_ex"
   ]
  },
  {
   "cell_type": "code",
   "execution_count": 140,
   "id": "4a7b8621-87ec-4394-8e07-74fec8885a01",
   "metadata": {},
   "outputs": [
    {
     "data": {
      "text/plain": [
       "Body_Temp_div_Duration                 1.000000\n",
       "Body_Temp_2_div_Weight                 1.000000\n",
       "Body_Temp_mul_Duration_div_Height      1.000000\n",
       "Body_Temp_mul_Weight_div_Heart_Rate    1.000000\n",
       "Age_div_Height                         1.000000\n",
       "                                         ...   \n",
       "Age_mul_Body_Temp_div_Weight           0.999994\n",
       "Weight_div_Heart_Rate                  0.999994\n",
       "Duration_mul_Height_div_Weight         0.999992\n",
       "Heart_Rate_div_Age                     0.999992\n",
       "Duration_mul_Weight_div_Height         0.999992\n",
       "Length: 69, dtype: float64"
      ]
     },
     "execution_count": 140,
     "metadata": {},
     "output_type": "execute_result"
    }
   ],
   "source": [
    "X_tgt = [i for i in X_tgt if i not in ex] + [i[0] for i in X_o2d1]\n",
    "s_ex = get_var_to_eliminate(X_tgt, 0.99999)\n",
    "ex.extend(s_ex.index.tolist())\n",
    "s_ex"
   ]
  },
  {
   "cell_type": "code",
   "execution_count": 141,
   "id": "8f53a9ea-43b1-4faa-8deb-76a135bf5e9b",
   "metadata": {},
   "outputs": [
    {
     "data": {
      "text/plain": [
       "Body_Temp_div_Heart_Rate               1.000000\n",
       "Height_div_Body_Temp                   1.000000\n",
       "Heart_Rate_div_Height_mul_Weight       1.000000\n",
       "Weight_div_Body_Temp_mul_Heart_Rate    1.000000\n",
       "Height_div_Age_mul_Body_Temp           1.000000\n",
       "                                         ...   \n",
       "Body_Temp_div_Weight_2                 0.999992\n",
       "Body_Temp_div_Age_mul_Heart_Rate       0.999992\n",
       "Duration_2_div_Height                  0.999992\n",
       "Age_mul_Height_div_Weight              0.999991\n",
       "Weight_2_div_Heart_Rate                0.999991\n",
       "Length: 70, dtype: float64"
      ]
     },
     "execution_count": 141,
     "metadata": {},
     "output_type": "execute_result"
    }
   ],
   "source": [
    "X_tgt = [i for i in X_tgt if i not in ex] + [i[0] for i in X_o1d2]\n",
    "s_ex = get_var_to_eliminate(X_tgt, 0.99999)\n",
    "ex.extend(s_ex.index.tolist())\n",
    "s_ex"
   ]
  },
  {
   "cell_type": "code",
   "execution_count": 142,
   "id": "078830bf-a348-45d9-8f3c-05d0acd9e8b8",
   "metadata": {},
   "outputs": [
    {
     "data": {
      "text/plain": [
       "Heart_Rate_2_mul_Body_Temp               1.000000\n",
       "Height_2_mul_Body_Temp                   1.000000\n",
       "Body_Temp_2                              1.000000\n",
       "Body_Temp_mul_Heart_Rate_mul_Height      1.000000\n",
       "Weight_2_mul_Height                      1.000000\n",
       "Body_Temp_mul_Duration_mul_Heart_Rate    1.000000\n",
       "Body_Temp_mul_Duration_mul_Height        1.000000\n",
       "Height_2                                 1.000000\n",
       "Body_Temp_mul_Height_mul_Weight          1.000000\n",
       "Body_Temp_2_mul_Weight                   1.000000\n",
       "Height_2_mul_Heart_Rate                  1.000000\n",
       "Age_mul_Body_Temp_mul_Height             1.000000\n",
       "Heart_Rate_2                             1.000000\n",
       "Body_Temp_mul_Heart_Rate_mul_Weight      1.000000\n",
       "Heart_Rate_mul_Height_mul_Weight         1.000000\n",
       "Age_mul_Body_Temp_mul_Heart_Rate         1.000000\n",
       "Body_Temp_2_mul_Duration                 1.000000\n",
       "Duration_mul_Heart_Rate_mul_Height       1.000000\n",
       "Age_mul_Duration                         1.000000\n",
       "Duration_2                               1.000000\n",
       "Duration_mul_Weight                      1.000000\n",
       "Age_mul_Weight                           1.000000\n",
       "Age_2_mul_Body_Temp                      1.000000\n",
       "Age_2_div_Body_Temp                      1.000000\n",
       "Age_mul_Height_mul_Weight                1.000000\n",
       "Body_Temp_2_mul_Heart_Rate               0.999999\n",
       "Weight_2_mul_Body_Temp                   0.999999\n",
       "Duration_mul_Height_mul_Weight           0.999999\n",
       "Age_mul_Heart_Rate_mul_Height            0.999999\n",
       "Heart_Rate_2_mul_Weight                  0.999999\n",
       "Duration_2_mul_Body_Temp                 0.999999\n",
       "Age_mul_Body_Temp_mul_Weight             0.999998\n",
       "Age_mul_Duration_mul_Height              0.999998\n",
       "Age_2_mul_Height                         0.999998\n",
       "Body_Temp_mul_Duration_mul_Weight        0.999998\n",
       "Height_2_mul_Weight                      0.999998\n",
       "Age_mul_Heart_Rate_mul_Weight            0.999998\n",
       "Height_mul_Weight_div_Age                0.999997\n",
       "Age_mul_Body_Temp_mul_Duration           0.999997\n",
       "Age_2_mul_Heart_Rate                     0.999997\n",
       "Heart_Rate_2_mul_Duration                0.999997\n",
       "Heart_Rate_2_mul_Height                  0.999996\n",
       "Weight_2_div_Body_Temp                   0.999996\n",
       "Age_mul_Duration_mul_Heart_Rate          0.999995\n",
       "Duration_2_mul_Height                    0.999994\n",
       "Body_Temp_mul_Weight_div_Height          0.999994\n",
       "Heart_Rate_div_Age_mul_Height            0.999994\n",
       "Age_2_mul_Weight                         0.999992\n",
       "Age_mul_Duration_div_Height              0.999992\n",
       "Body_Temp_mul_Duration_div_Weight        0.999991\n",
       "Heart_Rate_div_Duration_mul_Weight       0.999991\n",
       "dtype: float64"
      ]
     },
     "execution_count": 142,
     "metadata": {},
     "output_type": "execute_result"
    }
   ],
   "source": [
    "X_tgt = [i for i in X_tgt if i not in ex] + [i[0] for i in X_o3]\n",
    "s_ex = get_var_to_eliminate(X_tgt, 0.99999)\n",
    "ex.extend(s_ex.index.tolist())\n",
    "s_ex"
   ]
  },
  {
   "cell_type": "code",
   "execution_count": 143,
   "id": "748b336d-907d-4e5f-bd57-2b7fd6ba3d59",
   "metadata": {},
   "outputs": [
    {
     "data": {
      "application/vnd.jupyter.widget-view+json": {
       "model_id": "",
       "version_major": 2,
       "version_minor": 0
      },
      "text/plain": [
       "Fold:   0%|          | 0/1 [00:00<?, ?it/s]"
      ]
     },
     "metadata": {},
     "output_type": "display_data"
    },
    {
     "data": {
      "text/plain": [
       "[np.float64(0.07046704019473402)]"
      ]
     },
     "execution_count": 143,
     "metadata": {},
     "output_type": "execute_result"
    }
   ],
   "source": [
    "result = sgml.cv(df_sel, ss, {'X_num': [i for i in X_tgt if i not in ex]}, config, lr_adapter, result_proc = [sgml.lr_learning_result])\n",
    "result['valid_scores']"
   ]
  },
  {
   "cell_type": "code",
   "execution_count": 144,
   "id": "3b11fd48-7591-45cf-bfc2-197ab69060a0",
   "metadata": {},
   "outputs": [
    {
     "data": {
      "text/plain": [
       "Weight_2_mul_Duration                -1.498903\n",
       "Age_mul_Heart_Rate_div_Weight        -1.444948\n",
       "Heart_Rate_div_Weight_2              -1.223139\n",
       "Duration_2_mul_Heart_Rate            -0.996936\n",
       "Duration_div_Body_Temp_2             -0.782936\n",
       "                                        ...   \n",
       "Heart_Rate_2_mul_Age                  0.965442\n",
       "Heart_Rate_2_div_Weight               1.380547\n",
       "Duration_mul_Heart_Rate_mul_Weight    1.687289\n",
       "Duration_mul_Weight_div_Heart_Rate    1.721354\n",
       "Age_mul_Weight_div_Heart_Rate         1.872700\n",
       "Length: 90, dtype: float64"
      ]
     },
     "execution_count": 144,
     "metadata": {},
     "output_type": "execute_result"
    }
   ],
   "source": [
    "pd.Series(result['model_result'][0]['coef']).sort_values()"
   ]
  },
  {
   "cell_type": "code",
   "execution_count": 193,
   "id": "79d2c3d6-8fbe-4e6b-b4c1-6d2e27da0703",
   "metadata": {},
   "outputs": [],
   "source": [
    "s_exc = sc.cache_result(\n",
    "    'exc_r2', lambda : get_var_to_eliminate(X_sel, 0.8)\n",
    ")"
   ]
  },
  {
   "cell_type": "code",
   "execution_count": 196,
   "id": "55f4c20f-10e8-4426-a120-5101883338b8",
   "metadata": {},
   "outputs": [
    {
     "data": {
      "application/vnd.jupyter.widget-view+json": {
       "model_id": "",
       "version_major": 2,
       "version_minor": 0
      },
      "text/plain": [
       "Fold:   0%|          | 0/1 [00:00<?, ?it/s]"
      ]
     },
     "metadata": {},
     "output_type": "display_data"
    },
    {
     "data": {
      "text/plain": [
       "[np.float64(0.06822093720628665)]"
      ]
     },
     "execution_count": 196,
     "metadata": {},
     "output_type": "execute_result"
    }
   ],
   "source": [
    "result = sgml.cv(df_sel, ss, {'X_num': [i for i in X_sel if i not in s_exc.index[:50]]}, config, lr_adapter, result_proc = [sgml.lr_learning_result])\n",
    "result['valid_scores']"
   ]
  },
  {
   "cell_type": "code",
   "execution_count": 194,
   "id": "256b9280-71be-4af2-ae69-7967274cbbb4",
   "metadata": {},
   "outputs": [
    {
     "data": {
      "application/vnd.jupyter.widget-view+json": {
       "model_id": "",
       "version_major": 2,
       "version_minor": 0
      },
      "text/plain": [
       "Fold:   0%|          | 0/1 [00:00<?, ?it/s]"
      ]
     },
     "metadata": {},
     "output_type": "display_data"
    },
    {
     "data": {
      "text/plain": [
       "[np.float64(0.06878822252910614)]"
      ]
     },
     "execution_count": 194,
     "metadata": {},
     "output_type": "execute_result"
    }
   ],
   "source": [
    "result = sgml.cv(df_sel, ss, {'X_num': [i for i in X_sel if i not in s_exc.index[:100]]}, config, lr_adapter, result_proc = [sgml.lr_learning_result])\n",
    "result['valid_scores']"
   ]
  },
  {
   "cell_type": "code",
   "execution_count": 195,
   "id": "f4703268-b7a8-4c8f-9cd0-85cc927af264",
   "metadata": {},
   "outputs": [
    {
     "data": {
      "application/vnd.jupyter.widget-view+json": {
       "model_id": "",
       "version_major": 2,
       "version_minor": 0
      },
      "text/plain": [
       "Fold:   0%|          | 0/1 [00:00<?, ?it/s]"
      ]
     },
     "metadata": {},
     "output_type": "display_data"
    },
    {
     "data": {
      "text/plain": [
       "[np.float64(0.07019713835429388)]"
      ]
     },
     "execution_count": 195,
     "metadata": {},
     "output_type": "execute_result"
    }
   ],
   "source": [
    "result = sgml.cv(df_sel, ss, {'X_num': [i for i in X_sel if i not in s_exc.index[:200]]}, config, lr_adapter, result_proc = [sgml.lr_learning_result])\n",
    "result['valid_scores']"
   ]
  },
  {
   "cell_type": "code",
   "execution_count": 197,
   "id": "d5f7fd89-628f-4f42-90dd-0ee9d32e0698",
   "metadata": {},
   "outputs": [
    {
     "data": {
      "application/vnd.jupyter.widget-view+json": {
       "model_id": "",
       "version_major": 2,
       "version_minor": 0
      },
      "text/plain": [
       "Fold:   0%|          | 0/1 [00:00<?, ?it/s]"
      ]
     },
     "metadata": {},
     "output_type": "display_data"
    },
    {
     "data": {
      "text/plain": [
       "[np.float64(0.07401156122859469)]"
      ]
     },
     "execution_count": 197,
     "metadata": {},
     "output_type": "execute_result"
    }
   ],
   "source": [
    "result = sgml.cv(df_sel, ss, {'X_num': [i for i in X_sel if i not in s_exc.index[:250]]}, config, lr_adapter, result_proc = [sgml.lr_learning_result])\n",
    "result['valid_scores']"
   ]
  },
  {
   "cell_type": "code",
   "execution_count": 200,
   "id": "bb2566a9-826a-4493-b845-e4b8707b5e16",
   "metadata": {},
   "outputs": [
    {
     "data": {
      "application/vnd.jupyter.widget-view+json": {
       "model_id": "",
       "version_major": 2,
       "version_minor": 0
      },
      "text/plain": [
       "Fold:   0%|          | 0/1 [00:00<?, ?it/s]"
      ]
     },
     "metadata": {},
     "output_type": "display_data"
    },
    {
     "data": {
      "text/plain": [
       "[np.float64(0.07777651286116685)]"
      ]
     },
     "execution_count": 200,
     "metadata": {},
     "output_type": "execute_result"
    }
   ],
   "source": [
    "result = sgml.cv(df_sel, ss, {'X_num': [i for i in X_sel if i not in s_exc.index[:270]]}, config, lr_adapter, result_proc = [sgml.lr_learning_result])\n",
    "result['valid_scores']"
   ]
  },
  {
   "cell_type": "code",
   "execution_count": 198,
   "id": "90cd1cc2-3f62-4306-a6e5-73ba51e27ea2",
   "metadata": {},
   "outputs": [
    {
     "data": {
      "application/vnd.jupyter.widget-view+json": {
       "model_id": "",
       "version_major": 2,
       "version_minor": 0
      },
      "text/plain": [
       "Fold:   0%|          | 0/1 [00:00<?, ?it/s]"
      ]
     },
     "metadata": {},
     "output_type": "display_data"
    },
    {
     "data": {
      "text/plain": [
       "[np.float64(0.2554399056147664)]"
      ]
     },
     "execution_count": 198,
     "metadata": {},
     "output_type": "execute_result"
    }
   ],
   "source": [
    "result = sgml.cv(df_sel, ss, {'X_num': [i for i in X_sel if i not in s_exc.index[:290]]}, config, lr_adapter, result_proc = [sgml.lr_learning_result])\n",
    "result['valid_scores']"
   ]
  },
  {
   "cell_type": "code",
   "execution_count": 191,
   "id": "9deca615-55f0-4433-9dbd-5f2825cba34f",
   "metadata": {},
   "outputs": [
    {
     "data": {
      "application/vnd.jupyter.widget-view+json": {
       "model_id": "",
       "version_major": 2,
       "version_minor": 0
      },
      "text/plain": [
       "Fold:   0%|          | 0/1 [00:00<?, ?it/s]"
      ]
     },
     "metadata": {},
     "output_type": "display_data"
    },
    {
     "data": {
      "text/plain": [
       "[np.float64(0.07398964134988684)]"
      ]
     },
     "execution_count": 191,
     "metadata": {},
     "output_type": "execute_result"
    }
   ],
   "source": [
    "result = sgml.cv(df_sel, ss, {'pca': {'X_num': X_sel, 'hparams': {'n_components': 0.9999}}}, config, lr_adapter, result_proc = [sgml.lr_learning_result])\n",
    "result['valid_scores']"
   ]
  },
  {
   "cell_type": "code",
   "execution_count": null,
   "id": "ffcb448b-2c16-4979-b603-aec812b680f6",
   "metadata": {},
   "outputs": [],
   "source": [
    "\n",
    "import numpy as np\n",
    "from numpy.linalg import inv\n",
    "\n",
    "def r2_on_variable_addition(X_all, y, base_vars):\n",
    "    \"\"\"\n",
    "    X_all: (n, p) full variable matrix\n",
    "    y: (n,) target\n",
    "    base_vars: list of column indices to use as initial predictors\n",
    "    Returns: dict {added_var: new R²}\n",
    "    \"\"\"\n",
    "    n, p = X_all.shape\n",
    "    Xc = X_all - X_all.mean(axis=0)\n",
    "    yc = y - y.mean()\n",
    "\n",
    "    X_base = Xc[:, base_vars]\n",
    "    G = X_base.T @ X_base\n",
    "    b = X_base.T @ yc\n",
    "    G_inv = inv(G)\n",
    "    total_var = np.sum(yc ** 2)\n",
    "\n",
    "    r2s = {}\n",
    "    base_set = set(base_vars)\n",
    "    for j in range(p):\n",
    "        if j in base_set:\n",
    "            continue\n",
    "\n",
    "        xj = Xc[:, j:j+1]  # shape (n,1)\n",
    "        z = X_base.T @ xj   # shape (p-1,1)\n",
    "        alpha = float(xj.T @ xj)\n",
    "        beta = float(xj.T @ yc)\n",
    "\n",
    "        # s = Schur complement\n",
    "        s = alpha - float(z.T @ G_inv @ z)\n",
    "        if s <= 1e-10:\n",
    "            r2s[j] = np.nan  # ill-conditioned\n",
    "            continue\n",
    "\n",
    "        # Update beta: [beta_base; beta_j]\n",
    "        top = G_inv @ (b + z * beta / s)\n",
    "        beta_j = (beta - z.T @ top).item() / s\n",
    "        beta_full = np.vstack([top, beta_j])\n",
    "\n",
    "        X_full = np.hstack([X_base, xj])\n",
    "        y_pred = X_full @ beta_full\n",
    "        ss_res = np.sum((yc - y_pred.flatten()) ** 2)\n",
    "        r2 = 1 - ss_res / total_var\n",
    "        r2s[j] = r2\n",
    "\n",
    "    return r2s"
   ]
  },
  {
   "cell_type": "code",
   "execution_count": null,
   "id": "f5c16975-d590-4cf5-a949-814ab9c5ca30",
   "metadata": {},
   "outputs": [],
   "source": [
    "import numpy as np\n",
    "from numpy.linalg import inv\n",
    "\n",
    "def r2_drop_fast_with_schur(X, y):\n",
    "    \"\"\"\n",
    "    X: (n_samples, n_features) centered input\n",
    "    y: (n_samples,) centered target\n",
    "    Returns: R² values for models where each input variable is dropped,\n",
    "             using Schur complement and inverse update\n",
    "    \"\"\"\n",
    "    n, p = X.shape\n",
    "    Xc = X - X.mean(axis=0)\n",
    "    yc = y - y.mean()\n",
    "\n",
    "    G = Xc.T @ Xc\n",
    "    G_inv = inv(G)\n",
    "    b = Xc.T @ yc\n",
    "    total_var = np.sum(yc ** 2)\n",
    "\n",
    "    r2s = np.zeros(p)\n",
    "\n",
    "    for j in range(p):\n",
    "        idx = np.arange(p) != j\n",
    "\n",
    "        # Extract M, alpha, v from full G_inv\n",
    "        M = G_inv[np.ix_(idx, idx)]             # (p-1)x(p-1)\n",
    "        v = G_inv[idx, j].reshape(-1, 1)         # (p-1)x1\n",
    "        alpha = G_inv[j, j]                      # scalar\n",
    "\n",
    "        # Schur-complement-based inverse of G_sub\n",
    "        G_sub_inv = M - (v @ v.T) / alpha\n",
    "\n",
    "        # b_sub for beta\n",
    "        b_sub = b[idx].reshape(-1, 1)            # (p-1)x1\n",
    "        beta_sub = G_sub_inv @ b_sub             # (p-1)x1\n",
    "\n",
    "        # Predict y using X_{-j}\n",
    "        y_pred = Xc[:, idx] @ beta_sub\n",
    "        ss_res = np.sum((yc - y_pred.flatten()) ** 2)\n",
    "        r2s[j] = 1 - ss_res / total_var\n",
    "\n",
    "    return r2s"
   ]
  },
  {
   "cell_type": "code",
   "execution_count": null,
   "id": "47e120c5-3581-4109-860c-482cd69b22a8",
   "metadata": {},
   "outputs": [],
   "source": []
  },
  {
   "cell_type": "code",
   "execution_count": null,
   "id": "2bef46c9-1ee4-4a1b-bd30-e6ac1addcfb5",
   "metadata": {},
   "outputs": [],
   "source": []
  }
 ],
 "metadata": {
  "kernelspec": {
   "display_name": "Python 3 (ipykernel)",
   "language": "python",
   "name": "python3"
  },
  "language_info": {
   "codemirror_mode": {
    "name": "ipython",
    "version": 3
   },
   "file_extension": ".py",
   "mimetype": "text/x-python",
   "name": "python",
   "nbconvert_exporter": "python",
   "pygments_lexer": "ipython3",
   "version": "3.12.6"
  }
 },
 "nbformat": 4,
 "nbformat_minor": 5
}
