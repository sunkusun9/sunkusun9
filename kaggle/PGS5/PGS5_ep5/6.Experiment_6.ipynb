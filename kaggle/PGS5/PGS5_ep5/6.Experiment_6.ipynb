{
 "cells": [
  {
   "cell_type": "code",
   "execution_count": 1,
   "id": "ee4f1563-e863-42b8-86e6-22122e351e5d",
   "metadata": {},
   "outputs": [
    {
     "name": "stderr",
     "output_type": "stream",
     "text": [
      "2025-05-26 00:37:29.074539: I tensorflow/core/util/port.cc:153] oneDNN custom operations are on. You may see slightly different numerical results due to floating-point round-off errors from different computation orders. To turn them off, set the environment variable `TF_ENABLE_ONEDNN_OPTS=0`.\n",
      "2025-05-26 00:37:29.083348: E external/local_xla/xla/stream_executor/cuda/cuda_fft.cc:467] Unable to register cuFFT factory: Attempting to register factory for plugin cuFFT when one has already been registered\n",
      "WARNING: All log messages before absl::InitializeLog() is called are written to STDERR\n",
      "E0000 00:00:1748187449.092866  259059 cuda_dnn.cc:8579] Unable to register cuDNN factory: Attempting to register factory for plugin cuDNN when one has already been registered\n",
      "E0000 00:00:1748187449.095950  259059 cuda_blas.cc:1407] Unable to register cuBLAS factory: Attempting to register factory for plugin cuBLAS when one has already been registered\n",
      "W0000 00:00:1748187449.103642  259059 computation_placer.cc:177] computation placer already registered. Please check linkage and avoid linking the same target more than once.\n",
      "W0000 00:00:1748187449.103649  259059 computation_placer.cc:177] computation placer already registered. Please check linkage and avoid linking the same target more than once.\n",
      "W0000 00:00:1748187449.103650  259059 computation_placer.cc:177] computation placer already registered. Please check linkage and avoid linking the same target more than once.\n",
      "W0000 00:00:1748187449.103651  259059 computation_placer.cc:177] computation placer already registered. Please check linkage and avoid linking the same target more than once.\n",
      "2025-05-26 00:37:29.106312: I tensorflow/core/platform/cpu_feature_guard.cc:210] This TensorFlow binary is optimized to use available CPU instructions in performance-critical operations.\n",
      "To enable the following instructions: AVX2 AVX_VNNI FMA, in other operations, rebuild TensorFlow with the appropriate compiler flags.\n"
     ]
    }
   ],
   "source": [
    "import sgml, sgutil, sgpp, dproc\n",
    "import pandas as pd\n",
    "import numpy as np\n",
    "import matplotlib.pyplot as plt\n",
    "import seaborn as sns\n",
    "from sklearn.metrics import root_mean_squared_error\n",
    "\n",
    "from proc_v2 import p\n",
    "from ml_v2 import X_cat, X_num, X_all, target, kf, skf, ss, config, scheduler\n",
    "from ml_v2 import xgb_adapter, lgb_adapter, cb_adapter, lr_adapter, nn_adapter\n",
    "\n",
    "sc = sgutil.SGCache('img', 'result', 'model')\n",
    "df_train = p.fit_transform(['data/train.csv']).assign(\n",
    "    Calories_Log = lambda x: np.log(x['Calories'] + 1)\n",
    ")\n",
    "df_test = p.transform(['data/test.csv'])"
   ]
  },
  {
   "cell_type": "code",
   "execution_count": 2,
   "id": "1bf518d2-35f9-42a3-94bb-298fd9778eb0",
   "metadata": {},
   "outputs": [
    {
     "data": {
      "text/plain": [
       "30"
      ]
     },
     "execution_count": 2,
     "metadata": {},
     "output_type": "execute_result"
    }
   ],
   "source": [
    "df_train['Duration'].nunique()"
   ]
  },
  {
   "cell_type": "code",
   "execution_count": 3,
   "id": "7fc5495e-8dc4-4719-84ed-857f1d4e5c5f",
   "metadata": {},
   "outputs": [
    {
     "data": {
      "text/plain": [
       "63"
      ]
     },
     "execution_count": 3,
     "metadata": {},
     "output_type": "execute_result"
    }
   ],
   "source": [
    "df_train['Heart_Rate'].nunique()"
   ]
  },
  {
   "cell_type": "code",
   "execution_count": 4,
   "id": "b345056d-d049-4e11-aab2-73a7d828da7a",
   "metadata": {},
   "outputs": [
    {
     "data": {
      "text/plain": [
       "75"
      ]
     },
     "execution_count": 4,
     "metadata": {},
     "output_type": "execute_result"
    }
   ],
   "source": [
    "df_train['Body_Temp'].nunique()"
   ]
  },
  {
   "cell_type": "markdown",
   "id": "070b791a-d167-43ae-a574-38d262388fea",
   "metadata": {},
   "source": [
    "# Target Encoder의 효과를 봅니다."
   ]
  },
  {
   "cell_type": "code",
   "execution_count": 5,
   "id": "a4d7d85d-d7f5-4f19-9365-981870f149a2",
   "metadata": {},
   "outputs": [
    {
     "data": {
      "text/plain": [
       "np.float32(0.12801187)"
      ]
     },
     "execution_count": 5,
     "metadata": {},
     "output_type": "execute_result"
    }
   ],
   "source": [
    "df_train.groupby(['Duration', 'Heart_Rate', 'Body_Temp'])[target].agg(\n",
    "    ['mean', 'std', 'size']\n",
    ").query('size >= 50')['std'].mean()"
   ]
  },
  {
   "cell_type": "code",
   "execution_count": 6,
   "id": "68da9980-399d-46b3-b7cc-f37f37fb8dd4",
   "metadata": {},
   "outputs": [
    {
     "data": {
      "text/plain": [
       "np.float32(0.14161234)"
      ]
     },
     "execution_count": 6,
     "metadata": {},
     "output_type": "execute_result"
    }
   ],
   "source": [
    "df_train.groupby(['Duration', 'Heart_Rate'])[target].agg(\n",
    "    ['mean', 'std', 'size']\n",
    ").query('size >= 50')['std'].mean()"
   ]
  },
  {
   "cell_type": "code",
   "execution_count": 7,
   "id": "a7330d43-1616-42dc-b2c0-ccfa834013da",
   "metadata": {},
   "outputs": [
    {
     "data": {
      "text/plain": [
       "np.float32(0.1881298)"
      ]
     },
     "execution_count": 7,
     "metadata": {},
     "output_type": "execute_result"
    }
   ],
   "source": [
    "df_train.groupby(['Duration', 'Body_Temp'])[target].agg(\n",
    "    ['mean', 'std', 'size']\n",
    ").query('size >= 50')['std'].mean()"
   ]
  },
  {
   "cell_type": "code",
   "execution_count": 8,
   "id": "b81b079b-b8eb-4847-8376-0ccc4435f491",
   "metadata": {},
   "outputs": [
    {
     "data": {
      "text/plain": [
       "np.float32(0.17675276)"
      ]
     },
     "execution_count": 8,
     "metadata": {},
     "output_type": "execute_result"
    }
   ],
   "source": [
    "df_train.groupby(['Duration'])[target].agg(\n",
    "    ['mean', 'std', 'size']\n",
    ").query('size >= 50')['std'].mean()"
   ]
  },
  {
   "cell_type": "code",
   "execution_count": 9,
   "id": "d2a45cab-59ea-4acf-b2b9-51b0dd6ff376",
   "metadata": {},
   "outputs": [
    {
     "data": {
      "text/plain": [
       "np.float32(0.10964416)"
      ]
     },
     "execution_count": 9,
     "metadata": {},
     "output_type": "execute_result"
    }
   ],
   "source": [
    "df_train.groupby(['Sex', 'Duration', 'Heart_Rate', 'Body_Temp'])[target].agg(\n",
    "    ['mean', 'std', 'size']\n",
    ").query('size >= 50')['std'].mean()"
   ]
  },
  {
   "cell_type": "code",
   "execution_count": 10,
   "id": "09a64609-aabe-49dd-9f2a-f07b7580fbec",
   "metadata": {},
   "outputs": [
    {
     "data": {
      "text/plain": [
       "np.float32(0.9575898)"
      ]
     },
     "execution_count": 10,
     "metadata": {},
     "output_type": "execute_result"
    }
   ],
   "source": [
    "df_train.groupby(['Height', 'Weight'])[target].agg(\n",
    "    ['mean', 'std', 'size']\n",
    ").query('size >= 50')['std'].mean()"
   ]
  },
  {
   "cell_type": "code",
   "execution_count": 11,
   "id": "a3152524-a140-40fc-9a4e-4b569ac097a3",
   "metadata": {},
   "outputs": [
    {
     "data": {
      "text/plain": [
       "np.float32(0.9839047)"
      ]
     },
     "execution_count": 11,
     "metadata": {},
     "output_type": "execute_result"
    }
   ],
   "source": [
    "df_train.groupby(['Height'])[target].agg(\n",
    "    ['mean', 'std', 'size']\n",
    ").query('size >= 50')['std'].mean()"
   ]
  },
  {
   "cell_type": "code",
   "execution_count": 12,
   "id": "1303b870-cbfe-408c-86fd-e4547a572787",
   "metadata": {},
   "outputs": [
    {
     "data": {
      "text/plain": [
       "np.float32(1.0028571)"
      ]
     },
     "execution_count": 12,
     "metadata": {},
     "output_type": "execute_result"
    }
   ],
   "source": [
    "df_train.groupby(['Weight'])[target].agg(\n",
    "    ['mean', 'std', 'size']\n",
    ").query('size >= 50')['std'].mean()"
   ]
  },
  {
   "cell_type": "code",
   "execution_count": 13,
   "id": "8db52682-e183-4c93-8447-87b1f73a77e8",
   "metadata": {},
   "outputs": [
    {
     "data": {
      "text/plain": [
       "np.float32(0.9559728)"
      ]
     },
     "execution_count": 13,
     "metadata": {},
     "output_type": "execute_result"
    }
   ],
   "source": [
    "df_train.groupby(['Sex', 'Height', 'Weight'])[target].agg(\n",
    "    ['mean', 'std', 'size']\n",
    ").query('size >= 50')['std'].mean()"
   ]
  },
  {
   "cell_type": "code",
   "execution_count": 6,
   "id": "3def6198-5ae2-4eb1-8a05-0b0cdfa55f48",
   "metadata": {},
   "outputs": [],
   "source": [
    "cc = sgpp.CatCombiner2(\n",
    "    [['Sex', 'Duration', 'Heart_Rate', 'Body_Temp'], ['Sex', 'Height', 'Weight']]\n",
    ")\n",
    "df_train = dproc.join_and_assign(\n",
    "    df_train, cc.fit_transform(df_train)\n",
    ")"
   ]
  },
  {
   "cell_type": "markdown",
   "id": "8ca6634c-6ab9-43d8-9b00-acd7e894faf5",
   "metadata": {},
   "source": [
    "- Age를 제외하고 log 속성을 추가하면 성능 향상이 있습니다."
   ]
  },
  {
   "cell_type": "code",
   "execution_count": 8,
   "id": "b9ec18ac-870c-4a52-8870-9d306a569cdd",
   "metadata": {},
   "outputs": [
    {
     "data": {
      "application/vnd.jupyter.widget-view+json": {
       "model_id": "8ffcf8cff93041ada8340d874d54210b",
       "version_major": 2,
       "version_minor": 0
      },
      "text/plain": [
       "Fold:   0%|          | 0/4 [00:00<?, ?it/s]"
      ]
     },
     "metadata": {},
     "output_type": "display_data"
    },
    {
     "data": {
      "text/plain": [
       "{'valid_scores': [0.0989459678530693,\n",
       "  0.0982351079583168,\n",
       "  0.09807074815034866,\n",
       "  0.09894682466983795],\n",
       " 'valid_prd': id\n",
       " 0         4.990277\n",
       " 1         3.603220\n",
       " 2         3.370885\n",
       " 3         4.922816\n",
       " 4         4.987004\n",
       "             ...   \n",
       " 749995    5.351160\n",
       " 749996    4.581959\n",
       " 749997    5.523477\n",
       " 749998    4.622436\n",
       " 749999    4.605652\n",
       " Length: 750000, dtype: float32,\n",
       " 'model_result': [],\n",
       " 'train_scores': [0.09841784834861755,\n",
       "  0.09865152835845947,\n",
       "  0.098708875477314,\n",
       "  0.09841430932283401],\n",
       " 'hparams': {'X_std': ['Duration_log',\n",
       "   'Heart_Rate_sqrt_d',\n",
       "   'Height_log',\n",
       "   'Weight_log',\n",
       "   'Heart_Rate_log',\n",
       "   'Body_Temp_log',\n",
       "   'Age',\n",
       "   'Height',\n",
       "   'Weight',\n",
       "   'Duration',\n",
       "   'Heart_Rate',\n",
       "   'Body_Temp'],\n",
       "  'tgt': {'smooth': 0.1, 'random_state': 123}}}"
      ]
     },
     "execution_count": 8,
     "metadata": {},
     "output_type": "execute_result"
    }
   ],
   "source": [
    "sgml.cv(df_train, kf, {\n",
    "    'X_std': ['Duration_log', 'Heart_Rate_sqrt_d', 'Height_log', 'Weight_log', 'Heart_Rate_log', 'Body_Temp_log'] + X_num, \n",
    "    'X_tgt': df_train.columns[-2:].tolist(), 'tgt': {'smooth': 0.1, 'random_state': 123}}, config, lr_adapter)"
   ]
  },
  {
   "cell_type": "markdown",
   "id": "4abd0586-b2df-43f6-b371-dafa6e4a6f0c",
   "metadata": {},
   "source": [
    "# NN4"
   ]
  },
  {
   "cell_type": "code",
   "execution_count": 5,
   "id": "a586f07c-7201-4531-94fb-346cd6067d8e",
   "metadata": {},
   "outputs": [
    {
     "data": {
      "application/vnd.jupyter.widget-view+json": {
       "model_id": "44b0fdef4ef74ea990f90f7d8fe9b844",
       "version_major": 2,
       "version_minor": 0
      },
      "text/plain": [
       "Fold:   0%|          | 0/5 [00:00<?, ?it/s]"
      ]
     },
     "metadata": {},
     "output_type": "display_data"
    },
    {
     "data": {
      "application/vnd.jupyter.widget-view+json": {
       "model_id": "725f16950af34106bd3d24ba6d878769",
       "version_major": 2,
       "version_minor": 0
      },
      "text/plain": [
       "Epoch:   0%|          | 0/30 [00:00<?, ?it/s]"
      ]
     },
     "metadata": {},
     "output_type": "display_data"
    },
    {
     "data": {
      "application/vnd.jupyter.widget-view+json": {
       "model_id": "2fe0746a463d466e81fd1d750ea42713",
       "version_major": 2,
       "version_minor": 0
      },
      "text/plain": [
       "Step:   0%|          | 0/4688 [00:00<?, ?it/s]"
      ]
     },
     "metadata": {},
     "output_type": "display_data"
    },
    {
     "data": {
      "application/vnd.jupyter.widget-view+json": {
       "model_id": "123c83cbd0034e98b180faf93d4753db",
       "version_major": 2,
       "version_minor": 0
      },
      "text/plain": [
       "Epoch:   0%|          | 0/30 [00:00<?, ?it/s]"
      ]
     },
     "metadata": {},
     "output_type": "display_data"
    },
    {
     "data": {
      "application/vnd.jupyter.widget-view+json": {
       "model_id": "9ef7ef16a8954ccd975c53a8ea0904c3",
       "version_major": 2,
       "version_minor": 0
      },
      "text/plain": [
       "Step:   0%|          | 0/4688 [00:00<?, ?it/s]"
      ]
     },
     "metadata": {},
     "output_type": "display_data"
    },
    {
     "data": {
      "application/vnd.jupyter.widget-view+json": {
       "model_id": "8a1863e4c750441ba2d5ac3de9006732",
       "version_major": 2,
       "version_minor": 0
      },
      "text/plain": [
       "Epoch:   0%|          | 0/30 [00:00<?, ?it/s]"
      ]
     },
     "metadata": {},
     "output_type": "display_data"
    },
    {
     "data": {
      "application/vnd.jupyter.widget-view+json": {
       "model_id": "6602949143574882aefa4780af02f0be",
       "version_major": 2,
       "version_minor": 0
      },
      "text/plain": [
       "Step:   0%|          | 0/4688 [00:00<?, ?it/s]"
      ]
     },
     "metadata": {},
     "output_type": "display_data"
    },
    {
     "data": {
      "application/vnd.jupyter.widget-view+json": {
       "model_id": "37bca19920774d599720512d113fc1d7",
       "version_major": 2,
       "version_minor": 0
      },
      "text/plain": [
       "Epoch:   0%|          | 0/30 [00:00<?, ?it/s]"
      ]
     },
     "metadata": {},
     "output_type": "display_data"
    },
    {
     "data": {
      "application/vnd.jupyter.widget-view+json": {
       "model_id": "e1289c6d28ae4b008533511f218e2958",
       "version_major": 2,
       "version_minor": 0
      },
      "text/plain": [
       "Step:   0%|          | 0/4688 [00:00<?, ?it/s]"
      ]
     },
     "metadata": {},
     "output_type": "display_data"
    },
    {
     "data": {
      "application/vnd.jupyter.widget-view+json": {
       "model_id": "5de75b057874411cad9a8bc614b025e9",
       "version_major": 2,
       "version_minor": 0
      },
      "text/plain": [
       "Epoch:   0%|          | 0/30 [00:00<?, ?it/s]"
      ]
     },
     "metadata": {},
     "output_type": "display_data"
    },
    {
     "data": {
      "application/vnd.jupyter.widget-view+json": {
       "model_id": "a2a687ddb27c4d8f9f4d545f70f118f3",
       "version_major": 2,
       "version_minor": 0
      },
      "text/plain": [
       "Step:   0%|          | 0/4688 [00:00<?, ?it/s]"
      ]
     },
     "metadata": {},
     "output_type": "display_data"
    }
   ],
   "source": [
    "X_log = ['Duration_log', 'Heart_Rate_sqrt_d', 'Height_log', 'Weight_log', 'Heart_Rate_log', 'Body_Temp_log']\n",
    "nn_params = {\n",
    "    'config':  [\n",
    "        {'unit': 128, 'activation': 'swish', 'batch_norm': False},\n",
    "        {'unit': 256, 'activation': 'swish', 'batch_norm': False},\n",
    "        {'unit': 256, 'activation': 'swish', 'batch_norm': False},\n",
    "        {'unit': 128, 'activation': 'swish', 'batch_norm': False},\n",
    "    ]\n",
    "}\n",
    "hparams = {\n",
    "    'model_params': {\n",
    "        'model_params': nn_params,\n",
    "        'epochs': 30,\n",
    "        'optimizer': ('Adam', {'learning_rate': 0.0001}),\n",
    "        'batch_size': 128, 'shuffle_size': 204800,\n",
    "        'early_stopping': None, 'reduce_lr_on_plateau': None, 'lr_scheduler': {'schedule': scheduler}\n",
    "    }, 'X_std': ['Age', 'Height', 'Weight', 'Duration', 'Heart_Rate', 'Heart_Rate_sqrt_d', 'Body_Temp'] + X_log, 'X_num': ['Sex']\n",
    "}\n",
    "\n",
    "result = sc.cv_result('nn4', df_train, skf, hparams, config, nn_adapter, rerun = 0)"
   ]
  },
  {
   "cell_type": "code",
   "execution_count": 6,
   "id": "fd44e879-7616-48d0-b0db-10d0334fa420",
   "metadata": {},
   "outputs": [
    {
     "data": {
      "text/plain": [
       "(0.05956732928752899,\n",
       " [0.05952732264995575,\n",
       "  0.059361450374126434,\n",
       "  0.060435764491558075,\n",
       "  0.059219636023044586,\n",
       "  0.059292472898960114])"
      ]
     },
     "execution_count": 6,
     "metadata": {},
     "output_type": "execute_result"
    }
   ],
   "source": [
    "np.mean(result['valid_scores']), result['valid_scores']"
   ]
  },
  {
   "cell_type": "code",
   "execution_count": 4,
   "id": "1311ae3d-665d-42fa-b0e4-92445ad7b897",
   "metadata": {},
   "outputs": [
    {
     "data": {
      "text/plain": [
       "id\n",
       "0         3\n",
       "1         6\n",
       "2         5\n",
       "3         2\n",
       "4         3\n",
       "         ..\n",
       "749995    2\n",
       "749996    6\n",
       "749997    6\n",
       "749998    4\n",
       "749999    3\n",
       "Name: Age, Length: 750000, dtype: int8"
      ]
     },
     "execution_count": 4,
     "metadata": {},
     "output_type": "execute_result"
    }
   ],
   "source": [
    "df_train['Age'] // 10"
   ]
  },
  {
   "cell_type": "code",
   "execution_count": 10,
   "id": "c7285f48-d4aa-48e5-a54a-c03a03139280",
   "metadata": {},
   "outputs": [],
   "source": [
    "df_train['Dur_target_std'] = df_train.groupby('Duration')[target].transform(lambda x: (x - x.mean()) / x.std())"
   ]
  },
  {
   "cell_type": "code",
   "execution_count": 43,
   "id": "d626788f-93ec-4656-b47f-987ff786f359",
   "metadata": {},
   "outputs": [
    {
     "data": {
      "text/plain": [
       "Height           -5.778868e-03\n",
       "Weight            3.567946e-02\n",
       "Duration         -3.857965e-07\n",
       "Age               5.584026e-01\n",
       "Body_Temp         2.224439e-02\n",
       "Heart_Rate        3.200603e-01\n",
       "Sex              -4.987826e-02\n",
       "Dur_target_std    1.000000e+00\n",
       "Name: Dur_target_std, dtype: float64"
      ]
     },
     "execution_count": 43,
     "metadata": {},
     "output_type": "execute_result"
    }
   ],
   "source": [
    "df_train[['Height', 'Weight', 'Duration', 'Age', 'Body_Temp', 'Heart_Rate', 'Sex', 'Dur_target_std']].corr()['Dur_target_std']"
   ]
  },
  {
   "cell_type": "code",
   "execution_count": 19,
   "id": "cfbdfae1-f700-4596-9833-6e016ccd69df",
   "metadata": {},
   "outputs": [
    {
     "data": {
      "text/plain": [
       "PearsonRResult(statistic=0.94012845, pvalue=0.0)"
      ]
     },
     "execution_count": 19,
     "metadata": {},
     "output_type": "execute_result"
    }
   ],
   "source": [
    "from scipy.stats import pearsonr\n",
    "pearsonr(df_train['Duration'], df_train[target])"
   ]
  },
  {
   "cell_type": "code",
   "execution_count": 20,
   "id": "c518a1bc-2833-4643-bba5-ee320e2d5aa7",
   "metadata": {},
   "outputs": [
    {
     "data": {
      "text/plain": [
       "PearsonRResult(statistic=0.5584028, pvalue=0.0)"
      ]
     },
     "execution_count": 20,
     "metadata": {},
     "output_type": "execute_result"
    }
   ],
   "source": [
    "pearsonr(df_train['Dur_target_std'], df_train['Age'])"
   ]
  },
  {
   "cell_type": "code",
   "execution_count": 2,
   "id": "0ddad362-acdc-42b2-8875-79aa7b107c85",
   "metadata": {},
   "outputs": [],
   "source": [
    "df_train['Age_2'] = df_train['Age'].clip(0, 65)"
   ]
  },
  {
   "cell_type": "code",
   "execution_count": 115,
   "id": "a80dc3a2-7c17-4d3c-b118-294ab1ad6fce",
   "metadata": {},
   "outputs": [],
   "source": [
    "df_train['DA_target_std'] = df_train.groupby(['Duration', 'Age_2'])[target].transform(lambda x: (x - x.mean()) / x.std())"
   ]
  },
  {
   "cell_type": "code",
   "execution_count": 116,
   "id": "0fba490d-aa3a-40d5-9f50-dad920aec508",
   "metadata": {},
   "outputs": [
    {
     "data": {
      "text/plain": [
       "Height           0.005997\n",
       "Weight           0.015812\n",
       "Body_Temp        0.017662\n",
       "Heart_Rate       0.390577\n",
       "Sex             -0.038893\n",
       "DA_target_std    1.000000\n",
       "Name: DA_target_std, dtype: float64"
      ]
     },
     "execution_count": 116,
     "metadata": {},
     "output_type": "execute_result"
    }
   ],
   "source": [
    "df_train[['Height', 'Weight','Body_Temp', 'Heart_Rate', 'Sex', 'DA_target_std']].corr()['DA_target_std']"
   ]
  },
  {
   "cell_type": "code",
   "execution_count": 117,
   "id": "08483653-c5e6-4754-9a37-4adc18ddf67a",
   "metadata": {},
   "outputs": [
    {
     "data": {
      "text/plain": [
       "Duration  Age_2  Sex  \n",
       "29.0      65     True     1882\n",
       "28.0      65     True     1763\n",
       "26.0      65     True     1660\n",
       "27.0      65     True     1517\n",
       "10.0      65     False    1402\n",
       "                          ... \n",
       "1.0       55     False      33\n",
       "          58     False      32\n",
       "22.0      60     False      30\n",
       "1.0       49     False      29\n",
       "          53     False      24\n",
       "Name: count, Length: 2760, dtype: int64"
      ]
     },
     "execution_count": 117,
     "metadata": {},
     "output_type": "execute_result"
    }
   ],
   "source": [
    "df_train[['Duration', 'Age_2', 'Sex']].value_counts()"
   ]
  },
  {
   "cell_type": "code",
   "execution_count": 3,
   "id": "d3c93921-2067-47c1-a083-b78831f8a784",
   "metadata": {},
   "outputs": [],
   "source": [
    "df_train['DAS_target_std'] = df_train.groupby(['Duration', 'Age_2', 'Sex'])[target].transform(lambda x: (x - x.mean()) / x.std())"
   ]
  },
  {
   "cell_type": "code",
   "execution_count": 119,
   "id": "2e51924b-33f4-4978-b217-7f92df1d475b",
   "metadata": {},
   "outputs": [
    {
     "data": {
      "text/plain": [
       "Height            0.017093\n",
       "Weight            0.028878\n",
       "Body_Temp         0.014610\n",
       "Heart_Rate        0.427700\n",
       "DAS_target_std    1.000000\n",
       "Name: DAS_target_std, dtype: float64"
      ]
     },
     "execution_count": 119,
     "metadata": {},
     "output_type": "execute_result"
    }
   ],
   "source": [
    "df_train[['Height', 'Weight','Body_Temp', 'Heart_Rate', 'DAS_target_std']].corr()['DAS_target_std']"
   ]
  },
  {
   "cell_type": "code",
   "execution_count": 5,
   "id": "6c9bdb88-96c4-45a2-8dce-c0ea4b3bfe85",
   "metadata": {},
   "outputs": [],
   "source": [
    "df_train['DAS'] = df_train[['Duration', 'Age_2', 'Sex']].astype(str).sum(axis = 1).astype('category')"
   ]
  },
  {
   "cell_type": "code",
   "execution_count": 121,
   "id": "cb840fb4-df30-4b9d-a198-4a4f9f62b0aa",
   "metadata": {},
   "outputs": [
    {
     "data": {
      "text/plain": [
       "0.14046500059439904"
      ]
     },
     "execution_count": 121,
     "metadata": {},
     "output_type": "execute_result"
    }
   ],
   "source": [
    "from sklearn.preprocessing import TargetEncoder\n",
    "\n",
    "tgt = TargetEncoder()\n",
    "root_mean_squared_error(\n",
    "    df_train[target], tgt.fit_transform(df_train[['DAS']], df_train[target])[:, 0]\n",
    ")"
   ]
  },
  {
   "cell_type": "code",
   "execution_count": 122,
   "id": "a575aa2f-165a-41f7-9436-60d5d1b8122f",
   "metadata": {},
   "outputs": [
    {
     "data": {
      "text/plain": [
       "['Age', 'Height', 'Weight', 'Duration', 'Heart_Rate', 'Body_Temp']"
      ]
     },
     "execution_count": 122,
     "metadata": {},
     "output_type": "execute_result"
    }
   ],
   "source": [
    "X_num"
   ]
  },
  {
   "cell_type": "code",
   "execution_count": 124,
   "id": "5721fa8b-8f41-4c0e-ae95-f38828484887",
   "metadata": {},
   "outputs": [
    {
     "data": {
      "application/vnd.jupyter.widget-view+json": {
       "model_id": "123c801d4f684937bd494438407b2304",
       "version_major": 2,
       "version_minor": 0
      },
      "text/plain": [
       "Fold:   0%|          | 0/5 [00:00<?, ?it/s]"
      ]
     },
     "metadata": {},
     "output_type": "display_data"
    },
    {
     "data": {
      "text/plain": [
       "{'valid_scores': [0.07191105807652111,\n",
       "  0.07180225181490403,\n",
       "  0.07281966892552419,\n",
       "  0.07168646259620916,\n",
       "  0.07111156994542099],\n",
       " 'valid_prd': id\n",
       " 0         4.995144\n",
       " 1         3.569119\n",
       " 2         3.356816\n",
       " 3         4.912358\n",
       " 4         4.978397\n",
       "             ...   \n",
       " 749995    5.340399\n",
       " 749996    4.523926\n",
       " 749997    5.495052\n",
       " 749998    4.684679\n",
       " 749999    4.614335\n",
       " Length: 750000, dtype: float64,\n",
       " 'model_result': [],\n",
       " 'train_scores': [0.0715751222425497,\n",
       "  0.07158818967978951,\n",
       "  0.07133095948730765,\n",
       "  0.07157798322156914,\n",
       "  0.07177942867486596],\n",
       " 'hparams': {'X_std': ['Age',\n",
       "   'Height',\n",
       "   'Weight',\n",
       "   'Duration',\n",
       "   'Heart_Rate',\n",
       "   'Heart_Rate_sqrt_d',\n",
       "   'Body_Temp',\n",
       "   'Duration_log',\n",
       "   'Height_log',\n",
       "   'Weight_log',\n",
       "   'Heart_Rate_log',\n",
       "   'Body_Temp_log'],\n",
       "  'X_tgt': ['DAS'],\n",
       "  'tgt': {'random_state': 123}}}"
      ]
     },
     "execution_count": 124,
     "metadata": {},
     "output_type": "execute_result"
    }
   ],
   "source": [
    "X_log = ['Duration_log', 'Height_log', 'Weight_log', 'Heart_Rate_log', 'Body_Temp_log']\n",
    "sgml.cv(df_train, skf, {\n",
    "    'X_std': ['Age', 'Height', 'Weight', 'Duration', 'Heart_Rate', 'Heart_Rate_sqrt_d', 'Body_Temp'] + X_log, \n",
    "    'X_tgt': ['DAS'], 'tgt': {'random_state': 123}}, config, lr_adapter)"
   ]
  },
  {
   "cell_type": "code",
   "execution_count": 49,
   "id": "87c9cc7a-040b-4bed-955a-2c29c6804529",
   "metadata": {},
   "outputs": [
    {
     "data": {
      "application/vnd.jupyter.widget-view+json": {
       "model_id": "46f5d114c5b54969978bbc60d767d8e0",
       "version_major": 2,
       "version_minor": 0
      },
      "text/plain": [
       "Fold:   0%|          | 0/5 [00:00<?, ?it/s]"
      ]
     },
     "metadata": {},
     "output_type": "display_data"
    },
    {
     "data": {
      "application/vnd.jupyter.widget-view+json": {
       "model_id": "bb14e0cb34fe4041a062d3454cb15a68",
       "version_major": 2,
       "version_minor": 0
      },
      "text/plain": [
       "Epoch:   0%|          | 0/30 [00:00<?, ?it/s]"
      ]
     },
     "metadata": {},
     "output_type": "display_data"
    },
    {
     "data": {
      "application/vnd.jupyter.widget-view+json": {
       "model_id": "dfec8fc4809b44d6b46a7e611ad4c0b0",
       "version_major": 2,
       "version_minor": 0
      },
      "text/plain": [
       "Step:   0%|          | 0/4688 [00:00<?, ?it/s]"
      ]
     },
     "metadata": {},
     "output_type": "display_data"
    },
    {
     "data": {
      "application/vnd.jupyter.widget-view+json": {
       "model_id": "150480311ad3430e9306f9bf9dc4f38f",
       "version_major": 2,
       "version_minor": 0
      },
      "text/plain": [
       "Epoch:   0%|          | 0/30 [00:00<?, ?it/s]"
      ]
     },
     "metadata": {},
     "output_type": "display_data"
    },
    {
     "data": {
      "application/vnd.jupyter.widget-view+json": {
       "model_id": "f70d4160d2ad4c0d87f0b9e2b733e3a5",
       "version_major": 2,
       "version_minor": 0
      },
      "text/plain": [
       "Step:   0%|          | 0/4688 [00:00<?, ?it/s]"
      ]
     },
     "metadata": {},
     "output_type": "display_data"
    },
    {
     "data": {
      "application/vnd.jupyter.widget-view+json": {
       "model_id": "cf78940c52964426be3924a10e0c0723",
       "version_major": 2,
       "version_minor": 0
      },
      "text/plain": [
       "Epoch:   0%|          | 0/30 [00:00<?, ?it/s]"
      ]
     },
     "metadata": {},
     "output_type": "display_data"
    },
    {
     "data": {
      "application/vnd.jupyter.widget-view+json": {
       "model_id": "e4270ae7a0d84fb19425d3d0ef24a7f5",
       "version_major": 2,
       "version_minor": 0
      },
      "text/plain": [
       "Step:   0%|          | 0/4688 [00:00<?, ?it/s]"
      ]
     },
     "metadata": {},
     "output_type": "display_data"
    },
    {
     "data": {
      "application/vnd.jupyter.widget-view+json": {
       "model_id": "2c5ac60718de4715a55b3a8b8db3586c",
       "version_major": 2,
       "version_minor": 0
      },
      "text/plain": [
       "Epoch:   0%|          | 0/30 [00:00<?, ?it/s]"
      ]
     },
     "metadata": {},
     "output_type": "display_data"
    },
    {
     "data": {
      "application/vnd.jupyter.widget-view+json": {
       "model_id": "aff9f705af264c7c9386924892b5168e",
       "version_major": 2,
       "version_minor": 0
      },
      "text/plain": [
       "Step:   0%|          | 0/4688 [00:00<?, ?it/s]"
      ]
     },
     "metadata": {},
     "output_type": "display_data"
    },
    {
     "data": {
      "application/vnd.jupyter.widget-view+json": {
       "model_id": "00c41fd8b3be475d970581a5d6addb94",
       "version_major": 2,
       "version_minor": 0
      },
      "text/plain": [
       "Epoch:   0%|          | 0/30 [00:00<?, ?it/s]"
      ]
     },
     "metadata": {},
     "output_type": "display_data"
    },
    {
     "data": {
      "application/vnd.jupyter.widget-view+json": {
       "model_id": "02434c229ef44ab88d39d2786b09086f",
       "version_major": 2,
       "version_minor": 0
      },
      "text/plain": [
       "Step:   0%|          | 0/4688 [00:00<?, ?it/s]"
      ]
     },
     "metadata": {},
     "output_type": "display_data"
    }
   ],
   "source": [
    "X_log = ['Duration_log', 'Height_log', 'Weight_log', 'Heart_Rate_log', 'Body_Temp_log']\n",
    "nn_params = {\n",
    "    'config':  [\n",
    "        {'unit': 128, 'activation': 'swish', 'batch_norm': False},\n",
    "        {'unit': 256, 'activation': 'swish', 'batch_norm': False},\n",
    "        {'unit': 256, 'activation': 'swish', 'batch_norm': False},\n",
    "        {'unit': 128, 'activation': 'swish', 'batch_norm': False},\n",
    "    ]\n",
    "}\n",
    "hparams = {\n",
    "    'model_params': {\n",
    "        'model_params': nn_params,\n",
    "        'epochs': 30,\n",
    "        'optimizer': ('Adam', {'learning_rate': 0.0001}),\n",
    "        'batch_size': 128, 'shuffle_size': 204800,\n",
    "        'early_stopping': None, 'reduce_lr_on_plateau': None, 'lr_scheduler': {'schedule': scheduler}\n",
    "    }, 'X_std': ['Age', 'Height', 'Weight', 'Duration', 'Duration_log', 'Heart_Rate', 'Heart_Rate_sqrt_d', 'Body_Temp'], 'X_num': ['Sex'],\n",
    "    'X_tgt': ['DAS'], 'tgt': {'random_state': 123}\n",
    "}\n",
    "\n",
    "result = sc.cv_result('nn5', df_train, skf, hparams, config, nn_adapter, rerun = 1)"
   ]
  },
  {
   "cell_type": "code",
   "execution_count": 50,
   "id": "8b0ea81a-26ff-4828-8bde-d7a0e99d815d",
   "metadata": {},
   "outputs": [
    {
     "data": {
      "text/plain": [
       "0.059637806564569476"
      ]
     },
     "execution_count": 50,
     "metadata": {},
     "output_type": "execute_result"
    }
   ],
   "source": [
    "np.mean(result['valid_scores'])"
   ]
  },
  {
   "cell_type": "markdown",
   "id": "207fa69e-db92-4b58-b20c-27b5f9da0643",
   "metadata": {},
   "source": [
    "## CB6\n",
    "\n",
    "- DAS 를 CatBoost에 사용해봅니다."
   ]
  },
  {
   "cell_type": "code",
   "execution_count": 16,
   "id": "5ac5f946-662e-466b-a521-0d3405e5d654",
   "metadata": {},
   "outputs": [
    {
     "data": {
      "application/vnd.jupyter.widget-view+json": {
       "model_id": "70ba628580f14019b45129bcd9e90cbe",
       "version_major": 2,
       "version_minor": 0
      },
      "text/plain": [
       "Fold:   0%|          | 0/5 [00:00<?, ?it/s]"
      ]
     },
     "metadata": {},
     "output_type": "display_data"
    },
    {
     "data": {
      "text/plain": [
       "(0.05957448612322343,\n",
       " [0.060064969146597355,\n",
       "  0.05955261904152514,\n",
       "  0.05978967750250761,\n",
       "  0.05926171406685314,\n",
       "  0.05920345085863389])"
      ]
     },
     "execution_count": 16,
     "metadata": {},
     "output_type": "execute_result"
    }
   ],
   "source": [
    "hparams = {\n",
    "    'model_params': {'max_depth': 7, 'n_estimators': 2000, 'learning_rate': 0.07, 'colsample_bylevel': 0.8}, \n",
    "    'X_num': ['Sex', 'Age', 'Height', 'Weight', 'Duration_log', 'Heart_Rate', 'Body_Temp'], \n",
    "    'X_tgt': ['DAS'], 'tgt': {'random_state': 123},\n",
    "    'validation_fraction': 'oof'\n",
    "}\n",
    "\n",
    "result = sc.cv_result('cb6', df_train, skf, hparams, config, cb_adapter, use_gpu = 0, rerun = 1)\n",
    "np.mean(result['valid_scores']), result['valid_scores']"
   ]
  },
  {
   "cell_type": "markdown",
   "id": "0ddb1aae-19f9-4eb0-a69d-d70747328153",
   "metadata": {},
   "source": [
    "# LGB4"
   ]
  },
  {
   "cell_type": "code",
   "execution_count": 18,
   "id": "d75bd0ca-3d58-4982-bd5a-17fa21596634",
   "metadata": {},
   "outputs": [
    {
     "data": {
      "application/vnd.jupyter.widget-view+json": {
       "model_id": "b87da9f4fe834a4082376c87d9874ed2",
       "version_major": 2,
       "version_minor": 0
      },
      "text/plain": [
       "Fold:   0%|          | 0/5 [00:00<?, ?it/s]"
      ]
     },
     "metadata": {},
     "output_type": "display_data"
    },
    {
     "name": "stderr",
     "output_type": "stream",
     "text": [
      "/home/sun9sun9/python312/lib/python3.12/site-packages/sklearn/utils/validation.py:2739: UserWarning: X does not have valid feature names, but LGBMRegressor was fitted with feature names\n",
      "  warnings.warn(\n",
      "/home/sun9sun9/python312/lib/python3.12/site-packages/sklearn/utils/validation.py:2739: UserWarning: X does not have valid feature names, but LGBMRegressor was fitted with feature names\n",
      "  warnings.warn(\n",
      "/home/sun9sun9/python312/lib/python3.12/site-packages/sklearn/utils/validation.py:2739: UserWarning: X does not have valid feature names, but LGBMRegressor was fitted with feature names\n",
      "  warnings.warn(\n",
      "/home/sun9sun9/python312/lib/python3.12/site-packages/sklearn/utils/validation.py:2739: UserWarning: X does not have valid feature names, but LGBMRegressor was fitted with feature names\n",
      "  warnings.warn(\n",
      "/home/sun9sun9/python312/lib/python3.12/site-packages/sklearn/utils/validation.py:2739: UserWarning: X does not have valid feature names, but LGBMRegressor was fitted with feature names\n",
      "  warnings.warn(\n",
      "/home/sun9sun9/python312/lib/python3.12/site-packages/sklearn/utils/validation.py:2739: UserWarning: X does not have valid feature names, but LGBMRegressor was fitted with feature names\n",
      "  warnings.warn(\n",
      "/home/sun9sun9/python312/lib/python3.12/site-packages/sklearn/utils/validation.py:2739: UserWarning: X does not have valid feature names, but LGBMRegressor was fitted with feature names\n",
      "  warnings.warn(\n",
      "/home/sun9sun9/python312/lib/python3.12/site-packages/sklearn/utils/validation.py:2739: UserWarning: X does not have valid feature names, but LGBMRegressor was fitted with feature names\n",
      "  warnings.warn(\n",
      "/home/sun9sun9/python312/lib/python3.12/site-packages/sklearn/utils/validation.py:2739: UserWarning: X does not have valid feature names, but LGBMRegressor was fitted with feature names\n",
      "  warnings.warn(\n",
      "/home/sun9sun9/python312/lib/python3.12/site-packages/sklearn/utils/validation.py:2739: UserWarning: X does not have valid feature names, but LGBMRegressor was fitted with feature names\n",
      "  warnings.warn(\n"
     ]
    },
    {
     "data": {
      "text/plain": [
       "(0.05995094205758729,\n",
       " [0.060346750917520384,\n",
       "  0.05996893565243282,\n",
       "  0.06038404435264214,\n",
       "  0.05963170912729574,\n",
       "  0.05942327023804537])"
      ]
     },
     "execution_count": 18,
     "metadata": {},
     "output_type": "execute_result"
    }
   ],
   "source": [
    "hparams = {\n",
    "    'model_params': {'n_estimators': 2500, 'colsample_bytree': 0.9, 'num_leaves': 15, 'learning_rate': 0.07},\n",
    "    'X_num': ['Sex', 'Age', 'Height', 'Weight', 'Duration_log', 'Heart_Rate', 'Body_Temp'], \n",
    "    'X_tgt': ['DAS'], 'tgt': {'random_state': 123},\n",
    "    'validation_fraction': 'oof', \n",
    "}\n",
    "result = sc.cv_result('lgb4', df_train, skf, hparams, config, lgb_adapter, rerun = 0)\n",
    "np.mean(result['valid_scores']), result['valid_scores']"
   ]
  },
  {
   "cell_type": "markdown",
   "id": "6ffbfcca-9e89-4129-b34c-833827d37694",
   "metadata": {},
   "source": [
    "# 주요 변수를 범주화합니다."
   ]
  },
  {
   "cell_type": "code",
   "execution_count": 5,
   "id": "5c0f9d96-8e6c-42d4-8e51-4b7137d2a0a9",
   "metadata": {},
   "outputs": [],
   "source": [
    "df_train['Age_c'] = (df_train['Age'] // 10).astype('str').astype('category')\n",
    "df_train['Duration_c'] = df_train['Duration'].astype('str').astype('category')\n",
    "df_train['Heart_Rate_c'] = df_train['Heart_Rate'].round(0).astype('str').astype('category')"
   ]
  },
  {
   "cell_type": "markdown",
   "id": "79f74419-ebb4-4c41-a92c-63fec8fc42e5",
   "metadata": {},
   "source": [
    "# CB7"
   ]
  },
  {
   "cell_type": "code",
   "execution_count": 84,
   "id": "77a3cb9c-9c44-4f5f-8182-8a346990be52",
   "metadata": {},
   "outputs": [
    {
     "data": {
      "text/plain": [
       "(0.05916590111123312,\n",
       " [0.059558781443810487,\n",
       "  0.059212310926459906,\n",
       "  0.059516423551886334,\n",
       "  0.05884613648923064,\n",
       "  0.058695853144778244])"
      ]
     },
     "execution_count": 84,
     "metadata": {},
     "output_type": "execute_result"
    }
   ],
   "source": [
    "hparams = {\n",
    "    'model_params': {'max_depth': 8, 'n_estimators': 1500, 'learning_rate': 0.07, 'colsample_bylevel': 0.5}, \n",
    "    'X_num': ['Age', 'Height', 'Weight', 'Duration_log', 'Heart_Rate', 'Body_Temp'], \n",
    "    'X_cat': ['Duration_c', 'Age_c', 'Heart_Rate_c', 'Sex'],\n",
    "    'validation_fraction': 'oof'\n",
    "}\n",
    "\n",
    "result_cb7 = sc.cv_result('cb7', df_train, skf, hparams, config, cb_adapter, use_gpu = 0, rerun = 0)\n",
    "np.mean(result_cb7['valid_scores']), result_cb7['valid_scores']"
   ]
  },
  {
   "cell_type": "code",
   "execution_count": 48,
   "id": "dce9608c-8e99-47c8-bd89-b707dd324a4f",
   "metadata": {},
   "outputs": [
    {
     "data": {
      "text/plain": [
       "metric  set         \n",
       "RMSE    learn           1499\n",
       "        validation_0    1499\n",
       "        validation_1    1472\n",
       "dtype: int64"
      ]
     },
     "execution_count": 48,
     "metadata": {},
     "output_type": "execute_result"
    }
   ],
   "source": [
    "result['model_result'][3]['valid_result'].idxmin()"
   ]
  },
  {
   "cell_type": "code",
   "execution_count": 55,
   "id": "33f12446-553e-4685-b6ed-7d01cddd73b1",
   "metadata": {},
   "outputs": [
    {
     "data": {
      "text/plain": [
       "20"
      ]
     },
     "execution_count": 55,
     "metadata": {},
     "output_type": "execute_result"
    }
   ],
   "source": [
    "((df_train['Weight'] / 5).round() * 5).nunique()"
   ]
  },
  {
   "cell_type": "code",
   "execution_count": 56,
   "id": "c7e3520d-aa59-495b-bb72-54d0ae58514d",
   "metadata": {},
   "outputs": [
    {
     "data": {
      "text/plain": [
       "20"
      ]
     },
     "execution_count": 56,
     "metadata": {},
     "output_type": "execute_result"
    }
   ],
   "source": [
    "((df_train['Height'] / 5).round() * 5).nunique()"
   ]
  },
  {
   "cell_type": "markdown",
   "id": "e5c1243f-e9e0-43d6-9135-74ab1fee2f2b",
   "metadata": {},
   "source": [
    "# CB8"
   ]
  },
  {
   "cell_type": "code",
   "execution_count": 6,
   "id": "d01a10b3-5fcb-4d24-93f3-fe9b3efef1b0",
   "metadata": {},
   "outputs": [],
   "source": [
    "df_train['Weight_c'] = ((df_train['Weight'] / 5).round() * 5).astype('str').astype('category')\n",
    "df_train['Height_c'] = ((df_train['Height'] / 5).round() * 5).astype('str').astype('category')\n",
    "df_train['Body_Temp_c'] = ((df_train['Body_Temp'] / 2).round(1) * 2).astype('str').astype('category')"
   ]
  },
  {
   "cell_type": "code",
   "execution_count": 7,
   "id": "6669e019-350b-4d97-8a2e-eb4c5cff8e35",
   "metadata": {},
   "outputs": [
    {
     "data": {
      "text/plain": [
       "(0.059215809366050476,\n",
       " [0.05953568165243805,\n",
       "  0.05916992512473774,\n",
       "  0.05963953317204185,\n",
       "  0.05890039282701297,\n",
       "  0.05883351405402178])"
      ]
     },
     "execution_count": 7,
     "metadata": {},
     "output_type": "execute_result"
    }
   ],
   "source": [
    "hparams = {\n",
    "    'model_params': {'max_depth': 8, 'n_estimators': 1800, 'learning_rate': 0.07, 'colsample_bylevel': 0.5}, \n",
    "    'X_num': ['Age', 'Height', 'Weight', 'Duration_log', 'Heart_Rate', 'Body_Temp'], \n",
    "    'X_cat': ['Age_c', 'Weight_c', 'Height_c', 'Sex'],\n",
    "    'validation_fraction': 'oof'\n",
    "}\n",
    "\n",
    "result_cb8 = sc.cv_result('cb8', df_train, skf, hparams, config, cb_adapter, use_gpu = 0, rerun = 0)\n",
    "np.mean(result_cb8['valid_scores']), result_cb8['valid_scores']"
   ]
  },
  {
   "cell_type": "code",
   "execution_count": 88,
   "id": "df10e283-cd91-46e6-9eb9-21ab32e76abc",
   "metadata": {},
   "outputs": [
    {
     "data": {
      "text/plain": [
       "0.05909968291552166"
      ]
     },
     "execution_count": 88,
     "metadata": {},
     "output_type": "execute_result"
    }
   ],
   "source": [
    "root_mean_squared_error(\n",
    "    df_train[target], (sc.read_prd('cb8') + sc.read_prd('cb7')) / 2\n",
    ")"
   ]
  },
  {
   "cell_type": "markdown",
   "id": "409283f8-9a75-46e6-a35a-d987f56a2a53",
   "metadata": {},
   "source": [
    "# Ensemble"
   ]
  },
  {
   "cell_type": "code",
   "execution_count": 8,
   "id": "53d40bd0-9186-4f4b-952b-952500ccf023",
   "metadata": {},
   "outputs": [],
   "source": [
    "models = ['lgb2', 'lgb1', 'xgb1', 'xgb3', 'cb1', 'cb2', 'cb3', 'cb4', 'cb5', 'nn1', 'nn2', 'cb7', 'cb8']\n",
    "X_model = [i + '_skf5' if i not in ['cb7', 'cb8'] else i for i in models]\n",
    "df_stk = sc.read_prds(X_model, index = df_train.index).assign(\n",
    "    Calories_Log = df_train[target],\n",
    "    duration_bin = pd.qcut(df_train['Duration'], q = 10, labels = np.arange(0, 10))\n",
    ")"
   ]
  },
  {
   "cell_type": "code",
   "execution_count": 9,
   "id": "607c61f4-ac18-4420-9f15-a1c88ce0a646",
   "metadata": {},
   "outputs": [
    {
     "data": {
      "application/vnd.jupyter.widget-view+json": {
       "model_id": "d287813eb1e64f06b0967486584223bc",
       "version_major": 2,
       "version_minor": 0
      },
      "text/plain": [
       "Fold:   0%|          | 0/5 [00:00<?, ?it/s]"
      ]
     },
     "metadata": {},
     "output_type": "display_data"
    },
    {
     "data": {
      "text/plain": [
       "0.058976317507087664"
      ]
     },
     "execution_count": 9,
     "metadata": {},
     "output_type": "execute_result"
    }
   ],
   "source": [
    "X_stk = [i + '_skf5' if i not in ['cb7', 'cb8'] else i for i in models]\n",
    "hparams = {\n",
    "    'X_num': X_stk\n",
    "}\n",
    "result = sgml.cv(df_stk, skf, hparams,  {**config, 'sp_y': 'duration_bin'}, lr_adapter)\n",
    "np.mean(result['valid_scores'])"
   ]
  },
  {
   "cell_type": "code",
   "execution_count": 9,
   "id": "d61f1eac-c8b0-46a7-aec0-1b426b60c729",
   "metadata": {},
   "outputs": [
    {
     "data": {
      "text/plain": [
       "[inf,\n",
       " 0.05945302738509161,\n",
       " 0.05920054755556721,\n",
       " 0.05911803675291648,\n",
       " 0.05910277345841237,\n",
       " 0.0590939597991154,\n",
       " 0.05909040268995622,\n",
       " 0.05908477292433439,\n",
       " 0.059084709912654264]"
      ]
     },
     "execution_count": 9,
     "metadata": {},
     "output_type": "execute_result"
    }
   ],
   "source": [
    "import sgfs\n",
    "X_sel, _, result = sgfs.step_fs_fast(df_stk.assign(const = 1), X_stk, target, [], set(), [np.inf], root_mean_squared_error)\n",
    "result"
   ]
  },
  {
   "cell_type": "code",
   "execution_count": 10,
   "id": "efee67af-1c48-4c78-8f3e-ec9c13dbbfd8",
   "metadata": {},
   "outputs": [
    {
     "data": {
      "application/vnd.jupyter.widget-view+json": {
       "model_id": "c81e142a54be4dcc93bb89009db3c2aa",
       "version_major": 2,
       "version_minor": 0
      },
      "text/plain": [
       "Fold:   0%|          | 0/5 [00:00<?, ?it/s]"
      ]
     },
     "metadata": {},
     "output_type": "display_data"
    },
    {
     "data": {
      "text/plain": [
       "(0.05898731902269151,\n",
       " [0.05933213662324541,\n",
       "  0.05899660190394944,\n",
       "  0.05939152257119935,\n",
       "  0.05870712765910377,\n",
       "  0.05850920635595958])"
      ]
     },
     "execution_count": 10,
     "metadata": {},
     "output_type": "execute_result"
    }
   ],
   "source": [
    "result = sgml.cv(df_stk, skf, {'X_num': X_sel}, {**config, 'sp_y': 'duration_bin'}, lr_adapter, result_proc = [sgml.lr_learning_result])\n",
    "np.mean(result['valid_scores']), result['valid_scores']"
   ]
  },
  {
   "cell_type": "code",
   "execution_count": 11,
   "id": "1f92aea8-547e-4755-9dda-47cbb566fb18",
   "metadata": {},
   "outputs": [
    {
     "data": {
      "text/plain": [
       "lgb2_skf5   -0.047926\n",
       "cb5_skf5     0.070504\n",
       "xgb3_skf5    0.247522\n",
       "cb2_skf5     0.147886\n",
       "lgb1_skf5    0.152489\n",
       "xgb1_skf5   -0.021158\n",
       "nn2_skf5     0.319530\n",
       "cb1_skf5     0.131216\n",
       "dtype: float64"
      ]
     },
     "execution_count": 11,
     "metadata": {},
     "output_type": "execute_result"
    }
   ],
   "source": [
    "pd.concat([pd.Series(i['coef']) for i in result['model_result']], axis = 1).mean(axis = 1)"
   ]
  },
  {
   "cell_type": "code",
   "execution_count": 10,
   "id": "a9b59f73-6ef9-4e66-9b16-8f02580ce638",
   "metadata": {},
   "outputs": [
    {
     "name": "stderr",
     "output_type": "stream",
     "text": [
      "I0000 00:00:1748187483.037219  259059 gpu_device.cc:2019] Created device /job:localhost/replica:0/task:0/device:GPU:0 with 5520 MB memory:  -> device: 0, name: NVIDIA GeForce RTX 4070 Laptop GPU, pci bus id: 0000:01:00.0, compute capability: 8.9\n"
     ]
    }
   ],
   "source": [
    "for i in models:\n",
    "    sc.train_cv(i, df_train, config)"
   ]
  },
  {
   "cell_type": "code",
   "execution_count": 11,
   "id": "3fe51fd0-d3a0-4721-b1ec-c420a6b223f7",
   "metadata": {},
   "outputs": [
    {
     "data": {
      "text/html": [
       "<style>#sk-container-id-1 {\n",
       "  /* Definition of color scheme common for light and dark mode */\n",
       "  --sklearn-color-text: #000;\n",
       "  --sklearn-color-text-muted: #666;\n",
       "  --sklearn-color-line: gray;\n",
       "  /* Definition of color scheme for unfitted estimators */\n",
       "  --sklearn-color-unfitted-level-0: #fff5e6;\n",
       "  --sklearn-color-unfitted-level-1: #f6e4d2;\n",
       "  --sklearn-color-unfitted-level-2: #ffe0b3;\n",
       "  --sklearn-color-unfitted-level-3: chocolate;\n",
       "  /* Definition of color scheme for fitted estimators */\n",
       "  --sklearn-color-fitted-level-0: #f0f8ff;\n",
       "  --sklearn-color-fitted-level-1: #d4ebff;\n",
       "  --sklearn-color-fitted-level-2: #b3dbfd;\n",
       "  --sklearn-color-fitted-level-3: cornflowerblue;\n",
       "\n",
       "  /* Specific color for light theme */\n",
       "  --sklearn-color-text-on-default-background: var(--sg-text-color, var(--theme-code-foreground, var(--jp-content-font-color1, black)));\n",
       "  --sklearn-color-background: var(--sg-background-color, var(--theme-background, var(--jp-layout-color0, white)));\n",
       "  --sklearn-color-border-box: var(--sg-text-color, var(--theme-code-foreground, var(--jp-content-font-color1, black)));\n",
       "  --sklearn-color-icon: #696969;\n",
       "\n",
       "  @media (prefers-color-scheme: dark) {\n",
       "    /* Redefinition of color scheme for dark theme */\n",
       "    --sklearn-color-text-on-default-background: var(--sg-text-color, var(--theme-code-foreground, var(--jp-content-font-color1, white)));\n",
       "    --sklearn-color-background: var(--sg-background-color, var(--theme-background, var(--jp-layout-color0, #111)));\n",
       "    --sklearn-color-border-box: var(--sg-text-color, var(--theme-code-foreground, var(--jp-content-font-color1, white)));\n",
       "    --sklearn-color-icon: #878787;\n",
       "  }\n",
       "}\n",
       "\n",
       "#sk-container-id-1 {\n",
       "  color: var(--sklearn-color-text);\n",
       "}\n",
       "\n",
       "#sk-container-id-1 pre {\n",
       "  padding: 0;\n",
       "}\n",
       "\n",
       "#sk-container-id-1 input.sk-hidden--visually {\n",
       "  border: 0;\n",
       "  clip: rect(1px 1px 1px 1px);\n",
       "  clip: rect(1px, 1px, 1px, 1px);\n",
       "  height: 1px;\n",
       "  margin: -1px;\n",
       "  overflow: hidden;\n",
       "  padding: 0;\n",
       "  position: absolute;\n",
       "  width: 1px;\n",
       "}\n",
       "\n",
       "#sk-container-id-1 div.sk-dashed-wrapped {\n",
       "  border: 1px dashed var(--sklearn-color-line);\n",
       "  margin: 0 0.4em 0.5em 0.4em;\n",
       "  box-sizing: border-box;\n",
       "  padding-bottom: 0.4em;\n",
       "  background-color: var(--sklearn-color-background);\n",
       "}\n",
       "\n",
       "#sk-container-id-1 div.sk-container {\n",
       "  /* jupyter's `normalize.less` sets `[hidden] { display: none; }`\n",
       "     but bootstrap.min.css set `[hidden] { display: none !important; }`\n",
       "     so we also need the `!important` here to be able to override the\n",
       "     default hidden behavior on the sphinx rendered scikit-learn.org.\n",
       "     See: https://github.com/scikit-learn/scikit-learn/issues/21755 */\n",
       "  display: inline-block !important;\n",
       "  position: relative;\n",
       "}\n",
       "\n",
       "#sk-container-id-1 div.sk-text-repr-fallback {\n",
       "  display: none;\n",
       "}\n",
       "\n",
       "div.sk-parallel-item,\n",
       "div.sk-serial,\n",
       "div.sk-item {\n",
       "  /* draw centered vertical line to link estimators */\n",
       "  background-image: linear-gradient(var(--sklearn-color-text-on-default-background), var(--sklearn-color-text-on-default-background));\n",
       "  background-size: 2px 100%;\n",
       "  background-repeat: no-repeat;\n",
       "  background-position: center center;\n",
       "}\n",
       "\n",
       "/* Parallel-specific style estimator block */\n",
       "\n",
       "#sk-container-id-1 div.sk-parallel-item::after {\n",
       "  content: \"\";\n",
       "  width: 100%;\n",
       "  border-bottom: 2px solid var(--sklearn-color-text-on-default-background);\n",
       "  flex-grow: 1;\n",
       "}\n",
       "\n",
       "#sk-container-id-1 div.sk-parallel {\n",
       "  display: flex;\n",
       "  align-items: stretch;\n",
       "  justify-content: center;\n",
       "  background-color: var(--sklearn-color-background);\n",
       "  position: relative;\n",
       "}\n",
       "\n",
       "#sk-container-id-1 div.sk-parallel-item {\n",
       "  display: flex;\n",
       "  flex-direction: column;\n",
       "}\n",
       "\n",
       "#sk-container-id-1 div.sk-parallel-item:first-child::after {\n",
       "  align-self: flex-end;\n",
       "  width: 50%;\n",
       "}\n",
       "\n",
       "#sk-container-id-1 div.sk-parallel-item:last-child::after {\n",
       "  align-self: flex-start;\n",
       "  width: 50%;\n",
       "}\n",
       "\n",
       "#sk-container-id-1 div.sk-parallel-item:only-child::after {\n",
       "  width: 0;\n",
       "}\n",
       "\n",
       "/* Serial-specific style estimator block */\n",
       "\n",
       "#sk-container-id-1 div.sk-serial {\n",
       "  display: flex;\n",
       "  flex-direction: column;\n",
       "  align-items: center;\n",
       "  background-color: var(--sklearn-color-background);\n",
       "  padding-right: 1em;\n",
       "  padding-left: 1em;\n",
       "}\n",
       "\n",
       "\n",
       "/* Toggleable style: style used for estimator/Pipeline/ColumnTransformer box that is\n",
       "clickable and can be expanded/collapsed.\n",
       "- Pipeline and ColumnTransformer use this feature and define the default style\n",
       "- Estimators will overwrite some part of the style using the `sk-estimator` class\n",
       "*/\n",
       "\n",
       "/* Pipeline and ColumnTransformer style (default) */\n",
       "\n",
       "#sk-container-id-1 div.sk-toggleable {\n",
       "  /* Default theme specific background. It is overwritten whether we have a\n",
       "  specific estimator or a Pipeline/ColumnTransformer */\n",
       "  background-color: var(--sklearn-color-background);\n",
       "}\n",
       "\n",
       "/* Toggleable label */\n",
       "#sk-container-id-1 label.sk-toggleable__label {\n",
       "  cursor: pointer;\n",
       "  display: flex;\n",
       "  width: 100%;\n",
       "  margin-bottom: 0;\n",
       "  padding: 0.5em;\n",
       "  box-sizing: border-box;\n",
       "  text-align: center;\n",
       "  align-items: start;\n",
       "  justify-content: space-between;\n",
       "  gap: 0.5em;\n",
       "}\n",
       "\n",
       "#sk-container-id-1 label.sk-toggleable__label .caption {\n",
       "  font-size: 0.6rem;\n",
       "  font-weight: lighter;\n",
       "  color: var(--sklearn-color-text-muted);\n",
       "}\n",
       "\n",
       "#sk-container-id-1 label.sk-toggleable__label-arrow:before {\n",
       "  /* Arrow on the left of the label */\n",
       "  content: \"▸\";\n",
       "  float: left;\n",
       "  margin-right: 0.25em;\n",
       "  color: var(--sklearn-color-icon);\n",
       "}\n",
       "\n",
       "#sk-container-id-1 label.sk-toggleable__label-arrow:hover:before {\n",
       "  color: var(--sklearn-color-text);\n",
       "}\n",
       "\n",
       "/* Toggleable content - dropdown */\n",
       "\n",
       "#sk-container-id-1 div.sk-toggleable__content {\n",
       "  max-height: 0;\n",
       "  max-width: 0;\n",
       "  overflow: hidden;\n",
       "  text-align: left;\n",
       "  /* unfitted */\n",
       "  background-color: var(--sklearn-color-unfitted-level-0);\n",
       "}\n",
       "\n",
       "#sk-container-id-1 div.sk-toggleable__content.fitted {\n",
       "  /* fitted */\n",
       "  background-color: var(--sklearn-color-fitted-level-0);\n",
       "}\n",
       "\n",
       "#sk-container-id-1 div.sk-toggleable__content pre {\n",
       "  margin: 0.2em;\n",
       "  border-radius: 0.25em;\n",
       "  color: var(--sklearn-color-text);\n",
       "  /* unfitted */\n",
       "  background-color: var(--sklearn-color-unfitted-level-0);\n",
       "}\n",
       "\n",
       "#sk-container-id-1 div.sk-toggleable__content.fitted pre {\n",
       "  /* unfitted */\n",
       "  background-color: var(--sklearn-color-fitted-level-0);\n",
       "}\n",
       "\n",
       "#sk-container-id-1 input.sk-toggleable__control:checked~div.sk-toggleable__content {\n",
       "  /* Expand drop-down */\n",
       "  max-height: 200px;\n",
       "  max-width: 100%;\n",
       "  overflow: auto;\n",
       "}\n",
       "\n",
       "#sk-container-id-1 input.sk-toggleable__control:checked~label.sk-toggleable__label-arrow:before {\n",
       "  content: \"▾\";\n",
       "}\n",
       "\n",
       "/* Pipeline/ColumnTransformer-specific style */\n",
       "\n",
       "#sk-container-id-1 div.sk-label input.sk-toggleable__control:checked~label.sk-toggleable__label {\n",
       "  color: var(--sklearn-color-text);\n",
       "  background-color: var(--sklearn-color-unfitted-level-2);\n",
       "}\n",
       "\n",
       "#sk-container-id-1 div.sk-label.fitted input.sk-toggleable__control:checked~label.sk-toggleable__label {\n",
       "  background-color: var(--sklearn-color-fitted-level-2);\n",
       "}\n",
       "\n",
       "/* Estimator-specific style */\n",
       "\n",
       "/* Colorize estimator box */\n",
       "#sk-container-id-1 div.sk-estimator input.sk-toggleable__control:checked~label.sk-toggleable__label {\n",
       "  /* unfitted */\n",
       "  background-color: var(--sklearn-color-unfitted-level-2);\n",
       "}\n",
       "\n",
       "#sk-container-id-1 div.sk-estimator.fitted input.sk-toggleable__control:checked~label.sk-toggleable__label {\n",
       "  /* fitted */\n",
       "  background-color: var(--sklearn-color-fitted-level-2);\n",
       "}\n",
       "\n",
       "#sk-container-id-1 div.sk-label label.sk-toggleable__label,\n",
       "#sk-container-id-1 div.sk-label label {\n",
       "  /* The background is the default theme color */\n",
       "  color: var(--sklearn-color-text-on-default-background);\n",
       "}\n",
       "\n",
       "/* On hover, darken the color of the background */\n",
       "#sk-container-id-1 div.sk-label:hover label.sk-toggleable__label {\n",
       "  color: var(--sklearn-color-text);\n",
       "  background-color: var(--sklearn-color-unfitted-level-2);\n",
       "}\n",
       "\n",
       "/* Label box, darken color on hover, fitted */\n",
       "#sk-container-id-1 div.sk-label.fitted:hover label.sk-toggleable__label.fitted {\n",
       "  color: var(--sklearn-color-text);\n",
       "  background-color: var(--sklearn-color-fitted-level-2);\n",
       "}\n",
       "\n",
       "/* Estimator label */\n",
       "\n",
       "#sk-container-id-1 div.sk-label label {\n",
       "  font-family: monospace;\n",
       "  font-weight: bold;\n",
       "  display: inline-block;\n",
       "  line-height: 1.2em;\n",
       "}\n",
       "\n",
       "#sk-container-id-1 div.sk-label-container {\n",
       "  text-align: center;\n",
       "}\n",
       "\n",
       "/* Estimator-specific */\n",
       "#sk-container-id-1 div.sk-estimator {\n",
       "  font-family: monospace;\n",
       "  border: 1px dotted var(--sklearn-color-border-box);\n",
       "  border-radius: 0.25em;\n",
       "  box-sizing: border-box;\n",
       "  margin-bottom: 0.5em;\n",
       "  /* unfitted */\n",
       "  background-color: var(--sklearn-color-unfitted-level-0);\n",
       "}\n",
       "\n",
       "#sk-container-id-1 div.sk-estimator.fitted {\n",
       "  /* fitted */\n",
       "  background-color: var(--sklearn-color-fitted-level-0);\n",
       "}\n",
       "\n",
       "/* on hover */\n",
       "#sk-container-id-1 div.sk-estimator:hover {\n",
       "  /* unfitted */\n",
       "  background-color: var(--sklearn-color-unfitted-level-2);\n",
       "}\n",
       "\n",
       "#sk-container-id-1 div.sk-estimator.fitted:hover {\n",
       "  /* fitted */\n",
       "  background-color: var(--sklearn-color-fitted-level-2);\n",
       "}\n",
       "\n",
       "/* Specification for estimator info (e.g. \"i\" and \"?\") */\n",
       "\n",
       "/* Common style for \"i\" and \"?\" */\n",
       "\n",
       ".sk-estimator-doc-link,\n",
       "a:link.sk-estimator-doc-link,\n",
       "a:visited.sk-estimator-doc-link {\n",
       "  float: right;\n",
       "  font-size: smaller;\n",
       "  line-height: 1em;\n",
       "  font-family: monospace;\n",
       "  background-color: var(--sklearn-color-background);\n",
       "  border-radius: 1em;\n",
       "  height: 1em;\n",
       "  width: 1em;\n",
       "  text-decoration: none !important;\n",
       "  margin-left: 0.5em;\n",
       "  text-align: center;\n",
       "  /* unfitted */\n",
       "  border: var(--sklearn-color-unfitted-level-1) 1pt solid;\n",
       "  color: var(--sklearn-color-unfitted-level-1);\n",
       "}\n",
       "\n",
       ".sk-estimator-doc-link.fitted,\n",
       "a:link.sk-estimator-doc-link.fitted,\n",
       "a:visited.sk-estimator-doc-link.fitted {\n",
       "  /* fitted */\n",
       "  border: var(--sklearn-color-fitted-level-1) 1pt solid;\n",
       "  color: var(--sklearn-color-fitted-level-1);\n",
       "}\n",
       "\n",
       "/* On hover */\n",
       "div.sk-estimator:hover .sk-estimator-doc-link:hover,\n",
       ".sk-estimator-doc-link:hover,\n",
       "div.sk-label-container:hover .sk-estimator-doc-link:hover,\n",
       ".sk-estimator-doc-link:hover {\n",
       "  /* unfitted */\n",
       "  background-color: var(--sklearn-color-unfitted-level-3);\n",
       "  color: var(--sklearn-color-background);\n",
       "  text-decoration: none;\n",
       "}\n",
       "\n",
       "div.sk-estimator.fitted:hover .sk-estimator-doc-link.fitted:hover,\n",
       ".sk-estimator-doc-link.fitted:hover,\n",
       "div.sk-label-container:hover .sk-estimator-doc-link.fitted:hover,\n",
       ".sk-estimator-doc-link.fitted:hover {\n",
       "  /* fitted */\n",
       "  background-color: var(--sklearn-color-fitted-level-3);\n",
       "  color: var(--sklearn-color-background);\n",
       "  text-decoration: none;\n",
       "}\n",
       "\n",
       "/* Span, style for the box shown on hovering the info icon */\n",
       ".sk-estimator-doc-link span {\n",
       "  display: none;\n",
       "  z-index: 9999;\n",
       "  position: relative;\n",
       "  font-weight: normal;\n",
       "  right: .2ex;\n",
       "  padding: .5ex;\n",
       "  margin: .5ex;\n",
       "  width: min-content;\n",
       "  min-width: 20ex;\n",
       "  max-width: 50ex;\n",
       "  color: var(--sklearn-color-text);\n",
       "  box-shadow: 2pt 2pt 4pt #999;\n",
       "  /* unfitted */\n",
       "  background: var(--sklearn-color-unfitted-level-0);\n",
       "  border: .5pt solid var(--sklearn-color-unfitted-level-3);\n",
       "}\n",
       "\n",
       ".sk-estimator-doc-link.fitted span {\n",
       "  /* fitted */\n",
       "  background: var(--sklearn-color-fitted-level-0);\n",
       "  border: var(--sklearn-color-fitted-level-3);\n",
       "}\n",
       "\n",
       ".sk-estimator-doc-link:hover span {\n",
       "  display: block;\n",
       "}\n",
       "\n",
       "/* \"?\"-specific style due to the `<a>` HTML tag */\n",
       "\n",
       "#sk-container-id-1 a.estimator_doc_link {\n",
       "  float: right;\n",
       "  font-size: 1rem;\n",
       "  line-height: 1em;\n",
       "  font-family: monospace;\n",
       "  background-color: var(--sklearn-color-background);\n",
       "  border-radius: 1rem;\n",
       "  height: 1rem;\n",
       "  width: 1rem;\n",
       "  text-decoration: none;\n",
       "  /* unfitted */\n",
       "  color: var(--sklearn-color-unfitted-level-1);\n",
       "  border: var(--sklearn-color-unfitted-level-1) 1pt solid;\n",
       "}\n",
       "\n",
       "#sk-container-id-1 a.estimator_doc_link.fitted {\n",
       "  /* fitted */\n",
       "  border: var(--sklearn-color-fitted-level-1) 1pt solid;\n",
       "  color: var(--sklearn-color-fitted-level-1);\n",
       "}\n",
       "\n",
       "/* On hover */\n",
       "#sk-container-id-1 a.estimator_doc_link:hover {\n",
       "  /* unfitted */\n",
       "  background-color: var(--sklearn-color-unfitted-level-3);\n",
       "  color: var(--sklearn-color-background);\n",
       "  text-decoration: none;\n",
       "}\n",
       "\n",
       "#sk-container-id-1 a.estimator_doc_link.fitted:hover {\n",
       "  /* fitted */\n",
       "  background-color: var(--sklearn-color-fitted-level-3);\n",
       "}\n",
       "</style><div id=\"sk-container-id-1\" class=\"sk-top-container\"><div class=\"sk-text-repr-fallback\"><pre>LinearRegression()</pre><b>In a Jupyter environment, please rerun this cell to show the HTML representation or trust the notebook. <br />On GitHub, the HTML representation is unable to render, please try loading this page with nbviewer.org.</b></div><div class=\"sk-container\" hidden><div class=\"sk-item\"><div class=\"sk-estimator fitted sk-toggleable\"><input class=\"sk-toggleable__control sk-hidden--visually\" id=\"sk-estimator-id-1\" type=\"checkbox\" checked><label for=\"sk-estimator-id-1\" class=\"sk-toggleable__label fitted sk-toggleable__label-arrow\"><div><div>LinearRegression</div></div><div><a class=\"sk-estimator-doc-link fitted\" rel=\"noreferrer\" target=\"_blank\" href=\"https://scikit-learn.org/1.6/modules/generated/sklearn.linear_model.LinearRegression.html\">?<span>Documentation for LinearRegression</span></a><span class=\"sk-estimator-doc-link fitted\">i<span>Fitted</span></span></div></label><div class=\"sk-toggleable__content fitted\"><pre>LinearRegression()</pre></div> </div></div></div></div>"
      ],
      "text/plain": [
       "LinearRegression()"
      ]
     },
     "execution_count": 11,
     "metadata": {},
     "output_type": "execute_result"
    }
   ],
   "source": [
    "from sklearn.linear_model import LinearRegression\n",
    "reg_meta_lr = LinearRegression()\n",
    "reg_meta_lr.fit(df_stk[X_stk], df_train[target])"
   ]
  },
  {
   "cell_type": "code",
   "execution_count": 15,
   "id": "4737c018-4a29-4793-9134-bd791438cdcf",
   "metadata": {},
   "outputs": [],
   "source": [
    "df_test['Age_c'] = (df_test['Age'] // 10).astype('str').astype('category')\n",
    "df_test['Duration_c'] = df_test['Duration'].astype('str').astype('category')\n",
    "df_test['Heart_Rate_c'] = df_test['Heart_Rate'].round(0).astype('str').astype('category')\n",
    "df_test['Weight_c'] = ((df_test['Weight'] / 5).round() * 5).astype('str').astype('category')\n",
    "df_test['Height_c'] = ((df_test['Height'] / 5).round() * 5).astype('str').astype('category')\n",
    "df_test['Body_Temp_c'] = ((df_test['Body_Temp'] / 2).round(1) * 2).astype('str').astype('category')"
   ]
  },
  {
   "cell_type": "code",
   "execution_count": 16,
   "id": "a77c5c68-5c2e-4a5e-a393-1f62d9827702",
   "metadata": {},
   "outputs": [
    {
     "data": {
      "text/html": [
       "<div>\n",
       "<style scoped>\n",
       "    .dataframe tbody tr th:only-of-type {\n",
       "        vertical-align: middle;\n",
       "    }\n",
       "\n",
       "    .dataframe tbody tr th {\n",
       "        vertical-align: top;\n",
       "    }\n",
       "\n",
       "    .dataframe thead th {\n",
       "        text-align: right;\n",
       "    }\n",
       "</style>\n",
       "<table border=\"1\" class=\"dataframe\">\n",
       "  <thead>\n",
       "    <tr style=\"text-align: right;\">\n",
       "      <th></th>\n",
       "      <th>lgb2_skf5</th>\n",
       "      <th>lgb1_skf5</th>\n",
       "      <th>xgb1_skf5</th>\n",
       "      <th>xgb3_skf5</th>\n",
       "      <th>cb1_skf5</th>\n",
       "      <th>cb2_skf5</th>\n",
       "      <th>cb3_skf5</th>\n",
       "      <th>cb4_skf5</th>\n",
       "      <th>cb5_skf5</th>\n",
       "      <th>nn1_skf5</th>\n",
       "      <th>nn2_skf5</th>\n",
       "      <th>cb7</th>\n",
       "      <th>cb8</th>\n",
       "    </tr>\n",
       "    <tr>\n",
       "      <th>id</th>\n",
       "      <th></th>\n",
       "      <th></th>\n",
       "      <th></th>\n",
       "      <th></th>\n",
       "      <th></th>\n",
       "      <th></th>\n",
       "      <th></th>\n",
       "      <th></th>\n",
       "      <th></th>\n",
       "      <th></th>\n",
       "      <th></th>\n",
       "      <th></th>\n",
       "      <th></th>\n",
       "    </tr>\n",
       "  </thead>\n",
       "  <tbody>\n",
       "    <tr>\n",
       "      <th>750000</th>\n",
       "      <td>3.342220</td>\n",
       "      <td>3.343804</td>\n",
       "      <td>3.336766</td>\n",
       "      <td>3.334744</td>\n",
       "      <td>3.339252</td>\n",
       "      <td>3.345108</td>\n",
       "      <td>3.339329</td>\n",
       "      <td>3.339992</td>\n",
       "      <td>3.335049</td>\n",
       "      <td>3.348824</td>\n",
       "      <td>3.343099</td>\n",
       "      <td>3.343146</td>\n",
       "      <td>3.339361</td>\n",
       "    </tr>\n",
       "    <tr>\n",
       "      <th>750001</th>\n",
       "      <td>4.694324</td>\n",
       "      <td>4.696249</td>\n",
       "      <td>4.704313</td>\n",
       "      <td>4.698164</td>\n",
       "      <td>4.691551</td>\n",
       "      <td>4.690045</td>\n",
       "      <td>4.690970</td>\n",
       "      <td>4.688648</td>\n",
       "      <td>4.685364</td>\n",
       "      <td>4.690432</td>\n",
       "      <td>4.693828</td>\n",
       "      <td>4.692813</td>\n",
       "      <td>4.689370</td>\n",
       "    </tr>\n",
       "    <tr>\n",
       "      <th>750002</th>\n",
       "      <td>4.471508</td>\n",
       "      <td>4.471234</td>\n",
       "      <td>4.473776</td>\n",
       "      <td>4.470401</td>\n",
       "      <td>4.471377</td>\n",
       "      <td>4.470860</td>\n",
       "      <td>4.481466</td>\n",
       "      <td>4.474276</td>\n",
       "      <td>4.484206</td>\n",
       "      <td>4.480945</td>\n",
       "      <td>4.477394</td>\n",
       "      <td>4.481249</td>\n",
       "      <td>4.479620</td>\n",
       "    </tr>\n",
       "    <tr>\n",
       "      <th>750003</th>\n",
       "      <td>4.837693</td>\n",
       "      <td>4.838142</td>\n",
       "      <td>4.835355</td>\n",
       "      <td>4.844798</td>\n",
       "      <td>4.840599</td>\n",
       "      <td>4.844425</td>\n",
       "      <td>4.841232</td>\n",
       "      <td>4.840612</td>\n",
       "      <td>4.838311</td>\n",
       "      <td>4.840408</td>\n",
       "      <td>4.839946</td>\n",
       "      <td>4.838162</td>\n",
       "      <td>4.843956</td>\n",
       "    </tr>\n",
       "    <tr>\n",
       "      <th>750004</th>\n",
       "      <td>4.335305</td>\n",
       "      <td>4.346876</td>\n",
       "      <td>4.339695</td>\n",
       "      <td>4.341092</td>\n",
       "      <td>4.345177</td>\n",
       "      <td>4.347627</td>\n",
       "      <td>4.345495</td>\n",
       "      <td>4.343181</td>\n",
       "      <td>4.333550</td>\n",
       "      <td>4.346485</td>\n",
       "      <td>4.347324</td>\n",
       "      <td>4.346172</td>\n",
       "      <td>4.349480</td>\n",
       "    </tr>\n",
       "  </tbody>\n",
       "</table>\n",
       "</div>"
      ],
      "text/plain": [
       "        lgb2_skf5  lgb1_skf5  xgb1_skf5  xgb3_skf5  cb1_skf5  cb2_skf5  \\\n",
       "id                                                                       \n",
       "750000   3.342220   3.343804   3.336766   3.334744  3.339252  3.345108   \n",
       "750001   4.694324   4.696249   4.704313   4.698164  4.691551  4.690045   \n",
       "750002   4.471508   4.471234   4.473776   4.470401  4.471377  4.470860   \n",
       "750003   4.837693   4.838142   4.835355   4.844798  4.840599  4.844425   \n",
       "750004   4.335305   4.346876   4.339695   4.341092  4.345177  4.347627   \n",
       "\n",
       "        cb3_skf5  cb4_skf5  cb5_skf5  nn1_skf5  nn2_skf5       cb7       cb8  \n",
       "id                                                                            \n",
       "750000  3.339329  3.339992  3.335049  3.348824  3.343099  3.343146  3.339361  \n",
       "750001  4.690970  4.688648  4.685364  4.690432  4.693828  4.692813  4.689370  \n",
       "750002  4.481466  4.474276  4.484206  4.480945  4.477394  4.481249  4.479620  \n",
       "750003  4.841232  4.840612  4.838311  4.840408  4.839946  4.838162  4.843956  \n",
       "750004  4.345495  4.343181  4.333550  4.346485  4.347324  4.346172  4.349480  "
      ]
     },
     "execution_count": 16,
     "metadata": {},
     "output_type": "execute_result"
    }
   ],
   "source": [
    "df_stk_test = pd.concat([\n",
    "    sc.get_predictor_cv(i, config)(df_test).rename(i) for i in X_stk\n",
    "], axis = 1)\n",
    "df_stk_test.head()"
   ]
  },
  {
   "cell_type": "code",
   "execution_count": 17,
   "id": "592d5661-b6a5-4940-a193-8033c6c44609",
   "metadata": {},
   "outputs": [],
   "source": [
    "pd.Series(\n",
    "    reg_meta_lr.predict(df_stk_test), index = df_stk_test.index, name = 'Calories'\n",
    ").pipe(lambda x: (np.exp(x) - 1).clip(lower = 1)).to_csv('result/submission11.csv')"
   ]
  },
  {
   "cell_type": "code",
   "execution_count": 18,
   "id": "38f6f856-9bbe-4a03-ae88-12381659f692",
   "metadata": {},
   "outputs": [
    {
     "name": "stdout",
     "output_type": "stream",
     "text": [
      "id,Calories\n",
      "750000,27.242263879150215\n",
      "750001,108.23459316095095\n",
      "750002,86.93627135613389\n",
      "750003,125.63910649507822\n",
      "750004,76.20354531438957\n",
      "750005,21.74633320373594\n",
      "750006,48.724038268298976\n",
      "750007,6.774920100593104\n",
      "750008,10.01742114034435\n"
     ]
    }
   ],
   "source": [
    "!head result/submission11.csv"
   ]
  },
  {
   "cell_type": "code",
   "execution_count": 19,
   "id": "53001db2-ed35-42c1-8792-f3e008a00cdc",
   "metadata": {},
   "outputs": [
    {
     "name": "stdout",
     "output_type": "stream",
     "text": [
      "100%|██████████████████████████████████████| 6.06M/6.06M [00:02<00:00, 2.39MB/s]\n",
      "Successfully submitted to Predict Calorie Expenditure"
     ]
    }
   ],
   "source": [
    "# !kaggle competitions submit -c playground-series-s5e5 -f result/submission11.csv -m \"Ensemble11\""
   ]
  },
  {
   "cell_type": "code",
   "execution_count": null,
   "id": "9d5af6e7-5017-42e0-a0b4-3c1eaddc0e00",
   "metadata": {},
   "outputs": [],
   "source": []
  }
 ],
 "metadata": {
  "kernelspec": {
   "display_name": "Python 3 (ipykernel)",
   "language": "python",
   "name": "python3"
  },
  "language_info": {
   "codemirror_mode": {
    "name": "ipython",
    "version": 3
   },
   "file_extension": ".py",
   "mimetype": "text/x-python",
   "name": "python",
   "nbconvert_exporter": "python",
   "pygments_lexer": "ipython3",
   "version": "3.12.9"
  }
 },
 "nbformat": 4,
 "nbformat_minor": 5
}
