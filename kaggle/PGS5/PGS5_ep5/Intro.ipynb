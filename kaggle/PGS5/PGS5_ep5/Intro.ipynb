{
 "cells": [
  {
   "cell_type": "code",
   "execution_count": 48,
   "id": "47a9b07d-3f0a-4cfc-b12a-714264546149",
   "metadata": {},
   "outputs": [],
   "source": [
    "import os\n",
    "import warnings\n",
    "warnings.simplefilter('ignore', FutureWarning)"
   ]
  },
  {
   "cell_type": "markdown",
   "id": "6e3c2afe-1ab8-46c8-8fb8-0517123ab8df",
   "metadata": {},
   "source": [
    "# Data Download"
   ]
  },
  {
   "cell_type": "code",
   "execution_count": 2,
   "id": "3ee49ab0-9e66-4624-b838-7c84d8c189f6",
   "metadata": {},
   "outputs": [],
   "source": [
    "# 결과물을 저장할 폴더를 만듭니다.\n",
    "path = ['data', 'model', 'result', 'img']\n",
    "for i in path:\n",
    "    if not os.path.exists(i):\n",
    "        os.mkdir(i)"
   ]
  },
  {
   "cell_type": "code",
   "execution_count": 12,
   "id": "0ee87a23-23d0-42ae-b334-5987dc063cd5",
   "metadata": {},
   "outputs": [],
   "source": [
    "if not os.path.exists('data/train.csv'):\n",
    "    !kaggle competitions download -c playground-series-s5e5\n",
    "    !unzip playground-series-s5e5.zip -d data\n",
    "    !rm playground-series-s5e5.zip\n",
    "    !kaggle datasets download ruchikakumbhar/calories-burnt-prediction\n",
    "    !unzip calories-burnt-prediction.zip -d data\n",
    "    !rm calories-burnt-prediction.zip"
   ]
  },
  {
   "cell_type": "code",
   "execution_count": 13,
   "id": "e07731ce-29fd-46cb-9bb0-47e5d5960898",
   "metadata": {},
   "outputs": [],
   "source": [
    "import sgml, sgpp, dproc, sgutil\n",
    "\n",
    "import polars as pl\n",
    "import pandas as pd\n",
    "import numpy as np\n",
    "import matplotlib as mpl\n",
    "import matplotlib.pyplot as plt\n",
    "import seaborn as sns\n",
    "import lightgbm as lgb\n",
    "\n",
    "sc = sgutil.SGCache('img', 'result', 'model')"
   ]
  },
  {
   "cell_type": "code",
   "execution_count": 14,
   "id": "55cf9360-cf1e-4234-871a-8f89c0a48dc7",
   "metadata": {},
   "outputs": [],
   "source": [
    "from sklearn.pipeline import make_pipeline\n",
    "from sklearn.model_selection import cross_validate, StratifiedShuffleSplit, ShuffleSplit\n",
    "\n",
    "from scipy.stats import kruskal"
   ]
  },
  {
   "cell_type": "markdown",
   "id": "31edee92-c7c4-4f02-9394-996c4a638cec",
   "metadata": {},
   "source": [
    "# Data processing\n",
    "\n",
    "**Task**\n",
    "\n",
    "- Train / Test / Org 데이터를 불러오는 루틴 디자인합니다.\n",
    "- Calories를 Log 변환하고 이 변수를 Calories_Log로 합니다."
   ]
  },
  {
   "cell_type": "code",
   "execution_count": 15,
   "id": "ede76679-07e8-42ed-9dd9-7b40c7ee9036",
   "metadata": {},
   "outputs": [
    {
     "data": {
      "text/html": [
       "<div>\n",
       "<style scoped>\n",
       "    .dataframe tbody tr th:only-of-type {\n",
       "        vertical-align: middle;\n",
       "    }\n",
       "\n",
       "    .dataframe tbody tr th {\n",
       "        vertical-align: top;\n",
       "    }\n",
       "\n",
       "    .dataframe thead th {\n",
       "        text-align: right;\n",
       "    }\n",
       "</style>\n",
       "<table border=\"1\" class=\"dataframe\">\n",
       "  <thead>\n",
       "    <tr style=\"text-align: right;\">\n",
       "      <th></th>\n",
       "      <th>Sex</th>\n",
       "      <th>Age</th>\n",
       "      <th>Height</th>\n",
       "      <th>Weight</th>\n",
       "      <th>Duration</th>\n",
       "      <th>Heart_Rate</th>\n",
       "      <th>Body_Temp</th>\n",
       "      <th>Calories</th>\n",
       "      <th>Calories_Log</th>\n",
       "    </tr>\n",
       "    <tr>\n",
       "      <th>id</th>\n",
       "      <th></th>\n",
       "      <th></th>\n",
       "      <th></th>\n",
       "      <th></th>\n",
       "      <th></th>\n",
       "      <th></th>\n",
       "      <th></th>\n",
       "      <th></th>\n",
       "      <th></th>\n",
       "    </tr>\n",
       "  </thead>\n",
       "  <tbody>\n",
       "    <tr>\n",
       "      <th>0</th>\n",
       "      <td>male</td>\n",
       "      <td>36</td>\n",
       "      <td>189.0</td>\n",
       "      <td>82.0</td>\n",
       "      <td>26.0</td>\n",
       "      <td>101.0</td>\n",
       "      <td>41.000000</td>\n",
       "      <td>150.0</td>\n",
       "      <td>5.017280</td>\n",
       "    </tr>\n",
       "    <tr>\n",
       "      <th>1</th>\n",
       "      <td>female</td>\n",
       "      <td>64</td>\n",
       "      <td>163.0</td>\n",
       "      <td>60.0</td>\n",
       "      <td>8.0</td>\n",
       "      <td>85.0</td>\n",
       "      <td>39.700001</td>\n",
       "      <td>34.0</td>\n",
       "      <td>3.555348</td>\n",
       "    </tr>\n",
       "    <tr>\n",
       "      <th>2</th>\n",
       "      <td>female</td>\n",
       "      <td>51</td>\n",
       "      <td>161.0</td>\n",
       "      <td>64.0</td>\n",
       "      <td>7.0</td>\n",
       "      <td>84.0</td>\n",
       "      <td>39.799999</td>\n",
       "      <td>29.0</td>\n",
       "      <td>3.401197</td>\n",
       "    </tr>\n",
       "    <tr>\n",
       "      <th>3</th>\n",
       "      <td>male</td>\n",
       "      <td>20</td>\n",
       "      <td>192.0</td>\n",
       "      <td>90.0</td>\n",
       "      <td>25.0</td>\n",
       "      <td>105.0</td>\n",
       "      <td>40.700001</td>\n",
       "      <td>140.0</td>\n",
       "      <td>4.948760</td>\n",
       "    </tr>\n",
       "    <tr>\n",
       "      <th>4</th>\n",
       "      <td>female</td>\n",
       "      <td>38</td>\n",
       "      <td>166.0</td>\n",
       "      <td>61.0</td>\n",
       "      <td>25.0</td>\n",
       "      <td>102.0</td>\n",
       "      <td>40.599998</td>\n",
       "      <td>146.0</td>\n",
       "      <td>4.990433</td>\n",
       "    </tr>\n",
       "  </tbody>\n",
       "</table>\n",
       "</div>"
      ],
      "text/plain": [
       "       Sex  Age  Height  Weight  Duration  Heart_Rate  Body_Temp  Calories  \\\n",
       "id                                                                           \n",
       "0     male   36   189.0    82.0      26.0       101.0  41.000000     150.0   \n",
       "1   female   64   163.0    60.0       8.0        85.0  39.700001      34.0   \n",
       "2   female   51   161.0    64.0       7.0        84.0  39.799999      29.0   \n",
       "3     male   20   192.0    90.0      25.0       105.0  40.700001     140.0   \n",
       "4   female   38   166.0    61.0      25.0       102.0  40.599998     146.0   \n",
       "\n",
       "    Calories_Log  \n",
       "id                \n",
       "0       5.017280  \n",
       "1       3.555348  \n",
       "2       3.401197  \n",
       "3       4.948760  \n",
       "4       4.990433  "
      ]
     },
     "execution_count": 15,
     "metadata": {},
     "output_type": "execute_result"
    }
   ],
   "source": [
    "p = make_pipeline(\n",
    "    sgpp.PolarsProcessor(),\n",
    "    sgpp.PandasConverter(index_col = 'id')\n",
    ")\n",
    "df_train = p.fit_transform(['data/train.csv']).assign(\n",
    "    Calories_Log = lambda x: np.log(x['Calories'] + 1)\n",
    ")\n",
    "df_train.head()"
   ]
  },
  {
   "cell_type": "markdown",
   "id": "6500ea0c-6c9c-41bf-9a0b-63dfde9cb220",
   "metadata": {},
   "source": [
    "- 테스트 데이터를 불러 옵니다."
   ]
  },
  {
   "cell_type": "code",
   "execution_count": 16,
   "id": "f42e86e8-11fe-4a39-8d26-dd2777eb7412",
   "metadata": {},
   "outputs": [
    {
     "data": {
      "text/html": [
       "<div>\n",
       "<style scoped>\n",
       "    .dataframe tbody tr th:only-of-type {\n",
       "        vertical-align: middle;\n",
       "    }\n",
       "\n",
       "    .dataframe tbody tr th {\n",
       "        vertical-align: top;\n",
       "    }\n",
       "\n",
       "    .dataframe thead th {\n",
       "        text-align: right;\n",
       "    }\n",
       "</style>\n",
       "<table border=\"1\" class=\"dataframe\">\n",
       "  <thead>\n",
       "    <tr style=\"text-align: right;\">\n",
       "      <th></th>\n",
       "      <th>Sex</th>\n",
       "      <th>Age</th>\n",
       "      <th>Height</th>\n",
       "      <th>Weight</th>\n",
       "      <th>Duration</th>\n",
       "      <th>Heart_Rate</th>\n",
       "      <th>Body_Temp</th>\n",
       "    </tr>\n",
       "    <tr>\n",
       "      <th>id</th>\n",
       "      <th></th>\n",
       "      <th></th>\n",
       "      <th></th>\n",
       "      <th></th>\n",
       "      <th></th>\n",
       "      <th></th>\n",
       "      <th></th>\n",
       "    </tr>\n",
       "  </thead>\n",
       "  <tbody>\n",
       "    <tr>\n",
       "      <th>750000</th>\n",
       "      <td>male</td>\n",
       "      <td>45</td>\n",
       "      <td>177.0</td>\n",
       "      <td>81.0</td>\n",
       "      <td>7.0</td>\n",
       "      <td>87.0</td>\n",
       "      <td>39.799999</td>\n",
       "    </tr>\n",
       "    <tr>\n",
       "      <th>750001</th>\n",
       "      <td>male</td>\n",
       "      <td>26</td>\n",
       "      <td>200.0</td>\n",
       "      <td>97.0</td>\n",
       "      <td>20.0</td>\n",
       "      <td>101.0</td>\n",
       "      <td>40.500000</td>\n",
       "    </tr>\n",
       "    <tr>\n",
       "      <th>750002</th>\n",
       "      <td>female</td>\n",
       "      <td>29</td>\n",
       "      <td>188.0</td>\n",
       "      <td>85.0</td>\n",
       "      <td>16.0</td>\n",
       "      <td>102.0</td>\n",
       "      <td>40.400002</td>\n",
       "    </tr>\n",
       "    <tr>\n",
       "      <th>750003</th>\n",
       "      <td>female</td>\n",
       "      <td>39</td>\n",
       "      <td>172.0</td>\n",
       "      <td>73.0</td>\n",
       "      <td>20.0</td>\n",
       "      <td>107.0</td>\n",
       "      <td>40.599998</td>\n",
       "    </tr>\n",
       "    <tr>\n",
       "      <th>750004</th>\n",
       "      <td>female</td>\n",
       "      <td>30</td>\n",
       "      <td>173.0</td>\n",
       "      <td>67.0</td>\n",
       "      <td>16.0</td>\n",
       "      <td>94.0</td>\n",
       "      <td>40.500000</td>\n",
       "    </tr>\n",
       "  </tbody>\n",
       "</table>\n",
       "</div>"
      ],
      "text/plain": [
       "           Sex  Age  Height  Weight  Duration  Heart_Rate  Body_Temp\n",
       "id                                                                  \n",
       "750000    male   45   177.0    81.0       7.0        87.0  39.799999\n",
       "750001    male   26   200.0    97.0      20.0       101.0  40.500000\n",
       "750002  female   29   188.0    85.0      16.0       102.0  40.400002\n",
       "750003  female   39   172.0    73.0      20.0       107.0  40.599998\n",
       "750004  female   30   173.0    67.0      16.0        94.0  40.500000"
      ]
     },
     "execution_count": 16,
     "metadata": {},
     "output_type": "execute_result"
    }
   ],
   "source": [
    "df_test = p.transform(['data/test.csv'])\n",
    "df_test.head()"
   ]
  },
  {
   "cell_type": "markdown",
   "id": "ee46eaf8-3d84-490b-9f38-f92e13e3ce26",
   "metadata": {},
   "source": [
    "- 원본 데이터를 불러 옵니다."
   ]
  },
  {
   "cell_type": "code",
   "execution_count": 17,
   "id": "1ac092ae-f8ca-492e-865f-f461484853f9",
   "metadata": {},
   "outputs": [
    {
     "data": {
      "text/html": [
       "<div>\n",
       "<style scoped>\n",
       "    .dataframe tbody tr th:only-of-type {\n",
       "        vertical-align: middle;\n",
       "    }\n",
       "\n",
       "    .dataframe tbody tr th {\n",
       "        vertical-align: top;\n",
       "    }\n",
       "\n",
       "    .dataframe thead th {\n",
       "        text-align: right;\n",
       "    }\n",
       "</style>\n",
       "<table border=\"1\" class=\"dataframe\">\n",
       "  <thead>\n",
       "    <tr style=\"text-align: right;\">\n",
       "      <th></th>\n",
       "      <th>Gender</th>\n",
       "      <th>Age</th>\n",
       "      <th>Height</th>\n",
       "      <th>Weight</th>\n",
       "      <th>Duration</th>\n",
       "      <th>Heart_Rate</th>\n",
       "      <th>Body_Temp</th>\n",
       "      <th>Calories</th>\n",
       "    </tr>\n",
       "  </thead>\n",
       "  <tbody>\n",
       "    <tr>\n",
       "      <th>-1</th>\n",
       "      <td>male</td>\n",
       "      <td>68</td>\n",
       "      <td>190.0</td>\n",
       "      <td>94.0</td>\n",
       "      <td>29.0</td>\n",
       "      <td>105.0</td>\n",
       "      <td>40.799999</td>\n",
       "      <td>231.0</td>\n",
       "    </tr>\n",
       "    <tr>\n",
       "      <th>-2</th>\n",
       "      <td>female</td>\n",
       "      <td>20</td>\n",
       "      <td>166.0</td>\n",
       "      <td>60.0</td>\n",
       "      <td>14.0</td>\n",
       "      <td>94.0</td>\n",
       "      <td>40.299999</td>\n",
       "      <td>66.0</td>\n",
       "    </tr>\n",
       "    <tr>\n",
       "      <th>-3</th>\n",
       "      <td>male</td>\n",
       "      <td>69</td>\n",
       "      <td>179.0</td>\n",
       "      <td>79.0</td>\n",
       "      <td>5.0</td>\n",
       "      <td>88.0</td>\n",
       "      <td>38.700001</td>\n",
       "      <td>26.0</td>\n",
       "    </tr>\n",
       "    <tr>\n",
       "      <th>-4</th>\n",
       "      <td>female</td>\n",
       "      <td>34</td>\n",
       "      <td>179.0</td>\n",
       "      <td>71.0</td>\n",
       "      <td>13.0</td>\n",
       "      <td>100.0</td>\n",
       "      <td>40.500000</td>\n",
       "      <td>71.0</td>\n",
       "    </tr>\n",
       "    <tr>\n",
       "      <th>-5</th>\n",
       "      <td>female</td>\n",
       "      <td>27</td>\n",
       "      <td>154.0</td>\n",
       "      <td>58.0</td>\n",
       "      <td>10.0</td>\n",
       "      <td>81.0</td>\n",
       "      <td>39.799999</td>\n",
       "      <td>35.0</td>\n",
       "    </tr>\n",
       "  </tbody>\n",
       "</table>\n",
       "</div>"
      ],
      "text/plain": [
       "    Gender  Age  Height  Weight  Duration  Heart_Rate  Body_Temp  Calories\n",
       "-1    male   68   190.0    94.0      29.0       105.0  40.799999     231.0\n",
       "-2  female   20   166.0    60.0      14.0        94.0  40.299999      66.0\n",
       "-3    male   69   179.0    79.0       5.0        88.0  38.700001      26.0\n",
       "-4  female   34   179.0    71.0      13.0       100.0  40.500000      71.0\n",
       "-5  female   27   154.0    58.0      10.0        81.0  39.799999      35.0"
      ]
     },
     "execution_count": 17,
     "metadata": {},
     "output_type": "execute_result"
    }
   ],
   "source": [
    "p_org = make_pipeline(\n",
    "    sgpp.PolarsProcessor(),\n",
    "    sgpp.PandasConverter(index_col = 'User_ID')\n",
    ")\n",
    "df_org = p_org.fit_transform(['data/calories.csv']).reset_index(drop=True).pipe(\n",
    "    lambda x: x.set_index(-(x.index + 1))\n",
    ")\n",
    "df_org.head()"
   ]
  },
  {
   "cell_type": "code",
   "execution_count": 18,
   "id": "b938b539-bf8d-4c5d-a019-d45893dc2078",
   "metadata": {},
   "outputs": [
    {
     "name": "stdout",
     "output_type": "stream",
     "text": [
      "<class 'pandas.core.frame.DataFrame'>\n",
      "Index: 750000 entries, 0 to 749999\n",
      "Data columns (total 9 columns):\n",
      " #   Column        Non-Null Count   Dtype   \n",
      "---  ------        --------------   -----   \n",
      " 0   Sex           750000 non-null  category\n",
      " 1   Age           750000 non-null  int8    \n",
      " 2   Height        750000 non-null  float32 \n",
      " 3   Weight        750000 non-null  float32 \n",
      " 4   Duration      750000 non-null  float32 \n",
      " 5   Heart_Rate    750000 non-null  float32 \n",
      " 6   Body_Temp     750000 non-null  float32 \n",
      " 7   Calories      750000 non-null  float32 \n",
      " 8   Calories_Log  750000 non-null  float32 \n",
      "dtypes: category(1), float32(7), int8(1)\n",
      "memory usage: 24.3 MB\n"
     ]
    }
   ],
   "source": [
    "df_train.info()"
   ]
  },
  {
   "cell_type": "code",
   "execution_count": 19,
   "id": "d0bbca4f-cbe9-4a27-8793-6bc371259cf0",
   "metadata": {},
   "outputs": [
    {
     "name": "stdout",
     "output_type": "stream",
     "text": [
      "<class 'pandas.core.frame.DataFrame'>\n",
      "Index: 250000 entries, 750000 to 999999\n",
      "Data columns (total 7 columns):\n",
      " #   Column      Non-Null Count   Dtype   \n",
      "---  ------      --------------   -----   \n",
      " 0   Sex         250000 non-null  category\n",
      " 1   Age         250000 non-null  int8    \n",
      " 2   Height      250000 non-null  float32 \n",
      " 3   Weight      250000 non-null  float32 \n",
      " 4   Duration    250000 non-null  float32 \n",
      " 5   Heart_Rate  250000 non-null  float32 \n",
      " 6   Body_Temp   250000 non-null  float32 \n",
      "dtypes: category(1), float32(5), int8(1)\n",
      "memory usage: 6.2 MB\n"
     ]
    }
   ],
   "source": [
    "df_test.info()"
   ]
  },
  {
   "cell_type": "code",
   "execution_count": 20,
   "id": "ed218e7c-5451-45e7-a52d-21486f4f0dbb",
   "metadata": {},
   "outputs": [
    {
     "name": "stdout",
     "output_type": "stream",
     "text": [
      "<class 'pandas.core.frame.DataFrame'>\n",
      "Index: 15000 entries, -1 to -15000\n",
      "Data columns (total 8 columns):\n",
      " #   Column      Non-Null Count  Dtype   \n",
      "---  ------      --------------  -----   \n",
      " 0   Gender      15000 non-null  category\n",
      " 1   Age         15000 non-null  int8    \n",
      " 2   Height      15000 non-null  float32 \n",
      " 3   Weight      15000 non-null  float32 \n",
      " 4   Duration    15000 non-null  float32 \n",
      " 5   Heart_Rate  15000 non-null  float32 \n",
      " 6   Body_Temp   15000 non-null  float32 \n",
      " 7   Calories    15000 non-null  float32 \n",
      "dtypes: category(1), float32(6), int8(1)\n",
      "memory usage: 498.2 KB\n"
     ]
    }
   ],
   "source": [
    "df_org.info()"
   ]
  },
  {
   "cell_type": "markdown",
   "id": "eb8e49d8-5e37-47f7-893a-53af13737bcc",
   "metadata": {},
   "source": [
    "# Train / Test의 유사도 파악\n",
    "\n",
    "- Train / Test 를 분류하는 모델을 만들어 구분 성능을 측정하여 유사 정도를 파악합니다.\n"
   ]
  },
  {
   "cell_type": "code",
   "execution_count": 21,
   "id": "10480c8b-8eed-4abc-b3c8-c734cf2a879c",
   "metadata": {},
   "outputs": [
    {
     "data": {
      "text/plain": [
       "{'fit_time': array([0.68910646]),\n",
       " 'score_time': array([0.09026623]),\n",
       " 'estimator': [LGBMClassifier(verbose=0)],\n",
       " 'test_score': array([0.49942446]),\n",
       " 'train_score': array([0.54469618])}"
      ]
     },
     "execution_count": 21,
     "metadata": {},
     "output_type": "execute_result"
    }
   ],
   "source": [
    "X = ['Sex', 'Age', 'Height', 'Weight', 'Duration', 'Heart_Rate', 'Body_Temp'] \n",
    "X_cat = ['Sex']\n",
    "\n",
    "result = pd.concat([\n",
    "    df_train[X].assign(is_train = True), \n",
    "    df_test[X].assign(is_train = False)\n",
    "], axis = 0).pipe(\n",
    "    lambda x: cross_validate(\n",
    "        lgb.LGBMClassifier(verbose = 0), x[X], x['is_train'], scoring = 'roc_auc', \n",
    "        cv = StratifiedShuffleSplit(n_splits = 1, train_size = 0.8, random_state = 1234), params = {'categorical_feature': X_cat},\n",
    "        return_train_score = True, return_estimator = True\n",
    "    )\n",
    ")\n",
    "\n",
    "result"
   ]
  },
  {
   "cell_type": "markdown",
   "id": "eab1c7a4-486f-4e7a-8cb0-6a7b05f6dc09",
   "metadata": {},
   "source": [
    "- Train / Test 의 구분이 용이하지 않습니다. 따라서 차이가 없다고 판단됩니다."
   ]
  },
  {
   "cell_type": "markdown",
   "id": "62e1547a-eaed-46b0-a630-20f9c0696a75",
   "metadata": {},
   "source": [
    "# Org 와  Train/Test의 유사도 파악\n",
    "\n",
    "## Test와의 유사도\n",
    "\n",
    "- Org와 Test의 유사도를 파악하여 Org가 유효할 수 있을지 파악합니다."
   ]
  },
  {
   "cell_type": "code",
   "execution_count": 22,
   "id": "98f999ab-1a82-4f2e-bcd0-5189bd365b58",
   "metadata": {},
   "outputs": [
    {
     "data": {
      "text/plain": [
       "{'fit_time': array([0.25553775]),\n",
       " 'score_time': array([0.04268336]),\n",
       " 'estimator': [LGBMClassifier(verbose=0)],\n",
       " 'test_score': array([0.62949556]),\n",
       " 'train_score': array([0.6932698])}"
      ]
     },
     "execution_count": 22,
     "metadata": {},
     "output_type": "execute_result"
    }
   ],
   "source": [
    "X = ['Sex', 'Age', 'Height', 'Weight', 'Duration', 'Heart_Rate', 'Body_Temp'] \n",
    "result = pd.concat([\n",
    "    df_org.rename(\n",
    "        columns = {'Gender': 'Sex'}\n",
    "    )[X].assign(is_org = True), \n",
    "    df_test[X].assign(is_org = False)\n",
    "], axis = 0).pipe(\n",
    "    lambda x: cross_validate(\n",
    "        lgb.LGBMClassifier(verbose = 0), x[X], x['is_org'], scoring = 'roc_auc', \n",
    "        cv = StratifiedShuffleSplit(n_splits = 1, train_size = 0.8, random_state = 1234), params = {'categorical_feature': X_cat},\n",
    "        return_train_score = True, return_estimator = True\n",
    "    )\n",
    ")\n",
    "result"
   ]
  },
  {
   "cell_type": "code",
   "execution_count": 23,
   "id": "39b3da15-b4ca-4975-bd62-68703a75f3fd",
   "metadata": {},
   "outputs": [
    {
     "data": {
      "text/plain": [
       "Sex            54\n",
       "Age           542\n",
       "Height        538\n",
       "Weight        553\n",
       "Duration      371\n",
       "Heart_Rate    484\n",
       "Body_Temp     458\n",
       "dtype: int32"
      ]
     },
     "execution_count": 23,
     "metadata": {},
     "output_type": "execute_result"
    }
   ],
   "source": [
    "pd.Series(\n",
    "    result['estimator'][0].feature_importances_, index = X\n",
    ")"
   ]
  },
  {
   "cell_type": "markdown",
   "id": "ac6cfdd9-e6bb-4be9-9037-18a92b937e21",
   "metadata": {},
   "source": [
    "## Train과의 유사도\n",
    "\n",
    "- Org / Traind의 유사도를 파악하여 Blend이 성립할지 살펴 봅니다."
   ]
  },
  {
   "cell_type": "code",
   "execution_count": 24,
   "id": "28de4483-5cc1-41dc-b1e2-09d7c28cdb82",
   "metadata": {},
   "outputs": [
    {
     "data": {
      "text/plain": [
       "{'fit_time': array([0.71567678]),\n",
       " 'score_time': array([0.11802268]),\n",
       " 'estimator': [LGBMClassifier(verbose=0)],\n",
       " 'test_score': array([0.62554941]),\n",
       " 'train_score': array([0.69409672])}"
      ]
     },
     "execution_count": 24,
     "metadata": {},
     "output_type": "execute_result"
    }
   ],
   "source": [
    "X = ['Sex', 'Age', 'Height', 'Weight', 'Duration', 'Heart_Rate', 'Body_Temp', 'Calories'] \n",
    "result = pd.concat([\n",
    "    df_org.rename(\n",
    "        columns = {'Gender': 'Sex'}\n",
    "    )[X].assign(is_org = True), \n",
    "    df_train[X].assign(is_org = False)\n",
    "], axis = 0).pipe(\n",
    "    lambda x: cross_validate(\n",
    "        lgb.LGBMClassifier(verbose = 0), x[X], x['is_org'], scoring = 'roc_auc', \n",
    "        cv = StratifiedShuffleSplit(n_splits = 1, train_size = 0.8, random_state = 1234), params = {'categorical_feature': X_cat},\n",
    "        return_train_score = True, return_estimator = True\n",
    "    )\n",
    ")\n",
    "result"
   ]
  },
  {
   "cell_type": "code",
   "execution_count": 25,
   "id": "caf2bbb4-5443-496a-899f-0e50726633e2",
   "metadata": {},
   "outputs": [
    {
     "data": {
      "text/plain": [
       "Sex            43\n",
       "Age           524\n",
       "Height        493\n",
       "Weight        502\n",
       "Duration      195\n",
       "Heart_Rate    393\n",
       "Body_Temp     392\n",
       "Calories      458\n",
       "dtype: int32"
      ]
     },
     "execution_count": 25,
     "metadata": {},
     "output_type": "execute_result"
    }
   ],
   "source": [
    "pd.Series(\n",
    "    result['estimator'][0].feature_importances_, index = X\n",
    ")"
   ]
  },
  {
   "cell_type": "markdown",
   "id": "1e4aca22-ab16-48be-9a33-f449be4ee7f1",
   "metadata": {},
   "source": [
    "# Target: Calories"
   ]
  },
  {
   "cell_type": "code",
   "execution_count": 26,
   "id": "f06922d3-272d-44f2-b579-4d1be7564896",
   "metadata": {},
   "outputs": [
    {
     "data": {
      "text/plain": [
       "count    750000.000000\n",
       "mean         88.282791\n",
       "std          62.395351\n",
       "min           1.000000\n",
       "25%          34.000000\n",
       "50%          77.000000\n",
       "75%         136.000000\n",
       "max         314.000000\n",
       "Name: Calories, dtype: float64"
      ]
     },
     "execution_count": 26,
     "metadata": {},
     "output_type": "execute_result"
    }
   ],
   "source": [
    "df_train['Calories'].describe()"
   ]
  },
  {
   "cell_type": "markdown",
   "id": "a5025fd8-89f5-4fc1-886c-fb5be14a2ea3",
   "metadata": {},
   "source": [
    "- 정수로 보입니다. 확인해 보겠습니다."
   ]
  },
  {
   "cell_type": "code",
   "execution_count": 27,
   "id": "caaea2c4-3a2b-437f-b6a2-c1bd0657f302",
   "metadata": {},
   "outputs": [
    {
     "data": {
      "text/plain": [
       "Calories\n",
       "0.0    750000\n",
       "Name: count, dtype: int64"
      ]
     },
     "execution_count": 27,
     "metadata": {},
     "output_type": "execute_result"
    }
   ],
   "source": [
    "(df_train['Calories'] - df_train['Calories'].astype('int')).value_counts()"
   ]
  },
  {
   "cell_type": "markdown",
   "id": "e3b069d7-3c98-492e-9a66-788541f12aa2",
   "metadata": {},
   "source": [
    "- 최소값 1 이므로 log를 그대로 적용해도 무방했습니다."
   ]
  },
  {
   "cell_type": "code",
   "execution_count": 79,
   "id": "d552b6f6-157d-43cd-8a09-5132db735df2",
   "metadata": {},
   "outputs": [
    {
     "data": {
      "image/png": "[encoded data removed]",
      "text/plain": [
       "<Figure size 1600x300 with 2 Axes>"
      ]
     },
     "metadata": {},
     "output_type": "display_data"
    }
   ],
   "source": [
    "fig, axes = plt.subplots(1, 2, figsize = (16, 3))\n",
    "sns.histplot(df_train, x = 'Calories', ax = axes[0])\n",
    "sns.histplot(df_train, x = 'Calories_Log', ax = axes[1])\n",
    "plt.tight_layout()\n",
    "plt.show()"
   ]
  },
  {
   "cell_type": "markdown",
   "id": "d4c9f3af-b1a0-4fc9-b2ab-cc88339afce1",
   "metadata": {},
   "source": [
    "- Calories는 좌측으로 치우친 분포를 하고 있습니다.\n",
    "\n",
    "- Calories_log는 4개 ~ 4개의 봉우리가 있습니다. 봉우리에 관련된 요인을 찾는 것이 도움이 될 수 있으리라 생각됩니다. "
   ]
  },
  {
   "cell_type": "markdown",
   "id": "bd464686-d71f-4b8f-a18d-185ccf608cf1",
   "metadata": {},
   "source": [
    "## Calories vs Calories_Log\n",
    "\n",
    "- LGBMRegressor 심플하게 만들고 Shuffle Split Train size 0.8로 잡아 1회 검증을 통해 결과의 차이를 비교합니다."
   ]
  },
  {
   "cell_type": "code",
   "execution_count": 72,
   "id": "b03cb330-c79f-4ec8-878b-ad5c62731849",
   "metadata": {},
   "outputs": [
    {
     "data": {
      "text/plain": [
       "{'fit_time': array([2.32884884]),\n",
       " 'score_time': array([0.65864682]),\n",
       " 'estimator': [LGBMRegressor(n_estimators=700, verbose=0)],\n",
       " 'test_score': array([-0.06283713]),\n",
       " 'train_score': array([-0.06006336])}"
      ]
     },
     "execution_count": 72,
     "metadata": {},
     "output_type": "execute_result"
    }
   ],
   "source": [
    "X = ['Sex', 'Age', 'Height', 'Weight', 'Duration', 'Heart_Rate', 'Body_Temp'] \n",
    "result = cross_validate(\n",
    "    lgb.LGBMRegressor(verbose = 0, n_estimators = 700), df_train[X], df_train['Calories'], scoring = 'neg_root_mean_squared_log_error', \n",
    "    cv = ShuffleSplit(n_splits = 1, train_size = 0.8, random_state = 1234), params = {'categorical_feature': X_cat},\n",
    "    return_train_score = True, return_estimator = True\n",
    ")\n",
    "result"
   ]
  },
  {
   "cell_type": "code",
   "execution_count": 86,
   "id": "36b8c3a0-98ee-4187-a575-75782ddd7a3e",
   "metadata": {},
   "outputs": [
    {
     "data": {
      "text/plain": [
       "{'fit_time': array([0.66256213]),\n",
       " 'score_time': array([0.13081861]),\n",
       " 'estimator': [LGBMRegressor(n_estimators=120, verbose=0)],\n",
       " 'test_score': array([-0.06239613]),\n",
       " 'train_score': array([-0.06081547])}"
      ]
     },
     "execution_count": 86,
     "metadata": {},
     "output_type": "execute_result"
    }
   ],
   "source": [
    "X = ['Sex', 'Age', 'Height', 'Weight', 'Duration', 'Heart_Rate', 'Body_Temp'] \n",
    "result = cross_validate(\n",
    "    lgb.LGBMRegressor(verbose = 0, n_estimators = 120), df_train[X], df_train['Calories_Log'], scoring = 'neg_root_mean_squared_error', \n",
    "    cv = ShuffleSplit(n_splits = 1, train_size = 0.8, random_state = 1234), params = {'categorical_feature': X_cat},\n",
    "    return_train_score = True, return_estimator = True\n",
    ")\n",
    "result"
   ]
  },
  {
   "cell_type": "code",
   "execution_count": 87,
   "id": "349e60d8-4b7e-42c7-aba4-dc92c4485927",
   "metadata": {},
   "outputs": [
    {
     "data": {
      "text/plain": [
       "{'fit_time': array([2.2828002]),\n",
       " 'score_time': array([0.66662002]),\n",
       " 'estimator': [LGBMRegressor(n_estimators=700, verbose=0)],\n",
       " 'test_score': array([-0.06091758]),\n",
       " 'train_score': array([-0.0560343])}"
      ]
     },
     "execution_count": 87,
     "metadata": {},
     "output_type": "execute_result"
    }
   ],
   "source": [
    "X = ['Sex', 'Age', 'Height', 'Weight', 'Duration', 'Heart_Rate', 'Body_Temp'] \n",
    "result = cross_validate(\n",
    "    lgb.LGBMRegressor(verbose = 0, n_estimators = 700), df_train[X], df_train['Calories_Log'], scoring = 'neg_root_mean_squared_error', \n",
    "    cv = ShuffleSplit(n_splits = 1, train_size = 0.8, random_state = 1234), params = {'categorical_feature': X_cat},\n",
    "    return_train_score = True, return_estimator = True\n",
    ")\n",
    "result"
   ]
  },
  {
   "cell_type": "markdown",
   "id": "f605409c-a0c9-46ca-8788-2b13fcea6e46",
   "metadata": {},
   "source": [
    "- 결론: Calories_Log로 모델을 만들 때, 성능이 좋습니다. Calories를 Target으로 했을 경우, n_estimators 가  700보다 크면 과적합이 발생하기 시작한 반면,\n",
    "Calories_Log로 할 경우에는 n_estimators 가 700 이후에도 test_score 가 떨어지지 않았고 teest의 성능도 Calories를 사용했을 때 보다 때 보다 좋음을 확인할 수 있었습니다.\n",
    "- Calories_Log 만을 사용하여 모델을 만듭니다.\n"
   ]
  },
  {
   "cell_type": "markdown",
   "id": "ec6f64e8-560b-4f0a-bc8a-39405c9728eb",
   "metadata": {},
   "source": [
    "# 입력 변수 분석"
   ]
  },
  {
   "cell_type": "code",
   "execution_count": 28,
   "id": "9743990e-ed54-4b71-9f59-76625457549b",
   "metadata": {},
   "outputs": [
    {
     "data": {
      "text/plain": [
       "Sex\n",
       "female    375721\n",
       "male      374279\n",
       "Name: count, dtype: int64"
      ]
     },
     "execution_count": 28,
     "metadata": {},
     "output_type": "execute_result"
    }
   ],
   "source": [
    "df_train['Sex'].value_counts()"
   ]
  },
  {
   "cell_type": "code",
   "execution_count": 31,
   "id": "121d8670-22e4-4cb9-8d7c-4280a2595731",
   "metadata": {},
   "outputs": [
    {
     "data": {
      "text/html": [
       "<div>\n",
       "<style scoped>\n",
       "    .dataframe tbody tr th:only-of-type {\n",
       "        vertical-align: middle;\n",
       "    }\n",
       "\n",
       "    .dataframe tbody tr th {\n",
       "        vertical-align: top;\n",
       "    }\n",
       "\n",
       "    .dataframe thead th {\n",
       "        text-align: right;\n",
       "    }\n",
       "</style>\n",
       "<table border=\"1\" class=\"dataframe\">\n",
       "  <thead>\n",
       "    <tr style=\"text-align: right;\">\n",
       "      <th></th>\n",
       "      <th>Age</th>\n",
       "      <th>Height</th>\n",
       "      <th>Weight</th>\n",
       "      <th>Duration</th>\n",
       "      <th>Heart_Rate</th>\n",
       "      <th>Body_Temp</th>\n",
       "    </tr>\n",
       "  </thead>\n",
       "  <tbody>\n",
       "    <tr>\n",
       "      <th>count</th>\n",
       "      <td>750000.000000</td>\n",
       "      <td>750000.000000</td>\n",
       "      <td>750000.000000</td>\n",
       "      <td>750000.000000</td>\n",
       "      <td>750000.000000</td>\n",
       "      <td>750000.000000</td>\n",
       "    </tr>\n",
       "    <tr>\n",
       "      <th>mean</th>\n",
       "      <td>41.420404</td>\n",
       "      <td>174.697647</td>\n",
       "      <td>75.145676</td>\n",
       "      <td>15.421015</td>\n",
       "      <td>95.484009</td>\n",
       "      <td>40.036243</td>\n",
       "    </tr>\n",
       "    <tr>\n",
       "      <th>std</th>\n",
       "      <td>15.175049</td>\n",
       "      <td>12.824495</td>\n",
       "      <td>13.982703</td>\n",
       "      <td>8.354095</td>\n",
       "      <td>9.449845</td>\n",
       "      <td>0.779875</td>\n",
       "    </tr>\n",
       "    <tr>\n",
       "      <th>min</th>\n",
       "      <td>20.000000</td>\n",
       "      <td>126.000000</td>\n",
       "      <td>36.000000</td>\n",
       "      <td>1.000000</td>\n",
       "      <td>67.000000</td>\n",
       "      <td>37.099998</td>\n",
       "    </tr>\n",
       "    <tr>\n",
       "      <th>25%</th>\n",
       "      <td>28.000000</td>\n",
       "      <td>164.000000</td>\n",
       "      <td>63.000000</td>\n",
       "      <td>8.000000</td>\n",
       "      <td>88.000000</td>\n",
       "      <td>39.599998</td>\n",
       "    </tr>\n",
       "    <tr>\n",
       "      <th>50%</th>\n",
       "      <td>40.000000</td>\n",
       "      <td>174.000000</td>\n",
       "      <td>74.000000</td>\n",
       "      <td>15.000000</td>\n",
       "      <td>95.000000</td>\n",
       "      <td>40.299999</td>\n",
       "    </tr>\n",
       "    <tr>\n",
       "      <th>75%</th>\n",
       "      <td>52.000000</td>\n",
       "      <td>185.000000</td>\n",
       "      <td>87.000000</td>\n",
       "      <td>23.000000</td>\n",
       "      <td>103.000000</td>\n",
       "      <td>40.700001</td>\n",
       "    </tr>\n",
       "    <tr>\n",
       "      <th>max</th>\n",
       "      <td>79.000000</td>\n",
       "      <td>222.000000</td>\n",
       "      <td>132.000000</td>\n",
       "      <td>30.000000</td>\n",
       "      <td>128.000000</td>\n",
       "      <td>41.500000</td>\n",
       "    </tr>\n",
       "  </tbody>\n",
       "</table>\n",
       "</div>"
      ],
      "text/plain": [
       "                 Age         Height         Weight       Duration  \\\n",
       "count  750000.000000  750000.000000  750000.000000  750000.000000   \n",
       "mean       41.420404     174.697647      75.145676      15.421015   \n",
       "std        15.175049      12.824495      13.982703       8.354095   \n",
       "min        20.000000     126.000000      36.000000       1.000000   \n",
       "25%        28.000000     164.000000      63.000000       8.000000   \n",
       "50%        40.000000     174.000000      74.000000      15.000000   \n",
       "75%        52.000000     185.000000      87.000000      23.000000   \n",
       "max        79.000000     222.000000     132.000000      30.000000   \n",
       "\n",
       "          Heart_Rate      Body_Temp  \n",
       "count  750000.000000  750000.000000  \n",
       "mean       95.484009      40.036243  \n",
       "std         9.449845       0.779875  \n",
       "min        67.000000      37.099998  \n",
       "25%        88.000000      39.599998  \n",
       "50%        95.000000      40.299999  \n",
       "75%       103.000000      40.700001  \n",
       "max       128.000000      41.500000  "
      ]
     },
     "execution_count": 31,
     "metadata": {},
     "output_type": "execute_result"
    }
   ],
   "source": [
    "X_num = ['Age', 'Height', 'Weight', 'Duration', 'Heart_Rate', 'Body_Temp']\n",
    "df_train[X_num].describe()"
   ]
  },
  {
   "cell_type": "code",
   "execution_count": 41,
   "id": "eebbf36b-8f8d-4422-8ed7-f4a0a44a241d",
   "metadata": {},
   "outputs": [
    {
     "data": {
      "text/plain": [
       "Age\n",
       "0    750000\n",
       "Name: count, dtype: int64"
      ]
     },
     "execution_count": 41,
     "metadata": {},
     "output_type": "execute_result"
    }
   ],
   "source": [
    "(df_train['Age'] - df_train['Age'].astype('int')).value_counts()"
   ]
  },
  {
   "cell_type": "code",
   "execution_count": 42,
   "id": "9bddd5fb-5b71-4018-a050-80de4f87db3c",
   "metadata": {},
   "outputs": [
    {
     "data": {
      "text/plain": [
       "Age\n",
       "0    250000\n",
       "Name: count, dtype: int64"
      ]
     },
     "execution_count": 42,
     "metadata": {},
     "output_type": "execute_result"
    }
   ],
   "source": [
    "(df_test['Age'] - df_test['Age'].astype('int')).value_counts()"
   ]
  },
  {
   "cell_type": "code",
   "execution_count": 35,
   "id": "43b07d54-757d-4e03-9d68-64153210b625",
   "metadata": {},
   "outputs": [
    {
     "data": {
      "text/plain": [
       "Height\n",
       "0.000000    749999\n",
       "0.100006         1\n",
       "Name: count, dtype: int64"
      ]
     },
     "execution_count": 35,
     "metadata": {},
     "output_type": "execute_result"
    }
   ],
   "source": [
    "(df_train['Height'] - df_train['Height'].astype('int')).value_counts()"
   ]
  },
  {
   "cell_type": "code",
   "execution_count": 36,
   "id": "547639ec-0ea9-4f78-b68a-72077c64ae72",
   "metadata": {},
   "outputs": [
    {
     "data": {
      "text/plain": [
       "Height\n",
       "0.0    250000\n",
       "Name: count, dtype: int64"
      ]
     },
     "execution_count": 36,
     "metadata": {},
     "output_type": "execute_result"
    }
   ],
   "source": [
    "(df_test['Height'] - df_test['Height'].astype('int')).value_counts()"
   ]
  },
  {
   "cell_type": "code",
   "execution_count": 37,
   "id": "1c5a4e81-93a3-46b7-af0f-f613f62dacf7",
   "metadata": {},
   "outputs": [
    {
     "data": {
      "text/plain": [
       "Weight\n",
       "0.0    750000\n",
       "Name: count, dtype: int64"
      ]
     },
     "execution_count": 37,
     "metadata": {},
     "output_type": "execute_result"
    }
   ],
   "source": [
    "(df_train['Weight'] - df_train['Weight'].astype('int')).value_counts()"
   ]
  },
  {
   "cell_type": "code",
   "execution_count": 38,
   "id": "02cd91c4-b7dd-4507-a61e-049058f6bd26",
   "metadata": {},
   "outputs": [
    {
     "data": {
      "text/plain": [
       "Weight\n",
       "0.0    250000\n",
       "Name: count, dtype: int64"
      ]
     },
     "execution_count": 38,
     "metadata": {},
     "output_type": "execute_result"
    }
   ],
   "source": [
    "(df_test['Weight'] - df_test['Weight'].astype('int')).value_counts()"
   ]
  },
  {
   "cell_type": "code",
   "execution_count": 39,
   "id": "b30fcf61-ccfe-413f-8658-54485d682903",
   "metadata": {},
   "outputs": [
    {
     "data": {
      "text/plain": [
       "Duration\n",
       "0.0    750000\n",
       "Name: count, dtype: int64"
      ]
     },
     "execution_count": 39,
     "metadata": {},
     "output_type": "execute_result"
    }
   ],
   "source": [
    "(df_train['Duration'] - df_train['Duration'].astype('int')).value_counts()"
   ]
  },
  {
   "cell_type": "code",
   "execution_count": 40,
   "id": "7e17a5e9-544c-41e5-bd9a-1b754f297202",
   "metadata": {},
   "outputs": [
    {
     "data": {
      "text/plain": [
       "Duration\n",
       "0.0    250000\n",
       "Name: count, dtype: int64"
      ]
     },
     "execution_count": 40,
     "metadata": {},
     "output_type": "execute_result"
    }
   ],
   "source": [
    "(df_test['Duration'] - df_test['Duration'].astype('int')).value_counts()"
   ]
  },
  {
   "cell_type": "markdown",
   "id": "b395f0b4-2040-4713-b38b-e404cd2d1ba9",
   "metadata": {},
   "source": [
    "- Age, \tHeight,\tWeight, Duration, Heart_Rate 는 정수라고 할 수 있습니다."
   ]
  },
  {
   "cell_type": "code",
   "execution_count": 30,
   "id": "e6481580-5b87-4fa0-b4ce-f3f879779ba9",
   "metadata": {},
   "outputs": [
    {
     "data": {
      "image/png": "[encoded data removed]",
      "text/plain": [
       "<Figure size 1600x500 with 6 Axes>"
      ]
     },
     "metadata": {},
     "output_type": "display_data"
    }
   ],
   "source": [
    "fig, axes = plt.subplots(2, 3, figsize = (16, 5))\n",
    "axes = axes.flatten()\n",
    "for i, ax in zip(X_num, axes): \n",
    "    sns.histplot(df_train, x = i, ax = ax)\n",
    "plt.tight_layout()\n",
    "plt.show()"
   ]
  },
  {
   "cell_type": "markdown",
   "id": "66d3ca1f-358c-41f9-bcbf-c78f826f34c1",
   "metadata": {},
   "source": [
    "- Height, Weight, Heart_Rate 에 이상치로 생각 되는 것이 보입니다.  성능과의 영향도를 살펴봅니다 ."
   ]
  },
  {
   "cell_type": "code",
   "execution_count": 44,
   "id": "c5efc319-b64d-46bb-874d-b601881b7f76",
   "metadata": {},
   "outputs": [
    {
     "data": {
      "image/png": "[encoded data removed]",
      "text/plain": [
       "<Figure size 800x400 with 2 Axes>"
      ]
     },
     "metadata": {},
     "output_type": "display_data"
    }
   ],
   "source": [
    "plt.figure(figsize = (8, 4))\n",
    "sns.heatmap(\n",
    "    df_train[X_num].corr(), annot = True, annot_kws = {'size' : 7}\n",
    ")\n",
    "plt.show()"
   ]
  },
  {
   "cell_type": "markdown",
   "id": "b77122a3-c313-42e5-9b7f-90ceb96f7f27",
   "metadata": {},
   "source": [
    "- Height, Weight는 상관도가 0.96으로 강한 상관도 가 있고, 그 외 변수와 상관도가 떨아집니다. \n",
    "\n",
    "- Duration, Heart_Rate, Body_Temp는 강한 상관도 가 있습니다."
   ]
  },
  {
   "cell_type": "code",
   "execution_count": 50,
   "id": "574e1317-a753-465d-bf4c-6f094f87b054",
   "metadata": {},
   "outputs": [
    {
     "data": {
      "text/plain": [
       "Age           1.439142e-35\n",
       "Height        0.000000e+00\n",
       "Weight        0.000000e+00\n",
       "Duration      1.339694e-17\n",
       "Heart_Rate    1.544743e-06\n",
       "Body_Temp     1.190521e-15\n",
       "dtype: float64"
      ]
     },
     "execution_count": 50,
     "metadata": {},
     "output_type": "execute_result"
    }
   ],
   "source": [
    "df_train.groupby('Sex')[X_num].agg(list).apply(\n",
    "    lambda x: kruskal(*x).pvalue, axis = 0\n",
    ")"
   ]
  },
  {
   "cell_type": "code",
   "execution_count": 51,
   "id": "6159400a-8c79-4887-befa-ef471b7775f1",
   "metadata": {},
   "outputs": [
    {
     "data": {
      "image/png": "[encoded data removed]",
      "text/plain": [
       "<Figure size 1600x500 with 6 Axes>"
      ]
     },
     "metadata": {},
     "output_type": "display_data"
    }
   ],
   "source": [
    "fig, axes = plt.subplots(2, 3, figsize = (16, 5))\n",
    "axes = axes.flatten()\n",
    "for i, ax in zip(X_num, axes): \n",
    "    sns.histplot(df_train, x = i, ax = ax, hue = 'Sex')\n",
    "plt.tight_layout()\n",
    "plt.show()"
   ]
  },
  {
   "cell_type": "markdown",
   "id": "b22714cb-33d2-4271-9b9c-6e2fa9683ebe",
   "metadata": {},
   "source": [
    "- Height, Weight는 Sex와 강한 상관도를 지니고 있습니다.\n",
    "\n",
    "- Age, Duration, Heart_rate, Body_Temp 는 약한 상관도가 있습니다."
   ]
  },
  {
   "cell_type": "code",
   "execution_count": 76,
   "id": "bc35411e-3f4c-437d-955d-00d454f3a905",
   "metadata": {},
   "outputs": [
    {
     "data": {
      "text/plain": [
       "count\n",
       "1     735018\n",
       "2       6627\n",
       "3        396\n",
       "4         69\n",
       "5         34\n",
       "6          8\n",
       "7          4\n",
       "10         1\n",
       "8          1\n",
       "Name: count, dtype: int64"
      ]
     },
     "execution_count": 76,
     "metadata": {},
     "output_type": "execute_result"
    }
   ],
   "source": [
    "df_train[['Sex'] + X_num].value_counts().value_counts()"
   ]
  },
  {
   "cell_type": "markdown",
   "id": "a969f2df-2cb4-47a4-8175-a54c76a9bfd1",
   "metadata": {},
   "source": [
    "- 동일한 입력값이 관측이 되었습니다. target의 분산을 뽑아, 노이즈가 어느 정도 일지 측정해봅니다."
   ]
  },
  {
   "cell_type": "code",
   "execution_count": 82,
   "id": "baeeca16-40e4-4498-a818-ab4e2bd51577",
   "metadata": {},
   "outputs": [
    {
     "data": {
      "text/html": [
       "<div>\n",
       "<style scoped>\n",
       "    .dataframe tbody tr th:only-of-type {\n",
       "        vertical-align: middle;\n",
       "    }\n",
       "\n",
       "    .dataframe tbody tr th {\n",
       "        vertical-align: top;\n",
       "    }\n",
       "\n",
       "    .dataframe thead th {\n",
       "        text-align: right;\n",
       "    }\n",
       "</style>\n",
       "<table border=\"1\" class=\"dataframe\">\n",
       "  <thead>\n",
       "    <tr style=\"text-align: right;\">\n",
       "      <th></th>\n",
       "      <th></th>\n",
       "      <th></th>\n",
       "      <th></th>\n",
       "      <th></th>\n",
       "      <th></th>\n",
       "      <th></th>\n",
       "      <th>mean</th>\n",
       "      <th>std</th>\n",
       "    </tr>\n",
       "    <tr>\n",
       "      <th>Sex</th>\n",
       "      <th>Age</th>\n",
       "      <th>Height</th>\n",
       "      <th>Weight</th>\n",
       "      <th>Duration</th>\n",
       "      <th>Heart_Rate</th>\n",
       "      <th>Body_Temp</th>\n",
       "      <th></th>\n",
       "      <th></th>\n",
       "    </tr>\n",
       "  </thead>\n",
       "  <tbody>\n",
       "    <tr>\n",
       "      <th rowspan=\"19\" valign=\"top\">male</th>\n",
       "      <th rowspan=\"2\" valign=\"top\">21</th>\n",
       "      <th>187.0</th>\n",
       "      <th>91.0</th>\n",
       "      <th>25.0</th>\n",
       "      <th>104.0</th>\n",
       "      <th>40.799999</th>\n",
       "      <td>4.933030</td>\n",
       "      <td>0.003229</td>\n",
       "    </tr>\n",
       "    <tr>\n",
       "      <th>193.0</th>\n",
       "      <th>99.0</th>\n",
       "      <th>21.0</th>\n",
       "      <th>102.0</th>\n",
       "      <th>40.700001</th>\n",
       "      <td>4.714847</td>\n",
       "      <td>0.013688</td>\n",
       "    </tr>\n",
       "    <tr>\n",
       "      <th rowspan=\"3\" valign=\"top\">32</th>\n",
       "      <th rowspan=\"2\" valign=\"top\">187.0</th>\n",
       "      <th rowspan=\"2\" valign=\"top\">92.0</th>\n",
       "      <th>15.0</th>\n",
       "      <th>102.0</th>\n",
       "      <th>40.299999</th>\n",
       "      <td>4.470400</td>\n",
       "      <td>0.015512</td>\n",
       "    </tr>\n",
       "    <tr>\n",
       "      <th>18.0</th>\n",
       "      <th>96.0</th>\n",
       "      <th>40.299999</th>\n",
       "      <td>4.458179</td>\n",
       "      <td>0.009386</td>\n",
       "    </tr>\n",
       "    <tr>\n",
       "      <th>193.0</th>\n",
       "      <th>99.0</th>\n",
       "      <th>19.0</th>\n",
       "      <th>100.0</th>\n",
       "      <th>40.700001</th>\n",
       "      <td>4.670899</td>\n",
       "      <td>0.012133</td>\n",
       "    </tr>\n",
       "    <tr>\n",
       "      <th>40</th>\n",
       "      <th>191.0</th>\n",
       "      <th>88.0</th>\n",
       "      <th>14.0</th>\n",
       "      <th>93.0</th>\n",
       "      <th>40.299999</th>\n",
       "      <td>4.174387</td>\n",
       "      <td>0.000000</td>\n",
       "    </tr>\n",
       "    <tr>\n",
       "      <th rowspan=\"9\" valign=\"top\">48</th>\n",
       "      <th rowspan=\"7\" valign=\"top\">187.0</th>\n",
       "      <th rowspan=\"5\" valign=\"top\">88.0</th>\n",
       "      <th>10.0</th>\n",
       "      <th>95.0</th>\n",
       "      <th>40.000000</th>\n",
       "      <td>3.973891</td>\n",
       "      <td>0.020434</td>\n",
       "    </tr>\n",
       "    <tr>\n",
       "      <th rowspan=\"4\" valign=\"top\">11.0</th>\n",
       "      <th rowspan=\"2\" valign=\"top\">90.0</th>\n",
       "      <th>40.000000</th>\n",
       "      <td>3.967571</td>\n",
       "      <td>0.007200</td>\n",
       "    </tr>\n",
       "    <tr>\n",
       "      <th>40.099998</th>\n",
       "      <td>3.962598</td>\n",
       "      <td>0.017203</td>\n",
       "    </tr>\n",
       "    <tr>\n",
       "      <th rowspan=\"2\" valign=\"top\">91.0</th>\n",
       "      <th>40.000000</th>\n",
       "      <td>3.973407</td>\n",
       "      <td>0.007631</td>\n",
       "    </tr>\n",
       "    <tr>\n",
       "      <th>40.099998</th>\n",
       "      <td>3.970292</td>\n",
       "      <td>0.000000</td>\n",
       "    </tr>\n",
       "    <tr>\n",
       "      <th rowspan=\"2\" valign=\"top\">90.0</th>\n",
       "      <th rowspan=\"2\" valign=\"top\">11.0</th>\n",
       "      <th>90.0</th>\n",
       "      <th>40.000000</th>\n",
       "      <td>3.967420</td>\n",
       "      <td>0.020012</td>\n",
       "    </tr>\n",
       "    <tr>\n",
       "      <th>91.0</th>\n",
       "      <th>40.000000</th>\n",
       "      <td>3.985042</td>\n",
       "      <td>0.023943</td>\n",
       "    </tr>\n",
       "    <tr>\n",
       "      <th>191.0</th>\n",
       "      <th>91.0</th>\n",
       "      <th>15.0</th>\n",
       "      <th>93.0</th>\n",
       "      <th>40.299999</th>\n",
       "      <td>4.356253</td>\n",
       "      <td>0.033666</td>\n",
       "    </tr>\n",
       "    <tr>\n",
       "      <th>193.0</th>\n",
       "      <th>98.0</th>\n",
       "      <th>5.0</th>\n",
       "      <th>88.0</th>\n",
       "      <th>39.099998</th>\n",
       "      <td>3.126604</td>\n",
       "      <td>0.019879</td>\n",
       "    </tr>\n",
       "    <tr>\n",
       "      <th>51</th>\n",
       "      <th>196.0</th>\n",
       "      <th>102.0</th>\n",
       "      <th>2.0</th>\n",
       "      <th>81.0</th>\n",
       "      <th>38.299999</th>\n",
       "      <td>2.079442</td>\n",
       "      <td>0.000000</td>\n",
       "    </tr>\n",
       "    <tr>\n",
       "      <th rowspan=\"2\" valign=\"top\">54</th>\n",
       "      <th>184.0</th>\n",
       "      <th>88.0</th>\n",
       "      <th>5.0</th>\n",
       "      <th>84.0</th>\n",
       "      <th>39.099998</th>\n",
       "      <td>3.044523</td>\n",
       "      <td>0.000000</td>\n",
       "    </tr>\n",
       "    <tr>\n",
       "      <th>192.0</th>\n",
       "      <th>91.0</th>\n",
       "      <th>2.0</th>\n",
       "      <th>81.0</th>\n",
       "      <th>38.299999</th>\n",
       "      <td>2.079442</td>\n",
       "      <td>0.000000</td>\n",
       "    </tr>\n",
       "    <tr>\n",
       "      <th>64</th>\n",
       "      <th>199.0</th>\n",
       "      <th>102.0</th>\n",
       "      <th>1.0</th>\n",
       "      <th>83.0</th>\n",
       "      <th>37.700001</th>\n",
       "      <td>1.609438</td>\n",
       "      <td>0.000000</td>\n",
       "    </tr>\n",
       "    <tr>\n",
       "      <th rowspan=\"29\" valign=\"top\">female</th>\n",
       "      <th>21</th>\n",
       "      <th>169.0</th>\n",
       "      <th>64.0</th>\n",
       "      <th>9.0</th>\n",
       "      <th>91.0</th>\n",
       "      <th>39.799999</th>\n",
       "      <td>3.673689</td>\n",
       "      <td>0.013867</td>\n",
       "    </tr>\n",
       "    <tr>\n",
       "      <th rowspan=\"2\" valign=\"top\">32</th>\n",
       "      <th>150.0</th>\n",
       "      <th>51.0</th>\n",
       "      <th>1.0</th>\n",
       "      <th>86.0</th>\n",
       "      <th>37.700001</th>\n",
       "      <td>1.609438</td>\n",
       "      <td>0.000000</td>\n",
       "    </tr>\n",
       "    <tr>\n",
       "      <th>161.0</th>\n",
       "      <th>61.0</th>\n",
       "      <th>15.0</th>\n",
       "      <th>91.0</th>\n",
       "      <th>40.299999</th>\n",
       "      <td>4.242572</td>\n",
       "      <td>0.022048</td>\n",
       "    </tr>\n",
       "    <tr>\n",
       "      <th>34</th>\n",
       "      <th>163.0</th>\n",
       "      <th>62.0</th>\n",
       "      <th>21.0</th>\n",
       "      <th>99.0</th>\n",
       "      <th>40.700001</th>\n",
       "      <td>4.744932</td>\n",
       "      <td>0.000000</td>\n",
       "    </tr>\n",
       "    <tr>\n",
       "      <th rowspan=\"8\" valign=\"top\">40</th>\n",
       "      <th>152.0</th>\n",
       "      <th>51.0</th>\n",
       "      <th>25.0</th>\n",
       "      <th>109.0</th>\n",
       "      <th>40.700001</th>\n",
       "      <td>5.135798</td>\n",
       "      <td>0.000000</td>\n",
       "    </tr>\n",
       "    <tr>\n",
       "      <th rowspan=\"7\" valign=\"top\">161.0</th>\n",
       "      <th rowspan=\"4\" valign=\"top\">61.0</th>\n",
       "      <th>13.0</th>\n",
       "      <th>99.0</th>\n",
       "      <th>40.299999</th>\n",
       "      <td>4.292696</td>\n",
       "      <td>0.010300</td>\n",
       "    </tr>\n",
       "    <tr>\n",
       "      <th rowspan=\"2\" valign=\"top\">14.0</th>\n",
       "      <th>91.0</th>\n",
       "      <th>40.400002</th>\n",
       "      <td>4.209631</td>\n",
       "      <td>0.007650</td>\n",
       "    </tr>\n",
       "    <tr>\n",
       "      <th>95.0</th>\n",
       "      <th>40.299999</th>\n",
       "      <td>4.295828</td>\n",
       "      <td>0.015507</td>\n",
       "    </tr>\n",
       "    <tr>\n",
       "      <th>15.0</th>\n",
       "      <th>91.0</th>\n",
       "      <th>40.299999</th>\n",
       "      <td>4.271032</td>\n",
       "      <td>0.012598</td>\n",
       "    </tr>\n",
       "    <tr>\n",
       "      <th rowspan=\"3\" valign=\"top\">64.0</th>\n",
       "      <th rowspan=\"2\" valign=\"top\">12.0</th>\n",
       "      <th>95.0</th>\n",
       "      <th>40.099998</th>\n",
       "      <td>4.133534</td>\n",
       "      <td>0.008764</td>\n",
       "    </tr>\n",
       "    <tr>\n",
       "      <th>96.0</th>\n",
       "      <th>40.099998</th>\n",
       "      <td>4.155589</td>\n",
       "      <td>0.020228</td>\n",
       "    </tr>\n",
       "    <tr>\n",
       "      <th>13.0</th>\n",
       "      <th>93.0</th>\n",
       "      <th>40.099998</th>\n",
       "      <td>4.164889</td>\n",
       "      <td>0.023745</td>\n",
       "    </tr>\n",
       "    <tr>\n",
       "      <th rowspan=\"2\" valign=\"top\">42</th>\n",
       "      <th rowspan=\"2\" valign=\"top\">161.0</th>\n",
       "      <th>60.0</th>\n",
       "      <th>16.0</th>\n",
       "      <th>91.0</th>\n",
       "      <th>40.299999</th>\n",
       "      <td>4.351548</td>\n",
       "      <td>0.007068</td>\n",
       "    </tr>\n",
       "    <tr>\n",
       "      <th>64.0</th>\n",
       "      <th>15.0</th>\n",
       "      <th>93.0</th>\n",
       "      <th>40.299999</th>\n",
       "      <td>4.317488</td>\n",
       "      <td>0.000000</td>\n",
       "    </tr>\n",
       "    <tr>\n",
       "      <th>45</th>\n",
       "      <th>161.0</th>\n",
       "      <th>61.0</th>\n",
       "      <th>27.0</th>\n",
       "      <th>110.0</th>\n",
       "      <th>40.900002</th>\n",
       "      <td>5.235347</td>\n",
       "      <td>0.008790</td>\n",
       "    </tr>\n",
       "    <tr>\n",
       "      <th rowspan=\"13\" valign=\"top\">48</th>\n",
       "      <th rowspan=\"5\" valign=\"top\">158.0</th>\n",
       "      <th rowspan=\"2\" valign=\"top\">60.0</th>\n",
       "      <th rowspan=\"2\" valign=\"top\">11.0</th>\n",
       "      <th>87.0</th>\n",
       "      <th>40.000000</th>\n",
       "      <td>3.912023</td>\n",
       "      <td>0.000000</td>\n",
       "    </tr>\n",
       "    <tr>\n",
       "      <th>91.0</th>\n",
       "      <th>40.000000</th>\n",
       "      <td>3.991873</td>\n",
       "      <td>0.021485</td>\n",
       "    </tr>\n",
       "    <tr>\n",
       "      <th rowspan=\"3\" valign=\"top\">61.0</th>\n",
       "      <th rowspan=\"3\" valign=\"top\">11.0</th>\n",
       "      <th>89.0</th>\n",
       "      <th>40.000000</th>\n",
       "      <td>3.955053</td>\n",
       "      <td>0.008519</td>\n",
       "    </tr>\n",
       "    <tr>\n",
       "      <th>90.0</th>\n",
       "      <th>40.000000</th>\n",
       "      <td>3.977698</td>\n",
       "      <td>0.016858</td>\n",
       "    </tr>\n",
       "    <tr>\n",
       "      <th>91.0</th>\n",
       "      <th>40.000000</th>\n",
       "      <td>3.985245</td>\n",
       "      <td>0.008359</td>\n",
       "    </tr>\n",
       "    <tr>\n",
       "      <th rowspan=\"8\" valign=\"top\">161.0</th>\n",
       "      <th rowspan=\"2\" valign=\"top\">60.0</th>\n",
       "      <th rowspan=\"2\" valign=\"top\">11.0</th>\n",
       "      <th rowspan=\"2\" valign=\"top\">91.0</th>\n",
       "      <th>40.000000</th>\n",
       "      <td>3.981473</td>\n",
       "      <td>0.012994</td>\n",
       "    </tr>\n",
       "    <tr>\n",
       "      <th>40.099998</th>\n",
       "      <td>4.003399</td>\n",
       "      <td>0.026959</td>\n",
       "    </tr>\n",
       "    <tr>\n",
       "      <th rowspan=\"4\" valign=\"top\">61.0</th>\n",
       "      <th rowspan=\"2\" valign=\"top\">11.0</th>\n",
       "      <th rowspan=\"2\" valign=\"top\">91.0</th>\n",
       "      <th>40.000000</th>\n",
       "      <td>3.975582</td>\n",
       "      <td>0.014231</td>\n",
       "    </tr>\n",
       "    <tr>\n",
       "      <th>40.099998</th>\n",
       "      <td>3.977769</td>\n",
       "      <td>0.010238</td>\n",
       "    </tr>\n",
       "    <tr>\n",
       "      <th>13.0</th>\n",
       "      <th>99.0</th>\n",
       "      <th>40.299999</th>\n",
       "      <td>4.320137</td>\n",
       "      <td>0.005923</td>\n",
       "    </tr>\n",
       "    <tr>\n",
       "      <th>15.0</th>\n",
       "      <th>93.0</th>\n",
       "      <th>40.299999</th>\n",
       "      <td>4.326290</td>\n",
       "      <td>0.010758</td>\n",
       "    </tr>\n",
       "    <tr>\n",
       "      <th>64.0</th>\n",
       "      <th>11.0</th>\n",
       "      <th>91.0</th>\n",
       "      <th>40.000000</th>\n",
       "      <td>3.974030</td>\n",
       "      <td>0.008359</td>\n",
       "    </tr>\n",
       "    <tr>\n",
       "      <th>65.0</th>\n",
       "      <th>11.0</th>\n",
       "      <th>91.0</th>\n",
       "      <th>40.000000</th>\n",
       "      <td>4.003664</td>\n",
       "      <td>0.008206</td>\n",
       "    </tr>\n",
       "    <tr>\n",
       "      <th>54</th>\n",
       "      <th>161.0</th>\n",
       "      <th>61.0</th>\n",
       "      <th>14.0</th>\n",
       "      <th>95.0</th>\n",
       "      <th>40.299999</th>\n",
       "      <td>4.345418</td>\n",
       "      <td>0.004562</td>\n",
       "    </tr>\n",
       "  </tbody>\n",
       "</table>\n",
       "</div>"
      ],
      "text/plain": [
       "                                                            mean       std\n",
       "Sex    Age Height Weight Duration Heart_Rate Body_Temp                    \n",
       "male   21  187.0  91.0   25.0     104.0      40.799999  4.933030  0.003229\n",
       "           193.0  99.0   21.0     102.0      40.700001  4.714847  0.013688\n",
       "       32  187.0  92.0   15.0     102.0      40.299999  4.470400  0.015512\n",
       "                         18.0     96.0       40.299999  4.458179  0.009386\n",
       "           193.0  99.0   19.0     100.0      40.700001  4.670899  0.012133\n",
       "       40  191.0  88.0   14.0     93.0       40.299999  4.174387  0.000000\n",
       "       48  187.0  88.0   10.0     95.0       40.000000  3.973891  0.020434\n",
       "                         11.0     90.0       40.000000  3.967571  0.007200\n",
       "                                             40.099998  3.962598  0.017203\n",
       "                                  91.0       40.000000  3.973407  0.007631\n",
       "                                             40.099998  3.970292  0.000000\n",
       "                  90.0   11.0     90.0       40.000000  3.967420  0.020012\n",
       "                                  91.0       40.000000  3.985042  0.023943\n",
       "           191.0  91.0   15.0     93.0       40.299999  4.356253  0.033666\n",
       "           193.0  98.0   5.0      88.0       39.099998  3.126604  0.019879\n",
       "       51  196.0  102.0  2.0      81.0       38.299999  2.079442  0.000000\n",
       "       54  184.0  88.0   5.0      84.0       39.099998  3.044523  0.000000\n",
       "           192.0  91.0   2.0      81.0       38.299999  2.079442  0.000000\n",
       "       64  199.0  102.0  1.0      83.0       37.700001  1.609438  0.000000\n",
       "female 21  169.0  64.0   9.0      91.0       39.799999  3.673689  0.013867\n",
       "       32  150.0  51.0   1.0      86.0       37.700001  1.609438  0.000000\n",
       "           161.0  61.0   15.0     91.0       40.299999  4.242572  0.022048\n",
       "       34  163.0  62.0   21.0     99.0       40.700001  4.744932  0.000000\n",
       "       40  152.0  51.0   25.0     109.0      40.700001  5.135798  0.000000\n",
       "           161.0  61.0   13.0     99.0       40.299999  4.292696  0.010300\n",
       "                         14.0     91.0       40.400002  4.209631  0.007650\n",
       "                                  95.0       40.299999  4.295828  0.015507\n",
       "                         15.0     91.0       40.299999  4.271032  0.012598\n",
       "                  64.0   12.0     95.0       40.099998  4.133534  0.008764\n",
       "                                  96.0       40.099998  4.155589  0.020228\n",
       "                         13.0     93.0       40.099998  4.164889  0.023745\n",
       "       42  161.0  60.0   16.0     91.0       40.299999  4.351548  0.007068\n",
       "                  64.0   15.0     93.0       40.299999  4.317488  0.000000\n",
       "       45  161.0  61.0   27.0     110.0      40.900002  5.235347  0.008790\n",
       "       48  158.0  60.0   11.0     87.0       40.000000  3.912023  0.000000\n",
       "                                  91.0       40.000000  3.991873  0.021485\n",
       "                  61.0   11.0     89.0       40.000000  3.955053  0.008519\n",
       "                                  90.0       40.000000  3.977698  0.016858\n",
       "                                  91.0       40.000000  3.985245  0.008359\n",
       "           161.0  60.0   11.0     91.0       40.000000  3.981473  0.012994\n",
       "                                             40.099998  4.003399  0.026959\n",
       "                  61.0   11.0     91.0       40.000000  3.975582  0.014231\n",
       "                                             40.099998  3.977769  0.010238\n",
       "                         13.0     99.0       40.299999  4.320137  0.005923\n",
       "                         15.0     93.0       40.299999  4.326290  0.010758\n",
       "                  64.0   11.0     91.0       40.000000  3.974030  0.008359\n",
       "                  65.0   11.0     91.0       40.000000  4.003664  0.008206\n",
       "       54  161.0  61.0   14.0     95.0       40.299999  4.345418  0.004562"
      ]
     },
     "execution_count": 82,
     "metadata": {},
     "output_type": "execute_result"
    }
   ],
   "source": [
    "df_stat = df_train.groupby(['Sex'] + X_num).filter(lambda x: len(x) >= 5)\\\n",
    "    .groupby(['Sex'] + X_num, observed = True)['Calories_Log'].agg(['mean', 'std'])\n",
    "df_stat"
   ]
  },
  {
   "cell_type": "code",
   "execution_count": 83,
   "id": "8ba7ab76-9e6c-4b35-afa9-86a60d3de3bf",
   "metadata": {},
   "outputs": [
    {
     "data": {
      "text/plain": [
       "0.010665245"
      ]
     },
     "execution_count": 83,
     "metadata": {},
     "output_type": "execute_result"
    }
   ],
   "source": [
    "df_stat['std'].mean()"
   ]
  },
  {
   "cell_type": "markdown",
   "id": "db53d212-d653-4bbd-9b51-3d2de16cb3e8",
   "metadata": {},
   "source": [
    "- 약 0.01 입니다."
   ]
  },
  {
   "cell_type": "markdown",
   "id": "744f7bc4-1bf6-4b62-bb46-e5347a66ca7f",
   "metadata": {},
   "source": [
    "# ML Configuration"
   ]
  },
  {
   "cell_type": "markdown",
   "id": "178466df-e985-479a-9145-0240f6bcd2b0",
   "metadata": {},
   "source": [
    "- Org 데이터를 포함할 지를 살펴봅니다.\n",
    "\n",
    "- Calories_Log를 사용하고, 이를 검증하기 위해서 설정했던, LGBMClassifer n_estimators = 700 으로 성능을 비교해봅니다."
   ]
  },
  {
   "cell_type": "code",
   "execution_count": 61,
   "id": "44059e4a-cef9-48ce-b563-eebf4ce46375",
   "metadata": {},
   "outputs": [
    {
     "data": {
      "text/plain": [
       "array([-0.06028604, -0.0613832 , -0.05933871, -0.06113434])"
      ]
     },
     "execution_count": 61,
     "metadata": {},
     "output_type": "execute_result"
    }
   ],
   "source": [
    "from sklearn.model_selection import KFold, cross_val_score\n",
    "kf = KFold(4, random_state = 123, shuffle = True)\n",
    "X_cat = ['Sex']\n",
    "X_num = ['Age', 'Height', 'Weight', 'Duration', 'Heart_Rate', 'Body_Temp']\n",
    "X_all = X_cat + X_num\n",
    "target = 'Calories_Log'\n",
    "result = cross_val_score(\n",
    "    lgb.LGBMRegressor(n_estimators = 700), df_train[X_all], df_train[target], cv = kf, \n",
    "    params = {'categorical_feature': ['Sex']}, scoring = 'neg_root_mean_squared_error')\n",
    "result"
   ]
  },
  {
   "cell_type": "code",
   "execution_count": 68,
   "id": "2b544936-9832-4f6b-b64f-0e6b90ad765d",
   "metadata": {},
   "outputs": [],
   "source": [
    "df_org = df_org.rename(columns = {'Gender': 'Sex'}).assign(\n",
    "    Calories_Log = lambda x: np.log(x['Calories'])\n",
    ")"
   ]
  },
  {
   "cell_type": "code",
   "execution_count": 69,
   "id": "7cd229b2-5d16-485d-8924-5920ae44ab9e",
   "metadata": {},
   "outputs": [
    {
     "data": {
      "text/plain": [
       "[0.060461383548048954,\n",
       " 0.06140324584199924,\n",
       " 0.059401099122018415,\n",
       " 0.06121519282515802]"
      ]
     },
     "execution_count": 69,
     "metadata": {},
     "output_type": "execute_result"
    }
   ],
   "source": [
    "from sklearn.metrics import root_mean_squared_error\n",
    "reg_lgb = lgb.LGBMRegressor(n_estimators = 700)\n",
    "rmse_oof = list()\n",
    "for train_idx, valid_idx in kf.split(df_train[X_all], df_train):\n",
    "    df_cv_train = pd.concat([\n",
    "        df_train.iloc[train_idx], \n",
    "        df_org\n",
    "    ])\n",
    "    reg_lgb.fit(df_cv_train[X_all], df_cv_train[target], categorical_feature = ['Sex'])\n",
    "    df_valid = df_train.iloc[valid_idx]\n",
    "    rmse_oof.append(\n",
    "        root_mean_squared_error(df_valid[target], reg_lgb.predict(df_valid[X_all]))\n",
    "    )\n",
    "rmse_oof"
   ]
  },
  {
   "cell_type": "markdown",
   "id": "8abc4821-6f4e-4f28-aa4e-8f25fee8e1a5",
   "metadata": {},
   "source": [
    "- 성능에는 큰 개선 효과는 보이지 않아 포함시키지 않습니다."
   ]
  },
  {
   "cell_type": "code",
   "execution_count": 85,
   "id": "e758e728-0132-4191-b2a5-735d61f41f43",
   "metadata": {},
   "outputs": [],
   "source": [
    "from sklearn.metrics import root_mean_squared_error\n",
    "from sklearn.model_selection import train_test_split, KFold, ShuffleSplit\n",
    "\n",
    "kf = KFold(4, random_state = 123, shuffle = True)\n",
    "ss = ShuffleSplit(1, random_state = 123)\n",
    "\n",
    "def get_validation_splitter(validation_fraction):\n",
    "    return lambda x: train_test_split(x, test_size = validation_fraction)\n",
    "\n",
    "config = {\n",
    "    'predict_func': lambda m, df, X: pd.Series(m.predict_proba(df[X])[:, 1], index = df.index),\n",
    "    'score_func': lambda df, prds: roc_auc_score(df[target], prds),\n",
    "    'validation_splitter': get_validation_splitter,\n",
    "    'progress_callback': sgml.ProgressCallBack(), \n",
    "    'return_train_scores': True,\n",
    "    'y': target,\n",
    "}"
   ]
  },
  {
   "cell_type": "markdown",
   "id": "ac55afc6-df40-4155-bc8b-eddb035e352d",
   "metadata": {},
   "source": [
    "# 상관도 분석"
   ]
  },
  {
   "cell_type": "markdown",
   "id": "15d74f61-b6f6-4585-9d88-7c06692bb001",
   "metadata": {},
   "source": []
  },
  {
   "cell_type": "code",
   "execution_count": null,
   "id": "e0fa7407-a4f1-466b-ad38-e6e7adb0fd5c",
   "metadata": {},
   "outputs": [],
   "source": [
    "kruskal(df_train.groupby('Sex')['Calories_Log].agg(list)"
   ]
  }
 ],
 "metadata": {
  "kernelspec": {
   "display_name": "Python 3 (ipykernel)",
   "language": "python",
   "name": "python3"
  },
  "language_info": {
   "codemirror_mode": {
    "name": "ipython",
    "version": 3
   },
   "file_extension": ".py",
   "mimetype": "text/x-python",
   "name": "python",
   "nbconvert_exporter": "python",
   "pygments_lexer": "ipython3",
   "version": "3.12.9"
  }
 },
 "nbformat": 4,
 "nbformat_minor": 5
}
