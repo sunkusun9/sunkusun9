{
 "cells": [
  {
   "cell_type": "code",
   "execution_count": 1,
   "id": "47a9b07d-3f0a-4cfc-b12a-714264546149",
   "metadata": {},
   "outputs": [],
   "source": [
    "import os"
   ]
  },
  {
   "cell_type": "markdown",
   "id": "6e3c2afe-1ab8-46c8-8fb8-0517123ab8df",
   "metadata": {},
   "source": [
    "# Data Download"
   ]
  },
  {
   "cell_type": "code",
   "execution_count": 2,
   "id": "3ee49ab0-9e66-4624-b838-7c84d8c189f6",
   "metadata": {},
   "outputs": [],
   "source": [
    "# 결과물을 저장할 폴더를 만듭니다.\n",
    "path = ['data', 'model', 'result', 'img']\n",
    "for i in path:\n",
    "    if not os.path.exists(i):\n",
    "        os.mkdir(i)"
   ]
  },
  {
   "cell_type": "code",
   "execution_count": null,
   "id": "0ee87a23-23d0-42ae-b334-5987dc063cd5",
   "metadata": {},
   "outputs": [],
   "source": [
    "if not os.path.exist('data/train.csv'):\n",
    "    !kaggle competitions download -c playground-series-s5e5\n",
    "    !unzip playground-series-s5e5.zip -d data\n",
    "    !rm playground-series-s5e5.zip\n",
    "    !kaggle datasets download ruchikakumbhar/calories-burnt-prediction\n",
    "    !unzip archive.zip -d data\n",
    "    !rm archive.zip"
   ]
  },
  {
   "cell_type": "code",
   "execution_count": 60,
   "id": "e07731ce-29fd-46cb-9bb0-47e5d5960898",
   "metadata": {},
   "outputs": [],
   "source": [
    "import sgml, sgpp, dproc, sgutil\n",
    "\n",
    "import polars as pl\n",
    "import pandas as pd\n",
    "import numpy as np\n",
    "import matplotlib as mpl\n",
    "import matplotlib.pyplot as plt\n",
    "import seaborn as sns\n",
    "import lightgbm as lgb\n",
    "\n",
    "sc = sgutil.SGCache('img', 'result', 'model')"
   ]
  },
  {
   "cell_type": "code",
   "execution_count": 62,
   "id": "55cf9360-cf1e-4234-871a-8f89c0a48dc7",
   "metadata": {},
   "outputs": [],
   "source": [
    "from sklearn.pipeline import make_pipeline\n",
    "from sklearn.model_selection import cross_validate, StratifiedShuffleSplit, ShuffleSplit"
   ]
  },
  {
   "cell_type": "markdown",
   "id": "31edee92-c7c4-4f02-9394-996c4a638cec",
   "metadata": {},
   "source": [
    "# Data processing\n",
    "\n",
    "**Task**\n",
    "\n",
    "- Train / Test / Org 데이터를 불러오는 루틴 디자인합니다.\n",
    "- Calories를 Log 변환하고 이 변수를 Calories_Log로 합니다."
   ]
  },
  {
   "cell_type": "code",
   "execution_count": 78,
   "id": "ede76679-07e8-42ed-9dd9-7b40c7ee9036",
   "metadata": {},
   "outputs": [
    {
     "data": {
      "text/html": [
       "<div>\n",
       "<style scoped>\n",
       "    .dataframe tbody tr th:only-of-type {\n",
       "        vertical-align: middle;\n",
       "    }\n",
       "\n",
       "    .dataframe tbody tr th {\n",
       "        vertical-align: top;\n",
       "    }\n",
       "\n",
       "    .dataframe thead th {\n",
       "        text-align: right;\n",
       "    }\n",
       "</style>\n",
       "<table border=\"1\" class=\"dataframe\">\n",
       "  <thead>\n",
       "    <tr style=\"text-align: right;\">\n",
       "      <th></th>\n",
       "      <th>Sex</th>\n",
       "      <th>Age</th>\n",
       "      <th>Height</th>\n",
       "      <th>Weight</th>\n",
       "      <th>Duration</th>\n",
       "      <th>Heart_Rate</th>\n",
       "      <th>Body_Temp</th>\n",
       "      <th>Calories</th>\n",
       "      <th>Calories_Log</th>\n",
       "    </tr>\n",
       "    <tr>\n",
       "      <th>id</th>\n",
       "      <th></th>\n",
       "      <th></th>\n",
       "      <th></th>\n",
       "      <th></th>\n",
       "      <th></th>\n",
       "      <th></th>\n",
       "      <th></th>\n",
       "      <th></th>\n",
       "      <th></th>\n",
       "    </tr>\n",
       "  </thead>\n",
       "  <tbody>\n",
       "    <tr>\n",
       "      <th>0</th>\n",
       "      <td>male</td>\n",
       "      <td>36</td>\n",
       "      <td>189.0</td>\n",
       "      <td>82.0</td>\n",
       "      <td>26.0</td>\n",
       "      <td>101.0</td>\n",
       "      <td>41.000000</td>\n",
       "      <td>150.0</td>\n",
       "      <td>5.017280</td>\n",
       "    </tr>\n",
       "    <tr>\n",
       "      <th>1</th>\n",
       "      <td>female</td>\n",
       "      <td>64</td>\n",
       "      <td>163.0</td>\n",
       "      <td>60.0</td>\n",
       "      <td>8.0</td>\n",
       "      <td>85.0</td>\n",
       "      <td>39.700001</td>\n",
       "      <td>34.0</td>\n",
       "      <td>3.555348</td>\n",
       "    </tr>\n",
       "    <tr>\n",
       "      <th>2</th>\n",
       "      <td>female</td>\n",
       "      <td>51</td>\n",
       "      <td>161.0</td>\n",
       "      <td>64.0</td>\n",
       "      <td>7.0</td>\n",
       "      <td>84.0</td>\n",
       "      <td>39.799999</td>\n",
       "      <td>29.0</td>\n",
       "      <td>3.401197</td>\n",
       "    </tr>\n",
       "    <tr>\n",
       "      <th>3</th>\n",
       "      <td>male</td>\n",
       "      <td>20</td>\n",
       "      <td>192.0</td>\n",
       "      <td>90.0</td>\n",
       "      <td>25.0</td>\n",
       "      <td>105.0</td>\n",
       "      <td>40.700001</td>\n",
       "      <td>140.0</td>\n",
       "      <td>4.948760</td>\n",
       "    </tr>\n",
       "    <tr>\n",
       "      <th>4</th>\n",
       "      <td>female</td>\n",
       "      <td>38</td>\n",
       "      <td>166.0</td>\n",
       "      <td>61.0</td>\n",
       "      <td>25.0</td>\n",
       "      <td>102.0</td>\n",
       "      <td>40.599998</td>\n",
       "      <td>146.0</td>\n",
       "      <td>4.990433</td>\n",
       "    </tr>\n",
       "  </tbody>\n",
       "</table>\n",
       "</div>"
      ],
      "text/plain": [
       "       Sex  Age  Height  Weight  Duration  Heart_Rate  Body_Temp  Calories  \\\n",
       "id                                                                           \n",
       "0     male   36   189.0    82.0      26.0       101.0  41.000000     150.0   \n",
       "1   female   64   163.0    60.0       8.0        85.0  39.700001      34.0   \n",
       "2   female   51   161.0    64.0       7.0        84.0  39.799999      29.0   \n",
       "3     male   20   192.0    90.0      25.0       105.0  40.700001     140.0   \n",
       "4   female   38   166.0    61.0      25.0       102.0  40.599998     146.0   \n",
       "\n",
       "    Calories_Log  \n",
       "id                \n",
       "0       5.017280  \n",
       "1       3.555348  \n",
       "2       3.401197  \n",
       "3       4.948760  \n",
       "4       4.990433  "
      ]
     },
     "execution_count": 78,
     "metadata": {},
     "output_type": "execute_result"
    }
   ],
   "source": [
    "p = make_pipeline(\n",
    "    sgpp.PolarsProcessor(),\n",
    "    sgpp.PandasConverter(index_col = 'id')\n",
    ")\n",
    "df_train = p.fit_transform(['data/train.csv']).assign(\n",
    "    Calories_Log = lambda x: np.log(x['Calories'] + 1)\n",
    ")\n",
    "df_train.head()"
   ]
  },
  {
   "cell_type": "markdown",
   "id": "6500ea0c-6c9c-41bf-9a0b-63dfde9cb220",
   "metadata": {},
   "source": [
    "- 테스트 데이터를 불러 옵니다."
   ]
  },
  {
   "cell_type": "code",
   "execution_count": 19,
   "id": "f42e86e8-11fe-4a39-8d26-dd2777eb7412",
   "metadata": {},
   "outputs": [
    {
     "data": {
      "text/html": [
       "<div>\n",
       "<style scoped>\n",
       "    .dataframe tbody tr th:only-of-type {\n",
       "        vertical-align: middle;\n",
       "    }\n",
       "\n",
       "    .dataframe tbody tr th {\n",
       "        vertical-align: top;\n",
       "    }\n",
       "\n",
       "    .dataframe thead th {\n",
       "        text-align: right;\n",
       "    }\n",
       "</style>\n",
       "<table border=\"1\" class=\"dataframe\">\n",
       "  <thead>\n",
       "    <tr style=\"text-align: right;\">\n",
       "      <th></th>\n",
       "      <th>Sex</th>\n",
       "      <th>Age</th>\n",
       "      <th>Height</th>\n",
       "      <th>Weight</th>\n",
       "      <th>Duration</th>\n",
       "      <th>Heart_Rate</th>\n",
       "      <th>Body_Temp</th>\n",
       "    </tr>\n",
       "    <tr>\n",
       "      <th>id</th>\n",
       "      <th></th>\n",
       "      <th></th>\n",
       "      <th></th>\n",
       "      <th></th>\n",
       "      <th></th>\n",
       "      <th></th>\n",
       "      <th></th>\n",
       "    </tr>\n",
       "  </thead>\n",
       "  <tbody>\n",
       "    <tr>\n",
       "      <th>750000</th>\n",
       "      <td>male</td>\n",
       "      <td>45</td>\n",
       "      <td>177.0</td>\n",
       "      <td>81.0</td>\n",
       "      <td>7.0</td>\n",
       "      <td>87.0</td>\n",
       "      <td>39.799999</td>\n",
       "    </tr>\n",
       "    <tr>\n",
       "      <th>750001</th>\n",
       "      <td>male</td>\n",
       "      <td>26</td>\n",
       "      <td>200.0</td>\n",
       "      <td>97.0</td>\n",
       "      <td>20.0</td>\n",
       "      <td>101.0</td>\n",
       "      <td>40.500000</td>\n",
       "    </tr>\n",
       "    <tr>\n",
       "      <th>750002</th>\n",
       "      <td>female</td>\n",
       "      <td>29</td>\n",
       "      <td>188.0</td>\n",
       "      <td>85.0</td>\n",
       "      <td>16.0</td>\n",
       "      <td>102.0</td>\n",
       "      <td>40.400002</td>\n",
       "    </tr>\n",
       "    <tr>\n",
       "      <th>750003</th>\n",
       "      <td>female</td>\n",
       "      <td>39</td>\n",
       "      <td>172.0</td>\n",
       "      <td>73.0</td>\n",
       "      <td>20.0</td>\n",
       "      <td>107.0</td>\n",
       "      <td>40.599998</td>\n",
       "    </tr>\n",
       "    <tr>\n",
       "      <th>750004</th>\n",
       "      <td>female</td>\n",
       "      <td>30</td>\n",
       "      <td>173.0</td>\n",
       "      <td>67.0</td>\n",
       "      <td>16.0</td>\n",
       "      <td>94.0</td>\n",
       "      <td>40.500000</td>\n",
       "    </tr>\n",
       "  </tbody>\n",
       "</table>\n",
       "</div>"
      ],
      "text/plain": [
       "           Sex  Age  Height  Weight  Duration  Heart_Rate  Body_Temp\n",
       "id                                                                  \n",
       "750000    male   45   177.0    81.0       7.0        87.0  39.799999\n",
       "750001    male   26   200.0    97.0      20.0       101.0  40.500000\n",
       "750002  female   29   188.0    85.0      16.0       102.0  40.400002\n",
       "750003  female   39   172.0    73.0      20.0       107.0  40.599998\n",
       "750004  female   30   173.0    67.0      16.0        94.0  40.500000"
      ]
     },
     "execution_count": 19,
     "metadata": {},
     "output_type": "execute_result"
    }
   ],
   "source": [
    "df_test = p.transform(['data/test.csv'])\n",
    "df_test.head()"
   ]
  },
  {
   "cell_type": "markdown",
   "id": "ee46eaf8-3d84-490b-9f38-f92e13e3ce26",
   "metadata": {},
   "source": [
    "- 원본 데이터를 불러 옵니다."
   ]
  },
  {
   "cell_type": "code",
   "execution_count": 21,
   "id": "1ac092ae-f8ca-492e-865f-f461484853f9",
   "metadata": {},
   "outputs": [
    {
     "data": {
      "text/html": [
       "<div>\n",
       "<style scoped>\n",
       "    .dataframe tbody tr th:only-of-type {\n",
       "        vertical-align: middle;\n",
       "    }\n",
       "\n",
       "    .dataframe tbody tr th {\n",
       "        vertical-align: top;\n",
       "    }\n",
       "\n",
       "    .dataframe thead th {\n",
       "        text-align: right;\n",
       "    }\n",
       "</style>\n",
       "<table border=\"1\" class=\"dataframe\">\n",
       "  <thead>\n",
       "    <tr style=\"text-align: right;\">\n",
       "      <th></th>\n",
       "      <th>Gender</th>\n",
       "      <th>Age</th>\n",
       "      <th>Height</th>\n",
       "      <th>Weight</th>\n",
       "      <th>Duration</th>\n",
       "      <th>Heart_Rate</th>\n",
       "      <th>Body_Temp</th>\n",
       "      <th>Calories</th>\n",
       "    </tr>\n",
       "  </thead>\n",
       "  <tbody>\n",
       "    <tr>\n",
       "      <th>-1</th>\n",
       "      <td>male</td>\n",
       "      <td>68</td>\n",
       "      <td>190.0</td>\n",
       "      <td>94.0</td>\n",
       "      <td>29.0</td>\n",
       "      <td>105.0</td>\n",
       "      <td>40.799999</td>\n",
       "      <td>231.0</td>\n",
       "    </tr>\n",
       "    <tr>\n",
       "      <th>-2</th>\n",
       "      <td>female</td>\n",
       "      <td>20</td>\n",
       "      <td>166.0</td>\n",
       "      <td>60.0</td>\n",
       "      <td>14.0</td>\n",
       "      <td>94.0</td>\n",
       "      <td>40.299999</td>\n",
       "      <td>66.0</td>\n",
       "    </tr>\n",
       "    <tr>\n",
       "      <th>-3</th>\n",
       "      <td>male</td>\n",
       "      <td>69</td>\n",
       "      <td>179.0</td>\n",
       "      <td>79.0</td>\n",
       "      <td>5.0</td>\n",
       "      <td>88.0</td>\n",
       "      <td>38.700001</td>\n",
       "      <td>26.0</td>\n",
       "    </tr>\n",
       "    <tr>\n",
       "      <th>-4</th>\n",
       "      <td>female</td>\n",
       "      <td>34</td>\n",
       "      <td>179.0</td>\n",
       "      <td>71.0</td>\n",
       "      <td>13.0</td>\n",
       "      <td>100.0</td>\n",
       "      <td>40.500000</td>\n",
       "      <td>71.0</td>\n",
       "    </tr>\n",
       "    <tr>\n",
       "      <th>-5</th>\n",
       "      <td>female</td>\n",
       "      <td>27</td>\n",
       "      <td>154.0</td>\n",
       "      <td>58.0</td>\n",
       "      <td>10.0</td>\n",
       "      <td>81.0</td>\n",
       "      <td>39.799999</td>\n",
       "      <td>35.0</td>\n",
       "    </tr>\n",
       "  </tbody>\n",
       "</table>\n",
       "</div>"
      ],
      "text/plain": [
       "    Gender  Age  Height  Weight  Duration  Heart_Rate  Body_Temp  Calories\n",
       "-1    male   68   190.0    94.0      29.0       105.0  40.799999     231.0\n",
       "-2  female   20   166.0    60.0      14.0        94.0  40.299999      66.0\n",
       "-3    male   69   179.0    79.0       5.0        88.0  38.700001      26.0\n",
       "-4  female   34   179.0    71.0      13.0       100.0  40.500000      71.0\n",
       "-5  female   27   154.0    58.0      10.0        81.0  39.799999      35.0"
      ]
     },
     "execution_count": 21,
     "metadata": {},
     "output_type": "execute_result"
    }
   ],
   "source": [
    "p_org = make_pipeline(\n",
    "    sgpp.PolarsProcessor(),\n",
    "    sgpp.PandasConverter(index_col = 'User_ID')\n",
    ")\n",
    "df_org = p_org.fit_transform(['data/calories.csv']).reset_index(drop=True).pipe(\n",
    "    lambda x: x.set_index(-(x.index + 1))\n",
    ")\n",
    "df_org.head()"
   ]
  },
  {
   "cell_type": "code",
   "execution_count": 23,
   "id": "b938b539-bf8d-4c5d-a019-d45893dc2078",
   "metadata": {},
   "outputs": [
    {
     "name": "stdout",
     "output_type": "stream",
     "text": [
      "<class 'pandas.core.frame.DataFrame'>\n",
      "Index: 750000 entries, 0 to 749999\n",
      "Data columns (total 9 columns):\n",
      " #   Column        Non-Null Count   Dtype   \n",
      "---  ------        --------------   -----   \n",
      " 0   Sex           750000 non-null  category\n",
      " 1   Age           750000 non-null  int8    \n",
      " 2   Height        750000 non-null  float32 \n",
      " 3   Weight        750000 non-null  float32 \n",
      " 4   Duration      750000 non-null  float32 \n",
      " 5   Heart_Rate    750000 non-null  float32 \n",
      " 6   Body_Temp     750000 non-null  float32 \n",
      " 7   Calories      750000 non-null  float32 \n",
      " 8   Calories_Log  750000 non-null  float32 \n",
      "dtypes: category(1), float32(7), int8(1)\n",
      "memory usage: 24.3 MB\n"
     ]
    }
   ],
   "source": [
    "df_train.info()"
   ]
  },
  {
   "cell_type": "code",
   "execution_count": 24,
   "id": "d0bbca4f-cbe9-4a27-8793-6bc371259cf0",
   "metadata": {},
   "outputs": [
    {
     "name": "stdout",
     "output_type": "stream",
     "text": [
      "<class 'pandas.core.frame.DataFrame'>\n",
      "Index: 250000 entries, 750000 to 999999\n",
      "Data columns (total 7 columns):\n",
      " #   Column      Non-Null Count   Dtype   \n",
      "---  ------      --------------   -----   \n",
      " 0   Sex         250000 non-null  category\n",
      " 1   Age         250000 non-null  int8    \n",
      " 2   Height      250000 non-null  float32 \n",
      " 3   Weight      250000 non-null  float32 \n",
      " 4   Duration    250000 non-null  float32 \n",
      " 5   Heart_Rate  250000 non-null  float32 \n",
      " 6   Body_Temp   250000 non-null  float32 \n",
      "dtypes: category(1), float32(5), int8(1)\n",
      "memory usage: 6.2 MB\n"
     ]
    }
   ],
   "source": [
    "df_test.info()"
   ]
  },
  {
   "cell_type": "code",
   "execution_count": 25,
   "id": "ed218e7c-5451-45e7-a52d-21486f4f0dbb",
   "metadata": {},
   "outputs": [
    {
     "name": "stdout",
     "output_type": "stream",
     "text": [
      "<class 'pandas.core.frame.DataFrame'>\n",
      "Index: 15000 entries, -1 to -15000\n",
      "Data columns (total 8 columns):\n",
      " #   Column      Non-Null Count  Dtype   \n",
      "---  ------      --------------  -----   \n",
      " 0   Gender      15000 non-null  category\n",
      " 1   Age         15000 non-null  int8    \n",
      " 2   Height      15000 non-null  float32 \n",
      " 3   Weight      15000 non-null  float32 \n",
      " 4   Duration    15000 non-null  float32 \n",
      " 5   Heart_Rate  15000 non-null  float32 \n",
      " 6   Body_Temp   15000 non-null  float32 \n",
      " 7   Calories    15000 non-null  float32 \n",
      "dtypes: category(1), float32(6), int8(1)\n",
      "memory usage: 498.2 KB\n"
     ]
    }
   ],
   "source": [
    "df_org.info()"
   ]
  },
  {
   "cell_type": "markdown",
   "id": "eb8e49d8-5e37-47f7-893a-53af13737bcc",
   "metadata": {},
   "source": [
    "# Train / Test의 유사도 파악\n",
    "\n",
    "- Train / Test 를 분류하는 모델을 만들어 구분 성능을 측정하여 유사 정도를 파악합니다.\n"
   ]
  },
  {
   "cell_type": "code",
   "execution_count": 33,
   "id": "10480c8b-8eed-4abc-b3c8-c734cf2a879c",
   "metadata": {},
   "outputs": [
    {
     "data": {
      "text/plain": [
       "{'fit_time': array([0.61764073]),\n",
       " 'score_time': array([0.08061099]),\n",
       " 'estimator': [LGBMClassifier()],\n",
       " 'test_score': array([0.49942446]),\n",
       " 'train_score': array([0.54469618])}"
      ]
     },
     "execution_count": 33,
     "metadata": {},
     "output_type": "execute_result"
    }
   ],
   "source": [
    "X = ['Sex', 'Age', 'Height', 'Weight', 'Duration', 'Heart_Rate', 'Body_Temp'] \n",
    "X_cat = ['Sex']\n",
    "\n",
    "result = pd.concat([\n",
    "    df_train[X].assign(is_train = True), \n",
    "    df_test[X].assign(is_train = False)\n",
    "], axis = 0).pipe(\n",
    "    lambda x: cross_validate(\n",
    "        lgb.LGBMClassifier(verbose = 0), x[X], x['is_train'], scoring = 'roc_auc', \n",
    "        cv = StratifiedShuffleSplit(n_splits = 1, train_size = 0.8, random_state = 1234), params = {'categorical_feature': X_cat},\n",
    "        return_train_score = True, return_estimator = True\n",
    "    )\n",
    ")\n",
    "\n",
    "result"
   ]
  },
  {
   "cell_type": "markdown",
   "id": "eab1c7a4-486f-4e7a-8cb0-6a7b05f6dc09",
   "metadata": {},
   "source": [
    "- Train / Test 의 구분이 용이하지 않습니다. 따라서 차이가 없다고 판단됩니다."
   ]
  },
  {
   "cell_type": "markdown",
   "id": "62e1547a-eaed-46b0-a630-20f9c0696a75",
   "metadata": {},
   "source": [
    "# Org 와  Train/Test의 유사도 파악\n",
    "\n",
    "## Test와의 유사도\n",
    "\n",
    "- Org와 Test의 유사도를 파악하여 Org가 유효할 수 있을지 파악합니다."
   ]
  },
  {
   "cell_type": "code",
   "execution_count": 48,
   "id": "98f999ab-1a82-4f2e-bcd0-5189bd365b58",
   "metadata": {},
   "outputs": [
    {
     "data": {
      "text/plain": [
       "{'fit_time': array([0.20285726]),\n",
       " 'score_time': array([0.03535604]),\n",
       " 'estimator': [LGBMClassifier(verbose=0)],\n",
       " 'test_score': array([0.62949556]),\n",
       " 'train_score': array([0.6932698])}"
      ]
     },
     "execution_count": 48,
     "metadata": {},
     "output_type": "execute_result"
    }
   ],
   "source": [
    "X = ['Sex', 'Age', 'Height', 'Weight', 'Duration', 'Heart_Rate', 'Body_Temp'] \n",
    "result = pd.concat([\n",
    "    df_org.rename(\n",
    "        columns = {'Gender': 'Sex'}\n",
    "    )[X].assign(is_org = True), \n",
    "    df_test[X].assign(is_org = False)\n",
    "], axis = 0).pipe(\n",
    "    lambda x: cross_validate(\n",
    "        lgb.LGBMClassifier(verbose = 0), x[X], x['is_org'], scoring = 'roc_auc', \n",
    "        cv = StratifiedShuffleSplit(n_splits = 1, train_size = 0.8, random_state = 1234), params = {'categorical_feature': X_cat},\n",
    "        return_train_score = True, return_estimator = True\n",
    "    )\n",
    ")\n",
    "result"
   ]
  },
  {
   "cell_type": "code",
   "execution_count": 49,
   "id": "39b3da15-b4ca-4975-bd62-68703a75f3fd",
   "metadata": {},
   "outputs": [
    {
     "data": {
      "text/plain": [
       "Sex            54\n",
       "Age           542\n",
       "Height        538\n",
       "Weight        553\n",
       "Duration      371\n",
       "Heart_Rate    484\n",
       "Body_Temp     458\n",
       "dtype: int32"
      ]
     },
     "execution_count": 49,
     "metadata": {},
     "output_type": "execute_result"
    }
   ],
   "source": [
    "pd.Series(\n",
    "    result['estimator'][0].feature_importances_, index = X\n",
    ")"
   ]
  },
  {
   "cell_type": "markdown",
   "id": "ac6cfdd9-e6bb-4be9-9037-18a92b937e21",
   "metadata": {},
   "source": [
    "## Train과의 유사도\n",
    "\n",
    "- Org / Traind의 유사도를 파악하여 Blend이 성립할지 살펴 봅니다."
   ]
  },
  {
   "cell_type": "code",
   "execution_count": 43,
   "id": "28de4483-5cc1-41dc-b1e2-09d7c28cdb82",
   "metadata": {},
   "outputs": [
    {
     "data": {
      "text/plain": [
       "{'fit_time': array([0.53866267]),\n",
       " 'score_time': array([0.09183884]),\n",
       " 'estimator': [LGBMClassifier(verbose=0)],\n",
       " 'test_score': array([0.62554941]),\n",
       " 'train_score': array([0.69409672])}"
      ]
     },
     "execution_count": 43,
     "metadata": {},
     "output_type": "execute_result"
    }
   ],
   "source": [
    "X = ['Sex', 'Age', 'Height', 'Weight', 'Duration', 'Heart_Rate', 'Body_Temp', 'Calories'] \n",
    "result = pd.concat([\n",
    "    df_org.rename(\n",
    "        columns = {'Gender': 'Sex'}\n",
    "    )[X].assign(is_org = True), \n",
    "    df_train[X].assign(is_org = False)\n",
    "], axis = 0).pipe(\n",
    "    lambda x: cross_validate(\n",
    "        lgb.LGBMClassifier(verbose = 0), x[X], x['is_org'], scoring = 'roc_auc', \n",
    "        cv = StratifiedShuffleSplit(n_splits = 1, train_size = 0.8, random_state = 1234), params = {'categorical_feature': X_cat},\n",
    "        return_train_score = True, return_estimator = True\n",
    "    )\n",
    ")\n",
    "result"
   ]
  },
  {
   "cell_type": "code",
   "execution_count": 45,
   "id": "caf2bbb4-5443-496a-899f-0e50726633e2",
   "metadata": {},
   "outputs": [
    {
     "data": {
      "text/plain": [
       "Sex            43\n",
       "Age           524\n",
       "Height        493\n",
       "Weight        502\n",
       "Duration      195\n",
       "Heart_Rate    393\n",
       "Body_Temp     392\n",
       "Calories      458\n",
       "dtype: int32"
      ]
     },
     "execution_count": 45,
     "metadata": {},
     "output_type": "execute_result"
    }
   ],
   "source": [
    "pd.Series(\n",
    "    result['estimator'][0].feature_importances_, index = X\n",
    ")"
   ]
  },
  {
   "cell_type": "markdown",
   "id": "1e4aca22-ab16-48be-9a33-f449be4ee7f1",
   "metadata": {},
   "source": [
    "# Target: Calories"
   ]
  },
  {
   "cell_type": "code",
   "execution_count": 52,
   "id": "f06922d3-272d-44f2-b579-4d1be7564896",
   "metadata": {},
   "outputs": [
    {
     "data": {
      "text/plain": [
       "count    750000.000000\n",
       "mean         88.282791\n",
       "std          62.395351\n",
       "min           1.000000\n",
       "25%          34.000000\n",
       "50%          77.000000\n",
       "75%         136.000000\n",
       "max         314.000000\n",
       "Name: Calories, dtype: float64"
      ]
     },
     "execution_count": 52,
     "metadata": {},
     "output_type": "execute_result"
    }
   ],
   "source": [
    "df_train['Calories'].describe()"
   ]
  },
  {
   "cell_type": "markdown",
   "id": "a5025fd8-89f5-4fc1-886c-fb5be14a2ea3",
   "metadata": {},
   "source": [
    "- 정수로 보입니다. 확인해 보겠습니다."
   ]
  },
  {
   "cell_type": "code",
   "execution_count": 59,
   "id": "caaea2c4-3a2b-437f-b6a2-c1bd0657f302",
   "metadata": {},
   "outputs": [
    {
     "data": {
      "text/plain": [
       "Calories\n",
       "0.0    750000\n",
       "Name: count, dtype: int64"
      ]
     },
     "execution_count": 59,
     "metadata": {},
     "output_type": "execute_result"
    }
   ],
   "source": [
    "(df_train['Calories'] - df_train['Calories'].astype('int')).value_counts()"
   ]
  },
  {
   "cell_type": "markdown",
   "id": "e3b069d7-3c98-492e-9a66-788541f12aa2",
   "metadata": {},
   "source": [
    "- 최소값 1 이므로 log를 그대로 적용해도 무방했습니다."
   ]
  },
  {
   "cell_type": "code",
   "execution_count": 79,
   "id": "d552b6f6-157d-43cd-8a09-5132db735df2",
   "metadata": {},
   "outputs": [
    {
     "data": {
      "image/png": "[encoded data removed]",
      "text/plain": [
       "<Figure size 1600x300 with 2 Axes>"
      ]
     },
     "metadata": {},
     "output_type": "display_data"
    }
   ],
   "source": [
    "fig, axes = plt.subplots(1, 2, figsize = (16, 3))\n",
    "sns.histplot(df_train, x = 'Calories', ax = axes[0])\n",
    "sns.histplot(df_train, x = 'Calories_Log', ax = axes[1])\n",
    "plt.tight_layout()\n",
    "plt.show()"
   ]
  },
  {
   "cell_type": "markdown",
   "id": "d4c9f3af-b1a0-4fc9-b2ab-cc88339afce1",
   "metadata": {},
   "source": [
    "- Calories는 좌측으로 치우친 분포를 하고 있습니다.\n",
    "\n",
    "- Calories_log는 4개 ~ 4개의 봉우리가 있습니다. 봉우리에 관련된 요인을 찾는 것이 도움이 될 수 있으리라 생각됩니다. "
   ]
  },
  {
   "cell_type": "markdown",
   "id": "bd464686-d71f-4b8f-a18d-185ccf608cf1",
   "metadata": {},
   "source": [
    "## Calories vs Calories_Log\n",
    "\n",
    "- LGBMRegressor 심플하게 만들고 Shuffle Split Train size 0.8로 잡아 1회 검증을 통해 결과의 차이를 비교합니다."
   ]
  },
  {
   "cell_type": "code",
   "execution_count": 72,
   "id": "b03cb330-c79f-4ec8-878b-ad5c62731849",
   "metadata": {},
   "outputs": [
    {
     "data": {
      "text/plain": [
       "{'fit_time': array([2.32884884]),\n",
       " 'score_time': array([0.65864682]),\n",
       " 'estimator': [LGBMRegressor(n_estimators=700, verbose=0)],\n",
       " 'test_score': array([-0.06283713]),\n",
       " 'train_score': array([-0.06006336])}"
      ]
     },
     "execution_count": 72,
     "metadata": {},
     "output_type": "execute_result"
    }
   ],
   "source": [
    "X = ['Sex', 'Age', 'Height', 'Weight', 'Duration', 'Heart_Rate', 'Body_Temp'] \n",
    "result = cross_validate(\n",
    "    lgb.LGBMRegressor(verbose = 0, n_estimators = 700), df_train[X], df_train['Calories'], scoring = 'neg_root_mean_squared_log_error', \n",
    "    cv = ShuffleSplit(n_splits = 1, train_size = 0.8, random_state = 1234), params = {'categorical_feature': X_cat},\n",
    "    return_train_score = True, return_estimator = True\n",
    ")\n",
    "result"
   ]
  },
  {
   "cell_type": "code",
   "execution_count": 86,
   "id": "36b8c3a0-98ee-4187-a575-75782ddd7a3e",
   "metadata": {},
   "outputs": [
    {
     "data": {
      "text/plain": [
       "{'fit_time': array([0.66256213]),\n",
       " 'score_time': array([0.13081861]),\n",
       " 'estimator': [LGBMRegressor(n_estimators=120, verbose=0)],\n",
       " 'test_score': array([-0.06239613]),\n",
       " 'train_score': array([-0.06081547])}"
      ]
     },
     "execution_count": 86,
     "metadata": {},
     "output_type": "execute_result"
    }
   ],
   "source": [
    "X = ['Sex', 'Age', 'Height', 'Weight', 'Duration', 'Heart_Rate', 'Body_Temp'] \n",
    "result = cross_validate(\n",
    "    lgb.LGBMRegressor(verbose = 0, n_estimators = 120), df_train[X], df_train['Calories_Log'], scoring = 'neg_root_mean_squared_error', \n",
    "    cv = ShuffleSplit(n_splits = 1, train_size = 0.8, random_state = 1234), params = {'categorical_feature': X_cat},\n",
    "    return_train_score = True, return_estimator = True\n",
    ")\n",
    "result"
   ]
  },
  {
   "cell_type": "code",
   "execution_count": 87,
   "id": "349e60d8-4b7e-42c7-aba4-dc92c4485927",
   "metadata": {},
   "outputs": [
    {
     "data": {
      "text/plain": [
       "{'fit_time': array([2.2828002]),\n",
       " 'score_time': array([0.66662002]),\n",
       " 'estimator': [LGBMRegressor(n_estimators=700, verbose=0)],\n",
       " 'test_score': array([-0.06091758]),\n",
       " 'train_score': array([-0.0560343])}"
      ]
     },
     "execution_count": 87,
     "metadata": {},
     "output_type": "execute_result"
    }
   ],
   "source": [
    "X = ['Sex', 'Age', 'Height', 'Weight', 'Duration', 'Heart_Rate', 'Body_Temp'] \n",
    "result = cross_validate(\n",
    "    lgb.LGBMRegressor(verbose = 0, n_estimators = 700), df_train[X], df_train['Calories_Log'], scoring = 'neg_root_mean_squared_error', \n",
    "    cv = ShuffleSplit(n_splits = 1, train_size = 0.8, random_state = 1234), params = {'categorical_feature': X_cat},\n",
    "    return_train_score = True, return_estimator = True\n",
    ")\n",
    "result"
   ]
  },
  {
   "cell_type": "markdown",
   "id": "f605409c-a0c9-46ca-8788-2b13fcea6e46",
   "metadata": {},
   "source": [
    "- 결론: Calories_Log로 모델을 만들 때, 성능이 좋습니다. Calories를 Target으로 했을 경우, n_estimators 가  700보다 크면 과적합이 발생하기 시작한 반면,\n",
    "Calories_Log로 할 경우에는 n_estimators 가 700 이후에도 test_score 가 떨어지지 않았고 teest의 성능도 Calories를 사용했을 때 보다 때 보다 좋음을 확인할 수 있었습니다.\n",
    "- Calories_Log 만을 사용하여 모델을 만듭니다.\n"
   ]
  },
  {
   "cell_type": "code",
   "execution_count": null,
   "id": "5b59bd9c-3856-4e9d-94e2-cae36d51902f",
   "metadata": {},
   "outputs": [],
   "source": []
  }
 ],
 "metadata": {
  "kernelspec": {
   "display_name": "Python 3 (ipykernel)",
   "language": "python",
   "name": "python3"
  },
  "language_info": {
   "codemirror_mode": {
    "name": "ipython",
    "version": 3
   },
   "file_extension": ".py",
   "mimetype": "text/x-python",
   "name": "python",
   "nbconvert_exporter": "python",
   "pygments_lexer": "ipython3",
   "version": "3.12.6"
  }
 },
 "nbformat": 4,
 "nbformat_minor": 5
}
