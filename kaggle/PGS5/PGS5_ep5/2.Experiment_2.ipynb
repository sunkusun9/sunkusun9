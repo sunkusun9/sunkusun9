{
 "cells": [
  {
   "cell_type": "code",
   "execution_count": 1,
   "id": "0dcfffa6-20a6-4b47-967a-04211eeba910",
   "metadata": {},
   "outputs": [],
   "source": [
    "import sgml, sgutil, sgpp, dproc\n",
    "import pandas as pd\n",
    "import numpy as np\n",
    "import matplotlib.pyplot as plt\n",
    "import seaborn as sns\n",
    "from sklearn.metrics import root_mean_squared_error"
   ]
  },
  {
   "cell_type": "code",
   "execution_count": 2,
   "id": "c9bf4729-ca71-4f25-83f8-7a30f743b7e2",
   "metadata": {},
   "outputs": [],
   "source": [
    "from proc_v2 import p\n",
    "from ml_v1 import X_cat, X_num, X_all, target, kf, ss, config\n",
    "from ml_v1 import xgb_adapter, lgb_adapter, cb_adapter, lr_adapter"
   ]
  },
  {
   "cell_type": "code",
   "execution_count": 3,
   "id": "098fd5d7-3b72-4239-a454-34fdfdca6977",
   "metadata": {},
   "outputs": [],
   "source": [
    "sc = sgutil.SGCache('img', 'result', 'model')\n",
    "df_train = p.fit_transform(['data/train.csv']).assign(\n",
    "    Calories_Log = lambda x: np.log(x['Calories'] + 1)\n",
    ")\n",
    "df_test = p.transform(['data/test.csv'])"
   ]
  },
  {
   "cell_type": "markdown",
   "id": "161851af-ce6c-4f42-8e07-c5f38eed60ba",
   "metadata": {},
   "source": [
    "# LGB 1\n",
    "\n",
    "- Duration 대신에 Duration_log를 사용하고 나머지 변수를 넣습니다."
   ]
  },
  {
   "cell_type": "code",
   "execution_count": 26,
   "id": "3e80d56a-426c-4919-8823-34bffb71c6e4",
   "metadata": {},
   "outputs": [
    {
     "data": {
      "application/vnd.jupyter.widget-view+json": {
       "model_id": "",
       "version_major": 2,
       "version_minor": 0
      },
      "text/plain": [
       "Fold:   0%|          | 0/4 [00:00<?, ?it/s]"
      ]
     },
     "metadata": {},
     "output_type": "display_data"
    },
    {
     "data": {
      "text/plain": [
       "(np.float64(0.06018180399679065),\n",
       " [np.float64(0.060033420123306855),\n",
       "  np.float64(0.06099143888982595),\n",
       "  np.float64(0.058924739577219026),\n",
       "  np.float64(0.06077761739681075)])"
      ]
     },
     "execution_count": 26,
     "metadata": {},
     "output_type": "execute_result"
    }
   ],
   "source": [
    "hparams = {\n",
    "    'model_params': {'n_estimators': 2000, 'colsample_bytree': 0.9, 'num_leaves': 63, 'learning_rate': 0.03},\n",
    "    'X_num': ['Sex', 'Age', 'Height', 'Weight', 'Duration_log', 'Heart_Rate', 'Body_Temp'], \n",
    "    #'validation_fraction': 0.1, \n",
    "}\n",
    "result = sc.cv_result('lgb1', df_train, kf, hparams, config, lgb_adapter, rerun = 0)\n",
    "np.mean(result['valid_scores']), result['valid_scores']"
   ]
  },
  {
   "cell_type": "markdown",
   "id": "aa8aeae1-b0cb-45cf-9da8-f83005022146",
   "metadata": {},
   "source": [
    "# LGB 2"
   ]
  },
  {
   "cell_type": "code",
   "execution_count": 22,
   "id": "ae321116-1b3d-464d-b840-e189aed1346c",
   "metadata": {},
   "outputs": [
    {
     "data": {
      "application/vnd.jupyter.widget-view+json": {
       "model_id": "",
       "version_major": 2,
       "version_minor": 0
      },
      "text/plain": [
       "Fold:   0%|          | 0/4 [00:00<?, ?it/s]"
      ]
     },
     "metadata": {},
     "output_type": "display_data"
    },
    {
     "data": {
      "text/plain": [
       "(np.float64(0.06020315289786632),\n",
       " [np.float64(0.060040232592896405),\n",
       "  np.float64(0.061106934418696204),\n",
       "  np.float64(0.05899023386480507),\n",
       "  np.float64(0.0606752107150676)])"
      ]
     },
     "execution_count": 22,
     "metadata": {},
     "output_type": "execute_result"
    }
   ],
   "source": [
    "hparams = {\n",
    "    'model_params': {'n_estimators': 2500, 'colsample_bytree': 0.9, 'num_leaves': 7, 'learning_rate': 0.07},\n",
    "    'X_num': ['Sex', 'Age', 'Height', 'Weight', 'Duration_log', 'Heart_Rate', 'Body_Temp'], \n",
    "    #'validation_fraction': 0.1, \n",
    "}\n",
    "result = sc.cv_result('lgb2', df_train, kf, hparams, config, lgb_adapter, rerun = 0)\n",
    "np.mean(result['valid_scores']), result['valid_scores']"
   ]
  },
  {
   "cell_type": "code",
   "execution_count": 122,
   "id": "9be66210-aa9b-49a3-9377-613d3dc66f80",
   "metadata": {},
   "outputs": [
    {
     "data": {
      "text/plain": [
       "0.05982246533502571"
      ]
     },
     "execution_count": 122,
     "metadata": {},
     "output_type": "execute_result"
    }
   ],
   "source": [
    "root_mean_squared_error(\n",
    "    df_train[target],\n",
    "    sc.read_prds(['lgb2', 'lgb1'], index = df_train.index).dot([0.5, 0.5])\n",
    ")"
   ]
  },
  {
   "cell_type": "markdown",
   "id": "66e2fb78-35af-49e1-ac7b-b1aa2f026431",
   "metadata": {},
   "source": [
    "# XGB1"
   ]
  },
  {
   "cell_type": "code",
   "execution_count": 20,
   "id": "2cedbe10-c3dd-46c3-8326-a32b63c70f8e",
   "metadata": {},
   "outputs": [
    {
     "data": {
      "application/vnd.jupyter.widget-view+json": {
       "model_id": "",
       "version_major": 2,
       "version_minor": 0
      },
      "text/plain": [
       "Fold:   0%|          | 0/4 [00:00<?, ?it/s]"
      ]
     },
     "metadata": {},
     "output_type": "display_data"
    },
    {
     "data": {
      "text/plain": [
       "(np.float32(0.060198575),\n",
       " [np.float32(0.05991964),\n",
       "  np.float32(0.061047498),\n",
       "  np.float32(0.058998078),\n",
       "  np.float32(0.060829088)])"
      ]
     },
     "execution_count": 20,
     "metadata": {},
     "output_type": "execute_result"
    }
   ],
   "source": [
    "hparams = {\n",
    "    'model_params': {'n_estimators': 2000, 'colsample_bytree': 0.85, 'learning_rate': 0.05, 'max_depth': 4},\n",
    "    'X_num': ['Sex', 'Age', 'Height', 'Weight', 'Duration_log', 'Heart_Rate', 'Body_Temp',\n",
    "              'Heart_Rate_div_Weight_sqrt'], \n",
    "    #'validation_fraction': 0.1, \n",
    "}\n",
    "result = sc.cv_result('xgb1', df_train, kf, hparams, config, xgb_adapter, rerun = 0, use_gpu = True)\n",
    "np.mean(result['valid_scores']), result['valid_scores']"
   ]
  },
  {
   "cell_type": "markdown",
   "id": "aef2b413-c277-4dbd-a037-5da71b45202e",
   "metadata": {},
   "source": [
    "# XGB2"
   ]
  },
  {
   "cell_type": "code",
   "execution_count": 46,
   "id": "24068b51-da51-4eb8-9548-75f5abbb0309",
   "metadata": {},
   "outputs": [
    {
     "data": {
      "application/vnd.jupyter.widget-view+json": {
       "model_id": "",
       "version_major": 2,
       "version_minor": 0
      },
      "text/plain": [
       "Fold:   0%|          | 0/4 [00:00<?, ?it/s]"
      ]
     },
     "metadata": {},
     "output_type": "display_data"
    },
    {
     "data": {
      "text/plain": [
       "(np.float32(0.060188733),\n",
       " [np.float32(0.059934042),\n",
       "  np.float32(0.060982246),\n",
       "  np.float32(0.05904163),\n",
       "  np.float32(0.06079701)])"
      ]
     },
     "execution_count": 46,
     "metadata": {},
     "output_type": "execute_result"
    }
   ],
   "source": [
    "hparams = {\n",
    "    'model_params': {'n_estimators': 5000, 'colsample_bytree': 0.85, 'learning_rate': 0.03, 'max_depth': 3},\n",
    "    'X_num': ['Sex', 'Age', 'Height', 'Weight', 'Duration_log', 'Heart_Rate', 'Body_Temp',\n",
    "              'Heart_Rate_div_Weight_sqrt'], \n",
    "    #'validation_fraction': 0.1, \n",
    "}\n",
    "result = sc.cv_result('xgb2', df_train, kf, hparams, config, xgb_adapter, rerun = 1, use_gpu = True)\n",
    "np.mean(result['valid_scores']), result['valid_scores']"
   ]
  },
  {
   "cell_type": "markdown",
   "id": "90088e2e-ef96-4941-98b1-0c82bf63039c",
   "metadata": {},
   "source": [
    "# CB1"
   ]
  },
  {
   "cell_type": "code",
   "execution_count": 23,
   "id": "b53aac8f-e00a-4d95-8923-352b3e7a0d8d",
   "metadata": {},
   "outputs": [
    {
     "data": {
      "application/vnd.jupyter.widget-view+json": {
       "model_id": "",
       "version_major": 2,
       "version_minor": 0
      },
      "text/plain": [
       "Fold:   0%|          | 0/4 [00:00<?, ?it/s]"
      ]
     },
     "metadata": {},
     "output_type": "display_data"
    },
    {
     "data": {
      "text/plain": [
       "(np.float64(0.05969808474501868),\n",
       " [np.float64(0.059346441384857535),\n",
       "  np.float64(0.06059677405795864),\n",
       "  np.float64(0.05848842161718217),\n",
       "  np.float64(0.06036070192007636)])"
      ]
     },
     "execution_count": 23,
     "metadata": {},
     "output_type": "execute_result"
    }
   ],
   "source": [
    "hparams = {\n",
    "    'model_params': {'max_depth': 5, 'n_estimators': 2000, 'learning_rate': 0.1}, \n",
    "    'X_num': ['Sex', 'Age', 'Height', 'Weight', 'Duration_log', 'Heart_Rate', 'Body_Temp'], \n",
    "}\n",
    "\n",
    "result = sc.cv_result('cb1', df_train, kf, hparams, config, cb_adapter, rerun = 0)\n",
    "np.mean(result['valid_scores']), result['valid_scores']"
   ]
  },
  {
   "cell_type": "markdown",
   "id": "73eb3116-2ace-4922-83b6-2cee9117f972",
   "metadata": {},
   "source": [
    "# CB2"
   ]
  },
  {
   "cell_type": "code",
   "execution_count": 24,
   "id": "d0973ba4-8af9-4601-a3a9-6755014f459b",
   "metadata": {},
   "outputs": [
    {
     "data": {
      "application/vnd.jupyter.widget-view+json": {
       "model_id": "",
       "version_major": 2,
       "version_minor": 0
      },
      "text/plain": [
       "Fold:   0%|          | 0/4 [00:00<?, ?it/s]"
      ]
     },
     "metadata": {},
     "output_type": "display_data"
    },
    {
     "data": {
      "text/plain": [
       "(np.float64(0.05974115485636679),\n",
       " [np.float64(0.05941062477285254),\n",
       "  np.float64(0.06052264736955689),\n",
       "  np.float64(0.05859811744844113),\n",
       "  np.float64(0.0604332298346166)])"
      ]
     },
     "execution_count": 24,
     "metadata": {},
     "output_type": "execute_result"
    }
   ],
   "source": [
    "hparams = {\n",
    "    'model_params': {'max_depth': 6, 'n_estimators': 2000, 'learning_rate': 0.1}, \n",
    "    'X_num': ['Sex', 'Age', 'Height', 'Weight', 'Duration_log', 'Heart_Rate', 'Body_Temp'], \n",
    "}\n",
    "\n",
    "result = sc.cv_result('cb2', df_train, kf, hparams, config, cb_adapter, rerun = 0)\n",
    "np.mean(result['valid_scores']), result['valid_scores']"
   ]
  },
  {
   "cell_type": "markdown",
   "id": "ef90d3a2-f26f-4794-9a84-5ca27cb8c850",
   "metadata": {},
   "source": [
    "# CB3"
   ]
  },
  {
   "cell_type": "code",
   "execution_count": 60,
   "id": "3b2400f1-3fcd-434d-9e5c-173f43243b8a",
   "metadata": {},
   "outputs": [
    {
     "data": {
      "application/vnd.jupyter.widget-view+json": {
       "model_id": "",
       "version_major": 2,
       "version_minor": 0
      },
      "text/plain": [
       "Fold:   0%|          | 0/4 [00:00<?, ?it/s]"
      ]
     },
     "metadata": {},
     "output_type": "display_data"
    },
    {
     "data": {
      "text/plain": [
       "(np.float64(0.05961975651945828),\n",
       " [np.float64(0.059529832249262615),\n",
       "  np.float64(0.06031693645479558),\n",
       "  np.float64(0.058389015324299125),\n",
       "  np.float64(0.06024324204947579)])"
      ]
     },
     "execution_count": 60,
     "metadata": {},
     "output_type": "execute_result"
    }
   ],
   "source": [
    "hparams = {\n",
    "    'model_params': {'max_depth': 7, 'n_estimators': 2000, 'learning_rate': 0.07, 'colsample_bylevel': 0.8}, \n",
    "    'X_num': ['Sex', 'Age', 'Height', 'Weight', 'Duration_log', 'Heart_Rate', 'Body_Temp'], \n",
    "}\n",
    "\n",
    "result = sc.cv_result('cb3', df_train, kf, hparams, config, cb_adapter, use_gpu = 0, rerun = 0)\n",
    "np.mean(result['valid_scores']), result['valid_scores']"
   ]
  },
  {
   "cell_type": "markdown",
   "id": "efecb921-1356-41f7-b504-710f4ea08c79",
   "metadata": {},
   "source": [
    "# CB4"
   ]
  },
  {
   "cell_type": "code",
   "execution_count": 69,
   "id": "44dd38c5-e3b7-4aec-85de-e1c920f123f2",
   "metadata": {},
   "outputs": [
    {
     "data": {
      "application/vnd.jupyter.widget-view+json": {
       "model_id": "",
       "version_major": 2,
       "version_minor": 0
      },
      "text/plain": [
       "Fold:   0%|          | 0/4 [00:00<?, ?it/s]"
      ]
     },
     "metadata": {},
     "output_type": "display_data"
    },
    {
     "data": {
      "text/plain": [
       "(np.float64(0.05960923051318617),\n",
       " [np.float64(0.059468639958028674),\n",
       "  np.float64(0.06038440595457838),\n",
       "  np.float64(0.058357414369228436),\n",
       "  np.float64(0.06022646177090921)])"
      ]
     },
     "execution_count": 69,
     "metadata": {},
     "output_type": "execute_result"
    }
   ],
   "source": [
    "hparams = {\n",
    "    'model_params': {'max_depth': 8, 'n_estimators': 4000, 'learning_rate': 0.02}, \n",
    "    'X_num': ['Sex', 'Age', 'Height', 'Weight', 'Duration_log', 'Heart_Rate', 'Body_Temp'], \n",
    "}\n",
    "\n",
    "result = sc.cv_result('cb4', df_train, kf, hparams, config, cb_adapter, use_gpu = 1, rerun = 0)\n",
    "np.mean(result['valid_scores']), result['valid_scores']"
   ]
  },
  {
   "cell_type": "markdown",
   "id": "3e66b845-a5e3-4c56-abaa-1b41a6ca9a28",
   "metadata": {},
   "source": [
    "# "
   ]
  },
  {
   "cell_type": "code",
   "execution_count": 4,
   "id": "168b1664-751e-4a04-9665-58db4a420020",
   "metadata": {},
   "outputs": [
    {
     "name": "stderr",
     "output_type": "stream",
     "text": [
      "2025-05-16 10:50:32.521486: E external/local_xla/xla/stream_executor/cuda/cuda_fft.cc:467] Unable to register cuFFT factory: Attempting to register factory for plugin cuFFT when one has already been registered\n",
      "WARNING: All log messages before absl::InitializeLog() is called are written to STDERR\n",
      "E0000 00:00:1747392632.532845   12798 cuda_dnn.cc:8579] Unable to register cuDNN factory: Attempting to register factory for plugin cuDNN when one has already been registered\n",
      "E0000 00:00:1747392632.536381   12798 cuda_blas.cc:1407] Unable to register cuBLAS factory: Attempting to register factory for plugin cuBLAS when one has already been registered\n",
      "W0000 00:00:1747392632.545401   12798 computation_placer.cc:177] computation placer already registered. Please check linkage and avoid linking the same target more than once.\n",
      "W0000 00:00:1747392632.545412   12798 computation_placer.cc:177] computation placer already registered. Please check linkage and avoid linking the same target more than once.\n",
      "W0000 00:00:1747392632.545414   12798 computation_placer.cc:177] computation placer already registered. Please check linkage and avoid linking the same target more than once.\n",
      "W0000 00:00:1747392632.545415   12798 computation_placer.cc:177] computation placer already registered. Please check linkage and avoid linking the same target more than once.\n",
      "2025-05-16 10:50:32.548388: I tensorflow/core/platform/cpu_feature_guard.cc:210] This TensorFlow binary is optimized to use available CPU instructions in performance-critical operations.\n",
      "To enable the following instructions: AVX2 FMA, in other operations, rebuild TensorFlow with the appropriate compiler flags.\n"
     ]
    }
   ],
   "source": [
    "import sgnn\n",
    "nn_adapter = sgnn.NNAdapter(sgnn.NNRegressor, progress = 100)"
   ]
  },
  {
   "cell_type": "code",
   "execution_count": 7,
   "id": "6b0abda3-4814-4fa1-8c51-8b7a734a89ab",
   "metadata": {},
   "outputs": [
    {
     "data": {
      "application/vnd.jupyter.widget-view+json": {
       "model_id": "",
       "version_major": 2,
       "version_minor": 0
      },
      "text/plain": [
       "Fold:   0%|          | 0/1 [00:00<?, ?it/s]"
      ]
     },
     "metadata": {},
     "output_type": "display_data"
    },
    {
     "data": {
      "application/vnd.jupyter.widget-view+json": {
       "model_id": "",
       "version_major": 2,
       "version_minor": 0
      },
      "text/plain": [
       "Epoch:   0%|          | 0/30 [00:00<?, ?it/s]"
      ]
     },
     "metadata": {},
     "output_type": "display_data"
    },
    {
     "data": {
      "application/vnd.jupyter.widget-view+json": {
       "model_id": "",
       "version_major": 2,
       "version_minor": 0
      },
      "text/plain": [
       "Step:   0%|          | 0/5274 [00:00<?, ?it/s]"
      ]
     },
     "metadata": {},
     "output_type": "display_data"
    },
    {
     "data": {
      "text/plain": [
       "{'valid_scores': [np.float32(0.05950092)],\n",
       " 'valid_prd': id\n",
       " 24        5.259694\n",
       " 50        3.451422\n",
       " 122       5.339328\n",
       " 127       4.584826\n",
       " 146       1.720613\n",
       "             ...   \n",
       " 749987    4.311688\n",
       " 749991    5.162928\n",
       " 749995    5.406791\n",
       " 749997    5.454646\n",
       " 749999    4.616103\n",
       " Length: 75000, dtype: float32,\n",
       " 'model_result': [{'history':         loss\n",
       "   0   0.252236\n",
       "   1   0.004672\n",
       "   2   0.004135\n",
       "   3   0.003979\n",
       "   4   0.003891\n",
       "   5   0.003842\n",
       "   6   0.003803\n",
       "   7   0.003765\n",
       "   8   0.003738\n",
       "   9   0.003716\n",
       "   10  0.003700\n",
       "   11  0.003687\n",
       "   12  0.003675\n",
       "   13  0.003656\n",
       "   14  0.003652\n",
       "   15  0.003644\n",
       "   16  0.003633\n",
       "   17  0.003626\n",
       "   18  0.003620\n",
       "   19  0.003621\n",
       "   20  0.003610\n",
       "   21  0.003610\n",
       "   22  0.003600\n",
       "   23  0.003598\n",
       "   24  0.003594\n",
       "   25  0.003585\n",
       "   26  0.003588\n",
       "   27  0.003583\n",
       "   28  0.003578\n",
       "   29  0.003578,\n",
       "   'variables': array(['std__Age', 'std__Height', 'std__Weight', 'std__Duration',\n",
       "          'std__Duration_log', 'std__Heart_Rate', 'std__Heart_Rate_sqrt_d',\n",
       "          'std__Body_Temp', 'pt__Sex'], dtype=object),\n",
       "   'train_shape': (675000, 9),\n",
       "   'target': 'Calories_Log',\n",
       "   'preprocessor': ColumnTransformer(transformers=[('std', StandardScaler(),\n",
       "                                    ['Age', 'Height', 'Weight', 'Duration',\n",
       "                                     'Duration_log', 'Heart_Rate',\n",
       "                                     'Heart_Rate_sqrt_d', 'Body_Temp']),\n",
       "                                   ('pt', 'passthrough', ['Sex'])])}],\n",
       " 'train_scores': [np.float32(0.059542913)],\n",
       " 'hparams': {'model_params': {'model_params': {'config': [{'unit': 64,\n",
       "      'activation': 'swish',\n",
       "      'batch_norm': False},\n",
       "     {'unit': 128, 'activation': 'swish', 'batch_norm': False},\n",
       "     {'unit': 128, 'activation': 'swish', 'batch_norm': False},\n",
       "     {'unit': 64, 'activation': 'swish', 'batch_norm': False}]},\n",
       "   'epochs': 30,\n",
       "   'optimizer': ('Adam', {'learning_rate': 0.0001}),\n",
       "   'batch_size': 128,\n",
       "   'shuffle_size': 102400,\n",
       "   'early_stopping': None,\n",
       "   'reduce_lr_on_plateau': None,\n",
       "   'lr_scheduler': None},\n",
       "  'X_std': ['Age',\n",
       "   'Height',\n",
       "   'Weight',\n",
       "   'Duration',\n",
       "   'Duration_log',\n",
       "   'Heart_Rate',\n",
       "   'Heart_Rate_sqrt_d',\n",
       "   'Body_Temp'],\n",
       "  'X_num': ['Sex']}}"
      ]
     },
     "execution_count": 7,
     "metadata": {},
     "output_type": "execute_result"
    }
   ],
   "source": [
    "nn_params = {\n",
    "    'config':  [\n",
    "        {'unit': 64, 'activation': 'swish', 'batch_norm': False},\n",
    "        {'unit': 128, 'activation': 'swish', 'batch_norm': False},\n",
    "        {'unit': 128, 'activation': 'swish', 'batch_norm': False},\n",
    "        {'unit': 64, 'activation': 'swish', 'batch_norm': False},\n",
    "    ]\n",
    "}\n",
    "\n",
    "hparams = {\n",
    "    'model_params': {\n",
    "        'model_params': nn_params,\n",
    "        'epochs': 30,\n",
    "        'optimizer': ('Adam', {'learning_rate': 0.0001}),\n",
    "        'batch_size': 128, 'shuffle_size': 102400,\n",
    "        'early_stopping': None, 'reduce_lr_on_plateau': None, 'lr_scheduler': None\n",
    "    }, 'X_std': ['Age', 'Height', 'Weight', 'Duration', 'Duration_log', 'Heart_Rate', 'Heart_Rate_sqrt_d', 'Body_Temp'], 'X_num': ['Sex']\n",
    "}\n",
    "\n",
    "sgml.cv(df_train, ss, hparams, config, nn_adapter)"
   ]
  },
  {
   "cell_type": "code",
   "execution_count": null,
   "id": "5d413cae-0d0f-41a4-b5d6-eae83f08d195",
   "metadata": {},
   "outputs": [],
   "source": [
    "hparams = {\n",
    "    'model_params': {'max_depth': 8, 'n_estimators': 4000, 'learning_rate': 0.02}, \n",
    "    'X_num': ['Sex', 'Age', 'Height', 'Weight', 'Duration_log', 'Heart_Rate', 'Body_Temp'], \n",
    "}\n",
    "\n",
    "result = sc.cv_result('cb4', df_train, kf, hparams, config, cb_adapter, use_gpu = 1, rerun = 0)\n",
    "np.mean(result['valid_scores']), result['valid_scores']"
   ]
  },
  {
   "cell_type": "markdown",
   "id": "7405ccbf-e31c-4d27-97d7-80264d374838",
   "metadata": {},
   "source": [
    "# Ensemble"
   ]
  },
  {
   "cell_type": "code",
   "execution_count": 6,
   "id": "4f8b3c8a-518f-44c4-a5ad-a0187e486f4c",
   "metadata": {},
   "outputs": [],
   "source": [
    "df_stk = sc.read_prds(\n",
    "    ['lgb2', 'lgb1', 'xgb1', 'xgb2', 'cb1', 'cb2', 'cb3', 'cb4'], index = df_train.index\n",
    ").assign(\n",
    "    Calories_Log = df_train[target]\n",
    ")"
   ]
  },
  {
   "cell_type": "code",
   "execution_count": 10,
   "id": "36cca583-ac74-4d12-8abc-7497b2daacef",
   "metadata": {},
   "outputs": [
    {
     "data": {
      "text/plain": [
       "np.float64(0.05944463194760985)"
      ]
     },
     "execution_count": 10,
     "metadata": {},
     "output_type": "execute_result"
    }
   ],
   "source": [
    "root_mean_squared_error(\n",
    "    df_train[target], df_stk.iloc[:, :-1].dot([0.1, 0.1, 0.1, 0.1, 0.1, 0.1, 0.2, 0.2])\n",
    ")"
   ]
  },
  {
   "cell_type": "code",
   "execution_count": 13,
   "id": "545ac63c-a5d4-4640-abbe-a40976425ae0",
   "metadata": {},
   "outputs": [
    {
     "data": {
      "application/vnd.jupyter.widget-view+json": {
       "model_id": "",
       "version_major": 2,
       "version_minor": 0
      },
      "text/plain": [
       "Fold:   0%|          | 0/4 [00:00<?, ?it/s]"
      ]
     },
     "metadata": {},
     "output_type": "display_data"
    },
    {
     "data": {
      "text/plain": [
       "np.float64(0.05943634055101435)"
      ]
     },
     "execution_count": 13,
     "metadata": {},
     "output_type": "execute_result"
    }
   ],
   "source": [
    "hparams = {\n",
    "    'X_num': df_stk.columns[:-1].tolist()\n",
    "}\n",
    "result = sgml.cv(df_stk, kf, hparams, config, lr_adapter)\n",
    "np.mean(result['valid_scores'])"
   ]
  },
  {
   "cell_type": "code",
   "execution_count": 8,
   "id": "03db0cb0-1ad1-4baa-b139-91bc83aadbbb",
   "metadata": {},
   "outputs": [
    {
     "data": {
      "text/html": [
       "<div>\n",
       "<style scoped>\n",
       "    .dataframe tbody tr th:only-of-type {\n",
       "        vertical-align: middle;\n",
       "    }\n",
       "\n",
       "    .dataframe tbody tr th {\n",
       "        vertical-align: top;\n",
       "    }\n",
       "\n",
       "    .dataframe thead th {\n",
       "        text-align: right;\n",
       "    }\n",
       "</style>\n",
       "<table border=\"1\" class=\"dataframe\">\n",
       "  <thead>\n",
       "    <tr style=\"text-align: right;\">\n",
       "      <th></th>\n",
       "      <th>lgb2</th>\n",
       "      <th>lgb1</th>\n",
       "      <th>xgb1</th>\n",
       "      <th>xgb2</th>\n",
       "      <th>cb1</th>\n",
       "      <th>cb2</th>\n",
       "      <th>cb3</th>\n",
       "      <th>cb4</th>\n",
       "      <th>Calories_Log</th>\n",
       "    </tr>\n",
       "    <tr>\n",
       "      <th>id</th>\n",
       "      <th></th>\n",
       "      <th></th>\n",
       "      <th></th>\n",
       "      <th></th>\n",
       "      <th></th>\n",
       "      <th></th>\n",
       "      <th></th>\n",
       "      <th></th>\n",
       "      <th></th>\n",
       "    </tr>\n",
       "  </thead>\n",
       "  <tbody>\n",
       "    <tr>\n",
       "      <th>0</th>\n",
       "      <td>4.990682</td>\n",
       "      <td>4.995060</td>\n",
       "      <td>4.993209</td>\n",
       "      <td>4.996872</td>\n",
       "      <td>4.999116</td>\n",
       "      <td>4.997972</td>\n",
       "      <td>4.999042</td>\n",
       "      <td>4.999959</td>\n",
       "      <td>5.017280</td>\n",
       "    </tr>\n",
       "    <tr>\n",
       "      <th>1</th>\n",
       "      <td>3.612145</td>\n",
       "      <td>3.608516</td>\n",
       "      <td>3.610460</td>\n",
       "      <td>3.613190</td>\n",
       "      <td>3.608996</td>\n",
       "      <td>3.609393</td>\n",
       "      <td>3.611230</td>\n",
       "      <td>3.611207</td>\n",
       "      <td>3.555348</td>\n",
       "    </tr>\n",
       "    <tr>\n",
       "      <th>2</th>\n",
       "      <td>3.388654</td>\n",
       "      <td>3.392682</td>\n",
       "      <td>3.413141</td>\n",
       "      <td>3.385291</td>\n",
       "      <td>3.404134</td>\n",
       "      <td>3.401662</td>\n",
       "      <td>3.398638</td>\n",
       "      <td>3.395333</td>\n",
       "      <td>3.401197</td>\n",
       "    </tr>\n",
       "    <tr>\n",
       "      <th>3</th>\n",
       "      <td>4.931136</td>\n",
       "      <td>4.929353</td>\n",
       "      <td>4.933776</td>\n",
       "      <td>4.935688</td>\n",
       "      <td>4.931032</td>\n",
       "      <td>4.934934</td>\n",
       "      <td>4.934037</td>\n",
       "      <td>4.930398</td>\n",
       "      <td>4.948760</td>\n",
       "    </tr>\n",
       "    <tr>\n",
       "      <th>4</th>\n",
       "      <td>4.985825</td>\n",
       "      <td>4.990148</td>\n",
       "      <td>4.999208</td>\n",
       "      <td>4.985096</td>\n",
       "      <td>4.987772</td>\n",
       "      <td>4.990553</td>\n",
       "      <td>4.990468</td>\n",
       "      <td>4.987012</td>\n",
       "      <td>4.990433</td>\n",
       "    </tr>\n",
       "    <tr>\n",
       "      <th>...</th>\n",
       "      <td>...</td>\n",
       "      <td>...</td>\n",
       "      <td>...</td>\n",
       "      <td>...</td>\n",
       "      <td>...</td>\n",
       "      <td>...</td>\n",
       "      <td>...</td>\n",
       "      <td>...</td>\n",
       "      <td>...</td>\n",
       "    </tr>\n",
       "    <tr>\n",
       "      <th>749995</th>\n",
       "      <td>5.397452</td>\n",
       "      <td>5.390379</td>\n",
       "      <td>5.395508</td>\n",
       "      <td>5.395901</td>\n",
       "      <td>5.402192</td>\n",
       "      <td>5.406062</td>\n",
       "      <td>5.404190</td>\n",
       "      <td>5.405901</td>\n",
       "      <td>5.442418</td>\n",
       "    </tr>\n",
       "    <tr>\n",
       "      <th>749996</th>\n",
       "      <td>4.552933</td>\n",
       "      <td>4.551194</td>\n",
       "      <td>4.557213</td>\n",
       "      <td>4.551951</td>\n",
       "      <td>4.560265</td>\n",
       "      <td>4.555336</td>\n",
       "      <td>4.556162</td>\n",
       "      <td>4.556599</td>\n",
       "      <td>4.574711</td>\n",
       "    </tr>\n",
       "    <tr>\n",
       "      <th>749997</th>\n",
       "      <td>5.462295</td>\n",
       "      <td>5.457239</td>\n",
       "      <td>5.462897</td>\n",
       "      <td>5.472661</td>\n",
       "      <td>5.458836</td>\n",
       "      <td>5.461267</td>\n",
       "      <td>5.451686</td>\n",
       "      <td>5.462544</td>\n",
       "      <td>5.402678</td>\n",
       "    </tr>\n",
       "    <tr>\n",
       "      <th>749998</th>\n",
       "      <td>4.691373</td>\n",
       "      <td>4.668897</td>\n",
       "      <td>4.687819</td>\n",
       "      <td>4.685112</td>\n",
       "      <td>4.679910</td>\n",
       "      <td>4.677949</td>\n",
       "      <td>4.680012</td>\n",
       "      <td>4.676657</td>\n",
       "      <td>4.700480</td>\n",
       "    </tr>\n",
       "    <tr>\n",
       "      <th>749999</th>\n",
       "      <td>4.625731</td>\n",
       "      <td>4.620052</td>\n",
       "      <td>4.617295</td>\n",
       "      <td>4.629118</td>\n",
       "      <td>4.621156</td>\n",
       "      <td>4.616975</td>\n",
       "      <td>4.617463</td>\n",
       "      <td>4.620535</td>\n",
       "      <td>4.644391</td>\n",
       "    </tr>\n",
       "  </tbody>\n",
       "</table>\n",
       "<p>750000 rows × 9 columns</p>\n",
       "</div>"
      ],
      "text/plain": [
       "            lgb2      lgb1      xgb1      xgb2       cb1       cb2       cb3  \\\n",
       "id                                                                             \n",
       "0       4.990682  4.995060  4.993209  4.996872  4.999116  4.997972  4.999042   \n",
       "1       3.612145  3.608516  3.610460  3.613190  3.608996  3.609393  3.611230   \n",
       "2       3.388654  3.392682  3.413141  3.385291  3.404134  3.401662  3.398638   \n",
       "3       4.931136  4.929353  4.933776  4.935688  4.931032  4.934934  4.934037   \n",
       "4       4.985825  4.990148  4.999208  4.985096  4.987772  4.990553  4.990468   \n",
       "...          ...       ...       ...       ...       ...       ...       ...   \n",
       "749995  5.397452  5.390379  5.395508  5.395901  5.402192  5.406062  5.404190   \n",
       "749996  4.552933  4.551194  4.557213  4.551951  4.560265  4.555336  4.556162   \n",
       "749997  5.462295  5.457239  5.462897  5.472661  5.458836  5.461267  5.451686   \n",
       "749998  4.691373  4.668897  4.687819  4.685112  4.679910  4.677949  4.680012   \n",
       "749999  4.625731  4.620052  4.617295  4.629118  4.621156  4.616975  4.617463   \n",
       "\n",
       "             cb4  Calories_Log  \n",
       "id                              \n",
       "0       4.999959      5.017280  \n",
       "1       3.611207      3.555348  \n",
       "2       3.395333      3.401197  \n",
       "3       4.930398      4.948760  \n",
       "4       4.987012      4.990433  \n",
       "...          ...           ...  \n",
       "749995  5.405901      5.442418  \n",
       "749996  4.556599      4.574711  \n",
       "749997  5.462544      5.402678  \n",
       "749998  4.676657      4.700480  \n",
       "749999  4.620535      4.644391  \n",
       "\n",
       "[750000 rows x 9 columns]"
      ]
     },
     "execution_count": 8,
     "metadata": {},
     "output_type": "execute_result"
    }
   ],
   "source": [
    "df_stk"
   ]
  }
 ],
 "metadata": {
  "kernelspec": {
   "display_name": "Python 3 (ipykernel)",
   "language": "python",
   "name": "python3"
  },
  "language_info": {
   "codemirror_mode": {
    "name": "ipython",
    "version": 3
   },
   "file_extension": ".py",
   "mimetype": "text/x-python",
   "name": "python",
   "nbconvert_exporter": "python",
   "pygments_lexer": "ipython3",
   "version": "3.12.6"
  }
 },
 "nbformat": 4,
 "nbformat_minor": 5
}
