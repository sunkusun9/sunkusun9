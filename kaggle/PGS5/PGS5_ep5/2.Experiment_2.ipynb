{
 "cells": [
  {
   "cell_type": "code",
   "execution_count": 1,
   "id": "0dcfffa6-20a6-4b47-967a-04211eeba910",
   "metadata": {},
   "outputs": [],
   "source": [
    "import sgml, sgutil, sgpp, dproc\n",
    "import pandas as pd\n",
    "import numpy as np\n",
    "import matplotlib.pyplot as plt\n",
    "import seaborn as sns\n",
    "from sklearn.metrics import root_mean_squared_error"
   ]
  },
  {
   "cell_type": "code",
   "execution_count": 2,
   "id": "c9bf4729-ca71-4f25-83f8-7a30f743b7e2",
   "metadata": {},
   "outputs": [
    {
     "name": "stderr",
     "output_type": "stream",
     "text": [
      "2025-05-20 05:49:27.682966: E external/local_xla/xla/stream_executor/cuda/cuda_fft.cc:467] Unable to register cuFFT factory: Attempting to register factory for plugin cuFFT when one has already been registered\n",
      "WARNING: All log messages before absl::InitializeLog() is called are written to STDERR\n",
      "E0000 00:00:1747720167.694590    2242 cuda_dnn.cc:8579] Unable to register cuDNN factory: Attempting to register factory for plugin cuDNN when one has already been registered\n",
      "E0000 00:00:1747720167.698149    2242 cuda_blas.cc:1407] Unable to register cuBLAS factory: Attempting to register factory for plugin cuBLAS when one has already been registered\n",
      "W0000 00:00:1747720167.707117    2242 computation_placer.cc:177] computation placer already registered. Please check linkage and avoid linking the same target more than once.\n",
      "W0000 00:00:1747720167.707131    2242 computation_placer.cc:177] computation placer already registered. Please check linkage and avoid linking the same target more than once.\n",
      "W0000 00:00:1747720167.707133    2242 computation_placer.cc:177] computation placer already registered. Please check linkage and avoid linking the same target more than once.\n",
      "W0000 00:00:1747720167.707134    2242 computation_placer.cc:177] computation placer already registered. Please check linkage and avoid linking the same target more than once.\n",
      "2025-05-20 05:49:27.709942: I tensorflow/core/platform/cpu_feature_guard.cc:210] This TensorFlow binary is optimized to use available CPU instructions in performance-critical operations.\n",
      "To enable the following instructions: AVX2 FMA, in other operations, rebuild TensorFlow with the appropriate compiler flags.\n"
     ]
    }
   ],
   "source": [
    "from proc_v2 import p\n",
    "from ml_v1 import X_cat, X_num, X_all, target, kf, ss, config\n",
    "from ml_v1 import xgb_adapter, lgb_adapter, cb_adapter, lr_adapter, nn_adapter"
   ]
  },
  {
   "cell_type": "code",
   "execution_count": 3,
   "id": "098fd5d7-3b72-4239-a454-34fdfdca6977",
   "metadata": {},
   "outputs": [],
   "source": [
    "sc = sgutil.SGCache('img', 'result', 'model')\n",
    "df_train = p.fit_transform(['data/train.csv']).assign(\n",
    "    Calories_Log = lambda x: np.log(x['Calories'] + 1)\n",
    ")\n",
    "df_test = p.transform(['data/test.csv'])"
   ]
  },
  {
   "cell_type": "markdown",
   "id": "161851af-ce6c-4f42-8e07-c5f38eed60ba",
   "metadata": {},
   "source": [
    "# LGB 1\n",
    "\n",
    "- Duration 대신에 Duration_log를 사용하고 나머지 변수를 넣습니다."
   ]
  },
  {
   "cell_type": "code",
   "execution_count": 4,
   "id": "3e80d56a-426c-4919-8823-34bffb71c6e4",
   "metadata": {},
   "outputs": [
    {
     "data": {
      "application/vnd.jupyter.widget-view+json": {
       "model_id": "",
       "version_major": 2,
       "version_minor": 0
      },
      "text/plain": [
       "Fold:   0%|          | 0/4 [00:00<?, ?it/s]"
      ]
     },
     "metadata": {},
     "output_type": "display_data"
    },
    {
     "data": {
      "text/plain": [
       "(np.float64(0.06024029483999867),\n",
       " [np.float64(0.06015798639261961),\n",
       "  np.float64(0.06100800453393292),\n",
       "  np.float64(0.05898879823224211),\n",
       "  np.float64(0.06080639020120003)])"
      ]
     },
     "execution_count": 4,
     "metadata": {},
     "output_type": "execute_result"
    }
   ],
   "source": [
    "hparams = {\n",
    "    'model_params': {'n_estimators': 2000, 'colsample_bytree': 0.9, 'num_leaves': 63, 'learning_rate': 0.03},\n",
    "    'X_num': ['Sex', 'Age', 'Height', 'Weight', 'Duration_log', 'Heart_Rate', 'Body_Temp'], \n",
    "    #'validation_fraction': 0.1, \n",
    "}\n",
    "result = sc.cv_result('lgb1', df_train, kf, hparams, config, lgb_adapter, rerun = 0)\n",
    "np.mean(result['valid_scores']), result['valid_scores']"
   ]
  },
  {
   "cell_type": "markdown",
   "id": "aa8aeae1-b0cb-45cf-9da8-f83005022146",
   "metadata": {},
   "source": [
    "# LGB 2"
   ]
  },
  {
   "cell_type": "code",
   "execution_count": 6,
   "id": "ae321116-1b3d-464d-b840-e189aed1346c",
   "metadata": {},
   "outputs": [
    {
     "data": {
      "application/vnd.jupyter.widget-view+json": {
       "model_id": "cbc408b6d80340849ef80a7411271f58",
       "version_major": 2,
       "version_minor": 0
      },
      "text/plain": [
       "Fold:   0%|          | 0/4 [00:00<?, ?it/s]"
      ]
     },
     "metadata": {},
     "output_type": "display_data"
    },
    {
     "data": {
      "text/plain": [
       "(0.06022144346374213,\n",
       " [0.06017151518862502,\n",
       "  0.06110662967724778,\n",
       "  0.05892715299410521,\n",
       "  0.06068047599499048])"
      ]
     },
     "execution_count": 6,
     "metadata": {},
     "output_type": "execute_result"
    }
   ],
   "source": [
    "hparams = {\n",
    "    'model_params': {'n_estimators': 2500, 'colsample_bytree': 0.9, 'num_leaves': 7, 'learning_rate': 0.07},\n",
    "    'X_num': ['Sex', 'Age', 'Height', 'Weight', 'Duration_log', 'Heart_Rate', 'Body_Temp'], \n",
    "    #'validation_fraction': 0.1, \n",
    "}\n",
    "result = sc.cv_result('lgb2', df_train, kf, hparams, config, lgb_adapter, rerun = 0)\n",
    "np.mean(result['valid_scores']), result['valid_scores']"
   ]
  },
  {
   "cell_type": "code",
   "execution_count": 7,
   "id": "9be66210-aa9b-49a3-9377-613d3dc66f80",
   "metadata": {},
   "outputs": [
    {
     "data": {
      "text/plain": [
       "0.05983695633620083"
      ]
     },
     "execution_count": 7,
     "metadata": {},
     "output_type": "execute_result"
    }
   ],
   "source": [
    "root_mean_squared_error(\n",
    "    df_train[target],\n",
    "    sc.read_prds(['lgb2', 'lgb1'], index = df_train.index).dot([0.5, 0.5])\n",
    ")"
   ]
  },
  {
   "cell_type": "markdown",
   "id": "66e2fb78-35af-49e1-ac7b-b1aa2f026431",
   "metadata": {},
   "source": [
    "# XGB1"
   ]
  },
  {
   "cell_type": "code",
   "execution_count": 8,
   "id": "2cedbe10-c3dd-46c3-8326-a32b63c70f8e",
   "metadata": {},
   "outputs": [
    {
     "data": {
      "application/vnd.jupyter.widget-view+json": {
       "model_id": "05cd81f8950d4e299a37be1f3c4fa894",
       "version_major": 2,
       "version_minor": 0
      },
      "text/plain": [
       "Fold:   0%|          | 0/4 [00:00<?, ?it/s]"
      ]
     },
     "metadata": {},
     "output_type": "display_data"
    },
    {
     "name": "stderr",
     "output_type": "stream",
     "text": [
      "/home/sun9sun9/python312/lib/python3.12/site-packages/xgboost/core.py:729: UserWarning: [21:33:40] WARNING: /workspace/src/common/error_msg.cc:58: Falling back to prediction using DMatrix due to mismatched devices. This might lead to higher memory usage and slower performance. XGBoost is running on: cuda:0, while the input data is on: cpu.\n",
      "Potential solutions:\n",
      "- Use a data structure that matches the device ordinal in the booster.\n",
      "- Set the device for booster before call to inplace_predict.\n",
      "\n",
      "This warning will only be shown once.\n",
      "\n",
      "  return func(**kwargs)\n"
     ]
    },
    {
     "data": {
      "text/plain": [
       "(0.06027572602033615,\n",
       " [0.05999422445893288,\n",
       "  0.061192434281110764,\n",
       "  0.058978915214538574,\n",
       "  0.06093733012676239])"
      ]
     },
     "execution_count": 8,
     "metadata": {},
     "output_type": "execute_result"
    }
   ],
   "source": [
    "hparams = {\n",
    "    'model_params': {'n_estimators': 2000, 'colsample_bytree': 0.85, 'learning_rate': 0.05, 'max_depth': 4},\n",
    "    'X_num': ['Sex', 'Age', 'Height', 'Weight', 'Duration_log', 'Heart_Rate', 'Body_Temp',\n",
    "              'Heart_Rate_div_Weight_sqrt'], \n",
    "    #'validation_fraction': 0.1, \n",
    "}\n",
    "result = sc.cv_result('xgb1', df_train, kf, hparams, config, xgb_adapter, rerun = 0, use_gpu = True)\n",
    "np.mean(result['valid_scores']), result['valid_scores']"
   ]
  },
  {
   "cell_type": "markdown",
   "id": "aef2b413-c277-4dbd-a037-5da71b45202e",
   "metadata": {},
   "source": [
    "# XGB2"
   ]
  },
  {
   "cell_type": "code",
   "execution_count": 9,
   "id": "24068b51-da51-4eb8-9548-75f5abbb0309",
   "metadata": {},
   "outputs": [
    {
     "data": {
      "application/vnd.jupyter.widget-view+json": {
       "model_id": "947304137c3e43a9bcfb36f82bad0770",
       "version_major": 2,
       "version_minor": 0
      },
      "text/plain": [
       "Fold:   0%|          | 0/4 [00:00<?, ?it/s]"
      ]
     },
     "metadata": {},
     "output_type": "display_data"
    },
    {
     "data": {
      "text/plain": [
       "(0.060211884789168835,\n",
       " [0.05990520119667053,\n",
       "  0.06109195202589035,\n",
       "  0.0589660219848156,\n",
       "  0.06088436394929886])"
      ]
     },
     "execution_count": 9,
     "metadata": {},
     "output_type": "execute_result"
    }
   ],
   "source": [
    "hparams = {\n",
    "    'model_params': {'n_estimators': 5000, 'colsample_bytree': 0.85, 'learning_rate': 0.03, 'max_depth': 3},\n",
    "    'X_num': ['Sex', 'Age', 'Height', 'Weight', 'Duration_log', 'Heart_Rate', 'Body_Temp',\n",
    "              'Heart_Rate_div_Weight_sqrt'], \n",
    "    #'validation_fraction': 0.1, \n",
    "}\n",
    "result = sc.cv_result('xgb2', df_train, kf, hparams, config, xgb_adapter, rerun = 1, use_gpu = True)\n",
    "np.mean(result['valid_scores']), result['valid_scores']"
   ]
  },
  {
   "cell_type": "markdown",
   "id": "90088e2e-ef96-4941-98b1-0c82bf63039c",
   "metadata": {},
   "source": [
    "# CB1"
   ]
  },
  {
   "cell_type": "code",
   "execution_count": 10,
   "id": "b53aac8f-e00a-4d95-8923-352b3e7a0d8d",
   "metadata": {},
   "outputs": [
    {
     "data": {
      "application/vnd.jupyter.widget-view+json": {
       "model_id": "3bc4cae074884b819175ea64eeea2418",
       "version_major": 2,
       "version_minor": 0
      },
      "text/plain": [
       "Fold:   0%|          | 0/4 [00:00<?, ?it/s]"
      ]
     },
     "metadata": {},
     "output_type": "display_data"
    },
    {
     "data": {
      "text/plain": [
       "(0.05968437186609724,\n",
       " [0.05929705865156929,\n",
       "  0.06071020397792236,\n",
       "  0.058418971867058654,\n",
       "  0.06031125296783865])"
      ]
     },
     "execution_count": 10,
     "metadata": {},
     "output_type": "execute_result"
    }
   ],
   "source": [
    "hparams = {\n",
    "    'model_params': {'max_depth': 5, 'n_estimators': 2000, 'learning_rate': 0.1}, \n",
    "    'X_num': ['Sex', 'Age', 'Height', 'Weight', 'Duration_log', 'Heart_Rate', 'Body_Temp'], \n",
    "}\n",
    "\n",
    "result = sc.cv_result('cb1', df_train, kf, hparams, config, cb_adapter, rerun = 0)\n",
    "np.mean(result['valid_scores']), result['valid_scores']"
   ]
  },
  {
   "cell_type": "markdown",
   "id": "73eb3116-2ace-4922-83b6-2cee9117f972",
   "metadata": {},
   "source": [
    "# CB2"
   ]
  },
  {
   "cell_type": "code",
   "execution_count": 11,
   "id": "d0973ba4-8af9-4601-a3a9-6755014f459b",
   "metadata": {},
   "outputs": [
    {
     "data": {
      "application/vnd.jupyter.widget-view+json": {
       "model_id": "4400f78b6d714380ac6dbb54e98991ba",
       "version_major": 2,
       "version_minor": 0
      },
      "text/plain": [
       "Fold:   0%|          | 0/4 [00:00<?, ?it/s]"
      ]
     },
     "metadata": {},
     "output_type": "display_data"
    },
    {
     "data": {
      "text/plain": [
       "(0.05972289513623428,\n",
       " [0.05955441198810907,\n",
       "  0.06049828048324206,\n",
       "  0.058326367256739016,\n",
       "  0.06051252081684697])"
      ]
     },
     "execution_count": 11,
     "metadata": {},
     "output_type": "execute_result"
    }
   ],
   "source": [
    "hparams = {\n",
    "    'model_params': {'max_depth': 6, 'n_estimators': 2000, 'learning_rate': 0.1}, \n",
    "    'X_num': ['Sex', 'Age', 'Height', 'Weight', 'Duration_log', 'Heart_Rate', 'Body_Temp'], \n",
    "}\n",
    "\n",
    "result = sc.cv_result('cb2', df_train, kf, hparams, config, cb_adapter, rerun = 0)\n",
    "np.mean(result['valid_scores']), result['valid_scores']"
   ]
  },
  {
   "cell_type": "markdown",
   "id": "ef90d3a2-f26f-4794-9a84-5ca27cb8c850",
   "metadata": {},
   "source": [
    "# CB3"
   ]
  },
  {
   "cell_type": "code",
   "execution_count": 12,
   "id": "3b2400f1-3fcd-434d-9e5c-173f43243b8a",
   "metadata": {},
   "outputs": [
    {
     "data": {
      "application/vnd.jupyter.widget-view+json": {
       "model_id": "f5ec1088d8854328bf4f302ea46d6da5",
       "version_major": 2,
       "version_minor": 0
      },
      "text/plain": [
       "Fold:   0%|          | 0/4 [00:00<?, ?it/s]"
      ]
     },
     "metadata": {},
     "output_type": "display_data"
    },
    {
     "data": {
      "text/plain": [
       "(0.05958652534082724,\n",
       " [0.05942618972933533,\n",
       "  0.06046098674510978,\n",
       "  0.05827122680710294,\n",
       "  0.060187698081760915])"
      ]
     },
     "execution_count": 12,
     "metadata": {},
     "output_type": "execute_result"
    }
   ],
   "source": [
    "hparams = {\n",
    "    'model_params': {'max_depth': 7, 'n_estimators': 2000, 'learning_rate': 0.07, 'colsample_bylevel': 0.8}, \n",
    "    'X_num': ['Sex', 'Age', 'Height', 'Weight', 'Duration_log', 'Heart_Rate', 'Body_Temp'], \n",
    "}\n",
    "\n",
    "result = sc.cv_result('cb3', df_train, kf, hparams, config, cb_adapter, use_gpu = 0, rerun = 0)\n",
    "np.mean(result['valid_scores']), result['valid_scores']"
   ]
  },
  {
   "cell_type": "markdown",
   "id": "efecb921-1356-41f7-b504-710f4ea08c79",
   "metadata": {},
   "source": [
    "# CB4"
   ]
  },
  {
   "cell_type": "code",
   "execution_count": 13,
   "id": "44dd38c5-e3b7-4aec-85de-e1c920f123f2",
   "metadata": {},
   "outputs": [
    {
     "data": {
      "application/vnd.jupyter.widget-view+json": {
       "model_id": "b955f0a9671d433cb25332976dfd3285",
       "version_major": 2,
       "version_minor": 0
      },
      "text/plain": [
       "Fold:   0%|          | 0/4 [00:00<?, ?it/s]"
      ]
     },
     "metadata": {},
     "output_type": "display_data"
    },
    {
     "name": "stderr",
     "output_type": "stream",
     "text": [
      "Warning: less than 75% GPU memory available for training. Free: 1506 Total: 8187.5\n",
      "Warning: less than 75% GPU memory available for training. Free: 1504 Total: 8187.5\n",
      "Warning: less than 75% GPU memory available for training. Free: 1504 Total: 8187.5\n",
      "Warning: less than 75% GPU memory available for training. Free: 1504 Total: 8187.5\n"
     ]
    },
    {
     "data": {
      "text/plain": [
       "(0.05964453014380632,\n",
       " [0.059431297182173874,\n",
       "  0.0604458558048441,\n",
       "  0.058415995996832025,\n",
       "  0.06028497159137528])"
      ]
     },
     "execution_count": 13,
     "metadata": {},
     "output_type": "execute_result"
    }
   ],
   "source": [
    "hparams = {\n",
    "    'model_params': {'max_depth': 8, 'n_estimators': 4000, 'learning_rate': 0.02}, \n",
    "    'X_num': ['Sex', 'Age', 'Height', 'Weight', 'Duration_log', 'Heart_Rate', 'Body_Temp'], \n",
    "}\n",
    "\n",
    "result = sc.cv_result('cb4', df_train, kf, hparams, config, cb_adapter, use_gpu = 1, rerun = 0)\n",
    "np.mean(result['valid_scores']), result['valid_scores']"
   ]
  },
  {
   "cell_type": "markdown",
   "id": "3e66b845-a5e3-4c56-abaa-1b41a6ca9a28",
   "metadata": {},
   "source": [
    "# NN1"
   ]
  },
  {
   "cell_type": "code",
   "execution_count": 14,
   "id": "6b0abda3-4814-4fa1-8c51-8b7a734a89ab",
   "metadata": {},
   "outputs": [
    {
     "data": {
      "application/vnd.jupyter.widget-view+json": {
       "model_id": "a18c47403df3411abb33bf99ceee1d6a",
       "version_major": 2,
       "version_minor": 0
      },
      "text/plain": [
       "Fold:   0%|          | 0/4 [00:00<?, ?it/s]"
      ]
     },
     "metadata": {},
     "output_type": "display_data"
    },
    {
     "data": {
      "application/vnd.jupyter.widget-view+json": {
       "model_id": "614c5b65b7c344b39b6917042416420f",
       "version_major": 2,
       "version_minor": 0
      },
      "text/plain": [
       "Epoch:   0%|          | 0/30 [00:00<?, ?it/s]"
      ]
     },
     "metadata": {},
     "output_type": "display_data"
    },
    {
     "data": {
      "application/vnd.jupyter.widget-view+json": {
       "model_id": "08df017af51642a9826711b09e0c7555",
       "version_major": 2,
       "version_minor": 0
      },
      "text/plain": [
       "Step:   0%|          | 0/4395 [00:00<?, ?it/s]"
      ]
     },
     "metadata": {},
     "output_type": "display_data"
    },
    {
     "data": {
      "application/vnd.jupyter.widget-view+json": {
       "model_id": "c17f5c1c119e4533809c16d1c288c7b2",
       "version_major": 2,
       "version_minor": 0
      },
      "text/plain": [
       "Epoch:   0%|          | 0/30 [00:00<?, ?it/s]"
      ]
     },
     "metadata": {},
     "output_type": "display_data"
    },
    {
     "data": {
      "application/vnd.jupyter.widget-view+json": {
       "model_id": "cf75a4afbd9e467282c71e1a51c7cdef",
       "version_major": 2,
       "version_minor": 0
      },
      "text/plain": [
       "Step:   0%|          | 0/4395 [00:00<?, ?it/s]"
      ]
     },
     "metadata": {},
     "output_type": "display_data"
    },
    {
     "data": {
      "application/vnd.jupyter.widget-view+json": {
       "model_id": "4fc5467d2ccf4064be883b75e7880465",
       "version_major": 2,
       "version_minor": 0
      },
      "text/plain": [
       "Epoch:   0%|          | 0/30 [00:00<?, ?it/s]"
      ]
     },
     "metadata": {},
     "output_type": "display_data"
    },
    {
     "data": {
      "application/vnd.jupyter.widget-view+json": {
       "model_id": "133eec27e8fb4ad883556c4367ffd4d2",
       "version_major": 2,
       "version_minor": 0
      },
      "text/plain": [
       "Step:   0%|          | 0/4395 [00:00<?, ?it/s]"
      ]
     },
     "metadata": {},
     "output_type": "display_data"
    },
    {
     "data": {
      "application/vnd.jupyter.widget-view+json": {
       "model_id": "2edb757c8315457eaf471409fd0477d5",
       "version_major": 2,
       "version_minor": 0
      },
      "text/plain": [
       "Epoch:   0%|          | 0/30 [00:00<?, ?it/s]"
      ]
     },
     "metadata": {},
     "output_type": "display_data"
    },
    {
     "data": {
      "application/vnd.jupyter.widget-view+json": {
       "model_id": "e4ef9d8dac334464960abc29f2469b08",
       "version_major": 2,
       "version_minor": 0
      },
      "text/plain": [
       "Step:   0%|          | 0/4395 [00:00<?, ?it/s]"
      ]
     },
     "metadata": {},
     "output_type": "display_data"
    }
   ],
   "source": [
    "nn_params = {\n",
    "    'config':  [\n",
    "        {'unit': 64, 'activation': 'swish', 'batch_norm': False},\n",
    "        {'unit': 128, 'activation': 'swish', 'batch_norm': False},\n",
    "        {'unit': 128, 'activation': 'swish', 'batch_norm': False},\n",
    "        {'unit': 64, 'activation': 'swish', 'batch_norm': False},\n",
    "    ]\n",
    "}\n",
    "def scheduler(epoch, lr):\n",
    "    if epoch < 10:\n",
    "        return lr\n",
    "    else:\n",
    "        return lr * np.cos((epoch - 9) / 25 * np.pi)\n",
    "hparams = {\n",
    "    'model_params': {\n",
    "        'model_params': nn_params,\n",
    "        'epochs': 30,\n",
    "        'optimizer': ('Adam', {'learning_rate': 0.0001}),\n",
    "        'batch_size': 128, 'shuffle_size': 204800,\n",
    "        'early_stopping': None, 'reduce_lr_on_plateau': None, 'lr_scheduler': {'schedule': scheduler}\n",
    "    }, 'X_std': ['Age', 'Height', 'Weight', 'Duration', 'Duration_log', 'Heart_Rate', 'Heart_Rate_sqrt_d', 'Body_Temp'], 'X_num': ['Sex']\n",
    "}\n",
    "\n",
    "result = sc.cv_result('nn1', df_train, kf, hparams, config, nn_adapter, rerun = 1)"
   ]
  },
  {
   "cell_type": "code",
   "execution_count": 15,
   "id": "4d857444-674d-43ef-8ce1-97d76d74f0ae",
   "metadata": {},
   "outputs": [
    {
     "data": {
      "text/plain": [
       "(0.05964453014380632,\n",
       " [0.059431297182173874,\n",
       "  0.0604458558048441,\n",
       "  0.058415995996832025,\n",
       "  0.06028497159137528])"
      ]
     },
     "execution_count": 15,
     "metadata": {},
     "output_type": "execute_result"
    }
   ],
   "source": [
    "np.mean(result['valid_scores']), result['valid_scores']"
   ]
  },
  {
   "cell_type": "markdown",
   "id": "e3099e1f-05bb-44df-89cd-aec6ac143bea",
   "metadata": {},
   "source": [
    "# NN2"
   ]
  },
  {
   "cell_type": "code",
   "execution_count": 11,
   "id": "dd1003f8-dfbf-43ea-8d2c-b954c2396346",
   "metadata": {},
   "outputs": [
    {
     "data": {
      "text/plain": [
       "(0.0599099975079298,\n",
       " [0.05969740077853203,\n",
       "  0.06047586351633072,\n",
       "  0.05873413011431694,\n",
       "  0.06073259562253952])"
      ]
     },
     "execution_count": 11,
     "metadata": {},
     "output_type": "execute_result"
    }
   ],
   "source": [
    "nn_params = {\n",
    "    'config':  [\n",
    "        {'unit': 128, 'activation': 'swish', 'batch_norm': False},\n",
    "        {'unit': 256, 'activation': 'swish', 'batch_norm': False},\n",
    "        {'unit': 256, 'activation': 'swish', 'batch_norm': False},\n",
    "        {'unit': 128, 'activation': 'swish', 'batch_norm': False},\n",
    "    ]\n",
    "}\n",
    "\n",
    "hparams = {\n",
    "    'model_params': {\n",
    "        'model_params': nn_params,\n",
    "        'epochs': 30,\n",
    "        'optimizer': ('Adam', {'learning_rate': 0.0001}),\n",
    "        'batch_size': 128, 'shuffle_size': 204800,\n",
    "        'early_stopping': None, 'reduce_lr_on_plateau': None, 'lr_scheduler': {'schedule': scheduler}\n",
    "    }, 'X_std': ['Age', 'Height', 'Weight', 'Duration', 'Duration_log', 'Heart_Rate', 'Heart_Rate_sqrt_d', 'Body_Temp'], 'X_num': ['Sex']\n",
    "}\n",
    "\n",
    "result = sc.cv_result('nn2', df_train, kf, hparams, config, nn_adapter, rerun = 0)\n",
    "np.mean(result['valid_scores']), result['valid_scores']"
   ]
  },
  {
   "cell_type": "markdown",
   "id": "31b3f4df-f6ad-4bf6-bf2a-5b730b7943dc",
   "metadata": {},
   "source": [
    "# NN3"
   ]
  },
  {
   "cell_type": "code",
   "execution_count": 16,
   "id": "a53bc60c-667e-4e7b-ae54-79e97172f419",
   "metadata": {},
   "outputs": [
    {
     "data": {
      "application/vnd.jupyter.widget-view+json": {
       "model_id": "24d315d5f246452296bf41664b33a65f",
       "version_major": 2,
       "version_minor": 0
      },
      "text/plain": [
       "Fold:   0%|          | 0/4 [00:00<?, ?it/s]"
      ]
     },
     "metadata": {},
     "output_type": "display_data"
    },
    {
     "data": {
      "application/vnd.jupyter.widget-view+json": {
       "model_id": "6c625a13a58d487db5aa397940170d90",
       "version_major": 2,
       "version_minor": 0
      },
      "text/plain": [
       "Epoch:   0%|          | 0/30 [00:00<?, ?it/s]"
      ]
     },
     "metadata": {},
     "output_type": "display_data"
    },
    {
     "data": {
      "application/vnd.jupyter.widget-view+json": {
       "model_id": "586ef514231749c9a294309b0e923af9",
       "version_major": 2,
       "version_minor": 0
      },
      "text/plain": [
       "Step:   0%|          | 0/4395 [00:00<?, ?it/s]"
      ]
     },
     "metadata": {},
     "output_type": "display_data"
    },
    {
     "data": {
      "application/vnd.jupyter.widget-view+json": {
       "model_id": "68907d4f073d4fa1b2bd857ae39d3f11",
       "version_major": 2,
       "version_minor": 0
      },
      "text/plain": [
       "Epoch:   0%|          | 0/30 [00:00<?, ?it/s]"
      ]
     },
     "metadata": {},
     "output_type": "display_data"
    },
    {
     "data": {
      "application/vnd.jupyter.widget-view+json": {
       "model_id": "168c7049620a42d19c37836d6a63fb7f",
       "version_major": 2,
       "version_minor": 0
      },
      "text/plain": [
       "Step:   0%|          | 0/4395 [00:00<?, ?it/s]"
      ]
     },
     "metadata": {},
     "output_type": "display_data"
    },
    {
     "data": {
      "application/vnd.jupyter.widget-view+json": {
       "model_id": "deac2df278bd4ea9a76a6210a14a2c1c",
       "version_major": 2,
       "version_minor": 0
      },
      "text/plain": [
       "Epoch:   0%|          | 0/30 [00:00<?, ?it/s]"
      ]
     },
     "metadata": {},
     "output_type": "display_data"
    },
    {
     "data": {
      "application/vnd.jupyter.widget-view+json": {
       "model_id": "7fb3b41466fa4d93a2e1f432433b84fa",
       "version_major": 2,
       "version_minor": 0
      },
      "text/plain": [
       "Step:   0%|          | 0/4395 [00:00<?, ?it/s]"
      ]
     },
     "metadata": {},
     "output_type": "display_data"
    },
    {
     "data": {
      "application/vnd.jupyter.widget-view+json": {
       "model_id": "27d696b164dc4c94a841ffed71cfbf63",
       "version_major": 2,
       "version_minor": 0
      },
      "text/plain": [
       "Epoch:   0%|          | 0/30 [00:00<?, ?it/s]"
      ]
     },
     "metadata": {},
     "output_type": "display_data"
    },
    {
     "data": {
      "application/vnd.jupyter.widget-view+json": {
       "model_id": "2a8184307a5f49d8bcff450841870676",
       "version_major": 2,
       "version_minor": 0
      },
      "text/plain": [
       "Step:   0%|          | 0/4395 [00:00<?, ?it/s]"
      ]
     },
     "metadata": {},
     "output_type": "display_data"
    },
    {
     "data": {
      "text/plain": [
       "(0.059880093671381474,\n",
       " [0.05979902297258377,\n",
       "  0.06053208187222481,\n",
       "  0.0588604137301445,\n",
       "  0.060328856110572815])"
      ]
     },
     "execution_count": 16,
     "metadata": {},
     "output_type": "execute_result"
    }
   ],
   "source": [
    "nn_params = {\n",
    "    'config':  [\n",
    "        {'unit': 64, 'activation': 'swish', 'batch_norm': False},\n",
    "        {'unit': 128, 'activation': 'swish', 'batch_norm': False},\n",
    "        {'unit': 256, 'activation': 'swish', 'batch_norm': False},\n",
    "        {'unit': 64, 'activation': 'swish', 'batch_norm': False},\n",
    "    ]\n",
    "}\n",
    "\n",
    "hparams = {\n",
    "    'model_params': {\n",
    "        'model_params': nn_params,\n",
    "        'epochs': 30,\n",
    "        'optimizer': ('Adam', {'learning_rate': 0.0001}),\n",
    "        'batch_size': 128, 'shuffle_size': 204800,\n",
    "        'early_stopping': None, 'reduce_lr_on_plateau': None, 'lr_scheduler': {'schedule': scheduler}\n",
    "    }, 'X_std': ['Age', 'Height', 'Weight', 'Duration', 'Duration_log', 'Heart_Rate', 'Heart_Rate_sqrt_d', 'Body_Temp'], 'X_num': ['Sex']\n",
    "}\n",
    "\n",
    "result = sc.cv_result('nn3', df_train, kf, hparams, config, nn_adapter, rerun = 0)\n",
    "np.mean(result['valid_scores']), result['valid_scores']"
   ]
  },
  {
   "cell_type": "markdown",
   "id": "7405ccbf-e31c-4d27-97d7-80264d374838",
   "metadata": {},
   "source": [
    "# Ensemble"
   ]
  },
  {
   "cell_type": "code",
   "execution_count": 24,
   "id": "4f8b3c8a-518f-44c4-a5ad-a0187e486f4c",
   "metadata": {},
   "outputs": [],
   "source": [
    "df_stk = sc.read_prds(\n",
    "    ['lgb2', 'lgb1', 'xgb1', 'xgb2', 'cb1', 'cb2', 'cb3', 'cb4', 'nn1', 'nn2', 'nn3'], index = df_train.index\n",
    ").assign(\n",
    "    Calories_Log = df_train[target]\n",
    ")"
   ]
  },
  {
   "cell_type": "markdown",
   "id": "07f114e3-3ced-46af-8c2c-abdeda01b2e2",
   "metadata": {},
   "source": [
    "## Voting"
   ]
  },
  {
   "cell_type": "code",
   "execution_count": 19,
   "id": "36cca583-ac74-4d12-8abc-7497b2daacef",
   "metadata": {},
   "outputs": [
    {
     "data": {
      "text/plain": [
       "0.05940315042664131"
      ]
     },
     "execution_count": 19,
     "metadata": {},
     "output_type": "execute_result"
    }
   ],
   "source": [
    "root_mean_squared_error(\n",
    "    df_train[target], df_stk.iloc[:, :-1].mean(axis = 1)\n",
    ")"
   ]
  },
  {
   "cell_type": "markdown",
   "id": "1aa35c39-7f90-431b-9ee8-a0fd389e248c",
   "metadata": {},
   "source": [
    "## Stacking"
   ]
  },
  {
   "cell_type": "code",
   "execution_count": 25,
   "id": "545ac63c-a5d4-4640-abbe-a40976425ae0",
   "metadata": {},
   "outputs": [
    {
     "data": {
      "application/vnd.jupyter.widget-view+json": {
       "model_id": "9e41c9f412324b30b382b2cf9f8e3dbf",
       "version_major": 2,
       "version_minor": 0
      },
      "text/plain": [
       "Fold:   0%|          | 0/4 [00:00<?, ?it/s]"
      ]
     },
     "metadata": {},
     "output_type": "display_data"
    },
    {
     "data": {
      "text/plain": [
       "0.0593831595602206"
      ]
     },
     "execution_count": 25,
     "metadata": {},
     "output_type": "execute_result"
    }
   ],
   "source": [
    "X_stk = ['lgb2', 'lgb1', 'xgb1', 'xgb2', 'cb1', 'cb2', 'cb3', 'cb4', 'nn1', 'nn2']\n",
    "hparams = {\n",
    "    'X_num': X_stk\n",
    "}\n",
    "result = sgml.cv(df_stk, kf, hparams, config, lr_adapter)\n",
    "np.mean(result['valid_scores'])"
   ]
  },
  {
   "cell_type": "code",
   "execution_count": 28,
   "id": "03db0cb0-1ad1-4baa-b139-91bc83aadbbb",
   "metadata": {},
   "outputs": [
    {
     "data": {
      "application/vnd.jupyter.widget-view+json": {
       "model_id": "e3f5749043e344b290cbbc467797941c",
       "version_major": 2,
       "version_minor": 0
      },
      "text/plain": [
       "Epoch:   0%|          | 0/30 [00:00<?, ?it/s]"
      ]
     },
     "metadata": {},
     "output_type": "display_data"
    },
    {
     "data": {
      "application/vnd.jupyter.widget-view+json": {
       "model_id": "76282809843e493fae01297f4c34e3e7",
       "version_major": 2,
       "version_minor": 0
      },
      "text/plain": [
       "Step:   0%|          | 0/5860 [00:00<?, ?it/s]"
      ]
     },
     "metadata": {},
     "output_type": "display_data"
    },
    {
     "data": {
      "application/vnd.jupyter.widget-view+json": {
       "model_id": "d43a964b04cc410d910525587fd76535",
       "version_major": 2,
       "version_minor": 0
      },
      "text/plain": [
       "Epoch:   0%|          | 0/30 [00:00<?, ?it/s]"
      ]
     },
     "metadata": {},
     "output_type": "display_data"
    },
    {
     "data": {
      "application/vnd.jupyter.widget-view+json": {
       "model_id": "0372c674fbb24e9b8ed3da024c0b1647",
       "version_major": 2,
       "version_minor": 0
      },
      "text/plain": [
       "Step:   0%|          | 0/5860 [00:00<?, ?it/s]"
      ]
     },
     "metadata": {},
     "output_type": "display_data"
    }
   ],
   "source": [
    "for i in X_stk:\n",
    "    sc.train_cv(i, df_train, config)"
   ]
  },
  {
   "cell_type": "code",
   "execution_count": 35,
   "id": "49aec6ad-322c-4921-b73a-25edf56c122e",
   "metadata": {},
   "outputs": [
    {
     "data": {
      "text/html": [
       "<style>#sk-container-id-1 {\n",
       "  /* Definition of color scheme common for light and dark mode */\n",
       "  --sklearn-color-text: #000;\n",
       "  --sklearn-color-text-muted: #666;\n",
       "  --sklearn-color-line: gray;\n",
       "  /* Definition of color scheme for unfitted estimators */\n",
       "  --sklearn-color-unfitted-level-0: #fff5e6;\n",
       "  --sklearn-color-unfitted-level-1: #f6e4d2;\n",
       "  --sklearn-color-unfitted-level-2: #ffe0b3;\n",
       "  --sklearn-color-unfitted-level-3: chocolate;\n",
       "  /* Definition of color scheme for fitted estimators */\n",
       "  --sklearn-color-fitted-level-0: #f0f8ff;\n",
       "  --sklearn-color-fitted-level-1: #d4ebff;\n",
       "  --sklearn-color-fitted-level-2: #b3dbfd;\n",
       "  --sklearn-color-fitted-level-3: cornflowerblue;\n",
       "\n",
       "  /* Specific color for light theme */\n",
       "  --sklearn-color-text-on-default-background: var(--sg-text-color, var(--theme-code-foreground, var(--jp-content-font-color1, black)));\n",
       "  --sklearn-color-background: var(--sg-background-color, var(--theme-background, var(--jp-layout-color0, white)));\n",
       "  --sklearn-color-border-box: var(--sg-text-color, var(--theme-code-foreground, var(--jp-content-font-color1, black)));\n",
       "  --sklearn-color-icon: #696969;\n",
       "\n",
       "  @media (prefers-color-scheme: dark) {\n",
       "    /* Redefinition of color scheme for dark theme */\n",
       "    --sklearn-color-text-on-default-background: var(--sg-text-color, var(--theme-code-foreground, var(--jp-content-font-color1, white)));\n",
       "    --sklearn-color-background: var(--sg-background-color, var(--theme-background, var(--jp-layout-color0, #111)));\n",
       "    --sklearn-color-border-box: var(--sg-text-color, var(--theme-code-foreground, var(--jp-content-font-color1, white)));\n",
       "    --sklearn-color-icon: #878787;\n",
       "  }\n",
       "}\n",
       "\n",
       "#sk-container-id-1 {\n",
       "  color: var(--sklearn-color-text);\n",
       "}\n",
       "\n",
       "#sk-container-id-1 pre {\n",
       "  padding: 0;\n",
       "}\n",
       "\n",
       "#sk-container-id-1 input.sk-hidden--visually {\n",
       "  border: 0;\n",
       "  clip: rect(1px 1px 1px 1px);\n",
       "  clip: rect(1px, 1px, 1px, 1px);\n",
       "  height: 1px;\n",
       "  margin: -1px;\n",
       "  overflow: hidden;\n",
       "  padding: 0;\n",
       "  position: absolute;\n",
       "  width: 1px;\n",
       "}\n",
       "\n",
       "#sk-container-id-1 div.sk-dashed-wrapped {\n",
       "  border: 1px dashed var(--sklearn-color-line);\n",
       "  margin: 0 0.4em 0.5em 0.4em;\n",
       "  box-sizing: border-box;\n",
       "  padding-bottom: 0.4em;\n",
       "  background-color: var(--sklearn-color-background);\n",
       "}\n",
       "\n",
       "#sk-container-id-1 div.sk-container {\n",
       "  /* jupyter's `normalize.less` sets `[hidden] { display: none; }`\n",
       "     but bootstrap.min.css set `[hidden] { display: none !important; }`\n",
       "     so we also need the `!important` here to be able to override the\n",
       "     default hidden behavior on the sphinx rendered scikit-learn.org.\n",
       "     See: https://github.com/scikit-learn/scikit-learn/issues/21755 */\n",
       "  display: inline-block !important;\n",
       "  position: relative;\n",
       "}\n",
       "\n",
       "#sk-container-id-1 div.sk-text-repr-fallback {\n",
       "  display: none;\n",
       "}\n",
       "\n",
       "div.sk-parallel-item,\n",
       "div.sk-serial,\n",
       "div.sk-item {\n",
       "  /* draw centered vertical line to link estimators */\n",
       "  background-image: linear-gradient(var(--sklearn-color-text-on-default-background), var(--sklearn-color-text-on-default-background));\n",
       "  background-size: 2px 100%;\n",
       "  background-repeat: no-repeat;\n",
       "  background-position: center center;\n",
       "}\n",
       "\n",
       "/* Parallel-specific style estimator block */\n",
       "\n",
       "#sk-container-id-1 div.sk-parallel-item::after {\n",
       "  content: \"\";\n",
       "  width: 100%;\n",
       "  border-bottom: 2px solid var(--sklearn-color-text-on-default-background);\n",
       "  flex-grow: 1;\n",
       "}\n",
       "\n",
       "#sk-container-id-1 div.sk-parallel {\n",
       "  display: flex;\n",
       "  align-items: stretch;\n",
       "  justify-content: center;\n",
       "  background-color: var(--sklearn-color-background);\n",
       "  position: relative;\n",
       "}\n",
       "\n",
       "#sk-container-id-1 div.sk-parallel-item {\n",
       "  display: flex;\n",
       "  flex-direction: column;\n",
       "}\n",
       "\n",
       "#sk-container-id-1 div.sk-parallel-item:first-child::after {\n",
       "  align-self: flex-end;\n",
       "  width: 50%;\n",
       "}\n",
       "\n",
       "#sk-container-id-1 div.sk-parallel-item:last-child::after {\n",
       "  align-self: flex-start;\n",
       "  width: 50%;\n",
       "}\n",
       "\n",
       "#sk-container-id-1 div.sk-parallel-item:only-child::after {\n",
       "  width: 0;\n",
       "}\n",
       "\n",
       "/* Serial-specific style estimator block */\n",
       "\n",
       "#sk-container-id-1 div.sk-serial {\n",
       "  display: flex;\n",
       "  flex-direction: column;\n",
       "  align-items: center;\n",
       "  background-color: var(--sklearn-color-background);\n",
       "  padding-right: 1em;\n",
       "  padding-left: 1em;\n",
       "}\n",
       "\n",
       "\n",
       "/* Toggleable style: style used for estimator/Pipeline/ColumnTransformer box that is\n",
       "clickable and can be expanded/collapsed.\n",
       "- Pipeline and ColumnTransformer use this feature and define the default style\n",
       "- Estimators will overwrite some part of the style using the `sk-estimator` class\n",
       "*/\n",
       "\n",
       "/* Pipeline and ColumnTransformer style (default) */\n",
       "\n",
       "#sk-container-id-1 div.sk-toggleable {\n",
       "  /* Default theme specific background. It is overwritten whether we have a\n",
       "  specific estimator or a Pipeline/ColumnTransformer */\n",
       "  background-color: var(--sklearn-color-background);\n",
       "}\n",
       "\n",
       "/* Toggleable label */\n",
       "#sk-container-id-1 label.sk-toggleable__label {\n",
       "  cursor: pointer;\n",
       "  display: flex;\n",
       "  width: 100%;\n",
       "  margin-bottom: 0;\n",
       "  padding: 0.5em;\n",
       "  box-sizing: border-box;\n",
       "  text-align: center;\n",
       "  align-items: start;\n",
       "  justify-content: space-between;\n",
       "  gap: 0.5em;\n",
       "}\n",
       "\n",
       "#sk-container-id-1 label.sk-toggleable__label .caption {\n",
       "  font-size: 0.6rem;\n",
       "  font-weight: lighter;\n",
       "  color: var(--sklearn-color-text-muted);\n",
       "}\n",
       "\n",
       "#sk-container-id-1 label.sk-toggleable__label-arrow:before {\n",
       "  /* Arrow on the left of the label */\n",
       "  content: \"▸\";\n",
       "  float: left;\n",
       "  margin-right: 0.25em;\n",
       "  color: var(--sklearn-color-icon);\n",
       "}\n",
       "\n",
       "#sk-container-id-1 label.sk-toggleable__label-arrow:hover:before {\n",
       "  color: var(--sklearn-color-text);\n",
       "}\n",
       "\n",
       "/* Toggleable content - dropdown */\n",
       "\n",
       "#sk-container-id-1 div.sk-toggleable__content {\n",
       "  max-height: 0;\n",
       "  max-width: 0;\n",
       "  overflow: hidden;\n",
       "  text-align: left;\n",
       "  /* unfitted */\n",
       "  background-color: var(--sklearn-color-unfitted-level-0);\n",
       "}\n",
       "\n",
       "#sk-container-id-1 div.sk-toggleable__content.fitted {\n",
       "  /* fitted */\n",
       "  background-color: var(--sklearn-color-fitted-level-0);\n",
       "}\n",
       "\n",
       "#sk-container-id-1 div.sk-toggleable__content pre {\n",
       "  margin: 0.2em;\n",
       "  border-radius: 0.25em;\n",
       "  color: var(--sklearn-color-text);\n",
       "  /* unfitted */\n",
       "  background-color: var(--sklearn-color-unfitted-level-0);\n",
       "}\n",
       "\n",
       "#sk-container-id-1 div.sk-toggleable__content.fitted pre {\n",
       "  /* unfitted */\n",
       "  background-color: var(--sklearn-color-fitted-level-0);\n",
       "}\n",
       "\n",
       "#sk-container-id-1 input.sk-toggleable__control:checked~div.sk-toggleable__content {\n",
       "  /* Expand drop-down */\n",
       "  max-height: 200px;\n",
       "  max-width: 100%;\n",
       "  overflow: auto;\n",
       "}\n",
       "\n",
       "#sk-container-id-1 input.sk-toggleable__control:checked~label.sk-toggleable__label-arrow:before {\n",
       "  content: \"▾\";\n",
       "}\n",
       "\n",
       "/* Pipeline/ColumnTransformer-specific style */\n",
       "\n",
       "#sk-container-id-1 div.sk-label input.sk-toggleable__control:checked~label.sk-toggleable__label {\n",
       "  color: var(--sklearn-color-text);\n",
       "  background-color: var(--sklearn-color-unfitted-level-2);\n",
       "}\n",
       "\n",
       "#sk-container-id-1 div.sk-label.fitted input.sk-toggleable__control:checked~label.sk-toggleable__label {\n",
       "  background-color: var(--sklearn-color-fitted-level-2);\n",
       "}\n",
       "\n",
       "/* Estimator-specific style */\n",
       "\n",
       "/* Colorize estimator box */\n",
       "#sk-container-id-1 div.sk-estimator input.sk-toggleable__control:checked~label.sk-toggleable__label {\n",
       "  /* unfitted */\n",
       "  background-color: var(--sklearn-color-unfitted-level-2);\n",
       "}\n",
       "\n",
       "#sk-container-id-1 div.sk-estimator.fitted input.sk-toggleable__control:checked~label.sk-toggleable__label {\n",
       "  /* fitted */\n",
       "  background-color: var(--sklearn-color-fitted-level-2);\n",
       "}\n",
       "\n",
       "#sk-container-id-1 div.sk-label label.sk-toggleable__label,\n",
       "#sk-container-id-1 div.sk-label label {\n",
       "  /* The background is the default theme color */\n",
       "  color: var(--sklearn-color-text-on-default-background);\n",
       "}\n",
       "\n",
       "/* On hover, darken the color of the background */\n",
       "#sk-container-id-1 div.sk-label:hover label.sk-toggleable__label {\n",
       "  color: var(--sklearn-color-text);\n",
       "  background-color: var(--sklearn-color-unfitted-level-2);\n",
       "}\n",
       "\n",
       "/* Label box, darken color on hover, fitted */\n",
       "#sk-container-id-1 div.sk-label.fitted:hover label.sk-toggleable__label.fitted {\n",
       "  color: var(--sklearn-color-text);\n",
       "  background-color: var(--sklearn-color-fitted-level-2);\n",
       "}\n",
       "\n",
       "/* Estimator label */\n",
       "\n",
       "#sk-container-id-1 div.sk-label label {\n",
       "  font-family: monospace;\n",
       "  font-weight: bold;\n",
       "  display: inline-block;\n",
       "  line-height: 1.2em;\n",
       "}\n",
       "\n",
       "#sk-container-id-1 div.sk-label-container {\n",
       "  text-align: center;\n",
       "}\n",
       "\n",
       "/* Estimator-specific */\n",
       "#sk-container-id-1 div.sk-estimator {\n",
       "  font-family: monospace;\n",
       "  border: 1px dotted var(--sklearn-color-border-box);\n",
       "  border-radius: 0.25em;\n",
       "  box-sizing: border-box;\n",
       "  margin-bottom: 0.5em;\n",
       "  /* unfitted */\n",
       "  background-color: var(--sklearn-color-unfitted-level-0);\n",
       "}\n",
       "\n",
       "#sk-container-id-1 div.sk-estimator.fitted {\n",
       "  /* fitted */\n",
       "  background-color: var(--sklearn-color-fitted-level-0);\n",
       "}\n",
       "\n",
       "/* on hover */\n",
       "#sk-container-id-1 div.sk-estimator:hover {\n",
       "  /* unfitted */\n",
       "  background-color: var(--sklearn-color-unfitted-level-2);\n",
       "}\n",
       "\n",
       "#sk-container-id-1 div.sk-estimator.fitted:hover {\n",
       "  /* fitted */\n",
       "  background-color: var(--sklearn-color-fitted-level-2);\n",
       "}\n",
       "\n",
       "/* Specification for estimator info (e.g. \"i\" and \"?\") */\n",
       "\n",
       "/* Common style for \"i\" and \"?\" */\n",
       "\n",
       ".sk-estimator-doc-link,\n",
       "a:link.sk-estimator-doc-link,\n",
       "a:visited.sk-estimator-doc-link {\n",
       "  float: right;\n",
       "  font-size: smaller;\n",
       "  line-height: 1em;\n",
       "  font-family: monospace;\n",
       "  background-color: var(--sklearn-color-background);\n",
       "  border-radius: 1em;\n",
       "  height: 1em;\n",
       "  width: 1em;\n",
       "  text-decoration: none !important;\n",
       "  margin-left: 0.5em;\n",
       "  text-align: center;\n",
       "  /* unfitted */\n",
       "  border: var(--sklearn-color-unfitted-level-1) 1pt solid;\n",
       "  color: var(--sklearn-color-unfitted-level-1);\n",
       "}\n",
       "\n",
       ".sk-estimator-doc-link.fitted,\n",
       "a:link.sk-estimator-doc-link.fitted,\n",
       "a:visited.sk-estimator-doc-link.fitted {\n",
       "  /* fitted */\n",
       "  border: var(--sklearn-color-fitted-level-1) 1pt solid;\n",
       "  color: var(--sklearn-color-fitted-level-1);\n",
       "}\n",
       "\n",
       "/* On hover */\n",
       "div.sk-estimator:hover .sk-estimator-doc-link:hover,\n",
       ".sk-estimator-doc-link:hover,\n",
       "div.sk-label-container:hover .sk-estimator-doc-link:hover,\n",
       ".sk-estimator-doc-link:hover {\n",
       "  /* unfitted */\n",
       "  background-color: var(--sklearn-color-unfitted-level-3);\n",
       "  color: var(--sklearn-color-background);\n",
       "  text-decoration: none;\n",
       "}\n",
       "\n",
       "div.sk-estimator.fitted:hover .sk-estimator-doc-link.fitted:hover,\n",
       ".sk-estimator-doc-link.fitted:hover,\n",
       "div.sk-label-container:hover .sk-estimator-doc-link.fitted:hover,\n",
       ".sk-estimator-doc-link.fitted:hover {\n",
       "  /* fitted */\n",
       "  background-color: var(--sklearn-color-fitted-level-3);\n",
       "  color: var(--sklearn-color-background);\n",
       "  text-decoration: none;\n",
       "}\n",
       "\n",
       "/* Span, style for the box shown on hovering the info icon */\n",
       ".sk-estimator-doc-link span {\n",
       "  display: none;\n",
       "  z-index: 9999;\n",
       "  position: relative;\n",
       "  font-weight: normal;\n",
       "  right: .2ex;\n",
       "  padding: .5ex;\n",
       "  margin: .5ex;\n",
       "  width: min-content;\n",
       "  min-width: 20ex;\n",
       "  max-width: 50ex;\n",
       "  color: var(--sklearn-color-text);\n",
       "  box-shadow: 2pt 2pt 4pt #999;\n",
       "  /* unfitted */\n",
       "  background: var(--sklearn-color-unfitted-level-0);\n",
       "  border: .5pt solid var(--sklearn-color-unfitted-level-3);\n",
       "}\n",
       "\n",
       ".sk-estimator-doc-link.fitted span {\n",
       "  /* fitted */\n",
       "  background: var(--sklearn-color-fitted-level-0);\n",
       "  border: var(--sklearn-color-fitted-level-3);\n",
       "}\n",
       "\n",
       ".sk-estimator-doc-link:hover span {\n",
       "  display: block;\n",
       "}\n",
       "\n",
       "/* \"?\"-specific style due to the `<a>` HTML tag */\n",
       "\n",
       "#sk-container-id-1 a.estimator_doc_link {\n",
       "  float: right;\n",
       "  font-size: 1rem;\n",
       "  line-height: 1em;\n",
       "  font-family: monospace;\n",
       "  background-color: var(--sklearn-color-background);\n",
       "  border-radius: 1rem;\n",
       "  height: 1rem;\n",
       "  width: 1rem;\n",
       "  text-decoration: none;\n",
       "  /* unfitted */\n",
       "  color: var(--sklearn-color-unfitted-level-1);\n",
       "  border: var(--sklearn-color-unfitted-level-1) 1pt solid;\n",
       "}\n",
       "\n",
       "#sk-container-id-1 a.estimator_doc_link.fitted {\n",
       "  /* fitted */\n",
       "  border: var(--sklearn-color-fitted-level-1) 1pt solid;\n",
       "  color: var(--sklearn-color-fitted-level-1);\n",
       "}\n",
       "\n",
       "/* On hover */\n",
       "#sk-container-id-1 a.estimator_doc_link:hover {\n",
       "  /* unfitted */\n",
       "  background-color: var(--sklearn-color-unfitted-level-3);\n",
       "  color: var(--sklearn-color-background);\n",
       "  text-decoration: none;\n",
       "}\n",
       "\n",
       "#sk-container-id-1 a.estimator_doc_link.fitted:hover {\n",
       "  /* fitted */\n",
       "  background-color: var(--sklearn-color-fitted-level-3);\n",
       "}\n",
       "</style><div id=\"sk-container-id-1\" class=\"sk-top-container\"><div class=\"sk-text-repr-fallback\"><pre>LinearRegression()</pre><b>In a Jupyter environment, please rerun this cell to show the HTML representation or trust the notebook. <br />On GitHub, the HTML representation is unable to render, please try loading this page with nbviewer.org.</b></div><div class=\"sk-container\" hidden><div class=\"sk-item\"><div class=\"sk-estimator fitted sk-toggleable\"><input class=\"sk-toggleable__control sk-hidden--visually\" id=\"sk-estimator-id-1\" type=\"checkbox\" checked><label for=\"sk-estimator-id-1\" class=\"sk-toggleable__label fitted sk-toggleable__label-arrow\"><div><div>LinearRegression</div></div><div><a class=\"sk-estimator-doc-link fitted\" rel=\"noreferrer\" target=\"_blank\" href=\"https://scikit-learn.org/1.6/modules/generated/sklearn.linear_model.LinearRegression.html\">?<span>Documentation for LinearRegression</span></a><span class=\"sk-estimator-doc-link fitted\">i<span>Fitted</span></span></div></label><div class=\"sk-toggleable__content fitted\"><pre>LinearRegression()</pre></div> </div></div></div></div>"
      ],
      "text/plain": [
       "LinearRegression()"
      ]
     },
     "execution_count": 35,
     "metadata": {},
     "output_type": "execute_result"
    }
   ],
   "source": [
    "from sklearn.linear_model import LinearRegression\n",
    "reg_meta_lr = LinearRegression()\n",
    "reg_meta_lr.fit(df_stk[X_stk], df_train[target])"
   ]
  },
  {
   "cell_type": "code",
   "execution_count": 36,
   "id": "6f04fc41-f30b-495d-a4b2-22cb3ae4c2ae",
   "metadata": {},
   "outputs": [
    {
     "data": {
      "text/html": [
       "<div>\n",
       "<style scoped>\n",
       "    .dataframe tbody tr th:only-of-type {\n",
       "        vertical-align: middle;\n",
       "    }\n",
       "\n",
       "    .dataframe tbody tr th {\n",
       "        vertical-align: top;\n",
       "    }\n",
       "\n",
       "    .dataframe thead th {\n",
       "        text-align: right;\n",
       "    }\n",
       "</style>\n",
       "<table border=\"1\" class=\"dataframe\">\n",
       "  <thead>\n",
       "    <tr style=\"text-align: right;\">\n",
       "      <th></th>\n",
       "      <th>lgb2</th>\n",
       "      <th>lgb1</th>\n",
       "      <th>xgb1</th>\n",
       "      <th>xgb2</th>\n",
       "      <th>cb1</th>\n",
       "      <th>cb2</th>\n",
       "      <th>cb3</th>\n",
       "      <th>cb4</th>\n",
       "      <th>nn1</th>\n",
       "      <th>nn2</th>\n",
       "    </tr>\n",
       "    <tr>\n",
       "      <th>id</th>\n",
       "      <th></th>\n",
       "      <th></th>\n",
       "      <th></th>\n",
       "      <th></th>\n",
       "      <th></th>\n",
       "      <th></th>\n",
       "      <th></th>\n",
       "      <th></th>\n",
       "      <th></th>\n",
       "      <th></th>\n",
       "    </tr>\n",
       "  </thead>\n",
       "  <tbody>\n",
       "    <tr>\n",
       "      <th>750000</th>\n",
       "      <td>3.332904</td>\n",
       "      <td>3.330881</td>\n",
       "      <td>3.331915</td>\n",
       "      <td>3.341200</td>\n",
       "      <td>3.333360</td>\n",
       "      <td>3.339220</td>\n",
       "      <td>3.337554</td>\n",
       "      <td>3.337476</td>\n",
       "      <td>3.345670</td>\n",
       "      <td>3.343016</td>\n",
       "    </tr>\n",
       "    <tr>\n",
       "      <th>750001</th>\n",
       "      <td>4.701861</td>\n",
       "      <td>4.698709</td>\n",
       "      <td>4.702695</td>\n",
       "      <td>4.700873</td>\n",
       "      <td>4.692424</td>\n",
       "      <td>4.691211</td>\n",
       "      <td>4.689848</td>\n",
       "      <td>4.688161</td>\n",
       "      <td>4.694196</td>\n",
       "      <td>4.691476</td>\n",
       "    </tr>\n",
       "    <tr>\n",
       "      <th>750002</th>\n",
       "      <td>4.456351</td>\n",
       "      <td>4.469250</td>\n",
       "      <td>4.475701</td>\n",
       "      <td>4.468938</td>\n",
       "      <td>4.473388</td>\n",
       "      <td>4.476912</td>\n",
       "      <td>4.481037</td>\n",
       "      <td>4.479083</td>\n",
       "      <td>4.482096</td>\n",
       "      <td>4.475423</td>\n",
       "    </tr>\n",
       "    <tr>\n",
       "      <th>750003</th>\n",
       "      <td>4.835725</td>\n",
       "      <td>4.828052</td>\n",
       "      <td>4.834696</td>\n",
       "      <td>4.844317</td>\n",
       "      <td>4.841058</td>\n",
       "      <td>4.841173</td>\n",
       "      <td>4.838728</td>\n",
       "      <td>4.839390</td>\n",
       "      <td>4.839857</td>\n",
       "      <td>4.841015</td>\n",
       "    </tr>\n",
       "    <tr>\n",
       "      <th>750004</th>\n",
       "      <td>4.335238</td>\n",
       "      <td>4.355100</td>\n",
       "      <td>4.339209</td>\n",
       "      <td>4.332186</td>\n",
       "      <td>4.345081</td>\n",
       "      <td>4.345119</td>\n",
       "      <td>4.341792</td>\n",
       "      <td>4.340342</td>\n",
       "      <td>4.346127</td>\n",
       "      <td>4.347120</td>\n",
       "    </tr>\n",
       "  </tbody>\n",
       "</table>\n",
       "</div>"
      ],
      "text/plain": [
       "            lgb2      lgb1      xgb1      xgb2       cb1       cb2       cb3  \\\n",
       "id                                                                             \n",
       "750000  3.332904  3.330881  3.331915  3.341200  3.333360  3.339220  3.337554   \n",
       "750001  4.701861  4.698709  4.702695  4.700873  4.692424  4.691211  4.689848   \n",
       "750002  4.456351  4.469250  4.475701  4.468938  4.473388  4.476912  4.481037   \n",
       "750003  4.835725  4.828052  4.834696  4.844317  4.841058  4.841173  4.838728   \n",
       "750004  4.335238  4.355100  4.339209  4.332186  4.345081  4.345119  4.341792   \n",
       "\n",
       "             cb4       nn1       nn2  \n",
       "id                                    \n",
       "750000  3.337476  3.345670  3.343016  \n",
       "750001  4.688161  4.694196  4.691476  \n",
       "750002  4.479083  4.482096  4.475423  \n",
       "750003  4.839390  4.839857  4.841015  \n",
       "750004  4.340342  4.346127  4.347120  "
      ]
     },
     "execution_count": 36,
     "metadata": {},
     "output_type": "execute_result"
    }
   ],
   "source": [
    "df_stk_test = pd.concat([\n",
    "    sc.get_predictor_cv(i, config)(df_test).rename(i) for i in X_stk\n",
    "], axis = 1)\n",
    "df_stk_test.head()"
   ]
  },
  {
   "cell_type": "code",
   "execution_count": 40,
   "id": "de1fac69-0658-4f7d-9b25-637e06543c80",
   "metadata": {},
   "outputs": [],
   "source": [
    "pd.Series(\n",
    "    reg_meta_lr.predict(df_stk_test), index = df_stk_test.index, name = 'Calories'\n",
    ").pipe(lambda x: (np.exp(x) - 1).clip(lower = 1)).to_csv('result/submission1.csv')"
   ]
  },
  {
   "cell_type": "code",
   "execution_count": 41,
   "id": "ef4c4f97-34cf-4812-9749-dc52067c014b",
   "metadata": {},
   "outputs": [
    {
     "name": "stdout",
     "output_type": "stream",
     "text": [
      "id,Calories\n",
      "750000,27.177677490888385\n",
      "750001,108.18015160403712\n",
      "750002,86.97043885735042\n",
      "750003,125.25525410877265\n",
      "750004,76.17928716888093\n",
      "750005,21.741995587381073\n",
      "750006,48.75503859934514\n",
      "750007,6.773944607784969\n",
      "750008,10.072104732929219\n"
     ]
    }
   ],
   "source": [
    "!head result/submission1.csv"
   ]
  },
  {
   "cell_type": "code",
   "execution_count": 42,
   "id": "c2995312-9fb1-4fcc-af7b-71044c43e27f",
   "metadata": {},
   "outputs": [
    {
     "name": "stdout",
     "output_type": "stream",
     "text": [
      "100%|██████████████████████████████████████| 6.06M/6.06M [00:02<00:00, 2.17MB/s]\n",
      "Successfully submitted to Predict Calorie Expenditure"
     ]
    }
   ],
   "source": [
    "# !kaggle competitions submit -c playground-series-s5e5 -f result/submission1.csv -m \"Ensemble1\""
   ]
  },
  {
   "cell_type": "code",
   "execution_count": null,
   "id": "a0efdb91-d310-4ff9-9b46-c861dbb5d3b7",
   "metadata": {},
   "outputs": [],
   "source": []
  }
 ],
 "metadata": {
  "kernelspec": {
   "display_name": "Python 3 (ipykernel)",
   "language": "python",
   "name": "python3"
  },
  "language_info": {
   "codemirror_mode": {
    "name": "ipython",
    "version": 3
   },
   "file_extension": ".py",
   "mimetype": "text/x-python",
   "name": "python",
   "nbconvert_exporter": "python",
   "pygments_lexer": "ipython3",
   "version": "3.12.6"
  }
 },
 "nbformat": 4,
 "nbformat_minor": 5
}
