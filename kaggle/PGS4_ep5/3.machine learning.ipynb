{
 "cells": [
  {
   "cell_type": "code",
   "execution_count": 1,
   "id": "089cb50d-aecf-42b7-a489-48f3a92537d8",
   "metadata": {},
   "outputs": [
    {
     "name": "stderr",
     "output_type": "stream",
     "text": [
      "2024-08-19 09:21:13.672390: I tensorflow/core/platform/cpu_feature_guard.cc:210] This TensorFlow binary is optimized to use available CPU instructions in performance-critical operations.\n",
      "To enable the following instructions: AVX2 FMA, in other operations, rebuild TensorFlow with the appropriate compiler flags.\n",
      "2024-08-19 09:21:14.531097: W tensorflow/compiler/tf2tensorrt/utils/py_utils.cc:38] TF-TRT Warning: Could not find TensorRT\n"
     ]
    },
    {
     "name": "stdout",
     "output_type": "stream",
     "text": [
      "3.12.3 (main, May  7 2024, 08:28:12) [GCC 9.4.0]\n",
      "pandas 2.2.2\n",
      "numpy 1.26.4\n",
      "sklearn 1.4.2\n",
      "seaborn 0.13.2\n",
      "lightgbm 4.3.0\n",
      "xgboost 2.0.3\n",
      "catboost 1.2.5\n"
     ]
    }
   ],
   "source": [
    "import os, sys\n",
    "import pickle as pkl\n",
    "import pandas as pd\n",
    "import numpy as np \n",
    "\n",
    "import sklearn\n",
    "import seaborn as sns\n",
    "import lightgbm as lgb\n",
    "import xgboost as xgb\n",
    "import catboost as cb\n",
    "import sgml, sgnn\n",
    "\n",
    "import matplotlib as mpl\n",
    "import matplotlib.pyplot as plt\n",
    "from functools import partial\n",
    "\n",
    "print(sys.version)\n",
    "\n",
    "for i in [pd, np, sklearn, sns, lgb, xgb, cb]:\n",
    "    print(i.__name__, i.__version__)"
   ]
  },
  {
   "cell_type": "code",
   "execution_count": 2,
   "id": "170be62f-7ce4-453c-aa76-631cb9879275",
   "metadata": {},
   "outputs": [],
   "source": [
    "pd.set_option('display.max_colwidth', 100)\n",
    "\n",
    "data_path = 'data'\n",
    "img_path = 'img'\n",
    "result_path = 'result'\n",
    "if not os.path.isdir(img_path):\n",
    "    os.mkdir(img_path)\n",
    "files = {\n",
    "    k: os.path.join(p, f)\n",
    "    for k, p, f in [\n",
    "        ('train', data_path, 'train.csv'),\n",
    "        ('org', data_path, 'flood.csv'),\n",
    "        ('test', data_path, 'test.csv'),\n",
    "        ('type', data_path, 'type.pkl'),\n",
    "        ('train_pkl', data_path, 'train.pkl'),\n",
    "        ('org_pkl', data_path, 'org.pkl'),\n",
    "        ('test_pkl', data_path, 'test.pkl'),\n",
    "        ('var_pkl', data_path, 'var.pkl')\n",
    "    ]\n",
    "}\n",
    "\n",
    "model_file = os.path.join(result_path, 'stk_s4_ep5.pkl')\n",
    "df_var = pd.read_pickle(files['var_pkl'])\n",
    "df_test = pd.read_pickle(files['test_pkl'])\n",
    "\n",
    "X_num_org = df_var.loc[(~df_var.index.isin(['id', 'FloodProbability'])) & (df_var['src'] == 'org')].index.tolist()\n",
    "X_sort = df_var.loc[df_var['src'] == 'sort'].index.tolist()\n",
    "X_sum = df_var.loc[df_var.index.map(lambda x: x.startswith('s_'))].index.tolist()"
   ]
  },
  {
   "cell_type": "code",
   "execution_count": 3,
   "id": "0a3d6134-b1b5-4b93-b764-58966d292b24",
   "metadata": {},
   "outputs": [],
   "source": [
    "def stat_proc(df):\n",
    "    if 'std' in df.columns:\n",
    "        return df\n",
    "    else:\n",
    "        return pd.concat([\n",
    "            df.assign(s_values_c = lambda x: x['s_values'].clip(70, 133)),\n",
    "            df[X_num_org].std(axis=1).rename('std'),\n",
    "            df[X_num_org].skew(axis=1).rename('skew'),\n",
    "        ], axis=1)\n",
    "\n",
    "def ratio_func(df, s_target):\n",
    "    return s_target / df['s_values']\n",
    "\n",
    "def ratio_invfunc(df, s_prd):\n",
    "    return s_prd * df['s_values']\n",
    "\n",
    "df_test = stat_proc(df_test)\n",
    "X_stat = ['std', 'skew']\n",
    "X_all = df_var.loc[~df_var.index.isin(['FloodProbability', 'id'])].index.tolist()"
   ]
  },
  {
   "cell_type": "code",
   "execution_count": 4,
   "id": "bdeed1a7-e210-47cd-8c0e-f8ebda9821c4",
   "metadata": {},
   "outputs": [
    {
     "name": "stderr",
     "output_type": "stream",
     "text": [
      "2024-08-19 09:21:21.073600: I external/local_xla/xla/stream_executor/cuda/cuda_executor.cc:998] successful NUMA node read from SysFS had negative value (-1), but there must be at least one NUMA node, so returning NUMA node zero. See more at https://github.com/torvalds/linux/blob/v6.0/Documentation/ABI/testing/sysfs-bus-pci#L344-L355\n",
      "2024-08-19 09:21:21.297307: I external/local_xla/xla/stream_executor/cuda/cuda_executor.cc:998] successful NUMA node read from SysFS had negative value (-1), but there must be at least one NUMA node, so returning NUMA node zero. See more at https://github.com/torvalds/linux/blob/v6.0/Documentation/ABI/testing/sysfs-bus-pci#L344-L355\n",
      "2024-08-19 09:21:21.298057: I external/local_xla/xla/stream_executor/cuda/cuda_executor.cc:998] successful NUMA node read from SysFS had negative value (-1), but there must be at least one NUMA node, so returning NUMA node zero. See more at https://github.com/torvalds/linux/blob/v6.0/Documentation/ABI/testing/sysfs-bus-pci#L344-L355\n",
      "2024-08-19 09:21:21.301639: I external/local_xla/xla/stream_executor/cuda/cuda_executor.cc:998] successful NUMA node read from SysFS had negative value (-1), but there must be at least one NUMA node, so returning NUMA node zero. See more at https://github.com/torvalds/linux/blob/v6.0/Documentation/ABI/testing/sysfs-bus-pci#L344-L355\n",
      "2024-08-19 09:21:21.302345: I external/local_xla/xla/stream_executor/cuda/cuda_executor.cc:998] successful NUMA node read from SysFS had negative value (-1), but there must be at least one NUMA node, so returning NUMA node zero. See more at https://github.com/torvalds/linux/blob/v6.0/Documentation/ABI/testing/sysfs-bus-pci#L344-L355\n",
      "2024-08-19 09:21:21.302965: I external/local_xla/xla/stream_executor/cuda/cuda_executor.cc:998] successful NUMA node read from SysFS had negative value (-1), but there must be at least one NUMA node, so returning NUMA node zero. See more at https://github.com/torvalds/linux/blob/v6.0/Documentation/ABI/testing/sysfs-bus-pci#L344-L355\n",
      "2024-08-19 09:21:21.383283: I external/local_xla/xla/stream_executor/cuda/cuda_executor.cc:998] successful NUMA node read from SysFS had negative value (-1), but there must be at least one NUMA node, so returning NUMA node zero. See more at https://github.com/torvalds/linux/blob/v6.0/Documentation/ABI/testing/sysfs-bus-pci#L344-L355\n",
      "2024-08-19 09:21:21.383435: I external/local_xla/xla/stream_executor/cuda/cuda_executor.cc:998] successful NUMA node read from SysFS had negative value (-1), but there must be at least one NUMA node, so returning NUMA node zero. See more at https://github.com/torvalds/linux/blob/v6.0/Documentation/ABI/testing/sysfs-bus-pci#L344-L355\n",
      "2024-08-19 09:21:21.383559: I external/local_xla/xla/stream_executor/cuda/cuda_executor.cc:998] successful NUMA node read from SysFS had negative value (-1), but there must be at least one NUMA node, so returning NUMA node zero. See more at https://github.com/torvalds/linux/blob/v6.0/Documentation/ABI/testing/sysfs-bus-pci#L344-L355\n",
      "2024-08-19 09:21:21.384070: I tensorflow/core/common_runtime/gpu/gpu_device.cc:1928] Created device /job:localhost/replica:0/task:0/device:GPU:0 with 4784 MB memory:  -> device: 0, name: NVIDIA GeForce RTX 2060, pci bus id: 0000:01:00.0, compute capability: 7.5\n"
     ]
    }
   ],
   "source": [
    "from sklearn.metrics import r2_score, mean_squared_error\n",
    "from sklearn.model_selection import KFold, train_test_split\n",
    "from sklearn.linear_model import LinearRegression\n",
    "\n",
    "cv5 = KFold(n_splits=5, random_state=123, shuffle=True)\n",
    "\n",
    "def predict(m, df, X):\n",
    "    return pd.Series(m.predict(df[X]), index=df.index)\n",
    "\n",
    "def lgb_r2(pr, tr):\n",
    "    return 'r2', r2_score(tr, pr), True\n",
    "\n",
    "def eval_metric(df, y_prd):\n",
    "    return r2_score(df['FloodProbability'], y_prd)\n",
    "\n",
    "def valid_splitter(df):\n",
    "    return train_test_split(df, train_size=0.8, random_state=123)\n",
    "\n",
    "def print_metrics(valid_metrics, train_metrics):\n",
    "    print('Valid.: {:.5f}±{:.5f}, Train: {:.5f}±{:.5f}'.format( \n",
    "        np.mean(valid_metrics), np.std(valid_metrics),\n",
    "        np.mean(train_metrics), np.std(train_metrics),\n",
    "    ))\n",
    "\n",
    "def show_gb_cv_result(gb_result, train_result, metric='r2'):\n",
    "    if train_result is not None:\n",
    "        fig, axes = plt.subplots(1, 2, figsize=(16, 5))\n",
    "        df = pd.concat([i[0] for i in train_result], axis=0)[metric].reset_index().rename(columns={'index': 'round'}).groupby('round').mean()\n",
    "        sns.lineplot(df.loc[df.iloc[:, 0] > 0], ax=axes[0])\n",
    "        sns.barplot(\n",
    "            pd.concat([i[1] for i in train_result], axis=0).rename('importance').reset_index().rename(columns={'index': 'feature'})\\\n",
    "                .groupby('feature').mean().sort_values('importance', ascending=False).iloc[:15],\n",
    "            x='importance', y='feature', ax=axes[1]\n",
    "        )\n",
    "        plt.tight_layout()\n",
    "        plt.show()\n",
    "        print_metrics(gb_result['valid_metrics'], gb_result['train_metrics'])\n",
    "\n",
    "def merge_org(df):\n",
    "    return pd.concat([df, df_org], axis=0)\n",
    "\n",
    "if os.path.exists(model_file):\n",
    "    stk = sgml.SGStacking.load_model(model_file)\n",
    "else:\n",
    "    df_train = pd.read_pickle(files['train_pkl'])\n",
    "    df_org = pd.read_pickle(files['org_pkl'])\n",
    "    df_train = stat_proc(df_train)\n",
    "    df_org = stat_proc(df_org)\n",
    "    stk = sgml.SGStacking(df_train, 'FloodProbability', sp=cv5, predict_func=predict, eval_metric=eval_metric, greater_better=True)"
   ]
  },
  {
   "cell_type": "markdown",
   "id": "e33563fd-f749-416f-a6d1-e504d3983131",
   "metadata": {},
   "source": [
    "# LightGBM"
   ]
  },
  {
   "cell_type": "code",
   "execution_count": 5,
   "id": "b2c9f019-bcb4-4084-86d5-bf53a0e762eb",
   "metadata": {},
   "outputs": [],
   "source": [
    "lgb_eval = partial(stk.eval_model, model=lgb.LGBMRegressor, result_proc=sgml.lgb_learning_result)"
   ]
  },
  {
   "cell_type": "markdown",
   "id": "e4c241f9-fc1b-45c2-8fdd-6c803c487e9a",
   "metadata": {},
   "source": [
    "### LGB1"
   ]
  },
  {
   "cell_type": "code",
   "execution_count": 6,
   "id": "8eb9411e-48ad-4df6-8623-ff826ad5c267",
   "metadata": {},
   "outputs": [],
   "source": [
    "m, train_result = lgb_eval(\n",
    "    'lgb1', model_params={'verbose': -1, 'learning_rate': 0.01, 'n_estimators': 1000, 'num_leaves': 127, 'min_child_samples': 64, 'subsample_freq': 1, 'subsample': 0.75}, \n",
    "    X=X_num_org + X_sort + X_sum + X_stat, \n",
    "    result_proc=sgml.lgb_learning_result,\n",
    "    train_params={\n",
    "        'fit_params': {'callbacks': [lgb.early_stopping(5, verbose=False)], 'eval_metric': lgb_r2},\n",
    "        'valid_splitter': valid_splitter,\n",
    "        'valid_config_proc': sgml.gb_valid_config\n",
    "    }\n",
    ")"
   ]
  },
  {
   "cell_type": "markdown",
   "id": "85165b97-c28b-43d2-be31-97873fca7a0e",
   "metadata": {},
   "source": [
    "colsample_bytree의 효과를 얻을 수 없었습니다."
   ]
  },
  {
   "cell_type": "code",
   "execution_count": 7,
   "id": "3f6ee855-7f93-4476-9b7c-78024b40db99",
   "metadata": {},
   "outputs": [],
   "source": [
    "show_gb_cv_result(m, train_result)"
   ]
  },
  {
   "cell_type": "code",
   "execution_count": 8,
   "id": "b0631f5c-d5e7-4427-a422-8cfa3f08e1cd",
   "metadata": {},
   "outputs": [],
   "source": [
    "m, train_result = lgb_eval(\n",
    "    'lgb1', model_params={'verbose': -1, 'learning_rate': 0.01, 'n_estimators': 700, 'num_leaves': 127, 'min_child_samples': 64, 'subsample_freq': 1, 'subsample': 0.75}, \n",
    "    X=X_num_org + X_sort + X_sum + X_stat, \n",
    "    result_proc=sgml.lgb_learning_result,\n",
    ")"
   ]
  },
  {
   "cell_type": "code",
   "execution_count": 9,
   "id": "dffbfcb0-df17-464a-9ccb-316e20c2a4c1",
   "metadata": {},
   "outputs": [
    {
     "data": {
      "text/html": [
       "<div>\n",
       "<style scoped>\n",
       "    .dataframe tbody tr th:only-of-type {\n",
       "        vertical-align: middle;\n",
       "    }\n",
       "\n",
       "    .dataframe tbody tr th {\n",
       "        vertical-align: top;\n",
       "    }\n",
       "\n",
       "    .dataframe thead th {\n",
       "        text-align: right;\n",
       "    }\n",
       "</style>\n",
       "<table border=\"1\" class=\"dataframe\">\n",
       "  <thead>\n",
       "    <tr style=\"text-align: right;\">\n",
       "      <th></th>\n",
       "      <th>model</th>\n",
       "      <th>preprocessor</th>\n",
       "      <th>model_params</th>\n",
       "      <th>X</th>\n",
       "      <th>train_metrics</th>\n",
       "      <th>valid_metrics</th>\n",
       "      <th>train_info</th>\n",
       "    </tr>\n",
       "  </thead>\n",
       "  <tbody>\n",
       "    <tr>\n",
       "      <th>1</th>\n",
       "      <td>LGBMRegressor</td>\n",
       "      <td>None</td>\n",
       "      <td>{'verbose': -1, 'learning_rate': 0.01, 'n_estimators': 700, 'num_leaves': 127, 'min_child_sample...</td>\n",
       "      <td>AgriculturalPractices,ClimateChange,CoastalVulnerability,DamsQuality,Deforestation,Deteriorating...</td>\n",
       "      <td>0.87195±0.00006</td>\n",
       "      <td>0.86927±0.00026</td>\n",
       "      <td>{'result_proc': &lt;function lgb_learning_result at 0x7f0bbd179bc0&gt;, 'train_data_proc': None, 'trai...</td>\n",
       "    </tr>\n",
       "    <tr>\n",
       "      <th>0</th>\n",
       "      <td>LGBMRegressor</td>\n",
       "      <td>None</td>\n",
       "      <td>{'verbose': -1, 'learning_rate': 0.01, 'n_estimators': 1000, 'num_leaves': 127, 'min_child_sampl...</td>\n",
       "      <td>AgriculturalPractices,ClimateChange,CoastalVulnerability,DamsQuality,Deforestation,Deteriorating...</td>\n",
       "      <td>0.87158±0.00011</td>\n",
       "      <td>0.86920±0.00026</td>\n",
       "      <td>{'result_proc': &lt;function lgb_learning_result at 0x7f0bbd179bc0&gt;, 'train_data_proc': None, 'trai...</td>\n",
       "    </tr>\n",
       "  </tbody>\n",
       "</table>\n",
       "</div>"
      ],
      "text/plain": [
       "           model preprocessor  \\\n",
       "1  LGBMRegressor         None   \n",
       "0  LGBMRegressor         None   \n",
       "\n",
       "                                                                                          model_params  \\\n",
       "1  {'verbose': -1, 'learning_rate': 0.01, 'n_estimators': 700, 'num_leaves': 127, 'min_child_sample...   \n",
       "0  {'verbose': -1, 'learning_rate': 0.01, 'n_estimators': 1000, 'num_leaves': 127, 'min_child_sampl...   \n",
       "\n",
       "                                                                                                     X  \\\n",
       "1  AgriculturalPractices,ClimateChange,CoastalVulnerability,DamsQuality,Deforestation,Deteriorating...   \n",
       "0  AgriculturalPractices,ClimateChange,CoastalVulnerability,DamsQuality,Deforestation,Deteriorating...   \n",
       "\n",
       "     train_metrics    valid_metrics  \\\n",
       "1  0.87195±0.00006  0.86927±0.00026   \n",
       "0  0.87158±0.00011  0.86920±0.00026   \n",
       "\n",
       "                                                                                            train_info  \n",
       "1  {'result_proc': <function lgb_learning_result at 0x7f0bbd179bc0>, 'train_data_proc': None, 'trai...  \n",
       "0  {'result_proc': <function lgb_learning_result at 0x7f0bbd179bc0>, 'train_data_proc': None, 'trai...  "
      ]
     },
     "execution_count": 9,
     "metadata": {},
     "output_type": "execute_result"
    }
   ],
   "source": [
    "stk.get_model_results('lgb1').sort_values('valid_metrics', ascending=False).iloc[:2]"
   ]
  },
  {
   "cell_type": "code",
   "execution_count": 10,
   "id": "019fd83a-d7c0-4d9a-a98d-41a951c77189",
   "metadata": {},
   "outputs": [],
   "source": [
    "if not 'lgb1' in stk.get_selected_model():\n",
    "    m = stk.select_model('lgb1')\n",
    "    stk.save_model(model_file)"
   ]
  },
  {
   "cell_type": "markdown",
   "id": "3887c5b8-117b-4956-9342-d922e980f0a1",
   "metadata": {},
   "source": [
    "### Submission 1: LightGBM Model"
   ]
  },
  {
   "cell_type": "code",
   "execution_count": 11,
   "id": "19a0e69e-d67d-4a92-9230-c3de9b52e7a1",
   "metadata": {},
   "outputs": [],
   "source": [
    "if not os.path.exists(os.path.join(result_path, 'lgb1_1.csv')):\n",
    "    stk.predict_with_base('lgb1', df_test).rename('FooldProbability').to_frame().to_csv(os.path.join(result_path, 'lgb1_1.csv'))\n",
    "    !kaggle competitions submit -c playground-series-s4e5 -f result/lgb1_1.csv -m \"lgb1_1\""
   ]
  },
  {
   "cell_type": "markdown",
   "id": "79fcb406-76b5-44ca-bfd9-79807f3e211b",
   "metadata": {},
   "source": [
    "lgb1's Public Score: 0.86915\n",
    "\n",
    "lgb1을 만들었지만 이후에 std(표준편차)와 skew(왜도)를 추가하여 예측 결과를 뽑아 lgb1_1 속성을 만들었습니다.\n",
    "\n",
    "lgb1_1's Publis Score:  0.86920"
   ]
  },
  {
   "cell_type": "markdown",
   "id": "13da876b-d6c0-4a63-84e4-719aeef2e3c7",
   "metadata": {},
   "source": [
    "### LGB2\n",
    "\n",
    "LGB1에 원본데이터를 추가해 봅니다."
   ]
  },
  {
   "cell_type": "code",
   "execution_count": 12,
   "id": "c470071a-40f8-49da-b6f1-01cf5ceb78d7",
   "metadata": {},
   "outputs": [],
   "source": [
    "m, train_result = lgb_eval(\n",
    "    'lgb2', model_params={'verbose': -1, 'learning_rate': 0.01, 'n_estimators': 1000, 'num_leaves': 127, 'min_child_samples': 64, 'subsample_freq': 1, 'subsample': 0.75}, \n",
    "    X=X_num_org + X_sort + X_sum, \n",
    "    result_proc=sgml.lgb_learning_result,\n",
    "    train_data_proc = merge_org,\n",
    "    train_params={\n",
    "        'fit_params': {'callbacks': [lgb.early_stopping(5, verbose=False)], 'eval_metric': lgb_r2},\n",
    "        'valid_splitter': valid_splitter,\n",
    "        'valid_config_proc': sgml.gb_valid_config\n",
    "    }\n",
    ")"
   ]
  },
  {
   "cell_type": "code",
   "execution_count": 13,
   "id": "56c6304f-c251-4351-bfed-551451050fe4",
   "metadata": {},
   "outputs": [],
   "source": [
    "show_gb_cv_result(m, train_result)"
   ]
  },
  {
   "cell_type": "raw",
   "id": "d56b9e10-95aa-4d66-bc25-03488687fd22",
   "metadata": {},
   "source": [
    "효과가 떨어집니다."
   ]
  },
  {
   "cell_type": "markdown",
   "id": "748fce87-3782-4526-9a9b-073ea42cd710",
   "metadata": {},
   "source": [
    "### LGB3\n",
    "\n",
    "변수를 선택해봅니다."
   ]
  },
  {
   "cell_type": "code",
   "execution_count": 14,
   "id": "24161e46-689a-44df-8093-025672a74328",
   "metadata": {},
   "outputs": [],
   "source": [
    "X_num_org_sel = ['MonsoonIntensity']"
   ]
  },
  {
   "cell_type": "code",
   "execution_count": 15,
   "id": "c7319157-6ee2-4205-b04b-101144aedd01",
   "metadata": {},
   "outputs": [],
   "source": [
    "m, train_result = lgb_eval(\n",
    "    'lgb3', model_params={'verbose': -1, 'learning_rate': 0.02, 'n_estimators': 1000, 'num_leaves': 96, 'min_child_samples': 64, 'subsample_freq': 1, 'subsample': 0.75}, \n",
    "    X=X_num_org_sel + X_sort + X_sum + X_stat, \n",
    "    result_proc=sgml.lgb_learning_result,\n",
    "    train_params={\n",
    "        'fit_params': {'callbacks': [lgb.early_stopping(5, verbose=False)], 'eval_metric': lgb_r2},\n",
    "        'valid_splitter': valid_splitter,\n",
    "        'valid_config_proc': sgml.gb_valid_config\n",
    "    }\n",
    ")\n",
    "show_gb_cv_result(m, train_result)"
   ]
  },
  {
   "cell_type": "code",
   "execution_count": 16,
   "id": "9ece0c77-ef44-49e6-9791-7c0360385bd8",
   "metadata": {},
   "outputs": [],
   "source": [
    "m, train_result = lgb_eval(\n",
    "    'lgb3', model_params={'verbose': -1, 'learning_rate': 0.02, 'n_estimators': 350, 'num_leaves': 96, 'min_child_samples': 64, 'subsample_freq': 1, 'subsample': 0.75}, \n",
    "    X=X_num_org_sel + X_sort + X_sum + X_stat, \n",
    "    result_proc=sgml.lgb_learning_result,\n",
    "    train_params={\n",
    "        'fit_params': {'eval_metric': lgb_r2},\n",
    "        'valid_config_proc': sgml.gb_valid_config\n",
    "    }\n",
    ")\n",
    "show_gb_cv_result(m, train_result)"
   ]
  },
  {
   "cell_type": "code",
   "execution_count": 17,
   "id": "0f72b65b-5836-431c-be26-48744e0c00f1",
   "metadata": {},
   "outputs": [
    {
     "data": {
      "text/html": [
       "<div>\n",
       "<style scoped>\n",
       "    .dataframe tbody tr th:only-of-type {\n",
       "        vertical-align: middle;\n",
       "    }\n",
       "\n",
       "    .dataframe tbody tr th {\n",
       "        vertical-align: top;\n",
       "    }\n",
       "\n",
       "    .dataframe thead th {\n",
       "        text-align: right;\n",
       "    }\n",
       "</style>\n",
       "<table border=\"1\" class=\"dataframe\">\n",
       "  <thead>\n",
       "    <tr style=\"text-align: right;\">\n",
       "      <th></th>\n",
       "      <th>model</th>\n",
       "      <th>preprocessor</th>\n",
       "      <th>model_params</th>\n",
       "      <th>X</th>\n",
       "      <th>train_metrics</th>\n",
       "      <th>valid_metrics</th>\n",
       "      <th>train_info</th>\n",
       "    </tr>\n",
       "  </thead>\n",
       "  <tbody>\n",
       "    <tr>\n",
       "      <th>1</th>\n",
       "      <td>LGBMRegressor</td>\n",
       "      <td>None</td>\n",
       "      <td>{'verbose': -1, 'learning_rate': 0.02, 'n_estimators': 350, 'num_leaves': 96, 'min_child_samples...</td>\n",
       "      <td>MonsoonIntensity,sort_0,sort_1,sort_2,sort_3,sort_4,sort_5,sort_6,sort_7,sort_8,sort_9,sort_10,s...</td>\n",
       "      <td>0.87058±0.00006</td>\n",
       "      <td>0.86925±0.00027</td>\n",
       "      <td>{'result_proc': &lt;function lgb_learning_result at 0x7f0bbd179bc0&gt;, 'train_data_proc': None, 'trai...</td>\n",
       "    </tr>\n",
       "    <tr>\n",
       "      <th>0</th>\n",
       "      <td>LGBMRegressor</td>\n",
       "      <td>None</td>\n",
       "      <td>{'verbose': -1, 'learning_rate': 0.02, 'n_estimators': 1000, 'num_leaves': 96, 'min_child_sample...</td>\n",
       "      <td>MonsoonIntensity,sort_0,sort_1,sort_2,sort_3,sort_4,sort_5,sort_6,sort_7,sort_8,sort_9,sort_10,s...</td>\n",
       "      <td>0.87036±0.00007</td>\n",
       "      <td>0.86920±0.00027</td>\n",
       "      <td>{'result_proc': &lt;function lgb_learning_result at 0x7f0bbd179bc0&gt;, 'train_data_proc': None, 'trai...</td>\n",
       "    </tr>\n",
       "  </tbody>\n",
       "</table>\n",
       "</div>"
      ],
      "text/plain": [
       "           model preprocessor  \\\n",
       "1  LGBMRegressor         None   \n",
       "0  LGBMRegressor         None   \n",
       "\n",
       "                                                                                          model_params  \\\n",
       "1  {'verbose': -1, 'learning_rate': 0.02, 'n_estimators': 350, 'num_leaves': 96, 'min_child_samples...   \n",
       "0  {'verbose': -1, 'learning_rate': 0.02, 'n_estimators': 1000, 'num_leaves': 96, 'min_child_sample...   \n",
       "\n",
       "                                                                                                     X  \\\n",
       "1  MonsoonIntensity,sort_0,sort_1,sort_2,sort_3,sort_4,sort_5,sort_6,sort_7,sort_8,sort_9,sort_10,s...   \n",
       "0  MonsoonIntensity,sort_0,sort_1,sort_2,sort_3,sort_4,sort_5,sort_6,sort_7,sort_8,sort_9,sort_10,s...   \n",
       "\n",
       "     train_metrics    valid_metrics  \\\n",
       "1  0.87058±0.00006  0.86925±0.00027   \n",
       "0  0.87036±0.00007  0.86920±0.00027   \n",
       "\n",
       "                                                                                            train_info  \n",
       "1  {'result_proc': <function lgb_learning_result at 0x7f0bbd179bc0>, 'train_data_proc': None, 'trai...  \n",
       "0  {'result_proc': <function lgb_learning_result at 0x7f0bbd179bc0>, 'train_data_proc': None, 'trai...  "
      ]
     },
     "execution_count": 17,
     "metadata": {},
     "output_type": "execute_result"
    }
   ],
   "source": [
    "stk.get_model_results('lgb3').sort_values('valid_metrics', ascending=False).iloc[:2]"
   ]
  },
  {
   "cell_type": "code",
   "execution_count": 18,
   "id": "c92df5d6-4e1d-4970-a72e-e9274b4993a6",
   "metadata": {},
   "outputs": [],
   "source": [
    "if not 'lgb3' in stk.get_selected_model():\n",
    "    m = stk.select_model('lgb3')\n",
    "    stk.save_model(model_file)"
   ]
  },
  {
   "cell_type": "code",
   "execution_count": 19,
   "id": "53e11718-e094-4c23-b0ba-80cad17dbe70",
   "metadata": {},
   "outputs": [
    {
     "name": "stdout",
     "output_type": "stream",
     "text": [
      "Valid.: 0.86930±0.00026, Train: 0.86930±0.00007\n"
     ]
    }
   ],
   "source": [
    "train_metrics, eval_metrics, s_prd, train_result = stk.eval_meta_model(LinearRegression, {}, ['lgb1', 'lgb3'])\n",
    "print_metrics(eval_metrics, train_metrics)"
   ]
  },
  {
   "cell_type": "markdown",
   "id": "9c88f1bc-63d3-4d68-ab4b-55530a791528",
   "metadata": {},
   "source": [
    "### LGB4 \n",
    "\n",
    "s_values를 범주형으로 할 때 효율이 올라감을 알 수 있었습니다. 이를 적용하여 모델을 만들어봅니다.\n",
    "\n",
    "s_values를 그냥 사용하면 효과가 없고 저빈도 범주를 clipping 처리를 해주면 보다 좋은 성능을 냅니다.."
   ]
  },
  {
   "cell_type": "code",
   "execution_count": 20,
   "id": "99ec8d1b-6d8d-4017-acad-7142d66ef8da",
   "metadata": {},
   "outputs": [],
   "source": [
    "m, train_result = lgb_eval(\n",
    "    'lgb4', model_params={'verbose': -1, 'learning_rate': 0.02, 'n_estimators': 1000, 'num_leaves': 96, 'min_child_samples': 32, 'subsample_freq': 1, 'subsample': 0.75}, \n",
    "    X=X_num_org_sel + X_sort + ['s_values', 's_values_c', 's_values2'] + X_stat, \n",
    "    result_proc=sgml.lgb_learning_result,\n",
    "    train_params={\n",
    "        'fit_params': {'callbacks': [lgb.early_stopping(5, verbose=False)], 'eval_metric': lgb_r2, 'categorical_feature': ['s_values_c']},\n",
    "        'valid_splitter': valid_splitter,\n",
    "        'valid_config_proc': sgml.gb_valid_config\n",
    "    }\n",
    ")\n",
    "show_gb_cv_result(m, train_result)"
   ]
  },
  {
   "cell_type": "code",
   "execution_count": 21,
   "id": "d907ee7a-8eb8-4e0e-914b-d250d667a550",
   "metadata": {},
   "outputs": [
    {
     "data": {
      "text/html": [
       "<div>\n",
       "<style scoped>\n",
       "    .dataframe tbody tr th:only-of-type {\n",
       "        vertical-align: middle;\n",
       "    }\n",
       "\n",
       "    .dataframe tbody tr th {\n",
       "        vertical-align: top;\n",
       "    }\n",
       "\n",
       "    .dataframe thead th {\n",
       "        text-align: right;\n",
       "    }\n",
       "</style>\n",
       "<table border=\"1\" class=\"dataframe\">\n",
       "  <thead>\n",
       "    <tr style=\"text-align: right;\">\n",
       "      <th></th>\n",
       "      <th>model</th>\n",
       "      <th>preprocessor</th>\n",
       "      <th>model_params</th>\n",
       "      <th>X</th>\n",
       "      <th>train_metrics</th>\n",
       "      <th>valid_metrics</th>\n",
       "      <th>train_info</th>\n",
       "    </tr>\n",
       "  </thead>\n",
       "  <tbody>\n",
       "    <tr>\n",
       "      <th>7</th>\n",
       "      <td>LGBMRegressor</td>\n",
       "      <td>None</td>\n",
       "      <td>{'verbose': -1, 'learning_rate': 0.02, 'n_estimators': 370, 'num_leaves': 96, 'min_child_samples...</td>\n",
       "      <td>MonsoonIntensity,sort_0,sort_1,sort_2,sort_3,sort_4,sort_5,sort_6,sort_7,sort_8,sort_9,sort_10,s...</td>\n",
       "      <td>0.87087±0.00007</td>\n",
       "      <td>0.86931±0.00027</td>\n",
       "      <td>{'result_proc': &lt;function lgb_learning_result at 0x7f0bbd179bc0&gt;, 'train_data_proc': None, 'trai...</td>\n",
       "    </tr>\n",
       "    <tr>\n",
       "      <th>6</th>\n",
       "      <td>LGBMRegressor</td>\n",
       "      <td>None</td>\n",
       "      <td>{'verbose': -1, 'learning_rate': 0.02, 'n_estimators': 1000, 'num_leaves': 96, 'min_child_sample...</td>\n",
       "      <td>MonsoonIntensity,sort_0,sort_1,sort_2,sort_3,sort_4,sort_5,sort_6,sort_7,sort_8,sort_9,sort_10,s...</td>\n",
       "      <td>0.87077±0.00007</td>\n",
       "      <td>0.86930±0.00027</td>\n",
       "      <td>{'result_proc': &lt;function lgb_learning_result at 0x7f0bbd179bc0&gt;, 'train_data_proc': None, 'trai...</td>\n",
       "    </tr>\n",
       "  </tbody>\n",
       "</table>\n",
       "</div>"
      ],
      "text/plain": [
       "           model preprocessor  \\\n",
       "7  LGBMRegressor         None   \n",
       "6  LGBMRegressor         None   \n",
       "\n",
       "                                                                                          model_params  \\\n",
       "7  {'verbose': -1, 'learning_rate': 0.02, 'n_estimators': 370, 'num_leaves': 96, 'min_child_samples...   \n",
       "6  {'verbose': -1, 'learning_rate': 0.02, 'n_estimators': 1000, 'num_leaves': 96, 'min_child_sample...   \n",
       "\n",
       "                                                                                                     X  \\\n",
       "7  MonsoonIntensity,sort_0,sort_1,sort_2,sort_3,sort_4,sort_5,sort_6,sort_7,sort_8,sort_9,sort_10,s...   \n",
       "6  MonsoonIntensity,sort_0,sort_1,sort_2,sort_3,sort_4,sort_5,sort_6,sort_7,sort_8,sort_9,sort_10,s...   \n",
       "\n",
       "     train_metrics    valid_metrics  \\\n",
       "7  0.87087±0.00007  0.86931±0.00027   \n",
       "6  0.87077±0.00007  0.86930±0.00027   \n",
       "\n",
       "                                                                                            train_info  \n",
       "7  {'result_proc': <function lgb_learning_result at 0x7f0bbd179bc0>, 'train_data_proc': None, 'trai...  \n",
       "6  {'result_proc': <function lgb_learning_result at 0x7f0bbd179bc0>, 'train_data_proc': None, 'trai...  "
      ]
     },
     "execution_count": 21,
     "metadata": {},
     "output_type": "execute_result"
    }
   ],
   "source": [
    "stk.get_model_results('lgb4').sort_values('valid_metrics', ascending=False).iloc[:2]"
   ]
  },
  {
   "cell_type": "code",
   "execution_count": 22,
   "id": "bf2c7284-afe0-46ad-aadd-432955ac58bd",
   "metadata": {},
   "outputs": [],
   "source": [
    "m, train_result = lgb_eval(\n",
    "    'lgb4', model_params={'verbose': -1, 'learning_rate': 0.02, 'n_estimators': 370, 'num_leaves': 96, 'min_child_samples': 32, 'subsample_freq': 1, 'subsample': 0.75}, \n",
    "    X=X_num_org_sel + X_sort + ['s_values', 's_values_c', 's_values2'] + X_stat, \n",
    "    result_proc=sgml.lgb_learning_result,\n",
    "    train_params={\n",
    "        'fit_params': {'eval_metric': lgb_r2, 'categorical_feature': ['s_values_c']},\n",
    "        'valid_splitter': valid_splitter,\n",
    "        'valid_config_proc': sgml.gb_valid_config\n",
    "    }\n",
    ")\n",
    "show_gb_cv_result(m, train_result)"
   ]
  },
  {
   "cell_type": "code",
   "execution_count": 23,
   "id": "2ee83a76-37fc-4f80-8859-582fb4a567a4",
   "metadata": {},
   "outputs": [],
   "source": [
    "if not 'lgb4' in stk.get_selected_model():\n",
    "    m = stk.select_model('lgb4')\n",
    "    stk.save_model(model_file)"
   ]
  },
  {
   "cell_type": "code",
   "execution_count": 24,
   "id": "22a2e5f2-7fa2-4c35-a611-e2a12cb2b530",
   "metadata": {},
   "outputs": [
    {
     "name": "stdout",
     "output_type": "stream",
     "text": [
      "Valid.: 0.86936±0.00027, Train: 0.86936±0.00007\n"
     ]
    }
   ],
   "source": [
    "train_metrics, eval_metrics, s_prd, train_result = stk.eval_meta_model(LinearRegression, {}, ['lgb1', 'lgb3', 'lgb4'])\n",
    "print_metrics(eval_metrics, train_metrics)"
   ]
  },
  {
   "cell_type": "markdown",
   "id": "83a98613-e1b0-4360-9be6-047bed0077c8",
   "metadata": {},
   "source": [
    "# XGBoost"
   ]
  },
  {
   "cell_type": "code",
   "execution_count": 25,
   "id": "e676edae-1f37-411d-9154-dfe8bc12551e",
   "metadata": {},
   "outputs": [],
   "source": [
    "xgb_eval = partial(stk.eval_model, model=xgb.XGBRegressor, result_proc=sgml.xgb_learning_result)"
   ]
  },
  {
   "cell_type": "code",
   "execution_count": 26,
   "id": "977137a8-7662-43e9-b923-3f691e22c646",
   "metadata": {},
   "outputs": [],
   "source": [
    "m, train_result = xgb_eval(\n",
    "    'xgb1', model_params={\n",
    "        'eval_metric': 'rmse', 'early_stopping_rounds': 5, 'learning_rate': 0.04, 'n_estimators': 1000, 'max_depth': 7, 'tree_method': 'hist', 'device': 'cuda',\n",
    "        'subsample': 0.75, 'min_child_weight': 32\n",
    "    },\n",
    "    X=X_num_org + X_sort + X_sum + X_stat, \n",
    "    train_params={\n",
    "        'fit_params': {'verbose':False},\n",
    "        'valid_splitter': valid_splitter,\n",
    "        'valid_config_proc': sgml.gb_valid_config\n",
    "    }\n",
    ")"
   ]
  },
  {
   "cell_type": "code",
   "execution_count": 27,
   "id": "b40d9f04-9752-436c-a19c-5496af00e379",
   "metadata": {},
   "outputs": [],
   "source": [
    "show_gb_cv_result(m, train_result, metric='rmse')"
   ]
  },
  {
   "cell_type": "code",
   "execution_count": 28,
   "id": "28bb8b98-b7ae-4ca1-a951-88872ddd0bc4",
   "metadata": {},
   "outputs": [
    {
     "data": {
      "text/html": [
       "<div>\n",
       "<style scoped>\n",
       "    .dataframe tbody tr th:only-of-type {\n",
       "        vertical-align: middle;\n",
       "    }\n",
       "\n",
       "    .dataframe tbody tr th {\n",
       "        vertical-align: top;\n",
       "    }\n",
       "\n",
       "    .dataframe thead th {\n",
       "        text-align: right;\n",
       "    }\n",
       "</style>\n",
       "<table border=\"1\" class=\"dataframe\">\n",
       "  <thead>\n",
       "    <tr style=\"text-align: right;\">\n",
       "      <th></th>\n",
       "      <th>model</th>\n",
       "      <th>preprocessor</th>\n",
       "      <th>model_params</th>\n",
       "      <th>X</th>\n",
       "      <th>train_metrics</th>\n",
       "      <th>valid_metrics</th>\n",
       "      <th>train_info</th>\n",
       "    </tr>\n",
       "  </thead>\n",
       "  <tbody>\n",
       "    <tr>\n",
       "      <th>1</th>\n",
       "      <td>XGBRegressor</td>\n",
       "      <td>None</td>\n",
       "      <td>{'eval_metric': 'rmse', 'learning_rate': 0.04, 'n_estimators': 300, 'max_depth': 7, 'tree_method...</td>\n",
       "      <td>AgriculturalPractices,ClimateChange,CoastalVulnerability,DamsQuality,Deforestation,Deteriorating...</td>\n",
       "      <td>0.87100±0.00005</td>\n",
       "      <td>0.86922±0.00026</td>\n",
       "      <td>{'result_proc': &lt;function xgb_learning_result at 0x7f0bbd179c60&gt;, 'train_data_proc': None, 'trai...</td>\n",
       "    </tr>\n",
       "    <tr>\n",
       "      <th>0</th>\n",
       "      <td>XGBRegressor</td>\n",
       "      <td>None</td>\n",
       "      <td>{'eval_metric': 'rmse', 'early_stopping_rounds': 5, 'learning_rate': 0.04, 'n_estimators': 1000,...</td>\n",
       "      <td>AgriculturalPractices,ClimateChange,CoastalVulnerability,DamsQuality,Deforestation,Deteriorating...</td>\n",
       "      <td>0.87030±0.00007</td>\n",
       "      <td>0.86915±0.00025</td>\n",
       "      <td>{'result_proc': &lt;function xgb_learning_result at 0x7f0bbd179c60&gt;, 'train_data_proc': None, 'trai...</td>\n",
       "    </tr>\n",
       "  </tbody>\n",
       "</table>\n",
       "</div>"
      ],
      "text/plain": [
       "          model preprocessor  \\\n",
       "1  XGBRegressor         None   \n",
       "0  XGBRegressor         None   \n",
       "\n",
       "                                                                                          model_params  \\\n",
       "1  {'eval_metric': 'rmse', 'learning_rate': 0.04, 'n_estimators': 300, 'max_depth': 7, 'tree_method...   \n",
       "0  {'eval_metric': 'rmse', 'early_stopping_rounds': 5, 'learning_rate': 0.04, 'n_estimators': 1000,...   \n",
       "\n",
       "                                                                                                     X  \\\n",
       "1  AgriculturalPractices,ClimateChange,CoastalVulnerability,DamsQuality,Deforestation,Deteriorating...   \n",
       "0  AgriculturalPractices,ClimateChange,CoastalVulnerability,DamsQuality,Deforestation,Deteriorating...   \n",
       "\n",
       "     train_metrics    valid_metrics  \\\n",
       "1  0.87100±0.00005  0.86922±0.00026   \n",
       "0  0.87030±0.00007  0.86915±0.00025   \n",
       "\n",
       "                                                                                            train_info  \n",
       "1  {'result_proc': <function xgb_learning_result at 0x7f0bbd179c60>, 'train_data_proc': None, 'trai...  \n",
       "0  {'result_proc': <function xgb_learning_result at 0x7f0bbd179c60>, 'train_data_proc': None, 'trai...  "
      ]
     },
     "execution_count": 28,
     "metadata": {},
     "output_type": "execute_result"
    }
   ],
   "source": [
    "stk.get_model_results('xgb1').sort_values('valid_metrics', ascending=False).iloc[:3]"
   ]
  },
  {
   "cell_type": "code",
   "execution_count": 29,
   "id": "7f316aee-6c50-490d-ba9c-ee7e96063024",
   "metadata": {},
   "outputs": [],
   "source": [
    "m, train_result = xgb_eval(\n",
    "    'xgb1', model_params={\n",
    "        'eval_metric': 'rmse', 'learning_rate': 0.04, 'n_estimators': 300, 'max_depth': 7, 'tree_method': 'hist', 'device': 'cuda',\n",
    "        'subsample': 0.75, 'min_child_weight': 32\n",
    "    },\n",
    "    X=X_num_org + X_sort + X_sum + X_stat, \n",
    "    train_params={\n",
    "        'fit_params': {'verbose':False},\n",
    "        'valid_config_proc': sgml.gb_valid_config\n",
    "    }\n",
    ")\n",
    "show_gb_cv_result(m, train_result, metric='rmse')"
   ]
  },
  {
   "cell_type": "code",
   "execution_count": 30,
   "id": "2a900d74-4bed-4ab0-9d97-ef8ffb8b8cc7",
   "metadata": {
    "scrolled": true
   },
   "outputs": [],
   "source": [
    "if not 'xgb1' in stk.get_selected_model():\n",
    "    m = stk.select_model('xgb1')\n",
    "    stk.save_model(os.path.join(result_path, 'stk_s4_ep5.pkl'))"
   ]
  },
  {
   "cell_type": "code",
   "execution_count": 31,
   "id": "aef3819f-ba4a-4ecc-97f5-f2df1a06cb6e",
   "metadata": {},
   "outputs": [
    {
     "name": "stdout",
     "output_type": "stream",
     "text": [
      "Valid.: 0.86932±0.00026, Train: 0.86932±0.00007\n"
     ]
    }
   ],
   "source": [
    "train_metrics, eval_metrics, s_prd, train_result = stk.eval_meta_model(LinearRegression, {}, ['lgb1', 'lgb3', 'xgb1'])\n",
    "print_metrics(eval_metrics, train_metrics)"
   ]
  },
  {
   "cell_type": "markdown",
   "id": "54328da0-930e-4707-9463-da45522d54a2",
   "metadata": {},
   "source": [
    "### Submission 2: Ensemble lgb1 & xgb1"
   ]
  },
  {
   "cell_type": "code",
   "execution_count": 32,
   "id": "c9f52ae9-938a-42bc-9447-76d6d171cf73",
   "metadata": {},
   "outputs": [
    {
     "data": {
      "text/plain": [
       "{'variables': ['lgb1', 'xgb1'],\n",
       " 'train_shape': (1117957, 2),\n",
       " 'target': 'FloodProbability',\n",
       " 'target_func': None}"
      ]
     },
     "execution_count": 32,
     "metadata": {},
     "output_type": "execute_result"
    }
   ],
   "source": [
    "stk.fit(LinearRegression, {}, ['lgb1', 'xgb1'])"
   ]
  },
  {
   "cell_type": "code",
   "execution_count": 33,
   "id": "1cea2161-ee81-446a-bb5f-68a6264a60a1",
   "metadata": {},
   "outputs": [],
   "source": [
    "if not os.path.exists(os.path.join(result_path, 'stk_lgb1_xgb1.csv')):\n",
    "    pd.Series(stk.predict(df_test), index=df_test.index).rename('FloodProbability').to_frame().to_csv(os.path.join(result_path, 'stk_lgb1_xgb1.csv'))\n",
    "    !kaggle competitions submit -c playground-series-s4e5 -f result/stk_lgb1_xgb1.csv -m \"stk_lgb1_xgb1\""
   ]
  },
  {
   "cell_type": "markdown",
   "id": "ee47c54b-cec1-4f67-9ddb-fd84d07012bf",
   "metadata": {},
   "source": [
    "Public Score: 0.86919\n",
    "\n",
    "이 기록은 X_stat 변수를 포함하지 않은 모델입니다."
   ]
  },
  {
   "cell_type": "markdown",
   "id": "6647f00f-3963-411f-a914-5801adea015f",
   "metadata": {},
   "source": [
    "### XGB2\n",
    "\n",
    "XGB도 속성선택을 해봅니다."
   ]
  },
  {
   "cell_type": "code",
   "execution_count": 34,
   "id": "cf6cd406-6b1b-4755-9b46-15a0eec7d7f2",
   "metadata": {},
   "outputs": [],
   "source": [
    "X_num_org_sel_xgb = ['MonsoonIntensity']"
   ]
  },
  {
   "cell_type": "code",
   "execution_count": 35,
   "id": "d2275f94-6ab5-4ce1-b810-e758fe269449",
   "metadata": {},
   "outputs": [],
   "source": [
    "m, train_result = xgb_eval(\n",
    "    'xgb2', model_params={\n",
    "        'eval_metric': 'rmse', 'early_stopping_rounds': 5, 'learning_rate': 0.02, 'n_estimators': 1000, 'max_depth': 7, 'tree_method': 'hist', 'device': 'cuda',\n",
    "        'subsample': 0.75, 'min_child_weight': 32\n",
    "    },\n",
    "    X= X_num_org_sel_xgb + X_sort + X_sum + X_stat, \n",
    "    train_params={\n",
    "        'fit_params': {'verbose':False},\n",
    "        'valid_splitter': valid_splitter,\n",
    "        'valid_config_proc': sgml.gb_valid_config\n",
    "    }\n",
    ")\n",
    "show_gb_cv_result(m, train_result, metric='rmse')"
   ]
  },
  {
   "cell_type": "code",
   "execution_count": 36,
   "id": "14dfd61c-8c8c-4613-89e2-410bb10e1cfd",
   "metadata": {},
   "outputs": [],
   "source": [
    "m, train_result = xgb_eval(\n",
    "    'xgb2', model_params={\n",
    "        'eval_metric': 'rmse', 'learning_rate': 0.02, 'n_estimators': 450, 'max_depth': 7, 'tree_method': 'hist', 'device': 'cuda',\n",
    "        'subsample': 0.75, 'min_child_weight': 32\n",
    "    },\n",
    "    X=X_num_org_sel_xgb + X_sort + X_sum + X_stat, \n",
    "    train_params={\n",
    "        'fit_params': {'verbose':False},\n",
    "        'valid_config_proc': sgml.gb_valid_config\n",
    "    }\n",
    ")\n",
    "show_gb_cv_result(m, train_result, metric='rmse')"
   ]
  },
  {
   "cell_type": "code",
   "execution_count": 37,
   "id": "70fe5b52-8ae8-4304-a630-525141971757",
   "metadata": {},
   "outputs": [
    {
     "data": {
      "image/png": "[encoded data removed]",
      "text/plain": [
       "<Figure size 1600x500 with 2 Axes>"
      ]
     },
     "metadata": {},
     "output_type": "display_data"
    },
    {
     "name": "stdout",
     "output_type": "stream",
     "text": [
      "Valid.: 0.86927±0.00025, Train: 0.87042±0.00007\n"
     ]
    }
   ],
   "source": [
    "show_gb_cv_result(*stk.get_best_result('xgb2'), metric='rmse')"
   ]
  },
  {
   "cell_type": "code",
   "execution_count": 38,
   "id": "85817bd5-2307-406c-adf4-0bbbf7e73b64",
   "metadata": {},
   "outputs": [],
   "source": [
    "if not 'xgb2' in stk.get_selected_model():\n",
    "    m = stk.select_model('xgb2')\n",
    "    stk.save_model(os.path.join(result_path, 'stk_s4_ep5.pkl'))"
   ]
  },
  {
   "cell_type": "code",
   "execution_count": 39,
   "id": "47ebd455-17d9-4804-9210-415fab385cc0",
   "metadata": {},
   "outputs": [
    {
     "name": "stdout",
     "output_type": "stream",
     "text": [
      "Valid.: 0.86933±0.00026, Train: 0.86933±0.00006\n"
     ]
    }
   ],
   "source": [
    "train_metrics, eval_metrics, s_prd, train_result = stk.eval_meta_model(LinearRegression, {}, ['lgb1', 'lgb3', 'xgb1', 'xgb2'])\n",
    "print_metrics(eval_metrics, train_metrics)"
   ]
  },
  {
   "cell_type": "markdown",
   "id": "bb4ef3c0-2c34-4e09-a513-f5f667e14046",
   "metadata": {},
   "source": [
    "# CatBoost"
   ]
  },
  {
   "cell_type": "markdown",
   "id": "18088680-2d4a-49a6-b372-c6d85364c485",
   "metadata": {},
   "source": [
    "## CB1"
   ]
  },
  {
   "cell_type": "code",
   "execution_count": 40,
   "id": "a4806c64-fb3e-4952-b137-3c50c11d89ef",
   "metadata": {},
   "outputs": [],
   "source": [
    "cb_eval = partial(stk.eval_model, model=cb.CatBoostRegressor, result_proc=sgml.cb_learning_result)"
   ]
  },
  {
   "cell_type": "code",
   "execution_count": 41,
   "id": "8b072662-538e-4d39-9d8c-23521c8e0d1c",
   "metadata": {},
   "outputs": [],
   "source": [
    "m, train_result = cb_eval('cb1', model_params={\n",
    "        'n_estimators': 800\n",
    "    },\n",
    "    X=['MonsoonIntensity'] + X_sort + X_sum + X_stat, \n",
    "    train_params={\n",
    "        'fit_params': {'verbose':False},\n",
    "        'valid_config_proc': sgml.gb_valid_config\n",
    "    }\n",
    ")\n",
    "show_gb_cv_result(m, train_result, 'RMSE')"
   ]
  },
  {
   "cell_type": "code",
   "execution_count": 42,
   "id": "2fc0964f-f541-4d8e-b98e-a8cdbf808665",
   "metadata": {},
   "outputs": [
    {
     "name": "stdout",
     "output_type": "stream",
     "text": [
      "Valid.: 0.86913±0.00027, Train: 0.87095±0.00007\n"
     ]
    }
   ],
   "source": [
    "m, _ = stk.get_best_result('cb1')\n",
    "print_metrics(m['valid_metrics'], m['train_metrics'])"
   ]
  },
  {
   "cell_type": "code",
   "execution_count": 43,
   "id": "8ad94f74-6c59-4017-b664-c47c12e31e3a",
   "metadata": {},
   "outputs": [],
   "source": [
    "if not 'cb1' in stk.get_selected_model():\n",
    "    m = stk.select_model('cb1')\n",
    "    stk.save_model(os.path.join(result_path, 'stk_s4_ep5.pkl'))"
   ]
  },
  {
   "cell_type": "code",
   "execution_count": 44,
   "id": "26e347c9-b936-4f7c-9dc4-48c232b265f6",
   "metadata": {},
   "outputs": [],
   "source": [
    "def lr_learning_result(m, train_result):\n",
    "    return (\n",
    "        pd.Series(\n",
    "            m.coef_, index=train_result['variables']\n",
    "        ).sort_values(),\n",
    "        train_result\n",
    "    )"
   ]
  },
  {
   "cell_type": "code",
   "execution_count": 45,
   "id": "2bb3b1ed-d3f5-4d2d-9c6f-7b012c0f81da",
   "metadata": {},
   "outputs": [
    {
     "name": "stdout",
     "output_type": "stream",
     "text": [
      "Valid.: 0.86935±0.00026, Train: 0.86935±0.00007\n"
     ]
    },
    {
     "data": {
      "image/png": "[encoded data removed]",
      "text/plain": [
       "<Figure size 800x300 with 1 Axes>"
      ]
     },
     "metadata": {},
     "output_type": "display_data"
    }
   ],
   "source": [
    "train_metrics, eval_metrics, s_prd, train_result = stk.eval_meta_model(\n",
    "    LinearRegression, \n",
    "    {'fit_intercept':False}, ['lgb1', 'lgb3', 'xgb1', 'xgb2', 'cb1'], result_proc=lr_learning_result\n",
    ")\n",
    "print_metrics(eval_metrics, train_metrics)\n",
    "plt.figure(figsize=(8, 3))\n",
    "sns.barplot(pd.concat([i[0] for i in train_result], axis=0))\n",
    "plt.show()"
   ]
  },
  {
   "cell_type": "markdown",
   "id": "31803af3-dfc1-4eaf-a552-53c6f1186249",
   "metadata": {},
   "source": [
    "## Submission 3: Ensemble lgb1, lgb3, xgb1, xgb2, cb1"
   ]
  },
  {
   "cell_type": "code",
   "execution_count": 46,
   "id": "0f223e0e-d5b0-489c-80c9-e89440cccd19",
   "metadata": {},
   "outputs": [],
   "source": [
    "if not os.path.exists(os.path.join(result_path, 'stk_m5.csv')):\n",
    "    stk.fit(LinearRegression, {}, ['lgb1', 'lgb3', 'xgb1', 'xgb2', 'cb1'])\n",
    "    pd.Series(stk.predict(df_test), index=df_test.index).rename('FloodProbability').to_frame().to_csv(os.path.join(result_path, 'stk_m5.csv'))\n",
    "    !kaggle competitions submit -c playground-series-s4e5 -f result/stk_m5.csv -m \"stk_m5\""
   ]
  },
  {
   "cell_type": "markdown",
   "id": "79acf36e-632b-4811-9983-7ff4f17e6138",
   "metadata": {},
   "source": [
    "Public Score: 0.86927"
   ]
  },
  {
   "cell_type": "markdown",
   "id": "74758ad9-7fcc-4330-a837-a24d46860a6c",
   "metadata": {},
   "source": [
    "## CB2\n",
    "\n",
    "s_values를 범주형으로 하여 모델을 만들어봅니다."
   ]
  },
  {
   "cell_type": "code",
   "execution_count": 47,
   "id": "d78bbd88-d197-46ba-a95e-747c4d132831",
   "metadata": {},
   "outputs": [],
   "source": [
    "m, train_result = cb_eval('cb2', model_params={\n",
    "        'n_estimators': 450\n",
    "    },\n",
    "    X=['MonsoonIntensity'] + X_sort + ['s_values', 's_values_c', 's_values2'] + X_stat, \n",
    "    train_params={\n",
    "        'fit_params': {'verbose':False, 'cat_features': ['s_values_c']},\n",
    "        'valid_config_proc': sgml.gb_valid_config\n",
    "    }\n",
    ")\n",
    "show_gb_cv_result(m, train_result, 'RMSE')"
   ]
  },
  {
   "cell_type": "code",
   "execution_count": 48,
   "id": "599c6311-b955-4a8f-9601-b92ba1da9489",
   "metadata": {},
   "outputs": [
    {
     "data": {
      "text/html": [
       "<div>\n",
       "<style scoped>\n",
       "    .dataframe tbody tr th:only-of-type {\n",
       "        vertical-align: middle;\n",
       "    }\n",
       "\n",
       "    .dataframe tbody tr th {\n",
       "        vertical-align: top;\n",
       "    }\n",
       "\n",
       "    .dataframe thead th {\n",
       "        text-align: right;\n",
       "    }\n",
       "</style>\n",
       "<table border=\"1\" class=\"dataframe\">\n",
       "  <thead>\n",
       "    <tr style=\"text-align: right;\">\n",
       "      <th></th>\n",
       "      <th>model</th>\n",
       "      <th>preprocessor</th>\n",
       "      <th>model_params</th>\n",
       "      <th>X</th>\n",
       "      <th>train_metrics</th>\n",
       "      <th>valid_metrics</th>\n",
       "      <th>train_info</th>\n",
       "    </tr>\n",
       "  </thead>\n",
       "  <tbody>\n",
       "    <tr>\n",
       "      <th>3</th>\n",
       "      <td>CatBoostRegressor</td>\n",
       "      <td>None</td>\n",
       "      <td>{'n_estimators': 400}</td>\n",
       "      <td>MonsoonIntensity,sort_0,sort_1,sort_2,sort_3,sort_4,sort_5,sort_6,sort_7,sort_8,sort_9,sort_10,s...</td>\n",
       "      <td>0.87063±0.00007</td>\n",
       "      <td>0.86917±0.00025</td>\n",
       "      <td>{'result_proc': &lt;function cb_learning_result at 0x7f0bbd179d00&gt;, 'train_data_proc': None, 'train...</td>\n",
       "    </tr>\n",
       "    <tr>\n",
       "      <th>4</th>\n",
       "      <td>CatBoostRegressor</td>\n",
       "      <td>None</td>\n",
       "      <td>{'n_estimators': 450}</td>\n",
       "      <td>MonsoonIntensity,sort_0,sort_1,sort_2,sort_3,sort_4,sort_5,sort_6,sort_7,sort_8,sort_9,sort_10,s...</td>\n",
       "      <td>0.87069±0.00009</td>\n",
       "      <td>0.86917±0.00025</td>\n",
       "      <td>{'result_proc': &lt;function cb_learning_result at 0x7f0bbd179d00&gt;, 'train_data_proc': None, 'train...</td>\n",
       "    </tr>\n",
       "    <tr>\n",
       "      <th>2</th>\n",
       "      <td>CatBoostRegressor</td>\n",
       "      <td>None</td>\n",
       "      <td>{'n_estimators': 350}</td>\n",
       "      <td>MonsoonIntensity,sort_0,sort_1,sort_2,sort_3,sort_4,sort_5,sort_6,sort_7,sort_8,sort_9,sort_10,s...</td>\n",
       "      <td>0.87055±0.00009</td>\n",
       "      <td>0.86914±0.00026</td>\n",
       "      <td>{'result_proc': &lt;function cb_learning_result at 0x7f0bbd179d00&gt;, 'train_data_proc': None, 'train...</td>\n",
       "    </tr>\n",
       "  </tbody>\n",
       "</table>\n",
       "</div>"
      ],
      "text/plain": [
       "               model preprocessor           model_params  \\\n",
       "3  CatBoostRegressor         None  {'n_estimators': 400}   \n",
       "4  CatBoostRegressor         None  {'n_estimators': 450}   \n",
       "2  CatBoostRegressor         None  {'n_estimators': 350}   \n",
       "\n",
       "                                                                                                     X  \\\n",
       "3  MonsoonIntensity,sort_0,sort_1,sort_2,sort_3,sort_4,sort_5,sort_6,sort_7,sort_8,sort_9,sort_10,s...   \n",
       "4  MonsoonIntensity,sort_0,sort_1,sort_2,sort_3,sort_4,sort_5,sort_6,sort_7,sort_8,sort_9,sort_10,s...   \n",
       "2  MonsoonIntensity,sort_0,sort_1,sort_2,sort_3,sort_4,sort_5,sort_6,sort_7,sort_8,sort_9,sort_10,s...   \n",
       "\n",
       "     train_metrics    valid_metrics  \\\n",
       "3  0.87063±0.00007  0.86917±0.00025   \n",
       "4  0.87069±0.00009  0.86917±0.00025   \n",
       "2  0.87055±0.00009  0.86914±0.00026   \n",
       "\n",
       "                                                                                            train_info  \n",
       "3  {'result_proc': <function cb_learning_result at 0x7f0bbd179d00>, 'train_data_proc': None, 'train...  \n",
       "4  {'result_proc': <function cb_learning_result at 0x7f0bbd179d00>, 'train_data_proc': None, 'train...  \n",
       "2  {'result_proc': <function cb_learning_result at 0x7f0bbd179d00>, 'train_data_proc': None, 'train...  "
      ]
     },
     "execution_count": 48,
     "metadata": {},
     "output_type": "execute_result"
    }
   ],
   "source": [
    "stk.get_model_results('cb2').sort_values('valid_metrics', ascending=False).iloc[:3]"
   ]
  },
  {
   "cell_type": "code",
   "execution_count": 49,
   "id": "d2348552-3a9e-4973-bd55-5ad27a9c7b72",
   "metadata": {},
   "outputs": [],
   "source": [
    "if not 'cb2' in stk.get_selected_model():\n",
    "    m = stk.select_model('cb2')\n",
    "    stk.save_model(os.path.join(result_path, 'stk_s4_ep5.pkl'))"
   ]
  },
  {
   "cell_type": "code",
   "execution_count": 50,
   "id": "e4b2d089-c74c-44c3-ab32-12a62a52f784",
   "metadata": {},
   "outputs": [
    {
     "name": "stdout",
     "output_type": "stream",
     "text": [
      "Valid.: 0.86937±0.00026, Train: 0.86937±0.00006\n"
     ]
    },
    {
     "data": {
      "image/png": "[encoded data removed]",
      "text/plain": [
       "<Figure size 800x300 with 1 Axes>"
      ]
     },
     "metadata": {},
     "output_type": "display_data"
    }
   ],
   "source": [
    "train_metrics, eval_metrics, s_prd, train_result = stk.eval_meta_model(\n",
    "    LinearRegression, \n",
    "    {'fit_intercept':False}, ['lgb1', 'lgb3', 'xgb1', 'xgb2', 'cb1', 'cb2'], result_proc=lr_learning_result\n",
    ")\n",
    "print_metrics(eval_metrics, train_metrics)\n",
    "plt.figure(figsize=(8, 3))\n",
    "sns.barplot(pd.concat([i[0] for i in train_result], axis=0))\n",
    "plt.show()"
   ]
  },
  {
   "cell_type": "markdown",
   "id": "9abb0259-66b8-425f-bc9e-f45bb1d80c10",
   "metadata": {},
   "source": [
    "# Neural Networks"
   ]
  },
  {
   "cell_type": "code",
   "execution_count": 51,
   "id": "e8b9bb3d-5611-41f1-a257-74ccdffa9f58",
   "metadata": {},
   "outputs": [],
   "source": [
    "from sklearn.preprocessing import StandardScaler\n",
    "from sklearn.compose import ColumnTransformer\n",
    "import tensorflow as tf"
   ]
  },
  {
   "cell_type": "markdown",
   "id": "1820a911-dac2-42e4-beae-9f3ab2e75c50",
   "metadata": {},
   "source": [
    "## NN1\n",
    "\n",
    "Neural Network는 데이터 분석 단계에서 다른 GB 모델에 비해 낮은 성능을 보였지만, 다른 양상의 결과를 보이고 있어 포함을 시켜봅니다."
   ]
  },
  {
   "cell_type": "code",
   "execution_count": 52,
   "id": "1102fe96-d9ba-4063-abe7-01197f97c325",
   "metadata": {},
   "outputs": [],
   "source": [
    "m, train_result = stk.eval_model(\n",
    "    'nn1', sgnn.NNRegressor, \n",
    "    model_params={\n",
    "        'network_config': [\n",
    "            {'unit': 128, 'activation': 'relu', 'batch_norm': True},\n",
    "            {'unit': 128, 'activation': 'relu', 'batch_norm': True},\n",
    "            {'unit': 64, 'activation': 'relu', 'batch_norm': True},\n",
    "            {'unit': 64, 'activation': 'relu', 'batch_norm': True},\n",
    "            {'unit': 32, 'activation': 'relu', 'batch_norm': True},\n",
    "            {'unit': 32, 'activation': 'relu', 'batch_norm': True}\n",
    "        ],\n",
    "        'batch_size': 1024,\n",
    "        'shuffle_size': 2048000,\n",
    "        'verbose': 0,\n",
    "        'validation_fraction': 0.1,\n",
    "        'learning_rate': 0.001,\n",
    "        'reduce_lr_on_plateau': {'factor': 0.1, 'patience': 5},\n",
    "        'early_stopping': {'patience': 5},\n",
    "        'epochs': 150\n",
    "    },\n",
    "    X=[X_sort[0], X_sort[-2], X_sort[-1]] + ['s_values', 's_values2', 'special1'], \n",
    "    preprocessor=ColumnTransformer([\n",
    "        ('std', StandardScaler(), [X_sort[0], X_sort[-2], X_sort[-1]] + ['s_values', 's_values2']),\n",
    "        ('pt', 'passthrough', ['special1'])\n",
    "    ]),\n",
    "    train_params={\n",
    "        'fit_params': {'metrics': [tf.keras.metrics.R2Score()]}\n",
    "    }\n",
    ")"
   ]
  },
  {
   "cell_type": "code",
   "execution_count": 53,
   "id": "3d414f6c-f355-4b3b-96ee-419f52d15e39",
   "metadata": {},
   "outputs": [
    {
     "name": "stdout",
     "output_type": "stream",
     "text": [
      "Valid.: 0.86328±0.00089, Train: 0.86263±0.00111\n"
     ]
    }
   ],
   "source": [
    "print_metrics(m['train_metrics'], m['valid_metrics'])"
   ]
  },
  {
   "cell_type": "code",
   "execution_count": 54,
   "id": "6e300477-4846-4522-b8d2-db6a75c52b17",
   "metadata": {},
   "outputs": [],
   "source": [
    "if not 'nn1' in stk.get_selected_model():\n",
    "    m = stk.select_model('nn1')\n",
    "    stk.save_model(os.path.join(result_path, 'stk_s4_ep5.pkl'))"
   ]
  },
  {
   "cell_type": "code",
   "execution_count": 55,
   "id": "ed1f7e44-bae0-46f7-b7f6-a13a267b6a0c",
   "metadata": {},
   "outputs": [
    {
     "name": "stdout",
     "output_type": "stream",
     "text": [
      "Valid.: 0.86936±0.00026, Train: 0.86937±0.00006\n"
     ]
    },
    {
     "data": {
      "image/png": "[encoded data removed]",
      "text/plain": [
       "<Figure size 800x300 with 1 Axes>"
      ]
     },
     "metadata": {},
     "output_type": "display_data"
    }
   ],
   "source": [
    "train_metrics, eval_metrics, s_prd, train_result = stk.eval_meta_model(\n",
    "    LinearRegression, \n",
    "    {'fit_intercept':False}, ['lgb1', 'lgb3', 'xgb1', 'xgb2', 'cb1', 'nn1'], result_proc=lr_learning_result\n",
    ")\n",
    "print_metrics(eval_metrics, train_metrics)\n",
    "plt.figure(figsize=(8, 3))\n",
    "sns.barplot(pd.concat([i[0] for i in train_result], axis=0))\n",
    "plt.show()"
   ]
  },
  {
   "cell_type": "markdown",
   "id": "3e900b26-ade0-4e5d-88a6-a35323790783",
   "metadata": {},
   "source": [
    "## Submission 4: Ensemble lgb1, lgb3, xgb1, xgb2, cb1, nn1"
   ]
  },
  {
   "cell_type": "code",
   "execution_count": 56,
   "id": "060ac629-96b0-4d02-afb4-c03c7fe48546",
   "metadata": {},
   "outputs": [],
   "source": [
    "if not os.path.exists(os.path.join(result_path, 'stk_m6.csv')):\n",
    "    stk.fit(LinearRegression, {}, ['lgb1', 'lgb3', 'xgb1', 'xgb2', 'cb1', 'nn1'])\n",
    "    pd.Series(stk.predict(df_test), index=df_test.index).rename('FloodProbability').to_frame().to_csv(os.path.join(result_path, 'stk_m6.csv'))\n",
    "    !kaggle competitions submit -c playground-series-s4e5 -f result/stk_m6.csv -m \"stk_m6\""
   ]
  },
  {
   "cell_type": "markdown",
   "id": "7f251cce-e4f7-4a30-a799-b85ca904be20",
   "metadata": {},
   "source": [
    "Public Score: 0.86929 \n",
    "\n",
    "약 0.00002의 성능 향상이 있었습니다."
   ]
  },
  {
   "cell_type": "code",
   "execution_count": 57,
   "id": "720c0bd8-f917-4c0f-ae67-b2b7744e5b20",
   "metadata": {},
   "outputs": [],
   "source": [
    "from IPython.display import Image\n",
    "img_path = 'img'\n",
    "def cache_fig(img_name, img_func, nrow, ncol, figsize, redraw=False):\n",
    "    img_file_name = os.path.join(img_path, img_name + '.png')\n",
    "    if not os.path.exists(img_file_name) or redraw:\n",
    "        fig, axes = plt.subplots(nrow, ncol, figsize=figsize)\n",
    "        if nrow * ncol > 1:\n",
    "            img_func(axes.ravel())\n",
    "        else:\n",
    "            img_func(axes)\n",
    "        plt.tight_layout()\n",
    "        plt.savefig(img_file_name)\n",
    "        plt.show()\n",
    "    else:\n",
    "        display(Image(filename=img_file_name))\n",
    "\n",
    "def diff_graph(axes, s_prd, s_res):\n",
    "    sns.lineplot(\n",
    "        pd.concat([(s_prd * 200).astype('int') / 200, stk.df_train['FloodProbability']], axis=1), x=s_prd.name, y='FloodProbability', ax=axes[0]\n",
    "    )\n",
    "    sns.lineplot(\n",
    "        pd.concat([(s_prd * 200).astype('int') / 200, s_res], axis=1), x=s_prd.name, y=s_res.name, ax=axes[1]\n",
    "    )\n",
    "    axes[1].axhline(0)\n",
    "    sns.scatterplot(\n",
    "        pd.concat([s_prd, s_res], axis=1), x=s_prd.name, y=s_res.name, ax=axes[2], s=10, alpha=0.01\n",
    "    )"
   ]
  },
  {
   "cell_type": "code",
   "execution_count": 58,
   "id": "74bfe5cf-4c5a-47dd-b146-a4be0255e9ee",
   "metadata": {},
   "outputs": [
    {
     "data": {
      "image/png": "[encoded data removed]",
      "text/plain": [
       "<IPython.core.display.Image object>"
      ]
     },
     "metadata": {},
     "output_type": "display_data"
    }
   ],
   "source": [
    "s_res_m6 = (s_prd - stk.df_train['FloodProbability']).rename('residual')\n",
    "s_prd = s_prd.rename('m6_prd')\n",
    "cache_fig('m6_diff', \n",
    "          partial(diff_graph, s_prd=s_prd, s_res=s_res_m6), \n",
    "          nrow=1, ncol=3, figsize=(16, 3))"
   ]
  },
  {
   "cell_type": "code",
   "execution_count": 59,
   "id": "60b777b3-b78e-4213-8223-dc1090c17d15",
   "metadata": {},
   "outputs": [
    {
     "data": {
      "image/png": "[encoded data removed]",
      "text/plain": [
       "<IPython.core.display.Image object>"
      ]
     },
     "metadata": {},
     "output_type": "display_data"
    }
   ],
   "source": [
    "def kde_km_prd_target_residual(axes, s_prd, s_res):\n",
    "    sns.kdeplot(pd.concat([s_prd, stk.df_train['FloodProbability']], axis=1), ax=axes[0])\n",
    "    sns.kdeplot(s_res, ax=axes[1])\n",
    "    \n",
    "cache_fig(\n",
    "    'kde_m6_prd_target_residual',\n",
    "    lambda x: kde_km_prd_target_residual(x, s_prd, s_res_m6), nrow=1, ncol=2, figsize=(16, 3)\n",
    ")"
   ]
  },
  {
   "cell_type": "code",
   "execution_count": 60,
   "id": "77ded06b-1efc-4fbb-998c-fad5dc0c8f6e",
   "metadata": {},
   "outputs": [
    {
     "data": {
      "image/png": "[encoded data removed]",
      "text/plain": [
       "<Figure size 1600x300 with 1 Axes>"
      ]
     },
     "metadata": {},
     "output_type": "display_data"
    }
   ],
   "source": [
    "plt.figure(figsize=(16, 3))\n",
    "sns.barplot((s_res_m6 ** 2).groupby(stk.df_train['FloodProbability']).sum())\n",
    "plt.xticks(rotation=-45, fontsize=8)\n",
    "plt.show()"
   ]
  },
  {
   "cell_type": "markdown",
   "id": "98bdf00b-8881-4f0c-be86-acae4a12212d",
   "metadata": {},
   "source": [
    "## NN2\n",
    "\n",
    "s_values_c를 embedding을 사용하여 신경망을 구성한 모델을 만듭니다."
   ]
  },
  {
   "cell_type": "code",
   "execution_count": 104,
   "id": "01d22f18-cbfe-471b-85e3-5441c90416c1",
   "metadata": {},
   "outputs": [],
   "source": [
    "from sklearn.preprocessing import OrdinalEncoder\n",
    "X_nn_std = [X_sort[0], X_sort[1], X_sort[-2], X_sort[-1], 's_values', 's_values2']\n",
    "m, train_result = stk.eval_model(\n",
    "    'nn2', sgnn.NNRegressor, \n",
    "    model_params={\n",
    "        'network_config': [\n",
    "            {'unit': 128, 'activation': 'relu', 'batch_norm': True},\n",
    "            {'unit': 128, 'activation': 'relu', 'batch_norm': True},\n",
    "            {'unit': 64, 'activation': 'relu', 'batch_norm': True},\n",
    "            {'unit': 64, 'activation': 'relu', 'batch_norm': True},\n",
    "            {'unit': 32, 'activation': 'relu', 'batch_norm': True},\n",
    "            {'unit': 32, 'activation': 'relu', 'batch_norm': True}\n",
    "        ],\n",
    "        'embedding': [(1, stk.df_train['s_values_c'].nunique(), 32, 0, 0),],\n",
    "        'batch_size': 1024,\n",
    "        'shuffle_size': 2048000,\n",
    "        'verbose': 0,\n",
    "        'validation_fraction': 0.1,\n",
    "        'learning_rate': 0.001,\n",
    "        'reduce_lr_on_plateau': {'factor': 0.1, 'patience': 5},\n",
    "        'early_stopping': {'patience': 5},\n",
    "        'epochs': 150\n",
    "    },\n",
    "    X= X_nn_std + ['s_values_c', 'special1'], \n",
    "    preprocessor=ColumnTransformer([\n",
    "        ('std', StandardScaler(), X_nn_std),\n",
    "        ('pt', 'passthrough', ['special1']),\n",
    "        ('ord', OrdinalEncoder(), ['s_values_c'])\n",
    "    ]),\n",
    "    train_params={\n",
    "        'fit_params': {'metrics': [tf.keras.metrics.R2Score()]}\n",
    "    }\n",
    ")"
   ]
  },
  {
   "cell_type": "code",
   "execution_count": 105,
   "id": "38a6434a-79da-4903-8627-0df0370d2253",
   "metadata": {},
   "outputs": [
    {
     "name": "stdout",
     "output_type": "stream",
     "text": [
      "Valid.: 0.86655±0.00082, Train: 0.86545±0.00098\n"
     ]
    }
   ],
   "source": [
    "print_metrics(m['train_metrics'], m['valid_metrics'])"
   ]
  },
  {
   "cell_type": "code",
   "execution_count": 106,
   "id": "24d3e473-14b0-47bc-931b-49f0f4cdaaf6",
   "metadata": {},
   "outputs": [
    {
     "data": {
      "text/html": [
       "<div>\n",
       "<style scoped>\n",
       "    .dataframe tbody tr th:only-of-type {\n",
       "        vertical-align: middle;\n",
       "    }\n",
       "\n",
       "    .dataframe tbody tr th {\n",
       "        vertical-align: top;\n",
       "    }\n",
       "\n",
       "    .dataframe thead th {\n",
       "        text-align: right;\n",
       "    }\n",
       "</style>\n",
       "<table border=\"1\" class=\"dataframe\">\n",
       "  <thead>\n",
       "    <tr style=\"text-align: right;\">\n",
       "      <th></th>\n",
       "      <th>model</th>\n",
       "      <th>preprocessor</th>\n",
       "      <th>model_params</th>\n",
       "      <th>X</th>\n",
       "      <th>train_metrics</th>\n",
       "      <th>valid_metrics</th>\n",
       "      <th>train_info</th>\n",
       "    </tr>\n",
       "  </thead>\n",
       "  <tbody>\n",
       "    <tr>\n",
       "      <th>4</th>\n",
       "      <td>NNRegressor</td>\n",
       "      <td>ColumnTransformer(transformers=[('std', StandardScaler(),\\n                                 ['so...</td>\n",
       "      <td>{'network_config': [{'unit': 128, 'activation': 'relu', 'batch_norm': True}, {'unit': 128, 'acti...</td>\n",
       "      <td>sort_0,sort_1,sort_18,sort_19,s_values,s_values2,s_values_c,special1</td>\n",
       "      <td>0.86659±0.00075</td>\n",
       "      <td>0.86556±0.00097</td>\n",
       "      <td>{'result_proc': None, 'train_data_proc': None, 'train_params': {'fit_params': {'metrics': [&lt;R2Sc...</td>\n",
       "    </tr>\n",
       "    <tr>\n",
       "      <th>5</th>\n",
       "      <td>NNRegressor</td>\n",
       "      <td>ColumnTransformer(transformers=[('std', StandardScaler(),\\n                                 ['so...</td>\n",
       "      <td>{'network_config': [{'unit': 128, 'activation': 'relu', 'batch_norm': True}, {'unit': 128, 'acti...</td>\n",
       "      <td>sort_0,sort_1,sort_18,sort_19,s_values,s_values2,s_values_c,special1</td>\n",
       "      <td>0.86655±0.00082</td>\n",
       "      <td>0.86545±0.00098</td>\n",
       "      <td>{'result_proc': None, 'train_data_proc': None, 'train_params': {'fit_params': {'metrics': [&lt;R2Sc...</td>\n",
       "    </tr>\n",
       "  </tbody>\n",
       "</table>\n",
       "</div>"
      ],
      "text/plain": [
       "         model  \\\n",
       "4  NNRegressor   \n",
       "5  NNRegressor   \n",
       "\n",
       "                                                                                          preprocessor  \\\n",
       "4  ColumnTransformer(transformers=[('std', StandardScaler(),\\n                                 ['so...   \n",
       "5  ColumnTransformer(transformers=[('std', StandardScaler(),\\n                                 ['so...   \n",
       "\n",
       "                                                                                          model_params  \\\n",
       "4  {'network_config': [{'unit': 128, 'activation': 'relu', 'batch_norm': True}, {'unit': 128, 'acti...   \n",
       "5  {'network_config': [{'unit': 128, 'activation': 'relu', 'batch_norm': True}, {'unit': 128, 'acti...   \n",
       "\n",
       "                                                                      X  \\\n",
       "4  sort_0,sort_1,sort_18,sort_19,s_values,s_values2,s_values_c,special1   \n",
       "5  sort_0,sort_1,sort_18,sort_19,s_values,s_values2,s_values_c,special1   \n",
       "\n",
       "     train_metrics    valid_metrics  \\\n",
       "4  0.86659±0.00075  0.86556±0.00097   \n",
       "5  0.86655±0.00082  0.86545±0.00098   \n",
       "\n",
       "                                                                                            train_info  \n",
       "4  {'result_proc': None, 'train_data_proc': None, 'train_params': {'fit_params': {'metrics': [<R2Sc...  \n",
       "5  {'result_proc': None, 'train_data_proc': None, 'train_params': {'fit_params': {'metrics': [<R2Sc...  "
      ]
     },
     "execution_count": 106,
     "metadata": {},
     "output_type": "execute_result"
    }
   ],
   "source": [
    "stk.get_model_results('nn2').sort_values('valid_metrics', ascending=False).head(2)"
   ]
  },
  {
   "cell_type": "code",
   "execution_count": 107,
   "id": "ede0949c-0a78-41f6-b0d7-ef90977af38d",
   "metadata": {},
   "outputs": [],
   "source": [
    "if not 'nn2' in stk.get_selected_model():\n",
    "    m = stk.select_model('nn2')\n",
    "    stk.save_model(os.path.join(result_path, 'stk_s4_ep5.pkl'))"
   ]
  },
  {
   "cell_type": "code",
   "execution_count": 108,
   "id": "3e89953d-d78b-4443-bd38-e87b47b7dce6",
   "metadata": {},
   "outputs": [
    {
     "name": "stdout",
     "output_type": "stream",
     "text": [
      "Valid.: 0.86941±0.00026, Train: 0.86941±0.00007\n"
     ]
    },
    {
     "data": {
      "image/png": "[encoded data removed]",
      "text/plain": [
       "<Figure size 800x300 with 1 Axes>"
      ]
     },
     "metadata": {},
     "output_type": "display_data"
    }
   ],
   "source": [
    "train_metrics, eval_metrics, s_prd_m8, train_result = stk.eval_meta_model(\n",
    "    LinearRegression, \n",
    "    {'fit_intercept':False}, ['lgb1', 'lgb3', 'lgb4', 'xgb1', 'xgb2', 'cb1', 'cb2', 'nn1', 'nn2'], result_proc=lr_learning_result\n",
    ")\n",
    "print_metrics(eval_metrics, train_metrics)\n",
    "plt.figure(figsize=(8, 3))\n",
    "sns.barplot(pd.concat([i[0] for i in train_result], axis=0))\n",
    "plt.show()"
   ]
  },
  {
   "cell_type": "markdown",
   "id": "f10d234d-7345-45d7-880b-7745ffc4f721",
   "metadata": {},
   "source": [
    "### Submission 8: Stacking 10 -  Ensemble lgb1, lgb3, lgb4, xgb1, xgb2, cb1, cb2, nn1, nn2"
   ]
  },
  {
   "cell_type": "code",
   "execution_count": 110,
   "id": "fc5891d0-fbea-4f36-8b83-0004bb2c5375",
   "metadata": {},
   "outputs": [
    {
     "name": "stderr",
     "output_type": "stream",
     "text": [
      "/home/sun9sun9/python312/lib/python3.12/site-packages/xgboost/core.py:160: UserWarning: [11:52:02] WARNING: /workspace/src/common/error_msg.cc:58: Falling back to prediction using DMatrix due to mismatched devices. This might lead to higher memory usage and slower performance. XGBoost is running on: cuda:0, while the input data is on: cpu.\n",
      "Potential solutions:\n",
      "- Use a data structure that matches the device ordinal in the booster.\n",
      "- Set the device for booster before call to inplace_predict.\n",
      "\n",
      "This warning will only be shown once.\n",
      "\n",
      "  warnings.warn(smsg, UserWarning)\n"
     ]
    },
    {
     "name": "stdout",
     "output_type": "stream",
     "text": [
      "100%|██████████████████████████████████████| 19.3M/19.3M [00:04<00:00, 4.88MB/s]\n",
      "Successfully submitted to Regression with a Flood Prediction Dataset"
     ]
    }
   ],
   "source": [
    "if not os.path.exists(os.path.join(result_path, 'stk_m10.csv')):\n",
    "    stk.fit(LinearRegression, {}, ['lgb1', 'lgb3', 'lgb4', 'xgb1', 'xgb2', 'cb1', 'cb2', 'nn1', 'nn2'])\n",
    "    pd.Series(stk.predict(df_test), index=df_test.index).rename('FloodProbability').to_frame().to_csv(os.path.join(result_path, 'stk_m10.csv'))\n",
    "    !kaggle competitions submit -c playground-series-s4e5 -f result/stk_m10.csv -m \"stk_m10\""
   ]
  },
  {
   "cell_type": "markdown",
   "id": "eaf2fd8f-4a2f-4c67-a59e-bb53d377a9b5",
   "metadata": {},
   "source": [
    "**Public Score: 0.86932**"
   ]
  },
  {
   "cell_type": "markdown",
   "id": "49bb3333-e05b-4ae7-a832-7f7078662271",
   "metadata": {},
   "source": [
    "## 예측의 분포와 타겟의 분포가 차이가 나는 지점 분석\n",
    "\n",
    "### target between (0.4, 0.5)"
   ]
  },
  {
   "cell_type": "code",
   "execution_count": 61,
   "id": "c932886c-6006-485d-bc64-b847a97af7c7",
   "metadata": {},
   "outputs": [
    {
     "data": {
      "image/png": "[encoded data removed]",
      "text/plain": [
       "<Figure size 800x300 with 1 Axes>"
      ]
     },
     "metadata": {},
     "output_type": "display_data"
    }
   ],
   "source": [
    "plt.figure(figsize=(8, 3))\n",
    "s_bidx = stk.df_train['FloodProbability'].between(0.4, 0.5)\n",
    "sns.lineplot(x=stk.df_train.loc[s_bidx, 'FloodProbability'], y=s_prd.loc[s_bidx])\n",
    "plt.plot([0.4, 0.5], [0.4, 0.5], color='red')\n",
    "plt.show()"
   ]
  },
  {
   "cell_type": "markdown",
   "id": "627deba0-244b-46fa-bf42-c1af478a3975",
   "metadata": {},
   "source": [
    "FloodProbability가 0.425 0.475 의 예측값은 실제값보다 높습니다. 이 구간만을 놓고 모델을 만들어봅니다."
   ]
  },
  {
   "cell_type": "code",
   "execution_count": 62,
   "id": "7faa9ccb-428c-4009-9306-641136209c37",
   "metadata": {},
   "outputs": [
    {
     "data": {
      "text/plain": [
       "96.87694923786506"
      ]
     },
     "execution_count": 62,
     "metadata": {},
     "output_type": "execute_result"
    }
   ],
   "source": [
    "s_bidx = stk.df_train['FloodProbability'].between(0.425, 0.475)\n",
    "df_tmp = stk.df_train.loc[s_bidx]\n",
    "((df_tmp['FloodProbability'] - s_prd.loc[s_bidx]) ** 2).sum()"
   ]
  },
  {
   "cell_type": "code",
   "execution_count": 63,
   "id": "6d27eaa0-34bc-460f-b030-f1aa1ebeb776",
   "metadata": {},
   "outputs": [
    {
     "data": {
      "text/plain": [
       "380.25314287454336"
      ]
     },
     "execution_count": 63,
     "metadata": {},
     "output_type": "execute_result"
    }
   ],
   "source": [
    "((stk.df_train['FloodProbability'] - s_prd) ** 2).sum()"
   ]
  },
  {
   "cell_type": "code",
   "execution_count": 64,
   "id": "e63d6c34-db49-46f8-81c4-6984268dbb72",
   "metadata": {},
   "outputs": [],
   "source": [
    "from sklearn.linear_model import LinearRegression\n",
    "from sklearn.model_selection import cross_val_predict\n",
    "s_tmp_prd = cross_val_predict(LinearRegression(fit_intercept=False), df_tmp[['s_values']], df_tmp['FloodProbability'], cv=stk.sp)"
   ]
  },
  {
   "cell_type": "code",
   "execution_count": 65,
   "id": "aad127ba-2833-415e-b7c3-e8078879c993",
   "metadata": {},
   "outputs": [
    {
     "data": {
      "text/plain": [
       "28.582792250525078"
      ]
     },
     "execution_count": 65,
     "metadata": {},
     "output_type": "execute_result"
    }
   ],
   "source": [
    "((df_tmp['FloodProbability'] - s_tmp_prd) ** 2).sum()"
   ]
  },
  {
   "cell_type": "code",
   "execution_count": 66,
   "id": "92ef1edd-d0d7-43c0-bd86-8ecd466c0fe3",
   "metadata": {},
   "outputs": [
    {
     "data": {
      "text/plain": [
       "array([0.00489108])"
      ]
     },
     "execution_count": 66,
     "metadata": {},
     "output_type": "execute_result"
    }
   ],
   "source": [
    "reg_lr = LinearRegression(fit_intercept=False).fit(df_tmp[['s_values']], df_tmp['FloodProbability'])\n",
    "reg_lr.coef_"
   ]
  },
  {
   "cell_type": "code",
   "execution_count": 67,
   "id": "180d8bcb-f21e-4598-8cf8-842f01b82ac3",
   "metadata": {},
   "outputs": [
    {
     "data": {
      "text/plain": [
       "array([0.00511047])"
      ]
     },
     "execution_count": 67,
     "metadata": {},
     "output_type": "execute_result"
    }
   ],
   "source": [
    "reg_lr = LinearRegression(fit_intercept=False).fit(stk.df_train[['s_values']], stk.df_train['FloodProbability'])\n",
    "reg_lr.coef_"
   ]
  },
  {
   "cell_type": "markdown",
   "id": "45c2a9af-e933-4243-aafe-7e38a6c5cd03",
   "metadata": {},
   "source": [
    "s_values에 대한 계수가 차이가 납니다. \n",
    "\n",
    "데이터 분석에서 s_values FloodProbability"
   ]
  },
  {
   "cell_type": "code",
   "execution_count": 68,
   "id": "4c8bcb7e-c65f-4600-b779-3e14a339f180",
   "metadata": {},
   "outputs": [
    {
     "data": {
      "image/png": "[encoded data removed]",
      "text/plain": [
       "<Figure size 640x480 with 1 Axes>"
      ]
     },
     "metadata": {},
     "output_type": "display_data"
    }
   ],
   "source": [
    "sns.histplot(\n",
    "    stk.df_train['FloodProbability'] / stk.df_train['s_values']\n",
    ")\n",
    "plt.show()"
   ]
  },
  {
   "cell_type": "code",
   "execution_count": 69,
   "id": "8ad2f444-ce7e-498a-91f3-54f77bf04bcf",
   "metadata": {},
   "outputs": [
    {
     "data": {
      "text/plain": [
       "<Axes: xlabel='s_values', ylabel='None'>"
      ]
     },
     "execution_count": 69,
     "metadata": {},
     "output_type": "execute_result"
    },
    {
     "data": {
      "image/png": "[encoded data removed]",
      "text/plain": [
       "<Figure size 640x480 with 1 Axes>"
      ]
     },
     "metadata": {},
     "output_type": "display_data"
    }
   ],
   "source": [
    "sns.lineplot(\n",
    "    x=stk.df_train['s_values'], y=stk.df_train['FloodProbability'] / stk.df_train['s_values']\n",
    ")"
   ]
  },
  {
   "cell_type": "markdown",
   "id": "c666c86b-ac50-41a9-9ca2-82baea6316bb",
   "metadata": {},
   "source": [
    "FloodProbaility를 맞추는 것보다는 s_values와 FloodPrbability의 비율을 맞추는 것이 더 쉬울 수 있지 않을까 합니다. \n",
    "\n",
    "이를 Data 데이터 분석 단계에서 살펴봅니다."
   ]
  },
  {
   "cell_type": "markdown",
   "id": "7d92dfd1-9d58-4d31-8b39-4a0aef942ea2",
   "metadata": {},
   "source": [
    "# Ratio Target Model\n",
    "\n",
    "분석 단계에서는 원래 target으로 했을 때와 비슷한 성능을 보였습니다. \n",
    "\n",
    "분포상으는 target으로 했을 때와 육안으로느 크게 다르지는 않았지만, 보완 역활을 해줄지는 확인해볼만합니다.\n"
   ]
  },
  {
   "cell_type": "markdown",
   "id": "ec9c4bcf-3c31-4f44-b596-ca2fd07dcec9",
   "metadata": {},
   "source": [
    "### LGB_r1"
   ]
  },
  {
   "cell_type": "code",
   "execution_count": 70,
   "id": "554f7d8f-d353-4101-a5f1-cab4f85ae3de",
   "metadata": {},
   "outputs": [],
   "source": [
    "m, train_result = lgb_eval(\n",
    "    'lgb_r1', model_params={'verbose': -1, 'learning_rate': 0.03, 'n_estimators': 1000, 'num_leaves': 96, 'min_child_samples': 32, 'subsample_freq': 1, 'subsample': 0.75}, \n",
    "    X= X_sort + X_sum + X_stat, \n",
    "    result_proc=sgml.lgb_learning_result,\n",
    "    target_func=ratio_func, target_invfunc=ratio_invfunc,\n",
    "    train_params={\n",
    "        'fit_params': {'callbacks': [lgb.early_stopping(5, verbose=False)], 'eval_metric': lgb_r2},\n",
    "        'valid_splitter': valid_splitter,\n",
    "        'valid_config_proc': sgml.gb_valid_config\n",
    "    }\n",
    ")"
   ]
  },
  {
   "cell_type": "code",
   "execution_count": 71,
   "id": "d01241b7-f3b5-4c00-bc7a-2eceb859a421",
   "metadata": {},
   "outputs": [],
   "source": [
    "show_gb_cv_result(m, train_result)"
   ]
  },
  {
   "cell_type": "code",
   "execution_count": 72,
   "id": "bbb2ab7f-70e9-4bc0-a90f-068d68574591",
   "metadata": {},
   "outputs": [
    {
     "data": {
      "text/html": [
       "<div>\n",
       "<style scoped>\n",
       "    .dataframe tbody tr th:only-of-type {\n",
       "        vertical-align: middle;\n",
       "    }\n",
       "\n",
       "    .dataframe tbody tr th {\n",
       "        vertical-align: top;\n",
       "    }\n",
       "\n",
       "    .dataframe thead th {\n",
       "        text-align: right;\n",
       "    }\n",
       "</style>\n",
       "<table border=\"1\" class=\"dataframe\">\n",
       "  <thead>\n",
       "    <tr style=\"text-align: right;\">\n",
       "      <th></th>\n",
       "      <th>model</th>\n",
       "      <th>preprocessor</th>\n",
       "      <th>model_params</th>\n",
       "      <th>X</th>\n",
       "      <th>train_metrics</th>\n",
       "      <th>valid_metrics</th>\n",
       "      <th>train_info</th>\n",
       "    </tr>\n",
       "  </thead>\n",
       "  <tbody>\n",
       "    <tr>\n",
       "      <th>7</th>\n",
       "      <td>LGBMRegressor</td>\n",
       "      <td>None</td>\n",
       "      <td>{'verbose': -1, 'learning_rate': 0.03, 'n_estimators': 250, 'num_leaves': 96, 'min_child_samples...</td>\n",
       "      <td>sort_0,sort_1,sort_2,sort_3,sort_4,sort_5,sort_6,sort_7,sort_8,sort_9,sort_10,sort_11,sort_12,so...</td>\n",
       "      <td>0.87058±0.00007</td>\n",
       "      <td>0.86910±0.00026</td>\n",
       "      <td>{'result_proc': &lt;function lgb_learning_result at 0x7f71c9a65bc0&gt;, 'train_data_proc': None, 'trai...</td>\n",
       "    </tr>\n",
       "    <tr>\n",
       "      <th>10</th>\n",
       "      <td>LGBMRegressor</td>\n",
       "      <td>None</td>\n",
       "      <td>{'verbose': -1, 'learning_rate': 0.03, 'n_estimators': 250, 'num_leaves': 96, 'min_child_samples...</td>\n",
       "      <td>sort_0,sort_1,sort_2,sort_3,sort_4,sort_5,sort_6,sort_7,sort_8,sort_9,sort_10,sort_11,sort_12,so...</td>\n",
       "      <td>0.87058±0.00007</td>\n",
       "      <td>0.86910±0.00026</td>\n",
       "      <td>{'result_proc': &lt;function lgb_learning_result at 0x7f71c9a65bc0&gt;, 'train_data_proc': None, 'trai...</td>\n",
       "    </tr>\n",
       "    <tr>\n",
       "      <th>12</th>\n",
       "      <td>LGBMRegressor</td>\n",
       "      <td>None</td>\n",
       "      <td>{'verbose': -1, 'learning_rate': 0.03, 'n_estimators': 250, 'num_leaves': 96, 'min_child_samples...</td>\n",
       "      <td>sort_0,sort_1,sort_2,sort_3,sort_4,sort_5,sort_6,sort_7,sort_8,sort_9,sort_10,sort_11,sort_12,so...</td>\n",
       "      <td>0.87058±0.00007</td>\n",
       "      <td>0.86910±0.00026</td>\n",
       "      <td>{'result_proc': &lt;function lgb_learning_result at 0x7f71c9a65bc0&gt;, 'train_data_proc': None, 'trai...</td>\n",
       "    </tr>\n",
       "  </tbody>\n",
       "</table>\n",
       "</div>"
      ],
      "text/plain": [
       "            model preprocessor  \\\n",
       "7   LGBMRegressor         None   \n",
       "10  LGBMRegressor         None   \n",
       "12  LGBMRegressor         None   \n",
       "\n",
       "                                                                                           model_params  \\\n",
       "7   {'verbose': -1, 'learning_rate': 0.03, 'n_estimators': 250, 'num_leaves': 96, 'min_child_samples...   \n",
       "10  {'verbose': -1, 'learning_rate': 0.03, 'n_estimators': 250, 'num_leaves': 96, 'min_child_samples...   \n",
       "12  {'verbose': -1, 'learning_rate': 0.03, 'n_estimators': 250, 'num_leaves': 96, 'min_child_samples...   \n",
       "\n",
       "                                                                                                      X  \\\n",
       "7   sort_0,sort_1,sort_2,sort_3,sort_4,sort_5,sort_6,sort_7,sort_8,sort_9,sort_10,sort_11,sort_12,so...   \n",
       "10  sort_0,sort_1,sort_2,sort_3,sort_4,sort_5,sort_6,sort_7,sort_8,sort_9,sort_10,sort_11,sort_12,so...   \n",
       "12  sort_0,sort_1,sort_2,sort_3,sort_4,sort_5,sort_6,sort_7,sort_8,sort_9,sort_10,sort_11,sort_12,so...   \n",
       "\n",
       "      train_metrics    valid_metrics  \\\n",
       "7   0.87058±0.00007  0.86910±0.00026   \n",
       "10  0.87058±0.00007  0.86910±0.00026   \n",
       "12  0.87058±0.00007  0.86910±0.00026   \n",
       "\n",
       "                                                                                             train_info  \n",
       "7   {'result_proc': <function lgb_learning_result at 0x7f71c9a65bc0>, 'train_data_proc': None, 'trai...  \n",
       "10  {'result_proc': <function lgb_learning_result at 0x7f71c9a65bc0>, 'train_data_proc': None, 'trai...  \n",
       "12  {'result_proc': <function lgb_learning_result at 0x7f71c9a65bc0>, 'train_data_proc': None, 'trai...  "
      ]
     },
     "execution_count": 72,
     "metadata": {},
     "output_type": "execute_result"
    }
   ],
   "source": [
    "stk.get_model_results('lgb_r1').sort_values('valid_metrics', ascending=False).iloc[:3]"
   ]
  },
  {
   "cell_type": "code",
   "execution_count": 73,
   "id": "0a887ea7-2a5c-4c38-955e-5c91978d04d4",
   "metadata": {},
   "outputs": [],
   "source": [
    "m, train_result = lgb_eval(\n",
    "    'lgb_r1', model_params={'verbose': -1, 'learning_rate': 0.03, 'n_estimators': 250, 'num_leaves': 96, 'min_child_samples': 32, 'subsample_freq': 1, 'subsample': 0.75}, \n",
    "    X= X_sort + X_sum + X_stat, \n",
    "    result_proc=sgml.lgb_learning_result,\n",
    "    target_func=ratio_func, target_invfunc=ratio_invfunc,\n",
    "    train_params={\n",
    "        'fit_params': {'eval_metric': lgb_r2},\n",
    "        'valid_splitter': valid_splitter,\n",
    "        'valid_config_proc': sgml.gb_valid_config\n",
    "    }\n",
    ")\n",
    "show_gb_cv_result(m, train_result)"
   ]
  },
  {
   "cell_type": "code",
   "execution_count": 74,
   "id": "d2a9ce52-7b93-4bd6-b672-52b93f1d2664",
   "metadata": {},
   "outputs": [],
   "source": [
    "if not 'lgb_r1' in stk.get_selected_model():\n",
    "    m = stk.select_model('lgb_r1')\n",
    "    stk.save_model(os.path.join(result_path, 'stk_s4_ep5.pkl'))"
   ]
  },
  {
   "cell_type": "code",
   "execution_count": 75,
   "id": "564af4b8-2f64-4750-83e2-6139633f3c45",
   "metadata": {},
   "outputs": [
    {
     "name": "stdout",
     "output_type": "stream",
     "text": [
      "Valid.: 0.86937±0.00026, Train: 0.86937±0.00006\n"
     ]
    },
    {
     "data": {
      "image/png": "[encoded data removed]",
      "text/plain": [
       "<Figure size 800x300 with 1 Axes>"
      ]
     },
     "metadata": {},
     "output_type": "display_data"
    }
   ],
   "source": [
    "train_metrics, eval_metrics, s_prd, train_result = stk.eval_meta_model(\n",
    "    LinearRegression, \n",
    "    {'fit_intercept':False}, ['lgb1', 'lgb3', 'xgb1', 'xgb2', 'cb1', 'nn1', 'lgb_r1'], result_proc=lr_learning_result\n",
    ")\n",
    "print_metrics(eval_metrics, train_metrics)\n",
    "plt.figure(figsize=(8, 3))\n",
    "sns.barplot(pd.concat([i[0] for i in train_result], axis=0))\n",
    "plt.show()"
   ]
  },
  {
   "cell_type": "code",
   "execution_count": 76,
   "id": "64dc1c7a-0fe7-492c-9c6b-747454048cb7",
   "metadata": {},
   "outputs": [],
   "source": [
    "if not os.path.exists(os.path.join(result_path, 'stk_m7.csv')):\n",
    "    stk.fit(LinearRegression, {}, ['lgb1', 'lgb3', 'xgb1', 'xgb2', 'cb1', 'nn1', 'lgb_r1'])\n",
    "    pd.Series(stk.predict(df_test), index=df_test.index).rename('FloodProbability').to_frame().to_csv(os.path.join(result_path, 'stk_m7.csv'))\n",
    "    !kaggle competitions submit -c playground-series-s4e5 -f result/stk_m7.csv -m \"stk_m7\""
   ]
  },
  {
   "cell_type": "markdown",
   "id": "d34d4ff1-e177-4f09-a29c-faa8ab7e2885",
   "metadata": {},
   "source": [
    "Public Score: 0.86926 성능이 떨어졌습니다."
   ]
  },
  {
   "cell_type": "markdown",
   "id": "ed95e3aa-c97b-404c-895e-e791c10c851b",
   "metadata": {},
   "source": [
    "## Stackiing + lgb4"
   ]
  },
  {
   "cell_type": "code",
   "execution_count": 77,
   "id": "7b45c4fd-181f-47c0-8b7b-2d0d6bd536f6",
   "metadata": {},
   "outputs": [
    {
     "name": "stdout",
     "output_type": "stream",
     "text": [
      "Valid.: 0.86940±0.00026, Train: 0.86940±0.00007\n"
     ]
    },
    {
     "data": {
      "image/png": "[encoded data removed]",
      "text/plain": [
       "<Figure size 800x300 with 1 Axes>"
      ]
     },
     "metadata": {},
     "output_type": "display_data"
    }
   ],
   "source": [
    "train_metrics, eval_metrics, s_prd, train_result = stk.eval_meta_model(\n",
    "    LinearRegression, \n",
    "    {'fit_intercept':False}, ['lgb1', 'lgb3', 'lgb4', 'xgb1', 'xgb2', 'cb1', 'nn1'], result_proc=lr_learning_result\n",
    ")\n",
    "print_metrics(eval_metrics, train_metrics)\n",
    "plt.figure(figsize=(8, 3))\n",
    "sns.barplot(pd.concat([i[0] for i in train_result], axis=0))\n",
    "plt.show()"
   ]
  },
  {
   "cell_type": "markdown",
   "id": "574c41b7-d00b-44b4-b32c-c5b9ff63994d",
   "metadata": {},
   "source": [
    "## Submission 5: Stacking 7 - Ensemble lgb1, lgb3, lgb4, xgb1, xgb2, cb1, nn1"
   ]
  },
  {
   "cell_type": "code",
   "execution_count": 78,
   "id": "e045ab33-aa89-446c-9c47-6e72f102e7ff",
   "metadata": {},
   "outputs": [],
   "source": [
    "if not os.path.exists(os.path.join(result_path, 'stk_m7.csv')):\n",
    "    stk.fit(LinearRegression, {}, ['lgb1', 'lgb3', 'lgb4', 'xgb1', 'xgb2', 'cb1', 'nn1'])\n",
    "    pd.Series(stk.predict(df_test), index=df_test.index).rename('FloodProbability').to_frame().to_csv(os.path.join(result_path, 'stk_m7.csv'))\n",
    "    !kaggle competitions submit -c playground-series-s4e5 -f result/stk_m7.csv -m \"stk_m7\""
   ]
  },
  {
   "cell_type": "markdown",
   "id": "7bf48042-2580-4bdc-b633-707fa197851f",
   "metadata": {},
   "source": [
    "Public Score: 0.86931"
   ]
  },
  {
   "cell_type": "markdown",
   "id": "ab2fcf47-d3aa-4d6e-8608-981cae7d8ba7",
   "metadata": {},
   "source": [
    "## Stacking + cb2"
   ]
  },
  {
   "cell_type": "code",
   "execution_count": 79,
   "id": "84dc16cb-2f3c-4b95-80b0-470455ce3054",
   "metadata": {},
   "outputs": [
    {
     "name": "stdout",
     "output_type": "stream",
     "text": [
      "Valid.: 0.86941±0.00026, Train: 0.86941±0.00007\n"
     ]
    },
    {
     "data": {
      "image/png": "[encoded data removed]",
      "text/plain": [
       "<Figure size 800x300 with 1 Axes>"
      ]
     },
     "metadata": {},
     "output_type": "display_data"
    }
   ],
   "source": [
    "train_metrics, eval_metrics, s_prd, train_result = stk.eval_meta_model(\n",
    "    LinearRegression, \n",
    "    {'fit_intercept':False}, ['lgb1', 'lgb3', 'lgb4', 'xgb1', 'xgb2', 'cb1', 'cb2', 'nn1'], result_proc=lr_learning_result\n",
    ")\n",
    "print_metrics(eval_metrics, train_metrics)\n",
    "plt.figure(figsize=(8, 3))\n",
    "sns.barplot(pd.concat([i[0] for i in train_result], axis=0))\n",
    "plt.show()"
   ]
  },
  {
   "cell_type": "markdown",
   "id": "68d89e28-8bce-47b8-a815-5c15c2aae557",
   "metadata": {},
   "source": [
    "## Submission 6: Stacking 8 - Ensemble lgb1, lgb3, lgb4, xgb1, xgb2, cb1, cb2, nn1"
   ]
  },
  {
   "cell_type": "code",
   "execution_count": 80,
   "id": "cab21e1c-997c-4af8-b6ee-20ddadf7cc98",
   "metadata": {},
   "outputs": [],
   "source": [
    "if not os.path.exists(os.path.join(result_path, 'stk_m8.csv')):\n",
    "    stk.fit(LinearRegression, {}, ['lgb1', 'lgb3', 'lgb4', 'xgb1', 'xgb2', 'cb1', 'cb2', 'nn1'])\n",
    "    pd.Series(stk.predict(df_test), index=df_test.index).rename('FloodProbability').to_frame().to_csv(os.path.join(result_path, 'stk_m8.csv'))\n",
    "    !kaggle competitions submit -c playground-series-s4e5 -f result/stk_m8.csv -m \"stk_m8\""
   ]
  },
  {
   "cell_type": "markdown",
   "id": "17d2c6bd-bf02-4c9f-a579-ae376210c906",
   "metadata": {},
   "source": [
    "Public Score: 0.86932"
   ]
  },
  {
   "cell_type": "markdown",
   "id": "bd7910fc-4119-4279-88cd-a32dda952f76",
   "metadata": {},
   "source": [
    "# Groupby s_values_c\n",
    "\n",
    "s_values_c에 따라 데이터의 양상이 다르다는 것을 special1 속성을 조사할 때 관찰했습니다. \n",
    "\n",
    "이러한 성질을 반영하여 s_values_c 별로 LightGBM 모델을 만들어 예측을 해봅니다."
   ]
  },
  {
   "cell_type": "code",
   "execution_count": 92,
   "id": "aa445be9-bf97-44ce-9d94-b9ddc7e110df",
   "metadata": {},
   "outputs": [
    {
     "data": {
      "text/plain": [
       "0.8692037987965864"
      ]
     },
     "execution_count": 92,
     "metadata": {},
     "output_type": "execute_result"
    }
   ],
   "source": [
    "from sklearn.model_selection import train_test_split\n",
    "def predict(m, df, X):\n",
    "    return pd.Series(m.predict(df[X]), index=df.index)\n",
    "\n",
    "def eval_metric(df, y_prd):\n",
    "    return r2_score(df['FloodProbability'], y_prd)\n",
    "\n",
    "def valid_splitter(df):\n",
    "    return train_test_split(df, train_size=0.8, random_state=123)\n",
    "\n",
    "result_path = 'result'\n",
    "def cache_result(result_name, result_func, rerun=False):\n",
    "    result_file_name = os.path.join(result_path, result_name + '.pkl')\n",
    "    if not os.path.exists(result_file_name) or rerun:\n",
    "        result = result_func()\n",
    "        if result is None:\n",
    "            return\n",
    "        with open(result_file_name, 'wb') as f:\n",
    "            pkl.dump(result, f)\n",
    "    else:\n",
    "        with open(result_file_name, 'rb') as f:\n",
    "            result = pkl.load(f)\n",
    "    return result\n",
    "\n",
    "def cv_predict(df):\n",
    "    cv_result = sgml.cv_model(\n",
    "        KFold(10, random_state=123, shuffle=True), \n",
    "        lgb.LGBMRegressor, {'learning_rate': 0.03, 'n_estimators': 1000, 'verbose': -1, 'num_leaves': 7},\n",
    "        df, X_sort + ['s_values', 's_values2'] + X_stat, 'FloodProbability', \n",
    "        predict, eval_metric,\n",
    "        result_proc=sgml.lgb_learning_result,\n",
    "        train_params={\n",
    "            'fit_params': {'callbacks': [lgb.early_stopping(5, verbose=False)]},\n",
    "            'valid_splitter': valid_splitter,\n",
    "            'valid_config_proc': sgml.gb_valid_config\n",
    "        }\n",
    "    )\n",
    "    cv_prd = cv_result[2]\n",
    "    m_est = int(np.mean([len(i[0]) for i in cv_result[3]]) + 0.5)\n",
    "    return (cv_prd, m_est)\n",
    "\n",
    "s_bygrp = cache_result(\n",
    "    's_bygrp', \n",
    "    lambda : stk.df_train.groupby('s_values_c', group_keys=False).apply(lambda x: cv_predict(x), include_groups=False)\n",
    ")\n",
    "r2_score(stk.df_train['FloodProbability'], pd.concat([i[0] for i in s_bygrp], axis=0).sort_index())"
   ]
  },
  {
   "cell_type": "code",
   "execution_count": 93,
   "id": "3e08a6ec-d0dd-471b-a048-9d1b1779f36c",
   "metadata": {},
   "outputs": [],
   "source": [
    "s_est = s_bygrp.apply(lambda x: x[1])"
   ]
  },
  {
   "cell_type": "code",
   "execution_count": 94,
   "id": "a00d3de7-7580-4b13-b1eb-254fca8dc3f5",
   "metadata": {},
   "outputs": [
    {
     "data": {
      "text/plain": [
       "0.8692750512208872"
      ]
     },
     "execution_count": 94,
     "metadata": {},
     "output_type": "execute_result"
    }
   ],
   "source": [
    "X_sel = X_sort + ['s_values', 's_values2'] + X_stat\n",
    "s_bygrp2 = cache_result(\n",
    "    's_bygrp2',\n",
    "    lambda : stk.df_train.groupby('s_values_c', group_keys=False).apply(\n",
    "        lambda x: sgml.cv_model(\n",
    "            KFold(10, random_state=123, shuffle=True), \n",
    "            lgb.LGBMRegressor, {'learning_rate': 0.03, 'n_estimators': s_est[x.name], 'verbose': -1, 'num_leaves': 7},\n",
    "            x, X_sort + ['s_values', 's_values2'] + X_stat, 'FloodProbability', \n",
    "            predict, eval_metric\n",
    "        )[2], include_groups=False\n",
    "    ).sort_index()\n",
    ")\n",
    "r2_score(stk.df_train['FloodProbability'], s_bygrp2.values)"
   ]
  },
  {
   "cell_type": "code",
   "execution_count": 112,
   "id": "7045ea48-c322-4ad1-a331-213ce85f4079",
   "metadata": {},
   "outputs": [
    {
     "name": "stdout",
     "output_type": "stream",
     "text": [
      "Valid.: 0.86941±0.00026, Train: 0.86941±0.00007\n"
     ]
    }
   ],
   "source": [
    "train_metrics, eval_metrics, s_prd_m7, train_result = stk.eval_meta_model(\n",
    "    LinearRegression, \n",
    "    {'fit_intercept':False}, ['lgb1', 'lgb3', 'lgb4', 'xgb1', 'xgb2', 'cb1', 'cb2', 'nn1', 'nn2'], result_proc=lr_learning_result\n",
    ")\n",
    "print_metrics(eval_metrics, train_metrics)"
   ]
  },
  {
   "cell_type": "code",
   "execution_count": 114,
   "id": "db1e8fd3-a2c8-419a-858c-71e6c01ca259",
   "metadata": {},
   "outputs": [
    {
     "data": {
      "text/plain": [
       "(0.7000000000000001, 0.8694373519439449)"
      ]
     },
     "execution_count": 114,
     "metadata": {},
     "output_type": "execute_result"
    }
   ],
   "source": [
    "ls = np.linspace(0, 1, 101)\n",
    "r2_ls = cache_result(\n",
    "    'r2_ls', \n",
    "    lambda : [r2_score(stk.df_train['FloodProbability'],  s_prd_m7 * i + s_bygrp2 * (1 - i)) for i in ls]\n",
    ")\n",
    "ls[np.argmax(r2_ls)], np.max(r2_ls)"
   ]
  },
  {
   "cell_type": "markdown",
   "id": "2874fa44-9b52-4b64-b997-9f9c1c9c2fea",
   "metadata": {},
   "source": [
    "0.00003의 성능 개선을 보였습니다."
   ]
  },
  {
   "cell_type": "code",
   "execution_count": 111,
   "id": "54611621-9a1d-4f9e-9b69-9a029d64a019",
   "metadata": {},
   "outputs": [],
   "source": [
    "s_lgb_prd_test = cache_result(\n",
    "    's_lgb_prd_test',\n",
    "    lambda : stk.df_train.groupby('s_values_c', group_keys=False).apply(\n",
    "        lambda x: pd.Series(\n",
    "            lgb.LGBMRegressor(learning_rate=0.03, n_estimators=int(s_est[x.name] * 1.2), verbose=-1, num_leaves=7).fit(x[X_sel], x['FloodProbability'])\\\n",
    "                .predict(df_test.loc[df_test['s_values_c'] == x.name, X_sel]), index=df_test.loc[df_test['s_values_c'] == x.name].index\n",
    "        ), include_groups=False\n",
    "    ), rerun=True\n",
    ").sort_index()"
   ]
  },
  {
   "cell_type": "markdown",
   "id": "fed88201-bf86-49b5-a100-6362b4202c6c",
   "metadata": {},
   "source": [
    "## Submission 7: Stacking 9 - Ensemble lgb1, lgb3, lgb4, xgb1, xgb2, cb1, cb2, nn1, grp"
   ]
  },
  {
   "cell_type": "code",
   "execution_count": 96,
   "id": "b784ca00-591c-4328-b0fb-5739ffa6b4d9",
   "metadata": {},
   "outputs": [
    {
     "name": "stdout",
     "output_type": "stream",
     "text": [
      "100%|██████████████████████████████████████| 19.3M/19.3M [00:04<00:00, 5.02MB/s]\n",
      "Successfully submitted to Regression with a Flood Prediction Dataset"
     ]
    }
   ],
   "source": [
    "if not os.path.exists(os.path.join(result_path, 'stk_m9.csv')):\n",
    "    stk.fit(LinearRegression, {}, ['lgb1', 'lgb3', 'lgb4', 'xgb1', 'xgb2', 'cb1', 'cb2', 'nn1'])\n",
    "    pd.Series(stk.predict(df_test) * 0.71 + s_lgb_prd_test * 0.29, index=df_test.index).rename('FloodProbability').to_frame().to_csv(os.path.join(result_path, 'stk_m9.csv'))\n",
    "    !kaggle competitions submit -c playground-series-s4e5 -f result/stk_m9.csv -m \"stk_m9\""
   ]
  },
  {
   "cell_type": "markdown",
   "id": "81a0c962-992b-49d0-a860-a9e84b1c5151",
   "metadata": {},
   "source": [
    "Public Score: 0.86931"
   ]
  },
  {
   "cell_type": "markdown",
   "id": "5c3c16b9-28e9-4714-b214-20b77eace409",
   "metadata": {},
   "source": [
    "## Submission 11: Stacking 11 - Ensemble lgb1, lgb3, lgb4, xgb1, xgb2, cb1, cb2, nn1, grp"
   ]
  },
  {
   "cell_type": "code",
   "execution_count": 115,
   "id": "6ad087d6-62b1-4592-9c7f-f6fd20ff3cc9",
   "metadata": {},
   "outputs": [
    {
     "name": "stdout",
     "output_type": "stream",
     "text": [
      "100%|██████████████████████████████████████| 19.3M/19.3M [00:03<00:00, 6.10MB/s]\n",
      "Successfully submitted to Regression with a Flood Prediction Dataset"
     ]
    }
   ],
   "source": [
    "if not os.path.exists(os.path.join(result_path, 'stk_m11.csv')):\n",
    "    stk.fit(LinearRegression, {}, ['lgb1', 'lgb3', 'lgb4', 'xgb1', 'xgb2', 'cb1', 'cb2', 'nn1', 'nn2'])\n",
    "    pd.Series(stk.predict(df_test) * 0.70 + s_lgb_prd_test * 0.3, index=df_test.index).rename('FloodProbability').to_frame().to_csv(os.path.join(result_path, 'stk_m11.csv'))\n",
    "    !kaggle competitions submit -c playground-series-s4e5 -f result/stk_m11.csv -m \"stk_m11\""
   ]
  },
  {
   "cell_type": "markdown",
   "id": "8946ed9c-66c7-4f58-b5df-0ec9fde39387",
   "metadata": {},
   "source": [
    "Public Score: 0.86932"
   ]
  },
  {
   "cell_type": "markdown",
   "id": "bba6c2ff-29ed-446a-8649-9c73d1bb5580",
   "metadata": {},
   "source": [
    "# Ensembling with others"
   ]
  },
  {
   "cell_type": "markdown",
   "id": "50d875d4-7bb0-4930-93a9-b638fa03ec6b",
   "metadata": {},
   "source": [
    "## e1\n",
    "\n",
    "e1: stk_m6\n",
    "\n",
    "e2: https://www.kaggle.com/code/aspillai/flood-prediction-regression-lightgbm-0-86931\n"
   ]
  },
  {
   "cell_type": "code",
   "execution_count": 68,
   "id": "38e5056f-3f7d-443c-a1e6-ee564ecb0200",
   "metadata": {},
   "outputs": [
    {
     "name": "stdout",
     "output_type": "stream",
     "text": [
      "Output file downloaded to /home/sun9sun9/jnote/sunkusun9/kaggle/PGS4_ep5/catboost_info/catboost_training.json\n",
      "Output file downloaded to /home/sun9sun9/jnote/sunkusun9/kaggle/PGS4_ep5/catboost_info/learn/events.out.tfevents\n",
      "Output file downloaded to /home/sun9sun9/jnote/sunkusun9/kaggle/PGS4_ep5/catboost_info/learn_error.tsv\n",
      "Output file downloaded to /home/sun9sun9/jnote/sunkusun9/kaggle/PGS4_ep5/catboost_info/time_left.tsv\n",
      "Output file downloaded to /home/sun9sun9/jnote/sunkusun9/kaggle/PGS4_ep5/ensemble.csv\n",
      "Kernel log downloaded to /home/sun9sun9/jnote/sunkusun9/kaggle/PGS4_ep5/s04e05-flood-prediction-ensemble.log \n",
      "rm: cannot remove 'flood-prediction-*.log': No such file or directory\n"
     ]
    }
   ],
   "source": [
    "if not os.path.exists('data/e2.csv'):\n",
    "    !kaggle kernels output ravaghi/s04e05-flood-prediction-ensemble \n",
    "    !rm s04e05-flood-prediction-ensemble.log\n",
    "    !mv ensemble.csv data/e2.csv"
   ]
  },
  {
   "cell_type": "code",
   "execution_count": 70,
   "id": "a2ac61bf-b8f3-49e5-a111-055e84e9e178",
   "metadata": {},
   "outputs": [],
   "source": [
    "if not os.path.exists(os.path.join(result_path, 'e1.csv')):\n",
    "    pd.concat([\n",
    "        pd.read_csv('result/stk_m6.csv', index_col='id').rename(columns={'FloodProbability': 'e1'}),\n",
    "        pd.read_csv('data/e2.csv', index_col='id').rename(columns={'FloodProbability': 'e2'})\n",
    "    ], axis=1).dot([0.7, 0.3]).rename('FloodProbability').to_frame().to_csv(os.path.join(result_path, 'e1.csv'))\n",
    "    !kaggle competitions submit -c playground-series-s4e5 -f result/e1.csv -m \"e1\""
   ]
  },
  {
   "cell_type": "markdown",
   "id": "395a1a4f-7b75-4457-b53d-f0a5c7ddd270",
   "metadata": {},
   "source": [
    "## e2\n",
    "\n",
    "e3: https://www.kaggle.com/code/ravaghi/s04e05-flood-prediction-ensemble/notebook"
   ]
  },
  {
   "cell_type": "code",
   "execution_count": 71,
   "id": "b8a7d0da-8691-4d24-8052-dff7f16c5d82",
   "metadata": {},
   "outputs": [],
   "source": [
    "if not os.path.exists('data/e3.csv'):\n",
    "    !kaggle kernels output aspillai/flood-prediction-regression-lightgbm-0-86925\n",
    "    !rm flood-prediction-regression-lightgbm-0-86925.log \n",
    "    !mv submission.csv data/e3.csv"
   ]
  },
  {
   "cell_type": "code",
   "execution_count": 72,
   "id": "04f58ee6-5937-46f5-ba9d-bc3c2679c0ef",
   "metadata": {},
   "outputs": [],
   "source": [
    "if not os.path.exists(os.path.join(result_path, 'e2.csv')):\n",
    "    pd.concat([\n",
    "        pd.read_csv('result/stk_m6.csv', index_col='id').rename(columns={'FloodProbability': 'e1'}),\n",
    "        pd.read_csv('data/e2.csv', index_col='id').rename(columns={'FloodProbability': 'e2'}),\n",
    "        pd.read_csv('data/e3.csv', index_col='id').rename(columns={'FloodProbability': 'e3'}),\n",
    "    ], axis=1).dot([0.65, 0.25, 0.1]).rename('FloodProbability').to_frame().to_csv(os.path.join(result_path, 'e2.csv'))\n",
    "    !kaggle competitions submit -c playground-series-s4e5 -f result/e2.csv -m \"e2\""
   ]
  },
  {
   "cell_type": "markdown",
   "id": "a4f1fd1d-5b29-491d-8092-9312a8bc8fdb",
   "metadata": {},
   "source": [
    "## e3\n",
    "\n",
    "e4: https://www.kaggle.com/code/ambrosm/pss4e5-eda-which-makes-sense/"
   ]
  },
  {
   "cell_type": "code",
   "execution_count": 75,
   "id": "92924636-9af7-49d8-9301-51dba2e7f8a2",
   "metadata": {},
   "outputs": [],
   "source": [
    "if not os.path.exists('data/e4.csv'):\n",
    "    !kaggle kernels output ambrosm/pss4e5-eda-which-makes-sense\n",
    "    !rm pss4e5-eda-which-makes-sense.log \n",
    "    !mv submission.csv data/e4.csv"
   ]
  },
  {
   "cell_type": "code",
   "execution_count": 78,
   "id": "d8a05eaa-f846-4b6d-8364-ca02e2a4246c",
   "metadata": {},
   "outputs": [
    {
     "name": "stdout",
     "output_type": "stream",
     "text": [
      "100%|██████████████████████████████████████| 19.3M/19.3M [00:03<00:00, 5.74MB/s]\n",
      "Successfully submitted to Regression with a Flood Prediction Dataset"
     ]
    }
   ],
   "source": [
    "if not os.path.exists(os.path.join(result_path, 'e3.csv')):\n",
    "    pd.concat([\n",
    "        pd.read_csv('result/stk_m6.csv', index_col='id').rename(columns={'FloodProbability': 'e1'}),\n",
    "        pd.read_csv('data/e2.csv', index_col='id').rename(columns={'FloodProbability': 'e2'}),\n",
    "        pd.read_csv('data/e3.csv', index_col='id').rename(columns={'FloodProbability': 'e3'}),\n",
    "        pd.read_csv('data/e4.csv', index_col='id').rename(columns={'FloodProbability': 'e4'}),\n",
    "    ], axis=1).dot([0.60, 0.15, 0.15, 0.1]).rename('FloodProbability').to_frame().to_csv(os.path.join(result_path, 'e3.csv'))\n",
    "    !kaggle competitions submit -c playground-series-s4e5 -f result/e3.csv -m \"e3\""
   ]
  },
  {
   "cell_type": "markdown",
   "id": "9fd76d3c-efac-4954-9480-438b28164b0d",
   "metadata": {},
   "source": [
    "Public Score: 0.86933"
   ]
  },
  {
   "cell_type": "markdown",
   "id": "774ed061-1f33-4f42-a356-2983fb2c5b2d",
   "metadata": {},
   "source": [
    "## e4\n",
    "\n",
    "stk_m7 모델의 결과를 반영합니다."
   ]
  },
  {
   "cell_type": "code",
   "execution_count": 111,
   "id": "f93b9567-bbc2-4eb1-ac53-377c3667e129",
   "metadata": {},
   "outputs": [
    {
     "name": "stdout",
     "output_type": "stream",
     "text": [
      "100%|██████████████████████████████████████| 19.3M/19.3M [00:04<00:00, 4.74MB/s]\n",
      "Successfully submitted to Regression with a Flood Prediction Dataset"
     ]
    }
   ],
   "source": [
    "if not os.path.exists(os.path.join(result_path, 'e4.csv')):\n",
    "    pd.concat([\n",
    "        pd.read_csv('result/stk_m7.csv', index_col='id').rename(columns={'FloodProbability': 'e1'}),\n",
    "        pd.read_csv('data/e2.csv', index_col='id').rename(columns={'FloodProbability': 'e2'}),\n",
    "        pd.read_csv('data/e3.csv', index_col='id').rename(columns={'FloodProbability': 'e3'}),\n",
    "        pd.read_csv('data/e4.csv', index_col='id').rename(columns={'FloodProbability': 'e4'}),\n",
    "    ], axis=1).dot([0.60, 0.15, 0.15, 0.1]).rename('FloodProbability').to_frame().to_csv(os.path.join(result_path, 'e4.csv'))\n",
    "    !kaggle competitions submit -c playground-series-s4e5 -f result/e4.csv -m \"e4\""
   ]
  },
  {
   "cell_type": "markdown",
   "id": "4a74a3c9-7e7e-4cc9-b81c-f678a918ff4e",
   "metadata": {},
   "source": [
    "Public Score: 0.86934"
   ]
  },
  {
   "cell_type": "markdown",
   "id": "40144932-ae93-495e-afe8-5bf05ce63381",
   "metadata": {},
   "source": [
    "## e5\n",
    "\n",
    "stk_m8 모델의 결과를 반영합니다."
   ]
  },
  {
   "cell_type": "code",
   "execution_count": 61,
   "id": "254d6f74-5834-4998-a49b-f29ea8388798",
   "metadata": {},
   "outputs": [
    {
     "name": "stdout",
     "output_type": "stream",
     "text": [
      "100%|██████████████████████████████████████| 19.3M/19.3M [00:03<00:00, 5.76MB/s]\n",
      "Successfully submitted to Regression with a Flood Prediction Dataset"
     ]
    }
   ],
   "source": [
    "if not os.path.exists(os.path.join(result_path, 'e5.csv')):\n",
    "    pd.concat([\n",
    "        pd.read_csv('result/stk_m8.csv', index_col='id').rename(columns={'FloodProbability': 'e1'}),\n",
    "        pd.read_csv('data/e2.csv', index_col='id').rename(columns={'FloodProbability': 'e2'}),\n",
    "        pd.read_csv('data/e3.csv', index_col='id').rename(columns={'FloodProbability': 'e3'}),\n",
    "        pd.read_csv('data/e4.csv', index_col='id').rename(columns={'FloodProbability': 'e4'}),\n",
    "    ], axis=1).dot([0.70, 0.1, 0.1, 0.1]).rename('FloodProbability').to_frame().to_csv(os.path.join(result_path, 'e5.csv'))\n",
    "    !kaggle competitions submit -c playground-series-s4e5 -f result/e5.csv -m \"e5\""
   ]
  },
  {
   "cell_type": "code",
   "execution_count": 62,
   "id": "0509f561-5dad-45b2-b6df-5157faee6a2f",
   "metadata": {},
   "outputs": [
    {
     "name": "stdout",
     "output_type": "stream",
     "text": [
      "100%|██████████████████████████████████████| 19.3M/19.3M [00:03<00:00, 5.80MB/s]\n",
      "Successfully submitted to Regression with a Flood Prediction Dataset"
     ]
    }
   ],
   "source": [
    "if not os.path.exists(os.path.join(result_path, 'e5_2.csv')):\n",
    "    pd.concat([\n",
    "        pd.read_csv('result/stk_m8.csv', index_col='id').rename(columns={'FloodProbability': 'e1'}),\n",
    "        pd.read_csv('data/e2.csv', index_col='id').rename(columns={'FloodProbability': 'e2'}),\n",
    "        pd.read_csv('data/e3.csv', index_col='id').rename(columns={'FloodProbability': 'e3'}),\n",
    "        pd.read_csv('data/e4.csv', index_col='id').rename(columns={'FloodProbability': 'e4'}),\n",
    "    ], axis=1).dot([0.60, 0.15, 0.15, 0.1]).rename('FloodProbability').to_frame().to_csv(os.path.join(result_path, 'e5_2.csv'))\n",
    "    !kaggle competitions submit -c playground-series-s4e5 -f result/e5_2.csv -m \"e5\""
   ]
  },
  {
   "cell_type": "markdown",
   "id": "075d3273-7488-4a19-989d-7f3df2c14ccf",
   "metadata": {},
   "source": [
    "Public Score: 0.86935"
   ]
  },
  {
   "cell_type": "markdown",
   "id": "e987c522-7ddd-4b5c-937b-606282228395",
   "metadata": {},
   "source": [
    "## e6\n",
    "\n",
    "e5: https://www.kaggle.com/code/trupologhelper/ps4e5-openfe-blending-explain"
   ]
  },
  {
   "cell_type": "code",
   "execution_count": 66,
   "id": "0cbe2323-c0af-4926-a286-fd0da1c55cfc",
   "metadata": {},
   "outputs": [],
   "source": [
    "if not os.path.exists('data/e5.csv'):\n",
    "    !kaggle kernels output trupologhelper/ps4e5-openfe-blending-explain\n",
    "    !mv submission.csv data/e5.csv\n",
    "    !rm ps4e5-openfe-blending-explain.log "
   ]
  },
  {
   "cell_type": "code",
   "execution_count": 67,
   "id": "c6d341fa-ad59-4891-b1b4-2f3c2f47a5b6",
   "metadata": {},
   "outputs": [
    {
     "name": "stdout",
     "output_type": "stream",
     "text": [
      "100%|██████████████████████████████████████| 19.3M/19.3M [00:04<00:00, 4.84MB/s]\n",
      "Successfully submitted to Regression with a Flood Prediction Dataset"
     ]
    }
   ],
   "source": [
    "if not os.path.exists(os.path.join(result_path, 'e6.csv')):\n",
    "    pd.concat([\n",
    "        pd.read_csv('result/stk_m8.csv', index_col='id').rename(columns={'FloodProbability': 'e1'}),\n",
    "        pd.read_csv('data/e2.csv', index_col='id').rename(columns={'FloodProbability': 'e2'}),\n",
    "        pd.read_csv('data/e3.csv', index_col='id').rename(columns={'FloodProbability': 'e3'}),\n",
    "        pd.read_csv('data/e4.csv', index_col='id').rename(columns={'FloodProbability': 'e4'}),\n",
    "        pd.read_csv('data/e4.csv', index_col='id').rename(columns={'FloodProbability': 'e5'}),\n",
    "    ], axis=1).dot([0.50, 0.15, 0.15, 0.1, 0.1]).rename('FloodProbability').to_frame().to_csv(os.path.join(result_path, 'e6.csv'))\n",
    "    !kaggle competitions submit -c playground-series-s4e5 -f result/e6.csv -m \"e6\""
   ]
  },
  {
   "cell_type": "code",
   "execution_count": 97,
   "id": "f92139e3-c65f-4ca4-bd61-3b2bb498b00a",
   "metadata": {},
   "outputs": [
    {
     "name": "stdout",
     "output_type": "stream",
     "text": [
      "100%|██████████████████████████████████████| 19.3M/19.3M [00:04<00:00, 5.00MB/s]\n",
      "Successfully submitted to Regression with a Flood Prediction Dataset"
     ]
    }
   ],
   "source": [
    "if not os.path.exists(os.path.join(result_path, 'e6_2.csv')):\n",
    "    pd.concat([\n",
    "        pd.read_csv('result/stk_m8.csv', index_col='id').rename(columns={'FloodProbability': 'e1'}),\n",
    "        pd.read_csv('data/e2.csv', index_col='id').rename(columns={'FloodProbability': 'e2'}),\n",
    "        pd.read_csv('data/e3.csv', index_col='id').rename(columns={'FloodProbability': 'e3'}),\n",
    "        pd.read_csv('data/e4.csv', index_col='id').rename(columns={'FloodProbability': 'e4'}),\n",
    "        pd.read_csv('data/e5.csv', index_col='id').rename(columns={'FloodProbability': 'e5'}),\n",
    "    ], axis=1).dot([0.50, 0.1, 0.1, 0.1, 0.2]).rename('FloodProbability').to_frame().to_csv(os.path.join(result_path, 'e6_2.csv'))\n",
    "    !kaggle competitions submit -c playground-series-s4e5 -f result/e6_2.csv -m \"e6_2\""
   ]
  },
  {
   "cell_type": "markdown",
   "id": "6d45b42d-6b4d-466b-b4f4-532483d41083",
   "metadata": {},
   "source": [
    "Public Score 0.86937"
   ]
  },
  {
   "cell_type": "markdown",
   "id": "7225d5a1-f9b9-4c5b-98dd-b583c450eb78",
   "metadata": {},
   "source": [
    "## e7\n",
    "\n",
    "e6: https://www.kaggle.com/code/meloncc/autogluon-hpo-better"
   ]
  },
  {
   "cell_type": "code",
   "execution_count": 100,
   "id": "88c49c09-5789-4143-b721-9028cb99897f",
   "metadata": {},
   "outputs": [
    {
     "name": "stdout",
     "output_type": "stream",
     "text": [
      "Output file downloaded to /home/sun9sun9/jnote/sunkusun9/kaggle/PGS4_ep5/submission.csv\n",
      "Kernel log downloaded to /home/sun9sun9/jnote/sunkusun9/kaggle/PGS4_ep5/autogluon-hpo-better.log \n"
     ]
    }
   ],
   "source": [
    "if not os.path.exists('data/e6.csv'):\n",
    "    !kaggle kernels output meloncc/autogluon-hpo-better\n",
    "    !mv submission.csv data/e6.csv\n",
    "    !rm autogluon-hpo-better.log"
   ]
  },
  {
   "cell_type": "code",
   "execution_count": 101,
   "id": "2c782398-4cff-4ecb-8202-398209c3395a",
   "metadata": {},
   "outputs": [
    {
     "name": "stdout",
     "output_type": "stream",
     "text": [
      "100%|██████████████████████████████████████| 19.3M/19.3M [00:05<00:00, 3.42MB/s]\n",
      "Successfully submitted to Regression with a Flood Prediction Dataset"
     ]
    }
   ],
   "source": [
    "if not os.path.exists(os.path.join(result_path, 'e7.csv')):\n",
    "    pd.concat([\n",
    "        pd.read_csv('result/stk_m8.csv', index_col='id').rename(columns={'FloodProbability': 'e1'}),\n",
    "        pd.read_csv('data/e2.csv', index_col='id').rename(columns={'FloodProbability': 'e2'}),\n",
    "        pd.read_csv('data/e3.csv', index_col='id').rename(columns={'FloodProbability': 'e3'}),\n",
    "        pd.read_csv('data/e4.csv', index_col='id').rename(columns={'FloodProbability': 'e4'}),\n",
    "        pd.read_csv('data/e5.csv', index_col='id').rename(columns={'FloodProbability': 'e5'}),\n",
    "        pd.read_csv('data/e6.csv', index_col='id').rename(columns={'FloodProbability': 'e6'}),\n",
    "    ], axis=1).dot([0.40, 0.1, 0.1, 0.05, 0.2, 0.15]).rename('FloodProbability').to_frame().to_csv(os.path.join(result_path, 'e7.csv'))\n",
    "    !kaggle competitions submit -c playground-series-s4e5 -f result/e7.csv -m \"e7\""
   ]
  },
  {
   "cell_type": "markdown",
   "id": "22c1ff7b-2225-4f84-b687-2836fac0af45",
   "metadata": {},
   "source": [
    "Public Score 0.86938"
   ]
  },
  {
   "cell_type": "markdown",
   "id": "e93bfa4d-184e-434c-97c6-9b6e7037a0c9",
   "metadata": {},
   "source": [
    "## e8\n",
    "\n",
    "e2 대신에 이 사람이 나중에 만든 앙상블 모델을 추가합니다.\n",
    "\n",
    "e7: https://www.kaggle.com/code/aspillai/flood-prediction-regression-lgb-xgb-cat\n",
    "\n",
    "e8: https://www.kaggle.com/code/satyaprakashshukl/flood-analysis-h20"
   ]
  },
  {
   "cell_type": "code",
   "execution_count": 102,
   "id": "47593205-8625-4282-ae53-f87ac9c47527",
   "metadata": {},
   "outputs": [
    {
     "name": "stdout",
     "output_type": "stream",
     "text": [
      "Output file downloaded to /home/sun9sun9/jnote/sunkusun9/kaggle/PGS4_ep5/catboost_info/catboost_training.json\n",
      "Output file downloaded to /home/sun9sun9/jnote/sunkusun9/kaggle/PGS4_ep5/catboost_info/learn/events.out.tfevents\n",
      "Output file downloaded to /home/sun9sun9/jnote/sunkusun9/kaggle/PGS4_ep5/catboost_info/learn_error.tsv\n",
      "Output file downloaded to /home/sun9sun9/jnote/sunkusun9/kaggle/PGS4_ep5/catboost_info/test/events.out.tfevents\n",
      "Output file downloaded to /home/sun9sun9/jnote/sunkusun9/kaggle/PGS4_ep5/catboost_info/test1/events.out.tfevents\n",
      "Output file downloaded to /home/sun9sun9/jnote/sunkusun9/kaggle/PGS4_ep5/catboost_info/test_error.tsv\n",
      "Output file downloaded to /home/sun9sun9/jnote/sunkusun9/kaggle/PGS4_ep5/catboost_info/time_left.tsv\n",
      "Output file downloaded to /home/sun9sun9/jnote/sunkusun9/kaggle/PGS4_ep5/submission.csv\n",
      "Kernel log downloaded to /home/sun9sun9/jnote/sunkusun9/kaggle/PGS4_ep5/flood-prediction-regression-lgb-xgb-cat.log \n"
     ]
    }
   ],
   "source": [
    "if not os.path.exists('data/e7.csv'):\n",
    "    !kaggle kernels output aspillai/flood-prediction-regression-lgb-xgb-cat\n",
    "    !rm -rf catboost_info\n",
    "    !mv submission.csv data/e7.csv\n",
    "    !rm flood-prediction-regression-lgb-xgb-cat.log "
   ]
  },
  {
   "cell_type": "code",
   "execution_count": 106,
   "id": "9c2de008-cc55-42a8-9b1c-1743ba7ddadb",
   "metadata": {},
   "outputs": [],
   "source": [
    "if not os.path.exists('data/e8.csv'):\n",
    "    !kaggle kernels output satyaprakashshukl/flood-analysis-h20\n",
    "    !mv submission.csv data/e8.csv\n",
    "    !rm flood-analysis-h20.log "
   ]
  },
  {
   "cell_type": "code",
   "execution_count": 108,
   "id": "eb56df73-4351-4c5b-9b0b-80302007e09b",
   "metadata": {},
   "outputs": [
    {
     "name": "stdout",
     "output_type": "stream",
     "text": [
      "100%|██████████████████████████████████████| 19.3M/19.3M [00:03<00:00, 6.28MB/s]\n",
      "Successfully submitted to Regression with a Flood Prediction Dataset"
     ]
    }
   ],
   "source": [
    "if not os.path.exists(os.path.join(result_path, 'e8.csv')):\n",
    "    pd.concat([\n",
    "        pd.read_csv('result/stk_m8.csv', index_col='id').rename(columns={'FloodProbability': 'e1'}),\n",
    "        pd.read_csv('data/e7.csv', index_col='id').rename(columns={'FloodProbability': 'e7'}),\n",
    "        pd.read_csv('data/e3.csv', index_col='id').rename(columns={'FloodProbability': 'e3'}),\n",
    "        pd.read_csv('data/e4.csv', index_col='id').rename(columns={'FloodProbability': 'e4'}),\n",
    "        pd.read_csv('data/e5.csv', index_col='id').rename(columns={'FloodProbability': 'e5'}),\n",
    "        pd.read_csv('data/e6.csv', index_col='id').rename(columns={'FloodProbability': 'e6'}),\n",
    "        pd.read_csv('data/e8.csv', index_col='id').rename(columns={'FloodProbability': 'e8'}),\n",
    "    ], axis=1).dot([0.35, 0.1, 0.1, 0.05, 0.2, 0.1, 0.1]).rename('FloodProbability').to_frame().to_csv(os.path.join(result_path, 'e8.csv'))\n",
    "    !kaggle competitions submit -c playground-series-s4e5 -f result/e8.csv -m \"e8\""
   ]
  },
  {
   "cell_type": "markdown",
   "id": "eb5e7274-a2eb-4145-82af-f686e0e1ba48",
   "metadata": {},
   "source": [
    "Public Score 0.86939"
   ]
  },
  {
   "cell_type": "markdown",
   "id": "099571c9-0c30-45ce-8116-55f1437aa3f7",
   "metadata": {},
   "source": [
    "## e9\n",
    "\n",
    "e2 대신에 이 사람이 나중에 만든 앙상블 모델을 추가합니다.\n",
    "\n",
    "e9: https://www.kaggle.com/code/omidbaghchehsaraei/ps4e5-floodprediction-xgboost-publicscore-0-86921"
   ]
  },
  {
   "cell_type": "code",
   "execution_count": 109,
   "id": "848525e7-5228-4413-9050-30a46b1738f2",
   "metadata": {},
   "outputs": [
    {
     "name": "stdout",
     "output_type": "stream",
     "text": [
      "Output file downloaded to /home/sun9sun9/jnote/sunkusun9/kaggle/PGS4_ep5/submission.csv\n",
      "Kernel log downloaded to /home/sun9sun9/jnote/sunkusun9/kaggle/PGS4_ep5/ps4e5-floodprediction-xgboost-publicscore-0-86921.log \n"
     ]
    }
   ],
   "source": [
    "if not os.path.exists('data/e9.csv'):\n",
    "    !kaggle kernels output omidbaghchehsaraei/ps4e5-floodprediction-xgboost-publicscore-0-86921\n",
    "    !mv submission.csv data/e9.csv\n",
    "    !rm ps4e5-floodprediction-xgboost-publicscore-0-86921.log"
   ]
  },
  {
   "cell_type": "code",
   "execution_count": 112,
   "id": "3f958215-b7d2-43ab-bf5c-339b0e3db6e6",
   "metadata": {},
   "outputs": [
    {
     "name": "stdout",
     "output_type": "stream",
     "text": [
      "100%|██████████████████████████████████████| 19.3M/19.3M [00:04<00:00, 4.88MB/s]\n",
      "Successfully submitted to Regression with a Flood Prediction Dataset"
     ]
    }
   ],
   "source": [
    "if not os.path.exists(os.path.join(result_path, 'e9.csv')):\n",
    "    pd.concat([\n",
    "        pd.read_csv('result/stk_m8.csv', index_col='id').rename(columns={'FloodProbability': 'e1'}),\n",
    "        pd.read_csv('data/e7.csv', index_col='id').rename(columns={'FloodProbability': 'e7'}),\n",
    "        pd.read_csv('data/e3.csv', index_col='id').rename(columns={'FloodProbability': 'e3'}),\n",
    "        pd.read_csv('data/e4.csv', index_col='id').rename(columns={'FloodProbability': 'e4'}),\n",
    "        pd.read_csv('data/e5.csv', index_col='id').rename(columns={'FloodProbability': 'e5'}),\n",
    "        pd.read_csv('data/e6.csv', index_col='id').rename(columns={'FloodProbability': 'e6'}),\n",
    "        pd.read_csv('data/e8.csv', index_col='id').rename(columns={'FloodProbability': 'e8'}),\n",
    "        pd.read_csv('data/e9.csv', index_col='id').rename(columns={'FloodProbability': 'e9'}),\n",
    "    ], axis=1).dot([0.35, 0.1, 0.05, 0.05, 0.2, 0.1, 0.1, 0.05]).rename('FloodProbability').to_frame().to_csv(os.path.join(result_path, 'e9.csv'))\n",
    "    !kaggle competitions submit -c playground-series-s4e5 -f result/e9.csv -m \"e9\""
   ]
  },
  {
   "cell_type": "markdown",
   "id": "fdd01f69-dd2d-4682-8106-a945d725f3ae",
   "metadata": {},
   "source": [
    "## e10\n",
    "\n",
    "e10: https://www.kaggle.com/code/michaelxyjonathan/s04e05-flood-prediction-r2-score-0-86933"
   ]
  },
  {
   "cell_type": "code",
   "execution_count": 116,
   "id": "2ee1de7e-a953-4e13-9ba8-d6d228582cbc",
   "metadata": {},
   "outputs": [
    {
     "name": "stdout",
     "output_type": "stream",
     "text": [
      "Output file downloaded to /home/sun9sun9/jnote/sunkusun9/kaggle/PGS4_ep5/catboost_info/catboost_training.json\n",
      "Output file downloaded to /home/sun9sun9/jnote/sunkusun9/kaggle/PGS4_ep5/catboost_info/learn/events.out.tfevents\n",
      "Output file downloaded to /home/sun9sun9/jnote/sunkusun9/kaggle/PGS4_ep5/catboost_info/learn_error.tsv\n",
      "Output file downloaded to /home/sun9sun9/jnote/sunkusun9/kaggle/PGS4_ep5/catboost_info/test/events.out.tfevents\n",
      "Output file downloaded to /home/sun9sun9/jnote/sunkusun9/kaggle/PGS4_ep5/catboost_info/test_error.tsv\n",
      "Output file downloaded to /home/sun9sun9/jnote/sunkusun9/kaggle/PGS4_ep5/catboost_info/time_left.tsv\n",
      "Output file downloaded to /home/sun9sun9/jnote/sunkusun9/kaggle/PGS4_ep5/submission.csv\n",
      "Kernel log downloaded to /home/sun9sun9/jnote/sunkusun9/kaggle/PGS4_ep5/s04e05-flood-prediction-r2-score-0-86933.log \n",
      "rm: cannot remove 'ps4e5-floodprediction-xgboost-publicscore-0-86921.log': No such file or directory\n"
     ]
    }
   ],
   "source": [
    "if not os.path.exists('data/e10.csv'):\n",
    "    !kaggle kernels output michaelxyjonathan/s04e05-flood-prediction-r2-score-0-86933\n",
    "    !mv submission.csv data/e10.csv\n",
    "    !rm s04e05-flood-prediction-r2-score-0-86933.log"
   ]
  },
  {
   "cell_type": "code",
   "execution_count": 123,
   "id": "4fb28ab4-f5a1-47fa-b8c2-35b458dfab8c",
   "metadata": {},
   "outputs": [
    {
     "name": "stdout",
     "output_type": "stream",
     "text": [
      "100%|██████████████████████████████████████| 19.3M/19.3M [00:04<00:00, 4.92MB/s]\n",
      "Successfully submitted to Regression with a Flood Prediction Dataset"
     ]
    }
   ],
   "source": [
    "if not os.path.exists(os.path.join(result_path, 'e10.csv')):\n",
    "    pd.concat([\n",
    "        pd.read_csv('result/stk_m11.csv', index_col='id').rename(columns={'FloodProbability': 'e1'}),\n",
    "        pd.read_csv('data/e7.csv', index_col='id').rename(columns={'FloodProbability': 'e7'}),\n",
    "        pd.read_csv('data/e3.csv', index_col='id').rename(columns={'FloodProbability': 'e3'}),\n",
    "        pd.read_csv('data/e4.csv', index_col='id').rename(columns={'FloodProbability': 'e4'}),\n",
    "        pd.read_csv('data/e5.csv', index_col='id').rename(columns={'FloodProbability': 'e5'}),\n",
    "        pd.read_csv('data/e6.csv', index_col='id').rename(columns={'FloodProbability': 'e6'}),\n",
    "        pd.read_csv('data/e8.csv', index_col='id').rename(columns={'FloodProbability': 'e8'}),\n",
    "        pd.read_csv('data/e9.csv', index_col='id').rename(columns={'FloodProbability': 'e9'}),\n",
    "        pd.read_csv('data/e9.csv', index_col='id').rename(columns={'FloodProbability': 'e10'}),\n",
    "    ], axis=1).dot([0.4, 0.05, 0.05, 0.05, 0.15, 0.1, 0.1, 0.05, 0.05]).rename('FloodProbability').to_frame().to_csv(os.path.join(result_path, 'e10.csv'))\n",
    "    !kaggle competitions submit -c playground-series-s4e5 -f result/e10.csv -m \"e10\""
   ]
  },
  {
   "cell_type": "markdown",
   "id": "39bb11c6-fb25-4929-8b05-0a377d9502a7",
   "metadata": {},
   "source": [
    "**Public Score: 0.86938**"
   ]
  },
  {
   "cell_type": "markdown",
   "id": "0198b7b4-fe6c-4bcb-abec-85c871c1e46f",
   "metadata": {},
   "source": [
    "## e12"
   ]
  },
  {
   "cell_type": "code",
   "execution_count": 129,
   "id": "43c9819a-893e-496b-a34d-eb0f90bf6f30",
   "metadata": {},
   "outputs": [
    {
     "name": "stdout",
     "output_type": "stream",
     "text": [
      "100%|██████████████████████████████████████| 19.3M/19.3M [00:03<00:00, 5.63MB/s]\n",
      "Successfully submitted to Regression with a Flood Prediction Dataset"
     ]
    }
   ],
   "source": [
    "if not os.path.exists(os.path.join(result_path, 'e11.csv')):\n",
    "    pd.concat([\n",
    "        pd.read_csv('result/stk_m8.csv', index_col='id').rename(columns={'FloodProbability': 'e1'}),\n",
    "        pd.read_csv('data/e7.csv', index_col='id').rename(columns={'FloodProbability': 'e7'}),\n",
    "        pd.read_csv('data/e3.csv', index_col='id').rename(columns={'FloodProbability': 'e3'}),\n",
    "        pd.read_csv('data/e4.csv', index_col='id').rename(columns={'FloodProbability': 'e4'}),\n",
    "        pd.read_csv('data/e5.csv', index_col='id').rename(columns={'FloodProbability': 'e5'}),\n",
    "        pd.read_csv('data/e6.csv', index_col='id').rename(columns={'FloodProbability': 'e6'}),\n",
    "        pd.read_csv('data/e8.csv', index_col='id').rename(columns={'FloodProbability': 'e8'}),\n",
    "        pd.read_csv('data/e9.csv', index_col='id').rename(columns={'FloodProbability': 'e9'}),\n",
    "        pd.read_csv('data/e9.csv', index_col='id').rename(columns={'FloodProbability': 'e10'}),\n",
    "    ], axis=1).dot([0.35, 0.05, 0.05, 0.05, 0.15, 0.1, 0.1, 0.05, 0.1]).rename('FloodProbability').to_frame().to_csv(os.path.join(result_path, 'e11.csv'))\n",
    "    !kaggle competitions submit -c playground-series-s4e5 -f result/e9.csv -m \"e11\""
   ]
  },
  {
   "cell_type": "code",
   "execution_count": 128,
   "id": "3417def1-7aa5-416c-b7d0-d5ed0d080c7b",
   "metadata": {},
   "outputs": [
    {
     "data": {
      "text/plain": [
       "1.0"
      ]
     },
     "execution_count": 128,
     "metadata": {},
     "output_type": "execute_result"
    }
   ],
   "source": [
    "np.sum([0.35, 0.05, 0.05, 0.05, 0.15, 0.1, 0.1, 0.05, 0.1])"
   ]
  },
  {
   "cell_type": "code",
   "execution_count": null,
   "id": "660923f0-6b5d-4c44-957c-5f87f4a8245a",
   "metadata": {},
   "outputs": [],
   "source": []
  }
 ],
 "metadata": {
  "kernelspec": {
   "display_name": "Python 3 (ipykernel)",
   "language": "python",
   "name": "python3"
  },
  "language_info": {
   "codemirror_mode": {
    "name": "ipython",
    "version": 3
   },
   "file_extension": ".py",
   "mimetype": "text/x-python",
   "name": "python",
   "nbconvert_exporter": "python",
   "pygments_lexer": "ipython3",
   "version": "3.12.3"
  }
 },
 "nbformat": 4,
 "nbformat_minor": 5
}
