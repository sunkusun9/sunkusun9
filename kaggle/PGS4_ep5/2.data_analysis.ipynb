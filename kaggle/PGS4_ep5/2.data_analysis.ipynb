{
 "cells": [
  {
   "cell_type": "code",
   "execution_count": 25,
   "id": "075f5c40-f36e-4446-97d1-23c73c1a2282",
   "metadata": {},
   "outputs": [
    {
     "name": "stdout",
     "output_type": "stream",
     "text": [
      "3.12.3 (main, May  7 2024, 08:28:12) [GCC 9.4.0]\n",
      "pandas 2.2.2\n",
      "matplotlib 3.8.4\n",
      "seaborn 0.13.2\n",
      "sklearn 1.4.2\n",
      "scipy 1.13.0\n",
      "lightgbm 4.3.0\n"
     ]
    }
   ],
   "source": [
    "import os, sys \n",
    "\n",
    "import pandas as pd\n",
    "import numpy as np\n",
    "import matplotlib as mpl\n",
    "import matplotlib.pyplot as plt\n",
    "import seaborn as sns\n",
    "import sklearn\n",
    "import scipy\n",
    "import pickle as pkl\n",
    "import lightgbm as lgb\n",
    "\n",
    "print(sys.version)\n",
    "for i in [pd, mpl, sns, sklearn, scipy, lgb]:\n",
    "    print(i.__name__, i.__version__)"
   ]
  },
  {
   "cell_type": "code",
   "execution_count": 23,
   "id": "bbb44b4d-d484-4d55-ad54-6531506ebb6b",
   "metadata": {},
   "outputs": [],
   "source": [
    "from IPython.display import Image\n",
    "def cache_fig(img_name, img_func, nrow, ncol, figsize, redraw=False):\n",
    "    img_file_name = os.path.join(img_path, img_name + '.png')\n",
    "    if not os.path.exists(img_file_name) or redraw:\n",
    "        fig, axes = plt.subplots(nrow, ncol, figsize=figsize)\n",
    "        if nrow * ncol > 1:\n",
    "            img_func(axes.ravel())\n",
    "        else:\n",
    "            img_func(axes)\n",
    "        plt.tight_layout()\n",
    "        plt.savefig(img_file_name)\n",
    "        plt.show()\n",
    "    else:\n",
    "        display(Image(filename=img_file_name))\n",
    "\n",
    "def cache_result(result_name, result_func):\n",
    "    result_file_name = os.path.join(result_path, result_name + '.pkl')\n",
    "    if not os.path.exists(result_file_name):\n",
    "        result = result_func()\n",
    "        with open(result_file_name, 'wb') as f:\n",
    "            pkl.dump(result, f)\n",
    "    else:\n",
    "        with open(result_file_name, 'rb') as f:\n",
    "            result = pkl.load(f)\n",
    "    return result"
   ]
  },
  {
   "cell_type": "code",
   "execution_count": 21,
   "id": "8002f284-bd15-47c2-8d4c-4403edcd1ced",
   "metadata": {},
   "outputs": [],
   "source": [
    "data_path = 'data'\n",
    "img_path = 'img'\n",
    "result_path = 'result'\n",
    "if not os.path.isdir(img_path):\n",
    "    os.mkdir(img_path)\n",
    "files = {\n",
    "    k: os.path.join(p, f)\n",
    "    for k, p, f in [\n",
    "        ('train', data_path, 'train.csv'),\n",
    "        ('org', data_path, 'flood.csv'),\n",
    "        ('test', data_path, 'test.csv'),\n",
    "        ('type', data_path, 'type.pkl'),\n",
    "        ('train_pkl', data_path, 'train.pkl'),\n",
    "        ('org_pkl', data_path, 'org.pkl'),\n",
    "        ('test_pkl', data_path, 'test.pkl'),\n",
    "        ('var_pkl', data_path, 'var.pkl')\n",
    "    ]\n",
    "}"
   ]
  },
  {
   "cell_type": "markdown",
   "id": "a43eebf0-ae59-4124-a7c2-f1f055e9151f",
   "metadata": {},
   "source": [
    "# 데이터 불러오기 및 변수 종류 설정"
   ]
  },
  {
   "cell_type": "code",
   "execution_count": 5,
   "id": "dae1da75-a43f-4055-9045-b9e455431c31",
   "metadata": {},
   "outputs": [],
   "source": [
    "df_var = pd.read_pickle(files['var_pkl'])\n",
    "df_train = pd.read_pickle(files['train_pkl'])\n",
    "df_org = pd.read_pickle(files['org_pkl'])\n",
    "df_test = pd.read_pickle(files['test_pkl'])"
   ]
  },
  {
   "cell_type": "code",
   "execution_count": 6,
   "id": "36557fe6-d07c-48f3-82b6-20c873eded5d",
   "metadata": {},
   "outputs": [],
   "source": [
    "target = 'FloodProbability'\n",
    "X_all = df_var.loc[~df_var.index.isin(['id', target])].index.tolist()"
   ]
  },
  {
   "cell_type": "code",
   "execution_count": 7,
   "id": "5b59df03-46d7-40da-b21a-fd23079bea9c",
   "metadata": {},
   "outputs": [
    {
     "name": "stdout",
     "output_type": "stream",
     "text": [
      "<class 'pandas.core.frame.DataFrame'>\n",
      "Index: 1117957 entries, 0 to 1117956\n",
      "Data columns (total 21 columns):\n",
      " #   Column                           Non-Null Count    Dtype  \n",
      "---  ------                           --------------    -----  \n",
      " 0   MonsoonIntensity                 1117957 non-null  int8   \n",
      " 1   TopographyDrainage               1117957 non-null  int8   \n",
      " 2   RiverManagement                  1117957 non-null  int8   \n",
      " 3   Deforestation                    1117957 non-null  int8   \n",
      " 4   Urbanization                     1117957 non-null  int8   \n",
      " 5   ClimateChange                    1117957 non-null  int8   \n",
      " 6   DamsQuality                      1117957 non-null  int8   \n",
      " 7   Siltation                        1117957 non-null  int8   \n",
      " 8   AgriculturalPractices            1117957 non-null  int8   \n",
      " 9   Encroachments                    1117957 non-null  int8   \n",
      " 10  IneffectiveDisasterPreparedness  1117957 non-null  int8   \n",
      " 11  DrainageSystems                  1117957 non-null  int8   \n",
      " 12  CoastalVulnerability             1117957 non-null  int8   \n",
      " 13  Landslides                       1117957 non-null  int8   \n",
      " 14  Watersheds                       1117957 non-null  int8   \n",
      " 15  DeterioratingInfrastructure      1117957 non-null  int8   \n",
      " 16  PopulationScore                  1117957 non-null  int8   \n",
      " 17  WetlandLoss                      1117957 non-null  int8   \n",
      " 18  InadequatePlanning               1117957 non-null  int8   \n",
      " 19  PoliticalFactors                 1117957 non-null  int8   \n",
      " 20  FloodProbability                 1117957 non-null  float32\n",
      "dtypes: float32(1), int8(20)\n",
      "memory usage: 34.1 MB\n"
     ]
    }
   ],
   "source": [
    "df_train.info()"
   ]
  },
  {
   "cell_type": "code",
   "execution_count": 8,
   "id": "62b76001-e627-4a46-9382-d8ea8343d9da",
   "metadata": {},
   "outputs": [
    {
     "data": {
      "text/html": [
       "<div>\n",
       "<style scoped>\n",
       "    .dataframe tbody tr th:only-of-type {\n",
       "        vertical-align: middle;\n",
       "    }\n",
       "\n",
       "    .dataframe tbody tr th {\n",
       "        vertical-align: top;\n",
       "    }\n",
       "\n",
       "    .dataframe thead th {\n",
       "        text-align: right;\n",
       "    }\n",
       "</style>\n",
       "<table border=\"1\" class=\"dataframe\">\n",
       "  <thead>\n",
       "    <tr style=\"text-align: right;\">\n",
       "      <th></th>\n",
       "      <th>AgriculturalPractices</th>\n",
       "      <th>ClimateChange</th>\n",
       "      <th>CoastalVulnerability</th>\n",
       "      <th>DamsQuality</th>\n",
       "      <th>Deforestation</th>\n",
       "      <th>DeterioratingInfrastructure</th>\n",
       "      <th>DrainageSystems</th>\n",
       "      <th>Encroachments</th>\n",
       "      <th>InadequatePlanning</th>\n",
       "      <th>IneffectiveDisasterPreparedness</th>\n",
       "      <th>Landslides</th>\n",
       "      <th>MonsoonIntensity</th>\n",
       "      <th>PoliticalFactors</th>\n",
       "      <th>PopulationScore</th>\n",
       "      <th>RiverManagement</th>\n",
       "      <th>Siltation</th>\n",
       "      <th>TopographyDrainage</th>\n",
       "      <th>Urbanization</th>\n",
       "      <th>Watersheds</th>\n",
       "      <th>WetlandLoss</th>\n",
       "    </tr>\n",
       "  </thead>\n",
       "  <tbody>\n",
       "    <tr>\n",
       "      <th>count</th>\n",
       "      <td>1.117957e+06</td>\n",
       "      <td>1.117957e+06</td>\n",
       "      <td>1.117957e+06</td>\n",
       "      <td>1.117957e+06</td>\n",
       "      <td>1.117957e+06</td>\n",
       "      <td>1.117957e+06</td>\n",
       "      <td>1.117957e+06</td>\n",
       "      <td>1.117957e+06</td>\n",
       "      <td>1.117957e+06</td>\n",
       "      <td>1.117957e+06</td>\n",
       "      <td>1.117957e+06</td>\n",
       "      <td>1.117957e+06</td>\n",
       "      <td>1.117957e+06</td>\n",
       "      <td>1.117957e+06</td>\n",
       "      <td>1.117957e+06</td>\n",
       "      <td>1.117957e+06</td>\n",
       "      <td>1.117957e+06</td>\n",
       "      <td>1.117957e+06</td>\n",
       "      <td>1.117957e+06</td>\n",
       "      <td>1.117957e+06</td>\n",
       "    </tr>\n",
       "    <tr>\n",
       "      <th>mean</th>\n",
       "      <td>4.942619e+00</td>\n",
       "      <td>4.934093e+00</td>\n",
       "      <td>4.953999e+00</td>\n",
       "      <td>4.955878e+00</td>\n",
       "      <td>4.942240e+00</td>\n",
       "      <td>4.925907e+00</td>\n",
       "      <td>4.946893e+00</td>\n",
       "      <td>4.949230e+00</td>\n",
       "      <td>4.940587e+00</td>\n",
       "      <td>4.945239e+00</td>\n",
       "      <td>4.931376e+00</td>\n",
       "      <td>4.921450e+00</td>\n",
       "      <td>4.939004e+00</td>\n",
       "      <td>4.927520e+00</td>\n",
       "      <td>4.955322e+00</td>\n",
       "      <td>4.927791e+00</td>\n",
       "      <td>4.926671e+00</td>\n",
       "      <td>4.942517e+00</td>\n",
       "      <td>4.929032e+00</td>\n",
       "      <td>4.950859e+00</td>\n",
       "    </tr>\n",
       "    <tr>\n",
       "      <th>std</th>\n",
       "      <td>2.068545e+00</td>\n",
       "      <td>2.057742e+00</td>\n",
       "      <td>2.088899e+00</td>\n",
       "      <td>2.083063e+00</td>\n",
       "      <td>2.051689e+00</td>\n",
       "      <td>2.064813e+00</td>\n",
       "      <td>2.072333e+00</td>\n",
       "      <td>2.083324e+00</td>\n",
       "      <td>2.081123e+00</td>\n",
       "      <td>2.078141e+00</td>\n",
       "      <td>2.078287e+00</td>\n",
       "      <td>2.056387e+00</td>\n",
       "      <td>2.090350e+00</td>\n",
       "      <td>2.074176e+00</td>\n",
       "      <td>2.072186e+00</td>\n",
       "      <td>2.065992e+00</td>\n",
       "      <td>2.093879e+00</td>\n",
       "      <td>2.083391e+00</td>\n",
       "      <td>2.082395e+00</td>\n",
       "      <td>2.068696e+00</td>\n",
       "    </tr>\n",
       "    <tr>\n",
       "      <th>min</th>\n",
       "      <td>0.000000e+00</td>\n",
       "      <td>0.000000e+00</td>\n",
       "      <td>0.000000e+00</td>\n",
       "      <td>0.000000e+00</td>\n",
       "      <td>0.000000e+00</td>\n",
       "      <td>0.000000e+00</td>\n",
       "      <td>0.000000e+00</td>\n",
       "      <td>0.000000e+00</td>\n",
       "      <td>0.000000e+00</td>\n",
       "      <td>0.000000e+00</td>\n",
       "      <td>0.000000e+00</td>\n",
       "      <td>0.000000e+00</td>\n",
       "      <td>0.000000e+00</td>\n",
       "      <td>0.000000e+00</td>\n",
       "      <td>0.000000e+00</td>\n",
       "      <td>0.000000e+00</td>\n",
       "      <td>0.000000e+00</td>\n",
       "      <td>0.000000e+00</td>\n",
       "      <td>0.000000e+00</td>\n",
       "      <td>0.000000e+00</td>\n",
       "    </tr>\n",
       "    <tr>\n",
       "      <th>25%</th>\n",
       "      <td>3.000000e+00</td>\n",
       "      <td>3.000000e+00</td>\n",
       "      <td>3.000000e+00</td>\n",
       "      <td>4.000000e+00</td>\n",
       "      <td>4.000000e+00</td>\n",
       "      <td>3.000000e+00</td>\n",
       "      <td>4.000000e+00</td>\n",
       "      <td>4.000000e+00</td>\n",
       "      <td>3.000000e+00</td>\n",
       "      <td>3.000000e+00</td>\n",
       "      <td>3.000000e+00</td>\n",
       "      <td>3.000000e+00</td>\n",
       "      <td>3.000000e+00</td>\n",
       "      <td>3.000000e+00</td>\n",
       "      <td>4.000000e+00</td>\n",
       "      <td>3.000000e+00</td>\n",
       "      <td>3.000000e+00</td>\n",
       "      <td>3.000000e+00</td>\n",
       "      <td>3.000000e+00</td>\n",
       "      <td>4.000000e+00</td>\n",
       "    </tr>\n",
       "    <tr>\n",
       "      <th>50%</th>\n",
       "      <td>5.000000e+00</td>\n",
       "      <td>5.000000e+00</td>\n",
       "      <td>5.000000e+00</td>\n",
       "      <td>5.000000e+00</td>\n",
       "      <td>5.000000e+00</td>\n",
       "      <td>5.000000e+00</td>\n",
       "      <td>5.000000e+00</td>\n",
       "      <td>5.000000e+00</td>\n",
       "      <td>5.000000e+00</td>\n",
       "      <td>5.000000e+00</td>\n",
       "      <td>5.000000e+00</td>\n",
       "      <td>5.000000e+00</td>\n",
       "      <td>5.000000e+00</td>\n",
       "      <td>5.000000e+00</td>\n",
       "      <td>5.000000e+00</td>\n",
       "      <td>5.000000e+00</td>\n",
       "      <td>5.000000e+00</td>\n",
       "      <td>5.000000e+00</td>\n",
       "      <td>5.000000e+00</td>\n",
       "      <td>5.000000e+00</td>\n",
       "    </tr>\n",
       "    <tr>\n",
       "      <th>75%</th>\n",
       "      <td>6.000000e+00</td>\n",
       "      <td>6.000000e+00</td>\n",
       "      <td>6.000000e+00</td>\n",
       "      <td>6.000000e+00</td>\n",
       "      <td>6.000000e+00</td>\n",
       "      <td>6.000000e+00</td>\n",
       "      <td>6.000000e+00</td>\n",
       "      <td>6.000000e+00</td>\n",
       "      <td>6.000000e+00</td>\n",
       "      <td>6.000000e+00</td>\n",
       "      <td>6.000000e+00</td>\n",
       "      <td>6.000000e+00</td>\n",
       "      <td>6.000000e+00</td>\n",
       "      <td>6.000000e+00</td>\n",
       "      <td>6.000000e+00</td>\n",
       "      <td>6.000000e+00</td>\n",
       "      <td>6.000000e+00</td>\n",
       "      <td>6.000000e+00</td>\n",
       "      <td>6.000000e+00</td>\n",
       "      <td>6.000000e+00</td>\n",
       "    </tr>\n",
       "    <tr>\n",
       "      <th>max</th>\n",
       "      <td>1.600000e+01</td>\n",
       "      <td>1.700000e+01</td>\n",
       "      <td>1.700000e+01</td>\n",
       "      <td>1.600000e+01</td>\n",
       "      <td>1.700000e+01</td>\n",
       "      <td>1.700000e+01</td>\n",
       "      <td>1.700000e+01</td>\n",
       "      <td>1.800000e+01</td>\n",
       "      <td>1.600000e+01</td>\n",
       "      <td>1.600000e+01</td>\n",
       "      <td>1.600000e+01</td>\n",
       "      <td>1.600000e+01</td>\n",
       "      <td>1.600000e+01</td>\n",
       "      <td>1.800000e+01</td>\n",
       "      <td>1.600000e+01</td>\n",
       "      <td>1.600000e+01</td>\n",
       "      <td>1.800000e+01</td>\n",
       "      <td>1.700000e+01</td>\n",
       "      <td>1.600000e+01</td>\n",
       "      <td>1.900000e+01</td>\n",
       "    </tr>\n",
       "  </tbody>\n",
       "</table>\n",
       "</div>"
      ],
      "text/plain": [
       "       AgriculturalPractices  ClimateChange  CoastalVulnerability  \\\n",
       "count           1.117957e+06   1.117957e+06          1.117957e+06   \n",
       "mean            4.942619e+00   4.934093e+00          4.953999e+00   \n",
       "std             2.068545e+00   2.057742e+00          2.088899e+00   \n",
       "min             0.000000e+00   0.000000e+00          0.000000e+00   \n",
       "25%             3.000000e+00   3.000000e+00          3.000000e+00   \n",
       "50%             5.000000e+00   5.000000e+00          5.000000e+00   \n",
       "75%             6.000000e+00   6.000000e+00          6.000000e+00   \n",
       "max             1.600000e+01   1.700000e+01          1.700000e+01   \n",
       "\n",
       "        DamsQuality  Deforestation  DeterioratingInfrastructure  \\\n",
       "count  1.117957e+06   1.117957e+06                 1.117957e+06   \n",
       "mean   4.955878e+00   4.942240e+00                 4.925907e+00   \n",
       "std    2.083063e+00   2.051689e+00                 2.064813e+00   \n",
       "min    0.000000e+00   0.000000e+00                 0.000000e+00   \n",
       "25%    4.000000e+00   4.000000e+00                 3.000000e+00   \n",
       "50%    5.000000e+00   5.000000e+00                 5.000000e+00   \n",
       "75%    6.000000e+00   6.000000e+00                 6.000000e+00   \n",
       "max    1.600000e+01   1.700000e+01                 1.700000e+01   \n",
       "\n",
       "       DrainageSystems  Encroachments  InadequatePlanning  \\\n",
       "count     1.117957e+06   1.117957e+06        1.117957e+06   \n",
       "mean      4.946893e+00   4.949230e+00        4.940587e+00   \n",
       "std       2.072333e+00   2.083324e+00        2.081123e+00   \n",
       "min       0.000000e+00   0.000000e+00        0.000000e+00   \n",
       "25%       4.000000e+00   4.000000e+00        3.000000e+00   \n",
       "50%       5.000000e+00   5.000000e+00        5.000000e+00   \n",
       "75%       6.000000e+00   6.000000e+00        6.000000e+00   \n",
       "max       1.700000e+01   1.800000e+01        1.600000e+01   \n",
       "\n",
       "       IneffectiveDisasterPreparedness    Landslides  MonsoonIntensity  \\\n",
       "count                     1.117957e+06  1.117957e+06      1.117957e+06   \n",
       "mean                      4.945239e+00  4.931376e+00      4.921450e+00   \n",
       "std                       2.078141e+00  2.078287e+00      2.056387e+00   \n",
       "min                       0.000000e+00  0.000000e+00      0.000000e+00   \n",
       "25%                       3.000000e+00  3.000000e+00      3.000000e+00   \n",
       "50%                       5.000000e+00  5.000000e+00      5.000000e+00   \n",
       "75%                       6.000000e+00  6.000000e+00      6.000000e+00   \n",
       "max                       1.600000e+01  1.600000e+01      1.600000e+01   \n",
       "\n",
       "       PoliticalFactors  PopulationScore  RiverManagement     Siltation  \\\n",
       "count      1.117957e+06     1.117957e+06     1.117957e+06  1.117957e+06   \n",
       "mean       4.939004e+00     4.927520e+00     4.955322e+00  4.927791e+00   \n",
       "std        2.090350e+00     2.074176e+00     2.072186e+00  2.065992e+00   \n",
       "min        0.000000e+00     0.000000e+00     0.000000e+00  0.000000e+00   \n",
       "25%        3.000000e+00     3.000000e+00     4.000000e+00  3.000000e+00   \n",
       "50%        5.000000e+00     5.000000e+00     5.000000e+00  5.000000e+00   \n",
       "75%        6.000000e+00     6.000000e+00     6.000000e+00  6.000000e+00   \n",
       "max        1.600000e+01     1.800000e+01     1.600000e+01  1.600000e+01   \n",
       "\n",
       "       TopographyDrainage  Urbanization    Watersheds   WetlandLoss  \n",
       "count        1.117957e+06  1.117957e+06  1.117957e+06  1.117957e+06  \n",
       "mean         4.926671e+00  4.942517e+00  4.929032e+00  4.950859e+00  \n",
       "std          2.093879e+00  2.083391e+00  2.082395e+00  2.068696e+00  \n",
       "min          0.000000e+00  0.000000e+00  0.000000e+00  0.000000e+00  \n",
       "25%          3.000000e+00  3.000000e+00  3.000000e+00  4.000000e+00  \n",
       "50%          5.000000e+00  5.000000e+00  5.000000e+00  5.000000e+00  \n",
       "75%          6.000000e+00  6.000000e+00  6.000000e+00  6.000000e+00  \n",
       "max          1.800000e+01  1.700000e+01  1.600000e+01  1.900000e+01  "
      ]
     },
     "execution_count": 8,
     "metadata": {},
     "output_type": "execute_result"
    }
   ],
   "source": [
    "df_train[X_all].describe()"
   ]
  },
  {
   "cell_type": "markdown",
   "id": "3939a4e2-a57f-4fb0-b5ea-ace811931a89",
   "metadata": {},
   "source": [
    "X_all 은 모두 int8 형식으로 구성되어 있습니다. 분포를 보아 수치형인지, 범주형인지 살펴 봅니다. \n",
    "\n",
    "X_all은 모두 비슷한 범위를 가지고 있습니다."
   ]
  },
  {
   "cell_type": "markdown",
   "id": "4251e6bc-c24b-42e0-ba3e-82ff8162d18c",
   "metadata": {},
   "source": [
    "## 변수들의 분포"
   ]
  },
  {
   "cell_type": "code",
   "execution_count": 9,
   "id": "7aa41c89-0036-46bc-bbe4-ab32ac361215",
   "metadata": {},
   "outputs": [
    {
     "data": {
      "image/png": "[encoded data removed]",
      "text/plain": [
       "<IPython.core.display.Image object>"
      ]
     },
     "metadata": {},
     "output_type": "display_data"
    }
   ],
   "source": [
    "cache_fig(\n",
    "    'dist_vars', \n",
    "    lambda x: [sns.barplot(df_train[i].value_counts(), ax=ax) for ax in x], \n",
    "    5, 4, figsize=(16, 7)\n",
    ")"
   ]
  },
  {
   "cell_type": "code",
   "execution_count": 10,
   "id": "8ef5eed1-16f6-45e6-a692-a5bb003f7e3b",
   "metadata": {},
   "outputs": [
    {
     "data": {
      "image/png": "[encoded data removed]",
      "text/plain": [
       "<IPython.core.display.Image object>"
      ]
     },
     "metadata": {},
     "output_type": "display_data"
    }
   ],
   "source": [
    "cache_fig(\n",
    "    'dist_target',\n",
    "    lambda x: sns.histplot(df_train[target], ax=x),\n",
    "    1, 1, figsize=(6, 3)\n",
    ")"
   ]
  },
  {
   "cell_type": "code",
   "execution_count": 11,
   "id": "f39c2b44-4062-4f05-919b-1fa1ad63261e",
   "metadata": {},
   "outputs": [
    {
     "data": {
      "text/plain": [
       "FloodProbability\n",
       "0.490    43320\n",
       "0.495    42302\n",
       "0.520    41266\n",
       "0.485    41156\n",
       "0.505    41126\n",
       "         ...  \n",
       "0.700       32\n",
       "0.725       29\n",
       "0.715       26\n",
       "0.710       23\n",
       "0.285       20\n",
       "Name: count, Length: 83, dtype: int64"
      ]
     },
     "execution_count": 11,
     "metadata": {},
     "output_type": "execute_result"
    }
   ],
   "source": [
    "df_train[target].value_counts()"
   ]
  },
  {
   "cell_type": "code",
   "execution_count": 69,
   "id": "f35bd2f5-1f8a-4bc7-93a3-da864b173228",
   "metadata": {},
   "outputs": [
    {
     "data": {
      "text/html": [
       "<div>\n",
       "<style scoped>\n",
       "    .dataframe tbody tr th:only-of-type {\n",
       "        vertical-align: middle;\n",
       "    }\n",
       "\n",
       "    .dataframe tbody tr th {\n",
       "        vertical-align: top;\n",
       "    }\n",
       "\n",
       "    .dataframe thead th {\n",
       "        text-align: right;\n",
       "    }\n",
       "</style>\n",
       "<table border=\"1\" class=\"dataframe\">\n",
       "  <thead>\n",
       "    <tr style=\"text-align: right;\">\n",
       "      <th></th>\n",
       "      <th>count</th>\n",
       "      <th>mean</th>\n",
       "      <th>std</th>\n",
       "      <th>min</th>\n",
       "      <th>25%</th>\n",
       "      <th>50%</th>\n",
       "      <th>75%</th>\n",
       "      <th>max</th>\n",
       "    </tr>\n",
       "  </thead>\n",
       "  <tbody>\n",
       "    <tr>\n",
       "      <th>FloodProbability</th>\n",
       "      <td>1117957.0</td>\n",
       "      <td>0.50448</td>\n",
       "      <td>0.051026</td>\n",
       "      <td>0.285</td>\n",
       "      <td>0.47</td>\n",
       "      <td>0.505</td>\n",
       "      <td>0.54</td>\n",
       "      <td>0.725</td>\n",
       "    </tr>\n",
       "  </tbody>\n",
       "</table>\n",
       "</div>"
      ],
      "text/plain": [
       "                      count     mean       std    min   25%    50%   75%  \\\n",
       "FloodProbability  1117957.0  0.50448  0.051026  0.285  0.47  0.505  0.54   \n",
       "\n",
       "                    max  \n",
       "FloodProbability  0.725  "
      ]
     },
     "execution_count": 69,
     "metadata": {},
     "output_type": "execute_result"
    }
   ],
   "source": [
    "df_train[target].describe().to_frame().T"
   ]
  },
  {
   "cell_type": "code",
   "execution_count": 66,
   "id": "c0d32d48-4aac-4b9b-8874-825f892baed7",
   "metadata": {},
   "outputs": [
    {
     "data": {
      "text/plain": [
       "FloodProbability\n",
       "0.0    563257\n",
       "5.0    554700\n",
       "Name: count, dtype: int64"
      ]
     },
     "execution_count": 66,
     "metadata": {},
     "output_type": "execute_result"
    }
   ],
   "source": [
    "((df_train[target] * 1000) % 10).value_counts()"
   ]
  },
  {
   "cell_type": "code",
   "execution_count": 71,
   "id": "99f0ea81-1da7-421f-b409-26f38748fa68",
   "metadata": {},
   "outputs": [
    {
     "data": {
      "text/plain": [
       "(SignificanceResult(statistic=488.6497553253558, pvalue=7.78133010075541e-107),\n",
       " KstestResult(statistic=0.6423201749917902, pvalue=0.0, statistic_location=0.385, statistic_sign=-1))"
      ]
     },
     "execution_count": 71,
     "metadata": {},
     "output_type": "execute_result"
    }
   ],
   "source": [
    "from scipy.stats import jarque_bera, kstest, norm\n",
    "\n",
    "jarque_bera(df_train[target]), kstest(df_train[target], norm.cdf)"
   ]
  },
  {
   "cell_type": "markdown",
   "id": "ed238d71-3dbd-405d-83ea-f3847a93d379",
   "metadata": {},
   "source": [
    "분포상으로 불연속적인 측면이 보입니다.\n",
    "\n",
    "소수점 세번째 자리수가 0 또는 5입니다.\n",
    "\n",
    "0.285에서 0.725 사이의 수입니다.\n",
    "\n",
    "대칭형이여서 혹시 정규분포를 따르는지 확인했지만, 정규분포는 아닙니다."
   ]
  },
  {
   "cell_type": "markdown",
   "id": "1ddd240e-020f-4eb6-bc3b-5360b288ade6",
   "metadata": {},
   "source": [
    "# Train/Test/Org의 차이를 살펴 봅니다."
   ]
  },
  {
   "cell_type": "code",
   "execution_count": 26,
   "id": "8722aefc-1e61-45eb-98ea-1dd820207341",
   "metadata": {},
   "outputs": [
    {
     "data": {
      "text/plain": [
       "0.5001223468794278"
      ]
     },
     "execution_count": 26,
     "metadata": {},
     "output_type": "execute_result"
    }
   ],
   "source": [
    "from sklearn.model_selection import cross_val_score\n",
    "\n",
    "def check_diff_train_test():\n",
    "    df_check = pd.concat([\n",
    "        df_train[X_all].assign(\n",
    "            is_train=True\n",
    "        ),\n",
    "        df_test[X_all].assign(\n",
    "            is_train=False\n",
    "        )\n",
    "    ], axis=0)\n",
    "    clf_check = lgb.LGBMClassifier(verbose=-1)\n",
    "    return cross_val_score(clf_check, df_check[X_all], df_check['is_train'], scoring='roc_auc', cv=5)\n",
    "result = cache_result('train_test_diff', check_diff_train_test)\n",
    "np.mean(result)"
   ]
  },
  {
   "cell_type": "code",
   "execution_count": 29,
   "id": "a0f6e304-780d-451a-b6b4-2ef52caa0c9b",
   "metadata": {},
   "outputs": [
    {
     "data": {
      "text/plain": [
       "0.6338711250998713"
      ]
     },
     "execution_count": 29,
     "metadata": {},
     "output_type": "execute_result"
    }
   ],
   "source": [
    "def check_diff_train_org():\n",
    "    df_check = pd.concat([\n",
    "        df_train[X_all].assign(\n",
    "            is_train=True\n",
    "        ),\n",
    "        df_org[X_all].assign(\n",
    "            is_train=False\n",
    "        )\n",
    "    ], axis=0)\n",
    "    clf_check = lgb.LGBMClassifier(verbose=-1)\n",
    "    return cross_val_score(clf_check, df_check[X_all], df_check['is_train'], scoring='roc_auc', cv=5)\n",
    "result = cache_result('train_org_diff', check_diff_train_org)\n",
    "np.mean(result)"
   ]
  },
  {
   "cell_type": "code",
   "execution_count": 30,
   "id": "bd8f6e99-dc5a-43e2-8236-26e5204396f8",
   "metadata": {},
   "outputs": [
    {
     "data": {
      "text/plain": [
       "0.6340276171500259"
      ]
     },
     "execution_count": 30,
     "metadata": {},
     "output_type": "execute_result"
    }
   ],
   "source": [
    "def check_diff_test_org():\n",
    "    df_check = pd.concat([\n",
    "        df_test[X_all].assign(\n",
    "            is_test=True\n",
    "        ),\n",
    "        df_org[X_all].assign(\n",
    "            is_test=False\n",
    "        )\n",
    "    ], axis=0)\n",
    "    clf_check = lgb.LGBMClassifier(verbose=-1)\n",
    "    return cross_val_score(clf_check, df_check[X_all], df_check['is_test'], scoring='roc_auc', cv=5)\n",
    "result = cache_result('test_org_diff', check_diff_test_org)\n",
    "np.mean(result)"
   ]
  },
  {
   "cell_type": "markdown",
   "id": "762cd187-04dd-428e-bfd7-14bc2afff734",
   "metadata": {},
   "source": [
    "Train과 Test는 구분할 수있는 포인트가 없어 보입니다\n",
    "\n",
    "Org는 Train, Test와 약간의 차이를 보이고 있습니다.\n"
   ]
  },
  {
   "cell_type": "code",
   "execution_count": null,
   "id": "c27be439-9bb9-4a61-b141-eacc4e11d010",
   "metadata": {},
   "outputs": [],
   "source": []
  }
 ],
 "metadata": {
  "kernelspec": {
   "display_name": "Python 3 (ipykernel)",
   "language": "python",
   "name": "python3"
  },
  "language_info": {
   "codemirror_mode": {
    "name": "ipython",
    "version": 3
   },
   "file_extension": ".py",
   "mimetype": "text/x-python",
   "name": "python",
   "nbconvert_exporter": "python",
   "pygments_lexer": "ipython3",
   "version": "3.12.3"
  }
 },
 "nbformat": 4,
 "nbformat_minor": 5
}
