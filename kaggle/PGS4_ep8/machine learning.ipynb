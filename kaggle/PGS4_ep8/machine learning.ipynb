{
 "cells": [
  {
   "cell_type": "markdown",
   "id": "f91da30c-13aa-4b07-aad2-ee481cdf8f88",
   "metadata": {},
   "source": [
    "# Preparation"
   ]
  },
  {
   "cell_type": "code",
   "execution_count": 1,
   "id": "26dcada1-ac9c-49e0-90d8-841310ba1eff",
   "metadata": {},
   "outputs": [
    {
     "name": "stderr",
     "output_type": "stream",
     "text": [
      "2025-01-16 08:28:06.432672: E external/local_xla/xla/stream_executor/cuda/cuda_fft.cc:477] Unable to register cuFFT factory: Attempting to register factory for plugin cuFFT when one has already been registered\n",
      "WARNING: All log messages before absl::InitializeLog() is called are written to STDERR\n",
      "E0000 00:00:1737016086.444389   71835 cuda_dnn.cc:8310] Unable to register cuDNN factory: Attempting to register factory for plugin cuDNN when one has already been registered\n",
      "E0000 00:00:1737016086.447978   71835 cuda_blas.cc:1418] Unable to register cuBLAS factory: Attempting to register factory for plugin cuBLAS when one has already been registered\n",
      "2025-01-16 08:28:06.460171: I tensorflow/core/platform/cpu_feature_guard.cc:210] This TensorFlow binary is optimized to use available CPU instructions in performance-critical operations.\n",
      "To enable the following instructions: AVX2 FMA, in other operations, rebuild TensorFlow with the appropriate compiler flags.\n"
     ]
    },
    {
     "name": "stdout",
     "output_type": "stream",
     "text": [
      "3.12.6 (main, Sep 30 2024, 02:19:13) [GCC 9.4.0]\n",
      "pandas 2.2.3\n",
      "numpy 1.26.4\n",
      "sklearn 1.5.2\n",
      "xgboost 2.1.2\n",
      "catboost 1.2.5\n",
      "matplotlib 3.8.4\n",
      "seaborn 0.13.2\n"
     ]
    }
   ],
   "source": [
    "import os, sys\n",
    "import joblib\n",
    "\n",
    "import pandas as pd\n",
    "import numpy as np\n",
    "\n",
    "import sklearn\n",
    "import xgboost as xgb\n",
    "import lightgbm as lgb\n",
    "import catboost as cb\n",
    "\n",
    "import matplotlib as mpl\n",
    "import matplotlib as plt\n",
    "import seaborn as sns\n",
    "\n",
    "import dproc, sgml, sgpp, sgnn\n",
    "\n",
    "print(sys.version)\n",
    "\n",
    "for i in [pd, np, sklearn, xgb, lgb, cb, mpl, sns]:\n",
    "    try:\n",
    "        print(i.__name__, i.__version__)\n",
    "    except:\n",
    "        pass"
   ]
  },
  {
   "cell_type": "code",
   "execution_count": 2,
   "id": "85152a3c-cf2d-409e-a8b0-22499a56c37e",
   "metadata": {},
   "outputs": [],
   "source": [
    "def get_data_path(name):\n",
    "    return os.path.join('data', name)\n",
    "target = 'class'\n",
    "df_train = pd.read_parquet(get_data_path('train.parquet')).set_index('id')\n",
    "df_test = pd.read_parquet(get_data_path('test.parquet')).set_index('id')\n",
    "at = joblib.load(get_data_path('at.joblib'))\n",
    "df_train = at.transform(df_train)\n",
    "df_test = at.transform(df_test)"
   ]
  },
  {
   "cell_type": "code",
   "execution_count": 3,
   "id": "ab736ae6-7b80-4d3a-b2ce-c0b9f0fdb427",
   "metadata": {},
   "outputs": [],
   "source": [
    "from sklearn.model_selection import train_test_split\n",
    "from sklearn.metrics import matthews_corrcoef\n",
    "from sklearn.model_selection import StratifiedKFold, StratifiedShuffleSplit\n",
    "from sklearn.linear_model import LogisticRegression\n",
    "\n",
    "def get_validation_splitter(validation_fraction):\n",
    "    return lambda x: train_test_split(x, test_size = validation_fraction, stratify=x[target])\n",
    "\n",
    "config = {\n",
    "    'predict_func': lambda m, df, X: pd.Series(m.predict_proba(df[X])[:, 1], index = df.index, name = 'p'),\n",
    "    'score_func': lambda df, prds: matthews_corrcoef(df[target].sort_index(), (prds >= 0.5).sort_index()),\n",
    "    'validation_splitter': get_validation_splitter,\n",
    "    'progress_callback': sgml.ProgressCallBack(), \n",
    "    'return_train_scores': False,\n",
    "    'y': target\n",
    "}\n",
    "\n",
    "skf = StratifiedKFold(5, random_state = 123, shuffle=True)\n",
    "ss = StratifiedShuffleSplit(n_splits = 1, train_size = 0.6, random_state = 123)\n",
    "\n",
    "cb_adapter = sgml.CBAdapter(cb.CatBoostClassifier)\n",
    "lgb_adapter = sgml.LGBMAdapter(lgb.LGBMClassifier)\n",
    "xgb_adapter = sgml.XGBAdapter(xgb.XGBClassifier)\n",
    "nn_adapter = sgnn.NNAdapter(sgnn.NNClassifier)\n",
    "lr_adapter = sgml.SklearnAdapter(LogisticRegression)"
   ]
  },
  {
   "cell_type": "markdown",
   "id": "e3d19d38-cf82-43c4-af3f-239c528a9abd",
   "metadata": {},
   "source": [
    "# CB"
   ]
  },
  {
   "cell_type": "code",
   "execution_count": 4,
   "id": "e5dd8f43-2891-4ea8-a1fb-5b145912a154",
   "metadata": {},
   "outputs": [],
   "source": [
    "cb1 = sgml.CVModel('model', 'cb1', skf, config, cb_adapter).load_if_exists()"
   ]
  },
  {
   "cell_type": "code",
   "execution_count": 5,
   "id": "ffce72a2-0c60-4258-a08c-c2a4e7e5e920",
   "metadata": {},
   "outputs": [
    {
     "data": {
      "text/plain": [
       "([0.9835747271473884,\n",
       "  0.9831506292378257,\n",
       "  0.9833330405378868,\n",
       "  0.9834215069284793,\n",
       "  0.9836217626106343],\n",
       " 0.9834203332924429)"
      ]
     },
     "execution_count": 5,
     "metadata": {},
     "output_type": "execute_result"
    }
   ],
   "source": [
    "hparams = {\n",
    "    'model_params': {'n_estimators': 2500, 'random_state': 123},\n",
    "    'X_num': at.get_vars('num'), 'X_cat': at.get_vars('cat') + at.get_vars('ct2'),\n",
    "    'combination_ctr' : 'CtrBorderCount=7', 'simple_ctr': 'CtrBorderCount=7',\n",
    "    #'validation_fraction': 0.1, \n",
    "}\n",
    "result = result = cb1.cv(df_train, hparams, task_type = 'GPU')\n",
    "result['valid_scores'], np.mean(result['valid_scores'])"
   ]
  },
  {
   "cell_type": "markdown",
   "id": "c77bcec8-77c0-45ac-9e05-207a4564bd77",
   "metadata": {},
   "source": [
    "# LGB"
   ]
  },
  {
   "cell_type": "code",
   "execution_count": 6,
   "id": "4341970c-50dc-41b1-8318-91726c44aefc",
   "metadata": {},
   "outputs": [],
   "source": [
    "lgb1 = sgml.CVModel('model', 'lgb1', skf, config, lgb_adapter).load_if_exists()"
   ]
  },
  {
   "cell_type": "code",
   "execution_count": 7,
   "id": "d4d92744-385b-4a47-9ed4-669c00409eba",
   "metadata": {},
   "outputs": [
    {
     "data": {
      "text/plain": [
       "([0.9841130575447955,\n",
       "  0.984096406252419,\n",
       "  0.9840590117258392,\n",
       "  0.9841664078148387,\n",
       "  0.9844671258720696],\n",
       " 0.9841804018419925)"
      ]
     },
     "execution_count": 7,
     "metadata": {},
     "output_type": "execute_result"
    }
   ],
   "source": [
    "hparams = {\n",
    "    'model_params': {'n_estimators': 3000, 'learning_rate': 0.02, 'random_state': 123},\n",
    "    'X_num': at.get_vars('num'), 'X_cat': at.get_vars('cat'), \n",
    "    'validation_fraction': 0.1, \n",
    "}\n",
    "#lgb1.adhoc(df_train, ss, hparams)\n",
    "result = lgb1.cv(df_train, hparams)\n",
    "result['valid_scores'], np.mean(result['valid_scores'])"
   ]
  },
  {
   "cell_type": "markdown",
   "id": "9b72ec7f-0f03-483b-a351-fffc75b588d0",
   "metadata": {},
   "source": [
    "# XGB"
   ]
  },
  {
   "cell_type": "code",
   "execution_count": 8,
   "id": "26e6b530-ea94-463c-ad69-e57083718d7d",
   "metadata": {},
   "outputs": [],
   "source": [
    "xgb1 = sgml.CVModel('model', 'xgb1', skf, config, xgb_adapter).load_if_exists()"
   ]
  },
  {
   "cell_type": "code",
   "execution_count": 9,
   "id": "06bb04a1-04cb-4a04-a9d3-eaf4f036ce55",
   "metadata": {},
   "outputs": [
    {
     "data": {
      "text/plain": [
       "([0.9841453432612222,\n",
       "  0.9838573785699578,\n",
       "  0.9839689063922084,\n",
       "  0.9841148101477533,\n",
       "  0.9842436450434174],\n",
       " 0.9840660166829117)"
      ]
     },
     "execution_count": 9,
     "metadata": {},
     "output_type": "execute_result"
    }
   ],
   "source": [
    "hparams = {\n",
    "    'model_params': {'n_estimators': 5000, 'learning_rate': 0.05, 'random_state': 123},\n",
    "    'X_num': at.get_vars('num'), 'X_cat': at.get_vars('cat') + at.get_vars('ct2'), 'ohe': {'min_frequency': 10, 'handle_unknown': 'ignore'},\n",
    "    #'validation_fraction': 0.1, \n",
    "}\n",
    "#xgb1.adhoc(df_train, ss, hparams, device = 'cuda')\n",
    "result = xgb1.cv(df_train, hparams, device = 'cuda')\n",
    "result['valid_scores'], np.mean(result['valid_scores'])"
   ]
  },
  {
   "cell_type": "markdown",
   "id": "269fc13a-572f-4af3-a4e9-6dac4b82b370",
   "metadata": {},
   "source": [
    "# NN"
   ]
  },
  {
   "cell_type": "code",
   "execution_count": 10,
   "id": "97454c65-80a6-4bf1-a852-7f68342b8c48",
   "metadata": {},
   "outputs": [],
   "source": [
    "nn1 = sgml.CVModel('model', 'nn1', skf, config, nn_adapter).load_if_exists()"
   ]
  },
  {
   "cell_type": "code",
   "execution_count": 11,
   "id": "b77a45b7-062a-4ef4-a2be-0f1f827b9c09",
   "metadata": {},
   "outputs": [
    {
     "data": {
      "text/plain": [
       "([0.9829610986627615,\n",
       "  0.9825517171770671,\n",
       "  0.982920143528975,\n",
       "  0.9829729121207089,\n",
       "  0.9831135049507305],\n",
       " 0.9829038752880486)"
      ]
     },
     "execution_count": 11,
     "metadata": {},
     "output_type": "execute_result"
    }
   ],
   "source": [
    "emb_config = {\n",
    "    'caf__cap-color': 3,  'caf__cap-shape': 3, 'caf__cap-surface': 3,\n",
    "    'caf__gill-attachment': 3,  'caf__gill-color': 3, 'caf__gill-spacing': 3, \n",
    "    'caf__stem-color': 3,  'caf__stem-root': 3, 'caf__stem-surface': 3, \n",
    "    'caf__does-bruise-or-bleed': 3, 'caf__habitat': 3, 'caf__has-ring': 3,  'caf__ring-type': 3, 'caf__season': 3, \n",
    "    'caf__spore-print-color': 3, 'caf__veil-color': 3, 'caf__veil-type': 3, \n",
    "    'cc__cap': 4, 'cc__gill': 4, 'cc__stem': 4\n",
    "}\n",
    "hparams = {\n",
    "    'model_params': {\n",
    "        'model_params': {\n",
    "            'config': [\n",
    "                {'unit': 32, 'activation': 'relu', 'batch_norm': True},\n",
    "                {'unit': 32, 'activation': 'relu', 'batch_norm': True},\n",
    "                {'unit': 16, 'activation': 'relu', 'batch_norm': True},\n",
    "            ], 'embedding': [(1, df_train[k].value_counts().pipe(lambda x: (x >= 10)).sum(), v, 0, 0) for k, v in emb_config.items()],\n",
    "        },\n",
    "        'batch_size': 1024,\n",
    "        'shuffle_size': 204800, 'epochs': 25, 'optimizer': ('Adam', {'learning_rate': 0.0003})\n",
    "    }, \n",
    "    #'validation_fraction': 0.1,\n",
    "    'X_std': at.get_vars('num'),\n",
    "    'X_cat': [i for i in emb_config.keys()], 'cat': {'handle_unknown': 'use_encoded_value', 'unknown_value': -1}\n",
    "}\n",
    "#result = nn1.adhoc(df_train, ss, hparams)\n",
    "result = nn1.cv(df_train, hparams)\n",
    "result['valid_scores'], np.mean(result['valid_scores'])"
   ]
  },
  {
   "cell_type": "markdown",
   "id": "a530b45a-9693-4b84-b499-9f98ab16f346",
   "metadata": {},
   "source": [
    "# LR"
   ]
  },
  {
   "cell_type": "code",
   "execution_count": 12,
   "id": "1173af29-5b83-4e9f-af4e-63e413d1f5a7",
   "metadata": {},
   "outputs": [],
   "source": [
    "lr = sgml.CVModel('model', 'lr', skf, config, lr_adapter).load_if_exists()"
   ]
  },
  {
   "cell_type": "code",
   "execution_count": 13,
   "id": "7ca2cbcf-8cf3-4f59-ae14-93234cbd26e0",
   "metadata": {},
   "outputs": [
    {
     "data": {
      "text/plain": [
       "([0.9568319787303333,\n",
       "  0.9570208346141938,\n",
       "  0.9571256673906168,\n",
       "  0.9572044829870568,\n",
       "  0.9565537605839487],\n",
       " 0.95694734486123)"
      ]
     },
     "execution_count": 13,
     "metadata": {},
     "output_type": "execute_result"
    }
   ],
   "source": [
    "hparams = {\n",
    "    'model_params': {},\n",
    "    'X_std':at.get_vars('num'),\n",
    "    'X_ohe': at.get_vars('cat') + at.get_vars('ct2'), 'ohe': {'drop': 'first', 'handle_unknown': 'ignore', 'min_frequency': 10}\n",
    "}\n",
    "result = lr.cv(df_train, hparams)\n",
    "result['valid_scores'], np.mean(result['valid_scores'])"
   ]
  },
  {
   "cell_type": "markdown",
   "id": "9dde5390-86a5-4881-bf51-fab17e29ea64",
   "metadata": {},
   "source": [
    "# Ensemble"
   ]
  },
  {
   "cell_type": "code",
   "execution_count": 14,
   "id": "d181d183-77a6-4f9f-bd25-d993c6529f45",
   "metadata": {},
   "outputs": [],
   "source": [
    "models = [cb1, lgb1, xgb1, nn1, lr]"
   ]
  },
  {
   "cell_type": "code",
   "execution_count": 15,
   "id": "21049a9d-9683-40d4-91c8-28dd82f260b4",
   "metadata": {},
   "outputs": [],
   "source": [
    "df_cv = sgml.stack_cv(models, df_train[target])"
   ]
  },
  {
   "cell_type": "code",
   "execution_count": 16,
   "id": "2d525512-6d20-40a7-807a-76a477ca203d",
   "metadata": {},
   "outputs": [
    {
     "data": {
      "text/plain": [
       "0.9845637959012646"
      ]
     },
     "execution_count": 16,
     "metadata": {},
     "output_type": "execute_result"
    }
   ],
   "source": [
    "matthews_corrcoef(\n",
    "    df_cv[target], df_cv.loc[:, ['cb1', 'lgb1', 'xgb1', 'nn1']].mean(axis = 1) >= 0.5\n",
    ")"
   ]
  },
  {
   "cell_type": "code",
   "execution_count": 17,
   "id": "764aecd3-cbee-4202-965d-49845960b7da",
   "metadata": {},
   "outputs": [],
   "source": [
    "lr_stk = sgml.CVModel('model', 'lr_stk', skf, config, lr_adapter).load_if_exists()"
   ]
  },
  {
   "cell_type": "code",
   "execution_count": 18,
   "id": "77d16f3e-318a-4e25-a97f-ebd3cacad1b1",
   "metadata": {},
   "outputs": [
    {
     "data": {
      "text/plain": [
       "([0.9842827371353705,\n",
       "  0.984561363842233,\n",
       "  0.9844696490296913,\n",
       "  0.9846958973206668,\n",
       "  0.9846387570648915],\n",
       " 0.9845296808785704)"
      ]
     },
     "execution_count": 18,
     "metadata": {},
     "output_type": "execute_result"
    }
   ],
   "source": [
    "hparams = {\n",
    "    'model_params': {}, 'X_num': ['cb1', 'lgb1', 'xgb1', 'nn1', 'lr']\n",
    "}\n",
    "result = lr_stk.cv(df_cv, hparams)\n",
    "result['valid_scores'], np.mean(result['valid_scores'])"
   ]
  },
  {
   "cell_type": "code",
   "execution_count": 19,
   "id": "b8cdeb38-ca9b-4e09-9745-ec79d5391c6f",
   "metadata": {},
   "outputs": [],
   "source": [
    "for i in models:\n",
    "    if i.name.startswith('cb'):\n",
    "        i.train(df_train, task_type = 'GPU')\n",
    "    elif i.name.startswith('xgb'):\n",
    "        i.train(df_train, device = 'cuda')\n",
    "    else:\n",
    "        i.train(df_train)"
   ]
  },
  {
   "cell_type": "code",
   "execution_count": 20,
   "id": "0a4f89f9-9f37-4c3c-a382-4876f3aa63e1",
   "metadata": {},
   "outputs": [
    {
     "name": "stderr",
     "output_type": "stream",
     "text": [
      "/home/sun9sun9/python312/lib/python3.12/site-packages/xgboost/core.py:158: UserWarning: [08:29:37] WARNING: /workspace/src/common/error_msg.cc:58: Falling back to prediction using DMatrix due to mismatched devices. This might lead to higher memory usage and slower performance. XGBoost is running on: cuda:0, while the input data is on: cpu.\n",
      "Potential solutions:\n",
      "- Use a data structure that matches the device ordinal in the booster.\n",
      "- Set the device for booster before call to inplace_predict.\n",
      "\n",
      "This warning will only be shown once.\n",
      "\n",
      "  warnings.warn(smsg, UserWarning)\n",
      "I0000 00:00:1737016212.596900   71835 gpu_device.cc:2022] Created device /job:localhost/replica:0/task:0/device:GPU:0 with 4762 MB memory:  -> device: 0, name: NVIDIA GeForce RTX 2060, pci bus id: 0000:01:00.0, compute capability: 7.5\n",
      "WARNING: All log messages before absl::InitializeLog() is called are written to STDERR\n",
      "I0000 00:00:1737016218.761168   72230 service.cc:148] XLA service 0x7f1e0000e8d0 initialized for platform CUDA (this does not guarantee that XLA will be used). Devices:\n",
      "I0000 00:00:1737016218.761185   72230 service.cc:156]   StreamExecutor device (0): NVIDIA GeForce RTX 2060, Compute Capability 7.5\n",
      "2025-01-16 08:30:18.786678: I tensorflow/compiler/mlir/tensorflow/utils/dump_mlir_util.cc:268] disabling MLIR crash reproducer, set env var `MLIR_CRASH_REPRODUCER_DIRECTORY` to enable.\n",
      "I0000 00:00:1737016218.813003   72230 cuda_dnn.cc:529] Loaded cuDNN version 90300\n",
      "I0000 00:00:1737016219.157058   72230 device_compiler.h:188] Compiled cluster using XLA!  This line is logged at most once for the lifetime of the process.\n"
     ]
    }
   ],
   "source": [
    "df_stk_test = sgml.stack_prd([cb1, lgb1, xgb1, nn1], df_test, config)"
   ]
  },
  {
   "cell_type": "code",
   "execution_count": 21,
   "id": "835dfaa1-69e5-4901-b8bc-68c93ce8a804",
   "metadata": {},
   "outputs": [],
   "source": [
    "s_prd = pd.Series(\n",
    "    at.body_transformer.label_transformer.inverse_transform((df_stk_test.mean(axis=1) >= 0.5).astype('int')),\n",
    "    index = df_stk_test.index\n",
    ")\n",
    "s_prd.rename('class').to_frame().to_csv(os.path.join('result', 'submission1.csv'))"
   ]
  },
  {
   "cell_type": "code",
   "execution_count": null,
   "id": "15d7c090-508c-4cb7-bceb-02f95502528d",
   "metadata": {},
   "outputs": [],
   "source": [
    "#!kaggle competitions submit -c playground-series-s4e8 -f result/submission1.csv -m '1'"
   ]
  },
  {
   "cell_type": "code",
   "execution_count": null,
   "id": "51ea498b-659d-458e-9f82-ae83db8a305a",
   "metadata": {},
   "outputs": [],
   "source": []
  }
 ],
 "metadata": {
  "kernelspec": {
   "display_name": "Python 3 (ipykernel)",
   "language": "python",
   "name": "python3"
  },
  "language_info": {
   "codemirror_mode": {
    "name": "ipython",
    "version": 3
   },
   "file_extension": ".py",
   "mimetype": "text/x-python",
   "name": "python",
   "nbconvert_exporter": "python",
   "pygments_lexer": "ipython3",
   "version": "3.12.6"
  }
 },
 "nbformat": 4,
 "nbformat_minor": 5
}
