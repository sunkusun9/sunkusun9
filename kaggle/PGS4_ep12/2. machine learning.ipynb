{
 "cells": [
  {
   "cell_type": "code",
   "execution_count": 1,
   "id": "cb214dbd-9aeb-44a0-97c2-da53b1e9c3d0",
   "metadata": {},
   "outputs": [
    {
     "name": "stderr",
     "output_type": "stream",
     "text": [
      "2024-12-30 07:12:33.057621: E external/local_xla/xla/stream_executor/cuda/cuda_fft.cc:477] Unable to register cuFFT factory: Attempting to register factory for plugin cuFFT when one has already been registered\n",
      "WARNING: All log messages before absl::InitializeLog() is called are written to STDERR\n",
      "E0000 00:00:1735542753.069288   53768 cuda_dnn.cc:8310] Unable to register cuDNN factory: Attempting to register factory for plugin cuDNN when one has already been registered\n",
      "E0000 00:00:1735542753.072984   53768 cuda_blas.cc:1418] Unable to register cuBLAS factory: Attempting to register factory for plugin cuBLAS when one has already been registered\n",
      "2024-12-30 07:12:33.085414: I tensorflow/core/platform/cpu_feature_guard.cc:210] This TensorFlow binary is optimized to use available CPU instructions in performance-critical operations.\n",
      "To enable the following instructions: AVX2 FMA, in other operations, rebuild TensorFlow with the appropriate compiler flags.\n"
     ]
    },
    {
     "name": "stdout",
     "output_type": "stream",
     "text": [
      "3.12.6 (main, Sep 30 2024, 02:19:13) [GCC 9.4.0]\n",
      "scipy 1.12.0\n",
      "sklearn 1.5.2\n",
      "matplotlib 3.8.4\n",
      "seaborn 0.13.2\n",
      "numpy 1.26.4\n",
      "pandas 2.2.3\n",
      "polars 1.12.0\n",
      "catboost 1.2.5\n",
      "xgboost 2.1.2\n"
     ]
    }
   ],
   "source": [
    "import os, sys, re\n",
    "from functools import partial\n",
    "\n",
    "import scipy\n",
    "import sklearn\n",
    "import matplotlib as mpl\n",
    "import matplotlib.pyplot as plt\n",
    "import seaborn as sns\n",
    "import numpy as np\n",
    "import pandas as pd\n",
    "import polars as pl\n",
    "\n",
    "import lightgbm as lgb\n",
    "import catboost as cb\n",
    "import xgboost as xgb\n",
    "\n",
    "import dproc, sgml, sgutil, sgnn\n",
    "\n",
    "print(sys.version)\n",
    "for i in [scipy, sklearn, mpl, sns, np, pd, pl, cb, lgb, xgb]:\n",
    "    try:\n",
    "        print(i.__name__, i.__version__)\n",
    "    except:\n",
    "        pass"
   ]
  },
  {
   "cell_type": "code",
   "execution_count": 2,
   "id": "1ce6bc02-145a-41e0-8437-1c7ad6089572",
   "metadata": {},
   "outputs": [],
   "source": [
    "data_path = 'data'\n",
    "\n",
    "df_train = pd.read_feather(os.path.join(data_path, 'train.feather'))\n",
    "df_test = pd.read_feather(os.path.join(data_path, 'test.feather'))\n",
    "pd_vars= dproc.PD_Vars.load(os.path.join('data', 'vars'))\n",
    "target = 'Premium Amount_l'\n",
    "\n",
    "X_bool = ['Gender', 'Smoking Status']\n",
    "X_num = ['Age', 'Annual Income', 'Credit Score', 'Previous Claims_fm1', 'Vehicle Age', 'Policy Days', 'Number of Dependents_fz']\n",
    "X_ord = ['Education Level', 'Occupation_funk', 'Location', 'Policy Type', 'Exercise Frequency', 'Weekday', 'Year', \n",
    "         'Insurance Duration_fm', 'Property Type']\n",
    "X_menc = ['CA_C', 'CA_A']\n",
    "X_imp = ['Health Score_50', 'Annual Income_f', 'Credit Score_f', 'Previous Claims_f']\n",
    "X_imp2 = ['Health Score_502', 'Annual Income_f2', 'Credit Score_f2', 'Previous Claims_f2']\n",
    "X_comb = ['Marital_Feedback']\n",
    "X_freq = ['Annual Income_Freq','Credit Score_Freq', 'Health Score_Freq', 'Annual Income_Freq_d', 'Health Score_Freq_d']\n",
    "\n",
    "sc = sgutil.SGCache('img', 'result')"
   ]
  },
  {
   "cell_type": "code",
   "execution_count": 60,
   "id": "10871b5b-6626-4a8b-a3d2-27f24a4e8a7b",
   "metadata": {},
   "outputs": [],
   "source": [
    "from sklearn.model_selection import train_test_split, KFold, ShuffleSplit, StratifiedKFold\n",
    "from sklearn.linear_model import LogisticRegression, LinearRegression\n",
    "from sklearn.metrics import accuracy_score, confusion_matrix, roc_auc_score, mean_squared_error\n",
    "\n",
    "ss = ShuffleSplit(1, random_state=123)\n",
    "ss2 = ShuffleSplit(1, train_size = 0.6, random_state=123)\n",
    "skf = StratifiedKFold(5, random_state = 123, shuffle = True)\n",
    "kf = KFold(5, random_state = 123, shuffle = True)\n",
    "\n",
    "df_train['target_2'] =  pd.cut(df_train[target], [-np.inf, 6, np.inf], labels = [0, 1])\n",
    "df_train['target_3'] =  pd.cut(df_train[target], [-np.inf, 6, 7.6, np.inf], labels = [0, 1, 2])\n",
    "df_train['target_5'] =  pd.cut(df_train[target], [-np.inf, 4, 5, 6, 7.6, np.inf], labels = [0, 1, 2, 3, 4])\n",
    "\n",
    "def get_validation_splitter(validation_fraction):\n",
    "    return lambda x: train_test_split(x, test_size=validation_fraction)\n",
    "\n",
    "config = {\n",
    "    'predict_func': lambda m, df, X: pd.Series(m.predict(df[X]), index=df.index),\n",
    "    'score_func': lambda df, prds: -(mean_squared_error(df[target].sort_index(), prds.clip(3.044523, 8.517193).sort_index()) ** 0.5),\n",
    "    'validation_splitter': get_validation_splitter,\n",
    "    'progress_callback': sgml.ProgressCallBack(),\n",
    "    'return_train_scores': False,\n",
    "    'y': target,\n",
    "}\n",
    "\n",
    "config_2 = {\n",
    "    'predict_func': lambda m, df, X: pd.DataFrame(m.predict_proba(df[X]), index=df.index),\n",
    "    'score_func': lambda df, prds: accuracy_score(df['target_3'].sort_index(), prds.idxmax(axis=1).sort_index()),\n",
    "    'validation_splitter': get_validation_splitter,\n",
    "    'progress_callback': sgml.ProgressCallBack(),\n",
    "    'return_train_scores': False,\n",
    "    'y': 'target_3',\n",
    "}\n",
    "\n",
    "config_3 = {\n",
    "    'predict_func': lambda m, df, X: pd.DataFrame(m.predict_proba(df[X]), index=df.index),\n",
    "    'score_func': lambda df, prds: accuracy_score(df['target_5'].sort_index(), prds.idxmax(axis=1).sort_index()),\n",
    "    'validation_splitter': get_validation_splitter,\n",
    "    'progress_callback': sgml.ProgressCallBack(),\n",
    "    'return_train_scores': False,\n",
    "    'y': 'target_5',\n",
    "}\n",
    "\n",
    "config_4 = {\n",
    "    'predict_func': lambda m, df, X: pd.DataFrame(m.predict_proba(df[X]), index=df.index),\n",
    "    'score_func': lambda df, prds: roc_auc_score(df['target_2'].sort_index(), prds.idxmax(axis=1).sort_index()),\n",
    "    'validation_splitter': get_validation_splitter,\n",
    "    'progress_callback': sgml.ProgressCallBack(),\n",
    "    'return_train_scores': False,\n",
    "    'y': 'target_2',\n",
    "}\n",
    "\n",
    "lr_adapter = sgml.SklearnAdapter(LinearRegression)\n",
    "cb_adapter = sgml.CBAdapter(cb.CatBoostRegressor)\n",
    "lgb_adapter =  sgml.LGBMAdapter(lgb.LGBMRegressor)\n",
    "xgb_adapter = sgml.XGBAdapter(xgb.XGBRegressor)\n",
    "nn_adapter = sgnn.NNAdapter(model=sgnn.NNRegressor)\n",
    "\n",
    "cb_adapter_c = sgml.CBAdapter(cb.CatBoostClassifier)\n",
    "lgb_adapter_c =  sgml.LGBMAdapter(lgb.LGBMClassifier)\n",
    "xgb_adapter_c = sgml.XGBAdapter(xgb.XGBClassifier)"
   ]
  },
  {
   "cell_type": "code",
   "execution_count": 4,
   "id": "cbbf48f1-6849-41b7-8016-b2d655c3e0ca",
   "metadata": {},
   "outputs": [],
   "source": [
    "cat_list = []\n",
    "for train_idx, _ in kf.split(df_train):\n",
    "    s_vcnt = df_train['Health Score_fz'].astype('str').value_counts()\n",
    "    cat_list.append(s_vcnt.loc[s_vcnt >= 3])\n"
   ]
  },
  {
   "cell_type": "code",
   "execution_count": 5,
   "id": "33eb41b2-78c1-4189-b878-6a744352a423",
   "metadata": {},
   "outputs": [],
   "source": [
    "df_train['Health Score_c'] = df_train['Health Score_fz'].astype('str').astype('category')\n",
    "df_test['Health Score_c'] = df_test['Health Score_fz'].astype('str').astype('category')"
   ]
  },
  {
   "cell_type": "markdown",
   "id": "6b9cf8e3-00f1-4d44-a676-99ba72f5c8cc",
   "metadata": {},
   "source": [
    "# Classification"
   ]
  },
  {
   "cell_type": "markdown",
   "id": "b8d7dd0d-363e-46f7-84c3-97af8198a458",
   "metadata": {},
   "source": [
    "## 3 Class-model"
   ]
  },
  {
   "cell_type": "code",
   "execution_count": 7,
   "id": "7fa931be-daf4-4311-a539-9a16fb83e4e7",
   "metadata": {},
   "outputs": [],
   "source": [
    "lgb_c1 = sgml.CVModel.load_or_create('result', 'lgb_c1', kf, config_2, lgb_adapter_c)"
   ]
  },
  {
   "cell_type": "code",
   "execution_count": 8,
   "id": "857e70b1-3916-4c57-aced-bcf5105b8570",
   "metadata": {},
   "outputs": [
    {
     "data": {
      "text/plain": [
       "[0.7534333333333333,\n",
       " 0.7531291666666666,\n",
       " 0.7526583333333333,\n",
       " 0.7540916666666667,\n",
       " 0.75335]"
      ]
     },
     "execution_count": 8,
     "metadata": {},
     "output_type": "execute_result"
    }
   ],
   "source": [
    "hparams = {\n",
    "    'model_params': {'n_estimators': 1000, 'num_leaves': 63, 'learning_rate': 0.03},\n",
    "    'X_num': X_num + X_menc + X_imp + X_freq, \n",
    "    'X_cat': X_ord + X_bool + X_comb, \n",
    "    'X_tgt': ['Health Score', 'Annual Income'],\n",
    "    'random_state': 123,\n",
    "    #'validation_fraction': 0.1\n",
    "}\n",
    "#result = lgb_c1.adhoc(df_train, ss, hparams)\n",
    "result = lgb_c1.cv(df_train, hparams)\n",
    "result['valid_scores']"
   ]
  },
  {
   "cell_type": "code",
   "execution_count": 9,
   "id": "84a83676-5d78-422e-bd0b-e7dd1cb0357e",
   "metadata": {},
   "outputs": [],
   "source": [
    "lgb_c1.train(df_train)\n",
    "df_train = dproc.join_and_assign(\n",
    "    df_train,\n",
    "    lgb_c1.cv_best_['prd'].rename(columns = lambda x: 't{}'.format(x))\n",
    ")\n",
    "df_test = dproc.join_and_assign(\n",
    "    df_test,\n",
    "    sc.cache_result(\n",
    "        't_test',\n",
    "        lambda : lgb_c1.get_predictor()(df_test).rename(columns = lambda x: 't{}'.format(x)), rerun = 0\n",
    "    )\n",
    ")"
   ]
  },
  {
   "cell_type": "markdown",
   "id": "7f9038e3-36dc-426d-93e6-d36146328a5d",
   "metadata": {},
   "source": [
    "## 5 Class-model"
   ]
  },
  {
   "cell_type": "code",
   "execution_count": 10,
   "id": "f91177a9-3ff0-4b1c-940f-35004453d5c3",
   "metadata": {},
   "outputs": [],
   "source": [
    "lgb_c2 = sgml.CVModel.load_or_create('result', 'lgb_c2', skf, config_3, lgb_adapter_c)"
   ]
  },
  {
   "cell_type": "code",
   "execution_count": 11,
   "id": "a9d08038-7112-479d-8a8a-23fae535b4e7",
   "metadata": {},
   "outputs": [
    {
     "data": {
      "text/plain": [
       "[0.7358041666666667,\n",
       " 0.7348916666666667,\n",
       " 0.7354583333333333,\n",
       " 0.7355083333333333,\n",
       " 0.7355791666666667]"
      ]
     },
     "execution_count": 11,
     "metadata": {},
     "output_type": "execute_result"
    }
   ],
   "source": [
    "hparams = {\n",
    "    'model_params': {'n_estimators': 700, 'num_leaves': 63, 'learning_rate': 0.03},\n",
    "    'X_num': X_num + X_menc + X_imp + X_freq, \n",
    "    'X_cat': X_ord + X_bool + X_comb, \n",
    "    'X_tgt': ['Health Score', 'Annual Income'],\n",
    "    'random_state': 123,\n",
    "    #'validation_fraction': 0.1\n",
    "}\n",
    "#result = lgb_c2.adhoc(df_train, ss, hparams)\n",
    "result = lgb_c2.cv(df_train, hparams)\n",
    "result['valid_scores']"
   ]
  },
  {
   "cell_type": "code",
   "execution_count": 12,
   "id": "160eacce-2564-4a18-b678-981fe5f17422",
   "metadata": {},
   "outputs": [],
   "source": [
    "lgb_c2.train(df_train)\n",
    "df_train = dproc.join_and_assign(\n",
    "    df_train,\n",
    "    lgb_c2.cv_best_['prd'].rename(columns = lambda x: 't5_{}'.format(x))\n",
    ")\n",
    "df_test = dproc.join_and_assign(\n",
    "    df_test,\n",
    "    sc.cache_result(\n",
    "        't5_test',\n",
    "        lambda : lgb_c2.get_predictor()(df_test).rename(columns = lambda x: 't5_{}'.format(x)), rerun = 0\n",
    "    )\n",
    ")"
   ]
  },
  {
   "cell_type": "markdown",
   "id": "ab602ab4-f221-48f5-bb09-5fe0f80e8d59",
   "metadata": {},
   "source": [
    "## 2 Class-model"
   ]
  },
  {
   "cell_type": "code",
   "execution_count": 13,
   "id": "08733ac7-c9e1-4d1e-9743-8bba7c1b8a59",
   "metadata": {},
   "outputs": [],
   "source": [
    "lgb_c3 = sgml.CVModel.load_or_create('result', 'lgb_c3', skf, config_4, lgb_adapter_c)"
   ]
  },
  {
   "cell_type": "code",
   "execution_count": 14,
   "id": "350eba9c-bfa8-486e-a1ad-7911206b5c7a",
   "metadata": {},
   "outputs": [
    {
     "data": {
      "text/plain": [
       "[0.6775183458512728,\n",
       " 0.6786694499279009,\n",
       " 0.6759428766088227,\n",
       " 0.6784740707117934,\n",
       " 0.6772269691294307]"
      ]
     },
     "execution_count": 14,
     "metadata": {},
     "output_type": "execute_result"
    }
   ],
   "source": [
    "hparams = {\n",
    "    'model_params': {'n_estimators': 1200, 'num_leaves': 63, 'learning_rate': 0.03},\n",
    "    'X_num': X_num + X_menc + X_imp + X_freq, \n",
    "    'X_cat': X_ord + X_bool + X_comb, \n",
    "    'X_tgt': ['Health Score', 'Annual Income'],\n",
    "    'random_state': 123,\n",
    "    #'validation_fraction': 0.1\n",
    "}\n",
    "#result = lgb_c3.adhoc(df_train, ss, hparams)\n",
    "result = lgb_c3.cv(df_train, hparams)\n",
    "result['valid_scores']"
   ]
  },
  {
   "cell_type": "code",
   "execution_count": 15,
   "id": "ade1f907-49b8-496a-8372-a0bf0bc51647",
   "metadata": {},
   "outputs": [],
   "source": [
    "lgb_c3.train(df_train)\n",
    "df_train = dproc.join_and_assign(\n",
    "    df_train,\n",
    "    lgb_c3.cv_best_['prd'].iloc[:, :1].rename(columns = lambda x: 't2_0')\n",
    ")\n",
    "df_test = dproc.join_and_assign(\n",
    "    df_test,\n",
    "    sc.cache_result(\n",
    "        't2_test',\n",
    "        lambda : lgb_c3.get_predictor()(df_test).iloc[:, :1].rename(columns = lambda x: 't2_0'), rerun = 0\n",
    "    )\n",
    ")"
   ]
  },
  {
   "cell_type": "markdown",
   "id": "2adc027d-4a33-4b1e-8ecf-bbf1b85d87b7",
   "metadata": {},
   "source": [
    "## Classification 2"
   ]
  },
  {
   "cell_type": "code",
   "execution_count": 16,
   "id": "22341bab-a79b-4efb-8040-0bd499cdf599",
   "metadata": {},
   "outputs": [],
   "source": [
    "lgb2_c = sgml.CVModel.load_or_create('result', 'lgb2_c', kf, config_2, lgb_adapter_c)\n",
    "hparams = {\n",
    "    'model_params': {'n_estimators': 1000, 'num_leaves': 63, 'learning_rate': 0.03},\n",
    "    'X_num': X_num + X_imp2 + X_freq, \n",
    "    'X_cat': X_ord + X_bool + X_comb, \n",
    "    'X_tgt': ['Health Score', 'Annual Income', 'Credit Score'],\n",
    "    'random_state': 123,\n",
    "}\n",
    "result = lgb2_c.cv(df_train, hparams)\n",
    "lgb2_c.train(df_train)\n",
    "df_train = dproc.join_and_assign(\n",
    "    df_train,\n",
    "    lgb2_c.cv_best_['prd'].rename(columns = lambda x: 't{}_2'.format(x))\n",
    ")\n",
    "df_test = dproc.join_and_assign(\n",
    "    df_test,\n",
    "    sc.cache_result(\n",
    "        't_test2',\n",
    "        lambda : lgb2_c.get_predictor()(df_test).rename(columns = lambda x: 't{}_2'.format(x)), rerun = 0\n",
    "    )\n",
    ")"
   ]
  },
  {
   "cell_type": "code",
   "execution_count": 17,
   "id": "c6ec3898-fb52-4a53-aa9a-5678b7ee1c40",
   "metadata": {},
   "outputs": [],
   "source": [
    "lgb2_c2 = sgml.CVModel.load_or_create('result', 'lgb2_c2', skf, config_3, lgb_adapter_c)\n",
    "hparams = {\n",
    "    'model_params': {'n_estimators': 700, 'num_leaves': 63, 'learning_rate': 0.03},\n",
    "    'X_num': X_num + X_imp2 + X_freq, \n",
    "    'X_cat': X_ord + X_bool + X_comb, \n",
    "    'X_tgt': ['Health Score', 'Annual Income', 'Credit Score'],\n",
    "    'random_state': 123,\n",
    "}\n",
    "result = lgb2_c2.cv(df_train, hparams)\n",
    "lgb2_c2.train(df_train)\n",
    "df_train = dproc.join_and_assign(\n",
    "    df_train,\n",
    "    lgb2_c2.cv_best_['prd'].rename(columns = lambda x: 't5_{}_2'.format(x))\n",
    ")\n",
    "df_test = dproc.join_and_assign(\n",
    "    df_test,\n",
    "    sc.cache_result(\n",
    "        't5_test2',\n",
    "        lambda : lgb2_c2.get_predictor()(df_test).rename(columns = lambda x: 't5_{}_2'.format(x)), rerun = 0\n",
    "    )\n",
    ")"
   ]
  },
  {
   "cell_type": "code",
   "execution_count": 18,
   "id": "620ef4a3-5fae-46ed-9840-03eaf7d775ab",
   "metadata": {},
   "outputs": [],
   "source": [
    "lgb2_c3 = sgml.CVModel.load_or_create('result', 'lgb2_c3', skf, config_4, lgb_adapter_c)\n",
    "hparams = {\n",
    "    'model_params': {'n_estimators': 1200, 'num_leaves': 63, 'learning_rate': 0.03},\n",
    "    'X_num': X_num  + X_imp2 + X_freq, \n",
    "    'X_cat': X_ord + X_bool + X_comb, \n",
    "    'X_tgt': ['Health Score', 'Annual Income', 'Credit Score'],\n",
    "    'random_state': 123,\n",
    "}\n",
    "result = lgb2_c3.cv(df_train, hparams)\n",
    "lgb2_c3.train(df_train)\n",
    "df_train = dproc.join_and_assign(\n",
    "    df_train,\n",
    "    lgb2_c3.cv_best_['prd'].iloc[:, :1].rename(columns = lambda x: 't2_0_2')\n",
    ")\n",
    "df_test = dproc.join_and_assign(\n",
    "    df_test,\n",
    "    sc.cache_result(\n",
    "        't2_test2',\n",
    "        lambda : lgb2_c3.get_predictor()(df_test).iloc[:, :1].rename(columns = lambda x: 't2_0_2'), rerun = 0\n",
    "    )\n",
    ")"
   ]
  },
  {
   "cell_type": "code",
   "execution_count": 19,
   "id": "91c65af9-0bb7-42a6-9f35-baad1968a974",
   "metadata": {},
   "outputs": [],
   "source": [
    "X_clf = ['t0', 't1', 't2', 't5_0', 't5_1', 't5_2', 't5_3', 't5_4', 't2_0']"
   ]
  },
  {
   "cell_type": "code",
   "execution_count": 20,
   "id": "7f7b1e73-3263-48ee-a92c-bd65ad5d360f",
   "metadata": {},
   "outputs": [],
   "source": [
    "X_clf2 = ['{}_2'.format(i) for i in X_clf]"
   ]
  },
  {
   "cell_type": "markdown",
   "id": "2f2d691d-2ade-4dbf-8fca-b7fbe77fc522",
   "metadata": {},
   "source": [
    "# Main Model"
   ]
  },
  {
   "cell_type": "markdown",
   "id": "287dced3-ccc6-4dc5-af30-35534e0da3ab",
   "metadata": {},
   "source": [
    "## LR"
   ]
  },
  {
   "cell_type": "code",
   "execution_count": 21,
   "id": "28707b96-b772-4513-978d-8556fd378f41",
   "metadata": {},
   "outputs": [],
   "source": [
    "lr = sgml.CVModel.load_or_create('result', 'lr', kf, config, lr_adapter)"
   ]
  },
  {
   "cell_type": "code",
   "execution_count": 22,
   "id": "75fe892f-fa2b-4f26-bd37-6804f0e1c703",
   "metadata": {},
   "outputs": [
    {
     "data": {
      "text/plain": [
       "[-1.020907947738057,\n",
       " -1.0244113313734193,\n",
       " -1.0266929097821098,\n",
       " -1.027685938981645,\n",
       " -1.0274033734243435]"
      ]
     },
     "execution_count": 22,
     "metadata": {},
     "output_type": "execute_result"
    }
   ],
   "source": [
    "hparams = {\n",
    "    'X_mm': ['Previous Claims_f', 'Credit Score_f', 'Annual Income_fl', 'Annual Income_Freqz'],\n",
    "    'X_num': ['Year_2019', 'Annual Income_isna', 'Credit Score_isna', 'Health Score_isna', 'Health Score_50'] + ['t0', 't1', 't5_0', 't5_1', 't5_2', 't5_3', 't2_0'],\n",
    "    'X_ohe': ['Marital_Feedback'], 'ohe': {'drop': 'first'},\n",
    "}\n",
    "result = lr.cv(df_train, hparams)\n",
    "result['valid_scores']"
   ]
  },
  {
   "cell_type": "markdown",
   "id": "88de6078-116a-49bf-aae0-cd904feb7b55",
   "metadata": {},
   "source": [
    "## LR2"
   ]
  },
  {
   "cell_type": "code",
   "execution_count": 23,
   "id": "b091fd8e-1738-4546-a827-721a34f788c1",
   "metadata": {},
   "outputs": [
    {
     "data": {
      "text/plain": [
       "[-1.0209981802987307,\n",
       " -1.0242917289700002,\n",
       " -1.026519528835961,\n",
       " -1.0277978112709072,\n",
       " -1.0273116323377496]"
      ]
     },
     "execution_count": 23,
     "metadata": {},
     "output_type": "execute_result"
    }
   ],
   "source": [
    "lr2 = sgml.CVModel.load_or_create('result', 'lr2', kf, config, lr_adapter)\n",
    "hparams = {\n",
    "    'X_mm': ['Previous Claims_f2', 'Credit Score_f2', 'Annual Income_fl2', 'Annual Income_Freqz'],\n",
    "    'X_num': ['Year_2019', 'Annual Income_isna', 'Credit Score_isna', 'Health Score_isna', 'Health Score_502'] + ['t0_2', 't1_2', 't5_0_2', 't5_1_2', 't5_2_2', 't5_3_2', 't2_0_2'],\n",
    "    'X_ohe': ['Marital_Feedback'], 'ohe': {'drop': 'first'},\n",
    "}\n",
    "result = lr2.cv(df_train, hparams)\n",
    "result['valid_scores']"
   ]
  },
  {
   "cell_type": "markdown",
   "id": "9e6e206f-1637-44cf-a6a2-02de1c86613e",
   "metadata": {},
   "source": [
    "## LGB1"
   ]
  },
  {
   "cell_type": "code",
   "execution_count": 24,
   "id": "90a77dcf-59b7-4ab5-b33f-6ba9f5829b8e",
   "metadata": {},
   "outputs": [],
   "source": [
    "lgb1 = sgml.CVModel.load_or_create('result', 'lgb1', kf, config, lgb_adapter)"
   ]
  },
  {
   "cell_type": "code",
   "execution_count": 25,
   "id": "17f77f63-21ed-4e1d-a859-4bccf108b31b",
   "metadata": {},
   "outputs": [
    {
     "data": {
      "application/vnd.jupyter.widget-view+json": {
       "model_id": "",
       "version_major": 2,
       "version_minor": 0
      },
      "text/plain": [
       "Fold:   0%|          | 0/5 [00:00<?, ?it/s]"
      ]
     },
     "metadata": {},
     "output_type": "display_data"
    },
    {
     "data": {
      "application/vnd.jupyter.widget-view+json": {
       "model_id": "",
       "version_major": 2,
       "version_minor": 0
      },
      "text/plain": [
       "Round:   0%|          | 0/1000 [00:00<?, ?it/s]"
      ]
     },
     "metadata": {},
     "output_type": "display_data"
    },
    {
     "data": {
      "application/vnd.jupyter.widget-view+json": {
       "model_id": "",
       "version_major": 2,
       "version_minor": 0
      },
      "text/plain": [
       "Round:   0%|          | 0/1000 [00:00<?, ?it/s]"
      ]
     },
     "metadata": {},
     "output_type": "display_data"
    },
    {
     "data": {
      "application/vnd.jupyter.widget-view+json": {
       "model_id": "",
       "version_major": 2,
       "version_minor": 0
      },
      "text/plain": [
       "Round:   0%|          | 0/1000 [00:00<?, ?it/s]"
      ]
     },
     "metadata": {},
     "output_type": "display_data"
    },
    {
     "data": {
      "application/vnd.jupyter.widget-view+json": {
       "model_id": "",
       "version_major": 2,
       "version_minor": 0
      },
      "text/plain": [
       "Round:   0%|          | 0/1000 [00:00<?, ?it/s]"
      ]
     },
     "metadata": {},
     "output_type": "display_data"
    },
    {
     "data": {
      "application/vnd.jupyter.widget-view+json": {
       "model_id": "",
       "version_major": 2,
       "version_minor": 0
      },
      "text/plain": [
       "Round:   0%|          | 0/1000 [00:00<?, ?it/s]"
      ]
     },
     "metadata": {},
     "output_type": "display_data"
    },
    {
     "data": {
      "text/plain": [
       "[-1.0194825509544807,\n",
       " -1.0229964657428703,\n",
       " -1.0252964849015755,\n",
       " -1.0265707613818353,\n",
       " -1.0259000542442873]"
      ]
     },
     "execution_count": 25,
     "metadata": {},
     "output_type": "execute_result"
    }
   ],
   "source": [
    "hparams = {\n",
    "    'model_params': {'n_estimators': 1000, 'num_leaves': 127, 'learning_rate': 0.007},\n",
    "    'X_tgt': ['Health Score', 'Annual Income', 'Credit Score'], 'tgt': {'target_type': 'continuous'},\n",
    "    'X_num': X_num + X_freq + X_imp2 + X_clf2, \n",
    "    'X_cat': X_ord + X_bool + X_comb, \n",
    "    'random_state': 123,\n",
    "    #'validation_fraction': 0.1\n",
    "}\n",
    "#result = lgb1.adhoc(df_train, ss, hparams)\n",
    "result = lgb1.cv(df_train, hparams)\n",
    "result['valid_scores']"
   ]
  },
  {
   "cell_type": "markdown",
   "id": "577d4609-a6bc-49a7-b97b-e4a84a8ef373",
   "metadata": {},
   "source": [
    "## LGB2"
   ]
  },
  {
   "cell_type": "code",
   "execution_count": 26,
   "id": "5bc816ea-e000-4eb2-a8b8-63606e266242",
   "metadata": {},
   "outputs": [],
   "source": [
    "lgb2 = sgml.CVModel.load_or_create('result', 'lgb2', kf, config, lgb_adapter)"
   ]
  },
  {
   "cell_type": "code",
   "execution_count": 27,
   "id": "0fc55278-6bc9-44e4-96c7-5306802866e6",
   "metadata": {},
   "outputs": [
    {
     "data": {
      "application/vnd.jupyter.widget-view+json": {
       "model_id": "",
       "version_major": 2,
       "version_minor": 0
      },
      "text/plain": [
       "Fold:   0%|          | 0/5 [00:00<?, ?it/s]"
      ]
     },
     "metadata": {},
     "output_type": "display_data"
    },
    {
     "data": {
      "application/vnd.jupyter.widget-view+json": {
       "model_id": "",
       "version_major": 2,
       "version_minor": 0
      },
      "text/plain": [
       "Round:   0%|          | 0/1000 [00:00<?, ?it/s]"
      ]
     },
     "metadata": {},
     "output_type": "display_data"
    },
    {
     "data": {
      "application/vnd.jupyter.widget-view+json": {
       "model_id": "",
       "version_major": 2,
       "version_minor": 0
      },
      "text/plain": [
       "Round:   0%|          | 0/1000 [00:00<?, ?it/s]"
      ]
     },
     "metadata": {},
     "output_type": "display_data"
    },
    {
     "data": {
      "application/vnd.jupyter.widget-view+json": {
       "model_id": "",
       "version_major": 2,
       "version_minor": 0
      },
      "text/plain": [
       "Round:   0%|          | 0/1000 [00:00<?, ?it/s]"
      ]
     },
     "metadata": {},
     "output_type": "display_data"
    },
    {
     "data": {
      "application/vnd.jupyter.widget-view+json": {
       "model_id": "",
       "version_major": 2,
       "version_minor": 0
      },
      "text/plain": [
       "Round:   0%|          | 0/1000 [00:00<?, ?it/s]"
      ]
     },
     "metadata": {},
     "output_type": "display_data"
    },
    {
     "data": {
      "application/vnd.jupyter.widget-view+json": {
       "model_id": "",
       "version_major": 2,
       "version_minor": 0
      },
      "text/plain": [
       "Round:   0%|          | 0/1000 [00:00<?, ?it/s]"
      ]
     },
     "metadata": {},
     "output_type": "display_data"
    },
    {
     "data": {
      "text/plain": [
       "[-1.0196454000717559,\n",
       " -1.0230054346561774,\n",
       " -1.0252564018679065,\n",
       " -1.0264906829663503,\n",
       " -1.0259224138735792]"
      ]
     },
     "execution_count": 27,
     "metadata": {},
     "output_type": "execute_result"
    }
   ],
   "source": [
    "hparams = {\n",
    "    'model_params': {'n_estimators': 1000, 'num_leaves': 63, 'learning_rate': 0.007},\n",
    "    'X_num': X_num + X_freq + X_imp2 + X_clf2,\n",
    "    'X_cat': X_ord + X_bool + X_comb, \n",
    "    'X_tgt': ['Health Score', 'Annual Income', 'Credit Score'], 'tgt': {'target_type': 'continuous'},\n",
    "    'random_state': 123,\n",
    "    #'validation_fraction': 0.1\n",
    "}\n",
    "#result = lgb2.adhoc(df_train, ss, hparams)\n",
    "result = lgb2.cv(df_train, hparams)\n",
    "result['valid_scores']"
   ]
  },
  {
   "cell_type": "markdown",
   "id": "216f534b-7b22-498d-89af-57a7a6b4337d",
   "metadata": {},
   "source": [
    "## CB1"
   ]
  },
  {
   "cell_type": "code",
   "execution_count": 28,
   "id": "60de7950-b218-421a-8950-e309e867a9f9",
   "metadata": {},
   "outputs": [],
   "source": [
    "cb1 = sgml.CVModel.load_or_create('result', 'cb1', kf, config, cb_adapter)"
   ]
  },
  {
   "cell_type": "code",
   "execution_count": 29,
   "id": "6ad17f6b-1485-4721-8ec6-a24b494ac75e",
   "metadata": {},
   "outputs": [
    {
     "data": {
      "application/vnd.jupyter.widget-view+json": {
       "model_id": "",
       "version_major": 2,
       "version_minor": 0
      },
      "text/plain": [
       "Fold:   0%|          | 0/5 [00:00<?, ?it/s]"
      ]
     },
     "metadata": {},
     "output_type": "display_data"
    },
    {
     "data": {
      "text/plain": [
       "[-1.0195329716539823,\n",
       " -1.023208763213835,\n",
       " -1.0255487417970068,\n",
       " -1.0265576422608642,\n",
       " -1.0258635511682561]"
      ]
     },
     "execution_count": 29,
     "metadata": {},
     "output_type": "execute_result"
    }
   ],
   "source": [
    "hparams = {\n",
    "    'model_params': {'n_estimators': 600, 'max_depth': 9, 'learning_rate': 0.04},\n",
    "    'X_tgt': ['Health Score', 'Annual Income', 'Credit Score'], 'tgt': {'target_type': 'continuous'},\n",
    "    'X_num': X_num + X_freq + X_imp + X_clf, \n",
    "    'X_cat': X_ord + X_bool + X_comb, \n",
    "    'random_state': 123,\n",
    "    #'validation_fraction': 0.1\n",
    "}\n",
    "#result = cb1.adhoc(df_train, ss, hparams, task_type='GPU')\n",
    "result = cb1.cv(df_train, hparams, task_type='GPU')\n",
    "result['valid_scores']"
   ]
  },
  {
   "cell_type": "markdown",
   "id": "dec9d1d7-a8c0-4a1d-bc49-9281824a6e69",
   "metadata": {},
   "source": [
    "## CB2"
   ]
  },
  {
   "cell_type": "code",
   "execution_count": 30,
   "id": "cf34d1b9-6aab-4274-91e8-9886746c27f7",
   "metadata": {},
   "outputs": [],
   "source": [
    "cb2 = sgml.CVModel.load_or_create('result', 'cb2', kf, config, cb_adapter)"
   ]
  },
  {
   "cell_type": "code",
   "execution_count": 31,
   "id": "87188193-04ff-421e-80c6-55d64dc9b41e",
   "metadata": {},
   "outputs": [
    {
     "data": {
      "application/vnd.jupyter.widget-view+json": {
       "model_id": "",
       "version_major": 2,
       "version_minor": 0
      },
      "text/plain": [
       "Fold:   0%|          | 0/5 [00:00<?, ?it/s]"
      ]
     },
     "metadata": {},
     "output_type": "display_data"
    },
    {
     "data": {
      "text/plain": [
       "[-1.0198124603222762,\n",
       " -1.0233958352835582,\n",
       " -1.0257110484408136,\n",
       " -1.0267100133305842,\n",
       " -1.0261159618593299]"
      ]
     },
     "execution_count": 31,
     "metadata": {},
     "output_type": "execute_result"
    }
   ],
   "source": [
    "hparams = {\n",
    "    'model_params': {'n_estimators': 600, 'max_depth': 10, 'learning_rate': 0.04},\n",
    "    'X_tgt': ['Health Score', 'Annual Income', 'Credit Score'], 'tgt': {'target_type': 'continuous'},\n",
    "    'X_num': X_num + X_freq + X_imp + X_clf, \n",
    "    'X_cat': X_ord + X_bool + X_comb, \n",
    "    'random_state': 123,\n",
    "    #'validation_fraction': 0.1\n",
    "}\n",
    "#result = cb2.adhoc(df_train, ss, hparams, task_type='GPU')\n",
    "result = cb2.cv(df_train, hparams, task_type='GPU')\n",
    "result['valid_scores']"
   ]
  },
  {
   "cell_type": "markdown",
   "id": "fb4e95a2-0698-444b-bec3-7d4a6d413d6d",
   "metadata": {},
   "source": [
    "## CB3"
   ]
  },
  {
   "cell_type": "code",
   "execution_count": 32,
   "id": "ab529138-6927-419e-8afa-92999594b334",
   "metadata": {},
   "outputs": [],
   "source": [
    "cb3 = sgml.CVModel.load_or_create('result', 'cb3', kf, config, cb_adapter)"
   ]
  },
  {
   "cell_type": "code",
   "execution_count": 33,
   "id": "30b28d72-5d40-492b-b97d-7b0d05676cfc",
   "metadata": {},
   "outputs": [
    {
     "data": {
      "application/vnd.jupyter.widget-view+json": {
       "model_id": "",
       "version_major": 2,
       "version_minor": 0
      },
      "text/plain": [
       "Fold:   0%|          | 0/5 [00:00<?, ?it/s]"
      ]
     },
     "metadata": {},
     "output_type": "display_data"
    },
    {
     "data": {
      "text/plain": [
       "[-1.025042488333008,\n",
       " -1.0219134920026633,\n",
       " -1.0240171078328728,\n",
       " -1.0217235015230068,\n",
       " -1.0290155064007989]"
      ]
     },
     "execution_count": 33,
     "metadata": {},
     "output_type": "execute_result"
    }
   ],
   "source": [
    "hparams = {\n",
    "    'model_params': {'n_estimators': 600, 'max_depth': 10, 'learning_rate': 0.04},\n",
    "    'X_tgt': ['Annual Income', 'Credit Score'], 'tgt': {'target_type': 'continuous'},\n",
    "    'X_num': X_num + X_freq + X_imp2 + X_clf2, \n",
    "    'X_cat': X_ord + X_bool + X_comb, \n",
    "    'X_ord': ['Health Score_c'], 'ord': {'min_frequency': 5, 'unknown_value': -1, 'handle_unknown': \"use_encoded_value\"},\n",
    "    'random_state': 123,\n",
    "    #'validation_fraction': 0.1\n",
    "}\n",
    "#result = cb3.adhoc(df_train, ss, hparams, task_type='GPU')\n",
    "result = cb3.cv(df_train, hparams, task_type='GPU')\n",
    "result['valid_scores']"
   ]
  },
  {
   "cell_type": "markdown",
   "id": "41e65db6-62bd-4c3f-a4a5-0b63903f30f2",
   "metadata": {},
   "source": [
    "## CB4"
   ]
  },
  {
   "cell_type": "code",
   "execution_count": 34,
   "id": "0f6fee1f-10e7-4ab1-aa34-69318a27d6b5",
   "metadata": {},
   "outputs": [],
   "source": [
    "cb4 = sgml.CVModel.load_or_create('result', 'cb4', kf, config, cb_adapter)"
   ]
  },
  {
   "cell_type": "code",
   "execution_count": 35,
   "id": "ce8632c7-b65f-4389-a2ab-63a017b71f58",
   "metadata": {},
   "outputs": [
    {
     "data": {
      "application/vnd.jupyter.widget-view+json": {
       "model_id": "",
       "version_major": 2,
       "version_minor": 0
      },
      "text/plain": [
       "Fold:   0%|          | 0/5 [00:00<?, ?it/s]"
      ]
     },
     "metadata": {},
     "output_type": "display_data"
    },
    {
     "data": {
      "text/plain": [
       "[-1.0195740108384055,\n",
       " -1.0212720754574072,\n",
       " -1.0233300397270204,\n",
       " -1.0262117440585858,\n",
       " -1.0242325734967839]"
      ]
     },
     "execution_count": 35,
     "metadata": {},
     "output_type": "execute_result"
    }
   ],
   "source": [
    "hparams = {\n",
    "    'model_params': {'n_estimators': 600, 'max_depth': 10, 'learning_rate': 0.04},\n",
    "    'X_tgt': ['Annual Income', 'Credit Score'], 'tgt': {'target_type': 'continuous'},\n",
    "    'X_num': X_num + X_freq + X_imp2 + X_clf2, \n",
    "    'X_cat': X_ord + X_bool + X_comb, \n",
    "    'X_ord': ['Health Score_c'], 'ord': {'min_frequency': 7, 'unknown_value': -1, 'handle_unknown': \"use_encoded_value\"},\n",
    "    'random_state': 123,\n",
    "    #'validation_fraction': 0.1\n",
    "}\n",
    "#result = cb4.adhoc(df_train, ss, hparams, task_type='GPU')\n",
    "result = cb4.cv(df_train, hparams, task_type='GPU')\n",
    "result['valid_scores']"
   ]
  },
  {
   "cell_type": "markdown",
   "id": "a701afe1-2e42-439f-bf07-b220ffc2370f",
   "metadata": {},
   "source": [
    "## CB5"
   ]
  },
  {
   "cell_type": "code",
   "execution_count": 68,
   "id": "b62c1e3c-be77-4335-a24b-37c2e846f0cc",
   "metadata": {},
   "outputs": [],
   "source": [
    "cb5 = sgml.CVModel.load_or_create('result', 'cb5', kf, config, cb_adapter)"
   ]
  },
  {
   "cell_type": "code",
   "execution_count": 69,
   "id": "1011dbbb-4e5e-4d7f-a663-a95bdb97b187",
   "metadata": {},
   "outputs": [
    {
     "data": {
      "application/vnd.jupyter.widget-view+json": {
       "model_id": "",
       "version_major": 2,
       "version_minor": 0
      },
      "text/plain": [
       "Fold:   0%|          | 0/5 [00:00<?, ?it/s]"
      ]
     },
     "metadata": {},
     "output_type": "display_data"
    },
    {
     "data": {
      "text/plain": [
       "[-1.0202103090565935,\n",
       " -1.0236188697776036,\n",
       " -1.0259082541852604,\n",
       " -1.0271804203847197,\n",
       " -1.0268048773138716]"
      ]
     },
     "execution_count": 69,
     "metadata": {},
     "output_type": "execute_result"
    }
   ],
   "source": [
    "hparams = {\n",
    "    'model_params': {'n_estimators': 600, 'max_depth': 10, 'learning_rate': 0.04},\n",
    "    'X_tgt': ['Annual Income', 'Credit Score'], 'tgt': {'target_type': 'continuous'},\n",
    "    'X_num': X_num + X_freq + X_imp2 + X_clf2, \n",
    "    'X_cat': X_ord + X_bool + X_comb, \n",
    "    'X_ord': ['Health Score_c'], 'ord': {'min_frequency': 15, 'unknown_value': -1, 'handle_unknown': \"use_encoded_value\"},\n",
    "    'random_state': 123,\n",
    "    #'validation_fraction': 0.1\n",
    "}\n",
    "#result = cb4.adhoc(df_train, ss, hparams, task_type='GPU')\n",
    "result = cb5.cv(df_train, hparams, task_type='GPU')\n",
    "result['valid_scores']"
   ]
  },
  {
   "cell_type": "markdown",
   "id": "cda69a2c-ada9-4844-aaa3-1ab149d8e104",
   "metadata": {},
   "source": [
    "## CB6"
   ]
  },
  {
   "cell_type": "code",
   "execution_count": 95,
   "id": "3aaf46cc-6053-4aeb-98dc-e548827a0570",
   "metadata": {},
   "outputs": [],
   "source": [
    "cb6 = sgml.CVModel.load_or_create('result', 'cb6', kf, config, cb_adapter)"
   ]
  },
  {
   "cell_type": "code",
   "execution_count": 96,
   "id": "6f8e615f-0949-4391-bb80-2e90d7ab7bd1",
   "metadata": {},
   "outputs": [
    {
     "data": {
      "application/vnd.jupyter.widget-view+json": {
       "model_id": "",
       "version_major": 2,
       "version_minor": 0
      },
      "text/plain": [
       "Fold:   0%|          | 0/5 [00:00<?, ?it/s]"
      ]
     },
     "metadata": {},
     "output_type": "display_data"
    },
    {
     "data": {
      "text/plain": [
       "[-1.0203919240791612,\n",
       " -1.0236693081353079,\n",
       " -1.0262721762888998,\n",
       " -1.0272071407716024,\n",
       " -1.0268210944227152]"
      ]
     },
     "execution_count": 96,
     "metadata": {},
     "output_type": "execute_result"
    }
   ],
   "source": [
    "hparams = {\n",
    "    'model_params': {'n_estimators': 600, 'max_depth': 10, 'learning_rate': 0.04},\n",
    "    'X_tgt': ['Credit Score'], 'tgt': {'target_type': 'continuous'},\n",
    "    'X_num': X_num + X_freq + X_imp2 + X_clf2, \n",
    "    'X_cat': X_ord + X_bool + X_comb, \n",
    "    'X_ord': ['Health Score_c', 'Annual Income_fz'], 'ord': {'min_frequency': 15, 'unknown_value': -1, 'handle_unknown': \"use_encoded_value\"},\n",
    "    'random_state': 123,\n",
    "    #'validation_fraction': 0.1\n",
    "}\n",
    "#result = cb6.adhoc(df_train, ss, hparams, task_type='GPU')\n",
    "result = cb6.cv(df_train, hparams, task_type='GPU')\n",
    "result['valid_scores']"
   ]
  },
  {
   "cell_type": "markdown",
   "id": "8d560e7d-167b-4854-8a9b-8902db6149a0",
   "metadata": {},
   "source": [
    "## XGB1"
   ]
  },
  {
   "cell_type": "code",
   "execution_count": 36,
   "id": "11095603-8fee-4ed6-a6b7-1df19fbf72ed",
   "metadata": {},
   "outputs": [],
   "source": [
    "xgb1 = sgml.CVModel.load_or_create('result', 'xgb1', kf, config, xgb_adapter)"
   ]
  },
  {
   "cell_type": "code",
   "execution_count": 37,
   "id": "26a5a9cc-da5b-4058-a005-bc6d02b93db7",
   "metadata": {},
   "outputs": [
    {
     "data": {
      "application/vnd.jupyter.widget-view+json": {
       "model_id": "",
       "version_major": 2,
       "version_minor": 0
      },
      "text/plain": [
       "Fold:   0%|          | 0/5 [00:00<?, ?it/s]"
      ]
     },
     "metadata": {},
     "output_type": "display_data"
    },
    {
     "data": {
      "application/vnd.jupyter.widget-view+json": {
       "model_id": "",
       "version_major": 2,
       "version_minor": 0
      },
      "text/plain": [
       "Round:   0%|          | 0/1100 [00:00<?, ?it/s]"
      ]
     },
     "metadata": {},
     "output_type": "display_data"
    },
    {
     "name": "stderr",
     "output_type": "stream",
     "text": [
      "/home/sun9sun9/python312/lib/python3.12/site-packages/xgboost/core.py:158: UserWarning: [08:03:12] WARNING: /workspace/src/common/error_msg.cc:58: Falling back to prediction using DMatrix due to mismatched devices. This might lead to higher memory usage and slower performance. XGBoost is running on: cuda:0, while the input data is on: cpu.\n",
      "Potential solutions:\n",
      "- Use a data structure that matches the device ordinal in the booster.\n",
      "- Set the device for booster before call to inplace_predict.\n",
      "\n",
      "This warning will only be shown once.\n",
      "\n",
      "  warnings.warn(smsg, UserWarning)\n"
     ]
    },
    {
     "data": {
      "application/vnd.jupyter.widget-view+json": {
       "model_id": "",
       "version_major": 2,
       "version_minor": 0
      },
      "text/plain": [
       "Round:   0%|          | 0/1100 [00:00<?, ?it/s]"
      ]
     },
     "metadata": {},
     "output_type": "display_data"
    },
    {
     "data": {
      "application/vnd.jupyter.widget-view+json": {
       "model_id": "",
       "version_major": 2,
       "version_minor": 0
      },
      "text/plain": [
       "Round:   0%|          | 0/1100 [00:00<?, ?it/s]"
      ]
     },
     "metadata": {},
     "output_type": "display_data"
    },
    {
     "data": {
      "application/vnd.jupyter.widget-view+json": {
       "model_id": "",
       "version_major": 2,
       "version_minor": 0
      },
      "text/plain": [
       "Round:   0%|          | 0/1100 [00:00<?, ?it/s]"
      ]
     },
     "metadata": {},
     "output_type": "display_data"
    },
    {
     "data": {
      "application/vnd.jupyter.widget-view+json": {
       "model_id": "",
       "version_major": 2,
       "version_minor": 0
      },
      "text/plain": [
       "Round:   0%|          | 0/1100 [00:00<?, ?it/s]"
      ]
     },
     "metadata": {},
     "output_type": "display_data"
    },
    {
     "data": {
      "text/plain": [
       "[-1.0194211586161719,\n",
       " -1.0229488691452266,\n",
       " -1.0252834881715636,\n",
       " -1.0264535390314664,\n",
       " -1.025776468979094]"
      ]
     },
     "execution_count": 37,
     "metadata": {},
     "output_type": "execute_result"
    }
   ],
   "source": [
    "hparams = {\n",
    "    'model_params': {'n_estimators': 1100, 'max_depth': 5, 'learning_rate': 0.01},\n",
    "    'X_tgt': ['Health Score', 'Annual Income', 'Credit Score'], 'tgt': {'target_type': 'continuous'},\n",
    "    'X_num': X_num + X_freq + X_imp2 + X_clf2, \n",
    "    'X_cat': X_ord + X_bool + X_comb, \n",
    "    'random_state': 123,\n",
    "    #'validation_fraction': 0.1\n",
    "}\n",
    "#result = xgb1.adhoc(df_train, ss, hparams, device='cuda')\n",
    "result = xgb1.cv(df_train, hparams, device='cuda')\n",
    "result['valid_scores']"
   ]
  },
  {
   "cell_type": "markdown",
   "id": "ab40e9e0-6118-4050-bb8f-4c6db1a36a8e",
   "metadata": {},
   "source": [
    "## XGB2"
   ]
  },
  {
   "cell_type": "code",
   "execution_count": 38,
   "id": "c2d3702b-933b-4fc2-9ff9-21af97d0f5cb",
   "metadata": {},
   "outputs": [],
   "source": [
    "xgb2 = sgml.CVModel.load_or_create('result', 'xgb2', kf, config, xgb_adapter)"
   ]
  },
  {
   "cell_type": "code",
   "execution_count": 39,
   "id": "9683da02-eb74-4aac-b7bd-793b85fa5495",
   "metadata": {},
   "outputs": [
    {
     "data": {
      "application/vnd.jupyter.widget-view+json": {
       "model_id": "",
       "version_major": 2,
       "version_minor": 0
      },
      "text/plain": [
       "Fold:   0%|          | 0/5 [00:00<?, ?it/s]"
      ]
     },
     "metadata": {},
     "output_type": "display_data"
    },
    {
     "data": {
      "application/vnd.jupyter.widget-view+json": {
       "model_id": "",
       "version_major": 2,
       "version_minor": 0
      },
      "text/plain": [
       "Round:   0%|          | 0/1300 [00:00<?, ?it/s]"
      ]
     },
     "metadata": {},
     "output_type": "display_data"
    },
    {
     "data": {
      "application/vnd.jupyter.widget-view+json": {
       "model_id": "",
       "version_major": 2,
       "version_minor": 0
      },
      "text/plain": [
       "Round:   0%|          | 0/1300 [00:00<?, ?it/s]"
      ]
     },
     "metadata": {},
     "output_type": "display_data"
    },
    {
     "data": {
      "application/vnd.jupyter.widget-view+json": {
       "model_id": "",
       "version_major": 2,
       "version_minor": 0
      },
      "text/plain": [
       "Round:   0%|          | 0/1300 [00:00<?, ?it/s]"
      ]
     },
     "metadata": {},
     "output_type": "display_data"
    },
    {
     "data": {
      "application/vnd.jupyter.widget-view+json": {
       "model_id": "",
       "version_major": 2,
       "version_minor": 0
      },
      "text/plain": [
       "Round:   0%|          | 0/1300 [00:00<?, ?it/s]"
      ]
     },
     "metadata": {},
     "output_type": "display_data"
    },
    {
     "data": {
      "application/vnd.jupyter.widget-view+json": {
       "model_id": "",
       "version_major": 2,
       "version_minor": 0
      },
      "text/plain": [
       "Round:   0%|          | 0/1300 [00:00<?, ?it/s]"
      ]
     },
     "metadata": {},
     "output_type": "display_data"
    },
    {
     "data": {
      "text/plain": [
       "[-1.0194907344791828,\n",
       " -1.0229514329107898,\n",
       " -1.0251839565724474,\n",
       " -1.0264971475686988,\n",
       " -1.025827776049124]"
      ]
     },
     "execution_count": 39,
     "metadata": {},
     "output_type": "execute_result"
    }
   ],
   "source": [
    "hparams = {\n",
    "    'model_params': {'n_estimators': 1300, 'max_depth': 4, 'learning_rate': 0.02},\n",
    "    'X_tgt': ['Health Score', 'Annual Income', 'Credit Score'], 'tgt': {'target_type': 'continuous'},\n",
    "    'X_num': X_num + X_freq + X_imp2 + X_clf2, \n",
    "    'X_cat': X_ord + X_bool + X_comb, \n",
    "    'random_state': 123,\n",
    "    #'validation_fraction': 0.1\n",
    "}\n",
    "#result = xgb2.adhoc(df_train, ss, hparams, device='cuda')\n",
    "result = xgb2.cv(df_train, hparams, device='cuda')\n",
    "result['valid_scores']"
   ]
  },
  {
   "cell_type": "markdown",
   "id": "fb00d57c-7f03-460b-b012-b46e29dd1b5b",
   "metadata": {},
   "source": [
    "## NN1"
   ]
  },
  {
   "cell_type": "code",
   "execution_count": null,
   "id": "73f85742-5be7-45f0-a27a-380ad82a6ef5",
   "metadata": {},
   "outputs": [],
   "source": [
    "#nn1 = sgml.CVModel.load_or_create('result', 'nn1', kf, config, nn_adapter)\n",
    "\"\"\"\n",
    "def nn_cat_param(df, name, size):\n",
    "    return name, len(df[name].cat.categories), size\n",
    "\n",
    "X_cat = ['Marital_Feedback']\n",
    "X_nn_emb = [\n",
    "    ('Marital_Feedback', 3)\n",
    "]\n",
    "\n",
    "nn_params = {\n",
    "    'embedding':[(1, c, es, 0, 0) for _, c, es in [nn_cat_param(df_train, v, n) for v, n in X_nn_emb]], \n",
    "    'config':  [\n",
    "        {'unit': 16, 'activation': 'relu', 'batch_norm': False},\n",
    "    ]\n",
    "}\n",
    "\n",
    "hparams = {\n",
    "    'model_params': {\n",
    "        'model_params': nn_params,\n",
    "        'epochs': 30,\n",
    "        'optimizer': ('Adam', {'learning_rate': 0.001}),\n",
    "        'batch_size': 2048, 'shuffle_size': 102400,\n",
    "        'early_stopping': None, 'reduce_lr_on_plateau': None, 'lr_scheduler': None\n",
    "    }, \n",
    "    'X_cat': [i for i, _ in X_nn_emb],\n",
    "    'X_tgt': ['Health Score', 'Annual Income'], 'tgt': {'target_type': 'continuous'},\n",
    "    'X_mm': ['Previous Claims_f', 'Credit Score_f', 'Annual Income_fl', 'Annual Income_Freqz'],\n",
    "    'X_num': X_bool + X_menc + ['t0', 't1', 't5_0', 't5_1', 't5_2', 't5_3', 't2_0'],\n",
    "    'X_ohe': X_ord, \n",
    "    'ohe': {'drop': 'first', 'min_frequency': 50, 'sparse_output': False},\n",
    "    #'validation_fraction': 0.1\n",
    "}\n",
    "\n",
    "##nn1.adhoc(df_train, ss, hparams)\n",
    "result = nn1.cv(df_train, hparams)\n",
    "result['valid_scores']\n",
    "\"\"\""
   ]
  },
  {
   "cell_type": "markdown",
   "id": "b17d34e1-acbc-40ae-b24a-424794afc42a",
   "metadata": {},
   "source": [
    "# Ensemble"
   ]
  },
  {
   "cell_type": "markdown",
   "id": "08eb00bd-e56d-4a68-bc5f-d2bf9bc39265",
   "metadata": {},
   "source": [
    "## stk1"
   ]
  },
  {
   "cell_type": "code",
   "execution_count": 113,
   "id": "264234b8-cc3b-464b-8426-348b46b0d8aa",
   "metadata": {},
   "outputs": [
    {
     "data": {
      "text/html": [
       "<div>\n",
       "<style scoped>\n",
       "    .dataframe tbody tr th:only-of-type {\n",
       "        vertical-align: middle;\n",
       "    }\n",
       "\n",
       "    .dataframe tbody tr th {\n",
       "        vertical-align: top;\n",
       "    }\n",
       "\n",
       "    .dataframe thead th {\n",
       "        text-align: right;\n",
       "    }\n",
       "</style>\n",
       "<table border=\"1\" class=\"dataframe\">\n",
       "  <thead>\n",
       "    <tr style=\"text-align: right;\">\n",
       "      <th></th>\n",
       "      <th>lr2</th>\n",
       "      <th>cb6</th>\n",
       "      <th>cb5</th>\n",
       "      <th>cb2</th>\n",
       "      <th>cb3</th>\n",
       "      <th>cb1</th>\n",
       "      <th>lgb2</th>\n",
       "      <th>lgb1</th>\n",
       "      <th>xgb2</th>\n",
       "      <th>xgb1</th>\n",
       "      <th>cb4</th>\n",
       "    </tr>\n",
       "  </thead>\n",
       "  <tbody>\n",
       "    <tr>\n",
       "      <th>score</th>\n",
       "      <td>-1.025378</td>\n",
       "      <td>-1.024872</td>\n",
       "      <td>-1.024745</td>\n",
       "      <td>-1.024349</td>\n",
       "      <td>-1.024342</td>\n",
       "      <td>-1.024142</td>\n",
       "      <td>-1.024064</td>\n",
       "      <td>-1.024049</td>\n",
       "      <td>-1.02399</td>\n",
       "      <td>-1.023977</td>\n",
       "      <td>-1.022924</td>\n",
       "    </tr>\n",
       "  </tbody>\n",
       "</table>\n",
       "</div>"
      ],
      "text/plain": [
       "            lr2       cb6       cb5       cb2       cb3       cb1      lgb2  \\\n",
       "score -1.025378 -1.024872 -1.024745 -1.024349 -1.024342 -1.024142 -1.024064   \n",
       "\n",
       "           lgb1     xgb2      xgb1       cb4  \n",
       "score -1.024049 -1.02399 -1.023977 -1.022924  "
      ]
     },
     "execution_count": 113,
     "metadata": {},
     "output_type": "execute_result"
    }
   ],
   "source": [
    "models = [lr2, lgb1, xgb1, cb1, cb2, lgb2, xgb2, cb3, cb4, cb5, cb6]\n",
    "pd.Series({i.name: i.cv_best_['score'] for i in models}).rename('score').to_frame().T.sort_values('score', axis=1)"
   ]
  },
  {
   "cell_type": "code",
   "execution_count": 114,
   "id": "f291e84a-09a2-4958-b066-09a034949dc1",
   "metadata": {},
   "outputs": [
    {
     "data": {
      "text/html": [
       "<div>\n",
       "<style scoped>\n",
       "    .dataframe tbody tr th:only-of-type {\n",
       "        vertical-align: middle;\n",
       "    }\n",
       "\n",
       "    .dataframe tbody tr th {\n",
       "        vertical-align: top;\n",
       "    }\n",
       "\n",
       "    .dataframe thead th {\n",
       "        text-align: right;\n",
       "    }\n",
       "</style>\n",
       "<table border=\"1\" class=\"dataframe\">\n",
       "  <thead>\n",
       "    <tr style=\"text-align: right;\">\n",
       "      <th></th>\n",
       "      <th>lr2</th>\n",
       "      <th>lgb1</th>\n",
       "      <th>xgb1</th>\n",
       "      <th>cb1</th>\n",
       "      <th>cb2</th>\n",
       "      <th>lgb2</th>\n",
       "      <th>xgb2</th>\n",
       "      <th>cb3</th>\n",
       "      <th>cb4</th>\n",
       "      <th>cb5</th>\n",
       "      <th>cb6</th>\n",
       "      <th>Premium Amount_l</th>\n",
       "    </tr>\n",
       "  </thead>\n",
       "  <tbody>\n",
       "    <tr>\n",
       "      <th>lr2</th>\n",
       "      <td>1.000000</td>\n",
       "      <td>0.986127</td>\n",
       "      <td>0.988087</td>\n",
       "      <td>0.982670</td>\n",
       "      <td>0.981110</td>\n",
       "      <td>0.987984</td>\n",
       "      <td>0.987346</td>\n",
       "      <td>0.893229</td>\n",
       "      <td>0.958015</td>\n",
       "      <td>0.989673</td>\n",
       "      <td>0.989013</td>\n",
       "      <td>0.352753</td>\n",
       "    </tr>\n",
       "    <tr>\n",
       "      <th>lgb1</th>\n",
       "      <td>0.986127</td>\n",
       "      <td>1.000000</td>\n",
       "      <td>0.995389</td>\n",
       "      <td>0.988369</td>\n",
       "      <td>0.987087</td>\n",
       "      <td>0.997070</td>\n",
       "      <td>0.994223</td>\n",
       "      <td>0.900946</td>\n",
       "      <td>0.962067</td>\n",
       "      <td>0.988992</td>\n",
       "      <td>0.988081</td>\n",
       "      <td>0.355954</td>\n",
       "    </tr>\n",
       "    <tr>\n",
       "      <th>xgb1</th>\n",
       "      <td>0.988087</td>\n",
       "      <td>0.995389</td>\n",
       "      <td>1.000000</td>\n",
       "      <td>0.989606</td>\n",
       "      <td>0.988119</td>\n",
       "      <td>0.996755</td>\n",
       "      <td>0.997719</td>\n",
       "      <td>0.902038</td>\n",
       "      <td>0.963309</td>\n",
       "      <td>0.990482</td>\n",
       "      <td>0.989526</td>\n",
       "      <td>0.356127</td>\n",
       "    </tr>\n",
       "    <tr>\n",
       "      <th>cb1</th>\n",
       "      <td>0.982670</td>\n",
       "      <td>0.988369</td>\n",
       "      <td>0.989606</td>\n",
       "      <td>1.000000</td>\n",
       "      <td>0.995282</td>\n",
       "      <td>0.989358</td>\n",
       "      <td>0.989218</td>\n",
       "      <td>0.899479</td>\n",
       "      <td>0.960098</td>\n",
       "      <td>0.986490</td>\n",
       "      <td>0.985426</td>\n",
       "      <td>0.355736</td>\n",
       "    </tr>\n",
       "    <tr>\n",
       "      <th>cb2</th>\n",
       "      <td>0.981110</td>\n",
       "      <td>0.987087</td>\n",
       "      <td>0.988119</td>\n",
       "      <td>0.995282</td>\n",
       "      <td>1.000000</td>\n",
       "      <td>0.987960</td>\n",
       "      <td>0.987720</td>\n",
       "      <td>0.898342</td>\n",
       "      <td>0.959006</td>\n",
       "      <td>0.985437</td>\n",
       "      <td>0.984336</td>\n",
       "      <td>0.355247</td>\n",
       "    </tr>\n",
       "    <tr>\n",
       "      <th>lgb2</th>\n",
       "      <td>0.987984</td>\n",
       "      <td>0.997070</td>\n",
       "      <td>0.996755</td>\n",
       "      <td>0.989358</td>\n",
       "      <td>0.987960</td>\n",
       "      <td>1.000000</td>\n",
       "      <td>0.995501</td>\n",
       "      <td>0.901733</td>\n",
       "      <td>0.963037</td>\n",
       "      <td>0.990116</td>\n",
       "      <td>0.989182</td>\n",
       "      <td>0.355925</td>\n",
       "    </tr>\n",
       "    <tr>\n",
       "      <th>xgb2</th>\n",
       "      <td>0.987346</td>\n",
       "      <td>0.994223</td>\n",
       "      <td>0.997719</td>\n",
       "      <td>0.989218</td>\n",
       "      <td>0.987720</td>\n",
       "      <td>0.995501</td>\n",
       "      <td>1.000000</td>\n",
       "      <td>0.901926</td>\n",
       "      <td>0.963120</td>\n",
       "      <td>0.990165</td>\n",
       "      <td>0.989185</td>\n",
       "      <td>0.356096</td>\n",
       "    </tr>\n",
       "    <tr>\n",
       "      <th>cb3</th>\n",
       "      <td>0.893229</td>\n",
       "      <td>0.900946</td>\n",
       "      <td>0.902038</td>\n",
       "      <td>0.899479</td>\n",
       "      <td>0.898342</td>\n",
       "      <td>0.901733</td>\n",
       "      <td>0.901926</td>\n",
       "      <td>1.000000</td>\n",
       "      <td>0.957871</td>\n",
       "      <td>0.901973</td>\n",
       "      <td>0.902662</td>\n",
       "      <td>0.360874</td>\n",
       "    </tr>\n",
       "    <tr>\n",
       "      <th>cb4</th>\n",
       "      <td>0.958015</td>\n",
       "      <td>0.962067</td>\n",
       "      <td>0.963309</td>\n",
       "      <td>0.960098</td>\n",
       "      <td>0.959006</td>\n",
       "      <td>0.963037</td>\n",
       "      <td>0.963120</td>\n",
       "      <td>0.957871</td>\n",
       "      <td>1.000000</td>\n",
       "      <td>0.965813</td>\n",
       "      <td>0.965811</td>\n",
       "      <td>0.360664</td>\n",
       "    </tr>\n",
       "    <tr>\n",
       "      <th>cb5</th>\n",
       "      <td>0.989673</td>\n",
       "      <td>0.988992</td>\n",
       "      <td>0.990482</td>\n",
       "      <td>0.986490</td>\n",
       "      <td>0.985437</td>\n",
       "      <td>0.990116</td>\n",
       "      <td>0.990165</td>\n",
       "      <td>0.901973</td>\n",
       "      <td>0.965813</td>\n",
       "      <td>1.000000</td>\n",
       "      <td>0.995374</td>\n",
       "      <td>0.354287</td>\n",
       "    </tr>\n",
       "    <tr>\n",
       "      <th>cb6</th>\n",
       "      <td>0.989013</td>\n",
       "      <td>0.988081</td>\n",
       "      <td>0.989526</td>\n",
       "      <td>0.985426</td>\n",
       "      <td>0.984336</td>\n",
       "      <td>0.989182</td>\n",
       "      <td>0.989185</td>\n",
       "      <td>0.902662</td>\n",
       "      <td>0.965811</td>\n",
       "      <td>0.995374</td>\n",
       "      <td>1.000000</td>\n",
       "      <td>0.353992</td>\n",
       "    </tr>\n",
       "    <tr>\n",
       "      <th>Premium Amount_l</th>\n",
       "      <td>0.352753</td>\n",
       "      <td>0.355954</td>\n",
       "      <td>0.356127</td>\n",
       "      <td>0.355736</td>\n",
       "      <td>0.355247</td>\n",
       "      <td>0.355925</td>\n",
       "      <td>0.356096</td>\n",
       "      <td>0.360874</td>\n",
       "      <td>0.360664</td>\n",
       "      <td>0.354287</td>\n",
       "      <td>0.353992</td>\n",
       "      <td>1.000000</td>\n",
       "    </tr>\n",
       "  </tbody>\n",
       "</table>\n",
       "</div>"
      ],
      "text/plain": [
       "                       lr2      lgb1      xgb1       cb1       cb2      lgb2  \\\n",
       "lr2               1.000000  0.986127  0.988087  0.982670  0.981110  0.987984   \n",
       "lgb1              0.986127  1.000000  0.995389  0.988369  0.987087  0.997070   \n",
       "xgb1              0.988087  0.995389  1.000000  0.989606  0.988119  0.996755   \n",
       "cb1               0.982670  0.988369  0.989606  1.000000  0.995282  0.989358   \n",
       "cb2               0.981110  0.987087  0.988119  0.995282  1.000000  0.987960   \n",
       "lgb2              0.987984  0.997070  0.996755  0.989358  0.987960  1.000000   \n",
       "xgb2              0.987346  0.994223  0.997719  0.989218  0.987720  0.995501   \n",
       "cb3               0.893229  0.900946  0.902038  0.899479  0.898342  0.901733   \n",
       "cb4               0.958015  0.962067  0.963309  0.960098  0.959006  0.963037   \n",
       "cb5               0.989673  0.988992  0.990482  0.986490  0.985437  0.990116   \n",
       "cb6               0.989013  0.988081  0.989526  0.985426  0.984336  0.989182   \n",
       "Premium Amount_l  0.352753  0.355954  0.356127  0.355736  0.355247  0.355925   \n",
       "\n",
       "                      xgb2       cb3       cb4       cb5       cb6  \\\n",
       "lr2               0.987346  0.893229  0.958015  0.989673  0.989013   \n",
       "lgb1              0.994223  0.900946  0.962067  0.988992  0.988081   \n",
       "xgb1              0.997719  0.902038  0.963309  0.990482  0.989526   \n",
       "cb1               0.989218  0.899479  0.960098  0.986490  0.985426   \n",
       "cb2               0.987720  0.898342  0.959006  0.985437  0.984336   \n",
       "lgb2              0.995501  0.901733  0.963037  0.990116  0.989182   \n",
       "xgb2              1.000000  0.901926  0.963120  0.990165  0.989185   \n",
       "cb3               0.901926  1.000000  0.957871  0.901973  0.902662   \n",
       "cb4               0.963120  0.957871  1.000000  0.965813  0.965811   \n",
       "cb5               0.990165  0.901973  0.965813  1.000000  0.995374   \n",
       "cb6               0.989185  0.902662  0.965811  0.995374  1.000000   \n",
       "Premium Amount_l  0.356096  0.360874  0.360664  0.354287  0.353992   \n",
       "\n",
       "                  Premium Amount_l  \n",
       "lr2                       0.352753  \n",
       "lgb1                      0.355954  \n",
       "xgb1                      0.356127  \n",
       "cb1                       0.355736  \n",
       "cb2                       0.355247  \n",
       "lgb2                      0.355925  \n",
       "xgb2                      0.356096  \n",
       "cb3                       0.360874  \n",
       "cb4                       0.360664  \n",
       "cb5                       0.354287  \n",
       "cb6                       0.353992  \n",
       "Premium Amount_l          1.000000  "
      ]
     },
     "execution_count": 114,
     "metadata": {},
     "output_type": "execute_result"
    }
   ],
   "source": [
    "df_stk = sgml.stack_cv(models, df_train[target])\n",
    "df_stk.corr()"
   ]
  },
  {
   "cell_type": "code",
   "execution_count": 115,
   "id": "3fd0b2d9-6c3c-4ad3-8495-c07f12f48125",
   "metadata": {},
   "outputs": [],
   "source": [
    "lr_stk = sgml.CVModel.load_or_create('result', 'lr_stk', kf, config, lr_adapter)"
   ]
  },
  {
   "cell_type": "code",
   "execution_count": 116,
   "id": "98a94193-4494-4788-a2e9-42005e8e92aa",
   "metadata": {},
   "outputs": [
    {
     "data": {
      "text/plain": [
       "-1.0188137343357986"
      ]
     },
     "execution_count": 116,
     "metadata": {},
     "output_type": "execute_result"
    }
   ],
   "source": [
    "result = lr_stk.cv(df_stk, {\n",
    "    'model_params': {},\n",
    "    'X_num': ['lr2', 'lgb1', 'xgb1', 'cb1', 'cb2', 'lgb2', 'xgb2', 'cb3', 'cb4', 'cb5', 'cb6']\n",
    "})\n",
    "np.mean(result['valid_scores'])"
   ]
  },
  {
   "cell_type": "code",
   "execution_count": null,
   "id": "2f944446-4bbc-45be-8da6-a6fa1be35301",
   "metadata": {},
   "outputs": [],
   "source": [
    "for i in models:\n",
    "    if i.name.startswith('cb'):\n",
    "        i.train(df_train, task_type='GPU')\n",
    "    elif i.name.startswith('xgb'):\n",
    "        i.train(df_train, device='cuda')\n",
    "    else:\n",
    "        i.train(df_train)\n",
    "lr_stk.train(df_stk)"
   ]
  },
  {
   "cell_type": "code",
   "execution_count": 90,
   "id": "32f2662b-d6bb-4e1c-a825-90add68c0cab",
   "metadata": {},
   "outputs": [],
   "source": [
    "df_vt = pd.concat([\n",
    "    i.get_predictor()(df_test).rename(i.name)\n",
    "    for i in models\n",
    "], axis=1)"
   ]
  },
  {
   "cell_type": "code",
   "execution_count": 56,
   "id": "b476b440-7b47-43e7-9eed-d260e2282b0a",
   "metadata": {},
   "outputs": [],
   "source": [
    "s_prd = (np.exp(\n",
    "    lr_stk.get_predictor()(df_vt)\n",
    ") - 1).clip(20, 5000).rename('Premium Amount')"
   ]
  },
  {
   "cell_type": "code",
   "execution_count": 58,
   "id": "17f83be4-6ebe-4a26-8fa8-4af344cca0e7",
   "metadata": {},
   "outputs": [],
   "source": [
    "s_prd.to_frame().to_csv(os.path.join('result', 'submission10.csv'))"
   ]
  },
  {
   "cell_type": "code",
   "execution_count": null,
   "id": "c63d0fab-2d53-4e0c-b9b8-7409857bd66e",
   "metadata": {},
   "outputs": [],
   "source": [
    "#!kaggle competitions submit -c playground-series-s4e12 -f submission10.csv -m \"10\""
   ]
  },
  {
   "cell_type": "code",
   "execution_count": null,
   "id": "9a3c75d8-2d9e-4662-95f1-143adf981aea",
   "metadata": {},
   "outputs": [],
   "source": []
  }
 ],
 "metadata": {
  "kernelspec": {
   "display_name": "Python 3 (ipykernel)",
   "language": "python",
   "name": "python3"
  },
  "language_info": {
   "codemirror_mode": {
    "name": "ipython",
    "version": 3
   },
   "file_extension": ".py",
   "mimetype": "text/x-python",
   "name": "python",
   "nbconvert_exporter": "python",
   "pygments_lexer": "ipython3",
   "version": "3.12.6"
  }
 },
 "nbformat": 4,
 "nbformat_minor": 5
}
