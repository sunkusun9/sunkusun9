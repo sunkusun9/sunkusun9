{
 "cells": [
  {
   "cell_type": "code",
   "execution_count": null,
   "id": "cb214dbd-9aeb-44a0-97c2-da53b1e9c3d0",
   "metadata": {},
   "outputs": [],
   "source": [
    "import os, sys, re\n",
    "from functools import partial\n",
    "\n",
    "import scipy\n",
    "import sklearn\n",
    "import matplotlib as mpl\n",
    "import matplotlib.pyplot as plt\n",
    "import seaborn as sns\n",
    "import numpy as np\n",
    "import pandas as pd\n",
    "import polars as pl\n",
    "\n",
    "import lightgbm as lgb\n",
    "import catboost as cb\n",
    "import xgboost as xgb\n",
    "\n",
    "import dproc, sgml, sgutil, sgnn\n",
    "\n",
    "print(sys.version)\n",
    "for i in [scipy, sklearn, mpl, sns, np, pd, pl, cb, lgb, xgb]:\n",
    "    try:\n",
    "        print(i.__name__, i.__version__)\n",
    "    except:\n",
    "        pass"
   ]
  },
  {
   "cell_type": "code",
   "execution_count": null,
   "id": "1ce6bc02-145a-41e0-8437-1c7ad6089572",
   "metadata": {},
   "outputs": [],
   "source": [
    "data_path = 'data'\n",
    "\n",
    "df_train = pd.read_feather(os.path.join(data_path, 'train.feather'))\n",
    "df_test = pd.read_feather(os.path.join(data_path, 'test.feather'))\n",
    "pd_vars= dproc.PD_Vars.load(os.path.join('data', 'vars'))\n",
    "target = 'Premium Amount_l'\n",
    "\n",
    "X_bool = ['Gender', 'Smoking Status']\n",
    "X_num = ['Age', 'Annual Income', 'Credit Score', 'Previous Claims_fm1', 'Vehicle Age', 'Policy Days', 'Number of Dependents_fz']\n",
    "X_ord = ['Education Level', 'Occupation_funk', 'Location', 'Policy Type', 'Exercise Frequency', 'Weekday', 'Year', \n",
    "         'Insurance Duration_fm', 'Property Type']\n",
    "X_menc = ['CA_C', 'CA_A']\n",
    "X_imp = ['Health Score_50', 'Annual Income_f', 'Credit Score_f', 'Previous Claims_f']\n",
    "X_imp2 = ['Health Score_502', 'Annual Income_f2', 'Credit Score_f2', 'Previous Claims_f2']\n",
    "X_comb = ['Marital_Feedback']\n",
    "X_freq = ['Annual Income_Freq','Credit Score_Freq', 'Health Score_Freq', 'Annual Income_Freq_d', 'Health Score_Freq_d']\n",
    "\n",
    "sc = sgutil.SGCache('img', 'result')"
   ]
  },
  {
   "cell_type": "code",
   "execution_count": null,
   "id": "cbbf48f1-6849-41b7-8016-b2d655c3e0ca",
   "metadata": {},
   "outputs": [],
   "source": [
    "c_type = pd.CategoricalDtype(\n",
    "    ['Unk'] + df_train['Health Score_fz'].astype('str').value_counts().pipe(\n",
    "        lambda x: x.loc [x > 1]\n",
    "    ).index.tolist()\n",
    ")\n",
    "df_train['Health Score_c'] = dproc.rearrange_cat(\n",
    "    df_train['Health Score_fz'].astype('str').astype('category'), c_type, lambda c, v: 0 if v not in c else v, use_set = True\n",
    ")\n",
    "\n",
    "df_test['Health Score_c'] = dproc.rearrange_cat(\n",
    "    df_test['Health Score_fz'].astype('str').astype('category'), c_type, lambda c, v: 0 if v not in c else v, use_set = True\n",
    ")\n",
    "\n",
    "c_type = pd.CategoricalDtype(\n",
    "    ['Unk'] + df_train['Health Score_fz'].astype('str').value_counts().pipe(\n",
    "        lambda x: x.loc [x > 2]\n",
    "    ).index.tolist()\n",
    ")\n",
    "df_train['Health Score_c2'] = dproc.rearrange_cat(\n",
    "    df_train['Health Score_fz'].astype('str').astype('category'), c_type, lambda c, v: 0 if v not in c else v, use_set = True\n",
    ")\n",
    "\n",
    "df_test['Health Score_c2'] = dproc.rearrange_cat(\n",
    "    df_test['Health Score_fz'].astype('str').astype('category'), c_type, lambda c, v: 0 if v not in c else v, use_set = True\n",
    ")"
   ]
  },
  {
   "cell_type": "code",
   "execution_count": null,
   "id": "10871b5b-6626-4a8b-a3d2-27f24a4e8a7b",
   "metadata": {},
   "outputs": [],
   "source": [
    "from sklearn.model_selection import train_test_split, KFold, ShuffleSplit, StratifiedKFold\n",
    "from sklearn.linear_model import LogisticRegression, LinearRegression\n",
    "from sklearn.metrics import accuracy_score, confusion_matrix, roc_auc_score, mean_squared_error\n",
    "\n",
    "ss = ShuffleSplit(1, random_state=123)\n",
    "skf = StratifiedKFold(5, random_state = 123, shuffle = True)\n",
    "kf = KFold(5, random_state = 123, shuffle = True)\n",
    "\n",
    "df_train['target_2'] =  pd.cut(df_train[target], [-np.inf, 6, np.inf], labels = [0, 1])\n",
    "df_train['target_3'] =  pd.cut(df_train[target], [-np.inf, 6, 7.6, np.inf], labels = [0, 1, 2])\n",
    "df_train['target_5'] =  pd.cut(df_train[target], [-np.inf, 4, 5, 6, 7.6, np.inf], labels = [0, 1, 2, 3, 4])\n",
    "\n",
    "def get_validation_splitter(validation_fraction):\n",
    "    return lambda x: train_test_split(x, test_size=validation_fraction)\n",
    "\n",
    "config = {\n",
    "    'predict_func': lambda m, df, X: pd.Series(m.predict(df[X]), index=df.index),\n",
    "    'score_func': lambda df, prds: -(mean_squared_error(df[target].sort_index(), prds.clip(3.044523, 8.517193).sort_index()) ** 0.5),\n",
    "    'validation_splitter': get_validation_splitter,\n",
    "    'progress_callback': sgml.ProgressCallBack(),\n",
    "    'return_train_scores': False,\n",
    "    'y': target,\n",
    "}\n",
    "\n",
    "config_2 = {\n",
    "    'predict_func': lambda m, df, X: pd.DataFrame(m.predict_proba(df[X]), index=df.index),\n",
    "    'score_func': lambda df, prds: accuracy_score(df['target_3'].sort_index(), prds.idxmax(axis=1).sort_index()),\n",
    "    'validation_splitter': get_validation_splitter,\n",
    "    'progress_callback': sgml.ProgressCallBack(),\n",
    "    'return_train_scores': False,\n",
    "    'y': 'target_3',\n",
    "}\n",
    "\n",
    "config_3 = {\n",
    "    'predict_func': lambda m, df, X: pd.DataFrame(m.predict_proba(df[X]), index=df.index),\n",
    "    'score_func': lambda df, prds: accuracy_score(df['target_5'].sort_index(), prds.idxmax(axis=1).sort_index()),\n",
    "    'validation_splitter': get_validation_splitter,\n",
    "    'progress_callback': sgml.ProgressCallBack(),\n",
    "    'return_train_scores': False,\n",
    "    'y': 'target_5',\n",
    "}\n",
    "\n",
    "config_4 = {\n",
    "    'predict_func': lambda m, df, X: pd.DataFrame(m.predict_proba(df[X]), index=df.index),\n",
    "    'score_func': lambda df, prds: roc_auc_score(df['target_2'].sort_index(), prds.idxmax(axis=1).sort_index()),\n",
    "    'validation_splitter': get_validation_splitter,\n",
    "    'progress_callback': sgml.ProgressCallBack(),\n",
    "    'return_train_scores': False,\n",
    "    'y': 'target_2',\n",
    "}\n",
    "\n",
    "lr_adapter = sgml.SklearnAdapter(LinearRegression)\n",
    "cb_adapter = sgml.CBAdapter(cb.CatBoostRegressor)\n",
    "lgb_adapter =  sgml.LGBMAdapter(lgb.LGBMRegressor)\n",
    "xgb_adapter = sgml.XGBAdapter(xgb.XGBRegressor)\n",
    "nn_adapter = sgnn.NNAdapter(model=sgnn.NNRegressor)\n",
    "\n",
    "cb_adapter_c = sgml.CBAdapter(cb.CatBoostClassifier)\n",
    "lgb_adapter_c =  sgml.LGBMAdapter(lgb.LGBMClassifier)\n",
    "xgb_adapter_c = sgml.XGBAdapter(xgb.XGBClassifier)"
   ]
  },
  {
   "cell_type": "markdown",
   "id": "6b9cf8e3-00f1-4d44-a676-99ba72f5c8cc",
   "metadata": {},
   "source": [
    "# Classification"
   ]
  },
  {
   "cell_type": "markdown",
   "id": "b8d7dd0d-363e-46f7-84c3-97af8198a458",
   "metadata": {},
   "source": [
    "## 3 Class-model"
   ]
  },
  {
   "cell_type": "code",
   "execution_count": null,
   "id": "7fa931be-daf4-4311-a539-9a16fb83e4e7",
   "metadata": {},
   "outputs": [],
   "source": [
    "lgb_c1 = sgml.CVModel.load_or_create('result', 'lgb_c1', kf, config_2, lgb_adapter_c)"
   ]
  },
  {
   "cell_type": "code",
   "execution_count": null,
   "id": "857e70b1-3916-4c57-aced-bcf5105b8570",
   "metadata": {},
   "outputs": [],
   "source": [
    "hparams = {\n",
    "    'model_params': {'n_estimators': 1000, 'num_leaves': 63, 'learning_rate': 0.03},\n",
    "    'X_num': X_num + X_menc + X_imp + X_freq, \n",
    "    'X_cat': X_ord + X_bool + X_comb, \n",
    "    'X_tgt': ['Health Score', 'Annual Income'],\n",
    "    'random_state': 123,\n",
    "    #'validation_fraction': 0.1\n",
    "}\n",
    "#result = lgb_c1.adhoc(df_train, ss, hparams)\n",
    "result = lgb_c1.cv(df_train, hparams)\n",
    "result['valid_scores']"
   ]
  },
  {
   "cell_type": "code",
   "execution_count": null,
   "id": "84a83676-5d78-422e-bd0b-e7dd1cb0357e",
   "metadata": {},
   "outputs": [],
   "source": [
    "lgb_c1.train(df_train)\n",
    "df_train = dproc.join_and_assign(\n",
    "    df_train,\n",
    "    lgb_c1.cv_best_['prd'].rename(columns = lambda x: 't{}'.format(x))\n",
    ")\n",
    "df_test = dproc.join_and_assign(\n",
    "    df_test,\n",
    "    sc.cache_result(\n",
    "        't_test',\n",
    "        lambda : lgb_c1.get_predictor()(df_test).rename(columns = lambda x: 't{}'.format(x)), rerun = 0\n",
    "    )\n",
    ")"
   ]
  },
  {
   "cell_type": "markdown",
   "id": "7f9038e3-36dc-426d-93e6-d36146328a5d",
   "metadata": {},
   "source": [
    "## 5 Class-model"
   ]
  },
  {
   "cell_type": "code",
   "execution_count": null,
   "id": "f91177a9-3ff0-4b1c-940f-35004453d5c3",
   "metadata": {},
   "outputs": [],
   "source": [
    "lgb_c2 = sgml.CVModel.load_or_create('result', 'lgb_c2', skf, config_3, lgb_adapter_c)"
   ]
  },
  {
   "cell_type": "code",
   "execution_count": null,
   "id": "a9d08038-7112-479d-8a8a-23fae535b4e7",
   "metadata": {},
   "outputs": [],
   "source": [
    "hparams = {\n",
    "    'model_params': {'n_estimators': 700, 'num_leaves': 63, 'learning_rate': 0.03},\n",
    "    'X_num': X_num + X_menc + X_imp + X_freq, \n",
    "    'X_cat': X_ord + X_bool + X_comb, \n",
    "    'X_tgt': ['Health Score', 'Annual Income'],\n",
    "    'random_state': 123,\n",
    "    #'validation_fraction': 0.1\n",
    "}\n",
    "#result = lgb_c2.adhoc(df_train, ss, hparams)\n",
    "result = lgb_c2.cv(df_train, hparams)\n",
    "result['valid_scores']"
   ]
  },
  {
   "cell_type": "code",
   "execution_count": null,
   "id": "160eacce-2564-4a18-b678-981fe5f17422",
   "metadata": {},
   "outputs": [],
   "source": [
    "lgb_c2.train(df_train)\n",
    "df_train = dproc.join_and_assign(\n",
    "    df_train,\n",
    "    lgb_c2.cv_best_['prd'].rename(columns = lambda x: 't5_{}'.format(x))\n",
    ")\n",
    "df_test = dproc.join_and_assign(\n",
    "    df_test,\n",
    "    sc.cache_result(\n",
    "        't5_test',\n",
    "        lambda : lgb_c2.get_predictor()(df_test).rename(columns = lambda x: 't5_{}'.format(x)), rerun = 0\n",
    "    )\n",
    ")"
   ]
  },
  {
   "cell_type": "markdown",
   "id": "ab602ab4-f221-48f5-bb09-5fe0f80e8d59",
   "metadata": {},
   "source": [
    "## 2 Class-model"
   ]
  },
  {
   "cell_type": "code",
   "execution_count": null,
   "id": "08733ac7-c9e1-4d1e-9743-8bba7c1b8a59",
   "metadata": {},
   "outputs": [],
   "source": [
    "lgb_c3 = sgml.CVModel.load_or_create('result', 'lgb_c3', skf, config_4, lgb_adapter_c)"
   ]
  },
  {
   "cell_type": "code",
   "execution_count": null,
   "id": "350eba9c-bfa8-486e-a1ad-7911206b5c7a",
   "metadata": {},
   "outputs": [],
   "source": [
    "hparams = {\n",
    "    'model_params': {'n_estimators': 1200, 'num_leaves': 63, 'learning_rate': 0.03},\n",
    "    'X_num': X_num + X_menc + X_imp + X_freq, \n",
    "    'X_cat': X_ord + X_bool + X_comb, \n",
    "    'X_tgt': ['Health Score', 'Annual Income'],\n",
    "    'random_state': 123,\n",
    "    #'validation_fraction': 0.1\n",
    "}\n",
    "#result = lgb_c3.adhoc(df_train, ss, hparams)\n",
    "result = lgb_c3.cv(df_train, hparams)\n",
    "result['valid_scores']"
   ]
  },
  {
   "cell_type": "code",
   "execution_count": null,
   "id": "ade1f907-49b8-496a-8372-a0bf0bc51647",
   "metadata": {},
   "outputs": [],
   "source": [
    "lgb_c3.train(df_train)\n",
    "df_train = dproc.join_and_assign(\n",
    "    df_train,\n",
    "    lgb_c3.cv_best_['prd'].iloc[:, :1].rename(columns = lambda x: 't2_0')\n",
    ")\n",
    "df_test = dproc.join_and_assign(\n",
    "    df_test,\n",
    "    sc.cache_result(\n",
    "        't2_test',\n",
    "        lambda : lgb_c3.get_predictor()(df_test).iloc[:, :1].rename(columns = lambda x: 't2_0'), rerun = 0\n",
    "    )\n",
    ")"
   ]
  },
  {
   "cell_type": "markdown",
   "id": "2adc027d-4a33-4b1e-8ecf-bbf1b85d87b7",
   "metadata": {},
   "source": [
    "## Classification 2"
   ]
  },
  {
   "cell_type": "code",
   "execution_count": null,
   "id": "22341bab-a79b-4efb-8040-0bd499cdf599",
   "metadata": {},
   "outputs": [],
   "source": [
    "lgb2_c = sgml.CVModel.load_or_create('result', 'lgb2_c', kf, config_2, lgb_adapter_c)\n",
    "hparams = {\n",
    "    'model_params': {'n_estimators': 1000, 'num_leaves': 63, 'learning_rate': 0.03},\n",
    "    'X_num': X_num + X_imp2 + X_freq, \n",
    "    'X_cat': X_ord + X_bool + X_comb, \n",
    "    'X_tgt': ['Health Score', 'Annual Income', 'Credit Score'],\n",
    "    'random_state': 123,\n",
    "}\n",
    "result = lgb2_c.cv(df_train, hparams)\n",
    "lgb2_c.train(df_train)\n",
    "df_train = dproc.join_and_assign(\n",
    "    df_train,\n",
    "    lgb2_c.cv_best_['prd'].rename(columns = lambda x: 't{}_2'.format(x))\n",
    ")\n",
    "df_test = dproc.join_and_assign(\n",
    "    df_test,\n",
    "    sc.cache_result(\n",
    "        't_test2',\n",
    "        lambda : lgb2_c.get_predictor()(df_test).rename(columns = lambda x: 't{}_2'.format(x)), rerun = 0\n",
    "    )\n",
    ")"
   ]
  },
  {
   "cell_type": "code",
   "execution_count": null,
   "id": "c6ec3898-fb52-4a53-aa9a-5678b7ee1c40",
   "metadata": {},
   "outputs": [],
   "source": [
    "lgb2_c2 = sgml.CVModel.load_or_create('result', 'lgb2_c2', skf, config_3, lgb_adapter_c)\n",
    "hparams = {\n",
    "    'model_params': {'n_estimators': 700, 'num_leaves': 63, 'learning_rate': 0.03},\n",
    "    'X_num': X_num + X_imp2 + X_freq, \n",
    "    'X_cat': X_ord + X_bool + X_comb, \n",
    "    'X_tgt': ['Health Score', 'Annual Income', 'Credit Score'],\n",
    "    'random_state': 123,\n",
    "}\n",
    "result = lgb2_c2.cv(df_train, hparams)\n",
    "lgb2_c2.train(df_train)\n",
    "df_train = dproc.join_and_assign(\n",
    "    df_train,\n",
    "    lgb2_c2.cv_best_['prd'].rename(columns = lambda x: 't5_{}_2'.format(x))\n",
    ")\n",
    "df_test = dproc.join_and_assign(\n",
    "    df_test,\n",
    "    sc.cache_result(\n",
    "        't5_test2',\n",
    "        lambda : lgb2_c2.get_predictor()(df_test).rename(columns = lambda x: 't5_{}_2'.format(x)), rerun = 0\n",
    "    )\n",
    ")"
   ]
  },
  {
   "cell_type": "code",
   "execution_count": null,
   "id": "620ef4a3-5fae-46ed-9840-03eaf7d775ab",
   "metadata": {},
   "outputs": [],
   "source": [
    "lgb2_c3 = sgml.CVModel.load_or_create('result', 'lgb2_c3', skf, config_4, lgb_adapter_c)\n",
    "hparams = {\n",
    "    'model_params': {'n_estimators': 1200, 'num_leaves': 63, 'learning_rate': 0.03},\n",
    "    'X_num': X_num  + X_imp2 + X_freq, \n",
    "    'X_cat': X_ord + X_bool + X_comb, \n",
    "    'X_tgt': ['Health Score', 'Annual Income', 'Credit Score'],\n",
    "    'random_state': 123,\n",
    "}\n",
    "result = lgb2_c3.cv(df_train, hparams)\n",
    "lgb2_c3.train(df_train)\n",
    "df_train = dproc.join_and_assign(\n",
    "    df_train,\n",
    "    lgb2_c3.cv_best_['prd'].iloc[:, :1].rename(columns = lambda x: 't2_0_2')\n",
    ")\n",
    "df_test = dproc.join_and_assign(\n",
    "    df_test,\n",
    "    sc.cache_result(\n",
    "        't2_test2',\n",
    "        lambda : lgb2_c3.get_predictor()(df_test).iloc[:, :1].rename(columns = lambda x: 't2_0_2'), rerun = 0\n",
    "    )\n",
    ")"
   ]
  },
  {
   "cell_type": "code",
   "execution_count": null,
   "id": "e4a9ad23-86cb-4532-8c17-12f8fcd5dbc2",
   "metadata": {},
   "outputs": [],
   "source": [
    "cb_c3 = sgml.CVModel.load_or_create('result', 'cb_c3', skf, config_4, cb_adapter_c)\n",
    "hparams = {\n",
    "    'model_params': {'n_estimators': 600, 'max_depth': 10, 'learning_rate': 0.04},\n",
    "    'X_tgt': ['Annual Income', 'Credit Score'],\n",
    "    'X_num': X_num + X_freq + X_imp2 , \n",
    "    'X_cat': X_ord + X_bool + X_comb + ['Health Score_c2'], \n",
    "    'random_state': 123,\n",
    "}\n",
    "result = cb_c3.cv(df_train, hparams, task_type='GPU')\n",
    "cb_c3.train(df_train, task_type='GPU')\n",
    "df_train = dproc.join_and_assign(\n",
    "    df_train,\n",
    "    cb_c3.cv_best_['prd'].iloc[:, :1].rename(columns = lambda x: 't2_0_2c')\n",
    ")\n",
    "df_test = dproc.join_and_assign(\n",
    "    df_test,\n",
    "    sc.cache_result(\n",
    "        't2_test2c',\n",
    "        lambda : cb_c3.get_predictor()(df_test).iloc[:, :1].rename(columns = lambda x: 't2_0_2c'), rerun = 0\n",
    "    )\n",
    ")"
   ]
  },
  {
   "cell_type": "markdown",
   "id": "2f2d691d-2ade-4dbf-8fca-b7fbe77fc522",
   "metadata": {},
   "source": [
    "# Main Model"
   ]
  },
  {
   "cell_type": "code",
   "execution_count": null,
   "id": "91c65af9-0bb7-42a6-9f35-baad1968a974",
   "metadata": {},
   "outputs": [],
   "source": [
    "X_clf = ['t0', 't1', 't2', 't5_0', 't5_1', 't5_2', 't5_3', 't5_4', 't2_0']"
   ]
  },
  {
   "cell_type": "code",
   "execution_count": null,
   "id": "7f7b1e73-3263-48ee-a92c-bd65ad5d360f",
   "metadata": {},
   "outputs": [],
   "source": [
    "X_clf2 = ['{}_2'.format(i) for i in X_clf]"
   ]
  },
  {
   "cell_type": "code",
   "execution_count": null,
   "id": "f25414b9-b14b-45c7-86b6-7a8e6a4c7aa6",
   "metadata": {},
   "outputs": [],
   "source": [
    "X_clf2c = ['t2_0_2c']"
   ]
  },
  {
   "cell_type": "markdown",
   "id": "287dced3-ccc6-4dc5-af30-35534e0da3ab",
   "metadata": {},
   "source": [
    "## LR"
   ]
  },
  {
   "cell_type": "code",
   "execution_count": null,
   "id": "28707b96-b772-4513-978d-8556fd378f41",
   "metadata": {},
   "outputs": [],
   "source": [
    "lr = sgml.CVModel.load_or_create('result', 'lr', kf, config, lr_adapter)"
   ]
  },
  {
   "cell_type": "code",
   "execution_count": null,
   "id": "75fe892f-fa2b-4f26-bd37-6804f0e1c703",
   "metadata": {},
   "outputs": [],
   "source": [
    "hparams = {\n",
    "    'X_mm': ['Previous Claims_f', 'Credit Score_f', 'Annual Income_fl', 'Annual Income_Freqz'],\n",
    "    'X_num': ['Year_2019', 'Annual Income_isna', 'Credit Score_isna', 'Health Score_isna', 'Health Score_50'] + X_menc + ['t0', 't1', 't5_0', 't5_1', 't5_2', 't5_3', 't2_0', 't2_0_2c'],\n",
    "    'X_ohe': ['Marital_Feedback'], 'ohe': {'drop': 'first'},\n",
    "}\n",
    "result = lr.cv(df_train, hparams)\n",
    "result['valid_scores']"
   ]
  },
  {
   "cell_type": "markdown",
   "id": "88de6078-116a-49bf-aae0-cd904feb7b55",
   "metadata": {},
   "source": [
    "## LR2"
   ]
  },
  {
   "cell_type": "code",
   "execution_count": null,
   "id": "b091fd8e-1738-4546-a827-721a34f788c1",
   "metadata": {},
   "outputs": [],
   "source": [
    "lr2 = sgml.CVModel.load_or_create('result', 'lr2', kf, config, lr_adapter)\n",
    "hparams = {\n",
    "    'X_mm': ['Previous Claims_f2', 'Credit Score_f2', 'Annual Income_fl2', 'Annual Income_Freqz'],\n",
    "    'X_num': ['Year_2019', 'Annual Income_isna', 'Credit Score_isna', 'Health Score_isna', 'Health Score_502'] + X_menc + ['t0_2', 't1_2', 't5_0_2', 't5_1_2', 't5_2_2', 't5_3_2', 't2_0_2', 't2_0_2c'],\n",
    "    'X_ohe': ['Marital_Feedback'], 'ohe': {'drop': 'first'},\n",
    "}\n",
    "result = lr2.cv(df_train, hparams)\n",
    "result['valid_scores']"
   ]
  },
  {
   "cell_type": "markdown",
   "id": "9e6e206f-1637-44cf-a6a2-02de1c86613e",
   "metadata": {},
   "source": [
    "## LGB1"
   ]
  },
  {
   "cell_type": "code",
   "execution_count": null,
   "id": "90a77dcf-59b7-4ab5-b33f-6ba9f5829b8e",
   "metadata": {},
   "outputs": [],
   "source": [
    "lgb1 = sgml.CVModel.load_or_create('result', 'lgb1', kf, config, lgb_adapter)"
   ]
  },
  {
   "cell_type": "code",
   "execution_count": null,
   "id": "17f77f63-21ed-4e1d-a859-4bccf108b31b",
   "metadata": {},
   "outputs": [],
   "source": [
    "hparams = {\n",
    "    'model_params': {'n_estimators': 1000, 'num_leaves': 127, 'learning_rate': 0.007},\n",
    "    'X_tgt': ['Health Score', 'Annual Income', 'Credit Score'], 'tgt': {'target_type': 'continuous'},\n",
    "    'X_num': X_num + X_freq + X_imp2 + X_clf2 + ['t2_0_2c'], \n",
    "    'X_cat': X_ord + X_bool + X_comb, \n",
    "    'random_state': 123,\n",
    "    #'validation_fraction': 0.1\n",
    "}\n",
    "#result = lgb1.adhoc(df_train, ss, hparams)\n",
    "result = lgb1.cv(df_train, hparams)\n",
    "result['valid_scores']"
   ]
  },
  {
   "cell_type": "markdown",
   "id": "577d4609-a6bc-49a7-b97b-e4a84a8ef373",
   "metadata": {},
   "source": [
    "## LGB2"
   ]
  },
  {
   "cell_type": "code",
   "execution_count": null,
   "id": "5bc816ea-e000-4eb2-a8b8-63606e266242",
   "metadata": {},
   "outputs": [],
   "source": [
    "lgb2 = sgml.CVModel.load_or_create('result', 'lgb2', kf, config, lgb_adapter)"
   ]
  },
  {
   "cell_type": "code",
   "execution_count": null,
   "id": "0fc55278-6bc9-44e4-96c7-5306802866e6",
   "metadata": {},
   "outputs": [],
   "source": [
    "hparams = {\n",
    "    'model_params': {'n_estimators': 1000, 'num_leaves': 63, 'learning_rate': 0.007},\n",
    "    'X_num': X_num + X_freq + X_imp2 + X_clf2 + ['t2_0_2c'],\n",
    "    'X_cat': X_ord + X_bool + X_comb, \n",
    "    'X_tgt': ['Health Score', 'Annual Income', 'Credit Score'], 'tgt': {'target_type': 'continuous'},\n",
    "    'random_state': 123,\n",
    "    #'validation_fraction': 0.1\n",
    "}\n",
    "#result = lgb2.adhoc(df_train, ss, hparams)\n",
    "result = lgb2.cv(df_train, hparams)\n",
    "result['valid_scores']"
   ]
  },
  {
   "cell_type": "markdown",
   "id": "216f534b-7b22-498d-89af-57a7a6b4337d",
   "metadata": {},
   "source": [
    "## CB1"
   ]
  },
  {
   "cell_type": "code",
   "execution_count": null,
   "id": "60de7950-b218-421a-8950-e309e867a9f9",
   "metadata": {},
   "outputs": [],
   "source": [
    "cb1 = sgml.CVModel.load_or_create('result', 'cb1', kf, config, cb_adapter)"
   ]
  },
  {
   "cell_type": "code",
   "execution_count": null,
   "id": "6ad17f6b-1485-4721-8ec6-a24b494ac75e",
   "metadata": {},
   "outputs": [],
   "source": [
    "hparams = {\n",
    "    'model_params': {'n_estimators': 600, 'max_depth': 9, 'learning_rate': 0.04},\n",
    "    'X_tgt': ['Health Score', 'Annual Income'], 'tgt': {'target_type': 'continuous'},\n",
    "    'X_num': X_num + X_freq + X_menc + X_imp + X_clf, \n",
    "    'X_cat': X_ord + X_bool + X_comb, \n",
    "    'random_state': 123,\n",
    "    #'validation_fraction': 0.1\n",
    "}\n",
    "#result = cb1.adhoc(df_train, ss, hparams, task_type='GPU')\n",
    "result = cb1.cv(df_train, hparams, task_type='GPU')\n",
    "result['valid_scores']"
   ]
  },
  {
   "cell_type": "markdown",
   "id": "dec9d1d7-a8c0-4a1d-bc49-9281824a6e69",
   "metadata": {},
   "source": [
    "## CB2"
   ]
  },
  {
   "cell_type": "code",
   "execution_count": null,
   "id": "cf34d1b9-6aab-4274-91e8-9886746c27f7",
   "metadata": {},
   "outputs": [],
   "source": [
    "cb2 = sgml.CVModel.load_or_create('result', 'cb2', kf, config, cb_adapter)"
   ]
  },
  {
   "cell_type": "code",
   "execution_count": null,
   "id": "87188193-04ff-421e-80c6-55d64dc9b41e",
   "metadata": {},
   "outputs": [],
   "source": [
    "hparams = {\n",
    "    'model_params': {'n_estimators': 600, 'max_depth': 10, 'learning_rate': 0.04},\n",
    "    'X_tgt': ['Health Score', 'Annual Income'], 'tgt': {'target_type': 'continuous'},\n",
    "    'X_num': X_num + X_freq + X_menc + X_imp + X_clf, \n",
    "    'X_cat': X_ord + X_bool + X_comb, \n",
    "    'random_state': 123,\n",
    "    #'validation_fraction': 0.1\n",
    "}\n",
    "#result = cb2.adhoc(df_train, ss, hparams, task_type='GPU')\n",
    "result = cb2.cv(df_train, hparams, task_type='GPU')\n",
    "result['valid_scores']"
   ]
  },
  {
   "cell_type": "markdown",
   "id": "fb4e95a2-0698-444b-bec3-7d4a6d413d6d",
   "metadata": {},
   "source": [
    "## CB3"
   ]
  },
  {
   "cell_type": "code",
   "execution_count": null,
   "id": "ab529138-6927-419e-8afa-92999594b334",
   "metadata": {},
   "outputs": [],
   "source": [
    "cb3 = sgml.CVModel.load_or_create('result', 'cb3', kf, config, cb_adapter)"
   ]
  },
  {
   "cell_type": "code",
   "execution_count": null,
   "id": "30b28d72-5d40-492b-b97d-7b0d05676cfc",
   "metadata": {},
   "outputs": [],
   "source": [
    "hparams = {\n",
    "    'model_params': {'n_estimators': 600, 'max_depth': 10, 'learning_rate': 0.04},\n",
    "    'X_tgt': ['Annual Income', 'Credit Score'], 'tgt': {'target_type': 'continuous'},\n",
    "    'X_num': X_num + X_freq + X_imp2 + X_clf2 + ['t2_0_2c'], \n",
    "    'X_cat': X_ord + X_bool + X_comb + ['Health Score_c'], \n",
    "    'random_state': 123,\n",
    "    #'validation_fraction': 0.1\n",
    "}\n",
    "#result = cb3.adhoc(df_train, ss, hparams, task_type='GPU')\n",
    "result = cb3.cv(df_train, hparams, task_type='GPU')\n",
    "result['valid_scores']"
   ]
  },
  {
   "cell_type": "markdown",
   "id": "41e65db6-62bd-4c3f-a4a5-0b63903f30f2",
   "metadata": {},
   "source": [
    "## CB4"
   ]
  },
  {
   "cell_type": "code",
   "execution_count": null,
   "id": "0f6fee1f-10e7-4ab1-aa34-69318a27d6b5",
   "metadata": {},
   "outputs": [],
   "source": [
    "cb4 = sgml.CVModel.load_or_create('result', 'cb4', kf, config, cb_adapter)"
   ]
  },
  {
   "cell_type": "code",
   "execution_count": null,
   "id": "ce8632c7-b65f-4389-a2ab-63a017b71f58",
   "metadata": {},
   "outputs": [],
   "source": [
    "hparams = {\n",
    "    'model_params': {'n_estimators': 600, 'max_depth': 10, 'learning_rate': 0.04},\n",
    "    'X_tgt': ['Annual Income', 'Credit Score'], 'tgt': {'target_type': 'continuous'},\n",
    "    'X_num': X_num + X_freq + X_imp2 + X_clf2 + ['t2_0_2c'], \n",
    "    'X_cat': X_ord + X_bool + X_comb + ['Health Score_c2'], \n",
    "    'random_state': 123,\n",
    "    #'validation_fraction': 0.1\n",
    "}\n",
    "#result = cb4.adhoc(df_train, ss, hparams, task_type='GPU')\n",
    "result = cb4.cv(df_train, hparams, task_type='GPU')\n",
    "result['valid_scores']"
   ]
  },
  {
   "cell_type": "markdown",
   "id": "8d560e7d-167b-4854-8a9b-8902db6149a0",
   "metadata": {},
   "source": [
    "## XGB1"
   ]
  },
  {
   "cell_type": "code",
   "execution_count": null,
   "id": "11095603-8fee-4ed6-a6b7-1df19fbf72ed",
   "metadata": {},
   "outputs": [],
   "source": [
    "xgb1 = sgml.CVModel.load_or_create('result', 'xgb1', kf, config, xgb_adapter)"
   ]
  },
  {
   "cell_type": "code",
   "execution_count": null,
   "id": "26a5a9cc-da5b-4058-a005-bc6d02b93db7",
   "metadata": {},
   "outputs": [],
   "source": [
    "hparams = {\n",
    "    'model_params': {'n_estimators': 1100, 'max_depth': 5, 'learning_rate': 0.01},\n",
    "    'X_tgt': ['Health Score', 'Annual Income', 'Credit Score'], 'tgt': {'target_type': 'continuous'},\n",
    "    'X_num': X_num + X_freq + X_imp2 + X_clf2 + ['t2_0_2c'], \n",
    "    'X_cat': X_ord + X_bool + X_comb, \n",
    "    'random_state': 123,\n",
    "    #'validation_fraction': 0.1\n",
    "}\n",
    "#result = xgb1.adhoc(df_train, ss, hparams, device='cuda')\n",
    "result = xgb1.cv(df_train, hparams, device='cuda')\n",
    "result['valid_scores']"
   ]
  },
  {
   "cell_type": "markdown",
   "id": "ab40e9e0-6118-4050-bb8f-4c6db1a36a8e",
   "metadata": {},
   "source": [
    "## XGB2"
   ]
  },
  {
   "cell_type": "code",
   "execution_count": null,
   "id": "c2d3702b-933b-4fc2-9ff9-21af97d0f5cb",
   "metadata": {},
   "outputs": [],
   "source": [
    "xgb2 = sgml.CVModel.load_or_create('result', 'xgb2', kf, config, xgb_adapter)"
   ]
  },
  {
   "cell_type": "code",
   "execution_count": null,
   "id": "9683da02-eb74-4aac-b7bd-793b85fa5495",
   "metadata": {},
   "outputs": [],
   "source": [
    "hparams = {\n",
    "    'model_params': {'n_estimators': 1300, 'max_depth': 4, 'learning_rate': 0.02},\n",
    "    'X_tgt': ['Health Score', 'Annual Income', 'Credit Score'], 'tgt': {'target_type': 'continuous'},\n",
    "    'X_num': X_num + X_freq + X_imp2 + X_clf2 + ['t2_0_2c'], \n",
    "    'X_cat': X_ord + X_bool + X_comb, \n",
    "    'random_state': 123,\n",
    "    #'validation_fraction': 0.1\n",
    "}\n",
    "#result = xgb2.adhoc(df_train, ss, hparams, device='cuda')\n",
    "result = xgb2.cv(df_train, hparams, device='cuda')\n",
    "result['valid_scores']"
   ]
  },
  {
   "cell_type": "markdown",
   "id": "fb00d57c-7f03-460b-b012-b46e29dd1b5b",
   "metadata": {},
   "source": [
    "## NN1"
   ]
  },
  {
   "cell_type": "code",
   "execution_count": null,
   "id": "fd2d281d-8cc1-464b-a262-22f8fdb0a6d3",
   "metadata": {},
   "outputs": [],
   "source": [
    "nn1 = sgml.CVModel.load_or_create('result', 'nn1', kf, config, nn_adapter)"
   ]
  },
  {
   "cell_type": "code",
   "execution_count": null,
   "id": "73f85742-5be7-45f0-a27a-380ad82a6ef5",
   "metadata": {},
   "outputs": [],
   "source": [
    "def nn_cat_param(df, name, size):\n",
    "    return name, len(df[name].cat.categories), size\n",
    "\n",
    "X_cat = ['Marital_Feedback']\n",
    "X_nn_emb = [\n",
    "    ('Marital_Feedback', 3)\n",
    "]\n",
    "\n",
    "nn_params = {\n",
    "    'embedding':[(1, c, es, 0, 0) for _, c, es in [nn_cat_param(df_train, v, n) for v, n in X_nn_emb]], \n",
    "    'config':  [\n",
    "        {'unit': 16, 'activation': 'relu', 'batch_norm': False},\n",
    "    ]\n",
    "}\n",
    "\n",
    "hparams = {\n",
    "    'model_params': {\n",
    "        'model_params': nn_params,\n",
    "        'epochs': 30,\n",
    "        'optimizer': ('Adam', {'learning_rate': 0.001}),\n",
    "        'batch_size': 2048, 'shuffle_size': 102400,\n",
    "        'early_stopping': None, 'reduce_lr_on_plateau': None, 'lr_scheduler': None\n",
    "    }, \n",
    "    'X_cat': [i for i, _ in X_nn_emb],\n",
    "    'X_tgt': ['Health Score', 'Annual Income'], 'tgt': {'target_type': 'continuous'},\n",
    "    'X_mm': ['Previous Claims_f', 'Credit Score_f', 'Annual Income_fl', 'Annual Income_Freqz'],\n",
    "    'X_num': X_bool + X_menc + ['t0', 't1', 't5_0', 't5_1', 't5_2', 't5_3', 't2_0'],\n",
    "    'X_ohe': X_ord, \n",
    "    'ohe': {'drop': 'first', 'min_frequency': 50, 'sparse_output': False},\n",
    "    #'validation_fraction': 0.1\n",
    "}\n",
    "\n",
    "##nn1.adhoc(df_train, ss, hparams)\n",
    "result = nn1.cv(df_train, hparams)\n",
    "result['valid_scores']"
   ]
  },
  {
   "cell_type": "markdown",
   "id": "b17d34e1-acbc-40ae-b24a-424794afc42a",
   "metadata": {},
   "source": [
    "# Ensemble"
   ]
  },
  {
   "cell_type": "markdown",
   "id": "08eb00bd-e56d-4a68-bc5f-d2bf9bc39265",
   "metadata": {},
   "source": [
    "## Stk1"
   ]
  },
  {
   "cell_type": "code",
   "execution_count": null,
   "id": "264234b8-cc3b-464b-8426-348b46b0d8aa",
   "metadata": {},
   "outputs": [],
   "source": [
    "models = [lgb1, xgb1, xgb2, lgb2, cb3, cb4]\n",
    "pd.Series({i.name: i.cv_best_['score'] for i in models}).rename('score').to_frame().T.sort_values('score', axis=1)"
   ]
  },
  {
   "cell_type": "code",
   "execution_count": null,
   "id": "f291e84a-09a2-4958-b066-09a034949dc1",
   "metadata": {},
   "outputs": [],
   "source": [
    "df_stk = sgml.stack_cv(models, df_train[target])\n",
    "df_stk.corr()"
   ]
  },
  {
   "cell_type": "code",
   "execution_count": null,
   "id": "3fd0b2d9-6c3c-4ad3-8495-c07f12f48125",
   "metadata": {},
   "outputs": [],
   "source": [
    "lr_stk = sgml.CVModel.load_or_create('result', 'lr_stk', kf, config, lr_adapter)"
   ]
  },
  {
   "cell_type": "code",
   "execution_count": null,
   "id": "98a94193-4494-4788-a2e9-42005e8e92aa",
   "metadata": {},
   "outputs": [],
   "source": [
    "result = lr_stk.cv(df_stk, {\n",
    "    'model_params': {},\n",
    "    'X_num': df_stk.columns[:-1].tolist()\n",
    "})\n",
    "np.mean(result['valid_scores'])"
   ]
  },
  {
   "cell_type": "code",
   "execution_count": null,
   "id": "2f944446-4bbc-45be-8da6-a6fa1be35301",
   "metadata": {},
   "outputs": [],
   "source": [
    "for i in models:\n",
    "    if i.name.startswith('cb'):\n",
    "        i.train(df_train, task_type='GPU')\n",
    "    elif i.name.startswith('xgb'):\n",
    "        i.train(df_train, device='cuda')\n",
    "    else:\n",
    "        i.train(df_train)\n",
    "lr_stk.train(df_stk)"
   ]
  },
  {
   "cell_type": "code",
   "execution_count": null,
   "id": "32f2662b-d6bb-4e1c-a825-90add68c0cab",
   "metadata": {},
   "outputs": [],
   "source": [
    "df_vt = pd.concat([\n",
    "    i.get_predictor()(df_test).rename(i.name)\n",
    "    for i in models\n",
    "], axis=1)"
   ]
  },
  {
   "cell_type": "code",
   "execution_count": null,
   "id": "b476b440-7b47-43e7-9eed-d260e2282b0a",
   "metadata": {},
   "outputs": [],
   "source": [
    "s_prd = (np.exp(\n",
    "    lr_stk.get_predictor()(df_vt)\n",
    ") - 1).clip(20, 5000).rename('Premium Amount')"
   ]
  },
  {
   "cell_type": "code",
   "execution_count": null,
   "id": "17f83be4-6ebe-4a26-8fa8-4af344cca0e7",
   "metadata": {},
   "outputs": [],
   "source": [
    "s_prd.to_frame().to_csv(os.path.join('result', 'submission6.csv'))"
   ]
  },
  {
   "cell_type": "code",
   "execution_count": null,
   "id": "ab064d20-1d8b-4658-8421-57a120b40c6f",
   "metadata": {},
   "outputs": [],
   "source": [
    "!head result/submission6.csv"
   ]
  },
  {
   "cell_type": "code",
   "execution_count": null,
   "id": "c63d0fab-2d53-4e0c-b9b8-7409857bd66e",
   "metadata": {},
   "outputs": [],
   "source": [
    "!kaggle competitions submit -c playground-series-s4e12 -f result/submission6.csv -m \"6\""
   ]
  },
  {
   "cell_type": "code",
   "execution_count": null,
   "id": "ef38a4c4-69ab-40e2-80f8-575767f66bc7",
   "metadata": {},
   "outputs": [],
   "source": []
  }
 ],
 "metadata": {
  "kernelspec": {
   "display_name": "Python 3 (ipykernel)",
   "language": "python",
   "name": "python3"
  },
  "language_info": {
   "codemirror_mode": {
    "name": "ipython",
    "version": 3
   },
   "file_extension": ".py",
   "mimetype": "text/x-python",
   "name": "python",
   "nbconvert_exporter": "python",
   "pygments_lexer": "ipython3",
   "version": "3.12.3"
  }
 },
 "nbformat": 4,
 "nbformat_minor": 5
}
