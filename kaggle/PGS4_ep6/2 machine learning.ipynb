{
 "cells": [
  {
   "cell_type": "code",
   "execution_count": 1,
   "id": "0e5cb0b9-c7bf-4a75-acc9-a3fb12060853",
   "metadata": {},
   "outputs": [
    {
     "name": "stdout",
     "output_type": "stream",
     "text": [
      "pandas 2.2.2\n",
      "numpy 1.26.4\n",
      "lightgbm 4.3.0\n",
      "xgboost 2.1.2\n",
      "catboost 1.2.5\n"
     ]
    }
   ],
   "source": [
    "import sys, os, re\n",
    "\n",
    "import pandas as pd\n",
    "import numpy as np\n",
    "\n",
    "import lightgbm as lgb\n",
    "import xgboost as xgb\n",
    "import catboost as cb\n",
    "\n",
    "import dproc, sgml, sgutil\n",
    "\n",
    "for i in [pd, np, lgb, xgb, cb]:\n",
    "    try:\n",
    "        print(i.__name__, i.__version__)\n",
    "    except:\n",
    "        pass"
   ]
  },
  {
   "cell_type": "code",
   "execution_count": 2,
   "id": "477e6b90-b207-4d08-90ea-cec6ea10a034",
   "metadata": {},
   "outputs": [
    {
     "data": {
      "text/plain": [
       "[]"
      ]
     },
     "execution_count": 2,
     "metadata": {},
     "output_type": "execute_result"
    }
   ],
   "source": [
    "data_path = 'data'\n",
    "files = {\n",
    "    k: os.path.join(p, f)\n",
    "    for k, p, f in [\n",
    "        ('train', data_path, 'train.csv'),\n",
    "        ('test', data_path, 'test.csv'),\n",
    "        ('org', data_path, 'data.csv'),\n",
    "        ('train_parquet', data_path, 'train.parquet'),\n",
    "        ('org_parquet', data_path, 'org.parquet'),\n",
    "        ('test_parquet', data_path, 'test.parquet'),\n",
    "        ('var_pkl', data_path, 'var.pkl')\n",
    "    ]\n",
    "}\n",
    "\n",
    "df_train = pd.read_parquet(files['train_parquet'])\n",
    "df_test = pd.read_parquet(files['test_parquet'])\n",
    "\n",
    "target = 'Target'\n",
    "sc = sgutil.SGCache('img', 'result')\n",
    "pd_vars = dproc.PD_Vars.load(os.path.join(data_path, 'vars'))\n",
    "df_train, failed = pd_vars.procs_all(df_train)\n",
    "df_org = pd.read_parquet(files['org_parquet'])\n",
    "df_org = dproc.join_and_assign(df_org, pd_vars.procs_all(df_org)[0])\n",
    "df_org['Application order_C'] = df_org['Application order_C'].astype('int')"
   ]
  },
  {
   "cell_type": "code",
   "execution_count": 150,
   "id": "8530ef73-15aa-4440-8aa8-086d7dd3c057",
   "metadata": {},
   "outputs": [],
   "source": []
  },
  {
   "cell_type": "markdown",
   "id": "103f577b-ec79-43b6-9406-956bcadcb873",
   "metadata": {},
   "source": [
    "# Config"
   ]
  },
  {
   "cell_type": "code",
   "execution_count": 196,
   "id": "fd1d829a-1038-4efd-a86e-082dd4f42e59",
   "metadata": {},
   "outputs": [],
   "source": [
    "from sklearn.metrics import accuracy_score\n",
    "from sklearn.model_selection import train_test_split\n",
    "from sklearn.linear_model import LogisticRegression\n",
    "from sklearn.model_selection import StratifiedShuffleSplit, StratifiedKFold\n",
    "import sgml, sgnn\n",
    "\n",
    "skf = StratifiedKFold(5, shuffle=True, random_state=123)\n",
    "ss = StratifiedShuffleSplit(n_splits=1, train_size=0.8, random_state=123)\n",
    "target_values = np.sort(df_train[target].unique())\n",
    "\n",
    "def get_validation_splitter(validation_frac):\n",
    "    return lambda x: train_test_split(x, test_size=validation_frac, stratify=x[target], random_state=123)\n",
    "\n",
    "config = {\n",
    "    'predict_func': lambda m, df, X: pd.DataFrame(m.predict_proba(df[X]), index=df.index, columns=target_values),\n",
    "    'score_func': lambda df, prd: accuracy_score(df[target], prd.idxmax(axis=1)),\n",
    "    'progress_callback': sgml.ProgressCallBack(),\n",
    "    'validation_splitter': get_validation_splitter, 'return_train_scores': False,\n",
    "    'train_data_proc': lambda x: pd.concat([x, df_org], axis=0),\n",
    "    'y': target\n",
    "}\n",
    "\n",
    "config2 = {\n",
    "    'predict_func': lambda m, df, X: pd.DataFrame(m.predict_proba(df[X]), index=df.index, columns=target_values),\n",
    "    'score_func': lambda df, prd: accuracy_score(df[target], prd.idxmax(axis=1)),\n",
    "    'progress_callback': sgml.ProgressCallBack(),\n",
    "    'validation_splitter': get_validation_splitter, 'return_train_scores': False,\n",
    "    'y': target\n",
    "}\n",
    "\n",
    "lgb_adapter = sgml.LGBMAdapter(lgb.LGBMClassifier)\n",
    "xgb_adapter = sgml.XGBAdapter(xgb.XGBClassifier, lambda _, x: x.map({k: v for v, k in enumerate(target_values)}))\n",
    "cb_adapter = sgml.CBAdapter(cb.CatBoostClassifier)\n",
    "nn_adapter = sgnn.NNAdapter(sgnn.NNClassifier)\n",
    "lr_adapter = sgml.SklearnAdapter(LogisticRegression)"
   ]
  },
  {
   "cell_type": "code",
   "execution_count": 4,
   "id": "5874ae3f-6972-4758-875d-120d73383c9d",
   "metadata": {},
   "outputs": [],
   "source": [
    "X_num = [\n",
    "    'Admission grade', 'Age at enrollment', 'Application order' ,\n",
    "    'Curricular units 1st sem (approved)', 'Curricular units 1st sem (credited)',\n",
    "    'Curricular units 1st sem (enrolled)', 'Curricular units 1st sem (evaluations)',\n",
    "    'Curricular units 1st sem (grade)', 'Curricular units 1st sem (without evaluations)',\n",
    "    'Curricular units 2nd sem (approved)', 'Curricular units 2nd sem (credited)',\n",
    "    'Curricular units 2nd sem (enrolled)', 'Curricular units 2nd sem (evaluations)',\n",
    "    'Curricular units 2nd sem (grade)', 'Curricular units 2nd sem (without evaluations)',\n",
    "    'GDP', 'Inflation rate', 'Previous qualification (grade)', 'Unemployment rate',\n",
    "    'not_approved_1st', 'not_approved_2nd'\n",
    "]\n",
    "X_nom = [\n",
    "    'Application mode', 'Course', \"Father's occupation\", \"Father's qualification\", \"Mother's occupation\", \"Mother's qualification\", \n",
    "    'Marital status',  'Nacionality', 'Previous qualification'\n",
    "]\n",
    "X_bool = [\n",
    "    'Daytime/evening attendance', 'Debtor', 'Displaced', 'Educational special needs', 'Gender', 'International', 'Scholarship holder', 'Tuition fees up to date'\n",
    "]"
   ]
  },
  {
   "cell_type": "code",
   "execution_count": 5,
   "id": "7d16e357-0c78-41be-a8c9-bdc3ae22d622",
   "metadata": {},
   "outputs": [
    {
     "data": {
      "text/plain": [
       "Index(['Application mode_R', 'Application order_C', 'Course_R',\n",
       "       'Father's occupation_R', 'Father's qualification_R', 'Marital status_R',\n",
       "       'Mother's occupation_R', 'Mother's qualification_R', 'Nacionality_R',\n",
       "       'Previous qualification_R'],\n",
       "      dtype='object')"
      ]
     },
     "metadata": {},
     "output_type": "display_data"
    }
   ],
   "source": [
    "X_cat_r = pd_vars.df_var.query(\"src == 'cat_procs'\").index.sort_values()\n",
    "display(X_cat_r)\n",
    "X_cat_r = X_cat_r.tolist()"
   ]
  },
  {
   "cell_type": "markdown",
   "id": "fad89e2d-54ae-49a8-a517-ce9e4c7828a4",
   "metadata": {},
   "source": [
    "# LR"
   ]
  },
  {
   "cell_type": "code",
   "execution_count": 152,
   "id": "445d9739-4392-4100-8876-4131a85a24ea",
   "metadata": {},
   "outputs": [],
   "source": [
    "lr = sgml.CVModel.load_or_create('model', 'lr', skf, config, lr_adapter)"
   ]
  },
  {
   "cell_type": "code",
   "execution_count": 153,
   "id": "c9f778c2-f331-48bd-85f0-f90a442298e5",
   "metadata": {},
   "outputs": [
    {
     "data": {
      "application/vnd.jupyter.widget-view+json": {
       "model_id": "046581be8a824c43a4e971e916df858f",
       "version_major": 2,
       "version_minor": 0
      },
      "text/plain": [
       "Fold:   0%|          | 0/5 [00:00<?, ?it/s]"
      ]
     },
     "metadata": {},
     "output_type": "display_data"
    },
    {
     "data": {
      "text/plain": [
       "0.828144994375507"
      ]
     },
     "execution_count": 153,
     "metadata": {},
     "output_type": "execute_result"
    }
   ],
   "source": [
    "X_cont_sel = [\n",
    "    'Age at enrollment_C',\n",
    "    'Admission grade',\n",
    "    'Previous qualification (grade)',\n",
    "    'Curricular units 2nd sem (grade)_C', 'Curricular units 1st sem (grade)_C',\n",
    "    'Curricular units 2nd sem (credited)', 'Curricular units 1st sem (credited)',\n",
    "    'Curricular units 2nd sem (without evaluations)', 'Curricular units 1st sem (without evaluations)',\n",
    "]\n",
    "\n",
    "X_cat_sel = [\n",
    "    'Course_R', 'Tuition fees up to date',\n",
    "    'Application mode_R', 'Scholarship holder', 'Gender',\n",
    "    'Previous qualification_R', 'Debtor', \"Mother's qualification_R\",\n",
    "    \"Father's qualification_R\", \"Mother's occupation_R\", \"Father's occupation_R\",\n",
    "    'Application order_C', 'Displaced',  \n",
    "    'Curricular units 2nd sem (approved)_C', 'Curricular units 1st sem (approved)_C',\n",
    "    'Curricular units 2nd sem (enrolled)_C', 'Curricular units 1st sem (enrolled)_C',\n",
    "    'Curricular units 2nd sem (evaluations)_C', 'Curricular units 1st sem (evaluations)_C'\n",
    "]\n",
    "hparams = {\n",
    "    'model_params': {'C': 1, 'max_iter': 500, 'multi_class': 'multinomial'}, \n",
    "    'X_tgt': ['2nd_eval_grade_C', '1st_eval_grade_C'], 'tgt': {'random_state': 123 },\n",
    "    'X_ohe': X_cat_sel, 'X_mm': X_cont_sel, 'X_num': [], 'ohe': {'drop': 'first', 'handle_unknown': 'ignore'}\n",
    "}\n",
    "X_num_sel = []\n",
    "result = lr.cv(df_train, hparams, lr_adapter)\n",
    "np.mean(result['valid_scores'])"
   ]
  },
  {
   "cell_type": "markdown",
   "id": "4d5b7692-2e77-439c-9c05-5612c3b66acf",
   "metadata": {},
   "source": [
    "# CB"
   ]
  },
  {
   "cell_type": "markdown",
   "id": "65ddbf72-980e-4403-9458-7940e177ee71",
   "metadata": {},
   "source": [
    "## cb1"
   ]
  },
  {
   "cell_type": "code",
   "execution_count": 155,
   "id": "39f0b39b-3db8-4d3e-96d2-ef9459a709d5",
   "metadata": {},
   "outputs": [],
   "source": [
    "cb1 = sgml.CVModel.load_or_create('model', 'cb1', skf, config, cb_adapter)"
   ]
  },
  {
   "cell_type": "code",
   "execution_count": 166,
   "id": "161aea7e-8973-4501-99be-ee7fcf67fada",
   "metadata": {},
   "outputs": [
    {
     "data": {
      "application/vnd.jupyter.widget-view+json": {
       "model_id": "099fe913a08447898d844e4ea3a93c8a",
       "version_major": 2,
       "version_minor": 0
      },
      "text/plain": [
       "Fold:   0%|          | 0/5 [00:00<?, ?it/s]"
      ]
     },
     "metadata": {},
     "output_type": "display_data"
    }
   ],
   "source": [
    "hparams = {\n",
    "    'model_params': {'n_estimators': 2500, 'learning_rate': 0.04, 'random_state': 123}, \n",
    "    'X_num': X_num,\n",
    "    'X_cat': X_bool[1:] + X_cat_r, \n",
    "    #'validation_fraction': 0.1,\n",
    "}\n",
    "#result = cb1.adhoc(df_train, ss, hparams)\n",
    "result = cb1.cv(df_train, hparams, task_type = 'GPU')"
   ]
  },
  {
   "cell_type": "code",
   "execution_count": 167,
   "id": "4e886442-cc64-463c-9eae-5a9e9f351993",
   "metadata": {},
   "outputs": [
    {
     "data": {
      "text/plain": [
       "0.8334901243359483"
      ]
     },
     "execution_count": 167,
     "metadata": {},
     "output_type": "execute_result"
    }
   ],
   "source": [
    "np.mean(result['valid_scores'])"
   ]
  },
  {
   "cell_type": "markdown",
   "id": "8d4ef404-2d2e-409a-80c5-227aad7dc2d3",
   "metadata": {},
   "source": [
    "# LGB"
   ]
  },
  {
   "cell_type": "markdown",
   "id": "c1ab26fe-906f-4c1a-a26e-68d4a4f436b1",
   "metadata": {},
   "source": [
    "## lgb1"
   ]
  },
  {
   "cell_type": "code",
   "execution_count": 169,
   "id": "219c9120-f817-4523-8c78-3bc3140115fb",
   "metadata": {},
   "outputs": [],
   "source": [
    "lgb1 = sgml.CVModel.load_or_create('model', 'lgb1', skf, config, lgb_adapter)"
   ]
  },
  {
   "cell_type": "code",
   "execution_count": 171,
   "id": "127b0a6e-0050-4688-a88b-116ceeacc020",
   "metadata": {},
   "outputs": [
    {
     "data": {
      "application/vnd.jupyter.widget-view+json": {
       "model_id": "6fce803af7a444d697487d1d5a5f4654",
       "version_major": 2,
       "version_minor": 0
      },
      "text/plain": [
       "Fold:   0%|          | 0/5 [00:00<?, ?it/s]"
      ]
     },
     "metadata": {},
     "output_type": "display_data"
    },
    {
     "data": {
      "application/vnd.jupyter.widget-view+json": {
       "model_id": "5f79869822a64d26ab25a6a5b4d0947f",
       "version_major": 2,
       "version_minor": 0
      },
      "text/plain": [
       "Round:   0%|          | 0/4000 [00:00<?, ?it/s]"
      ]
     },
     "metadata": {},
     "output_type": "display_data"
    },
    {
     "data": {
      "application/vnd.jupyter.widget-view+json": {
       "model_id": "12d9ffcdb62c4fb6979cff317274afe2",
       "version_major": 2,
       "version_minor": 0
      },
      "text/plain": [
       "Round:   0%|          | 0/4000 [00:00<?, ?it/s]"
      ]
     },
     "metadata": {},
     "output_type": "display_data"
    },
    {
     "data": {
      "application/vnd.jupyter.widget-view+json": {
       "model_id": "4097e35ec0f048af875e8686a0b7e9b9",
       "version_major": 2,
       "version_minor": 0
      },
      "text/plain": [
       "Round:   0%|          | 0/4000 [00:00<?, ?it/s]"
      ]
     },
     "metadata": {},
     "output_type": "display_data"
    },
    {
     "data": {
      "application/vnd.jupyter.widget-view+json": {
       "model_id": "8c62a7f72182421baa43b28428ccc946",
       "version_major": 2,
       "version_minor": 0
      },
      "text/plain": [
       "Round:   0%|          | 0/4000 [00:00<?, ?it/s]"
      ]
     },
     "metadata": {},
     "output_type": "display_data"
    },
    {
     "data": {
      "application/vnd.jupyter.widget-view+json": {
       "model_id": "a3c41cc67bc04aeab7c862714b8ebf04",
       "version_major": 2,
       "version_minor": 0
      },
      "text/plain": [
       "Round:   0%|          | 0/4000 [00:00<?, ?it/s]"
      ]
     },
     "metadata": {},
     "output_type": "display_data"
    }
   ],
   "source": [
    "hparams = {\n",
    "    'model_params': {'n_estimators': 4000, 'learning_rate': 0.007, 'colsample_bytree': 0.25}, \n",
    "    #'validation_fraction': 0.1,\n",
    "    'X_num': X_num, 'X_cat': X_bool[1:] + X_cat_r\n",
    "}\n",
    "#result = lgb1.adhoc(df_train, ss, hparams)\n",
    "result = lgb1.cv(df_train, hparams)"
   ]
  },
  {
   "cell_type": "code",
   "execution_count": 172,
   "id": "ca1ab751-a533-46e3-9c25-e20c82bd2deb",
   "metadata": {},
   "outputs": [
    {
     "data": {
      "text/plain": [
       "0.8343396241367828"
      ]
     },
     "execution_count": 172,
     "metadata": {},
     "output_type": "execute_result"
    }
   ],
   "source": [
    "np.mean(result['valid_scores'])"
   ]
  },
  {
   "cell_type": "markdown",
   "id": "2ba5a229-48e9-4518-a77d-bcd5b3f8b954",
   "metadata": {},
   "source": [
    "## lgb2"
   ]
  },
  {
   "cell_type": "code",
   "execution_count": 208,
   "id": "dee690f2-a869-4af2-bece-42dcc04f1ca1",
   "metadata": {},
   "outputs": [],
   "source": [
    "lgb2 = sgml.CVModel.load_or_create('model', 'lgb2', skf, config, lgb_adapter)"
   ]
  },
  {
   "cell_type": "code",
   "execution_count": 219,
   "id": "a7d3e8d7-3ada-4bde-a06d-6ca8b1c5f95a",
   "metadata": {},
   "outputs": [
    {
     "data": {
      "application/vnd.jupyter.widget-view+json": {
       "model_id": "fc6ef74171594f6b82268152c61ac67f",
       "version_major": 2,
       "version_minor": 0
      },
      "text/plain": [
       "Fold:   0%|          | 0/5 [00:00<?, ?it/s]"
      ]
     },
     "metadata": {},
     "output_type": "display_data"
    },
    {
     "data": {
      "application/vnd.jupyter.widget-view+json": {
       "model_id": "6e99a81d12d34ff4bbdb849220268cff",
       "version_major": 2,
       "version_minor": 0
      },
      "text/plain": [
       "Round:   0%|          | 0/4000 [00:00<?, ?it/s]"
      ]
     },
     "metadata": {},
     "output_type": "display_data"
    },
    {
     "data": {
      "application/vnd.jupyter.widget-view+json": {
       "model_id": "00262c183df34901a0858eea6fe92d49",
       "version_major": 2,
       "version_minor": 0
      },
      "text/plain": [
       "Round:   0%|          | 0/4000 [00:00<?, ?it/s]"
      ]
     },
     "metadata": {},
     "output_type": "display_data"
    },
    {
     "data": {
      "application/vnd.jupyter.widget-view+json": {
       "model_id": "024f20c2a2744403889459b383ce640c",
       "version_major": 2,
       "version_minor": 0
      },
      "text/plain": [
       "Round:   0%|          | 0/4000 [00:00<?, ?it/s]"
      ]
     },
     "metadata": {},
     "output_type": "display_data"
    },
    {
     "data": {
      "application/vnd.jupyter.widget-view+json": {
       "model_id": "17ad291ba86246dfa7bf1772fd2f8d8b",
       "version_major": 2,
       "version_minor": 0
      },
      "text/plain": [
       "Round:   0%|          | 0/4000 [00:00<?, ?it/s]"
      ]
     },
     "metadata": {},
     "output_type": "display_data"
    },
    {
     "data": {
      "application/vnd.jupyter.widget-view+json": {
       "model_id": "bed4efbab8694e978488b6db4c9c94e3",
       "version_major": 2,
       "version_minor": 0
      },
      "text/plain": [
       "Round:   0%|          | 0/4000 [00:00<?, ?it/s]"
      ]
     },
     "metadata": {},
     "output_type": "display_data"
    }
   ],
   "source": [
    "hparams = {\n",
    "    'model_params': {'n_estimators': 4000, 'num_leaves': 15, 'learning_rate': 0.02, 'colsample_bytree': 0.25}, \n",
    "    #'validation_fraction': 0.1,\n",
    "    'X_num': X_num, 'X_cat': X_bool[1:] + X_cat_r\n",
    "}\n",
    "#result = lgb2.adhoc(df_train, ss, hparams)\n",
    "result = lgb2.cv(df_train, hparams)"
   ]
  },
  {
   "cell_type": "code",
   "execution_count": 220,
   "id": "aeda3e4d-5b08-4cda-acfe-7211f91efefb",
   "metadata": {},
   "outputs": [
    {
     "data": {
      "text/plain": [
       "0.8339083489637567"
      ]
     },
     "execution_count": 220,
     "metadata": {},
     "output_type": "execute_result"
    }
   ],
   "source": [
    "np.mean(result['valid_scores'])"
   ]
  },
  {
   "cell_type": "markdown",
   "id": "b4be6506-1d42-49df-af7c-aba7c58526d5",
   "metadata": {},
   "source": [
    "# XGB"
   ]
  },
  {
   "cell_type": "markdown",
   "id": "caaa01e8-64e5-4315-9abd-919891dc6c75",
   "metadata": {},
   "source": [
    "## xgb1"
   ]
  },
  {
   "cell_type": "code",
   "execution_count": 173,
   "id": "49eac603-d26f-4318-be8a-40b25dee9d71",
   "metadata": {},
   "outputs": [],
   "source": [
    "xgb1 = sgml.CVModel.load_or_create('model', 'xgb1', skf, config, xgb_adapter)"
   ]
  },
  {
   "cell_type": "code",
   "execution_count": 174,
   "id": "2af4fe95-565c-455e-8de1-374f6185291d",
   "metadata": {},
   "outputs": [
    {
     "data": {
      "application/vnd.jupyter.widget-view+json": {
       "model_id": "eddf95b72730432c82a3484c34fea556",
       "version_major": 2,
       "version_minor": 0
      },
      "text/plain": [
       "Fold:   0%|          | 0/5 [00:00<?, ?it/s]"
      ]
     },
     "metadata": {},
     "output_type": "display_data"
    },
    {
     "data": {
      "application/vnd.jupyter.widget-view+json": {
       "model_id": "45c0646ec40a4f22948aa7f7003cea95",
       "version_major": 2,
       "version_minor": 0
      },
      "text/plain": [
       "Round:   0%|          | 0/4500 [00:00<?, ?it/s]"
      ]
     },
     "metadata": {},
     "output_type": "display_data"
    },
    {
     "data": {
      "application/vnd.jupyter.widget-view+json": {
       "model_id": "e15bbe7cda674b92b072dc921e1f338e",
       "version_major": 2,
       "version_minor": 0
      },
      "text/plain": [
       "Round:   0%|          | 0/4500 [00:00<?, ?it/s]"
      ]
     },
     "metadata": {},
     "output_type": "display_data"
    },
    {
     "data": {
      "application/vnd.jupyter.widget-view+json": {
       "model_id": "70dbfda566594c76946a796df1bd2c13",
       "version_major": 2,
       "version_minor": 0
      },
      "text/plain": [
       "Round:   0%|          | 0/4500 [00:00<?, ?it/s]"
      ]
     },
     "metadata": {},
     "output_type": "display_data"
    },
    {
     "data": {
      "application/vnd.jupyter.widget-view+json": {
       "model_id": "0a381daf6c704d5bbe15744facee9bdf",
       "version_major": 2,
       "version_minor": 0
      },
      "text/plain": [
       "Round:   0%|          | 0/4500 [00:00<?, ?it/s]"
      ]
     },
     "metadata": {},
     "output_type": "display_data"
    },
    {
     "data": {
      "application/vnd.jupyter.widget-view+json": {
       "model_id": "7db0745adee447f88a7bb41da91eb05f",
       "version_major": 2,
       "version_minor": 0
      },
      "text/plain": [
       "Round:   0%|          | 0/4500 [00:00<?, ?it/s]"
      ]
     },
     "metadata": {},
     "output_type": "display_data"
    }
   ],
   "source": [
    "hparams = {\n",
    "    'model_params': {'n_estimators': 4500, 'learning_rate': 0.007, 'colsample_bytree': 0.25}, \n",
    "    'X_num': X_num, 'X_cat': X_bool + X_cat_r,\n",
    "    #'validation_fraction': 0.1,\n",
    "}\n",
    "#result = xgb1.adhoc(df_train, ss, hparams, device= 'cuda')\n",
    "result = xgb1.cv(df_train, hparams, device= 'cuda')"
   ]
  },
  {
   "cell_type": "code",
   "execution_count": 175,
   "id": "5f8ebd01-f35b-4ad1-861c-3cb7731f16c9",
   "metadata": {},
   "outputs": [
    {
     "data": {
      "text/plain": [
       "0.8339998155058377"
      ]
     },
     "execution_count": 175,
     "metadata": {},
     "output_type": "execute_result"
    }
   ],
   "source": [
    "np.mean(result['valid_scores'])"
   ]
  },
  {
   "cell_type": "markdown",
   "id": "ab1d3ccd-ddd8-40d3-b7dd-7f1d1f8bc3a6",
   "metadata": {},
   "source": [
    "# NN"
   ]
  },
  {
   "cell_type": "markdown",
   "id": "557ecd6e-795a-4d48-b2fa-99c1cf9996c0",
   "metadata": {},
   "source": [
    "## NN1"
   ]
  },
  {
   "cell_type": "code",
   "execution_count": 179,
   "id": "9b53f161-5f10-448b-a856-464a5c1742be",
   "metadata": {},
   "outputs": [],
   "source": [
    "nn1 = sgml.CVModel.load_or_create('model', 'nn1', skf, config, nn_adapter)"
   ]
  },
  {
   "cell_type": "code",
   "execution_count": 185,
   "id": "0a09b1da-817f-489f-bb1c-5a46ed7ab1d1",
   "metadata": {},
   "outputs": [
    {
     "data": {
      "application/vnd.jupyter.widget-view+json": {
       "model_id": "89233fa99530463fa70d3533de6d70a1",
       "version_major": 2,
       "version_minor": 0
      },
      "text/plain": [
       "Fold:   0%|          | 0/5 [00:00<?, ?it/s]"
      ]
     },
     "metadata": {},
     "output_type": "display_data"
    },
    {
     "data": {
      "application/vnd.jupyter.widget-view+json": {
       "model_id": "fedf01218f85403eb5aac2b1ef49873b",
       "version_major": 2,
       "version_minor": 0
      },
      "text/plain": [
       "Epoch:   0%|          | 0/80 [00:00<?, ?it/s]"
      ]
     },
     "metadata": {},
     "output_type": "display_data"
    },
    {
     "data": {
      "application/vnd.jupyter.widget-view+json": {
       "model_id": "a10d6ad686424852b506747a5cefc228",
       "version_major": 2,
       "version_minor": 0
      },
      "text/plain": [
       "Step:   0%|          | 0/33 [00:00<?, ?it/s]"
      ]
     },
     "metadata": {},
     "output_type": "display_data"
    },
    {
     "data": {
      "application/vnd.jupyter.widget-view+json": {
       "model_id": "39eff41a3e034a5fa426530d30a90ee0",
       "version_major": 2,
       "version_minor": 0
      },
      "text/plain": [
       "Epoch:   0%|          | 0/80 [00:00<?, ?it/s]"
      ]
     },
     "metadata": {},
     "output_type": "display_data"
    },
    {
     "data": {
      "application/vnd.jupyter.widget-view+json": {
       "model_id": "207f3f6ab2d84b888f49c25106db32b5",
       "version_major": 2,
       "version_minor": 0
      },
      "text/plain": [
       "Step:   0%|          | 0/33 [00:00<?, ?it/s]"
      ]
     },
     "metadata": {},
     "output_type": "display_data"
    },
    {
     "data": {
      "application/vnd.jupyter.widget-view+json": {
       "model_id": "76c7908d8b564ab5b5dfed8b81466955",
       "version_major": 2,
       "version_minor": 0
      },
      "text/plain": [
       "Epoch:   0%|          | 0/80 [00:00<?, ?it/s]"
      ]
     },
     "metadata": {},
     "output_type": "display_data"
    },
    {
     "data": {
      "application/vnd.jupyter.widget-view+json": {
       "model_id": "faa342bdc31349428244bf7b4a853c43",
       "version_major": 2,
       "version_minor": 0
      },
      "text/plain": [
       "Step:   0%|          | 0/33 [00:00<?, ?it/s]"
      ]
     },
     "metadata": {},
     "output_type": "display_data"
    },
    {
     "data": {
      "application/vnd.jupyter.widget-view+json": {
       "model_id": "5f780ce3f7ad453e8e782f6e7508ac3d",
       "version_major": 2,
       "version_minor": 0
      },
      "text/plain": [
       "Epoch:   0%|          | 0/80 [00:00<?, ?it/s]"
      ]
     },
     "metadata": {},
     "output_type": "display_data"
    },
    {
     "data": {
      "application/vnd.jupyter.widget-view+json": {
       "model_id": "03f85eac465e458db40aa1e3d1bee24c",
       "version_major": 2,
       "version_minor": 0
      },
      "text/plain": [
       "Step:   0%|          | 0/33 [00:00<?, ?it/s]"
      ]
     },
     "metadata": {},
     "output_type": "display_data"
    },
    {
     "data": {
      "application/vnd.jupyter.widget-view+json": {
       "model_id": "6bfb035f2e054b039ae7b4a773f8257d",
       "version_major": 2,
       "version_minor": 0
      },
      "text/plain": [
       "Epoch:   0%|          | 0/80 [00:00<?, ?it/s]"
      ]
     },
     "metadata": {},
     "output_type": "display_data"
    },
    {
     "data": {
      "application/vnd.jupyter.widget-view+json": {
       "model_id": "ecd59ed868c542d2975f7409de0dffcd",
       "version_major": 2,
       "version_minor": 0
      },
      "text/plain": [
       "Step:   0%|          | 0/33 [00:00<?, ?it/s]"
      ]
     },
     "metadata": {},
     "output_type": "display_data"
    },
    {
     "data": {
      "text/plain": [
       "([0.8305671719811814,\n",
       "  0.8297177208572922,\n",
       "  0.8289336121275483,\n",
       "  0.8243481670260733,\n",
       "  0.8300986734627197],\n",
       " 0.8287330690909631)"
      ]
     },
     "execution_count": 185,
     "metadata": {},
     "output_type": "execute_result"
    }
   ],
   "source": [
    "emb_config = [\n",
    "    ('Course_R', 3),\n",
    "    ('Application mode_R', 2),\n",
    "    ('Previous qualification_R', 2),\n",
    "    (\"Mother's qualification_R\", 2),\n",
    "    (\"Father's qualification_R\", 2),\n",
    "    (\"Mother's occupation_R\", 2),\n",
    "    (\"Father's occupation_R\", 2),\n",
    "    ('Marital status_R', 2),\n",
    "]\n",
    "X_clip = [\n",
    "    'Curricular units 2nd sem (approved)_C',\n",
    "    'Curricular units 1st sem (approved)_C',\n",
    "    'Curricular units 2nd sem (enrolled)_C',\n",
    "    'Curricular units 1st sem (enrolled)_C',\n",
    "    'Curricular units 2nd sem (evaluations)_C',\n",
    "    'Curricular units 1st sem (evaluations)_C',\n",
    "    'Curricular units 2nd sem (grade)_C',\n",
    "    'Curricular units 1st sem (grade)_C',\n",
    "    'Age at enrollment_C',\n",
    "    'Curricular units 1st sem (without evaluations)_C',\n",
    "    'Curricular units 2nd sem (without evaluations)_C',\n",
    "    'Curricular units 2nd sem (credited)_C',\n",
    "    'Curricular units 1st sem (credited)_C'\n",
    "]\n",
    "X_cat = [i for i,_ in emb_config]\n",
    "embedding = [(1, len(df_train[a].cat.categories), b, 0, 0) for a, b in emb_config]\n",
    "hparams = {\n",
    "    'model_params': {\n",
    "        'model_params': {\n",
    "            'config': [\n",
    "                {'unit': 32, 'activation': 'relu', 'batch_norm': False},\n",
    "            ], 'embedding': embedding,\n",
    "        },\n",
    "        'batch_size': 2048,\n",
    "        'shuffle_size': 204800, 'epochs': 80, 'optimizer': ('Adam', {'learning_rate': 0.0005})\n",
    "    }, \n",
    "    'X_tgt': ['2nd_eval_grade_C', '1st_eval_grade_C'], 'tgt': {'random_state': 123 },\n",
    "    #'validation_fraction': 0.1,\n",
    "    'X_std': X_clip + ['Previous qualification (grade)', 'Admission grade', 'Unemployment rate', 'GDP'],\n",
    "    'X_mm': ['Application order_C'],\n",
    "    'X_num': X_bool[1:],\n",
    "    'X_ohe': ['Application order_C', 'Curricular units 2nd sem (approved)_C', 'Curricular units 1st sem (approved)_C', \n",
    "              'Curricular units 2nd sem (enrolled)_C', 'Curricular units 1st sem (enrolled)_C',\n",
    "              'Curricular units 2nd sem (evaluations)_C', 'Curricular units 1st sem (evaluations)_C'\n",
    "    ],\n",
    "    'X_cat': X_cat,\n",
    "}\n",
    "result = nn1.cv(df_train, hparams)\n",
    "result['valid_scores'], np.mean(result['valid_scores'])"
   ]
  },
  {
   "cell_type": "markdown",
   "id": "ff7f23a2-a9be-49bc-bcf8-95dfd892cc0b",
   "metadata": {},
   "source": [
    "# Stacking"
   ]
  },
  {
   "cell_type": "code",
   "execution_count": 221,
   "id": "d6f7f26d-85d5-4ab5-be4d-28301f96d7db",
   "metadata": {},
   "outputs": [
    {
     "data": {
      "text/html": [
       "<div>\n",
       "<style scoped>\n",
       "    .dataframe tbody tr th:only-of-type {\n",
       "        vertical-align: middle;\n",
       "    }\n",
       "\n",
       "    .dataframe tbody tr th {\n",
       "        vertical-align: top;\n",
       "    }\n",
       "\n",
       "    .dataframe thead th {\n",
       "        text-align: right;\n",
       "    }\n",
       "</style>\n",
       "<table border=\"1\" class=\"dataframe\">\n",
       "  <thead>\n",
       "    <tr style=\"text-align: right;\">\n",
       "      <th></th>\n",
       "      <th>lr</th>\n",
       "      <th>cb1</th>\n",
       "      <th>lgb1</th>\n",
       "      <th>xgb1</th>\n",
       "      <th>nn1</th>\n",
       "      <th>lgb2</th>\n",
       "    </tr>\n",
       "  </thead>\n",
       "  <tbody>\n",
       "    <tr>\n",
       "      <th>accuracy</th>\n",
       "      <td>0.828145</td>\n",
       "      <td>0.83349</td>\n",
       "      <td>0.83434</td>\n",
       "      <td>0.834</td>\n",
       "      <td>0.828733</td>\n",
       "      <td>0.833908</td>\n",
       "    </tr>\n",
       "  </tbody>\n",
       "</table>\n",
       "</div>"
      ],
      "text/plain": [
       "                lr      cb1     lgb1   xgb1       nn1      lgb2\n",
       "accuracy  0.828145  0.83349  0.83434  0.834  0.828733  0.833908"
      ]
     },
     "execution_count": 221,
     "metadata": {},
     "output_type": "execute_result"
    }
   ],
   "source": [
    "models = [lr, cb1, lgb1, xgb1, nn1, lgb2]\n",
    "pd.Series([np.mean(i.cv_best_['score']) for i in models], index = [i.name for i in models]).rename('accuracy').to_frame().T"
   ]
  },
  {
   "cell_type": "code",
   "execution_count": 222,
   "id": "3698fadb-1121-49af-9d28-9db186626478",
   "metadata": {},
   "outputs": [
    {
     "data": {
      "text/html": [
       "<div>\n",
       "<style scoped>\n",
       "    .dataframe tbody tr th:only-of-type {\n",
       "        vertical-align: middle;\n",
       "    }\n",
       "\n",
       "    .dataframe tbody tr th {\n",
       "        vertical-align: top;\n",
       "    }\n",
       "\n",
       "    .dataframe thead th {\n",
       "        text-align: right;\n",
       "    }\n",
       "</style>\n",
       "<table border=\"1\" class=\"dataframe\">\n",
       "  <thead>\n",
       "    <tr style=\"text-align: right;\">\n",
       "      <th></th>\n",
       "      <th>lr_Dropout</th>\n",
       "      <th>lr_Enrolled</th>\n",
       "      <th>lr_Graduate</th>\n",
       "      <th>cb1_Dropout</th>\n",
       "      <th>cb1_Enrolled</th>\n",
       "      <th>cb1_Graduate</th>\n",
       "      <th>lgb1_Dropout</th>\n",
       "      <th>lgb1_Enrolled</th>\n",
       "      <th>lgb1_Graduate</th>\n",
       "      <th>xgb1_Dropout</th>\n",
       "      <th>xgb1_Enrolled</th>\n",
       "      <th>xgb1_Graduate</th>\n",
       "      <th>nn1_Dropout</th>\n",
       "      <th>nn1_Enrolled</th>\n",
       "      <th>nn1_Graduate</th>\n",
       "      <th>lgb2_Dropout</th>\n",
       "      <th>lgb2_Enrolled</th>\n",
       "      <th>lgb2_Graduate</th>\n",
       "      <th>Target</th>\n",
       "    </tr>\n",
       "  </thead>\n",
       "  <tbody>\n",
       "    <tr>\n",
       "      <th>1</th>\n",
       "      <td>0.852738</td>\n",
       "      <td>0.131012</td>\n",
       "      <td>0.016250</td>\n",
       "      <td>0.920081</td>\n",
       "      <td>0.076000</td>\n",
       "      <td>0.003919</td>\n",
       "      <td>0.914037</td>\n",
       "      <td>0.080037</td>\n",
       "      <td>0.005927</td>\n",
       "      <td>0.905539</td>\n",
       "      <td>0.083846</td>\n",
       "      <td>0.010615</td>\n",
       "      <td>0.878178</td>\n",
       "      <td>0.109647</td>\n",
       "      <td>0.012175</td>\n",
       "      <td>0.942122</td>\n",
       "      <td>0.054044</td>\n",
       "      <td>0.003835</td>\n",
       "      <td>Dropout</td>\n",
       "    </tr>\n",
       "    <tr>\n",
       "      <th>9</th>\n",
       "      <td>0.031004</td>\n",
       "      <td>0.061109</td>\n",
       "      <td>0.907887</td>\n",
       "      <td>0.021690</td>\n",
       "      <td>0.045688</td>\n",
       "      <td>0.932622</td>\n",
       "      <td>0.017696</td>\n",
       "      <td>0.046013</td>\n",
       "      <td>0.936291</td>\n",
       "      <td>0.024608</td>\n",
       "      <td>0.051748</td>\n",
       "      <td>0.923644</td>\n",
       "      <td>0.022890</td>\n",
       "      <td>0.041610</td>\n",
       "      <td>0.935501</td>\n",
       "      <td>0.023254</td>\n",
       "      <td>0.053460</td>\n",
       "      <td>0.923286</td>\n",
       "      <td>Graduate</td>\n",
       "    </tr>\n",
       "    <tr>\n",
       "      <th>18</th>\n",
       "      <td>0.080756</td>\n",
       "      <td>0.364454</td>\n",
       "      <td>0.554790</td>\n",
       "      <td>0.056511</td>\n",
       "      <td>0.368815</td>\n",
       "      <td>0.574674</td>\n",
       "      <td>0.070207</td>\n",
       "      <td>0.360766</td>\n",
       "      <td>0.569026</td>\n",
       "      <td>0.071212</td>\n",
       "      <td>0.371091</td>\n",
       "      <td>0.557697</td>\n",
       "      <td>0.085262</td>\n",
       "      <td>0.398376</td>\n",
       "      <td>0.516362</td>\n",
       "      <td>0.084074</td>\n",
       "      <td>0.335101</td>\n",
       "      <td>0.580825</td>\n",
       "      <td>Graduate</td>\n",
       "    </tr>\n",
       "    <tr>\n",
       "      <th>20</th>\n",
       "      <td>0.911161</td>\n",
       "      <td>0.088080</td>\n",
       "      <td>0.000760</td>\n",
       "      <td>0.929785</td>\n",
       "      <td>0.069459</td>\n",
       "      <td>0.000757</td>\n",
       "      <td>0.945325</td>\n",
       "      <td>0.053189</td>\n",
       "      <td>0.001487</td>\n",
       "      <td>0.952722</td>\n",
       "      <td>0.045227</td>\n",
       "      <td>0.002051</td>\n",
       "      <td>0.936895</td>\n",
       "      <td>0.062015</td>\n",
       "      <td>0.001090</td>\n",
       "      <td>0.933445</td>\n",
       "      <td>0.065531</td>\n",
       "      <td>0.001024</td>\n",
       "      <td>Dropout</td>\n",
       "    </tr>\n",
       "    <tr>\n",
       "      <th>22</th>\n",
       "      <td>0.029186</td>\n",
       "      <td>0.029244</td>\n",
       "      <td>0.941571</td>\n",
       "      <td>0.043060</td>\n",
       "      <td>0.017175</td>\n",
       "      <td>0.939765</td>\n",
       "      <td>0.040251</td>\n",
       "      <td>0.020538</td>\n",
       "      <td>0.939211</td>\n",
       "      <td>0.048757</td>\n",
       "      <td>0.023055</td>\n",
       "      <td>0.928187</td>\n",
       "      <td>0.028856</td>\n",
       "      <td>0.026004</td>\n",
       "      <td>0.945141</td>\n",
       "      <td>0.041246</td>\n",
       "      <td>0.019703</td>\n",
       "      <td>0.939050</td>\n",
       "      <td>Graduate</td>\n",
       "    </tr>\n",
       "  </tbody>\n",
       "</table>\n",
       "</div>"
      ],
      "text/plain": [
       "    lr_Dropout  lr_Enrolled  lr_Graduate  cb1_Dropout  cb1_Enrolled  \\\n",
       "1     0.852738     0.131012     0.016250     0.920081      0.076000   \n",
       "9     0.031004     0.061109     0.907887     0.021690      0.045688   \n",
       "18    0.080756     0.364454     0.554790     0.056511      0.368815   \n",
       "20    0.911161     0.088080     0.000760     0.929785      0.069459   \n",
       "22    0.029186     0.029244     0.941571     0.043060      0.017175   \n",
       "\n",
       "    cb1_Graduate  lgb1_Dropout  lgb1_Enrolled  lgb1_Graduate  xgb1_Dropout  \\\n",
       "1       0.003919      0.914037       0.080037       0.005927      0.905539   \n",
       "9       0.932622      0.017696       0.046013       0.936291      0.024608   \n",
       "18      0.574674      0.070207       0.360766       0.569026      0.071212   \n",
       "20      0.000757      0.945325       0.053189       0.001487      0.952722   \n",
       "22      0.939765      0.040251       0.020538       0.939211      0.048757   \n",
       "\n",
       "    xgb1_Enrolled  xgb1_Graduate  nn1_Dropout  nn1_Enrolled  nn1_Graduate  \\\n",
       "1        0.083846       0.010615     0.878178      0.109647      0.012175   \n",
       "9        0.051748       0.923644     0.022890      0.041610      0.935501   \n",
       "18       0.371091       0.557697     0.085262      0.398376      0.516362   \n",
       "20       0.045227       0.002051     0.936895      0.062015      0.001090   \n",
       "22       0.023055       0.928187     0.028856      0.026004      0.945141   \n",
       "\n",
       "    lgb2_Dropout  lgb2_Enrolled  lgb2_Graduate    Target  \n",
       "1       0.942122       0.054044       0.003835   Dropout  \n",
       "9       0.023254       0.053460       0.923286  Graduate  \n",
       "18      0.084074       0.335101       0.580825  Graduate  \n",
       "20      0.933445       0.065531       0.001024   Dropout  \n",
       "22      0.041246       0.019703       0.939050  Graduate  "
      ]
     },
     "execution_count": 222,
     "metadata": {},
     "output_type": "execute_result"
    }
   ],
   "source": [
    "df_stk = sgml.stack_cv(models, df_train[target])\n",
    "df_stk.head()"
   ]
  },
  {
   "cell_type": "code",
   "execution_count": 226,
   "id": "b5f07b0e-3d5d-49fc-8614-60f1e531b1ba",
   "metadata": {},
   "outputs": [
    {
     "data": {
      "text/plain": [
       "0.8348754541415092"
      ]
     },
     "execution_count": 226,
     "metadata": {},
     "output_type": "execute_result"
    }
   ],
   "source": [
    "X_stk = [i for i in df_stk.columns if i.split('_')[0] in ['cb1', 'xgb1', 'lgb1', 'lgb2'] and i.split('_')[1] in ['Dropout', 'Enrolled', 'Graduate']]\n",
    "accuracy_score(\n",
    "    df_train[target],\n",
    "    df_stk[X_stk].T.groupby(df_stk.columns[1:-1].to_series().str.split('_', expand=True)[1]).mean().T.idxmax(axis=1).sort_index()\n",
    ")"
   ]
  },
  {
   "cell_type": "code",
   "execution_count": 227,
   "id": "ff59bfc7-4755-40ca-bdc6-7a0c8a99c4c3",
   "metadata": {},
   "outputs": [],
   "source": [
    "lr_stk = sgml.CVModel.load_or_create('model', 'lr_stk', skf, config2, lr_adapter)"
   ]
  },
  {
   "cell_type": "code",
   "execution_count": 228,
   "id": "4e573aeb-5f56-40fc-8eec-5d44d16cd84a",
   "metadata": {},
   "outputs": [
    {
     "data": {
      "text/plain": [
       "cb1_Dropout      0\n",
       "cb1_Enrolled     0\n",
       "cb1_Graduate     0\n",
       "lgb1_Dropout     0\n",
       "lgb1_Enrolled    0\n",
       "lgb1_Graduate    0\n",
       "xgb1_Dropout     0\n",
       "xgb1_Enrolled    0\n",
       "xgb1_Graduate    0\n",
       "lgb2_Dropout     0\n",
       "lgb2_Enrolled    0\n",
       "lgb2_Graduate    0\n",
       "dtype: int64"
      ]
     },
     "execution_count": 228,
     "metadata": {},
     "output_type": "execute_result"
    }
   ],
   "source": [
    "df_stk[X_stk].isna().sum()"
   ]
  },
  {
   "cell_type": "code",
   "execution_count": 229,
   "id": "6e3664ae-46f6-4388-95cb-9040b5e1273a",
   "metadata": {},
   "outputs": [
    {
     "data": {
      "application/vnd.jupyter.widget-view+json": {
       "model_id": "78d405b611cf4a2db47f51ae0df09b1a",
       "version_major": 2,
       "version_minor": 0
      },
      "text/plain": [
       "Fold:   0%|          | 0/5 [00:00<?, ?it/s]"
      ]
     },
     "metadata": {},
     "output_type": "display_data"
    },
    {
     "data": {
      "text/plain": [
       "({'score': 0.834235117297262,\n",
       "  'hparams': {'model_params': {},\n",
       "   'X_num': ['cb1_Dropout',\n",
       "    'cb1_Enrolled',\n",
       "    'lgb1_Dropout',\n",
       "    'lgb1_Enrolled',\n",
       "    'xgb1_Dropout',\n",
       "    'xgb1_Enrolled',\n",
       "    'lgb2_Dropout',\n",
       "    'lgb2_Enrolled']},\n",
       "  'prd':         Dropout  Enrolled  Graduate\n",
       "  1      0.939793  0.046796  0.013411\n",
       "  18     0.083592  0.310807  0.605600\n",
       "  45     0.961008  0.029506  0.009486\n",
       "  56     0.022009  0.044470  0.933521\n",
       "  116    0.101482  0.564244  0.334274\n",
       "  ...         ...       ...       ...\n",
       "  76463  0.935114  0.051563  0.013323\n",
       "  76471  0.110596  0.623268  0.266137\n",
       "  76481  0.017602  0.043357  0.939041\n",
       "  76507  0.134046  0.817625  0.048329\n",
       "  76515  0.050234  0.169951  0.779815\n",
       "  \n",
       "  [76518 rows x 3 columns],\n",
       "  'k': \"{'model_params': {}, 'X_num': ['cb1_Dropout', 'cb1_Enrolled', 'lgb1_Dropout', 'lgb1_Enrolled', 'xgb1_Dropout', 'xgb1_Enrolled', 'lgb2_Dropout', 'lgb2_Enrolled']}\"},\n",
       " 0.834235117297262)"
      ]
     },
     "execution_count": 229,
     "metadata": {},
     "output_type": "execute_result"
    }
   ],
   "source": [
    "X_stk = [i for i in df_stk.columns if i.split('_')[0] in ['cb1', 'xgb1', 'lgb1', 'lgb2'] and i.split('_')[1] in ['Dropout', 'Enrolled']]\n",
    "result = lr_stk.cv(df_stk, {\n",
    "    'model_params': {}, 'X_num': X_stk\n",
    "})\n",
    "lr_stk.cv_best_, np.mean(result['valid_scores'])"
   ]
  },
  {
   "cell_type": "code",
   "execution_count": 230,
   "id": "9e9d9803-5ea8-419d-988e-343a3a47f55c",
   "metadata": {},
   "outputs": [
    {
     "data": {
      "text/plain": [
       "{'variables': ['lgb2_Enrolled',\n",
       "  'lgb1_Enrolled',\n",
       "  'cb1_Enrolled',\n",
       "  'xgb1_Enrolled',\n",
       "  'xgb1_Dropout',\n",
       "  'cb1_Dropout',\n",
       "  'lgb1_Dropout',\n",
       "  'lgb2_Dropout'],\n",
       " 'train_shape': (76518, 8),\n",
       " 'target': 'Target',\n",
       " 'target_func': None}"
      ]
     },
     "execution_count": 230,
     "metadata": {},
     "output_type": "execute_result"
    }
   ],
   "source": [
    "lr_stk.train(df_stk)"
   ]
  },
  {
   "cell_type": "code",
   "execution_count": 231,
   "id": "f33ea104-b886-4ad2-9c1b-8508849d8333",
   "metadata": {},
   "outputs": [
    {
     "data": {
      "application/vnd.jupyter.widget-view+json": {
       "model_id": "ff64dd88fabc4b67ab981c3750901f5f",
       "version_major": 2,
       "version_minor": 0
      },
      "text/plain": [
       "Round:   0%|          | 0/4000 [00:00<?, ?it/s]"
      ]
     },
     "metadata": {},
     "output_type": "display_data"
    }
   ],
   "source": [
    "for i in models:\n",
    "    if i.name.startswith('cb'):\n",
    "        i.train(df_train, task_type = 'GPU')\n",
    "    elif i.name.startswith('xgb'):\n",
    "        i.train(df_train, device = 'cuda')\n",
    "    else:\n",
    "        i.train(df_train)"
   ]
  },
  {
   "cell_type": "code",
   "execution_count": 232,
   "id": "93b98ad8-d8f0-4aa2-a679-af692ad0d042",
   "metadata": {},
   "outputs": [],
   "source": [
    "df_test = pd.read_parquet(files['test_parquet']).set_index('id')\n",
    "df_test = dproc.join_and_assign(df_test, pd_vars.procs_all(df_test)[0])\n",
    "df_test['Application order_C'] = df_test['Application order_C'].astype('int')"
   ]
  },
  {
   "cell_type": "code",
   "execution_count": 233,
   "id": "cdeaaf42-1aea-4020-a3bf-56496ca844e4",
   "metadata": {},
   "outputs": [],
   "source": [
    "l = list()\n",
    "for i in models:\n",
    "    fname = os.path.join('result', '{}_test.parquet'.format(i.name))\n",
    "    if os.path.exists(fname):\n",
    "        l.append(pd.read_parquet(fname))\n",
    "    else:\n",
    "        l.append(i.get_predictor()(df_test).rename(columns = lambda x: i.name + '_' + x))\n",
    "        l[-1].to_parquet(fname)"
   ]
  },
  {
   "cell_type": "code",
   "execution_count": 234,
   "id": "66499120-12ca-4052-8ed3-555fb99a916b",
   "metadata": {},
   "outputs": [],
   "source": [
    "df_stk_test = pd.concat(l, axis=1)\n",
    "#.T.groupby(df_stk.columns[1:-1].to_series().str.split('_', expand=True)[1]).mean().T.idxmax(axis=1).sort_index()"
   ]
  },
  {
   "cell_type": "code",
   "execution_count": 235,
   "id": "b3cc2007-3aed-4d6a-9722-608b448c53e6",
   "metadata": {},
   "outputs": [],
   "source": [
    "X_mean = [i for i in df_stk_test.columns if i.split('_')[0] in ['cb1', 'xgb1', 'lgb1', 'lgb2']]\n",
    "X_grp = [i.split('_')[1] for i in X_mean if i.split('_')[0] in ['cb1', 'xgb1', 'lgb1', 'lgb2']]\n",
    "s_prd = df_stk_test[X_mean].T.groupby(X_grp).mean().T.idxmax(axis=1).sort_index().rename(target)"
   ]
  },
  {
   "cell_type": "code",
   "execution_count": 236,
   "id": "f8490a76-75ce-42a5-92ed-7a61127ed77a",
   "metadata": {},
   "outputs": [],
   "source": [
    "s_prd.to_frame().to_csv('result/submission3.csv')"
   ]
  },
  {
   "cell_type": "code",
   "execution_count": 237,
   "id": "4f606fde-eace-4416-a69f-338aaad438ae",
   "metadata": {},
   "outputs": [
    {
     "name": "stdout",
     "output_type": "stream",
     "text": [
      "Warning: Looks like you're using an outdated API Version, please consider updating (server 1.6.17 / client 1.6.12)\n",
      "100%|█████████████████████████████████████████| 760k/760k [00:01<00:00, 400kB/s]\n",
      "Successfully submitted to Classification with an Academic Success Dataset"
     ]
    }
   ],
   "source": [
    "#!kaggle competitions submit -c playground-series-s4e6 -f result/submission3.csv -m '3'"
   ]
  },
  {
   "cell_type": "code",
   "execution_count": null,
   "id": "b2b29908-08d8-419c-acf8-1505dbfc3147",
   "metadata": {},
   "outputs": [],
   "source": []
  }
 ],
 "metadata": {
  "kernelspec": {
   "display_name": "Python 3 (ipykernel)",
   "language": "python",
   "name": "python3"
  },
  "language_info": {
   "codemirror_mode": {
    "name": "ipython",
    "version": 3
   },
   "file_extension": ".py",
   "mimetype": "text/x-python",
   "name": "python",
   "nbconvert_exporter": "python",
   "pygments_lexer": "ipython3",
   "version": "3.12.3"
  }
 },
 "nbformat": 4,
 "nbformat_minor": 5
}
